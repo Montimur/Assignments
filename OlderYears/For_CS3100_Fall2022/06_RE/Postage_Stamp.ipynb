{
 "cells": [
  {
   "cell_type": "code",
   "execution_count": 3,
   "metadata": {
    "run_control": {
     "frozen": false,
     "read_only": false
    }
   },
   "outputs": [
    {
     "name": "stdout",
     "output_type": "stream",
     "text": [
      "Requirement already satisfied: ipywidgets in /Library/Frameworks/Python.framework/Versions/3.12/lib/python3.12/site-packages (8.1.3)\n",
      "Requirement already satisfied: comm>=0.1.3 in /Library/Frameworks/Python.framework/Versions/3.12/lib/python3.12/site-packages (from ipywidgets) (0.2.2)\n",
      "Requirement already satisfied: ipython>=6.1.0 in /Library/Frameworks/Python.framework/Versions/3.12/lib/python3.12/site-packages (from ipywidgets) (8.24.0)\n",
      "Requirement already satisfied: traitlets>=4.3.1 in /Library/Frameworks/Python.framework/Versions/3.12/lib/python3.12/site-packages (from ipywidgets) (5.14.3)\n",
      "Requirement already satisfied: widgetsnbextension~=4.0.11 in /Library/Frameworks/Python.framework/Versions/3.12/lib/python3.12/site-packages (from ipywidgets) (4.0.11)\n",
      "Requirement already satisfied: jupyterlab-widgets~=3.0.11 in /Library/Frameworks/Python.framework/Versions/3.12/lib/python3.12/site-packages (from ipywidgets) (3.0.11)\n",
      "Requirement already satisfied: decorator in /Library/Frameworks/Python.framework/Versions/3.12/lib/python3.12/site-packages (from ipython>=6.1.0->ipywidgets) (5.1.1)\n",
      "Requirement already satisfied: jedi>=0.16 in /Library/Frameworks/Python.framework/Versions/3.12/lib/python3.12/site-packages (from ipython>=6.1.0->ipywidgets) (0.19.1)\n",
      "Requirement already satisfied: matplotlib-inline in /Library/Frameworks/Python.framework/Versions/3.12/lib/python3.12/site-packages (from ipython>=6.1.0->ipywidgets) (0.1.7)\n",
      "Requirement already satisfied: prompt-toolkit<3.1.0,>=3.0.41 in /Library/Frameworks/Python.framework/Versions/3.12/lib/python3.12/site-packages (from ipython>=6.1.0->ipywidgets) (3.0.45)\n",
      "Requirement already satisfied: pygments>=2.4.0 in /Library/Frameworks/Python.framework/Versions/3.12/lib/python3.12/site-packages (from ipython>=6.1.0->ipywidgets) (2.17.2)\n",
      "Requirement already satisfied: stack-data in /Library/Frameworks/Python.framework/Versions/3.12/lib/python3.12/site-packages (from ipython>=6.1.0->ipywidgets) (0.6.3)\n",
      "Requirement already satisfied: pexpect>4.3 in /Library/Frameworks/Python.framework/Versions/3.12/lib/python3.12/site-packages (from ipython>=6.1.0->ipywidgets) (4.9.0)\n",
      "Requirement already satisfied: parso<0.9.0,>=0.8.3 in /Library/Frameworks/Python.framework/Versions/3.12/lib/python3.12/site-packages (from jedi>=0.16->ipython>=6.1.0->ipywidgets) (0.8.4)\n",
      "Requirement already satisfied: ptyprocess>=0.5 in /Library/Frameworks/Python.framework/Versions/3.12/lib/python3.12/site-packages (from pexpect>4.3->ipython>=6.1.0->ipywidgets) (0.7.0)\n",
      "Requirement already satisfied: wcwidth in /Library/Frameworks/Python.framework/Versions/3.12/lib/python3.12/site-packages (from prompt-toolkit<3.1.0,>=3.0.41->ipython>=6.1.0->ipywidgets) (0.2.13)\n",
      "Requirement already satisfied: executing>=1.2.0 in /Library/Frameworks/Python.framework/Versions/3.12/lib/python3.12/site-packages (from stack-data->ipython>=6.1.0->ipywidgets) (2.0.1)\n",
      "Requirement already satisfied: asttokens>=2.1.0 in /Library/Frameworks/Python.framework/Versions/3.12/lib/python3.12/site-packages (from stack-data->ipython>=6.1.0->ipywidgets) (2.4.1)\n",
      "Requirement already satisfied: pure-eval in /Library/Frameworks/Python.framework/Versions/3.12/lib/python3.12/site-packages (from stack-data->ipython>=6.1.0->ipywidgets) (0.2.2)\n",
      "Requirement already satisfied: six>=1.12.0 in /Library/Frameworks/Python.framework/Versions/3.12/lib/python3.12/site-packages (from asttokens>=2.1.0->stack-data->ipython>=6.1.0->ipywidgets) (1.16.0)\n"
     ]
    }
   ],
   "source": [
    "#~~~~~~~~~~~~~~~~~~~~~~~~~~~~~~~~~~~~~~~~~~~~~~~~~~~~~~~\n",
    "import sys\n",
    "\n",
    "# -- Detect if in Own Install or in Colab\n",
    "try:\n",
    "    import google.colab\n",
    "    OWN_INSTALL = False\n",
    "except:\n",
    "    OWN_INSTALL = True\n",
    "    \n",
    "if OWN_INSTALL:\n",
    "    \n",
    "  #---- Leave these definitions ON if running on laptop\n",
    "  #---- Else turn OFF by putting them between ''' ... '''\n",
    "\n",
    "  sys.path[0:0] = ['../../../../..',  '../../../../../3rdparty',  \n",
    "                   '../../../..',  '../../../../3rdparty',  \n",
    "                   '../../..',     '../../../3rdparty', \n",
    "                   '../..',        '../../3rdparty',\n",
    "                   '..',           '../3rdparty' ]\n",
    "\n",
    "else: # In colab\n",
    "  ! if [ ! -d Jove ]; then git clone https://github.com/ganeshutah/Jove Jove; fi\n",
    "  sys.path.append('./Jove')\n",
    "  sys.path.append('./Jove/jove')\n",
    "\n",
    "!pip install ipywidgets"
   ]
  },
  {
   "cell_type": "code",
   "execution_count": 4,
   "metadata": {
    "run_control": {
     "frozen": false,
     "read_only": false
    }
   },
   "outputs": [
    {
     "ename": "ModuleNotFoundError",
     "evalue": "No module named 'ipywidgets'",
     "output_type": "error",
     "traceback": [
      "\u001b[0;31m---------------------------------------------------------------------------\u001b[0m",
      "\u001b[0;31mModuleNotFoundError\u001b[0m                       Traceback (most recent call last)",
      "Cell \u001b[0;32mIn[4], line 2\u001b[0m\n\u001b[1;32m      1\u001b[0m \u001b[38;5;66;03m# -- common imports --\u001b[39;00m\n\u001b[0;32m----> 2\u001b[0m \u001b[38;5;28;01mfrom\u001b[39;00m \u001b[38;5;21;01mjove\u001b[39;00m\u001b[38;5;21;01m.\u001b[39;00m\u001b[38;5;21;01mDotBashers\u001b[39;00m \u001b[38;5;28;01mimport\u001b[39;00m \u001b[38;5;241m*\u001b[39m\n\u001b[1;32m      3\u001b[0m \u001b[38;5;28;01mfrom\u001b[39;00m \u001b[38;5;21;01mjove\u001b[39;00m\u001b[38;5;21;01m.\u001b[39;00m\u001b[38;5;21;01mDef_DFA\u001b[39;00m \u001b[38;5;28;01mimport\u001b[39;00m \u001b[38;5;241m*\u001b[39m\n\u001b[1;32m      4\u001b[0m \u001b[38;5;28;01mfrom\u001b[39;00m \u001b[38;5;21;01mjove\u001b[39;00m\u001b[38;5;21;01m.\u001b[39;00m\u001b[38;5;21;01mDef_NFA\u001b[39;00m \u001b[38;5;28;01mimport\u001b[39;00m \u001b[38;5;241m*\u001b[39m\n",
      "File \u001b[0;32m~/repos/Jove/For_CS3100_Fall2022/06_RE/../../jove/DotBashers.py:26\u001b[0m\n\u001b[1;32m     24\u001b[0m \u001b[38;5;28;01mfrom\u001b[39;00m \u001b[38;5;21;01mjove\u001b[39;00m\u001b[38;5;21;01m.\u001b[39;00m\u001b[38;5;21;01mSysConsts\u001b[39;00m           \u001b[38;5;28;01mimport\u001b[39;00m \u001b[38;5;241m*\u001b[39m\n\u001b[1;32m     25\u001b[0m \u001b[38;5;28;01mfrom\u001b[39;00m \u001b[38;5;21;01mjove\u001b[39;00m\u001b[38;5;21;01m.\u001b[39;00m\u001b[38;5;21;01mStateNameSanitizers\u001b[39;00m \u001b[38;5;28;01mimport\u001b[39;00m \u001b[38;5;241m*\u001b[39m\n\u001b[0;32m---> 26\u001b[0m \u001b[38;5;28;01mfrom\u001b[39;00m \u001b[38;5;21;01mjove\u001b[39;00m\u001b[38;5;21;01m.\u001b[39;00m\u001b[38;5;21;01mSystemImports\u001b[39;00m       \u001b[38;5;28;01mimport\u001b[39;00m \u001b[38;5;241m*\u001b[39m\n\u001b[1;32m     27\u001b[0m \u001b[38;5;28;01mfrom\u001b[39;00m \u001b[38;5;21;01mjove\u001b[39;00m\u001b[38;5;21;01m.\u001b[39;00m\u001b[38;5;21;01mTransitionSelectors\u001b[39;00m \u001b[38;5;28;01mimport\u001b[39;00m \u001b[38;5;241m*\u001b[39m\n\u001b[1;32m     28\u001b[0m \u001b[38;5;28;01mfrom\u001b[39;00m \u001b[38;5;21;01mjove\u001b[39;00m\u001b[38;5;21;01m.\u001b[39;00m\u001b[38;5;21;01mShrinkStates\u001b[39;00m        \u001b[38;5;28;01mimport\u001b[39;00m shrink_dfastates\n",
      "File \u001b[0;32m~/repos/Jove/For_CS3100_Fall2022/06_RE/../../jove/SystemImports.py:10\u001b[0m\n\u001b[1;32m      2\u001b[0m \u001b[38;5;66;03m# coding: utf-8\u001b[39;00m\n\u001b[1;32m      3\u001b[0m \n\u001b[1;32m      4\u001b[0m \u001b[38;5;66;03m# In[2]:\u001b[39;00m\n\u001b[1;32m      5\u001b[0m \n\u001b[1;32m      6\u001b[0m \n\u001b[1;32m      7\u001b[0m \u001b[38;5;66;03m#-- Youtube, Python Widgets, Dot graphs, ...\u001b[39;00m\n\u001b[1;32m      9\u001b[0m \u001b[38;5;28;01mfrom\u001b[39;00m \u001b[38;5;21;01mIPython\u001b[39;00m\u001b[38;5;21;01m.\u001b[39;00m\u001b[38;5;21;01mdisplay\u001b[39;00m \u001b[38;5;28;01mimport\u001b[39;00m YouTubeVideo\n\u001b[0;32m---> 10\u001b[0m \u001b[38;5;28;01mimport\u001b[39;00m \u001b[38;5;21;01mipywidgets\u001b[39;00m \u001b[38;5;28;01mas\u001b[39;00m \u001b[38;5;21;01mwdg\u001b[39;00m\n\u001b[1;32m     12\u001b[0m \u001b[38;5;66;03m#-- Useful Python functions\u001b[39;00m\n\u001b[1;32m     13\u001b[0m \n\u001b[1;32m     14\u001b[0m \u001b[38;5;66;03m# product(set, set) generates the cartesian product\u001b[39;00m\n\u001b[1;32m     15\u001b[0m \u001b[38;5;28;01mfrom\u001b[39;00m \u001b[38;5;21;01mitertools\u001b[39;00m \u001b[38;5;28;01mimport\u001b[39;00m product\n",
      "\u001b[0;31mModuleNotFoundError\u001b[0m: No module named 'ipywidgets'"
     ]
    }
   ],
   "source": [
    "# -- common imports --\n",
    "from jove.DotBashers import *\n",
    "from jove.Def_DFA import *\n",
    "from jove.Def_NFA import *\n",
    "from jove.Def_RE2NFA import *\n",
    "from jove.Def_NFA2RE import *\n",
    "from jove.Def_md2mc import *"
   ]
  },
  {
   "cell_type": "code",
   "execution_count": null,
   "metadata": {
    "run_control": {
     "frozen": false,
     "read_only": false
    }
   },
   "outputs": [
    {
     "name": "stdout",
     "output_type": "stream",
     "text": [
      "You may use any of these help commands:\n",
      "help(ResetStNum)\n",
      "help(NxtStateStr)\n",
      "\n"
     ]
    },
    {
     "ename": "ModuleNotFoundError",
     "evalue": "No module named 'ipywidgets'",
     "output_type": "error",
     "traceback": [
      "\u001b[0;31m---------------------------------------------------------------------------\u001b[0m",
      "\u001b[0;31mModuleNotFoundError\u001b[0m                       Traceback (most recent call last)",
      "Cell \u001b[0;32mIn[1], line 28\u001b[0m\n\u001b[1;32m     25\u001b[0m   sys\u001b[38;5;241m.\u001b[39mpath\u001b[38;5;241m.\u001b[39mappend(\u001b[38;5;124m'\u001b[39m\u001b[38;5;124m./Jove/jove\u001b[39m\u001b[38;5;124m'\u001b[39m)\n\u001b[1;32m     27\u001b[0m \u001b[38;5;66;03m# -- common imports --\u001b[39;00m\n\u001b[0;32m---> 28\u001b[0m \u001b[38;5;28;01mfrom\u001b[39;00m \u001b[38;5;21;01mjove\u001b[39;00m\u001b[38;5;21;01m.\u001b[39;00m\u001b[38;5;21;01mDotBashers\u001b[39;00m \u001b[38;5;28;01mimport\u001b[39;00m \u001b[38;5;241m*\u001b[39m\n\u001b[1;32m     29\u001b[0m \u001b[38;5;28;01mfrom\u001b[39;00m \u001b[38;5;21;01mjove\u001b[39;00m\u001b[38;5;21;01m.\u001b[39;00m\u001b[38;5;21;01mDef_DFA\u001b[39;00m \u001b[38;5;28;01mimport\u001b[39;00m \u001b[38;5;241m*\u001b[39m\n\u001b[1;32m     30\u001b[0m \u001b[38;5;28;01mfrom\u001b[39;00m \u001b[38;5;21;01mjove\u001b[39;00m\u001b[38;5;21;01m.\u001b[39;00m\u001b[38;5;21;01mDef_NFA\u001b[39;00m \u001b[38;5;28;01mimport\u001b[39;00m \u001b[38;5;241m*\u001b[39m\n",
      "File \u001b[0;32m~/repos/Jove/For_CS3100_Fall2022/06_RE/../../jove/DotBashers.py:26\u001b[0m\n\u001b[1;32m     24\u001b[0m \u001b[38;5;28;01mfrom\u001b[39;00m \u001b[38;5;21;01mjove\u001b[39;00m\u001b[38;5;21;01m.\u001b[39;00m\u001b[38;5;21;01mSysConsts\u001b[39;00m           \u001b[38;5;28;01mimport\u001b[39;00m \u001b[38;5;241m*\u001b[39m\n\u001b[1;32m     25\u001b[0m \u001b[38;5;28;01mfrom\u001b[39;00m \u001b[38;5;21;01mjove\u001b[39;00m\u001b[38;5;21;01m.\u001b[39;00m\u001b[38;5;21;01mStateNameSanitizers\u001b[39;00m \u001b[38;5;28;01mimport\u001b[39;00m \u001b[38;5;241m*\u001b[39m\n\u001b[0;32m---> 26\u001b[0m \u001b[38;5;28;01mfrom\u001b[39;00m \u001b[38;5;21;01mjove\u001b[39;00m\u001b[38;5;21;01m.\u001b[39;00m\u001b[38;5;21;01mSystemImports\u001b[39;00m       \u001b[38;5;28;01mimport\u001b[39;00m \u001b[38;5;241m*\u001b[39m\n\u001b[1;32m     27\u001b[0m \u001b[38;5;28;01mfrom\u001b[39;00m \u001b[38;5;21;01mjove\u001b[39;00m\u001b[38;5;21;01m.\u001b[39;00m\u001b[38;5;21;01mTransitionSelectors\u001b[39;00m \u001b[38;5;28;01mimport\u001b[39;00m \u001b[38;5;241m*\u001b[39m\n\u001b[1;32m     28\u001b[0m \u001b[38;5;28;01mfrom\u001b[39;00m \u001b[38;5;21;01mjove\u001b[39;00m\u001b[38;5;21;01m.\u001b[39;00m\u001b[38;5;21;01mShrinkStates\u001b[39;00m        \u001b[38;5;28;01mimport\u001b[39;00m shrink_dfastates\n",
      "File \u001b[0;32m~/repos/Jove/For_CS3100_Fall2022/06_RE/../../jove/SystemImports.py:10\u001b[0m\n\u001b[1;32m      2\u001b[0m \u001b[38;5;66;03m# coding: utf-8\u001b[39;00m\n\u001b[1;32m      3\u001b[0m \n\u001b[1;32m      4\u001b[0m \u001b[38;5;66;03m# In[2]:\u001b[39;00m\n\u001b[1;32m      5\u001b[0m \n\u001b[1;32m      6\u001b[0m \n\u001b[1;32m      7\u001b[0m \u001b[38;5;66;03m#-- Youtube, Python Widgets, Dot graphs, ...\u001b[39;00m\n\u001b[1;32m      9\u001b[0m \u001b[38;5;28;01mfrom\u001b[39;00m \u001b[38;5;21;01mIPython\u001b[39;00m\u001b[38;5;21;01m.\u001b[39;00m\u001b[38;5;21;01mdisplay\u001b[39;00m \u001b[38;5;28;01mimport\u001b[39;00m YouTubeVideo\n\u001b[0;32m---> 10\u001b[0m \u001b[38;5;28;01mimport\u001b[39;00m \u001b[38;5;21;01mipywidgets\u001b[39;00m \u001b[38;5;28;01mas\u001b[39;00m \u001b[38;5;21;01mwdg\u001b[39;00m\n\u001b[1;32m     12\u001b[0m \u001b[38;5;66;03m#-- Useful Python functions\u001b[39;00m\n\u001b[1;32m     13\u001b[0m \n\u001b[1;32m     14\u001b[0m \u001b[38;5;66;03m# product(set, set) generates the cartesian product\u001b[39;00m\n\u001b[1;32m     15\u001b[0m \u001b[38;5;28;01mfrom\u001b[39;00m \u001b[38;5;21;01mitertools\u001b[39;00m \u001b[38;5;28;01mimport\u001b[39;00m product\n",
      "\u001b[0;31mModuleNotFoundError\u001b[0m: No module named 'ipywidgets'"
     ]
    }
   ],
   "source": [
    "\n",
    "#~~~~~~~~~~~~~~~~~~~~~~~~~~~~~~~~~~~~~~~~~~~~~~~~~~~~~~~"
   ]
  },
  {
   "cell_type": "markdown",
   "metadata": {
    "run_control": {
     "frozen": false,
     "read_only": false
    }
   },
   "source": [
    "# Postage Stamp Problem\n",
    " \n",
    "### What is the largest postage-stamp value that cannot be attained using 3 and 5 cents?\n",
    "\n",
    "This can be modeled using an RE (111+11111)* which is the set of strings of length of three 1's or five 1's."
   ]
  },
  {
   "cell_type": "code",
   "execution_count": 2,
   "metadata": {},
   "outputs": [],
   "source": [
    "RE35 = \"(111+11111)*\""
   ]
  },
  {
   "cell_type": "code",
   "execution_count": 3,
   "metadata": {},
   "outputs": [
    {
     "data": {
      "image/svg+xml": [
       "<?xml version=\"1.0\" encoding=\"UTF-8\" standalone=\"no\"?>\n",
       "<!DOCTYPE svg PUBLIC \"-//W3C//DTD SVG 1.1//EN\"\n",
       " \"http://www.w3.org/Graphics/SVG/1.1/DTD/svg11.dtd\">\n",
       "<!-- Generated by graphviz version 2.40.1 (20161225.0304)\n",
       " -->\n",
       "<!-- Title: %3 Pages: 1 -->\n",
       "<svg width=\"961pt\" height=\"95pt\"\n",
       " viewBox=\"0.00 0.00 960.86 95.05\" xmlns=\"http://www.w3.org/2000/svg\" xmlns:xlink=\"http://www.w3.org/1999/xlink\">\n",
       "<g id=\"graph0\" class=\"graph\" transform=\"scale(1 1) rotate(0) translate(4 91.0456)\">\n",
       "<title>%3</title>\n",
       "<polygon fill=\"#ffffff\" stroke=\"transparent\" points=\"-4,4 -4,-91.0456 956.8604,-91.0456 956.8604,4 -4,4\"/>\n",
       "<!-- EMPTY -->\n",
       "<g id=\"node1\" class=\"node\">\n",
       "<title>EMPTY</title>\n",
       "</g>\n",
       "<!-- St9 -->\n",
       "<g id=\"node8\" class=\"node\">\n",
       "<title>St9</title>\n",
       "<ellipse fill=\"none\" stroke=\"#000000\" cx=\"117.748\" cy=\"-27.2976\" rx=\"22.9609\" ry=\"22.9609\"/>\n",
       "<ellipse fill=\"none\" stroke=\"#000000\" cx=\"117.748\" cy=\"-27.2976\" rx=\"26.9983\" ry=\"26.9983\"/>\n",
       "<text text-anchor=\"middle\" x=\"117.748\" y=\"-23.5976\" font-family=\"Times,serif\" font-size=\"14.00\" fill=\"#000000\">St9</text>\n",
       "</g>\n",
       "<!-- EMPTY&#45;&gt;St9 -->\n",
       "<g id=\"edge1\" class=\"edge\">\n",
       "<title>EMPTY&#45;&gt;St9</title>\n",
       "<path fill=\"none\" stroke=\"#000000\" d=\"M54.2274,-27.2976C62.5578,-27.2976 71.8652,-27.2976 80.7317,-27.2976\"/>\n",
       "<polygon fill=\"#000000\" stroke=\"#000000\" points=\"80.8526,-30.7977 90.8525,-27.2976 80.8525,-23.7977 80.8526,-30.7977\"/>\n",
       "</g>\n",
       "<!-- St10 -->\n",
       "<g id=\"node2\" class=\"node\">\n",
       "<title>St10</title>\n",
       "<ellipse fill=\"none\" stroke=\"#000000\" cx=\"825.0669\" cy=\"-27.2976\" rx=\"27.0966\" ry=\"27.0966\"/>\n",
       "<text text-anchor=\"middle\" x=\"825.0669\" y=\"-23.5976\" font-family=\"Times,serif\" font-size=\"14.00\" fill=\"#000000\">St10</text>\n",
       "</g>\n",
       "<!-- St0 -->\n",
       "<g id=\"node10\" class=\"node\">\n",
       "<title>St0</title>\n",
       "<ellipse fill=\"none\" stroke=\"#000000\" cx=\"926.1125\" cy=\"-27.2976\" rx=\"22.9609\" ry=\"22.9609\"/>\n",
       "<ellipse fill=\"none\" stroke=\"#000000\" cx=\"926.1125\" cy=\"-27.2976\" rx=\"26.9983\" ry=\"26.9983\"/>\n",
       "<text text-anchor=\"middle\" x=\"926.1125\" y=\"-23.5976\" font-family=\"Times,serif\" font-size=\"14.00\" fill=\"#000000\">St0</text>\n",
       "</g>\n",
       "<!-- St10&#45;&gt;St0 -->\n",
       "<g id=\"edge9\" class=\"edge\">\n",
       "<title>St10&#45;&gt;St0</title>\n",
       "<path fill=\"none\" stroke=\"#000000\" d=\"M852.4113,-27.2976C863.6222,-27.2976 876.7772,-27.2976 888.8461,-27.2976\"/>\n",
       "<polygon fill=\"#000000\" stroke=\"#000000\" points=\"889.0964,-30.7977 899.0963,-27.2976 889.0963,-23.7977 889.0964,-30.7977\"/>\n",
       "<text text-anchor=\"middle\" x=\"875.8645\" y=\"-31.0976\" font-family=\"Times,serif\" font-size=\"14.00\" fill=\"#000000\">1 </text>\n",
       "</g>\n",
       "<!-- St12 -->\n",
       "<g id=\"node3\" class=\"node\">\n",
       "<title>St12</title>\n",
       "<ellipse fill=\"none\" stroke=\"#000000\" cx=\"522.4798\" cy=\"-27.2976\" rx=\"27.0966\" ry=\"27.0966\"/>\n",
       "<text text-anchor=\"middle\" x=\"522.4798\" y=\"-23.5976\" font-family=\"Times,serif\" font-size=\"14.00\" fill=\"#000000\">St12</text>\n",
       "</g>\n",
       "<!-- St5 -->\n",
       "<g id=\"node9\" class=\"node\">\n",
       "<title>St5</title>\n",
       "<ellipse fill=\"none\" stroke=\"#000000\" cx=\"623.5254\" cy=\"-27.2976\" rx=\"22.9609\" ry=\"22.9609\"/>\n",
       "<ellipse fill=\"none\" stroke=\"#000000\" cx=\"623.5254\" cy=\"-27.2976\" rx=\"26.9983\" ry=\"26.9983\"/>\n",
       "<text text-anchor=\"middle\" x=\"623.5254\" y=\"-23.5976\" font-family=\"Times,serif\" font-size=\"14.00\" fill=\"#000000\">St5</text>\n",
       "</g>\n",
       "<!-- St12&#45;&gt;St5 -->\n",
       "<g id=\"edge6\" class=\"edge\">\n",
       "<title>St12&#45;&gt;St5</title>\n",
       "<path fill=\"none\" stroke=\"#000000\" d=\"M549.8242,-27.2976C561.0351,-27.2976 574.1901,-27.2976 586.259,-27.2976\"/>\n",
       "<polygon fill=\"#000000\" stroke=\"#000000\" points=\"586.5093,-30.7977 596.5093,-27.2976 586.5092,-23.7977 586.5093,-30.7977\"/>\n",
       "<text text-anchor=\"middle\" x=\"573.2774\" y=\"-31.0976\" font-family=\"Times,serif\" font-size=\"14.00\" fill=\"#000000\">1 </text>\n",
       "</g>\n",
       "<!-- St11 -->\n",
       "<g id=\"node4\" class=\"node\">\n",
       "<title>St11</title>\n",
       "<ellipse fill=\"none\" stroke=\"#000000\" cx=\"320.3887\" cy=\"-27.2976\" rx=\"27.0966\" ry=\"27.0966\"/>\n",
       "<text text-anchor=\"middle\" x=\"320.3887\" y=\"-23.5976\" font-family=\"Times,serif\" font-size=\"14.00\" fill=\"#000000\">St11</text>\n",
       "</g>\n",
       "<!-- St8 -->\n",
       "<g id=\"node6\" class=\"node\">\n",
       "<title>St8</title>\n",
       "<ellipse fill=\"none\" stroke=\"#000000\" cx=\"421.4343\" cy=\"-27.2976\" rx=\"22.9609\" ry=\"22.9609\"/>\n",
       "<ellipse fill=\"none\" stroke=\"#000000\" cx=\"421.4343\" cy=\"-27.2976\" rx=\"26.9983\" ry=\"26.9983\"/>\n",
       "<text text-anchor=\"middle\" x=\"421.4343\" y=\"-23.5976\" font-family=\"Times,serif\" font-size=\"14.00\" fill=\"#000000\">St8</text>\n",
       "</g>\n",
       "<!-- St11&#45;&gt;St8 -->\n",
       "<g id=\"edge4\" class=\"edge\">\n",
       "<title>St11&#45;&gt;St8</title>\n",
       "<path fill=\"none\" stroke=\"#000000\" d=\"M347.7331,-27.2976C358.944,-27.2976 372.099,-27.2976 384.1679,-27.2976\"/>\n",
       "<polygon fill=\"#000000\" stroke=\"#000000\" points=\"384.4182,-30.7977 394.4181,-27.2976 384.4181,-23.7977 384.4182,-30.7977\"/>\n",
       "<text text-anchor=\"middle\" x=\"371.1863\" y=\"-31.0976\" font-family=\"Times,serif\" font-size=\"14.00\" fill=\"#000000\">1 </text>\n",
       "</g>\n",
       "<!-- St13 -->\n",
       "<g id=\"node5\" class=\"node\">\n",
       "<title>St13</title>\n",
       "<ellipse fill=\"none\" stroke=\"#000000\" cx=\"218.7935\" cy=\"-27.2976\" rx=\"27.0966\" ry=\"27.0966\"/>\n",
       "<text text-anchor=\"middle\" x=\"218.7935\" y=\"-23.5976\" font-family=\"Times,serif\" font-size=\"14.00\" fill=\"#000000\">St13</text>\n",
       "</g>\n",
       "<!-- St13&#45;&gt;St11 -->\n",
       "<g id=\"edge3\" class=\"edge\">\n",
       "<title>St13&#45;&gt;St11</title>\n",
       "<path fill=\"none\" stroke=\"#000000\" d=\"M246.2867,-27.2976C257.4677,-27.2976 270.5719,-27.2976 282.6258,-27.2976\"/>\n",
       "<polygon fill=\"#000000\" stroke=\"#000000\" points=\"282.8736,-30.7977 292.8736,-27.2976 282.8736,-23.7977 282.8736,-30.7977\"/>\n",
       "<text text-anchor=\"middle\" x=\"269.5911\" y=\"-31.0976\" font-family=\"Times,serif\" font-size=\"14.00\" fill=\"#000000\">1 </text>\n",
       "</g>\n",
       "<!-- St8&#45;&gt;St12 -->\n",
       "<g id=\"edge5\" class=\"edge\">\n",
       "<title>St8&#45;&gt;St12</title>\n",
       "<path fill=\"none\" stroke=\"#000000\" d=\"M448.2473,-27.2976C459.3716,-27.2976 472.4793,-27.2976 484.56,-27.2976\"/>\n",
       "<polygon fill=\"#000000\" stroke=\"#000000\" points=\"484.8364,-30.7977 494.8363,-27.2976 484.8363,-23.7977 484.8364,-30.7977\"/>\n",
       "<text text-anchor=\"middle\" x=\"471.6822\" y=\"-31.0976\" font-family=\"Times,serif\" font-size=\"14.00\" fill=\"#000000\">1 </text>\n",
       "</g>\n",
       "<!-- St7 -->\n",
       "<g id=\"node7\" class=\"node\">\n",
       "<title>St7</title>\n",
       "<ellipse fill=\"none\" stroke=\"#000000\" cx=\"724.0213\" cy=\"-27.2976\" rx=\"22.9609\" ry=\"22.9609\"/>\n",
       "<ellipse fill=\"none\" stroke=\"#000000\" cx=\"724.0213\" cy=\"-27.2976\" rx=\"26.9983\" ry=\"26.9983\"/>\n",
       "<text text-anchor=\"middle\" x=\"724.0213\" y=\"-23.5976\" font-family=\"Times,serif\" font-size=\"14.00\" fill=\"#000000\">St7</text>\n",
       "</g>\n",
       "<!-- St7&#45;&gt;St10 -->\n",
       "<g id=\"edge8\" class=\"edge\">\n",
       "<title>St7&#45;&gt;St10</title>\n",
       "<path fill=\"none\" stroke=\"#000000\" d=\"M750.8344,-27.2976C761.9587,-27.2976 775.0664,-27.2976 787.1471,-27.2976\"/>\n",
       "<polygon fill=\"#000000\" stroke=\"#000000\" points=\"787.4234,-30.7977 797.4234,-27.2976 787.4234,-23.7977 787.4234,-30.7977\"/>\n",
       "<text text-anchor=\"middle\" x=\"774.2693\" y=\"-31.0976\" font-family=\"Times,serif\" font-size=\"14.00\" fill=\"#000000\">1 </text>\n",
       "</g>\n",
       "<!-- St9&#45;&gt;St13 -->\n",
       "<g id=\"edge2\" class=\"edge\">\n",
       "<title>St9&#45;&gt;St13</title>\n",
       "<path fill=\"none\" stroke=\"#000000\" d=\"M144.5611,-27.2976C155.6854,-27.2976 168.793,-27.2976 180.8737,-27.2976\"/>\n",
       "<polygon fill=\"#000000\" stroke=\"#000000\" points=\"181.1501,-30.7977 191.15,-27.2976 181.15,-23.7977 181.1501,-30.7977\"/>\n",
       "<text text-anchor=\"middle\" x=\"167.996\" y=\"-31.0976\" font-family=\"Times,serif\" font-size=\"14.00\" fill=\"#000000\">1 </text>\n",
       "</g>\n",
       "<!-- St5&#45;&gt;St7 -->\n",
       "<g id=\"edge7\" class=\"edge\">\n",
       "<title>St5&#45;&gt;St7</title>\n",
       "<path fill=\"none\" stroke=\"#000000\" d=\"M650.4564,-27.2976C661.6086,-27.2976 674.7297,-27.2976 686.7792,-27.2976\"/>\n",
       "<polygon fill=\"#000000\" stroke=\"#000000\" points=\"687.016,-30.7977 697.0159,-27.2976 687.0159,-23.7977 687.016,-30.7977\"/>\n",
       "<text text-anchor=\"middle\" x=\"673.7734\" y=\"-31.0976\" font-family=\"Times,serif\" font-size=\"14.00\" fill=\"#000000\">1 </text>\n",
       "</g>\n",
       "<!-- St0&#45;&gt;St0 -->\n",
       "<g id=\"edge10\" class=\"edge\">\n",
       "<title>St0&#45;&gt;St0</title>\n",
       "<path fill=\"none\" stroke=\"#000000\" d=\"M916.8199,-52.5986C916.179,-63.1236 919.2765,-72.0456 926.1125,-72.0456 930.5985,-72.0456 933.4746,-68.2032 934.7407,-62.587\"/>\n",
       "<polygon fill=\"#000000\" stroke=\"#000000\" points=\"938.2336,-62.8088 935.4051,-52.5986 931.249,-62.3442 938.2336,-62.8088\"/>\n",
       "<text text-anchor=\"middle\" x=\"926.1125\" y=\"-75.8456\" font-family=\"Times,serif\" font-size=\"14.00\" fill=\"#000000\">1 </text>\n",
       "</g>\n",
       "</g>\n",
       "</svg>\n"
      ],
      "text/plain": [
       "<graphviz.dot.Digraph at 0x10767f2b0>"
      ]
     },
     "execution_count": 3,
     "metadata": {},
     "output_type": "execute_result"
    }
   ],
   "source": [
    "MD35 = min_dfa(nfa2dfa(re2nfa(RE35)))\n",
    "dotObj_dfa(MD35)"
   ]
  },
  {
   "cell_type": "markdown",
   "metadata": {},
   "source": [
    "# The answer we seek is the number of steps to the last state minus 1\n",
    "\n",
    "## This is obtained by taking the number of states of MD35 - 2 \n",
    "\n",
    "### Answer: 7"
   ]
  },
  {
   "cell_type": "code",
   "execution_count": null,
   "metadata": {},
   "outputs": [],
   "source": [
    "len(MD35[\"Q\"]) - 2"
   ]
  },
  {
   "cell_type": "markdown",
   "metadata": {},
   "source": [
    "# End of postage-stamp Problems"
   ]
  }
 ],
 "metadata": {
  "kernelspec": {
   "display_name": "Python 3 (ipykernel)",
   "language": "python",
   "name": "python3"
  },
  "language_info": {
   "codemirror_mode": {
    "name": "ipython",
    "version": 3
   },
   "file_extension": ".py",
   "mimetype": "text/x-python",
   "name": "python",
   "nbconvert_exporter": "python",
   "pygments_lexer": "ipython3",
   "version": "3.12.3"
  },
  "toc": {
   "colors": {
    "hover_highlight": "#DAA520",
    "running_highlight": "#FF0000",
    "selected_highlight": "#FFD700"
   },
   "moveMenuLeft": true,
   "nav_menu": {
    "height": "318px",
    "width": "252px"
   },
   "navigate_menu": true,
   "number_sections": true,
   "sideBar": true,
   "threshold": 4,
   "toc_cell": false,
   "toc_section_display": "block",
   "toc_window_display": false,
   "widenNotebook": false
  }
 },
 "nbformat": 4,
 "nbformat_minor": 4
}
