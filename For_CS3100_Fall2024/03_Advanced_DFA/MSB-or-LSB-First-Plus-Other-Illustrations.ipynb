{
  "cells": [
    {
      "cell_type": "markdown",
      "metadata": {
        "id": "view-in-github",
        "colab_type": "text"
      },
      "source": [
        "<a href=\"https://colab.research.google.com/github/ganeshutah/Jove/blob/master/For_CS3100_Fall2024/03_Advanced_DFA/MSB-or-LSB-First-Plus-Other-Illustrations.ipynb\" target=\"_parent\"><img src=\"https://colab.research.google.com/assets/colab-badge.svg\" alt=\"Open In Colab\"/></a>"
      ]
    },
    {
      "cell_type": "markdown",
      "metadata": {
        "run_control": {
          "frozen": false,
          "read_only": false
        },
        "id": "-5_c7nLkBg9e"
      },
      "source": [
        "# DFA design exercise\n",
        "\n",
        "DFA that accepts (Odd 0's or Even 1's) AND the number MSB-first isn't divisible by 3"
      ]
    },
    {
      "cell_type": "code",
      "execution_count": 2,
      "metadata": {
        "run_control": {
          "frozen": false,
          "read_only": false
        },
        "id": "A5yuQFdyBg9k",
        "outputId": "6ee48506-510b-4dfe-b6b6-e98769c09787",
        "colab": {
          "base_uri": "https://localhost:8080/"
        }
      },
      "outputs": [
        {
          "output_type": "stream",
          "name": "stdout",
          "text": [
            "Cloning into 'Jove'...\n",
            "remote: Enumerating objects: 6302, done.\u001b[K\n",
            "remote: Counting objects: 100% (1668/1668), done.\u001b[K\n",
            "remote: Compressing objects: 100% (662/662), done.\u001b[K\n",
            "remote: Total 6302 (delta 974), reused 1612 (delta 936), pack-reused 4634 (from 1)\u001b[K\n",
            "Receiving objects: 100% (6302/6302), 10.09 MiB | 17.93 MiB/s, done.\n",
            "Resolving deltas: 100% (3979/3979), done.\n",
            "You may use any of these help commands:\n",
            "help(ResetStNum)\n",
            "help(NxtStateStr)\n",
            "\n",
            "You may use any of these help commands:\n",
            "help(md2mc)\n",
            ".. and if you want to dig more, then ..\n",
            "help(default_line_attr)\n",
            "help(length_ok_input_items)\n",
            "help(union_line_attr_list_fld)\n",
            "help(extend_rsltdict)\n",
            "help(form_delta)\n",
            "help(get_machine_components)\n",
            "\n",
            "You may use any of these help commands:\n",
            "help(mkp_dfa)\n",
            "help(mk_dfa)\n",
            "help(totalize_dfa)\n",
            "help(addtosigma_delta)\n",
            "help(step_dfa)\n",
            "help(run_dfa)\n",
            "help(accepts_dfa)\n",
            "help(comp_dfa)\n",
            "help(flTup)\n",
            "help(union_dfa)\n",
            "help(intersect_dfa)\n",
            "help(pruneUnreach)\n",
            "help(iso_dfa)\n",
            "help(langeq_dfa)\n",
            "help(same_status)\n",
            "help(h_langeq_dfa)\n",
            "help(fixptDist)\n",
            "help(min_dfa)\n",
            "help(pairFR)\n",
            "help(state_combos)\n",
            "help(sepFinNonFin)\n",
            "help(bash_eql_classes)\n",
            "help(listminus)\n",
            "help(bash_1)\n",
            "help(mk_rep_eqc)\n",
            "help(F_of)\n",
            "help(rep_of_s)\n",
            "help(q0_of)\n",
            "help(Delta_of)\n",
            "help(mk_state_eqc_name)\n",
            "\n",
            "You may use any of these help commands:\n",
            "help(mk_nfa)\n",
            "help(totalize_nfa)\n",
            "help(step_nfa)\n",
            "help(run_nfa)\n",
            "help(ec_step_nfa)\n",
            "help(Eclosure)\n",
            "help(Echelp)\n",
            "help(accepts_nfa)\n",
            "help(nfa2dfa)\n",
            "help(n2d)\n",
            "help(inSets)\n",
            "help(rev_dfa)\n",
            "help(min_dfa_brz)\n",
            "\n",
            "You may use any of these help commands:\n",
            "help(lphi)\n",
            "help(lunit)\n",
            "help(lcat)\n",
            "help(lexp)\n",
            "help(lunion)\n",
            "help(lstar)\n",
            "help(srev)\n",
            "help(lrev)\n",
            "help(shomo)\n",
            "help(lhomo)\n",
            "help(powset)\n",
            "help(lint)\n",
            "help(lsymdiff)\n",
            "help(lminus)\n",
            "help(lissubset)\n",
            "help(lissuperset)\n",
            "help(lcomplem)\n",
            "help(product)\n",
            "help(nthnumeric)\n",
            "\n",
            "You may use any of these help commands:\n",
            "help(re2nfa)\n",
            "\n"
          ]
        }
      ],
      "source": [
        "#~~~~~~~~~~~~~~~~~~~~~~~~~~~~~~~~~~~~~~~~~~~~~~~~~~~~~~~\n",
        "import sys\n",
        "\n",
        "# -- Detect if in Own Install or in Colab\n",
        "try:\n",
        "    import google.colab\n",
        "    OWN_INSTALL = False\n",
        "except:\n",
        "    OWN_INSTALL = True\n",
        "\n",
        "if OWN_INSTALL:\n",
        "\n",
        "  #---- Leave these definitions ON if running on laptop\n",
        "  #---- Else turn OFF by putting them between ''' ... '''\n",
        "\n",
        "  sys.path[0:0] = ['../../../../..',  '../../../../../3rdparty',\n",
        "                   '../../../..',  '../../../../3rdparty',\n",
        "                   '../../..',     '../../../3rdparty',\n",
        "                   '../..',        '../../3rdparty',\n",
        "                   '..',           '../3rdparty' ]\n",
        "\n",
        "else: # In colab\n",
        "  ! if [ ! -d Jove ]; then git clone https://github.com/ganeshutah/Jove Jove; fi\n",
        "  sys.path.append('./Jove')\n",
        "  sys.path.append('./Jove/jove')\n",
        "\n",
        "# -- common imports --\n",
        "from jove.DotBashers import *\n",
        "from jove.Def_md2mc  import *\n",
        "from jove.Def_DFA    import *\n",
        "from jove.Def_NFA import *\n",
        "from jove.LangDef    import *  # for testing DFA actions\n",
        "from jove.Def_RE2NFA import *\n",
        "#~~~~~~~~~~~~~~~~~~~~~~~~~~~~~~~~~~~~~~~~~~~~~~~~~~~~~~~"
      ]
    },
    {
      "cell_type": "markdown",
      "source": [
        "Odd 0's"
      ],
      "metadata": {
        "id": "jbb1K9_CCBqg"
      }
    },
    {
      "cell_type": "markdown",
      "source": [],
      "metadata": {
        "id": "ovAX3zhzKACm"
      }
    },
    {
      "cell_type": "code",
      "source": [
        "# DFA over {0,1} that accepts all strings that contain odd # of 0's\n",
        "\n",
        "Odd_zeros = md2mc('''\n",
        "DFA\n",
        "\n",
        "Ieven0 : 0 -> FOdd0\n",
        "Ieven0 : 1 -> Ieven0\n",
        "\n",
        "FOdd0 : 0 -> Ieven0\n",
        "FOdd0 : 1 -> FOdd0\n",
        "''')\n",
        "\n",
        "dotObj_dfa(Odd_zeros, FuseEdges=True)"
      ],
      "metadata": {
        "id": "pQgKpB4KB96O",
        "outputId": "8cd5012d-10d6-48b7-9542-c149326b8737",
        "colab": {
          "base_uri": "https://localhost:8080/",
          "height": 197
        }
      },
      "execution_count": 3,
      "outputs": [
        {
          "output_type": "stream",
          "name": "stderr",
          "text": [
            "Generating LALR tables\n"
          ]
        },
        {
          "output_type": "execute_result",
          "data": {
            "image/svg+xml": "<?xml version=\"1.0\" encoding=\"UTF-8\" standalone=\"no\"?>\n<!DOCTYPE svg PUBLIC \"-//W3C//DTD SVG 1.1//EN\"\n \"http://www.w3.org/Graphics/SVG/1.1/DTD/svg11.dtd\">\n<!-- Generated by graphviz version 2.43.0 (0)\n -->\n<!-- Title: %3 Pages: 1 -->\n<svg width=\"293pt\" height=\"119pt\"\n viewBox=\"0.00 0.00 293.09 119.19\" xmlns=\"http://www.w3.org/2000/svg\" xmlns:xlink=\"http://www.w3.org/1999/xlink\">\n<g id=\"graph0\" class=\"graph\" transform=\"scale(1 1) rotate(0) translate(4 115.19)\">\n<title>%3</title>\n<polygon fill=\"white\" stroke=\"transparent\" points=\"-4,4 -4,-115.19 289.09,-115.19 289.09,4 -4,4\"/>\n<!-- EMPTY -->\n<g id=\"node1\" class=\"node\">\n<title>EMPTY</title>\n</g>\n<!-- Ieven0 -->\n<g id=\"node2\" class=\"node\">\n<title>Ieven0</title>\n<ellipse fill=\"none\" stroke=\"black\" cx=\"125.45\" cy=\"-39.1\" rx=\"34.39\" ry=\"34.39\"/>\n<text text-anchor=\"middle\" x=\"125.45\" y=\"-35.4\" font-family=\"Times,serif\" font-size=\"14.00\">Ieven0</text>\n</g>\n<!-- EMPTY&#45;&gt;Ieven0 -->\n<g id=\"edge1\" class=\"edge\">\n<title>EMPTY&#45;&gt;Ieven0</title>\n<path fill=\"none\" stroke=\"black\" d=\"M54.1,-39.1C62.29,-39.1 71.56,-39.1 80.63,-39.1\"/>\n<polygon fill=\"black\" stroke=\"black\" points=\"80.7,-42.6 90.7,-39.1 80.7,-35.6 80.7,-42.6\"/>\n</g>\n<!-- Ieven0&#45;&gt;Ieven0 -->\n<g id=\"edge3\" class=\"edge\">\n<title>Ieven0&#45;&gt;Ieven0</title>\n<path fill=\"none\" stroke=\"black\" d=\"M115.7,-72.39C115.8,-83.07 119.05,-91.54 125.45,-91.54 129.65,-91.54 132.49,-87.9 133.98,-82.37\"/>\n<polygon fill=\"black\" stroke=\"black\" points=\"137.46,-82.74 135.19,-72.39 130.51,-81.89 137.46,-82.74\"/>\n<text text-anchor=\"middle\" x=\"125.45\" y=\"-95.34\" font-family=\"Times,serif\" font-size=\"14.00\">1 </text>\n</g>\n<!-- FOdd0 -->\n<g id=\"node3\" class=\"node\">\n<title>FOdd0</title>\n<ellipse fill=\"none\" stroke=\"black\" cx=\"245.99\" cy=\"-39.1\" rx=\"35.18\" ry=\"35.18\"/>\n<ellipse fill=\"none\" stroke=\"black\" cx=\"245.99\" cy=\"-39.1\" rx=\"39.19\" ry=\"39.19\"/>\n<text text-anchor=\"middle\" x=\"245.99\" y=\"-35.4\" font-family=\"Times,serif\" font-size=\"14.00\">FOdd0</text>\n</g>\n<!-- Ieven0&#45;&gt;FOdd0 -->\n<g id=\"edge2\" class=\"edge\">\n<title>Ieven0&#45;&gt;FOdd0</title>\n<path fill=\"none\" stroke=\"black\" d=\"M160.1,-39.1C171.44,-39.1 184.32,-39.1 196.57,-39.1\"/>\n<polygon fill=\"black\" stroke=\"black\" points=\"196.66,-42.6 206.66,-39.1 196.66,-35.6 196.66,-42.6\"/>\n<text text-anchor=\"middle\" x=\"183.39\" y=\"-42.9\" font-family=\"Times,serif\" font-size=\"14.00\">0 </text>\n</g>\n<!-- FOdd0&#45;&gt;Ieven0 -->\n<g id=\"edge4\" class=\"edge\">\n<title>FOdd0&#45;&gt;Ieven0</title>\n<path fill=\"none\" stroke=\"black\" d=\"M210.13,-22.97C199.84,-19.92 188.5,-18.2 177.89,-20.1 174.26,-20.75 170.54,-21.64 166.86,-22.68\"/>\n<polygon fill=\"black\" stroke=\"black\" points=\"165.72,-19.37 157.24,-25.73 167.83,-26.04 165.72,-19.37\"/>\n<text text-anchor=\"middle\" x=\"183.39\" y=\"-23.9\" font-family=\"Times,serif\" font-size=\"14.00\">0 </text>\n</g>\n<!-- FOdd0&#45;&gt;FOdd0 -->\n<g id=\"edge5\" class=\"edge\">\n<title>FOdd0&#45;&gt;FOdd0</title>\n<path fill=\"none\" stroke=\"black\" d=\"M234.39,-76.44C234.74,-87.55 238.6,-96.19 245.99,-96.19 250.95,-96.19 254.33,-92.29 256.11,-86.36\"/>\n<polygon fill=\"black\" stroke=\"black\" points=\"259.58,-86.85 257.59,-76.44 252.66,-85.81 259.58,-86.85\"/>\n<text text-anchor=\"middle\" x=\"245.99\" y=\"-99.99\" font-family=\"Times,serif\" font-size=\"14.00\">1 </text>\n</g>\n</g>\n</svg>\n",
            "text/plain": [
              "<graphviz.graphs.Digraph at 0x79e4eb7cb280>"
            ]
          },
          "metadata": {},
          "execution_count": 3
        }
      ]
    },
    {
      "cell_type": "markdown",
      "source": [
        "Even 1's"
      ],
      "metadata": {
        "id": "jUHuCzAVCJqf"
      }
    },
    {
      "cell_type": "code",
      "source": [
        "# DFA over {0,1} that accepts all strings that contain an even number of 1's\n",
        "\n",
        "Even_ones = md2mc('''\n",
        "DFA\n",
        "\n",
        "IFEven1 : 0 -> IFEven1\n",
        "IFEven1 : 1 -> Odd1\n",
        "\n",
        "Odd1 : 0 -> Odd1\n",
        "Odd1 : 1 -> IFEven1\n",
        "''')\n",
        "\n",
        "dotObj_dfa(Even_ones, FuseEdges=True)"
      ],
      "metadata": {
        "id": "MBcP4FJ4B-xj",
        "outputId": "adb914a3-d450-4bfb-9d2c-9013d0f2912f",
        "colab": {
          "base_uri": "https://localhost:8080/",
          "height": 196
        }
      },
      "execution_count": 4,
      "outputs": [
        {
          "output_type": "execute_result",
          "data": {
            "image/svg+xml": "<?xml version=\"1.0\" encoding=\"UTF-8\" standalone=\"no\"?>\n<!DOCTYPE svg PUBLIC \"-//W3C//DTD SVG 1.1//EN\"\n \"http://www.w3.org/Graphics/SVG/1.1/DTD/svg11.dtd\">\n<!-- Generated by graphviz version 2.43.0 (0)\n -->\n<!-- Title: %3 Pages: 1 -->\n<svg width=\"297pt\" height=\"131pt\"\n viewBox=\"0.00 0.00 296.99 130.89\" xmlns=\"http://www.w3.org/2000/svg\" xmlns:xlink=\"http://www.w3.org/1999/xlink\">\n<g id=\"graph0\" class=\"graph\" transform=\"scale(1 1) rotate(0) translate(4 126.89)\">\n<title>%3</title>\n<polygon fill=\"white\" stroke=\"transparent\" points=\"-4,4 -4,-126.89 292.99,-126.89 292.99,4 -4,4\"/>\n<!-- EMPTY -->\n<g id=\"node1\" class=\"node\">\n<title>EMPTY</title>\n</g>\n<!-- IFEven1 -->\n<g id=\"node3\" class=\"node\">\n<title>IFEven1</title>\n<ellipse fill=\"none\" stroke=\"black\" cx=\"135.95\" cy=\"-44.95\" rx=\"40.9\" ry=\"40.9\"/>\n<ellipse fill=\"none\" stroke=\"black\" cx=\"135.95\" cy=\"-44.95\" rx=\"44.89\" ry=\"44.89\"/>\n<text text-anchor=\"middle\" x=\"135.95\" y=\"-41.25\" font-family=\"Times,serif\" font-size=\"14.00\">IFEven1</text>\n</g>\n<!-- EMPTY&#45;&gt;IFEven1 -->\n<g id=\"edge1\" class=\"edge\">\n<title>EMPTY&#45;&gt;IFEven1</title>\n<path fill=\"none\" stroke=\"black\" d=\"M54.16,-44.95C62.16,-44.95 71.27,-44.95 80.42,-44.95\"/>\n<polygon fill=\"black\" stroke=\"black\" points=\"80.72,-48.45 90.72,-44.95 80.72,-41.45 80.72,-48.45\"/>\n</g>\n<!-- Odd1 -->\n<g id=\"node2\" class=\"node\">\n<title>Odd1</title>\n<ellipse fill=\"none\" stroke=\"black\" cx=\"258.44\" cy=\"-44.95\" rx=\"30.59\" ry=\"30.59\"/>\n<text text-anchor=\"middle\" x=\"258.44\" y=\"-41.25\" font-family=\"Times,serif\" font-size=\"14.00\">Odd1</text>\n</g>\n<!-- Odd1&#45;&gt;Odd1 -->\n<g id=\"edge4\" class=\"edge\">\n<title>Odd1&#45;&gt;Odd1</title>\n<path fill=\"none\" stroke=\"black\" d=\"M248.34,-73.85C248.01,-84.63 251.37,-93.49 258.44,-93.49 263.08,-93.49 266.12,-89.67 267.57,-84\"/>\n<polygon fill=\"black\" stroke=\"black\" points=\"271.08,-84.14 268.54,-73.85 264.11,-83.48 271.08,-84.14\"/>\n<text text-anchor=\"middle\" x=\"258.44\" y=\"-97.29\" font-family=\"Times,serif\" font-size=\"14.00\">0 </text>\n</g>\n<!-- Odd1&#45;&gt;IFEven1 -->\n<g id=\"edge5\" class=\"edge\">\n<title>Odd1&#45;&gt;IFEven1</title>\n<path fill=\"none\" stroke=\"black\" d=\"M230.57,-32.16C223.96,-29.59 216.79,-27.27 209.89,-25.95 202.65,-24.55 195.06,-24.69 187.62,-25.76\"/>\n<polygon fill=\"black\" stroke=\"black\" points=\"186.76,-22.36 177.63,-27.74 188.12,-29.23 186.76,-22.36\"/>\n<text text-anchor=\"middle\" x=\"204.39\" y=\"-29.75\" font-family=\"Times,serif\" font-size=\"14.00\">1 </text>\n</g>\n<!-- IFEven1&#45;&gt;Odd1 -->\n<g id=\"edge3\" class=\"edge\">\n<title>IFEven1&#45;&gt;Odd1</title>\n<path fill=\"none\" stroke=\"black\" d=\"M181.13,-44.95C192.96,-44.95 205.68,-44.95 217.27,-44.95\"/>\n<polygon fill=\"black\" stroke=\"black\" points=\"217.55,-48.45 227.55,-44.95 217.55,-41.45 217.55,-48.45\"/>\n<text text-anchor=\"middle\" x=\"204.39\" y=\"-48.75\" font-family=\"Times,serif\" font-size=\"14.00\">1 </text>\n</g>\n<!-- IFEven1&#45;&gt;IFEven1 -->\n<g id=\"edge2\" class=\"edge\">\n<title>IFEven1&#45;&gt;IFEven1</title>\n<path fill=\"none\" stroke=\"black\" d=\"M124.46,-88.49C125.22,-99.57 129.04,-107.89 135.95,-107.89 140.48,-107.89 143.68,-104.31 145.56,-98.71\"/>\n<polygon fill=\"black\" stroke=\"black\" points=\"149.08,-98.95 147.43,-88.49 142.19,-97.69 149.08,-98.95\"/>\n<text text-anchor=\"middle\" x=\"135.95\" y=\"-111.69\" font-family=\"Times,serif\" font-size=\"14.00\">0 </text>\n</g>\n</g>\n</svg>\n",
            "text/plain": [
              "<graphviz.graphs.Digraph at 0x79e4f8567dc0>"
            ]
          },
          "metadata": {},
          "execution_count": 4
        }
      ]
    },
    {
      "cell_type": "markdown",
      "source": [
        "Odd 0's OR even 1's"
      ],
      "metadata": {
        "id": "DeZkw8TsCL4G"
      }
    },
    {
      "cell_type": "code",
      "source": [
        "help(union_dfa)"
      ],
      "metadata": {
        "id": "Xnrqn8LpH8ea",
        "outputId": "c342c8a7-b8f1-45b2-9ccc-d06b207535ef",
        "colab": {
          "base_uri": "https://localhost:8080/"
        }
      },
      "execution_count": 5,
      "outputs": [
        {
          "output_type": "stream",
          "name": "stdout",
          "text": [
            "Help on function union_dfa in module jove.Def_DFA:\n",
            "\n",
            "union_dfa(D1in, D2in, flatten_states=False)\n",
            "    In : D1in (consistent DFA)\n",
            "         D2in (consistent DFA)\n",
            "         If flatten_states (Boolean), it turns paired states into string\n",
            "    Out: DFA for language union of D1in, D2in (consistent DFA).\n",
            "\n"
          ]
        }
      ]
    },
    {
      "cell_type": "code",
      "source": [
        "help(dotObj_dfa)"
      ],
      "metadata": {
        "id": "SL4Proj9IBjx",
        "outputId": "0a72dc2d-997e-477d-f28f-c14e644050ae",
        "colab": {
          "base_uri": "https://localhost:8080/"
        }
      },
      "execution_count": 6,
      "outputs": [
        {
          "output_type": "stream",
          "name": "stdout",
          "text": [
            "Help on function dotObj_dfa in module jove.DotBashers:\n",
            "\n",
            "dotObj_dfa(D, FuseEdges=False, dfaName='do_', STATENAME_MAXSIZE=20)\n",
            "    In : D1 (DFA : partially consistent)\n",
            "         dfaName (string)\n",
            "         STATENAME_MAXSIZE : number\n",
            "    Out: A dot object. \n",
            "    Generate a dot object representing the automaton. \n",
            "    Suppress \"black-hole states\".\n",
            "\n"
          ]
        }
      ]
    },
    {
      "cell_type": "code",
      "source": [
        "Odd0s_Even1s = union_dfa(Odd_zeros, Even_ones)"
      ],
      "metadata": {
        "id": "DQP2PF9iCNz7"
      },
      "execution_count": 7,
      "outputs": []
    },
    {
      "cell_type": "code",
      "source": [
        "dotObj_dfa(Odd0s_Even1s)"
      ],
      "metadata": {
        "id": "KfTwf9T9D7s6",
        "outputId": "810a7839-2373-40ff-f5b5-08072887504d",
        "colab": {
          "base_uri": "https://localhost:8080/",
          "height": 337
        }
      },
      "execution_count": 8,
      "outputs": [
        {
          "output_type": "execute_result",
          "data": {
            "image/svg+xml": "<?xml version=\"1.0\" encoding=\"UTF-8\" standalone=\"no\"?>\n<!DOCTYPE svg PUBLIC \"-//W3C//DTD SVG 1.1//EN\"\n \"http://www.w3.org/Graphics/SVG/1.1/DTD/svg11.dtd\">\n<!-- Generated by graphviz version 2.43.0 (0)\n -->\n<!-- Title: %3 Pages: 1 -->\n<svg width=\"824pt\" height=\"237pt\"\n viewBox=\"0.00 0.00 824.25 237.39\" xmlns=\"http://www.w3.org/2000/svg\" xmlns:xlink=\"http://www.w3.org/1999/xlink\">\n<g id=\"graph0\" class=\"graph\" transform=\"scale(1 1) rotate(0) translate(4 233.39)\">\n<title>%3</title>\n<polygon fill=\"white\" stroke=\"transparent\" points=\"-4,4 -4,-233.39 820.25,-233.39 820.25,4 -4,4\"/>\n<!-- EMPTY -->\n<g id=\"node1\" class=\"node\">\n<title>EMPTY</title>\n</g>\n<!-- \\(Ieven0_IFEven1\\) -->\n<g id=\"node3\" class=\"node\">\n<title>\\(Ieven0_IFEven1\\)</title>\n<ellipse fill=\"none\" stroke=\"black\" cx=\"170.39\" cy=\"-79.39\" rx=\"75.29\" ry=\"75.29\"/>\n<ellipse fill=\"none\" stroke=\"black\" cx=\"170.39\" cy=\"-79.39\" rx=\"79.29\" ry=\"79.29\"/>\n<text text-anchor=\"middle\" x=\"170.39\" y=\"-75.69\" font-family=\"Times,serif\" font-size=\"14.00\">(Ieven0_IFEven1)</text>\n</g>\n<!-- EMPTY&#45;&gt;\\(Ieven0_IFEven1\\) -->\n<g id=\"edge1\" class=\"edge\">\n<title>EMPTY&#45;&gt;\\(Ieven0_IFEven1\\)</title>\n<path fill=\"none\" stroke=\"black\" d=\"M54.26,-79.39C62.15,-79.39 71.27,-79.39 80.86,-79.39\"/>\n<polygon fill=\"black\" stroke=\"black\" points=\"80.99,-82.89 90.99,-79.39 80.99,-75.89 80.99,-82.89\"/>\n</g>\n<!-- \\(Ieven0_Odd1\\) -->\n<g id=\"node2\" class=\"node\">\n<title>\\(Ieven0_Odd1\\)</title>\n<ellipse fill=\"none\" stroke=\"black\" cx=\"361.13\" cy=\"-155.39\" rx=\"64.19\" ry=\"64.19\"/>\n<text text-anchor=\"middle\" x=\"361.13\" y=\"-151.69\" font-family=\"Times,serif\" font-size=\"14.00\">(Ieven0_Odd1)</text>\n</g>\n<!-- \\(Ieven0_Odd1\\)&#45;&gt;\\(Ieven0_IFEven1\\) -->\n<g id=\"edge7\" class=\"edge\">\n<title>\\(Ieven0_Odd1\\)&#45;&gt;\\(Ieven0_IFEven1\\)</title>\n<path fill=\"none\" stroke=\"black\" d=\"M307.05,-120.39C297.86,-115.22 288.22,-110.32 278.79,-106.39 272.14,-103.63 265.13,-101.09 258.02,-98.78\"/>\n<polygon fill=\"black\" stroke=\"black\" points=\"258.86,-95.38 248.28,-95.76 256.79,-102.06 258.86,-95.38\"/>\n<text text-anchor=\"middle\" x=\"273.29\" y=\"-110.19\" font-family=\"Times,serif\" font-size=\"14.00\">1 </text>\n</g>\n<!-- \\(FOdd0_Odd1\\) -->\n<g id=\"node5\" class=\"node\">\n<title>\\(FOdd0_Odd1\\)</title>\n<ellipse fill=\"none\" stroke=\"black\" cx=\"541.47\" cy=\"-160.39\" rx=\"64.99\" ry=\"64.99\"/>\n<ellipse fill=\"none\" stroke=\"black\" cx=\"541.47\" cy=\"-160.39\" rx=\"68.99\" ry=\"68.99\"/>\n<text text-anchor=\"middle\" x=\"541.47\" y=\"-156.69\" font-family=\"Times,serif\" font-size=\"14.00\">(FOdd0_Odd1)</text>\n</g>\n<!-- \\(Ieven0_Odd1\\)&#45;&gt;\\(FOdd0_Odd1\\) -->\n<g id=\"edge3\" class=\"edge\">\n<title>\\(Ieven0_Odd1\\)&#45;&gt;\\(FOdd0_Odd1\\)</title>\n<path fill=\"none\" stroke=\"black\" d=\"M425.51,-157.17C437.4,-157.5 449.96,-157.86 462.23,-158.2\"/>\n<polygon fill=\"black\" stroke=\"black\" points=\"462.36,-161.7 472.46,-158.49 462.56,-154.71 462.36,-161.7\"/>\n<text text-anchor=\"middle\" x=\"448.98\" y=\"-161.19\" font-family=\"Times,serif\" font-size=\"14.00\">0 </text>\n</g>\n<!-- \\(Ieven0_IFEven1\\)&#45;&gt;\\(Ieven0_Odd1\\) -->\n<g id=\"edge2\" class=\"edge\">\n<title>\\(Ieven0_IFEven1\\)&#45;&gt;\\(Ieven0_Odd1\\)</title>\n<path fill=\"none\" stroke=\"black\" d=\"M241.73,-114.26C250.43,-118.19 259.26,-121.99 267.79,-125.39 274.68,-128.14 281.92,-130.83 289.21,-133.4\"/>\n<polygon fill=\"black\" stroke=\"black\" points=\"288.53,-136.87 299.12,-136.83 290.81,-130.26 288.53,-136.87\"/>\n<text text-anchor=\"middle\" x=\"273.29\" y=\"-132.19\" font-family=\"Times,serif\" font-size=\"14.00\">1 </text>\n</g>\n<!-- \\(FOdd0_IFEven1\\) -->\n<g id=\"node4\" class=\"node\">\n<title>\\(FOdd0_IFEven1\\)</title>\n<ellipse fill=\"none\" stroke=\"black\" cx=\"736.86\" cy=\"-79.39\" rx=\"75.29\" ry=\"75.29\"/>\n<ellipse fill=\"none\" stroke=\"black\" cx=\"736.86\" cy=\"-79.39\" rx=\"79.29\" ry=\"79.29\"/>\n<text text-anchor=\"middle\" x=\"736.86\" y=\"-75.69\" font-family=\"Times,serif\" font-size=\"14.00\">(FOdd0_IFEven1)</text>\n</g>\n<!-- \\(Ieven0_IFEven1\\)&#45;&gt;\\(FOdd0_IFEven1\\) -->\n<g id=\"edge5\" class=\"edge\">\n<title>\\(Ieven0_IFEven1\\)&#45;&gt;\\(FOdd0_IFEven1\\)</title>\n<path fill=\"none\" stroke=\"black\" d=\"M249.88,-79.39C354.16,-79.39 537.91,-79.39 647.12,-79.39\"/>\n<polygon fill=\"black\" stroke=\"black\" points=\"647.13,-82.89 657.13,-79.39 647.13,-75.89 647.13,-82.89\"/>\n<text text-anchor=\"middle\" x=\"448.98\" y=\"-83.19\" font-family=\"Times,serif\" font-size=\"14.00\">0 </text>\n</g>\n<!-- \\(FOdd0_IFEven1\\)&#45;&gt;\\(Ieven0_IFEven1\\) -->\n<g id=\"edge8\" class=\"edge\">\n<title>\\(FOdd0_IFEven1\\)&#45;&gt;\\(Ieven0_IFEven1\\)</title>\n<path fill=\"none\" stroke=\"black\" d=\"M657.74,-70.07C598.88,-64.08 516.17,-57.86 443.48,-60.39 382.01,-62.54 312.88,-67.4 259.69,-71.66\"/>\n<polygon fill=\"black\" stroke=\"black\" points=\"259.29,-68.18 249.6,-72.48 259.85,-75.16 259.29,-68.18\"/>\n<text text-anchor=\"middle\" x=\"448.98\" y=\"-64.19\" font-family=\"Times,serif\" font-size=\"14.00\">0 </text>\n</g>\n<!-- \\(FOdd0_IFEven1\\)&#45;&gt;\\(FOdd0_Odd1\\) -->\n<g id=\"edge9\" class=\"edge\">\n<title>\\(FOdd0_IFEven1\\)&#45;&gt;\\(FOdd0_Odd1\\)</title>\n<path fill=\"none\" stroke=\"black\" d=\"M659.6,-98.01C648.99,-101.37 638.34,-105.17 628.46,-109.39 622.14,-112.1 615.71,-115.19 609.36,-118.48\"/>\n<polygon fill=\"black\" stroke=\"black\" points=\"607.3,-115.61 600.14,-123.42 610.6,-121.78 607.3,-115.61\"/>\n<text text-anchor=\"middle\" x=\"633.96\" y=\"-113.19\" font-family=\"Times,serif\" font-size=\"14.00\">1 </text>\n</g>\n<!-- \\(FOdd0_Odd1\\)&#45;&gt;\\(Ieven0_Odd1\\) -->\n<g id=\"edge6\" class=\"edge\">\n<title>\\(FOdd0_Odd1\\)&#45;&gt;\\(Ieven0_Odd1\\)</title>\n<path fill=\"none\" stroke=\"black\" d=\"M475.61,-139.66C464.94,-137.99 453.95,-137.31 443.48,-138.39 440.42,-138.71 437.3,-139.09 434.17,-139.52\"/>\n<polygon fill=\"black\" stroke=\"black\" points=\"433.45,-136.09 424.1,-141.07 434.52,-143.01 433.45,-136.09\"/>\n<text text-anchor=\"middle\" x=\"448.98\" y=\"-142.19\" font-family=\"Times,serif\" font-size=\"14.00\">0 </text>\n</g>\n<!-- \\(FOdd0_Odd1\\)&#45;&gt;\\(FOdd0_IFEven1\\) -->\n<g id=\"edge4\" class=\"edge\">\n<title>\\(FOdd0_Odd1\\)&#45;&gt;\\(FOdd0_IFEven1\\)</title>\n<path fill=\"none\" stroke=\"black\" d=\"M607.67,-140.39C618.39,-136.67 629.31,-132.62 639.46,-128.39 645.26,-125.98 651.2,-123.36 657.12,-120.63\"/>\n<polygon fill=\"black\" stroke=\"black\" points=\"658.86,-123.68 666.42,-116.26 655.88,-117.34 658.86,-123.68\"/>\n<text text-anchor=\"middle\" x=\"633.96\" y=\"-136.19\" font-family=\"Times,serif\" font-size=\"14.00\">1 </text>\n</g>\n</g>\n</svg>\n",
            "text/plain": [
              "<graphviz.graphs.Digraph at 0x79e4e8198640>"
            ]
          },
          "metadata": {},
          "execution_count": 8
        }
      ]
    },
    {
      "cell_type": "code",
      "source": [
        "dotObj_dfa(Odd0s_Even1s, STATENAME_MAXSIZE=1)"
      ],
      "metadata": {
        "id": "MlWrYLmeINU2",
        "outputId": "16a3ef44-a649-4251-954c-1ab58c841650",
        "colab": {
          "base_uri": "https://localhost:8080/",
          "height": 165
        }
      },
      "execution_count": 9,
      "outputs": [
        {
          "output_type": "execute_result",
          "data": {
            "image/svg+xml": "<?xml version=\"1.0\" encoding=\"UTF-8\" standalone=\"no\"?>\n<!DOCTYPE svg PUBLIC \"-//W3C//DTD SVG 1.1//EN\"\n \"http://www.w3.org/Graphics/SVG/1.1/DTD/svg11.dtd\">\n<!-- Generated by graphviz version 2.43.0 (0)\n -->\n<!-- Title: %3 Pages: 1 -->\n<svg width=\"446pt\" height=\"108pt\"\n viewBox=\"0.00 0.00 445.98 108.50\" xmlns=\"http://www.w3.org/2000/svg\" xmlns:xlink=\"http://www.w3.org/1999/xlink\">\n<g id=\"graph0\" class=\"graph\" transform=\"scale(1 1) rotate(0) translate(4 104.5)\">\n<title>%3</title>\n<polygon fill=\"white\" stroke=\"transparent\" points=\"-4,4 -4,-104.5 441.98,-104.5 441.98,4 -4,4\"/>\n<!-- EMPTY -->\n<g id=\"node1\" class=\"node\">\n<title>EMPTY</title>\n</g>\n<!-- St2 -->\n<g id=\"node4\" class=\"node\">\n<title>St2</title>\n<ellipse fill=\"none\" stroke=\"black\" cx=\"117.75\" cy=\"-26.75\" rx=\"22.96\" ry=\"22.96\"/>\n<ellipse fill=\"none\" stroke=\"black\" cx=\"117.75\" cy=\"-26.75\" rx=\"27\" ry=\"27\"/>\n<text text-anchor=\"middle\" x=\"117.75\" y=\"-23.05\" font-family=\"Times,serif\" font-size=\"14.00\">St2</text>\n</g>\n<!-- EMPTY&#45;&gt;St2 -->\n<g id=\"edge1\" class=\"edge\">\n<title>EMPTY&#45;&gt;St2</title>\n<path fill=\"none\" stroke=\"black\" d=\"M54.15,-26.75C62.45,-26.75 71.79,-26.75 80.67,-26.75\"/>\n<polygon fill=\"black\" stroke=\"black\" points=\"80.79,-30.25 90.79,-26.75 80.79,-23.25 80.79,-30.25\"/>\n</g>\n<!-- St3 -->\n<g id=\"node2\" class=\"node\">\n<title>St3</title>\n<ellipse fill=\"none\" stroke=\"black\" cx=\"214.24\" cy=\"-71.75\" rx=\"23\" ry=\"23\"/>\n<text text-anchor=\"middle\" x=\"214.24\" y=\"-68.05\" font-family=\"Times,serif\" font-size=\"14.00\">St3</text>\n</g>\n<!-- St3&#45;&gt;St2 -->\n<g id=\"edge7\" class=\"edge\">\n<title>St3&#45;&gt;St2</title>\n<path fill=\"none\" stroke=\"black\" d=\"M196.87,-56.5C190.07,-50.85 181.82,-44.84 173.5,-40.75 167.54,-37.83 160.92,-35.47 154.39,-33.59\"/>\n<polygon fill=\"black\" stroke=\"black\" points=\"154.88,-30.1 144.32,-31 153.13,-36.88 154.88,-30.1\"/>\n<text text-anchor=\"middle\" x=\"168\" y=\"-44.55\" font-family=\"Times,serif\" font-size=\"14.00\">1 </text>\n</g>\n<!-- St1 -->\n<g id=\"node5\" class=\"node\">\n<title>St1</title>\n<ellipse fill=\"none\" stroke=\"black\" cx=\"310.74\" cy=\"-73.75\" rx=\"22.96\" ry=\"22.96\"/>\n<ellipse fill=\"none\" stroke=\"black\" cx=\"310.74\" cy=\"-73.75\" rx=\"27\" ry=\"27\"/>\n<text text-anchor=\"middle\" x=\"310.74\" y=\"-70.05\" font-family=\"Times,serif\" font-size=\"14.00\">St1</text>\n</g>\n<!-- St3&#45;&gt;St1 -->\n<g id=\"edge3\" class=\"edge\">\n<title>St3&#45;&gt;St1</title>\n<path fill=\"none\" stroke=\"black\" d=\"M237.11,-72.33C242.92,-72.47 249.19,-72.62 254.99,-72.75 261.02,-72.88 267.42,-73.01 273.64,-73.12\"/>\n<polygon fill=\"black\" stroke=\"black\" points=\"273.78,-76.63 283.84,-73.31 273.91,-69.63 273.78,-76.63\"/>\n<text text-anchor=\"middle\" x=\"260.49\" y=\"-76.55\" font-family=\"Times,serif\" font-size=\"14.00\">0 </text>\n</g>\n<!-- St0 -->\n<g id=\"node3\" class=\"node\">\n<title>St0</title>\n<ellipse fill=\"none\" stroke=\"black\" cx=\"411.24\" cy=\"-26.75\" rx=\"22.96\" ry=\"22.96\"/>\n<ellipse fill=\"none\" stroke=\"black\" cx=\"411.24\" cy=\"-26.75\" rx=\"27\" ry=\"27\"/>\n<text text-anchor=\"middle\" x=\"411.24\" y=\"-23.05\" font-family=\"Times,serif\" font-size=\"14.00\">St0</text>\n</g>\n<!-- St0&#45;&gt;St2 -->\n<g id=\"edge8\" class=\"edge\">\n<title>St0&#45;&gt;St2</title>\n<path fill=\"none\" stroke=\"black\" d=\"M385.04,-20.67C354.39,-13.98 301.04,-4.55 254.99,-7.75 220.56,-10.14 181.58,-15.89 154.16,-20.44\"/>\n<polygon fill=\"black\" stroke=\"black\" points=\"153.53,-16.99 144.25,-22.11 154.69,-23.9 153.53,-16.99\"/>\n<text text-anchor=\"middle\" x=\"260.49\" y=\"-11.55\" font-family=\"Times,serif\" font-size=\"14.00\">0 </text>\n</g>\n<!-- St0&#45;&gt;St1 -->\n<g id=\"edge9\" class=\"edge\">\n<title>St0&#45;&gt;St1</title>\n<path fill=\"none\" stroke=\"black\" d=\"M384.7,-31.08C375.24,-33.25 364.59,-36.37 355.49,-40.75 350.11,-43.34 344.73,-46.64 339.69,-50.15\"/>\n<polygon fill=\"black\" stroke=\"black\" points=\"337.51,-47.41 331.56,-56.17 341.68,-53.03 337.51,-47.41\"/>\n<text text-anchor=\"middle\" x=\"360.99\" y=\"-44.55\" font-family=\"Times,serif\" font-size=\"14.00\">1 </text>\n</g>\n<!-- St2&#45;&gt;St3 -->\n<g id=\"edge2\" class=\"edge\">\n<title>St2&#45;&gt;St3</title>\n<path fill=\"none\" stroke=\"black\" d=\"M138.53,-44.41C145.67,-50.02 154.06,-55.78 162.5,-59.75 168.46,-62.55 175.15,-64.73 181.65,-66.42\"/>\n<polygon fill=\"black\" stroke=\"black\" points=\"181.07,-69.87 191.6,-68.67 182.62,-63.05 181.07,-69.87\"/>\n<text text-anchor=\"middle\" x=\"168\" y=\"-67.55\" font-family=\"Times,serif\" font-size=\"14.00\">1 </text>\n</g>\n<!-- St2&#45;&gt;St0 -->\n<g id=\"edge5\" class=\"edge\">\n<title>St2&#45;&gt;St0</title>\n<path fill=\"none\" stroke=\"black\" d=\"M144.62,-26.75C196.8,-26.75 314.76,-26.75 374.35,-26.75\"/>\n<polygon fill=\"black\" stroke=\"black\" points=\"374.43,-30.25 384.43,-26.75 374.43,-23.25 374.43,-30.25\"/>\n<text text-anchor=\"middle\" x=\"260.49\" y=\"-30.55\" font-family=\"Times,serif\" font-size=\"14.00\">0 </text>\n</g>\n<!-- St1&#45;&gt;St3 -->\n<g id=\"edge6\" class=\"edge\">\n<title>St1&#45;&gt;St3</title>\n<path fill=\"none\" stroke=\"black\" d=\"M286.77,-61.02C280.25,-58.03 273.01,-55.28 265.99,-53.75 258.46,-52.11 250.51,-53.39 243.19,-55.89\"/>\n<polygon fill=\"black\" stroke=\"black\" points=\"241.57,-52.78 233.71,-59.88 244.29,-59.23 241.57,-52.78\"/>\n<text text-anchor=\"middle\" x=\"260.49\" y=\"-57.55\" font-family=\"Times,serif\" font-size=\"14.00\">0 </text>\n</g>\n<!-- St1&#45;&gt;St0 -->\n<g id=\"edge4\" class=\"edge\">\n<title>St1&#45;&gt;St0</title>\n<path fill=\"none\" stroke=\"black\" d=\"M337.27,-69.42C346.74,-67.25 357.38,-64.13 366.49,-59.75 371.87,-57.16 377.24,-53.86 382.29,-50.34\"/>\n<polygon fill=\"black\" stroke=\"black\" points=\"384.46,-53.09 390.41,-44.32 380.3,-47.46 384.46,-53.09\"/>\n<text text-anchor=\"middle\" x=\"360.99\" y=\"-67.55\" font-family=\"Times,serif\" font-size=\"14.00\">1 </text>\n</g>\n</g>\n</svg>\n",
            "text/plain": [
              "<graphviz.graphs.Digraph at 0x79e4e8198730>"
            ]
          },
          "metadata": {},
          "execution_count": 9
        }
      ]
    },
    {
      "cell_type": "code",
      "source": [],
      "metadata": {
        "id": "Raiz1zvyISum"
      },
      "execution_count": 9,
      "outputs": []
    },
    {
      "cell_type": "markdown",
      "metadata": {
        "id": "UTqaVdSzBg9n"
      },
      "source": [
        "# Mod-3 DFA, MSB-first\n",
        "\n",
        "(But, does it matter whether MSB-first or LSB-first?)\n",
        "\n"
      ]
    },
    {
      "cell_type": "code",
      "execution_count": 10,
      "metadata": {
        "run_control": {
          "frozen": false,
          "read_only": false
        },
        "id": "dOfporKUBg9o",
        "outputId": "9f97a59c-7e9d-4e39-dba1-1f6eb106a773",
        "colab": {
          "base_uri": "https://localhost:8080/",
          "height": 137
        }
      },
      "outputs": [
        {
          "output_type": "execute_result",
          "data": {
            "image/svg+xml": "<?xml version=\"1.0\" encoding=\"UTF-8\" standalone=\"no\"?>\n<!DOCTYPE svg PUBLIC \"-//W3C//DTD SVG 1.1//EN\"\n \"http://www.w3.org/Graphics/SVG/1.1/DTD/svg11.dtd\">\n<!-- Generated by graphviz version 2.43.0 (0)\n -->\n<!-- Title: %3 Pages: 1 -->\n<svg width=\"319pt\" height=\"87pt\"\n viewBox=\"0.00 0.00 319.29 86.70\" xmlns=\"http://www.w3.org/2000/svg\" xmlns:xlink=\"http://www.w3.org/1999/xlink\">\n<g id=\"graph0\" class=\"graph\" transform=\"scale(1 1) rotate(0) translate(4 82.7)\">\n<title>%3</title>\n<polygon fill=\"white\" stroke=\"transparent\" points=\"-4,4 -4,-82.7 315.29,-82.7 315.29,4 -4,4\"/>\n<!-- EMPTY -->\n<g id=\"node1\" class=\"node\">\n<title>EMPTY</title>\n</g>\n<!-- IF -->\n<g id=\"node4\" class=\"node\">\n<title>IF</title>\n<ellipse fill=\"none\" stroke=\"black\" cx=\"113.85\" cy=\"-22.85\" rx=\"18.72\" ry=\"18.72\"/>\n<ellipse fill=\"none\" stroke=\"black\" cx=\"113.85\" cy=\"-22.85\" rx=\"22.7\" ry=\"22.7\"/>\n<text text-anchor=\"middle\" x=\"113.85\" y=\"-19.15\" font-family=\"Times,serif\" font-size=\"14.00\">IF</text>\n</g>\n<!-- EMPTY&#45;&gt;IF -->\n<g id=\"edge1\" class=\"edge\">\n<title>EMPTY&#45;&gt;IF</title>\n<path fill=\"none\" stroke=\"black\" d=\"M54.38,-22.85C62.68,-22.85 71.94,-22.85 80.6,-22.85\"/>\n<polygon fill=\"black\" stroke=\"black\" points=\"80.76,-26.35 90.76,-22.85 80.76,-19.35 80.76,-26.35\"/>\n</g>\n<!-- S2 -->\n<g id=\"node2\" class=\"node\">\n<title>S2</title>\n<ellipse fill=\"none\" stroke=\"black\" cx=\"291.14\" cy=\"-22.85\" rx=\"20.3\" ry=\"20.3\"/>\n<text text-anchor=\"middle\" x=\"291.14\" y=\"-19.15\" font-family=\"Times,serif\" font-size=\"14.00\">S2</text>\n</g>\n<!-- S2&#45;&gt;S2 -->\n<g id=\"edge7\" class=\"edge\">\n<title>S2&#45;&gt;S2</title>\n<path fill=\"none\" stroke=\"black\" d=\"M283.59,-41.69C282.31,-51.79 284.82,-61 291.14,-61 295.19,-61 297.67,-57.22 298.6,-51.85\"/>\n<polygon fill=\"black\" stroke=\"black\" points=\"302.1,-51.72 298.69,-41.69 295.1,-51.66 302.1,-51.72\"/>\n<text text-anchor=\"middle\" x=\"291.14\" y=\"-64.8\" font-family=\"Times,serif\" font-size=\"14.00\">1 </text>\n</g>\n<!-- S1 -->\n<g id=\"node3\" class=\"node\">\n<title>S1</title>\n<ellipse fill=\"none\" stroke=\"black\" cx=\"203.84\" cy=\"-22.85\" rx=\"20.3\" ry=\"20.3\"/>\n<text text-anchor=\"middle\" x=\"203.84\" y=\"-19.15\" font-family=\"Times,serif\" font-size=\"14.00\">S1</text>\n</g>\n<!-- S2&#45;&gt;S1 -->\n<g id=\"edge6\" class=\"edge\">\n<title>S2&#45;&gt;S1</title>\n<path fill=\"none\" stroke=\"black\" d=\"M274.45,-11.33C265.21,-5.9 253.18,-1.15 241.99,-3.85 238.06,-4.79 234.08,-6.23 230.26,-7.9\"/>\n<polygon fill=\"black\" stroke=\"black\" points=\"228.62,-4.81 221.2,-12.37 231.72,-11.08 228.62,-4.81\"/>\n<text text-anchor=\"middle\" x=\"247.49\" y=\"-7.65\" font-family=\"Times,serif\" font-size=\"14.00\">0 </text>\n</g>\n<!-- S1&#45;&gt;S2 -->\n<g id=\"edge4\" class=\"edge\">\n<title>S1&#45;&gt;S2</title>\n<path fill=\"none\" stroke=\"black\" d=\"M224.2,-22.85C235,-22.85 248.67,-22.85 260.76,-22.85\"/>\n<polygon fill=\"black\" stroke=\"black\" points=\"260.86,-26.35 270.86,-22.85 260.86,-19.35 260.86,-26.35\"/>\n<text text-anchor=\"middle\" x=\"247.49\" y=\"-26.65\" font-family=\"Times,serif\" font-size=\"14.00\">0 </text>\n</g>\n<!-- S1&#45;&gt;IF -->\n<g id=\"edge5\" class=\"edge\">\n<title>S1&#45;&gt;IF</title>\n<path fill=\"none\" stroke=\"black\" d=\"M186.49,-12.37C180.24,-8.95 172.88,-5.58 165.7,-3.85 158.14,-2.03 150.17,-3.35 142.84,-5.99\"/>\n<polygon fill=\"black\" stroke=\"black\" points=\"141.06,-2.95 133.34,-10.22 143.9,-9.35 141.06,-2.95\"/>\n<text text-anchor=\"middle\" x=\"160.2\" y=\"-7.65\" font-family=\"Times,serif\" font-size=\"14.00\">1 </text>\n</g>\n<!-- IF&#45;&gt;S1 -->\n<g id=\"edge3\" class=\"edge\">\n<title>IF&#45;&gt;S1</title>\n<path fill=\"none\" stroke=\"black\" d=\"M137.05,-22.85C148.05,-22.85 161.47,-22.85 173.31,-22.85\"/>\n<polygon fill=\"black\" stroke=\"black\" points=\"173.64,-26.35 183.64,-22.85 173.64,-19.35 173.64,-26.35\"/>\n<text text-anchor=\"middle\" x=\"160.2\" y=\"-26.65\" font-family=\"Times,serif\" font-size=\"14.00\">1 </text>\n</g>\n<!-- IF&#45;&gt;IF -->\n<g id=\"edge2\" class=\"edge\">\n<title>IF&#45;&gt;IF</title>\n<path fill=\"none\" stroke=\"black\" d=\"M106.5,-44.7C105.69,-54.84 108.15,-63.7 113.85,-63.7 117.5,-63.7 119.82,-60.06 120.8,-54.78\"/>\n<polygon fill=\"black\" stroke=\"black\" points=\"124.31,-54.83 121.2,-44.7 117.31,-54.56 124.31,-54.83\"/>\n<text text-anchor=\"middle\" x=\"113.85\" y=\"-67.5\" font-family=\"Times,serif\" font-size=\"14.00\">0 </text>\n</g>\n</g>\n</svg>\n",
            "text/plain": [
              "<graphviz.graphs.Digraph at 0x79e4e81982b0>"
            ]
          },
          "metadata": {},
          "execution_count": 10
        }
      ],
      "source": [
        "## KEEP DRAWING WHILE YOU FILL !!\n",
        "\n",
        "DFA3 = md2mc('''DFA\n",
        "\n",
        "IF : 0 -> IF\n",
        "IF : 1 -> S1\n",
        "\n",
        "S1 : 0 -> S2\n",
        "S1 : 1 -> IF\n",
        "\n",
        "S2 : 0 -> S1\n",
        "S2 : 1 -> S2\n",
        "\n",
        "\n",
        "''')\n",
        "\n",
        "dotObj_dfa(DFA3)"
      ]
    },
    {
      "cell_type": "code",
      "source": [
        "# MSB-first isn't divisible by 3 - obtained by complementing the above one\n",
        "\n",
        "not_DFA3 = comp_dfa(DFA3)\n",
        "dotObj_dfa(not_DFA3)"
      ],
      "metadata": {
        "id": "MM4580JHE7xT",
        "outputId": "f79e6763-21ec-47e6-a1f2-d1d94f104651",
        "colab": {
          "base_uri": "https://localhost:8080/",
          "height": 140
        }
      },
      "execution_count": 11,
      "outputs": [
        {
          "output_type": "execute_result",
          "data": {
            "image/svg+xml": "<?xml version=\"1.0\" encoding=\"UTF-8\" standalone=\"no\"?>\n<!DOCTYPE svg PUBLIC \"-//W3C//DTD SVG 1.1//EN\"\n \"http://www.w3.org/Graphics/SVG/1.1/DTD/svg11.dtd\">\n<!-- Generated by graphviz version 2.43.0 (0)\n -->\n<!-- Title: %3 Pages: 1 -->\n<svg width=\"327pt\" height=\"89pt\"\n viewBox=\"0.00 0.00 327.29 89.30\" xmlns=\"http://www.w3.org/2000/svg\" xmlns:xlink=\"http://www.w3.org/1999/xlink\">\n<g id=\"graph0\" class=\"graph\" transform=\"scale(1 1) rotate(0) translate(4 85.3)\">\n<title>%3</title>\n<polygon fill=\"white\" stroke=\"transparent\" points=\"-4,4 -4,-85.3 323.29,-85.3 323.29,4 -4,4\"/>\n<!-- EMPTY -->\n<g id=\"node1\" class=\"node\">\n<title>EMPTY</title>\n</g>\n<!-- IF -->\n<g id=\"node2\" class=\"node\">\n<title>IF</title>\n<ellipse fill=\"none\" stroke=\"black\" cx=\"109.85\" cy=\"-24.15\" rx=\"18.7\" ry=\"18.7\"/>\n<text text-anchor=\"middle\" x=\"109.85\" y=\"-20.45\" font-family=\"Times,serif\" font-size=\"14.00\">IF</text>\n</g>\n<!-- EMPTY&#45;&gt;IF -->\n<g id=\"edge1\" class=\"edge\">\n<title>EMPTY&#45;&gt;IF</title>\n<path fill=\"none\" stroke=\"black\" d=\"M54.03,-24.15C62.56,-24.15 72.08,-24.15 80.75,-24.15\"/>\n<polygon fill=\"black\" stroke=\"black\" points=\"80.8,-27.65 90.8,-24.15 80.8,-20.65 80.8,-27.65\"/>\n</g>\n<!-- IF&#45;&gt;IF -->\n<g id=\"edge2\" class=\"edge\">\n<title>IF&#45;&gt;IF</title>\n<path fill=\"none\" stroke=\"black\" d=\"M103.42,-41.97C102.22,-51.87 104.36,-61 109.85,-61 113.28,-61 115.4,-57.43 116.22,-52.34\"/>\n<polygon fill=\"black\" stroke=\"black\" points=\"119.72,-51.99 116.28,-41.97 112.72,-51.95 119.72,-51.99\"/>\n<text text-anchor=\"middle\" x=\"109.85\" y=\"-64.8\" font-family=\"Times,serif\" font-size=\"14.00\">0 </text>\n</g>\n<!-- S1 -->\n<g id=\"node4\" class=\"node\">\n<title>S1</title>\n<ellipse fill=\"none\" stroke=\"black\" cx=\"199.84\" cy=\"-24.15\" rx=\"20.27\" ry=\"20.27\"/>\n<ellipse fill=\"none\" stroke=\"black\" cx=\"199.84\" cy=\"-24.15\" rx=\"24.3\" ry=\"24.3\"/>\n<text text-anchor=\"middle\" x=\"199.84\" y=\"-20.45\" font-family=\"Times,serif\" font-size=\"14.00\">S1</text>\n</g>\n<!-- IF&#45;&gt;S1 -->\n<g id=\"edge3\" class=\"edge\">\n<title>IF&#45;&gt;S1</title>\n<path fill=\"none\" stroke=\"black\" d=\"M129.08,-24.15C139.62,-24.15 153.21,-24.15 165.59,-24.15\"/>\n<polygon fill=\"black\" stroke=\"black\" points=\"165.61,-27.65 175.61,-24.15 165.61,-20.65 165.61,-27.65\"/>\n<text text-anchor=\"middle\" x=\"152.2\" y=\"-27.95\" font-family=\"Times,serif\" font-size=\"14.00\">1 </text>\n</g>\n<!-- S2 -->\n<g id=\"node3\" class=\"node\">\n<title>S2</title>\n<ellipse fill=\"none\" stroke=\"black\" cx=\"295.14\" cy=\"-24.15\" rx=\"20.27\" ry=\"20.27\"/>\n<ellipse fill=\"none\" stroke=\"black\" cx=\"295.14\" cy=\"-24.15\" rx=\"24.3\" ry=\"24.3\"/>\n<text text-anchor=\"middle\" x=\"295.14\" y=\"-20.45\" font-family=\"Times,serif\" font-size=\"14.00\">S2</text>\n</g>\n<!-- S2&#45;&gt;S2 -->\n<g id=\"edge7\" class=\"edge\">\n<title>S2&#45;&gt;S2</title>\n<path fill=\"none\" stroke=\"black\" d=\"M286.65,-47.13C285.84,-57.41 288.67,-66.3 295.14,-66.3 299.29,-66.3 301.94,-62.65 303.09,-57.32\"/>\n<polygon fill=\"black\" stroke=\"black\" points=\"306.6,-57.3 303.63,-47.13 299.61,-56.93 306.6,-57.3\"/>\n<text text-anchor=\"middle\" x=\"295.14\" y=\"-70.1\" font-family=\"Times,serif\" font-size=\"14.00\">1 </text>\n</g>\n<!-- S2&#45;&gt;S1 -->\n<g id=\"edge6\" class=\"edge\">\n<title>S2&#45;&gt;S1</title>\n<path fill=\"none\" stroke=\"black\" d=\"M273.82,-12.66C267.37,-9.59 260.06,-6.7 252.99,-5.15 245.49,-3.5 237.6,-4.72 230.29,-7.19\"/>\n<polygon fill=\"black\" stroke=\"black\" points=\"228.66,-4.08 220.78,-11.16 231.36,-10.53 228.66,-4.08\"/>\n<text text-anchor=\"middle\" x=\"247.49\" y=\"-8.95\" font-family=\"Times,serif\" font-size=\"14.00\">0 </text>\n</g>\n<!-- S1&#45;&gt;IF -->\n<g id=\"edge5\" class=\"edge\">\n<title>S1&#45;&gt;IF</title>\n<path fill=\"none\" stroke=\"black\" d=\"M179.34,-11.15C169.67,-6.23 157.73,-2.4 146.7,-5.15 142.73,-6.13 138.73,-7.65 134.9,-9.4\"/>\n<polygon fill=\"black\" stroke=\"black\" points=\"133.15,-6.36 125.89,-14.08 136.37,-12.58 133.15,-6.36\"/>\n<text text-anchor=\"middle\" x=\"152.2\" y=\"-8.95\" font-family=\"Times,serif\" font-size=\"14.00\">1 </text>\n</g>\n<!-- S1&#45;&gt;S2 -->\n<g id=\"edge4\" class=\"edge\">\n<title>S1&#45;&gt;S2</title>\n<path fill=\"none\" stroke=\"black\" d=\"M224.39,-24.15C235.41,-24.15 248.73,-24.15 260.77,-24.15\"/>\n<polygon fill=\"black\" stroke=\"black\" points=\"260.93,-27.65 270.93,-24.15 260.93,-20.65 260.93,-27.65\"/>\n<text text-anchor=\"middle\" x=\"247.49\" y=\"-27.95\" font-family=\"Times,serif\" font-size=\"14.00\">0 </text>\n</g>\n</g>\n</svg>\n",
            "text/plain": [
              "<graphviz.graphs.Digraph at 0x79e4e8198b20>"
            ]
          },
          "metadata": {},
          "execution_count": 11
        }
      ]
    },
    {
      "cell_type": "markdown",
      "source": [
        "Finally, (Odd0 or Even1) AND (not mod div by 3) - shows the power of Boolean operations on DFA"
      ],
      "metadata": {
        "id": "ThMlXVCZKNuQ"
      }
    },
    {
      "cell_type": "code",
      "source": [
        "O0_or_E1_and_nm3 = intersect_dfa(Odd0s_Even1s, not_DFA3)\n",
        "dotObj_dfa(O0_or_E1_and_nm3, STATENAME_MAXSIZE=1)"
      ],
      "metadata": {
        "id": "7twRklspFk2t",
        "outputId": "0c4bbc17-a9c8-4911-9380-8b27fcdeb2b4",
        "colab": {
          "base_uri": "https://localhost:8080/",
          "height": 222
        }
      },
      "execution_count": 13,
      "outputs": [
        {
          "output_type": "execute_result",
          "data": {
            "image/svg+xml": "<?xml version=\"1.0\" encoding=\"UTF-8\" standalone=\"no\"?>\n<!DOCTYPE svg PUBLIC \"-//W3C//DTD SVG 1.1//EN\"\n \"http://www.w3.org/Graphics/SVG/1.1/DTD/svg11.dtd\">\n<!-- Generated by graphviz version 2.43.0 (0)\n -->\n<!-- Title: %3 Pages: 1 -->\n<svg width=\"1226pt\" height=\"136pt\"\n viewBox=\"0.00 0.00 1225.55 135.75\" xmlns=\"http://www.w3.org/2000/svg\" xmlns:xlink=\"http://www.w3.org/1999/xlink\">\n<g id=\"graph0\" class=\"graph\" transform=\"scale(1 1) rotate(0) translate(4 131.75)\">\n<title>%3</title>\n<polygon fill=\"white\" stroke=\"transparent\" points=\"-4,4 -4,-131.75 1221.55,-131.75 1221.55,4 -4,4\"/>\n<!-- EMPTY -->\n<g id=\"node1\" class=\"node\">\n<title>EMPTY</title>\n</g>\n<!-- St6 -->\n<g id=\"node7\" class=\"node\">\n<title>St6</title>\n<ellipse fill=\"none\" stroke=\"black\" cx=\"113.75\" cy=\"-54\" rx=\"23\" ry=\"23\"/>\n<text text-anchor=\"middle\" x=\"113.75\" y=\"-50.3\" font-family=\"Times,serif\" font-size=\"14.00\">St6</text>\n</g>\n<!-- EMPTY&#45;&gt;St6 -->\n<g id=\"edge1\" class=\"edge\">\n<title>EMPTY&#45;&gt;St6</title>\n<path fill=\"none\" stroke=\"black\" d=\"M54.35,-54C62.71,-54 72.05,-54 80.76,-54\"/>\n<polygon fill=\"black\" stroke=\"black\" points=\"80.97,-57.5 90.97,-54 80.97,-50.5 80.97,-57.5\"/>\n</g>\n<!-- St10 -->\n<g id=\"node2\" class=\"node\">\n<title>St10</title>\n<ellipse fill=\"none\" stroke=\"black\" cx=\"210.14\" cy=\"-101\" rx=\"26.8\" ry=\"26.8\"/>\n<text text-anchor=\"middle\" x=\"210.14\" y=\"-97.3\" font-family=\"Times,serif\" font-size=\"14.00\">St10</text>\n</g>\n<!-- St10&#45;&gt;St6 -->\n<g id=\"edge10\" class=\"edge\">\n<title>St10&#45;&gt;St6</title>\n<path fill=\"none\" stroke=\"black\" d=\"M188.02,-85.45C181.06,-80.75 173.15,-75.82 165.5,-72 159.2,-68.85 152.23,-66 145.51,-63.54\"/>\n<polygon fill=\"black\" stroke=\"black\" points=\"146.56,-60.2 135.97,-60.23 144.27,-66.82 146.56,-60.2\"/>\n<text text-anchor=\"middle\" x=\"160\" y=\"-75.8\" font-family=\"Times,serif\" font-size=\"14.00\">1 </text>\n</g>\n<!-- St5 -->\n<g id=\"node11\" class=\"node\">\n<title>St5</title>\n<ellipse fill=\"none\" stroke=\"black\" cx=\"310.54\" cy=\"-101\" rx=\"22.96\" ry=\"22.96\"/>\n<ellipse fill=\"none\" stroke=\"black\" cx=\"310.54\" cy=\"-101\" rx=\"27\" ry=\"27\"/>\n<text text-anchor=\"middle\" x=\"310.54\" y=\"-97.3\" font-family=\"Times,serif\" font-size=\"14.00\">St5</text>\n</g>\n<!-- St10&#45;&gt;St5 -->\n<g id=\"edge24\" class=\"edge\">\n<title>St10&#45;&gt;St5</title>\n<path fill=\"none\" stroke=\"black\" d=\"M237,-101C248.09,-101 261.25,-101 273.3,-101\"/>\n<polygon fill=\"black\" stroke=\"black\" points=\"273.52,-104.5 283.52,-101 273.52,-97.5 273.52,-104.5\"/>\n<text text-anchor=\"middle\" x=\"260.29\" y=\"-104.8\" font-family=\"Times,serif\" font-size=\"14.00\">0 </text>\n</g>\n<!-- St3 -->\n<g id=\"node3\" class=\"node\">\n<title>St3</title>\n<ellipse fill=\"none\" stroke=\"black\" cx=\"700.52\" cy=\"-99\" rx=\"23\" ry=\"23\"/>\n<text text-anchor=\"middle\" x=\"700.52\" y=\"-95.3\" font-family=\"Times,serif\" font-size=\"14.00\">St3</text>\n</g>\n<!-- St9 -->\n<g id=\"node6\" class=\"node\">\n<title>St9</title>\n<ellipse fill=\"none\" stroke=\"black\" cx=\"608.03\" cy=\"-101\" rx=\"23\" ry=\"23\"/>\n<text text-anchor=\"middle\" x=\"608.03\" y=\"-97.3\" font-family=\"Times,serif\" font-size=\"14.00\">St9</text>\n</g>\n<!-- St3&#45;&gt;St9 -->\n<g id=\"edge2\" class=\"edge\">\n<title>St3&#45;&gt;St9</title>\n<path fill=\"none\" stroke=\"black\" d=\"M680.47,-88.06C671.04,-83.92 659.43,-80.7 648.78,-83 645.08,-83.8 641.31,-84.97 637.64,-86.34\"/>\n<polygon fill=\"black\" stroke=\"black\" points=\"636.12,-83.18 628.27,-90.3 638.84,-89.63 636.12,-83.18\"/>\n<text text-anchor=\"middle\" x=\"654.28\" y=\"-86.8\" font-family=\"Times,serif\" font-size=\"14.00\">0 </text>\n</g>\n<!-- St1 -->\n<g id=\"node8\" class=\"node\">\n<title>St1</title>\n<ellipse fill=\"none\" stroke=\"black\" cx=\"797.02\" cy=\"-101\" rx=\"22.96\" ry=\"22.96\"/>\n<ellipse fill=\"none\" stroke=\"black\" cx=\"797.02\" cy=\"-101\" rx=\"27\" ry=\"27\"/>\n<text text-anchor=\"middle\" x=\"797.02\" y=\"-97.3\" font-family=\"Times,serif\" font-size=\"14.00\">St1</text>\n</g>\n<!-- St3&#45;&gt;St1 -->\n<g id=\"edge16\" class=\"edge\">\n<title>St3&#45;&gt;St1</title>\n<path fill=\"none\" stroke=\"black\" d=\"M723.44,-99.46C734.34,-99.69 747.8,-99.98 760.16,-100.24\"/>\n<polygon fill=\"black\" stroke=\"black\" points=\"760.13,-103.74 770.2,-100.45 760.27,-96.74 760.13,-103.74\"/>\n<text text-anchor=\"middle\" x=\"746.77\" y=\"-103.8\" font-family=\"Times,serif\" font-size=\"14.00\">1 </text>\n</g>\n<!-- St11 -->\n<g id=\"node4\" class=\"node\">\n<title>St11</title>\n<ellipse fill=\"none\" stroke=\"black\" cx=\"997.91\" cy=\"-101\" rx=\"26.8\" ry=\"26.8\"/>\n<text text-anchor=\"middle\" x=\"997.91\" y=\"-97.3\" font-family=\"Times,serif\" font-size=\"14.00\">St11</text>\n</g>\n<!-- St8 -->\n<g id=\"node9\" class=\"node\">\n<title>St8</title>\n<ellipse fill=\"none\" stroke=\"black\" cx=\"897.51\" cy=\"-101\" rx=\"22.96\" ry=\"22.96\"/>\n<ellipse fill=\"none\" stroke=\"black\" cx=\"897.51\" cy=\"-101\" rx=\"27\" ry=\"27\"/>\n<text text-anchor=\"middle\" x=\"897.51\" y=\"-97.3\" font-family=\"Times,serif\" font-size=\"14.00\">St8</text>\n</g>\n<!-- St11&#45;&gt;St8 -->\n<g id=\"edge11\" class=\"edge\">\n<title>St11&#45;&gt;St8</title>\n<path fill=\"none\" stroke=\"black\" d=\"M973.42,-89.35C967.04,-86.74 960.02,-84.34 953.26,-83 945.84,-81.53 938.03,-82.5 930.7,-84.59\"/>\n<polygon fill=\"black\" stroke=\"black\" points=\"929.33,-81.37 921.09,-88.03 931.69,-87.96 929.33,-81.37\"/>\n<text text-anchor=\"middle\" x=\"947.76\" y=\"-86.8\" font-family=\"Times,serif\" font-size=\"14.00\">1 </text>\n</g>\n<!-- St4 -->\n<g id=\"node10\" class=\"node\">\n<title>St4</title>\n<ellipse fill=\"none\" stroke=\"black\" cx=\"1098.31\" cy=\"-101\" rx=\"22.96\" ry=\"22.96\"/>\n<ellipse fill=\"none\" stroke=\"black\" cx=\"1098.31\" cy=\"-101\" rx=\"27\" ry=\"27\"/>\n<text text-anchor=\"middle\" x=\"1098.31\" y=\"-97.3\" font-family=\"Times,serif\" font-size=\"14.00\">St4</text>\n</g>\n<!-- St11&#45;&gt;St4 -->\n<g id=\"edge7\" class=\"edge\">\n<title>St11&#45;&gt;St4</title>\n<path fill=\"none\" stroke=\"black\" d=\"M1024.76,-101C1035.86,-101 1049.02,-101 1061.07,-101\"/>\n<polygon fill=\"black\" stroke=\"black\" points=\"1061.29,-104.5 1071.28,-101 1061.28,-97.5 1061.29,-104.5\"/>\n<text text-anchor=\"middle\" x=\"1048.06\" y=\"-104.8\" font-family=\"Times,serif\" font-size=\"14.00\">0 </text>\n</g>\n<!-- St0 -->\n<g id=\"node5\" class=\"node\">\n<title>St0</title>\n<ellipse fill=\"none\" stroke=\"black\" cx=\"1194.8\" cy=\"-54\" rx=\"23\" ry=\"23\"/>\n<text text-anchor=\"middle\" x=\"1194.8\" y=\"-50.3\" font-family=\"Times,serif\" font-size=\"14.00\">St0</text>\n</g>\n<!-- St0&#45;&gt;St6 -->\n<g id=\"edge6\" class=\"edge\">\n<title>St0&#45;&gt;St6</title>\n<path fill=\"none\" stroke=\"black\" d=\"M1177.97,-38.09C1160.36,-22.16 1130.29,0 1099.31,0 209.14,0 209.14,0 209.14,0 182.29,0 156.14,-16.67 138.2,-31.48\"/>\n<polygon fill=\"black\" stroke=\"black\" points=\"135.83,-28.9 130.56,-38.09 140.41,-34.19 135.83,-28.9\"/>\n<text text-anchor=\"middle\" x=\"654.28\" y=\"-3.8\" font-family=\"Times,serif\" font-size=\"14.00\">0 </text>\n</g>\n<!-- St0&#45;&gt;St4 -->\n<g id=\"edge20\" class=\"edge\">\n<title>St0&#45;&gt;St4</title>\n<path fill=\"none\" stroke=\"black\" d=\"M1172.16,-58.07C1162.9,-60.29 1152.15,-63.52 1143.05,-68 1137.7,-70.64 1132.34,-73.97 1127.29,-77.49\"/>\n<polygon fill=\"black\" stroke=\"black\" points=\"1125.12,-74.75 1119.17,-83.51 1129.29,-80.37 1125.12,-74.75\"/>\n<text text-anchor=\"middle\" x=\"1148.55\" y=\"-71.8\" font-family=\"Times,serif\" font-size=\"14.00\">1 </text>\n</g>\n<!-- St9&#45;&gt;St3 -->\n<g id=\"edge21\" class=\"edge\">\n<title>St9&#45;&gt;St3</title>\n<path fill=\"none\" stroke=\"black\" d=\"M630.93,-100.52C641.86,-100.27 655.28,-99.98 667.35,-99.71\"/>\n<polygon fill=\"black\" stroke=\"black\" points=\"667.58,-103.21 677.5,-99.49 667.43,-96.21 667.58,-103.21\"/>\n<text text-anchor=\"middle\" x=\"654.28\" y=\"-103.8\" font-family=\"Times,serif\" font-size=\"14.00\">0 </text>\n</g>\n<!-- St7 -->\n<g id=\"node13\" class=\"node\">\n<title>St7</title>\n<ellipse fill=\"none\" stroke=\"black\" cx=\"511.53\" cy=\"-101\" rx=\"22.96\" ry=\"22.96\"/>\n<ellipse fill=\"none\" stroke=\"black\" cx=\"511.53\" cy=\"-101\" rx=\"27\" ry=\"27\"/>\n<text text-anchor=\"middle\" x=\"511.53\" y=\"-97.3\" font-family=\"Times,serif\" font-size=\"14.00\">St7</text>\n</g>\n<!-- St9&#45;&gt;St7 -->\n<g id=\"edge8\" class=\"edge\">\n<title>St9&#45;&gt;St7</title>\n<path fill=\"none\" stroke=\"black\" d=\"M587.84,-89.71C581.51,-86.57 574.29,-83.59 567.28,-82 559.64,-80.27 551.58,-81.35 544.06,-83.69\"/>\n<polygon fill=\"black\" stroke=\"black\" points=\"542.64,-80.49 534.58,-87.36 545.17,-87.01 542.64,-80.49\"/>\n<text text-anchor=\"middle\" x=\"561.78\" y=\"-85.8\" font-family=\"Times,serif\" font-size=\"14.00\">1 </text>\n</g>\n<!-- St6&#45;&gt;St10 -->\n<g id=\"edge19\" class=\"edge\">\n<title>St6&#45;&gt;St10</title>\n<path fill=\"none\" stroke=\"black\" d=\"M130.59,-69.92C137.45,-76.04 145.87,-82.6 154.5,-87 160.39,-90.01 166.99,-92.41 173.5,-94.3\"/>\n<polygon fill=\"black\" stroke=\"black\" points=\"172.99,-97.79 183.55,-96.89 174.73,-91.01 172.99,-97.79\"/>\n<text text-anchor=\"middle\" x=\"160\" y=\"-94.8\" font-family=\"Times,serif\" font-size=\"14.00\">1 </text>\n</g>\n<!-- St6&#45;&gt;St0 -->\n<g id=\"edge23\" class=\"edge\">\n<title>St6&#45;&gt;St0</title>\n<path fill=\"none\" stroke=\"black\" d=\"M135.94,-48.31C154.96,-43.72 183.71,-38 209.14,-38 209.14,-38 209.14,-38 1099.31,-38 1120.69,-38 1144.41,-42.03 1162.74,-46.05\"/>\n<polygon fill=\"black\" stroke=\"black\" points=\"1162.05,-49.48 1172.58,-48.31 1163.62,-42.66 1162.05,-49.48\"/>\n<text text-anchor=\"middle\" x=\"654.28\" y=\"-41.8\" font-family=\"Times,serif\" font-size=\"14.00\">0 </text>\n</g>\n<!-- St1&#45;&gt;St3 -->\n<g id=\"edge25\" class=\"edge\">\n<title>St1&#45;&gt;St3</title>\n<path fill=\"none\" stroke=\"black\" d=\"M773.57,-87.86C766.93,-84.64 759.5,-81.65 752.27,-80 744.7,-78.28 736.74,-79.64 729.43,-82.27\"/>\n<polygon fill=\"black\" stroke=\"black\" points=\"727.67,-79.23 719.95,-86.49 730.51,-85.62 727.67,-79.23\"/>\n<text text-anchor=\"middle\" x=\"746.77\" y=\"-83.8\" font-family=\"Times,serif\" font-size=\"14.00\">1 </text>\n</g>\n<!-- St1&#45;&gt;St8 -->\n<g id=\"edge14\" class=\"edge\">\n<title>St1&#45;&gt;St8</title>\n<path fill=\"none\" stroke=\"black\" d=\"M823.9,-101C835.01,-101 848.18,-101 860.24,-101\"/>\n<polygon fill=\"black\" stroke=\"black\" points=\"860.47,-104.5 870.47,-101 860.47,-97.5 860.47,-104.5\"/>\n<text text-anchor=\"middle\" x=\"847.27\" y=\"-104.8\" font-family=\"Times,serif\" font-size=\"14.00\">0 </text>\n</g>\n<!-- St8&#45;&gt;St11 -->\n<g id=\"edge15\" class=\"edge\">\n<title>St8&#45;&gt;St11</title>\n<path fill=\"none\" stroke=\"black\" d=\"M924.37,-101C935.55,-101 948.84,-101 960.96,-101\"/>\n<polygon fill=\"black\" stroke=\"black\" points=\"961.23,-104.5 971.23,-101 961.23,-97.5 961.23,-104.5\"/>\n<text text-anchor=\"middle\" x=\"947.76\" y=\"-104.8\" font-family=\"Times,serif\" font-size=\"14.00\">1 </text>\n</g>\n<!-- St8&#45;&gt;St1 -->\n<g id=\"edge22\" class=\"edge\">\n<title>St8&#45;&gt;St1</title>\n<path fill=\"none\" stroke=\"black\" d=\"M873.49,-88.91C866.96,-86.07 859.74,-83.45 852.77,-82 845.16,-80.42 837.17,-81.52 829.71,-83.83\"/>\n<polygon fill=\"black\" stroke=\"black\" points=\"828.38,-80.59 820.29,-87.43 830.88,-87.13 828.38,-80.59\"/>\n<text text-anchor=\"middle\" x=\"847.27\" y=\"-85.8\" font-family=\"Times,serif\" font-size=\"14.00\">0 </text>\n</g>\n<!-- St4&#45;&gt;St11 -->\n<g id=\"edge18\" class=\"edge\">\n<title>St4&#45;&gt;St11</title>\n<path fill=\"none\" stroke=\"black\" d=\"M1075.03,-87.43C1065.24,-82.99 1053.49,-79.72 1042.56,-82 1038.86,-82.77 1035.09,-83.87 1031.4,-85.16\"/>\n<polygon fill=\"black\" stroke=\"black\" points=\"1029.9,-81.98 1021.88,-88.91 1032.47,-88.5 1029.9,-81.98\"/>\n<text text-anchor=\"middle\" x=\"1048.06\" y=\"-85.8\" font-family=\"Times,serif\" font-size=\"14.00\">0 </text>\n</g>\n<!-- St4&#45;&gt;St0 -->\n<g id=\"edge17\" class=\"edge\">\n<title>St4&#45;&gt;St0</title>\n<path fill=\"none\" stroke=\"black\" d=\"M1124.95,-96.9C1134.43,-94.75 1145.05,-91.59 1154.05,-87 1159.58,-84.18 1165.03,-80.47 1170.03,-76.57\"/>\n<polygon fill=\"black\" stroke=\"black\" points=\"1172.54,-79.03 1177.96,-69.92 1168.05,-73.66 1172.54,-79.03\"/>\n<text text-anchor=\"middle\" x=\"1148.55\" y=\"-94.8\" font-family=\"Times,serif\" font-size=\"14.00\">1 </text>\n</g>\n<!-- St5&#45;&gt;St10 -->\n<g id=\"edge4\" class=\"edge\">\n<title>St5&#45;&gt;St10</title>\n<path fill=\"none\" stroke=\"black\" d=\"M286.96,-88.03C277.21,-83.88 265.59,-80.86 254.79,-83 251.31,-83.69 247.76,-84.66 244.25,-85.8\"/>\n<polygon fill=\"black\" stroke=\"black\" points=\"242.8,-82.61 234.63,-89.35 245.22,-89.17 242.8,-82.61\"/>\n<text text-anchor=\"middle\" x=\"260.29\" y=\"-86.8\" font-family=\"Times,serif\" font-size=\"14.00\">0 </text>\n</g>\n<!-- St2 -->\n<g id=\"node12\" class=\"node\">\n<title>St2</title>\n<ellipse fill=\"none\" stroke=\"black\" cx=\"411.04\" cy=\"-101\" rx=\"22.96\" ry=\"22.96\"/>\n<ellipse fill=\"none\" stroke=\"black\" cx=\"411.04\" cy=\"-101\" rx=\"27\" ry=\"27\"/>\n<text text-anchor=\"middle\" x=\"411.04\" y=\"-97.3\" font-family=\"Times,serif\" font-size=\"14.00\">St2</text>\n</g>\n<!-- St5&#45;&gt;St2 -->\n<g id=\"edge13\" class=\"edge\">\n<title>St5&#45;&gt;St2</title>\n<path fill=\"none\" stroke=\"black\" d=\"M337.42,-101C348.53,-101 361.7,-101 373.76,-101\"/>\n<polygon fill=\"black\" stroke=\"black\" points=\"373.99,-104.5 383.99,-101 373.99,-97.5 373.99,-104.5\"/>\n<text text-anchor=\"middle\" x=\"360.79\" y=\"-104.8\" font-family=\"Times,serif\" font-size=\"14.00\">1 </text>\n</g>\n<!-- St2&#45;&gt;St5 -->\n<g id=\"edge9\" class=\"edge\">\n<title>St2&#45;&gt;St5</title>\n<path fill=\"none\" stroke=\"black\" d=\"M387.46,-88.03C377.71,-83.89 366.08,-80.87 355.29,-83 351.8,-83.69 348.24,-84.66 344.73,-85.8\"/>\n<polygon fill=\"black\" stroke=\"black\" points=\"343.26,-82.61 335.08,-89.35 345.68,-89.18 343.26,-82.61\"/>\n<text text-anchor=\"middle\" x=\"360.79\" y=\"-86.8\" font-family=\"Times,serif\" font-size=\"14.00\">1 </text>\n</g>\n<!-- St2&#45;&gt;St7 -->\n<g id=\"edge5\" class=\"edge\">\n<title>St2&#45;&gt;St7</title>\n<path fill=\"none\" stroke=\"black\" d=\"M437.91,-101C449.02,-101 462.2,-101 474.25,-101\"/>\n<polygon fill=\"black\" stroke=\"black\" points=\"474.48,-104.5 484.48,-101 474.48,-97.5 474.48,-104.5\"/>\n<text text-anchor=\"middle\" x=\"461.28\" y=\"-104.8\" font-family=\"Times,serif\" font-size=\"14.00\">0 </text>\n</g>\n<!-- St7&#45;&gt;St9 -->\n<g id=\"edge3\" class=\"edge\">\n<title>St7&#45;&gt;St9</title>\n<path fill=\"none\" stroke=\"black\" d=\"M538.35,-101C549.68,-101 563.09,-101 575.04,-101\"/>\n<polygon fill=\"black\" stroke=\"black\" points=\"575.08,-104.5 585.08,-101 575.08,-97.5 575.08,-104.5\"/>\n<text text-anchor=\"middle\" x=\"561.78\" y=\"-104.8\" font-family=\"Times,serif\" font-size=\"14.00\">1 </text>\n</g>\n<!-- St7&#45;&gt;St2 -->\n<g id=\"edge12\" class=\"edge\">\n<title>St7&#45;&gt;St2</title>\n<path fill=\"none\" stroke=\"black\" d=\"M487.5,-88.91C480.98,-86.07 473.76,-83.45 466.78,-82 459.18,-80.42 451.19,-81.52 443.73,-83.83\"/>\n<polygon fill=\"black\" stroke=\"black\" points=\"442.4,-80.59 434.31,-87.43 444.9,-87.13 442.4,-80.59\"/>\n<text text-anchor=\"middle\" x=\"461.28\" y=\"-85.8\" font-family=\"Times,serif\" font-size=\"14.00\">0 </text>\n</g>\n</g>\n</svg>\n",
            "text/plain": [
              "<graphviz.graphs.Digraph at 0x79e4e819aec0>"
            ]
          },
          "metadata": {},
          "execution_count": 13
        }
      ]
    },
    {
      "cell_type": "code",
      "source": [
        "min_answer = min_dfa(O0_or_E1_and_nm3)"
      ],
      "metadata": {
        "id": "caRxr-Q3G4IQ"
      },
      "execution_count": 14,
      "outputs": []
    },
    {
      "cell_type": "code",
      "source": [
        "len(min_answer[\"Q\"])"
      ],
      "metadata": {
        "id": "HuA8mkPeG77c",
        "outputId": "1464b813-a55b-40d7-fd80-d5f7c141e022",
        "colab": {
          "base_uri": "https://localhost:8080/"
        }
      },
      "execution_count": 15,
      "outputs": [
        {
          "output_type": "execute_result",
          "data": {
            "text/plain": [
              "12"
            ]
          },
          "metadata": {},
          "execution_count": 15
        }
      ]
    },
    {
      "cell_type": "code",
      "source": [
        "len(O0_or_E1_and_nm3[\"Q\"])"
      ],
      "metadata": {
        "id": "Aku3vm6iHc4W",
        "outputId": "5af242cd-8143-4083-f509-abeb4ccb3e80",
        "colab": {
          "base_uri": "https://localhost:8080/"
        }
      },
      "execution_count": 16,
      "outputs": [
        {
          "output_type": "execute_result",
          "data": {
            "text/plain": [
              "12"
            ]
          },
          "metadata": {},
          "execution_count": 16
        }
      ]
    },
    {
      "cell_type": "code",
      "source": [
        "dotObj_dfa(min_answer, STATENAME_MAXSIZE=1)"
      ],
      "metadata": {
        "id": "LRO4X2PaHP0F",
        "outputId": "d8eb0b81-83fa-4e27-aa55-2b345db81d56",
        "colab": {
          "base_uri": "https://localhost:8080/",
          "height": 222
        }
      },
      "execution_count": 17,
      "outputs": [
        {
          "output_type": "execute_result",
          "data": {
            "image/svg+xml": "<?xml version=\"1.0\" encoding=\"UTF-8\" standalone=\"no\"?>\n<!DOCTYPE svg PUBLIC \"-//W3C//DTD SVG 1.1//EN\"\n \"http://www.w3.org/Graphics/SVG/1.1/DTD/svg11.dtd\">\n<!-- Generated by graphviz version 2.43.0 (0)\n -->\n<!-- Title: %3 Pages: 1 -->\n<svg width=\"1226pt\" height=\"136pt\"\n viewBox=\"0.00 0.00 1225.55 135.75\" xmlns=\"http://www.w3.org/2000/svg\" xmlns:xlink=\"http://www.w3.org/1999/xlink\">\n<g id=\"graph0\" class=\"graph\" transform=\"scale(1 1) rotate(0) translate(4 131.75)\">\n<title>%3</title>\n<polygon fill=\"white\" stroke=\"transparent\" points=\"-4,4 -4,-131.75 1221.55,-131.75 1221.55,4 -4,4\"/>\n<!-- EMPTY -->\n<g id=\"node1\" class=\"node\">\n<title>EMPTY</title>\n</g>\n<!-- St6 -->\n<g id=\"node7\" class=\"node\">\n<title>St6</title>\n<ellipse fill=\"none\" stroke=\"black\" cx=\"113.75\" cy=\"-54\" rx=\"23\" ry=\"23\"/>\n<text text-anchor=\"middle\" x=\"113.75\" y=\"-50.3\" font-family=\"Times,serif\" font-size=\"14.00\">St6</text>\n</g>\n<!-- EMPTY&#45;&gt;St6 -->\n<g id=\"edge1\" class=\"edge\">\n<title>EMPTY&#45;&gt;St6</title>\n<path fill=\"none\" stroke=\"black\" d=\"M54.35,-54C62.71,-54 72.05,-54 80.76,-54\"/>\n<polygon fill=\"black\" stroke=\"black\" points=\"80.97,-57.5 90.97,-54 80.97,-50.5 80.97,-57.5\"/>\n</g>\n<!-- St10 -->\n<g id=\"node2\" class=\"node\">\n<title>St10</title>\n<ellipse fill=\"none\" stroke=\"black\" cx=\"210.14\" cy=\"-101\" rx=\"26.8\" ry=\"26.8\"/>\n<text text-anchor=\"middle\" x=\"210.14\" y=\"-97.3\" font-family=\"Times,serif\" font-size=\"14.00\">St10</text>\n</g>\n<!-- St10&#45;&gt;St6 -->\n<g id=\"edge10\" class=\"edge\">\n<title>St10&#45;&gt;St6</title>\n<path fill=\"none\" stroke=\"black\" d=\"M188.02,-85.45C181.06,-80.75 173.15,-75.82 165.5,-72 159.2,-68.85 152.23,-66 145.51,-63.54\"/>\n<polygon fill=\"black\" stroke=\"black\" points=\"146.56,-60.2 135.97,-60.23 144.27,-66.82 146.56,-60.2\"/>\n<text text-anchor=\"middle\" x=\"160\" y=\"-75.8\" font-family=\"Times,serif\" font-size=\"14.00\">1 </text>\n</g>\n<!-- St5 -->\n<g id=\"node11\" class=\"node\">\n<title>St5</title>\n<ellipse fill=\"none\" stroke=\"black\" cx=\"310.54\" cy=\"-101\" rx=\"22.96\" ry=\"22.96\"/>\n<ellipse fill=\"none\" stroke=\"black\" cx=\"310.54\" cy=\"-101\" rx=\"27\" ry=\"27\"/>\n<text text-anchor=\"middle\" x=\"310.54\" y=\"-97.3\" font-family=\"Times,serif\" font-size=\"14.00\">St5</text>\n</g>\n<!-- St10&#45;&gt;St5 -->\n<g id=\"edge24\" class=\"edge\">\n<title>St10&#45;&gt;St5</title>\n<path fill=\"none\" stroke=\"black\" d=\"M237,-101C248.09,-101 261.25,-101 273.3,-101\"/>\n<polygon fill=\"black\" stroke=\"black\" points=\"273.52,-104.5 283.52,-101 273.52,-97.5 273.52,-104.5\"/>\n<text text-anchor=\"middle\" x=\"260.29\" y=\"-104.8\" font-family=\"Times,serif\" font-size=\"14.00\">0 </text>\n</g>\n<!-- St3 -->\n<g id=\"node3\" class=\"node\">\n<title>St3</title>\n<ellipse fill=\"none\" stroke=\"black\" cx=\"700.52\" cy=\"-99\" rx=\"23\" ry=\"23\"/>\n<text text-anchor=\"middle\" x=\"700.52\" y=\"-95.3\" font-family=\"Times,serif\" font-size=\"14.00\">St3</text>\n</g>\n<!-- St9 -->\n<g id=\"node6\" class=\"node\">\n<title>St9</title>\n<ellipse fill=\"none\" stroke=\"black\" cx=\"608.03\" cy=\"-101\" rx=\"23\" ry=\"23\"/>\n<text text-anchor=\"middle\" x=\"608.03\" y=\"-97.3\" font-family=\"Times,serif\" font-size=\"14.00\">St9</text>\n</g>\n<!-- St3&#45;&gt;St9 -->\n<g id=\"edge2\" class=\"edge\">\n<title>St3&#45;&gt;St9</title>\n<path fill=\"none\" stroke=\"black\" d=\"M680.47,-88.06C671.04,-83.92 659.43,-80.7 648.78,-83 645.08,-83.8 641.31,-84.97 637.64,-86.34\"/>\n<polygon fill=\"black\" stroke=\"black\" points=\"636.12,-83.18 628.27,-90.3 638.84,-89.63 636.12,-83.18\"/>\n<text text-anchor=\"middle\" x=\"654.28\" y=\"-86.8\" font-family=\"Times,serif\" font-size=\"14.00\">0 </text>\n</g>\n<!-- St1 -->\n<g id=\"node8\" class=\"node\">\n<title>St1</title>\n<ellipse fill=\"none\" stroke=\"black\" cx=\"797.02\" cy=\"-101\" rx=\"22.96\" ry=\"22.96\"/>\n<ellipse fill=\"none\" stroke=\"black\" cx=\"797.02\" cy=\"-101\" rx=\"27\" ry=\"27\"/>\n<text text-anchor=\"middle\" x=\"797.02\" y=\"-97.3\" font-family=\"Times,serif\" font-size=\"14.00\">St1</text>\n</g>\n<!-- St3&#45;&gt;St1 -->\n<g id=\"edge16\" class=\"edge\">\n<title>St3&#45;&gt;St1</title>\n<path fill=\"none\" stroke=\"black\" d=\"M723.44,-99.46C734.34,-99.69 747.8,-99.98 760.16,-100.24\"/>\n<polygon fill=\"black\" stroke=\"black\" points=\"760.13,-103.74 770.2,-100.45 760.27,-96.74 760.13,-103.74\"/>\n<text text-anchor=\"middle\" x=\"746.77\" y=\"-103.8\" font-family=\"Times,serif\" font-size=\"14.00\">1 </text>\n</g>\n<!-- St11 -->\n<g id=\"node4\" class=\"node\">\n<title>St11</title>\n<ellipse fill=\"none\" stroke=\"black\" cx=\"997.91\" cy=\"-101\" rx=\"26.8\" ry=\"26.8\"/>\n<text text-anchor=\"middle\" x=\"997.91\" y=\"-97.3\" font-family=\"Times,serif\" font-size=\"14.00\">St11</text>\n</g>\n<!-- St8 -->\n<g id=\"node9\" class=\"node\">\n<title>St8</title>\n<ellipse fill=\"none\" stroke=\"black\" cx=\"897.51\" cy=\"-101\" rx=\"22.96\" ry=\"22.96\"/>\n<ellipse fill=\"none\" stroke=\"black\" cx=\"897.51\" cy=\"-101\" rx=\"27\" ry=\"27\"/>\n<text text-anchor=\"middle\" x=\"897.51\" y=\"-97.3\" font-family=\"Times,serif\" font-size=\"14.00\">St8</text>\n</g>\n<!-- St11&#45;&gt;St8 -->\n<g id=\"edge11\" class=\"edge\">\n<title>St11&#45;&gt;St8</title>\n<path fill=\"none\" stroke=\"black\" d=\"M973.42,-89.35C967.04,-86.74 960.02,-84.34 953.26,-83 945.84,-81.53 938.03,-82.5 930.7,-84.59\"/>\n<polygon fill=\"black\" stroke=\"black\" points=\"929.33,-81.37 921.09,-88.03 931.69,-87.96 929.33,-81.37\"/>\n<text text-anchor=\"middle\" x=\"947.76\" y=\"-86.8\" font-family=\"Times,serif\" font-size=\"14.00\">1 </text>\n</g>\n<!-- St4 -->\n<g id=\"node10\" class=\"node\">\n<title>St4</title>\n<ellipse fill=\"none\" stroke=\"black\" cx=\"1098.31\" cy=\"-101\" rx=\"22.96\" ry=\"22.96\"/>\n<ellipse fill=\"none\" stroke=\"black\" cx=\"1098.31\" cy=\"-101\" rx=\"27\" ry=\"27\"/>\n<text text-anchor=\"middle\" x=\"1098.31\" y=\"-97.3\" font-family=\"Times,serif\" font-size=\"14.00\">St4</text>\n</g>\n<!-- St11&#45;&gt;St4 -->\n<g id=\"edge7\" class=\"edge\">\n<title>St11&#45;&gt;St4</title>\n<path fill=\"none\" stroke=\"black\" d=\"M1024.76,-101C1035.86,-101 1049.02,-101 1061.07,-101\"/>\n<polygon fill=\"black\" stroke=\"black\" points=\"1061.29,-104.5 1071.28,-101 1061.28,-97.5 1061.29,-104.5\"/>\n<text text-anchor=\"middle\" x=\"1048.06\" y=\"-104.8\" font-family=\"Times,serif\" font-size=\"14.00\">0 </text>\n</g>\n<!-- St0 -->\n<g id=\"node5\" class=\"node\">\n<title>St0</title>\n<ellipse fill=\"none\" stroke=\"black\" cx=\"1194.8\" cy=\"-54\" rx=\"23\" ry=\"23\"/>\n<text text-anchor=\"middle\" x=\"1194.8\" y=\"-50.3\" font-family=\"Times,serif\" font-size=\"14.00\">St0</text>\n</g>\n<!-- St0&#45;&gt;St6 -->\n<g id=\"edge6\" class=\"edge\">\n<title>St0&#45;&gt;St6</title>\n<path fill=\"none\" stroke=\"black\" d=\"M1177.97,-38.09C1160.36,-22.16 1130.29,0 1099.31,0 209.14,0 209.14,0 209.14,0 182.29,0 156.14,-16.67 138.2,-31.48\"/>\n<polygon fill=\"black\" stroke=\"black\" points=\"135.83,-28.9 130.56,-38.09 140.41,-34.19 135.83,-28.9\"/>\n<text text-anchor=\"middle\" x=\"654.28\" y=\"-3.8\" font-family=\"Times,serif\" font-size=\"14.00\">0 </text>\n</g>\n<!-- St0&#45;&gt;St4 -->\n<g id=\"edge20\" class=\"edge\">\n<title>St0&#45;&gt;St4</title>\n<path fill=\"none\" stroke=\"black\" d=\"M1172.16,-58.07C1162.9,-60.29 1152.15,-63.52 1143.05,-68 1137.7,-70.64 1132.34,-73.97 1127.29,-77.49\"/>\n<polygon fill=\"black\" stroke=\"black\" points=\"1125.12,-74.75 1119.17,-83.51 1129.29,-80.37 1125.12,-74.75\"/>\n<text text-anchor=\"middle\" x=\"1148.55\" y=\"-71.8\" font-family=\"Times,serif\" font-size=\"14.00\">1 </text>\n</g>\n<!-- St9&#45;&gt;St3 -->\n<g id=\"edge21\" class=\"edge\">\n<title>St9&#45;&gt;St3</title>\n<path fill=\"none\" stroke=\"black\" d=\"M630.93,-100.52C641.86,-100.27 655.28,-99.98 667.35,-99.71\"/>\n<polygon fill=\"black\" stroke=\"black\" points=\"667.58,-103.21 677.5,-99.49 667.43,-96.21 667.58,-103.21\"/>\n<text text-anchor=\"middle\" x=\"654.28\" y=\"-103.8\" font-family=\"Times,serif\" font-size=\"14.00\">0 </text>\n</g>\n<!-- St7 -->\n<g id=\"node13\" class=\"node\">\n<title>St7</title>\n<ellipse fill=\"none\" stroke=\"black\" cx=\"511.53\" cy=\"-101\" rx=\"22.96\" ry=\"22.96\"/>\n<ellipse fill=\"none\" stroke=\"black\" cx=\"511.53\" cy=\"-101\" rx=\"27\" ry=\"27\"/>\n<text text-anchor=\"middle\" x=\"511.53\" y=\"-97.3\" font-family=\"Times,serif\" font-size=\"14.00\">St7</text>\n</g>\n<!-- St9&#45;&gt;St7 -->\n<g id=\"edge8\" class=\"edge\">\n<title>St9&#45;&gt;St7</title>\n<path fill=\"none\" stroke=\"black\" d=\"M587.84,-89.71C581.51,-86.57 574.29,-83.59 567.28,-82 559.64,-80.27 551.58,-81.35 544.06,-83.69\"/>\n<polygon fill=\"black\" stroke=\"black\" points=\"542.64,-80.49 534.58,-87.36 545.17,-87.01 542.64,-80.49\"/>\n<text text-anchor=\"middle\" x=\"561.78\" y=\"-85.8\" font-family=\"Times,serif\" font-size=\"14.00\">1 </text>\n</g>\n<!-- St6&#45;&gt;St10 -->\n<g id=\"edge19\" class=\"edge\">\n<title>St6&#45;&gt;St10</title>\n<path fill=\"none\" stroke=\"black\" d=\"M130.59,-69.92C137.45,-76.04 145.87,-82.6 154.5,-87 160.39,-90.01 166.99,-92.41 173.5,-94.3\"/>\n<polygon fill=\"black\" stroke=\"black\" points=\"172.99,-97.79 183.55,-96.89 174.73,-91.01 172.99,-97.79\"/>\n<text text-anchor=\"middle\" x=\"160\" y=\"-94.8\" font-family=\"Times,serif\" font-size=\"14.00\">1 </text>\n</g>\n<!-- St6&#45;&gt;St0 -->\n<g id=\"edge23\" class=\"edge\">\n<title>St6&#45;&gt;St0</title>\n<path fill=\"none\" stroke=\"black\" d=\"M135.94,-48.31C154.96,-43.72 183.71,-38 209.14,-38 209.14,-38 209.14,-38 1099.31,-38 1120.69,-38 1144.41,-42.03 1162.74,-46.05\"/>\n<polygon fill=\"black\" stroke=\"black\" points=\"1162.05,-49.48 1172.58,-48.31 1163.62,-42.66 1162.05,-49.48\"/>\n<text text-anchor=\"middle\" x=\"654.28\" y=\"-41.8\" font-family=\"Times,serif\" font-size=\"14.00\">0 </text>\n</g>\n<!-- St1&#45;&gt;St3 -->\n<g id=\"edge25\" class=\"edge\">\n<title>St1&#45;&gt;St3</title>\n<path fill=\"none\" stroke=\"black\" d=\"M773.57,-87.86C766.93,-84.64 759.5,-81.65 752.27,-80 744.7,-78.28 736.74,-79.64 729.43,-82.27\"/>\n<polygon fill=\"black\" stroke=\"black\" points=\"727.67,-79.23 719.95,-86.49 730.51,-85.62 727.67,-79.23\"/>\n<text text-anchor=\"middle\" x=\"746.77\" y=\"-83.8\" font-family=\"Times,serif\" font-size=\"14.00\">1 </text>\n</g>\n<!-- St1&#45;&gt;St8 -->\n<g id=\"edge14\" class=\"edge\">\n<title>St1&#45;&gt;St8</title>\n<path fill=\"none\" stroke=\"black\" d=\"M823.9,-101C835.01,-101 848.18,-101 860.24,-101\"/>\n<polygon fill=\"black\" stroke=\"black\" points=\"860.47,-104.5 870.47,-101 860.47,-97.5 860.47,-104.5\"/>\n<text text-anchor=\"middle\" x=\"847.27\" y=\"-104.8\" font-family=\"Times,serif\" font-size=\"14.00\">0 </text>\n</g>\n<!-- St8&#45;&gt;St11 -->\n<g id=\"edge15\" class=\"edge\">\n<title>St8&#45;&gt;St11</title>\n<path fill=\"none\" stroke=\"black\" d=\"M924.37,-101C935.55,-101 948.84,-101 960.96,-101\"/>\n<polygon fill=\"black\" stroke=\"black\" points=\"961.23,-104.5 971.23,-101 961.23,-97.5 961.23,-104.5\"/>\n<text text-anchor=\"middle\" x=\"947.76\" y=\"-104.8\" font-family=\"Times,serif\" font-size=\"14.00\">1 </text>\n</g>\n<!-- St8&#45;&gt;St1 -->\n<g id=\"edge22\" class=\"edge\">\n<title>St8&#45;&gt;St1</title>\n<path fill=\"none\" stroke=\"black\" d=\"M873.49,-88.91C866.96,-86.07 859.74,-83.45 852.77,-82 845.16,-80.42 837.17,-81.52 829.71,-83.83\"/>\n<polygon fill=\"black\" stroke=\"black\" points=\"828.38,-80.59 820.29,-87.43 830.88,-87.13 828.38,-80.59\"/>\n<text text-anchor=\"middle\" x=\"847.27\" y=\"-85.8\" font-family=\"Times,serif\" font-size=\"14.00\">0 </text>\n</g>\n<!-- St4&#45;&gt;St11 -->\n<g id=\"edge18\" class=\"edge\">\n<title>St4&#45;&gt;St11</title>\n<path fill=\"none\" stroke=\"black\" d=\"M1075.03,-87.43C1065.24,-82.99 1053.49,-79.72 1042.56,-82 1038.86,-82.77 1035.09,-83.87 1031.4,-85.16\"/>\n<polygon fill=\"black\" stroke=\"black\" points=\"1029.9,-81.98 1021.88,-88.91 1032.47,-88.5 1029.9,-81.98\"/>\n<text text-anchor=\"middle\" x=\"1048.06\" y=\"-85.8\" font-family=\"Times,serif\" font-size=\"14.00\">0 </text>\n</g>\n<!-- St4&#45;&gt;St0 -->\n<g id=\"edge17\" class=\"edge\">\n<title>St4&#45;&gt;St0</title>\n<path fill=\"none\" stroke=\"black\" d=\"M1124.95,-96.9C1134.43,-94.75 1145.05,-91.59 1154.05,-87 1159.58,-84.18 1165.03,-80.47 1170.03,-76.57\"/>\n<polygon fill=\"black\" stroke=\"black\" points=\"1172.54,-79.03 1177.96,-69.92 1168.05,-73.66 1172.54,-79.03\"/>\n<text text-anchor=\"middle\" x=\"1148.55\" y=\"-94.8\" font-family=\"Times,serif\" font-size=\"14.00\">1 </text>\n</g>\n<!-- St5&#45;&gt;St10 -->\n<g id=\"edge4\" class=\"edge\">\n<title>St5&#45;&gt;St10</title>\n<path fill=\"none\" stroke=\"black\" d=\"M286.96,-88.03C277.21,-83.88 265.59,-80.86 254.79,-83 251.31,-83.69 247.76,-84.66 244.25,-85.8\"/>\n<polygon fill=\"black\" stroke=\"black\" points=\"242.8,-82.61 234.63,-89.35 245.22,-89.17 242.8,-82.61\"/>\n<text text-anchor=\"middle\" x=\"260.29\" y=\"-86.8\" font-family=\"Times,serif\" font-size=\"14.00\">0 </text>\n</g>\n<!-- St2 -->\n<g id=\"node12\" class=\"node\">\n<title>St2</title>\n<ellipse fill=\"none\" stroke=\"black\" cx=\"411.04\" cy=\"-101\" rx=\"22.96\" ry=\"22.96\"/>\n<ellipse fill=\"none\" stroke=\"black\" cx=\"411.04\" cy=\"-101\" rx=\"27\" ry=\"27\"/>\n<text text-anchor=\"middle\" x=\"411.04\" y=\"-97.3\" font-family=\"Times,serif\" font-size=\"14.00\">St2</text>\n</g>\n<!-- St5&#45;&gt;St2 -->\n<g id=\"edge13\" class=\"edge\">\n<title>St5&#45;&gt;St2</title>\n<path fill=\"none\" stroke=\"black\" d=\"M337.42,-101C348.53,-101 361.7,-101 373.76,-101\"/>\n<polygon fill=\"black\" stroke=\"black\" points=\"373.99,-104.5 383.99,-101 373.99,-97.5 373.99,-104.5\"/>\n<text text-anchor=\"middle\" x=\"360.79\" y=\"-104.8\" font-family=\"Times,serif\" font-size=\"14.00\">1 </text>\n</g>\n<!-- St2&#45;&gt;St5 -->\n<g id=\"edge9\" class=\"edge\">\n<title>St2&#45;&gt;St5</title>\n<path fill=\"none\" stroke=\"black\" d=\"M387.46,-88.03C377.71,-83.89 366.08,-80.87 355.29,-83 351.8,-83.69 348.24,-84.66 344.73,-85.8\"/>\n<polygon fill=\"black\" stroke=\"black\" points=\"343.26,-82.61 335.08,-89.35 345.68,-89.18 343.26,-82.61\"/>\n<text text-anchor=\"middle\" x=\"360.79\" y=\"-86.8\" font-family=\"Times,serif\" font-size=\"14.00\">1 </text>\n</g>\n<!-- St2&#45;&gt;St7 -->\n<g id=\"edge5\" class=\"edge\">\n<title>St2&#45;&gt;St7</title>\n<path fill=\"none\" stroke=\"black\" d=\"M437.91,-101C449.02,-101 462.2,-101 474.25,-101\"/>\n<polygon fill=\"black\" stroke=\"black\" points=\"474.48,-104.5 484.48,-101 474.48,-97.5 474.48,-104.5\"/>\n<text text-anchor=\"middle\" x=\"461.28\" y=\"-104.8\" font-family=\"Times,serif\" font-size=\"14.00\">0 </text>\n</g>\n<!-- St7&#45;&gt;St9 -->\n<g id=\"edge3\" class=\"edge\">\n<title>St7&#45;&gt;St9</title>\n<path fill=\"none\" stroke=\"black\" d=\"M538.35,-101C549.68,-101 563.09,-101 575.04,-101\"/>\n<polygon fill=\"black\" stroke=\"black\" points=\"575.08,-104.5 585.08,-101 575.08,-97.5 575.08,-104.5\"/>\n<text text-anchor=\"middle\" x=\"561.78\" y=\"-104.8\" font-family=\"Times,serif\" font-size=\"14.00\">1 </text>\n</g>\n<!-- St7&#45;&gt;St2 -->\n<g id=\"edge12\" class=\"edge\">\n<title>St7&#45;&gt;St2</title>\n<path fill=\"none\" stroke=\"black\" d=\"M487.5,-88.91C480.98,-86.07 473.76,-83.45 466.78,-82 459.18,-80.42 451.19,-81.52 443.73,-83.83\"/>\n<polygon fill=\"black\" stroke=\"black\" points=\"442.4,-80.59 434.31,-87.43 444.9,-87.13 442.4,-80.59\"/>\n<text text-anchor=\"middle\" x=\"461.28\" y=\"-85.8\" font-family=\"Times,serif\" font-size=\"14.00\">0 </text>\n</g>\n</g>\n</svg>\n",
            "text/plain": [
              "<graphviz.graphs.Digraph at 0x79e4e819b7f0>"
            ]
          },
          "metadata": {},
          "execution_count": 17
        }
      ]
    },
    {
      "cell_type": "markdown",
      "metadata": {
        "id": "NEtN7ANSBg9v"
      },
      "source": [
        "# Even the min DFA can be large! The language is so unusual and complex, and hence minimization has low (or no?) impact."
      ]
    },
    {
      "cell_type": "markdown",
      "source": [
        "# We will now demonstrate the code underlying Exercise 5.2.1, Block-of-3 DFA beginning at around Page 334.\n",
        "## The specific illustration pertains to the ALT series on Page 338."
      ],
      "metadata": {
        "id": "RFEYByZ-C3WM"
      }
    },
    {
      "cell_type": "markdown",
      "source": [
        "The ALT series where (1,0) goes to (2,0) upon a 0, and so on. Let's write the transitions out first. (Clearly you can generate this programmatically by following the condensed rules on this page). The accepting states are double-circled - or double-bracketed here.\n",
        "\n",
        "((1,0)) : 0 -> ((2,0))\n",
        "\n",
        "((1,0)) : 1 -> (2,1)\n",
        "\n",
        "((2,0)) : 0 -> ((1,0))\n",
        "\n",
        "((2,0)) : 1 -> (1,2)\n",
        "\n",
        "(2,1) : 0 -> (1,1)\n",
        "\n",
        "(2,1) : 1 -> ((1,0))\n",
        "\n",
        "(1,2) : 0 -> (2,2)\n",
        "\n",
        "(1,2) : 1 -> ((2,0))\n",
        "\n",
        "(1,1) : 0 -> (2,1)\n",
        "\n",
        "(1,1) : 1 -> (2,2)\n",
        "\n",
        "(2,2) : 0 -> (1,2)\n",
        "\n",
        "(2,2) : 1 -> (1,1)"
      ],
      "metadata": {
        "id": "7lEI6JyhDcM6"
      }
    },
    {
      "cell_type": "code",
      "source": [
        "# The DFA in Automd format\n",
        "LSB_mod3 = md2mc('''DFA\n",
        "IF10 : 0 -> F20\n",
        "IF10 : 1 -> S21\n",
        "\n",
        "F20 : 0 -> IF10\n",
        "F20 : 1 -> S12\n",
        "\n",
        "S21 : 0 -> S11\n",
        "S21 : 1 -> IF10\n",
        "\n",
        "S12 : 0 -> S22\n",
        "S12 : 1 -> F20\n",
        "\n",
        "S11 : 0 -> S21\n",
        "S11 : 1 -> S22\n",
        "\n",
        "S22 : 0 -> S12\n",
        "S22 : 1 -> S11\n",
        "''')\n",
        "dotObj_dfa(LSB_mod3, FuseEdges=\"True\")"
      ],
      "metadata": {
        "id": "BDZfPFDFDZKq",
        "outputId": "310daa44-77c6-400e-ef9b-2b5cfb9a4435",
        "colab": {
          "base_uri": "https://localhost:8080/",
          "height": 201
        }
      },
      "execution_count": 22,
      "outputs": [
        {
          "output_type": "execute_result",
          "data": {
            "image/svg+xml": "<?xml version=\"1.0\" encoding=\"UTF-8\" standalone=\"no\"?>\n<!DOCTYPE svg PUBLIC \"-//W3C//DTD SVG 1.1//EN\"\n \"http://www.w3.org/Graphics/SVG/1.1/DTD/svg11.dtd\">\n<!-- Generated by graphviz version 2.43.0 (0)\n -->\n<!-- Title: %3 Pages: 1 -->\n<svg width=\"652pt\" height=\"135pt\"\n viewBox=\"0.00 0.00 651.57 134.70\" xmlns=\"http://www.w3.org/2000/svg\" xmlns:xlink=\"http://www.w3.org/1999/xlink\">\n<g id=\"graph0\" class=\"graph\" transform=\"scale(1 1) rotate(0) translate(4 130.7)\">\n<title>%3</title>\n<polygon fill=\"white\" stroke=\"transparent\" points=\"-4,4 -4,-130.7 647.57,-130.7 647.57,4 -4,4\"/>\n<!-- EMPTY -->\n<g id=\"node1\" class=\"node\">\n<title>EMPTY</title>\n</g>\n<!-- IF10 -->\n<g id=\"node6\" class=\"node\">\n<title>IF10</title>\n<ellipse fill=\"none\" stroke=\"black\" cx=\"122.3\" cy=\"-54\" rx=\"27.12\" ry=\"27.12\"/>\n<ellipse fill=\"none\" stroke=\"black\" cx=\"122.3\" cy=\"-54\" rx=\"31.1\" ry=\"31.1\"/>\n<text text-anchor=\"middle\" x=\"122.3\" y=\"-50.3\" font-family=\"Times,serif\" font-size=\"14.00\">IF10</text>\n</g>\n<!-- EMPTY&#45;&gt;IF10 -->\n<g id=\"edge1\" class=\"edge\">\n<title>EMPTY&#45;&gt;IF10</title>\n<path fill=\"none\" stroke=\"black\" d=\"M54.49,-54C62.62,-54 71.76,-54 80.61,-54\"/>\n<polygon fill=\"black\" stroke=\"black\" points=\"80.79,-57.5 90.79,-54 80.79,-50.5 80.79,-57.5\"/>\n</g>\n<!-- S12 -->\n<g id=\"node2\" class=\"node\">\n<title>S12</title>\n<ellipse fill=\"none\" stroke=\"black\" cx=\"514.48\" cy=\"-100\" rx=\"24.9\" ry=\"24.9\"/>\n<text text-anchor=\"middle\" x=\"514.48\" y=\"-96.3\" font-family=\"Times,serif\" font-size=\"14.00\">S12</text>\n</g>\n<!-- S22 -->\n<g id=\"node3\" class=\"node\">\n<title>S22</title>\n<ellipse fill=\"none\" stroke=\"black\" cx=\"418.08\" cy=\"-102\" rx=\"24.9\" ry=\"24.9\"/>\n<text text-anchor=\"middle\" x=\"418.08\" y=\"-98.3\" font-family=\"Times,serif\" font-size=\"14.00\">S22</text>\n</g>\n<!-- S12&#45;&gt;S22 -->\n<g id=\"edge8\" class=\"edge\">\n<title>S12&#45;&gt;S22</title>\n<path fill=\"none\" stroke=\"black\" d=\"M493,-87.39C483.36,-82.92 471.62,-79.53 460.78,-82 456.84,-82.9 452.84,-84.21 448.95,-85.75\"/>\n<polygon fill=\"black\" stroke=\"black\" points=\"447.34,-82.64 439.63,-89.91 450.19,-89.03 447.34,-82.64\"/>\n<text text-anchor=\"middle\" x=\"466.28\" y=\"-85.8\" font-family=\"Times,serif\" font-size=\"14.00\">0 </text>\n</g>\n<!-- F20 -->\n<g id=\"node7\" class=\"node\">\n<title>F20</title>\n<ellipse fill=\"none\" stroke=\"black\" cx=\"614.88\" cy=\"-54\" rx=\"24.87\" ry=\"24.87\"/>\n<ellipse fill=\"none\" stroke=\"black\" cx=\"614.88\" cy=\"-54\" rx=\"28.9\" ry=\"28.9\"/>\n<text text-anchor=\"middle\" x=\"614.88\" y=\"-50.3\" font-family=\"Times,serif\" font-size=\"14.00\">F20</text>\n</g>\n<!-- S12&#45;&gt;F20 -->\n<g id=\"edge9\" class=\"edge\">\n<title>S12&#45;&gt;F20</title>\n<path fill=\"none\" stroke=\"black\" d=\"M538.96,-96.22C548.32,-94.2 559.03,-91.24 568.18,-87 573.53,-84.52 578.89,-81.39 583.96,-78.04\"/>\n<polygon fill=\"black\" stroke=\"black\" points=\"585.99,-80.89 592.16,-72.28 581.97,-75.16 585.99,-80.89\"/>\n<text text-anchor=\"middle\" x=\"562.68\" y=\"-93.8\" font-family=\"Times,serif\" font-size=\"14.00\">1 </text>\n</g>\n<!-- S22&#45;&gt;S12 -->\n<g id=\"edge12\" class=\"edge\">\n<title>S22&#45;&gt;S12</title>\n<path fill=\"none\" stroke=\"black\" d=\"M442.9,-101.5C453.97,-101.26 467.33,-100.98 479.44,-100.72\"/>\n<polygon fill=\"black\" stroke=\"black\" points=\"479.74,-104.22 489.67,-100.5 479.6,-97.22 479.74,-104.22\"/>\n<text text-anchor=\"middle\" x=\"466.28\" y=\"-104.8\" font-family=\"Times,serif\" font-size=\"14.00\">0 </text>\n</g>\n<!-- S11 -->\n<g id=\"node4\" class=\"node\">\n<title>S11</title>\n<ellipse fill=\"none\" stroke=\"black\" cx=\"321.69\" cy=\"-100\" rx=\"24.9\" ry=\"24.9\"/>\n<text text-anchor=\"middle\" x=\"321.69\" y=\"-96.3\" font-family=\"Times,serif\" font-size=\"14.00\">S11</text>\n</g>\n<!-- S22&#45;&gt;S11 -->\n<g id=\"edge13\" class=\"edge\">\n<title>S22&#45;&gt;S11</title>\n<path fill=\"none\" stroke=\"black\" d=\"M396.6,-89.31C390.07,-85.92 382.64,-82.72 375.39,-81 367.75,-79.19 359.7,-80.4 352.25,-82.92\"/>\n<polygon fill=\"black\" stroke=\"black\" points=\"350.76,-79.74 342.88,-86.83 353.46,-86.2 350.76,-79.74\"/>\n<text text-anchor=\"middle\" x=\"369.89\" y=\"-84.8\" font-family=\"Times,serif\" font-size=\"14.00\">1 </text>\n</g>\n<!-- S11&#45;&gt;S22 -->\n<g id=\"edge11\" class=\"edge\">\n<title>S11&#45;&gt;S22</title>\n<path fill=\"none\" stroke=\"black\" d=\"M346.51,-100.5C357.58,-100.74 370.94,-101.02 383.05,-101.28\"/>\n<polygon fill=\"black\" stroke=\"black\" points=\"383.2,-104.78 393.27,-101.5 383.35,-97.78 383.2,-104.78\"/>\n<text text-anchor=\"middle\" x=\"369.89\" y=\"-104.8\" font-family=\"Times,serif\" font-size=\"14.00\">1 </text>\n</g>\n<!-- S21 -->\n<g id=\"node5\" class=\"node\">\n<title>S21</title>\n<ellipse fill=\"none\" stroke=\"black\" cx=\"225.29\" cy=\"-100\" rx=\"24.9\" ry=\"24.9\"/>\n<text text-anchor=\"middle\" x=\"225.29\" y=\"-96.3\" font-family=\"Times,serif\" font-size=\"14.00\">S21</text>\n</g>\n<!-- S11&#45;&gt;S21 -->\n<g id=\"edge10\" class=\"edge\">\n<title>S11&#45;&gt;S21</title>\n<path fill=\"none\" stroke=\"black\" d=\"M300.54,-87.02C290.87,-82.28 279.02,-78.61 267.99,-81 264.27,-81.81 260.49,-82.98 256.8,-84.34\"/>\n<polygon fill=\"black\" stroke=\"black\" points=\"255.2,-81.22 247.33,-88.31 257.9,-87.67 255.2,-81.22\"/>\n<text text-anchor=\"middle\" x=\"273.49\" y=\"-84.8\" font-family=\"Times,serif\" font-size=\"14.00\">0 </text>\n</g>\n<!-- S21&#45;&gt;S11 -->\n<g id=\"edge6\" class=\"edge\">\n<title>S21&#45;&gt;S11</title>\n<path fill=\"none\" stroke=\"black\" d=\"M250.11,-100C261.18,-100 274.54,-100 286.65,-100\"/>\n<polygon fill=\"black\" stroke=\"black\" points=\"286.88,-103.5 296.88,-100 286.88,-96.5 286.88,-103.5\"/>\n<text text-anchor=\"middle\" x=\"273.49\" y=\"-103.8\" font-family=\"Times,serif\" font-size=\"14.00\">0 </text>\n</g>\n<!-- S21&#45;&gt;IF10 -->\n<g id=\"edge7\" class=\"edge\">\n<title>S21&#45;&gt;IF10</title>\n<path fill=\"none\" stroke=\"black\" d=\"M206.31,-83.53C199.33,-77.88 191,-71.99 182.6,-68 176.64,-65.17 170.07,-62.89 163.53,-61.06\"/>\n<polygon fill=\"black\" stroke=\"black\" points=\"163.94,-57.55 153.39,-58.53 162.25,-64.35 163.94,-57.55\"/>\n<text text-anchor=\"middle\" x=\"177.1\" y=\"-71.8\" font-family=\"Times,serif\" font-size=\"14.00\">1 </text>\n</g>\n<!-- IF10&#45;&gt;S21 -->\n<g id=\"edge3\" class=\"edge\">\n<title>IF10&#45;&gt;S21</title>\n<path fill=\"none\" stroke=\"black\" d=\"M147.36,-72.92C154.81,-78.08 163.25,-83.27 171.6,-87 177.64,-89.7 184.33,-91.9 190.86,-93.67\"/>\n<polygon fill=\"black\" stroke=\"black\" points=\"190.33,-97.14 200.87,-96.1 191.98,-90.34 190.33,-97.14\"/>\n<text text-anchor=\"middle\" x=\"177.1\" y=\"-93.8\" font-family=\"Times,serif\" font-size=\"14.00\">1 </text>\n</g>\n<!-- IF10&#45;&gt;F20 -->\n<g id=\"edge2\" class=\"edge\">\n<title>IF10&#45;&gt;F20</title>\n<path fill=\"none\" stroke=\"black\" d=\"M153.15,-46.75C173.15,-42.52 200.15,-38 224.29,-38 224.29,-38 224.29,-38 515.48,-38 535.97,-38 558.56,-41.42 576.92,-45.1\"/>\n<polygon fill=\"black\" stroke=\"black\" points=\"576.41,-48.57 586.92,-47.21 577.86,-41.72 576.41,-48.57\"/>\n<text text-anchor=\"middle\" x=\"369.89\" y=\"-41.8\" font-family=\"Times,serif\" font-size=\"14.00\">0 </text>\n</g>\n<!-- F20&#45;&gt;S12 -->\n<g id=\"edge5\" class=\"edge\">\n<title>F20&#45;&gt;S12</title>\n<path fill=\"none\" stroke=\"black\" d=\"M586.74,-60.91C577.17,-63.79 566.48,-67.51 557.18,-72 552.49,-74.26 547.72,-76.99 543.16,-79.85\"/>\n<polygon fill=\"black\" stroke=\"black\" points=\"541.15,-76.98 534.73,-85.41 545,-82.82 541.15,-76.98\"/>\n<text text-anchor=\"middle\" x=\"562.68\" y=\"-75.8\" font-family=\"Times,serif\" font-size=\"14.00\">1 </text>\n</g>\n<!-- F20&#45;&gt;IF10 -->\n<g id=\"edge4\" class=\"edge\">\n<title>F20&#45;&gt;IF10</title>\n<path fill=\"none\" stroke=\"black\" d=\"M593.39,-34.81C574.62,-19.29 545.29,0 515.48,0 224.29,0 224.29,0 224.29,0 198.77,0 173.46,-13.57 154.56,-27.11\"/>\n<polygon fill=\"black\" stroke=\"black\" points=\"152.24,-24.47 146.34,-33.28 156.44,-30.07 152.24,-24.47\"/>\n<text text-anchor=\"middle\" x=\"369.89\" y=\"-3.8\" font-family=\"Times,serif\" font-size=\"14.00\">0 </text>\n</g>\n</g>\n</svg>\n",
            "text/plain": [
              "<graphviz.graphs.Digraph at 0x79e4e83c4d30>"
            ]
          },
          "metadata": {},
          "execution_count": 22
        }
      ]
    },
    {
      "cell_type": "markdown",
      "source": [
        "Let us now reassure ourselves that our construction is right"
      ],
      "metadata": {
        "id": "x3tosFnhLPeS"
      }
    },
    {
      "cell_type": "code",
      "source": [
        "MIN_LSB_mod3 = min_dfa(LSB_mod3)\n",
        "dotObj_dfa(MIN_LSB_mod3, FuseEdges=\"True\")"
      ],
      "metadata": {
        "id": "Py2ESRrQK_RN",
        "outputId": "1d06c213-d754-4238-ab59-eb370a631e51",
        "colab": {
          "base_uri": "https://localhost:8080/",
          "height": 160
        }
      },
      "execution_count": 24,
      "outputs": [
        {
          "output_type": "execute_result",
          "data": {
            "image/svg+xml": "<?xml version=\"1.0\" encoding=\"UTF-8\" standalone=\"no\"?>\n<!DOCTYPE svg PUBLIC \"-//W3C//DTD SVG 1.1//EN\"\n \"http://www.w3.org/Graphics/SVG/1.1/DTD/svg11.dtd\">\n<!-- Generated by graphviz version 2.43.0 (0)\n -->\n<!-- Title: %3 Pages: 1 -->\n<svg width=\"354pt\" height=\"104pt\"\n viewBox=\"0.00 0.00 354.39 103.60\" xmlns=\"http://www.w3.org/2000/svg\" xmlns:xlink=\"http://www.w3.org/1999/xlink\">\n<g id=\"graph0\" class=\"graph\" transform=\"scale(1 1) rotate(0) translate(4 99.6)\">\n<title>%3</title>\n<polygon fill=\"white\" stroke=\"transparent\" points=\"-4,4 -4,-99.6 350.39,-99.6 350.39,4 -4,4\"/>\n<!-- EMPTY -->\n<g id=\"node1\" class=\"node\">\n<title>EMPTY</title>\n</g>\n<!-- IF10 -->\n<g id=\"node4\" class=\"node\">\n<title>IF10</title>\n<ellipse fill=\"none\" stroke=\"black\" cx=\"122.3\" cy=\"-31.3\" rx=\"27.12\" ry=\"27.12\"/>\n<ellipse fill=\"none\" stroke=\"black\" cx=\"122.3\" cy=\"-31.3\" rx=\"31.1\" ry=\"31.1\"/>\n<text text-anchor=\"middle\" x=\"122.3\" y=\"-27.6\" font-family=\"Times,serif\" font-size=\"14.00\">IF10</text>\n</g>\n<!-- EMPTY&#45;&gt;IF10 -->\n<g id=\"edge1\" class=\"edge\">\n<title>EMPTY&#45;&gt;IF10</title>\n<path fill=\"none\" stroke=\"black\" d=\"M54.49,-31.3C62.62,-31.3 71.76,-31.3 80.61,-31.3\"/>\n<polygon fill=\"black\" stroke=\"black\" points=\"80.79,-34.8 90.79,-31.3 80.79,-27.8 80.79,-34.8\"/>\n</g>\n<!-- S12 -->\n<g id=\"node2\" class=\"node\">\n<title>S12</title>\n<ellipse fill=\"none\" stroke=\"black\" cx=\"225.29\" cy=\"-31.3\" rx=\"24.9\" ry=\"24.9\"/>\n<text text-anchor=\"middle\" x=\"225.29\" y=\"-27.6\" font-family=\"Times,serif\" font-size=\"14.00\">S12</text>\n</g>\n<!-- S22 -->\n<g id=\"node3\" class=\"node\">\n<title>S22</title>\n<ellipse fill=\"none\" stroke=\"black\" cx=\"321.69\" cy=\"-31.3\" rx=\"24.9\" ry=\"24.9\"/>\n<text text-anchor=\"middle\" x=\"321.69\" y=\"-27.6\" font-family=\"Times,serif\" font-size=\"14.00\">S22</text>\n</g>\n<!-- S12&#45;&gt;S22 -->\n<g id=\"edge4\" class=\"edge\">\n<title>S12&#45;&gt;S22</title>\n<path fill=\"none\" stroke=\"black\" d=\"M250.11,-31.3C261.18,-31.3 274.54,-31.3 286.65,-31.3\"/>\n<polygon fill=\"black\" stroke=\"black\" points=\"286.88,-34.8 296.88,-31.3 286.88,-27.8 286.88,-34.8\"/>\n<text text-anchor=\"middle\" x=\"273.49\" y=\"-35.1\" font-family=\"Times,serif\" font-size=\"14.00\">0 </text>\n</g>\n<!-- S12&#45;&gt;IF10 -->\n<g id=\"edge5\" class=\"edge\">\n<title>S12&#45;&gt;IF10</title>\n<path fill=\"none\" stroke=\"black\" d=\"M203.26,-19.61C196.82,-16.62 189.59,-13.82 182.6,-12.3 175.1,-10.67 167.21,-11.4 159.72,-13.31\"/>\n<polygon fill=\"black\" stroke=\"black\" points=\"158.6,-10 150.16,-16.4 160.75,-16.66 158.6,-10\"/>\n<text text-anchor=\"middle\" x=\"177.1\" y=\"-16.1\" font-family=\"Times,serif\" font-size=\"14.00\">1 </text>\n</g>\n<!-- S22&#45;&gt;S12 -->\n<g id=\"edge6\" class=\"edge\">\n<title>S22&#45;&gt;S12</title>\n<path fill=\"none\" stroke=\"black\" d=\"M300.54,-18.32C290.87,-13.58 279.02,-9.9 267.99,-12.3 264.27,-13.1 260.49,-14.27 256.8,-15.64\"/>\n<polygon fill=\"black\" stroke=\"black\" points=\"255.2,-12.51 247.33,-19.61 257.9,-18.97 255.2,-12.51\"/>\n<text text-anchor=\"middle\" x=\"273.49\" y=\"-16.1\" font-family=\"Times,serif\" font-size=\"14.00\">0 </text>\n</g>\n<!-- S22&#45;&gt;S22 -->\n<g id=\"edge7\" class=\"edge\">\n<title>S22&#45;&gt;S22</title>\n<path fill=\"none\" stroke=\"black\" d=\"M312.83,-54.57C311.99,-64.99 314.94,-74 321.69,-74 326.01,-74 328.78,-70.3 329.99,-64.9\"/>\n<polygon fill=\"black\" stroke=\"black\" points=\"333.5,-64.75 330.55,-54.57 326.51,-64.37 333.5,-64.75\"/>\n<text text-anchor=\"middle\" x=\"321.69\" y=\"-77.8\" font-family=\"Times,serif\" font-size=\"14.00\">1 </text>\n</g>\n<!-- IF10&#45;&gt;S12 -->\n<g id=\"edge3\" class=\"edge\">\n<title>IF10&#45;&gt;S12</title>\n<path fill=\"none\" stroke=\"black\" d=\"M153.6,-31.3C165.19,-31.3 178.49,-31.3 190.4,-31.3\"/>\n<polygon fill=\"black\" stroke=\"black\" points=\"190.43,-34.8 200.43,-31.3 190.43,-27.8 190.43,-34.8\"/>\n<text text-anchor=\"middle\" x=\"177.1\" y=\"-35.1\" font-family=\"Times,serif\" font-size=\"14.00\">1 </text>\n</g>\n<!-- IF10&#45;&gt;IF10 -->\n<g id=\"edge2\" class=\"edge\">\n<title>IF10&#45;&gt;IF10</title>\n<path fill=\"none\" stroke=\"black\" d=\"M113.3,-61.63C113.2,-72.12 116.2,-80.6 122.3,-80.6 126.2,-80.6 128.84,-77.12 130.2,-71.86\"/>\n<polygon fill=\"black\" stroke=\"black\" points=\"133.71,-71.94 131.3,-61.63 126.75,-71.2 133.71,-71.94\"/>\n<text text-anchor=\"middle\" x=\"122.3\" y=\"-84.4\" font-family=\"Times,serif\" font-size=\"14.00\">0 </text>\n</g>\n</g>\n</svg>\n",
            "text/plain": [
              "<graphviz.graphs.Digraph at 0x79e4e8143190>"
            ]
          },
          "metadata": {},
          "execution_count": 24
        }
      ]
    },
    {
      "cell_type": "markdown",
      "source": [
        "# Wow, the power of theory! It shows that it is isomorphic to the DFA for MSB-first. This is a property enjoyed by mod-3 . See if it works for other modulii :-)"
      ],
      "metadata": {
        "id": "vgdqyk10LTz5"
      }
    },
    {
      "cell_type": "markdown",
      "metadata": {
        "id": "rKq03Wz8Bg9w"
      },
      "source": [
        "# Illustrate REs to generate test DFA\n",
        "\n",
        "## While we've not studied regular expressions, you can pretty much follow what I'm saying here...\n",
        "\n",
        "## A 0 followed by any number of 0s (``any number means zero or more'')\n",
        "## followed by any number of 0s or 1s"
      ]
    },
    {
      "cell_type": "code",
      "execution_count": null,
      "metadata": {
        "id": "bJIqnptsBg9w",
        "outputId": "3d4429a8-e8bd-4c5b-ad5e-cd6d5131cc67",
        "colab": {
          "base_uri": "https://localhost:8080/"
        }
      },
      "outputs": [
        {
          "output_type": "stream",
          "name": "stderr",
          "text": [
            "Generating LALR tables\n"
          ]
        },
        {
          "output_type": "execute_result",
          "data": {
            "text/plain": [
              "{'Q': {'St1', 'St10', 'St2', 'St3', 'St4', 'St5', 'St6', 'St7', 'St8', 'St9'},\n",
              " 'Sigma': {'0', '1'},\n",
              " 'Delta': {('St1', '0'): {'St2'},\n",
              "  ('St5', ''): {'St10', 'St3', 'St6'},\n",
              "  ('St3', '0'): {'St4'},\n",
              "  ('St4', ''): {'St5'},\n",
              "  ('St2', ''): {'St5'},\n",
              "  ('St6', '0'): {'St7'},\n",
              "  ('St10', ''): {'St8'},\n",
              "  ('St8', '1'): {'St9'},\n",
              "  ('St9', ''): {'St10'}},\n",
              " 'Q0': {'St1'},\n",
              " 'F': {'St10', 'St7'}}"
            ]
          },
          "metadata": {},
          "execution_count": 42
        }
      ],
      "source": [
        "re2nfa('00*(0+1*)')"
      ]
    },
    {
      "cell_type": "code",
      "execution_count": null,
      "metadata": {
        "id": "eEufBOK1Bg9x",
        "outputId": "89179aaf-cea3-49f5-d7ba-cb6b57579532",
        "colab": {
          "base_uri": "https://localhost:8080/"
        }
      },
      "outputs": [
        {
          "output_type": "stream",
          "name": "stderr",
          "text": [
            "Generating LALR tables\n"
          ]
        }
      ],
      "source": [
        "nd = nfa2dfa(re2nfa('00*(0+1*)'))"
      ]
    },
    {
      "cell_type": "code",
      "execution_count": null,
      "metadata": {
        "id": "t4Z9LCwGBg9x"
      },
      "outputs": [],
      "source": [
        "mnd = min_dfa(nd, state_name_mode='verbose')"
      ]
    },
    {
      "cell_type": "code",
      "execution_count": null,
      "metadata": {
        "id": "SeWCDBA_Bg9y",
        "outputId": "6f06c3ee-8c46-4118-820e-36b744b7f55a",
        "colab": {
          "base_uri": "https://localhost:8080/"
        }
      },
      "outputs": [
        {
          "output_type": "stream",
          "name": "stdout",
          "text": [
            "Help on function min_dfa in module jove.Def_DFA:\n",
            "\n",
            "min_dfa(D, state_name_mode='succinct', chatty=False)\n",
            "    The top-level callable DFA minimizer.\n",
            "    \n",
            "    In : D (consistent DFA to be minimized)\n",
            "    Out: Minimized version of D.\n",
            "    \n",
            "    Given a DFA D, go through the state minimization algorithm.\n",
            "    \n",
            "    Setting chatty=True helps reveal the detailed steps. Please try it!        \n",
            "    \n",
            "    If the state_name_mode is verbose, we will make state names\n",
            "    by stringing together the state names in the equivalence\n",
            "    classes. If 'succinct', then only the name of the equivalence-class\n",
            "    representative is retained.\n",
            "\n"
          ]
        }
      ],
      "source": [
        "help(min_dfa)"
      ]
    },
    {
      "cell_type": "code",
      "execution_count": null,
      "metadata": {
        "id": "GPmN5OkKBg95",
        "outputId": "63557e2b-74fb-4428-f759-61cba55fbb68",
        "colab": {
          "base_uri": "https://localhost:8080/"
        }
      },
      "outputs": [
        {
          "output_type": "execute_result",
          "data": {
            "text/plain": [
              "5"
            ]
          },
          "metadata": {},
          "execution_count": 46
        }
      ],
      "source": [
        "len(nd[\"Q\"])"
      ]
    },
    {
      "cell_type": "code",
      "execution_count": null,
      "metadata": {
        "id": "4koi5V0nBg97",
        "outputId": "3b8f6792-f137-4f9b-93e7-f6d3d8c54423",
        "colab": {
          "base_uri": "https://localhost:8080/"
        }
      },
      "outputs": [
        {
          "output_type": "execute_result",
          "data": {
            "text/plain": [
              "4"
            ]
          },
          "metadata": {},
          "execution_count": 47
        }
      ],
      "source": [
        "len(mnd[\"Q\"])"
      ]
    },
    {
      "cell_type": "code",
      "execution_count": null,
      "metadata": {
        "id": "pNMCXj41Bg97",
        "outputId": "d208825b-50a7-453c-9d32-1890f7ae8d6e",
        "colab": {
          "base_uri": "https://localhost:8080/",
          "height": 214
        }
      },
      "outputs": [
        {
          "output_type": "execute_result",
          "data": {
            "text/plain": [
              "<graphviz.dot.Digraph at 0x7fc7e6bb6f50>"
            ],
            "image/svg+xml": "<?xml version=\"1.0\" encoding=\"UTF-8\" standalone=\"no\"?>\n<!DOCTYPE svg PUBLIC \"-//W3C//DTD SVG 1.1//EN\"\n \"http://www.w3.org/Graphics/SVG/1.1/DTD/svg11.dtd\">\n<!-- Generated by graphviz version 2.40.1 (20161225.0304)\n -->\n<!-- Title: %3 Pages: 1 -->\n<svg width=\"454pt\" height=\"144pt\"\n viewBox=\"0.00 0.00 454.18 143.80\" xmlns=\"http://www.w3.org/2000/svg\" xmlns:xlink=\"http://www.w3.org/1999/xlink\">\n<g id=\"graph0\" class=\"graph\" transform=\"scale(1 1) rotate(0) translate(4 139.7958)\">\n<title>%3</title>\n<polygon fill=\"#ffffff\" stroke=\"transparent\" points=\"-4,4 -4,-139.7958 450.1834,-139.7958 450.1834,4 -4,4\"/>\n<!-- EMPTY -->\n<g id=\"node1\" class=\"node\">\n<title>EMPTY</title>\n</g>\n<!-- St1 -->\n<g id=\"node2\" class=\"node\">\n<title>St1</title>\n<ellipse fill=\"none\" stroke=\"#000000\" cx=\"114.3979\" cy=\"-75.3979\" rx=\"23.2963\" ry=\"23.2963\"/>\n<text text-anchor=\"middle\" x=\"114.3979\" y=\"-71.6979\" font-family=\"Times,serif\" font-size=\"14.00\" fill=\"#000000\">St1</text>\n</g>\n<!-- EMPTY&#45;&gt;St1 -->\n<g id=\"edge1\" class=\"edge\">\n<title>EMPTY&#45;&gt;St1</title>\n<path fill=\"none\" stroke=\"#000000\" d=\"M54.1742,-75.3979C62.5103,-75.3979 71.7873,-75.3979 80.5137,-75.3979\"/>\n<polygon fill=\"#000000\" stroke=\"#000000\" points=\"80.7846,-78.898 90.7846,-75.3979 80.7845,-71.898 80.7846,-78.898\"/>\n</g>\n<!-- St2 -->\n<g id=\"node5\" class=\"node\">\n<title>St2</title>\n<ellipse fill=\"none\" stroke=\"#000000\" cx=\"213.1938\" cy=\"-75.3979\" rx=\"23.3111\" ry=\"23.3111\"/>\n<ellipse fill=\"none\" stroke=\"#000000\" cx=\"213.1938\" cy=\"-75.3979\" rx=\"27.2962\" ry=\"27.2962\"/>\n<text text-anchor=\"middle\" x=\"213.1938\" y=\"-71.6979\" font-family=\"Times,serif\" font-size=\"14.00\" fill=\"#000000\">St2</text>\n</g>\n<!-- St1&#45;&gt;St2 -->\n<g id=\"edge2\" class=\"edge\">\n<title>St1&#45;&gt;St2</title>\n<path fill=\"none\" stroke=\"#000000\" d=\"M137.8112,-75.3979C149.0451,-75.3979 162.7854,-75.3979 175.4437,-75.3979\"/>\n<polygon fill=\"#000000\" stroke=\"#000000\" points=\"175.7434,-78.898 185.7433,-75.3979 175.7433,-71.898 175.7434,-78.898\"/>\n<text text-anchor=\"middle\" x=\"161.7958\" y=\"-79.1979\" font-family=\"Times,serif\" font-size=\"14.00\" fill=\"#000000\">0 </text>\n</g>\n<!-- St4 -->\n<g id=\"node3\" class=\"node\">\n<title>St4</title>\n<ellipse fill=\"none\" stroke=\"#000000\" cx=\"418.7855\" cy=\"-75.3979\" rx=\"23.3111\" ry=\"23.3111\"/>\n<ellipse fill=\"none\" stroke=\"#000000\" cx=\"418.7855\" cy=\"-75.3979\" rx=\"27.2962\" ry=\"27.2962\"/>\n<text text-anchor=\"middle\" x=\"418.7855\" y=\"-71.6979\" font-family=\"Times,serif\" font-size=\"14.00\" fill=\"#000000\">St4</text>\n</g>\n<!-- St4&#45;&gt;St4 -->\n<g id=\"edge5\" class=\"edge\">\n<title>St4&#45;&gt;St4</title>\n<path fill=\"none\" stroke=\"#000000\" d=\"M409.4677,-101.523C408.9413,-112.0011 412.0472,-120.7958 418.7855,-120.7958 423.1022,-120.7958 425.9282,-117.1865 427.2634,-111.8374\"/>\n<polygon fill=\"#000000\" stroke=\"#000000\" points=\"430.7801,-111.7741 428.1032,-101.523 423.8032,-111.206 430.7801,-111.7741\"/>\n<text text-anchor=\"middle\" x=\"418.7855\" y=\"-124.5958\" font-family=\"Times,serif\" font-size=\"14.00\" fill=\"#000000\">1 </text>\n</g>\n<!-- St3 -->\n<g id=\"node4\" class=\"node\">\n<title>St3</title>\n<ellipse fill=\"none\" stroke=\"#000000\" cx=\"315.9896\" cy=\"-27.3979\" rx=\"23.3111\" ry=\"23.3111\"/>\n<ellipse fill=\"none\" stroke=\"#000000\" cx=\"315.9896\" cy=\"-27.3979\" rx=\"27.2962\" ry=\"27.2962\"/>\n<text text-anchor=\"middle\" x=\"315.9896\" y=\"-23.6979\" font-family=\"Times,serif\" font-size=\"14.00\" fill=\"#000000\">St3</text>\n</g>\n<!-- St3&#45;&gt;St4 -->\n<g id=\"edge6\" class=\"edge\">\n<title>St3&#45;&gt;St4</title>\n<path fill=\"none\" stroke=\"#000000\" d=\"M340.8736,-39.0174C354.0341,-45.1626 370.3882,-52.7991 384.7102,-59.4866\"/>\n<polygon fill=\"#000000\" stroke=\"#000000\" points=\"383.2326,-62.6594 393.7743,-63.7191 386.1943,-56.3168 383.2326,-62.6594\"/>\n<text text-anchor=\"middle\" x=\"367.3875\" y=\"-56.1979\" font-family=\"Times,serif\" font-size=\"14.00\" fill=\"#000000\">1 </text>\n</g>\n<!-- St3&#45;&gt;St3 -->\n<g id=\"edge7\" class=\"edge\">\n<title>St3&#45;&gt;St3</title>\n<path fill=\"none\" stroke=\"#000000\" d=\"M306.6718,-53.523C306.1454,-64.0011 309.2513,-72.7958 315.9896,-72.7958 320.3063,-72.7958 323.1323,-69.1865 324.4676,-63.8374\"/>\n<polygon fill=\"#000000\" stroke=\"#000000\" points=\"327.9842,-63.7741 325.3074,-53.523 321.0073,-63.206 327.9842,-63.7741\"/>\n<text text-anchor=\"middle\" x=\"315.9896\" y=\"-76.5958\" font-family=\"Times,serif\" font-size=\"14.00\" fill=\"#000000\">0 </text>\n</g>\n<!-- St2&#45;&gt;St4 -->\n<g id=\"edge3\" class=\"edge\">\n<title>St2&#45;&gt;St4</title>\n<path fill=\"none\" stroke=\"#000000\" d=\"M239.3439,-84.5703C253.6861,-89.1182 271.8975,-94.1165 288.5917,-96.3979 312.7211,-99.6955 319.2581,-99.6955 343.3875,-96.3979 356.4298,-94.6156 370.3983,-91.1749 382.7242,-87.5863\"/>\n<polygon fill=\"#000000\" stroke=\"#000000\" points=\"384.0875,-90.83 392.6353,-84.5703 382.0495,-84.1333 384.0875,-90.83\"/>\n<text text-anchor=\"middle\" x=\"315.9896\" y=\"-102.1979\" font-family=\"Times,serif\" font-size=\"14.00\" fill=\"#000000\">1 </text>\n</g>\n<!-- St2&#45;&gt;St3 -->\n<g id=\"edge4\" class=\"edge\">\n<title>St2&#45;&gt;St3</title>\n<path fill=\"none\" stroke=\"#000000\" d=\"M238.0778,-63.7785C251.2382,-57.6333 267.5924,-49.9968 281.9143,-43.3092\"/>\n<polygon fill=\"#000000\" stroke=\"#000000\" points=\"283.3984,-46.479 290.9785,-39.0767 280.4368,-40.1364 283.3984,-46.479\"/>\n<text text-anchor=\"middle\" x=\"264.5917\" y=\"-56.1979\" font-family=\"Times,serif\" font-size=\"14.00\" fill=\"#000000\">0 </text>\n</g>\n</g>\n</svg>\n"
          },
          "metadata": {},
          "execution_count": 48
        }
      ],
      "source": [
        "dotObj_dfa(nd, STATENAME_MAXSIZE=40)"
      ]
    },
    {
      "cell_type": "code",
      "execution_count": null,
      "metadata": {
        "scrolled": true,
        "id": "V_7doEXrBg98",
        "outputId": "addb86b9-6c1f-4e43-8f20-7a8a4da9cc64",
        "colab": {
          "base_uri": "https://localhost:8080/",
          "height": 196
        }
      },
      "outputs": [
        {
          "output_type": "execute_result",
          "data": {
            "text/plain": [
              "<graphviz.dot.Digraph at 0x7fc7e6bb6990>"
            ],
            "image/svg+xml": "<?xml version=\"1.0\" encoding=\"UTF-8\" standalone=\"no\"?>\n<!DOCTYPE svg PUBLIC \"-//W3C//DTD SVG 1.1//EN\"\n \"http://www.w3.org/Graphics/SVG/1.1/DTD/svg11.dtd\">\n<!-- Generated by graphviz version 2.40.1 (20161225.0304)\n -->\n<!-- Title: %3 Pages: 1 -->\n<svg width=\"386pt\" height=\"131pt\"\n viewBox=\"0.00 0.00 386.48 130.89\" xmlns=\"http://www.w3.org/2000/svg\" xmlns:xlink=\"http://www.w3.org/1999/xlink\">\n<g id=\"graph0\" class=\"graph\" transform=\"scale(1 1) rotate(0) translate(4 126.8927)\">\n<title>%3</title>\n<polygon fill=\"#ffffff\" stroke=\"transparent\" points=\"-4,4 -4,-126.8927 382.4844,-126.8927 382.4844,4 -4,4\"/>\n<!-- EMPTY -->\n<g id=\"node1\" class=\"node\">\n<title>EMPTY</title>\n</g>\n<!-- St1 -->\n<g id=\"node2\" class=\"node\">\n<title>St1</title>\n<ellipse fill=\"none\" stroke=\"#000000\" cx=\"114.3979\" cy=\"-44.9464\" rx=\"23.2963\" ry=\"23.2963\"/>\n<text text-anchor=\"middle\" x=\"114.3979\" y=\"-41.2464\" font-family=\"Times,serif\" font-size=\"14.00\" fill=\"#000000\">St1</text>\n</g>\n<!-- EMPTY&#45;&gt;St1 -->\n<g id=\"edge1\" class=\"edge\">\n<title>EMPTY&#45;&gt;St1</title>\n<path fill=\"none\" stroke=\"#000000\" d=\"M54.1742,-44.9464C62.5103,-44.9464 71.7873,-44.9464 80.5137,-44.9464\"/>\n<polygon fill=\"#000000\" stroke=\"#000000\" points=\"80.7846,-48.4465 90.7846,-44.9464 80.7845,-41.4465 80.7846,-48.4465\"/>\n</g>\n<!-- St3_St2 -->\n<g id=\"node4\" class=\"node\">\n<title>St3_St2</title>\n<ellipse fill=\"none\" stroke=\"#000000\" cx=\"230.7422\" cy=\"-44.9464\" rx=\"40.8976\" ry=\"40.8976\"/>\n<ellipse fill=\"none\" stroke=\"#000000\" cx=\"230.7422\" cy=\"-44.9464\" rx=\"44.8928\" ry=\"44.8928\"/>\n<text text-anchor=\"middle\" x=\"230.7422\" y=\"-41.2464\" font-family=\"Times,serif\" font-size=\"14.00\" fill=\"#000000\">St3_St2</text>\n</g>\n<!-- St1&#45;&gt;St3_St2 -->\n<g id=\"edge2\" class=\"edge\">\n<title>St1&#45;&gt;St3_St2</title>\n<path fill=\"none\" stroke=\"#000000\" d=\"M137.9419,-44.9464C148.8417,-44.9464 162.2916,-44.9464 175.536,-44.9464\"/>\n<polygon fill=\"#000000\" stroke=\"#000000\" points=\"175.5784,-48.4465 185.5783,-44.9464 175.5783,-41.4465 175.5784,-48.4465\"/>\n<text text-anchor=\"middle\" x=\"161.7958\" y=\"-48.7464\" font-family=\"Times,serif\" font-size=\"14.00\" fill=\"#000000\">0 </text>\n</g>\n<!-- St4 -->\n<g id=\"node3\" class=\"node\">\n<title>St4</title>\n<ellipse fill=\"none\" stroke=\"#000000\" cx=\"351.0865\" cy=\"-44.9464\" rx=\"23.3111\" ry=\"23.3111\"/>\n<ellipse fill=\"none\" stroke=\"#000000\" cx=\"351.0865\" cy=\"-44.9464\" rx=\"27.2962\" ry=\"27.2962\"/>\n<text text-anchor=\"middle\" x=\"351.0865\" y=\"-41.2464\" font-family=\"Times,serif\" font-size=\"14.00\" fill=\"#000000\">St4</text>\n</g>\n<!-- St4&#45;&gt;St4 -->\n<g id=\"edge5\" class=\"edge\">\n<title>St4&#45;&gt;St4</title>\n<path fill=\"none\" stroke=\"#000000\" d=\"M341.7687,-71.0714C341.2423,-81.5496 344.3482,-90.3443 351.0865,-90.3443 355.4032,-90.3443 358.2292,-86.7349 359.5645,-81.3859\"/>\n<polygon fill=\"#000000\" stroke=\"#000000\" points=\"363.0811,-81.3225 360.4043,-71.0714 356.1042,-80.7544 363.0811,-81.3225\"/>\n<text text-anchor=\"middle\" x=\"351.0865\" y=\"-94.1443\" font-family=\"Times,serif\" font-size=\"14.00\" fill=\"#000000\">1 </text>\n</g>\n<!-- St3_St2&#45;&gt;St4 -->\n<g id=\"edge3\" class=\"edge\">\n<title>St3_St2&#45;&gt;St4</title>\n<path fill=\"none\" stroke=\"#000000\" d=\"M275.8964,-44.9464C288.2768,-44.9464 301.5633,-44.9464 313.4716,-44.9464\"/>\n<polygon fill=\"#000000\" stroke=\"#000000\" points=\"313.5243,-48.4465 323.5243,-44.9464 313.5242,-41.4465 313.5243,-48.4465\"/>\n<text text-anchor=\"middle\" x=\"299.6886\" y=\"-48.7464\" font-family=\"Times,serif\" font-size=\"14.00\" fill=\"#000000\">1 </text>\n</g>\n<!-- St3_St2&#45;&gt;St3_St2 -->\n<g id=\"edge4\" class=\"edge\">\n<title>St3_St2&#45;&gt;St3_St2</title>\n<path fill=\"none\" stroke=\"#000000\" d=\"M218.1237,-88.1941C218.8993,-99.4245 223.1055,-107.8927 230.7422,-107.8927 235.8731,-107.8927 239.4554,-104.07 241.4892,-98.1552\"/>\n<polygon fill=\"#000000\" stroke=\"#000000\" points=\"244.9539,-98.6684 243.3607,-88.1941 238.0743,-97.3758 244.9539,-98.6684\"/>\n<text text-anchor=\"middle\" x=\"230.7422\" y=\"-111.6927\" font-family=\"Times,serif\" font-size=\"14.00\" fill=\"#000000\">0 </text>\n</g>\n</g>\n</svg>\n"
          },
          "metadata": {},
          "execution_count": 49
        }
      ],
      "source": [
        "dotObj_dfa(mnd)"
      ]
    },
    {
      "cell_type": "code",
      "source": [],
      "metadata": {
        "id": "rz6k6nwbJYNV"
      },
      "execution_count": null,
      "outputs": []
    }
  ],
  "metadata": {
    "kernelspec": {
      "display_name": "Python 3",
      "language": "python",
      "name": "python3"
    },
    "language_info": {
      "codemirror_mode": {
        "name": "ipython",
        "version": 3
      },
      "file_extension": ".py",
      "mimetype": "text/x-python",
      "name": "python",
      "nbconvert_exporter": "python",
      "pygments_lexer": "ipython3",
      "version": "3.7.3"
    },
    "toc": {
      "colors": {
        "hover_highlight": "#DAA520",
        "running_highlight": "#FF0000",
        "selected_highlight": "#FFD700"
      },
      "moveMenuLeft": true,
      "nav_menu": {
        "height": "318px",
        "width": "252px"
      },
      "navigate_menu": true,
      "number_sections": true,
      "sideBar": true,
      "threshold": 4,
      "toc_cell": false,
      "toc_section_display": "block",
      "toc_window_display": false,
      "widenNotebook": false
    },
    "colab": {
      "provenance": [],
      "include_colab_link": true
    }
  },
  "nbformat": 4,
  "nbformat_minor": 0
}