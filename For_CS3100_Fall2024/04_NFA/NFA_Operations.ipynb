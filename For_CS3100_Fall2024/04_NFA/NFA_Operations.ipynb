{
 "cells": [
  {
   "cell_type": "code",
   "execution_count": 1,
   "metadata": {
    "run_control": {
     "frozen": false,
     "read_only": false
    }
   },
   "outputs": [
    {
     "name": "stdout",
     "output_type": "stream",
     "text": [
      "You may use any of these help commands:\n",
      "help(ResetStNum)\n",
      "help(NxtStateStr)\n",
      "\n",
      "You may use any of these help commands:\n",
      "help(mkp_dfa)\n",
      "help(mk_dfa)\n",
      "help(totalize_dfa)\n",
      "help(addtosigma_delta)\n",
      "help(step_dfa)\n",
      "help(run_dfa)\n",
      "help(accepts_dfa)\n",
      "help(comp_dfa)\n",
      "help(union_dfa)\n",
      "help(intersect_dfa)\n",
      "help(pruneUnreach)\n",
      "help(iso_dfa)\n",
      "help(langeq_dfa)\n",
      "help(same_status)\n",
      "help(h_langeq_dfa)\n",
      "help(fixptDist)\n",
      "help(min_dfa)\n",
      "help(pairFR)\n",
      "help(state_combos)\n",
      "help(sepFinNonFin)\n",
      "help(bash_eql_classes)\n",
      "help(listminus)\n",
      "help(bash_1)\n",
      "help(mk_rep_eqc)\n",
      "help(F_of)\n",
      "help(rep_of_s)\n",
      "help(q0_of)\n",
      "help(Delta_of)\n",
      "help(mk_state_eqc_name)\n",
      "\n",
      "You may use any of these help commands:\n",
      "help(mk_nfa)\n",
      "help(totalize_nfa)\n",
      "help(step_nfa)\n",
      "help(run_nfa)\n",
      "help(ec_step_nfa)\n",
      "help(Eclosure)\n",
      "help(Echelp)\n",
      "help(accepts_nfa)\n",
      "help(nfa2dfa)\n",
      "help(n2d)\n",
      "help(inSets)\n",
      "help(rev_dfa)\n",
      "help(min_dfa_brz)\n",
      "\n",
      "You may use any of these help commands:\n",
      "help(re2nfa)\n",
      "\n",
      "You may use any of these help commands:\n",
      "help(RE2Str)\n",
      "help(mk_gnfa)\n",
      "help(mk_gnfa_from_D)\n",
      "help(dfa2nfa)\n",
      "help(del_gnfa_states)\n",
      "help(gnfa_w_REStr)\n",
      "help(del_one_gnfa_state)\n",
      "help(Edges_Exist_Via)\n",
      "help(choose_state_to_del)\n",
      "help(form_alt_RE)\n",
      "help(form_concat_RE)\n",
      "help(form_kleene_RE)\n",
      "\n",
      "You may use any of these help commands:\n",
      "help(md2mc)\n",
      ".. and if you want to dig more, then ..\n",
      "help(default_line_attr)\n",
      "help(length_ok_input_items)\n",
      "help(union_line_attr_list_fld)\n",
      "help(extend_rsltdict)\n",
      "help(form_delta)\n",
      "help(get_machine_components)\n",
      "\n"
     ]
    }
   ],
   "source": [
    "#~~~~~~~~~~~~~~~~~~~~~~~~~~~~~~~~~~~~~~~~~~~~~~~~~~~~~~~\n",
    "import sys\n",
    "\n",
    "# -- Detect if in Own Install or in Colab\n",
    "try:\n",
    "    import google.colab\n",
    "    OWN_INSTALL = False\n",
    "except:\n",
    "    OWN_INSTALL = True\n",
    "    \n",
    "if OWN_INSTALL:\n",
    "    \n",
    "  #---- Leave these definitions ON if running on laptop\n",
    "  #---- Else turn OFF by putting them between ''' ... '''\n",
    "\n",
    "  sys.path[0:0] = ['../../../../..',  '../../../../../3rdparty',  \n",
    "                   '../../../..',  '../../../../3rdparty',  \n",
    "                   '../../..',     '../../../3rdparty', \n",
    "                   '../..',        '../../3rdparty',\n",
    "                   '..',           '../3rdparty' ]\n",
    "\n",
    "else: # In colab\n",
    "  ! if [ ! -d Jove ]; then git clone https://github.com/ganeshutah/Jove Jove; fi\n",
    "  sys.path.append('./Jove')\n",
    "  sys.path.append('./Jove/jove')\n",
    "\n",
    "# -- common imports --\n",
    "from jove.DotBashers import *\n",
    "from jove.Def_DFA import *\n",
    "from jove.Def_NFA import *\n",
    "from jove.Def_RE2NFA import *\n",
    "from jove.Def_NFA2RE import *\n",
    "from jove.Def_md2mc import *\n",
    "#~~~~~~~~~~~~~~~~~~~~~~~~~~~~~~~~~~~~~~~~~~~~~~~~~~~~~~~"
   ]
  },
  {
   "cell_type": "markdown",
   "metadata": {},
   "source": [
    "# NFA Operations \n",
    "\n",
    "##  NFA can easily be subject to these operations\n",
    "\n",
    "### Union\n",
    "\n",
    "### Concatenation\n",
    "\n",
    "### Star\n",
    "\n",
    "## For all other operations,  convert NFA to a DFA and then do those operations on DFA\n"
   ]
  },
  {
   "cell_type": "markdown",
   "metadata": {},
   "source": [
    "=======\n"
   ]
  },
  {
   "cell_type": "markdown",
   "metadata": {},
   "source": [
    "# NFA Union\n",
    "\n",
    "## NFA Union simply involves keeping one NFA on top of another\n",
    "\n",
    "## This is most easily shown by making some NFA quickly via regular expressions\n"
   ]
  },
  {
   "cell_type": "markdown",
   "metadata": {},
   "source": [
    "======="
   ]
  },
  {
   "cell_type": "code",
   "execution_count": 2,
   "metadata": {},
   "outputs": [
    {
     "name": "stdout",
     "output_type": "stream",
     "text": [
      "Help on function re2nfa in module jove.Def_RE2NFA:\n",
      "\n",
      "re2nfa(s, stno=0)\n",
      "    Given a string s representing an RE and an optional\n",
      "    state number stno (default 0), generate an NFA that\n",
      "    is language equivalent to the RE\n",
      "\n"
     ]
    }
   ],
   "source": [
    "help(re2nfa)"
   ]
  },
  {
   "cell_type": "markdown",
   "metadata": {},
   "source": [
    "# Define NFA N1"
   ]
  },
  {
   "cell_type": "code",
   "execution_count": 3,
   "metadata": {},
   "outputs": [],
   "source": [
    "N1 = re2nfa(\"ab\")"
   ]
  },
  {
   "cell_type": "code",
   "execution_count": 4,
   "metadata": {},
   "outputs": [
    {
     "data": {
      "image/svg+xml": [
       "<?xml version=\"1.0\" encoding=\"UTF-8\" standalone=\"no\"?>\n",
       "<!DOCTYPE svg PUBLIC \"-//W3C//DTD SVG 1.1//EN\"\n",
       " \"http://www.w3.org/Graphics/SVG/1.1/DTD/svg11.dtd\">\n",
       "<!-- Generated by graphviz version 2.36.0 (20140111.2315)\n",
       " -->\n",
       "<!-- Title: %3 Pages: 1 -->\n",
       "<svg width=\"432pt\" height=\"60pt\"\n",
       " viewBox=\"0.00 0.00 432.00 60.00\" xmlns=\"http://www.w3.org/2000/svg\" xmlns:xlink=\"http://www.w3.org/1999/xlink\">\n",
       "<g id=\"graph0\" class=\"graph\" transform=\"scale(1 1) rotate(0) translate(4 56)\">\n",
       "<title>%3</title>\n",
       "<polygon fill=\"white\" stroke=\"none\" points=\"-4,4 -4,-56 428,-56 428,4 -4,4\"/>\n",
       "<!-- EMPTY -->\n",
       "<g id=\"node1\" class=\"node\"><title>EMPTY</title>\n",
       "</g>\n",
       "<!-- St1 -->\n",
       "<g id=\"node2\" class=\"node\"><title>St1</title>\n",
       "<ellipse fill=\"none\" stroke=\"black\" cx=\"115\" cy=\"-26\" rx=\"22.9987\" ry=\"22.9987\"/>\n",
       "<text text-anchor=\"middle\" x=\"115\" y=\"-22.3\" font-family=\"Times,serif\" font-size=\"14.00\">St1</text>\n",
       "</g>\n",
       "<!-- EMPTY&#45;&gt;St1 -->\n",
       "<g id=\"edge1\" class=\"edge\"><title>EMPTY&#45;&gt;St1</title>\n",
       "<path fill=\"none\" stroke=\"black\" d=\"M54.2701,-26C63.0041,-26 72.8289,-26 81.9497,-26\"/>\n",
       "<polygon fill=\"black\" stroke=\"black\" points=\"82.2257,-29.5001 92.2256,-26 82.2256,-22.5001 82.2257,-29.5001\"/>\n",
       "</g>\n",
       "<!-- St2 -->\n",
       "<g id=\"node4\" class=\"node\"><title>St2</title>\n",
       "<ellipse fill=\"none\" stroke=\"black\" cx=\"207\" cy=\"-26\" rx=\"22.9987\" ry=\"22.9987\"/>\n",
       "<text text-anchor=\"middle\" x=\"207\" y=\"-22.3\" font-family=\"Times,serif\" font-size=\"14.00\">St2</text>\n",
       "</g>\n",
       "<!-- St1&#45;&gt;St2 -->\n",
       "<g id=\"edge2\" class=\"edge\"><title>St1&#45;&gt;St2</title>\n",
       "<path fill=\"none\" stroke=\"black\" d=\"M137.786,-26C148.65,-26 162,-26 174,-26\"/>\n",
       "<polygon fill=\"black\" stroke=\"black\" points=\"174.102,-29.5001 184.102,-26 174.102,-22.5001 174.102,-29.5001\"/>\n",
       "<text text-anchor=\"middle\" x=\"161\" y=\"-29.8\" font-family=\"Times,serif\" font-size=\"14.00\">a </text>\n",
       "</g>\n",
       "<!-- St3 -->\n",
       "<g id=\"node3\" class=\"node\"><title>St3</title>\n",
       "<ellipse fill=\"none\" stroke=\"black\" cx=\"299\" cy=\"-26\" rx=\"22.9987\" ry=\"22.9987\"/>\n",
       "<text text-anchor=\"middle\" x=\"299\" y=\"-22.3\" font-family=\"Times,serif\" font-size=\"14.00\">St3</text>\n",
       "</g>\n",
       "<!-- St4 -->\n",
       "<g id=\"node5\" class=\"node\"><title>St4</title>\n",
       "<ellipse fill=\"none\" stroke=\"black\" cx=\"397\" cy=\"-26\" rx=\"22.9609\" ry=\"22.9609\"/>\n",
       "<ellipse fill=\"none\" stroke=\"black\" cx=\"397\" cy=\"-26\" rx=\"26.9983\" ry=\"26.9983\"/>\n",
       "<text text-anchor=\"middle\" x=\"397\" y=\"-22.3\" font-family=\"Times,serif\" font-size=\"14.00\">St4</text>\n",
       "</g>\n",
       "<!-- St3&#45;&gt;St4 -->\n",
       "<g id=\"edge3\" class=\"edge\"><title>St3&#45;&gt;St4</title>\n",
       "<path fill=\"none\" stroke=\"black\" d=\"M321.784,-26C333.133,-26 347.303,-26 360.211,-26\"/>\n",
       "<polygon fill=\"black\" stroke=\"black\" points=\"360.215,-29.5001 370.215,-26 360.215,-22.5001 360.215,-29.5001\"/>\n",
       "<text text-anchor=\"middle\" x=\"346\" y=\"-29.8\" font-family=\"Times,serif\" font-size=\"14.00\">b </text>\n",
       "</g>\n",
       "<!-- St2&#45;&gt;St3 -->\n",
       "<g id=\"edge4\" class=\"edge\"><title>St2&#45;&gt;St3</title>\n",
       "<path fill=\"none\" stroke=\"black\" d=\"M229.786,-26C240.65,-26 254,-26 266,-26\"/>\n",
       "<polygon fill=\"black\" stroke=\"black\" points=\"266.102,-29.5001 276.102,-26 266.102,-22.5001 266.102,-29.5001\"/>\n",
       "<text text-anchor=\"middle\" x=\"253\" y=\"-29.8\" font-family=\"Times,serif\" font-size=\"14.00\">&#39;&#39; </text>\n",
       "</g>\n",
       "</g>\n",
       "</svg>\n"
      ],
      "text/plain": [
       "<graphviz.dot.Digraph at 0x7fc70b58b640>"
      ]
     },
     "execution_count": 4,
     "metadata": {},
     "output_type": "execute_result"
    }
   ],
   "source": [
    "dotObj_nfa(N1, FuseEdges=True)"
   ]
  },
  {
   "cell_type": "markdown",
   "metadata": {},
   "source": [
    "# Define NFA N2"
   ]
  },
  {
   "cell_type": "code",
   "execution_count": 5,
   "metadata": {},
   "outputs": [],
   "source": [
    "N2 = re2nfa(\"c*\")"
   ]
  },
  {
   "cell_type": "code",
   "execution_count": 6,
   "metadata": {},
   "outputs": [
    {
     "data": {
      "image/svg+xml": [
       "<?xml version=\"1.0\" encoding=\"UTF-8\" standalone=\"no\"?>\n",
       "<!DOCTYPE svg PUBLIC \"-//W3C//DTD SVG 1.1//EN\"\n",
       " \"http://www.w3.org/Graphics/SVG/1.1/DTD/svg11.dtd\">\n",
       "<!-- Generated by graphviz version 2.36.0 (20140111.2315)\n",
       " -->\n",
       "<!-- Title: %3 Pages: 1 -->\n",
       "<svg width=\"338pt\" height=\"93pt\"\n",
       " viewBox=\"0.00 0.00 338.00 93.00\" xmlns=\"http://www.w3.org/2000/svg\" xmlns:xlink=\"http://www.w3.org/1999/xlink\">\n",
       "<g id=\"graph0\" class=\"graph\" transform=\"scale(1 1) rotate(0) translate(4 89)\">\n",
       "<title>%3</title>\n",
       "<polygon fill=\"white\" stroke=\"none\" points=\"-4,4 -4,-89 334,-89 334,4 -4,4\"/>\n",
       "<!-- EMPTY -->\n",
       "<g id=\"node1\" class=\"node\"><title>EMPTY</title>\n",
       "</g>\n",
       "<!-- St3 -->\n",
       "<g id=\"node4\" class=\"node\"><title>St3</title>\n",
       "<ellipse fill=\"none\" stroke=\"black\" cx=\"119\" cy=\"-59\" rx=\"22.9609\" ry=\"22.9609\"/>\n",
       "<ellipse fill=\"none\" stroke=\"black\" cx=\"119\" cy=\"-59\" rx=\"26.9983\" ry=\"26.9983\"/>\n",
       "<text text-anchor=\"middle\" x=\"119\" y=\"-55.3\" font-family=\"Times,serif\" font-size=\"14.00\">St3</text>\n",
       "</g>\n",
       "<!-- EMPTY&#45;&gt;St3 -->\n",
       "<g id=\"edge1\" class=\"edge\"><title>EMPTY&#45;&gt;St3</title>\n",
       "<path fill=\"none\" stroke=\"black\" d=\"M54.0317,-59C62.7072,-59 72.5339,-59 81.8363,-59\"/>\n",
       "<polygon fill=\"black\" stroke=\"black\" points=\"82.0268,-62.5001 92.0268,-59 82.0267,-55.5001 82.0268,-62.5001\"/>\n",
       "</g>\n",
       "<!-- St1 -->\n",
       "<g id=\"node2\" class=\"node\"><title>St1</title>\n",
       "<ellipse fill=\"none\" stroke=\"black\" cx=\"215\" cy=\"-22\" rx=\"22.9987\" ry=\"22.9987\"/>\n",
       "<text text-anchor=\"middle\" x=\"215\" y=\"-18.3\" font-family=\"Times,serif\" font-size=\"14.00\">St1</text>\n",
       "</g>\n",
       "<!-- St2 -->\n",
       "<g id=\"node3\" class=\"node\"><title>St2</title>\n",
       "<ellipse fill=\"none\" stroke=\"black\" cx=\"307\" cy=\"-59\" rx=\"22.9987\" ry=\"22.9987\"/>\n",
       "<text text-anchor=\"middle\" x=\"307\" y=\"-55.3\" font-family=\"Times,serif\" font-size=\"14.00\">St2</text>\n",
       "</g>\n",
       "<!-- St1&#45;&gt;St2 -->\n",
       "<g id=\"edge3\" class=\"edge\"><title>St1&#45;&gt;St2</title>\n",
       "<path fill=\"none\" stroke=\"black\" d=\"M236.422,-30.3959C248.16,-35.2212 263.115,-41.3694 276.15,-46.7282\"/>\n",
       "<polygon fill=\"black\" stroke=\"black\" points=\"275.079,-50.0721 285.658,-50.6374 277.74,-43.5978 275.079,-50.0721\"/>\n",
       "<text text-anchor=\"middle\" x=\"261\" y=\"-45.8\" font-family=\"Times,serif\" font-size=\"14.00\">c </text>\n",
       "</g>\n",
       "<!-- St2&#45;&gt;St3 -->\n",
       "<g id=\"edge4\" class=\"edge\"><title>St2&#45;&gt;St3</title>\n",
       "<path fill=\"none\" stroke=\"black\" d=\"M284.001,-60.2978C278.153,-60.5886 271.839,-60.8541 266,-61 220.681,-62.1323 209.322,-62.0295 164,-61 161.458,-60.9423 158.834,-60.8658 156.193,-60.7764\"/>\n",
       "<polygon fill=\"black\" stroke=\"black\" points=\"156.181,-57.2734 146.052,-60.3801 155.907,-64.268 156.181,-57.2734\"/>\n",
       "<text text-anchor=\"middle\" x=\"215\" y=\"-64.8\" font-family=\"Times,serif\" font-size=\"14.00\">&#39;&#39; </text>\n",
       "</g>\n",
       "<!-- St3&#45;&gt;St1 -->\n",
       "<g id=\"edge2\" class=\"edge\"><title>St3&#45;&gt;St1</title>\n",
       "<path fill=\"none\" stroke=\"black\" d=\"M144.207,-49.4716C156.431,-44.6599 171.37,-38.78 184.285,-33.6964\"/>\n",
       "<polygon fill=\"black\" stroke=\"black\" points=\"185.665,-36.9145 193.688,-29.995 183.101,-30.4009 185.665,-36.9145\"/>\n",
       "<text text-anchor=\"middle\" x=\"169\" y=\"-45.8\" font-family=\"Times,serif\" font-size=\"14.00\">&#39;&#39; </text>\n",
       "</g>\n",
       "</g>\n",
       "</svg>\n"
      ],
      "text/plain": [
       "<graphviz.dot.Digraph at 0x7fc70b58b970>"
      ]
     },
     "execution_count": 6,
     "metadata": {},
     "output_type": "execute_result"
    }
   ],
   "source": [
    "dotObj_nfa(N2, FuseEdges=True)"
   ]
  },
  {
   "cell_type": "markdown",
   "metadata": {},
   "source": [
    "# The union of N1 and N2 is obtained by placing them \"one above the other\"\n",
    "\n",
    "## Of course, we can't use the same state names ... so use different state names\n",
    "\n",
    "## But we do not change the initial or final state statuses"
   ]
  },
  {
   "cell_type": "code",
   "execution_count": 7,
   "metadata": {},
   "outputs": [],
   "source": [
    "N1_Union_N2 = re2nfa(\"ab+c*\")"
   ]
  },
  {
   "cell_type": "code",
   "execution_count": 8,
   "metadata": {},
   "outputs": [
    {
     "data": {
      "image/svg+xml": [
       "<?xml version=\"1.0\" encoding=\"UTF-8\" standalone=\"no\"?>\n",
       "<!DOCTYPE svg PUBLIC \"-//W3C//DTD SVG 1.1//EN\"\n",
       " \"http://www.w3.org/Graphics/SVG/1.1/DTD/svg11.dtd\">\n",
       "<!-- Generated by graphviz version 2.36.0 (20140111.2315)\n",
       " -->\n",
       "<!-- Title: %3 Pages: 1 -->\n",
       "<svg width=\"440pt\" height=\"176pt\"\n",
       " viewBox=\"0.00 0.00 440.00 176.00\" xmlns=\"http://www.w3.org/2000/svg\" xmlns:xlink=\"http://www.w3.org/1999/xlink\">\n",
       "<g id=\"graph0\" class=\"graph\" transform=\"scale(1 1) rotate(0) translate(4 172)\">\n",
       "<title>%3</title>\n",
       "<polygon fill=\"white\" stroke=\"none\" points=\"-4,4 -4,-172 436,-172 436,4 -4,4\"/>\n",
       "<!-- EMPTY -->\n",
       "<g id=\"node1\" class=\"node\"><title>EMPTY</title>\n",
       "</g>\n",
       "<!-- St1 -->\n",
       "<g id=\"node5\" class=\"node\"><title>St1</title>\n",
       "<ellipse fill=\"none\" stroke=\"black\" cx=\"119\" cy=\"-142\" rx=\"22.9987\" ry=\"22.9987\"/>\n",
       "<text text-anchor=\"middle\" x=\"119\" y=\"-138.3\" font-family=\"Times,serif\" font-size=\"14.00\">St1</text>\n",
       "</g>\n",
       "<!-- EMPTY&#45;&gt;St1 -->\n",
       "<g id=\"edge2\" class=\"edge\"><title>EMPTY&#45;&gt;St1</title>\n",
       "<path fill=\"none\" stroke=\"black\" d=\"M54.0317,-121.388C64.525,-124.769 76.7026,-128.693 87.5993,-132.204\"/>\n",
       "<polygon fill=\"black\" stroke=\"black\" points=\"86.5698,-135.55 97.1614,-135.285 88.7167,-128.887 86.5698,-135.55\"/>\n",
       "</g>\n",
       "<!-- St7 -->\n",
       "<g id=\"node7\" class=\"node\"><title>St7</title>\n",
       "<ellipse fill=\"none\" stroke=\"black\" cx=\"119\" cy=\"-75\" rx=\"22.9609\" ry=\"22.9609\"/>\n",
       "<ellipse fill=\"none\" stroke=\"black\" cx=\"119\" cy=\"-75\" rx=\"26.9983\" ry=\"26.9983\"/>\n",
       "<text text-anchor=\"middle\" x=\"119\" y=\"-71.3\" font-family=\"Times,serif\" font-size=\"14.00\">St7</text>\n",
       "</g>\n",
       "<!-- EMPTY&#45;&gt;St7 -->\n",
       "<g id=\"edge1\" class=\"edge\"><title>EMPTY&#45;&gt;St7</title>\n",
       "<path fill=\"none\" stroke=\"black\" d=\"M54.0317,-102.009C63.6311,-97.9558 74.6401,-93.3075 84.7885,-89.0226\"/>\n",
       "<polygon fill=\"black\" stroke=\"black\" points=\"86.3295,-92.1712 94.1806,-85.0571 83.6067,-85.7225 86.3295,-92.1712\"/>\n",
       "</g>\n",
       "<!-- St3 -->\n",
       "<g id=\"node2\" class=\"node\"><title>St3</title>\n",
       "<ellipse fill=\"none\" stroke=\"black\" cx=\"307\" cy=\"-142\" rx=\"22.9987\" ry=\"22.9987\"/>\n",
       "<text text-anchor=\"middle\" x=\"307\" y=\"-138.3\" font-family=\"Times,serif\" font-size=\"14.00\">St3</text>\n",
       "</g>\n",
       "<!-- St4 -->\n",
       "<g id=\"node8\" class=\"node\"><title>St4</title>\n",
       "<ellipse fill=\"none\" stroke=\"black\" cx=\"405\" cy=\"-142\" rx=\"22.9609\" ry=\"22.9609\"/>\n",
       "<ellipse fill=\"none\" stroke=\"black\" cx=\"405\" cy=\"-142\" rx=\"26.9983\" ry=\"26.9983\"/>\n",
       "<text text-anchor=\"middle\" x=\"405\" y=\"-138.3\" font-family=\"Times,serif\" font-size=\"14.00\">St4</text>\n",
       "</g>\n",
       "<!-- St3&#45;&gt;St4 -->\n",
       "<g id=\"edge4\" class=\"edge\"><title>St3&#45;&gt;St4</title>\n",
       "<path fill=\"none\" stroke=\"black\" d=\"M329.784,-142C341.133,-142 355.303,-142 368.211,-142\"/>\n",
       "<polygon fill=\"black\" stroke=\"black\" points=\"368.215,-145.5 378.215,-142 368.215,-138.5 368.215,-145.5\"/>\n",
       "<text text-anchor=\"middle\" x=\"354\" y=\"-145.8\" font-family=\"Times,serif\" font-size=\"14.00\">b </text>\n",
       "</g>\n",
       "<!-- St2 -->\n",
       "<g id=\"node3\" class=\"node\"><title>St2</title>\n",
       "<ellipse fill=\"none\" stroke=\"black\" cx=\"215\" cy=\"-142\" rx=\"22.9987\" ry=\"22.9987\"/>\n",
       "<text text-anchor=\"middle\" x=\"215\" y=\"-138.3\" font-family=\"Times,serif\" font-size=\"14.00\">St2</text>\n",
       "</g>\n",
       "<!-- St2&#45;&gt;St3 -->\n",
       "<g id=\"edge5\" class=\"edge\"><title>St2&#45;&gt;St3</title>\n",
       "<path fill=\"none\" stroke=\"black\" d=\"M237.786,-142C248.65,-142 262,-142 274,-142\"/>\n",
       "<polygon fill=\"black\" stroke=\"black\" points=\"274.102,-145.5 284.102,-142 274.102,-138.5 274.102,-145.5\"/>\n",
       "<text text-anchor=\"middle\" x=\"261\" y=\"-145.8\" font-family=\"Times,serif\" font-size=\"14.00\">&#39;&#39; </text>\n",
       "</g>\n",
       "<!-- St6 -->\n",
       "<g id=\"node4\" class=\"node\"><title>St6</title>\n",
       "<ellipse fill=\"none\" stroke=\"black\" cx=\"307\" cy=\"-58\" rx=\"22.9987\" ry=\"22.9987\"/>\n",
       "<text text-anchor=\"middle\" x=\"307\" y=\"-54.3\" font-family=\"Times,serif\" font-size=\"14.00\">St6</text>\n",
       "</g>\n",
       "<!-- St6&#45;&gt;St7 -->\n",
       "<g id=\"edge8\" class=\"edge\"><title>St6&#45;&gt;St7</title>\n",
       "<path fill=\"none\" stroke=\"black\" d=\"M284.122,-59.9996C252.58,-62.8824 193.958,-68.2404 155.986,-71.711\"/>\n",
       "<polygon fill=\"black\" stroke=\"black\" points=\"155.502,-68.2405 145.863,-72.6362 156.14,-75.2114 155.502,-68.2405\"/>\n",
       "<text text-anchor=\"middle\" x=\"215\" y=\"-72.8\" font-family=\"Times,serif\" font-size=\"14.00\">&#39;&#39; </text>\n",
       "</g>\n",
       "<!-- St1&#45;&gt;St2 -->\n",
       "<g id=\"edge3\" class=\"edge\"><title>St1&#45;&gt;St2</title>\n",
       "<path fill=\"none\" stroke=\"black\" d=\"M141.802,-142C153.699,-142 168.654,-142 181.863,-142\"/>\n",
       "<polygon fill=\"black\" stroke=\"black\" points=\"181.991,-145.5 191.991,-142 181.991,-138.5 181.991,-145.5\"/>\n",
       "<text text-anchor=\"middle\" x=\"169\" y=\"-145.8\" font-family=\"Times,serif\" font-size=\"14.00\">a </text>\n",
       "</g>\n",
       "<!-- St5 -->\n",
       "<g id=\"node6\" class=\"node\"><title>St5</title>\n",
       "<ellipse fill=\"none\" stroke=\"black\" cx=\"215\" cy=\"-22\" rx=\"22.9987\" ry=\"22.9987\"/>\n",
       "<text text-anchor=\"middle\" x=\"215\" y=\"-18.3\" font-family=\"Times,serif\" font-size=\"14.00\">St5</text>\n",
       "</g>\n",
       "<!-- St5&#45;&gt;St6 -->\n",
       "<g id=\"edge7\" class=\"edge\"><title>St5&#45;&gt;St6</title>\n",
       "<path fill=\"none\" stroke=\"black\" d=\"M236.422,-30.169C248.16,-34.8638 263.115,-40.8459 276.15,-46.0599\"/>\n",
       "<polygon fill=\"black\" stroke=\"black\" points=\"275.074,-49.3991 285.658,-49.8634 277.674,-42.8997 275.074,-49.3991\"/>\n",
       "<text text-anchor=\"middle\" x=\"261\" y=\"-45.8\" font-family=\"Times,serif\" font-size=\"14.00\">c </text>\n",
       "</g>\n",
       "<!-- St7&#45;&gt;St5 -->\n",
       "<g id=\"edge6\" class=\"edge\"><title>St7&#45;&gt;St5</title>\n",
       "<path fill=\"none\" stroke=\"black\" d=\"M142.755,-62.1702C155.734,-54.8521 172.11,-45.6186 185.889,-37.85\"/>\n",
       "<polygon fill=\"black\" stroke=\"black\" points=\"187.947,-40.7075 194.939,-32.7473 184.509,-34.61 187.947,-40.7075\"/>\n",
       "<text text-anchor=\"middle\" x=\"169\" y=\"-54.8\" font-family=\"Times,serif\" font-size=\"14.00\">&#39;&#39; </text>\n",
       "</g>\n",
       "</g>\n",
       "</svg>\n"
      ],
      "text/plain": [
       "<graphviz.dot.Digraph at 0x7fc70b73a550>"
      ]
     },
     "execution_count": 8,
     "metadata": {},
     "output_type": "execute_result"
    }
   ],
   "source": [
    "dotObj_nfa(N1_Union_N2, FuseEdges=True)"
   ]
  },
  {
   "cell_type": "markdown",
   "metadata": {},
   "source": [
    "# NFA Concatenation of N1 and N2\n",
    "\n",
    "## NFA concatenation results in a new NFA where\n",
    "\n",
    "### N1's initial states (I and IF) are kept as initial)\n",
    "\n",
    "### N1's final states become non-final (F and IF become non-final states)\n",
    "\n",
    "### N2's initial states become non-initial (I and IF become non-initial)\n",
    "\n",
    "### N2's final states remain final (F and IF)\n",
    "\n",
    "### We put epsilon edges from every (formerly) final state of N1 to every (formerly) initial state of N2"
   ]
  },
  {
   "cell_type": "markdown",
   "metadata": {},
   "source": [
    "# Here is a quick illustration concatenating two simple NFA"
   ]
  },
  {
   "cell_type": "code",
   "execution_count": 9,
   "metadata": {},
   "outputs": [],
   "source": [
    "P = re2nfa(\"(a)\")"
   ]
  },
  {
   "cell_type": "code",
   "execution_count": 10,
   "metadata": {},
   "outputs": [
    {
     "data": {
      "image/svg+xml": [
       "<?xml version=\"1.0\" encoding=\"UTF-8\" standalone=\"no\"?>\n",
       "<!DOCTYPE svg PUBLIC \"-//W3C//DTD SVG 1.1//EN\"\n",
       " \"http://www.w3.org/Graphics/SVG/1.1/DTD/svg11.dtd\">\n",
       "<!-- Generated by graphviz version 2.36.0 (20140111.2315)\n",
       " -->\n",
       "<!-- Title: %3 Pages: 1 -->\n",
       "<svg width=\"246pt\" height=\"60pt\"\n",
       " viewBox=\"0.00 0.00 246.00 60.00\" xmlns=\"http://www.w3.org/2000/svg\" xmlns:xlink=\"http://www.w3.org/1999/xlink\">\n",
       "<g id=\"graph0\" class=\"graph\" transform=\"scale(1 1) rotate(0) translate(4 56)\">\n",
       "<title>%3</title>\n",
       "<polygon fill=\"white\" stroke=\"none\" points=\"-4,4 -4,-56 242,-56 242,4 -4,4\"/>\n",
       "<!-- EMPTY -->\n",
       "<g id=\"node1\" class=\"node\"><title>EMPTY</title>\n",
       "</g>\n",
       "<!-- St1 -->\n",
       "<g id=\"node2\" class=\"node\"><title>St1</title>\n",
       "<ellipse fill=\"none\" stroke=\"black\" cx=\"115\" cy=\"-26\" rx=\"22.9987\" ry=\"22.9987\"/>\n",
       "<text text-anchor=\"middle\" x=\"115\" y=\"-22.3\" font-family=\"Times,serif\" font-size=\"14.00\">St1</text>\n",
       "</g>\n",
       "<!-- EMPTY&#45;&gt;St1 -->\n",
       "<g id=\"edge1\" class=\"edge\"><title>EMPTY&#45;&gt;St1</title>\n",
       "<path fill=\"none\" stroke=\"black\" d=\"M54.2701,-26C63.0041,-26 72.8289,-26 81.9497,-26\"/>\n",
       "<polygon fill=\"black\" stroke=\"black\" points=\"82.2257,-29.5001 92.2256,-26 82.2256,-22.5001 82.2257,-29.5001\"/>\n",
       "</g>\n",
       "<!-- St2 -->\n",
       "<g id=\"node3\" class=\"node\"><title>St2</title>\n",
       "<ellipse fill=\"none\" stroke=\"black\" cx=\"211\" cy=\"-26\" rx=\"22.9609\" ry=\"22.9609\"/>\n",
       "<ellipse fill=\"none\" stroke=\"black\" cx=\"211\" cy=\"-26\" rx=\"26.9983\" ry=\"26.9983\"/>\n",
       "<text text-anchor=\"middle\" x=\"211\" y=\"-22.3\" font-family=\"Times,serif\" font-size=\"14.00\">St2</text>\n",
       "</g>\n",
       "<!-- St1&#45;&gt;St2 -->\n",
       "<g id=\"edge2\" class=\"edge\"><title>St1&#45;&gt;St2</title>\n",
       "<path fill=\"none\" stroke=\"black\" d=\"M137.802,-26C148.456,-26 161.564,-26 173.674,-26\"/>\n",
       "<polygon fill=\"black\" stroke=\"black\" points=\"173.972,-29.5001 183.972,-26 173.972,-22.5001 173.972,-29.5001\"/>\n",
       "<text text-anchor=\"middle\" x=\"161\" y=\"-29.8\" font-family=\"Times,serif\" font-size=\"14.00\">a </text>\n",
       "</g>\n",
       "</g>\n",
       "</svg>\n"
      ],
      "text/plain": [
       "<graphviz.dot.Digraph at 0x7fc70b58b310>"
      ]
     },
     "execution_count": 10,
     "metadata": {},
     "output_type": "execute_result"
    }
   ],
   "source": [
    "dotObj_nfa(P)"
   ]
  },
  {
   "cell_type": "code",
   "execution_count": 11,
   "metadata": {},
   "outputs": [],
   "source": [
    "Q = re2nfa(\"(b)\")"
   ]
  },
  {
   "cell_type": "code",
   "execution_count": 12,
   "metadata": {},
   "outputs": [
    {
     "data": {
      "image/svg+xml": [
       "<?xml version=\"1.0\" encoding=\"UTF-8\" standalone=\"no\"?>\n",
       "<!DOCTYPE svg PUBLIC \"-//W3C//DTD SVG 1.1//EN\"\n",
       " \"http://www.w3.org/Graphics/SVG/1.1/DTD/svg11.dtd\">\n",
       "<!-- Generated by graphviz version 2.36.0 (20140111.2315)\n",
       " -->\n",
       "<!-- Title: %3 Pages: 1 -->\n",
       "<svg width=\"248pt\" height=\"60pt\"\n",
       " viewBox=\"0.00 0.00 248.00 60.00\" xmlns=\"http://www.w3.org/2000/svg\" xmlns:xlink=\"http://www.w3.org/1999/xlink\">\n",
       "<g id=\"graph0\" class=\"graph\" transform=\"scale(1 1) rotate(0) translate(4 56)\">\n",
       "<title>%3</title>\n",
       "<polygon fill=\"white\" stroke=\"none\" points=\"-4,4 -4,-56 244,-56 244,4 -4,4\"/>\n",
       "<!-- EMPTY -->\n",
       "<g id=\"node1\" class=\"node\"><title>EMPTY</title>\n",
       "</g>\n",
       "<!-- St1 -->\n",
       "<g id=\"node2\" class=\"node\"><title>St1</title>\n",
       "<ellipse fill=\"none\" stroke=\"black\" cx=\"115\" cy=\"-26\" rx=\"22.9987\" ry=\"22.9987\"/>\n",
       "<text text-anchor=\"middle\" x=\"115\" y=\"-22.3\" font-family=\"Times,serif\" font-size=\"14.00\">St1</text>\n",
       "</g>\n",
       "<!-- EMPTY&#45;&gt;St1 -->\n",
       "<g id=\"edge1\" class=\"edge\"><title>EMPTY&#45;&gt;St1</title>\n",
       "<path fill=\"none\" stroke=\"black\" d=\"M54.2701,-26C63.0041,-26 72.8289,-26 81.9497,-26\"/>\n",
       "<polygon fill=\"black\" stroke=\"black\" points=\"82.2257,-29.5001 92.2256,-26 82.2256,-22.5001 82.2257,-29.5001\"/>\n",
       "</g>\n",
       "<!-- St2 -->\n",
       "<g id=\"node3\" class=\"node\"><title>St2</title>\n",
       "<ellipse fill=\"none\" stroke=\"black\" cx=\"213\" cy=\"-26\" rx=\"22.9609\" ry=\"22.9609\"/>\n",
       "<ellipse fill=\"none\" stroke=\"black\" cx=\"213\" cy=\"-26\" rx=\"26.9983\" ry=\"26.9983\"/>\n",
       "<text text-anchor=\"middle\" x=\"213\" y=\"-22.3\" font-family=\"Times,serif\" font-size=\"14.00\">St2</text>\n",
       "</g>\n",
       "<!-- St1&#45;&gt;St2 -->\n",
       "<g id=\"edge2\" class=\"edge\"><title>St1&#45;&gt;St2</title>\n",
       "<path fill=\"none\" stroke=\"black\" d=\"M137.784,-26C149.133,-26 163.303,-26 176.211,-26\"/>\n",
       "<polygon fill=\"black\" stroke=\"black\" points=\"176.215,-29.5001 186.215,-26 176.215,-22.5001 176.215,-29.5001\"/>\n",
       "<text text-anchor=\"middle\" x=\"162\" y=\"-29.8\" font-family=\"Times,serif\" font-size=\"14.00\">b </text>\n",
       "</g>\n",
       "</g>\n",
       "</svg>\n"
      ],
      "text/plain": [
       "<graphviz.dot.Digraph at 0x7fc70b74ba60>"
      ]
     },
     "execution_count": 12,
     "metadata": {},
     "output_type": "execute_result"
    }
   ],
   "source": [
    "dotObj_nfa(Q)"
   ]
  },
  {
   "cell_type": "code",
   "execution_count": 13,
   "metadata": {},
   "outputs": [],
   "source": [
    "P_cat_Q = re2nfa(\"(a)(b)\")"
   ]
  },
  {
   "cell_type": "code",
   "execution_count": 14,
   "metadata": {},
   "outputs": [
    {
     "data": {
      "image/svg+xml": [
       "<?xml version=\"1.0\" encoding=\"UTF-8\" standalone=\"no\"?>\n",
       "<!DOCTYPE svg PUBLIC \"-//W3C//DTD SVG 1.1//EN\"\n",
       " \"http://www.w3.org/Graphics/SVG/1.1/DTD/svg11.dtd\">\n",
       "<!-- Generated by graphviz version 2.36.0 (20140111.2315)\n",
       " -->\n",
       "<!-- Title: %3 Pages: 1 -->\n",
       "<svg width=\"432pt\" height=\"60pt\"\n",
       " viewBox=\"0.00 0.00 432.00 60.00\" xmlns=\"http://www.w3.org/2000/svg\" xmlns:xlink=\"http://www.w3.org/1999/xlink\">\n",
       "<g id=\"graph0\" class=\"graph\" transform=\"scale(1 1) rotate(0) translate(4 56)\">\n",
       "<title>%3</title>\n",
       "<polygon fill=\"white\" stroke=\"none\" points=\"-4,4 -4,-56 428,-56 428,4 -4,4\"/>\n",
       "<!-- EMPTY -->\n",
       "<g id=\"node1\" class=\"node\"><title>EMPTY</title>\n",
       "</g>\n",
       "<!-- St1 -->\n",
       "<g id=\"node2\" class=\"node\"><title>St1</title>\n",
       "<ellipse fill=\"none\" stroke=\"black\" cx=\"115\" cy=\"-26\" rx=\"22.9987\" ry=\"22.9987\"/>\n",
       "<text text-anchor=\"middle\" x=\"115\" y=\"-22.3\" font-family=\"Times,serif\" font-size=\"14.00\">St1</text>\n",
       "</g>\n",
       "<!-- EMPTY&#45;&gt;St1 -->\n",
       "<g id=\"edge1\" class=\"edge\"><title>EMPTY&#45;&gt;St1</title>\n",
       "<path fill=\"none\" stroke=\"black\" d=\"M54.2701,-26C63.0041,-26 72.8289,-26 81.9497,-26\"/>\n",
       "<polygon fill=\"black\" stroke=\"black\" points=\"82.2257,-29.5001 92.2256,-26 82.2256,-22.5001 82.2257,-29.5001\"/>\n",
       "</g>\n",
       "<!-- St2 -->\n",
       "<g id=\"node4\" class=\"node\"><title>St2</title>\n",
       "<ellipse fill=\"none\" stroke=\"black\" cx=\"207\" cy=\"-26\" rx=\"22.9987\" ry=\"22.9987\"/>\n",
       "<text text-anchor=\"middle\" x=\"207\" y=\"-22.3\" font-family=\"Times,serif\" font-size=\"14.00\">St2</text>\n",
       "</g>\n",
       "<!-- St1&#45;&gt;St2 -->\n",
       "<g id=\"edge2\" class=\"edge\"><title>St1&#45;&gt;St2</title>\n",
       "<path fill=\"none\" stroke=\"black\" d=\"M137.786,-26C148.65,-26 162,-26 174,-26\"/>\n",
       "<polygon fill=\"black\" stroke=\"black\" points=\"174.102,-29.5001 184.102,-26 174.102,-22.5001 174.102,-29.5001\"/>\n",
       "<text text-anchor=\"middle\" x=\"161\" y=\"-29.8\" font-family=\"Times,serif\" font-size=\"14.00\">a </text>\n",
       "</g>\n",
       "<!-- St3 -->\n",
       "<g id=\"node3\" class=\"node\"><title>St3</title>\n",
       "<ellipse fill=\"none\" stroke=\"black\" cx=\"299\" cy=\"-26\" rx=\"22.9987\" ry=\"22.9987\"/>\n",
       "<text text-anchor=\"middle\" x=\"299\" y=\"-22.3\" font-family=\"Times,serif\" font-size=\"14.00\">St3</text>\n",
       "</g>\n",
       "<!-- St4 -->\n",
       "<g id=\"node5\" class=\"node\"><title>St4</title>\n",
       "<ellipse fill=\"none\" stroke=\"black\" cx=\"397\" cy=\"-26\" rx=\"22.9609\" ry=\"22.9609\"/>\n",
       "<ellipse fill=\"none\" stroke=\"black\" cx=\"397\" cy=\"-26\" rx=\"26.9983\" ry=\"26.9983\"/>\n",
       "<text text-anchor=\"middle\" x=\"397\" y=\"-22.3\" font-family=\"Times,serif\" font-size=\"14.00\">St4</text>\n",
       "</g>\n",
       "<!-- St3&#45;&gt;St4 -->\n",
       "<g id=\"edge3\" class=\"edge\"><title>St3&#45;&gt;St4</title>\n",
       "<path fill=\"none\" stroke=\"black\" d=\"M321.784,-26C333.133,-26 347.303,-26 360.211,-26\"/>\n",
       "<polygon fill=\"black\" stroke=\"black\" points=\"360.215,-29.5001 370.215,-26 360.215,-22.5001 360.215,-29.5001\"/>\n",
       "<text text-anchor=\"middle\" x=\"346\" y=\"-29.8\" font-family=\"Times,serif\" font-size=\"14.00\">b </text>\n",
       "</g>\n",
       "<!-- St2&#45;&gt;St3 -->\n",
       "<g id=\"edge4\" class=\"edge\"><title>St2&#45;&gt;St3</title>\n",
       "<path fill=\"none\" stroke=\"black\" d=\"M229.786,-26C240.65,-26 254,-26 266,-26\"/>\n",
       "<polygon fill=\"black\" stroke=\"black\" points=\"266.102,-29.5001 276.102,-26 266.102,-22.5001 266.102,-29.5001\"/>\n",
       "<text text-anchor=\"middle\" x=\"253\" y=\"-29.8\" font-family=\"Times,serif\" font-size=\"14.00\">&#39;&#39; </text>\n",
       "</g>\n",
       "</g>\n",
       "</svg>\n"
      ],
      "text/plain": [
       "<graphviz.dot.Digraph at 0x7fc70b74b3d0>"
      ]
     },
     "execution_count": 14,
     "metadata": {},
     "output_type": "execute_result"
    }
   ],
   "source": [
    "dotObj_nfa(P_cat_Q)"
   ]
  },
  {
   "cell_type": "markdown",
   "metadata": {},
   "source": [
    "# Let us do one more example"
   ]
  },
  {
   "cell_type": "code",
   "execution_count": 15,
   "metadata": {},
   "outputs": [],
   "source": [
    "R = re2nfa(\"(''+a)\")\n",
    "\n",
    "S = re2nfa(\"(''+b)\")\n",
    "\n",
    "R_cat_S = re2nfa(\"(''+a)(''+b)\")"
   ]
  },
  {
   "cell_type": "code",
   "execution_count": 16,
   "metadata": {},
   "outputs": [
    {
     "data": {
      "image/svg+xml": [
       "<?xml version=\"1.0\" encoding=\"UTF-8\" standalone=\"no\"?>\n",
       "<!DOCTYPE svg PUBLIC \"-//W3C//DTD SVG 1.1//EN\"\n",
       " \"http://www.w3.org/Graphics/SVG/1.1/DTD/svg11.dtd\">\n",
       "<!-- Generated by graphviz version 2.36.0 (20140111.2315)\n",
       " -->\n",
       "<!-- Title: %3 Pages: 1 -->\n",
       "<svg width=\"254pt\" height=\"127pt\"\n",
       " viewBox=\"0.00 0.00 254.00 127.00\" xmlns=\"http://www.w3.org/2000/svg\" xmlns:xlink=\"http://www.w3.org/1999/xlink\">\n",
       "<g id=\"graph0\" class=\"graph\" transform=\"scale(1 1) rotate(0) translate(4 123)\">\n",
       "<title>%3</title>\n",
       "<polygon fill=\"white\" stroke=\"none\" points=\"-4,4 -4,-123 250,-123 250,4 -4,4\"/>\n",
       "<!-- EMPTY -->\n",
       "<g id=\"node1\" class=\"node\"><title>EMPTY</title>\n",
       "</g>\n",
       "<!-- St2 -->\n",
       "<g id=\"node2\" class=\"node\"><title>St2</title>\n",
       "<ellipse fill=\"none\" stroke=\"black\" cx=\"119\" cy=\"-93\" rx=\"22.9987\" ry=\"22.9987\"/>\n",
       "<text text-anchor=\"middle\" x=\"119\" y=\"-89.3\" font-family=\"Times,serif\" font-size=\"14.00\">St2</text>\n",
       "</g>\n",
       "<!-- EMPTY&#45;&gt;St2 -->\n",
       "<g id=\"edge2\" class=\"edge\"><title>EMPTY&#45;&gt;St2</title>\n",
       "<path fill=\"none\" stroke=\"black\" d=\"M54.0317,-61.7266C65.0636,-67.12 77.9572,-73.4235 89.2668,-78.9527\"/>\n",
       "<polygon fill=\"black\" stroke=\"black\" points=\"87.7975,-82.1302 98.3187,-83.378 90.8721,-75.8415 87.7975,-82.1302\"/>\n",
       "</g>\n",
       "<!-- St1 -->\n",
       "<g id=\"node3\" class=\"node\"><title>St1</title>\n",
       "<ellipse fill=\"none\" stroke=\"black\" cx=\"119\" cy=\"-26\" rx=\"22.9609\" ry=\"22.9609\"/>\n",
       "<ellipse fill=\"none\" stroke=\"black\" cx=\"119\" cy=\"-26\" rx=\"26.9983\" ry=\"26.9983\"/>\n",
       "<text text-anchor=\"middle\" x=\"119\" y=\"-22.3\" font-family=\"Times,serif\" font-size=\"14.00\">St1</text>\n",
       "</g>\n",
       "<!-- EMPTY&#45;&gt;St1 -->\n",
       "<g id=\"edge1\" class=\"edge\"><title>EMPTY&#45;&gt;St1</title>\n",
       "<path fill=\"none\" stroke=\"black\" d=\"M54.0317,-42.3474C63.1249,-40.0236 73.483,-37.3766 83.1763,-34.8994\"/>\n",
       "<polygon fill=\"black\" stroke=\"black\" points=\"84.1341,-38.2672 92.9561,-32.4001 82.4009,-31.4851 84.1341,-38.2672\"/>\n",
       "</g>\n",
       "<!-- St3 -->\n",
       "<g id=\"node4\" class=\"node\"><title>St3</title>\n",
       "<ellipse fill=\"none\" stroke=\"black\" cx=\"219\" cy=\"-93\" rx=\"22.9609\" ry=\"22.9609\"/>\n",
       "<ellipse fill=\"none\" stroke=\"black\" cx=\"219\" cy=\"-93\" rx=\"26.9983\" ry=\"26.9983\"/>\n",
       "<text text-anchor=\"middle\" x=\"219\" y=\"-89.3\" font-family=\"Times,serif\" font-size=\"14.00\">St3</text>\n",
       "</g>\n",
       "<!-- St2&#45;&gt;St3 -->\n",
       "<g id=\"edge3\" class=\"edge\"><title>St2&#45;&gt;St3</title>\n",
       "<path fill=\"none\" stroke=\"black\" d=\"M141.749,-93C153.496,-93 168.306,-93 181.743,-93\"/>\n",
       "<polygon fill=\"black\" stroke=\"black\" points=\"182.14,-96.5001 192.139,-93 182.139,-89.5001 182.14,-96.5001\"/>\n",
       "<text text-anchor=\"middle\" x=\"169\" y=\"-96.8\" font-family=\"Times,serif\" font-size=\"14.00\">a </text>\n",
       "</g>\n",
       "</g>\n",
       "</svg>\n"
      ],
      "text/plain": [
       "<graphviz.dot.Digraph at 0x7fc70b754610>"
      ]
     },
     "execution_count": 16,
     "metadata": {},
     "output_type": "execute_result"
    }
   ],
   "source": [
    "dotObj_nfa(R)"
   ]
  },
  {
   "cell_type": "code",
   "execution_count": 17,
   "metadata": {},
   "outputs": [
    {
     "data": {
      "image/svg+xml": [
       "<?xml version=\"1.0\" encoding=\"UTF-8\" standalone=\"no\"?>\n",
       "<!DOCTYPE svg PUBLIC \"-//W3C//DTD SVG 1.1//EN\"\n",
       " \"http://www.w3.org/Graphics/SVG/1.1/DTD/svg11.dtd\">\n",
       "<!-- Generated by graphviz version 2.36.0 (20140111.2315)\n",
       " -->\n",
       "<!-- Title: %3 Pages: 1 -->\n",
       "<svg width=\"256pt\" height=\"127pt\"\n",
       " viewBox=\"0.00 0.00 256.00 127.00\" xmlns=\"http://www.w3.org/2000/svg\" xmlns:xlink=\"http://www.w3.org/1999/xlink\">\n",
       "<g id=\"graph0\" class=\"graph\" transform=\"scale(1 1) rotate(0) translate(4 123)\">\n",
       "<title>%3</title>\n",
       "<polygon fill=\"white\" stroke=\"none\" points=\"-4,4 -4,-123 252,-123 252,4 -4,4\"/>\n",
       "<!-- EMPTY -->\n",
       "<g id=\"node1\" class=\"node\"><title>EMPTY</title>\n",
       "</g>\n",
       "<!-- St2 -->\n",
       "<g id=\"node2\" class=\"node\"><title>St2</title>\n",
       "<ellipse fill=\"none\" stroke=\"black\" cx=\"119\" cy=\"-93\" rx=\"22.9987\" ry=\"22.9987\"/>\n",
       "<text text-anchor=\"middle\" x=\"119\" y=\"-89.3\" font-family=\"Times,serif\" font-size=\"14.00\">St2</text>\n",
       "</g>\n",
       "<!-- EMPTY&#45;&gt;St2 -->\n",
       "<g id=\"edge2\" class=\"edge\"><title>EMPTY&#45;&gt;St2</title>\n",
       "<path fill=\"none\" stroke=\"black\" d=\"M54.0317,-61.7266C65.0636,-67.12 77.9572,-73.4235 89.2668,-78.9527\"/>\n",
       "<polygon fill=\"black\" stroke=\"black\" points=\"87.7975,-82.1302 98.3187,-83.378 90.8721,-75.8415 87.7975,-82.1302\"/>\n",
       "</g>\n",
       "<!-- St1 -->\n",
       "<g id=\"node3\" class=\"node\"><title>St1</title>\n",
       "<ellipse fill=\"none\" stroke=\"black\" cx=\"119\" cy=\"-26\" rx=\"22.9609\" ry=\"22.9609\"/>\n",
       "<ellipse fill=\"none\" stroke=\"black\" cx=\"119\" cy=\"-26\" rx=\"26.9983\" ry=\"26.9983\"/>\n",
       "<text text-anchor=\"middle\" x=\"119\" y=\"-22.3\" font-family=\"Times,serif\" font-size=\"14.00\">St1</text>\n",
       "</g>\n",
       "<!-- EMPTY&#45;&gt;St1 -->\n",
       "<g id=\"edge1\" class=\"edge\"><title>EMPTY&#45;&gt;St1</title>\n",
       "<path fill=\"none\" stroke=\"black\" d=\"M54.0317,-42.3474C63.1249,-40.0236 73.483,-37.3766 83.1763,-34.8994\"/>\n",
       "<polygon fill=\"black\" stroke=\"black\" points=\"84.1341,-38.2672 92.9561,-32.4001 82.4009,-31.4851 84.1341,-38.2672\"/>\n",
       "</g>\n",
       "<!-- St3 -->\n",
       "<g id=\"node4\" class=\"node\"><title>St3</title>\n",
       "<ellipse fill=\"none\" stroke=\"black\" cx=\"221\" cy=\"-93\" rx=\"22.9609\" ry=\"22.9609\"/>\n",
       "<ellipse fill=\"none\" stroke=\"black\" cx=\"221\" cy=\"-93\" rx=\"26.9983\" ry=\"26.9983\"/>\n",
       "<text text-anchor=\"middle\" x=\"221\" y=\"-89.3\" font-family=\"Times,serif\" font-size=\"14.00\">St3</text>\n",
       "</g>\n",
       "<!-- St2&#45;&gt;St3 -->\n",
       "<g id=\"edge3\" class=\"edge\"><title>St2&#45;&gt;St3</title>\n",
       "<path fill=\"none\" stroke=\"black\" d=\"M142.193,-93C154.39,-93 169.824,-93 183.724,-93\"/>\n",
       "<polygon fill=\"black\" stroke=\"black\" points=\"183.975,-96.5001 193.975,-93 183.975,-89.5001 183.975,-96.5001\"/>\n",
       "<text text-anchor=\"middle\" x=\"170\" y=\"-96.8\" font-family=\"Times,serif\" font-size=\"14.00\">b </text>\n",
       "</g>\n",
       "</g>\n",
       "</svg>\n"
      ],
      "text/plain": [
       "<graphviz.dot.Digraph at 0x7fc70b754b50>"
      ]
     },
     "execution_count": 17,
     "metadata": {},
     "output_type": "execute_result"
    }
   ],
   "source": [
    "dotObj_nfa(S)"
   ]
  },
  {
   "cell_type": "code",
   "execution_count": 18,
   "metadata": {},
   "outputs": [
    {
     "data": {
      "image/svg+xml": [
       "<?xml version=\"1.0\" encoding=\"UTF-8\" standalone=\"no\"?>\n",
       "<!DOCTYPE svg PUBLIC \"-//W3C//DTD SVG 1.1//EN\"\n",
       " \"http://www.w3.org/Graphics/SVG/1.1/DTD/svg11.dtd\">\n",
       "<!-- Generated by graphviz version 2.36.0 (20140111.2315)\n",
       " -->\n",
       "<!-- Title: %3 Pages: 1 -->\n",
       "<svg width=\"440pt\" height=\"139pt\"\n",
       " viewBox=\"0.00 0.00 440.00 139.00\" xmlns=\"http://www.w3.org/2000/svg\" xmlns:xlink=\"http://www.w3.org/1999/xlink\">\n",
       "<g id=\"graph0\" class=\"graph\" transform=\"scale(1 1) rotate(0) translate(4 135)\">\n",
       "<title>%3</title>\n",
       "<polygon fill=\"white\" stroke=\"none\" points=\"-4,4 -4,-135 436,-135 436,4 -4,4\"/>\n",
       "<!-- EMPTY -->\n",
       "<g id=\"node1\" class=\"node\"><title>EMPTY</title>\n",
       "</g>\n",
       "<!-- St1 -->\n",
       "<g id=\"node2\" class=\"node\"><title>St1</title>\n",
       "<ellipse fill=\"none\" stroke=\"black\" cx=\"207\" cy=\"-91\" rx=\"22.9987\" ry=\"22.9987\"/>\n",
       "<text text-anchor=\"middle\" x=\"207\" y=\"-87.3\" font-family=\"Times,serif\" font-size=\"14.00\">St1</text>\n",
       "</g>\n",
       "<!-- EMPTY&#45;&gt;St1 -->\n",
       "<g id=\"edge1\" class=\"edge\"><title>EMPTY&#45;&gt;St1</title>\n",
       "<path fill=\"none\" stroke=\"black\" d=\"M54.2645,-73.0986C86.2532,-76.8726 140.242,-83.242 174.452,-87.278\"/>\n",
       "<polygon fill=\"black\" stroke=\"black\" points=\"174.047,-90.7544 184.388,-88.4502 174.867,-83.8026 174.047,-90.7544\"/>\n",
       "</g>\n",
       "<!-- St2 -->\n",
       "<g id=\"node4\" class=\"node\"><title>St2</title>\n",
       "<ellipse fill=\"none\" stroke=\"black\" cx=\"115\" cy=\"-32\" rx=\"22.9987\" ry=\"22.9987\"/>\n",
       "<text text-anchor=\"middle\" x=\"115\" y=\"-28.3\" font-family=\"Times,serif\" font-size=\"14.00\">St2</text>\n",
       "</g>\n",
       "<!-- EMPTY&#45;&gt;St2 -->\n",
       "<g id=\"edge2\" class=\"edge\"><title>EMPTY&#45;&gt;St2</title>\n",
       "<path fill=\"none\" stroke=\"black\" d=\"M54.2701,-58.3923C63.8284,-54.1689 74.6932,-49.3681 84.5118,-45.0297\"/>\n",
       "<polygon fill=\"black\" stroke=\"black\" points=\"86.1622,-48.1269 93.8945,-40.8838 83.333,-41.7241 86.1622,-48.1269\"/>\n",
       "</g>\n",
       "<!-- St5 -->\n",
       "<g id=\"node5\" class=\"node\"><title>St5</title>\n",
       "<ellipse fill=\"none\" stroke=\"black\" cx=\"303\" cy=\"-105\" rx=\"22.9987\" ry=\"22.9987\"/>\n",
       "<text text-anchor=\"middle\" x=\"303\" y=\"-101.3\" font-family=\"Times,serif\" font-size=\"14.00\">St5</text>\n",
       "</g>\n",
       "<!-- St1&#45;&gt;St5 -->\n",
       "<g id=\"edge5\" class=\"edge\"><title>St1&#45;&gt;St5</title>\n",
       "<path fill=\"none\" stroke=\"black\" d=\"M229.802,-94.2471C241.784,-96.0317 256.869,-98.2784 270.148,-100.256\"/>\n",
       "<polygon fill=\"black\" stroke=\"black\" points=\"269.91,-103.759 280.316,-101.771 270.941,-96.8355 269.91,-103.759\"/>\n",
       "<text text-anchor=\"middle\" x=\"253\" y=\"-101.8\" font-family=\"Times,serif\" font-size=\"14.00\">&#39;&#39; </text>\n",
       "</g>\n",
       "<!-- St4 -->\n",
       "<g id=\"node7\" class=\"node\"><title>St4</title>\n",
       "<ellipse fill=\"none\" stroke=\"black\" cx=\"303\" cy=\"-26\" rx=\"22.9609\" ry=\"22.9609\"/>\n",
       "<ellipse fill=\"none\" stroke=\"black\" cx=\"303\" cy=\"-26\" rx=\"26.9983\" ry=\"26.9983\"/>\n",
       "<text text-anchor=\"middle\" x=\"303\" y=\"-22.3\" font-family=\"Times,serif\" font-size=\"14.00\">St4</text>\n",
       "</g>\n",
       "<!-- St1&#45;&gt;St4 -->\n",
       "<g id=\"edge6\" class=\"edge\"><title>St1&#45;&gt;St4</title>\n",
       "<path fill=\"none\" stroke=\"black\" d=\"M226.101,-78.7968C235.621,-72.3525 247.47,-64.289 258,-57 262.61,-53.809 267.476,-50.4109 272.225,-47.078\"/>\n",
       "<polygon fill=\"black\" stroke=\"black\" points=\"274.402,-49.8257 280.566,-41.2082 270.373,-44.1012 274.402,-49.8257\"/>\n",
       "<text text-anchor=\"middle\" x=\"253\" y=\"-67.8\" font-family=\"Times,serif\" font-size=\"14.00\">&#39;&#39; </text>\n",
       "</g>\n",
       "<!-- St3 -->\n",
       "<g id=\"node3\" class=\"node\"><title>St3</title>\n",
       "<ellipse fill=\"none\" stroke=\"black\" cx=\"207\" cy=\"-28\" rx=\"22.9987\" ry=\"22.9987\"/>\n",
       "<text text-anchor=\"middle\" x=\"207\" y=\"-24.3\" font-family=\"Times,serif\" font-size=\"14.00\">St3</text>\n",
       "</g>\n",
       "<!-- St3&#45;&gt;St5 -->\n",
       "<g id=\"edge7\" class=\"edge\"><title>St3&#45;&gt;St5</title>\n",
       "<path fill=\"none\" stroke=\"black\" d=\"M229.862,-28.6688C239.183,-29.8473 249.781,-32.4546 258,-38 262.003,-40.7009 274.601,-60.1701 285.296,-77.4298\"/>\n",
       "<polygon fill=\"black\" stroke=\"black\" points=\"282.44,-79.4682 290.66,-86.1535 288.403,-75.8017 282.44,-79.4682\"/>\n",
       "<text text-anchor=\"middle\" x=\"253\" y=\"-41.8\" font-family=\"Times,serif\" font-size=\"14.00\">&#39;&#39; </text>\n",
       "</g>\n",
       "<!-- St3&#45;&gt;St4 -->\n",
       "<g id=\"edge8\" class=\"edge\"><title>St3&#45;&gt;St4</title>\n",
       "<path fill=\"none\" stroke=\"black\" d=\"M225.367,-14.7879C232.072,-10.463 240.039,-6.20501 248,-4 255.889,-1.815 264.181,-3.20514 271.835,-6.12994\"/>\n",
       "<polygon fill=\"black\" stroke=\"black\" points=\"270.573,-9.40434 281.111,-10.5019 273.558,-3.0724 270.573,-9.40434\"/>\n",
       "<text text-anchor=\"middle\" x=\"253\" y=\"-7.8\" font-family=\"Times,serif\" font-size=\"14.00\">&#39;&#39; </text>\n",
       "</g>\n",
       "<!-- St2&#45;&gt;St3 -->\n",
       "<g id=\"edge3\" class=\"edge\"><title>St2&#45;&gt;St3</title>\n",
       "<path fill=\"none\" stroke=\"black\" d=\"M137.786,-31.0317C148.65,-30.5489 162,-29.9556 174,-29.4222\"/>\n",
       "<polygon fill=\"black\" stroke=\"black\" points=\"174.267,-32.9139 184.102,-28.9732 173.957,-25.9208 174.267,-32.9139\"/>\n",
       "<text text-anchor=\"middle\" x=\"161\" y=\"-34.8\" font-family=\"Times,serif\" font-size=\"14.00\">a </text>\n",
       "</g>\n",
       "<!-- St6 -->\n",
       "<g id=\"node6\" class=\"node\"><title>St6</title>\n",
       "<ellipse fill=\"none\" stroke=\"black\" cx=\"405\" cy=\"-105\" rx=\"22.9609\" ry=\"22.9609\"/>\n",
       "<ellipse fill=\"none\" stroke=\"black\" cx=\"405\" cy=\"-105\" rx=\"26.9983\" ry=\"26.9983\"/>\n",
       "<text text-anchor=\"middle\" x=\"405\" y=\"-101.3\" font-family=\"Times,serif\" font-size=\"14.00\">St6</text>\n",
       "</g>\n",
       "<!-- St5&#45;&gt;St6 -->\n",
       "<g id=\"edge4\" class=\"edge\"><title>St5&#45;&gt;St6</title>\n",
       "<path fill=\"none\" stroke=\"black\" d=\"M326.193,-105C338.39,-105 353.824,-105 367.724,-105\"/>\n",
       "<polygon fill=\"black\" stroke=\"black\" points=\"367.975,-108.5 377.975,-105 367.975,-101.5 367.975,-108.5\"/>\n",
       "<text text-anchor=\"middle\" x=\"354\" y=\"-108.8\" font-family=\"Times,serif\" font-size=\"14.00\">b </text>\n",
       "</g>\n",
       "</g>\n",
       "</svg>\n"
      ],
      "text/plain": [
       "<graphviz.dot.Digraph at 0x7fc70b754dc0>"
      ]
     },
     "execution_count": 18,
     "metadata": {},
     "output_type": "execute_result"
    }
   ],
   "source": [
    "dotObj_nfa(R_cat_S)"
   ]
  },
  {
   "cell_type": "markdown",
   "metadata": {},
   "source": [
    "======="
   ]
  },
  {
   "cell_type": "markdown",
   "metadata": {},
   "source": [
    "# NFA star\n",
    "\n",
    "## NFA Star is done as follows\n",
    "\n",
    "## Introduce an IF state\n",
    "\n",
    "## Go from the IF state to the initial state of the given NFA (that is no longer initial)\n",
    "\n",
    "## Go from the final state of the NFA to the IF state (the NFA final states are no longer final)\n"
   ]
  },
  {
   "cell_type": "code",
   "execution_count": 19,
   "metadata": {},
   "outputs": [],
   "source": [
    "P = re2nfa(\"(a)\")"
   ]
  },
  {
   "cell_type": "code",
   "execution_count": 20,
   "metadata": {},
   "outputs": [
    {
     "data": {
      "image/svg+xml": [
       "<?xml version=\"1.0\" encoding=\"UTF-8\" standalone=\"no\"?>\n",
       "<!DOCTYPE svg PUBLIC \"-//W3C//DTD SVG 1.1//EN\"\n",
       " \"http://www.w3.org/Graphics/SVG/1.1/DTD/svg11.dtd\">\n",
       "<!-- Generated by graphviz version 2.36.0 (20140111.2315)\n",
       " -->\n",
       "<!-- Title: %3 Pages: 1 -->\n",
       "<svg width=\"246pt\" height=\"60pt\"\n",
       " viewBox=\"0.00 0.00 246.00 60.00\" xmlns=\"http://www.w3.org/2000/svg\" xmlns:xlink=\"http://www.w3.org/1999/xlink\">\n",
       "<g id=\"graph0\" class=\"graph\" transform=\"scale(1 1) rotate(0) translate(4 56)\">\n",
       "<title>%3</title>\n",
       "<polygon fill=\"white\" stroke=\"none\" points=\"-4,4 -4,-56 242,-56 242,4 -4,4\"/>\n",
       "<!-- EMPTY -->\n",
       "<g id=\"node1\" class=\"node\"><title>EMPTY</title>\n",
       "</g>\n",
       "<!-- St1 -->\n",
       "<g id=\"node2\" class=\"node\"><title>St1</title>\n",
       "<ellipse fill=\"none\" stroke=\"black\" cx=\"115\" cy=\"-26\" rx=\"22.9987\" ry=\"22.9987\"/>\n",
       "<text text-anchor=\"middle\" x=\"115\" y=\"-22.3\" font-family=\"Times,serif\" font-size=\"14.00\">St1</text>\n",
       "</g>\n",
       "<!-- EMPTY&#45;&gt;St1 -->\n",
       "<g id=\"edge1\" class=\"edge\"><title>EMPTY&#45;&gt;St1</title>\n",
       "<path fill=\"none\" stroke=\"black\" d=\"M54.2701,-26C63.0041,-26 72.8289,-26 81.9497,-26\"/>\n",
       "<polygon fill=\"black\" stroke=\"black\" points=\"82.2257,-29.5001 92.2256,-26 82.2256,-22.5001 82.2257,-29.5001\"/>\n",
       "</g>\n",
       "<!-- St2 -->\n",
       "<g id=\"node3\" class=\"node\"><title>St2</title>\n",
       "<ellipse fill=\"none\" stroke=\"black\" cx=\"211\" cy=\"-26\" rx=\"22.9609\" ry=\"22.9609\"/>\n",
       "<ellipse fill=\"none\" stroke=\"black\" cx=\"211\" cy=\"-26\" rx=\"26.9983\" ry=\"26.9983\"/>\n",
       "<text text-anchor=\"middle\" x=\"211\" y=\"-22.3\" font-family=\"Times,serif\" font-size=\"14.00\">St2</text>\n",
       "</g>\n",
       "<!-- St1&#45;&gt;St2 -->\n",
       "<g id=\"edge2\" class=\"edge\"><title>St1&#45;&gt;St2</title>\n",
       "<path fill=\"none\" stroke=\"black\" d=\"M137.802,-26C148.456,-26 161.564,-26 173.674,-26\"/>\n",
       "<polygon fill=\"black\" stroke=\"black\" points=\"173.972,-29.5001 183.972,-26 173.972,-22.5001 173.972,-29.5001\"/>\n",
       "<text text-anchor=\"middle\" x=\"161\" y=\"-29.8\" font-family=\"Times,serif\" font-size=\"14.00\">a </text>\n",
       "</g>\n",
       "</g>\n",
       "</svg>\n"
      ],
      "text/plain": [
       "<graphviz.dot.Digraph at 0x7fc70b75cd60>"
      ]
     },
     "execution_count": 20,
     "metadata": {},
     "output_type": "execute_result"
    }
   ],
   "source": [
    "dotObj_nfa(P)"
   ]
  },
  {
   "cell_type": "code",
   "execution_count": 21,
   "metadata": {},
   "outputs": [],
   "source": [
    "Pstar = re2nfa(\"a*\")"
   ]
  },
  {
   "cell_type": "code",
   "execution_count": 22,
   "metadata": {},
   "outputs": [
    {
     "data": {
      "image/svg+xml": [
       "<?xml version=\"1.0\" encoding=\"UTF-8\" standalone=\"no\"?>\n",
       "<!DOCTYPE svg PUBLIC \"-//W3C//DTD SVG 1.1//EN\"\n",
       " \"http://www.w3.org/Graphics/SVG/1.1/DTD/svg11.dtd\">\n",
       "<!-- Generated by graphviz version 2.36.0 (20140111.2315)\n",
       " -->\n",
       "<!-- Title: %3 Pages: 1 -->\n",
       "<svg width=\"338pt\" height=\"93pt\"\n",
       " viewBox=\"0.00 0.00 338.00 93.00\" xmlns=\"http://www.w3.org/2000/svg\" xmlns:xlink=\"http://www.w3.org/1999/xlink\">\n",
       "<g id=\"graph0\" class=\"graph\" transform=\"scale(1 1) rotate(0) translate(4 89)\">\n",
       "<title>%3</title>\n",
       "<polygon fill=\"white\" stroke=\"none\" points=\"-4,4 -4,-89 334,-89 334,4 -4,4\"/>\n",
       "<!-- EMPTY -->\n",
       "<g id=\"node1\" class=\"node\"><title>EMPTY</title>\n",
       "</g>\n",
       "<!-- St3 -->\n",
       "<g id=\"node4\" class=\"node\"><title>St3</title>\n",
       "<ellipse fill=\"none\" stroke=\"black\" cx=\"119\" cy=\"-59\" rx=\"22.9609\" ry=\"22.9609\"/>\n",
       "<ellipse fill=\"none\" stroke=\"black\" cx=\"119\" cy=\"-59\" rx=\"26.9983\" ry=\"26.9983\"/>\n",
       "<text text-anchor=\"middle\" x=\"119\" y=\"-55.3\" font-family=\"Times,serif\" font-size=\"14.00\">St3</text>\n",
       "</g>\n",
       "<!-- EMPTY&#45;&gt;St3 -->\n",
       "<g id=\"edge1\" class=\"edge\"><title>EMPTY&#45;&gt;St3</title>\n",
       "<path fill=\"none\" stroke=\"black\" d=\"M54.0317,-59C62.7072,-59 72.5339,-59 81.8363,-59\"/>\n",
       "<polygon fill=\"black\" stroke=\"black\" points=\"82.0268,-62.5001 92.0268,-59 82.0267,-55.5001 82.0268,-62.5001\"/>\n",
       "</g>\n",
       "<!-- St1 -->\n",
       "<g id=\"node2\" class=\"node\"><title>St1</title>\n",
       "<ellipse fill=\"none\" stroke=\"black\" cx=\"215\" cy=\"-22\" rx=\"22.9987\" ry=\"22.9987\"/>\n",
       "<text text-anchor=\"middle\" x=\"215\" y=\"-18.3\" font-family=\"Times,serif\" font-size=\"14.00\">St1</text>\n",
       "</g>\n",
       "<!-- St2 -->\n",
       "<g id=\"node3\" class=\"node\"><title>St2</title>\n",
       "<ellipse fill=\"none\" stroke=\"black\" cx=\"307\" cy=\"-59\" rx=\"22.9987\" ry=\"22.9987\"/>\n",
       "<text text-anchor=\"middle\" x=\"307\" y=\"-55.3\" font-family=\"Times,serif\" font-size=\"14.00\">St2</text>\n",
       "</g>\n",
       "<!-- St1&#45;&gt;St2 -->\n",
       "<g id=\"edge3\" class=\"edge\"><title>St1&#45;&gt;St2</title>\n",
       "<path fill=\"none\" stroke=\"black\" d=\"M236.422,-30.3959C248.16,-35.2212 263.115,-41.3694 276.15,-46.7282\"/>\n",
       "<polygon fill=\"black\" stroke=\"black\" points=\"275.079,-50.0721 285.658,-50.6374 277.74,-43.5978 275.079,-50.0721\"/>\n",
       "<text text-anchor=\"middle\" x=\"261\" y=\"-45.8\" font-family=\"Times,serif\" font-size=\"14.00\">a </text>\n",
       "</g>\n",
       "<!-- St2&#45;&gt;St3 -->\n",
       "<g id=\"edge4\" class=\"edge\"><title>St2&#45;&gt;St3</title>\n",
       "<path fill=\"none\" stroke=\"black\" d=\"M284.001,-60.2978C278.153,-60.5886 271.839,-60.8541 266,-61 220.681,-62.1323 209.322,-62.0295 164,-61 161.458,-60.9423 158.834,-60.8658 156.193,-60.7764\"/>\n",
       "<polygon fill=\"black\" stroke=\"black\" points=\"156.181,-57.2734 146.052,-60.3801 155.907,-64.268 156.181,-57.2734\"/>\n",
       "<text text-anchor=\"middle\" x=\"215\" y=\"-64.8\" font-family=\"Times,serif\" font-size=\"14.00\">&#39;&#39; </text>\n",
       "</g>\n",
       "<!-- St3&#45;&gt;St1 -->\n",
       "<g id=\"edge2\" class=\"edge\"><title>St3&#45;&gt;St1</title>\n",
       "<path fill=\"none\" stroke=\"black\" d=\"M144.207,-49.4716C156.431,-44.6599 171.37,-38.78 184.285,-33.6964\"/>\n",
       "<polygon fill=\"black\" stroke=\"black\" points=\"185.665,-36.9145 193.688,-29.995 183.101,-30.4009 185.665,-36.9145\"/>\n",
       "<text text-anchor=\"middle\" x=\"169\" y=\"-45.8\" font-family=\"Times,serif\" font-size=\"14.00\">&#39;&#39; </text>\n",
       "</g>\n",
       "</g>\n",
       "</svg>\n"
      ],
      "text/plain": [
       "<graphviz.dot.Digraph at 0x7fc70b74b4f0>"
      ]
     },
     "execution_count": 22,
     "metadata": {},
     "output_type": "execute_result"
    }
   ],
   "source": [
    "dotObj_nfa(Pstar)"
   ]
  },
  {
   "cell_type": "code",
   "execution_count": 23,
   "metadata": {},
   "outputs": [
    {
     "data": {
      "image/svg+xml": [
       "<?xml version=\"1.0\" encoding=\"UTF-8\" standalone=\"no\"?>\n",
       "<!DOCTYPE svg PUBLIC \"-//W3C//DTD SVG 1.1//EN\"\n",
       " \"http://www.w3.org/Graphics/SVG/1.1/DTD/svg11.dtd\">\n",
       "<!-- Generated by graphviz version 2.36.0 (20140111.2315)\n",
       " -->\n",
       "<!-- Title: %3 Pages: 1 -->\n",
       "<svg width=\"254pt\" height=\"127pt\"\n",
       " viewBox=\"0.00 0.00 254.00 127.00\" xmlns=\"http://www.w3.org/2000/svg\" xmlns:xlink=\"http://www.w3.org/1999/xlink\">\n",
       "<g id=\"graph0\" class=\"graph\" transform=\"scale(1 1) rotate(0) translate(4 123)\">\n",
       "<title>%3</title>\n",
       "<polygon fill=\"white\" stroke=\"none\" points=\"-4,4 -4,-123 250,-123 250,4 -4,4\"/>\n",
       "<!-- EMPTY -->\n",
       "<g id=\"node1\" class=\"node\"><title>EMPTY</title>\n",
       "</g>\n",
       "<!-- St2 -->\n",
       "<g id=\"node2\" class=\"node\"><title>St2</title>\n",
       "<ellipse fill=\"none\" stroke=\"black\" cx=\"119\" cy=\"-93\" rx=\"22.9987\" ry=\"22.9987\"/>\n",
       "<text text-anchor=\"middle\" x=\"119\" y=\"-89.3\" font-family=\"Times,serif\" font-size=\"14.00\">St2</text>\n",
       "</g>\n",
       "<!-- EMPTY&#45;&gt;St2 -->\n",
       "<g id=\"edge2\" class=\"edge\"><title>EMPTY&#45;&gt;St2</title>\n",
       "<path fill=\"none\" stroke=\"black\" d=\"M54.0317,-61.7266C65.0636,-67.12 77.9572,-73.4235 89.2668,-78.9527\"/>\n",
       "<polygon fill=\"black\" stroke=\"black\" points=\"87.7975,-82.1302 98.3187,-83.378 90.8721,-75.8415 87.7975,-82.1302\"/>\n",
       "</g>\n",
       "<!-- St1 -->\n",
       "<g id=\"node3\" class=\"node\"><title>St1</title>\n",
       "<ellipse fill=\"none\" stroke=\"black\" cx=\"119\" cy=\"-26\" rx=\"22.9609\" ry=\"22.9609\"/>\n",
       "<ellipse fill=\"none\" stroke=\"black\" cx=\"119\" cy=\"-26\" rx=\"26.9983\" ry=\"26.9983\"/>\n",
       "<text text-anchor=\"middle\" x=\"119\" y=\"-22.3\" font-family=\"Times,serif\" font-size=\"14.00\">St1</text>\n",
       "</g>\n",
       "<!-- EMPTY&#45;&gt;St1 -->\n",
       "<g id=\"edge1\" class=\"edge\"><title>EMPTY&#45;&gt;St1</title>\n",
       "<path fill=\"none\" stroke=\"black\" d=\"M54.0317,-42.3474C63.1249,-40.0236 73.483,-37.3766 83.1763,-34.8994\"/>\n",
       "<polygon fill=\"black\" stroke=\"black\" points=\"84.1341,-38.2672 92.9561,-32.4001 82.4009,-31.4851 84.1341,-38.2672\"/>\n",
       "</g>\n",
       "<!-- St3 -->\n",
       "<g id=\"node4\" class=\"node\"><title>St3</title>\n",
       "<ellipse fill=\"none\" stroke=\"black\" cx=\"219\" cy=\"-93\" rx=\"22.9609\" ry=\"22.9609\"/>\n",
       "<ellipse fill=\"none\" stroke=\"black\" cx=\"219\" cy=\"-93\" rx=\"26.9983\" ry=\"26.9983\"/>\n",
       "<text text-anchor=\"middle\" x=\"219\" y=\"-89.3\" font-family=\"Times,serif\" font-size=\"14.00\">St3</text>\n",
       "</g>\n",
       "<!-- St2&#45;&gt;St3 -->\n",
       "<g id=\"edge3\" class=\"edge\"><title>St2&#45;&gt;St3</title>\n",
       "<path fill=\"none\" stroke=\"black\" d=\"M141.749,-93C153.496,-93 168.306,-93 181.743,-93\"/>\n",
       "<polygon fill=\"black\" stroke=\"black\" points=\"182.14,-96.5001 192.139,-93 182.139,-89.5001 182.14,-96.5001\"/>\n",
       "<text text-anchor=\"middle\" x=\"169\" y=\"-96.8\" font-family=\"Times,serif\" font-size=\"14.00\">a </text>\n",
       "</g>\n",
       "</g>\n",
       "</svg>\n"
      ],
      "text/plain": [
       "<graphviz.dot.Digraph at 0x7fc70b58b9d0>"
      ]
     },
     "execution_count": 23,
     "metadata": {},
     "output_type": "execute_result"
    }
   ],
   "source": [
    "R = re2nfa(\"(''+a)\")\n",
    "dotObj_nfa(R)"
   ]
  },
  {
   "cell_type": "code",
   "execution_count": 24,
   "metadata": {},
   "outputs": [
    {
     "data": {
      "image/svg+xml": [
       "<?xml version=\"1.0\" encoding=\"UTF-8\" standalone=\"no\"?>\n",
       "<!DOCTYPE svg PUBLIC \"-//W3C//DTD SVG 1.1//EN\"\n",
       " \"http://www.w3.org/Graphics/SVG/1.1/DTD/svg11.dtd\">\n",
       "<!-- Generated by graphviz version 2.36.0 (20140111.2315)\n",
       " -->\n",
       "<!-- Title: %3 Pages: 1 -->\n",
       "<svg width=\"338pt\" height=\"174pt\"\n",
       " viewBox=\"0.00 0.00 338.00 174.00\" xmlns=\"http://www.w3.org/2000/svg\" xmlns:xlink=\"http://www.w3.org/1999/xlink\">\n",
       "<g id=\"graph0\" class=\"graph\" transform=\"scale(1 1) rotate(0) translate(4 170)\">\n",
       "<title>%3</title>\n",
       "<polygon fill=\"white\" stroke=\"none\" points=\"-4,4 -4,-170 334,-170 334,4 -4,4\"/>\n",
       "<!-- EMPTY -->\n",
       "<g id=\"node1\" class=\"node\"><title>EMPTY</title>\n",
       "</g>\n",
       "<!-- St4 -->\n",
       "<g id=\"node5\" class=\"node\"><title>St4</title>\n",
       "<ellipse fill=\"none\" stroke=\"black\" cx=\"119\" cy=\"-97\" rx=\"22.9609\" ry=\"22.9609\"/>\n",
       "<ellipse fill=\"none\" stroke=\"black\" cx=\"119\" cy=\"-97\" rx=\"26.9983\" ry=\"26.9983\"/>\n",
       "<text text-anchor=\"middle\" x=\"119\" y=\"-93.3\" font-family=\"Times,serif\" font-size=\"14.00\">St4</text>\n",
       "</g>\n",
       "<!-- EMPTY&#45;&gt;St4 -->\n",
       "<g id=\"edge1\" class=\"edge\"><title>EMPTY&#45;&gt;St4</title>\n",
       "<path fill=\"none\" stroke=\"black\" d=\"M54.0317,-97C62.7072,-97 72.5339,-97 81.8363,-97\"/>\n",
       "<polygon fill=\"black\" stroke=\"black\" points=\"82.0268,-100.5 92.0268,-97 82.0267,-93.5001 82.0268,-100.5\"/>\n",
       "</g>\n",
       "<!-- St1 -->\n",
       "<g id=\"node2\" class=\"node\"><title>St1</title>\n",
       "<ellipse fill=\"none\" stroke=\"black\" cx=\"215\" cy=\"-144\" rx=\"22.9987\" ry=\"22.9987\"/>\n",
       "<text text-anchor=\"middle\" x=\"215\" y=\"-140.3\" font-family=\"Times,serif\" font-size=\"14.00\">St1</text>\n",
       "</g>\n",
       "<!-- St1&#45;&gt;St4 -->\n",
       "<g id=\"edge5\" class=\"edge\"><title>St1&#45;&gt;St4</title>\n",
       "<path fill=\"none\" stroke=\"black\" d=\"M198.417,-128.434C191.447,-122.226 182.821,-115.5 174,-111 168.225,-108.054 161.778,-105.691 155.406,-103.809\"/>\n",
       "<polygon fill=\"black\" stroke=\"black\" points=\"156.121,-100.378 145.56,-101.23 154.347,-107.149 156.121,-100.378\"/>\n",
       "<text text-anchor=\"middle\" x=\"169\" y=\"-114.8\" font-family=\"Times,serif\" font-size=\"14.00\">&#39;&#39; </text>\n",
       "</g>\n",
       "<!-- St3 -->\n",
       "<g id=\"node3\" class=\"node\"><title>St3</title>\n",
       "<ellipse fill=\"none\" stroke=\"black\" cx=\"307\" cy=\"-59\" rx=\"22.9987\" ry=\"22.9987\"/>\n",
       "<text text-anchor=\"middle\" x=\"307\" y=\"-55.3\" font-family=\"Times,serif\" font-size=\"14.00\">St3</text>\n",
       "</g>\n",
       "<!-- St3&#45;&gt;St4 -->\n",
       "<g id=\"edge6\" class=\"edge\"><title>St3&#45;&gt;St4</title>\n",
       "<path fill=\"none\" stroke=\"black\" d=\"M284.58,-63.376C253.053,-69.817 193.776,-81.9275 155.631,-89.7206\"/>\n",
       "<polygon fill=\"black\" stroke=\"black\" points=\"154.57,-86.365 145.473,-91.7959 155.971,-93.2234 154.57,-86.365\"/>\n",
       "<text text-anchor=\"middle\" x=\"215\" y=\"-85.8\" font-family=\"Times,serif\" font-size=\"14.00\">&#39;&#39; </text>\n",
       "</g>\n",
       "<!-- St2 -->\n",
       "<g id=\"node4\" class=\"node\"><title>St2</title>\n",
       "<ellipse fill=\"none\" stroke=\"black\" cx=\"215\" cy=\"-22\" rx=\"22.9987\" ry=\"22.9987\"/>\n",
       "<text text-anchor=\"middle\" x=\"215\" y=\"-18.3\" font-family=\"Times,serif\" font-size=\"14.00\">St2</text>\n",
       "</g>\n",
       "<!-- St2&#45;&gt;St3 -->\n",
       "<g id=\"edge4\" class=\"edge\"><title>St2&#45;&gt;St3</title>\n",
       "<path fill=\"none\" stroke=\"black\" d=\"M236.422,-30.3959C248.16,-35.2212 263.115,-41.3694 276.15,-46.7282\"/>\n",
       "<polygon fill=\"black\" stroke=\"black\" points=\"275.079,-50.0721 285.658,-50.6374 277.74,-43.5978 275.079,-50.0721\"/>\n",
       "<text text-anchor=\"middle\" x=\"261\" y=\"-45.8\" font-family=\"Times,serif\" font-size=\"14.00\">a </text>\n",
       "</g>\n",
       "<!-- St4&#45;&gt;St1 -->\n",
       "<g id=\"edge2\" class=\"edge\"><title>St4&#45;&gt;St1</title>\n",
       "<path fill=\"none\" stroke=\"black\" d=\"M139.564,-114.122C146.849,-119.816 155.437,-125.776 164,-130 169.836,-132.879 176.356,-135.247 182.711,-137.164\"/>\n",
       "<polygon fill=\"black\" stroke=\"black\" points=\"181.87,-140.563 192.439,-139.813 183.71,-133.809 181.87,-140.563\"/>\n",
       "<text text-anchor=\"middle\" x=\"169\" y=\"-136.8\" font-family=\"Times,serif\" font-size=\"14.00\">&#39;&#39; </text>\n",
       "</g>\n",
       "<!-- St4&#45;&gt;St2 -->\n",
       "<g id=\"edge3\" class=\"edge\"><title>St4&#45;&gt;St2</title>\n",
       "<path fill=\"none\" stroke=\"black\" d=\"M137.407,-77.0545C145.118,-68.8059 154.568,-59.4498 164,-52 170.591,-46.794 178.162,-41.8113 185.385,-37.4541\"/>\n",
       "<polygon fill=\"black\" stroke=\"black\" points=\"187.363,-40.3524 194.248,-32.2996 183.844,-34.3013 187.363,-40.3524\"/>\n",
       "<text text-anchor=\"middle\" x=\"169\" y=\"-55.8\" font-family=\"Times,serif\" font-size=\"14.00\">&#39;&#39; </text>\n",
       "</g>\n",
       "</g>\n",
       "</svg>\n"
      ],
      "text/plain": [
       "<graphviz.dot.Digraph at 0x7fc70b754ac0>"
      ]
     },
     "execution_count": 24,
     "metadata": {},
     "output_type": "execute_result"
    }
   ],
   "source": [
    "Rstar = re2nfa(\"(''+a)*\")\n",
    "dotObj_nfa(Rstar)"
   ]
  },
  {
   "cell_type": "markdown",
   "metadata": {},
   "source": [
    "======="
   ]
  },
  {
   "cell_type": "markdown",
   "metadata": {},
   "source": [
    "# End of NFA operations"
   ]
  }
 ],
 "metadata": {
  "kernelspec": {
   "display_name": "Python 3",
   "language": "python",
   "name": "python3"
  },
  "language_info": {
   "codemirror_mode": {
    "name": "ipython",
    "version": 3
   },
   "file_extension": ".py",
   "mimetype": "text/x-python",
   "name": "python",
   "nbconvert_exporter": "python",
   "pygments_lexer": "ipython3",
   "version": "3.8.5"
  },
  "toc": {
   "colors": {
    "hover_highlight": "#DAA520",
    "running_highlight": "#FF0000",
    "selected_highlight": "#FFD700"
   },
   "moveMenuLeft": true,
   "nav_menu": {
    "height": "318px",
    "width": "252px"
   },
   "navigate_menu": true,
   "number_sections": true,
   "sideBar": true,
   "threshold": 4,
   "toc_cell": false,
   "toc_section_display": "block",
   "toc_window_display": false,
   "widenNotebook": false
  }
 },
 "nbformat": 4,
 "nbformat_minor": 2
}
