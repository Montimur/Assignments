{
 "cells": [
  {
   "cell_type": "markdown",
   "metadata": {
    "run_control": {
     "frozen": false,
     "read_only": false
    }
   },
   "source": [
    "# Basics of NFA\n",
    "\n",
    "You may wish to watch my lecture on NFA a little, then play with the\n",
    "code below, and then finish watching."
   ]
  },
  {
   "cell_type": "code",
   "execution_count": null,
   "metadata": {
    "run_control": {
     "frozen": false,
     "read_only": false
    }
   },
   "outputs": [],
   "source": [
    "# This Youtube video walks through this notebook\n",
    "from IPython.display import YouTubeVideo\n",
    "YouTubeVideo('xjFtLF95uBc')"
   ]
  },
  {
   "cell_type": "code",
   "execution_count": 1,
   "metadata": {
    "run_control": {
     "frozen": false,
     "read_only": false
    }
   },
   "outputs": [
    {
     "name": "stdout",
     "output_type": "stream",
     "text": [
      "You may use any of these help commands:\n",
      "help(ResetStNum)\n",
      "help(NxtStateStr)\n",
      "\n",
      "You may use any of these help commands:\n",
      "help(md2mc)\n",
      ".. and if you want to dig more, then ..\n",
      "help(default_line_attr)\n",
      "help(length_ok_input_items)\n",
      "help(union_line_attr_list_fld)\n",
      "help(extend_rsltdict)\n",
      "help(form_delta)\n",
      "help(get_machine_components)\n",
      "\n",
      "You may use any of these help commands:\n",
      "help(mkp_dfa)\n",
      "help(mk_dfa)\n",
      "help(totalize_dfa)\n",
      "help(addtosigma_delta)\n",
      "help(step_dfa)\n",
      "help(run_dfa)\n",
      "help(accepts_dfa)\n",
      "help(comp_dfa)\n",
      "help(union_dfa)\n",
      "help(intersect_dfa)\n",
      "help(pruneUnreach)\n",
      "help(iso_dfa)\n",
      "help(langeq_dfa)\n",
      "help(same_status)\n",
      "help(h_langeq_dfa)\n",
      "help(fixptDist)\n",
      "help(min_dfa)\n",
      "help(pairFR)\n",
      "help(state_combos)\n",
      "help(sepFinNonFin)\n",
      "help(bash_eql_classes)\n",
      "help(listminus)\n",
      "help(bash_1)\n",
      "help(mk_rep_eqc)\n",
      "help(F_of)\n",
      "help(rep_of_s)\n",
      "help(q0_of)\n",
      "help(Delta_of)\n",
      "help(mk_state_eqc_name)\n",
      "\n",
      "You may use any of these help commands:\n",
      "help(mk_nfa)\n",
      "help(totalize_nfa)\n",
      "help(step_nfa)\n",
      "help(run_nfa)\n",
      "help(ec_step_nfa)\n",
      "help(Eclosure)\n",
      "help(Echelp)\n",
      "help(accepts_nfa)\n",
      "help(nfa2dfa)\n",
      "help(n2d)\n",
      "help(inSets)\n",
      "help(rev_dfa)\n",
      "help(min_dfa_brz)\n",
      "\n",
      " \"help(AnimateNFA)\" gives you info on how to use animations with NFA \n"
     ]
    }
   ],
   "source": [
    "#~~~~~~~~~~~~~~~~~~~~~~~~~~~~~~~~~~~~~~~~~~~~~~~~~~~~~~~\n",
    "import sys\n",
    "\n",
    "# -- Detect if in Own Install or in Colab\n",
    "try:\n",
    "    import google.colab\n",
    "    OWN_INSTALL = False\n",
    "except:\n",
    "    OWN_INSTALL = True\n",
    "    \n",
    "if OWN_INSTALL:\n",
    "    \n",
    "  #---- Leave these definitions ON if running on laptop\n",
    "  #---- Else turn OFF by putting them between ''' ... '''\n",
    "\n",
    "  sys.path[0:0] = ['../../../../..',  '../../../../../3rdparty',  \n",
    "                   '../../../..',  '../../../../3rdparty',  \n",
    "                   '../../..',     '../../../3rdparty', \n",
    "                   '../..',        '../../3rdparty',\n",
    "                   '..',           '../3rdparty' ]\n",
    "\n",
    "else: # In colab\n",
    "  ! if [ ! -d Jove ]; then git clone https://github.com/ganeshutah/Jove Jove; fi\n",
    "  sys.path.append('./Jove')\n",
    "  sys.path.append('./Jove/jove')\n",
    "\n",
    "# -- common imports --\n",
    "from jove.DotBashers import *\n",
    "from jove.Def_md2mc  import *\n",
    "from jove.Def_NFA    import *\n",
    "from jove.Def_DFA    import *\n",
    "from jove.AnimateNFA import *\n",
    "#~~~~~~~~~~~~~~~~~~~~~~~~~~~~~~~~~~~~~~~~~~~~~~~~~~~~~~~"
   ]
  },
  {
   "cell_type": "markdown",
   "metadata": {},
   "source": [
    "# This NFA checks whether a string has \"01\" in it"
   ]
  },
  {
   "cell_type": "code",
   "execution_count": null,
   "metadata": {},
   "outputs": [],
   "source": [
    "nfahas01 = md2mc('''\n",
    "NFA \n",
    "I : 0 | 1 -> I\n",
    "I : '' -> A\n",
    "A : 0  -> B\n",
    "B : 1  -> C\n",
    "C : 0 | 1 -> C\n",
    "C : '' -> F\n",
    "''')"
   ]
  },
  {
   "cell_type": "markdown",
   "metadata": {},
   "source": [
    "## This example is highly worth studying via animations\n",
    "\n",
    "Put it in animate mode, and then single-step to see the EClosure of states"
   ]
  },
  {
   "cell_type": "code",
   "execution_count": null,
   "metadata": {},
   "outputs": [],
   "source": [
    "AnimateNFA(nfahas01, FuseEdges=False)\n",
    "display(HTML('<link rel=\\\"stylesheet\\\" href=\\\"//stackpath.bootstrapcdn.com/font-awesome/4.7.0/css/font-awesome.min.css\\\"/>'))"
   ]
  },
  {
   "cell_type": "markdown",
   "metadata": {},
   "source": [
    "# This is an example from Figure 7.7 of the book\n",
    "\n",
    "I am choosing to type it in two different ways: one with a single initial state, and \n",
    "another with multiple initial states. Fig77 is the single initial state version, and\n",
    "Fig77a is with multiple initial states"
   ]
  },
  {
   "cell_type": "code",
   "execution_count": null,
   "metadata": {},
   "outputs": [],
   "source": [
    "Fig77 = md2mc('''NFA\n",
    "I : '' -> A, G\n",
    "A : '' -> B, C\n",
    "G : 1  -> F\n",
    "B : 1  -> D\n",
    "C : 0  -> E\n",
    "D : '' -> A, G\n",
    "E : '' -> A, G\n",
    "''')"
   ]
  },
  {
   "cell_type": "code",
   "execution_count": null,
   "metadata": {
    "scrolled": true
   },
   "outputs": [],
   "source": [
    "AnimateNFA(Fig77, FuseEdges=False)\n",
    "display(HTML('<link rel=\\\"stylesheet\\\" href=\\\"//stackpath.bootstrapcdn.com/font-awesome/4.7.0/css/font-awesome.min.css\\\"/>'))"
   ]
  },
  {
   "cell_type": "code",
   "execution_count": null,
   "metadata": {},
   "outputs": [],
   "source": [
    "Fig77a = md2mc('''NFA\n",
    "IA : '' -> B, C\n",
    "IG : 1  -> F\n",
    "B : 1  -> D\n",
    "C : 0  -> E\n",
    "D : '' -> IA, IG\n",
    "E : '' -> IA, IG\n",
    "''')"
   ]
  },
  {
   "cell_type": "code",
   "execution_count": null,
   "metadata": {},
   "outputs": [],
   "source": [
    "dotObj_nfa(Fig77a)"
   ]
  },
  {
   "cell_type": "code",
   "execution_count": null,
   "metadata": {},
   "outputs": [],
   "source": [
    "dotObj_dfa(nfa2dfa(Fig77a, STATENAME_MAXSIZE=50), STATENAME_MAXSIZE=50)"
   ]
  },
  {
   "cell_type": "code",
   "execution_count": null,
   "metadata": {
    "run_control": {
     "frozen": false,
     "read_only": false
    }
   },
   "outputs": [],
   "source": [
    "# Our automd markdown works for NFA also. Here is the NFA for\n",
    "# the language \"ends in 0101\"\n",
    "\n",
    "NFA_ends0101 = md2mc(''' \n",
    "!!---------------------------------------------------------------------------\n",
    "!! This NFA looks for patterns of the form \n",
    "!!\n",
    "!!     ......<some 0's and 1's>.....0101\n",
    "!!\n",
    "!! i.e., all strings that end in 0101.\n",
    "!!\n",
    "!! This example (over and above thirdlastis1.nfa) also illustrates\n",
    "!! the power of nondeterminism. Anytime we see a 0 from state I, we\n",
    "!! can have the NFA speculate that it is seeing the beginning of a\n",
    "!! 0101 pattern! If the NFA fails in its guess, it pays no price\n",
    "!! (because another guess is soon coming from behind).\n",
    "!!\n",
    "!! * We take 4 states in the NFA solution. The DFA solution takes\n",
    "!!   5 states.\n",
    "!!\n",
    "!! * This shows how burden is shifted from the\n",
    "!!   human to the computer doing the NFA simulation.\n",
    "!!   Even though the savings in states is not dramatic,\n",
    "!!   the effort to build this NFA is much lower than building\n",
    "!!   the corresponding DFA.\n",
    "!! \n",
    "!!-----------------------------------------------------------------\n",
    "!! For NFA, each line can be as follows:\n",
    "!!\n",
    "!! State : in1 | in2 ...  ->  COmma, Separated, State, List  !! comment\n",
    "!!-----------------------------------------------------------------\n",
    "\n",
    "NFA\n",
    "\n",
    "I    : 1   -> I      !! I goes to I upon 1\n",
    "\n",
    "I    : 0   -> S0, I  !! I goes to S0 and I upon 0\n",
    "\n",
    "S0   : 1   -> S01    !! S0 goes to S01 upon 1\n",
    "\n",
    "S01  : 0   -> S010   !! S01 goes to S010 upon 0\n",
    "\n",
    "S010 : 1   -> F      !! S010 goes to F upon F\n",
    "\n",
    "!!---\n",
    "''')"
   ]
  },
  {
   "cell_type": "code",
   "execution_count": null,
   "metadata": {
    "run_control": {
     "frozen": false,
     "read_only": false
    }
   },
   "outputs": [],
   "source": [
    "# Now let us see the dict version of the NFA\n",
    "NFA_ends0101 "
   ]
  },
  {
   "cell_type": "code",
   "execution_count": null,
   "metadata": {
    "run_control": {
     "frozen": false,
     "read_only": false
    }
   },
   "outputs": [],
   "source": [
    "# Let's see the drawing of this NFA\n",
    "\n",
    "dotObj_nfa(NFA_ends0101)  "
   ]
  },
  {
   "cell_type": "code",
   "execution_count": null,
   "metadata": {
    "run_control": {
     "frozen": false,
     "read_only": false
    }
   },
   "outputs": [],
   "source": [
    "# The drawing produces separated self-loops. Let's fuse 'em\n",
    "\n",
    "# Now we are going to fuse the separate self-loops into one\n",
    "\n",
    "dotObj_nfa(NFA_ends0101, FuseEdges=True) "
   ]
  },
  {
   "cell_type": "markdown",
   "metadata": {
    "run_control": {
     "frozen": false,
     "read_only": false
    }
   },
   "source": [
    "# NFA for 3rd-last is 1"
   ]
  },
  {
   "cell_type": "code",
   "execution_count": null,
   "metadata": {
    "run_control": {
     "frozen": false,
     "read_only": false
    }
   },
   "outputs": [],
   "source": [
    "# Here is the automd (markdown) for an NF whose third-last symbol is a 1\n",
    "\n",
    "NFA_3rdlast_1 = md2mc('''\n",
    "NFA\n",
    "\n",
    "I : 0  | 1  -> I  !! Upon a 0 or a 1, continue to stay in state I\n",
    "\n",
    "I : ''      -> S0 !! Nondeterministically transition to state S0\n",
    "\n",
    "S0 : 1      -> S1 !! This is the key \"1\" (third-last being 1) seen\n",
    "\n",
    "S1 : 0 | 1  -> S2 !! One 0/1 takes the NFA to S2\n",
    "\n",
    "S2 : 0 | 1  -> F  !! One more 0/1 takes the NFA to F\n",
    "\n",
    "''')"
   ]
  },
  {
   "cell_type": "code",
   "execution_count": null,
   "metadata": {
    "run_control": {
     "frozen": false,
     "read_only": false
    }
   },
   "outputs": [],
   "source": [
    "# Let us see its internal representation\n",
    "\n",
    "NFA_3rdlast_1"
   ]
  },
  {
   "cell_type": "code",
   "execution_count": null,
   "metadata": {
    "run_control": {
     "frozen": false,
     "read_only": false
    }
   },
   "outputs": [],
   "source": [
    "# Let us see this NFA drawn out\n",
    "\n",
    "dotObj_nfa(NFA_3rdlast_1, FuseEdges=True)"
   ]
  },
  {
   "cell_type": "code",
   "execution_count": null,
   "metadata": {
    "run_control": {
     "frozen": false,
     "read_only": false
    }
   },
   "outputs": [],
   "source": [
    "# Let's step the NFA on epsilon   \n",
    "step_nfa(NFA_3rdlast_1, \"I\", \"\")"
   ]
  },
  {
   "cell_type": "code",
   "execution_count": null,
   "metadata": {
    "run_control": {
     "frozen": false,
     "read_only": false
    }
   },
   "outputs": [],
   "source": [
    "# Let's step it on '0'  \n",
    "step_nfa(NFA_3rdlast_1, \"I\", \"0\")"
   ]
  },
  {
   "cell_type": "code",
   "execution_count": null,
   "metadata": {
    "run_control": {
     "frozen": false,
     "read_only": false
    }
   },
   "outputs": [],
   "source": [
    "# Step it on a \"1\" to see two next states. That shows nondeterminism!\n",
    "\n",
    "step_nfa(NFA_3rdlast_1, \"I\", \"1\")  "
   ]
  },
  {
   "cell_type": "code",
   "execution_count": null,
   "metadata": {
    "run_control": {
     "frozen": false,
     "read_only": false
    }
   },
   "outputs": [],
   "source": [
    "# What is the Eclosure of the set of states {I} ?\n",
    "\n",
    "Eclosure(NFA_3rdlast_1, {\"I\"})"
   ]
  },
  {
   "cell_type": "code",
   "execution_count": null,
   "metadata": {
    "run_control": {
     "frozen": false,
     "read_only": false
    }
   },
   "outputs": [],
   "source": [
    "help(accepts_nfa)"
   ]
  },
  {
   "cell_type": "code",
   "execution_count": null,
   "metadata": {
    "run_control": {
     "frozen": false,
     "read_only": false
    }
   },
   "outputs": [],
   "source": [
    "accepts_nfa(NFA_3rdlast_1, \"0100100\", chatty=True)"
   ]
  },
  {
   "cell_type": "markdown",
   "metadata": {
    "run_control": {
     "frozen": false,
     "read_only": false
    }
   },
   "source": [
    "# Let us run NFA interactively via widgets\n",
    "\n",
    "We have two NFA to play with, namely nfa_ends0101 and NFA_3rdlast_1\n"
   ]
  },
  {
   "cell_type": "code",
   "execution_count": null,
   "metadata": {
    "run_control": {
     "frozen": false,
     "read_only": false
    }
   },
   "outputs": [],
   "source": [
    "import ipywidgets as wdg\n",
    "def run_nfa_slider(N, s, n):\n",
    "    \"\"\"Run NFA N from N[\"Q0\"] (which is a set..) on substring s[0:n]\n",
    "    \"\"\"\n",
    "    S = N[\"Q0\"] \n",
    "    if (n > len(s)):\n",
    "        n = len(s)\n",
    "    print(\"string = \", s[0:n])\n",
    "    run_nfa(N, S, s[0:n], True)\n",
    "    \n",
    "def run_nfa_int(N1, N2):\n",
    "    \"\"\"Run interactively from the given NFA .. from {q0} \n",
    "       on input string's substring\n",
    "       as picked by slider.\n",
    "    \"\"\"\n",
    "    inp = input(\"Please provide string: \")\n",
    "    wdg.interact(run_nfa_slider, N = {'N1': N1, 'N2': N2}, \n",
    "                 s = inp, n=(0,32))\n",
    "    \n",
    "def test_run_nfa_int(N1, N2):\n",
    "    \"\"\"Test the interactive run of NFA.\n",
    "    \"\"\"\n",
    "    run_nfa_int(N1, N2)\n",
    "\n",
    "#-- enable this later. test_run_nfa_int()"
   ]
  },
  {
   "cell_type": "markdown",
   "metadata": {
    "run_control": {
     "frozen": false,
     "read_only": false
    }
   },
   "source": [
    "## Once you run the command below, provide a string\n",
    "\n",
    "Provide a string of 0's and 1's. Then you can use the pull-down to pick the NFA\n",
    "to test, and the slider to incrementally consume more of the input string\n"
   ]
  },
  {
   "cell_type": "code",
   "execution_count": null,
   "metadata": {
    "run_control": {
     "frozen": false,
     "read_only": false
    }
   },
   "outputs": [],
   "source": [
    "test_run_nfa_int(NFA_ends0101, NFA_3rdlast_1)"
   ]
  },
  {
   "cell_type": "markdown",
   "metadata": {
    "run_control": {
     "frozen": false,
     "read_only": false
    }
   },
   "source": [
    "## Alternate definition of the NFA of Figure 7.7 is below\n",
    "## Illustrates the use of multiple initial states\n",
    "\n",
    " "
   ]
  },
  {
   "cell_type": "code",
   "execution_count": 2,
   "metadata": {},
   "outputs": [],
   "source": [
    "Fig77alt = md2mc(\n",
    "\n",
    "'''NFA\n",
    "!! --- GONE !!   ---> I : '' -> A, G\n",
    "\n",
    "!! --- replace  A : '' -> B, C  by\n",
    "IA : '' -> B, C\n",
    "\n",
    "!! --- replace G : 1  -> F  by\n",
    "IG : 1  -> F\n",
    "\n",
    "B : 1  -> D\n",
    "C : 0  -> E\n",
    "\n",
    "D : '' -> IA, IG  !! suitably changed\n",
    "\n",
    "E : '' -> IA, IG  !! suitably changed\n",
    "''')"
   ]
  },
  {
   "cell_type": "code",
   "execution_count": 3,
   "metadata": {},
   "outputs": [
    {
     "data": {
      "image/svg+xml": [
       "<?xml version=\"1.0\" encoding=\"UTF-8\" standalone=\"no\"?>\n",
       "<!DOCTYPE svg PUBLIC \"-//W3C//DTD SVG 1.1//EN\"\n",
       " \"http://www.w3.org/Graphics/SVG/1.1/DTD/svg11.dtd\">\n",
       "<!-- Generated by graphviz version 2.36.0 (20140111.2315)\n",
       " -->\n",
       "<!-- Title: %3 Pages: 1 -->\n",
       "<svg width=\"484pt\" height=\"228pt\"\n",
       " viewBox=\"0.00 0.00 484.00 228.00\" xmlns=\"http://www.w3.org/2000/svg\" xmlns:xlink=\"http://www.w3.org/1999/xlink\">\n",
       "<g id=\"graph0\" class=\"graph\" transform=\"scale(1 1) rotate(0) translate(4 224)\">\n",
       "<title>%3</title>\n",
       "<polygon fill=\"white\" stroke=\"none\" points=\"-4,4 -4,-224 480,-224 480,4 -4,4\"/>\n",
       "<!-- EMPTY -->\n",
       "<g id=\"node1\" class=\"node\"><title>EMPTY</title>\n",
       "</g>\n",
       "<!-- IA -->\n",
       "<g id=\"node2\" class=\"node\"><title>IA</title>\n",
       "<ellipse fill=\"none\" stroke=\"black\" cx=\"112\" cy=\"-97\" rx=\"20.2975\" ry=\"20.2975\"/>\n",
       "<text text-anchor=\"middle\" x=\"112\" y=\"-93.3\" font-family=\"Times,serif\" font-size=\"14.00\">IA</text>\n",
       "</g>\n",
       "<!-- EMPTY&#45;&gt;IA -->\n",
       "<g id=\"edge2\" class=\"edge\"><title>EMPTY&#45;&gt;IA</title>\n",
       "<path fill=\"none\" stroke=\"black\" d=\"M50.6801,-48.308C62.267,-57.6613 76.3372,-69.0192 87.9731,-78.412\"/>\n",
       "<polygon fill=\"black\" stroke=\"black\" points=\"85.9656,-81.2896 95.9453,-84.8474 90.3625,-75.8427 85.9656,-81.2896\"/>\n",
       "</g>\n",
       "<!-- IG -->\n",
       "<g id=\"node4\" class=\"node\"><title>IG</title>\n",
       "<ellipse fill=\"none\" stroke=\"black\" cx=\"364\" cy=\"-67\" rx=\"20.2975\" ry=\"20.2975\"/>\n",
       "<text text-anchor=\"middle\" x=\"364\" y=\"-63.3\" font-family=\"Times,serif\" font-size=\"14.00\">IG</text>\n",
       "</g>\n",
       "<!-- EMPTY&#45;&gt;IG -->\n",
       "<g id=\"edge1\" class=\"edge\"><title>EMPTY&#45;&gt;IG</title>\n",
       "<path fill=\"none\" stroke=\"black\" d=\"M54.0516,-15.3515C69.989,-7.73621 91.0813,-0 111,-0 111,-0 111,-0 281,-0 308.544,-0 331.935,-22.9499 346.599,-41.9862\"/>\n",
       "<polygon fill=\"black\" stroke=\"black\" points=\"343.796,-44.0826 352.521,-50.0931 349.449,-39.9535 343.796,-44.0826\"/>\n",
       "</g>\n",
       "<!-- C -->\n",
       "<g id=\"node6\" class=\"node\"><title>C</title>\n",
       "<ellipse fill=\"none\" stroke=\"black\" cx=\"196\" cy=\"-97\" rx=\"18\" ry=\"18\"/>\n",
       "<text text-anchor=\"middle\" x=\"196\" y=\"-93.3\" font-family=\"Times,serif\" font-size=\"14.00\">C</text>\n",
       "</g>\n",
       "<!-- IA&#45;&gt;C -->\n",
       "<g id=\"edge3\" class=\"edge\"><title>IA&#45;&gt;C</title>\n",
       "<path fill=\"none\" stroke=\"black\" d=\"M132.433,-97C143.021,-97 156.291,-97 167.883,-97\"/>\n",
       "<polygon fill=\"black\" stroke=\"black\" points=\"167.932,-100.5 177.932,-97 167.932,-93.5001 167.932,-100.5\"/>\n",
       "<text text-anchor=\"middle\" x=\"155\" y=\"-100.8\" font-family=\"Times,serif\" font-size=\"14.00\">&#39;&#39; </text>\n",
       "</g>\n",
       "<!-- B -->\n",
       "<g id=\"node7\" class=\"node\"><title>B</title>\n",
       "<ellipse fill=\"none\" stroke=\"black\" cx=\"196\" cy=\"-202\" rx=\"18\" ry=\"18\"/>\n",
       "<text text-anchor=\"middle\" x=\"196\" y=\"-198.3\" font-family=\"Times,serif\" font-size=\"14.00\">B</text>\n",
       "</g>\n",
       "<!-- IA&#45;&gt;B -->\n",
       "<g id=\"edge4\" class=\"edge\"><title>IA&#45;&gt;B</title>\n",
       "<path fill=\"none\" stroke=\"black\" d=\"M120.567,-115.201C127.085,-129.608 137.417,-149.769 150,-165 156.434,-172.788 164.697,-180.131 172.382,-186.19\"/>\n",
       "<polygon fill=\"black\" stroke=\"black\" points=\"170.29,-188.996 180.382,-192.222 174.505,-183.407 170.29,-188.996\"/>\n",
       "<text text-anchor=\"middle\" x=\"155\" y=\"-178.8\" font-family=\"Times,serif\" font-size=\"14.00\">&#39;&#39; </text>\n",
       "</g>\n",
       "<!-- E -->\n",
       "<g id=\"node3\" class=\"node\"><title>E</title>\n",
       "<ellipse fill=\"none\" stroke=\"black\" cx=\"280\" cy=\"-67\" rx=\"18\" ry=\"18\"/>\n",
       "<text text-anchor=\"middle\" x=\"280\" y=\"-63.3\" font-family=\"Times,serif\" font-size=\"14.00\">E</text>\n",
       "</g>\n",
       "<!-- E&#45;&gt;IA -->\n",
       "<g id=\"edge11\" class=\"edge\"><title>E&#45;&gt;IA</title>\n",
       "<path fill=\"none\" stroke=\"black\" d=\"M262.923,-61.1965C242.71,-54.778 207.131,-46.4073 178,-55 162.549,-59.5575 147.313,-69.0589 135.48,-77.8734\"/>\n",
       "<polygon fill=\"black\" stroke=\"black\" points=\"133.243,-75.1796 127.511,-84.0899 137.548,-80.699 133.243,-75.1796\"/>\n",
       "<text text-anchor=\"middle\" x=\"196\" y=\"-58.8\" font-family=\"Times,serif\" font-size=\"14.00\">&#39;&#39; </text>\n",
       "</g>\n",
       "<!-- E&#45;&gt;IG -->\n",
       "<g id=\"edge10\" class=\"edge\"><title>E&#45;&gt;IG</title>\n",
       "<path fill=\"none\" stroke=\"black\" d=\"M298.39,-67C308.54,-67 321.619,-67 333.352,-67\"/>\n",
       "<polygon fill=\"black\" stroke=\"black\" points=\"333.626,-70.5001 343.626,-67 333.626,-63.5001 333.626,-70.5001\"/>\n",
       "<text text-anchor=\"middle\" x=\"321\" y=\"-70.8\" font-family=\"Times,serif\" font-size=\"14.00\">&#39;&#39; </text>\n",
       "</g>\n",
       "<!-- F -->\n",
       "<g id=\"node8\" class=\"node\"><title>F</title>\n",
       "<ellipse fill=\"none\" stroke=\"black\" cx=\"454\" cy=\"-67\" rx=\"18\" ry=\"18\"/>\n",
       "<ellipse fill=\"none\" stroke=\"black\" cx=\"454\" cy=\"-67\" rx=\"22\" ry=\"22\"/>\n",
       "<text text-anchor=\"middle\" x=\"454\" y=\"-63.3\" font-family=\"Times,serif\" font-size=\"14.00\">F</text>\n",
       "</g>\n",
       "<!-- IG&#45;&gt;F -->\n",
       "<g id=\"edge5\" class=\"edge\"><title>IG&#45;&gt;F</title>\n",
       "<path fill=\"none\" stroke=\"black\" d=\"M384.53,-67C395.528,-67 409.515,-67 421.978,-67\"/>\n",
       "<polygon fill=\"black\" stroke=\"black\" points=\"421.988,-70.5001 431.988,-67 421.988,-63.5001 421.988,-70.5001\"/>\n",
       "<text text-anchor=\"middle\" x=\"408\" y=\"-70.8\" font-family=\"Times,serif\" font-size=\"14.00\">1 </text>\n",
       "</g>\n",
       "<!-- D -->\n",
       "<g id=\"node5\" class=\"node\"><title>D</title>\n",
       "<ellipse fill=\"none\" stroke=\"black\" cx=\"280\" cy=\"-151\" rx=\"18\" ry=\"18\"/>\n",
       "<text text-anchor=\"middle\" x=\"280\" y=\"-147.3\" font-family=\"Times,serif\" font-size=\"14.00\">D</text>\n",
       "</g>\n",
       "<!-- D&#45;&gt;IA -->\n",
       "<g id=\"edge9\" class=\"edge\"><title>D&#45;&gt;IA</title>\n",
       "<path fill=\"none\" stroke=\"black\" d=\"M261.914,-147.636C236.841,-142.418 188.847,-131.352 150,-116 146.432,-114.59 142.752,-112.947 139.159,-111.229\"/>\n",
       "<polygon fill=\"black\" stroke=\"black\" points=\"140.498,-107.984 129.992,-106.611 137.349,-114.235 140.498,-107.984\"/>\n",
       "<text text-anchor=\"middle\" x=\"196\" y=\"-139.8\" font-family=\"Times,serif\" font-size=\"14.00\">&#39;&#39; </text>\n",
       "</g>\n",
       "<!-- D&#45;&gt;IG -->\n",
       "<g id=\"edge8\" class=\"edge\"><title>D&#45;&gt;IG</title>\n",
       "<path fill=\"none\" stroke=\"black\" d=\"M293.099,-138.606C305.963,-125.428 326.55,-104.339 342.057,-88.4536\"/>\n",
       "<polygon fill=\"black\" stroke=\"black\" points=\"344.725,-90.7314 349.206,-81.1308 339.716,-85.8416 344.725,-90.7314\"/>\n",
       "<text text-anchor=\"middle\" x=\"321\" y=\"-117.8\" font-family=\"Times,serif\" font-size=\"14.00\">&#39;&#39; </text>\n",
       "</g>\n",
       "<!-- C&#45;&gt;E -->\n",
       "<g id=\"edge7\" class=\"edge\"><title>C&#45;&gt;E</title>\n",
       "<path fill=\"none\" stroke=\"black\" d=\"M213.201,-91.073C224.656,-86.8819 240.249,-81.1771 253.381,-76.3729\"/>\n",
       "<polygon fill=\"black\" stroke=\"black\" points=\"254.644,-79.6375 262.833,-72.9147 252.239,-73.0637 254.644,-79.6375\"/>\n",
       "<text text-anchor=\"middle\" x=\"238\" y=\"-86.8\" font-family=\"Times,serif\" font-size=\"14.00\">0 </text>\n",
       "</g>\n",
       "<!-- B&#45;&gt;D -->\n",
       "<g id=\"edge6\" class=\"edge\"><title>B&#45;&gt;D</title>\n",
       "<path fill=\"none\" stroke=\"black\" d=\"M211.66,-192.882C223.828,-185.314 241.364,-174.408 255.49,-165.622\"/>\n",
       "<polygon fill=\"black\" stroke=\"black\" points=\"257.547,-168.464 264.19,-160.211 253.85,-162.52 257.547,-168.464\"/>\n",
       "<text text-anchor=\"middle\" x=\"238\" y=\"-182.8\" font-family=\"Times,serif\" font-size=\"14.00\">1 </text>\n",
       "</g>\n",
       "</g>\n",
       "</svg>\n"
      ],
      "text/plain": [
       "<graphviz.dot.Digraph at 0x7fcaccb8df40>"
      ]
     },
     "execution_count": 3,
     "metadata": {},
     "output_type": "execute_result"
    }
   ],
   "source": [
    "dotObj_nfa(Fig77alt, FuseEdges=\"True\")"
   ]
  },
  {
   "cell_type": "code",
   "execution_count": null,
   "metadata": {},
   "outputs": [],
   "source": []
  }
 ],
 "metadata": {
  "kernelspec": {
   "display_name": "Python 3",
   "language": "python",
   "name": "python3"
  },
  "language_info": {
   "codemirror_mode": {
    "name": "ipython",
    "version": 3
   },
   "file_extension": ".py",
   "mimetype": "text/x-python",
   "name": "python",
   "nbconvert_exporter": "python",
   "pygments_lexer": "ipython3",
   "version": "3.8.5"
  },
  "toc": {
   "colors": {
    "hover_highlight": "#DAA520",
    "running_highlight": "#FF0000",
    "selected_highlight": "#FFD700"
   },
   "moveMenuLeft": true,
   "nav_menu": {
    "height": "121px",
    "width": "252px"
   },
   "navigate_menu": true,
   "number_sections": true,
   "sideBar": true,
   "threshold": 4,
   "toc_cell": false,
   "toc_section_display": "block",
   "toc_window_display": false,
   "widenNotebook": false
  },
  "widgets": {
   "state": {
    "430c92ee02b34ec1912bf03c8de1e6dc": {
     "views": [
      {
       "cell_index": 20
      }
     ]
    }
   },
   "version": "1.2.0"
  }
 },
 "nbformat": 4,
 "nbformat_minor": 2
}
