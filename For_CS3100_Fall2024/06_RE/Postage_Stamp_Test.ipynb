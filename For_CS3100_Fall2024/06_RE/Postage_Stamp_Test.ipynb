{
 "cells": [
  {
   "cell_type": "code",
   "execution_count": 1,
   "metadata": {
    "run_control": {
     "frozen": false,
     "read_only": false
    }
   },
   "outputs": [
    {
     "name": "stdout",
     "output_type": "stream",
     "text": [
      "Requirement already satisfied: ipywidgets in /opt/anaconda3/envs/treu/lib/python3.12/site-packages (8.1.2)\n",
      "Requirement already satisfied: comm>=0.1.3 in /opt/anaconda3/envs/treu/lib/python3.12/site-packages (from ipywidgets) (0.2.1)\n",
      "Requirement already satisfied: ipython>=6.1.0 in /opt/anaconda3/envs/treu/lib/python3.12/site-packages (from ipywidgets) (8.20.0)\n",
      "Requirement already satisfied: traitlets>=4.3.1 in /opt/anaconda3/envs/treu/lib/python3.12/site-packages (from ipywidgets) (5.7.1)\n",
      "Requirement already satisfied: widgetsnbextension~=4.0.10 in /opt/anaconda3/envs/treu/lib/python3.12/site-packages (from ipywidgets) (4.0.10)\n",
      "Requirement already satisfied: jupyterlab-widgets~=3.0.10 in /opt/anaconda3/envs/treu/lib/python3.12/site-packages (from ipywidgets) (3.0.10)\n",
      "Requirement already satisfied: decorator in /opt/anaconda3/envs/treu/lib/python3.12/site-packages (from ipython>=6.1.0->ipywidgets) (5.1.1)\n",
      "Requirement already satisfied: jedi>=0.16 in /opt/anaconda3/envs/treu/lib/python3.12/site-packages (from ipython>=6.1.0->ipywidgets) (0.18.1)\n",
      "Requirement already satisfied: matplotlib-inline in /opt/anaconda3/envs/treu/lib/python3.12/site-packages (from ipython>=6.1.0->ipywidgets) (0.1.6)\n",
      "Requirement already satisfied: prompt-toolkit<3.1.0,>=3.0.41 in /opt/anaconda3/envs/treu/lib/python3.12/site-packages (from ipython>=6.1.0->ipywidgets) (3.0.43)\n",
      "Requirement already satisfied: pygments>=2.4.0 in /opt/anaconda3/envs/treu/lib/python3.12/site-packages (from ipython>=6.1.0->ipywidgets) (2.15.1)\n",
      "Requirement already satisfied: stack-data in /opt/anaconda3/envs/treu/lib/python3.12/site-packages (from ipython>=6.1.0->ipywidgets) (0.2.0)\n",
      "Requirement already satisfied: pexpect>4.3 in /opt/anaconda3/envs/treu/lib/python3.12/site-packages (from ipython>=6.1.0->ipywidgets) (4.8.0)\n",
      "Requirement already satisfied: parso<0.9.0,>=0.8.0 in /opt/anaconda3/envs/treu/lib/python3.12/site-packages (from jedi>=0.16->ipython>=6.1.0->ipywidgets) (0.8.3)\n",
      "Requirement already satisfied: ptyprocess>=0.5 in /opt/anaconda3/envs/treu/lib/python3.12/site-packages (from pexpect>4.3->ipython>=6.1.0->ipywidgets) (0.7.0)\n",
      "Requirement already satisfied: wcwidth in /opt/anaconda3/envs/treu/lib/python3.12/site-packages (from prompt-toolkit<3.1.0,>=3.0.41->ipython>=6.1.0->ipywidgets) (0.2.5)\n",
      "Requirement already satisfied: executing in /opt/anaconda3/envs/treu/lib/python3.12/site-packages (from stack-data->ipython>=6.1.0->ipywidgets) (0.8.3)\n",
      "Requirement already satisfied: asttokens in /opt/anaconda3/envs/treu/lib/python3.12/site-packages (from stack-data->ipython>=6.1.0->ipywidgets) (2.0.5)\n",
      "Requirement already satisfied: pure-eval in /opt/anaconda3/envs/treu/lib/python3.12/site-packages (from stack-data->ipython>=6.1.0->ipywidgets) (0.2.2)\n",
      "Requirement already satisfied: six in /opt/anaconda3/envs/treu/lib/python3.12/site-packages (from asttokens->stack-data->ipython>=6.1.0->ipywidgets) (1.16.0)\n"
     ]
    }
   ],
   "source": [
    "#~~~~~~~~~~~~~~~~~~~~~~~~~~~~~~~~~~~~~~~~~~~~~~~~~~~~~~~\n",
    "import sys\n",
    "\n",
    "# -- Detect if in Own Install or in Colab\n",
    "try:\n",
    "    import google.colab\n",
    "    OWN_INSTALL = False\n",
    "except:\n",
    "    OWN_INSTALL = True\n",
    "    \n",
    "if OWN_INSTALL:\n",
    "    \n",
    "  #---- Leave these definitions ON if running on laptop\n",
    "  #---- Else turn OFF by putting them between ''' ... '''\n",
    "\n",
    "  sys.path[0:0] = ['../../../../..',  '../../../../../3rdparty',  \n",
    "                   '../../../..',  '../../../../3rdparty',  \n",
    "                   '../../..',     '../../../3rdparty', \n",
    "                   '../..',        '../../3rdparty',\n",
    "                   '..',           '../3rdparty' ]\n",
    "\n",
    "else: # In colab\n",
    "  ! if [ ! -d Jove ]; then git clone https://github.com/ganeshutah/Jove Jove; fi\n",
    "  sys.path.append('./Jove')\n",
    "  sys.path.append('./Jove/jove')\n",
    "\n",
    "!pip install ipywidgets"
   ]
  },
  {
   "cell_type": "code",
   "execution_count": 2,
   "metadata": {
    "run_control": {
     "frozen": false,
     "read_only": false
    }
   },
   "outputs": [
    {
     "name": "stdout",
     "output_type": "stream",
     "text": [
      "You may use any of these help commands:\n",
      "help(ResetStNum)\n",
      "help(NxtStateStr)\n",
      "\n",
      "You may use any of these help commands:\n",
      "help(mkp_dfa)\n",
      "help(mk_dfa)\n",
      "help(totalize_dfa)\n",
      "help(addtosigma_delta)\n",
      "help(step_dfa)\n",
      "help(run_dfa)\n",
      "help(accepts_dfa)\n",
      "help(comp_dfa)\n",
      "help(flTup)\n",
      "help(union_dfa)\n",
      "help(intersect_dfa)\n",
      "help(pruneUnreach)\n",
      "help(iso_dfa)\n",
      "help(langeq_dfa)\n",
      "help(same_status)\n",
      "help(h_langeq_dfa)\n",
      "help(fixptDist)\n",
      "help(min_dfa)\n",
      "help(pairFR)\n",
      "help(state_combos)\n",
      "help(sepFinNonFin)\n",
      "help(bash_eql_classes)\n",
      "help(listminus)\n",
      "help(bash_1)\n",
      "help(mk_rep_eqc)\n",
      "help(F_of)\n",
      "help(rep_of_s)\n",
      "help(q0_of)\n",
      "help(Delta_of)\n",
      "help(mk_state_eqc_name)\n",
      "\n",
      "You may use any of these help commands:\n",
      "help(mk_nfa)\n",
      "help(totalize_nfa)\n",
      "help(step_nfa)\n",
      "help(run_nfa)\n",
      "help(ec_step_nfa)\n",
      "help(Eclosure)\n",
      "help(Echelp)\n",
      "help(accepts_nfa)\n",
      "help(nfa2dfa)\n",
      "help(n2d)\n",
      "help(inSets)\n",
      "help(rev_dfa)\n",
      "help(min_dfa_brz)\n",
      "\n",
      "You may use any of these help commands:\n",
      "help(re2nfa)\n",
      "\n",
      "You may use any of these help commands:\n",
      "help(RE2Str)\n",
      "help(mk_gnfa)\n",
      "help(mk_gnfa_from_D)\n",
      "help(dfa2nfa)\n",
      "help(del_gnfa_states)\n",
      "help(gnfa_w_REStr)\n",
      "help(del_one_gnfa_state)\n",
      "help(Edges_Exist_Via)\n",
      "help(choose_state_to_del)\n",
      "help(form_alt_RE)\n",
      "help(form_concat_RE)\n",
      "help(form_kleene_RE)\n",
      "\n",
      "You may use any of these help commands:\n",
      "help(md2mc)\n",
      ".. and if you want to dig more, then ..\n",
      "help(default_line_attr)\n",
      "help(length_ok_input_items)\n",
      "help(union_line_attr_list_fld)\n",
      "help(extend_rsltdict)\n",
      "help(form_delta)\n",
      "help(get_machine_components)\n",
      "\n"
     ]
    }
   ],
   "source": [
    "# -- common imports --\n",
    "from jove.DotBashers import *\n",
    "from jove.Def_DFA import *\n",
    "from jove.Def_NFA import *\n",
    "from jove.Def_RE2NFA import *\n",
    "from jove.Def_NFA2RE import *\n",
    "from jove.Def_md2mc import *"
   ]
  },
  {
   "cell_type": "code",
   "execution_count": 3,
   "metadata": {
    "run_control": {
     "frozen": false,
     "read_only": false
    }
   },
   "outputs": [],
   "source": [
    "\n",
    "#~~~~~~~~~~~~~~~~~~~~~~~~~~~~~~~~~~~~~~~~~~~~~~~~~~~~~~~"
   ]
  },
  {
   "cell_type": "markdown",
   "metadata": {
    "run_control": {
     "frozen": false,
     "read_only": false
    }
   },
   "source": [
    "# Postage Stamp Problem\n",
    " \n",
    "### What is the largest postage-stamp value that cannot be attained using 3 and 5 cents?\n",
    "\n",
    "This can be modeled using an RE (111+11111)* which is the set of strings of length of three 1's or five 1's."
   ]
  },
  {
   "cell_type": "code",
   "execution_count": 4,
   "metadata": {},
   "outputs": [],
   "source": [
    "RE35 = \"(111+11111)*\""
   ]
  },
  {
   "cell_type": "code",
   "execution_count": 5,
   "metadata": {},
   "outputs": [
    {
     "name": "stderr",
     "output_type": "stream",
     "text": [
      "Generating LALR tables\n"
     ]
    },
    {
     "data": {
      "image/svg+xml": [
       "<?xml version=\"1.0\" encoding=\"UTF-8\" standalone=\"no\"?>\n",
       "<!DOCTYPE svg PUBLIC \"-//W3C//DTD SVG 1.1//EN\"\n",
       " \"http://www.w3.org/Graphics/SVG/1.1/DTD/svg11.dtd\">\n",
       "<!-- Generated by graphviz version 9.0.0 (0)\n",
       " -->\n",
       "<!-- Pages: 1 -->\n",
       "<svg width=\"965pt\" height=\"98pt\"\n",
       " viewBox=\"0.00 0.00 965.49 97.51\" xmlns=\"http://www.w3.org/2000/svg\" xmlns:xlink=\"http://www.w3.org/1999/xlink\">\n",
       "<g id=\"graph0\" class=\"graph\" transform=\"scale(1 1) rotate(0) translate(4 93.51)\">\n",
       "<polygon fill=\"white\" stroke=\"none\" points=\"-4,4 -4,-93.51 961.49,-93.51 961.49,4 -4,4\"/>\n",
       "<!-- EMPTY -->\n",
       "<g id=\"node1\" class=\"node\">\n",
       "<title>EMPTY</title>\n",
       "</g>\n",
       "<!-- St9 -->\n",
       "<g id=\"node9\" class=\"node\">\n",
       "<title>St9</title>\n",
       "<ellipse fill=\"none\" stroke=\"black\" cx=\"118.2\" cy=\"-27.81\" rx=\"23.2\" ry=\"23.2\"/>\n",
       "<ellipse fill=\"none\" stroke=\"black\" cx=\"118.2\" cy=\"-27.81\" rx=\"27.2\" ry=\"27.2\"/>\n",
       "<text text-anchor=\"middle\" x=\"118.2\" y=\"-22.76\" font-family=\"Times,serif\" font-size=\"14.00\">St9</text>\n",
       "</g>\n",
       "<!-- EMPTY&#45;&gt;St9 -->\n",
       "<g id=\"edge1\" class=\"edge\">\n",
       "<title>EMPTY&#45;&gt;St9</title>\n",
       "<path fill=\"none\" stroke=\"black\" d=\"M53.8,-27.81C61.72,-27.81 70.62,-27.81 79.18,-27.81\"/>\n",
       "<polygon fill=\"black\" stroke=\"black\" points=\"79.02,-31.31 89.02,-27.81 79.02,-24.31 79.02,-31.31\"/>\n",
       "</g>\n",
       "<!-- St10 -->\n",
       "<g id=\"node2\" class=\"node\">\n",
       "<title>St10</title>\n",
       "<ellipse fill=\"none\" stroke=\"black\" cx=\"828.77\" cy=\"-27.81\" rx=\"27.81\" ry=\"27.81\"/>\n",
       "<text text-anchor=\"middle\" x=\"828.77\" y=\"-22.76\" font-family=\"Times,serif\" font-size=\"14.00\">St10</text>\n",
       "</g>\n",
       "<!-- St0 -->\n",
       "<g id=\"node10\" class=\"node\">\n",
       "<title>St0</title>\n",
       "<ellipse fill=\"none\" stroke=\"black\" cx=\"930.28\" cy=\"-27.81\" rx=\"23.2\" ry=\"23.2\"/>\n",
       "<ellipse fill=\"none\" stroke=\"black\" cx=\"930.28\" cy=\"-27.81\" rx=\"27.2\" ry=\"27.2\"/>\n",
       "<text text-anchor=\"middle\" x=\"930.28\" y=\"-22.76\" font-family=\"Times,serif\" font-size=\"14.00\">St0</text>\n",
       "</g>\n",
       "<!-- St10&#45;&gt;St0 -->\n",
       "<g id=\"edge9\" class=\"edge\">\n",
       "<title>St10&#45;&gt;St0</title>\n",
       "<path fill=\"none\" stroke=\"black\" d=\"M856.97,-27.81C867.56,-27.81 879.88,-27.81 891.32,-27.81\"/>\n",
       "<polygon fill=\"black\" stroke=\"black\" points=\"891.3,-31.31 901.3,-27.81 891.3,-24.31 891.3,-31.31\"/>\n",
       "<text text-anchor=\"middle\" x=\"879.83\" y=\"-31.01\" font-family=\"Times,serif\" font-size=\"14.00\">1 </text>\n",
       "</g>\n",
       "<!-- St12 -->\n",
       "<g id=\"node3\" class=\"node\">\n",
       "<title>St12</title>\n",
       "<ellipse fill=\"none\" stroke=\"black\" cx=\"524.85\" cy=\"-27.81\" rx=\"27.81\" ry=\"27.81\"/>\n",
       "<text text-anchor=\"middle\" x=\"524.85\" y=\"-22.76\" font-family=\"Times,serif\" font-size=\"14.00\">St12</text>\n",
       "</g>\n",
       "<!-- St5 -->\n",
       "<g id=\"node7\" class=\"node\">\n",
       "<title>St5</title>\n",
       "<ellipse fill=\"none\" stroke=\"black\" cx=\"626.36\" cy=\"-27.81\" rx=\"23.2\" ry=\"23.2\"/>\n",
       "<ellipse fill=\"none\" stroke=\"black\" cx=\"626.36\" cy=\"-27.81\" rx=\"27.2\" ry=\"27.2\"/>\n",
       "<text text-anchor=\"middle\" x=\"626.36\" y=\"-22.76\" font-family=\"Times,serif\" font-size=\"14.00\">St5</text>\n",
       "</g>\n",
       "<!-- St12&#45;&gt;St5 -->\n",
       "<g id=\"edge6\" class=\"edge\">\n",
       "<title>St12&#45;&gt;St5</title>\n",
       "<path fill=\"none\" stroke=\"black\" d=\"M553.04,-27.81C563.63,-27.81 575.96,-27.81 587.4,-27.81\"/>\n",
       "<polygon fill=\"black\" stroke=\"black\" points=\"587.37,-31.31 597.37,-27.81 587.37,-24.31 587.37,-31.31\"/>\n",
       "<text text-anchor=\"middle\" x=\"575.91\" y=\"-31.01\" font-family=\"Times,serif\" font-size=\"14.00\">1 </text>\n",
       "</g>\n",
       "<!-- St13 -->\n",
       "<g id=\"node4\" class=\"node\">\n",
       "<title>St13</title>\n",
       "<ellipse fill=\"none\" stroke=\"black\" cx=\"219.71\" cy=\"-27.81\" rx=\"27.81\" ry=\"27.81\"/>\n",
       "<text text-anchor=\"middle\" x=\"219.71\" y=\"-22.76\" font-family=\"Times,serif\" font-size=\"14.00\">St13</text>\n",
       "</g>\n",
       "<!-- St11 -->\n",
       "<g id=\"node5\" class=\"node\">\n",
       "<title>St11</title>\n",
       "<ellipse fill=\"none\" stroke=\"black\" cx=\"321.83\" cy=\"-27.81\" rx=\"27.81\" ry=\"27.81\"/>\n",
       "<text text-anchor=\"middle\" x=\"321.83\" y=\"-22.76\" font-family=\"Times,serif\" font-size=\"14.00\">St11</text>\n",
       "</g>\n",
       "<!-- St13&#45;&gt;St11 -->\n",
       "<g id=\"edge3\" class=\"edge\">\n",
       "<title>St13&#45;&gt;St11</title>\n",
       "<path fill=\"none\" stroke=\"black\" d=\"M247.81,-27.81C258.49,-27.81 270.96,-27.81 282.53,-27.81\"/>\n",
       "<polygon fill=\"black\" stroke=\"black\" points=\"282.2,-31.31 292.2,-27.81 282.2,-24.31 282.2,-31.31\"/>\n",
       "<text text-anchor=\"middle\" x=\"270.77\" y=\"-31.01\" font-family=\"Times,serif\" font-size=\"14.00\">1 </text>\n",
       "</g>\n",
       "<!-- St8 -->\n",
       "<g id=\"node6\" class=\"node\">\n",
       "<title>St8</title>\n",
       "<ellipse fill=\"none\" stroke=\"black\" cx=\"423.34\" cy=\"-27.81\" rx=\"23.2\" ry=\"23.2\"/>\n",
       "<ellipse fill=\"none\" stroke=\"black\" cx=\"423.34\" cy=\"-27.81\" rx=\"27.2\" ry=\"27.2\"/>\n",
       "<text text-anchor=\"middle\" x=\"423.34\" y=\"-22.76\" font-family=\"Times,serif\" font-size=\"14.00\">St8</text>\n",
       "</g>\n",
       "<!-- St11&#45;&gt;St8 -->\n",
       "<g id=\"edge4\" class=\"edge\">\n",
       "<title>St11&#45;&gt;St8</title>\n",
       "<path fill=\"none\" stroke=\"black\" d=\"M350.02,-27.81C360.61,-27.81 372.93,-27.81 384.38,-27.81\"/>\n",
       "<polygon fill=\"black\" stroke=\"black\" points=\"384.35,-31.31 394.35,-27.81 384.35,-24.31 384.35,-31.31\"/>\n",
       "<text text-anchor=\"middle\" x=\"372.89\" y=\"-31.01\" font-family=\"Times,serif\" font-size=\"14.00\">1 </text>\n",
       "</g>\n",
       "<!-- St8&#45;&gt;St12 -->\n",
       "<g id=\"edge5\" class=\"edge\">\n",
       "<title>St8&#45;&gt;St12</title>\n",
       "<path fill=\"none\" stroke=\"black\" d=\"M451.01,-27.81C461.63,-27.81 474.05,-27.81 485.6,-27.81\"/>\n",
       "<polygon fill=\"black\" stroke=\"black\" points=\"485.25,-31.31 495.25,-27.81 485.25,-24.31 485.25,-31.31\"/>\n",
       "<text text-anchor=\"middle\" x=\"473.79\" y=\"-31.01\" font-family=\"Times,serif\" font-size=\"14.00\">1 </text>\n",
       "</g>\n",
       "<!-- St7 -->\n",
       "<g id=\"node8\" class=\"node\">\n",
       "<title>St7</title>\n",
       "<ellipse fill=\"none\" stroke=\"black\" cx=\"727.26\" cy=\"-27.81\" rx=\"23.2\" ry=\"23.2\"/>\n",
       "<ellipse fill=\"none\" stroke=\"black\" cx=\"727.26\" cy=\"-27.81\" rx=\"27.2\" ry=\"27.2\"/>\n",
       "<text text-anchor=\"middle\" x=\"727.26\" y=\"-22.76\" font-family=\"Times,serif\" font-size=\"14.00\">St7</text>\n",
       "</g>\n",
       "<!-- St5&#45;&gt;St7 -->\n",
       "<g id=\"edge7\" class=\"edge\">\n",
       "<title>St5&#45;&gt;St7</title>\n",
       "<path fill=\"none\" stroke=\"black\" d=\"M653.86,-27.81C664.51,-27.81 676.97,-27.81 688.53,-27.81\"/>\n",
       "<polygon fill=\"black\" stroke=\"black\" points=\"688.17,-31.31 698.17,-27.81 688.17,-24.31 688.17,-31.31\"/>\n",
       "<text text-anchor=\"middle\" x=\"676.81\" y=\"-31.01\" font-family=\"Times,serif\" font-size=\"14.00\">1 </text>\n",
       "</g>\n",
       "<!-- St7&#45;&gt;St10 -->\n",
       "<g id=\"edge8\" class=\"edge\">\n",
       "<title>St7&#45;&gt;St10</title>\n",
       "<path fill=\"none\" stroke=\"black\" d=\"M754.93,-27.81C765.55,-27.81 777.98,-27.81 789.53,-27.81\"/>\n",
       "<polygon fill=\"black\" stroke=\"black\" points=\"789.17,-31.31 799.17,-27.81 789.17,-24.31 789.17,-31.31\"/>\n",
       "<text text-anchor=\"middle\" x=\"777.72\" y=\"-31.01\" font-family=\"Times,serif\" font-size=\"14.00\">1 </text>\n",
       "</g>\n",
       "<!-- St9&#45;&gt;St13 -->\n",
       "<g id=\"edge2\" class=\"edge\">\n",
       "<title>St9&#45;&gt;St13</title>\n",
       "<path fill=\"none\" stroke=\"black\" d=\"M145.87,-27.81C156.49,-27.81 168.92,-27.81 180.47,-27.81\"/>\n",
       "<polygon fill=\"black\" stroke=\"black\" points=\"180.11,-31.31 190.11,-27.81 180.11,-24.31 180.11,-31.31\"/>\n",
       "<text text-anchor=\"middle\" x=\"168.65\" y=\"-31.01\" font-family=\"Times,serif\" font-size=\"14.00\">1 </text>\n",
       "</g>\n",
       "<!-- St0&#45;&gt;St0 -->\n",
       "<g id=\"edge10\" class=\"edge\">\n",
       "<title>St0&#45;&gt;St0</title>\n",
       "<path fill=\"none\" stroke=\"black\" d=\"M920.88,-53.82C920.35,-64.25 923.48,-73.01 930.28,-73.01 934.32,-73.01 937.07,-69.92 938.52,-65.23\"/>\n",
       "<polygon fill=\"black\" stroke=\"black\" points=\"942,-65.63 939.53,-55.33 935.03,-64.92 942,-65.63\"/>\n",
       "<text text-anchor=\"middle\" x=\"930.28\" y=\"-76.21\" font-family=\"Times,serif\" font-size=\"14.00\">1 </text>\n",
       "</g>\n",
       "</g>\n",
       "</svg>\n"
      ],
      "text/plain": [
       "<graphviz.graphs.Digraph at 0x110bd79b0>"
      ]
     },
     "execution_count": 5,
     "metadata": {},
     "output_type": "execute_result"
    }
   ],
   "source": [
    "MD35 = min_dfa(nfa2dfa(re2nfa(RE35)))\n",
    "dotObj_dfa(MD35)"
   ]
  },
  {
   "cell_type": "markdown",
   "metadata": {},
   "source": [
    "# The answer we seek is the number of steps to the last state minus 1\n",
    "\n",
    "## This is obtained by taking the number of states of MD35 - 2 \n",
    "\n",
    "### Answer: 7"
   ]
  },
  {
   "cell_type": "code",
   "execution_count": null,
   "metadata": {},
   "outputs": [],
   "source": [
    "len(MD35[\"Q\"]) - 2"
   ]
  },
  {
   "cell_type": "markdown",
   "metadata": {},
   "source": [
    "# End of postage-stamp Problems"
   ]
  }
 ],
 "metadata": {
  "kernelspec": {
   "display_name": "Python 3 (ipykernel)",
   "language": "python",
   "name": "python3"
  },
  "language_info": {
   "codemirror_mode": {
    "name": "ipython",
    "version": 3
   },
   "file_extension": ".py",
   "mimetype": "text/x-python",
   "name": "python",
   "nbconvert_exporter": "python",
   "pygments_lexer": "ipython3",
   "version": "3.12.3"
  },
  "toc": {
   "colors": {
    "hover_highlight": "#DAA520",
    "running_highlight": "#FF0000",
    "selected_highlight": "#FFD700"
   },
   "moveMenuLeft": true,
   "nav_menu": {
    "height": "318px",
    "width": "252px"
   },
   "navigate_menu": true,
   "number_sections": true,
   "sideBar": true,
   "threshold": 4,
   "toc_cell": false,
   "toc_section_display": "block",
   "toc_window_display": false,
   "widenNotebook": false
  }
 },
 "nbformat": 4,
 "nbformat_minor": 4
}
