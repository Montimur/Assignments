{
 "cells": [
  {
   "cell_type": "markdown",
   "metadata": {
    "id": "-5_c7nLkBg9e",
    "run_control": {
     "frozen": false,
     "read_only": false
    }
   },
   "source": [
    "# DFA design exercise\n",
    "\n",
    "DFA that accepts (Odd 0's or Even 1's) AND the number MSB-first isn't divisible by 3"
   ]
  },
  {
   "cell_type": "code",
   "execution_count": 1,
   "metadata": {
    "colab": {
     "base_uri": "https://localhost:8080/"
    },
    "id": "A5yuQFdyBg9k",
    "outputId": "c73caaaa-4dda-4493-e2e4-43d2c920b57a",
    "run_control": {
     "frozen": false,
     "read_only": false
    }
   },
   "outputs": [
    {
     "name": "stdout",
     "output_type": "stream",
     "text": [
      "Inst =  True\n"
     ]
    }
   ],
   "source": [
    "#~~~~~~~~~~~~~~~~~~~~~~~~~~~~~~~~~~~~~~~~~~~~~~~~~~~~~~~\n",
    "import sys\n",
    "\n",
    "# -- Detect if in Own Install or in Colab\n",
    "try:\n",
    "    import google.colab\n",
    "    OWN_INSTALL = False\n",
    "except:\n",
    "    OWN_INSTALL = True\n",
    "\n",
    "print(\"Inst = \", OWN_INSTALL)\n",
    "    "
   ]
  },
  {
   "cell_type": "code",
   "execution_count": null,
   "metadata": {},
   "outputs": [],
   "source": []
  },
  {
   "cell_type": "code",
   "execution_count": 2,
   "metadata": {
    "colab": {
     "base_uri": "https://localhost:8080/"
    },
    "id": "A5yuQFdyBg9k",
    "outputId": "c73caaaa-4dda-4493-e2e4-43d2c920b57a",
    "run_control": {
     "frozen": false,
     "read_only": false
    }
   },
   "outputs": [
    {
     "name": "stdout",
     "output_type": "stream",
     "text": [
      "You may use any of these help commands:\n",
      "help(ResetStNum)\n",
      "help(NxtStateStr)\n",
      "\n",
      "You may use any of these help commands:\n",
      "help(md2mc)\n",
      ".. and if you want to dig more, then ..\n",
      "help(default_line_attr)\n",
      "help(length_ok_input_items)\n",
      "help(union_line_attr_list_fld)\n",
      "help(extend_rsltdict)\n",
      "help(form_delta)\n",
      "help(get_machine_components)\n",
      "\n",
      "You may use any of these help commands:\n",
      "help(mkp_dfa)\n",
      "help(mk_dfa)\n",
      "help(totalize_dfa)\n",
      "help(addtosigma_delta)\n",
      "help(step_dfa)\n",
      "help(run_dfa)\n",
      "help(accepts_dfa)\n",
      "help(comp_dfa)\n",
      "help(flTup)\n",
      "help(union_dfa)\n",
      "help(intersect_dfa)\n",
      "help(pruneUnreach)\n",
      "help(iso_dfa)\n",
      "help(langeq_dfa)\n",
      "help(same_status)\n",
      "help(h_langeq_dfa)\n",
      "help(fixptDist)\n",
      "help(min_dfa)\n",
      "help(pairFR)\n",
      "help(state_combos)\n",
      "help(sepFinNonFin)\n",
      "help(bash_eql_classes)\n",
      "help(listminus)\n",
      "help(bash_1)\n",
      "help(mk_rep_eqc)\n",
      "help(F_of)\n",
      "help(rep_of_s)\n",
      "help(q0_of)\n",
      "help(Delta_of)\n",
      "help(mk_state_eqc_name)\n",
      "\n",
      "You may use any of these help commands:\n",
      "help(mk_nfa)\n",
      "help(totalize_nfa)\n",
      "help(step_nfa)\n",
      "help(run_nfa)\n",
      "help(ec_step_nfa)\n",
      "help(Eclosure)\n",
      "help(Echelp)\n",
      "help(accepts_nfa)\n",
      "help(nfa2dfa)\n",
      "help(n2d)\n",
      "help(inSets)\n",
      "help(rev_dfa)\n",
      "help(min_dfa_brz)\n",
      "\n",
      "You may use any of these help commands:\n",
      "help(lphi)\n",
      "help(lunit)\n",
      "help(lcat)\n",
      "help(lexp)\n",
      "help(lunion)\n",
      "help(lstar)\n",
      "help(srev)\n",
      "help(lrev)\n",
      "help(shomo)\n",
      "help(lhomo)\n",
      "help(powset)\n",
      "help(lint)\n",
      "help(lsymdiff)\n",
      "help(lminus)\n",
      "help(lissubset)\n",
      "help(lissuperset)\n",
      "help(lcomplem)\n",
      "help(product)\n",
      "help(nthnumeric)\n",
      "\n",
      "You may use any of these help commands:\n",
      "help(re2nfa)\n",
      "\n"
     ]
    }
   ],
   "source": [
    "if OWN_INSTALL:\n",
    "    \n",
    "  #---- Leave these definitions ON if running on laptop\n",
    "  #---- Else turn OFF by putting them between ''' ... '''\n",
    "\n",
    "  sys.path[0:0] = ['../../../../..',  '../../../../../3rdparty',  \n",
    "                   '../../../..',  '../../../../3rdparty',  \n",
    "                   '../../..',     '../../../3rdparty', \n",
    "                   '../..',        '../../3rdparty',\n",
    "                   '..',           '../3rdparty' ]\n",
    "\n",
    "else: # In colab\n",
    "  ! if [ ! -d Jove ]; then git clone https://github.com/ganeshutah/Jove Jove; fi\n",
    "  sys.path.append('./Jove')\n",
    "  sys.path.append('./Jove/jove')\n",
    "\n",
    "# -- common imports --\n",
    "from jove.DotBashers import *\n",
    "from jove.Def_md2mc  import *\n",
    "from jove.Def_DFA    import *\n",
    "from jove.Def_NFA import *\n",
    "from jove.LangDef    import *  # for testing DFA actions\n",
    "from jove.Def_RE2NFA import *\n",
    "\n",
    "#~~~~~~~~~~~~~~~~~~~~~~~~~~~~~~~~~~~~~~~~~~~~~~~~~~~~~~~"
   ]
  },
  {
   "cell_type": "markdown",
   "metadata": {
    "id": "jbb1K9_CCBqg"
   },
   "source": [
    "Odd 0's"
   ]
  },
  {
   "cell_type": "code",
   "execution_count": 3,
   "metadata": {
    "colab": {
     "base_uri": "https://localhost:8080/",
     "height": 187
    },
    "id": "pQgKpB4KB96O",
    "outputId": "1c86078f-6e21-4a36-95c5-275ef7cce14b"
   },
   "outputs": [
    {
     "name": "stderr",
     "output_type": "stream",
     "text": [
      "Generating LALR tables\n"
     ]
    },
    {
     "data": {
      "image/svg+xml": [
       "<?xml version=\"1.0\" encoding=\"UTF-8\" standalone=\"no\"?>\n",
       "<!DOCTYPE svg PUBLIC \"-//W3C//DTD SVG 1.1//EN\"\n",
       " \"http://www.w3.org/Graphics/SVG/1.1/DTD/svg11.dtd\">\n",
       "<!-- Generated by graphviz version 9.0.0 (0)\n",
       " -->\n",
       "<!-- Pages: 1 -->\n",
       "<svg width=\"299pt\" height=\"124pt\"\n",
       " viewBox=\"0.00 0.00 298.51 123.52\" xmlns=\"http://www.w3.org/2000/svg\" xmlns:xlink=\"http://www.w3.org/1999/xlink\">\n",
       "<g id=\"graph0\" class=\"graph\" transform=\"scale(1 1) rotate(0) translate(4 119.52)\">\n",
       "<polygon fill=\"white\" stroke=\"none\" points=\"-4,4 -4,-119.52 294.51,-119.52 294.51,4 -4,4\"/>\n",
       "<!-- EMPTY -->\n",
       "<g id=\"node1\" class=\"node\">\n",
       "<title>EMPTY</title>\n",
       "</g>\n",
       "<!-- Ieven0 -->\n",
       "<g id=\"node2\" class=\"node\">\n",
       "<title>Ieven0</title>\n",
       "<ellipse fill=\"none\" stroke=\"black\" cx=\"127\" cy=\"-40.51\" rx=\"36\" ry=\"36\"/>\n",
       "<text text-anchor=\"middle\" x=\"127\" y=\"-35.46\" font-family=\"Times,serif\" font-size=\"14.00\">Ieven0</text>\n",
       "</g>\n",
       "<!-- EMPTY&#45;&gt;Ieven0 -->\n",
       "<g id=\"edge1\" class=\"edge\">\n",
       "<title>EMPTY&#45;&gt;Ieven0</title>\n",
       "<path fill=\"none\" stroke=\"black\" d=\"M53.75,-40.51C61.63,-40.51 70.57,-40.51 79.39,-40.51\"/>\n",
       "<polygon fill=\"black\" stroke=\"black\" points=\"79.33,-44.01 89.33,-40.51 79.33,-37.01 79.33,-44.01\"/>\n",
       "</g>\n",
       "<!-- Ieven0&#45;&gt;Ieven0 -->\n",
       "<g id=\"edge3\" class=\"edge\">\n",
       "<title>Ieven0&#45;&gt;Ieven0</title>\n",
       "<path fill=\"none\" stroke=\"black\" d=\"M116.79,-75.31C117,-86.06 120.4,-94.51 127,-94.51 131.02,-94.51 133.85,-91.37 135.5,-86.49\"/>\n",
       "<polygon fill=\"black\" stroke=\"black\" points=\"138.93,-87.21 136.98,-76.8 132.01,-86.16 138.93,-87.21\"/>\n",
       "<text text-anchor=\"middle\" x=\"127\" y=\"-97.71\" font-family=\"Times,serif\" font-size=\"14.00\">1 </text>\n",
       "</g>\n",
       "<!-- FOdd0 -->\n",
       "<g id=\"node3\" class=\"node\">\n",
       "<title>FOdd0</title>\n",
       "<ellipse fill=\"none\" stroke=\"black\" cx=\"250\" cy=\"-40.51\" rx=\"36.51\" ry=\"36.51\"/>\n",
       "<ellipse fill=\"none\" stroke=\"black\" cx=\"250\" cy=\"-40.51\" rx=\"40.51\" ry=\"40.51\"/>\n",
       "<text text-anchor=\"middle\" x=\"250\" y=\"-35.46\" font-family=\"Times,serif\" font-size=\"14.00\">FOdd0</text>\n",
       "</g>\n",
       "<!-- Ieven0&#45;&gt;FOdd0 -->\n",
       "<g id=\"edge2\" class=\"edge\">\n",
       "<title>Ieven0&#45;&gt;FOdd0</title>\n",
       "<path fill=\"none\" stroke=\"black\" d=\"M163.32,-40.51C174.1,-40.51 186.18,-40.51 197.78,-40.51\"/>\n",
       "<polygon fill=\"black\" stroke=\"black\" points=\"197.66,-44.01 207.66,-40.51 197.66,-37.01 197.66,-44.01\"/>\n",
       "<text text-anchor=\"middle\" x=\"186.24\" y=\"-43.71\" font-family=\"Times,serif\" font-size=\"14.00\">0 </text>\n",
       "</g>\n",
       "<!-- FOdd0&#45;&gt;Ieven0 -->\n",
       "<g id=\"edge4\" class=\"edge\">\n",
       "<title>FOdd0&#45;&gt;Ieven0</title>\n",
       "<path fill=\"none\" stroke=\"black\" d=\"M213.01,-22.93C202.77,-19.78 191.54,-18.04 180.99,-20.01 177.66,-20.63 174.26,-21.46 170.88,-22.42\"/>\n",
       "<polygon fill=\"black\" stroke=\"black\" points=\"170.11,-18.99 161.68,-25.41 172.27,-25.65 170.11,-18.99\"/>\n",
       "<text text-anchor=\"middle\" x=\"186.24\" y=\"-22.71\" font-family=\"Times,serif\" font-size=\"14.00\">0 </text>\n",
       "</g>\n",
       "<!-- FOdd0&#45;&gt;FOdd0 -->\n",
       "<g id=\"edge5\" class=\"edge\">\n",
       "<title>FOdd0&#45;&gt;FOdd0</title>\n",
       "<path fill=\"none\" stroke=\"black\" d=\"M238.11,-79.61C238.63,-90.59 242.59,-99.02 250,-99.02 254.63,-99.02 257.92,-95.73 259.86,-90.58\"/>\n",
       "<polygon fill=\"black\" stroke=\"black\" points=\"263.24,-91.57 261.62,-81.1 256.35,-90.29 263.24,-91.57\"/>\n",
       "<text text-anchor=\"middle\" x=\"250\" y=\"-102.22\" font-family=\"Times,serif\" font-size=\"14.00\">1 </text>\n",
       "</g>\n",
       "</g>\n",
       "</svg>\n"
      ],
      "text/plain": [
       "<graphviz.graphs.Digraph at 0x112c13650>"
      ]
     },
     "execution_count": 3,
     "metadata": {},
     "output_type": "execute_result"
    }
   ],
   "source": [
    "# DFA over {0,1} that accepts all strings that contain odd # of 0's\n",
    "\n",
    "Odd_zeros = md2mc('''\n",
    "DFA\n",
    "\n",
    "Ieven0 : 0 -> FOdd0\n",
    "Ieven0 : 1 -> Ieven0\n",
    "\n",
    "FOdd0 : 0 -> Ieven0\n",
    "FOdd0 : 1 -> FOdd0\n",
    "''')\n",
    "\n",
    "dotObj_dfa(Odd_zeros, FuseEdges=True)"
   ]
  },
  {
   "cell_type": "markdown",
   "metadata": {
    "id": "jUHuCzAVCJqf"
   },
   "source": [
    "Even 1's"
   ]
  },
  {
   "cell_type": "code",
   "execution_count": 4,
   "metadata": {
    "colab": {
     "base_uri": "https://localhost:8080/",
     "height": 203
    },
    "id": "MBcP4FJ4B-xj",
    "outputId": "859bf52c-eb59-437a-e451-eabf68bbe125"
   },
   "outputs": [
    {
     "data": {
      "image/svg+xml": [
       "<?xml version=\"1.0\" encoding=\"UTF-8\" standalone=\"no\"?>\n",
       "<!DOCTYPE svg PUBLIC \"-//W3C//DTD SVG 1.1//EN\"\n",
       " \"http://www.w3.org/Graphics/SVG/1.1/DTD/svg11.dtd\">\n",
       "<!-- Generated by graphviz version 9.0.0 (0)\n",
       " -->\n",
       "<!-- Pages: 1 -->\n",
       "<svg width=\"302pt\" height=\"136pt\"\n",
       " viewBox=\"0.00 0.00 301.58 135.80\" xmlns=\"http://www.w3.org/2000/svg\" xmlns:xlink=\"http://www.w3.org/1999/xlink\">\n",
       "<g id=\"graph0\" class=\"graph\" transform=\"scale(1 1) rotate(0) translate(4 131.8)\">\n",
       "<polygon fill=\"white\" stroke=\"none\" points=\"-4,4 -4,-131.8 297.58,-131.8 297.58,4 -4,4\"/>\n",
       "<!-- EMPTY -->\n",
       "<g id=\"node1\" class=\"node\">\n",
       "<title>EMPTY</title>\n",
       "</g>\n",
       "<!-- IFEven1 -->\n",
       "<g id=\"node3\" class=\"node\">\n",
       "<title>IFEven1</title>\n",
       "<ellipse fill=\"none\" stroke=\"black\" cx=\"137.65\" cy=\"-46.65\" rx=\"42.65\" ry=\"42.65\"/>\n",
       "<ellipse fill=\"none\" stroke=\"black\" cx=\"137.65\" cy=\"-46.65\" rx=\"46.65\" ry=\"46.65\"/>\n",
       "<text text-anchor=\"middle\" x=\"137.65\" y=\"-41.6\" font-family=\"Times,serif\" font-size=\"14.00\">IFEven1</text>\n",
       "</g>\n",
       "<!-- EMPTY&#45;&gt;IFEven1 -->\n",
       "<g id=\"edge1\" class=\"edge\">\n",
       "<title>EMPTY&#45;&gt;IFEven1</title>\n",
       "<path fill=\"none\" stroke=\"black\" d=\"M53.75,-46.65C61.51,-46.65 70.37,-46.65 79.33,-46.65\"/>\n",
       "<polygon fill=\"black\" stroke=\"black\" points=\"79.16,-50.15 89.16,-46.65 79.16,-43.15 79.16,-50.15\"/>\n",
       "</g>\n",
       "<!-- Odd1 -->\n",
       "<g id=\"node2\" class=\"node\">\n",
       "<title>Odd1</title>\n",
       "<ellipse fill=\"none\" stroke=\"black\" cx=\"262.19\" cy=\"-46.65\" rx=\"31.39\" ry=\"31.39\"/>\n",
       "<text text-anchor=\"middle\" x=\"262.19\" y=\"-41.6\" font-family=\"Times,serif\" font-size=\"14.00\">Odd1</text>\n",
       "</g>\n",
       "<!-- Odd1&#45;&gt;Odd1 -->\n",
       "<g id=\"edge4\" class=\"edge\">\n",
       "<title>Odd1&#45;&gt;Odd1</title>\n",
       "<path fill=\"none\" stroke=\"black\" d=\"M251.96,-76.55C251.74,-87.29 255.15,-96.04 262.19,-96.04 266.48,-96.04 269.43,-92.79 271.02,-87.82\"/>\n",
       "<polygon fill=\"black\" stroke=\"black\" points=\"274.48,-88.41 272.24,-78.05 267.53,-87.54 274.48,-88.41\"/>\n",
       "<text text-anchor=\"middle\" x=\"262.19\" y=\"-99.24\" font-family=\"Times,serif\" font-size=\"14.00\">0 </text>\n",
       "</g>\n",
       "<!-- Odd1&#45;&gt;IFEven1 -->\n",
       "<g id=\"edge5\" class=\"edge\">\n",
       "<title>Odd1&#45;&gt;IFEven1</title>\n",
       "<path fill=\"none\" stroke=\"black\" d=\"M233.66,-32.75C226.99,-30.02 219.78,-27.57 212.8,-26.15 206.01,-24.77 198.93,-24.79 191.95,-25.7\"/>\n",
       "<polygon fill=\"black\" stroke=\"black\" points=\"191.39,-22.25 182.24,-27.6 192.73,-29.12 191.39,-22.25\"/>\n",
       "<text text-anchor=\"middle\" x=\"207.55\" y=\"-28.85\" font-family=\"Times,serif\" font-size=\"14.00\">1 </text>\n",
       "</g>\n",
       "<!-- IFEven1&#45;&gt;Odd1 -->\n",
       "<g id=\"edge3\" class=\"edge\">\n",
       "<title>IFEven1&#45;&gt;Odd1</title>\n",
       "<path fill=\"none\" stroke=\"black\" d=\"M184.63,-46.65C196.02,-46.65 208.17,-46.65 219.35,-46.65\"/>\n",
       "<polygon fill=\"black\" stroke=\"black\" points=\"219.07,-50.15 229.07,-46.65 219.07,-43.15 219.07,-50.15\"/>\n",
       "<text text-anchor=\"middle\" x=\"207.55\" y=\"-49.85\" font-family=\"Times,serif\" font-size=\"14.00\">1 </text>\n",
       "</g>\n",
       "<!-- IFEven1&#45;&gt;IFEven1 -->\n",
       "<g id=\"edge2\" class=\"edge\">\n",
       "<title>IFEven1&#45;&gt;IFEven1</title>\n",
       "<path fill=\"none\" stroke=\"black\" d=\"M125.63,-91.97C126.52,-103.05 130.52,-111.3 137.65,-111.3 142.1,-111.3 145.34,-108.08 147.36,-102.96\"/>\n",
       "<polygon fill=\"black\" stroke=\"black\" points=\"150.72,-103.95 149.36,-93.45 143.88,-102.51 150.72,-103.95\"/>\n",
       "<text text-anchor=\"middle\" x=\"137.65\" y=\"-114.5\" font-family=\"Times,serif\" font-size=\"14.00\">0 </text>\n",
       "</g>\n",
       "</g>\n",
       "</svg>\n"
      ],
      "text/plain": [
       "<graphviz.graphs.Digraph at 0x112c26e70>"
      ]
     },
     "execution_count": 4,
     "metadata": {},
     "output_type": "execute_result"
    }
   ],
   "source": [
    "# DFA over {0,1} that accepts all strings that contain an even number of 1's\n",
    "\n",
    "Even_ones = md2mc('''\n",
    "DFA\n",
    "\n",
    "IFEven1 : 0 -> IFEven1\n",
    "IFEven1 : 1 -> Odd1\n",
    "\n",
    "Odd1 : 0 -> Odd1\n",
    "Odd1 : 1 -> IFEven1\n",
    "''')\n",
    "\n",
    "dotObj_dfa(Even_ones, FuseEdges=True)"
   ]
  },
  {
   "cell_type": "markdown",
   "metadata": {
    "id": "DeZkw8TsCL4G"
   },
   "source": [
    "Odd 0's OR even 1's"
   ]
  },
  {
   "cell_type": "code",
   "execution_count": 5,
   "metadata": {
    "colab": {
     "base_uri": "https://localhost:8080/"
    },
    "id": "Xnrqn8LpH8ea",
    "outputId": "a7a1544c-905a-4ff4-e700-57e774d7d18b"
   },
   "outputs": [
    {
     "name": "stdout",
     "output_type": "stream",
     "text": [
      "Help on function union_dfa in module jove.Def_DFA:\n",
      "\n",
      "union_dfa(D1in, D2in, flatten_states=False)\n",
      "    In : D1in (consistent DFA)\n",
      "         D2in (consistent DFA)\n",
      "         If flatten_states (Boolean), it turns paired states into string\n",
      "    Out: DFA for language union of D1in, D2in (consistent DFA).\n",
      "\n"
     ]
    }
   ],
   "source": [
    "help(union_dfa)"
   ]
  },
  {
   "cell_type": "code",
   "execution_count": 6,
   "metadata": {
    "colab": {
     "base_uri": "https://localhost:8080/"
    },
    "id": "SL4Proj9IBjx",
    "outputId": "645598a7-81b1-4567-8eb5-72a5f48dffd9"
   },
   "outputs": [
    {
     "name": "stdout",
     "output_type": "stream",
     "text": [
      "Help on function dotObj_dfa in module jove.DotBashers:\n",
      "\n",
      "dotObj_dfa(D, FuseEdges=False, dfaName='do_', STATENAME_MAXSIZE=20)\n",
      "    In : D1 (DFA : partially consistent)\n",
      "         dfaName (string)\n",
      "         STATENAME_MAXSIZE : number\n",
      "    Out: A dot object.\n",
      "    Generate a dot object representing the automaton.\n",
      "    Suppress \"black-hole states\".\n",
      "\n"
     ]
    }
   ],
   "source": [
    "help(dotObj_dfa)"
   ]
  },
  {
   "cell_type": "code",
   "execution_count": 7,
   "metadata": {
    "id": "DQP2PF9iCNz7"
   },
   "outputs": [],
   "source": [
    "Odd0s_Even1s = union_dfa(Odd_zeros, Even_ones)"
   ]
  },
  {
   "cell_type": "code",
   "execution_count": 8,
   "metadata": {
    "colab": {
     "base_uri": "https://localhost:8080/",
     "height": 379
    },
    "id": "KfTwf9T9D7s6",
    "outputId": "73ccd165-f009-4a41-9b6c-a44b4d180d72"
   },
   "outputs": [
    {
     "data": {
      "image/svg+xml": [
       "<?xml version=\"1.0\" encoding=\"UTF-8\" standalone=\"no\"?>\n",
       "<!DOCTYPE svg PUBLIC \"-//W3C//DTD SVG 1.1//EN\"\n",
       " \"http://www.w3.org/Graphics/SVG/1.1/DTD/svg11.dtd\">\n",
       "<!-- Generated by graphviz version 9.0.0 (0)\n",
       " -->\n",
       "<!-- Pages: 1 -->\n",
       "<svg width=\"847pt\" height=\"247pt\"\n",
       " viewBox=\"0.00 0.00 847.33 246.72\" xmlns=\"http://www.w3.org/2000/svg\" xmlns:xlink=\"http://www.w3.org/1999/xlink\">\n",
       "<g id=\"graph0\" class=\"graph\" transform=\"scale(1 1) rotate(0) translate(4 242.72)\">\n",
       "<polygon fill=\"white\" stroke=\"none\" points=\"-4,4 -4,-242.72 843.33,-242.72 843.33,4 -4,4\"/>\n",
       "<!-- EMPTY -->\n",
       "<g id=\"node1\" class=\"node\">\n",
       "<title>EMPTY</title>\n",
       "</g>\n",
       "<!-- \\(Ieven0_IFEven1\\) -->\n",
       "<g id=\"node4\" class=\"node\">\n",
       "<title>\\(Ieven0_IFEven1\\)</title>\n",
       "<ellipse fill=\"none\" stroke=\"black\" cx=\"173.48\" cy=\"-82.99\" rx=\"78.48\" ry=\"78.48\"/>\n",
       "<ellipse fill=\"none\" stroke=\"black\" cx=\"173.48\" cy=\"-82.99\" rx=\"82.48\" ry=\"82.48\"/>\n",
       "<text text-anchor=\"middle\" x=\"173.48\" y=\"-77.94\" font-family=\"Times,serif\" font-size=\"14.00\">(Ieven0_IFEven1)</text>\n",
       "</g>\n",
       "<!-- EMPTY&#45;&gt;\\(Ieven0_IFEven1\\) -->\n",
       "<g id=\"edge1\" class=\"edge\">\n",
       "<title>EMPTY&#45;&gt;\\(Ieven0_IFEven1\\)</title>\n",
       "<path fill=\"none\" stroke=\"black\" d=\"M53.83,-82.99C61.33,-82.99 69.99,-82.99 79.15,-82.99\"/>\n",
       "<polygon fill=\"black\" stroke=\"black\" points=\"79,-86.49 89,-82.99 79,-79.49 79,-86.49\"/>\n",
       "</g>\n",
       "<!-- \\(Ieven0_Odd1\\) -->\n",
       "<g id=\"node2\" class=\"node\">\n",
       "<title>\\(Ieven0_Odd1\\)</title>\n",
       "<ellipse fill=\"none\" stroke=\"black\" cx=\"369.67\" cy=\"-161.99\" rx=\"67.22\" ry=\"67.22\"/>\n",
       "<text text-anchor=\"middle\" x=\"369.67\" y=\"-156.94\" font-family=\"Times,serif\" font-size=\"14.00\">(Ieven0_Odd1)</text>\n",
       "</g>\n",
       "<!-- \\(Ieven0_Odd1\\)&#45;&gt;\\(Ieven0_IFEven1\\) -->\n",
       "<g id=\"edge6\" class=\"edge\">\n",
       "<title>\\(Ieven0_Odd1\\)&#45;&gt;\\(Ieven0_IFEven1\\)</title>\n",
       "<path fill=\"none\" stroke=\"black\" d=\"M313.3,-124.9C303.92,-119.57 294.1,-114.53 284.45,-110.49 278.2,-107.87 271.64,-105.45 264.96,-103.24\"/>\n",
       "<polygon fill=\"black\" stroke=\"black\" points=\"266.44,-100.04 255.85,-100.38 264.34,-106.71 266.44,-100.04\"/>\n",
       "<text text-anchor=\"middle\" x=\"279.2\" y=\"-114.19\" font-family=\"Times,serif\" font-size=\"14.00\">1 </text>\n",
       "</g>\n",
       "<!-- \\(FOdd0_Odd1\\) -->\n",
       "<g id=\"node5\" class=\"node\">\n",
       "<title>\\(FOdd0_Odd1\\)</title>\n",
       "<ellipse fill=\"none\" stroke=\"black\" cx=\"555.12\" cy=\"-166.99\" rx=\"67.73\" ry=\"67.73\"/>\n",
       "<ellipse fill=\"none\" stroke=\"black\" cx=\"555.12\" cy=\"-166.99\" rx=\"71.73\" ry=\"71.73\"/>\n",
       "<text text-anchor=\"middle\" x=\"555.12\" y=\"-161.94\" font-family=\"Times,serif\" font-size=\"14.00\">(FOdd0_Odd1)</text>\n",
       "</g>\n",
       "<!-- \\(Ieven0_Odd1\\)&#45;&gt;\\(FOdd0_Odd1\\) -->\n",
       "<g id=\"edge2\" class=\"edge\">\n",
       "<title>\\(Ieven0_Odd1\\)&#45;&gt;\\(FOdd0_Odd1\\)</title>\n",
       "<path fill=\"none\" stroke=\"black\" d=\"M437.16,-163.8C448.39,-164.11 460.16,-164.43 471.74,-164.74\"/>\n",
       "<polygon fill=\"black\" stroke=\"black\" points=\"471.61,-168.24 481.7,-165.02 471.8,-161.24 471.61,-168.24\"/>\n",
       "<text text-anchor=\"middle\" x=\"460.14\" y=\"-167.19\" font-family=\"Times,serif\" font-size=\"14.00\">0 </text>\n",
       "</g>\n",
       "<!-- \\(FOdd0_IFEven1\\) -->\n",
       "<g id=\"node3\" class=\"node\">\n",
       "<title>\\(FOdd0_IFEven1\\)</title>\n",
       "<ellipse fill=\"none\" stroke=\"black\" cx=\"756.34\" cy=\"-82.99\" rx=\"78.99\" ry=\"78.99\"/>\n",
       "<ellipse fill=\"none\" stroke=\"black\" cx=\"756.34\" cy=\"-82.99\" rx=\"82.99\" ry=\"82.99\"/>\n",
       "<text text-anchor=\"middle\" x=\"756.34\" y=\"-77.94\" font-family=\"Times,serif\" font-size=\"14.00\">(FOdd0_IFEven1)</text>\n",
       "</g>\n",
       "<!-- \\(FOdd0_IFEven1\\)&#45;&gt;\\(Ieven0_IFEven1\\) -->\n",
       "<g id=\"edge9\" class=\"edge\">\n",
       "<title>\\(FOdd0_IFEven1\\)&#45;&gt;\\(Ieven0_IFEven1\\)</title>\n",
       "<path fill=\"none\" stroke=\"black\" d=\"M673.48,-72.77C613.11,-66.36 528.95,-59.79 454.89,-62.49 392.27,-64.77 321.94,-69.92 267.38,-74.49\"/>\n",
       "<polygon fill=\"black\" stroke=\"black\" points=\"267.17,-70.99 257.5,-75.32 267.76,-77.97 267.17,-70.99\"/>\n",
       "<text text-anchor=\"middle\" x=\"460.14\" y=\"-66.19\" font-family=\"Times,serif\" font-size=\"14.00\">0 </text>\n",
       "</g>\n",
       "<!-- \\(FOdd0_IFEven1\\)&#45;&gt;\\(FOdd0_Odd1\\) -->\n",
       "<g id=\"edge4\" class=\"edge\">\n",
       "<title>\\(FOdd0_IFEven1\\)&#45;&gt;\\(FOdd0_Odd1\\)</title>\n",
       "<path fill=\"none\" stroke=\"black\" d=\"M675.37,-102.25C664.95,-105.58 654.54,-109.32 644.85,-113.49 638.45,-116.24 631.96,-119.38 625.54,-122.73\"/>\n",
       "<polygon fill=\"black\" stroke=\"black\" points=\"624.01,-119.58 616.89,-127.43 627.35,-125.74 624.01,-119.58\"/>\n",
       "<text text-anchor=\"middle\" x=\"650.1\" y=\"-117.19\" font-family=\"Times,serif\" font-size=\"14.00\">1 </text>\n",
       "</g>\n",
       "<!-- \\(Ieven0_IFEven1\\)&#45;&gt;\\(Ieven0_Odd1\\) -->\n",
       "<g id=\"edge5\" class=\"edge\">\n",
       "<title>\\(Ieven0_IFEven1\\)&#45;&gt;\\(Ieven0_Odd1\\)</title>\n",
       "<path fill=\"none\" stroke=\"black\" d=\"M247.87,-119.75C256.58,-123.71 265.42,-127.55 273.95,-130.99 280.48,-133.62 287.33,-136.2 294.23,-138.67\"/>\n",
       "<polygon fill=\"black\" stroke=\"black\" points=\"293.05,-141.97 303.64,-141.97 295.36,-135.36 293.05,-141.97\"/>\n",
       "<text text-anchor=\"middle\" x=\"279.2\" y=\"-137.19\" font-family=\"Times,serif\" font-size=\"14.00\">1 </text>\n",
       "</g>\n",
       "<!-- \\(Ieven0_IFEven1\\)&#45;&gt;\\(FOdd0_IFEven1\\) -->\n",
       "<g id=\"edge8\" class=\"edge\">\n",
       "<title>\\(Ieven0_IFEven1\\)&#45;&gt;\\(FOdd0_IFEven1\\)</title>\n",
       "<path fill=\"none\" stroke=\"black\" d=\"M256.16,-82.99C362.95,-82.99 549.59,-82.99 661.9,-82.99\"/>\n",
       "<polygon fill=\"black\" stroke=\"black\" points=\"661.69,-86.49 671.69,-82.99 661.69,-79.49 661.69,-86.49\"/>\n",
       "<text text-anchor=\"middle\" x=\"460.14\" y=\"-86.19\" font-family=\"Times,serif\" font-size=\"14.00\">0 </text>\n",
       "</g>\n",
       "<!-- \\(FOdd0_Odd1\\)&#45;&gt;\\(Ieven0_Odd1\\) -->\n",
       "<g id=\"edge7\" class=\"edge\">\n",
       "<title>\\(FOdd0_Odd1\\)&#45;&gt;\\(Ieven0_Odd1\\)</title>\n",
       "<path fill=\"none\" stroke=\"black\" d=\"M486.17,-147.09C479.2,-145.62 472.18,-144.37 465.39,-143.49 459,-142.66 452.4,-142.49 445.79,-142.81\"/>\n",
       "<polygon fill=\"black\" stroke=\"black\" points=\"445.86,-139.29 436.2,-143.65 446.46,-146.27 445.86,-139.29\"/>\n",
       "<text text-anchor=\"middle\" x=\"460.14\" y=\"-146.19\" font-family=\"Times,serif\" font-size=\"14.00\">0 </text>\n",
       "</g>\n",
       "<!-- \\(FOdd0_Odd1\\)&#45;&gt;\\(FOdd0_IFEven1\\) -->\n",
       "<g id=\"edge3\" class=\"edge\">\n",
       "<title>\\(FOdd0_Odd1\\)&#45;&gt;\\(FOdd0_IFEven1\\)</title>\n",
       "<path fill=\"none\" stroke=\"black\" d=\"M624.15,-145.88C634.69,-142.17 645.38,-138.16 655.35,-133.99 660.91,-131.66 666.59,-129.15 672.27,-126.54\"/>\n",
       "<polygon fill=\"black\" stroke=\"black\" points=\"673.56,-129.8 681.12,-122.38 670.58,-123.47 673.56,-129.8\"/>\n",
       "<text text-anchor=\"middle\" x=\"650.1\" y=\"-140.19\" font-family=\"Times,serif\" font-size=\"14.00\">1 </text>\n",
       "</g>\n",
       "</g>\n",
       "</svg>\n"
      ],
      "text/plain": [
       "<graphviz.graphs.Digraph at 0x112c25e80>"
      ]
     },
     "execution_count": 8,
     "metadata": {},
     "output_type": "execute_result"
    }
   ],
   "source": [
    "dotObj_dfa(Odd0s_Even1s)"
   ]
  },
  {
   "cell_type": "code",
   "execution_count": 9,
   "metadata": {
    "colab": {
     "base_uri": "https://localhost:8080/",
     "height": 168
    },
    "id": "MlWrYLmeINU2",
    "outputId": "1d3cf54f-ab15-4586-f252-1c4e1bb48fb7"
   },
   "outputs": [
    {
     "data": {
      "image/svg+xml": [
       "<?xml version=\"1.0\" encoding=\"UTF-8\" standalone=\"no\"?>\n",
       "<!DOCTYPE svg PUBLIC \"-//W3C//DTD SVG 1.1//EN\"\n",
       " \"http://www.w3.org/Graphics/SVG/1.1/DTD/svg11.dtd\">\n",
       "<!-- Generated by graphviz version 9.0.0 (0)\n",
       " -->\n",
       "<!-- Pages: 1 -->\n",
       "<svg width=\"448pt\" height=\"110pt\"\n",
       " viewBox=\"0.00 0.00 448.12 110.40\" xmlns=\"http://www.w3.org/2000/svg\" xmlns:xlink=\"http://www.w3.org/1999/xlink\">\n",
       "<g id=\"graph0\" class=\"graph\" transform=\"scale(1 1) rotate(0) translate(4 106.4)\">\n",
       "<polygon fill=\"white\" stroke=\"none\" points=\"-4,4 -4,-106.4 444.12,-106.4 444.12,4 -4,4\"/>\n",
       "<!-- EMPTY -->\n",
       "<g id=\"node1\" class=\"node\">\n",
       "<title>EMPTY</title>\n",
       "</g>\n",
       "<!-- St2 -->\n",
       "<g id=\"node4\" class=\"node\">\n",
       "<title>St2</title>\n",
       "<ellipse fill=\"none\" stroke=\"black\" cx=\"118.2\" cy=\"-27.2\" rx=\"23.2\" ry=\"23.2\"/>\n",
       "<ellipse fill=\"none\" stroke=\"black\" cx=\"118.2\" cy=\"-27.2\" rx=\"27.2\" ry=\"27.2\"/>\n",
       "<text text-anchor=\"middle\" x=\"118.2\" y=\"-22.15\" font-family=\"Times,serif\" font-size=\"14.00\">St2</text>\n",
       "</g>\n",
       "<!-- EMPTY&#45;&gt;St2 -->\n",
       "<g id=\"edge1\" class=\"edge\">\n",
       "<title>EMPTY&#45;&gt;St2</title>\n",
       "<path fill=\"none\" stroke=\"black\" d=\"M53.8,-27.2C61.72,-27.2 70.62,-27.2 79.18,-27.2\"/>\n",
       "<polygon fill=\"black\" stroke=\"black\" points=\"79.02,-30.7 89.02,-27.2 79.02,-23.7 79.02,-30.7\"/>\n",
       "</g>\n",
       "<!-- St3 -->\n",
       "<g id=\"node2\" class=\"node\">\n",
       "<title>St3</title>\n",
       "<ellipse fill=\"none\" stroke=\"black\" cx=\"215.11\" cy=\"-73.2\" rx=\"23.2\" ry=\"23.2\"/>\n",
       "<text text-anchor=\"middle\" x=\"215.11\" y=\"-68.15\" font-family=\"Times,serif\" font-size=\"14.00\">St3</text>\n",
       "</g>\n",
       "<!-- St1 -->\n",
       "<g id=\"node3\" class=\"node\">\n",
       "<title>St1</title>\n",
       "<ellipse fill=\"none\" stroke=\"black\" cx=\"312.01\" cy=\"-75.2\" rx=\"23.2\" ry=\"23.2\"/>\n",
       "<ellipse fill=\"none\" stroke=\"black\" cx=\"312.01\" cy=\"-75.2\" rx=\"27.2\" ry=\"27.2\"/>\n",
       "<text text-anchor=\"middle\" x=\"312.01\" y=\"-70.15\" font-family=\"Times,serif\" font-size=\"14.00\">St1</text>\n",
       "</g>\n",
       "<!-- St3&#45;&gt;St1 -->\n",
       "<g id=\"edge2\" class=\"edge\">\n",
       "<title>St3&#45;&gt;St1</title>\n",
       "<path fill=\"none\" stroke=\"black\" d=\"M238.64,-73.79C244.4,-73.93 250.58,-74.08 256.31,-74.2 261.78,-74.32 267.55,-74.44 273.22,-74.54\"/>\n",
       "<polygon fill=\"black\" stroke=\"black\" points=\"273,-78.04 283.06,-74.73 273.13,-71.04 273,-78.04\"/>\n",
       "<text text-anchor=\"middle\" x=\"261.56\" y=\"-77.4\" font-family=\"Times,serif\" font-size=\"14.00\">0 </text>\n",
       "</g>\n",
       "<!-- St3&#45;&gt;St2 -->\n",
       "<g id=\"edge6\" class=\"edge\">\n",
       "<title>St3&#45;&gt;St2</title>\n",
       "<path fill=\"none\" stroke=\"black\" d=\"M197.54,-57.75C190.66,-52.01 182.32,-45.89 173.9,-41.7 168.35,-38.94 162.21,-36.66 156.11,-34.79\"/>\n",
       "<polygon fill=\"black\" stroke=\"black\" points=\"157.34,-31.49 146.77,-32.25 155.5,-38.25 157.34,-31.49\"/>\n",
       "<text text-anchor=\"middle\" x=\"168.65\" y=\"-45.4\" font-family=\"Times,serif\" font-size=\"14.00\">1 </text>\n",
       "</g>\n",
       "<!-- St1&#45;&gt;St3 -->\n",
       "<g id=\"edge7\" class=\"edge\">\n",
       "<title>St1&#45;&gt;St3</title>\n",
       "<path fill=\"none\" stroke=\"black\" d=\"M288.34,-61.75C281.64,-58.45 274.13,-55.39 266.81,-53.7 259.57,-52.04 251.99,-53.24 244.96,-55.71\"/>\n",
       "<polygon fill=\"black\" stroke=\"black\" points=\"243.57,-52.49 235.87,-59.77 246.43,-58.88 243.57,-52.49\"/>\n",
       "<text text-anchor=\"middle\" x=\"261.56\" y=\"-57.4\" font-family=\"Times,serif\" font-size=\"14.00\">0 </text>\n",
       "</g>\n",
       "<!-- St0 -->\n",
       "<g id=\"node5\" class=\"node\">\n",
       "<title>St0</title>\n",
       "<ellipse fill=\"none\" stroke=\"black\" cx=\"412.91\" cy=\"-27.2\" rx=\"23.2\" ry=\"23.2\"/>\n",
       "<ellipse fill=\"none\" stroke=\"black\" cx=\"412.91\" cy=\"-27.2\" rx=\"27.2\" ry=\"27.2\"/>\n",
       "<text text-anchor=\"middle\" x=\"412.91\" y=\"-22.15\" font-family=\"Times,serif\" font-size=\"14.00\">St0</text>\n",
       "</g>\n",
       "<!-- St1&#45;&gt;St0 -->\n",
       "<g id=\"edge3\" class=\"edge\">\n",
       "<title>St1&#45;&gt;St0</title>\n",
       "<path fill=\"none\" stroke=\"black\" d=\"M339.41,-71.35C348.66,-69.38 358.93,-66.46 367.71,-62.2 373.22,-59.53 378.67,-56.08 383.76,-52.39\"/>\n",
       "<polygon fill=\"black\" stroke=\"black\" points=\"385.55,-55.43 391.29,-46.52 381.25,-49.91 385.55,-55.43\"/>\n",
       "<text text-anchor=\"middle\" x=\"362.46\" y=\"-69.4\" font-family=\"Times,serif\" font-size=\"14.00\">1 </text>\n",
       "</g>\n",
       "<!-- St2&#45;&gt;St3 -->\n",
       "<g id=\"edge5\" class=\"edge\">\n",
       "<title>St2&#45;&gt;St3</title>\n",
       "<path fill=\"none\" stroke=\"black\" d=\"M138.58,-45.69C145.87,-51.76 154.55,-58.02 163.4,-62.2 168.76,-64.74 174.72,-66.69 180.61,-68.2\"/>\n",
       "<polygon fill=\"black\" stroke=\"black\" points=\"179.69,-71.59 190.2,-70.27 181.16,-64.74 179.69,-71.59\"/>\n",
       "<text text-anchor=\"middle\" x=\"168.65\" y=\"-68.4\" font-family=\"Times,serif\" font-size=\"14.00\">1 </text>\n",
       "</g>\n",
       "<!-- St2&#45;&gt;St0 -->\n",
       "<g id=\"edge8\" class=\"edge\">\n",
       "<title>St2&#45;&gt;St0</title>\n",
       "<path fill=\"none\" stroke=\"black\" d=\"M145.69,-27.2C197.81,-27.2 313.8,-27.2 374.01,-27.2\"/>\n",
       "<polygon fill=\"black\" stroke=\"black\" points=\"373.76,-30.7 383.76,-27.2 373.76,-23.7 373.76,-30.7\"/>\n",
       "<text text-anchor=\"middle\" x=\"261.56\" y=\"-30.4\" font-family=\"Times,serif\" font-size=\"14.00\">0 </text>\n",
       "</g>\n",
       "<!-- St0&#45;&gt;St1 -->\n",
       "<g id=\"edge4\" class=\"edge\">\n",
       "<title>St0&#45;&gt;St1</title>\n",
       "<path fill=\"none\" stroke=\"black\" d=\"M385.85,-31.93C376.53,-34.18 366.13,-37.35 357.21,-41.7 352.04,-44.22 346.88,-47.39 342,-50.77\"/>\n",
       "<polygon fill=\"black\" stroke=\"black\" points=\"340.22,-47.73 334.26,-56.5 344.38,-53.36 340.22,-47.73\"/>\n",
       "<text text-anchor=\"middle\" x=\"362.46\" y=\"-45.4\" font-family=\"Times,serif\" font-size=\"14.00\">1 </text>\n",
       "</g>\n",
       "<!-- St0&#45;&gt;St2 -->\n",
       "<g id=\"edge9\" class=\"edge\">\n",
       "<title>St0&#45;&gt;St2</title>\n",
       "<path fill=\"none\" stroke=\"black\" d=\"M386.13,-20.53C355.34,-13.32 302.23,-3.29 256.31,-6.7 222.29,-9.23 183.9,-15.24 156.42,-20.11\"/>\n",
       "<polygon fill=\"black\" stroke=\"black\" points=\"156.06,-16.62 146.85,-21.84 157.31,-23.51 156.06,-16.62\"/>\n",
       "<text text-anchor=\"middle\" x=\"261.56\" y=\"-10.4\" font-family=\"Times,serif\" font-size=\"14.00\">0 </text>\n",
       "</g>\n",
       "</g>\n",
       "</svg>\n"
      ],
      "text/plain": [
       "<graphviz.graphs.Digraph at 0x112c134a0>"
      ]
     },
     "execution_count": 9,
     "metadata": {},
     "output_type": "execute_result"
    }
   ],
   "source": [
    "dotObj_dfa(Odd0s_Even1s, STATENAME_MAXSIZE=1)"
   ]
  },
  {
   "cell_type": "code",
   "execution_count": null,
   "metadata": {
    "id": "Raiz1zvyISum"
   },
   "outputs": [],
   "source": []
  },
  {
   "cell_type": "markdown",
   "metadata": {
    "id": "UTqaVdSzBg9n"
   },
   "source": [
    "# Mod-3 DFA, MSB-first\n",
    "\n",
    "(But, does it matter whether MSB-first or LSB-first?)\n",
    "\n"
   ]
  },
  {
   "cell_type": "code",
   "execution_count": 10,
   "metadata": {
    "colab": {
     "base_uri": "https://localhost:8080/",
     "height": 138
    },
    "id": "dOfporKUBg9o",
    "outputId": "4c6d0589-f731-4f16-ee3c-8af29be09eb1",
    "run_control": {
     "frozen": false,
     "read_only": false
    }
   },
   "outputs": [
    {
     "data": {
      "image/svg+xml": [
       "<?xml version=\"1.0\" encoding=\"UTF-8\" standalone=\"no\"?>\n",
       "<!DOCTYPE svg PUBLIC \"-//W3C//DTD SVG 1.1//EN\"\n",
       " \"http://www.w3.org/Graphics/SVG/1.1/DTD/svg11.dtd\">\n",
       "<!-- Generated by graphviz version 9.0.0 (0)\n",
       " -->\n",
       "<!-- Pages: 1 -->\n",
       "<svg width=\"321pt\" height=\"89pt\"\n",
       " viewBox=\"0.00 0.00 320.79 88.72\" xmlns=\"http://www.w3.org/2000/svg\" xmlns:xlink=\"http://www.w3.org/1999/xlink\">\n",
       "<g id=\"graph0\" class=\"graph\" transform=\"scale(1 1) rotate(0) translate(4 84.72)\">\n",
       "<polygon fill=\"white\" stroke=\"none\" points=\"-4,4 -4,-84.72 316.79,-84.72 316.79,4 -4,4\"/>\n",
       "<!-- EMPTY -->\n",
       "<g id=\"node1\" class=\"node\">\n",
       "<title>EMPTY</title>\n",
       "</g>\n",
       "<!-- IF -->\n",
       "<g id=\"node4\" class=\"node\">\n",
       "<title>IF</title>\n",
       "<ellipse fill=\"none\" stroke=\"black\" cx=\"114.11\" cy=\"-23.11\" rx=\"19.11\" ry=\"19.11\"/>\n",
       "<ellipse fill=\"none\" stroke=\"black\" cx=\"114.11\" cy=\"-23.11\" rx=\"23.11\" ry=\"23.11\"/>\n",
       "<text text-anchor=\"middle\" x=\"114.11\" y=\"-18.06\" font-family=\"Times,serif\" font-size=\"14.00\">IF</text>\n",
       "</g>\n",
       "<!-- EMPTY&#45;&gt;IF -->\n",
       "<g id=\"edge1\" class=\"edge\">\n",
       "<title>EMPTY&#45;&gt;IF</title>\n",
       "<path fill=\"none\" stroke=\"black\" d=\"M54,-23.11C61.97,-23.11 70.86,-23.11 79.28,-23.11\"/>\n",
       "<polygon fill=\"black\" stroke=\"black\" points=\"79.21,-26.61 89.21,-23.11 79.21,-19.61 79.21,-26.61\"/>\n",
       "</g>\n",
       "<!-- S1 -->\n",
       "<g id=\"node2\" class=\"node\">\n",
       "<title>S1</title>\n",
       "<ellipse fill=\"none\" stroke=\"black\" cx=\"204.36\" cy=\"-23.11\" rx=\"20.64\" ry=\"20.64\"/>\n",
       "<text text-anchor=\"middle\" x=\"204.36\" y=\"-18.06\" font-family=\"Times,serif\" font-size=\"14.00\">S1</text>\n",
       "</g>\n",
       "<!-- S2 -->\n",
       "<g id=\"node3\" class=\"node\">\n",
       "<title>S2</title>\n",
       "<ellipse fill=\"none\" stroke=\"black\" cx=\"292.14\" cy=\"-23.11\" rx=\"20.64\" ry=\"20.64\"/>\n",
       "<text text-anchor=\"middle\" x=\"292.14\" y=\"-18.06\" font-family=\"Times,serif\" font-size=\"14.00\">S2</text>\n",
       "</g>\n",
       "<!-- S1&#45;&gt;S2 -->\n",
       "<g id=\"edge4\" class=\"edge\">\n",
       "<title>S1&#45;&gt;S2</title>\n",
       "<path fill=\"none\" stroke=\"black\" d=\"M225.25,-23.11C235.47,-23.11 248.15,-23.11 259.65,-23.11\"/>\n",
       "<polygon fill=\"black\" stroke=\"black\" points=\"259.54,-26.61 269.54,-23.11 259.54,-19.61 259.54,-26.61\"/>\n",
       "<text text-anchor=\"middle\" x=\"248.25\" y=\"-26.31\" font-family=\"Times,serif\" font-size=\"14.00\">0 </text>\n",
       "</g>\n",
       "<!-- S1&#45;&gt;IF -->\n",
       "<g id=\"edge5\" class=\"edge\">\n",
       "<title>S1&#45;&gt;IF</title>\n",
       "<path fill=\"none\" stroke=\"black\" d=\"M186.87,-11.81C180.54,-8.12 173.07,-4.48 165.72,-2.61 158.27,-0.71 150.47,-2.07 143.29,-4.81\"/>\n",
       "<polygon fill=\"black\" stroke=\"black\" points=\"141.82,-1.63 134.34,-9.13 144.87,-7.93 141.82,-1.63\"/>\n",
       "<text text-anchor=\"middle\" x=\"160.47\" y=\"-5.31\" font-family=\"Times,serif\" font-size=\"14.00\">1 </text>\n",
       "</g>\n",
       "<!-- S2&#45;&gt;S1 -->\n",
       "<g id=\"edge6\" class=\"edge\">\n",
       "<title>S2&#45;&gt;S1</title>\n",
       "<path fill=\"none\" stroke=\"black\" d=\"M274.65,-11.81C268.33,-8.12 260.86,-4.48 253.5,-2.61 246.02,-0.7 238.2,-2.32 231.09,-5.34\"/>\n",
       "<polygon fill=\"black\" stroke=\"black\" points=\"229.5,-2.21 222.31,-10 232.79,-8.4 229.5,-2.21\"/>\n",
       "<text text-anchor=\"middle\" x=\"248.25\" y=\"-5.31\" font-family=\"Times,serif\" font-size=\"14.00\">0 </text>\n",
       "</g>\n",
       "<!-- S2&#45;&gt;S2 -->\n",
       "<g id=\"edge7\" class=\"edge\">\n",
       "<title>S2&#45;&gt;S2</title>\n",
       "<path fill=\"none\" stroke=\"black\" d=\"M284.2,-42.59C282.98,-52.67 285.63,-61.75 292.14,-61.75 296.01,-61.75 298.52,-58.55 299.66,-53.84\"/>\n",
       "<polygon fill=\"black\" stroke=\"black\" points=\"303.15,-54.23 300.03,-44.11 296.15,-53.97 303.15,-54.23\"/>\n",
       "<text text-anchor=\"middle\" x=\"292.14\" y=\"-64.95\" font-family=\"Times,serif\" font-size=\"14.00\">1 </text>\n",
       "</g>\n",
       "<!-- IF&#45;&gt;S1 -->\n",
       "<g id=\"edge3\" class=\"edge\">\n",
       "<title>IF&#45;&gt;S1</title>\n",
       "<path fill=\"none\" stroke=\"black\" d=\"M137.38,-23.11C147.91,-23.11 160.67,-23.11 172.15,-23.11\"/>\n",
       "<polygon fill=\"black\" stroke=\"black\" points=\"171.99,-26.61 181.99,-23.11 171.99,-19.61 171.99,-26.61\"/>\n",
       "<text text-anchor=\"middle\" x=\"160.47\" y=\"-26.31\" font-family=\"Times,serif\" font-size=\"14.00\">1 </text>\n",
       "</g>\n",
       "<!-- IF&#45;&gt;IF -->\n",
       "<g id=\"edge2\" class=\"edge\">\n",
       "<title>IF&#45;&gt;IF</title>\n",
       "<path fill=\"none\" stroke=\"black\" d=\"M106.46,-45.1C105.63,-55.3 108.18,-64.22 114.11,-64.22 117.63,-64.22 119.96,-61.07 121.1,-56.38\"/>\n",
       "<polygon fill=\"black\" stroke=\"black\" points=\"124.58,-56.8 121.67,-46.61 117.59,-56.39 124.58,-56.8\"/>\n",
       "<text text-anchor=\"middle\" x=\"114.11\" y=\"-67.42\" font-family=\"Times,serif\" font-size=\"14.00\">0 </text>\n",
       "</g>\n",
       "</g>\n",
       "</svg>\n"
      ],
      "text/plain": [
       "<graphviz.graphs.Digraph at 0x112a426c0>"
      ]
     },
     "execution_count": 10,
     "metadata": {},
     "output_type": "execute_result"
    }
   ],
   "source": [
    "## KEEP DRAWING WHILE YOU FILL !!\n",
    "\n",
    "DFA3 = md2mc('''DFA\n",
    "\n",
    "IF : 0 -> IF\n",
    "IF : 1 -> S1 \n",
    "\n",
    "S1 : 0 -> S2\n",
    "S1 : 1 -> IF\n",
    "\n",
    "S2 : 0 -> S1\n",
    "S2 : 1 -> S2\n",
    "\n",
    "\n",
    "''')\n",
    "\n",
    "dotObj_dfa(DFA3)"
   ]
  },
  {
   "cell_type": "code",
   "execution_count": 11,
   "metadata": {
    "colab": {
     "base_uri": "https://localhost:8080/",
     "height": 143
    },
    "id": "MM4580JHE7xT",
    "outputId": "f002dbf0-4a05-4340-fe93-0e6cb50669e0"
   },
   "outputs": [
    {
     "data": {
      "image/svg+xml": [
       "<?xml version=\"1.0\" encoding=\"UTF-8\" standalone=\"no\"?>\n",
       "<!DOCTYPE svg PUBLIC \"-//W3C//DTD SVG 1.1//EN\"\n",
       " \"http://www.w3.org/Graphics/SVG/1.1/DTD/svg11.dtd\">\n",
       "<!-- Generated by graphviz version 9.0.0 (0)\n",
       " -->\n",
       "<!-- Pages: 1 -->\n",
       "<svg width=\"329pt\" height=\"92pt\"\n",
       " viewBox=\"0.00 0.00 328.79 91.79\" xmlns=\"http://www.w3.org/2000/svg\" xmlns:xlink=\"http://www.w3.org/1999/xlink\">\n",
       "<g id=\"graph0\" class=\"graph\" transform=\"scale(1 1) rotate(0) translate(4 87.79)\">\n",
       "<polygon fill=\"white\" stroke=\"none\" points=\"-4,4 -4,-87.79 324.79,-87.79 324.79,4 -4,4\"/>\n",
       "<!-- EMPTY -->\n",
       "<g id=\"node1\" class=\"node\">\n",
       "<title>EMPTY</title>\n",
       "</g>\n",
       "<!-- IF -->\n",
       "<g id=\"node2\" class=\"node\">\n",
       "<title>IF</title>\n",
       "<ellipse fill=\"none\" stroke=\"black\" cx=\"110.11\" cy=\"-24.64\" rx=\"19.11\" ry=\"19.11\"/>\n",
       "<text text-anchor=\"middle\" x=\"110.11\" y=\"-19.59\" font-family=\"Times,serif\" font-size=\"14.00\">IF</text>\n",
       "</g>\n",
       "<!-- EMPTY&#45;&gt;IF -->\n",
       "<g id=\"edge1\" class=\"edge\">\n",
       "<title>EMPTY&#45;&gt;IF</title>\n",
       "<path fill=\"none\" stroke=\"black\" d=\"M53.66,-24.64C61.8,-24.64 70.87,-24.64 79.27,-24.64\"/>\n",
       "<polygon fill=\"black\" stroke=\"black\" points=\"79.04,-28.14 89.04,-24.64 79.04,-21.14 79.04,-28.14\"/>\n",
       "</g>\n",
       "<!-- IF&#45;&gt;IF -->\n",
       "<g id=\"edge2\" class=\"edge\">\n",
       "<title>IF&#45;&gt;IF</title>\n",
       "<path fill=\"none\" stroke=\"black\" d=\"M103.35,-42.97C102.2,-52.8 104.45,-61.75 110.11,-61.75 113.38,-61.75 115.51,-58.76 116.51,-54.34\"/>\n",
       "<polygon fill=\"black\" stroke=\"black\" points=\"120,-54.59 116.82,-44.48 113,-54.37 120,-54.59\"/>\n",
       "<text text-anchor=\"middle\" x=\"110.11\" y=\"-64.95\" font-family=\"Times,serif\" font-size=\"14.00\">0 </text>\n",
       "</g>\n",
       "<!-- S1 -->\n",
       "<g id=\"node3\" class=\"node\">\n",
       "<title>S1</title>\n",
       "<ellipse fill=\"none\" stroke=\"black\" cx=\"200.36\" cy=\"-24.64\" rx=\"20.64\" ry=\"20.64\"/>\n",
       "<ellipse fill=\"none\" stroke=\"black\" cx=\"200.36\" cy=\"-24.64\" rx=\"24.64\" ry=\"24.64\"/>\n",
       "<text text-anchor=\"middle\" x=\"200.36\" y=\"-19.59\" font-family=\"Times,serif\" font-size=\"14.00\">S1</text>\n",
       "</g>\n",
       "<!-- IF&#45;&gt;S1 -->\n",
       "<g id=\"edge3\" class=\"edge\">\n",
       "<title>IF&#45;&gt;S1</title>\n",
       "<path fill=\"none\" stroke=\"black\" d=\"M129.39,-24.64C139.39,-24.64 152.12,-24.64 163.97,-24.64\"/>\n",
       "<polygon fill=\"black\" stroke=\"black\" points=\"163.88,-28.14 173.88,-24.64 163.88,-21.14 163.88,-28.14\"/>\n",
       "<text text-anchor=\"middle\" x=\"152.47\" y=\"-27.84\" font-family=\"Times,serif\" font-size=\"14.00\">1 </text>\n",
       "</g>\n",
       "<!-- S1&#45;&gt;IF -->\n",
       "<g id=\"edge5\" class=\"edge\">\n",
       "<title>S1&#45;&gt;IF</title>\n",
       "<path fill=\"none\" stroke=\"black\" d=\"M179.91,-10.64C170.26,-5.34 158.31,-1.21 147.22,-4.14 143.52,-5.12 139.81,-6.57 136.24,-8.26\"/>\n",
       "<polygon fill=\"black\" stroke=\"black\" points=\"134.57,-5.18 127.49,-13.06 137.94,-11.32 134.57,-5.18\"/>\n",
       "<text text-anchor=\"middle\" x=\"152.47\" y=\"-6.84\" font-family=\"Times,serif\" font-size=\"14.00\">1 </text>\n",
       "</g>\n",
       "<!-- S2 -->\n",
       "<g id=\"node4\" class=\"node\">\n",
       "<title>S2</title>\n",
       "<ellipse fill=\"none\" stroke=\"black\" cx=\"296.14\" cy=\"-24.64\" rx=\"20.64\" ry=\"20.64\"/>\n",
       "<ellipse fill=\"none\" stroke=\"black\" cx=\"296.14\" cy=\"-24.64\" rx=\"24.64\" ry=\"24.64\"/>\n",
       "<text text-anchor=\"middle\" x=\"296.14\" y=\"-19.59\" font-family=\"Times,serif\" font-size=\"14.00\">S2</text>\n",
       "</g>\n",
       "<!-- S1&#45;&gt;S2 -->\n",
       "<g id=\"edge4\" class=\"edge\">\n",
       "<title>S1&#45;&gt;S2</title>\n",
       "<path fill=\"none\" stroke=\"black\" d=\"M225.02,-24.64C235.61,-24.64 248.3,-24.64 259.96,-24.64\"/>\n",
       "<polygon fill=\"black\" stroke=\"black\" points=\"259.65,-28.14 269.65,-24.64 259.65,-21.14 259.65,-28.14\"/>\n",
       "<text text-anchor=\"middle\" x=\"248.25\" y=\"-27.84\" font-family=\"Times,serif\" font-size=\"14.00\">0 </text>\n",
       "</g>\n",
       "<!-- S2&#45;&gt;S1 -->\n",
       "<g id=\"edge6\" class=\"edge\">\n",
       "<title>S2&#45;&gt;S1</title>\n",
       "<path fill=\"none\" stroke=\"black\" d=\"M274.66,-12.25C268.13,-8.94 260.72,-5.82 253.5,-4.14 246.29,-2.46 238.76,-3.6 231.73,-6.02\"/>\n",
       "<polygon fill=\"black\" stroke=\"black\" points=\"230.34,-2.8 222.61,-10.05 233.17,-9.21 230.34,-2.8\"/>\n",
       "<text text-anchor=\"middle\" x=\"248.25\" y=\"-6.84\" font-family=\"Times,serif\" font-size=\"14.00\">0 </text>\n",
       "</g>\n",
       "<!-- S2&#45;&gt;S2 -->\n",
       "<g id=\"edge7\" class=\"edge\">\n",
       "<title>S2&#45;&gt;S2</title>\n",
       "<path fill=\"none\" stroke=\"black\" d=\"M287.3,-47.89C286.46,-58.29 289.41,-67.29 296.14,-67.29 300.14,-67.29 302.81,-64.11 304.13,-59.36\"/>\n",
       "<polygon fill=\"black\" stroke=\"black\" points=\"307.62,-59.63 304.87,-49.4 300.64,-59.11 307.62,-59.63\"/>\n",
       "<text text-anchor=\"middle\" x=\"296.14\" y=\"-70.49\" font-family=\"Times,serif\" font-size=\"14.00\">1 </text>\n",
       "</g>\n",
       "</g>\n",
       "</svg>\n"
      ],
      "text/plain": [
       "<graphviz.graphs.Digraph at 0x112c26d50>"
      ]
     },
     "execution_count": 11,
     "metadata": {},
     "output_type": "execute_result"
    }
   ],
   "source": [
    "# MSB-first isn't divisible by 3\n",
    "\n",
    "not_DFA3 = comp_dfa(DFA3)\n",
    "dotObj_dfa(not_DFA3)"
   ]
  },
  {
   "cell_type": "code",
   "execution_count": 12,
   "metadata": {
    "id": "4JULaL72FvQ9"
   },
   "outputs": [
    {
     "ename": "SyntaxError",
     "evalue": "invalid syntax (3828796540.py, line 1)",
     "output_type": "error",
     "traceback": [
      "\u001b[0;36m  Cell \u001b[0;32mIn[12], line 1\u001b[0;36m\u001b[0m\n\u001b[0;31m    Finally, (Odd0 or Even1) AND (not mod div by 3)\u001b[0m\n\u001b[0m                             ^\u001b[0m\n\u001b[0;31mSyntaxError\u001b[0m\u001b[0;31m:\u001b[0m invalid syntax\n"
     ]
    }
   ],
   "source": [
    "Finally, (Odd0 or Even1) AND (not mod div by 3)"
   ]
  },
  {
   "cell_type": "code",
   "execution_count": 13,
   "metadata": {
    "colab": {
     "base_uri": "https://localhost:8080/",
     "height": 226
    },
    "id": "7twRklspFk2t",
    "outputId": "ce02e5ac-2724-4e80-e32e-bc111dbd36ea"
   },
   "outputs": [
    {
     "data": {
      "image/svg+xml": [
       "<?xml version=\"1.0\" encoding=\"UTF-8\" standalone=\"no\"?>\n",
       "<!DOCTYPE svg PUBLIC \"-//W3C//DTD SVG 1.1//EN\"\n",
       " \"http://www.w3.org/Graphics/SVG/1.1/DTD/svg11.dtd\">\n",
       "<!-- Generated by graphviz version 9.0.0 (0)\n",
       " -->\n",
       "<!-- Pages: 1 -->\n",
       "<svg width=\"1234pt\" height=\"142pt\"\n",
       " viewBox=\"0.00 0.00 1233.77 142.20\" xmlns=\"http://www.w3.org/2000/svg\" xmlns:xlink=\"http://www.w3.org/1999/xlink\">\n",
       "<g id=\"graph0\" class=\"graph\" transform=\"scale(1 1) rotate(0) translate(4 138.2)\">\n",
       "<polygon fill=\"white\" stroke=\"none\" points=\"-4,4 -4,-138.2 1229.77,-138.2 1229.77,4 -4,4\"/>\n",
       "<!-- EMPTY -->\n",
       "<g id=\"node1\" class=\"node\">\n",
       "<title>EMPTY</title>\n",
       "</g>\n",
       "<!-- St6 -->\n",
       "<g id=\"node2\" class=\"node\">\n",
       "<title>St6</title>\n",
       "<ellipse fill=\"none\" stroke=\"black\" cx=\"114.2\" cy=\"-56\" rx=\"23.2\" ry=\"23.2\"/>\n",
       "<text text-anchor=\"middle\" x=\"114.2\" y=\"-50.95\" font-family=\"Times,serif\" font-size=\"14.00\">St6</text>\n",
       "</g>\n",
       "<!-- EMPTY&#45;&gt;St6 -->\n",
       "<g id=\"edge1\" class=\"edge\">\n",
       "<title>EMPTY&#45;&gt;St6</title>\n",
       "<path fill=\"none\" stroke=\"black\" d=\"M53.56,-56C61.65,-56 70.72,-56 79.3,-56\"/>\n",
       "<polygon fill=\"black\" stroke=\"black\" points=\"79.04,-59.5 89.04,-56 79.04,-52.5 79.04,-59.5\"/>\n",
       "</g>\n",
       "<!-- St0 -->\n",
       "<g id=\"node3\" class=\"node\">\n",
       "<title>St0</title>\n",
       "<ellipse fill=\"none\" stroke=\"black\" cx=\"207.11\" cy=\"-102\" rx=\"23.2\" ry=\"23.2\"/>\n",
       "<text text-anchor=\"middle\" x=\"207.11\" y=\"-96.95\" font-family=\"Times,serif\" font-size=\"14.00\">St0</text>\n",
       "</g>\n",
       "<!-- St6&#45;&gt;St0 -->\n",
       "<g id=\"edge3\" class=\"edge\">\n",
       "<title>St6&#45;&gt;St0</title>\n",
       "<path fill=\"none\" stroke=\"black\" d=\"M130.64,-72.71C137.6,-79.33 146.31,-86.44 155.4,-91 160.7,-93.66 166.63,-95.68 172.51,-97.21\"/>\n",
       "<polygon fill=\"black\" stroke=\"black\" points=\"171.59,-100.59 182.1,-99.28 173.06,-93.75 171.59,-100.59\"/>\n",
       "<text text-anchor=\"middle\" x=\"160.65\" y=\"-98.2\" font-family=\"Times,serif\" font-size=\"14.00\">0 </text>\n",
       "</g>\n",
       "<!-- St10 -->\n",
       "<g id=\"node4\" class=\"node\">\n",
       "<title>St10</title>\n",
       "<ellipse fill=\"none\" stroke=\"black\" cx=\"1197.96\" cy=\"-56\" rx=\"27.81\" ry=\"27.81\"/>\n",
       "<text text-anchor=\"middle\" x=\"1197.96\" y=\"-50.95\" font-family=\"Times,serif\" font-size=\"14.00\">St10</text>\n",
       "</g>\n",
       "<!-- St6&#45;&gt;St10 -->\n",
       "<g id=\"edge21\" class=\"edge\">\n",
       "<title>St6&#45;&gt;St10</title>\n",
       "<path fill=\"none\" stroke=\"black\" d=\"M137.06,-49.95C155.35,-45.42 182.23,-40 206.11,-40 206.11,-40 206.11,-40 1097.45,-40 1118.08,-40 1140.8,-43.39 1159.33,-47.05\"/>\n",
       "<polygon fill=\"black\" stroke=\"black\" points=\"1158.55,-50.47 1169.06,-49.09 1159.99,-43.61 1158.55,-50.47\"/>\n",
       "<text text-anchor=\"middle\" x=\"658.39\" y=\"-43.2\" font-family=\"Times,serif\" font-size=\"14.00\">1 </text>\n",
       "</g>\n",
       "<!-- St0&#45;&gt;St6 -->\n",
       "<g id=\"edge9\" class=\"edge\">\n",
       "<title>St0&#45;&gt;St6</title>\n",
       "<path fill=\"none\" stroke=\"black\" d=\"M189.5,-86.63C182.61,-80.9 174.28,-74.77 165.9,-70.5 160.35,-67.67 154.16,-65.31 148.07,-63.39\"/>\n",
       "<polygon fill=\"black\" stroke=\"black\" points=\"149.39,-60.13 138.82,-60.78 147.49,-66.86 149.39,-60.13\"/>\n",
       "<text text-anchor=\"middle\" x=\"160.65\" y=\"-74.2\" font-family=\"Times,serif\" font-size=\"14.00\">0 </text>\n",
       "</g>\n",
       "<!-- St4 -->\n",
       "<g id=\"node12\" class=\"node\">\n",
       "<title>St4</title>\n",
       "<ellipse fill=\"none\" stroke=\"black\" cx=\"304.01\" cy=\"-104\" rx=\"23.2\" ry=\"23.2\"/>\n",
       "<ellipse fill=\"none\" stroke=\"black\" cx=\"304.01\" cy=\"-104\" rx=\"27.2\" ry=\"27.2\"/>\n",
       "<text text-anchor=\"middle\" x=\"304.01\" y=\"-98.95\" font-family=\"Times,serif\" font-size=\"14.00\">St4</text>\n",
       "</g>\n",
       "<!-- St0&#45;&gt;St4 -->\n",
       "<g id=\"edge2\" class=\"edge\">\n",
       "<title>St0&#45;&gt;St4</title>\n",
       "<path fill=\"none\" stroke=\"black\" d=\"M230.6,-102.47C240.96,-102.69 253.54,-102.96 265.28,-103.2\"/>\n",
       "<polygon fill=\"black\" stroke=\"black\" points=\"265.06,-106.7 275.13,-103.41 265.2,-99.7 265.06,-106.7\"/>\n",
       "<text text-anchor=\"middle\" x=\"253.56\" y=\"-106.2\" font-family=\"Times,serif\" font-size=\"14.00\">1 </text>\n",
       "</g>\n",
       "<!-- St10&#45;&gt;St6 -->\n",
       "<g id=\"edge18\" class=\"edge\">\n",
       "<title>St10&#45;&gt;St6</title>\n",
       "<path fill=\"none\" stroke=\"black\" d=\"M1177.43,-37.04C1158.57,-20.79 1128.38,0 1097.45,0 206.11,0 206.11,0 206.11,0 180.38,0 155.82,-16.46 138.74,-31.54\"/>\n",
       "<polygon fill=\"black\" stroke=\"black\" points=\"136.55,-28.79 131.62,-38.17 141.32,-33.91 136.55,-28.79\"/>\n",
       "<text text-anchor=\"middle\" x=\"658.39\" y=\"-3.2\" font-family=\"Times,serif\" font-size=\"14.00\">1 </text>\n",
       "</g>\n",
       "<!-- St5 -->\n",
       "<g id=\"node10\" class=\"node\">\n",
       "<title>St5</title>\n",
       "<ellipse fill=\"none\" stroke=\"black\" cx=\"1096.45\" cy=\"-104\" rx=\"23.2\" ry=\"23.2\"/>\n",
       "<ellipse fill=\"none\" stroke=\"black\" cx=\"1096.45\" cy=\"-104\" rx=\"27.2\" ry=\"27.2\"/>\n",
       "<text text-anchor=\"middle\" x=\"1096.45\" y=\"-98.95\" font-family=\"Times,serif\" font-size=\"14.00\">St5</text>\n",
       "</g>\n",
       "<!-- St10&#45;&gt;St5 -->\n",
       "<g id=\"edge17\" class=\"edge\">\n",
       "<title>St10&#45;&gt;St5</title>\n",
       "<path fill=\"none\" stroke=\"black\" d=\"M1170.79,-63.18C1161.38,-66.17 1150.84,-70 1141.66,-74.5 1137.15,-76.71 1132.57,-79.31 1128.14,-82.03\"/>\n",
       "<polygon fill=\"black\" stroke=\"black\" points=\"1126.55,-78.89 1120.07,-87.27 1130.36,-84.76 1126.55,-78.89\"/>\n",
       "<text text-anchor=\"middle\" x=\"1146.91\" y=\"-77.2\" font-family=\"Times,serif\" font-size=\"14.00\">0 </text>\n",
       "</g>\n",
       "<!-- St9 -->\n",
       "<g id=\"node5\" class=\"node\">\n",
       "<title>St9</title>\n",
       "<ellipse fill=\"none\" stroke=\"black\" cx=\"797.74\" cy=\"-102\" rx=\"23.2\" ry=\"23.2\"/>\n",
       "<text text-anchor=\"middle\" x=\"797.74\" y=\"-96.95\" font-family=\"Times,serif\" font-size=\"14.00\">St9</text>\n",
       "</g>\n",
       "<!-- St3 -->\n",
       "<g id=\"node6\" class=\"node\">\n",
       "<title>St3</title>\n",
       "<ellipse fill=\"none\" stroke=\"black\" cx=\"704.84\" cy=\"-102\" rx=\"23.2\" ry=\"23.2\"/>\n",
       "<text text-anchor=\"middle\" x=\"704.84\" y=\"-96.95\" font-family=\"Times,serif\" font-size=\"14.00\">St3</text>\n",
       "</g>\n",
       "<!-- St9&#45;&gt;St3 -->\n",
       "<g id=\"edge25\" class=\"edge\">\n",
       "<title>St9&#45;&gt;St3</title>\n",
       "<path fill=\"none\" stroke=\"black\" d=\"M778.4,-88.54C768.95,-83.18 757.12,-78.84 746.04,-81.5 742.46,-82.36 738.84,-83.6 735.31,-85.04\"/>\n",
       "<polygon fill=\"black\" stroke=\"black\" points=\"734.08,-81.75 726.53,-89.18 737.06,-88.08 734.08,-81.75\"/>\n",
       "<text text-anchor=\"middle\" x=\"751.29\" y=\"-84.2\" font-family=\"Times,serif\" font-size=\"14.00\">0 </text>\n",
       "</g>\n",
       "<!-- St7 -->\n",
       "<g id=\"node9\" class=\"node\">\n",
       "<title>St7</title>\n",
       "<ellipse fill=\"none\" stroke=\"black\" cx=\"894.65\" cy=\"-104\" rx=\"23.2\" ry=\"23.2\"/>\n",
       "<ellipse fill=\"none\" stroke=\"black\" cx=\"894.65\" cy=\"-104\" rx=\"27.2\" ry=\"27.2\"/>\n",
       "<text text-anchor=\"middle\" x=\"894.65\" y=\"-98.95\" font-family=\"Times,serif\" font-size=\"14.00\">St7</text>\n",
       "</g>\n",
       "<!-- St9&#45;&gt;St7 -->\n",
       "<g id=\"edge6\" class=\"edge\">\n",
       "<title>St9&#45;&gt;St7</title>\n",
       "<path fill=\"none\" stroke=\"black\" d=\"M821.23,-102.47C831.59,-102.69 844.17,-102.96 855.92,-103.2\"/>\n",
       "<polygon fill=\"black\" stroke=\"black\" points=\"855.69,-106.7 865.76,-103.41 855.84,-99.7 855.69,-106.7\"/>\n",
       "<text text-anchor=\"middle\" x=\"844.19\" y=\"-106.2\" font-family=\"Times,serif\" font-size=\"14.00\">1 </text>\n",
       "</g>\n",
       "<!-- St3&#45;&gt;St9 -->\n",
       "<g id=\"edge22\" class=\"edge\">\n",
       "<title>St3&#45;&gt;St9</title>\n",
       "<path fill=\"none\" stroke=\"black\" d=\"M728.31,-102C738.69,-102 751.24,-102 762.74,-102\"/>\n",
       "<polygon fill=\"black\" stroke=\"black\" points=\"762.7,-105.5 772.7,-102 762.7,-98.5 762.7,-105.5\"/>\n",
       "<text text-anchor=\"middle\" x=\"751.29\" y=\"-105.2\" font-family=\"Times,serif\" font-size=\"14.00\">0 </text>\n",
       "</g>\n",
       "<!-- St1 -->\n",
       "<g id=\"node13\" class=\"node\">\n",
       "<title>St1</title>\n",
       "<ellipse fill=\"none\" stroke=\"black\" cx=\"607.93\" cy=\"-107\" rx=\"23.2\" ry=\"23.2\"/>\n",
       "<ellipse fill=\"none\" stroke=\"black\" cx=\"607.93\" cy=\"-107\" rx=\"27.2\" ry=\"27.2\"/>\n",
       "<text text-anchor=\"middle\" x=\"607.93\" y=\"-101.95\" font-family=\"Times,serif\" font-size=\"14.00\">St1</text>\n",
       "</g>\n",
       "<!-- St3&#45;&gt;St1 -->\n",
       "<g id=\"edge5\" class=\"edge\">\n",
       "<title>St3&#45;&gt;St1</title>\n",
       "<path fill=\"none\" stroke=\"black\" d=\"M684.29,-91.1C674.95,-87.17 663.56,-84.2 653.14,-86.5 649.58,-87.28 645.98,-88.38 642.44,-89.67\"/>\n",
       "<polygon fill=\"black\" stroke=\"black\" points=\"641.41,-86.3 633.52,-93.38 644.1,-92.77 641.41,-86.3\"/>\n",
       "<text text-anchor=\"middle\" x=\"658.39\" y=\"-89.2\" font-family=\"Times,serif\" font-size=\"14.00\">1 </text>\n",
       "</g>\n",
       "<!-- St11 -->\n",
       "<g id=\"node7\" class=\"node\">\n",
       "<title>St11</title>\n",
       "<ellipse fill=\"none\" stroke=\"black\" cx=\"405.52\" cy=\"-104\" rx=\"27.81\" ry=\"27.81\"/>\n",
       "<text text-anchor=\"middle\" x=\"405.52\" y=\"-98.95\" font-family=\"Times,serif\" font-size=\"14.00\">St11</text>\n",
       "</g>\n",
       "<!-- St8 -->\n",
       "<g id=\"node8\" class=\"node\">\n",
       "<title>St8</title>\n",
       "<ellipse fill=\"none\" stroke=\"black\" cx=\"507.03\" cy=\"-104\" rx=\"23.2\" ry=\"23.2\"/>\n",
       "<ellipse fill=\"none\" stroke=\"black\" cx=\"507.03\" cy=\"-104\" rx=\"27.2\" ry=\"27.2\"/>\n",
       "<text text-anchor=\"middle\" x=\"507.03\" y=\"-98.95\" font-family=\"Times,serif\" font-size=\"14.00\">St8</text>\n",
       "</g>\n",
       "<!-- St11&#45;&gt;St8 -->\n",
       "<g id=\"edge19\" class=\"edge\">\n",
       "<title>St11&#45;&gt;St8</title>\n",
       "<path fill=\"none\" stroke=\"black\" d=\"M433.71,-104C444.3,-104 456.63,-104 468.07,-104\"/>\n",
       "<polygon fill=\"black\" stroke=\"black\" points=\"468.05,-107.5 478.05,-104 468.05,-100.5 468.05,-107.5\"/>\n",
       "<text text-anchor=\"middle\" x=\"456.58\" y=\"-107.2\" font-family=\"Times,serif\" font-size=\"14.00\">1 </text>\n",
       "</g>\n",
       "<!-- St11&#45;&gt;St4 -->\n",
       "<g id=\"edge12\" class=\"edge\">\n",
       "<title>St11&#45;&gt;St4</title>\n",
       "<path fill=\"none\" stroke=\"black\" d=\"M381.54,-89.11C371.76,-84.45 360.11,-81.1 349.21,-83.5 345.66,-84.28 342.05,-85.38 338.51,-86.67\"/>\n",
       "<polygon fill=\"black\" stroke=\"black\" points=\"337.49,-83.3 329.6,-90.38 340.17,-89.77 337.49,-83.3\"/>\n",
       "<text text-anchor=\"middle\" x=\"354.46\" y=\"-86.2\" font-family=\"Times,serif\" font-size=\"14.00\">0 </text>\n",
       "</g>\n",
       "<!-- St8&#45;&gt;St11 -->\n",
       "<g id=\"edge23\" class=\"edge\">\n",
       "<title>St8&#45;&gt;St11</title>\n",
       "<path fill=\"none\" stroke=\"black\" d=\"M482.84,-90.96C476.25,-87.89 468.93,-85.07 461.83,-83.5 454.68,-81.92 447.2,-82.83 440.14,-84.95\"/>\n",
       "<polygon fill=\"black\" stroke=\"black\" points=\"438.95,-81.66 430.91,-88.56 441.5,-88.18 438.95,-81.66\"/>\n",
       "<text text-anchor=\"middle\" x=\"456.58\" y=\"-86.2\" font-family=\"Times,serif\" font-size=\"14.00\">1 </text>\n",
       "</g>\n",
       "<!-- St8&#45;&gt;St1 -->\n",
       "<g id=\"edge13\" class=\"edge\">\n",
       "<title>St8&#45;&gt;St1</title>\n",
       "<path fill=\"none\" stroke=\"black\" d=\"M534.53,-104.8C545.18,-105.13 557.64,-105.5 569.2,-105.86\"/>\n",
       "<polygon fill=\"black\" stroke=\"black\" points=\"568.74,-109.34 578.84,-106.15 568.95,-102.35 568.74,-109.34\"/>\n",
       "<text text-anchor=\"middle\" x=\"557.48\" y=\"-108.2\" font-family=\"Times,serif\" font-size=\"14.00\">0 </text>\n",
       "</g>\n",
       "<!-- St7&#45;&gt;St9 -->\n",
       "<g id=\"edge14\" class=\"edge\">\n",
       "<title>St7&#45;&gt;St9</title>\n",
       "<path fill=\"none\" stroke=\"black\" d=\"M871.04,-89.93C864.34,-86.48 856.81,-83.27 849.44,-81.5 842.09,-79.74 834.4,-81.06 827.29,-83.71\"/>\n",
       "<polygon fill=\"black\" stroke=\"black\" points=\"826,-80.45 818.45,-87.89 828.99,-86.78 826,-80.45\"/>\n",
       "<text text-anchor=\"middle\" x=\"844.19\" y=\"-84.2\" font-family=\"Times,serif\" font-size=\"14.00\">1 </text>\n",
       "</g>\n",
       "<!-- St2 -->\n",
       "<g id=\"node11\" class=\"node\">\n",
       "<title>St2</title>\n",
       "<ellipse fill=\"none\" stroke=\"black\" cx=\"995.55\" cy=\"-104\" rx=\"23.2\" ry=\"23.2\"/>\n",
       "<ellipse fill=\"none\" stroke=\"black\" cx=\"995.55\" cy=\"-104\" rx=\"27.2\" ry=\"27.2\"/>\n",
       "<text text-anchor=\"middle\" x=\"995.55\" y=\"-98.95\" font-family=\"Times,serif\" font-size=\"14.00\">St2</text>\n",
       "</g>\n",
       "<!-- St7&#45;&gt;St2 -->\n",
       "<g id=\"edge16\" class=\"edge\">\n",
       "<title>St7&#45;&gt;St2</title>\n",
       "<path fill=\"none\" stroke=\"black\" d=\"M922.15,-104C932.79,-104 945.26,-104 956.82,-104\"/>\n",
       "<polygon fill=\"black\" stroke=\"black\" points=\"956.46,-107.5 966.46,-104 956.46,-100.5 956.46,-107.5\"/>\n",
       "<text text-anchor=\"middle\" x=\"945.1\" y=\"-107.2\" font-family=\"Times,serif\" font-size=\"14.00\">0 </text>\n",
       "</g>\n",
       "<!-- St5&#45;&gt;St10 -->\n",
       "<g id=\"edge24\" class=\"edge\">\n",
       "<title>St5&#45;&gt;St10</title>\n",
       "<path fill=\"none\" stroke=\"black\" d=\"M1123.84,-100.11C1133.09,-98.14 1143.36,-95.23 1152.16,-91 1157.47,-88.45 1162.74,-85.18 1167.7,-81.67\"/>\n",
       "<polygon fill=\"black\" stroke=\"black\" points=\"1169.75,-84.51 1175.59,-75.67 1165.51,-78.94 1169.75,-84.51\"/>\n",
       "<text text-anchor=\"middle\" x=\"1146.91\" y=\"-98.2\" font-family=\"Times,serif\" font-size=\"14.00\">0 </text>\n",
       "</g>\n",
       "<!-- St5&#45;&gt;St2 -->\n",
       "<g id=\"edge4\" class=\"edge\">\n",
       "<title>St5&#45;&gt;St2</title>\n",
       "<path fill=\"none\" stroke=\"black\" d=\"M1071.68,-92.03C1065.22,-89.34 1058.1,-86.88 1051.25,-85.5 1044.29,-84.1 1036.98,-84.89 1030.07,-86.77\"/>\n",
       "<polygon fill=\"black\" stroke=\"black\" points=\"1029.31,-83.33 1021.04,-89.96 1031.64,-89.93 1029.31,-83.33\"/>\n",
       "<text text-anchor=\"middle\" x=\"1046\" y=\"-88.2\" font-family=\"Times,serif\" font-size=\"14.00\">1 </text>\n",
       "</g>\n",
       "<!-- St2&#45;&gt;St7 -->\n",
       "<g id=\"edge20\" class=\"edge\">\n",
       "<title>St2&#45;&gt;St7</title>\n",
       "<path fill=\"none\" stroke=\"black\" d=\"M971.36,-90.96C964.77,-87.89 957.45,-85.07 950.35,-83.5 943.2,-81.92 935.73,-82.87 928.69,-85.03\"/>\n",
       "<polygon fill=\"black\" stroke=\"black\" points=\"927.5,-81.74 919.5,-88.7 930.09,-88.24 927.5,-81.74\"/>\n",
       "<text text-anchor=\"middle\" x=\"945.1\" y=\"-86.2\" font-family=\"Times,serif\" font-size=\"14.00\">0 </text>\n",
       "</g>\n",
       "<!-- St2&#45;&gt;St5 -->\n",
       "<g id=\"edge15\" class=\"edge\">\n",
       "<title>St2&#45;&gt;St5</title>\n",
       "<path fill=\"none\" stroke=\"black\" d=\"M1023.05,-104C1033.7,-104 1046.16,-104 1057.72,-104\"/>\n",
       "<polygon fill=\"black\" stroke=\"black\" points=\"1057.36,-107.5 1067.36,-104 1057.36,-100.5 1057.36,-107.5\"/>\n",
       "<text text-anchor=\"middle\" x=\"1046\" y=\"-107.2\" font-family=\"Times,serif\" font-size=\"14.00\">1 </text>\n",
       "</g>\n",
       "<!-- St4&#45;&gt;St0 -->\n",
       "<g id=\"edge7\" class=\"edge\">\n",
       "<title>St4&#45;&gt;St0</title>\n",
       "<path fill=\"none\" stroke=\"black\" d=\"M280.41,-89.93C273.7,-86.48 266.18,-83.27 258.81,-81.5 251.45,-79.74 243.76,-81.06 236.66,-83.71\"/>\n",
       "<polygon fill=\"black\" stroke=\"black\" points=\"235.36,-80.45 227.82,-87.89 238.35,-86.78 235.36,-80.45\"/>\n",
       "<text text-anchor=\"middle\" x=\"253.56\" y=\"-84.2\" font-family=\"Times,serif\" font-size=\"14.00\">1 </text>\n",
       "</g>\n",
       "<!-- St4&#45;&gt;St11 -->\n",
       "<g id=\"edge8\" class=\"edge\">\n",
       "<title>St4&#45;&gt;St11</title>\n",
       "<path fill=\"none\" stroke=\"black\" d=\"M331.68,-104C342.3,-104 354.72,-104 366.27,-104\"/>\n",
       "<polygon fill=\"black\" stroke=\"black\" points=\"365.92,-107.5 375.92,-104 365.92,-100.5 365.92,-107.5\"/>\n",
       "<text text-anchor=\"middle\" x=\"354.46\" y=\"-107.2\" font-family=\"Times,serif\" font-size=\"14.00\">0 </text>\n",
       "</g>\n",
       "<!-- St1&#45;&gt;St3 -->\n",
       "<g id=\"edge11\" class=\"edge\">\n",
       "<title>St1&#45;&gt;St3</title>\n",
       "<path fill=\"none\" stroke=\"black\" d=\"M635.37,-105.61C646.12,-105.04 658.67,-104.38 670.06,-103.78\"/>\n",
       "<polygon fill=\"black\" stroke=\"black\" points=\"670.09,-107.28 679.89,-103.26 669.72,-100.29 670.09,-107.28\"/>\n",
       "<text text-anchor=\"middle\" x=\"658.39\" y=\"-107.2\" font-family=\"Times,serif\" font-size=\"14.00\">1 </text>\n",
       "</g>\n",
       "<!-- St1&#45;&gt;St8 -->\n",
       "<g id=\"edge10\" class=\"edge\">\n",
       "<title>St1&#45;&gt;St8</title>\n",
       "<path fill=\"none\" stroke=\"black\" d=\"M584.27,-93.55C577.56,-90.25 570.05,-87.19 562.73,-85.5 555.74,-83.89 548.39,-84.62 541.42,-86.52\"/>\n",
       "<polygon fill=\"black\" stroke=\"black\" points=\"540.56,-83.11 532.32,-89.77 542.91,-89.7 540.56,-83.11\"/>\n",
       "<text text-anchor=\"middle\" x=\"557.48\" y=\"-88.2\" font-family=\"Times,serif\" font-size=\"14.00\">0 </text>\n",
       "</g>\n",
       "</g>\n",
       "</svg>\n"
      ],
      "text/plain": [
       "<graphviz.graphs.Digraph at 0x112c27950>"
      ]
     },
     "execution_count": 13,
     "metadata": {},
     "output_type": "execute_result"
    }
   ],
   "source": [
    "O0_or_E1_and_nm3 = intersect_dfa(Odd0s_Even1s, not_DFA3)\n",
    "dotObj_dfa(O0_or_E1_and_nm3, STATENAME_MAXSIZE=1)"
   ]
  },
  {
   "cell_type": "code",
   "execution_count": 14,
   "metadata": {
    "id": "caRxr-Q3G4IQ"
   },
   "outputs": [],
   "source": [
    "min_answer = min_dfa(O0_or_E1_and_nm3)"
   ]
  },
  {
   "cell_type": "code",
   "execution_count": 15,
   "metadata": {
    "colab": {
     "base_uri": "https://localhost:8080/"
    },
    "id": "HuA8mkPeG77c",
    "outputId": "f092f2f1-304e-4763-f6da-2c2334bdf42b"
   },
   "outputs": [
    {
     "data": {
      "text/plain": [
       "12"
      ]
     },
     "execution_count": 15,
     "metadata": {},
     "output_type": "execute_result"
    }
   ],
   "source": [
    "len(min_answer[\"Q\"])"
   ]
  },
  {
   "cell_type": "code",
   "execution_count": 16,
   "metadata": {
    "colab": {
     "base_uri": "https://localhost:8080/"
    },
    "id": "Aku3vm6iHc4W",
    "outputId": "d17bc3a0-8c32-4f1d-a9df-4017b7db1981"
   },
   "outputs": [
    {
     "data": {
      "text/plain": [
       "12"
      ]
     },
     "execution_count": 16,
     "metadata": {},
     "output_type": "execute_result"
    }
   ],
   "source": [
    "len(O0_or_E1_and_nm3[\"Q\"])"
   ]
  },
  {
   "cell_type": "code",
   "execution_count": 17,
   "metadata": {
    "colab": {
     "base_uri": "https://localhost:8080/",
     "height": 226
    },
    "id": "LRO4X2PaHP0F",
    "outputId": "bcdc26c5-3775-478c-923a-776c24309abd"
   },
   "outputs": [
    {
     "data": {
      "image/svg+xml": [
       "<?xml version=\"1.0\" encoding=\"UTF-8\" standalone=\"no\"?>\n",
       "<!DOCTYPE svg PUBLIC \"-//W3C//DTD SVG 1.1//EN\"\n",
       " \"http://www.w3.org/Graphics/SVG/1.1/DTD/svg11.dtd\">\n",
       "<!-- Generated by graphviz version 9.0.0 (0)\n",
       " -->\n",
       "<!-- Pages: 1 -->\n",
       "<svg width=\"1234pt\" height=\"142pt\"\n",
       " viewBox=\"0.00 0.00 1233.77 142.20\" xmlns=\"http://www.w3.org/2000/svg\" xmlns:xlink=\"http://www.w3.org/1999/xlink\">\n",
       "<g id=\"graph0\" class=\"graph\" transform=\"scale(1 1) rotate(0) translate(4 138.2)\">\n",
       "<polygon fill=\"white\" stroke=\"none\" points=\"-4,4 -4,-138.2 1229.77,-138.2 1229.77,4 -4,4\"/>\n",
       "<!-- EMPTY -->\n",
       "<g id=\"node1\" class=\"node\">\n",
       "<title>EMPTY</title>\n",
       "</g>\n",
       "<!-- St6 -->\n",
       "<g id=\"node2\" class=\"node\">\n",
       "<title>St6</title>\n",
       "<ellipse fill=\"none\" stroke=\"black\" cx=\"114.2\" cy=\"-56\" rx=\"23.2\" ry=\"23.2\"/>\n",
       "<text text-anchor=\"middle\" x=\"114.2\" y=\"-50.95\" font-family=\"Times,serif\" font-size=\"14.00\">St6</text>\n",
       "</g>\n",
       "<!-- EMPTY&#45;&gt;St6 -->\n",
       "<g id=\"edge1\" class=\"edge\">\n",
       "<title>EMPTY&#45;&gt;St6</title>\n",
       "<path fill=\"none\" stroke=\"black\" d=\"M53.56,-56C61.65,-56 70.72,-56 79.3,-56\"/>\n",
       "<polygon fill=\"black\" stroke=\"black\" points=\"79.04,-59.5 89.04,-56 79.04,-52.5 79.04,-59.5\"/>\n",
       "</g>\n",
       "<!-- St0 -->\n",
       "<g id=\"node3\" class=\"node\">\n",
       "<title>St0</title>\n",
       "<ellipse fill=\"none\" stroke=\"black\" cx=\"207.11\" cy=\"-102\" rx=\"23.2\" ry=\"23.2\"/>\n",
       "<text text-anchor=\"middle\" x=\"207.11\" y=\"-96.95\" font-family=\"Times,serif\" font-size=\"14.00\">St0</text>\n",
       "</g>\n",
       "<!-- St6&#45;&gt;St0 -->\n",
       "<g id=\"edge3\" class=\"edge\">\n",
       "<title>St6&#45;&gt;St0</title>\n",
       "<path fill=\"none\" stroke=\"black\" d=\"M130.64,-72.71C137.6,-79.33 146.31,-86.44 155.4,-91 160.7,-93.66 166.63,-95.68 172.51,-97.21\"/>\n",
       "<polygon fill=\"black\" stroke=\"black\" points=\"171.59,-100.59 182.1,-99.28 173.06,-93.75 171.59,-100.59\"/>\n",
       "<text text-anchor=\"middle\" x=\"160.65\" y=\"-98.2\" font-family=\"Times,serif\" font-size=\"14.00\">0 </text>\n",
       "</g>\n",
       "<!-- St10 -->\n",
       "<g id=\"node4\" class=\"node\">\n",
       "<title>St10</title>\n",
       "<ellipse fill=\"none\" stroke=\"black\" cx=\"1197.96\" cy=\"-56\" rx=\"27.81\" ry=\"27.81\"/>\n",
       "<text text-anchor=\"middle\" x=\"1197.96\" y=\"-50.95\" font-family=\"Times,serif\" font-size=\"14.00\">St10</text>\n",
       "</g>\n",
       "<!-- St6&#45;&gt;St10 -->\n",
       "<g id=\"edge21\" class=\"edge\">\n",
       "<title>St6&#45;&gt;St10</title>\n",
       "<path fill=\"none\" stroke=\"black\" d=\"M137.06,-49.95C155.35,-45.42 182.23,-40 206.11,-40 206.11,-40 206.11,-40 1097.45,-40 1118.08,-40 1140.8,-43.39 1159.33,-47.05\"/>\n",
       "<polygon fill=\"black\" stroke=\"black\" points=\"1158.55,-50.47 1169.06,-49.09 1159.99,-43.61 1158.55,-50.47\"/>\n",
       "<text text-anchor=\"middle\" x=\"658.39\" y=\"-43.2\" font-family=\"Times,serif\" font-size=\"14.00\">1 </text>\n",
       "</g>\n",
       "<!-- St0&#45;&gt;St6 -->\n",
       "<g id=\"edge9\" class=\"edge\">\n",
       "<title>St0&#45;&gt;St6</title>\n",
       "<path fill=\"none\" stroke=\"black\" d=\"M189.5,-86.63C182.61,-80.9 174.28,-74.77 165.9,-70.5 160.35,-67.67 154.16,-65.31 148.07,-63.39\"/>\n",
       "<polygon fill=\"black\" stroke=\"black\" points=\"149.39,-60.13 138.82,-60.78 147.49,-66.86 149.39,-60.13\"/>\n",
       "<text text-anchor=\"middle\" x=\"160.65\" y=\"-74.2\" font-family=\"Times,serif\" font-size=\"14.00\">0 </text>\n",
       "</g>\n",
       "<!-- St4 -->\n",
       "<g id=\"node12\" class=\"node\">\n",
       "<title>St4</title>\n",
       "<ellipse fill=\"none\" stroke=\"black\" cx=\"304.01\" cy=\"-104\" rx=\"23.2\" ry=\"23.2\"/>\n",
       "<ellipse fill=\"none\" stroke=\"black\" cx=\"304.01\" cy=\"-104\" rx=\"27.2\" ry=\"27.2\"/>\n",
       "<text text-anchor=\"middle\" x=\"304.01\" y=\"-98.95\" font-family=\"Times,serif\" font-size=\"14.00\">St4</text>\n",
       "</g>\n",
       "<!-- St0&#45;&gt;St4 -->\n",
       "<g id=\"edge2\" class=\"edge\">\n",
       "<title>St0&#45;&gt;St4</title>\n",
       "<path fill=\"none\" stroke=\"black\" d=\"M230.6,-102.47C240.96,-102.69 253.54,-102.96 265.28,-103.2\"/>\n",
       "<polygon fill=\"black\" stroke=\"black\" points=\"265.06,-106.7 275.13,-103.41 265.2,-99.7 265.06,-106.7\"/>\n",
       "<text text-anchor=\"middle\" x=\"253.56\" y=\"-106.2\" font-family=\"Times,serif\" font-size=\"14.00\">1 </text>\n",
       "</g>\n",
       "<!-- St10&#45;&gt;St6 -->\n",
       "<g id=\"edge18\" class=\"edge\">\n",
       "<title>St10&#45;&gt;St6</title>\n",
       "<path fill=\"none\" stroke=\"black\" d=\"M1177.43,-37.04C1158.57,-20.79 1128.38,0 1097.45,0 206.11,0 206.11,0 206.11,0 180.38,0 155.82,-16.46 138.74,-31.54\"/>\n",
       "<polygon fill=\"black\" stroke=\"black\" points=\"136.55,-28.79 131.62,-38.17 141.32,-33.91 136.55,-28.79\"/>\n",
       "<text text-anchor=\"middle\" x=\"658.39\" y=\"-3.2\" font-family=\"Times,serif\" font-size=\"14.00\">1 </text>\n",
       "</g>\n",
       "<!-- St5 -->\n",
       "<g id=\"node10\" class=\"node\">\n",
       "<title>St5</title>\n",
       "<ellipse fill=\"none\" stroke=\"black\" cx=\"1096.45\" cy=\"-104\" rx=\"23.2\" ry=\"23.2\"/>\n",
       "<ellipse fill=\"none\" stroke=\"black\" cx=\"1096.45\" cy=\"-104\" rx=\"27.2\" ry=\"27.2\"/>\n",
       "<text text-anchor=\"middle\" x=\"1096.45\" y=\"-98.95\" font-family=\"Times,serif\" font-size=\"14.00\">St5</text>\n",
       "</g>\n",
       "<!-- St10&#45;&gt;St5 -->\n",
       "<g id=\"edge17\" class=\"edge\">\n",
       "<title>St10&#45;&gt;St5</title>\n",
       "<path fill=\"none\" stroke=\"black\" d=\"M1170.79,-63.18C1161.38,-66.17 1150.84,-70 1141.66,-74.5 1137.15,-76.71 1132.57,-79.31 1128.14,-82.03\"/>\n",
       "<polygon fill=\"black\" stroke=\"black\" points=\"1126.55,-78.89 1120.07,-87.27 1130.36,-84.76 1126.55,-78.89\"/>\n",
       "<text text-anchor=\"middle\" x=\"1146.91\" y=\"-77.2\" font-family=\"Times,serif\" font-size=\"14.00\">0 </text>\n",
       "</g>\n",
       "<!-- St9 -->\n",
       "<g id=\"node5\" class=\"node\">\n",
       "<title>St9</title>\n",
       "<ellipse fill=\"none\" stroke=\"black\" cx=\"797.74\" cy=\"-102\" rx=\"23.2\" ry=\"23.2\"/>\n",
       "<text text-anchor=\"middle\" x=\"797.74\" y=\"-96.95\" font-family=\"Times,serif\" font-size=\"14.00\">St9</text>\n",
       "</g>\n",
       "<!-- St3 -->\n",
       "<g id=\"node6\" class=\"node\">\n",
       "<title>St3</title>\n",
       "<ellipse fill=\"none\" stroke=\"black\" cx=\"704.84\" cy=\"-102\" rx=\"23.2\" ry=\"23.2\"/>\n",
       "<text text-anchor=\"middle\" x=\"704.84\" y=\"-96.95\" font-family=\"Times,serif\" font-size=\"14.00\">St3</text>\n",
       "</g>\n",
       "<!-- St9&#45;&gt;St3 -->\n",
       "<g id=\"edge25\" class=\"edge\">\n",
       "<title>St9&#45;&gt;St3</title>\n",
       "<path fill=\"none\" stroke=\"black\" d=\"M778.4,-88.54C768.95,-83.18 757.12,-78.84 746.04,-81.5 742.46,-82.36 738.84,-83.6 735.31,-85.04\"/>\n",
       "<polygon fill=\"black\" stroke=\"black\" points=\"734.08,-81.75 726.53,-89.18 737.06,-88.08 734.08,-81.75\"/>\n",
       "<text text-anchor=\"middle\" x=\"751.29\" y=\"-84.2\" font-family=\"Times,serif\" font-size=\"14.00\">0 </text>\n",
       "</g>\n",
       "<!-- St7 -->\n",
       "<g id=\"node9\" class=\"node\">\n",
       "<title>St7</title>\n",
       "<ellipse fill=\"none\" stroke=\"black\" cx=\"894.65\" cy=\"-104\" rx=\"23.2\" ry=\"23.2\"/>\n",
       "<ellipse fill=\"none\" stroke=\"black\" cx=\"894.65\" cy=\"-104\" rx=\"27.2\" ry=\"27.2\"/>\n",
       "<text text-anchor=\"middle\" x=\"894.65\" y=\"-98.95\" font-family=\"Times,serif\" font-size=\"14.00\">St7</text>\n",
       "</g>\n",
       "<!-- St9&#45;&gt;St7 -->\n",
       "<g id=\"edge6\" class=\"edge\">\n",
       "<title>St9&#45;&gt;St7</title>\n",
       "<path fill=\"none\" stroke=\"black\" d=\"M821.23,-102.47C831.59,-102.69 844.17,-102.96 855.92,-103.2\"/>\n",
       "<polygon fill=\"black\" stroke=\"black\" points=\"855.69,-106.7 865.76,-103.41 855.84,-99.7 855.69,-106.7\"/>\n",
       "<text text-anchor=\"middle\" x=\"844.19\" y=\"-106.2\" font-family=\"Times,serif\" font-size=\"14.00\">1 </text>\n",
       "</g>\n",
       "<!-- St3&#45;&gt;St9 -->\n",
       "<g id=\"edge22\" class=\"edge\">\n",
       "<title>St3&#45;&gt;St9</title>\n",
       "<path fill=\"none\" stroke=\"black\" d=\"M728.31,-102C738.69,-102 751.24,-102 762.74,-102\"/>\n",
       "<polygon fill=\"black\" stroke=\"black\" points=\"762.7,-105.5 772.7,-102 762.7,-98.5 762.7,-105.5\"/>\n",
       "<text text-anchor=\"middle\" x=\"751.29\" y=\"-105.2\" font-family=\"Times,serif\" font-size=\"14.00\">0 </text>\n",
       "</g>\n",
       "<!-- St1 -->\n",
       "<g id=\"node13\" class=\"node\">\n",
       "<title>St1</title>\n",
       "<ellipse fill=\"none\" stroke=\"black\" cx=\"607.93\" cy=\"-107\" rx=\"23.2\" ry=\"23.2\"/>\n",
       "<ellipse fill=\"none\" stroke=\"black\" cx=\"607.93\" cy=\"-107\" rx=\"27.2\" ry=\"27.2\"/>\n",
       "<text text-anchor=\"middle\" x=\"607.93\" y=\"-101.95\" font-family=\"Times,serif\" font-size=\"14.00\">St1</text>\n",
       "</g>\n",
       "<!-- St3&#45;&gt;St1 -->\n",
       "<g id=\"edge5\" class=\"edge\">\n",
       "<title>St3&#45;&gt;St1</title>\n",
       "<path fill=\"none\" stroke=\"black\" d=\"M684.29,-91.1C674.95,-87.17 663.56,-84.2 653.14,-86.5 649.58,-87.28 645.98,-88.38 642.44,-89.67\"/>\n",
       "<polygon fill=\"black\" stroke=\"black\" points=\"641.41,-86.3 633.52,-93.38 644.1,-92.77 641.41,-86.3\"/>\n",
       "<text text-anchor=\"middle\" x=\"658.39\" y=\"-89.2\" font-family=\"Times,serif\" font-size=\"14.00\">1 </text>\n",
       "</g>\n",
       "<!-- St11 -->\n",
       "<g id=\"node7\" class=\"node\">\n",
       "<title>St11</title>\n",
       "<ellipse fill=\"none\" stroke=\"black\" cx=\"405.52\" cy=\"-104\" rx=\"27.81\" ry=\"27.81\"/>\n",
       "<text text-anchor=\"middle\" x=\"405.52\" y=\"-98.95\" font-family=\"Times,serif\" font-size=\"14.00\">St11</text>\n",
       "</g>\n",
       "<!-- St8 -->\n",
       "<g id=\"node8\" class=\"node\">\n",
       "<title>St8</title>\n",
       "<ellipse fill=\"none\" stroke=\"black\" cx=\"507.03\" cy=\"-104\" rx=\"23.2\" ry=\"23.2\"/>\n",
       "<ellipse fill=\"none\" stroke=\"black\" cx=\"507.03\" cy=\"-104\" rx=\"27.2\" ry=\"27.2\"/>\n",
       "<text text-anchor=\"middle\" x=\"507.03\" y=\"-98.95\" font-family=\"Times,serif\" font-size=\"14.00\">St8</text>\n",
       "</g>\n",
       "<!-- St11&#45;&gt;St8 -->\n",
       "<g id=\"edge19\" class=\"edge\">\n",
       "<title>St11&#45;&gt;St8</title>\n",
       "<path fill=\"none\" stroke=\"black\" d=\"M433.71,-104C444.3,-104 456.63,-104 468.07,-104\"/>\n",
       "<polygon fill=\"black\" stroke=\"black\" points=\"468.05,-107.5 478.05,-104 468.05,-100.5 468.05,-107.5\"/>\n",
       "<text text-anchor=\"middle\" x=\"456.58\" y=\"-107.2\" font-family=\"Times,serif\" font-size=\"14.00\">1 </text>\n",
       "</g>\n",
       "<!-- St11&#45;&gt;St4 -->\n",
       "<g id=\"edge12\" class=\"edge\">\n",
       "<title>St11&#45;&gt;St4</title>\n",
       "<path fill=\"none\" stroke=\"black\" d=\"M381.54,-89.11C371.76,-84.45 360.11,-81.1 349.21,-83.5 345.66,-84.28 342.05,-85.38 338.51,-86.67\"/>\n",
       "<polygon fill=\"black\" stroke=\"black\" points=\"337.49,-83.3 329.6,-90.38 340.17,-89.77 337.49,-83.3\"/>\n",
       "<text text-anchor=\"middle\" x=\"354.46\" y=\"-86.2\" font-family=\"Times,serif\" font-size=\"14.00\">0 </text>\n",
       "</g>\n",
       "<!-- St8&#45;&gt;St11 -->\n",
       "<g id=\"edge23\" class=\"edge\">\n",
       "<title>St8&#45;&gt;St11</title>\n",
       "<path fill=\"none\" stroke=\"black\" d=\"M482.84,-90.96C476.25,-87.89 468.93,-85.07 461.83,-83.5 454.68,-81.92 447.2,-82.83 440.14,-84.95\"/>\n",
       "<polygon fill=\"black\" stroke=\"black\" points=\"438.95,-81.66 430.91,-88.56 441.5,-88.18 438.95,-81.66\"/>\n",
       "<text text-anchor=\"middle\" x=\"456.58\" y=\"-86.2\" font-family=\"Times,serif\" font-size=\"14.00\">1 </text>\n",
       "</g>\n",
       "<!-- St8&#45;&gt;St1 -->\n",
       "<g id=\"edge13\" class=\"edge\">\n",
       "<title>St8&#45;&gt;St1</title>\n",
       "<path fill=\"none\" stroke=\"black\" d=\"M534.53,-104.8C545.18,-105.13 557.64,-105.5 569.2,-105.86\"/>\n",
       "<polygon fill=\"black\" stroke=\"black\" points=\"568.74,-109.34 578.84,-106.15 568.95,-102.35 568.74,-109.34\"/>\n",
       "<text text-anchor=\"middle\" x=\"557.48\" y=\"-108.2\" font-family=\"Times,serif\" font-size=\"14.00\">0 </text>\n",
       "</g>\n",
       "<!-- St7&#45;&gt;St9 -->\n",
       "<g id=\"edge14\" class=\"edge\">\n",
       "<title>St7&#45;&gt;St9</title>\n",
       "<path fill=\"none\" stroke=\"black\" d=\"M871.04,-89.93C864.34,-86.48 856.81,-83.27 849.44,-81.5 842.09,-79.74 834.4,-81.06 827.29,-83.71\"/>\n",
       "<polygon fill=\"black\" stroke=\"black\" points=\"826,-80.45 818.45,-87.89 828.99,-86.78 826,-80.45\"/>\n",
       "<text text-anchor=\"middle\" x=\"844.19\" y=\"-84.2\" font-family=\"Times,serif\" font-size=\"14.00\">1 </text>\n",
       "</g>\n",
       "<!-- St2 -->\n",
       "<g id=\"node11\" class=\"node\">\n",
       "<title>St2</title>\n",
       "<ellipse fill=\"none\" stroke=\"black\" cx=\"995.55\" cy=\"-104\" rx=\"23.2\" ry=\"23.2\"/>\n",
       "<ellipse fill=\"none\" stroke=\"black\" cx=\"995.55\" cy=\"-104\" rx=\"27.2\" ry=\"27.2\"/>\n",
       "<text text-anchor=\"middle\" x=\"995.55\" y=\"-98.95\" font-family=\"Times,serif\" font-size=\"14.00\">St2</text>\n",
       "</g>\n",
       "<!-- St7&#45;&gt;St2 -->\n",
       "<g id=\"edge16\" class=\"edge\">\n",
       "<title>St7&#45;&gt;St2</title>\n",
       "<path fill=\"none\" stroke=\"black\" d=\"M922.15,-104C932.79,-104 945.26,-104 956.82,-104\"/>\n",
       "<polygon fill=\"black\" stroke=\"black\" points=\"956.46,-107.5 966.46,-104 956.46,-100.5 956.46,-107.5\"/>\n",
       "<text text-anchor=\"middle\" x=\"945.1\" y=\"-107.2\" font-family=\"Times,serif\" font-size=\"14.00\">0 </text>\n",
       "</g>\n",
       "<!-- St5&#45;&gt;St10 -->\n",
       "<g id=\"edge24\" class=\"edge\">\n",
       "<title>St5&#45;&gt;St10</title>\n",
       "<path fill=\"none\" stroke=\"black\" d=\"M1123.84,-100.11C1133.09,-98.14 1143.36,-95.23 1152.16,-91 1157.47,-88.45 1162.74,-85.18 1167.7,-81.67\"/>\n",
       "<polygon fill=\"black\" stroke=\"black\" points=\"1169.75,-84.51 1175.59,-75.67 1165.51,-78.94 1169.75,-84.51\"/>\n",
       "<text text-anchor=\"middle\" x=\"1146.91\" y=\"-98.2\" font-family=\"Times,serif\" font-size=\"14.00\">0 </text>\n",
       "</g>\n",
       "<!-- St5&#45;&gt;St2 -->\n",
       "<g id=\"edge4\" class=\"edge\">\n",
       "<title>St5&#45;&gt;St2</title>\n",
       "<path fill=\"none\" stroke=\"black\" d=\"M1071.68,-92.03C1065.22,-89.34 1058.1,-86.88 1051.25,-85.5 1044.29,-84.1 1036.98,-84.89 1030.07,-86.77\"/>\n",
       "<polygon fill=\"black\" stroke=\"black\" points=\"1029.31,-83.33 1021.04,-89.96 1031.64,-89.93 1029.31,-83.33\"/>\n",
       "<text text-anchor=\"middle\" x=\"1046\" y=\"-88.2\" font-family=\"Times,serif\" font-size=\"14.00\">1 </text>\n",
       "</g>\n",
       "<!-- St2&#45;&gt;St7 -->\n",
       "<g id=\"edge20\" class=\"edge\">\n",
       "<title>St2&#45;&gt;St7</title>\n",
       "<path fill=\"none\" stroke=\"black\" d=\"M971.36,-90.96C964.77,-87.89 957.45,-85.07 950.35,-83.5 943.2,-81.92 935.73,-82.87 928.69,-85.03\"/>\n",
       "<polygon fill=\"black\" stroke=\"black\" points=\"927.5,-81.74 919.5,-88.7 930.09,-88.24 927.5,-81.74\"/>\n",
       "<text text-anchor=\"middle\" x=\"945.1\" y=\"-86.2\" font-family=\"Times,serif\" font-size=\"14.00\">0 </text>\n",
       "</g>\n",
       "<!-- St2&#45;&gt;St5 -->\n",
       "<g id=\"edge15\" class=\"edge\">\n",
       "<title>St2&#45;&gt;St5</title>\n",
       "<path fill=\"none\" stroke=\"black\" d=\"M1023.05,-104C1033.7,-104 1046.16,-104 1057.72,-104\"/>\n",
       "<polygon fill=\"black\" stroke=\"black\" points=\"1057.36,-107.5 1067.36,-104 1057.36,-100.5 1057.36,-107.5\"/>\n",
       "<text text-anchor=\"middle\" x=\"1046\" y=\"-107.2\" font-family=\"Times,serif\" font-size=\"14.00\">1 </text>\n",
       "</g>\n",
       "<!-- St4&#45;&gt;St0 -->\n",
       "<g id=\"edge7\" class=\"edge\">\n",
       "<title>St4&#45;&gt;St0</title>\n",
       "<path fill=\"none\" stroke=\"black\" d=\"M280.41,-89.93C273.7,-86.48 266.18,-83.27 258.81,-81.5 251.45,-79.74 243.76,-81.06 236.66,-83.71\"/>\n",
       "<polygon fill=\"black\" stroke=\"black\" points=\"235.36,-80.45 227.82,-87.89 238.35,-86.78 235.36,-80.45\"/>\n",
       "<text text-anchor=\"middle\" x=\"253.56\" y=\"-84.2\" font-family=\"Times,serif\" font-size=\"14.00\">1 </text>\n",
       "</g>\n",
       "<!-- St4&#45;&gt;St11 -->\n",
       "<g id=\"edge8\" class=\"edge\">\n",
       "<title>St4&#45;&gt;St11</title>\n",
       "<path fill=\"none\" stroke=\"black\" d=\"M331.68,-104C342.3,-104 354.72,-104 366.27,-104\"/>\n",
       "<polygon fill=\"black\" stroke=\"black\" points=\"365.92,-107.5 375.92,-104 365.92,-100.5 365.92,-107.5\"/>\n",
       "<text text-anchor=\"middle\" x=\"354.46\" y=\"-107.2\" font-family=\"Times,serif\" font-size=\"14.00\">0 </text>\n",
       "</g>\n",
       "<!-- St1&#45;&gt;St3 -->\n",
       "<g id=\"edge11\" class=\"edge\">\n",
       "<title>St1&#45;&gt;St3</title>\n",
       "<path fill=\"none\" stroke=\"black\" d=\"M635.37,-105.61C646.12,-105.04 658.67,-104.38 670.06,-103.78\"/>\n",
       "<polygon fill=\"black\" stroke=\"black\" points=\"670.09,-107.28 679.89,-103.26 669.72,-100.29 670.09,-107.28\"/>\n",
       "<text text-anchor=\"middle\" x=\"658.39\" y=\"-107.2\" font-family=\"Times,serif\" font-size=\"14.00\">1 </text>\n",
       "</g>\n",
       "<!-- St1&#45;&gt;St8 -->\n",
       "<g id=\"edge10\" class=\"edge\">\n",
       "<title>St1&#45;&gt;St8</title>\n",
       "<path fill=\"none\" stroke=\"black\" d=\"M584.27,-93.55C577.56,-90.25 570.05,-87.19 562.73,-85.5 555.74,-83.89 548.39,-84.62 541.42,-86.52\"/>\n",
       "<polygon fill=\"black\" stroke=\"black\" points=\"540.56,-83.11 532.32,-89.77 542.91,-89.7 540.56,-83.11\"/>\n",
       "<text text-anchor=\"middle\" x=\"557.48\" y=\"-88.2\" font-family=\"Times,serif\" font-size=\"14.00\">0 </text>\n",
       "</g>\n",
       "</g>\n",
       "</svg>\n"
      ],
      "text/plain": [
       "<graphviz.graphs.Digraph at 0x112c54440>"
      ]
     },
     "execution_count": 17,
     "metadata": {},
     "output_type": "execute_result"
    }
   ],
   "source": [
    "dotObj_dfa(min_answer, STATENAME_MAXSIZE=1)"
   ]
  },
  {
   "cell_type": "markdown",
   "metadata": {
    "id": "NEtN7ANSBg9v"
   },
   "source": [
    "# Even the min DFA can be large!"
   ]
  },
  {
   "cell_type": "markdown",
   "metadata": {
    "id": "rKq03Wz8Bg9w"
   },
   "source": [
    "# Illustrate REs to generate test DFA"
   ]
  },
  {
   "cell_type": "code",
   "execution_count": 42,
   "metadata": {
    "colab": {
     "base_uri": "https://localhost:8080/"
    },
    "id": "bJIqnptsBg9w",
    "outputId": "3d4429a8-e8bd-4c5b-ad5e-cd6d5131cc67"
   },
   "outputs": [
    {
     "name": "stderr",
     "output_type": "stream",
     "text": [
      "Generating LALR tables\n"
     ]
    },
    {
     "data": {
      "text/plain": [
       "{'Q': {'St1', 'St10', 'St2', 'St3', 'St4', 'St5', 'St6', 'St7', 'St8', 'St9'},\n",
       " 'Sigma': {'0', '1'},\n",
       " 'Delta': {('St1', '0'): {'St2'},\n",
       "  ('St5', ''): {'St10', 'St3', 'St6'},\n",
       "  ('St3', '0'): {'St4'},\n",
       "  ('St4', ''): {'St5'},\n",
       "  ('St2', ''): {'St5'},\n",
       "  ('St6', '0'): {'St7'},\n",
       "  ('St10', ''): {'St8'},\n",
       "  ('St8', '1'): {'St9'},\n",
       "  ('St9', ''): {'St10'}},\n",
       " 'Q0': {'St1'},\n",
       " 'F': {'St10', 'St7'}}"
      ]
     },
     "execution_count": 42,
     "metadata": {},
     "output_type": "execute_result"
    }
   ],
   "source": [
    "re2nfa('00*(0+1*)')"
   ]
  },
  {
   "cell_type": "code",
   "execution_count": 43,
   "metadata": {
    "colab": {
     "base_uri": "https://localhost:8080/"
    },
    "id": "eEufBOK1Bg9x",
    "outputId": "89179aaf-cea3-49f5-d7ba-cb6b57579532"
   },
   "outputs": [
    {
     "name": "stderr",
     "output_type": "stream",
     "text": [
      "Generating LALR tables\n"
     ]
    }
   ],
   "source": [
    "nd = nfa2dfa(re2nfa('00*(0+1*)'))"
   ]
  },
  {
   "cell_type": "code",
   "execution_count": 44,
   "metadata": {
    "id": "t4Z9LCwGBg9x"
   },
   "outputs": [],
   "source": [
    "mnd = min_dfa(nd, state_name_mode='verbose')"
   ]
  },
  {
   "cell_type": "code",
   "execution_count": 45,
   "metadata": {
    "colab": {
     "base_uri": "https://localhost:8080/"
    },
    "id": "SeWCDBA_Bg9y",
    "outputId": "6f06c3ee-8c46-4118-820e-36b744b7f55a"
   },
   "outputs": [
    {
     "name": "stdout",
     "output_type": "stream",
     "text": [
      "Help on function min_dfa in module jove.Def_DFA:\n",
      "\n",
      "min_dfa(D, state_name_mode='succinct', chatty=False)\n",
      "    The top-level callable DFA minimizer.\n",
      "    \n",
      "    In : D (consistent DFA to be minimized)\n",
      "    Out: Minimized version of D.\n",
      "    \n",
      "    Given a DFA D, go through the state minimization algorithm.\n",
      "    \n",
      "    Setting chatty=True helps reveal the detailed steps. Please try it!        \n",
      "    \n",
      "    If the state_name_mode is verbose, we will make state names\n",
      "    by stringing together the state names in the equivalence\n",
      "    classes. If 'succinct', then only the name of the equivalence-class\n",
      "    representative is retained.\n",
      "\n"
     ]
    }
   ],
   "source": [
    "help(min_dfa)"
   ]
  },
  {
   "cell_type": "code",
   "execution_count": 46,
   "metadata": {
    "colab": {
     "base_uri": "https://localhost:8080/"
    },
    "id": "GPmN5OkKBg95",
    "outputId": "63557e2b-74fb-4428-f759-61cba55fbb68"
   },
   "outputs": [
    {
     "data": {
      "text/plain": [
       "5"
      ]
     },
     "execution_count": 46,
     "metadata": {},
     "output_type": "execute_result"
    }
   ],
   "source": [
    "len(nd[\"Q\"])"
   ]
  },
  {
   "cell_type": "code",
   "execution_count": 47,
   "metadata": {
    "colab": {
     "base_uri": "https://localhost:8080/"
    },
    "id": "4koi5V0nBg97",
    "outputId": "3b8f6792-f137-4f9b-93e7-f6d3d8c54423"
   },
   "outputs": [
    {
     "data": {
      "text/plain": [
       "4"
      ]
     },
     "execution_count": 47,
     "metadata": {},
     "output_type": "execute_result"
    }
   ],
   "source": [
    "len(mnd[\"Q\"])"
   ]
  },
  {
   "cell_type": "code",
   "execution_count": 48,
   "metadata": {
    "colab": {
     "base_uri": "https://localhost:8080/",
     "height": 214
    },
    "id": "pNMCXj41Bg97",
    "outputId": "d208825b-50a7-453c-9d32-1890f7ae8d6e"
   },
   "outputs": [
    {
     "data": {
      "image/svg+xml": [
       "<?xml version=\"1.0\" encoding=\"UTF-8\" standalone=\"no\"?>\n",
       "<!DOCTYPE svg PUBLIC \"-//W3C//DTD SVG 1.1//EN\"\n",
       " \"http://www.w3.org/Graphics/SVG/1.1/DTD/svg11.dtd\">\n",
       "<!-- Generated by graphviz version 2.40.1 (20161225.0304)\n",
       " -->\n",
       "<!-- Title: %3 Pages: 1 -->\n",
       "<svg width=\"454pt\" height=\"144pt\"\n",
       " viewBox=\"0.00 0.00 454.18 143.80\" xmlns=\"http://www.w3.org/2000/svg\" xmlns:xlink=\"http://www.w3.org/1999/xlink\">\n",
       "<g id=\"graph0\" class=\"graph\" transform=\"scale(1 1) rotate(0) translate(4 139.7958)\">\n",
       "<title>%3</title>\n",
       "<polygon fill=\"#ffffff\" stroke=\"transparent\" points=\"-4,4 -4,-139.7958 450.1834,-139.7958 450.1834,4 -4,4\"/>\n",
       "<!-- EMPTY -->\n",
       "<g id=\"node1\" class=\"node\">\n",
       "<title>EMPTY</title>\n",
       "</g>\n",
       "<!-- St1 -->\n",
       "<g id=\"node2\" class=\"node\">\n",
       "<title>St1</title>\n",
       "<ellipse fill=\"none\" stroke=\"#000000\" cx=\"114.3979\" cy=\"-75.3979\" rx=\"23.2963\" ry=\"23.2963\"/>\n",
       "<text text-anchor=\"middle\" x=\"114.3979\" y=\"-71.6979\" font-family=\"Times,serif\" font-size=\"14.00\" fill=\"#000000\">St1</text>\n",
       "</g>\n",
       "<!-- EMPTY&#45;&gt;St1 -->\n",
       "<g id=\"edge1\" class=\"edge\">\n",
       "<title>EMPTY&#45;&gt;St1</title>\n",
       "<path fill=\"none\" stroke=\"#000000\" d=\"M54.1742,-75.3979C62.5103,-75.3979 71.7873,-75.3979 80.5137,-75.3979\"/>\n",
       "<polygon fill=\"#000000\" stroke=\"#000000\" points=\"80.7846,-78.898 90.7846,-75.3979 80.7845,-71.898 80.7846,-78.898\"/>\n",
       "</g>\n",
       "<!-- St2 -->\n",
       "<g id=\"node5\" class=\"node\">\n",
       "<title>St2</title>\n",
       "<ellipse fill=\"none\" stroke=\"#000000\" cx=\"213.1938\" cy=\"-75.3979\" rx=\"23.3111\" ry=\"23.3111\"/>\n",
       "<ellipse fill=\"none\" stroke=\"#000000\" cx=\"213.1938\" cy=\"-75.3979\" rx=\"27.2962\" ry=\"27.2962\"/>\n",
       "<text text-anchor=\"middle\" x=\"213.1938\" y=\"-71.6979\" font-family=\"Times,serif\" font-size=\"14.00\" fill=\"#000000\">St2</text>\n",
       "</g>\n",
       "<!-- St1&#45;&gt;St2 -->\n",
       "<g id=\"edge2\" class=\"edge\">\n",
       "<title>St1&#45;&gt;St2</title>\n",
       "<path fill=\"none\" stroke=\"#000000\" d=\"M137.8112,-75.3979C149.0451,-75.3979 162.7854,-75.3979 175.4437,-75.3979\"/>\n",
       "<polygon fill=\"#000000\" stroke=\"#000000\" points=\"175.7434,-78.898 185.7433,-75.3979 175.7433,-71.898 175.7434,-78.898\"/>\n",
       "<text text-anchor=\"middle\" x=\"161.7958\" y=\"-79.1979\" font-family=\"Times,serif\" font-size=\"14.00\" fill=\"#000000\">0 </text>\n",
       "</g>\n",
       "<!-- St4 -->\n",
       "<g id=\"node3\" class=\"node\">\n",
       "<title>St4</title>\n",
       "<ellipse fill=\"none\" stroke=\"#000000\" cx=\"418.7855\" cy=\"-75.3979\" rx=\"23.3111\" ry=\"23.3111\"/>\n",
       "<ellipse fill=\"none\" stroke=\"#000000\" cx=\"418.7855\" cy=\"-75.3979\" rx=\"27.2962\" ry=\"27.2962\"/>\n",
       "<text text-anchor=\"middle\" x=\"418.7855\" y=\"-71.6979\" font-family=\"Times,serif\" font-size=\"14.00\" fill=\"#000000\">St4</text>\n",
       "</g>\n",
       "<!-- St4&#45;&gt;St4 -->\n",
       "<g id=\"edge5\" class=\"edge\">\n",
       "<title>St4&#45;&gt;St4</title>\n",
       "<path fill=\"none\" stroke=\"#000000\" d=\"M409.4677,-101.523C408.9413,-112.0011 412.0472,-120.7958 418.7855,-120.7958 423.1022,-120.7958 425.9282,-117.1865 427.2634,-111.8374\"/>\n",
       "<polygon fill=\"#000000\" stroke=\"#000000\" points=\"430.7801,-111.7741 428.1032,-101.523 423.8032,-111.206 430.7801,-111.7741\"/>\n",
       "<text text-anchor=\"middle\" x=\"418.7855\" y=\"-124.5958\" font-family=\"Times,serif\" font-size=\"14.00\" fill=\"#000000\">1 </text>\n",
       "</g>\n",
       "<!-- St3 -->\n",
       "<g id=\"node4\" class=\"node\">\n",
       "<title>St3</title>\n",
       "<ellipse fill=\"none\" stroke=\"#000000\" cx=\"315.9896\" cy=\"-27.3979\" rx=\"23.3111\" ry=\"23.3111\"/>\n",
       "<ellipse fill=\"none\" stroke=\"#000000\" cx=\"315.9896\" cy=\"-27.3979\" rx=\"27.2962\" ry=\"27.2962\"/>\n",
       "<text text-anchor=\"middle\" x=\"315.9896\" y=\"-23.6979\" font-family=\"Times,serif\" font-size=\"14.00\" fill=\"#000000\">St3</text>\n",
       "</g>\n",
       "<!-- St3&#45;&gt;St4 -->\n",
       "<g id=\"edge6\" class=\"edge\">\n",
       "<title>St3&#45;&gt;St4</title>\n",
       "<path fill=\"none\" stroke=\"#000000\" d=\"M340.8736,-39.0174C354.0341,-45.1626 370.3882,-52.7991 384.7102,-59.4866\"/>\n",
       "<polygon fill=\"#000000\" stroke=\"#000000\" points=\"383.2326,-62.6594 393.7743,-63.7191 386.1943,-56.3168 383.2326,-62.6594\"/>\n",
       "<text text-anchor=\"middle\" x=\"367.3875\" y=\"-56.1979\" font-family=\"Times,serif\" font-size=\"14.00\" fill=\"#000000\">1 </text>\n",
       "</g>\n",
       "<!-- St3&#45;&gt;St3 -->\n",
       "<g id=\"edge7\" class=\"edge\">\n",
       "<title>St3&#45;&gt;St3</title>\n",
       "<path fill=\"none\" stroke=\"#000000\" d=\"M306.6718,-53.523C306.1454,-64.0011 309.2513,-72.7958 315.9896,-72.7958 320.3063,-72.7958 323.1323,-69.1865 324.4676,-63.8374\"/>\n",
       "<polygon fill=\"#000000\" stroke=\"#000000\" points=\"327.9842,-63.7741 325.3074,-53.523 321.0073,-63.206 327.9842,-63.7741\"/>\n",
       "<text text-anchor=\"middle\" x=\"315.9896\" y=\"-76.5958\" font-family=\"Times,serif\" font-size=\"14.00\" fill=\"#000000\">0 </text>\n",
       "</g>\n",
       "<!-- St2&#45;&gt;St4 -->\n",
       "<g id=\"edge3\" class=\"edge\">\n",
       "<title>St2&#45;&gt;St4</title>\n",
       "<path fill=\"none\" stroke=\"#000000\" d=\"M239.3439,-84.5703C253.6861,-89.1182 271.8975,-94.1165 288.5917,-96.3979 312.7211,-99.6955 319.2581,-99.6955 343.3875,-96.3979 356.4298,-94.6156 370.3983,-91.1749 382.7242,-87.5863\"/>\n",
       "<polygon fill=\"#000000\" stroke=\"#000000\" points=\"384.0875,-90.83 392.6353,-84.5703 382.0495,-84.1333 384.0875,-90.83\"/>\n",
       "<text text-anchor=\"middle\" x=\"315.9896\" y=\"-102.1979\" font-family=\"Times,serif\" font-size=\"14.00\" fill=\"#000000\">1 </text>\n",
       "</g>\n",
       "<!-- St2&#45;&gt;St3 -->\n",
       "<g id=\"edge4\" class=\"edge\">\n",
       "<title>St2&#45;&gt;St3</title>\n",
       "<path fill=\"none\" stroke=\"#000000\" d=\"M238.0778,-63.7785C251.2382,-57.6333 267.5924,-49.9968 281.9143,-43.3092\"/>\n",
       "<polygon fill=\"#000000\" stroke=\"#000000\" points=\"283.3984,-46.479 290.9785,-39.0767 280.4368,-40.1364 283.3984,-46.479\"/>\n",
       "<text text-anchor=\"middle\" x=\"264.5917\" y=\"-56.1979\" font-family=\"Times,serif\" font-size=\"14.00\" fill=\"#000000\">0 </text>\n",
       "</g>\n",
       "</g>\n",
       "</svg>\n"
      ],
      "text/plain": [
       "<graphviz.dot.Digraph at 0x7fc7e6bb6f50>"
      ]
     },
     "execution_count": 48,
     "metadata": {},
     "output_type": "execute_result"
    }
   ],
   "source": [
    "dotObj_dfa(nd, STATENAME_MAXSIZE=40)"
   ]
  },
  {
   "cell_type": "code",
   "execution_count": 49,
   "metadata": {
    "colab": {
     "base_uri": "https://localhost:8080/",
     "height": 196
    },
    "id": "V_7doEXrBg98",
    "outputId": "addb86b9-6c1f-4e43-8f20-7a8a4da9cc64",
    "scrolled": true
   },
   "outputs": [
    {
     "data": {
      "image/svg+xml": [
       "<?xml version=\"1.0\" encoding=\"UTF-8\" standalone=\"no\"?>\n",
       "<!DOCTYPE svg PUBLIC \"-//W3C//DTD SVG 1.1//EN\"\n",
       " \"http://www.w3.org/Graphics/SVG/1.1/DTD/svg11.dtd\">\n",
       "<!-- Generated by graphviz version 2.40.1 (20161225.0304)\n",
       " -->\n",
       "<!-- Title: %3 Pages: 1 -->\n",
       "<svg width=\"386pt\" height=\"131pt\"\n",
       " viewBox=\"0.00 0.00 386.48 130.89\" xmlns=\"http://www.w3.org/2000/svg\" xmlns:xlink=\"http://www.w3.org/1999/xlink\">\n",
       "<g id=\"graph0\" class=\"graph\" transform=\"scale(1 1) rotate(0) translate(4 126.8927)\">\n",
       "<title>%3</title>\n",
       "<polygon fill=\"#ffffff\" stroke=\"transparent\" points=\"-4,4 -4,-126.8927 382.4844,-126.8927 382.4844,4 -4,4\"/>\n",
       "<!-- EMPTY -->\n",
       "<g id=\"node1\" class=\"node\">\n",
       "<title>EMPTY</title>\n",
       "</g>\n",
       "<!-- St1 -->\n",
       "<g id=\"node2\" class=\"node\">\n",
       "<title>St1</title>\n",
       "<ellipse fill=\"none\" stroke=\"#000000\" cx=\"114.3979\" cy=\"-44.9464\" rx=\"23.2963\" ry=\"23.2963\"/>\n",
       "<text text-anchor=\"middle\" x=\"114.3979\" y=\"-41.2464\" font-family=\"Times,serif\" font-size=\"14.00\" fill=\"#000000\">St1</text>\n",
       "</g>\n",
       "<!-- EMPTY&#45;&gt;St1 -->\n",
       "<g id=\"edge1\" class=\"edge\">\n",
       "<title>EMPTY&#45;&gt;St1</title>\n",
       "<path fill=\"none\" stroke=\"#000000\" d=\"M54.1742,-44.9464C62.5103,-44.9464 71.7873,-44.9464 80.5137,-44.9464\"/>\n",
       "<polygon fill=\"#000000\" stroke=\"#000000\" points=\"80.7846,-48.4465 90.7846,-44.9464 80.7845,-41.4465 80.7846,-48.4465\"/>\n",
       "</g>\n",
       "<!-- St3_St2 -->\n",
       "<g id=\"node4\" class=\"node\">\n",
       "<title>St3_St2</title>\n",
       "<ellipse fill=\"none\" stroke=\"#000000\" cx=\"230.7422\" cy=\"-44.9464\" rx=\"40.8976\" ry=\"40.8976\"/>\n",
       "<ellipse fill=\"none\" stroke=\"#000000\" cx=\"230.7422\" cy=\"-44.9464\" rx=\"44.8928\" ry=\"44.8928\"/>\n",
       "<text text-anchor=\"middle\" x=\"230.7422\" y=\"-41.2464\" font-family=\"Times,serif\" font-size=\"14.00\" fill=\"#000000\">St3_St2</text>\n",
       "</g>\n",
       "<!-- St1&#45;&gt;St3_St2 -->\n",
       "<g id=\"edge2\" class=\"edge\">\n",
       "<title>St1&#45;&gt;St3_St2</title>\n",
       "<path fill=\"none\" stroke=\"#000000\" d=\"M137.9419,-44.9464C148.8417,-44.9464 162.2916,-44.9464 175.536,-44.9464\"/>\n",
       "<polygon fill=\"#000000\" stroke=\"#000000\" points=\"175.5784,-48.4465 185.5783,-44.9464 175.5783,-41.4465 175.5784,-48.4465\"/>\n",
       "<text text-anchor=\"middle\" x=\"161.7958\" y=\"-48.7464\" font-family=\"Times,serif\" font-size=\"14.00\" fill=\"#000000\">0 </text>\n",
       "</g>\n",
       "<!-- St4 -->\n",
       "<g id=\"node3\" class=\"node\">\n",
       "<title>St4</title>\n",
       "<ellipse fill=\"none\" stroke=\"#000000\" cx=\"351.0865\" cy=\"-44.9464\" rx=\"23.3111\" ry=\"23.3111\"/>\n",
       "<ellipse fill=\"none\" stroke=\"#000000\" cx=\"351.0865\" cy=\"-44.9464\" rx=\"27.2962\" ry=\"27.2962\"/>\n",
       "<text text-anchor=\"middle\" x=\"351.0865\" y=\"-41.2464\" font-family=\"Times,serif\" font-size=\"14.00\" fill=\"#000000\">St4</text>\n",
       "</g>\n",
       "<!-- St4&#45;&gt;St4 -->\n",
       "<g id=\"edge5\" class=\"edge\">\n",
       "<title>St4&#45;&gt;St4</title>\n",
       "<path fill=\"none\" stroke=\"#000000\" d=\"M341.7687,-71.0714C341.2423,-81.5496 344.3482,-90.3443 351.0865,-90.3443 355.4032,-90.3443 358.2292,-86.7349 359.5645,-81.3859\"/>\n",
       "<polygon fill=\"#000000\" stroke=\"#000000\" points=\"363.0811,-81.3225 360.4043,-71.0714 356.1042,-80.7544 363.0811,-81.3225\"/>\n",
       "<text text-anchor=\"middle\" x=\"351.0865\" y=\"-94.1443\" font-family=\"Times,serif\" font-size=\"14.00\" fill=\"#000000\">1 </text>\n",
       "</g>\n",
       "<!-- St3_St2&#45;&gt;St4 -->\n",
       "<g id=\"edge3\" class=\"edge\">\n",
       "<title>St3_St2&#45;&gt;St4</title>\n",
       "<path fill=\"none\" stroke=\"#000000\" d=\"M275.8964,-44.9464C288.2768,-44.9464 301.5633,-44.9464 313.4716,-44.9464\"/>\n",
       "<polygon fill=\"#000000\" stroke=\"#000000\" points=\"313.5243,-48.4465 323.5243,-44.9464 313.5242,-41.4465 313.5243,-48.4465\"/>\n",
       "<text text-anchor=\"middle\" x=\"299.6886\" y=\"-48.7464\" font-family=\"Times,serif\" font-size=\"14.00\" fill=\"#000000\">1 </text>\n",
       "</g>\n",
       "<!-- St3_St2&#45;&gt;St3_St2 -->\n",
       "<g id=\"edge4\" class=\"edge\">\n",
       "<title>St3_St2&#45;&gt;St3_St2</title>\n",
       "<path fill=\"none\" stroke=\"#000000\" d=\"M218.1237,-88.1941C218.8993,-99.4245 223.1055,-107.8927 230.7422,-107.8927 235.8731,-107.8927 239.4554,-104.07 241.4892,-98.1552\"/>\n",
       "<polygon fill=\"#000000\" stroke=\"#000000\" points=\"244.9539,-98.6684 243.3607,-88.1941 238.0743,-97.3758 244.9539,-98.6684\"/>\n",
       "<text text-anchor=\"middle\" x=\"230.7422\" y=\"-111.6927\" font-family=\"Times,serif\" font-size=\"14.00\" fill=\"#000000\">0 </text>\n",
       "</g>\n",
       "</g>\n",
       "</svg>\n"
      ],
      "text/plain": [
       "<graphviz.dot.Digraph at 0x7fc7e6bb6990>"
      ]
     },
     "execution_count": 49,
     "metadata": {},
     "output_type": "execute_result"
    }
   ],
   "source": [
    "dotObj_dfa(mnd)"
   ]
  },
  {
   "cell_type": "code",
   "execution_count": null,
   "metadata": {
    "id": "rz6k6nwbJYNV"
   },
   "outputs": [],
   "source": []
  }
 ],
 "metadata": {
  "colab": {
   "provenance": []
  },
  "kernelspec": {
   "display_name": "Python 3 (ipykernel)",
   "language": "python",
   "name": "python3"
  },
  "language_info": {
   "codemirror_mode": {
    "name": "ipython",
    "version": 3
   },
   "file_extension": ".py",
   "mimetype": "text/x-python",
   "name": "python",
   "nbconvert_exporter": "python",
   "pygments_lexer": "ipython3",
   "version": "3.12.3"
  },
  "toc": {
   "colors": {
    "hover_highlight": "#DAA520",
    "running_highlight": "#FF0000",
    "selected_highlight": "#FFD700"
   },
   "moveMenuLeft": true,
   "nav_menu": {
    "height": "318px",
    "width": "252px"
   },
   "navigate_menu": true,
   "number_sections": true,
   "sideBar": true,
   "threshold": 4,
   "toc_cell": false,
   "toc_section_display": "block",
   "toc_window_display": false,
   "widenNotebook": false
  }
 },
 "nbformat": 4,
 "nbformat_minor": 4
}
