{
 "cells": [
  {
   "cell_type": "markdown",
   "metadata": {
    "id": "view-in-github",
    "colab_type": "text"
   },
   "source": [
    "<a href=\"https://colab.research.google.com/github/ganeshutah/Jove/blob/master/For_CS3100_Fall2024/06_RE/ASSIGNMENT-3/uABCDEFG_asg03.ipynb\" target=\"_parent\"><img src=\"https://colab.research.google.com/assets/colab-badge.svg\" alt=\"Open In Colab\"/></a>"
   ]
  },
  {
   "cell_type": "code",
   "execution_count": 37,
   "metadata": {
    "id": "2mGV-Aw3qw8I",
    "ExecuteTime": {
     "end_time": "2024-09-21T01:18:53.952011Z",
     "start_time": "2024-09-21T01:18:53.947407Z"
    }
   },
   "outputs": [],
   "source": [
    "#~~~~~~~~~~~~~~~~~~~~~~~~~~~~~~~~~~~~~~~~~~~~~~~~~~~~~~~\n",
    "# If you want to clear outputs for a \"fresh look\", go to Edit and hit \"clear outputs\"\n",
    "#~~~~~~~~~~~~~~~~~~~~~~~~~~~~~~~~~~~~~~~~~~~~~~~~~~~~~~~\n",
    "import sys\n",
    "\n",
    "# -- Detect if in Own Install or in Colab\n",
    "try:\n",
    "    import google.colab\n",
    "    OWN_INSTALL = False\n",
    "except:\n",
    "    OWN_INSTALL = True\n",
    "\n",
    "if OWN_INSTALL:\n",
    "\n",
    "  #---- Leave these definitions ON if running on laptop\n",
    "  #---- Else turn OFF by putting them between ''' ... '''\n",
    "\n",
    "  sys.path[0:0] = ['../../../../..',  '../../../../../3rdparty',\n",
    "                   '../../../..',  '../../../../3rdparty',\n",
    "                   '../../..',     '../../../3rdparty',\n",
    "                   '../..',        '../../3rdparty',\n",
    "                   '..',           '../3rdparty' ]\n",
    "\n",
    "else: # In colab\n",
    "  ! if [ ! -d Jove ]; then git clone https://github.com/ganeshutah/Jove Jove; fi\n",
    "  sys.path.append('./Jove')\n",
    "  sys.path.append('./Jove/jove')\n",
    "\n",
    "# -- common imports --\n",
    "\n",
    "from jove.LangDef   import *  #-- mainly for nthnumeric\n",
    "from jove.Def_md2mc import *  #-- for md2mc\n",
    "from jove.Def_DFA   import *  #-- for all DFA functions\n",
    "from jove.DotBashers import * #-- for dotObj_dfa\n",
    "\n",
    "from jove.Def_NFA import *\n",
    "from jove.Def_RE2NFA import *\n",
    "from jove.Def_NFA2RE import * #-- to check Even010 via RE and NFA\n",
    "#~~~~~~~~~~~~~~~~~~~~~~~~~~~~~~~~~~~~~~~~~~~~~~~~~~~~~~~"
   ]
  },
  {
   "cell_type": "markdown",
   "source": [
    "---------------------\n",
    "---------------------"
   ],
   "metadata": {
    "id": "cwsTgwWmmq5g"
   }
  },
  {
   "cell_type": "markdown",
   "source": [
    "#### This assignment has a simple-to-state goal:\n",
    "* Design a minimal DFA for the language\n",
    " $ Pattern_{010} =   ( \\;\\; \\overline {\\{0,1\\}^* \\; \\{010\\}\\; \\{0,1\\}^* }\\;\\; (010) \\;\\; \\overline {\\{0,1\\}^* \\{010\\}\\{0,1\\}^*} \\;\\; (010)\\;\\; )^*  $"
   ],
   "metadata": {
    "id": "Z6_xpgRImKSf"
   }
  },
  {
   "cell_type": "markdown",
   "source": [
    "---------------------\n",
    "---------------------"
   ],
   "metadata": {
    "id": "y8s1_ls4mm73"
   }
  },
  {
   "cell_type": "markdown",
   "source": [
    "#### $Pattern_{010}$ is the language of repeating blocks of 010, where each such block is preceded by any string from a language where 010 does not occur.\n",
    "\n",
    "* Observe that there is no regular expression (RE) that directly captures $Pattern_{010}$.\n",
    "* Your goal is to obtain that RE (which, for us, allows only union, concatenation and star) using the functions you'll be learning across the chapters\n",
    "* Specifically, you'll be using these functions (and only these). You may **not design** any NFA or DFA from scratch using md2mc:\n",
    "\n",
    "  - re2nfa\n",
    "  - nfa2dfa\n",
    "  - dfa2nfa\n",
    "  - min_dfa or min_dfa_brz\n",
    "  - mk_gnfa\n",
    "  - del_gnfa_states which is to convert NFA to RE\n",
    "  - comp_dfa\n",
    "\n",
    "* Approach:\n",
    "  - Obtain RE for the constituents of $Pattern_{010}$. Use only the above operations.\n",
    "  - Name each constituent clearly - such as RE_first_block, RE_first_block_complement, etc.\n",
    "     - RE_first_block = ...\n",
    "     - RE_another_purpose = ...\n",
    "  - Once all the REs are in place, use Python's String concatenation to form an RE for the whole $Pattern_{010}$.\n",
    "    - Example: Pattern_010_RE = \"(\" + RE_First_Block + ... + \")\"\n",
    "\n",
    "* Then work on Pattern_010_RE to get the final answer DFA, the minimal DFA for it, _calling it_ **Pattern_010_Min_DFA**\n",
    "\n",
    "* Document each step using a preceding text-box with a few lines of code\n",
    "\n",
    "* I am leaving some space for you to simulate  **Pattern_010_Min_DFA**   on some \"must accept\" strings and \"must reject\" strings.\n",
    "\n",
    "* You are to come up with a few additional test-strings also (at least two per class).\n",
    "\n",
    "* **Much like in programming, debug each part thoroughly** but in a way specific to Jove. Here is a specific suggestion:\n",
    "  - Suppose you think of only the first part of the repetition\n",
    "  - i.e. Half_Pat =  $( \\;\\; \\overline { \\{0,1\\}^* \\; \\{010\\}\\; \\{0,1\\}^* } \\;\\;\\; (010) \\;\\; )^*  $,\n",
    "  - then does the intersection of the DFA for Half_Pat and Pattern_010_RE make sense?  Does it help you check your work? Please do this and note down your observations.\n",
    "  \n",
    "#### There will be about 8-12 step depending on your approach. Some steps will take more work (such as del_gnfa_states). Those will have higher point-values. The exact number of steps will not be a criterion for grading, but rather how you document your steps.\n",
    "\n",
    "#### **In your coding, you'll be using del_gnfa_states**. In that function, an array called DO[..] is used. Please list the contents of the array one-by-one. E.g. evaluate DO[0], then DO[1], etc, all the way to DO[size-1-of-DO] where size-1-of-DO is the DO size minus one.  The size-1-of-DO will be either the number of states of the starting NFA or maybe +/- 1 (please find out).\n",
    "\n",
    "#### I'm asking you to evaluate DO[0], DO[1] etc in separate cells mainly to document the steps of the NFA to RE conversion that we will be studying in class. I.e. the final RE you need for your work does not need these intermediate arrays.\n",
    "\n",
    "####  If there are repeating parts of a language (e.g. the complemented part) you should compute its RE only once and use it again.\n",
    "\n",
    "#### **The final minimal DFA Pattern_010_Min_DFA will have exactly 28 states.** If you get this result, you should feel very good -- this is because minimal DFA are unique. Still you must document all intermediate steps to earn your points.\n",
    "\n",
    "-------\n",
    "\n",
    "##*What to submit*\n",
    "\n",
    "### Please read Piazza note @121 that clarifies what to submit.\n",
    "\n",
    "### Specifically:\n",
    "\n",
    "#### * Download the ipynb\n",
    "#### * Run all the tests and then File->Print to obtain a PDF\n",
    "#### * Submit both the .ipynb and .pdf files\n"
   ],
   "metadata": {
    "id": "96Z0du2xm1Vz"
   }
  },
  {
   "cell_type": "markdown",
   "source": [
    "---------------------\n",
    "---------------------"
   ],
   "metadata": {
    "id": "UjN7ni5AmxQT"
   }
  },
  {
   "cell_type": "code",
   "source": [
    "#  Goal: RE_First_Block\n",
    "RE_under_comp = '(0+1)* 010 (0+1)*'\n",
    "NFA_First_Block = re2nfa(RE_under_comp)"
   ],
   "metadata": {
    "id": "lI7KWqFryzPG",
    "ExecuteTime": {
     "end_time": "2024-09-21T01:18:53.984320Z",
     "start_time": "2024-09-21T01:18:53.982079Z"
    }
   },
   "execution_count": 38,
   "outputs": []
  },
  {
   "cell_type": "code",
   "source": [
    "DFA_First_Block = nfa2dfa(NFA_First_Block)"
   ],
   "metadata": {
    "id": "AQtXn8uL1Ghe",
    "ExecuteTime": {
     "end_time": "2024-09-21T01:18:53.999874Z",
     "start_time": "2024-09-21T01:18:53.997470Z"
    }
   },
   "execution_count": 39,
   "outputs": []
  },
  {
   "cell_type": "code",
   "source": [
    "# ... Fill the remaining cells ..."
   ],
   "metadata": {
    "id": "8Nq5vue_w3zi",
    "ExecuteTime": {
     "end_time": "2024-09-21T01:18:54.002387Z",
     "start_time": "2024-09-21T01:18:54.000895Z"
    }
   },
   "execution_count": 40,
   "outputs": []
  },
  {
   "cell_type": "markdown",
   "source": [
    "### There will be many steps. Document each clearly, numbering them sequentually in Markdown\n",
    "\n",
    "\n",
    "#### *HINT* : The only machine for which we defined complementation is a DFA. That is a key step in places where the language expression in question is under a complementation."
   ],
   "metadata": {
    "id": "4c-v5iDP3Jk1"
   }
  },
  {
   "cell_type": "markdown",
   "source": [
    "### Step 1: Construct complement of First_Block"
   ],
   "metadata": {
    "collapsed": false
   }
  },
  {
   "cell_type": "code",
   "outputs": [],
   "source": [
    "DFA_Comp_First_Block = comp_dfa(DFA_First_Block)"
   ],
   "metadata": {
    "collapsed": false,
    "ExecuteTime": {
     "end_time": "2024-09-21T01:18:54.008521Z",
     "start_time": "2024-09-21T01:18:54.007015Z"
    }
   },
   "execution_count": 41
  },
  {
   "cell_type": "markdown",
   "source": [
    "### Step 2: Construct NFA from complement of DFA_First_Block"
   ],
   "metadata": {
    "collapsed": false
   }
  },
  {
   "cell_type": "code",
   "outputs": [],
   "source": [
    "NFA_Comp_First_Block = dfa2nfa(DFA_Comp_First_Block)"
   ],
   "metadata": {
    "collapsed": false,
    "ExecuteTime": {
     "end_time": "2024-09-21T01:18:54.019948Z",
     "start_time": "2024-09-21T01:18:54.018107Z"
    }
   },
   "execution_count": 42
  },
  {
   "cell_type": "markdown",
   "source": [
    "### Step 3: Convert NFA_Comp_First_Block to RE"
   ],
   "metadata": {
    "collapsed": false
   }
  },
  {
   "cell_type": "code",
   "outputs": [
    {
     "name": "stdout",
     "output_type": "stream",
     "text": [
      "**** Eliminating state St1 ****\n",
      "**** Eliminating state St3 ****\n",
      "**** Eliminating state St4 ****\n",
      "**** Eliminating state St8 ****\n",
      "**** Eliminating state St5 ****\n",
      "**** Eliminating state St7 ****\n",
      "**** Eliminating state St0 ****\n",
      "**** Eliminating state St2 ****\n",
      "**** Eliminating state St6 ****\n"
     ]
    }
   ],
   "source": [
    "temp1 = mk_gnfa(NFA_Comp_First_Block)\n",
    "temp2 = del_gnfa_states(temp1)\n",
    "RE_comp_first_block = temp2[2]"
   ],
   "metadata": {
    "collapsed": false,
    "ExecuteTime": {
     "end_time": "2024-09-21T01:18:54.032822Z",
     "start_time": "2024-09-21T01:18:54.026042Z"
    }
   },
   "execution_count": 43
  },
  {
   "cell_type": "markdown",
   "source": [
    "### Step 4: Construct NFA for Second Block"
   ],
   "metadata": {
    "collapsed": false
   }
  },
  {
   "cell_type": "code",
   "outputs": [],
   "source": [
    "RE_under_comp = '(0+1)*010(0+1)*'\n",
    "NFA_Second_Block = re2nfa(RE_under_comp)"
   ],
   "metadata": {
    "collapsed": false,
    "ExecuteTime": {
     "end_time": "2024-09-21T01:18:54.036218Z",
     "start_time": "2024-09-21T01:18:54.033912Z"
    }
   },
   "execution_count": 44
  },
  {
   "cell_type": "markdown",
   "source": [
    "### Step 5: Construct DFA for Second Block"
   ],
   "metadata": {
    "collapsed": false
   }
  },
  {
   "cell_type": "code",
   "outputs": [],
   "source": [
    "DFA_Second_Block = nfa2dfa(NFA_Second_Block)"
   ],
   "metadata": {
    "collapsed": false,
    "ExecuteTime": {
     "end_time": "2024-09-21T01:18:54.039210Z",
     "start_time": "2024-09-21T01:18:54.036933Z"
    }
   },
   "execution_count": 45
  },
  {
   "cell_type": "markdown",
   "source": [
    "### Step 6: Construct complement of DFA_Second_Block"
   ],
   "metadata": {
    "collapsed": false
   }
  },
  {
   "cell_type": "code",
   "outputs": [],
   "source": [
    "DFA_Comp_Second_Block = comp_dfa(DFA_Second_Block)"
   ],
   "metadata": {
    "collapsed": false,
    "ExecuteTime": {
     "end_time": "2024-09-21T01:18:54.041729Z",
     "start_time": "2024-09-21T01:18:54.040254Z"
    }
   },
   "execution_count": 46
  },
  {
   "cell_type": "markdown",
   "source": [
    "### Step 7: Construct NFA from DFA_Comp_Second_Block"
   ],
   "metadata": {
    "collapsed": false
   }
  },
  {
   "cell_type": "code",
   "outputs": [],
   "source": [
    "NFA_Comp_Second_Block = dfa2nfa(DFA_Comp_Second_Block)"
   ],
   "metadata": {
    "collapsed": false,
    "ExecuteTime": {
     "end_time": "2024-09-21T01:18:54.057841Z",
     "start_time": "2024-09-21T01:18:54.056245Z"
    }
   },
   "execution_count": 47
  },
  {
   "cell_type": "markdown",
   "source": [
    "### Step 8: Convert NFA_Comp_Second_Block to RE"
   ],
   "metadata": {
    "collapsed": false
   }
  },
  {
   "cell_type": "code",
   "outputs": [
    {
     "name": "stdout",
     "output_type": "stream",
     "text": [
      "**** Eliminating state St1 ****\n",
      "**** Eliminating state St3 ****\n",
      "**** Eliminating state St4 ****\n",
      "**** Eliminating state St8 ****\n",
      "**** Eliminating state St5 ****\n",
      "**** Eliminating state St7 ****\n",
      "**** Eliminating state St0 ****\n",
      "**** Eliminating state St2 ****\n",
      "**** Eliminating state St6 ****\n"
     ]
    }
   ],
   "source": [
    "temp1 = mk_gnfa(NFA_Comp_Second_Block)\n",
    "temp2 = del_gnfa_states(temp1)\n",
    "RE_Comp_second_Block = temp2[2]"
   ],
   "metadata": {
    "collapsed": false,
    "ExecuteTime": {
     "end_time": "2024-09-21T01:18:54.065478Z",
     "start_time": "2024-09-21T01:18:54.058806Z"
    }
   },
   "execution_count": 48
  },
  {
   "cell_type": "markdown",
   "source": [
    "### Step 9: Concatenate blocks for Pattern_010"
   ],
   "metadata": {
    "collapsed": false
   }
  },
  {
   "cell_type": "code",
   "outputs": [],
   "source": [
    "RE_pattern_010 = f'( {RE_comp_first_block} (010) {RE_Comp_second_Block} (010) )*'"
   ],
   "metadata": {
    "collapsed": false,
    "ExecuteTime": {
     "end_time": "2024-09-21T01:18:54.068759Z",
     "start_time": "2024-09-21T01:18:54.067288Z"
    }
   },
   "execution_count": 49
  },
  {
   "cell_type": "markdown",
   "source": [
    "### Step 10: Construct NFA from RE_pattern_010"
   ],
   "metadata": {
    "collapsed": false
   }
  },
  {
   "cell_type": "code",
   "outputs": [],
   "source": [
    "NFA_Pattern_010 = re2nfa(RE_pattern_010)"
   ],
   "metadata": {
    "collapsed": false,
    "ExecuteTime": {
     "end_time": "2024-09-21T01:18:54.072848Z",
     "start_time": "2024-09-21T01:18:54.069725Z"
    }
   },
   "execution_count": 50
  },
  {
   "cell_type": "markdown",
   "source": [
    "### Step 11: Convert NFA_Pattern_010 to DFA"
   ],
   "metadata": {
    "collapsed": false
   }
  },
  {
   "cell_type": "code",
   "outputs": [],
   "source": [
    "DFA_Pattern_010 = nfa2dfa(NFA_Pattern_010)"
   ],
   "metadata": {
    "collapsed": false,
    "ExecuteTime": {
     "end_time": "2024-09-21T01:18:54.091860Z",
     "start_time": "2024-09-21T01:18:54.073765Z"
    }
   },
   "execution_count": 51
  },
  {
   "cell_type": "markdown",
   "source": [
    "### Step 12: Minimize DFA_Pattern_010"
   ],
   "metadata": {
    "collapsed": false
   }
  },
  {
   "cell_type": "code",
   "outputs": [
    {
     "data": {
      "image/svg+xml": "<?xml version=\"1.0\" encoding=\"UTF-8\" standalone=\"no\"?>\n<!DOCTYPE svg PUBLIC \"-//W3C//DTD SVG 1.1//EN\"\n \"http://www.w3.org/Graphics/SVG/1.1/DTD/svg11.dtd\">\n<!-- Generated by graphviz version 12.1.1 (20240910.0053)\n -->\n<!-- Pages: 1 -->\n<svg width=\"1803pt\" height=\"623pt\"\n viewBox=\"0.00 0.00 1803.27 622.50\" xmlns=\"http://www.w3.org/2000/svg\" xmlns:xlink=\"http://www.w3.org/1999/xlink\">\n<g id=\"graph0\" class=\"graph\" transform=\"scale(1 1) rotate(0) translate(4 618.5)\">\n<polygon fill=\"white\" stroke=\"none\" points=\"-4,4 -4,-618.5 1799.27,-618.5 1799.27,4 -4,4\"/>\n<!-- EMPTY -->\n<g id=\"node1\" class=\"node\">\n<title>EMPTY</title>\n</g>\n<!-- St11 -->\n<g id=\"node28\" class=\"node\">\n<title>St11</title>\n<ellipse fill=\"none\" stroke=\"black\" cx=\"122.81\" cy=\"-553\" rx=\"27.81\" ry=\"27.81\"/>\n<ellipse fill=\"none\" stroke=\"black\" cx=\"122.81\" cy=\"-553\" rx=\"31.81\" ry=\"31.81\"/>\n<text text-anchor=\"middle\" x=\"122.81\" y=\"-547.95\" font-family=\"Times,serif\" font-size=\"14.00\">St11</text>\n</g>\n<!-- EMPTY&#45;&gt;St11 -->\n<g id=\"edge1\" class=\"edge\">\n<title>EMPTY&#45;&gt;St11</title>\n<path fill=\"none\" stroke=\"black\" d=\"M53.63,-553C61.55,-553 70.5,-553 79.25,-553\"/>\n<polygon fill=\"black\" stroke=\"black\" points=\"79.01,-556.5 89.01,-553 79.01,-549.5 79.01,-556.5\"/>\n</g>\n<!-- St14 -->\n<g id=\"node2\" class=\"node\">\n<title>St14</title>\n<ellipse fill=\"none\" stroke=\"black\" cx=\"637.39\" cy=\"-103\" rx=\"27.81\" ry=\"27.81\"/>\n<text text-anchor=\"middle\" x=\"637.39\" y=\"-97.95\" font-family=\"Times,serif\" font-size=\"14.00\">St14</text>\n</g>\n<!-- St33 -->\n<g id=\"node16\" class=\"node\">\n<title>St33</title>\n<ellipse fill=\"none\" stroke=\"black\" cx=\"739.51\" cy=\"-91\" rx=\"27.81\" ry=\"27.81\"/>\n<text text-anchor=\"middle\" x=\"739.51\" y=\"-85.95\" font-family=\"Times,serif\" font-size=\"14.00\">St33</text>\n</g>\n<!-- St14&#45;&gt;St33 -->\n<g id=\"edge19\" class=\"edge\">\n<title>St14&#45;&gt;St33</title>\n<path fill=\"none\" stroke=\"black\" d=\"M665.48,-99.75C676.17,-98.47 688.63,-96.98 700.21,-95.59\"/>\n<polygon fill=\"black\" stroke=\"black\" points=\"700.38,-99.1 709.89,-94.43 699.54,-92.15 700.38,-99.1\"/>\n<text text-anchor=\"middle\" x=\"688.45\" y=\"-100.56\" font-family=\"Times,serif\" font-size=\"14.00\">0 </text>\n</g>\n<!-- St48 -->\n<g id=\"node22\" class=\"node\">\n<title>St48</title>\n<ellipse fill=\"none\" stroke=\"black\" cx=\"841.62\" cy=\"-221\" rx=\"27.81\" ry=\"27.81\"/>\n<text text-anchor=\"middle\" x=\"841.62\" y=\"-215.95\" font-family=\"Times,serif\" font-size=\"14.00\">St48</text>\n</g>\n<!-- St14&#45;&gt;St48 -->\n<g id=\"edge18\" class=\"edge\">\n<title>St14&#45;&gt;St48</title>\n<path fill=\"none\" stroke=\"black\" d=\"M658.53,-121.5C672.71,-133.93 692.52,-150.15 711.7,-162 741.7,-180.54 778.5,-196.8 805.09,-207.53\"/>\n<polygon fill=\"black\" stroke=\"black\" points=\"803.46,-210.65 814.05,-211.09 806.04,-204.15 803.46,-210.65\"/>\n<text text-anchor=\"middle\" x=\"739.51\" y=\"-194.34\" font-family=\"Times,serif\" font-size=\"14.00\">1 </text>\n</g>\n<!-- St30 -->\n<g id=\"node3\" class=\"node\">\n<title>St30</title>\n<ellipse fill=\"none\" stroke=\"black\" cx=\"1461.11\" cy=\"-410\" rx=\"27.81\" ry=\"27.81\"/>\n<text text-anchor=\"middle\" x=\"1461.11\" y=\"-404.95\" font-family=\"Times,serif\" font-size=\"14.00\">St30</text>\n</g>\n<!-- St30&#45;&gt;St30 -->\n<g id=\"edge33\" class=\"edge\">\n<title>St30&#45;&gt;St30</title>\n<path fill=\"none\" stroke=\"black\" d=\"M1451.59,-436.36C1451.06,-446.93 1454.23,-455.81 1461.11,-455.81 1465.3,-455.81 1468.12,-452.51 1469.56,-447.55\"/>\n<polygon fill=\"black\" stroke=\"black\" points=\"1473.01,-448.16 1470.48,-437.87 1466.05,-447.49 1473.01,-448.16\"/>\n<text text-anchor=\"middle\" x=\"1461.11\" y=\"-459.01\" font-family=\"Times,serif\" font-size=\"14.00\">0 </text>\n</g>\n<!-- St46 -->\n<g id=\"node12\" class=\"node\">\n<title>St46</title>\n<ellipse fill=\"none\" stroke=\"black\" cx=\"1563.23\" cy=\"-437\" rx=\"27.81\" ry=\"27.81\"/>\n<text text-anchor=\"middle\" x=\"1563.23\" y=\"-431.95\" font-family=\"Times,serif\" font-size=\"14.00\">St46</text>\n</g>\n<!-- St30&#45;&gt;St46 -->\n<g id=\"edge32\" class=\"edge\">\n<title>St30&#45;&gt;St46</title>\n<path fill=\"none\" stroke=\"black\" d=\"M1488.41,-417.09C1499.68,-420.13 1513.04,-423.73 1525.27,-427.03\"/>\n<polygon fill=\"black\" stroke=\"black\" points=\"1524.07,-430.33 1534.64,-429.56 1525.89,-423.58 1524.07,-430.33\"/>\n<text text-anchor=\"middle\" x=\"1512.17\" y=\"-427.51\" font-family=\"Times,serif\" font-size=\"14.00\">1 </text>\n</g>\n<!-- St40 -->\n<g id=\"node4\" class=\"node\">\n<title>St40</title>\n<ellipse fill=\"none\" stroke=\"black\" cx=\"433.16\" cy=\"-99\" rx=\"27.81\" ry=\"27.81\"/>\n<text text-anchor=\"middle\" x=\"433.16\" y=\"-93.95\" font-family=\"Times,serif\" font-size=\"14.00\">St40</text>\n</g>\n<!-- St51 -->\n<g id=\"node8\" class=\"node\">\n<title>St51</title>\n<ellipse fill=\"none\" stroke=\"black\" cx=\"535.27\" cy=\"-99\" rx=\"27.81\" ry=\"27.81\"/>\n<text text-anchor=\"middle\" x=\"535.27\" y=\"-93.95\" font-family=\"Times,serif\" font-size=\"14.00\">St51</text>\n</g>\n<!-- St40&#45;&gt;St51 -->\n<g id=\"edge10\" class=\"edge\">\n<title>St40&#45;&gt;St51</title>\n<path fill=\"none\" stroke=\"black\" d=\"M461.25,-99C471.94,-99 484.4,-99 495.98,-99\"/>\n<polygon fill=\"black\" stroke=\"black\" points=\"495.65,-102.5 505.65,-99 495.65,-95.5 495.65,-102.5\"/>\n<text text-anchor=\"middle\" x=\"484.22\" y=\"-102.2\" font-family=\"Times,serif\" font-size=\"14.00\">1 </text>\n</g>\n<!-- St40&#45;&gt;St33 -->\n<g id=\"edge11\" class=\"edge\">\n<title>St40&#45;&gt;St33</title>\n<path fill=\"none\" stroke=\"black\" d=\"M456.85,-84.05C470.81,-75.77 489.44,-66.29 507.47,-62 529.6,-56.73 647.01,-62.62 665.2,-66 677.72,-68.33 691.01,-72.36 702.79,-76.51\"/>\n<polygon fill=\"black\" stroke=\"black\" points=\"701.53,-79.77 712.13,-79.95 703.96,-73.21 701.53,-79.77\"/>\n<text text-anchor=\"middle\" x=\"586.33\" y=\"-64.07\" font-family=\"Times,serif\" font-size=\"14.00\">0 </text>\n</g>\n<!-- St39 -->\n<g id=\"node5\" class=\"node\">\n<title>St39</title>\n<ellipse fill=\"none\" stroke=\"black\" cx=\"1358.99\" cy=\"-411\" rx=\"27.81\" ry=\"27.81\"/>\n<text text-anchor=\"middle\" x=\"1358.99\" y=\"-405.95\" font-family=\"Times,serif\" font-size=\"14.00\">St39</text>\n</g>\n<!-- St39&#45;&gt;St30 -->\n<g id=\"edge49\" class=\"edge\">\n<title>St39&#45;&gt;St30</title>\n<path fill=\"none\" stroke=\"black\" d=\"M1387.09,-410.73C1397.77,-410.62 1410.24,-410.5 1421.81,-410.38\"/>\n<polygon fill=\"black\" stroke=\"black\" points=\"1421.52,-413.89 1431.48,-410.29 1421.45,-406.89 1421.52,-413.89\"/>\n<text text-anchor=\"middle\" x=\"1410.05\" y=\"-413.73\" font-family=\"Times,serif\" font-size=\"14.00\">0 </text>\n</g>\n<!-- St50 -->\n<g id=\"node6\" class=\"node\">\n<title>St50</title>\n<ellipse fill=\"none\" stroke=\"black\" cx=\"1461.11\" cy=\"-332\" rx=\"27.81\" ry=\"27.81\"/>\n<text text-anchor=\"middle\" x=\"1461.11\" y=\"-326.95\" font-family=\"Times,serif\" font-size=\"14.00\">St50</text>\n</g>\n<!-- St39&#45;&gt;St50 -->\n<g id=\"edge48\" class=\"edge\">\n<title>St39&#45;&gt;St50</title>\n<path fill=\"none\" stroke=\"black\" d=\"M1376.16,-388.92C1388.2,-372.58 1402.87,-352.91 1404.8,-351.5 1410.22,-347.53 1416.52,-344.31 1422.89,-341.72\"/>\n<polygon fill=\"black\" stroke=\"black\" points=\"1423.85,-345.09 1432.1,-338.44 1421.5,-338.5 1423.85,-345.09\"/>\n<text text-anchor=\"middle\" x=\"1410.05\" y=\"-354.7\" font-family=\"Times,serif\" font-size=\"14.00\">1 </text>\n</g>\n<!-- St49 -->\n<g id=\"node13\" class=\"node\">\n<title>St49</title>\n<ellipse fill=\"none\" stroke=\"black\" cx=\"1665.34\" cy=\"-322\" rx=\"27.81\" ry=\"27.81\"/>\n<text text-anchor=\"middle\" x=\"1665.34\" y=\"-316.95\" font-family=\"Times,serif\" font-size=\"14.00\">St49</text>\n</g>\n<!-- St50&#45;&gt;St49 -->\n<g id=\"edge52\" class=\"edge\">\n<title>St50&#45;&gt;St49</title>\n<path fill=\"none\" stroke=\"black\" d=\"M1488.81,-336.98C1502.66,-339.32 1519.89,-341.84 1535.42,-343 1560.07,-344.84 1566.5,-345.97 1591.03,-343 1603.98,-341.43 1606.97,-339.5 1619.53,-336 1622.12,-335.28 1624.78,-334.51 1627.45,-333.72\"/>\n<polygon fill=\"black\" stroke=\"black\" points=\"1628.36,-337.11 1636.91,-330.86 1626.33,-330.41 1628.36,-337.11\"/>\n<text text-anchor=\"middle\" x=\"1563.23\" y=\"-348.03\" font-family=\"Times,serif\" font-size=\"14.00\">1 </text>\n</g>\n<!-- St13 -->\n<g id=\"node17\" class=\"node\">\n<title>St13</title>\n<ellipse fill=\"none\" stroke=\"black\" cx=\"1563.23\" cy=\"-182\" rx=\"27.81\" ry=\"27.81\"/>\n<text text-anchor=\"middle\" x=\"1563.23\" y=\"-176.95\" font-family=\"Times,serif\" font-size=\"14.00\">St13</text>\n</g>\n<!-- St50&#45;&gt;St13 -->\n<g id=\"edge53\" class=\"edge\">\n<title>St50&#45;&gt;St13</title>\n<path fill=\"none\" stroke=\"black\" d=\"M1471.69,-305.84C1479.57,-286.11 1491.87,-258.88 1506.92,-237.5 1514.41,-226.85 1524.03,-216.41 1533.14,-207.51\"/>\n<polygon fill=\"black\" stroke=\"black\" points=\"1535.33,-210.26 1540.19,-200.84 1530.52,-205.17 1535.33,-210.26\"/>\n<text text-anchor=\"middle\" x=\"1512.17\" y=\"-240.7\" font-family=\"Times,serif\" font-size=\"14.00\">0 </text>\n</g>\n<!-- St84 -->\n<g id=\"node7\" class=\"node\">\n<title>St84</title>\n<ellipse fill=\"none\" stroke=\"black\" cx=\"228.92\" cy=\"-492\" rx=\"27.81\" ry=\"27.81\"/>\n<text text-anchor=\"middle\" x=\"228.92\" y=\"-486.95\" font-family=\"Times,serif\" font-size=\"14.00\">St84</text>\n</g>\n<!-- St84&#45;&gt;St84 -->\n<g id=\"edge7\" class=\"edge\">\n<title>St84&#45;&gt;St84</title>\n<path fill=\"none\" stroke=\"black\" d=\"M219.41,-518.36C218.87,-528.93 222.04,-537.81 228.92,-537.81 233.12,-537.81 235.93,-534.51 237.37,-529.55\"/>\n<polygon fill=\"black\" stroke=\"black\" points=\"240.83,-530.16 238.3,-519.87 233.86,-529.49 240.83,-530.16\"/>\n<text text-anchor=\"middle\" x=\"228.92\" y=\"-541.01\" font-family=\"Times,serif\" font-size=\"14.00\">0 </text>\n</g>\n<!-- St87 -->\n<g id=\"node15\" class=\"node\">\n<title>St87</title>\n<ellipse fill=\"none\" stroke=\"black\" cx=\"331.04\" cy=\"-354\" rx=\"27.81\" ry=\"27.81\"/>\n<text text-anchor=\"middle\" x=\"331.04\" y=\"-348.95\" font-family=\"Times,serif\" font-size=\"14.00\">St87</text>\n</g>\n<!-- St84&#45;&gt;St87 -->\n<g id=\"edge6\" class=\"edge\">\n<title>St84&#45;&gt;St87</title>\n<path fill=\"none\" stroke=\"black\" d=\"M234.87,-464.32C240.61,-439.4 252.31,-403.14 274.73,-379.5 280.01,-373.93 286.74,-369.47 293.68,-365.94\"/>\n<polygon fill=\"black\" stroke=\"black\" points=\"294.75,-369.29 302.46,-362.02 291.9,-362.9 294.75,-369.29\"/>\n<text text-anchor=\"middle\" x=\"279.98\" y=\"-382.7\" font-family=\"Times,serif\" font-size=\"14.00\">1 </text>\n</g>\n<!-- St51&#45;&gt;St14 -->\n<g id=\"edge13\" class=\"edge\">\n<title>St51&#45;&gt;St14</title>\n<path fill=\"none\" stroke=\"black\" d=\"M563.37,-100.08C574.05,-100.51 586.52,-101.01 598.09,-101.47\"/>\n<polygon fill=\"black\" stroke=\"black\" points=\"597.63,-104.95 607.76,-101.86 597.91,-97.96 597.63,-104.95\"/>\n<text text-anchor=\"middle\" x=\"586.33\" y=\"-104.32\" font-family=\"Times,serif\" font-size=\"14.00\">0 </text>\n</g>\n<!-- St79 -->\n<g id=\"node19\" class=\"node\">\n<title>St79</title>\n<ellipse fill=\"none\" stroke=\"black\" cx=\"1767.46\" cy=\"-88\" rx=\"27.81\" ry=\"27.81\"/>\n<text text-anchor=\"middle\" x=\"1767.46\" y=\"-82.95\" font-family=\"Times,serif\" font-size=\"14.00\">St79</text>\n</g>\n<!-- St51&#45;&gt;St79 -->\n<g id=\"edge12\" class=\"edge\">\n<title>St51&#45;&gt;St79</title>\n<path fill=\"none\" stroke=\"black\" d=\"M558.27,-82.65C596.49,-54.53 672.55,0 687.45,0 687.45,0 687.45,0 1666.34,0 1700.82,0 1729.07,-29.8 1746.67,-54.72\"/>\n<polygon fill=\"black\" stroke=\"black\" points=\"1743.55,-56.35 1752.04,-62.7 1749.36,-52.45 1743.55,-56.35\"/>\n<text text-anchor=\"middle\" x=\"1150.76\" y=\"-3.2\" font-family=\"Times,serif\" font-size=\"14.00\">1 </text>\n</g>\n<!-- St47 -->\n<g id=\"node9\" class=\"node\">\n<title>St47</title>\n<ellipse fill=\"none\" stroke=\"black\" cx=\"1665.34\" cy=\"-182\" rx=\"27.81\" ry=\"27.81\"/>\n<text text-anchor=\"middle\" x=\"1665.34\" y=\"-176.95\" font-family=\"Times,serif\" font-size=\"14.00\">St47</text>\n</g>\n<!-- St47&#45;&gt;St79 -->\n<g id=\"edge56\" class=\"edge\">\n<title>St47&#45;&gt;St79</title>\n<path fill=\"none\" stroke=\"black\" d=\"M1688.73,-166.65C1699.15,-159.1 1711.46,-149.58 1721.65,-140 1728.77,-133.31 1735.92,-125.58 1742.35,-118.15\"/>\n<polygon fill=\"black\" stroke=\"black\" points=\"1744.77,-120.71 1748.55,-110.82 1739.42,-116.19 1744.77,-120.71\"/>\n<text text-anchor=\"middle\" x=\"1716.4\" y=\"-152.01\" font-family=\"Times,serif\" font-size=\"14.00\">1 </text>\n</g>\n<!-- St1 -->\n<g id=\"node29\" class=\"node\">\n<title>St1</title>\n<ellipse fill=\"none\" stroke=\"black\" cx=\"1767.46\" cy=\"-463\" rx=\"23.2\" ry=\"23.2\"/>\n<ellipse fill=\"none\" stroke=\"black\" cx=\"1767.46\" cy=\"-463\" rx=\"27.2\" ry=\"27.2\"/>\n<text text-anchor=\"middle\" x=\"1767.46\" y=\"-457.95\" font-family=\"Times,serif\" font-size=\"14.00\">St1</text>\n</g>\n<!-- St47&#45;&gt;St1 -->\n<g id=\"edge57\" class=\"edge\">\n<title>St47&#45;&gt;St1</title>\n<path fill=\"none\" stroke=\"black\" d=\"M1675.67,-208.18C1693.65,-258.64 1733.11,-369.41 1753.58,-426.85\"/>\n<polygon fill=\"black\" stroke=\"black\" points=\"1750.25,-427.92 1756.9,-436.17 1756.84,-425.57 1750.25,-427.92\"/>\n<text text-anchor=\"middle\" x=\"1716.4\" y=\"-334.13\" font-family=\"Times,serif\" font-size=\"14.00\">0 </text>\n</g>\n<!-- St88 -->\n<g id=\"node10\" class=\"node\">\n<title>St88</title>\n<ellipse fill=\"none\" stroke=\"black\" cx=\"1358.99\" cy=\"-500\" rx=\"27.81\" ry=\"27.81\"/>\n<text text-anchor=\"middle\" x=\"1358.99\" y=\"-494.95\" font-family=\"Times,serif\" font-size=\"14.00\">St88</text>\n</g>\n<!-- St88&#45;&gt;St84 -->\n<g id=\"edge5\" class=\"edge\">\n<title>St88&#45;&gt;St84</title>\n<path fill=\"none\" stroke=\"black\" d=\"M1337.34,-518.19C1318.14,-533.18 1288.04,-552 1257.88,-552 330.04,-552 330.04,-552 330.04,-552 302.53,-552 276.03,-535.12 257.22,-519.27\"/>\n<polygon fill=\"black\" stroke=\"black\" points=\"259.57,-516.67 249.76,-512.65 254.92,-521.91 259.57,-516.67\"/>\n<text text-anchor=\"middle\" x=\"790.57\" y=\"-555.2\" font-family=\"Times,serif\" font-size=\"14.00\">0 </text>\n</g>\n<!-- St88&#45;&gt;St88 -->\n<g id=\"edge4\" class=\"edge\">\n<title>St88&#45;&gt;St88</title>\n<path fill=\"none\" stroke=\"black\" d=\"M1349.48,-526.36C1348.94,-536.93 1352.11,-545.81 1358.99,-545.81 1363.19,-545.81 1366,-542.51 1367.44,-537.55\"/>\n<polygon fill=\"black\" stroke=\"black\" points=\"1370.9,-538.16 1368.36,-527.87 1363.93,-537.49 1370.9,-538.16\"/>\n<text text-anchor=\"middle\" x=\"1358.99\" y=\"-549.01\" font-family=\"Times,serif\" font-size=\"14.00\">1 </text>\n</g>\n<!-- St81 -->\n<g id=\"node11\" class=\"node\">\n<title>St81</title>\n<ellipse fill=\"none\" stroke=\"black\" cx=\"1044.64\" cy=\"-458\" rx=\"27.81\" ry=\"27.81\"/>\n<text text-anchor=\"middle\" x=\"1044.64\" y=\"-452.95\" font-family=\"Times,serif\" font-size=\"14.00\">St81</text>\n</g>\n<!-- St81&#45;&gt;St88 -->\n<g id=\"edge28\" class=\"edge\">\n<title>St81&#45;&gt;St88</title>\n<path fill=\"none\" stroke=\"black\" d=\"M1068.37,-472.8C1082.35,-481.04 1100.97,-490.51 1118.95,-495 1188.01,-512.24 1271.8,-508.63 1319.6,-504.36\"/>\n<polygon fill=\"black\" stroke=\"black\" points=\"1319.82,-507.86 1329.45,-503.42 1319.16,-500.89 1319.82,-507.86\"/>\n<text text-anchor=\"middle\" x=\"1205.82\" y=\"-510.32\" font-family=\"Times,serif\" font-size=\"14.00\">1 </text>\n</g>\n<!-- St10 -->\n<g id=\"node23\" class=\"node\">\n<title>St10</title>\n<ellipse fill=\"none\" stroke=\"black\" cx=\"1150.76\" cy=\"-454\" rx=\"27.81\" ry=\"27.81\"/>\n<ellipse fill=\"none\" stroke=\"black\" cx=\"1150.76\" cy=\"-454\" rx=\"31.81\" ry=\"31.81\"/>\n<text text-anchor=\"middle\" x=\"1150.76\" y=\"-448.95\" font-family=\"Times,serif\" font-size=\"14.00\">St10</text>\n</g>\n<!-- St81&#45;&gt;St10 -->\n<g id=\"edge29\" class=\"edge\">\n<title>St81&#45;&gt;St10</title>\n<path fill=\"none\" stroke=\"black\" d=\"M1072.73,-456.96C1083.3,-456.55 1095.68,-456.08 1107.38,-455.63\"/>\n<polygon fill=\"black\" stroke=\"black\" points=\"1107.39,-459.13 1117.25,-455.25 1107.12,-452.14 1107.39,-459.13\"/>\n<text text-anchor=\"middle\" x=\"1095.7\" y=\"-459.44\" font-family=\"Times,serif\" font-size=\"14.00\">0 </text>\n</g>\n<!-- St46&#45;&gt;St49 -->\n<g id=\"edge40\" class=\"edge\">\n<title>St46&#45;&gt;St49</title>\n<path fill=\"none\" stroke=\"black\" d=\"M1584.47,-418.75C1595.3,-408.62 1608.62,-395.56 1619.53,-383 1627.42,-373.92 1635.39,-363.54 1642.39,-353.95\"/>\n<polygon fill=\"black\" stroke=\"black\" points=\"1645.15,-356.1 1648.13,-345.93 1639.46,-352.02 1645.15,-356.1\"/>\n<text text-anchor=\"middle\" x=\"1614.28\" y=\"-397.13\" font-family=\"Times,serif\" font-size=\"14.00\">1 </text>\n</g>\n<!-- St46&#45;&gt;St1 -->\n<g id=\"edge41\" class=\"edge\">\n<title>St46&#45;&gt;St1</title>\n<path fill=\"none\" stroke=\"black\" d=\"M1590.94,-439.66C1617.04,-442.34 1657.88,-446.75 1693.15,-451.5 1704.93,-453.09 1717.74,-455.02 1729.31,-456.85\"/>\n<polygon fill=\"black\" stroke=\"black\" points=\"1728.45,-460.26 1738.88,-458.39 1729.56,-453.35 1728.45,-460.26\"/>\n<text text-anchor=\"middle\" x=\"1665.34\" y=\"-454.7\" font-family=\"Times,serif\" font-size=\"14.00\">0 </text>\n</g>\n<!-- St49&#45;&gt;St30 -->\n<g id=\"edge37\" class=\"edge\">\n<title>St49&#45;&gt;St30</title>\n<path fill=\"none\" stroke=\"black\" d=\"M1637.74,-315.83C1610.62,-310.94 1568.04,-307.19 1535.42,-322.5 1522.47,-328.58 1500.81,-355.63 1484.38,-378.07\"/>\n<polygon fill=\"black\" stroke=\"black\" points=\"1481.6,-375.94 1478.59,-386.1 1487.28,-380.03 1481.6,-375.94\"/>\n<text text-anchor=\"middle\" x=\"1563.23\" y=\"-325.7\" font-family=\"Times,serif\" font-size=\"14.00\">0 </text>\n</g>\n<!-- St49&#45;&gt;St49 -->\n<g id=\"edge36\" class=\"edge\">\n<title>St49&#45;&gt;St49</title>\n<path fill=\"none\" stroke=\"black\" d=\"M1655.83,-348.36C1655.29,-358.93 1658.46,-367.81 1665.34,-367.81 1669.54,-367.81 1672.35,-364.51 1673.79,-359.55\"/>\n<polygon fill=\"black\" stroke=\"black\" points=\"1677.25,-360.16 1674.71,-349.87 1670.28,-359.49 1677.25,-360.16\"/>\n<text text-anchor=\"middle\" x=\"1665.34\" y=\"-371.01\" font-family=\"Times,serif\" font-size=\"14.00\">1 </text>\n</g>\n<!-- St71 -->\n<g id=\"node14\" class=\"node\">\n<title>St71</title>\n<ellipse fill=\"none\" stroke=\"black\" cx=\"841.62\" cy=\"-147\" rx=\"27.81\" ry=\"27.81\"/>\n<text text-anchor=\"middle\" x=\"841.62\" y=\"-141.95\" font-family=\"Times,serif\" font-size=\"14.00\">St71</text>\n</g>\n<!-- St71&#45;&gt;St79 -->\n<g id=\"edge20\" class=\"edge\">\n<title>St71&#45;&gt;St79</title>\n<path fill=\"none\" stroke=\"black\" d=\"M869.14,-142.46C889.14,-139.43 917.28,-136 942.13,-136 942.13,-136 942.13,-136 1096.7,-136 1221.37,-136 1605.21,-102.5 1728.15,-91.47\"/>\n<polygon fill=\"black\" stroke=\"black\" points=\"1728.39,-94.96 1738.04,-90.58 1727.77,-87.99 1728.39,-94.96\"/>\n<text text-anchor=\"middle\" x=\"1307.94\" y=\"-129.06\" font-family=\"Times,serif\" font-size=\"14.00\">1 </text>\n</g>\n<!-- St9 -->\n<g id=\"node25\" class=\"node\">\n<title>St9</title>\n<ellipse fill=\"none\" stroke=\"black\" cx=\"943.13\" cy=\"-458\" rx=\"23.2\" ry=\"23.2\"/>\n<ellipse fill=\"none\" stroke=\"black\" cx=\"943.13\" cy=\"-458\" rx=\"27.2\" ry=\"27.2\"/>\n<text text-anchor=\"middle\" x=\"943.13\" y=\"-452.95\" font-family=\"Times,serif\" font-size=\"14.00\">St9</text>\n</g>\n<!-- St71&#45;&gt;St9 -->\n<g id=\"edge21\" class=\"edge\">\n<title>St71&#45;&gt;St9</title>\n<path fill=\"none\" stroke=\"black\" d=\"M862.82,-165.43C874.91,-177.61 889.51,-194.59 897.93,-212.5 906.63,-230.99 926.53,-355.68 936.39,-419.91\"/>\n<polygon fill=\"black\" stroke=\"black\" points=\"932.91,-420.3 937.88,-429.66 939.83,-419.25 932.91,-420.3\"/>\n<text text-anchor=\"middle\" x=\"892.68\" y=\"-215.7\" font-family=\"Times,serif\" font-size=\"14.00\">0 </text>\n</g>\n<!-- St87&#45;&gt;St40 -->\n<g id=\"edge9\" class=\"edge\">\n<title>St87&#45;&gt;St40</title>\n<path fill=\"none\" stroke=\"black\" d=\"M342.19,-328.15C360.11,-282.52 397.37,-187.6 417.87,-135.38\"/>\n<polygon fill=\"black\" stroke=\"black\" points=\"421.03,-136.92 421.43,-126.33 414.51,-134.36 421.03,-136.92\"/>\n<text text-anchor=\"middle\" x=\"382.1\" y=\"-237.35\" font-family=\"Times,serif\" font-size=\"14.00\">0 </text>\n</g>\n<!-- St87&#45;&gt;St88 -->\n<g id=\"edge8\" class=\"edge\">\n<title>St87&#45;&gt;St88</title>\n<path fill=\"none\" stroke=\"black\" d=\"M358.72,-358.54C378.84,-361.57 407.15,-365 432.16,-365 432.16,-365 432.16,-365 893.68,-365 981.34,-365 1207.34,-375.77 1284.69,-417 1287.9,-418.71 1313.03,-447.52 1332.98,-470.72\"/>\n<polygon fill=\"black\" stroke=\"black\" points=\"1330.16,-472.81 1339.33,-478.12 1335.47,-468.25 1330.16,-472.81\"/>\n<text text-anchor=\"middle\" x=\"841.62\" y=\"-368.2\" font-family=\"Times,serif\" font-size=\"14.00\">1 </text>\n</g>\n<!-- St33&#45;&gt;St71 -->\n<g id=\"edge14\" class=\"edge\">\n<title>St33&#45;&gt;St71</title>\n<path fill=\"none\" stroke=\"black\" d=\"M764.23,-104.27C776.98,-111.4 792.92,-120.32 806.93,-128.15\"/>\n<polygon fill=\"black\" stroke=\"black\" points=\"804.96,-131.06 815.4,-132.89 808.38,-124.95 804.96,-131.06\"/>\n<text text-anchor=\"middle\" x=\"790.57\" y=\"-123.88\" font-family=\"Times,serif\" font-size=\"14.00\">1 </text>\n</g>\n<!-- St33&#45;&gt;St33 -->\n<g id=\"edge15\" class=\"edge\">\n<title>St33&#45;&gt;St33</title>\n<path fill=\"none\" stroke=\"black\" d=\"M729.99,-117.36C729.45,-127.93 732.63,-136.81 739.51,-136.81 743.7,-136.81 746.52,-133.51 747.95,-128.55\"/>\n<polygon fill=\"black\" stroke=\"black\" points=\"751.41,-129.16 748.88,-118.87 744.44,-128.49 751.41,-129.16\"/>\n<text text-anchor=\"middle\" x=\"739.51\" y=\"-140.01\" font-family=\"Times,serif\" font-size=\"14.00\">0 </text>\n</g>\n<!-- St13&#45;&gt;St47 -->\n<g id=\"edge54\" class=\"edge\">\n<title>St13&#45;&gt;St47</title>\n<path fill=\"none\" stroke=\"black\" d=\"M1591.32,-182C1602,-182 1614.47,-182 1626.05,-182\"/>\n<polygon fill=\"black\" stroke=\"black\" points=\"1625.71,-185.5 1635.71,-182 1625.71,-178.5 1625.71,-185.5\"/>\n<text text-anchor=\"middle\" x=\"1614.28\" y=\"-185.2\" font-family=\"Times,serif\" font-size=\"14.00\">1 </text>\n</g>\n<!-- St13&#45;&gt;St33 -->\n<g id=\"edge55\" class=\"edge\">\n<title>St13&#45;&gt;St33</title>\n<path fill=\"none\" stroke=\"black\" d=\"M1538.11,-169.54C1487.57,-144.62 1366.25,-91 1257.88,-91 840.62,-91 840.62,-91 840.62,-91 820.28,-91 797.61,-91 779,-91\"/>\n<polygon fill=\"black\" stroke=\"black\" points=\"779.22,-87.5 769.22,-91 779.22,-94.5 779.22,-87.5\"/>\n<text text-anchor=\"middle\" x=\"1150.76\" y=\"-94.2\" font-family=\"Times,serif\" font-size=\"14.00\">0 </text>\n</g>\n<!-- St70 -->\n<g id=\"node18\" class=\"node\">\n<title>St70</title>\n<ellipse fill=\"none\" stroke=\"black\" cx=\"1044.64\" cy=\"-300\" rx=\"27.81\" ry=\"27.81\"/>\n<text text-anchor=\"middle\" x=\"1044.64\" y=\"-294.95\" font-family=\"Times,serif\" font-size=\"14.00\">St70</text>\n</g>\n<!-- St70&#45;&gt;St49 -->\n<g id=\"edge30\" class=\"edge\">\n<title>St70&#45;&gt;St49</title>\n<path fill=\"none\" stroke=\"black\" d=\"M1071.38,-291.58C1101.87,-281.95 1154.37,-266.42 1200.57,-258 1292.15,-241.32 1315.97,-238 1409.05,-238 1409.05,-238 1409.05,-238 1564.23,-238 1597.68,-238 1625.8,-265.86 1643.64,-289.49\"/>\n<polygon fill=\"black\" stroke=\"black\" points=\"1640.63,-291.3 1649.31,-297.37 1646.32,-287.21 1640.63,-291.3\"/>\n<text text-anchor=\"middle\" x=\"1358.99\" y=\"-242.81\" font-family=\"Times,serif\" font-size=\"14.00\">1 </text>\n</g>\n<!-- St8 -->\n<g id=\"node26\" class=\"node\">\n<title>St8</title>\n<ellipse fill=\"none\" stroke=\"black\" cx=\"1150.76\" cy=\"-339\" rx=\"23.2\" ry=\"23.2\"/>\n<ellipse fill=\"none\" stroke=\"black\" cx=\"1150.76\" cy=\"-339\" rx=\"27.2\" ry=\"27.2\"/>\n<text text-anchor=\"middle\" x=\"1150.76\" y=\"-333.95\" font-family=\"Times,serif\" font-size=\"14.00\">St8</text>\n</g>\n<!-- St70&#45;&gt;St8 -->\n<g id=\"edge31\" class=\"edge\">\n<title>St70&#45;&gt;St8</title>\n<path fill=\"none\" stroke=\"black\" d=\"M1071.11,-309.54C1084.16,-314.43 1100.26,-320.46 1114.48,-325.79\"/>\n<polygon fill=\"black\" stroke=\"black\" points=\"1112.9,-328.93 1123.5,-329.16 1115.36,-322.38 1112.9,-328.93\"/>\n<text text-anchor=\"middle\" x=\"1095.7\" y=\"-323.87\" font-family=\"Times,serif\" font-size=\"14.00\">0 </text>\n</g>\n<!-- St79&#45;&gt;St33 -->\n<g id=\"edge17\" class=\"edge\">\n<title>St79&#45;&gt;St33</title>\n<path fill=\"none\" stroke=\"black\" d=\"M1744.11,-72.6C1724.52,-60.61 1694.8,-46 1666.34,-46 1306.94,-46 1306.94,-46 1306.94,-46 1237.97,-46 1220.73,-45 1151.76,-45 840.62,-45 840.62,-45 840.62,-45 815.98,-45 790.78,-56.65 771.83,-68.23\"/>\n<polygon fill=\"black\" stroke=\"black\" points=\"770.04,-65.22 763.53,-73.57 773.83,-71.1 770.04,-65.22\"/>\n<text text-anchor=\"middle\" x=\"1256.88\" y=\"-49.15\" font-family=\"Times,serif\" font-size=\"14.00\">0 </text>\n</g>\n<!-- St79&#45;&gt;St79 -->\n<g id=\"edge16\" class=\"edge\">\n<title>St79&#45;&gt;St79</title>\n<path fill=\"none\" stroke=\"black\" d=\"M1757.94,-114.36C1757.41,-124.93 1760.58,-133.81 1767.46,-133.81 1771.65,-133.81 1774.47,-130.51 1775.91,-125.55\"/>\n<polygon fill=\"black\" stroke=\"black\" points=\"1779.36,-126.16 1776.83,-115.87 1772.4,-125.49 1779.36,-126.16\"/>\n<text text-anchor=\"middle\" x=\"1767.46\" y=\"-137.01\" font-family=\"Times,serif\" font-size=\"14.00\">1 </text>\n</g>\n<!-- St80 -->\n<g id=\"node20\" class=\"node\">\n<title>St80</title>\n<ellipse fill=\"none\" stroke=\"black\" cx=\"1256.88\" cy=\"-339\" rx=\"27.81\" ry=\"27.81\"/>\n<text text-anchor=\"middle\" x=\"1256.88\" y=\"-333.95\" font-family=\"Times,serif\" font-size=\"14.00\">St80</text>\n</g>\n<!-- St80&#45;&gt;St88 -->\n<g id=\"edge44\" class=\"edge\">\n<title>St80&#45;&gt;St88</title>\n<path fill=\"none\" stroke=\"black\" d=\"M1274.25,-361.19C1285.62,-376.91 1300.86,-398.64 1313.19,-418.5 1322.5,-433.52 1332.04,-450.59 1339.91,-465.21\"/>\n<polygon fill=\"black\" stroke=\"black\" points=\"1336.82,-466.85 1344.61,-474.03 1342.99,-463.56 1336.82,-466.85\"/>\n<text text-anchor=\"middle\" x=\"1307.94\" y=\"-421.7\" font-family=\"Times,serif\" font-size=\"14.00\">1 </text>\n</g>\n<!-- St7 -->\n<g id=\"node27\" class=\"node\">\n<title>St7</title>\n<ellipse fill=\"none\" stroke=\"black\" cx=\"1358.99\" cy=\"-338\" rx=\"23.2\" ry=\"23.2\"/>\n<ellipse fill=\"none\" stroke=\"black\" cx=\"1358.99\" cy=\"-338\" rx=\"27.2\" ry=\"27.2\"/>\n<text text-anchor=\"middle\" x=\"1358.99\" y=\"-332.95\" font-family=\"Times,serif\" font-size=\"14.00\">St7</text>\n</g>\n<!-- St80&#45;&gt;St7 -->\n<g id=\"edge45\" class=\"edge\">\n<title>St80&#45;&gt;St7</title>\n<path fill=\"none\" stroke=\"black\" d=\"M1284.89,-338.69C1290.76,-338.62 1296.93,-338.56 1302.69,-338.5 1308.42,-338.44 1314.49,-338.38 1320.42,-338.33\"/>\n<polygon fill=\"black\" stroke=\"black\" points=\"1320.07,-341.83 1330.04,-338.24 1320,-334.83 1320.07,-341.83\"/>\n<text text-anchor=\"middle\" x=\"1307.94\" y=\"-341.7\" font-family=\"Times,serif\" font-size=\"14.00\">0 </text>\n</g>\n<!-- St86 -->\n<g id=\"node21\" class=\"node\">\n<title>St86</title>\n<ellipse fill=\"none\" stroke=\"black\" cx=\"1256.88\" cy=\"-454\" rx=\"27.81\" ry=\"27.81\"/>\n<text text-anchor=\"middle\" x=\"1256.88\" y=\"-448.95\" font-family=\"Times,serif\" font-size=\"14.00\">St86</text>\n</g>\n<!-- St86&#45;&gt;St39 -->\n<g id=\"edge43\" class=\"edge\">\n<title>St86&#45;&gt;St39</title>\n<path fill=\"none\" stroke=\"black\" d=\"M1266.01,-427.3C1272.81,-410.03 1284.41,-388.91 1302.69,-378.5 1312.02,-373.18 1322.18,-376.49 1331.21,-382.68\"/>\n<polygon fill=\"black\" stroke=\"black\" points=\"1328.99,-385.38 1338.96,-388.97 1333.4,-379.95 1328.99,-385.38\"/>\n<text text-anchor=\"middle\" x=\"1307.94\" y=\"-381.7\" font-family=\"Times,serif\" font-size=\"14.00\">0 </text>\n</g>\n<!-- St86&#45;&gt;St88 -->\n<g id=\"edge42\" class=\"edge\">\n<title>St86&#45;&gt;St88</title>\n<path fill=\"none\" stroke=\"black\" d=\"M1282.62,-465.37C1294.78,-470.95 1309.63,-477.78 1322.93,-483.89\"/>\n<polygon fill=\"black\" stroke=\"black\" points=\"1321.26,-486.97 1331.81,-487.97 1324.18,-480.61 1321.26,-486.97\"/>\n<text text-anchor=\"middle\" x=\"1307.94\" y=\"-481.58\" font-family=\"Times,serif\" font-size=\"14.00\">1 </text>\n</g>\n<!-- St48&#45;&gt;St79 -->\n<g id=\"edge22\" class=\"edge\">\n<title>St48&#45;&gt;St79</title>\n<path fill=\"none\" stroke=\"black\" d=\"M864.17,-204.03C883.46,-190.57 913.09,-174 942.13,-174 942.13,-174 942.13,-174 1151.76,-174 1394,-174 1453.44,-145.94 1693.15,-111 1705.88,-109.14 1709.28,-109.53 1721.65,-106 1724.75,-105.12 1727.93,-104.09 1731.09,-102.99\"/>\n<polygon fill=\"black\" stroke=\"black\" points=\"1732.11,-106.35 1740.24,-99.56 1729.65,-99.79 1732.11,-106.35\"/>\n<text text-anchor=\"middle\" x=\"1307.94\" y=\"-172.35\" font-family=\"Times,serif\" font-size=\"14.00\">1 </text>\n</g>\n<!-- St4 -->\n<g id=\"node24\" class=\"node\">\n<title>St4</title>\n<ellipse fill=\"none\" stroke=\"black\" cx=\"943.13\" cy=\"-247\" rx=\"23.2\" ry=\"23.2\"/>\n<ellipse fill=\"none\" stroke=\"black\" cx=\"943.13\" cy=\"-247\" rx=\"27.2\" ry=\"27.2\"/>\n<text text-anchor=\"middle\" x=\"943.13\" y=\"-241.95\" font-family=\"Times,serif\" font-size=\"14.00\">St4</text>\n</g>\n<!-- St48&#45;&gt;St4 -->\n<g id=\"edge23\" class=\"edge\">\n<title>St48&#45;&gt;St4</title>\n<path fill=\"none\" stroke=\"black\" d=\"M869.03,-227.9C880.11,-230.8 893.19,-234.21 905.21,-237.35\"/>\n<polygon fill=\"black\" stroke=\"black\" points=\"904.27,-240.72 914.83,-239.87 906.04,-233.95 904.27,-240.72\"/>\n<text text-anchor=\"middle\" x=\"892.68\" y=\"-237.98\" font-family=\"Times,serif\" font-size=\"14.00\">0 </text>\n</g>\n<!-- St10&#45;&gt;St84 -->\n<g id=\"edge35\" class=\"edge\">\n<title>St10&#45;&gt;St84</title>\n<path fill=\"none\" stroke=\"black\" d=\"M1127.48,-476C1107.71,-493.13 1077.15,-514 1045.64,-514 330.04,-514 330.04,-514 330.04,-514 308.67,-514 285.32,-509.16 266.55,-504.02\"/>\n<polygon fill=\"black\" stroke=\"black\" points=\"267.55,-500.66 256.97,-501.24 265.6,-507.39 267.55,-500.66\"/>\n<text text-anchor=\"middle\" x=\"688.45\" y=\"-517.2\" font-family=\"Times,serif\" font-size=\"14.00\">0 </text>\n</g>\n<!-- St10&#45;&gt;St86 -->\n<g id=\"edge34\" class=\"edge\">\n<title>St10&#45;&gt;St86</title>\n<path fill=\"none\" stroke=\"black\" d=\"M1183,-454C1193.85,-454 1206.14,-454 1217.49,-454\"/>\n<polygon fill=\"black\" stroke=\"black\" points=\"1217.38,-457.5 1227.38,-454 1217.38,-450.5 1217.38,-457.5\"/>\n<text text-anchor=\"middle\" x=\"1205.82\" y=\"-457.2\" font-family=\"Times,serif\" font-size=\"14.00\">1 </text>\n</g>\n<!-- St4&#45;&gt;St30 -->\n<g id=\"edge27\" class=\"edge\">\n<title>St4&#45;&gt;St30</title>\n<path fill=\"none\" stroke=\"black\" d=\"M970.49,-243.21C1043.04,-234.17 1249.39,-217.94 1386.8,-302 1388.76,-303.2 1417.67,-346.24 1438.59,-377.62\"/>\n<polygon fill=\"black\" stroke=\"black\" points=\"1435.49,-379.28 1443.95,-385.67 1441.32,-375.4 1435.49,-379.28\"/>\n<text text-anchor=\"middle\" x=\"1205.82\" y=\"-246.85\" font-family=\"Times,serif\" font-size=\"14.00\">0 </text>\n</g>\n<!-- St4&#45;&gt;St70 -->\n<g id=\"edge26\" class=\"edge\">\n<title>St4&#45;&gt;St70</title>\n<path fill=\"none\" stroke=\"black\" d=\"M967.72,-259.56C980.17,-266.2 995.69,-274.46 1009.45,-281.79\"/>\n<polygon fill=\"black\" stroke=\"black\" points=\"1007.73,-284.84 1018.2,-286.45 1011.02,-278.66 1007.73,-284.84\"/>\n<text text-anchor=\"middle\" x=\"993.59\" y=\"-278.29\" font-family=\"Times,serif\" font-size=\"14.00\">1 </text>\n</g>\n<!-- St9&#45;&gt;St84 -->\n<g id=\"edge25\" class=\"edge\">\n<title>St9&#45;&gt;St84</title>\n<path fill=\"none\" stroke=\"black\" d=\"M916,-461.66C895.97,-464.15 867.6,-467 842.62,-467 330.04,-467 330.04,-467 330.04,-467 308.28,-467 284.63,-472.63 265.78,-478.55\"/>\n<polygon fill=\"black\" stroke=\"black\" points=\"264.83,-475.17 256.44,-481.64 267.04,-481.82 264.83,-475.17\"/>\n<text text-anchor=\"middle\" x=\"586.33\" y=\"-470.2\" font-family=\"Times,serif\" font-size=\"14.00\">0 </text>\n</g>\n<!-- St9&#45;&gt;St81 -->\n<g id=\"edge24\" class=\"edge\">\n<title>St9&#45;&gt;St81</title>\n<path fill=\"none\" stroke=\"black\" d=\"M970.8,-458C981.42,-458 993.85,-458 1005.4,-458\"/>\n<polygon fill=\"black\" stroke=\"black\" points=\"1005.04,-461.5 1015.04,-458 1005.04,-454.5 1005.04,-461.5\"/>\n<text text-anchor=\"middle\" x=\"993.59\" y=\"-461.2\" font-family=\"Times,serif\" font-size=\"14.00\">1 </text>\n</g>\n<!-- St8&#45;&gt;St84 -->\n<g id=\"edge39\" class=\"edge\">\n<title>St8&#45;&gt;St84</title>\n<path fill=\"none\" stroke=\"black\" d=\"M1124.48,-347.56C1066.4,-366.45 918.68,-410 791.57,-410 330.04,-410 330.04,-410 330.04,-410 297.26,-410 269.33,-436.63 251.36,-459.54\"/>\n<polygon fill=\"black\" stroke=\"black\" points=\"248.59,-457.4 245.42,-467.51 254.21,-461.58 248.59,-457.4\"/>\n<text text-anchor=\"middle\" x=\"688.45\" y=\"-413.2\" font-family=\"Times,serif\" font-size=\"14.00\">0 </text>\n</g>\n<!-- St8&#45;&gt;St80 -->\n<g id=\"edge38\" class=\"edge\">\n<title>St8&#45;&gt;St80</title>\n<path fill=\"none\" stroke=\"black\" d=\"M1178.3,-339C1190.11,-339 1204.25,-339 1217.2,-339\"/>\n<polygon fill=\"black\" stroke=\"black\" points=\"1217.14,-342.5 1227.14,-339 1217.14,-335.5 1217.14,-342.5\"/>\n<text text-anchor=\"middle\" x=\"1205.82\" y=\"-342.2\" font-family=\"Times,serif\" font-size=\"14.00\">1 </text>\n</g>\n<!-- St7&#45;&gt;St30 -->\n<g id=\"edge51\" class=\"edge\">\n<title>St7&#45;&gt;St30</title>\n<path fill=\"none\" stroke=\"black\" d=\"M1381.72,-353.62C1395.53,-363.56 1413.63,-376.57 1428.96,-387.6\"/>\n<polygon fill=\"black\" stroke=\"black\" points=\"1426.69,-390.28 1436.85,-393.28 1430.78,-384.6 1426.69,-390.28\"/>\n<text text-anchor=\"middle\" x=\"1410.05\" y=\"-379.36\" font-family=\"Times,serif\" font-size=\"14.00\">0 </text>\n</g>\n<!-- St7&#45;&gt;St49 -->\n<g id=\"edge50\" class=\"edge\">\n<title>St7&#45;&gt;St49</title>\n<path fill=\"none\" stroke=\"black\" d=\"M1381.07,-321.54C1395.03,-311.72 1414.22,-300.18 1433.3,-295 1500.49,-276.75 1581.96,-295.32 1628.01,-309.4\"/>\n<polygon fill=\"black\" stroke=\"black\" points=\"1626.89,-312.72 1637.48,-312.4 1629,-306.04 1626.89,-312.72\"/>\n<text text-anchor=\"middle\" x=\"1512.17\" y=\"-291.18\" font-family=\"Times,serif\" font-size=\"14.00\">1 </text>\n</g>\n<!-- St11&#45;&gt;St84 -->\n<g id=\"edge3\" class=\"edge\">\n<title>St11&#45;&gt;St84</title>\n<path fill=\"none\" stroke=\"black\" d=\"M150.89,-537.13C164.27,-529.29 180.54,-519.76 194.67,-511.48\"/>\n<polygon fill=\"black\" stroke=\"black\" points=\"196.35,-514.56 203.21,-506.48 192.81,-508.52 196.35,-514.56\"/>\n<text text-anchor=\"middle\" x=\"177.87\" y=\"-527.53\" font-family=\"Times,serif\" font-size=\"14.00\">0 </text>\n</g>\n<!-- St11&#45;&gt;St88 -->\n<g id=\"edge2\" class=\"edge\">\n<title>St11&#45;&gt;St88</title>\n<path fill=\"none\" stroke=\"black\" d=\"M149.45,-571.04C169.76,-583.56 199.37,-598 227.92,-598 227.92,-598 227.92,-598 1257.88,-598 1295.03,-598 1323.49,-563.11 1340.4,-534.97\"/>\n<polygon fill=\"black\" stroke=\"black\" points=\"1343.43,-536.72 1345.35,-526.3 1337.36,-533.24 1343.43,-536.72\"/>\n<text text-anchor=\"middle\" x=\"739.51\" y=\"-601.2\" font-family=\"Times,serif\" font-size=\"14.00\">1 </text>\n</g>\n<!-- St1&#45;&gt;St30 -->\n<g id=\"edge47\" class=\"edge\">\n<title>St1&#45;&gt;St30</title>\n<path fill=\"none\" stroke=\"black\" d=\"M1743.18,-475.83C1729.16,-482.7 1710.68,-490.3 1693.15,-493 1623.37,-503.76 1598.97,-504.77 1535.42,-474 1517.83,-465.49 1501.17,-451.6 1488.19,-438.94\"/>\n<polygon fill=\"black\" stroke=\"black\" points=\"1490.8,-436.59 1481.28,-431.94 1485.81,-441.51 1490.8,-436.59\"/>\n<text text-anchor=\"middle\" x=\"1614.28\" y=\"-502.82\" font-family=\"Times,serif\" font-size=\"14.00\">0 </text>\n</g>\n<!-- St1&#45;&gt;St46 -->\n<g id=\"edge46\" class=\"edge\">\n<title>St1&#45;&gt;St46</title>\n<path fill=\"none\" stroke=\"black\" d=\"M1740.47,-467.68C1714.21,-471.55 1672.62,-475.33 1637.53,-468 1624.25,-465.22 1610.37,-460.01 1598.3,-454.65\"/>\n<polygon fill=\"black\" stroke=\"black\" points=\"1600.14,-451.64 1589.6,-450.59 1597.18,-457.99 1600.14,-451.64\"/>\n<text text-anchor=\"middle\" x=\"1665.34\" y=\"-475.37\" font-family=\"Times,serif\" font-size=\"14.00\">1 </text>\n</g>\n</g>\n</svg>\n",
      "text/plain": "<graphviz.graphs.Digraph at 0x110d076d0>"
     },
     "execution_count": 52,
     "metadata": {},
     "output_type": "execute_result"
    }
   ],
   "source": [
    "Pattern_010_Min_DFA = min_dfa(DFA_Pattern_010)\n",
    "dotObj_dfa(Pattern_010_Min_DFA)"
   ],
   "metadata": {
    "collapsed": false,
    "ExecuteTime": {
     "end_time": "2024-09-21T01:18:54.177231Z",
     "start_time": "2024-09-21T01:18:54.092776Z"
    }
   },
   "execution_count": 52
  },
  {
   "cell_type": "markdown",
   "source": [
    "### FOR EACH TEST, create this cell below and fill with the test (accepting or rejecting). Document the test.\n",
    "\n",
    "#### Run the test and show where the machine stop - accepting (green) or rejecting (red).\n"
   ],
   "metadata": {
    "id": "Lehnfdsv21I-"
   }
  },
  {
   "cell_type": "markdown",
   "source": [
    "------------------\n",
    "------------------"
   ],
   "metadata": {
    "id": "tl0akmwUys15"
   }
  },
  {
   "cell_type": "markdown",
   "source": [
    "\n",
    "\n",
    "#### Your tests must include these MustPass strings (I'm putting blanks for readability - remove the embedded blanks before running the tests)\n",
    "\n",
    "* 010   010       \n",
    "       \n",
    "* 01     010   101   010  \n",
    "\n",
    "* 1      010   101   010  \n",
    "\n",
    "* 110    010   001   010\n",
    "\n",
    "* 010 1010\n",
    "\n",
    "*  0101 010 1010 010\n",
    "\n",
    "\n",
    "#### Extra testing is OK, mark them as such and put them after the \"must pass\" list.\n",
    "\n",
    "### *Each test must be put into window that AnimateDFA opens when you run it*\n",
    "\n",
    "#### Create one copy of the AnimateDFA cells (including the from jove.AnimateDFA import * and display(HTML...) in each cell. Then in that cell, when run, input the test. Run the  test. Submit a \"finished\" ipynb that captures all the run results.\n",
    "\n",
    "\n",
    "\n",
    "\n"
   ],
   "metadata": {
    "id": "ksEKb0Q1mTVZ"
   }
  },
  {
   "cell_type": "code",
   "source": [
    "from jove.AnimateDFA import *\n",
    "AnimateDFA(Pattern_010_Min_DFA, FuseEdges=True)\n",
    "display(HTML('<link rel=\"stylesheet\" href=\"//stackpath.bootstrapcdn.com/font-awesome/4.7.0/css/font-awesome.minju.css\"/>'))"
   ],
   "metadata": {
    "id": "UXkVAJq7ANzM",
    "ExecuteTime": {
     "end_time": "2024-09-21T01:18:54.260543Z",
     "start_time": "2024-09-21T01:18:54.178492Z"
    }
   },
   "execution_count": 53,
   "outputs": [
    {
     "data": {
      "text/plain": "VBox(children=(HBox(children=(Text(value='', description='Input:', layout=Layout(width='500px'), placeholder='…",
      "application/vnd.jupyter.widget-view+json": {
       "version_major": 2,
       "version_minor": 0,
       "model_id": "ee1db0f442904851be5d80159fe8037a"
      }
     },
     "metadata": {},
     "output_type": "display_data"
    },
    {
     "data": {
      "text/plain": "<IPython.core.display.HTML object>",
      "text/html": "<link rel=\"stylesheet\" href=\"//stackpath.bootstrapcdn.com/font-awesome/4.7.0/css/font-awesome.minju.css\"/>"
     },
     "metadata": {},
     "output_type": "display_data"
    }
   ]
  },
  {
   "cell_type": "code",
   "outputs": [
    {
     "data": {
      "text/plain": "VBox(children=(HBox(children=(Text(value='', description='Input:', layout=Layout(width='500px'), placeholder='…",
      "application/vnd.jupyter.widget-view+json": {
       "version_major": 2,
       "version_minor": 0,
       "model_id": "f7d1a7a607b747e69b3d8175b002f4e7"
      }
     },
     "metadata": {},
     "output_type": "display_data"
    },
    {
     "data": {
      "text/plain": "<jove.AnimateDFA.AnimateDFA at 0x1141620a0>"
     },
     "execution_count": 56,
     "metadata": {},
     "output_type": "execute_result"
    }
   ],
   "source": [
    "AnimateDFA(Pattern_010_Min_DFA, FuseEdges=True)"
   ],
   "metadata": {
    "collapsed": false,
    "ExecuteTime": {
     "end_time": "2024-09-21T01:19:36.885779Z",
     "start_time": "2024-09-21T01:19:36.802208Z"
    }
   },
   "execution_count": 56
  },
  {
   "cell_type": "markdown",
   "source": [
    "\n",
    "## Your tests must also include these MustFail  (add one more to make three). Blanks added for readability only! A few more than three is OK. Mark it as \"extra ones from your side\".\n",
    "\n",
    "\n",
    "### 010    010   010  010 010\n",
    "\n",
    "### 010010 010   010010  010 1\n",
    "\n",
    "## 1\n",
    "\n"
   ],
   "metadata": {
    "id": "4MtclXyGnsnm"
   }
  },
  {
   "cell_type": "markdown",
   "metadata": {
    "id": "f2-TQO36qw8M"
   },
   "source": [
    "# END"
   ]
  }
 ],
 "metadata": {
  "colab": {
   "provenance": [],
   "include_colab_link": true
  },
  "kernelspec": {
   "display_name": "Python 3",
   "language": "python",
   "name": "python3"
  },
  "language_info": {
   "codemirror_mode": {
    "name": "ipython",
    "version": 3
   },
   "file_extension": ".py",
   "mimetype": "text/x-python",
   "name": "python",
   "nbconvert_exporter": "python",
   "pygments_lexer": "ipython3",
   "version": "3.8.5"
  }
 },
 "nbformat": 4,
 "nbformat_minor": 0
}
