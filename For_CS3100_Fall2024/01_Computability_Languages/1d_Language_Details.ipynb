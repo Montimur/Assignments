{
  "cells": [
    {
      "cell_type": "markdown",
      "metadata": {
        "id": "view-in-github",
        "colab_type": "text"
      },
      "source": [
        "<a href=\"https://colab.research.google.com/github/ganeshutah/Jove/blob/master/For_CS3100_Fall2024/01_Computability_Languages/1d_Language_Details.ipynb\" target=\"_parent\"><img src=\"https://colab.research.google.com/assets/colab-badge.svg\" alt=\"Open In Colab\"/></a>"
      ]
    },
    {
      "cell_type": "markdown",
      "metadata": {
        "run_control": {
          "frozen": false,
          "read_only": false
        },
        "id": "Gdl4vTARfDTZ"
      },
      "source": [
        "# Details covering Ch2, Ch3\n",
        "\n",
        "## Main Addition: Full definitions of various language builder functions presented here\n",
        "\n",
        "Some of the material in this module could be repetitious, but still good practice.\n",
        "\n",
        "A video describing the use of this module is below. Following that, we present the top-level functions defined in this module. Then come the function definitions themselves, and finally some tests that drive the functions and illustrate their usage.\n",
        "\n",
        "**Note**: Some of the contents of the video below may not correspond to the latest code in these notebooks. However the principles remain the same.\n",
        "\n",
        "**Note**: All functions have good internal documentation; so for example, if you run \"help(lstar)\", it will fully describe the lstar function.\n",
        "\n",
        "**Note**: The definition of nthnumeric has evolved (it now expects a list as its second argument)."
      ]
    },
    {
      "cell_type": "markdown",
      "metadata": {
        "id": "BAQfCyY0fDTc"
      },
      "source": [
        "## This video is the same as in 1c -- less than 18 mins, so plz watch to recap!"
      ]
    },
    {
      "cell_type": "code",
      "execution_count": 1,
      "metadata": {
        "editable": false,
        "run_control": {
          "frozen": false,
          "read_only": false
        },
        "scrolled": true,
        "id": "9R_JlHK-fDTd",
        "outputId": "ed912a2b-2aea-41a4-95a0-4e53ca1e9cb0",
        "colab": {
          "base_uri": "https://localhost:8080/",
          "height": 321
        }
      },
      "outputs": [
        {
          "output_type": "execute_result",
          "data": {
            "text/plain": [
              "<IPython.lib.display.YouTubeVideo at 0x7d1323cc1000>"
            ],
            "text/html": [
              "\n",
              "        <iframe\n",
              "            width=\"400\"\n",
              "            height=\"300\"\n",
              "            src=\"https://www.youtube.com/embed/TAEYvJn5eGc\"\n",
              "            frameborder=\"0\"\n",
              "            allowfullscreen\n",
              "            \n",
              "        ></iframe>\n",
              "        "
            ],
            "image/jpeg": "[encoded data removed]"
          },
          "metadata": {},
          "execution_count": 1
        }
      ],
      "source": [
        "from IPython.display import YouTubeVideo\n",
        "YouTubeVideo('TAEYvJn5eGc')"
      ]
    },
    {
      "cell_type": "markdown",
      "metadata": {
        "run_control": {
          "frozen": false,
          "read_only": false
        },
        "id": "AVxxmokyfDTe"
      },
      "source": [
        "# Top-level functions in this module\n",
        "\n",
        "help(lphi)\n",
        "help(lunit)\n",
        "help(lcat)\n",
        "help(lexp)\n",
        "help(lunion)\n",
        "help(lstar)\n",
        "help(srev)\n",
        "help(lrev)\n",
        "help(shomo)\n",
        "help(lhomo)\n",
        "help(powset)\n",
        "help(lint)\n",
        "help(lsymdiff)\n",
        "help(lminus)\n",
        "help(lissubset)\n",
        "help(lissuperset)\n",
        "help(lcomplem)\n",
        "help(product)\n",
        "\n"
      ]
    },
    {
      "cell_type": "markdown",
      "metadata": {
        "editable": false,
        "run_control": {
          "frozen": false,
          "read_only": false
        },
        "id": "mX87B2rFfDTe"
      },
      "source": [
        "<span style=\"color:blue\"> **Now we begin following along Chapter-2 of the book ** </span>\n",
        "\n",
        "# Chapter-2: Alphabet and Languages\n",
        "\n",
        "We begin our study of Alphabets and Languages. Please read the book. You *must* be doing two kinds of exercises:\n",
        "\n",
        "* Do exercises on paper. That is the math you need from this course. There is no short-cut to it.\n",
        "\n",
        "* Do the programming challenges (and play with the code) presented in this notebook (more exercises will be added). This programming part builds intuitions and helps knowledge stick.\n",
        "\n",
        "> Let us recall Prof. John McCarthy's quote\n",
        "\n",
        ">> You do not understand anything unless you have studied it in multiple ways\n",
        "\n",
        "It is to facilitate the \"study in multiple ways\" that the programming part is being given to you. It is the centerpiece of this work."
      ]
    },
    {
      "cell_type": "markdown",
      "metadata": {
        "editable": false,
        "run_control": {
          "frozen": false,
          "read_only": false
        },
        "id": "QqZaSXf_fDTe"
      },
      "source": [
        "<span style=\"color:blue\"> **Coding philosophy:** </span>\n",
        "\n",
        "Clearly, the code in this book can be cast into an object-oriented style. We avoid doing so for these reasons:\n",
        "\n",
        "* We want to keep the barrier to entry as low as possible. In fact, we are extremely parsimonious in our use of Python constructs.\n",
        "\n",
        "* We prefer to modularize each concept into specific sections where we treat the math and code as being almost at the same level. We also want these Jupyter notes to resemble Knuth's \"literate programs\". More reasons will be given in the Jupyter notes of Chapter 3."
      ]
    },
    {
      "cell_type": "markdown",
      "metadata": {
        "editable": false,
        "run_control": {
          "frozen": false,
          "read_only": false
        },
        "id": "Smumxfb5fDTf"
      },
      "source": [
        "<span style=\"color:blue\"> **------** </span>\n",
        "\n",
        "OK, now onto our subject matter!\n",
        "\n",
        "## Alphabet and Language\n",
        "\n",
        "\n",
        "An Alphabet is a *finite* set of finitary items, often called \"symbols\" - usually they are single characters, but they also could be finite strings or (in the case of GNFA) be themselves regular expressions.  Just think of an Alphabet $\\Sigma$ to be a *finite* and *non-empty* set of symbols.\n",
        "\n",
        "\n",
        "__Language__:\n",
        "\n",
        "\n",
        "A language is a set of sequences (strings) of symbols. We define languages through Python code as follows.\n",
        "\n",
        "We are defining regular languages here.\n",
        "\n",
        "The simplest regular language is $\\emptyset$, the empty language. This is like the \"zero\" of a language. Why so? We know that \"0\" is the annihilator for multiplication, i.e. 3 $\\times$ 0 = 0. What is the multiplication operation for languages? It is concatenation!\n",
        "\n",
        "\n",
        "* Notice that in almost all cases, languages are encoded using Python sets.\n",
        "\n",
        "* Exceptions will be pointed out when they occur.\n",
        "\n",
        "* Also, in almost all cases, languages are sets of strings."
      ]
    },
    {
      "cell_type": "markdown",
      "metadata": {
        "editable": false,
        "run_control": {
          "frozen": false,
          "read_only": false
        },
        "id": "BFF2D3WLfDTf"
      },
      "source": [
        "__Zero Language__:\n",
        "\n",
        "<span style=\"color:blue\"> **We begin with the empty language (ZERO of a language). We use lphi() to refere to this language, as phi (Greek symbol) is used to denote the empty set. ** </span>"
      ]
    },
    {
      "cell_type": "code",
      "source": [
        "# The theory of languages : Primitive languages and language builders\n",
        "\n",
        "def lphi():\n",
        "    \"\"\"In : None.\n",
        "       Out: Zero language, i.e. set({}).\n",
        "    \"\"\"\n",
        "    return set({})  # {} could be dict; so we put set(..)\n",
        "\n",
        "def lunit():\n",
        "    \"\"\"In : None.\n",
        "       Out: {\"\"} (a language : a set).\n",
        "    \"\"\"\n",
        "    return {\"\"} # Set with epsilon\n",
        "\n",
        "def lcat(L1,L2):\n",
        "    \"\"\"In : L1 (language : a set),\n",
        "            L2 (language : a set).\n",
        "       Out: L1 concat L2 (language : a set).\n",
        "       Example:\n",
        "       L1 = {'ab', 'bc'}\n",
        "       L2 = {'11', 'ab', '22'}\n",
        "       lcat(L1,L2) -> {'abab', 'bc22', 'ab11', 'ab22', 'bcab', 'bc11'}\n",
        "    \"\"\"\n",
        "    return {x+y for x in L1 for y in L2}\n",
        "\n",
        "def lexp(L,n):\n",
        "    \"\"\"In : L (language : a set),\n",
        "            n (exponent : a nat).\n",
        "       Out: L^n (language : a set).\n",
        "       Example:\n",
        "       L = {'ab', 'bc'}\n",
        "       n = 2\n",
        "       lexp(A,2) -> {'abab', 'bcab', 'bcbc', 'abbc'}\n",
        "    \"\"\"\n",
        "    return lunit() if n == 0 else lcat(L, lexp(L, n-1))\n",
        "\n",
        "def lunion(L1,L2):\n",
        "    \"\"\"In : L1 (language : a set),\n",
        "            L2 (language : a set).\n",
        "       Out: L1 union L2 (language : a set).\n",
        "    \"\"\"\n",
        "    return L1 | L2\n",
        "\n",
        "def lstar(L,n):\n",
        "    \"\"\"In : L (language : a set),\n",
        "            n (bound for lstar : a nat).\n",
        "       Out: L*_n (language : a set)\n",
        "    Example:\n",
        "    L = {'ab','bc'}\n",
        "    n = 2\n",
        "    lstar(L,2) -> {'abab', 'bcbc', 'ab', 'abbc', '', 'bc', 'bcab'}\n",
        "    \"\"\"\n",
        "    return lunit() if n == 0 else lunion(lexp(L,n), lstar(L,n-1))\n",
        "\n",
        "# In Python, there isn't direct support for reversing a string.\n",
        "# The backward selection method implemented by S[::-1] is what\n",
        "# many recommend. This leaves the start and stride empty, and\n",
        "# specifies the direction to be going backwards.\n",
        "# Another method is \"\".join(reversed(s)) to reverse s\n",
        "\n",
        "def srev(S):\n",
        "    \"\"\"In : S (string)\n",
        "       Out: reverse of S (string)\n",
        "       Example:\n",
        "       srev('ab') -> 'ba'\n",
        "    \"\"\"\n",
        "    return S[::-1]\n",
        "\n",
        "def lrev(L):\n",
        "    \"\"\"In : L (language : a set)\n",
        "       Out: reverse of L (language : a set)\n",
        "       Example:\n",
        "       lrev({'ab', 'bc'}) -> {'cb', 'ba'}\n",
        "    \"\"\"\n",
        "    return set(map(lambda x: srev(x), L))\n",
        "\n",
        "def shomo(S,f):\n",
        "    \"\"\"In : S (string)\n",
        "            f (fun\n",
        "            ction from char to char)\n",
        "       Out: String homomorphism of S wrt f.\n",
        "       Example:\n",
        "       S = \"abcd\"\n",
        "       f = lambda x: chr( (ord(x)+1) % 256 )\n",
        "       shomo(\"abcd\",f) -> 'bcde'\n",
        "    \"\"\"\n",
        "    return \"\".join(map(f,S))\n",
        "\n",
        "def lhomo(L,f):\n",
        "    \"\"\"In : L (language : set of strings)\n",
        "            f (function from char to char)\n",
        "       Out: Lang. homomorphism of L wrt f (language : set of str)\n",
        "       Example:\n",
        "       L = {\"Hello there\", \"a\", \"A\"}\n",
        "       f = rot13 = lambda x: chr( (ord(x)+13) % 256 )\n",
        "       lhomo(L, rot13) -> {'N', 'Uryy|-\\x81ur\\x7fr', 'n'}\n",
        "    \"\"\"\n",
        "    return set(map(lambda S: shomo(S,f), L))\n",
        "\n",
        "def powset(S):\n",
        "    \"\"\"In : S (set)\n",
        "       Out: List of lists representing powerset.\n",
        "            Since sets/lists are unhashable, we convert the set\n",
        "            to a list,perform the powerset operations, leaving\n",
        "            the result as a list (can't convert back to a set).\n",
        "       Example:\n",
        "       S = {'ab', 'bc'}\n",
        "       powset(S) -> [['ab', 'bc'], ['bc'], ['ab'], []]\n",
        "    \"\"\"\n",
        "    L=list(S)\n",
        "    if L==[]:\n",
        "        return([[]])\n",
        "    else:\n",
        "        pow_rest0 = powset(L[1:])\n",
        "        pow_rest1 = list(map(lambda Ls: [L[0]] + Ls, pow_rest0))\n",
        "        return(pow_rest0 + pow_rest1)\n",
        "\n",
        "def lint(L1,L2):\n",
        "    \"\"\"In : L1 (language : set of strings)\n",
        "            L2 (language : set of strings)\n",
        "       Out: L1 intersection L2 (sets of strings)\n",
        "    \"\"\"\n",
        "    return L1 & L2\n",
        "\n",
        "def lsymdiff(L1,L2):\n",
        "    \"\"\"In : L1 (language : set of strings)\n",
        "            L2 (language : set of strings)\n",
        "       Out: (L1 \\ L2) union (L2 \\ L1) (sets of strings)\n",
        "       Example:\n",
        "       lsymdiff({'ab', 'bc'}, {'11', 'ab', '22'}) -> {'11', '22', 'bc'}\n",
        "    \"\"\"\n",
        "    return L1 ^ L2\n",
        "\n",
        "def lminus(L1,L2):\n",
        "    \"\"\"Language subtraction of two languages (sets of strings)\n",
        "       Can do it as L1.difference(L2) also.\n",
        "    \"\"\"\n",
        "    return L1 - L2\n",
        "\n",
        "def lissubset(L1,L2):\n",
        "    \"\"\"In : L1 (language : set of strings)\n",
        "            L2 (language : set of strings)\n",
        "       Out: L1 is subset or equal to L2 (True/False)\n",
        "    \"\"\"\n",
        "    return L1 <= L2\n",
        "\n",
        "def lissuperset(L1,L2):\n",
        "    \"\"\"In : L1 (language : set of strings)\n",
        "            L2 (language : set of strings)\n",
        "       Out: L1 is superset or equal to L2 (True/False)\n",
        "    \"\"\"\n",
        "    return L1 >= L2\n",
        "\n",
        "def lcomplem(L,sigma,n):\n",
        "    \"\"\"In : L (language : set of strings)\n",
        "            sigma (alphabet : set of strings)\n",
        "            n (finite limit for lstar : int)\n",
        "       Out : sigma*_n - L (language : set of strings)\n",
        "       Example:\n",
        "       L = {'0', '10', '010'}\n",
        "       sigma = {'0', '1'}\n",
        "       n = 3\n",
        "       lcomplem(L4,{'0','1'}, 3) ->\n",
        "       {'', '000', '101', '011', '00', '1',\n",
        "        '001', '110', '111', '100', '01', '11'}\n",
        "    \"\"\"\n",
        "    return lstar(sigma,n) - L\n",
        "\n",
        "def product(S1,S2):\n",
        "    \"\"\"In : S1 (set)\n",
        "            S2 (set)\n",
        "       Out: Cartesian product of S1 and S2 (set of pairs)\n",
        "    \"\"\"\n",
        "    return { (x,y) for x in S1 for y in S2 }\n",
        "\n",
        "from math import floor, log, pow\n",
        "def nthnumeric(N, S=['a','b']):\n",
        "    \"\"\"Assume S ('Sigma') is a 2-sized list of chars (default ['a','b']).\n",
        "       Produce the Nth string in numeric order, where N >= 0.\n",
        "       Idea : Given N, get b = floor(log_2(N+1)) - need that\n",
        "       many places; what to fill in the places is the binary\n",
        "       code for N - (2^b - 1) with 0 as S[0] and 1 as S[1].\n",
        "    \"\"\"\n",
        "    assert(type(S)==list # This makes sure that the order does not flip\n",
        "          ),\"nthnumeric now expects to be given a two-element list!!\"\n",
        "    assert(len(S)==2\n",
        "          ),\"Expected to be given an S of length 2.\"\n",
        "    if(N==0):\n",
        "        return ''\n",
        "    else:\n",
        "        width = floor(log(N+1, 2))\n",
        "        tofill = int(N - pow(2, width) + 1)\n",
        "        relevant_binstr = bin(tofill)[2::] # strip the 0b\n",
        "                                           # in the leading string\n",
        "        len_to_makeup = width - len(relevant_binstr)\n",
        "        return (S[0]*len_to_makeup +\n",
        "                shomo(relevant_binstr,\n",
        "                      lambda x: S[1] if x=='1' else S[0]))\n",
        "\n",
        "#--end"
      ],
      "metadata": {
        "id": "Me--Xscig1jT"
      },
      "execution_count": 64,
      "outputs": []
    },
    {
      "cell_type": "code",
      "execution_count": 2,
      "metadata": {
        "code_folding": [
          3
        ],
        "editable": false,
        "run_control": {
          "frozen": false,
          "read_only": false
        },
        "id": "kjqNjeLrfDTf"
      },
      "outputs": [],
      "source": [
        "# The theory of languages : Primitive languages and language builders\n",
        "\n",
        "def lphi():\n",
        "    \"\"\"In : None.\n",
        "       Out: Zero language, i.e. set({}).\n",
        "    \"\"\"\n",
        "    return set({})  # {} could be dict; so we put set(..)"
      ]
    },
    {
      "cell_type": "code",
      "execution_count": 3,
      "metadata": {
        "run_control": {
          "frozen": false,
          "read_only": false
        },
        "id": "ZDSK2dfXfDTg",
        "outputId": "fca49775-f836-4678-cba0-f6d7445633f8",
        "colab": {
          "base_uri": "https://localhost:8080/"
        }
      },
      "outputs": [
        {
          "output_type": "execute_result",
          "data": {
            "text/plain": [
              "set()"
            ]
          },
          "metadata": {},
          "execution_count": 3
        }
      ],
      "source": [
        "lphi()"
      ]
    },
    {
      "cell_type": "markdown",
      "metadata": {
        "editable": false,
        "run_control": {
          "frozen": false,
          "read_only": false
        },
        "id": "TbvqiPbofDTg"
      },
      "source": [
        "__Unit Language__:\n",
        "\n",
        "<span style=\"color:blue\"> **Now we define the Unit language (ONE of a language) as well as concatenation. We use lunit() and lcat() to refer to these operations. ** </span>"
      ]
    },
    {
      "cell_type": "markdown",
      "metadata": {
        "editable": false,
        "run_control": {
          "frozen": false,
          "read_only": false
        },
        "id": "NepKn_aBfDTg"
      },
      "source": [
        "Now let us define the Unit language (\"1\" for languages with respect to concatenation viewed as multiplication).\n",
        "\n",
        "Let us also define language concatenation.\n",
        "\n",
        "> $L1 \\; L2 \\;\\; =\\;\\;  \\{x y \\; \\mid \\; x\\in L1 \\;\\wedge\\; y\\in L2\\}$"
      ]
    },
    {
      "cell_type": "markdown",
      "metadata": {
        "editable": false,
        "run_control": {
          "frozen": false,
          "read_only": false
        },
        "id": "150Gr-uifDTg"
      },
      "source": [
        "# Documentation Conventions\n",
        "\n",
        "* Functions will have comment strings that start with \"\"\" and end with \"\"\"\n",
        "* In : will specify inputs separately, mentioning conceptual object and rep (Python data-type)\n",
        "* Out: will mention output, mentioning conceptual object and rep (Python data-type)\n",
        "* Sometimes an example will follow\n",
        "* Extremely simple helper functions won't have much of a doc (usually a one-liner)\n",
        "* Example documentation:\n",
        "```\n",
        "  \"\"\"In : L1 (language : a set),\n",
        "          L2 (language : a set).\n",
        "     Out: L1 concat L2 (language : a set).\n",
        "     Example:\n",
        "     L1 = {'ab', 'bc'}\n",
        "     L2 = {'11', 'ab', '22'}\n",
        "     lcat(L1,L2) -> {'abab', 'bc22', 'ab11', 'ab22', 'bcab', 'bc11'}\n",
        "  \"\"\"\n",
        "```"
      ]
    },
    {
      "cell_type": "code",
      "execution_count": 4,
      "metadata": {
        "editable": false,
        "run_control": {
          "frozen": false,
          "read_only": false
        },
        "id": "3g615G8jfDTh"
      },
      "outputs": [],
      "source": [
        "def lunit():\n",
        "    \"\"\"In : None.\n",
        "       Out: {\"\"} (a language : a set).\n",
        "    \"\"\"\n",
        "    return {\"\"} # Set with epsilon\n",
        "\n",
        "def lcat(L1,L2):\n",
        "    \"\"\"In : L1 (language : a set),\n",
        "            L2 (language : a set).\n",
        "       Out: L1 concat L2 (language : a set).\n",
        "       Example:\n",
        "       L1 = {'ab', 'bc'}\n",
        "       L2 = {'11', 'ab', '22'}\n",
        "       lcat(L1,L2) -> {'abab', 'bc22', 'ab11', 'ab22', 'bcab', 'bc11'}\n",
        "    \"\"\"\n",
        "    return {x+y for x in L1 for y in L2}"
      ]
    },
    {
      "cell_type": "code",
      "execution_count": 5,
      "metadata": {
        "run_control": {
          "frozen": false,
          "read_only": false
        },
        "id": "-R6Kq4r6fDTh",
        "outputId": "14a1e7f9-e5dc-43f1-a39e-c55daf6d7a8e",
        "colab": {
          "base_uri": "https://localhost:8080/",
          "height": 37
        }
      },
      "outputs": [
        {
          "output_type": "execute_result",
          "data": {
            "text/plain": [
              "''"
            ],
            "application/vnd.google.colaboratory.intrinsic+json": {
              "type": "string"
            }
          },
          "metadata": {},
          "execution_count": 5
        }
      ],
      "source": [
        "\"\""
      ]
    },
    {
      "cell_type": "code",
      "execution_count": 6,
      "metadata": {
        "run_control": {
          "frozen": false,
          "read_only": false
        },
        "id": "ZfLhDT3XfDTh",
        "outputId": "287ba6ce-53bf-4dd3-b27f-cac275b93110",
        "colab": {
          "base_uri": "https://localhost:8080/"
        }
      },
      "outputs": [
        {
          "output_type": "execute_result",
          "data": {
            "text/plain": [
              "{'', 'a', 'aa'}"
            ]
          },
          "metadata": {},
          "execution_count": 6
        }
      ],
      "source": [
        "L1 = {\"a\" * n for n in range(0,3)}\n",
        "L1"
      ]
    },
    {
      "cell_type": "code",
      "execution_count": 7,
      "metadata": {
        "run_control": {
          "frozen": false,
          "read_only": false
        },
        "id": "m0CQg9C7fDTh",
        "outputId": "38898286-0249-46bc-85ce-f0acb8bda302",
        "colab": {
          "base_uri": "https://localhost:8080/"
        }
      },
      "outputs": [
        {
          "output_type": "execute_result",
          "data": {
            "text/plain": [
              "{'', 'b'}"
            ]
          },
          "metadata": {},
          "execution_count": 7
        }
      ],
      "source": [
        "L2 = {\"b\" * m for m in range(0,2)}\n",
        "L2"
      ]
    },
    {
      "cell_type": "code",
      "execution_count": 8,
      "metadata": {
        "run_control": {
          "frozen": false,
          "read_only": false
        },
        "id": "RyFEaeZ8fDTh",
        "outputId": "1900091a-c693-488d-8036-2699e9748386",
        "colab": {
          "base_uri": "https://localhost:8080/"
        }
      },
      "outputs": [
        {
          "output_type": "execute_result",
          "data": {
            "text/plain": [
              "{'', 'a', 'aa', 'aab', 'ab', 'b'}"
            ]
          },
          "metadata": {},
          "execution_count": 8
        }
      ],
      "source": [
        "lcat(L1,L2)"
      ]
    },
    {
      "cell_type": "code",
      "execution_count": 9,
      "metadata": {
        "run_control": {
          "frozen": false,
          "read_only": false
        },
        "id": "LPDRzaWefDTh",
        "outputId": "8871158f-06e6-4be7-ed36-9bbb8f20fff2",
        "colab": {
          "base_uri": "https://localhost:8080/"
        }
      },
      "outputs": [
        {
          "output_type": "execute_result",
          "data": {
            "text/plain": [
              "{'', 'a', 'aa'}"
            ]
          },
          "metadata": {},
          "execution_count": 9
        }
      ],
      "source": [
        "lcat(lunit(), L1)"
      ]
    },
    {
      "cell_type": "code",
      "execution_count": 10,
      "metadata": {
        "run_control": {
          "frozen": false,
          "read_only": false
        },
        "id": "I_9SQdEmfDTi",
        "outputId": "c610755c-0ae2-4fb2-a221-9c34cd713549",
        "colab": {
          "base_uri": "https://localhost:8080/"
        }
      },
      "outputs": [
        {
          "output_type": "execute_result",
          "data": {
            "text/plain": [
              "{('', ''), ('', 'a'), ('a', ''), ('a', 'a')}"
            ]
          },
          "metadata": {},
          "execution_count": 10
        }
      ],
      "source": [
        "x = {'','a'}\n",
        "xcrossx = { (a,b) for a in x for b in x}\n",
        "xcrossx"
      ]
    },
    {
      "cell_type": "code",
      "execution_count": 11,
      "metadata": {
        "run_control": {
          "frozen": false,
          "read_only": false
        },
        "id": "VcTBTpOBfDTi",
        "outputId": "381c5c11-3e01-4fdd-8397-cc92c99bca50",
        "colab": {
          "base_uri": "https://localhost:8080/"
        }
      },
      "outputs": [
        {
          "output_type": "execute_result",
          "data": {
            "text/plain": [
              "False"
            ]
          },
          "metadata": {},
          "execution_count": 11
        }
      ],
      "source": [
        "len(lcat(x,x)) == len(xcrossx)"
      ]
    },
    {
      "cell_type": "markdown",
      "metadata": {
        "editable": false,
        "run_control": {
          "frozen": false,
          "read_only": false
        },
        "id": "3i3AMhKGfDTi"
      },
      "source": [
        "__Language Concatenation vs. Cartesian Product__:\n",
        "\n",
        "<span style=\"color:blue\"> **Notice the similarity with cartesian product. We draw a string x from L1 and string y from L2, but instead of pairing them, we concatenate them.** </span>"
      ]
    },
    {
      "cell_type": "markdown",
      "metadata": {
        "editable": false,
        "run_control": {
          "frozen": false,
          "read_only": false
        },
        "id": "iDhhVPFifDTi"
      },
      "source": [
        "## Illustrations\n",
        "\n",
        "We now illustrate\n",
        "\n",
        "* the Zero language lphi(),\n",
        "\n",
        "* unit language lunit(),\n",
        "\n",
        "* and the lcat() operator\n",
        "\n",
        "Let us take a simple example language L = $\\{{\\text 'a'}, {\\text 'bc'}\\}$ for illustration.\n",
        "\n",
        "Recall that in Python, there are multiple ways to quote strings ('a', \"a\", or \"\"\"a\"\"\"). The main idea is to support the nesting of quotes. So please don't be confused if we accidentally change our quoting method."
      ]
    },
    {
      "cell_type": "code",
      "execution_count": 12,
      "metadata": {
        "editable": false,
        "run_control": {
          "frozen": false,
          "read_only": false
        },
        "id": "ZLVNWBD0fDTi",
        "outputId": "340f0110-6788-471f-effe-57d3250f6836",
        "colab": {
          "base_uri": "https://localhost:8080/"
        }
      },
      "outputs": [
        {
          "output_type": "stream",
          "name": "stdout",
          "text": [
            "lcat(lphi(), L) =  set()\n",
            "lcat(lunit(), L) =  {'bc', 'a'}\n"
          ]
        }
      ],
      "source": [
        "L = {'a','bc'}\n",
        "\n",
        "print( \"lcat(lphi(), L) = \",  lcat(lphi(), L) )\n",
        "\n",
        "print( \"lcat(lunit(), L) = \",  lcat(lunit(), L)  )"
      ]
    },
    {
      "cell_type": "markdown",
      "metadata": {
        "editable": false,
        "run_control": {
          "frozen": false,
          "read_only": false
        },
        "id": "5vBUp6BUfDTi"
      },
      "source": [
        "\n",
        "Let us define another language through set comprehension, and exercise many different applications of concatenation.\n",
        "\n",
        "\n",
        "* Consider the language\n",
        "\n",
        " > M = $\\{ 0^m 1^n \\; \\mid \\; 0 \\leq m,n \\leq 3 \\;\\wedge\\; m < n \\}$"
      ]
    },
    {
      "cell_type": "code",
      "execution_count": 13,
      "metadata": {
        "editable": false,
        "run_control": {
          "frozen": false,
          "read_only": false
        },
        "id": "sqYDi45BfDTi",
        "outputId": "402d3ff4-2a59-4633-89c9-56074bd2f36c",
        "colab": {
          "base_uri": "https://localhost:8080/"
        }
      },
      "outputs": [
        {
          "output_type": "stream",
          "name": "stdout",
          "text": [
            "{'0111', '111', '011', '11', '1', '00111'}\n"
          ]
        }
      ],
      "source": [
        "M = {\"0\"*m + \"1\"*n for m in range(3) for n in range(4) if m < n }\n",
        "print(M)"
      ]
    },
    {
      "cell_type": "code",
      "execution_count": 14,
      "metadata": {
        "editable": false,
        "run_control": {
          "frozen": false,
          "read_only": false
        },
        "id": "JG-FriFqfDTi",
        "outputId": "8e104c46-c475-445b-cbfa-506da4d05e49",
        "colab": {
          "base_uri": "https://localhost:8080/"
        }
      },
      "outputs": [
        {
          "output_type": "stream",
          "name": "stdout",
          "text": [
            "lcat(L,M) =  {'a111', 'bc0111', 'bc111', 'bc00111', 'bc11', 'a011', 'a1', 'a0111', 'a00111', 'bc1', 'a11', 'bc011'}\n"
          ]
        }
      ],
      "source": [
        "print(\"lcat(L,M) = \", lcat(L,M))"
      ]
    },
    {
      "cell_type": "code",
      "execution_count": 15,
      "metadata": {
        "editable": false,
        "run_control": {
          "frozen": false,
          "read_only": false
        },
        "id": "hn138ukBfDTj",
        "outputId": "e53ccdee-7858-41ba-a5c6-76697042d70f",
        "colab": {
          "base_uri": "https://localhost:8080/"
        }
      },
      "outputs": [
        {
          "output_type": "stream",
          "name": "stdout",
          "text": [
            "lcat(M,lphi()) =  set()\n"
          ]
        }
      ],
      "source": [
        "print(\"lcat(M,lphi()) = \", lcat(M,lphi()))"
      ]
    },
    {
      "cell_type": "code",
      "execution_count": 16,
      "metadata": {
        "editable": false,
        "run_control": {
          "frozen": false,
          "read_only": false
        },
        "id": "Ty8o75DjfDTj",
        "outputId": "3c152dd9-332d-411e-aead-545f11648f7d",
        "colab": {
          "base_uri": "https://localhost:8080/"
        }
      },
      "outputs": [
        {
          "output_type": "stream",
          "name": "stdout",
          "text": [
            "lcat(M,lunit()) =  {'0111', '111', '011', '11', '1', '00111'}\n"
          ]
        }
      ],
      "source": [
        "print(\"lcat(M,lunit()) = \", lcat(M,lunit()))"
      ]
    },
    {
      "cell_type": "markdown",
      "metadata": {
        "editable": false,
        "run_control": {
          "frozen": false,
          "read_only": false
        },
        "id": "QKi2YRVOfDTj"
      },
      "source": [
        "<span style=\"color:green\"> **Need to add a few exercises here. ** </span>"
      ]
    },
    {
      "cell_type": "markdown",
      "metadata": {
        "editable": false,
        "run_control": {
          "frozen": false,
          "read_only": false
        },
        "id": "7LkkAxycfDTj"
      },
      "source": [
        "### Exponentiation as repeated concatenation\n",
        "\n",
        "With concatenation and Unit under our belt, we can define exponentiation recursively. Exponentiation is repeated multiplication (which for us is concatenation).\n",
        "\n",
        "> $L^n = L L^{n-1}$\n",
        "\n",
        "> $L^0 = Unit$\n",
        "\n",
        "We must have $L^0 = lunit()$; that is the only logical choice.\n",
        "\n",
        "\n",
        "__Question:__  If you defined $L^0 = lphi()$, then what happens?\n",
        "\n",
        "The code below simulates the aforesaid recursion."
      ]
    },
    {
      "cell_type": "code",
      "execution_count": 17,
      "metadata": {
        "editable": false,
        "run_control": {
          "frozen": false,
          "read_only": false
        },
        "id": "uXJBEkiofDTj"
      },
      "outputs": [],
      "source": [
        "def lexp(L,n):\n",
        "    \"\"\"In : L (language : a set),\n",
        "            n (exponent : a nat).\n",
        "       Out: L^n (language : a set).\n",
        "       Example:\n",
        "       L = {'ab', 'bc'}\n",
        "       n = 2\n",
        "       lexp(A,2) -> {'abab', 'bcab', 'bcbc', 'abbc'}\n",
        "    \"\"\"\n",
        "    return lunit() if n == 0 else lcat(L, lexp(L, n-1))"
      ]
    },
    {
      "cell_type": "markdown",
      "metadata": {
        "editable": false,
        "run_control": {
          "frozen": false,
          "read_only": false
        },
        "id": "gPSRfVtzfDTj"
      },
      "source": [
        "\n",
        "__Let us now test our lexp functionality__:\n",
        "\n"
      ]
    },
    {
      "cell_type": "code",
      "execution_count": 18,
      "metadata": {
        "editable": false,
        "run_control": {
          "frozen": false,
          "read_only": false
        },
        "id": "1ZpekSOGfDTj",
        "outputId": "0c4db3bd-8ce2-4aff-aee5-420b3564e9ca",
        "colab": {
          "base_uri": "https://localhost:8080/"
        }
      },
      "outputs": [
        {
          "output_type": "execute_result",
          "data": {
            "text/plain": [
              "{'aa', 'abc', 'bca', 'bcbc'}"
            ]
          },
          "metadata": {},
          "execution_count": 18
        }
      ],
      "source": [
        "L = {'a','bc'}\n",
        "lexp(L,2)"
      ]
    },
    {
      "cell_type": "code",
      "execution_count": 19,
      "metadata": {
        "editable": false,
        "run_control": {
          "frozen": false,
          "read_only": false
        },
        "id": "emWIpiVyfDTj",
        "outputId": "28cfa245-e25f-40af-bdfe-2addbd4402a7",
        "colab": {
          "base_uri": "https://localhost:8080/"
        }
      },
      "outputs": [
        {
          "output_type": "stream",
          "name": "stdout",
          "text": [
            "M =  {'0111', '111', '011', '11', '1', '00111'}\n",
            "lexp(M,2) = \n"
          ]
        },
        {
          "output_type": "execute_result",
          "data": {
            "text/plain": [
              "{'0011100111',\n",
              " '00111011',\n",
              " '001110111',\n",
              " '001111',\n",
              " '0011111',\n",
              " '00111111',\n",
              " '01100111',\n",
              " '011011',\n",
              " '0110111',\n",
              " '0111',\n",
              " '011100111',\n",
              " '0111011',\n",
              " '01110111',\n",
              " '01111',\n",
              " '011111',\n",
              " '0111111',\n",
              " '100111',\n",
              " '1011',\n",
              " '10111',\n",
              " '11',\n",
              " '1100111',\n",
              " '11011',\n",
              " '110111',\n",
              " '111',\n",
              " '11100111',\n",
              " '111011',\n",
              " '1110111',\n",
              " '1111',\n",
              " '11111',\n",
              " '111111'}"
            ]
          },
          "metadata": {},
          "execution_count": 19
        }
      ],
      "source": [
        "M = {\"0\"*m + \"1\"*n for m in range(3) for n in range(4) if m < n }\n",
        "print('M = ', M)\n",
        "print('lexp(M,2) = ')\n",
        "lexp(M,2)"
      ]
    },
    {
      "cell_type": "code",
      "execution_count": 20,
      "metadata": {
        "editable": false,
        "run_control": {
          "frozen": false,
          "read_only": false
        },
        "id": "Cb0jKYS0fDTj",
        "outputId": "b30555b9-885c-4ae3-a9f1-72bbc4cbb2a6",
        "colab": {
          "base_uri": "https://localhost:8080/"
        }
      },
      "outputs": [
        {
          "output_type": "execute_result",
          "data": {
            "text/plain": [
              "{'a00111',\n",
              " 'a011',\n",
              " 'a0111',\n",
              " 'a1',\n",
              " 'a11',\n",
              " 'a111',\n",
              " 'bc00111',\n",
              " 'bc011',\n",
              " 'bc0111',\n",
              " 'bc1',\n",
              " 'bc11',\n",
              " 'bc111'}"
            ]
          },
          "metadata": {},
          "execution_count": 20
        }
      ],
      "source": [
        "L = {'a','bc'}\n",
        "M = {\"0\"*m + \"1\"*n for m in range(3) for n in range(4) if m < n }\n",
        "lexp(lcat(L,M),1)"
      ]
    },
    {
      "cell_type": "markdown",
      "metadata": {
        "editable": false,
        "run_control": {
          "frozen": false,
          "read_only": false
        },
        "id": "M7_ecKAdfDTj"
      },
      "source": [
        "<span style=\"color:green\"> **Need to add a few exercises here. ** </span>"
      ]
    },
    {
      "cell_type": "markdown",
      "metadata": {
        "editable": false,
        "run_control": {
          "frozen": false,
          "read_only": false
        },
        "id": "AuEDpuq0fDTk"
      },
      "source": [
        "<span style=\"color:blue\"> **Definition of the star of a language through function lstar. Since star produces an infinite set in almost all cases, we define a _truncated_ version of star. ** </span>"
      ]
    },
    {
      "cell_type": "markdown",
      "metadata": {
        "editable": false,
        "run_control": {
          "frozen": false,
          "read_only": false
        },
        "id": "DfpYqslmfDTk"
      },
      "source": [
        "\n",
        "### With lexp under our belt, we can define lstar. We will define \"star up to n\" and then set n to infinity.\n",
        "\n",
        "> $L^{*n} = L^n \\; \\cup \\; L^{*(n-1)}$\n",
        "\n",
        "> $L^{*0} = Unit$\n",
        "\n",
        "And thus the classical $L^* = L^{*n}\\;\\; {\\rm for}\\;\\; n=\\infty$, which we won't bother to \"run\" in Python :-).  We will only run $L^{*n}$ in Python.\n",
        "\n",
        "We also take care to test that lstar works correctly for lphi and Unit.\n"
      ]
    },
    {
      "cell_type": "code",
      "execution_count": 21,
      "metadata": {
        "editable": false,
        "run_control": {
          "frozen": false,
          "read_only": false
        },
        "id": "ufW27gFlfDTn"
      },
      "outputs": [],
      "source": [
        "def lunion(L1,L2):\n",
        "    \"\"\"In : L1 (language : a set),\n",
        "            L2 (language : a set).\n",
        "       Out: L1 union L2 (language : a set).\n",
        "    \"\"\"\n",
        "    return L1 | L2\n",
        "\n",
        "def lstar(L,n):\n",
        "    \"\"\"In : L (language : a set),\n",
        "            n (bound for lstar : a nat).\n",
        "       Out: L*_n (language : a set)\n",
        "    Example:\n",
        "    L = {'ab','bc'}\n",
        "    n = 2\n",
        "    lstar(L,2) -> {'abab', 'bcbc', 'ab', 'abbc', '', 'bc', 'bcab'}\n",
        "    \"\"\"\n",
        "    return lunit() if n == 0 else lunion(lexp(L,n), lstar(L,n-1))"
      ]
    },
    {
      "cell_type": "markdown",
      "metadata": {
        "id": "wX1iOJuTfDTn"
      },
      "source": [
        "***Below is the L1 language in Quiz-1, Question 8***\n",
        "***You will be changing the L1 definition as requested (argument 2 changed to 5), rerunning the cell below, and noting the number of strings in lstar***"
      ]
    },
    {
      "cell_type": "code",
      "execution_count": 22,
      "metadata": {
        "editable": false,
        "run_control": {
          "frozen": false,
          "read_only": false
        },
        "id": "a56c1KJifDTo",
        "outputId": "370b7413-7877-412b-b135-5aafd4cfa3b3",
        "colab": {
          "base_uri": "https://localhost:8080/"
        }
      },
      "outputs": [
        {
          "output_type": "execute_result",
          "data": {
            "text/plain": [
              "{'', 'a', 'aa', 'abc', 'bc', 'bca', 'bcbc'}"
            ]
          },
          "metadata": {},
          "execution_count": 22
        }
      ],
      "source": [
        "L1 = {'a','bc'}\n",
        "lstar(L1,2)"
      ]
    },
    {
      "cell_type": "code",
      "execution_count": 23,
      "metadata": {
        "editable": false,
        "run_control": {
          "frozen": false,
          "read_only": false
        },
        "id": "2jbFFjqgfDTo",
        "outputId": "0ad4a580-fb2b-49fc-afb4-a67c2596a8c9",
        "colab": {
          "base_uri": "https://localhost:8080/"
        }
      },
      "outputs": [
        {
          "output_type": "execute_result",
          "data": {
            "text/plain": [
              "{'', 'ab', 'abab', 'abbc', 'bc', 'bcab', 'bcbc'}"
            ]
          },
          "metadata": {},
          "execution_count": 23
        }
      ],
      "source": [
        "L2 = {'ab','bc'}\n",
        "lstar(L2,2)"
      ]
    },
    {
      "cell_type": "markdown",
      "metadata": {
        "id": "aPbRk5J2fDTo"
      },
      "source": [
        "***Below is the L2 language in Quiz-1 Question 8***"
      ]
    },
    {
      "cell_type": "code",
      "execution_count": 24,
      "metadata": {
        "editable": false,
        "run_control": {
          "frozen": false,
          "read_only": false
        },
        "id": "DpTYxu-MfDTo",
        "outputId": "b6ddda8a-138e-4754-ac1f-f261edd7066f",
        "colab": {
          "base_uri": "https://localhost:8080/"
        }
      },
      "outputs": [
        {
          "output_type": "execute_result",
          "data": {
            "text/plain": [
              "{'',\n",
              " 'ab',\n",
              " 'abab',\n",
              " 'ababab',\n",
              " 'ababbc',\n",
              " 'abbc',\n",
              " 'abbcab',\n",
              " 'abbcbc',\n",
              " 'bc',\n",
              " 'bcab',\n",
              " 'bcabab',\n",
              " 'bcabbc',\n",
              " 'bcbc',\n",
              " 'bcbcab',\n",
              " 'bcbcbc'}"
            ]
          },
          "metadata": {},
          "execution_count": 24
        }
      ],
      "source": [
        "L2 = {'ab','bc'}\n",
        "lstar(L2,3)"
      ]
    },
    {
      "cell_type": "markdown",
      "metadata": {
        "editable": false,
        "run_control": {
          "frozen": false,
          "read_only": false
        },
        "id": "yeTUayHFfDTo"
      },
      "source": [
        "#### Let us define a typical alphabet used in our studies: $\\Sigma = \\{0,1\\}$"
      ]
    },
    {
      "cell_type": "code",
      "execution_count": 25,
      "metadata": {
        "editable": false,
        "run_control": {
          "frozen": false,
          "read_only": false
        },
        "id": "0EmMgpXZfDTo"
      },
      "outputs": [],
      "source": [
        "Sig01 = {'0','1'}"
      ]
    },
    {
      "cell_type": "code",
      "execution_count": 26,
      "metadata": {
        "editable": false,
        "run_control": {
          "frozen": false,
          "read_only": false
        },
        "id": "JSchD4fLfDTo",
        "outputId": "9f1160fa-c820-4239-9d9b-27f0d300ab01",
        "colab": {
          "base_uri": "https://localhost:8080/"
        }
      },
      "outputs": [
        {
          "output_type": "execute_result",
          "data": {
            "text/plain": [
              "{''}"
            ]
          },
          "metadata": {},
          "execution_count": 26
        }
      ],
      "source": [
        "lstar(Sig01,0)"
      ]
    },
    {
      "cell_type": "code",
      "execution_count": 27,
      "metadata": {
        "editable": false,
        "run_control": {
          "frozen": false,
          "read_only": false
        },
        "id": "MsB4AYsffDTo",
        "outputId": "f86503b5-f361-4767-b590-226047bfb98a",
        "colab": {
          "base_uri": "https://localhost:8080/"
        }
      },
      "outputs": [
        {
          "output_type": "execute_result",
          "data": {
            "text/plain": [
              "{'', '0', '1'}"
            ]
          },
          "metadata": {},
          "execution_count": 27
        }
      ],
      "source": [
        "lstar(Sig01,1)"
      ]
    },
    {
      "cell_type": "code",
      "execution_count": 28,
      "metadata": {
        "editable": false,
        "run_control": {
          "frozen": false,
          "read_only": false
        },
        "id": "HekkIfAVfDTp",
        "outputId": "fbf1a8cc-70aa-40c3-c263-54e1e85ebbb3",
        "colab": {
          "base_uri": "https://localhost:8080/"
        }
      },
      "outputs": [
        {
          "output_type": "execute_result",
          "data": {
            "text/plain": [
              "{'', '0', '00', '01', '1', '10', '11'}"
            ]
          },
          "metadata": {},
          "execution_count": 28
        }
      ],
      "source": [
        "lstar(Sig01,2)"
      ]
    },
    {
      "cell_type": "code",
      "execution_count": 28,
      "metadata": {
        "editable": false,
        "run_control": {
          "frozen": false,
          "read_only": false
        },
        "id": "5vK9rwiRfDTp"
      },
      "outputs": [],
      "source": []
    },
    {
      "cell_type": "code",
      "execution_count": 29,
      "metadata": {
        "editable": false,
        "run_control": {
          "frozen": false,
          "read_only": false
        },
        "id": "J6mS-IBOfDTp",
        "outputId": "1de3479f-2e84-42c1-d1af-d8d1699d9612",
        "colab": {
          "base_uri": "https://localhost:8080/"
        }
      },
      "outputs": [
        {
          "output_type": "execute_result",
          "data": {
            "text/plain": [
              "{'',\n",
              " '0',\n",
              " '00',\n",
              " '000',\n",
              " '001',\n",
              " '01',\n",
              " '010',\n",
              " '011',\n",
              " '1',\n",
              " '10',\n",
              " '100',\n",
              " '101',\n",
              " '11',\n",
              " '110',\n",
              " '111'}"
            ]
          },
          "metadata": {},
          "execution_count": 29
        }
      ],
      "source": [
        "lstar(Sig01,3)"
      ]
    },
    {
      "cell_type": "markdown",
      "metadata": {
        "editable": false,
        "run_control": {
          "frozen": false,
          "read_only": false
        },
        "id": "Caf9ZEgJfDTp"
      },
      "source": [
        "<span style=\"color:blue\"> **Let's do a few exercises involving lstar. Use the pull-down provided by ipywidgets to select your language. Then use the slider to change the lstar truncation limit. If you had an infinite slider and slid it all the way to the right, you would be witnessing the \"true star\" :-) ** </span>"
      ]
    },
    {
      "cell_type": "code",
      "execution_count": 61,
      "metadata": {
        "run_control": {
          "frozen": false,
          "read_only": false
        },
        "id": "PjthkpuSfDTp",
        "outputId": "513491dd-8d8e-478a-c380-551936e7fdc1",
        "colab": {
          "base_uri": "https://localhost:8080/",
          "height": 268,
          "referenced_widgets": [
            "0620de8a1f3b4bceba6f67831cfb9c38",
            "e8fc43f57dd54e7692d3296e9b4571a5",
            "4fd6350f72ed4bcdab43564b6a6695d1",
            "6205377d6fdd4a9488e3bd4eafb52efb",
            "5fd2161ac3134c668ee19fea8d6e140a",
            "bee7fe53fa1d4db999be0afaab9ff4a3",
            "78fafd180bce45fe8ccd7dba094b8165",
            "e6b9c1bc55bd42fea5fdee7886d3e583",
            "773967469246434d89f102a255a876ce",
            "b7644a48c99c476a882c6d480bbda9c3"
          ]
        }
      },
      "outputs": [
        {
          "output_type": "display_data",
          "data": {
            "text/plain": [
              "interactive(children=(Dropdown(description='L', options=(('L3', {'b', 'c', 'a'}), ('L1', {'', 'bc'}), ('L2', {…"
            ],
            "application/vnd.jupyter.widget-view+json": {
              "version_major": 2,
              "version_minor": 0,
              "model_id": "0620de8a1f3b4bceba6f67831cfb9c38"
            }
          },
          "metadata": {}
        },
        {
          "output_type": "execute_result",
          "data": {
            "text/plain": [
              "<function __main__.lstar(L, n)>"
            ],
            "text/html": [
              "<div style=\"max-width:800px; border: 1px solid var(--colab-border-color);\"><style>\n",
              "      pre.function-repr-contents {\n",
              "        overflow-x: auto;\n",
              "        padding: 8px 12px;\n",
              "        max-height: 500px;\n",
              "      }\n",
              "\n",
              "      pre.function-repr-contents.function-repr-contents-collapsed {\n",
              "        cursor: pointer;\n",
              "        max-height: 100px;\n",
              "      }\n",
              "    </style>\n",
              "    <pre style=\"white-space: initial; background:\n",
              "         var(--colab-secondary-surface-color); padding: 8px 12px;\n",
              "         border-bottom: 1px solid var(--colab-border-color);\"><b>lstar</b><br/>def lstar(L, n)</pre><pre class=\"function-repr-contents function-repr-contents-collapsed\" style=\"\"><a class=\"filepath\" style=\"display:none\" href=\"#\">/content/&lt;ipython-input-21-6df1c487aebf&gt;</a>In : L (language : a set),\n",
              "        n (bound for lstar : a nat). \n",
              "   Out: L*_n (language : a set)\n",
              "Example:\n",
              "L = {&#x27;ab&#x27;,&#x27;bc&#x27;}\n",
              "n = 2\n",
              "lstar(L,2) -&gt; {&#x27;abab&#x27;, &#x27;bcbc&#x27;, &#x27;ab&#x27;, &#x27;abbc&#x27;, &#x27;&#x27;, &#x27;bc&#x27;, &#x27;bcab&#x27;}</pre></div>"
            ]
          },
          "metadata": {},
          "execution_count": 61
        }
      ],
      "source": [
        "import ipywidgets as wdg\n",
        "L1 = {'','bc'}\n",
        "L2 = {'ab','bc'}\n",
        "L3 = {'a','b','c'}\n",
        "M =  {'011', '111', '11', '0111', '00111', '1'}\n",
        "\n",
        "wdg.interact(lstar,\n",
        "L= [('L3', L3), ('L1', L1), ('L2', L2), ('M', M), ('lphi', lphi()), ('lunit', lunit() )], n=(0,7))"
      ]
    },
    {
      "cell_type": "code",
      "execution_count": 31,
      "metadata": {
        "editable": false,
        "run_control": {
          "frozen": false,
          "read_only": false
        },
        "id": "_wCA4FDDfDTp",
        "outputId": "706728c9-a88f-41ed-e237-e011083e2ca1",
        "colab": {
          "base_uri": "https://localhost:8080/",
          "height": 515,
          "referenced_widgets": [
            "dba3bae936204a11adf7e6605be39a1e",
            "3d90bd7da649461cb6cee760ae2429cd",
            "1721f15c316a49ea86eaa7dc16a66825",
            "1a479404648c4fb9a3c5644c47362179",
            "d961bc16f442419a85b9f390b763c233",
            "410becc45c554e0c939fa63c6d732eb3",
            "9c25aa8a1ee44d4ebcc833c87c5a6f99",
            "b4bb0f57588b4ea985a087ea25c622d3",
            "332b688ec2ef44229b2c8cba8c13fc70",
            "3c30e0cf245543fc8361b42fde710586"
          ]
        }
      },
      "outputs": [
        {
          "output_type": "display_data",
          "data": {
            "text/plain": [
              "interactive(children=(Dropdown(description='L', options=(('L1', {'bc', 'a'}), ('L2', {'bc', 'ab'}), ('M', {'01…"
            ],
            "application/vnd.jupyter.widget-view+json": {
              "version_major": 2,
              "version_minor": 0,
              "model_id": "dba3bae936204a11adf7e6605be39a1e"
            }
          },
          "metadata": {}
        },
        {
          "output_type": "execute_result",
          "data": {
            "text/plain": [
              "<function __main__.lstar(L, n)>"
            ],
            "text/html": [
              "<div style=\"max-width:800px; border: 1px solid var(--colab-border-color);\"><style>\n",
              "      pre.function-repr-contents {\n",
              "        overflow-x: auto;\n",
              "        padding: 8px 12px;\n",
              "        max-height: 500px;\n",
              "      }\n",
              "\n",
              "      pre.function-repr-contents.function-repr-contents-collapsed {\n",
              "        cursor: pointer;\n",
              "        max-height: 100px;\n",
              "      }\n",
              "    </style>\n",
              "    <pre style=\"white-space: initial; background:\n",
              "         var(--colab-secondary-surface-color); padding: 8px 12px;\n",
              "         border-bottom: 1px solid var(--colab-border-color);\"><b>lstar</b><br/>def lstar(L, n)</pre><pre class=\"function-repr-contents function-repr-contents-collapsed\" style=\"\"><a class=\"filepath\" style=\"display:none\" href=\"#\">/content/&lt;ipython-input-21-6df1c487aebf&gt;</a>In : L (language : a set),\n",
              "        n (bound for lstar : a nat). \n",
              "   Out: L*_n (language : a set)\n",
              "Example:\n",
              "L = {&#x27;ab&#x27;,&#x27;bc&#x27;}\n",
              "n = 2\n",
              "lstar(L,2) -&gt; {&#x27;abab&#x27;, &#x27;bcbc&#x27;, &#x27;ab&#x27;, &#x27;abbc&#x27;, &#x27;&#x27;, &#x27;bc&#x27;, &#x27;bcab&#x27;}</pre></div>"
            ]
          },
          "metadata": {},
          "execution_count": 31
        }
      ],
      "source": [
        "import ipywidgets as wdg\n",
        "L1 = {'a','bc'}\n",
        "L2 = {'ab','bc'}\n",
        "M =  {'011', '111', '11', '0111', '00111', '1'}\n",
        "\n",
        "wdg.interact(lstar,\n",
        "L= [('L1', L1), ('L2',L2), ('M', M), ('lphi', lphi()), ('lunit', lunit() )], n=(0,7))"
      ]
    },
    {
      "cell_type": "code",
      "source": [
        "nthnumeric"
      ],
      "metadata": {
        "id": "5DP8gzJVfvEl",
        "outputId": "25d9148b-6a47-408f-c332-dad63b904ca1",
        "colab": {
          "base_uri": "https://localhost:8080/",
          "height": 143
        }
      },
      "execution_count": 62,
      "outputs": [
        {
          "output_type": "error",
          "ename": "NameError",
          "evalue": "name 'nthnumeric' is not defined",
          "traceback": [
            "\u001b[0;31m---------------------------------------------------------------------------\u001b[0m",
            "\u001b[0;31mNameError\u001b[0m                                 Traceback (most recent call last)",
            "\u001b[0;32m<ipython-input-62-a7a18c0e7a53>\u001b[0m in \u001b[0;36m<cell line: 1>\u001b[0;34m()\u001b[0m\n\u001b[0;32m----> 1\u001b[0;31m \u001b[0mnthnumeric\u001b[0m\u001b[0;34m\u001b[0m\u001b[0;34m\u001b[0m\u001b[0m\n\u001b[0m",
            "\u001b[0;31mNameError\u001b[0m: name 'nthnumeric' is not defined"
          ]
        }
      ]
    },
    {
      "cell_type": "markdown",
      "metadata": {
        "id": "Ha9fDhg3fDTp"
      },
      "source": [
        "## Important use-case: Star of an alphabet\n",
        "\n",
        "We generate the universe of strings possible over an alphabet by starring the alphabet (viewed as a language of strings of length 1). The illustration below shows that."
      ]
    },
    {
      "cell_type": "code",
      "execution_count": 32,
      "metadata": {
        "id": "mAbLQvLqfDTp",
        "outputId": "e1e5c475-dff7-4654-fefa-f1ad22b81b88",
        "colab": {
          "base_uri": "https://localhost:8080/",
          "height": 515,
          "referenced_widgets": [
            "27583b05541245d5a9a7bdfcaeaff5b6",
            "2f2eb4831ff34eebb49140344f743e1f",
            "d2db36ad41a740af993236210d1591ef",
            "916667d737f04050a8dad90d19b3e699",
            "84c69a2ceb4a4db3afe6c7917ae5e128",
            "b5db77b544af46258bb1be450d7ecdcc",
            "e4fddfd4ec08425a8cfc5f489b041027",
            "17eaafe61af94ad490cdeb67d1966bdf",
            "88206360092842eb87487ff8e777fed6",
            "2b9cc943726c4202b3020b91af16d7d0"
          ]
        }
      },
      "outputs": [
        {
          "output_type": "display_data",
          "data": {
            "text/plain": [
              "interactive(children=(Dropdown(description='L', options=(('Alph1', {'b', 'a'}), ('Alph2', {'0', '1'})), value=…"
            ],
            "application/vnd.jupyter.widget-view+json": {
              "version_major": 2,
              "version_minor": 0,
              "model_id": "27583b05541245d5a9a7bdfcaeaff5b6"
            }
          },
          "metadata": {}
        },
        {
          "output_type": "execute_result",
          "data": {
            "text/plain": [
              "<function __main__.lstar(L, n)>"
            ],
            "text/html": [
              "<div style=\"max-width:800px; border: 1px solid var(--colab-border-color);\"><style>\n",
              "      pre.function-repr-contents {\n",
              "        overflow-x: auto;\n",
              "        padding: 8px 12px;\n",
              "        max-height: 500px;\n",
              "      }\n",
              "\n",
              "      pre.function-repr-contents.function-repr-contents-collapsed {\n",
              "        cursor: pointer;\n",
              "        max-height: 100px;\n",
              "      }\n",
              "    </style>\n",
              "    <pre style=\"white-space: initial; background:\n",
              "         var(--colab-secondary-surface-color); padding: 8px 12px;\n",
              "         border-bottom: 1px solid var(--colab-border-color);\"><b>lstar</b><br/>def lstar(L, n)</pre><pre class=\"function-repr-contents function-repr-contents-collapsed\" style=\"\"><a class=\"filepath\" style=\"display:none\" href=\"#\">/content/&lt;ipython-input-21-6df1c487aebf&gt;</a>In : L (language : a set),\n",
              "        n (bound for lstar : a nat). \n",
              "   Out: L*_n (language : a set)\n",
              "Example:\n",
              "L = {&#x27;ab&#x27;,&#x27;bc&#x27;}\n",
              "n = 2\n",
              "lstar(L,2) -&gt; {&#x27;abab&#x27;, &#x27;bcbc&#x27;, &#x27;ab&#x27;, &#x27;abbc&#x27;, &#x27;&#x27;, &#x27;bc&#x27;, &#x27;bcab&#x27;}</pre></div>"
            ]
          },
          "metadata": {},
          "execution_count": 32
        }
      ],
      "source": [
        "Alph1 = {'a','b'}\n",
        "Alph2 = {'0','1'}\n",
        "wdg.interact(lstar, L= [ ('Alph1', Alph1), ('Alph2', Alph2)], n=(0,7))"
      ]
    },
    {
      "cell_type": "code",
      "execution_count": 33,
      "metadata": {
        "editable": false,
        "run_control": {
          "frozen": false,
          "read_only": false
        },
        "id": "O75TuH_tfDTp",
        "outputId": "0ed622a2-5002-4db7-b009-943a7594b799",
        "colab": {
          "base_uri": "https://localhost:8080/"
        }
      },
      "outputs": [
        {
          "output_type": "stream",
          "name": "stdout",
          "text": [
            "{''}\n",
            "{''}\n"
          ]
        }
      ],
      "source": [
        "print(lstar(lunit(),10))\n",
        "print(lstar(lstar(lunit(), 10), 10))"
      ]
    },
    {
      "cell_type": "markdown",
      "metadata": {
        "editable": false,
        "run_control": {
          "frozen": false,
          "read_only": false
        },
        "id": "BZAVS4hJfDTq"
      },
      "source": [
        "\n",
        "Now, we present a set of operations on strings and languages that are self-explanatory, so we'll just summarize them:\n",
        "\n",
        "* srev - reverse a string\n",
        "* lrev - reverse a language. It maps srev over a language (set of strings).\n",
        "* shomo - apply a language homomorphism using a lambda passed in.  You can \"rot13\" code email using this :-)\n",
        "* lhomo - apply a homomorphism to a language.\n",
        "\n",
        "Since tests are embedded in the doc-strings of these functions, we will not show tests separately, but feel free to add tests.\n"
      ]
    },
    {
      "cell_type": "code",
      "execution_count": 34,
      "metadata": {
        "editable": false,
        "run_control": {
          "frozen": false,
          "read_only": false
        },
        "id": "-okN3QGCfDTq"
      },
      "outputs": [],
      "source": [
        "# In Python, there isn't direct support for reversing a string.\n",
        "# The backward selection method implemented by S[::-1] is what\n",
        "# many recommend. This leaves the start and stride empty, and\n",
        "# specifies the direction to be going backwards.\n",
        "# Another method is \"\".join(reversed(s)) to reverse s\n",
        "\n",
        "def srev(S):\n",
        "    \"\"\"In : S (string)\n",
        "       Out: reverse of S (string)\n",
        "       Example:\n",
        "       srev('ab') -> 'ba'\n",
        "    \"\"\"\n",
        "    return S[::-1]\n",
        "\n",
        "def lrev(L):\n",
        "    \"\"\"In : L (language : a set)\n",
        "       Out: reverse of L (language : a set)\n",
        "       Example:\n",
        "       lrev({'ab', 'bc'}) -> {'cb', 'ba'}\n",
        "    \"\"\"\n",
        "    return set(map(lambda x: srev(x), L))\n",
        "\n",
        "def shomo(S,f):\n",
        "    \"\"\"In : S (string)\n",
        "            f (fun\n",
        "            ction from char to char)\n",
        "       Out: String homomorphism of S wrt f.\n",
        "       Example:\n",
        "       S = \"abcd\"\n",
        "       f = lambda x: chr( (ord(x)+1) % 256 )\n",
        "       shomo(\"abcd\",f) -> 'bcde'\n",
        "    \"\"\"\n",
        "    return \"\".join(map(f,S))\n",
        "\n",
        "def lhomo(L,f):\n",
        "    \"\"\"In : L (language : set of strings)\n",
        "            f (function from char to char)\n",
        "       Out: Lang. homomorphism of L wrt f (language : set of str)\n",
        "       Example:\n",
        "       L = {\"Hello there\", \"a\", \"A\"}\n",
        "       f = rot13 = lambda x: chr( (ord(x)+13) % 256 )\n",
        "       lhomo(L, rot13) -> {'N', 'Uryy|-\\x81ur\\x7fr', 'n'}\n",
        "    \"\"\"\n",
        "    return set(map(lambda S: shomo(S,f), L))"
      ]
    },
    {
      "cell_type": "markdown",
      "metadata": {
        "editable": false,
        "run_control": {
          "frozen": false,
          "read_only": false
        },
        "id": "t76evrbnfDTq"
      },
      "source": [
        "<span style=\"color:blue\"> **Let's do a few exercises involving srev, lrev, shomo and lhomo. ** </span>"
      ]
    },
    {
      "cell_type": "code",
      "execution_count": 35,
      "metadata": {
        "editable": false,
        "run_control": {
          "frozen": false,
          "read_only": false
        },
        "id": "_8cGcAGMfDTq",
        "outputId": "64999485-4184-4091-d612-ba4ed6b63eb1",
        "colab": {
          "base_uri": "https://localhost:8080/"
        }
      },
      "outputs": [
        {
          "output_type": "stream",
          "name": "stdout",
          "text": [
            "lrev(L) =  {'ba', '700'}\n",
            "lhomo(L, rot1) =  {'118', 'bc'}\n",
            "lrev(lhomo(L), rot1) =  {'811', 'cb'}\n"
          ]
        }
      ],
      "source": [
        "L={'ab', '007'}\n",
        "\n",
        "# modulo-rotate all chars by one.\n",
        "rot1 = lambda x: chr( (ord(x)+1) % 256 )\n",
        "\n",
        "# Don't be baffled if the sets print in a different order!\n",
        "# Sets don't have a required positional presentation order\n",
        "# Watch for the CONTENTS of the set reversing !!\n",
        "print('lrev(L) = ', lrev(L))\n",
        "\n",
        "print('lhomo(L, rot1) = ', lhomo(L, rot1))\n",
        "\n",
        "print('lrev(lhomo(L), rot1) = ', lrev(lhomo(L, rot1)))\n"
      ]
    },
    {
      "cell_type": "markdown",
      "metadata": {
        "editable": false,
        "run_control": {
          "frozen": false,
          "read_only": false
        },
        "id": "HBFgXr0TfDTq"
      },
      "source": [
        "<span style=\"color:blue\"> **We now introduce powersets which you may have forgotten. We will need this when discussing non-deterministic finite automata.** </span>"
      ]
    },
    {
      "cell_type": "markdown",
      "metadata": {
        "editable": false,
        "run_control": {
          "frozen": false,
          "read_only": false
        },
        "id": "opHo9ludfDTq"
      },
      "source": [
        "\n",
        "\n",
        "We now define the powerset of a set S. We work with lists, as sets cannot contain other sets (not hashable, etc). But barring all that, here is the recursive definition being used.\n",
        "\n",
        "> Let $PowSminusX$ = $powset(S \\setminus x)$\n",
        "\n",
        "> Then, given $x \\in S$, we have $powset(S)$ = $PowSminusX  \\cup$  { $y\\cup x$  $\\mid$ $y\\in PowSminusX$ }\n",
        "\n",
        "That is,\n",
        "\n",
        "* Take out some $x\\in S$\n",
        "\n",
        "* Recursively compute $PowSminusX$\n",
        "\n",
        "* Now, $powset(S)$ has all the sets in $PowSminusX$ plus all the sets in $PowSminusX$ with $x$ added back, as well.\n",
        "\n",
        "Here is that code now.\n"
      ]
    },
    {
      "cell_type": "code",
      "execution_count": 36,
      "metadata": {
        "editable": false,
        "run_control": {
          "frozen": false,
          "read_only": false
        },
        "id": "KLdgZtupfDTq"
      },
      "outputs": [],
      "source": [
        "def powset(S):\n",
        "    \"\"\"In : S (set)\n",
        "       Out: List of lists representing powerset.\n",
        "            Since sets/lists are unhashable, we convert the set\n",
        "            to a list,perform the powerset operations, leaving\n",
        "            the result as a list (can't convert back to a set).\n",
        "       Example:\n",
        "       S = {'ab', 'bc'}\n",
        "       powset(S) -> [['ab', 'bc'], ['bc'], ['ab'], []]\n",
        "    \"\"\"\n",
        "    L=list(S)\n",
        "    if L==[]:\n",
        "        return([[]])\n",
        "    else:\n",
        "        pow_rest0 = powset(L[1:])\n",
        "        pow_rest1 = list(map(lambda Ls: [L[0]] + Ls, pow_rest0))\n",
        "        return(pow_rest0 + pow_rest1)"
      ]
    },
    {
      "cell_type": "code",
      "execution_count": 37,
      "metadata": {
        "run_control": {
          "frozen": false,
          "read_only": false
        },
        "id": "FJh7hEkUfDTr",
        "outputId": "82dca5d2-d925-4f93-f9a0-2b87373cf2d3",
        "colab": {
          "base_uri": "https://localhost:8080/"
        }
      },
      "outputs": [
        {
          "output_type": "execute_result",
          "data": {
            "text/plain": [
              "[[], ['a'], ['c'], ['c', 'a'], ['b'], ['b', 'a'], ['b', 'c'], ['b', 'c', 'a']]"
            ]
          },
          "metadata": {},
          "execution_count": 37
        }
      ],
      "source": [
        "powset({'a','b','c'})"
      ]
    },
    {
      "cell_type": "markdown",
      "metadata": {
        "editable": false,
        "run_control": {
          "frozen": false,
          "read_only": false
        },
        "id": "scvriwqufDTr"
      },
      "source": [
        "<span style=\"color:blue\"> **There are familiar operations on languages such as union and intersection.\n",
        "PAY SPECIAL ATTENTION to lcomplem, the function computing language complements.\n",
        "The definition of language complement is with respect to the universe  $\\Sigma^*$.\n",
        "Since we can compute only finite approximations of star, the function lcomplem is also like star in that we take a truncation parameter. You can follow how lcomplem works through experiments; once you get that, you must imagine how it works in math.\n",
        "Also pay attenti\n",
        "on to cartesian product. It works like normal cartesian products do (you may see a superficial similarity with concatenation where we draw pairs of strings but concatenate the strings). ** </span>"
      ]
    },
    {
      "cell_type": "markdown",
      "metadata": {
        "editable": false,
        "run_control": {
          "frozen": false,
          "read_only": false
        },
        "id": "Nfryi47vfDTr"
      },
      "source": [
        "\n",
        "Finally, we have a whole list of familiar language-theoretic operations:\n",
        "\n",
        "* lunion - language union\n",
        "\n",
        "* lint - language intersection\n",
        "\n",
        "* lsymdiff - language symmetric difference\n",
        "\n",
        "* lminus - language subtraction\n",
        "\n",
        "* lissubset - language subset test\n",
        "\n",
        "* lissuperset - language superset test\n",
        "\n",
        "* lcomplem - language complement with respect to \"star upto m\" of the alphabet (not the full alphabet star, mind you)\n",
        "\n",
        "* product - cartesian product\n",
        "\n",
        "We do not provide too many tests for these rather familiar functions. But please make sure you understand language complements well!\n"
      ]
    },
    {
      "cell_type": "code",
      "execution_count": 38,
      "metadata": {
        "editable": false,
        "run_control": {
          "frozen": false,
          "read_only": false
        },
        "id": "aDVt13GDfDTr"
      },
      "outputs": [],
      "source": [
        "# Define lunion (as before)\n",
        "def lunion(L1,L2):\n",
        "    \"\"\"In : L1 (language : set of strings)\n",
        "            L2 (language : set of strings)\n",
        "       Out: L1 union L2 (sets of strings)\n",
        "    \"\"\"\n",
        "    return L1 | L2\n",
        "\n",
        "def lint(L1,L2):\n",
        "    \"\"\"In : L1 (language : set of strings)\n",
        "            L2 (language : set of strings)\n",
        "       Out: L1 intersection L2 (sets of strings)\n",
        "    \"\"\"\n",
        "    return L1 & L2\n",
        "\n",
        "def lsymdiff(L1,L2):\n",
        "    \"\"\"In : L1 (language : set of strings)\n",
        "            L2 (language : set of strings)\n",
        "       Out: (L1 \\ L2) union (L2 \\ L1) (sets of strings)\n",
        "       Example:\n",
        "       lsymdiff({'ab', 'bc'}, {'11', 'ab', '22'}) -> {'11', '22', 'bc'}\n",
        "    \"\"\"\n",
        "    return L1 ^ L2\n",
        "\n",
        "def lminus(L1,L2):\n",
        "    \"\"\"Language subtraction of two languages (sets of strings)\n",
        "       Can do it as L1.difference(L2) also.\n",
        "    \"\"\"\n",
        "    return L1 - L2\n",
        "\n",
        "def lissubset(L1,L2):\n",
        "    \"\"\"In : L1 (language : set of strings)\n",
        "            L2 (language : set of strings)\n",
        "       Out: L1 is subset or equal to L2 (True/False)\n",
        "    \"\"\"\n",
        "    return L1 <= L2\n",
        "\n",
        "def lissuperset(L1,L2):\n",
        "    \"\"\"In : L1 (language : set of strings)\n",
        "            L2 (language : set of strings)\n",
        "       Out: L1 is superset or equal to L2 (True/False)\n",
        "    \"\"\"\n",
        "    return L1 >= L2\n",
        "\n",
        "def lcomplem(L,sigma,n):\n",
        "    \"\"\"In : L (language : set of strings)\n",
        "            sigma (alphabet : set of strings)\n",
        "            n (finite limit for lstar : int)\n",
        "       Out : sigma*_n - L (language : set of strings)\n",
        "       Example:\n",
        "       L = {'0', '10', '010'}\n",
        "       sigma = {'0', '1'}\n",
        "       n = 3\n",
        "       lcomplem(L4,{'0','1'}, 3) ->\n",
        "       {'', '000', '101', '011', '00', '1',\n",
        "        '001', '110', '111', '100', '01', '11'}\n",
        "    \"\"\"\n",
        "    return lstar(sigma,n) - L\n",
        "\n",
        "def product(S1,S2):\n",
        "    \"\"\"In : S1 (set)\n",
        "            S2 (set)\n",
        "       Out: Cartesian product of S1 and S2 (set of pairs)\n",
        "    \"\"\"\n",
        "    return { (x,y) for x in S1 for y in S2 }\n",
        "\n",
        "#--end"
      ]
    },
    {
      "cell_type": "code",
      "execution_count": 39,
      "metadata": {
        "editable": false,
        "run_control": {
          "frozen": false,
          "read_only": false
        },
        "id": "X92m0b1tfDTr"
      },
      "outputs": [],
      "source": [
        "L1 = {'0101'}"
      ]
    },
    {
      "cell_type": "code",
      "execution_count": 40,
      "metadata": {
        "editable": false,
        "run_control": {
          "frozen": false,
          "read_only": false
        },
        "id": "iMgDBm5efDTr"
      },
      "outputs": [],
      "source": [
        "L2 = lstar({'0','1'}, 2)"
      ]
    },
    {
      "cell_type": "code",
      "execution_count": 41,
      "metadata": {
        "editable": false,
        "run_control": {
          "frozen": false,
          "read_only": false
        },
        "id": "kCZkJ-aufDTs"
      },
      "outputs": [],
      "source": [
        "# Python variable L2L1 denotes concat of L2 and L1\n",
        "L2L1 = lcat(L2,L1)"
      ]
    },
    {
      "cell_type": "code",
      "execution_count": 42,
      "metadata": {
        "editable": false,
        "run_control": {
          "frozen": false,
          "read_only": false
        },
        "id": "5ZZTKt3mfDTs",
        "outputId": "42599e78-50e3-49cb-f82e-e2f0768abe68",
        "colab": {
          "base_uri": "https://localhost:8080/"
        }
      },
      "outputs": [
        {
          "output_type": "execute_result",
          "data": {
            "text/plain": [
              "{'000101', '00101', '0101', '010101', '100101', '10101', '110101'}"
            ]
          },
          "metadata": {},
          "execution_count": 42
        }
      ],
      "source": [
        "L2L1"
      ]
    },
    {
      "cell_type": "code",
      "execution_count": 43,
      "metadata": {
        "editable": false,
        "run_control": {
          "frozen": false,
          "read_only": false
        },
        "id": "8AQmEq6CfDTs"
      },
      "outputs": [],
      "source": [
        "L3 = lcat(L1, lunion(lunit(), L2L1))"
      ]
    },
    {
      "cell_type": "code",
      "execution_count": 44,
      "metadata": {
        "editable": false,
        "run_control": {
          "frozen": false,
          "read_only": false
        },
        "id": "Lox2yFo_fDTs",
        "outputId": "e76b5a51-ed6b-4f46-eebb-d11b49c1ed35",
        "colab": {
          "base_uri": "https://localhost:8080/"
        }
      },
      "outputs": [
        {
          "output_type": "execute_result",
          "data": {
            "text/plain": [
              "{'0101',\n",
              " '0101000101',\n",
              " '010100101',\n",
              " '01010101',\n",
              " '0101010101',\n",
              " '0101100101',\n",
              " '010110101',\n",
              " '0101110101'}"
            ]
          },
          "metadata": {},
          "execution_count": 44
        }
      ],
      "source": [
        "L3"
      ]
    },
    {
      "cell_type": "code",
      "execution_count": 45,
      "metadata": {
        "editable": false,
        "run_control": {
          "frozen": false,
          "read_only": false
        },
        "id": "DYxUHUX6fDTs",
        "outputId": "55980ea5-a13c-4e0d-d0f0-8885f0115682",
        "colab": {
          "base_uri": "https://localhost:8080/"
        }
      },
      "outputs": [
        {
          "output_type": "stream",
          "name": "stdout",
          "text": [
            "L4 =  {'0', '010', '10'}\n",
            "----\n",
            "lcomplem(L4,{'0','1'}, 1) =  {'', '1'}\n",
            "----\n",
            "lcomplem(L4,{'0','1'}, 2) =  {'', '00', '11', '1', '01'}\n",
            "----\n",
            "lcomplem(L4,{'0','1'}, 3) =  {'', '001', '111', '100', '00', '000', '011', '110', '11', '1', '101', '01'}\n",
            "----\n",
            "lcomplem(L4,{'0','1'}, 4) =  {'0111', '', '1010', '1000', '1100', '100', '00', '0000', '0100', '0101', '1111', '011', '110', '11', '1011', '1', '001', '111', '1101', '0011', '0010', '000', '1001', '01', '0110', '1110', '101', '0001'}\n",
            "----\n",
            "In the limit, we get everything in {0,1}* \n",
            ".. except for '0', '10', and '010'. \n"
          ]
        }
      ],
      "source": [
        "# Note that I've provided a truncation limit of 10 for lstar\n",
        "# involved in language complement.\n",
        "\n",
        "L4 = {'0', '10', '010'}\n",
        "\n",
        "print('L4 = ', L4)\n",
        "\n",
        "print(\"----\")\n",
        "print(\"lcomplem(L4,{'0','1'}, 1) = \",  lcomplem(L4,{'0','1'}, 1) )\n",
        "\n",
        "print(\"----\")\n",
        "print(\"lcomplem(L4,{'0','1'}, 2) = \",  lcomplem(L4,{'0','1'}, 2) )\n",
        "\n",
        "print(\"----\")\n",
        "print(\"lcomplem(L4,{'0','1'}, 3) = \",  lcomplem(L4,{'0','1'}, 3) )\n",
        "\n",
        "print(\"----\")\n",
        "print(\"lcomplem(L4,{'0','1'}, 4) = \",  lcomplem(L4,{'0','1'}, 4) )\n",
        "\n",
        "print(\"----\")\n",
        "print(\"In the limit, we get everything in {0,1}* \")\n",
        "print(\".. except for '0', '10', and '010'. \")"
      ]
    },
    {
      "cell_type": "markdown",
      "metadata": {
        "collapsed": true,
        "editable": false,
        "run_control": {
          "frozen": false,
          "read_only": false
        },
        "id": "Hy-WtnAdfDTs"
      },
      "source": [
        "<span style=\"color:blue\"> **This finishes Chapter-2 of the book ** </span>"
      ]
    },
    {
      "cell_type": "code",
      "execution_count": 46,
      "metadata": {
        "run_control": {
          "frozen": false,
          "read_only": false
        },
        "id": "s59Rz2oufDTt",
        "outputId": "e8327a3f-5e8d-4544-b971-5ea09f86806b",
        "colab": {
          "base_uri": "https://localhost:8080/"
        }
      },
      "outputs": [
        {
          "output_type": "stream",
          "name": "stdout",
          "text": [
            "Help on function lsymdiff in module __main__:\n",
            "\n",
            "lsymdiff(L1, L2)\n",
            "    In : L1 (language : set of strings)\n",
            "         L2 (language : set of strings)\n",
            "    Out: (L1 \\ L2) union (L2 \\ L1) (sets of strings)\n",
            "    Example:\n",
            "    lsymdiff({'ab', 'bc'}, {'11', 'ab', '22'}) -> {'11', '22', 'bc'}\n",
            "\n"
          ]
        }
      ],
      "source": [
        "help(lsymdiff)"
      ]
    },
    {
      "cell_type": "code",
      "execution_count": 47,
      "metadata": {
        "run_control": {
          "frozen": false,
          "read_only": false
        },
        "id": "cp20_qPefDTt"
      },
      "outputs": [],
      "source": [
        "As = { \"a\"*i for i in range(8)}"
      ]
    },
    {
      "cell_type": "code",
      "execution_count": 48,
      "metadata": {
        "run_control": {
          "frozen": false,
          "read_only": false
        },
        "id": "XHEq9jgtfDTt",
        "outputId": "a307ec47-b239-45f8-eec9-cefb8ec6eed7",
        "colab": {
          "base_uri": "https://localhost:8080/"
        }
      },
      "outputs": [
        {
          "output_type": "execute_result",
          "data": {
            "text/plain": [
              "{'', 'a', 'aa', 'aaa', 'aaaa', 'aaaaa', 'aaaaaa', 'aaaaaaa'}"
            ]
          },
          "metadata": {},
          "execution_count": 48
        }
      ],
      "source": [
        "As"
      ]
    },
    {
      "cell_type": "code",
      "execution_count": 49,
      "metadata": {
        "run_control": {
          "frozen": false,
          "read_only": false
        },
        "id": "dYCb54fAfDTt"
      },
      "outputs": [],
      "source": [
        "Bs = { \"b\"*i for i in range(8)}"
      ]
    },
    {
      "cell_type": "code",
      "execution_count": 50,
      "metadata": {
        "run_control": {
          "frozen": false,
          "read_only": false
        },
        "id": "MXlHDbI1fDTt",
        "outputId": "256e03f0-7734-49c2-a519-afd39e0f0228",
        "colab": {
          "base_uri": "https://localhost:8080/"
        }
      },
      "outputs": [
        {
          "output_type": "execute_result",
          "data": {
            "text/plain": [
              "{'', 'b', 'bb', 'bbb', 'bbbb', 'bbbbb', 'bbbbbb', 'bbbbbbb'}"
            ]
          },
          "metadata": {},
          "execution_count": 50
        }
      ],
      "source": [
        "Bs"
      ]
    },
    {
      "cell_type": "code",
      "execution_count": 51,
      "metadata": {
        "run_control": {
          "frozen": false,
          "read_only": false
        },
        "id": "Xvw3Ce7wfDTt"
      },
      "outputs": [],
      "source": [
        "Cs = { \"c\"*i for i in range(8)}"
      ]
    },
    {
      "cell_type": "code",
      "execution_count": 52,
      "metadata": {
        "run_control": {
          "frozen": false,
          "read_only": false
        },
        "id": "SAEETVf4fDTt",
        "outputId": "aa4b0f9c-c12b-4d37-c52c-963d3138d12b",
        "colab": {
          "base_uri": "https://localhost:8080/"
        }
      },
      "outputs": [
        {
          "output_type": "execute_result",
          "data": {
            "text/plain": [
              "{'', 'c', 'cc', 'ccc', 'cccc', 'ccccc', 'cccccc', 'ccccccc'}"
            ]
          },
          "metadata": {},
          "execution_count": 52
        }
      ],
      "source": [
        "Cs"
      ]
    },
    {
      "cell_type": "code",
      "execution_count": 53,
      "metadata": {
        "run_control": {
          "frozen": false,
          "read_only": false
        },
        "id": "uK4ZBWaWfDTt"
      },
      "outputs": [],
      "source": [
        "ABs = { \"a\"*i + \"b\" * i for i in range (8)}"
      ]
    },
    {
      "cell_type": "code",
      "execution_count": 54,
      "metadata": {
        "run_control": {
          "frozen": false,
          "read_only": false
        },
        "id": "kjCyarAzfDTt",
        "outputId": "a0de582e-b422-44e0-c8c0-af0f48462713",
        "colab": {
          "base_uri": "https://localhost:8080/"
        }
      },
      "outputs": [
        {
          "output_type": "execute_result",
          "data": {
            "text/plain": [
              "{'',\n",
              " 'aaaaaaabbbbbbb',\n",
              " 'aaaaaabbbbbb',\n",
              " 'aaaaabbbbb',\n",
              " 'aaaabbbb',\n",
              " 'aaabbb',\n",
              " 'aabb',\n",
              " 'ab'}"
            ]
          },
          "metadata": {},
          "execution_count": 54
        }
      ],
      "source": [
        "ABs"
      ]
    },
    {
      "cell_type": "code",
      "execution_count": 55,
      "metadata": {
        "run_control": {
          "frozen": false,
          "read_only": false
        },
        "id": "ztPtyGy8fDTu"
      },
      "outputs": [],
      "source": [
        "BCs = { \"b\"*i + \"c\" * i for i in range (8)}"
      ]
    },
    {
      "cell_type": "code",
      "execution_count": 56,
      "metadata": {
        "run_control": {
          "frozen": false,
          "read_only": false
        },
        "id": "CW079QqSfDTu",
        "outputId": "da9906f2-f26d-43d5-ff77-a4a4bde05852",
        "colab": {
          "base_uri": "https://localhost:8080/"
        }
      },
      "outputs": [
        {
          "output_type": "execute_result",
          "data": {
            "text/plain": [
              "{'',\n",
              " 'bbbbbbbccccccc',\n",
              " 'bbbbbbcccccc',\n",
              " 'bbbbbccccc',\n",
              " 'bbbbcccc',\n",
              " 'bbbccc',\n",
              " 'bbcc',\n",
              " 'bc'}"
            ]
          },
          "metadata": {},
          "execution_count": 56
        }
      ],
      "source": [
        "BCs"
      ]
    },
    {
      "cell_type": "code",
      "execution_count": 57,
      "metadata": {
        "run_control": {
          "frozen": false,
          "read_only": false
        },
        "id": "5b4Oh-p1fDTu",
        "outputId": "a3e5df29-4241-4035-a1b9-230703072e79",
        "colab": {
          "base_uri": "https://localhost:8080/"
        }
      },
      "outputs": [
        {
          "output_type": "execute_result",
          "data": {
            "text/plain": [
              "{'',\n",
              " 'aaaaaaabbbbbbb',\n",
              " 'aaaaaaabbbbbbbc',\n",
              " 'aaaaaaabbbbbbbcc',\n",
              " 'aaaaaaabbbbbbbccc',\n",
              " 'aaaaaaabbbbbbbcccc',\n",
              " 'aaaaaaabbbbbbbccccc',\n",
              " 'aaaaaaabbbbbbbcccccc',\n",
              " 'aaaaaaabbbbbbbccccccc',\n",
              " 'aaaaaabbbbbb',\n",
              " 'aaaaaabbbbbbc',\n",
              " 'aaaaaabbbbbbcc',\n",
              " 'aaaaaabbbbbbccc',\n",
              " 'aaaaaabbbbbbcccc',\n",
              " 'aaaaaabbbbbbccccc',\n",
              " 'aaaaaabbbbbbcccccc',\n",
              " 'aaaaaabbbbbbccccccc',\n",
              " 'aaaaabbbbb',\n",
              " 'aaaaabbbbbc',\n",
              " 'aaaaabbbbbcc',\n",
              " 'aaaaabbbbbccc',\n",
              " 'aaaaabbbbbcccc',\n",
              " 'aaaaabbbbbccccc',\n",
              " 'aaaaabbbbbcccccc',\n",
              " 'aaaaabbbbbccccccc',\n",
              " 'aaaabbbb',\n",
              " 'aaaabbbbc',\n",
              " 'aaaabbbbcc',\n",
              " 'aaaabbbbccc',\n",
              " 'aaaabbbbcccc',\n",
              " 'aaaabbbbccccc',\n",
              " 'aaaabbbbcccccc',\n",
              " 'aaaabbbbccccccc',\n",
              " 'aaabbb',\n",
              " 'aaabbbc',\n",
              " 'aaabbbcc',\n",
              " 'aaabbbccc',\n",
              " 'aaabbbcccc',\n",
              " 'aaabbbccccc',\n",
              " 'aaabbbcccccc',\n",
              " 'aaabbbccccccc',\n",
              " 'aabb',\n",
              " 'aabbc',\n",
              " 'aabbcc',\n",
              " 'aabbccc',\n",
              " 'aabbcccc',\n",
              " 'aabbccccc',\n",
              " 'aabbcccccc',\n",
              " 'aabbccccccc',\n",
              " 'ab',\n",
              " 'abc',\n",
              " 'abcc',\n",
              " 'abccc',\n",
              " 'abcccc',\n",
              " 'abccccc',\n",
              " 'abcccccc',\n",
              " 'abccccccc',\n",
              " 'c',\n",
              " 'cc',\n",
              " 'ccc',\n",
              " 'cccc',\n",
              " 'ccccc',\n",
              " 'cccccc',\n",
              " 'ccccccc'}"
            ]
          },
          "metadata": {},
          "execution_count": 57
        }
      ],
      "source": [
        "lcat(ABs, Cs)"
      ]
    },
    {
      "cell_type": "code",
      "execution_count": 58,
      "metadata": {
        "run_control": {
          "frozen": false,
          "read_only": false
        },
        "id": "e4bmx7wcfDTu",
        "outputId": "a1845604-bbdf-4cd5-928c-9179725529dd",
        "colab": {
          "base_uri": "https://localhost:8080/"
        }
      },
      "outputs": [
        {
          "output_type": "execute_result",
          "data": {
            "text/plain": [
              "{'',\n",
              " 'a',\n",
              " 'aa',\n",
              " 'aaa',\n",
              " 'aaaa',\n",
              " 'aaaaa',\n",
              " 'aaaaaa',\n",
              " 'aaaaaaa',\n",
              " 'aaaaaaab',\n",
              " 'aaaaaaabb',\n",
              " 'aaaaaaabbb',\n",
              " 'aaaaaaabbbb',\n",
              " 'aaaaaaabbbbb',\n",
              " 'aaaaaaabbbbbb',\n",
              " 'aaaaaaabbbbbbb',\n",
              " 'aaaaaab',\n",
              " 'aaaaaabb',\n",
              " 'aaaaaabbb',\n",
              " 'aaaaaabbbb',\n",
              " 'aaaaaabbbbb',\n",
              " 'aaaaaabbbbbb',\n",
              " 'aaaaaabbbbbbb',\n",
              " 'aaaaab',\n",
              " 'aaaaabb',\n",
              " 'aaaaabbb',\n",
              " 'aaaaabbbb',\n",
              " 'aaaaabbbbb',\n",
              " 'aaaaabbbbbb',\n",
              " 'aaaaabbbbbbb',\n",
              " 'aaaab',\n",
              " 'aaaabb',\n",
              " 'aaaabbb',\n",
              " 'aaaabbbb',\n",
              " 'aaaabbbbb',\n",
              " 'aaaabbbbbb',\n",
              " 'aaaabbbbbbb',\n",
              " 'aaab',\n",
              " 'aaabb',\n",
              " 'aaabbb',\n",
              " 'aaabbbb',\n",
              " 'aaabbbbb',\n",
              " 'aaabbbbbb',\n",
              " 'aaabbbbbbb',\n",
              " 'aab',\n",
              " 'aabb',\n",
              " 'aabbb',\n",
              " 'aabbbb',\n",
              " 'aabbbbb',\n",
              " 'aabbbbbb',\n",
              " 'aabbbbbbb',\n",
              " 'ab',\n",
              " 'abb',\n",
              " 'abbb',\n",
              " 'abbbb',\n",
              " 'abbbbb',\n",
              " 'abbbbbb',\n",
              " 'abbbbbbb',\n",
              " 'b',\n",
              " 'bb',\n",
              " 'bbb',\n",
              " 'bbbb',\n",
              " 'bbbbb',\n",
              " 'bbbbbb',\n",
              " 'bbbbbbb'}"
            ]
          },
          "metadata": {},
          "execution_count": 58
        }
      ],
      "source": [
        "lcat(As, Bs)"
      ]
    },
    {
      "cell_type": "code",
      "execution_count": 59,
      "metadata": {
        "run_control": {
          "frozen": false,
          "read_only": false
        },
        "id": "dk44V_2bfDTu"
      },
      "outputs": [],
      "source": [
        "ABCs = {\"a\"*i + \"b\"*i + \"c\"*i for i in range(8)}"
      ]
    },
    {
      "cell_type": "code",
      "execution_count": 60,
      "metadata": {
        "run_control": {
          "frozen": false,
          "read_only": false
        },
        "id": "csx6lAiJfDTu",
        "outputId": "93ad1ca2-d60c-41fd-f4be-1ff7182cb13a",
        "colab": {
          "base_uri": "https://localhost:8080/"
        }
      },
      "outputs": [
        {
          "output_type": "execute_result",
          "data": {
            "text/plain": [
              "{'',\n",
              " 'aaaaaaabbbbbbbccccccc',\n",
              " 'aaaaaabbbbbbcccccc',\n",
              " 'aaaaabbbbbccccc',\n",
              " 'aaaabbbbcccc',\n",
              " 'aaabbbccc',\n",
              " 'aabbcc',\n",
              " 'abc'}"
            ]
          },
          "metadata": {},
          "execution_count": 60
        }
      ],
      "source": [
        "ABCs"
      ]
    },
    {
      "cell_type": "markdown",
      "metadata": {
        "run_control": {
          "frozen": false,
          "read_only": false
        },
        "id": "Ul9ujcMRfDTu"
      },
      "source": [
        "# Now, do the exercises at the end of Ch2 and Ch3"
      ]
    }
  ],
  "metadata": {
    "kernelspec": {
      "display_name": "Python 3",
      "language": "python",
      "name": "python3"
    },
    "language_info": {
      "codemirror_mode": {
        "name": "ipython",
        "version": 3
      },
      "file_extension": ".py",
      "mimetype": "text/x-python",
      "name": "python",
      "nbconvert_exporter": "python",
      "pygments_lexer": "ipython3",
      "version": "3.7.3"
    },
    "toc": {
      "colors": {
        "hover_highlight": "#DAA520",
        "running_highlight": "#FF0000",
        "selected_highlight": "#FFD700"
      },
      "moveMenuLeft": true,
      "nav_menu": {
        "height": "207px",
        "width": "252px"
      },
      "navigate_menu": true,
      "number_sections": true,
      "sideBar": true,
      "threshold": 4,
      "toc_cell": false,
      "toc_section_display": "block",
      "toc_window_display": false,
      "widenNotebook": false
    },
    "widgets": {
      "application/vnd.jupyter.widget-state+json": {
        "0620de8a1f3b4bceba6f67831cfb9c38": {
          "model_module": "@jupyter-widgets/controls",
          "model_name": "VBoxModel",
          "model_module_version": "1.5.0",
          "state": {
            "_dom_classes": [
              "widget-interact"
            ],
            "_model_module": "@jupyter-widgets/controls",
            "_model_module_version": "1.5.0",
            "_model_name": "VBoxModel",
            "_view_count": null,
            "_view_module": "@jupyter-widgets/controls",
            "_view_module_version": "1.5.0",
            "_view_name": "VBoxView",
            "box_style": "",
            "children": [
              "IPY_MODEL_e8fc43f57dd54e7692d3296e9b4571a5",
              "IPY_MODEL_4fd6350f72ed4bcdab43564b6a6695d1",
              "IPY_MODEL_6205377d6fdd4a9488e3bd4eafb52efb"
            ],
            "layout": "IPY_MODEL_5fd2161ac3134c668ee19fea8d6e140a"
          }
        },
        "e8fc43f57dd54e7692d3296e9b4571a5": {
          "model_module": "@jupyter-widgets/controls",
          "model_name": "DropdownModel",
          "model_module_version": "1.5.0",
          "state": {
            "_dom_classes": [],
            "_model_module": "@jupyter-widgets/controls",
            "_model_module_version": "1.5.0",
            "_model_name": "DropdownModel",
            "_options_labels": [
              "L3",
              "L1",
              "L2",
              "M",
              "lphi",
              "lunit"
            ],
            "_view_count": null,
            "_view_module": "@jupyter-widgets/controls",
            "_view_module_version": "1.5.0",
            "_view_name": "DropdownView",
            "description": "L",
            "description_tooltip": null,
            "disabled": false,
            "index": 1,
            "layout": "IPY_MODEL_bee7fe53fa1d4db999be0afaab9ff4a3",
            "style": "IPY_MODEL_78fafd180bce45fe8ccd7dba094b8165"
          }
        },
        "4fd6350f72ed4bcdab43564b6a6695d1": {
          "model_module": "@jupyter-widgets/controls",
          "model_name": "IntSliderModel",
          "model_module_version": "1.5.0",
          "state": {
            "_dom_classes": [],
            "_model_module": "@jupyter-widgets/controls",
            "_model_module_version": "1.5.0",
            "_model_name": "IntSliderModel",
            "_view_count": null,
            "_view_module": "@jupyter-widgets/controls",
            "_view_module_version": "1.5.0",
            "_view_name": "IntSliderView",
            "continuous_update": true,
            "description": "n",
            "description_tooltip": null,
            "disabled": false,
            "layout": "IPY_MODEL_e6b9c1bc55bd42fea5fdee7886d3e583",
            "max": 7,
            "min": 0,
            "orientation": "horizontal",
            "readout": true,
            "readout_format": "d",
            "step": 1,
            "style": "IPY_MODEL_773967469246434d89f102a255a876ce",
            "value": 5
          }
        },
        "6205377d6fdd4a9488e3bd4eafb52efb": {
          "model_module": "@jupyter-widgets/output",
          "model_name": "OutputModel",
          "model_module_version": "1.0.0",
          "state": {
            "_dom_classes": [],
            "_model_module": "@jupyter-widgets/output",
            "_model_module_version": "1.0.0",
            "_model_name": "OutputModel",
            "_view_count": null,
            "_view_module": "@jupyter-widgets/output",
            "_view_module_version": "1.0.0",
            "_view_name": "OutputView",
            "layout": "IPY_MODEL_b7644a48c99c476a882c6d480bbda9c3",
            "msg_id": "",
            "outputs": [
              {
                "output_type": "display_data",
                "data": {
                  "text/plain": "{'', 'bc', 'bcbc', 'bcbcbc', 'bcbcbcbc', 'bcbcbcbcbc'}"
                },
                "metadata": {}
              }
            ]
          }
        },
        "5fd2161ac3134c668ee19fea8d6e140a": {
          "model_module": "@jupyter-widgets/base",
          "model_name": "LayoutModel",
          "model_module_version": "1.2.0",
          "state": {
            "_model_module": "@jupyter-widgets/base",
            "_model_module_version": "1.2.0",
            "_model_name": "LayoutModel",
            "_view_count": null,
            "_view_module": "@jupyter-widgets/base",
            "_view_module_version": "1.2.0",
            "_view_name": "LayoutView",
            "align_content": null,
            "align_items": null,
            "align_self": null,
            "border": null,
            "bottom": null,
            "display": null,
            "flex": null,
            "flex_flow": null,
            "grid_area": null,
            "grid_auto_columns": null,
            "grid_auto_flow": null,
            "grid_auto_rows": null,
            "grid_column": null,
            "grid_gap": null,
            "grid_row": null,
            "grid_template_areas": null,
            "grid_template_columns": null,
            "grid_template_rows": null,
            "height": null,
            "justify_content": null,
            "justify_items": null,
            "left": null,
            "margin": null,
            "max_height": null,
            "max_width": null,
            "min_height": null,
            "min_width": null,
            "object_fit": null,
            "object_position": null,
            "order": null,
            "overflow": null,
            "overflow_x": null,
            "overflow_y": null,
            "padding": null,
            "right": null,
            "top": null,
            "visibility": null,
            "width": null
          }
        },
        "bee7fe53fa1d4db999be0afaab9ff4a3": {
          "model_module": "@jupyter-widgets/base",
          "model_name": "LayoutModel",
          "model_module_version": "1.2.0",
          "state": {
            "_model_module": "@jupyter-widgets/base",
            "_model_module_version": "1.2.0",
            "_model_name": "LayoutModel",
            "_view_count": null,
            "_view_module": "@jupyter-widgets/base",
            "_view_module_version": "1.2.0",
            "_view_name": "LayoutView",
            "align_content": null,
            "align_items": null,
            "align_self": null,
            "border": null,
            "bottom": null,
            "display": null,
            "flex": null,
            "flex_flow": null,
            "grid_area": null,
            "grid_auto_columns": null,
            "grid_auto_flow": null,
            "grid_auto_rows": null,
            "grid_column": null,
            "grid_gap": null,
            "grid_row": null,
            "grid_template_areas": null,
            "grid_template_columns": null,
            "grid_template_rows": null,
            "height": null,
            "justify_content": null,
            "justify_items": null,
            "left": null,
            "margin": null,
            "max_height": null,
            "max_width": null,
            "min_height": null,
            "min_width": null,
            "object_fit": null,
            "object_position": null,
            "order": null,
            "overflow": null,
            "overflow_x": null,
            "overflow_y": null,
            "padding": null,
            "right": null,
            "top": null,
            "visibility": null,
            "width": null
          }
        },
        "78fafd180bce45fe8ccd7dba094b8165": {
          "model_module": "@jupyter-widgets/controls",
          "model_name": "DescriptionStyleModel",
          "model_module_version": "1.5.0",
          "state": {
            "_model_module": "@jupyter-widgets/controls",
            "_model_module_version": "1.5.0",
            "_model_name": "DescriptionStyleModel",
            "_view_count": null,
            "_view_module": "@jupyter-widgets/base",
            "_view_module_version": "1.2.0",
            "_view_name": "StyleView",
            "description_width": ""
          }
        },
        "e6b9c1bc55bd42fea5fdee7886d3e583": {
          "model_module": "@jupyter-widgets/base",
          "model_name": "LayoutModel",
          "model_module_version": "1.2.0",
          "state": {
            "_model_module": "@jupyter-widgets/base",
            "_model_module_version": "1.2.0",
            "_model_name": "LayoutModel",
            "_view_count": null,
            "_view_module": "@jupyter-widgets/base",
            "_view_module_version": "1.2.0",
            "_view_name": "LayoutView",
            "align_content": null,
            "align_items": null,
            "align_self": null,
            "border": null,
            "bottom": null,
            "display": null,
            "flex": null,
            "flex_flow": null,
            "grid_area": null,
            "grid_auto_columns": null,
            "grid_auto_flow": null,
            "grid_auto_rows": null,
            "grid_column": null,
            "grid_gap": null,
            "grid_row": null,
            "grid_template_areas": null,
            "grid_template_columns": null,
            "grid_template_rows": null,
            "height": null,
            "justify_content": null,
            "justify_items": null,
            "left": null,
            "margin": null,
            "max_height": null,
            "max_width": null,
            "min_height": null,
            "min_width": null,
            "object_fit": null,
            "object_position": null,
            "order": null,
            "overflow": null,
            "overflow_x": null,
            "overflow_y": null,
            "padding": null,
            "right": null,
            "top": null,
            "visibility": null,
            "width": null
          }
        },
        "773967469246434d89f102a255a876ce": {
          "model_module": "@jupyter-widgets/controls",
          "model_name": "SliderStyleModel",
          "model_module_version": "1.5.0",
          "state": {
            "_model_module": "@jupyter-widgets/controls",
            "_model_module_version": "1.5.0",
            "_model_name": "SliderStyleModel",
            "_view_count": null,
            "_view_module": "@jupyter-widgets/base",
            "_view_module_version": "1.2.0",
            "_view_name": "StyleView",
            "description_width": "",
            "handle_color": null
          }
        },
        "b7644a48c99c476a882c6d480bbda9c3": {
          "model_module": "@jupyter-widgets/base",
          "model_name": "LayoutModel",
          "model_module_version": "1.2.0",
          "state": {
            "_model_module": "@jupyter-widgets/base",
            "_model_module_version": "1.2.0",
            "_model_name": "LayoutModel",
            "_view_count": null,
            "_view_module": "@jupyter-widgets/base",
            "_view_module_version": "1.2.0",
            "_view_name": "LayoutView",
            "align_content": null,
            "align_items": null,
            "align_self": null,
            "border": null,
            "bottom": null,
            "display": null,
            "flex": null,
            "flex_flow": null,
            "grid_area": null,
            "grid_auto_columns": null,
            "grid_auto_flow": null,
            "grid_auto_rows": null,
            "grid_column": null,
            "grid_gap": null,
            "grid_row": null,
            "grid_template_areas": null,
            "grid_template_columns": null,
            "grid_template_rows": null,
            "height": null,
            "justify_content": null,
            "justify_items": null,
            "left": null,
            "margin": null,
            "max_height": null,
            "max_width": null,
            "min_height": null,
            "min_width": null,
            "object_fit": null,
            "object_position": null,
            "order": null,
            "overflow": null,
            "overflow_x": null,
            "overflow_y": null,
            "padding": null,
            "right": null,
            "top": null,
            "visibility": null,
            "width": null
          }
        },
        "dba3bae936204a11adf7e6605be39a1e": {
          "model_module": "@jupyter-widgets/controls",
          "model_name": "VBoxModel",
          "model_module_version": "1.5.0",
          "state": {
            "_dom_classes": [
              "widget-interact"
            ],
            "_model_module": "@jupyter-widgets/controls",
            "_model_module_version": "1.5.0",
            "_model_name": "VBoxModel",
            "_view_count": null,
            "_view_module": "@jupyter-widgets/controls",
            "_view_module_version": "1.5.0",
            "_view_name": "VBoxView",
            "box_style": "",
            "children": [
              "IPY_MODEL_3d90bd7da649461cb6cee760ae2429cd",
              "IPY_MODEL_1721f15c316a49ea86eaa7dc16a66825",
              "IPY_MODEL_1a479404648c4fb9a3c5644c47362179"
            ],
            "layout": "IPY_MODEL_d961bc16f442419a85b9f390b763c233"
          }
        },
        "3d90bd7da649461cb6cee760ae2429cd": {
          "model_module": "@jupyter-widgets/controls",
          "model_name": "DropdownModel",
          "model_module_version": "1.5.0",
          "state": {
            "_dom_classes": [],
            "_model_module": "@jupyter-widgets/controls",
            "_model_module_version": "1.5.0",
            "_model_name": "DropdownModel",
            "_options_labels": [
              "L1",
              "L2",
              "M",
              "lphi",
              "lunit"
            ],
            "_view_count": null,
            "_view_module": "@jupyter-widgets/controls",
            "_view_module_version": "1.5.0",
            "_view_name": "DropdownView",
            "description": "L",
            "description_tooltip": null,
            "disabled": false,
            "index": 0,
            "layout": "IPY_MODEL_410becc45c554e0c939fa63c6d732eb3",
            "style": "IPY_MODEL_9c25aa8a1ee44d4ebcc833c87c5a6f99"
          }
        },
        "1721f15c316a49ea86eaa7dc16a66825": {
          "model_module": "@jupyter-widgets/controls",
          "model_name": "IntSliderModel",
          "model_module_version": "1.5.0",
          "state": {
            "_dom_classes": [],
            "_model_module": "@jupyter-widgets/controls",
            "_model_module_version": "1.5.0",
            "_model_name": "IntSliderModel",
            "_view_count": null,
            "_view_module": "@jupyter-widgets/controls",
            "_view_module_version": "1.5.0",
            "_view_name": "IntSliderView",
            "continuous_update": true,
            "description": "n",
            "description_tooltip": null,
            "disabled": false,
            "layout": "IPY_MODEL_b4bb0f57588b4ea985a087ea25c622d3",
            "max": 7,
            "min": 0,
            "orientation": "horizontal",
            "readout": true,
            "readout_format": "d",
            "step": 1,
            "style": "IPY_MODEL_332b688ec2ef44229b2c8cba8c13fc70",
            "value": 3
          }
        },
        "1a479404648c4fb9a3c5644c47362179": {
          "model_module": "@jupyter-widgets/output",
          "model_name": "OutputModel",
          "model_module_version": "1.0.0",
          "state": {
            "_dom_classes": [],
            "_model_module": "@jupyter-widgets/output",
            "_model_module_version": "1.0.0",
            "_model_name": "OutputModel",
            "_view_count": null,
            "_view_module": "@jupyter-widgets/output",
            "_view_module_version": "1.0.0",
            "_view_name": "OutputView",
            "layout": "IPY_MODEL_3c30e0cf245543fc8361b42fde710586",
            "msg_id": "",
            "outputs": [
              {
                "output_type": "display_data",
                "data": {
                  "text/plain": "{'',\n 'a',\n 'aa',\n 'aaa',\n 'aabc',\n 'abc',\n 'abca',\n 'abcbc',\n 'bc',\n 'bca',\n 'bcaa',\n 'bcabc',\n 'bcbc',\n 'bcbca',\n 'bcbcbc'}"
                },
                "metadata": {}
              }
            ]
          }
        },
        "d961bc16f442419a85b9f390b763c233": {
          "model_module": "@jupyter-widgets/base",
          "model_name": "LayoutModel",
          "model_module_version": "1.2.0",
          "state": {
            "_model_module": "@jupyter-widgets/base",
            "_model_module_version": "1.2.0",
            "_model_name": "LayoutModel",
            "_view_count": null,
            "_view_module": "@jupyter-widgets/base",
            "_view_module_version": "1.2.0",
            "_view_name": "LayoutView",
            "align_content": null,
            "align_items": null,
            "align_self": null,
            "border": null,
            "bottom": null,
            "display": null,
            "flex": null,
            "flex_flow": null,
            "grid_area": null,
            "grid_auto_columns": null,
            "grid_auto_flow": null,
            "grid_auto_rows": null,
            "grid_column": null,
            "grid_gap": null,
            "grid_row": null,
            "grid_template_areas": null,
            "grid_template_columns": null,
            "grid_template_rows": null,
            "height": null,
            "justify_content": null,
            "justify_items": null,
            "left": null,
            "margin": null,
            "max_height": null,
            "max_width": null,
            "min_height": null,
            "min_width": null,
            "object_fit": null,
            "object_position": null,
            "order": null,
            "overflow": null,
            "overflow_x": null,
            "overflow_y": null,
            "padding": null,
            "right": null,
            "top": null,
            "visibility": null,
            "width": null
          }
        },
        "410becc45c554e0c939fa63c6d732eb3": {
          "model_module": "@jupyter-widgets/base",
          "model_name": "LayoutModel",
          "model_module_version": "1.2.0",
          "state": {
            "_model_module": "@jupyter-widgets/base",
            "_model_module_version": "1.2.0",
            "_model_name": "LayoutModel",
            "_view_count": null,
            "_view_module": "@jupyter-widgets/base",
            "_view_module_version": "1.2.0",
            "_view_name": "LayoutView",
            "align_content": null,
            "align_items": null,
            "align_self": null,
            "border": null,
            "bottom": null,
            "display": null,
            "flex": null,
            "flex_flow": null,
            "grid_area": null,
            "grid_auto_columns": null,
            "grid_auto_flow": null,
            "grid_auto_rows": null,
            "grid_column": null,
            "grid_gap": null,
            "grid_row": null,
            "grid_template_areas": null,
            "grid_template_columns": null,
            "grid_template_rows": null,
            "height": null,
            "justify_content": null,
            "justify_items": null,
            "left": null,
            "margin": null,
            "max_height": null,
            "max_width": null,
            "min_height": null,
            "min_width": null,
            "object_fit": null,
            "object_position": null,
            "order": null,
            "overflow": null,
            "overflow_x": null,
            "overflow_y": null,
            "padding": null,
            "right": null,
            "top": null,
            "visibility": null,
            "width": null
          }
        },
        "9c25aa8a1ee44d4ebcc833c87c5a6f99": {
          "model_module": "@jupyter-widgets/controls",
          "model_name": "DescriptionStyleModel",
          "model_module_version": "1.5.0",
          "state": {
            "_model_module": "@jupyter-widgets/controls",
            "_model_module_version": "1.5.0",
            "_model_name": "DescriptionStyleModel",
            "_view_count": null,
            "_view_module": "@jupyter-widgets/base",
            "_view_module_version": "1.2.0",
            "_view_name": "StyleView",
            "description_width": ""
          }
        },
        "b4bb0f57588b4ea985a087ea25c622d3": {
          "model_module": "@jupyter-widgets/base",
          "model_name": "LayoutModel",
          "model_module_version": "1.2.0",
          "state": {
            "_model_module": "@jupyter-widgets/base",
            "_model_module_version": "1.2.0",
            "_model_name": "LayoutModel",
            "_view_count": null,
            "_view_module": "@jupyter-widgets/base",
            "_view_module_version": "1.2.0",
            "_view_name": "LayoutView",
            "align_content": null,
            "align_items": null,
            "align_self": null,
            "border": null,
            "bottom": null,
            "display": null,
            "flex": null,
            "flex_flow": null,
            "grid_area": null,
            "grid_auto_columns": null,
            "grid_auto_flow": null,
            "grid_auto_rows": null,
            "grid_column": null,
            "grid_gap": null,
            "grid_row": null,
            "grid_template_areas": null,
            "grid_template_columns": null,
            "grid_template_rows": null,
            "height": null,
            "justify_content": null,
            "justify_items": null,
            "left": null,
            "margin": null,
            "max_height": null,
            "max_width": null,
            "min_height": null,
            "min_width": null,
            "object_fit": null,
            "object_position": null,
            "order": null,
            "overflow": null,
            "overflow_x": null,
            "overflow_y": null,
            "padding": null,
            "right": null,
            "top": null,
            "visibility": null,
            "width": null
          }
        },
        "332b688ec2ef44229b2c8cba8c13fc70": {
          "model_module": "@jupyter-widgets/controls",
          "model_name": "SliderStyleModel",
          "model_module_version": "1.5.0",
          "state": {
            "_model_module": "@jupyter-widgets/controls",
            "_model_module_version": "1.5.0",
            "_model_name": "SliderStyleModel",
            "_view_count": null,
            "_view_module": "@jupyter-widgets/base",
            "_view_module_version": "1.2.0",
            "_view_name": "StyleView",
            "description_width": "",
            "handle_color": null
          }
        },
        "3c30e0cf245543fc8361b42fde710586": {
          "model_module": "@jupyter-widgets/base",
          "model_name": "LayoutModel",
          "model_module_version": "1.2.0",
          "state": {
            "_model_module": "@jupyter-widgets/base",
            "_model_module_version": "1.2.0",
            "_model_name": "LayoutModel",
            "_view_count": null,
            "_view_module": "@jupyter-widgets/base",
            "_view_module_version": "1.2.0",
            "_view_name": "LayoutView",
            "align_content": null,
            "align_items": null,
            "align_self": null,
            "border": null,
            "bottom": null,
            "display": null,
            "flex": null,
            "flex_flow": null,
            "grid_area": null,
            "grid_auto_columns": null,
            "grid_auto_flow": null,
            "grid_auto_rows": null,
            "grid_column": null,
            "grid_gap": null,
            "grid_row": null,
            "grid_template_areas": null,
            "grid_template_columns": null,
            "grid_template_rows": null,
            "height": null,
            "justify_content": null,
            "justify_items": null,
            "left": null,
            "margin": null,
            "max_height": null,
            "max_width": null,
            "min_height": null,
            "min_width": null,
            "object_fit": null,
            "object_position": null,
            "order": null,
            "overflow": null,
            "overflow_x": null,
            "overflow_y": null,
            "padding": null,
            "right": null,
            "top": null,
            "visibility": null,
            "width": null
          }
        },
        "27583b05541245d5a9a7bdfcaeaff5b6": {
          "model_module": "@jupyter-widgets/controls",
          "model_name": "VBoxModel",
          "model_module_version": "1.5.0",
          "state": {
            "_dom_classes": [
              "widget-interact"
            ],
            "_model_module": "@jupyter-widgets/controls",
            "_model_module_version": "1.5.0",
            "_model_name": "VBoxModel",
            "_view_count": null,
            "_view_module": "@jupyter-widgets/controls",
            "_view_module_version": "1.5.0",
            "_view_name": "VBoxView",
            "box_style": "",
            "children": [
              "IPY_MODEL_2f2eb4831ff34eebb49140344f743e1f",
              "IPY_MODEL_d2db36ad41a740af993236210d1591ef",
              "IPY_MODEL_916667d737f04050a8dad90d19b3e699"
            ],
            "layout": "IPY_MODEL_84c69a2ceb4a4db3afe6c7917ae5e128"
          }
        },
        "2f2eb4831ff34eebb49140344f743e1f": {
          "model_module": "@jupyter-widgets/controls",
          "model_name": "DropdownModel",
          "model_module_version": "1.5.0",
          "state": {
            "_dom_classes": [],
            "_model_module": "@jupyter-widgets/controls",
            "_model_module_version": "1.5.0",
            "_model_name": "DropdownModel",
            "_options_labels": [
              "Alph1",
              "Alph2"
            ],
            "_view_count": null,
            "_view_module": "@jupyter-widgets/controls",
            "_view_module_version": "1.5.0",
            "_view_name": "DropdownView",
            "description": "L",
            "description_tooltip": null,
            "disabled": false,
            "index": 0,
            "layout": "IPY_MODEL_b5db77b544af46258bb1be450d7ecdcc",
            "style": "IPY_MODEL_e4fddfd4ec08425a8cfc5f489b041027"
          }
        },
        "d2db36ad41a740af993236210d1591ef": {
          "model_module": "@jupyter-widgets/controls",
          "model_name": "IntSliderModel",
          "model_module_version": "1.5.0",
          "state": {
            "_dom_classes": [],
            "_model_module": "@jupyter-widgets/controls",
            "_model_module_version": "1.5.0",
            "_model_name": "IntSliderModel",
            "_view_count": null,
            "_view_module": "@jupyter-widgets/controls",
            "_view_module_version": "1.5.0",
            "_view_name": "IntSliderView",
            "continuous_update": true,
            "description": "n",
            "description_tooltip": null,
            "disabled": false,
            "layout": "IPY_MODEL_17eaafe61af94ad490cdeb67d1966bdf",
            "max": 7,
            "min": 0,
            "orientation": "horizontal",
            "readout": true,
            "readout_format": "d",
            "step": 1,
            "style": "IPY_MODEL_88206360092842eb87487ff8e777fed6",
            "value": 3
          }
        },
        "916667d737f04050a8dad90d19b3e699": {
          "model_module": "@jupyter-widgets/output",
          "model_name": "OutputModel",
          "model_module_version": "1.0.0",
          "state": {
            "_dom_classes": [],
            "_model_module": "@jupyter-widgets/output",
            "_model_module_version": "1.0.0",
            "_model_name": "OutputModel",
            "_view_count": null,
            "_view_module": "@jupyter-widgets/output",
            "_view_module_version": "1.0.0",
            "_view_name": "OutputView",
            "layout": "IPY_MODEL_2b9cc943726c4202b3020b91af16d7d0",
            "msg_id": "",
            "outputs": [
              {
                "output_type": "display_data",
                "data": {
                  "text/plain": "{'',\n 'a',\n 'aa',\n 'aaa',\n 'aab',\n 'ab',\n 'aba',\n 'abb',\n 'b',\n 'ba',\n 'baa',\n 'bab',\n 'bb',\n 'bba',\n 'bbb'}"
                },
                "metadata": {}
              }
            ]
          }
        },
        "84c69a2ceb4a4db3afe6c7917ae5e128": {
          "model_module": "@jupyter-widgets/base",
          "model_name": "LayoutModel",
          "model_module_version": "1.2.0",
          "state": {
            "_model_module": "@jupyter-widgets/base",
            "_model_module_version": "1.2.0",
            "_model_name": "LayoutModel",
            "_view_count": null,
            "_view_module": "@jupyter-widgets/base",
            "_view_module_version": "1.2.0",
            "_view_name": "LayoutView",
            "align_content": null,
            "align_items": null,
            "align_self": null,
            "border": null,
            "bottom": null,
            "display": null,
            "flex": null,
            "flex_flow": null,
            "grid_area": null,
            "grid_auto_columns": null,
            "grid_auto_flow": null,
            "grid_auto_rows": null,
            "grid_column": null,
            "grid_gap": null,
            "grid_row": null,
            "grid_template_areas": null,
            "grid_template_columns": null,
            "grid_template_rows": null,
            "height": null,
            "justify_content": null,
            "justify_items": null,
            "left": null,
            "margin": null,
            "max_height": null,
            "max_width": null,
            "min_height": null,
            "min_width": null,
            "object_fit": null,
            "object_position": null,
            "order": null,
            "overflow": null,
            "overflow_x": null,
            "overflow_y": null,
            "padding": null,
            "right": null,
            "top": null,
            "visibility": null,
            "width": null
          }
        },
        "b5db77b544af46258bb1be450d7ecdcc": {
          "model_module": "@jupyter-widgets/base",
          "model_name": "LayoutModel",
          "model_module_version": "1.2.0",
          "state": {
            "_model_module": "@jupyter-widgets/base",
            "_model_module_version": "1.2.0",
            "_model_name": "LayoutModel",
            "_view_count": null,
            "_view_module": "@jupyter-widgets/base",
            "_view_module_version": "1.2.0",
            "_view_name": "LayoutView",
            "align_content": null,
            "align_items": null,
            "align_self": null,
            "border": null,
            "bottom": null,
            "display": null,
            "flex": null,
            "flex_flow": null,
            "grid_area": null,
            "grid_auto_columns": null,
            "grid_auto_flow": null,
            "grid_auto_rows": null,
            "grid_column": null,
            "grid_gap": null,
            "grid_row": null,
            "grid_template_areas": null,
            "grid_template_columns": null,
            "grid_template_rows": null,
            "height": null,
            "justify_content": null,
            "justify_items": null,
            "left": null,
            "margin": null,
            "max_height": null,
            "max_width": null,
            "min_height": null,
            "min_width": null,
            "object_fit": null,
            "object_position": null,
            "order": null,
            "overflow": null,
            "overflow_x": null,
            "overflow_y": null,
            "padding": null,
            "right": null,
            "top": null,
            "visibility": null,
            "width": null
          }
        },
        "e4fddfd4ec08425a8cfc5f489b041027": {
          "model_module": "@jupyter-widgets/controls",
          "model_name": "DescriptionStyleModel",
          "model_module_version": "1.5.0",
          "state": {
            "_model_module": "@jupyter-widgets/controls",
            "_model_module_version": "1.5.0",
            "_model_name": "DescriptionStyleModel",
            "_view_count": null,
            "_view_module": "@jupyter-widgets/base",
            "_view_module_version": "1.2.0",
            "_view_name": "StyleView",
            "description_width": ""
          }
        },
        "17eaafe61af94ad490cdeb67d1966bdf": {
          "model_module": "@jupyter-widgets/base",
          "model_name": "LayoutModel",
          "model_module_version": "1.2.0",
          "state": {
            "_model_module": "@jupyter-widgets/base",
            "_model_module_version": "1.2.0",
            "_model_name": "LayoutModel",
            "_view_count": null,
            "_view_module": "@jupyter-widgets/base",
            "_view_module_version": "1.2.0",
            "_view_name": "LayoutView",
            "align_content": null,
            "align_items": null,
            "align_self": null,
            "border": null,
            "bottom": null,
            "display": null,
            "flex": null,
            "flex_flow": null,
            "grid_area": null,
            "grid_auto_columns": null,
            "grid_auto_flow": null,
            "grid_auto_rows": null,
            "grid_column": null,
            "grid_gap": null,
            "grid_row": null,
            "grid_template_areas": null,
            "grid_template_columns": null,
            "grid_template_rows": null,
            "height": null,
            "justify_content": null,
            "justify_items": null,
            "left": null,
            "margin": null,
            "max_height": null,
            "max_width": null,
            "min_height": null,
            "min_width": null,
            "object_fit": null,
            "object_position": null,
            "order": null,
            "overflow": null,
            "overflow_x": null,
            "overflow_y": null,
            "padding": null,
            "right": null,
            "top": null,
            "visibility": null,
            "width": null
          }
        },
        "88206360092842eb87487ff8e777fed6": {
          "model_module": "@jupyter-widgets/controls",
          "model_name": "SliderStyleModel",
          "model_module_version": "1.5.0",
          "state": {
            "_model_module": "@jupyter-widgets/controls",
            "_model_module_version": "1.5.0",
            "_model_name": "SliderStyleModel",
            "_view_count": null,
            "_view_module": "@jupyter-widgets/base",
            "_view_module_version": "1.2.0",
            "_view_name": "StyleView",
            "description_width": "",
            "handle_color": null
          }
        },
        "2b9cc943726c4202b3020b91af16d7d0": {
          "model_module": "@jupyter-widgets/base",
          "model_name": "LayoutModel",
          "model_module_version": "1.2.0",
          "state": {
            "_model_module": "@jupyter-widgets/base",
            "_model_module_version": "1.2.0",
            "_model_name": "LayoutModel",
            "_view_count": null,
            "_view_module": "@jupyter-widgets/base",
            "_view_module_version": "1.2.0",
            "_view_name": "LayoutView",
            "align_content": null,
            "align_items": null,
            "align_self": null,
            "border": null,
            "bottom": null,
            "display": null,
            "flex": null,
            "flex_flow": null,
            "grid_area": null,
            "grid_auto_columns": null,
            "grid_auto_flow": null,
            "grid_auto_rows": null,
            "grid_column": null,
            "grid_gap": null,
            "grid_row": null,
            "grid_template_areas": null,
            "grid_template_columns": null,
            "grid_template_rows": null,
            "height": null,
            "justify_content": null,
            "justify_items": null,
            "left": null,
            "margin": null,
            "max_height": null,
            "max_width": null,
            "min_height": null,
            "min_width": null,
            "object_fit": null,
            "object_position": null,
            "order": null,
            "overflow": null,
            "overflow_x": null,
            "overflow_y": null,
            "padding": null,
            "right": null,
            "top": null,
            "visibility": null,
            "width": null
          }
        }
      }
    },
    "colab": {
      "provenance": [],
      "include_colab_link": true
    }
  },
  "nbformat": 4,
  "nbformat_minor": 0
}