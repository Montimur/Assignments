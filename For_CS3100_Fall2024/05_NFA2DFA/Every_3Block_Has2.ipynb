{
 "cells": [
  {
   "cell_type": "code",
   "execution_count": null,
   "metadata": {
    "run_control": {
     "frozen": false,
     "read_only": false
    }
   },
   "outputs": [],
   "source": [
    "#~~~~~~~~~~~~~~~~~~~~~~~~~~~~~~~~~~~~~~~~~~~~~~~~~~~~~~~\n",
    "import sys\n",
    "\n",
    "# -- Detect if in Own Install or in Colab\n",
    "try:\n",
    "    import google.colab\n",
    "    OWN_INSTALL = False\n",
    "except:\n",
    "    OWN_INSTALL = True\n",
    "    \n",
    "if OWN_INSTALL:\n",
    "    \n",
    "  #---- Leave these definitions ON if running on laptop\n",
    "  #---- Else turn OFF by putting them between ''' ... '''\n",
    "\n",
    "  sys.path[0:0] = ['../../../../..',  '../../../../../3rdparty',  \n",
    "                   '../../../..',  '../../../../3rdparty',  \n",
    "                   '../../..',     '../../../3rdparty', \n",
    "                   '../..',        '../../3rdparty',\n",
    "                   '..',           '../3rdparty' ]\n",
    "\n",
    "else: # In colab\n",
    "  ! if [ ! -d Jove ]; then git clone https://github.com/ganeshutah/Jove Jove; fi\n",
    "  sys.path.append('./Jove')\n",
    "  sys.path.append('./Jove/jove')\n",
    "\n",
    "# -- common imports --\n",
    "from jove.DotBashers import *\n",
    "from jove.Def_md2mc  import *\n",
    "from jove.Def_NFA    import *\n",
    "from jove.Def_DFA    import *\n",
    "from jove.AnimateNFA import *\n",
    "#~~~~~~~~~~~~~~~~~~~~~~~~~~~~~~~~~~~~~~~~~~~~~~~~~~~~~~~"
   ]
  },
  {
   "cell_type": "markdown",
   "metadata": {
    "run_control": {
     "frozen": false,
     "read_only": false
    }
   },
   "source": [
    "# Every_3Block_Has2\n",
    "\n",
    "This is a fun problem for strings over {0,1} which requires that every block of 3 consecutive positions has two 1's. This can be stated as\n",
    "\n",
    "* For all Blocks : If you are a 3Block -- block of size 3 -- then you must have two 1's\n",
    "\n",
    "* This style of stating the language avoids having to worry about 2Blocks and 1Blocks because they all receive a \"free pass\" (they are not 3Blocks, hence the constraint does not matter)\n",
    "\n",
    "* Designing this using NFA is a lot of fun. However for this, imagine stating the complement of the language\n",
    "\n",
    "* The complement is: Exists a Block Such that You are a 3Block AND you don't have two 1's\n",
    "\n",
    "* Then it does not matter what happens - after a bad 3Block is made, \"anything goes\"\n",
    "\n",
    "* Now we are ready to model this as an NFA"
   ]
  },
  {
   "cell_type": "markdown",
   "metadata": {},
   "source": [
    "# The \"contrarian NFA\" -- i.e. exists a bad 3Block"
   ]
  },
  {
   "cell_type": "code",
   "execution_count": null,
   "metadata": {},
   "outputs": [],
   "source": [
    "Bad3BlockNFA = md2mc('''\n",
    "NFA \n",
    "\n",
    "I : 0|1 -> I\n",
    "\n",
    "!! Can be a bad 3Block in 4 ways, 2 of which are fused\n",
    "\n",
    "I : ''  -> Bad1\n",
    "\n",
    "I : ''  -> Bad2\n",
    "\n",
    "I : ''  -> Bad3\n",
    "\n",
    "Bad1 : 0 -> S0\n",
    "S0   : 0 -> S00\n",
    "S00  : 0 | 1 -> F\n",
    "\n",
    "Bad2 : 1 -> S1\n",
    "S1   : 0   -> S10\n",
    "S10  : 0   -> F\n",
    "\n",
    "Bad3 : 0   -> S0\n",
    "S0   : 1   -> S01\n",
    "S01  : 0   -> F\n",
    "\n",
    "F   : 0|1 -> F\n",
    "\n",
    "''')"
   ]
  },
  {
   "cell_type": "code",
   "execution_count": null,
   "metadata": {},
   "outputs": [],
   "source": [
    "dotObj_nfa(Bad3BlockNFA, FuseEdges=True)"
   ]
  },
  {
   "cell_type": "code",
   "execution_count": null,
   "metadata": {},
   "outputs": [],
   "source": [
    "Bad3BlockDFA = min_dfa(nfa2dfa(Bad3BlockNFA))"
   ]
  },
  {
   "cell_type": "code",
   "execution_count": null,
   "metadata": {},
   "outputs": [],
   "source": [
    "dotObj_dfa(Bad3BlockDFA, FuseEdges=True)"
   ]
  },
  {
   "cell_type": "code",
   "execution_count": null,
   "metadata": {},
   "outputs": [],
   "source": [
    "Good3BlockDFA = comp_dfa(Bad3BlockDFA)"
   ]
  },
  {
   "cell_type": "code",
   "execution_count": null,
   "metadata": {},
   "outputs": [],
   "source": [
    "dotObj_dfa_w_bh(Good3BlockDFA, FuseEdges=True)"
   ]
  },
  {
   "cell_type": "markdown",
   "metadata": {
    "run_control": {
     "frozen": false,
     "read_only": false
    }
   },
   "source": [
    "# Conclusion\n",
    "\n",
    "The above DFA is the desired DFA that checks that every 3Block has two 1's. This can be extended much more easily for more hairy cases if one starts from the NFA -- not the DFA!"
   ]
  }
 ],
 "metadata": {
  "kernelspec": {
   "display_name": "Python 3",
   "language": "python",
   "name": "python3"
  },
  "language_info": {
   "codemirror_mode": {
    "name": "ipython",
    "version": 3
   },
   "file_extension": ".py",
   "mimetype": "text/x-python",
   "name": "python",
   "nbconvert_exporter": "python",
   "pygments_lexer": "ipython3",
   "version": "3.8.5"
  },
  "toc": {
   "colors": {
    "hover_highlight": "#DAA520",
    "running_highlight": "#FF0000",
    "selected_highlight": "#FFD700"
   },
   "moveMenuLeft": true,
   "nav_menu": {
    "height": "121px",
    "width": "252px"
   },
   "navigate_menu": true,
   "number_sections": true,
   "sideBar": true,
   "threshold": 4,
   "toc_cell": false,
   "toc_section_display": "block",
   "toc_window_display": false,
   "widenNotebook": false
  },
  "widgets": {
   "state": {
    "430c92ee02b34ec1912bf03c8de1e6dc": {
     "views": [
      {
       "cell_index": 20
      }
     ]
    }
   },
   "version": "1.2.0"
  }
 },
 "nbformat": 4,
 "nbformat_minor": 2
}
