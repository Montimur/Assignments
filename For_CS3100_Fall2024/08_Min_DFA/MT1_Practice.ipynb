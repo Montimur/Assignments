{
  "cells": [
    {
      "cell_type": "markdown",
      "metadata": {
        "id": "view-in-github",
        "colab_type": "text"
      },
      "source": [
        "<a href=\"https://colab.research.google.com/github/ganeshutah/Jove/blob/master/For_CS3100_Fall2024/08_Min_DFA/MT1_Practice.ipynb\" target=\"_parent\"><img src=\"https://colab.research.google.com/assets/colab-badge.svg\" alt=\"Open In Colab\"/></a>"
      ]
    },
    {
      "cell_type": "code",
      "execution_count": 1,
      "metadata": {
        "run_control": {
          "frozen": false,
          "read_only": false
        },
        "id": "xPwIhPL-aGbn",
        "outputId": "002777b6-dd08-4ecd-e418-96951ebbfcbf",
        "colab": {
          "base_uri": "https://localhost:8080/"
        }
      },
      "outputs": [
        {
          "output_type": "stream",
          "name": "stdout",
          "text": [
            "Cloning into 'Jove'...\n",
            "remote: Enumerating objects: 6464, done.\u001b[K\n",
            "remote: Counting objects: 100% (1830/1830), done.\u001b[K\n",
            "remote: Compressing objects: 100% (705/705), done.\u001b[K\n",
            "remote: Total 6464 (delta 1089), reused 1752 (delta 1045), pack-reused 4634 (from 1)\u001b[K\n",
            "Receiving objects: 100% (6464/6464), 10.30 MiB | 7.63 MiB/s, done.\n",
            "Resolving deltas: 100% (4094/4094), done.\n",
            "You may use any of these help commands:\n",
            "help(ResetStNum)\n",
            "help(NxtStateStr)\n",
            "\n",
            "You may use any of these help commands:\n",
            "help(md2mc)\n",
            ".. and if you want to dig more, then ..\n",
            "help(default_line_attr)\n",
            "help(length_ok_input_items)\n",
            "help(union_line_attr_list_fld)\n",
            "help(extend_rsltdict)\n",
            "help(form_delta)\n",
            "help(get_machine_components)\n",
            "\n",
            "You may use any of these help commands:\n",
            "help(mkp_dfa)\n",
            "help(mk_dfa)\n",
            "help(totalize_dfa)\n",
            "help(addtosigma_delta)\n",
            "help(step_dfa)\n",
            "help(run_dfa)\n",
            "help(accepts_dfa)\n",
            "help(comp_dfa)\n",
            "help(flTup)\n",
            "help(union_dfa)\n",
            "help(intersect_dfa)\n",
            "help(pruneUnreach)\n",
            "help(iso_dfa)\n",
            "help(langeq_dfa)\n",
            "help(same_status)\n",
            "help(h_langeq_dfa)\n",
            "help(fixptDist)\n",
            "help(min_dfa)\n",
            "help(pairFR)\n",
            "help(state_combos)\n",
            "help(sepFinNonFin)\n",
            "help(bash_eql_classes)\n",
            "help(listminus)\n",
            "help(bash_1)\n",
            "help(mk_rep_eqc)\n",
            "help(F_of)\n",
            "help(rep_of_s)\n",
            "help(q0_of)\n",
            "help(Delta_of)\n",
            "help(mk_state_eqc_name)\n",
            "\n",
            "You may use any of these help commands:\n",
            "help(mk_nfa)\n",
            "help(totalize_nfa)\n",
            "help(step_nfa)\n",
            "help(run_nfa)\n",
            "help(ec_step_nfa)\n",
            "help(Eclosure)\n",
            "help(Echelp)\n",
            "help(accepts_nfa)\n",
            "help(nfa2dfa)\n",
            "help(n2d)\n",
            "help(inSets)\n",
            "help(rev_dfa)\n",
            "help(min_dfa_brz)\n",
            "\n",
            "You may use any of these help commands:\n",
            "help(re2nfa)\n",
            "\n",
            "You may use any of these help commands:\n",
            "help(lphi)\n",
            "help(lunit)\n",
            "help(lcat)\n",
            "help(lexp)\n",
            "help(lunion)\n",
            "help(lstar)\n",
            "help(srev)\n",
            "help(lrev)\n",
            "help(shomo)\n",
            "help(lhomo)\n",
            "help(powset)\n",
            "help(lint)\n",
            "help(lsymdiff)\n",
            "help(lminus)\n",
            "help(lissubset)\n",
            "help(lissuperset)\n",
            "help(lcomplem)\n",
            "help(product)\n",
            "help(nthnumeric)\n",
            "\n",
            "You may use any of these help commands:\n",
            "help(RE2Str)\n",
            "help(mk_gnfa)\n",
            "help(mk_gnfa_from_D)\n",
            "help(dfa2nfa)\n",
            "help(del_gnfa_states)\n",
            "help(gnfa_w_REStr)\n",
            "help(del_one_gnfa_state)\n",
            "help(Edges_Exist_Via)\n",
            "help(choose_state_to_del)\n",
            "help(form_alt_RE)\n",
            "help(form_concat_RE)\n",
            "help(form_kleene_RE)\n",
            "\n"
          ]
        }
      ],
      "source": [
        "#~~~~~~~~~~~~~~~~~~~~~~~~~~~~~~~~~~~~~~~~~~~~~~~~~~~~~~~\n",
        "import sys\n",
        "\n",
        "# -- Detect if in Own Install or in Colab\n",
        "try:\n",
        "    import google.colab\n",
        "    OWN_INSTALL = False\n",
        "except:\n",
        "    OWN_INSTALL = True\n",
        "\n",
        "if OWN_INSTALL:\n",
        "\n",
        "  #---- Leave these definitions ON if running on laptop\n",
        "  #---- Else turn OFF by putting them between ''' ... '''\n",
        "\n",
        "  sys.path[0:0] = ['../../../../..',  '../../../../../3rdparty',\n",
        "                   '../../../..',  '../../../../3rdparty',\n",
        "                   '../../..',     '../../../3rdparty',\n",
        "                   '../..',        '../../3rdparty',\n",
        "                   '..',           '../3rdparty' ]\n",
        "\n",
        "else: # In colab\n",
        "  ! if [ ! -d Jove ]; then git clone https://github.com/ganeshutah/Jove Jove; fi\n",
        "  sys.path.append('./Jove')\n",
        "  sys.path.append('./Jove/jove')\n",
        "\n",
        "# -- common imports --\n",
        "from jove.DotBashers import *\n",
        "from jove.Def_md2mc  import *\n",
        "from jove.Def_DFA    import *\n",
        "from jove.Def_NFA    import *\n",
        "from jove.Def_RE2NFA import *\n",
        "from jove.LangDef    import *  # for testing DFA actions using nthnumeric if needed\n",
        "from jove.Def_NFA2RE import *\n",
        "#~~~~~~~~~~~~~~~~~~~~~~~~~~~~~~~~~~~~~~~~~~~~~~~~~~~~~~~"
      ]
    },
    {
      "cell_type": "markdown",
      "source": [
        "# Some material that motivates the need for NFA and Regular Expressions (RE)\n",
        "\n",
        "* Impossibility of concatenating DFA\n",
        "   - You can union, intersect, complement DFA\n",
        "   - You can minimize DFA rather directly\n",
        "\n",
        "* But\n",
        "  - You can't concatenate DFA directly\n",
        "  - Some DFA are guaranteed exponential 😞\n",
        "\n",
        "* So, we introduce NFA and Regular Expressions (RE)\n",
        "  - NFA are the graph-form of the required generalization of DFA\n",
        "  - Every DFA is an NFA\n",
        "  - NFA are more liberal, in that they include four new situations\n",
        "    - They can jump to multiple places on a single symbol\n",
        "    - They can jump to a state via an epsilon transition ('' moves or $\\varepsilon$ moves)\n",
        "    - They need not jump from a state to another state on all symbols\n",
        "       - In fact, they can have perfect dead-end states (in a DFA you may not have them)\n",
        "    - NFA can start from multiple initial states\n",
        "\n",
        "\n",
        "* But\n",
        "  - NFA are pretty gnarly and error-prone\n",
        "     - No reasonable person would design them by hand\n",
        "  - Fortunately, we have a notation called RE (regular expressions)\n",
        "     - They are NOTHING but the language notations you learned about a while ago, except\n",
        "        - They are not in math notation\n",
        "        - Instead they are in nice ASCII text that is computer-readable\n",
        "     - AND\n",
        "        - You put together RE only in three ways\n",
        "          - Union\n",
        "          - Concatenation\n",
        "          - Star\n",
        "        - i.e.\n",
        "          - You don't have intersection\n",
        "          - You don't have complement\n",
        "        - AND STILL\n",
        "          - they can describe all regular languages\n",
        "* Here are some facts\n",
        "  - You cannot directly complement NFA or RegExp\n",
        "  - You can convert NFA to RE\n",
        "  - Conversion of RE to NFA is even easier and more fun and modular\n",
        "  - There is no direct way to minimize NFA (or RE)\n",
        "    - we basically turn them into DFA and then minimize\n",
        "      - But then we may pay the price -- exponential blow-up\n",
        "\n",
        "* FINALLY\n",
        "  - Those large DFA can now be expressed in an exponentially succinct using NFA or RE\n",
        "  - And we can perform the concatenation (missing with DFA)\n",
        "\n",
        "\n",
        "* Let us see all these through examples"
      ],
      "metadata": {
        "id": "MQCnvzr_vYA9"
      }
    },
    {
      "cell_type": "markdown",
      "source": [
        "## Showing why it is hard to concatenate DFA and why they are exponential sometimes\n",
        "\n",
        "  - You can't concatenate DFA directly\n",
        "  - Some DFA are guaranteed exponential 😞"
      ],
      "metadata": {
        "id": "gcu8jbiE-wb_"
      }
    },
    {
      "cell_type": "code",
      "source": [
        "# How can we concatenate D1 and D2? Can't put a bridge from D1's final state to D2's initlal state. What will the bridge be labeled by?\n",
        "# I'll use RE to draw DFA quickly... that part will be explained later.\n",
        "# D1's language is \"ab\" and that of D2 is \"cd\"\n",
        "\n",
        "D1 = min_dfa(nfa2dfa(re2nfa(\"ab\")))\n",
        "dotObj_dfa_w_bh(D1,FuseEdges=True)"
      ],
      "metadata": {
        "id": "NRydvkph_UZx",
        "outputId": "c977660f-59fe-498a-d0b4-81d7dba0033a",
        "colab": {
          "base_uri": "https://localhost:8080/",
          "height": 208
        }
      },
      "execution_count": 58,
      "outputs": [
        {
          "output_type": "execute_result",
          "data": {
            "image/svg+xml": "<?xml version=\"1.0\" encoding=\"UTF-8\" standalone=\"no\"?>\n<!DOCTYPE svg PUBLIC \"-//W3C//DTD SVG 1.1//EN\"\n \"http://www.w3.org/Graphics/SVG/1.1/DTD/svg11.dtd\">\n<!-- Generated by graphviz version 2.43.0 (0)\n -->\n<!-- Title: %3 Pages: 1 -->\n<svg width=\"463pt\" height=\"140pt\"\n viewBox=\"0.00 0.00 463.18 140.50\" xmlns=\"http://www.w3.org/2000/svg\" xmlns:xlink=\"http://www.w3.org/1999/xlink\">\n<g id=\"graph0\" class=\"graph\" transform=\"scale(1 1) rotate(0) translate(4 136.5)\">\n<title>%3</title>\n<polygon fill=\"white\" stroke=\"transparent\" points=\"-4,4 -4,-136.5 459.18,-136.5 459.18,4 -4,4\"/>\n<!-- EMPTY -->\n<g id=\"node1\" class=\"node\">\n<title>EMPTY</title>\n</g>\n<!-- St1 -->\n<g id=\"node3\" class=\"node\">\n<title>St1</title>\n<ellipse fill=\"none\" stroke=\"black\" cx=\"113.75\" cy=\"-22.75\" rx=\"23\" ry=\"23\"/>\n<text text-anchor=\"middle\" x=\"113.75\" y=\"-19.05\" font-family=\"Times,serif\" font-size=\"14.00\">St1</text>\n</g>\n<!-- EMPTY&#45;&gt;St1 -->\n<g id=\"edge1\" class=\"edge\">\n<title>EMPTY&#45;&gt;St1</title>\n<path fill=\"none\" stroke=\"black\" d=\"M54.35,-22.75C62.71,-22.75 72.05,-22.75 80.76,-22.75\"/>\n<polygon fill=\"black\" stroke=\"black\" points=\"80.97,-26.25 90.97,-22.75 80.97,-19.25 80.97,-26.25\"/>\n</g>\n<!-- St2_St3 -->\n<g id=\"node2\" class=\"node\">\n<title>St2_St3</title>\n<ellipse fill=\"none\" stroke=\"black\" cx=\"220.84\" cy=\"-72.75\" rx=\"38.19\" ry=\"38.19\"/>\n<text text-anchor=\"middle\" x=\"220.84\" y=\"-69.05\" font-family=\"Times,serif\" font-size=\"14.00\">St2_St3</text>\n</g>\n<!-- BH -->\n<g id=\"node4\" class=\"node\">\n<title>BH</title>\n<ellipse fill=\"none\" stroke=\"black\" cx=\"432.43\" cy=\"-61.75\" rx=\"23\" ry=\"23\"/>\n<text text-anchor=\"middle\" x=\"432.43\" y=\"-58.05\" font-family=\"Times,serif\" font-size=\"14.00\">BH</text>\n</g>\n<!-- St2_St3&#45;&gt;BH -->\n<g id=\"edge6\" class=\"edge\">\n<title>St2_St3&#45;&gt;BH</title>\n<path fill=\"none\" stroke=\"black\" d=\"M256.31,-87.33C291.56,-100 347.29,-113.74 391.69,-95.75 397.87,-93.24 403.78,-89.37 409.06,-85.13\"/>\n<polygon fill=\"black\" stroke=\"black\" points=\"411.62,-87.54 416.8,-78.29 406.99,-82.29 411.62,-87.54\"/>\n<text text-anchor=\"middle\" x=\"332.94\" y=\"-107.55\" font-family=\"Times,serif\" font-size=\"14.00\">a </text>\n</g>\n<!-- St4 -->\n<g id=\"node5\" class=\"node\">\n<title>St4</title>\n<ellipse fill=\"none\" stroke=\"black\" cx=\"332.94\" cy=\"-61.75\" rx=\"22.96\" ry=\"22.96\"/>\n<ellipse fill=\"none\" stroke=\"black\" cx=\"332.94\" cy=\"-61.75\" rx=\"27\" ry=\"27\"/>\n<text text-anchor=\"middle\" x=\"332.94\" y=\"-58.05\" font-family=\"Times,serif\" font-size=\"14.00\">St4</text>\n</g>\n<!-- St2_St3&#45;&gt;St4 -->\n<g id=\"edge5\" class=\"edge\">\n<title>St2_St3&#45;&gt;St4</title>\n<path fill=\"none\" stroke=\"black\" d=\"M259.12,-69.02C271.08,-67.83 284.3,-66.51 296.16,-65.32\"/>\n<polygon fill=\"black\" stroke=\"black\" points=\"296.56,-68.8 306.16,-64.32 295.86,-61.84 296.56,-68.8\"/>\n<text text-anchor=\"middle\" x=\"282.69\" y=\"-70.55\" font-family=\"Times,serif\" font-size=\"14.00\">b </text>\n</g>\n<!-- St1&#45;&gt;St2_St3 -->\n<g id=\"edge3\" class=\"edge\">\n<title>St1&#45;&gt;St2_St3</title>\n<path fill=\"none\" stroke=\"black\" d=\"M134.52,-32.15C146.32,-37.77 161.8,-45.13 176.33,-52.04\"/>\n<polygon fill=\"black\" stroke=\"black\" points=\"175.15,-55.36 185.69,-56.5 178.16,-49.04 175.15,-55.36\"/>\n<text text-anchor=\"middle\" x=\"159.5\" y=\"-50.55\" font-family=\"Times,serif\" font-size=\"14.00\">a </text>\n</g>\n<!-- St1&#45;&gt;BH -->\n<g id=\"edge2\" class=\"edge\">\n<title>St1&#45;&gt;BH</title>\n<path fill=\"none\" stroke=\"black\" d=\"M136.45,-19.8C179.68,-14.62 279.31,-6.19 359.69,-25.75 375.27,-29.54 391.34,-37.2 404.31,-44.48\"/>\n<polygon fill=\"black\" stroke=\"black\" points=\"402.76,-47.62 413.15,-49.65 406.29,-41.58 402.76,-47.62\"/>\n<text text-anchor=\"middle\" x=\"282.69\" y=\"-19.55\" font-family=\"Times,serif\" font-size=\"14.00\">b </text>\n</g>\n<!-- BH&#45;&gt;BH -->\n<g id=\"edge4\" class=\"edge\">\n<title>BH&#45;&gt;BH</title>\n<path fill=\"none\" stroke=\"black\" d=\"M424.02,-83.13C422.98,-93.42 425.78,-102.5 432.43,-102.5 436.69,-102.5 439.37,-98.77 440.48,-93.39\"/>\n<polygon fill=\"black\" stroke=\"black\" points=\"443.99,-93.25 440.85,-83.13 436.99,-93 443.99,-93.25\"/>\n<text text-anchor=\"middle\" x=\"432.43\" y=\"-121.3\" font-family=\"Times,serif\" font-size=\"14.00\">b </text>\n<text text-anchor=\"middle\" x=\"432.43\" y=\"-106.3\" font-family=\"Times,serif\" font-size=\"14.00\"> a </text>\n</g>\n<!-- St4&#45;&gt;BH -->\n<g id=\"edge7\" class=\"edge\">\n<title>St4&#45;&gt;BH</title>\n<path fill=\"none\" stroke=\"black\" d=\"M359.81,-61.75C371.88,-61.75 386.38,-61.75 399.17,-61.75\"/>\n<polygon fill=\"black\" stroke=\"black\" points=\"399.41,-65.25 409.41,-61.75 399.41,-58.25 399.41,-65.25\"/>\n<text text-anchor=\"middle\" x=\"384.69\" y=\"-80.55\" font-family=\"Times,serif\" font-size=\"14.00\">b </text>\n<text text-anchor=\"middle\" x=\"384.69\" y=\"-65.55\" font-family=\"Times,serif\" font-size=\"14.00\"> a </text>\n</g>\n</g>\n</svg>\n",
            "text/plain": [
              "<graphviz.graphs.Digraph at 0x78f894317130>"
            ]
          },
          "metadata": {},
          "execution_count": 58
        }
      ]
    },
    {
      "cell_type": "code",
      "source": [
        "D2 = min_dfa(nfa2dfa(re2nfa(\"cd\")))\n",
        "dotObj_dfa_w_bh(D2,FuseEdges=True)"
      ],
      "metadata": {
        "id": "U3jCSNTSAdPE",
        "outputId": "473399bb-4a58-476f-8eb1-4add169e71a9",
        "colab": {
          "base_uri": "https://localhost:8080/",
          "height": 208
        }
      },
      "execution_count": 59,
      "outputs": [
        {
          "output_type": "execute_result",
          "data": {
            "image/svg+xml": "<?xml version=\"1.0\" encoding=\"UTF-8\" standalone=\"no\"?>\n<!DOCTYPE svg PUBLIC \"-//W3C//DTD SVG 1.1//EN\"\n \"http://www.w3.org/Graphics/SVG/1.1/DTD/svg11.dtd\">\n<!-- Generated by graphviz version 2.43.0 (0)\n -->\n<!-- Title: %3 Pages: 1 -->\n<svg width=\"464pt\" height=\"140pt\"\n viewBox=\"0.00 0.00 464.18 140.50\" xmlns=\"http://www.w3.org/2000/svg\" xmlns:xlink=\"http://www.w3.org/1999/xlink\">\n<g id=\"graph0\" class=\"graph\" transform=\"scale(1 1) rotate(0) translate(4 136.5)\">\n<title>%3</title>\n<polygon fill=\"white\" stroke=\"transparent\" points=\"-4,4 -4,-136.5 460.18,-136.5 460.18,4 -4,4\"/>\n<!-- EMPTY -->\n<g id=\"node1\" class=\"node\">\n<title>EMPTY</title>\n</g>\n<!-- St1 -->\n<g id=\"node3\" class=\"node\">\n<title>St1</title>\n<ellipse fill=\"none\" stroke=\"black\" cx=\"113.75\" cy=\"-22.75\" rx=\"23\" ry=\"23\"/>\n<text text-anchor=\"middle\" x=\"113.75\" y=\"-19.05\" font-family=\"Times,serif\" font-size=\"14.00\">St1</text>\n</g>\n<!-- EMPTY&#45;&gt;St1 -->\n<g id=\"edge1\" class=\"edge\">\n<title>EMPTY&#45;&gt;St1</title>\n<path fill=\"none\" stroke=\"black\" d=\"M54.35,-22.75C62.71,-22.75 72.05,-22.75 80.76,-22.75\"/>\n<polygon fill=\"black\" stroke=\"black\" points=\"80.97,-26.25 90.97,-22.75 80.97,-19.25 80.97,-26.25\"/>\n</g>\n<!-- St2_St3 -->\n<g id=\"node2\" class=\"node\">\n<title>St2_St3</title>\n<ellipse fill=\"none\" stroke=\"black\" cx=\"220.84\" cy=\"-72.75\" rx=\"38.19\" ry=\"38.19\"/>\n<text text-anchor=\"middle\" x=\"220.84\" y=\"-69.05\" font-family=\"Times,serif\" font-size=\"14.00\">St2_St3</text>\n</g>\n<!-- BH -->\n<g id=\"node4\" class=\"node\">\n<title>BH</title>\n<ellipse fill=\"none\" stroke=\"black\" cx=\"433.43\" cy=\"-61.75\" rx=\"23\" ry=\"23\"/>\n<text text-anchor=\"middle\" x=\"433.43\" y=\"-58.05\" font-family=\"Times,serif\" font-size=\"14.00\">BH</text>\n</g>\n<!-- St2_St3&#45;&gt;BH -->\n<g id=\"edge4\" class=\"edge\">\n<title>St2_St3&#45;&gt;BH</title>\n<path fill=\"none\" stroke=\"black\" d=\"M256.51,-87.36C291.96,-100.05 348.01,-113.8 392.69,-95.75 398.87,-93.25 404.78,-89.38 410.07,-85.14\"/>\n<polygon fill=\"black\" stroke=\"black\" points=\"412.63,-87.55 417.8,-78.3 407.99,-82.3 412.63,-87.55\"/>\n<text text-anchor=\"middle\" x=\"332.94\" y=\"-107.55\" font-family=\"Times,serif\" font-size=\"14.00\">c </text>\n</g>\n<!-- St4 -->\n<g id=\"node5\" class=\"node\">\n<title>St4</title>\n<ellipse fill=\"none\" stroke=\"black\" cx=\"332.94\" cy=\"-61.75\" rx=\"22.96\" ry=\"22.96\"/>\n<ellipse fill=\"none\" stroke=\"black\" cx=\"332.94\" cy=\"-61.75\" rx=\"27\" ry=\"27\"/>\n<text text-anchor=\"middle\" x=\"332.94\" y=\"-58.05\" font-family=\"Times,serif\" font-size=\"14.00\">St4</text>\n</g>\n<!-- St2_St3&#45;&gt;St4 -->\n<g id=\"edge5\" class=\"edge\">\n<title>St2_St3&#45;&gt;St4</title>\n<path fill=\"none\" stroke=\"black\" d=\"M259.12,-69.02C271.08,-67.83 284.3,-66.51 296.16,-65.32\"/>\n<polygon fill=\"black\" stroke=\"black\" points=\"296.56,-68.8 306.16,-64.32 295.86,-61.84 296.56,-68.8\"/>\n<text text-anchor=\"middle\" x=\"282.69\" y=\"-70.55\" font-family=\"Times,serif\" font-size=\"14.00\">d </text>\n</g>\n<!-- St1&#45;&gt;St2_St3 -->\n<g id=\"edge2\" class=\"edge\">\n<title>St1&#45;&gt;St2_St3</title>\n<path fill=\"none\" stroke=\"black\" d=\"M134.52,-32.15C146.32,-37.77 161.8,-45.13 176.33,-52.04\"/>\n<polygon fill=\"black\" stroke=\"black\" points=\"175.15,-55.36 185.69,-56.5 178.16,-49.04 175.15,-55.36\"/>\n<text text-anchor=\"middle\" x=\"159.5\" y=\"-50.55\" font-family=\"Times,serif\" font-size=\"14.00\">c </text>\n</g>\n<!-- St1&#45;&gt;BH -->\n<g id=\"edge3\" class=\"edge\">\n<title>St1&#45;&gt;BH</title>\n<path fill=\"none\" stroke=\"black\" d=\"M136.44,-19.84C179.66,-14.73 279.26,-6.42 359.69,-25.75 375.45,-29.54 391.74,-37.19 404.9,-44.48\"/>\n<polygon fill=\"black\" stroke=\"black\" points=\"403.46,-47.69 413.88,-49.65 406.96,-41.62 403.46,-47.69\"/>\n<text text-anchor=\"middle\" x=\"282.69\" y=\"-19.55\" font-family=\"Times,serif\" font-size=\"14.00\">d </text>\n</g>\n<!-- BH&#45;&gt;BH -->\n<g id=\"edge6\" class=\"edge\">\n<title>BH&#45;&gt;BH</title>\n<path fill=\"none\" stroke=\"black\" d=\"M424.65,-83.13C423.57,-93.42 426.5,-102.5 433.43,-102.5 437.88,-102.5 440.68,-98.77 441.83,-93.39\"/>\n<polygon fill=\"black\" stroke=\"black\" points=\"445.34,-93.26 442.21,-83.13 438.34,-92.99 445.34,-93.26\"/>\n<text text-anchor=\"middle\" x=\"433.43\" y=\"-121.3\" font-family=\"Times,serif\" font-size=\"14.00\">c </text>\n<text text-anchor=\"middle\" x=\"433.43\" y=\"-106.3\" font-family=\"Times,serif\" font-size=\"14.00\"> d </text>\n</g>\n<!-- St4&#45;&gt;BH -->\n<g id=\"edge7\" class=\"edge\">\n<title>St4&#45;&gt;BH</title>\n<path fill=\"none\" stroke=\"black\" d=\"M359.82,-61.75C372.23,-61.75 387.22,-61.75 400.35,-61.75\"/>\n<polygon fill=\"black\" stroke=\"black\" points=\"400.4,-65.25 410.4,-61.75 400.4,-58.25 400.4,-65.25\"/>\n<text text-anchor=\"middle\" x=\"385.19\" y=\"-80.55\" font-family=\"Times,serif\" font-size=\"14.00\">c </text>\n<text text-anchor=\"middle\" x=\"385.19\" y=\"-65.55\" font-family=\"Times,serif\" font-size=\"14.00\"> d </text>\n</g>\n</g>\n</svg>\n",
            "text/plain": [
              "<graphviz.graphs.Digraph at 0x78f894317df0>"
            ]
          },
          "metadata": {},
          "execution_count": 59
        }
      ]
    },
    {
      "cell_type": "markdown",
      "source": [
        "### Can't bridge from the first DFA's St4 to the second DFA's initial state (or other things)... there is no direct concatenation approach."
      ],
      "metadata": {
        "id": "LpMUlzZABHgC"
      }
    },
    {
      "cell_type": "code",
      "source": [
        "# Now let's see DFA for \"Nth-last bit is a 1\" grow exponentially large as N increases\n",
        "dotObj_dfa(min_dfa(nfa2dfa(re2nfa(\"(0+1)*1\"))))\n"
      ],
      "metadata": {
        "id": "GXiQG9UHAejd",
        "outputId": "5454bca3-84b1-424d-9c65-0b7dc723b139",
        "colab": {
          "base_uri": "https://localhost:8080/",
          "height": 146
        }
      },
      "execution_count": 60,
      "outputs": [
        {
          "output_type": "execute_result",
          "data": {
            "image/svg+xml": "<?xml version=\"1.0\" encoding=\"UTF-8\" standalone=\"no\"?>\n<!DOCTYPE svg PUBLIC \"-//W3C//DTD SVG 1.1//EN\"\n \"http://www.w3.org/Graphics/SVG/1.1/DTD/svg11.dtd\">\n<!-- Generated by graphviz version 2.43.0 (0)\n -->\n<!-- Title: %3 Pages: 1 -->\n<svg width=\"245pt\" height=\"94pt\"\n viewBox=\"0.00 0.00 244.99 94.50\" xmlns=\"http://www.w3.org/2000/svg\" xmlns:xlink=\"http://www.w3.org/1999/xlink\">\n<g id=\"graph0\" class=\"graph\" transform=\"scale(1 1) rotate(0) translate(4 90.5)\">\n<title>%3</title>\n<polygon fill=\"white\" stroke=\"transparent\" points=\"-4,4 -4,-90.5 240.99,-90.5 240.99,4 -4,4\"/>\n<!-- EMPTY -->\n<g id=\"node1\" class=\"node\">\n<title>EMPTY</title>\n</g>\n<!-- St0 -->\n<g id=\"node2\" class=\"node\">\n<title>St0</title>\n<ellipse fill=\"none\" stroke=\"black\" cx=\"113.75\" cy=\"-26.75\" rx=\"23\" ry=\"23\"/>\n<text text-anchor=\"middle\" x=\"113.75\" y=\"-23.05\" font-family=\"Times,serif\" font-size=\"14.00\">St0</text>\n</g>\n<!-- EMPTY&#45;&gt;St0 -->\n<g id=\"edge1\" class=\"edge\">\n<title>EMPTY&#45;&gt;St0</title>\n<path fill=\"none\" stroke=\"black\" d=\"M54.35,-26.75C62.71,-26.75 72.05,-26.75 80.76,-26.75\"/>\n<polygon fill=\"black\" stroke=\"black\" points=\"80.97,-30.25 90.97,-26.75 80.97,-23.25 80.97,-30.25\"/>\n</g>\n<!-- St0&#45;&gt;St0 -->\n<g id=\"edge2\" class=\"edge\">\n<title>St0&#45;&gt;St0</title>\n<path fill=\"none\" stroke=\"black\" d=\"M106.4,-48.55C105.59,-58.66 108.04,-67.5 113.75,-67.5 117.4,-67.5 119.72,-63.87 120.7,-58.6\"/>\n<polygon fill=\"black\" stroke=\"black\" points=\"124.2,-58.68 121.1,-48.55 117.21,-58.4 124.2,-58.68\"/>\n<text text-anchor=\"middle\" x=\"113.75\" y=\"-71.3\" font-family=\"Times,serif\" font-size=\"14.00\">0 </text>\n</g>\n<!-- St1 -->\n<g id=\"node3\" class=\"node\">\n<title>St1</title>\n<ellipse fill=\"none\" stroke=\"black\" cx=\"210.24\" cy=\"-26.75\" rx=\"22.96\" ry=\"22.96\"/>\n<ellipse fill=\"none\" stroke=\"black\" cx=\"210.24\" cy=\"-26.75\" rx=\"27\" ry=\"27\"/>\n<text text-anchor=\"middle\" x=\"210.24\" y=\"-23.05\" font-family=\"Times,serif\" font-size=\"14.00\">St1</text>\n</g>\n<!-- St0&#45;&gt;St1 -->\n<g id=\"edge3\" class=\"edge\">\n<title>St0&#45;&gt;St1</title>\n<path fill=\"none\" stroke=\"black\" d=\"M136.66,-26.75C147.57,-26.75 161.03,-26.75 173.38,-26.75\"/>\n<polygon fill=\"black\" stroke=\"black\" points=\"173.42,-30.25 183.42,-26.75 173.42,-23.25 173.42,-30.25\"/>\n<text text-anchor=\"middle\" x=\"160\" y=\"-30.55\" font-family=\"Times,serif\" font-size=\"14.00\">1 </text>\n</g>\n<!-- St1&#45;&gt;St0 -->\n<g id=\"edge4\" class=\"edge\">\n<title>St1&#45;&gt;St0</title>\n<path fill=\"none\" stroke=\"black\" d=\"M187.2,-13.11C177.34,-8.58 165.49,-5.26 154.5,-7.75 150.77,-8.59 146.99,-9.83 143.31,-11.28\"/>\n<polygon fill=\"black\" stroke=\"black\" points=\"141.64,-8.19 133.93,-15.46 144.49,-14.58 141.64,-8.19\"/>\n<text text-anchor=\"middle\" x=\"160\" y=\"-11.55\" font-family=\"Times,serif\" font-size=\"14.00\">0 </text>\n</g>\n<!-- St1&#45;&gt;St1 -->\n<g id=\"edge5\" class=\"edge\">\n<title>St1&#45;&gt;St1</title>\n<path fill=\"none\" stroke=\"black\" d=\"M200.95,-52.05C200.31,-62.57 203.41,-71.5 210.24,-71.5 214.73,-71.5 217.61,-67.65 218.87,-62.04\"/>\n<polygon fill=\"black\" stroke=\"black\" points=\"222.37,-62.26 219.54,-52.05 215.38,-61.79 222.37,-62.26\"/>\n<text text-anchor=\"middle\" x=\"210.24\" y=\"-75.3\" font-family=\"Times,serif\" font-size=\"14.00\">1 </text>\n</g>\n</g>\n</svg>\n",
            "text/plain": [
              "<graphviz.graphs.Digraph at 0x78f89437b4f0>"
            ]
          },
          "metadata": {},
          "execution_count": 60
        }
      ]
    },
    {
      "cell_type": "code",
      "source": [
        "dotObj_dfa(min_dfa(nfa2dfa(re2nfa(\"(0+1)*1(0+1)\"))))"
      ],
      "metadata": {
        "id": "NNkWCPfHBoKB",
        "outputId": "bac4b4ec-3992-43aa-cd29-ed144831853b",
        "colab": {
          "base_uri": "https://localhost:8080/",
          "height": 329
        }
      },
      "execution_count": 61,
      "outputs": [
        {
          "output_type": "execute_result",
          "data": {
            "image/svg+xml": "<?xml version=\"1.0\" encoding=\"UTF-8\" standalone=\"no\"?>\n<!DOCTYPE svg PUBLIC \"-//W3C//DTD SVG 1.1//EN\"\n \"http://www.w3.org/Graphics/SVG/1.1/DTD/svg11.dtd\">\n<!-- Generated by graphviz version 2.43.0 (0)\n -->\n<!-- Title: %3 Pages: 1 -->\n<svg width=\"438pt\" height=\"231pt\"\n viewBox=\"0.00 0.00 437.98 231.50\" xmlns=\"http://www.w3.org/2000/svg\" xmlns:xlink=\"http://www.w3.org/1999/xlink\">\n<g id=\"graph0\" class=\"graph\" transform=\"scale(1 1) rotate(0) translate(4 227.5)\">\n<title>%3</title>\n<polygon fill=\"white\" stroke=\"transparent\" points=\"-4,4 -4,-227.5 433.98,-227.5 433.98,4 -4,4\"/>\n<!-- EMPTY -->\n<g id=\"node1\" class=\"node\">\n<title>EMPTY</title>\n</g>\n<!-- St4 -->\n<g id=\"node2\" class=\"node\">\n<title>St4</title>\n<ellipse fill=\"none\" stroke=\"black\" cx=\"113.75\" cy=\"-22.75\" rx=\"23\" ry=\"23\"/>\n<text text-anchor=\"middle\" x=\"113.75\" y=\"-19.05\" font-family=\"Times,serif\" font-size=\"14.00\">St4</text>\n</g>\n<!-- EMPTY&#45;&gt;St4 -->\n<g id=\"edge1\" class=\"edge\">\n<title>EMPTY&#45;&gt;St4</title>\n<path fill=\"none\" stroke=\"black\" d=\"M54.35,-22.75C62.71,-22.75 72.05,-22.75 80.76,-22.75\"/>\n<polygon fill=\"black\" stroke=\"black\" points=\"80.97,-26.25 90.97,-22.75 80.97,-19.25 80.97,-26.25\"/>\n</g>\n<!-- St4&#45;&gt;St4 -->\n<g id=\"edge2\" class=\"edge\">\n<title>St4&#45;&gt;St4</title>\n<path fill=\"none\" stroke=\"black\" d=\"M106.4,-44.55C105.59,-54.66 108.04,-63.5 113.75,-63.5 117.4,-63.5 119.72,-59.87 120.7,-54.6\"/>\n<polygon fill=\"black\" stroke=\"black\" points=\"124.2,-54.68 121.1,-44.55 117.21,-54.4 124.2,-54.68\"/>\n<text text-anchor=\"middle\" x=\"113.75\" y=\"-67.3\" font-family=\"Times,serif\" font-size=\"14.00\">0 </text>\n</g>\n<!-- St1 -->\n<g id=\"node3\" class=\"node\">\n<title>St1</title>\n<ellipse fill=\"none\" stroke=\"black\" cx=\"206.24\" cy=\"-80.75\" rx=\"23\" ry=\"23\"/>\n<text text-anchor=\"middle\" x=\"206.24\" y=\"-77.05\" font-family=\"Times,serif\" font-size=\"14.00\">St1</text>\n</g>\n<!-- St4&#45;&gt;St1 -->\n<g id=\"edge3\" class=\"edge\">\n<title>St4&#45;&gt;St1</title>\n<path fill=\"none\" stroke=\"black\" d=\"M133.5,-34.77C146.36,-43.01 163.63,-54.08 178.01,-63.29\"/>\n<polygon fill=\"black\" stroke=\"black\" points=\"176.21,-66.3 186.52,-68.75 179.99,-60.4 176.21,-66.3\"/>\n<text text-anchor=\"middle\" x=\"160\" y=\"-58.55\" font-family=\"Times,serif\" font-size=\"14.00\">1 </text>\n</g>\n<!-- St0 -->\n<g id=\"node4\" class=\"node\">\n<title>St0</title>\n<ellipse fill=\"none\" stroke=\"black\" cx=\"302.74\" cy=\"-163.75\" rx=\"22.96\" ry=\"22.96\"/>\n<ellipse fill=\"none\" stroke=\"black\" cx=\"302.74\" cy=\"-163.75\" rx=\"27\" ry=\"27\"/>\n<text text-anchor=\"middle\" x=\"302.74\" y=\"-160.05\" font-family=\"Times,serif\" font-size=\"14.00\">St0</text>\n</g>\n<!-- St1&#45;&gt;St0 -->\n<g id=\"edge5\" class=\"edge\">\n<title>St1&#45;&gt;St0</title>\n<path fill=\"none\" stroke=\"black\" d=\"M223.32,-96.06C230.49,-102.8 239.08,-110.75 246.99,-117.75 255.52,-125.29 264.96,-133.33 273.57,-140.55\"/>\n<polygon fill=\"black\" stroke=\"black\" points=\"271.59,-143.45 281.51,-147.17 276.07,-138.07 271.59,-143.45\"/>\n<text text-anchor=\"middle\" x=\"252.49\" y=\"-129.55\" font-family=\"Times,serif\" font-size=\"14.00\">1 </text>\n</g>\n<!-- St2 -->\n<g id=\"node5\" class=\"node\">\n<title>St2</title>\n<ellipse fill=\"none\" stroke=\"black\" cx=\"403.24\" cy=\"-77.75\" rx=\"22.96\" ry=\"22.96\"/>\n<ellipse fill=\"none\" stroke=\"black\" cx=\"403.24\" cy=\"-77.75\" rx=\"27\" ry=\"27\"/>\n<text text-anchor=\"middle\" x=\"403.24\" y=\"-74.05\" font-family=\"Times,serif\" font-size=\"14.00\">St2</text>\n</g>\n<!-- St1&#45;&gt;St2 -->\n<g id=\"edge4\" class=\"edge\">\n<title>St1&#45;&gt;St2</title>\n<path fill=\"none\" stroke=\"black\" d=\"M229.23,-80.41C262.51,-79.9 326.04,-78.92 366.16,-78.3\"/>\n<polygon fill=\"black\" stroke=\"black\" points=\"366.37,-81.8 376.31,-78.15 366.26,-74.8 366.37,-81.8\"/>\n<text text-anchor=\"middle\" x=\"302.74\" y=\"-82.55\" font-family=\"Times,serif\" font-size=\"14.00\">0 </text>\n</g>\n<!-- St0&#45;&gt;St0 -->\n<g id=\"edge9\" class=\"edge\">\n<title>St0&#45;&gt;St0</title>\n<path fill=\"none\" stroke=\"black\" d=\"M293.45,-189.05C292.81,-199.57 295.9,-208.5 302.74,-208.5 307.23,-208.5 310.1,-204.65 311.37,-199.04\"/>\n<polygon fill=\"black\" stroke=\"black\" points=\"314.86,-199.26 312.03,-189.05 307.88,-198.79 314.86,-199.26\"/>\n<text text-anchor=\"middle\" x=\"302.74\" y=\"-212.3\" font-family=\"Times,serif\" font-size=\"14.00\">1 </text>\n</g>\n<!-- St0&#45;&gt;St2 -->\n<g id=\"edge8\" class=\"edge\">\n<title>St0&#45;&gt;St2</title>\n<path fill=\"none\" stroke=\"black\" d=\"M323.93,-147.12C334.34,-138.47 347.19,-127.65 358.49,-117.75 363.9,-113.01 369.61,-107.88 375.06,-102.92\"/>\n<polygon fill=\"black\" stroke=\"black\" points=\"377.78,-105.18 382.79,-95.85 373.05,-100.01 377.78,-105.18\"/>\n<text text-anchor=\"middle\" x=\"352.99\" y=\"-129.55\" font-family=\"Times,serif\" font-size=\"14.00\">0 </text>\n</g>\n<!-- St2&#45;&gt;St4 -->\n<g id=\"edge6\" class=\"edge\">\n<title>St2&#45;&gt;St4</title>\n<path fill=\"none\" stroke=\"black\" d=\"M379.06,-65.81C372.54,-62.82 365.35,-59.87 358.49,-57.75 284.98,-35.03 194.35,-26.95 147.02,-24.16\"/>\n<polygon fill=\"black\" stroke=\"black\" points=\"146.95,-20.65 136.77,-23.6 146.56,-27.64 146.95,-20.65\"/>\n<text text-anchor=\"middle\" x=\"252.49\" y=\"-39.55\" font-family=\"Times,serif\" font-size=\"14.00\">0 </text>\n</g>\n<!-- St2&#45;&gt;St1 -->\n<g id=\"edge7\" class=\"edge\">\n<title>St2&#45;&gt;St1</title>\n<path fill=\"none\" stroke=\"black\" d=\"M377.6,-70.07C363.64,-66.12 345.76,-61.73 329.49,-59.75 305.89,-56.87 299.51,-56.24 275.99,-59.75 262.97,-61.69 249.01,-65.6 237.1,-69.52\"/>\n<polygon fill=\"black\" stroke=\"black\" points=\"235.95,-66.21 227.63,-72.78 238.23,-72.83 235.95,-66.21\"/>\n<text text-anchor=\"middle\" x=\"302.74\" y=\"-63.55\" font-family=\"Times,serif\" font-size=\"14.00\">1 </text>\n</g>\n</g>\n</svg>\n",
            "text/plain": [
              "<graphviz.graphs.Digraph at 0x78f8943789a0>"
            ]
          },
          "metadata": {},
          "execution_count": 61
        }
      ]
    },
    {
      "cell_type": "code",
      "source": [
        "dotObj_dfa(min_dfa(nfa2dfa(re2nfa(\"(0+1)*1(0+1)(0+1)\"))))"
      ],
      "metadata": {
        "id": "nWX4puqlBtOl",
        "outputId": "f32809a4-15bc-41b5-c0c4-e4d2c844e3ca",
        "colab": {
          "base_uri": "https://localhost:8080/",
          "height": 410
        }
      },
      "execution_count": 62,
      "outputs": [
        {
          "output_type": "execute_result",
          "data": {
            "image/svg+xml": "<?xml version=\"1.0\" encoding=\"UTF-8\" standalone=\"no\"?>\n<!DOCTYPE svg PUBLIC \"-//W3C//DTD SVG 1.1//EN\"\n \"http://www.w3.org/Graphics/SVG/1.1/DTD/svg11.dtd\">\n<!-- Generated by graphviz version 2.43.0 (0)\n -->\n<!-- Title: %3 Pages: 1 -->\n<svg width=\"824pt\" height=\"292pt\"\n viewBox=\"0.00 0.00 823.97 291.75\" xmlns=\"http://www.w3.org/2000/svg\" xmlns:xlink=\"http://www.w3.org/1999/xlink\">\n<g id=\"graph0\" class=\"graph\" transform=\"scale(1 1) rotate(0) translate(4 287.75)\">\n<title>%3</title>\n<polygon fill=\"white\" stroke=\"transparent\" points=\"-4,4 -4,-287.75 819.97,-287.75 819.97,4 -4,4\"/>\n<!-- EMPTY -->\n<g id=\"node1\" class=\"node\">\n<title>EMPTY</title>\n</g>\n<!-- St8 -->\n<g id=\"node2\" class=\"node\">\n<title>St8</title>\n<ellipse fill=\"none\" stroke=\"black\" cx=\"113.75\" cy=\"-22.75\" rx=\"23\" ry=\"23\"/>\n<text text-anchor=\"middle\" x=\"113.75\" y=\"-19.05\" font-family=\"Times,serif\" font-size=\"14.00\">St8</text>\n</g>\n<!-- EMPTY&#45;&gt;St8 -->\n<g id=\"edge1\" class=\"edge\">\n<title>EMPTY&#45;&gt;St8</title>\n<path fill=\"none\" stroke=\"black\" d=\"M54.35,-22.75C62.71,-22.75 72.05,-22.75 80.76,-22.75\"/>\n<polygon fill=\"black\" stroke=\"black\" points=\"80.97,-26.25 90.97,-22.75 80.97,-19.25 80.97,-26.25\"/>\n</g>\n<!-- St8&#45;&gt;St8 -->\n<g id=\"edge2\" class=\"edge\">\n<title>St8&#45;&gt;St8</title>\n<path fill=\"none\" stroke=\"black\" d=\"M106.4,-44.55C105.59,-54.66 108.04,-63.5 113.75,-63.5 117.4,-63.5 119.72,-59.87 120.7,-54.6\"/>\n<polygon fill=\"black\" stroke=\"black\" points=\"124.2,-54.68 121.1,-44.55 117.21,-54.4 124.2,-54.68\"/>\n<text text-anchor=\"middle\" x=\"113.75\" y=\"-67.3\" font-family=\"Times,serif\" font-size=\"14.00\">0 </text>\n</g>\n<!-- St3 -->\n<g id=\"node4\" class=\"node\">\n<title>St3</title>\n<ellipse fill=\"none\" stroke=\"black\" cx=\"206.24\" cy=\"-81.75\" rx=\"23\" ry=\"23\"/>\n<text text-anchor=\"middle\" x=\"206.24\" y=\"-78.05\" font-family=\"Times,serif\" font-size=\"14.00\">St3</text>\n</g>\n<!-- St8&#45;&gt;St3 -->\n<g id=\"edge3\" class=\"edge\">\n<title>St8&#45;&gt;St3</title>\n<path fill=\"none\" stroke=\"black\" d=\"M133.5,-34.97C146.45,-43.41 163.86,-54.77 178.29,-64.18\"/>\n<polygon fill=\"black\" stroke=\"black\" points=\"176.54,-67.21 186.83,-69.74 180.36,-61.35 176.54,-67.21\"/>\n<text text-anchor=\"middle\" x=\"160\" y=\"-60.55\" font-family=\"Times,serif\" font-size=\"14.00\">1 </text>\n</g>\n<!-- St1 -->\n<g id=\"node3\" class=\"node\">\n<title>St1</title>\n<ellipse fill=\"none\" stroke=\"black\" cx=\"298.74\" cy=\"-170.75\" rx=\"23\" ry=\"23\"/>\n<text text-anchor=\"middle\" x=\"298.74\" y=\"-167.05\" font-family=\"Times,serif\" font-size=\"14.00\">St1</text>\n</g>\n<!-- St4 -->\n<g id=\"node6\" class=\"node\">\n<title>St4</title>\n<ellipse fill=\"none\" stroke=\"black\" cx=\"495.73\" cy=\"-199.75\" rx=\"22.96\" ry=\"22.96\"/>\n<ellipse fill=\"none\" stroke=\"black\" cx=\"495.73\" cy=\"-199.75\" rx=\"27\" ry=\"27\"/>\n<text text-anchor=\"middle\" x=\"495.73\" y=\"-196.05\" font-family=\"Times,serif\" font-size=\"14.00\">St4</text>\n</g>\n<!-- St1&#45;&gt;St4 -->\n<g id=\"edge8\" class=\"edge\">\n<title>St1&#45;&gt;St4</title>\n<path fill=\"none\" stroke=\"black\" d=\"M308.54,-191.55C319.14,-213.59 339.24,-247.19 368.49,-261.75 389.77,-272.34 399.67,-269.97 421.98,-261.75 440.73,-254.84 457.93,-240.72 470.89,-227.7\"/>\n<polygon fill=\"black\" stroke=\"black\" points=\"473.66,-229.88 478.02,-220.22 468.59,-225.05 473.66,-229.88\"/>\n<text text-anchor=\"middle\" x=\"395.24\" y=\"-272.55\" font-family=\"Times,serif\" font-size=\"14.00\">0 </text>\n</g>\n<!-- St0 -->\n<g id=\"node9\" class=\"node\">\n<title>St0</title>\n<ellipse fill=\"none\" stroke=\"black\" cx=\"395.24\" cy=\"-192.75\" rx=\"22.96\" ry=\"22.96\"/>\n<ellipse fill=\"none\" stroke=\"black\" cx=\"395.24\" cy=\"-192.75\" rx=\"27\" ry=\"27\"/>\n<text text-anchor=\"middle\" x=\"395.24\" y=\"-189.05\" font-family=\"Times,serif\" font-size=\"14.00\">St0</text>\n</g>\n<!-- St1&#45;&gt;St0 -->\n<g id=\"edge9\" class=\"edge\">\n<title>St1&#45;&gt;St0</title>\n<path fill=\"none\" stroke=\"black\" d=\"M321.18,-175.74C332.35,-178.34 346.3,-181.59 359.01,-184.55\"/>\n<polygon fill=\"black\" stroke=\"black\" points=\"358.32,-187.98 368.85,-186.84 359.91,-181.16 358.32,-187.98\"/>\n<text text-anchor=\"middle\" x=\"344.99\" y=\"-186.55\" font-family=\"Times,serif\" font-size=\"14.00\">1 </text>\n</g>\n<!-- St3&#45;&gt;St1 -->\n<g id=\"edge5\" class=\"edge\">\n<title>St3&#45;&gt;St1</title>\n<path fill=\"none\" stroke=\"black\" d=\"M223.01,-97.25C237.19,-111.2 258.23,-131.89 274.37,-147.77\"/>\n<polygon fill=\"black\" stroke=\"black\" points=\"272.27,-150.61 281.85,-155.12 277.18,-145.62 272.27,-150.61\"/>\n<text text-anchor=\"middle\" x=\"252.49\" y=\"-135.55\" font-family=\"Times,serif\" font-size=\"14.00\">1 </text>\n</g>\n<!-- St5 -->\n<g id=\"node5\" class=\"node\">\n<title>St5</title>\n<ellipse fill=\"none\" stroke=\"black\" cx=\"692.72\" cy=\"-119.75\" rx=\"23\" ry=\"23\"/>\n<text text-anchor=\"middle\" x=\"692.72\" y=\"-116.05\" font-family=\"Times,serif\" font-size=\"14.00\">St5</text>\n</g>\n<!-- St3&#45;&gt;St5 -->\n<g id=\"edge4\" class=\"edge\">\n<title>St3&#45;&gt;St5</title>\n<path fill=\"none\" stroke=\"black\" d=\"M228.68,-86.96C246.92,-90.94 273.89,-95.75 297.74,-95.75 297.74,-95.75 297.74,-95.75 597.23,-95.75 619.36,-95.75 643.55,-102.01 661.9,-108.14\"/>\n<polygon fill=\"black\" stroke=\"black\" points=\"660.86,-111.48 671.45,-111.49 663.18,-104.88 660.86,-111.48\"/>\n<text text-anchor=\"middle\" x=\"445.48\" y=\"-99.55\" font-family=\"Times,serif\" font-size=\"14.00\">0 </text>\n</g>\n<!-- St6 -->\n<g id=\"node7\" class=\"node\">\n<title>St6</title>\n<ellipse fill=\"none\" stroke=\"black\" cx=\"789.22\" cy=\"-90.75\" rx=\"22.96\" ry=\"22.96\"/>\n<ellipse fill=\"none\" stroke=\"black\" cx=\"789.22\" cy=\"-90.75\" rx=\"27\" ry=\"27\"/>\n<text text-anchor=\"middle\" x=\"789.22\" y=\"-87.05\" font-family=\"Times,serif\" font-size=\"14.00\">St6</text>\n</g>\n<!-- St5&#45;&gt;St6 -->\n<g id=\"edge6\" class=\"edge\">\n<title>St5&#45;&gt;St6</title>\n<path fill=\"none\" stroke=\"black\" d=\"M714.7,-113.31C726.13,-109.8 740.59,-105.37 753.64,-101.36\"/>\n<polygon fill=\"black\" stroke=\"black\" points=\"754.75,-104.68 763.28,-98.4 752.7,-97.99 754.75,-104.68\"/>\n<text text-anchor=\"middle\" x=\"738.97\" y=\"-111.55\" font-family=\"Times,serif\" font-size=\"14.00\">0 </text>\n</g>\n<!-- St2 -->\n<g id=\"node8\" class=\"node\">\n<title>St2</title>\n<ellipse fill=\"none\" stroke=\"black\" cx=\"596.23\" cy=\"-150.75\" rx=\"22.96\" ry=\"22.96\"/>\n<ellipse fill=\"none\" stroke=\"black\" cx=\"596.23\" cy=\"-150.75\" rx=\"27\" ry=\"27\"/>\n<text text-anchor=\"middle\" x=\"596.23\" y=\"-147.05\" font-family=\"Times,serif\" font-size=\"14.00\">St2</text>\n</g>\n<!-- St5&#45;&gt;St2 -->\n<g id=\"edge7\" class=\"edge\">\n<title>St5&#45;&gt;St2</title>\n<path fill=\"none\" stroke=\"black\" d=\"M669.93,-122.8C660.84,-124.39 650.26,-126.66 640.98,-129.75 637.22,-131 633.36,-132.5 629.57,-134.11\"/>\n<polygon fill=\"black\" stroke=\"black\" points=\"628.04,-130.97 620.39,-138.29 630.94,-137.34 628.04,-130.97\"/>\n<text text-anchor=\"middle\" x=\"646.48\" y=\"-133.55\" font-family=\"Times,serif\" font-size=\"14.00\">1 </text>\n</g>\n<!-- St4&#45;&gt;St6 -->\n<g id=\"edge14\" class=\"edge\">\n<title>St4&#45;&gt;St6</title>\n<path fill=\"none\" stroke=\"black\" d=\"M522.69,-199.04C548.44,-197.87 588.88,-194.81 622.98,-186.75 665.75,-176.63 677.54,-173.96 715.47,-151.75 732.35,-141.86 749.22,-128.03 762.46,-116.03\"/>\n<polygon fill=\"black\" stroke=\"black\" points=\"764.85,-118.59 769.8,-109.23 760.09,-113.46 764.85,-118.59\"/>\n<text text-anchor=\"middle\" x=\"646.48\" y=\"-186.55\" font-family=\"Times,serif\" font-size=\"14.00\">0 </text>\n</g>\n<!-- St4&#45;&gt;St2 -->\n<g id=\"edge15\" class=\"edge\">\n<title>St4&#45;&gt;St2</title>\n<path fill=\"none\" stroke=\"black\" d=\"M519.8,-187.4C526.45,-183.9 533.73,-180.13 540.48,-176.75 547.47,-173.25 555.01,-169.6 562.19,-166.17\"/>\n<polygon fill=\"black\" stroke=\"black\" points=\"564.14,-169.12 571.68,-161.67 561.15,-162.79 564.14,-169.12\"/>\n<text text-anchor=\"middle\" x=\"545.98\" y=\"-180.55\" font-family=\"Times,serif\" font-size=\"14.00\">1 </text>\n</g>\n<!-- St6&#45;&gt;St8 -->\n<g id=\"edge10\" class=\"edge\">\n<title>St6&#45;&gt;St8</title>\n<path fill=\"none\" stroke=\"black\" d=\"M775.47,-67.79C759.77,-42.92 730.6,-6.75 693.72,-6.75 205.24,-6.75 205.24,-6.75 205.24,-6.75 185.29,-6.75 163.24,-10.57 145.9,-14.47\"/>\n<polygon fill=\"black\" stroke=\"black\" points=\"144.69,-11.16 135.77,-16.88 146.31,-17.97 144.69,-11.16\"/>\n<text text-anchor=\"middle\" x=\"445.48\" y=\"-10.55\" font-family=\"Times,serif\" font-size=\"14.00\">0 </text>\n</g>\n<!-- St6&#45;&gt;St3 -->\n<g id=\"edge11\" class=\"edge\">\n<title>St6&#45;&gt;St3</title>\n<path fill=\"none\" stroke=\"black\" d=\"M766.3,-76.38C747.76,-65.62 720.07,-52.75 693.72,-52.75 297.74,-52.75 297.74,-52.75 297.74,-52.75 276.5,-52.75 253.74,-60.08 236.36,-67.37\"/>\n<polygon fill=\"black\" stroke=\"black\" points=\"234.52,-64.36 226.79,-71.61 237.36,-70.76 234.52,-64.36\"/>\n<text text-anchor=\"middle\" x=\"495.73\" y=\"-56.55\" font-family=\"Times,serif\" font-size=\"14.00\">1 </text>\n</g>\n<!-- St2&#45;&gt;St1 -->\n<g id=\"edge13\" class=\"edge\">\n<title>St2&#45;&gt;St1</title>\n<path fill=\"none\" stroke=\"black\" d=\"M569.28,-149.97C527.05,-149.03 440.87,-148.48 368.49,-156.75 356.04,-158.17 342.49,-160.71 330.74,-163.24\"/>\n<polygon fill=\"black\" stroke=\"black\" points=\"329.95,-159.83 320.95,-165.43 331.48,-166.66 329.95,-159.83\"/>\n<text text-anchor=\"middle\" x=\"445.48\" y=\"-155.55\" font-family=\"Times,serif\" font-size=\"14.00\">1 </text>\n</g>\n<!-- St2&#45;&gt;St5 -->\n<g id=\"edge12\" class=\"edge\">\n<title>St2&#45;&gt;St5</title>\n<path fill=\"none\" stroke=\"black\" d=\"M623.11,-150.31C632.41,-149.53 642.86,-147.93 651.98,-144.75 656.43,-143.2 660.89,-141.07 665.14,-138.71\"/>\n<polygon fill=\"black\" stroke=\"black\" points=\"667.3,-141.5 674.01,-133.3 663.65,-135.52 667.3,-141.5\"/>\n<text text-anchor=\"middle\" x=\"646.48\" y=\"-151.55\" font-family=\"Times,serif\" font-size=\"14.00\">0 </text>\n</g>\n<!-- St0&#45;&gt;St4 -->\n<g id=\"edge16\" class=\"edge\">\n<title>St0&#45;&gt;St4</title>\n<path fill=\"none\" stroke=\"black\" d=\"M422.11,-194.59C433.31,-195.38 446.61,-196.33 458.74,-197.19\"/>\n<polygon fill=\"black\" stroke=\"black\" points=\"458.8,-200.7 469.03,-197.92 459.3,-193.72 458.8,-200.7\"/>\n<text text-anchor=\"middle\" x=\"445.48\" y=\"-200.55\" font-family=\"Times,serif\" font-size=\"14.00\">0 </text>\n</g>\n<!-- St0&#45;&gt;St0 -->\n<g id=\"edge17\" class=\"edge\">\n<title>St0&#45;&gt;St0</title>\n<path fill=\"none\" stroke=\"black\" d=\"M385.94,-218.05C385.3,-228.57 388.4,-237.5 395.24,-237.5 399.72,-237.5 402.6,-233.65 403.86,-228.04\"/>\n<polygon fill=\"black\" stroke=\"black\" points=\"407.36,-228.26 404.53,-218.05 400.37,-227.79 407.36,-228.26\"/>\n<text text-anchor=\"middle\" x=\"395.24\" y=\"-241.3\" font-family=\"Times,serif\" font-size=\"14.00\">1 </text>\n</g>\n</g>\n</svg>\n",
            "text/plain": [
              "<graphviz.graphs.Digraph at 0x78f894378460>"
            ]
          },
          "metadata": {},
          "execution_count": 62
        }
      ]
    },
    {
      "cell_type": "markdown",
      "source": [
        "### It is getting larger; so let's check how the number of states grow."
      ],
      "metadata": {
        "id": "9rooPbL0CWf_"
      }
    },
    {
      "cell_type": "code",
      "source": [
        "len(min_dfa(nfa2dfa(re2nfa(\"(0+1)*1\")))[\"Q\"])"
      ],
      "metadata": {
        "id": "UDFNBJMzCeoK",
        "outputId": "bc55fa87-5d0d-4cfb-e935-1ca9e9be9e64",
        "colab": {
          "base_uri": "https://localhost:8080/"
        }
      },
      "execution_count": 67,
      "outputs": [
        {
          "output_type": "execute_result",
          "data": {
            "text/plain": [
              "2"
            ]
          },
          "metadata": {},
          "execution_count": 67
        }
      ]
    },
    {
      "cell_type": "code",
      "source": [
        "len(min_dfa(nfa2dfa(re2nfa(\"(0+1)*1(0+1)\")))[\"Q\"])"
      ],
      "metadata": {
        "id": "IZ8IIct3CyNo",
        "outputId": "901392f4-7748-4ccf-b0c7-b42c9c8b5985",
        "colab": {
          "base_uri": "https://localhost:8080/"
        }
      },
      "execution_count": 68,
      "outputs": [
        {
          "output_type": "execute_result",
          "data": {
            "text/plain": [
              "4"
            ]
          },
          "metadata": {},
          "execution_count": 68
        }
      ]
    },
    {
      "cell_type": "code",
      "source": [
        "len(min_dfa(nfa2dfa(re2nfa(\"(0+1)*1(0+1)(0+1)\")))[\"Q\"])"
      ],
      "metadata": {
        "id": "fwOgS6vEC1sw",
        "outputId": "a35c0e30-44d9-418a-bb2d-d1449d96e65f",
        "colab": {
          "base_uri": "https://localhost:8080/"
        }
      },
      "execution_count": 69,
      "outputs": [
        {
          "output_type": "execute_result",
          "data": {
            "text/plain": [
              "8"
            ]
          },
          "metadata": {},
          "execution_count": 69
        }
      ]
    },
    {
      "cell_type": "code",
      "source": [
        "len(min_dfa(nfa2dfa(re2nfa(\"(0+1)*1(0+1)(0+1)(0+1)\")))[\"Q\"])"
      ],
      "metadata": {
        "id": "iKNke_CwC6GN",
        "outputId": "1bdb5748-298d-49fa-e21e-e8beb488d59d",
        "colab": {
          "base_uri": "https://localhost:8080/"
        }
      },
      "execution_count": 70,
      "outputs": [
        {
          "output_type": "execute_result",
          "data": {
            "text/plain": [
              "16"
            ]
          },
          "metadata": {},
          "execution_count": 70
        }
      ]
    },
    {
      "cell_type": "code",
      "source": [
        "len(min_dfa(nfa2dfa(re2nfa(\"(0+1)*1(0+1)(0+1)(0+1)(0+1)\")))[\"Q\"])"
      ],
      "metadata": {
        "id": "wphskiVNDH2h",
        "outputId": "4d018d35-b95d-454e-9fea-665e589a43a2",
        "colab": {
          "base_uri": "https://localhost:8080/"
        }
      },
      "execution_count": 71,
      "outputs": [
        {
          "output_type": "execute_result",
          "data": {
            "text/plain": [
              "32"
            ]
          },
          "metadata": {},
          "execution_count": 71
        }
      ]
    },
    {
      "cell_type": "code",
      "source": [],
      "metadata": {
        "id": "wXttTYo_CE9V"
      },
      "execution_count": null,
      "outputs": []
    },
    {
      "cell_type": "code",
      "source": [],
      "metadata": {
        "id": "L7xlZSvw_3-T"
      },
      "execution_count": null,
      "outputs": []
    },
    {
      "cell_type": "markdown",
      "source": [
        "# Some material that motivates the need for NFA and Regular Expressions (RE)\n",
        "\n",
        "* Impossibility of concatenating DFA\n",
        "   - You can union, intersect, complement DFA\n",
        "   - You can minimize DFA rather directly\n",
        "\n",
        "* But\n",
        "  - You can't concatenate DFA directly\n",
        "  - Some DFA are guaranteed exponential 😞\n",
        "\n",
        "* So, we introduce NFA and Regular Expressions (RE)\n",
        "  - NFA are the graph-form of the required generalization of DFA\n",
        "  - Every DFA is an NFA\n",
        "  - NFA are more liberal, in that they include four new situations\n",
        "    - They can jump to multiple places on a single symbol\n",
        "    - They can jump to a state via an epsilon transition ('' moves or $\\varepsilon$ moves)\n",
        "    - They need not jump from a state to another state on all symbols\n",
        "       - In fact, they can have perfect dead-end states (in a DFA you may not have them)\n",
        "    - NFA can start from multiple initial states\n",
        "\n",
        "\n",
        "* But\n",
        "  - NFA are pretty gnarly and error-prone\n",
        "     - No reasonable person would design them by hand\n",
        "  - Fortunately, we have a notation called RE (regular expressions)\n",
        "     - They are NOTHING but the language notations you learned about a while ago, except\n",
        "        - They are not in math notation\n",
        "        - Instead they are in nice ASCII text that is computer-readable\n",
        "     - AND\n",
        "        - You put together RE only in three ways\n",
        "          - Union\n",
        "          - Concatenation\n",
        "          - Star\n",
        "        - i.e.\n",
        "          - You don't have intersection\n",
        "          - You don't have complement\n",
        "        - AND STILL\n",
        "          - they can describe all regular languages\n",
        "* Here are some facts\n",
        "  - You cannot directly complement NFA or RegExp\n",
        "  - You can convert NFA to RE\n",
        "  - Conversion of RE to NFA is even easier and more fun and modular\n",
        "  - There is no direct way to minimize NFA (or RE)\n",
        "    - we basically turn them into DFA and then minimize\n",
        "      - But then we may pay the price -- exponential blow-up\n",
        "\n",
        "* FINALLY\n",
        "  - Those large DFA can now be expressed in an exponentially succinct using NFA or RE\n",
        "  - And we can perform the concatenation (missing with DFA)\n",
        "\n",
        "\n",
        "* Let us see all these through examples"
      ],
      "metadata": {
        "id": "JI8TRERj-ydG"
      }
    },
    {
      "cell_type": "markdown",
      "source": [
        "# Some material that motivates the need for NFA and Regular Expressions (RE)\n",
        "\n",
        "* Impossibility of concatenating DFA\n",
        "   - You can union, intersect, complement DFA\n",
        "   - You can minimize DFA rather directly\n",
        "\n",
        "* But\n",
        "  - You can't concatenate DFA directly\n",
        "  - Some DFA are guaranteed exponential 😞\n",
        "\n",
        "* So, we introduce NFA and Regular Expressions (RE)\n",
        "  - NFA are the graph-form of the required generalization of DFA\n",
        "  - Every DFA is an NFA\n",
        "  - NFA are more liberal, in that they include four new situations\n",
        "    - They can jump to multiple places on a single symbol\n",
        "    - They can jump to a state via an epsilon transition ('' moves or $\\varepsilon$ moves)\n",
        "    - They need not jump from a state to another state on all symbols\n",
        "       - In fact, they can have perfect dead-end states (in a DFA you may not have them)\n",
        "    - NFA can start from multiple initial states\n",
        "\n",
        "\n",
        "* But\n",
        "  - NFA are pretty gnarly and error-prone\n",
        "     - No reasonable person would design them by hand\n",
        "  - Fortunately, we have a notation called RE (regular expressions)\n",
        "     - They are NOTHING but the language notations you learned about a while ago, except\n",
        "        - They are not in math notation\n",
        "        - Instead they are in nice ASCII text that is computer-readable\n",
        "     - AND\n",
        "        - You put together RE only in three ways\n",
        "          - Union\n",
        "          - Concatenation\n",
        "          - Star\n",
        "        - i.e.\n",
        "          - You don't have intersection\n",
        "          - You don't have complement\n",
        "        - AND STILL\n",
        "          - they can describe all regular languages\n",
        "* Here are some facts\n",
        "  - You cannot directly complement NFA or RegExp\n",
        "  - You can convert NFA to RE\n",
        "  - Conversion of RE to NFA is even easier and more fun and modular\n",
        "  - There is no direct way to minimize NFA (or RE)\n",
        "    - we basically turn them into DFA and then minimize\n",
        "      - But then we may pay the price -- exponential blow-up\n",
        "\n",
        "* FINALLY\n",
        "  - Those large DFA can now be expressed in an exponentially succinct using NFA or RE\n",
        "  - And we can perform the concatenation (missing with DFA)\n",
        "\n",
        "\n",
        "* Let us see all these through examples"
      ],
      "metadata": {
        "id": "voPR3Pdb-0WW"
      }
    },
    {
      "cell_type": "markdown",
      "source": [
        "# Some material that motivates the need for NFA and Regular Expressions (RE)\n",
        "\n",
        "* Impossibility of concatenating DFA\n",
        "   - You can union, intersect, complement DFA\n",
        "   - You can minimize DFA rather directly\n",
        "\n",
        "* But\n",
        "  - You can't concatenate DFA directly\n",
        "  - Some DFA are guaranteed exponential 😞\n",
        "\n",
        "* So, we introduce NFA and Regular Expressions (RE)\n",
        "  - NFA are the graph-form of the required generalization of DFA\n",
        "  - Every DFA is an NFA\n",
        "  - NFA are more liberal, in that they include four new situations\n",
        "    - They can jump to multiple places on a single symbol\n",
        "    - They can jump to a state via an epsilon transition ('' moves or $\\varepsilon$ moves)\n",
        "    - They need not jump from a state to another state on all symbols\n",
        "       - In fact, they can have perfect dead-end states (in a DFA you may not have them)\n",
        "    - NFA can start from multiple initial states\n",
        "\n",
        "\n",
        "* But\n",
        "  - NFA are pretty gnarly and error-prone\n",
        "     - No reasonable person would design them by hand\n",
        "  - Fortunately, we have a notation called RE (regular expressions)\n",
        "     - They are NOTHING but the language notations you learned about a while ago, except\n",
        "        - They are not in math notation\n",
        "        - Instead they are in nice ASCII text that is computer-readable\n",
        "     - AND\n",
        "        - You put together RE only in three ways\n",
        "          - Union\n",
        "          - Concatenation\n",
        "          - Star\n",
        "        - i.e.\n",
        "          - You don't have intersection\n",
        "          - You don't have complement\n",
        "        - AND STILL\n",
        "          - they can describe all regular languages\n",
        "* Here are some facts\n",
        "  - You cannot directly complement NFA or RegExp\n",
        "  - You can convert NFA to RE\n",
        "  - Conversion of RE to NFA is even easier and more fun and modular\n",
        "  - There is no direct way to minimize NFA (or RE)\n",
        "    - we basically turn them into DFA and then minimize\n",
        "      - But then we may pay the price -- exponential blow-up\n",
        "\n",
        "* FINALLY\n",
        "  - Those large DFA can now be expressed in an exponentially succinct using NFA or RE\n",
        "  - And we can perform the concatenation (missing with DFA)\n",
        "\n",
        "\n",
        "* Let us see all these through examples"
      ],
      "metadata": {
        "id": "WblAASpv-2YM"
      }
    },
    {
      "cell_type": "markdown",
      "source": [
        "# The portion below will consist of the 10 questions in Quiz-5.\n",
        "### _(Far below, you'll find material you can practice for MT1)_"
      ],
      "metadata": {
        "id": "kgvrDbUfa_bw"
      }
    },
    {
      "cell_type": "markdown",
      "source": [
        "------------------------------------\n"
      ],
      "metadata": {
        "id": "5jpNgArMcIpT"
      }
    },
    {
      "cell_type": "markdown",
      "source": [
        "## IN QUIZ-5 WE WILL TRAVERSE THE KLEENE-PIPELINE or otherwise known as the Regular Language Conversion Pipeline (Kleene was a famous scientist in this area who contributed to many things in this subject. The star operator is called the Kleene-star often."
      ],
      "metadata": {
        "id": "9qzSU318dARe"
      }
    },
    {
      "cell_type": "markdown",
      "source": [
        "# BACKGROUND MATERIAL TO TEACH YOU SOME BASICS + HAVE YOU DO QUIZ-5\n",
        "\n",
        "### The idea of regular expressions will be reinforced in this exercise. When we have the language $\\{a,bc\\}\\{d\\}+\\varepsilon$, the regular expression corresponding to this is (a+bc)(d)('') or even (a+bc)d('') or finally also (a+bc)d'' where we assume that having the parenthesis around d and '' makes it more readable. Let's test this out."
      ],
      "metadata": {
        "id": "3-m27b2Xcmt0"
      }
    },
    {
      "cell_type": "code",
      "source": [
        "dotObj_nfa(re2nfa(\"(a+bc)(d)('')\"))"
      ],
      "metadata": {
        "id": "tLRH7JmPeFym",
        "outputId": "31c8b1db-e3e2-424b-b2f7-0c7c7838915d",
        "colab": {
          "base_uri": "https://localhost:8080/",
          "height": 193
        }
      },
      "execution_count": 2,
      "outputs": [
        {
          "output_type": "stream",
          "name": "stderr",
          "text": [
            "Generating LALR tables\n"
          ]
        },
        {
          "output_type": "execute_result",
          "data": {
            "image/svg+xml": "<?xml version=\"1.0\" encoding=\"UTF-8\" standalone=\"no\"?>\n<!DOCTYPE svg PUBLIC \"-//W3C//DTD SVG 1.1//EN\"\n \"http://www.w3.org/Graphics/SVG/1.1/DTD/svg11.dtd\">\n<!-- Generated by graphviz version 2.43.0 (0)\n -->\n<!-- Title: %3 Pages: 1 -->\n<svg width=\"737pt\" height=\"116pt\"\n viewBox=\"0.00 0.00 736.97 116.50\" xmlns=\"http://www.w3.org/2000/svg\" xmlns:xlink=\"http://www.w3.org/1999/xlink\">\n<g id=\"graph0\" class=\"graph\" transform=\"scale(1 1) rotate(0) translate(4 112.5)\">\n<title>%3</title>\n<polygon fill=\"white\" stroke=\"transparent\" points=\"-4,4 -4,-112.5 732.97,-112.5 732.97,4 -4,4\"/>\n<!-- EMPTY -->\n<g id=\"node1\" class=\"node\">\n<title>EMPTY</title>\n</g>\n<!-- St3 -->\n<g id=\"node2\" class=\"node\">\n<title>St3</title>\n<ellipse fill=\"none\" stroke=\"black\" cx=\"113.75\" cy=\"-85.75\" rx=\"23\" ry=\"23\"/>\n<text text-anchor=\"middle\" x=\"113.75\" y=\"-82.05\" font-family=\"Times,serif\" font-size=\"14.00\">St3</text>\n</g>\n<!-- EMPTY&#45;&gt;St3 -->\n<g id=\"edge2\" class=\"edge\">\n<title>EMPTY&#45;&gt;St3</title>\n<path fill=\"none\" stroke=\"black\" d=\"M54.35,-63.7C63.34,-67.09 73.46,-70.91 82.72,-74.41\"/>\n<polygon fill=\"black\" stroke=\"black\" points=\"81.75,-77.78 92.34,-78.04 84.22,-71.23 81.75,-77.78\"/>\n</g>\n<!-- St1 -->\n<g id=\"node4\" class=\"node\">\n<title>St1</title>\n<ellipse fill=\"none\" stroke=\"black\" cx=\"113.75\" cy=\"-22.75\" rx=\"23\" ry=\"23\"/>\n<text text-anchor=\"middle\" x=\"113.75\" y=\"-19.05\" font-family=\"Times,serif\" font-size=\"14.00\">St1</text>\n</g>\n<!-- EMPTY&#45;&gt;St1 -->\n<g id=\"edge1\" class=\"edge\">\n<title>EMPTY&#45;&gt;St1</title>\n<path fill=\"none\" stroke=\"black\" d=\"M54.35,-44.11C63.27,-40.85 73.3,-37.18 82.5,-33.81\"/>\n<polygon fill=\"black\" stroke=\"black\" points=\"83.88,-37.04 92.07,-30.31 81.47,-30.46 83.88,-37.04\"/>\n</g>\n<!-- St4 -->\n<g id=\"node8\" class=\"node\">\n<title>St4</title>\n<ellipse fill=\"none\" stroke=\"black\" cx=\"206.24\" cy=\"-84.75\" rx=\"23\" ry=\"23\"/>\n<text text-anchor=\"middle\" x=\"206.24\" y=\"-81.05\" font-family=\"Times,serif\" font-size=\"14.00\">St4</text>\n</g>\n<!-- St3&#45;&gt;St4 -->\n<g id=\"edge4\" class=\"edge\">\n<title>St3&#45;&gt;St4</title>\n<path fill=\"none\" stroke=\"black\" d=\"M136.65,-85.51C147.58,-85.39 161,-85.24 173.07,-85.1\"/>\n<polygon fill=\"black\" stroke=\"black\" points=\"173.26,-88.6 183.23,-84.99 173.19,-81.6 173.26,-88.6\"/>\n<text text-anchor=\"middle\" x=\"160\" y=\"-88.55\" font-family=\"Times,serif\" font-size=\"14.00\">b </text>\n</g>\n<!-- St2 -->\n<g id=\"node3\" class=\"node\">\n<title>St2</title>\n<ellipse fill=\"none\" stroke=\"black\" cx=\"269.74\" cy=\"-31.75\" rx=\"23\" ry=\"23\"/>\n<text text-anchor=\"middle\" x=\"269.74\" y=\"-28.05\" font-family=\"Times,serif\" font-size=\"14.00\">St2</text>\n</g>\n<!-- St7 -->\n<g id=\"node9\" class=\"node\">\n<title>St7</title>\n<ellipse fill=\"none\" stroke=\"black\" cx=\"515.23\" cy=\"-48.75\" rx=\"23\" ry=\"23\"/>\n<text text-anchor=\"middle\" x=\"515.23\" y=\"-45.05\" font-family=\"Times,serif\" font-size=\"14.00\">St7</text>\n</g>\n<!-- St2&#45;&gt;St7 -->\n<g id=\"edge9\" class=\"edge\">\n<title>St2&#45;&gt;St7</title>\n<path fill=\"none\" stroke=\"black\" d=\"M292.78,-33.29C335.97,-36.3 431.89,-43 482.13,-46.51\"/>\n<polygon fill=\"black\" stroke=\"black\" points=\"482.2,-50.02 492.42,-47.23 482.68,-43.04 482.2,-50.02\"/>\n<text text-anchor=\"middle\" x=\"378.98\" y=\"-43.55\" font-family=\"Times,serif\" font-size=\"14.00\">&#39;&#39; </text>\n</g>\n<!-- St1&#45;&gt;St2 -->\n<g id=\"edge3\" class=\"edge\">\n<title>St1&#45;&gt;St2</title>\n<path fill=\"none\" stroke=\"black\" d=\"M136.48,-24.02C162.59,-25.54 206.61,-28.12 236.63,-29.87\"/>\n<polygon fill=\"black\" stroke=\"black\" points=\"236.43,-33.37 246.62,-30.45 236.84,-26.38 236.43,-33.37\"/>\n<text text-anchor=\"middle\" x=\"160\" y=\"-29.55\" font-family=\"Times,serif\" font-size=\"14.00\">a </text>\n</g>\n<!-- St8 -->\n<g id=\"node5\" class=\"node\">\n<title>St8</title>\n<ellipse fill=\"none\" stroke=\"black\" cx=\"607.72\" cy=\"-48.75\" rx=\"23\" ry=\"23\"/>\n<text text-anchor=\"middle\" x=\"607.72\" y=\"-45.05\" font-family=\"Times,serif\" font-size=\"14.00\">St8</text>\n</g>\n<!-- St9 -->\n<g id=\"node10\" class=\"node\">\n<title>St9</title>\n<ellipse fill=\"none\" stroke=\"black\" cx=\"702.22\" cy=\"-48.75\" rx=\"22.96\" ry=\"22.96\"/>\n<ellipse fill=\"none\" stroke=\"black\" cx=\"702.22\" cy=\"-48.75\" rx=\"27\" ry=\"27\"/>\n<text text-anchor=\"middle\" x=\"702.22\" y=\"-45.05\" font-family=\"Times,serif\" font-size=\"14.00\">St9</text>\n</g>\n<!-- St8&#45;&gt;St9 -->\n<g id=\"edge10\" class=\"edge\">\n<title>St8&#45;&gt;St9</title>\n<path fill=\"none\" stroke=\"black\" d=\"M630.64,-48.75C640.87,-48.75 653.31,-48.75 664.89,-48.75\"/>\n<polygon fill=\"black\" stroke=\"black\" points=\"665.18,-52.25 675.18,-48.75 665.18,-45.25 665.18,-52.25\"/>\n<text text-anchor=\"middle\" x=\"652.97\" y=\"-52.55\" font-family=\"Times,serif\" font-size=\"14.00\">&#39;&#39; </text>\n</g>\n<!-- St6 -->\n<g id=\"node6\" class=\"node\">\n<title>St6</title>\n<ellipse fill=\"none\" stroke=\"black\" cx=\"424.73\" cy=\"-84.75\" rx=\"23\" ry=\"23\"/>\n<text text-anchor=\"middle\" x=\"424.73\" y=\"-81.05\" font-family=\"Times,serif\" font-size=\"14.00\">St6</text>\n</g>\n<!-- St6&#45;&gt;St7 -->\n<g id=\"edge8\" class=\"edge\">\n<title>St6&#45;&gt;St7</title>\n<path fill=\"none\" stroke=\"black\" d=\"M446.26,-76.4C457.54,-71.81 471.74,-66.03 484.24,-60.95\"/>\n<polygon fill=\"black\" stroke=\"black\" points=\"485.87,-64.06 493.81,-57.05 483.23,-57.58 485.87,-64.06\"/>\n<text text-anchor=\"middle\" x=\"469.98\" y=\"-71.55\" font-family=\"Times,serif\" font-size=\"14.00\">&#39;&#39; </text>\n</g>\n<!-- St5 -->\n<g id=\"node7\" class=\"node\">\n<title>St5</title>\n<ellipse fill=\"none\" stroke=\"black\" cx=\"333.24\" cy=\"-84.75\" rx=\"23\" ry=\"23\"/>\n<text text-anchor=\"middle\" x=\"333.24\" y=\"-81.05\" font-family=\"Times,serif\" font-size=\"14.00\">St5</text>\n</g>\n<!-- St5&#45;&gt;St6 -->\n<g id=\"edge5\" class=\"edge\">\n<title>St5&#45;&gt;St6</title>\n<path fill=\"none\" stroke=\"black\" d=\"M356.36,-84.75C366.98,-84.75 379.91,-84.75 391.59,-84.75\"/>\n<polygon fill=\"black\" stroke=\"black\" points=\"391.86,-88.25 401.86,-84.75 391.86,-81.25 391.86,-88.25\"/>\n<text text-anchor=\"middle\" x=\"378.98\" y=\"-88.55\" font-family=\"Times,serif\" font-size=\"14.00\">c </text>\n</g>\n<!-- St4&#45;&gt;St5 -->\n<g id=\"edge6\" class=\"edge\">\n<title>St4&#45;&gt;St5</title>\n<path fill=\"none\" stroke=\"black\" d=\"M229.02,-84.75C248.7,-84.75 277.93,-84.75 300.27,-84.75\"/>\n<polygon fill=\"black\" stroke=\"black\" points=\"300.29,-88.25 310.29,-84.75 300.29,-81.25 300.29,-88.25\"/>\n<text text-anchor=\"middle\" x=\"269.74\" y=\"-88.55\" font-family=\"Times,serif\" font-size=\"14.00\">&#39;&#39; </text>\n</g>\n<!-- St7&#45;&gt;St8 -->\n<g id=\"edge7\" class=\"edge\">\n<title>St7&#45;&gt;St8</title>\n<path fill=\"none\" stroke=\"black\" d=\"M538.13,-48.75C549.06,-48.75 562.48,-48.75 574.55,-48.75\"/>\n<polygon fill=\"black\" stroke=\"black\" points=\"574.71,-52.25 584.71,-48.75 574.71,-45.25 574.71,-52.25\"/>\n<text text-anchor=\"middle\" x=\"561.48\" y=\"-52.55\" font-family=\"Times,serif\" font-size=\"14.00\">d </text>\n</g>\n</g>\n</svg>\n",
            "text/plain": [
              "<graphviz.graphs.Digraph at 0x78f8a424afb0>"
            ]
          },
          "metadata": {},
          "execution_count": 2
        }
      ]
    },
    {
      "cell_type": "code",
      "source": [
        "dotObj_nfa(re2nfa(\"(a+bc)d''\"))"
      ],
      "metadata": {
        "id": "UMtf06OGePWc",
        "outputId": "d04a388c-e2b8-439f-81af-6af180402e66",
        "colab": {
          "base_uri": "https://localhost:8080/",
          "height": 176
        }
      },
      "execution_count": 3,
      "outputs": [
        {
          "output_type": "execute_result",
          "data": {
            "image/svg+xml": "<?xml version=\"1.0\" encoding=\"UTF-8\" standalone=\"no\"?>\n<!DOCTYPE svg PUBLIC \"-//W3C//DTD SVG 1.1//EN\"\n \"http://www.w3.org/Graphics/SVG/1.1/DTD/svg11.dtd\">\n<!-- Generated by graphviz version 2.43.0 (0)\n -->\n<!-- Title: %3 Pages: 1 -->\n<svg width=\"737pt\" height=\"116pt\"\n viewBox=\"0.00 0.00 736.97 116.50\" xmlns=\"http://www.w3.org/2000/svg\" xmlns:xlink=\"http://www.w3.org/1999/xlink\">\n<g id=\"graph0\" class=\"graph\" transform=\"scale(1 1) rotate(0) translate(4 112.5)\">\n<title>%3</title>\n<polygon fill=\"white\" stroke=\"transparent\" points=\"-4,4 -4,-112.5 732.97,-112.5 732.97,4 -4,4\"/>\n<!-- EMPTY -->\n<g id=\"node1\" class=\"node\">\n<title>EMPTY</title>\n</g>\n<!-- St3 -->\n<g id=\"node2\" class=\"node\">\n<title>St3</title>\n<ellipse fill=\"none\" stroke=\"black\" cx=\"113.75\" cy=\"-85.75\" rx=\"23\" ry=\"23\"/>\n<text text-anchor=\"middle\" x=\"113.75\" y=\"-82.05\" font-family=\"Times,serif\" font-size=\"14.00\">St3</text>\n</g>\n<!-- EMPTY&#45;&gt;St3 -->\n<g id=\"edge2\" class=\"edge\">\n<title>EMPTY&#45;&gt;St3</title>\n<path fill=\"none\" stroke=\"black\" d=\"M54.35,-63.7C63.34,-67.09 73.46,-70.91 82.72,-74.41\"/>\n<polygon fill=\"black\" stroke=\"black\" points=\"81.75,-77.78 92.34,-78.04 84.22,-71.23 81.75,-77.78\"/>\n</g>\n<!-- St1 -->\n<g id=\"node4\" class=\"node\">\n<title>St1</title>\n<ellipse fill=\"none\" stroke=\"black\" cx=\"113.75\" cy=\"-22.75\" rx=\"23\" ry=\"23\"/>\n<text text-anchor=\"middle\" x=\"113.75\" y=\"-19.05\" font-family=\"Times,serif\" font-size=\"14.00\">St1</text>\n</g>\n<!-- EMPTY&#45;&gt;St1 -->\n<g id=\"edge1\" class=\"edge\">\n<title>EMPTY&#45;&gt;St1</title>\n<path fill=\"none\" stroke=\"black\" d=\"M54.35,-44.11C63.27,-40.85 73.3,-37.18 82.5,-33.81\"/>\n<polygon fill=\"black\" stroke=\"black\" points=\"83.88,-37.04 92.07,-30.31 81.47,-30.46 83.88,-37.04\"/>\n</g>\n<!-- St4 -->\n<g id=\"node8\" class=\"node\">\n<title>St4</title>\n<ellipse fill=\"none\" stroke=\"black\" cx=\"206.24\" cy=\"-84.75\" rx=\"23\" ry=\"23\"/>\n<text text-anchor=\"middle\" x=\"206.24\" y=\"-81.05\" font-family=\"Times,serif\" font-size=\"14.00\">St4</text>\n</g>\n<!-- St3&#45;&gt;St4 -->\n<g id=\"edge4\" class=\"edge\">\n<title>St3&#45;&gt;St4</title>\n<path fill=\"none\" stroke=\"black\" d=\"M136.65,-85.51C147.58,-85.39 161,-85.24 173.07,-85.1\"/>\n<polygon fill=\"black\" stroke=\"black\" points=\"173.26,-88.6 183.23,-84.99 173.19,-81.6 173.26,-88.6\"/>\n<text text-anchor=\"middle\" x=\"160\" y=\"-88.55\" font-family=\"Times,serif\" font-size=\"14.00\">b </text>\n</g>\n<!-- St2 -->\n<g id=\"node3\" class=\"node\">\n<title>St2</title>\n<ellipse fill=\"none\" stroke=\"black\" cx=\"269.74\" cy=\"-31.75\" rx=\"23\" ry=\"23\"/>\n<text text-anchor=\"middle\" x=\"269.74\" y=\"-28.05\" font-family=\"Times,serif\" font-size=\"14.00\">St2</text>\n</g>\n<!-- St7 -->\n<g id=\"node9\" class=\"node\">\n<title>St7</title>\n<ellipse fill=\"none\" stroke=\"black\" cx=\"515.23\" cy=\"-48.75\" rx=\"23\" ry=\"23\"/>\n<text text-anchor=\"middle\" x=\"515.23\" y=\"-45.05\" font-family=\"Times,serif\" font-size=\"14.00\">St7</text>\n</g>\n<!-- St2&#45;&gt;St7 -->\n<g id=\"edge9\" class=\"edge\">\n<title>St2&#45;&gt;St7</title>\n<path fill=\"none\" stroke=\"black\" d=\"M292.78,-33.29C335.97,-36.3 431.89,-43 482.13,-46.51\"/>\n<polygon fill=\"black\" stroke=\"black\" points=\"482.2,-50.02 492.42,-47.23 482.68,-43.04 482.2,-50.02\"/>\n<text text-anchor=\"middle\" x=\"378.98\" y=\"-43.55\" font-family=\"Times,serif\" font-size=\"14.00\">&#39;&#39; </text>\n</g>\n<!-- St1&#45;&gt;St2 -->\n<g id=\"edge3\" class=\"edge\">\n<title>St1&#45;&gt;St2</title>\n<path fill=\"none\" stroke=\"black\" d=\"M136.48,-24.02C162.59,-25.54 206.61,-28.12 236.63,-29.87\"/>\n<polygon fill=\"black\" stroke=\"black\" points=\"236.43,-33.37 246.62,-30.45 236.84,-26.38 236.43,-33.37\"/>\n<text text-anchor=\"middle\" x=\"160\" y=\"-29.55\" font-family=\"Times,serif\" font-size=\"14.00\">a </text>\n</g>\n<!-- St8 -->\n<g id=\"node5\" class=\"node\">\n<title>St8</title>\n<ellipse fill=\"none\" stroke=\"black\" cx=\"607.72\" cy=\"-48.75\" rx=\"23\" ry=\"23\"/>\n<text text-anchor=\"middle\" x=\"607.72\" y=\"-45.05\" font-family=\"Times,serif\" font-size=\"14.00\">St8</text>\n</g>\n<!-- St9 -->\n<g id=\"node10\" class=\"node\">\n<title>St9</title>\n<ellipse fill=\"none\" stroke=\"black\" cx=\"702.22\" cy=\"-48.75\" rx=\"22.96\" ry=\"22.96\"/>\n<ellipse fill=\"none\" stroke=\"black\" cx=\"702.22\" cy=\"-48.75\" rx=\"27\" ry=\"27\"/>\n<text text-anchor=\"middle\" x=\"702.22\" y=\"-45.05\" font-family=\"Times,serif\" font-size=\"14.00\">St9</text>\n</g>\n<!-- St8&#45;&gt;St9 -->\n<g id=\"edge10\" class=\"edge\">\n<title>St8&#45;&gt;St9</title>\n<path fill=\"none\" stroke=\"black\" d=\"M630.64,-48.75C640.87,-48.75 653.31,-48.75 664.89,-48.75\"/>\n<polygon fill=\"black\" stroke=\"black\" points=\"665.18,-52.25 675.18,-48.75 665.18,-45.25 665.18,-52.25\"/>\n<text text-anchor=\"middle\" x=\"652.97\" y=\"-52.55\" font-family=\"Times,serif\" font-size=\"14.00\">&#39;&#39; </text>\n</g>\n<!-- St6 -->\n<g id=\"node6\" class=\"node\">\n<title>St6</title>\n<ellipse fill=\"none\" stroke=\"black\" cx=\"424.73\" cy=\"-84.75\" rx=\"23\" ry=\"23\"/>\n<text text-anchor=\"middle\" x=\"424.73\" y=\"-81.05\" font-family=\"Times,serif\" font-size=\"14.00\">St6</text>\n</g>\n<!-- St6&#45;&gt;St7 -->\n<g id=\"edge8\" class=\"edge\">\n<title>St6&#45;&gt;St7</title>\n<path fill=\"none\" stroke=\"black\" d=\"M446.26,-76.4C457.54,-71.81 471.74,-66.03 484.24,-60.95\"/>\n<polygon fill=\"black\" stroke=\"black\" points=\"485.87,-64.06 493.81,-57.05 483.23,-57.58 485.87,-64.06\"/>\n<text text-anchor=\"middle\" x=\"469.98\" y=\"-71.55\" font-family=\"Times,serif\" font-size=\"14.00\">&#39;&#39; </text>\n</g>\n<!-- St5 -->\n<g id=\"node7\" class=\"node\">\n<title>St5</title>\n<ellipse fill=\"none\" stroke=\"black\" cx=\"333.24\" cy=\"-84.75\" rx=\"23\" ry=\"23\"/>\n<text text-anchor=\"middle\" x=\"333.24\" y=\"-81.05\" font-family=\"Times,serif\" font-size=\"14.00\">St5</text>\n</g>\n<!-- St5&#45;&gt;St6 -->\n<g id=\"edge5\" class=\"edge\">\n<title>St5&#45;&gt;St6</title>\n<path fill=\"none\" stroke=\"black\" d=\"M356.36,-84.75C366.98,-84.75 379.91,-84.75 391.59,-84.75\"/>\n<polygon fill=\"black\" stroke=\"black\" points=\"391.86,-88.25 401.86,-84.75 391.86,-81.25 391.86,-88.25\"/>\n<text text-anchor=\"middle\" x=\"378.98\" y=\"-88.55\" font-family=\"Times,serif\" font-size=\"14.00\">c </text>\n</g>\n<!-- St4&#45;&gt;St5 -->\n<g id=\"edge6\" class=\"edge\">\n<title>St4&#45;&gt;St5</title>\n<path fill=\"none\" stroke=\"black\" d=\"M229.02,-84.75C248.7,-84.75 277.93,-84.75 300.27,-84.75\"/>\n<polygon fill=\"black\" stroke=\"black\" points=\"300.29,-88.25 310.29,-84.75 300.29,-81.25 300.29,-88.25\"/>\n<text text-anchor=\"middle\" x=\"269.74\" y=\"-88.55\" font-family=\"Times,serif\" font-size=\"14.00\">&#39;&#39; </text>\n</g>\n<!-- St7&#45;&gt;St8 -->\n<g id=\"edge7\" class=\"edge\">\n<title>St7&#45;&gt;St8</title>\n<path fill=\"none\" stroke=\"black\" d=\"M538.13,-48.75C549.06,-48.75 562.48,-48.75 574.55,-48.75\"/>\n<polygon fill=\"black\" stroke=\"black\" points=\"574.71,-52.25 584.71,-48.75 574.71,-45.25 574.71,-52.25\"/>\n<text text-anchor=\"middle\" x=\"561.48\" y=\"-52.55\" font-family=\"Times,serif\" font-size=\"14.00\">d </text>\n</g>\n</g>\n</svg>\n",
            "text/plain": [
              "<graphviz.graphs.Digraph at 0x78f8a424b1f0>"
            ]
          },
          "metadata": {},
          "execution_count": 3
        }
      ]
    },
    {
      "cell_type": "markdown",
      "source": [
        "### So it is clear that my regular-expression parser --- something you'll be studying later --- can parse all these variants of regular expressions."
      ],
      "metadata": {
        "id": "o5lwqJ-PeWHC"
      }
    },
    {
      "cell_type": "markdown",
      "source": [
        "### What you are seeing in the diagrams above are NFA. See that NFA are nothing but compilations of RE into a graphical form that stitches together the individual compilations of \"a\", \"b\", \"c\", \"d\", and \"''\""
      ],
      "metadata": {
        "id": "_ugIhh2wfBQ4"
      }
    },
    {
      "cell_type": "markdown",
      "source": [],
      "metadata": {
        "id": "BCk3v6difD5U"
      }
    },
    {
      "cell_type": "code",
      "source": [
        "dotObj_nfa(re2nfa(\"a\"))"
      ],
      "metadata": {
        "id": "AB8hRG64ehjr",
        "outputId": "68980b8b-8dd1-4972-9c45-38096a531353",
        "colab": {
          "base_uri": "https://localhost:8080/",
          "height": 102
        }
      },
      "execution_count": 4,
      "outputs": [
        {
          "output_type": "execute_result",
          "data": {
            "image/svg+xml": "<?xml version=\"1.0\" encoding=\"UTF-8\" standalone=\"no\"?>\n<!DOCTYPE svg PUBLIC \"-//W3C//DTD SVG 1.1//EN\"\n \"http://www.w3.org/Graphics/SVG/1.1/DTD/svg11.dtd\">\n<!-- Generated by graphviz version 2.43.0 (0)\n -->\n<!-- Title: %3 Pages: 1 -->\n<svg width=\"244pt\" height=\"61pt\"\n viewBox=\"0.00 0.00 243.99 61.50\" xmlns=\"http://www.w3.org/2000/svg\" xmlns:xlink=\"http://www.w3.org/1999/xlink\">\n<g id=\"graph0\" class=\"graph\" transform=\"scale(1 1) rotate(0) translate(4 57.5)\">\n<title>%3</title>\n<polygon fill=\"white\" stroke=\"transparent\" points=\"-4,4 -4,-57.5 239.99,-57.5 239.99,4 -4,4\"/>\n<!-- EMPTY -->\n<g id=\"node1\" class=\"node\">\n<title>EMPTY</title>\n</g>\n<!-- St1 -->\n<g id=\"node2\" class=\"node\">\n<title>St1</title>\n<ellipse fill=\"none\" stroke=\"black\" cx=\"113.75\" cy=\"-26.75\" rx=\"23\" ry=\"23\"/>\n<text text-anchor=\"middle\" x=\"113.75\" y=\"-23.05\" font-family=\"Times,serif\" font-size=\"14.00\">St1</text>\n</g>\n<!-- EMPTY&#45;&gt;St1 -->\n<g id=\"edge1\" class=\"edge\">\n<title>EMPTY&#45;&gt;St1</title>\n<path fill=\"none\" stroke=\"black\" d=\"M54.35,-26.75C62.71,-26.75 72.05,-26.75 80.76,-26.75\"/>\n<polygon fill=\"black\" stroke=\"black\" points=\"80.97,-30.25 90.97,-26.75 80.97,-23.25 80.97,-30.25\"/>\n</g>\n<!-- St2 -->\n<g id=\"node3\" class=\"node\">\n<title>St2</title>\n<ellipse fill=\"none\" stroke=\"black\" cx=\"209.24\" cy=\"-26.75\" rx=\"22.96\" ry=\"22.96\"/>\n<ellipse fill=\"none\" stroke=\"black\" cx=\"209.24\" cy=\"-26.75\" rx=\"27\" ry=\"27\"/>\n<text text-anchor=\"middle\" x=\"209.24\" y=\"-23.05\" font-family=\"Times,serif\" font-size=\"14.00\">St2</text>\n</g>\n<!-- St1&#45;&gt;St2 -->\n<g id=\"edge2\" class=\"edge\">\n<title>St1&#45;&gt;St2</title>\n<path fill=\"none\" stroke=\"black\" d=\"M136.91,-26.75C147.43,-26.75 160.28,-26.75 172.16,-26.75\"/>\n<polygon fill=\"black\" stroke=\"black\" points=\"172.27,-30.25 182.27,-26.75 172.27,-23.25 172.27,-30.25\"/>\n<text text-anchor=\"middle\" x=\"159.5\" y=\"-30.55\" font-family=\"Times,serif\" font-size=\"14.00\">a </text>\n</g>\n</g>\n</svg>\n",
            "text/plain": [
              "<graphviz.graphs.Digraph at 0x78f894fe4f70>"
            ]
          },
          "metadata": {},
          "execution_count": 4
        }
      ]
    },
    {
      "cell_type": "code",
      "source": [
        "dotObj_nfa(re2nfa(\"b\"))"
      ],
      "metadata": {
        "id": "h6RBLr2BfQHz",
        "outputId": "603cde1e-8ecb-45a3-ebc8-0564696e7915",
        "colab": {
          "base_uri": "https://localhost:8080/",
          "height": 102
        }
      },
      "execution_count": 5,
      "outputs": [
        {
          "output_type": "execute_result",
          "data": {
            "image/svg+xml": "<?xml version=\"1.0\" encoding=\"UTF-8\" standalone=\"no\"?>\n<!DOCTYPE svg PUBLIC \"-//W3C//DTD SVG 1.1//EN\"\n \"http://www.w3.org/Graphics/SVG/1.1/DTD/svg11.dtd\">\n<!-- Generated by graphviz version 2.43.0 (0)\n -->\n<!-- Title: %3 Pages: 1 -->\n<svg width=\"245pt\" height=\"61pt\"\n viewBox=\"0.00 0.00 244.99 61.50\" xmlns=\"http://www.w3.org/2000/svg\" xmlns:xlink=\"http://www.w3.org/1999/xlink\">\n<g id=\"graph0\" class=\"graph\" transform=\"scale(1 1) rotate(0) translate(4 57.5)\">\n<title>%3</title>\n<polygon fill=\"white\" stroke=\"transparent\" points=\"-4,4 -4,-57.5 240.99,-57.5 240.99,4 -4,4\"/>\n<!-- EMPTY -->\n<g id=\"node1\" class=\"node\">\n<title>EMPTY</title>\n</g>\n<!-- St1 -->\n<g id=\"node2\" class=\"node\">\n<title>St1</title>\n<ellipse fill=\"none\" stroke=\"black\" cx=\"113.75\" cy=\"-26.75\" rx=\"23\" ry=\"23\"/>\n<text text-anchor=\"middle\" x=\"113.75\" y=\"-23.05\" font-family=\"Times,serif\" font-size=\"14.00\">St1</text>\n</g>\n<!-- EMPTY&#45;&gt;St1 -->\n<g id=\"edge1\" class=\"edge\">\n<title>EMPTY&#45;&gt;St1</title>\n<path fill=\"none\" stroke=\"black\" d=\"M54.35,-26.75C62.71,-26.75 72.05,-26.75 80.76,-26.75\"/>\n<polygon fill=\"black\" stroke=\"black\" points=\"80.97,-30.25 90.97,-26.75 80.97,-23.25 80.97,-30.25\"/>\n</g>\n<!-- St2 -->\n<g id=\"node3\" class=\"node\">\n<title>St2</title>\n<ellipse fill=\"none\" stroke=\"black\" cx=\"210.24\" cy=\"-26.75\" rx=\"22.96\" ry=\"22.96\"/>\n<ellipse fill=\"none\" stroke=\"black\" cx=\"210.24\" cy=\"-26.75\" rx=\"27\" ry=\"27\"/>\n<text text-anchor=\"middle\" x=\"210.24\" y=\"-23.05\" font-family=\"Times,serif\" font-size=\"14.00\">St2</text>\n</g>\n<!-- St1&#45;&gt;St2 -->\n<g id=\"edge2\" class=\"edge\">\n<title>St1&#45;&gt;St2</title>\n<path fill=\"none\" stroke=\"black\" d=\"M136.66,-26.75C147.57,-26.75 161.03,-26.75 173.38,-26.75\"/>\n<polygon fill=\"black\" stroke=\"black\" points=\"173.42,-30.25 183.42,-26.75 173.42,-23.25 173.42,-30.25\"/>\n<text text-anchor=\"middle\" x=\"160\" y=\"-30.55\" font-family=\"Times,serif\" font-size=\"14.00\">b </text>\n</g>\n</g>\n</svg>\n",
            "text/plain": [
              "<graphviz.graphs.Digraph at 0x78f894fe5bd0>"
            ]
          },
          "metadata": {},
          "execution_count": 5
        }
      ]
    },
    {
      "cell_type": "code",
      "source": [
        "dotObj_nfa(re2nfa(\"c\"))"
      ],
      "metadata": {
        "id": "9kr-JJe1fYQP",
        "outputId": "699b2250-7688-49dc-ff51-6bfc104c7972",
        "colab": {
          "base_uri": "https://localhost:8080/",
          "height": 102
        }
      },
      "execution_count": 6,
      "outputs": [
        {
          "output_type": "execute_result",
          "data": {
            "image/svg+xml": "<?xml version=\"1.0\" encoding=\"UTF-8\" standalone=\"no\"?>\n<!DOCTYPE svg PUBLIC \"-//W3C//DTD SVG 1.1//EN\"\n \"http://www.w3.org/Graphics/SVG/1.1/DTD/svg11.dtd\">\n<!-- Generated by graphviz version 2.43.0 (0)\n -->\n<!-- Title: %3 Pages: 1 -->\n<svg width=\"244pt\" height=\"61pt\"\n viewBox=\"0.00 0.00 243.99 61.50\" xmlns=\"http://www.w3.org/2000/svg\" xmlns:xlink=\"http://www.w3.org/1999/xlink\">\n<g id=\"graph0\" class=\"graph\" transform=\"scale(1 1) rotate(0) translate(4 57.5)\">\n<title>%3</title>\n<polygon fill=\"white\" stroke=\"transparent\" points=\"-4,4 -4,-57.5 239.99,-57.5 239.99,4 -4,4\"/>\n<!-- EMPTY -->\n<g id=\"node1\" class=\"node\">\n<title>EMPTY</title>\n</g>\n<!-- St1 -->\n<g id=\"node2\" class=\"node\">\n<title>St1</title>\n<ellipse fill=\"none\" stroke=\"black\" cx=\"113.75\" cy=\"-26.75\" rx=\"23\" ry=\"23\"/>\n<text text-anchor=\"middle\" x=\"113.75\" y=\"-23.05\" font-family=\"Times,serif\" font-size=\"14.00\">St1</text>\n</g>\n<!-- EMPTY&#45;&gt;St1 -->\n<g id=\"edge1\" class=\"edge\">\n<title>EMPTY&#45;&gt;St1</title>\n<path fill=\"none\" stroke=\"black\" d=\"M54.35,-26.75C62.71,-26.75 72.05,-26.75 80.76,-26.75\"/>\n<polygon fill=\"black\" stroke=\"black\" points=\"80.97,-30.25 90.97,-26.75 80.97,-23.25 80.97,-30.25\"/>\n</g>\n<!-- St2 -->\n<g id=\"node3\" class=\"node\">\n<title>St2</title>\n<ellipse fill=\"none\" stroke=\"black\" cx=\"209.24\" cy=\"-26.75\" rx=\"22.96\" ry=\"22.96\"/>\n<ellipse fill=\"none\" stroke=\"black\" cx=\"209.24\" cy=\"-26.75\" rx=\"27\" ry=\"27\"/>\n<text text-anchor=\"middle\" x=\"209.24\" y=\"-23.05\" font-family=\"Times,serif\" font-size=\"14.00\">St2</text>\n</g>\n<!-- St1&#45;&gt;St2 -->\n<g id=\"edge2\" class=\"edge\">\n<title>St1&#45;&gt;St2</title>\n<path fill=\"none\" stroke=\"black\" d=\"M136.91,-26.75C147.43,-26.75 160.28,-26.75 172.16,-26.75\"/>\n<polygon fill=\"black\" stroke=\"black\" points=\"172.27,-30.25 182.27,-26.75 172.27,-23.25 172.27,-30.25\"/>\n<text text-anchor=\"middle\" x=\"159.5\" y=\"-30.55\" font-family=\"Times,serif\" font-size=\"14.00\">c </text>\n</g>\n</g>\n</svg>\n",
            "text/plain": [
              "<graphviz.graphs.Digraph at 0x78f894fe6080>"
            ]
          },
          "metadata": {},
          "execution_count": 6
        }
      ]
    },
    {
      "cell_type": "code",
      "source": [
        "dotObj_nfa(re2nfa(\"bc\"))"
      ],
      "metadata": {
        "id": "g9GJ_DW4fbdC",
        "outputId": "9337209d-6188-4b9d-ade6-9a2259b02832",
        "colab": {
          "base_uri": "https://localhost:8080/",
          "height": 102
        }
      },
      "execution_count": 7,
      "outputs": [
        {
          "output_type": "execute_result",
          "data": {
            "image/svg+xml": "<?xml version=\"1.0\" encoding=\"UTF-8\" standalone=\"no\"?>\n<!DOCTYPE svg PUBLIC \"-//W3C//DTD SVG 1.1//EN\"\n \"http://www.w3.org/Graphics/SVG/1.1/DTD/svg11.dtd\">\n<!-- Generated by graphviz version 2.43.0 (0)\n -->\n<!-- Title: %3 Pages: 1 -->\n<svg width=\"427pt\" height=\"61pt\"\n viewBox=\"0.00 0.00 426.98 61.50\" xmlns=\"http://www.w3.org/2000/svg\" xmlns:xlink=\"http://www.w3.org/1999/xlink\">\n<g id=\"graph0\" class=\"graph\" transform=\"scale(1 1) rotate(0) translate(4 57.5)\">\n<title>%3</title>\n<polygon fill=\"white\" stroke=\"transparent\" points=\"-4,4 -4,-57.5 422.98,-57.5 422.98,4 -4,4\"/>\n<!-- EMPTY -->\n<g id=\"node1\" class=\"node\">\n<title>EMPTY</title>\n</g>\n<!-- St1 -->\n<g id=\"node2\" class=\"node\">\n<title>St1</title>\n<ellipse fill=\"none\" stroke=\"black\" cx=\"113.75\" cy=\"-26.75\" rx=\"23\" ry=\"23\"/>\n<text text-anchor=\"middle\" x=\"113.75\" y=\"-23.05\" font-family=\"Times,serif\" font-size=\"14.00\">St1</text>\n</g>\n<!-- EMPTY&#45;&gt;St1 -->\n<g id=\"edge1\" class=\"edge\">\n<title>EMPTY&#45;&gt;St1</title>\n<path fill=\"none\" stroke=\"black\" d=\"M54.35,-26.75C62.71,-26.75 72.05,-26.75 80.76,-26.75\"/>\n<polygon fill=\"black\" stroke=\"black\" points=\"80.97,-30.25 90.97,-26.75 80.97,-23.25 80.97,-30.25\"/>\n</g>\n<!-- St2 -->\n<g id=\"node4\" class=\"node\">\n<title>St2</title>\n<ellipse fill=\"none\" stroke=\"black\" cx=\"206.24\" cy=\"-26.75\" rx=\"23\" ry=\"23\"/>\n<text text-anchor=\"middle\" x=\"206.24\" y=\"-23.05\" font-family=\"Times,serif\" font-size=\"14.00\">St2</text>\n</g>\n<!-- St1&#45;&gt;St2 -->\n<g id=\"edge2\" class=\"edge\">\n<title>St1&#45;&gt;St2</title>\n<path fill=\"none\" stroke=\"black\" d=\"M136.65,-26.75C147.58,-26.75 161,-26.75 173.07,-26.75\"/>\n<polygon fill=\"black\" stroke=\"black\" points=\"173.23,-30.25 183.23,-26.75 173.23,-23.25 173.23,-30.25\"/>\n<text text-anchor=\"middle\" x=\"160\" y=\"-30.55\" font-family=\"Times,serif\" font-size=\"14.00\">b </text>\n</g>\n<!-- St3 -->\n<g id=\"node3\" class=\"node\">\n<title>St3</title>\n<ellipse fill=\"none\" stroke=\"black\" cx=\"296.74\" cy=\"-26.75\" rx=\"23\" ry=\"23\"/>\n<text text-anchor=\"middle\" x=\"296.74\" y=\"-23.05\" font-family=\"Times,serif\" font-size=\"14.00\">St3</text>\n</g>\n<!-- St4 -->\n<g id=\"node5\" class=\"node\">\n<title>St4</title>\n<ellipse fill=\"none\" stroke=\"black\" cx=\"392.24\" cy=\"-26.75\" rx=\"22.96\" ry=\"22.96\"/>\n<ellipse fill=\"none\" stroke=\"black\" cx=\"392.24\" cy=\"-26.75\" rx=\"27\" ry=\"27\"/>\n<text text-anchor=\"middle\" x=\"392.24\" y=\"-23.05\" font-family=\"Times,serif\" font-size=\"14.00\">St4</text>\n</g>\n<!-- St3&#45;&gt;St4 -->\n<g id=\"edge3\" class=\"edge\">\n<title>St3&#45;&gt;St4</title>\n<path fill=\"none\" stroke=\"black\" d=\"M319.9,-26.75C330.42,-26.75 343.27,-26.75 355.15,-26.75\"/>\n<polygon fill=\"black\" stroke=\"black\" points=\"355.26,-30.25 365.26,-26.75 355.26,-23.25 355.26,-30.25\"/>\n<text text-anchor=\"middle\" x=\"342.49\" y=\"-30.55\" font-family=\"Times,serif\" font-size=\"14.00\">c </text>\n</g>\n<!-- St2&#45;&gt;St3 -->\n<g id=\"edge4\" class=\"edge\">\n<title>St2&#45;&gt;St3</title>\n<path fill=\"none\" stroke=\"black\" d=\"M229.12,-26.75C239.54,-26.75 252.22,-26.75 263.7,-26.75\"/>\n<polygon fill=\"black\" stroke=\"black\" points=\"263.81,-30.25 273.81,-26.75 263.81,-23.25 263.81,-30.25\"/>\n<text text-anchor=\"middle\" x=\"251.49\" y=\"-30.55\" font-family=\"Times,serif\" font-size=\"14.00\">&#39;&#39; </text>\n</g>\n</g>\n</svg>\n",
            "text/plain": [
              "<graphviz.graphs.Digraph at 0x78f8a4fe9a20>"
            ]
          },
          "metadata": {},
          "execution_count": 7
        }
      ]
    },
    {
      "cell_type": "code",
      "source": [],
      "metadata": {
        "id": "NH7k9qsFfd3K"
      },
      "execution_count": 7,
      "outputs": []
    },
    {
      "cell_type": "markdown",
      "source": [],
      "metadata": {
        "id": "DAMB-87ge1-O"
      }
    },
    {
      "cell_type": "markdown",
      "source": [
        "## Question-1"
      ],
      "metadata": {
        "id": "a28Bs4c5fpng"
      }
    },
    {
      "cell_type": "markdown",
      "source": [
        "## Question-2"
      ],
      "metadata": {
        "id": "PPz0885Tbb3O"
      }
    },
    {
      "cell_type": "markdown",
      "source": [
        "-----------------------"
      ],
      "metadata": {
        "id": "DENaFGGpcmt_"
      }
    },
    {
      "cell_type": "markdown",
      "source": [],
      "metadata": {
        "id": "lSQmV3Lmcmt_"
      }
    },
    {
      "cell_type": "markdown",
      "source": [
        "------------------------------"
      ],
      "metadata": {
        "id": "x2w7Rmylcmt_"
      }
    },
    {
      "cell_type": "markdown",
      "source": [
        "## Question-3"
      ],
      "metadata": {
        "id": "4iZ5sNKlcm5v"
      }
    },
    {
      "cell_type": "markdown",
      "source": [
        "-----------------------"
      ],
      "metadata": {
        "id": "a-DxkqSFcm5w"
      }
    },
    {
      "cell_type": "markdown",
      "source": [],
      "metadata": {
        "id": "lHg0UVzxcm5w"
      }
    },
    {
      "cell_type": "markdown",
      "source": [
        "------------------------------"
      ],
      "metadata": {
        "id": "au1F9kHRcm5w"
      }
    },
    {
      "cell_type": "markdown",
      "source": [
        "## Question-4"
      ],
      "metadata": {
        "id": "dWFUjUkfcnHP"
      }
    },
    {
      "cell_type": "markdown",
      "source": [
        "-----------------------"
      ],
      "metadata": {
        "id": "1Djyz9dvcnHP"
      }
    },
    {
      "cell_type": "markdown",
      "source": [],
      "metadata": {
        "id": "1P0QLJeBcnHQ"
      }
    },
    {
      "cell_type": "markdown",
      "source": [
        "-----------------------"
      ],
      "metadata": {
        "id": "92805lXIbE4r"
      }
    },
    {
      "cell_type": "markdown",
      "source": [
        "------------------------------"
      ],
      "metadata": {
        "id": "dNB8QtTQbHds"
      }
    },
    {
      "cell_type": "markdown",
      "source": [
        "## Question-5"
      ],
      "metadata": {
        "id": "gR0rrGmdcOvq"
      }
    },
    {
      "cell_type": "markdown",
      "source": [
        "-----------------------"
      ],
      "metadata": {
        "id": "y5YpIaNvcOv1"
      }
    },
    {
      "cell_type": "markdown",
      "source": [],
      "metadata": {
        "id": "m3ci3NK-cOv1"
      }
    },
    {
      "cell_type": "markdown",
      "source": [
        "------------------------------"
      ],
      "metadata": {
        "id": "WSFTS6G7cOv1"
      }
    },
    {
      "cell_type": "markdown",
      "source": [
        "## Question-6"
      ],
      "metadata": {
        "id": "sZSALAcKcO71"
      }
    },
    {
      "cell_type": "markdown",
      "source": [
        "-----------------------"
      ],
      "metadata": {
        "id": "W-PmAzgmcO72"
      }
    },
    {
      "cell_type": "markdown",
      "source": [],
      "metadata": {
        "id": "LCaScFzucO72"
      }
    },
    {
      "cell_type": "markdown",
      "source": [
        "------------------------------"
      ],
      "metadata": {
        "id": "Ut_D5up6cO72"
      }
    },
    {
      "cell_type": "markdown",
      "source": [
        "## Question-7"
      ],
      "metadata": {
        "id": "wjfoFlLacPD1"
      }
    },
    {
      "cell_type": "markdown",
      "source": [
        "-----------------------"
      ],
      "metadata": {
        "id": "AcgpTMVLcPD2"
      }
    },
    {
      "cell_type": "markdown",
      "source": [],
      "metadata": {
        "id": "w7pd9524cPD2"
      }
    },
    {
      "cell_type": "markdown",
      "source": [
        "------------------------------"
      ],
      "metadata": {
        "id": "71UlvWhZcPD2"
      }
    },
    {
      "cell_type": "markdown",
      "source": [
        "## Question-8"
      ],
      "metadata": {
        "id": "UmS5QLPecPLx"
      }
    },
    {
      "cell_type": "markdown",
      "source": [
        "-----------------------"
      ],
      "metadata": {
        "id": "E1cVZQL9cPLy"
      }
    },
    {
      "cell_type": "markdown",
      "source": [],
      "metadata": {
        "id": "1IKCZQZvcPLy"
      }
    },
    {
      "cell_type": "markdown",
      "source": [
        "------------------------------"
      ],
      "metadata": {
        "id": "wAIIk_DBcPLy"
      }
    },
    {
      "cell_type": "markdown",
      "source": [
        "## Question-9"
      ],
      "metadata": {
        "id": "Q0BQWCNGcP56"
      }
    },
    {
      "cell_type": "markdown",
      "source": [
        "-----------------------"
      ],
      "metadata": {
        "id": "wJxLWe__cP6S"
      }
    },
    {
      "cell_type": "markdown",
      "source": [],
      "metadata": {
        "id": "0ZC-Lwq2cP6T"
      }
    },
    {
      "cell_type": "markdown",
      "source": [
        "------------------------------"
      ],
      "metadata": {
        "id": "t6RC8AkTcP6T"
      }
    },
    {
      "cell_type": "markdown",
      "source": [
        "## Question-10"
      ],
      "metadata": {
        "id": "BROVL0ZvcQb7"
      }
    },
    {
      "cell_type": "markdown",
      "source": [
        "-----------------------"
      ],
      "metadata": {
        "id": "f_VfFdIJcQb7"
      }
    },
    {
      "cell_type": "markdown",
      "source": [],
      "metadata": {
        "id": "29QA7JbEcQb7"
      }
    },
    {
      "cell_type": "markdown",
      "source": [
        "------------------------------"
      ],
      "metadata": {
        "id": "d_8sksgUcQb7"
      }
    },
    {
      "cell_type": "markdown",
      "source": [
        "# This notebook was assigned for MT1 practice in 2022. You can see that below this text box and keep that in mind as a learning goal. But above this text box, I have set material for Quiz-5 that gradually builds toward this goal."
      ],
      "metadata": {
        "id": "5Xhm2yl6auD7"
      }
    },
    {
      "cell_type": "code",
      "source": [],
      "metadata": {
        "id": "Vyvcj6p_atJ1"
      },
      "execution_count": 7,
      "outputs": []
    },
    {
      "cell_type": "code",
      "execution_count": 8,
      "metadata": {
        "id": "LevUiceMaGbq"
      },
      "outputs": [],
      "source": [
        "def diff_RE(R1,R2):\n",
        "    '''\n",
        "    Given R1 and R2, here is the the code to return (D1,D2)\n",
        "    where D1 is the min DFA of Lang(R1)-Lang(R2)\n",
        "    and D2 is the min DFA of Lang(R2)-Lang(R1)\n",
        "    '''\n",
        "    MD1=min_dfa_brz(nfa2dfa(re2nfa(R1)))\n",
        "    MD2=min_dfa_brz(nfa2dfa(re2nfa(R2)))\n",
        "\n",
        "    cMD1 = comp_dfa(MD1)\n",
        "    cMD2 = comp_dfa(MD2)\n",
        "\n",
        "    D1minus2 = min_dfa_brz(intersect_dfa(MD1, cMD2))\n",
        "    D2minus1 = min_dfa_brz(intersect_dfa(MD2, cMD1))\n",
        "\n",
        "    return (D1minus2, D2minus1)\n"
      ]
    },
    {
      "cell_type": "code",
      "execution_count": 9,
      "metadata": {
        "id": "4igigBFdaGbr",
        "outputId": "2bc0e389-d3b3-4efb-945c-a97a309560ca",
        "colab": {
          "base_uri": "https://localhost:8080/",
          "height": 202
        }
      },
      "outputs": [
        {
          "output_type": "execute_result",
          "data": {
            "image/svg+xml": "<?xml version=\"1.0\" encoding=\"UTF-8\" standalone=\"no\"?>\n<!DOCTYPE svg PUBLIC \"-//W3C//DTD SVG 1.1//EN\"\n \"http://www.w3.org/Graphics/SVG/1.1/DTD/svg11.dtd\">\n<!-- Generated by graphviz version 2.43.0 (0)\n -->\n<!-- Title: %3 Pages: 1 -->\n<svg width=\"438pt\" height=\"136pt\"\n viewBox=\"0.00 0.00 437.98 136.50\" xmlns=\"http://www.w3.org/2000/svg\" xmlns:xlink=\"http://www.w3.org/1999/xlink\">\n<g id=\"graph0\" class=\"graph\" transform=\"scale(1 1) rotate(0) translate(4 132.5)\">\n<title>%3</title>\n<polygon fill=\"white\" stroke=\"transparent\" points=\"-4,4 -4,-132.5 433.98,-132.5 433.98,4 -4,4\"/>\n<!-- EMPTY -->\n<g id=\"node1\" class=\"node\">\n<title>EMPTY</title>\n</g>\n<!-- St2 -->\n<g id=\"node5\" class=\"node\">\n<title>St2</title>\n<ellipse fill=\"none\" stroke=\"black\" cx=\"117.75\" cy=\"-68.75\" rx=\"22.96\" ry=\"22.96\"/>\n<ellipse fill=\"none\" stroke=\"black\" cx=\"117.75\" cy=\"-68.75\" rx=\"27\" ry=\"27\"/>\n<text text-anchor=\"middle\" x=\"117.75\" y=\"-65.05\" font-family=\"Times,serif\" font-size=\"14.00\">St2</text>\n</g>\n<!-- EMPTY&#45;&gt;St2 -->\n<g id=\"edge1\" class=\"edge\">\n<title>EMPTY&#45;&gt;St2</title>\n<path fill=\"none\" stroke=\"black\" d=\"M54.15,-68.75C62.45,-68.75 71.79,-68.75 80.67,-68.75\"/>\n<polygon fill=\"black\" stroke=\"black\" points=\"80.79,-72.25 90.79,-68.75 80.79,-65.25 80.79,-72.25\"/>\n</g>\n<!-- St4 -->\n<g id=\"node2\" class=\"node\">\n<title>St4</title>\n<ellipse fill=\"none\" stroke=\"black\" cx=\"306.74\" cy=\"-68.75\" rx=\"23\" ry=\"23\"/>\n<text text-anchor=\"middle\" x=\"306.74\" y=\"-65.05\" font-family=\"Times,serif\" font-size=\"14.00\">St4</text>\n</g>\n<!-- St4&#45;&gt;St4 -->\n<g id=\"edge5\" class=\"edge\">\n<title>St4&#45;&gt;St4</title>\n<path fill=\"none\" stroke=\"black\" d=\"M298.33,-90.13C297.29,-100.42 300.09,-109.5 306.74,-109.5 311,-109.5 313.68,-105.77 314.79,-100.39\"/>\n<polygon fill=\"black\" stroke=\"black\" points=\"318.29,-100.25 315.15,-90.13 311.3,-100 318.29,-100.25\"/>\n<text text-anchor=\"middle\" x=\"306.74\" y=\"-113.3\" font-family=\"Times,serif\" font-size=\"14.00\">1 </text>\n</g>\n<!-- St1 -->\n<g id=\"node4\" class=\"node\">\n<title>St1</title>\n<ellipse fill=\"none\" stroke=\"black\" cx=\"403.24\" cy=\"-68.75\" rx=\"22.96\" ry=\"22.96\"/>\n<ellipse fill=\"none\" stroke=\"black\" cx=\"403.24\" cy=\"-68.75\" rx=\"27\" ry=\"27\"/>\n<text text-anchor=\"middle\" x=\"403.24\" y=\"-65.05\" font-family=\"Times,serif\" font-size=\"14.00\">St1</text>\n</g>\n<!-- St4&#45;&gt;St1 -->\n<g id=\"edge4\" class=\"edge\">\n<title>St4&#45;&gt;St1</title>\n<path fill=\"none\" stroke=\"black\" d=\"M329.66,-68.75C340.56,-68.75 354.02,-68.75 366.38,-68.75\"/>\n<polygon fill=\"black\" stroke=\"black\" points=\"366.41,-72.25 376.41,-68.75 366.41,-65.25 366.41,-72.25\"/>\n<text text-anchor=\"middle\" x=\"352.99\" y=\"-72.55\" font-family=\"Times,serif\" font-size=\"14.00\">0 </text>\n</g>\n<!-- St3 -->\n<g id=\"node3\" class=\"node\">\n<title>St3</title>\n<ellipse fill=\"none\" stroke=\"black\" cx=\"214.24\" cy=\"-22.75\" rx=\"23\" ry=\"23\"/>\n<text text-anchor=\"middle\" x=\"214.24\" y=\"-19.05\" font-family=\"Times,serif\" font-size=\"14.00\">St3</text>\n</g>\n<!-- St3&#45;&gt;St4 -->\n<g id=\"edge6\" class=\"edge\">\n<title>St3&#45;&gt;St4</title>\n<path fill=\"none\" stroke=\"black\" d=\"M234.88,-32.73C247.21,-39 263.33,-47.19 277.08,-54.18\"/>\n<polygon fill=\"black\" stroke=\"black\" points=\"275.64,-57.37 286.14,-58.79 278.81,-51.13 275.64,-57.37\"/>\n<text text-anchor=\"middle\" x=\"260.49\" y=\"-52.55\" font-family=\"Times,serif\" font-size=\"14.00\">0 </text>\n</g>\n<!-- St3&#45;&gt;St3 -->\n<g id=\"edge7\" class=\"edge\">\n<title>St3&#45;&gt;St3</title>\n<path fill=\"none\" stroke=\"black\" d=\"M205.83,-44.13C204.79,-54.42 207.6,-63.5 214.24,-63.5 218.5,-63.5 221.18,-59.77 222.29,-54.39\"/>\n<polygon fill=\"black\" stroke=\"black\" points=\"225.8,-54.25 222.66,-44.13 218.8,-54 225.8,-54.25\"/>\n<text text-anchor=\"middle\" x=\"214.24\" y=\"-67.3\" font-family=\"Times,serif\" font-size=\"14.00\">1 </text>\n</g>\n<!-- St1&#45;&gt;St4 -->\n<g id=\"edge8\" class=\"edge\">\n<title>St1&#45;&gt;St4</title>\n<path fill=\"none\" stroke=\"black\" d=\"M380.19,-55.11C370.33,-50.58 358.48,-47.26 347.49,-49.75 343.76,-50.59 339.98,-51.83 336.3,-53.28\"/>\n<polygon fill=\"black\" stroke=\"black\" points=\"334.63,-50.19 326.92,-57.46 337.48,-56.58 334.63,-50.19\"/>\n<text text-anchor=\"middle\" x=\"352.99\" y=\"-53.55\" font-family=\"Times,serif\" font-size=\"14.00\">0 </text>\n</g>\n<!-- St1&#45;&gt;St1 -->\n<g id=\"edge9\" class=\"edge\">\n<title>St1&#45;&gt;St1</title>\n<path fill=\"none\" stroke=\"black\" d=\"M393.94,-94.05C393.3,-104.57 396.4,-113.5 403.24,-113.5 407.72,-113.5 410.6,-109.65 411.86,-104.04\"/>\n<polygon fill=\"black\" stroke=\"black\" points=\"415.36,-104.26 412.53,-94.05 408.37,-103.79 415.36,-104.26\"/>\n<text text-anchor=\"middle\" x=\"403.24\" y=\"-117.3\" font-family=\"Times,serif\" font-size=\"14.00\">1 </text>\n</g>\n<!-- St2&#45;&gt;St4 -->\n<g id=\"edge2\" class=\"edge\">\n<title>St2&#45;&gt;St4</title>\n<path fill=\"none\" stroke=\"black\" d=\"M143.35,-76.85C157.3,-81.02 175.18,-85.65 191.5,-87.75 211.55,-90.32 216.95,-90.47 236.99,-87.75 249.71,-86.02 263.4,-82.58 275.19,-79.09\"/>\n<polygon fill=\"black\" stroke=\"black\" points=\"276.47,-82.36 284.98,-76.06 274.4,-75.67 276.47,-82.36\"/>\n<text text-anchor=\"middle\" x=\"214.24\" y=\"-92.55\" font-family=\"Times,serif\" font-size=\"14.00\">0 </text>\n</g>\n<!-- St2&#45;&gt;St3 -->\n<g id=\"edge3\" class=\"edge\">\n<title>St2&#45;&gt;St3</title>\n<path fill=\"none\" stroke=\"black\" d=\"M142.11,-57.38C154.77,-51.21 170.55,-43.53 184.02,-36.97\"/>\n<polygon fill=\"black\" stroke=\"black\" points=\"185.89,-39.96 193.35,-32.43 182.82,-33.66 185.89,-39.96\"/>\n<text text-anchor=\"middle\" x=\"168\" y=\"-51.55\" font-family=\"Times,serif\" font-size=\"14.00\">1 </text>\n</g>\n</g>\n</svg>\n",
            "text/plain": [
              "<graphviz.graphs.Digraph at 0x78f894fe78b0>"
            ]
          },
          "metadata": {},
          "execution_count": 9
        }
      ],
      "source": [
        "# Sigma = {0,1}; \"2n zeros for n >= 0\"\n",
        "\n",
        "RE2 = \"(1* 0 1* 0 1*)*\"\n",
        "m2 = min_dfa(nfa2dfa(re2nfa(RE2)))\n",
        "dotObj_dfa(m2)"
      ]
    },
    {
      "cell_type": "code",
      "execution_count": 10,
      "metadata": {
        "id": "2384OJ5kaGbr",
        "outputId": "9a94d41c-ef85-4eb8-f6d6-03d3c54fc8c4",
        "colab": {
          "base_uri": "https://localhost:8080/",
          "height": 35
        }
      },
      "outputs": [
        {
          "output_type": "execute_result",
          "data": {
            "text/plain": [
              "'m2.pdf'"
            ],
            "application/vnd.google.colaboratory.intrinsic+json": {
              "type": "string"
            }
          },
          "metadata": {},
          "execution_count": 10
        }
      ],
      "source": [
        "dotObj_dfa(m2).render('m2')"
      ]
    },
    {
      "cell_type": "code",
      "execution_count": 11,
      "metadata": {
        "id": "uuXocgCraGbr",
        "outputId": "1b7b8869-6db3-49aa-edef-28bb42fc2e6e",
        "colab": {
          "base_uri": "https://localhost:8080/",
          "height": 194
        }
      },
      "outputs": [
        {
          "output_type": "execute_result",
          "data": {
            "image/svg+xml": "<?xml version=\"1.0\" encoding=\"UTF-8\" standalone=\"no\"?>\n<!DOCTYPE svg PUBLIC \"-//W3C//DTD SVG 1.1//EN\"\n \"http://www.w3.org/Graphics/SVG/1.1/DTD/svg11.dtd\">\n<!-- Generated by graphviz version 2.43.0 (0)\n -->\n<!-- Title: %3 Pages: 1 -->\n<svg width=\"530pt\" height=\"130pt\"\n viewBox=\"0.00 0.00 530.48 130.50\" xmlns=\"http://www.w3.org/2000/svg\" xmlns:xlink=\"http://www.w3.org/1999/xlink\">\n<g id=\"graph0\" class=\"graph\" transform=\"scale(1 1) rotate(0) translate(4 126.5)\">\n<title>%3</title>\n<polygon fill=\"white\" stroke=\"transparent\" points=\"-4,4 -4,-126.5 526.48,-126.5 526.48,4 -4,4\"/>\n<!-- EMPTY -->\n<g id=\"node1\" class=\"node\">\n<title>EMPTY</title>\n</g>\n<!-- St2 -->\n<g id=\"node6\" class=\"node\">\n<title>St2</title>\n<ellipse fill=\"none\" stroke=\"black\" cx=\"117.75\" cy=\"-26.75\" rx=\"22.96\" ry=\"22.96\"/>\n<ellipse fill=\"none\" stroke=\"black\" cx=\"117.75\" cy=\"-26.75\" rx=\"27\" ry=\"27\"/>\n<text text-anchor=\"middle\" x=\"117.75\" y=\"-23.05\" font-family=\"Times,serif\" font-size=\"14.00\">St2</text>\n</g>\n<!-- EMPTY&#45;&gt;St2 -->\n<g id=\"edge1\" class=\"edge\">\n<title>EMPTY&#45;&gt;St2</title>\n<path fill=\"none\" stroke=\"black\" d=\"M54.15,-26.75C62.45,-26.75 71.79,-26.75 80.67,-26.75\"/>\n<polygon fill=\"black\" stroke=\"black\" points=\"80.79,-30.25 90.79,-26.75 80.79,-23.25 80.79,-30.25\"/>\n</g>\n<!-- St4 -->\n<g id=\"node2\" class=\"node\">\n<title>St4</title>\n<ellipse fill=\"none\" stroke=\"black\" cx=\"399.24\" cy=\"-66.75\" rx=\"23\" ry=\"23\"/>\n<text text-anchor=\"middle\" x=\"399.24\" y=\"-63.05\" font-family=\"Times,serif\" font-size=\"14.00\">St4</text>\n</g>\n<!-- St4&#45;&gt;St4 -->\n<g id=\"edge9\" class=\"edge\">\n<title>St4&#45;&gt;St4</title>\n<path fill=\"none\" stroke=\"black\" d=\"M390.82,-88.13C389.78,-98.42 392.59,-107.5 399.24,-107.5 403.5,-107.5 406.18,-103.77 407.28,-98.39\"/>\n<polygon fill=\"black\" stroke=\"black\" points=\"410.79,-98.25 407.65,-88.13 403.79,-98 410.79,-98.25\"/>\n<text text-anchor=\"middle\" x=\"399.24\" y=\"-111.3\" font-family=\"Times,serif\" font-size=\"14.00\">1 </text>\n</g>\n<!-- St1 -->\n<g id=\"node5\" class=\"node\">\n<title>St1</title>\n<ellipse fill=\"none\" stroke=\"black\" cx=\"495.73\" cy=\"-26.75\" rx=\"22.96\" ry=\"22.96\"/>\n<ellipse fill=\"none\" stroke=\"black\" cx=\"495.73\" cy=\"-26.75\" rx=\"27\" ry=\"27\"/>\n<text text-anchor=\"middle\" x=\"495.73\" y=\"-23.05\" font-family=\"Times,serif\" font-size=\"14.00\">St1</text>\n</g>\n<!-- St4&#45;&gt;St1 -->\n<g id=\"edge8\" class=\"edge\">\n<title>St4&#45;&gt;St1</title>\n<path fill=\"none\" stroke=\"black\" d=\"M420.74,-58.07C432.62,-53.04 447.87,-46.59 461.43,-40.85\"/>\n<polygon fill=\"black\" stroke=\"black\" points=\"463.09,-43.94 470.93,-36.82 460.36,-37.5 463.09,-43.94\"/>\n<text text-anchor=\"middle\" x=\"445.48\" y=\"-52.55\" font-family=\"Times,serif\" font-size=\"14.00\">0 </text>\n</g>\n<!-- St3 -->\n<g id=\"node3\" class=\"node\">\n<title>St3</title>\n<ellipse fill=\"none\" stroke=\"black\" cx=\"214.24\" cy=\"-66.75\" rx=\"23\" ry=\"23\"/>\n<text text-anchor=\"middle\" x=\"214.24\" y=\"-63.05\" font-family=\"Times,serif\" font-size=\"14.00\">St3</text>\n</g>\n<!-- St3&#45;&gt;St3 -->\n<g id=\"edge7\" class=\"edge\">\n<title>St3&#45;&gt;St3</title>\n<path fill=\"none\" stroke=\"black\" d=\"M205.83,-88.13C204.79,-98.42 207.6,-107.5 214.24,-107.5 218.5,-107.5 221.18,-103.77 222.29,-98.39\"/>\n<polygon fill=\"black\" stroke=\"black\" points=\"225.8,-98.25 222.66,-88.13 218.8,-98 225.8,-98.25\"/>\n<text text-anchor=\"middle\" x=\"214.24\" y=\"-111.3\" font-family=\"Times,serif\" font-size=\"14.00\">1 </text>\n</g>\n<!-- St7 -->\n<g id=\"node4\" class=\"node\">\n<title>St7</title>\n<ellipse fill=\"none\" stroke=\"black\" cx=\"306.74\" cy=\"-26.75\" rx=\"23\" ry=\"23\"/>\n<text text-anchor=\"middle\" x=\"306.74\" y=\"-23.05\" font-family=\"Times,serif\" font-size=\"14.00\">St7</text>\n</g>\n<!-- St3&#45;&gt;St7 -->\n<g id=\"edge6\" class=\"edge\">\n<title>St3&#45;&gt;St7</title>\n<path fill=\"none\" stroke=\"black\" d=\"M235.33,-57.87C247.4,-52.54 262.96,-45.65 276.39,-39.72\"/>\n<polygon fill=\"black\" stroke=\"black\" points=\"277.98,-42.84 285.71,-35.6 275.15,-36.44 277.98,-42.84\"/>\n<text text-anchor=\"middle\" x=\"260.49\" y=\"-52.55\" font-family=\"Times,serif\" font-size=\"14.00\">0 </text>\n</g>\n<!-- St7&#45;&gt;St4 -->\n<g id=\"edge4\" class=\"edge\">\n<title>St7&#45;&gt;St4</title>\n<path fill=\"none\" stroke=\"black\" d=\"M327.82,-35.63C339.89,-40.96 355.46,-47.84 368.89,-53.78\"/>\n<polygon fill=\"black\" stroke=\"black\" points=\"367.65,-57.05 378.21,-57.9 370.48,-50.65 367.65,-57.05\"/>\n<text text-anchor=\"middle\" x=\"352.99\" y=\"-52.55\" font-family=\"Times,serif\" font-size=\"14.00\">0 </text>\n</g>\n<!-- St7&#45;&gt;St7 -->\n<g id=\"edge5\" class=\"edge\">\n<title>St7&#45;&gt;St7</title>\n<path fill=\"none\" stroke=\"black\" d=\"M298.33,-48.13C297.29,-58.42 300.09,-67.5 306.74,-67.5 311,-67.5 313.68,-63.77 314.79,-58.39\"/>\n<polygon fill=\"black\" stroke=\"black\" points=\"318.29,-58.25 315.15,-48.13 311.3,-58 318.29,-58.25\"/>\n<text text-anchor=\"middle\" x=\"306.74\" y=\"-71.3\" font-family=\"Times,serif\" font-size=\"14.00\">1 </text>\n</g>\n<!-- St1&#45;&gt;St7 -->\n<g id=\"edge10\" class=\"edge\">\n<title>St1&#45;&gt;St7</title>\n<path fill=\"none\" stroke=\"black\" d=\"M468.85,-23.65C454.98,-22.14 437.57,-20.5 421.98,-19.75 401.79,-18.78 396.68,-18.72 376.49,-19.75 364.38,-20.36 351.12,-21.58 339.5,-22.84\"/>\n<polygon fill=\"black\" stroke=\"black\" points=\"338.92,-19.38 329.37,-23.98 339.7,-26.33 338.92,-19.38\"/>\n<text text-anchor=\"middle\" x=\"399.24\" y=\"-23.55\" font-family=\"Times,serif\" font-size=\"14.00\">0 </text>\n</g>\n<!-- St1&#45;&gt;St1 -->\n<g id=\"edge11\" class=\"edge\">\n<title>St1&#45;&gt;St1</title>\n<path fill=\"none\" stroke=\"black\" d=\"M486.44,-52.05C485.8,-62.57 488.9,-71.5 495.73,-71.5 500.22,-71.5 503.09,-67.65 504.36,-62.04\"/>\n<polygon fill=\"black\" stroke=\"black\" points=\"507.85,-62.26 505.02,-52.05 500.87,-61.79 507.85,-62.26\"/>\n<text text-anchor=\"middle\" x=\"495.73\" y=\"-75.3\" font-family=\"Times,serif\" font-size=\"14.00\">1 </text>\n</g>\n<!-- St2&#45;&gt;St3 -->\n<g id=\"edge3\" class=\"edge\">\n<title>St2&#45;&gt;St3</title>\n<path fill=\"none\" stroke=\"black\" d=\"M142.59,-36.84C154.97,-42.08 170.21,-48.53 183.36,-54.1\"/>\n<polygon fill=\"black\" stroke=\"black\" points=\"182.36,-57.47 192.93,-58.15 185.08,-51.03 182.36,-57.47\"/>\n<text text-anchor=\"middle\" x=\"168\" y=\"-52.55\" font-family=\"Times,serif\" font-size=\"14.00\">1 </text>\n</g>\n<!-- St2&#45;&gt;St7 -->\n<g id=\"edge2\" class=\"edge\">\n<title>St2&#45;&gt;St7</title>\n<path fill=\"none\" stroke=\"black\" d=\"M144.63,-23.65C158.5,-22.14 175.91,-20.5 191.5,-19.75 211.69,-18.78 216.8,-18.72 236.99,-19.75 249.1,-20.36 262.36,-21.58 273.98,-22.84\"/>\n<polygon fill=\"black\" stroke=\"black\" points=\"273.78,-26.33 284.11,-23.98 274.56,-19.38 273.78,-26.33\"/>\n<text text-anchor=\"middle\" x=\"214.24\" y=\"-23.55\" font-family=\"Times,serif\" font-size=\"14.00\">0 </text>\n</g>\n</g>\n</svg>\n",
            "text/plain": [
              "<graphviz.graphs.Digraph at 0x78f8a424aa70>"
            ]
          },
          "metadata": {},
          "execution_count": 11
        }
      ],
      "source": [
        "# 3n 0's, n >= 0\n",
        "\n",
        "RE3 = \"(1* 0 1* 0 1* 0 1*)*\"\n",
        "m3 = min_dfa(nfa2dfa(re2nfa(RE3)))\n",
        "dotObj_dfa(m3)"
      ]
    },
    {
      "cell_type": "code",
      "execution_count": 12,
      "metadata": {
        "id": "F8dtAPUPaGbs",
        "outputId": "160e444e-d7db-4d1e-e8b5-b48ee79b68b6",
        "colab": {
          "base_uri": "https://localhost:8080/",
          "height": 35
        }
      },
      "outputs": [
        {
          "output_type": "execute_result",
          "data": {
            "text/plain": [
              "'m3.pdf'"
            ],
            "application/vnd.google.colaboratory.intrinsic+json": {
              "type": "string"
            }
          },
          "metadata": {},
          "execution_count": 12
        }
      ],
      "source": [
        "dotObj_dfa(m3).render('m3')"
      ]
    },
    {
      "cell_type": "code",
      "execution_count": 13,
      "metadata": {
        "scrolled": true,
        "id": "TtBQMDqDaGbs",
        "outputId": "91d87599-541d-4b0e-b5b9-a64e164aa135",
        "colab": {
          "base_uri": "https://localhost:8080/",
          "height": 297
        }
      },
      "outputs": [
        {
          "output_type": "execute_result",
          "data": {
            "image/svg+xml": "<?xml version=\"1.0\" encoding=\"UTF-8\" standalone=\"no\"?>\n<!DOCTYPE svg PUBLIC \"-//W3C//DTD SVG 1.1//EN\"\n \"http://www.w3.org/Graphics/SVG/1.1/DTD/svg11.dtd\">\n<!-- Generated by graphviz version 2.43.0 (0)\n -->\n<!-- Title: %3 Pages: 1 -->\n<svg width=\"631pt\" height=\"207pt\"\n viewBox=\"0.00 0.00 630.98 206.75\" xmlns=\"http://www.w3.org/2000/svg\" xmlns:xlink=\"http://www.w3.org/1999/xlink\">\n<g id=\"graph0\" class=\"graph\" transform=\"scale(1 1) rotate(0) translate(4 202.75)\">\n<title>%3</title>\n<polygon fill=\"white\" stroke=\"transparent\" points=\"-4,4 -4,-202.75 626.98,-202.75 626.98,4 -4,4\"/>\n<!-- EMPTY -->\n<g id=\"node1\" class=\"node\">\n<title>EMPTY</title>\n</g>\n<!-- St2 -->\n<g id=\"node7\" class=\"node\">\n<title>St2</title>\n<ellipse fill=\"none\" stroke=\"black\" cx=\"117.75\" cy=\"-84.75\" rx=\"22.96\" ry=\"22.96\"/>\n<ellipse fill=\"none\" stroke=\"black\" cx=\"117.75\" cy=\"-84.75\" rx=\"27\" ry=\"27\"/>\n<text text-anchor=\"middle\" x=\"117.75\" y=\"-81.05\" font-family=\"Times,serif\" font-size=\"14.00\">St2</text>\n</g>\n<!-- EMPTY&#45;&gt;St2 -->\n<g id=\"edge1\" class=\"edge\">\n<title>EMPTY&#45;&gt;St2</title>\n<path fill=\"none\" stroke=\"black\" d=\"M54.15,-84.75C62.45,-84.75 71.79,-84.75 80.67,-84.75\"/>\n<polygon fill=\"black\" stroke=\"black\" points=\"80.79,-88.25 90.79,-84.75 80.79,-81.25 80.79,-88.25\"/>\n</g>\n<!-- St4 -->\n<g id=\"node2\" class=\"node\">\n<title>St4</title>\n<ellipse fill=\"none\" stroke=\"black\" cx=\"306.74\" cy=\"-84.75\" rx=\"23\" ry=\"23\"/>\n<text text-anchor=\"middle\" x=\"306.74\" y=\"-81.05\" font-family=\"Times,serif\" font-size=\"14.00\">St4</text>\n</g>\n<!-- St5 -->\n<g id=\"node4\" class=\"node\">\n<title>St5</title>\n<ellipse fill=\"none\" stroke=\"black\" cx=\"399.24\" cy=\"-112.75\" rx=\"23\" ry=\"23\"/>\n<text text-anchor=\"middle\" x=\"399.24\" y=\"-109.05\" font-family=\"Times,serif\" font-size=\"14.00\">St5</text>\n</g>\n<!-- St4&#45;&gt;St5 -->\n<g id=\"edge5\" class=\"edge\">\n<title>St4&#45;&gt;St5</title>\n<path fill=\"none\" stroke=\"black\" d=\"M328.73,-91.24C340.26,-94.81 354.79,-99.3 367.57,-103.26\"/>\n<polygon fill=\"black\" stroke=\"black\" points=\"366.77,-106.68 377.36,-106.29 368.84,-99.99 366.77,-106.68\"/>\n<text text-anchor=\"middle\" x=\"352.99\" y=\"-104.55\" font-family=\"Times,serif\" font-size=\"14.00\">1 </text>\n</g>\n<!-- St0 -->\n<g id=\"node6\" class=\"node\">\n<title>St0</title>\n<ellipse fill=\"none\" stroke=\"black\" cx=\"495.73\" cy=\"-88.75\" rx=\"22.96\" ry=\"22.96\"/>\n<ellipse fill=\"none\" stroke=\"black\" cx=\"495.73\" cy=\"-88.75\" rx=\"27\" ry=\"27\"/>\n<text text-anchor=\"middle\" x=\"495.73\" y=\"-85.05\" font-family=\"Times,serif\" font-size=\"14.00\">St0</text>\n</g>\n<!-- St4&#45;&gt;St0 -->\n<g id=\"edge4\" class=\"edge\">\n<title>St4&#45;&gt;St0</title>\n<path fill=\"none\" stroke=\"black\" d=\"M328.5,-77.44C341.98,-73.08 360.05,-67.98 376.49,-65.75 396.52,-63.03 402,-62.66 421.98,-65.75 434.97,-67.75 448.82,-71.66 460.91,-75.69\"/>\n<polygon fill=\"black\" stroke=\"black\" points=\"460,-79.08 470.6,-79.07 462.31,-72.47 460,-79.08\"/>\n<text text-anchor=\"middle\" x=\"399.24\" y=\"-69.55\" font-family=\"Times,serif\" font-size=\"14.00\">0 </text>\n</g>\n<!-- St3 -->\n<g id=\"node3\" class=\"node\">\n<title>St3</title>\n<ellipse fill=\"none\" stroke=\"black\" cx=\"214.24\" cy=\"-38.75\" rx=\"23\" ry=\"23\"/>\n<text text-anchor=\"middle\" x=\"214.24\" y=\"-35.05\" font-family=\"Times,serif\" font-size=\"14.00\">St3</text>\n</g>\n<!-- St3&#45;&gt;St4 -->\n<g id=\"edge6\" class=\"edge\">\n<title>St3&#45;&gt;St4</title>\n<path fill=\"none\" stroke=\"black\" d=\"M234.88,-48.73C247.21,-55 263.33,-63.19 277.08,-70.18\"/>\n<polygon fill=\"black\" stroke=\"black\" points=\"275.64,-73.37 286.14,-74.79 278.81,-67.13 275.64,-73.37\"/>\n<text text-anchor=\"middle\" x=\"260.49\" y=\"-68.55\" font-family=\"Times,serif\" font-size=\"14.00\">0 </text>\n</g>\n<!-- St3&#45;&gt;St3 -->\n<g id=\"edge7\" class=\"edge\">\n<title>St3&#45;&gt;St3</title>\n<path fill=\"none\" stroke=\"black\" d=\"M205.83,-60.13C204.79,-70.42 207.6,-79.5 214.24,-79.5 218.5,-79.5 221.18,-75.77 222.29,-70.39\"/>\n<polygon fill=\"black\" stroke=\"black\" points=\"225.8,-70.25 222.66,-60.13 218.8,-70 225.8,-70.25\"/>\n<text text-anchor=\"middle\" x=\"214.24\" y=\"-83.3\" font-family=\"Times,serif\" font-size=\"14.00\">1 </text>\n</g>\n<!-- St5&#45;&gt;St5 -->\n<g id=\"edge11\" class=\"edge\">\n<title>St5&#45;&gt;St5</title>\n<path fill=\"none\" stroke=\"black\" d=\"M390.82,-134.13C389.78,-144.42 392.59,-153.5 399.24,-153.5 403.5,-153.5 406.18,-149.77 407.28,-144.39\"/>\n<polygon fill=\"black\" stroke=\"black\" points=\"410.79,-144.25 407.65,-134.13 403.79,-144 410.79,-144.25\"/>\n<text text-anchor=\"middle\" x=\"399.24\" y=\"-157.3\" font-family=\"Times,serif\" font-size=\"14.00\">1 </text>\n</g>\n<!-- St5&#45;&gt;St0 -->\n<g id=\"edge10\" class=\"edge\">\n<title>St5&#45;&gt;St0</title>\n<path fill=\"none\" stroke=\"black\" d=\"M421.68,-107.3C432.94,-104.44 447.01,-100.87 459.8,-97.62\"/>\n<polygon fill=\"black\" stroke=\"black\" points=\"460.86,-100.96 469.69,-95.11 459.14,-94.18 460.86,-100.96\"/>\n<text text-anchor=\"middle\" x=\"445.48\" y=\"-106.55\" font-family=\"Times,serif\" font-size=\"14.00\">0 </text>\n</g>\n<!-- St1 -->\n<g id=\"node5\" class=\"node\">\n<title>St1</title>\n<ellipse fill=\"none\" stroke=\"black\" cx=\"596.23\" cy=\"-26.75\" rx=\"22.96\" ry=\"22.96\"/>\n<ellipse fill=\"none\" stroke=\"black\" cx=\"596.23\" cy=\"-26.75\" rx=\"27\" ry=\"27\"/>\n<text text-anchor=\"middle\" x=\"596.23\" y=\"-23.05\" font-family=\"Times,serif\" font-size=\"14.00\">St1</text>\n</g>\n<!-- St1&#45;&gt;St4 -->\n<g id=\"edge12\" class=\"edge\">\n<title>St1&#45;&gt;St4</title>\n<path fill=\"none\" stroke=\"black\" d=\"M569.56,-30.16C528.62,-35.71 446.05,-47.31 376.49,-59.75 363.53,-62.06 359.96,-61.55 347.49,-65.75 343.87,-66.97 340.15,-68.43 336.5,-70.01\"/>\n<polygon fill=\"black\" stroke=\"black\" points=\"334.78,-66.95 327.16,-74.31 337.71,-73.3 334.78,-66.95\"/>\n<text text-anchor=\"middle\" x=\"445.48\" y=\"-53.55\" font-family=\"Times,serif\" font-size=\"14.00\">0 </text>\n</g>\n<!-- St1&#45;&gt;St1 -->\n<g id=\"edge13\" class=\"edge\">\n<title>St1&#45;&gt;St1</title>\n<path fill=\"none\" stroke=\"black\" d=\"M586.94,-52.05C586.29,-62.57 589.39,-71.5 596.23,-71.5 600.71,-71.5 603.59,-67.65 604.86,-62.04\"/>\n<polygon fill=\"black\" stroke=\"black\" points=\"608.35,-62.26 605.52,-52.05 601.36,-61.79 608.35,-62.26\"/>\n<text text-anchor=\"middle\" x=\"596.23\" y=\"-75.3\" font-family=\"Times,serif\" font-size=\"14.00\">1 </text>\n</g>\n<!-- St0&#45;&gt;St4 -->\n<g id=\"edge8\" class=\"edge\">\n<title>St0&#45;&gt;St4</title>\n<path fill=\"none\" stroke=\"black\" d=\"M482.98,-112.77C470.97,-134.28 450.11,-164.41 421.98,-177.75 403.71,-186.41 394.54,-186.85 376.49,-177.75 350.56,-164.67 331.99,-136.7 320.74,-114.83\"/>\n<polygon fill=\"black\" stroke=\"black\" points=\"323.76,-113.03 316.22,-105.58 317.47,-116.11 323.76,-113.03\"/>\n<text text-anchor=\"middle\" x=\"399.24\" y=\"-187.55\" font-family=\"Times,serif\" font-size=\"14.00\">0 </text>\n</g>\n<!-- St0&#45;&gt;St1 -->\n<g id=\"edge9\" class=\"edge\">\n<title>St0&#45;&gt;St1</title>\n<path fill=\"none\" stroke=\"black\" d=\"M519.08,-74.68C532.53,-66.22 549.83,-55.33 564.54,-46.07\"/>\n<polygon fill=\"black\" stroke=\"black\" points=\"566.71,-48.84 573.31,-40.55 562.98,-42.91 566.71,-48.84\"/>\n<text text-anchor=\"middle\" x=\"545.98\" y=\"-63.55\" font-family=\"Times,serif\" font-size=\"14.00\">1 </text>\n</g>\n<!-- St2&#45;&gt;St4 -->\n<g id=\"edge2\" class=\"edge\">\n<title>St2&#45;&gt;St4</title>\n<path fill=\"none\" stroke=\"black\" d=\"M143.35,-92.85C157.3,-97.02 175.18,-101.65 191.5,-103.75 211.55,-106.32 216.95,-106.47 236.99,-103.75 249.71,-102.02 263.4,-98.58 275.19,-95.09\"/>\n<polygon fill=\"black\" stroke=\"black\" points=\"276.47,-98.36 284.98,-92.06 274.4,-91.67 276.47,-98.36\"/>\n<text text-anchor=\"middle\" x=\"214.24\" y=\"-109.55\" font-family=\"Times,serif\" font-size=\"14.00\">0 </text>\n</g>\n<!-- St2&#45;&gt;St3 -->\n<g id=\"edge3\" class=\"edge\">\n<title>St2&#45;&gt;St3</title>\n<path fill=\"none\" stroke=\"black\" d=\"M142.11,-73.38C154.77,-67.21 170.55,-59.53 184.02,-52.97\"/>\n<polygon fill=\"black\" stroke=\"black\" points=\"185.89,-55.96 193.35,-48.43 182.82,-49.66 185.89,-55.96\"/>\n<text text-anchor=\"middle\" x=\"168\" y=\"-67.55\" font-family=\"Times,serif\" font-size=\"14.00\">1 </text>\n</g>\n</g>\n</svg>\n",
            "text/plain": [
              "<graphviz.graphs.Digraph at 0x78f894fe5c60>"
            ]
          },
          "metadata": {},
          "execution_count": 13
        }
      ],
      "source": [
        "dfa2big = nfa2dfa(re2nfa(RE2))\n",
        "dotObj_dfa(dfa2big)"
      ]
    },
    {
      "cell_type": "code",
      "execution_count": 14,
      "metadata": {
        "id": "uZhaBureaGbt",
        "outputId": "c5203371-5e5c-4e80-943d-dbd73a5a5f42",
        "colab": {
          "base_uri": "https://localhost:8080/"
        }
      },
      "outputs": [
        {
          "output_type": "stream",
          "name": "stderr",
          "text": [
            "Generating LALR tables\n"
          ]
        }
      ],
      "source": [
        "dfa_unmin = md2mc('''\n",
        "\n",
        "DFA\n",
        "IF : 1  ->  St3\n",
        "IF : 0  ->  St4\n",
        "St4: 0  ->  F0\n",
        "St4: 1  ->  St5\n",
        "St3: 0  ->  St4\n",
        "St3: 1  ->  St3\n",
        "F0 : 0  ->  St4\n",
        "F0 : 1  ->  F1\n",
        "St5: 0  ->  F0\n",
        "St5: 1  ->  St5\n",
        "F1 : 0  ->  St4\n",
        "F1 : 1  ->  F1\n",
        "''')"
      ]
    },
    {
      "cell_type": "code",
      "execution_count": 15,
      "metadata": {
        "id": "075FXHYBaGbt",
        "outputId": "0419ff81-2b7d-47db-a474-8afac8ad96d2",
        "colab": {
          "base_uri": "https://localhost:8080/",
          "height": 35
        }
      },
      "outputs": [
        {
          "output_type": "execute_result",
          "data": {
            "text/plain": [
              "'dfa_unmin.pdf'"
            ],
            "application/vnd.google.colaboratory.intrinsic+json": {
              "type": "string"
            }
          },
          "metadata": {},
          "execution_count": 15
        }
      ],
      "source": [
        "dotObj_dfa(dfa_unmin).render('dfa_unmin')"
      ]
    },
    {
      "cell_type": "code",
      "execution_count": 16,
      "metadata": {
        "id": "nN02G8GVaGbt",
        "outputId": "b5b4935d-28c9-40cb-991b-0b8bfac7bf78",
        "colab": {
          "base_uri": "https://localhost:8080/"
        }
      },
      "outputs": [
        {
          "output_type": "stream",
          "name": "stdout",
          "text": [
            "Separating final and non-final states (marking 0-distinguishable entries).\n",
            "Separating final and non-final states (marking 0-distinguishable entries).\n",
            "   The 0-distinguishable entries are:\n",
            "States  F1  and  St3  are 0-distinguished.\n",
            "States  F1  and  St5  are 0-distinguished.\n",
            "States  F1  and  St4  are 0-distinguished.\n",
            "States  St3  and  F0  are 0-distinguished.\n",
            "States  St3  and  IF  are 0-distinguished.\n",
            "States  F0  and  St5  are 0-distinguished.\n",
            "States  F0  and  St4  are 0-distinguished.\n",
            "States  St5  and  IF  are 0-distinguished.\n",
            "States  St4  and  IF  are 0-distinguished.\n",
            "--------------------------------------------- \n",
            " Dyn Prog Table Version 0 is :\n",
            "--------------------------------------------- \n",
            "\t St3 \t 0\n",
            "\t F0 \t .\t0\n",
            "\t St5 \t 0\t.\t0\n",
            "\t St4 \t 0\t.\t0\t.\n",
            "\t IF \t .\t0\t.\t0\t0\n",
            "\n",
            "\t\t F1\tSt3\tF0\tSt5\tSt4\n",
            "--------------------------------------------- \n",
            " \n",
            "Seeing if states  F1  and  F0  can now be distinguished by any symbol.\n",
            "   The next states reached via symbol  0  are:  St4  and  St4\n",
            "      Nope. Symbol  0  could not distinguish (the next states are the same).\n",
            "   The next states reached via symbol  1  are:  F1  and  F1\n",
            "      Nope. Symbol  1  could not distinguish (the next states are the same).\n",
            " \n",
            "Seeing if states  F1  and  IF  can now be distinguished by any symbol.\n",
            "   The next states reached via symbol  0  are:  St4  and  St4\n",
            "      Nope. Symbol  0  could not distinguish (the next states are the same).\n",
            "   The next states reached via symbol  1  are:  F1  and  St3\n",
            "***  Found a distinguishable pair !! ***\n",
            "      Since  ('F1', 'St3')  are  0  distinguishable, marking  ('F1', 'IF')  as  1  distinguishable.\n",
            "         Hence, must continue through one more sweep of the algorithm.\n",
            " \n",
            "Seeing if states  St3  and  St5  can now be distinguished by any symbol.\n",
            "   The next states reached via symbol  0  are:  St4  and  F0\n",
            "   Found a distinguishable pair!\n",
            "      Since  ('St4', 'F0')  are  0  distinguishable, marking  ('St3', 'St5')  as  1  distinguishable.\n",
            "         Hence, must continue through one more sweep of the algorithm.\n",
            " \n",
            "Seeing if states  St3  and  St4  can now be distinguished by any symbol.\n",
            "   The next states reached via symbol  0  are:  St4  and  F0\n",
            "   Found a distinguishable pair!\n",
            "      Since  ('St4', 'F0')  are  0  distinguishable, marking  ('St3', 'St4')  as  1  distinguishable.\n",
            "         Hence, must continue through one more sweep of the algorithm.\n",
            " \n",
            "Seeing if states  F0  and  IF  can now be distinguished by any symbol.\n",
            "   The next states reached via symbol  0  are:  St4  and  St4\n",
            "      Nope. Symbol  0  could not distinguish (the next states are the same).\n",
            "   The next states reached via symbol  1  are:  F1  and  St3\n",
            "***  Found a distinguishable pair !! ***\n",
            "      Since  ('F1', 'St3')  are  0  distinguishable, marking  ('F0', 'IF')  as  1  distinguishable.\n",
            "         Hence, must continue through one more sweep of the algorithm.\n",
            " \n",
            "Seeing if states  St5  and  St4  can now be distinguished by any symbol.\n",
            "   The next states reached via symbol  0  are:  F0  and  F0\n",
            "      Nope. Symbol  0  could not distinguish (the next states are the same).\n",
            "   The next states reached via symbol  1  are:  St5  and  St5\n",
            "      Nope. Symbol  1  could not distinguish (the next states are the same).\n",
            "--------------------------------------------- \n",
            " Dyn Prog Table Version 1 is :\n",
            "--------------------------------------------- \n",
            "\t St3 \t 0\n",
            "\t F0 \t .\t0\n",
            "\t St5 \t 0\t1\t0\n",
            "\t St4 \t 0\t1\t0\t.\n",
            "\t IF \t 1\t0\t1\t0\t0\n",
            "\n",
            "\t\t F1\tSt3\tF0\tSt5\tSt4\n",
            "--------------------------------------------- \n",
            " \n",
            "Seeing if states  F1  and  F0  can now be distinguished by any symbol.\n",
            "   The next states reached via symbol  0  are:  St4  and  St4\n",
            "      Nope. Symbol  0  could not distinguish (the next states are the same).\n",
            "   The next states reached via symbol  1  are:  F1  and  F1\n",
            "      Nope. Symbol  1  could not distinguish (the next states are the same).\n",
            " \n",
            "Seeing if states  F1  and  IF  can now be distinguished by any symbol.\n",
            "   The next states reached via symbol  0  are:  St4  and  St4\n",
            "      Nope. Symbol  0  could not distinguish (the next states are the same).\n",
            "   The next states reached via symbol  1  are:  F1  and  St3\n",
            " \n",
            "Seeing if states  St3  and  St5  can now be distinguished by any symbol.\n",
            "   The next states reached via symbol  0  are:  St4  and  F0\n",
            "   The next states reached via symbol  1  are:  St3  and  St5\n",
            " \n",
            "Seeing if states  St3  and  St4  can now be distinguished by any symbol.\n",
            "   The next states reached via symbol  0  are:  St4  and  F0\n",
            "   The next states reached via symbol  1  are:  St3  and  St5\n",
            " \n",
            "Seeing if states  F0  and  IF  can now be distinguished by any symbol.\n",
            "   The next states reached via symbol  0  are:  St4  and  St4\n",
            "      Nope. Symbol  0  could not distinguish (the next states are the same).\n",
            "   The next states reached via symbol  1  are:  F1  and  St3\n",
            " \n",
            "Seeing if states  St5  and  St4  can now be distinguished by any symbol.\n",
            "   The next states reached via symbol  0  are:  F0  and  F0\n",
            "      Nope. Symbol  0  could not distinguish (the next states are the same).\n",
            "   The next states reached via symbol  1  are:  St5  and  St5\n",
            "      Nope. Symbol  1  could not distinguish (the next states are the same).\n",
            "*** The Dyn Prog tables have stabilized at the one below ***\n",
            "--------------------------------------------- \n",
            " Dyn Prog Table Version 1 is :\n",
            "--------------------------------------------- \n",
            "\t St3 \t 0\n",
            "\t F0 \t .\t0\n",
            "\t St5 \t 0\t1\t0\n",
            "\t St4 \t 0\t1\t0\t.\n",
            "\t IF \t 1\t0\t1\t0\t0\n",
            "\n",
            "\t\t F1\tSt3\tF0\tSt5\tSt4\n",
            "--------------------------------------------- \n",
            " \n",
            "Now, collecting equivalence-classes.\n",
            "   The equivalent pairs are:\n",
            "   The merged equivalent classes and representative states are these:\n",
            "State  St4  represents the equivalent states  ['St4', 'St5']\n",
            "State  F1  represents the equivalent states  ['F1', 'F0']\n"
          ]
        }
      ],
      "source": [
        "dfa_min = min_dfa(dfa_unmin, state_name_mode = 'verbose', chatty=True)"
      ]
    },
    {
      "cell_type": "code",
      "execution_count": 17,
      "metadata": {
        "id": "jYeDe82WaGbu"
      },
      "outputs": [],
      "source": [
        "dfa_unmin_rev = rev_dfa(dfa_unmin)"
      ]
    },
    {
      "cell_type": "code",
      "execution_count": 18,
      "metadata": {
        "id": "g9taMin-aGbu",
        "outputId": "10c53e55-f18a-429f-f6c0-db21409ed61a",
        "colab": {
          "base_uri": "https://localhost:8080/",
          "height": 35
        }
      },
      "outputs": [
        {
          "output_type": "execute_result",
          "data": {
            "text/plain": [
              "'dfa_unmin_rev.pdf'"
            ],
            "application/vnd.google.colaboratory.intrinsic+json": {
              "type": "string"
            }
          },
          "metadata": {},
          "execution_count": 18
        }
      ],
      "source": [
        "dotObj_nfa(dfa_unmin_rev).render('dfa_unmin_rev')"
      ]
    },
    {
      "cell_type": "code",
      "execution_count": 19,
      "metadata": {
        "id": "OIewigv0aGbu",
        "outputId": "ed3d7c64-73cf-42bf-8b11-675ba530beba",
        "colab": {
          "base_uri": "https://localhost:8080/"
        }
      },
      "outputs": [
        {
          "output_type": "stream",
          "name": "stdout",
          "text": [
            "Help on function nfa2dfa in module jove.Def_NFA:\n",
            "\n",
            "nfa2dfa(N, STATENAME_MAXSIZE=20)\n",
            "    In : N (consistent NFA), and optional STATENAME_MAXSIZE\n",
            "         for the generated DFA states\n",
            "    Out: A consistent DFA that is language-equivalent to N.\n",
            "\n"
          ]
        }
      ],
      "source": [
        "help(nfa2dfa)"
      ]
    },
    {
      "cell_type": "code",
      "execution_count": 20,
      "metadata": {
        "id": "tkC-M4xoaGbu",
        "outputId": "44ae411e-bd0a-43e4-d88b-dd5961316e7f",
        "colab": {
          "base_uri": "https://localhost:8080/",
          "height": 306
        }
      },
      "outputs": [
        {
          "output_type": "execute_result",
          "data": {
            "image/svg+xml": "<?xml version=\"1.0\" encoding=\"UTF-8\" standalone=\"no\"?>\n<!DOCTYPE svg PUBLIC \"-//W3C//DTD SVG 1.1//EN\"\n \"http://www.w3.org/Graphics/SVG/1.1/DTD/svg11.dtd\">\n<!-- Generated by graphviz version 2.43.0 (0)\n -->\n<!-- Title: %3 Pages: 1 -->\n<svg width=\"597pt\" height=\"214pt\"\n viewBox=\"0.00 0.00 596.78 214.00\" xmlns=\"http://www.w3.org/2000/svg\" xmlns:xlink=\"http://www.w3.org/1999/xlink\">\n<g id=\"graph0\" class=\"graph\" transform=\"scale(1 1) rotate(0) translate(4 210)\">\n<title>%3</title>\n<polygon fill=\"white\" stroke=\"transparent\" points=\"-4,4 -4,-210 592.78,-210 592.78,4 -4,4\"/>\n<!-- EMPTY -->\n<g id=\"node1\" class=\"node\">\n<title>EMPTY</title>\n</g>\n<!-- F1 -->\n<g id=\"node2\" class=\"node\">\n<title>F1</title>\n<ellipse fill=\"none\" stroke=\"black\" cx=\"111.15\" cy=\"-129\" rx=\"20.3\" ry=\"20.3\"/>\n<text text-anchor=\"middle\" x=\"111.15\" y=\"-125.3\" font-family=\"Times,serif\" font-size=\"14.00\">F1</text>\n</g>\n<!-- EMPTY&#45;&gt;F1 -->\n<g id=\"edge1\" class=\"edge\">\n<title>EMPTY&#45;&gt;F1</title>\n<path fill=\"none\" stroke=\"black\" d=\"M54.44,-96.45C64.11,-102.1 75.02,-108.48 84.61,-114.08\"/>\n<polygon fill=\"black\" stroke=\"black\" points=\"82.91,-117.14 93.31,-119.16 86.45,-111.1 82.91,-117.14\"/>\n</g>\n<!-- F0 -->\n<g id=\"node4\" class=\"node\">\n<title>F0</title>\n<ellipse fill=\"none\" stroke=\"black\" cx=\"198.44\" cy=\"-102\" rx=\"20.3\" ry=\"20.3\"/>\n<text text-anchor=\"middle\" x=\"198.44\" y=\"-98.3\" font-family=\"Times,serif\" font-size=\"14.00\">F0</text>\n</g>\n<!-- EMPTY&#45;&gt;F0 -->\n<g id=\"edge2\" class=\"edge\">\n<title>EMPTY&#45;&gt;F0</title>\n<path fill=\"none\" stroke=\"black\" d=\"M54.1,-84.24C84.96,-88.06 136.18,-94.41 168.3,-98.39\"/>\n<polygon fill=\"black\" stroke=\"black\" points=\"168.06,-101.88 178.41,-99.64 168.92,-94.94 168.06,-101.88\"/>\n</g>\n<!-- IF -->\n<g id=\"node7\" class=\"node\">\n<title>IF</title>\n<ellipse fill=\"none\" stroke=\"black\" cx=\"565.93\" cy=\"-51\" rx=\"18.72\" ry=\"18.72\"/>\n<ellipse fill=\"none\" stroke=\"black\" cx=\"565.93\" cy=\"-51\" rx=\"22.7\" ry=\"22.7\"/>\n<text text-anchor=\"middle\" x=\"565.93\" y=\"-47.3\" font-family=\"Times,serif\" font-size=\"14.00\">IF</text>\n</g>\n<!-- EMPTY&#45;&gt;IF -->\n<g id=\"edge3\" class=\"edge\">\n<title>EMPTY&#45;&gt;IF</title>\n<path fill=\"none\" stroke=\"black\" d=\"M36.51,-62.62C49,-38.72 74.7,0 110.15,0 110.15,0 110.15,0 474.33,0 499.46,0 524.05,-15.08 541.26,-28.84\"/>\n<polygon fill=\"black\" stroke=\"black\" points=\"539.18,-31.67 549.08,-35.42 543.68,-26.31 539.18,-31.67\"/>\n</g>\n<!-- F1&#45;&gt;F1 -->\n<g id=\"edge4\" class=\"edge\">\n<title>F1&#45;&gt;F1</title>\n<path fill=\"none\" stroke=\"black\" d=\"M104.27,-148.24C103.22,-158.18 105.51,-167.15 111.15,-167.15 114.67,-167.15 116.89,-163.65 117.8,-158.59\"/>\n<polygon fill=\"black\" stroke=\"black\" points=\"121.31,-158.31 118.02,-148.24 114.31,-158.16 121.31,-158.31\"/>\n<text text-anchor=\"middle\" x=\"111.15\" y=\"-170.95\" font-family=\"Times,serif\" font-size=\"14.00\">1 </text>\n</g>\n<!-- F1&#45;&gt;F0 -->\n<g id=\"edge5\" class=\"edge\">\n<title>F1&#45;&gt;F0</title>\n<path fill=\"none\" stroke=\"black\" d=\"M130.66,-123.14C141.95,-119.57 156.6,-114.93 169.3,-110.91\"/>\n<polygon fill=\"black\" stroke=\"black\" points=\"170.5,-114.2 178.97,-107.85 168.38,-107.53 170.5,-114.2\"/>\n<text text-anchor=\"middle\" x=\"154.8\" y=\"-120.8\" font-family=\"Times,serif\" font-size=\"14.00\">1 </text>\n</g>\n<!-- St3 -->\n<g id=\"node3\" class=\"node\">\n<title>St3</title>\n<ellipse fill=\"none\" stroke=\"black\" cx=\"473.33\" cy=\"-51\" rx=\"23\" ry=\"23\"/>\n<text text-anchor=\"middle\" x=\"473.33\" y=\"-47.3\" font-family=\"Times,serif\" font-size=\"14.00\">St3</text>\n</g>\n<!-- St3&#45;&gt;St3 -->\n<g id=\"edge6\" class=\"edge\">\n<title>St3&#45;&gt;St3</title>\n<path fill=\"none\" stroke=\"black\" d=\"M464.92,-72.38C463.88,-82.67 466.68,-91.75 473.33,-91.75 477.59,-91.75 480.27,-88.02 481.38,-82.64\"/>\n<polygon fill=\"black\" stroke=\"black\" points=\"484.89,-82.5 481.75,-72.38 477.89,-82.25 484.89,-82.5\"/>\n<text text-anchor=\"middle\" x=\"473.33\" y=\"-95.55\" font-family=\"Times,serif\" font-size=\"14.00\">1 </text>\n</g>\n<!-- St3&#45;&gt;IF -->\n<g id=\"edge7\" class=\"edge\">\n<title>St3&#45;&gt;IF</title>\n<path fill=\"none\" stroke=\"black\" d=\"M496.26,-51C507.2,-51 520.64,-51 532.72,-51\"/>\n<polygon fill=\"black\" stroke=\"black\" points=\"532.89,-54.5 542.89,-51 532.89,-47.5 532.89,-54.5\"/>\n<text text-anchor=\"middle\" x=\"519.58\" y=\"-54.8\" font-family=\"Times,serif\" font-size=\"14.00\">1 </text>\n</g>\n<!-- St5 -->\n<g id=\"node5\" class=\"node\">\n<title>St5</title>\n<ellipse fill=\"none\" stroke=\"black\" cx=\"288.34\" cy=\"-102\" rx=\"23\" ry=\"23\"/>\n<text text-anchor=\"middle\" x=\"288.34\" y=\"-98.3\" font-family=\"Times,serif\" font-size=\"14.00\">St5</text>\n</g>\n<!-- F0&#45;&gt;St5 -->\n<g id=\"edge9\" class=\"edge\">\n<title>F0&#45;&gt;St5</title>\n<path fill=\"none\" stroke=\"black\" d=\"M218.95,-102C229.59,-102 243.03,-102 255.18,-102\"/>\n<polygon fill=\"black\" stroke=\"black\" points=\"255.42,-105.5 265.42,-102 255.42,-98.5 255.42,-105.5\"/>\n<text text-anchor=\"middle\" x=\"242.09\" y=\"-105.8\" font-family=\"Times,serif\" font-size=\"14.00\">0 </text>\n</g>\n<!-- St4 -->\n<g id=\"node6\" class=\"node\">\n<title>St4</title>\n<ellipse fill=\"none\" stroke=\"black\" cx=\"380.84\" cy=\"-129\" rx=\"23\" ry=\"23\"/>\n<text text-anchor=\"middle\" x=\"380.84\" y=\"-125.3\" font-family=\"Times,serif\" font-size=\"14.00\">St4</text>\n</g>\n<!-- F0&#45;&gt;St4 -->\n<g id=\"edge8\" class=\"edge\">\n<title>F0&#45;&gt;St4</title>\n<path fill=\"none\" stroke=\"black\" d=\"M213.23,-88.25C225.7,-76.86 245.19,-61.51 265.59,-55 284.86,-48.85 292.55,-46.92 311.09,-55 332.72,-64.43 350.6,-84.39 362.7,-101.2\"/>\n<polygon fill=\"black\" stroke=\"black\" points=\"359.95,-103.37 368.49,-109.64 365.72,-99.41 359.95,-103.37\"/>\n<text text-anchor=\"middle\" x=\"288.34\" y=\"-58.8\" font-family=\"Times,serif\" font-size=\"14.00\">0 </text>\n</g>\n<!-- St5&#45;&gt;St5 -->\n<g id=\"edge11\" class=\"edge\">\n<title>St5&#45;&gt;St5</title>\n<path fill=\"none\" stroke=\"black\" d=\"M279.93,-123.38C278.89,-133.67 281.69,-142.75 288.34,-142.75 292.6,-142.75 295.28,-139.02 296.39,-133.64\"/>\n<polygon fill=\"black\" stroke=\"black\" points=\"299.89,-133.5 296.76,-123.38 292.9,-133.25 299.89,-133.5\"/>\n<text text-anchor=\"middle\" x=\"288.34\" y=\"-146.55\" font-family=\"Times,serif\" font-size=\"14.00\">1 </text>\n</g>\n<!-- St5&#45;&gt;St4 -->\n<g id=\"edge10\" class=\"edge\">\n<title>St5&#45;&gt;St4</title>\n<path fill=\"none\" stroke=\"black\" d=\"M310.33,-108.26C321.78,-111.68 336.18,-115.98 348.9,-119.77\"/>\n<polygon fill=\"black\" stroke=\"black\" points=\"348.06,-123.17 358.65,-122.68 350.07,-116.47 348.06,-123.17\"/>\n<text text-anchor=\"middle\" x=\"334.59\" y=\"-120.8\" font-family=\"Times,serif\" font-size=\"14.00\">1 </text>\n</g>\n<!-- St4&#45;&gt;F1 -->\n<g id=\"edge12\" class=\"edge\">\n<title>St4&#45;&gt;F1</title>\n<path fill=\"none\" stroke=\"black\" d=\"M367.05,-147.13C354.8,-162.56 334.72,-183.26 311.09,-190 248,-207.99 174.3,-169.76 136.8,-146.02\"/>\n<polygon fill=\"black\" stroke=\"black\" points=\"138.36,-142.86 128.07,-140.34 134.54,-148.72 138.36,-142.86\"/>\n<text text-anchor=\"middle\" x=\"242.09\" y=\"-194.8\" font-family=\"Times,serif\" font-size=\"14.00\">0 </text>\n</g>\n<!-- St4&#45;&gt;St3 -->\n<g id=\"edge13\" class=\"edge\">\n<title>St4&#45;&gt;St3</title>\n<path fill=\"none\" stroke=\"black\" d=\"M398.86,-114.33C412.64,-102.45 432.23,-85.57 447.71,-72.22\"/>\n<polygon fill=\"black\" stroke=\"black\" points=\"450.1,-74.79 455.39,-65.61 445.53,-69.48 450.1,-74.79\"/>\n<text text-anchor=\"middle\" x=\"427.08\" y=\"-97.8\" font-family=\"Times,serif\" font-size=\"14.00\">0 </text>\n</g>\n<!-- St4&#45;&gt;F0 -->\n<g id=\"edge14\" class=\"edge\">\n<title>St4&#45;&gt;F0</title>\n<path fill=\"none\" stroke=\"black\" d=\"M362.15,-142.71C339.47,-158.52 299.06,-180.69 265.59,-167 245.66,-158.85 228.5,-141.47 216.66,-126.73\"/>\n<polygon fill=\"black\" stroke=\"black\" points=\"219.17,-124.26 210.32,-118.45 213.62,-128.52 219.17,-124.26\"/>\n<text text-anchor=\"middle\" x=\"288.34\" y=\"-174.8\" font-family=\"Times,serif\" font-size=\"14.00\">0 </text>\n</g>\n<!-- St4&#45;&gt;IF -->\n<g id=\"edge15\" class=\"edge\">\n<title>St4&#45;&gt;IF</title>\n<path fill=\"none\" stroke=\"black\" d=\"M403.56,-130.5C427.39,-131.27 466.21,-129.88 496.08,-116 515.15,-107.14 532.35,-90.91 544.79,-76.88\"/>\n<polygon fill=\"black\" stroke=\"black\" points=\"547.72,-78.84 551.54,-68.95 542.39,-74.3 547.72,-78.84\"/>\n<text text-anchor=\"middle\" x=\"473.33\" y=\"-131.8\" font-family=\"Times,serif\" font-size=\"14.00\">0 </text>\n</g>\n</g>\n</svg>\n",
            "text/plain": [
              "<graphviz.graphs.Digraph at 0x78f8943918d0>"
            ]
          },
          "metadata": {},
          "execution_count": 20
        }
      ],
      "source": [
        "dotObj_nfa(dfa_unmin_rev)"
      ]
    },
    {
      "cell_type": "code",
      "execution_count": 21,
      "metadata": {
        "id": "eLz0OY31aGbu"
      },
      "outputs": [],
      "source": [
        "dfa_unmin_rev_det = nfa2dfa(dfa_unmin_rev, STATENAME_MAXSIZE=80)"
      ]
    },
    {
      "cell_type": "code",
      "execution_count": 22,
      "metadata": {
        "id": "jTM-Yck0aGbv",
        "outputId": "e45f5bff-a52a-4429-8ec3-b7088ff775bc",
        "colab": {
          "base_uri": "https://localhost:8080/",
          "height": 277
        }
      },
      "outputs": [
        {
          "output_type": "execute_result",
          "data": {
            "image/svg+xml": "<?xml version=\"1.0\" encoding=\"UTF-8\" standalone=\"no\"?>\n<!DOCTYPE svg PUBLIC \"-//W3C//DTD SVG 1.1//EN\"\n \"http://www.w3.org/Graphics/SVG/1.1/DTD/svg11.dtd\">\n<!-- Generated by graphviz version 2.43.0 (0)\n -->\n<!-- Title: %3 Pages: 1 -->\n<svg width=\"616pt\" height=\"192pt\"\n viewBox=\"0.00 0.00 616.07 191.54\" xmlns=\"http://www.w3.org/2000/svg\" xmlns:xlink=\"http://www.w3.org/1999/xlink\">\n<g id=\"graph0\" class=\"graph\" transform=\"scale(1 1) rotate(0) translate(4 187.54)\">\n<title>%3</title>\n<polygon fill=\"white\" stroke=\"transparent\" points=\"-4,4 -4,-187.54 612.07,-187.54 612.07,4 -4,4\"/>\n<!-- EMPTY -->\n<g id=\"node1\" class=\"node\">\n<title>EMPTY</title>\n</g>\n<!-- F0_F1_IF -->\n<g id=\"node4\" class=\"node\">\n<title>F0_F1_IF</title>\n<ellipse fill=\"none\" stroke=\"black\" cx=\"141.15\" cy=\"-65.74\" rx=\"46.28\" ry=\"46.28\"/>\n<ellipse fill=\"none\" stroke=\"black\" cx=\"141.15\" cy=\"-65.74\" rx=\"50.29\" ry=\"50.29\"/>\n<text text-anchor=\"middle\" x=\"141.15\" y=\"-62.04\" font-family=\"Times,serif\" font-size=\"14.00\">F0_F1_IF</text>\n</g>\n<!-- EMPTY&#45;&gt;F0_F1_IF -->\n<g id=\"edge1\" class=\"edge\">\n<title>EMPTY&#45;&gt;F0_F1_IF</title>\n<path fill=\"none\" stroke=\"black\" d=\"M54.01,-65.74C62.09,-65.74 71.35,-65.74 80.73,-65.74\"/>\n<polygon fill=\"black\" stroke=\"black\" points=\"80.92,-69.24 90.92,-65.74 80.92,-62.24 80.92,-69.24\"/>\n</g>\n<!-- F0_F1 -->\n<g id=\"node2\" class=\"node\">\n<title>F0_F1</title>\n<ellipse fill=\"none\" stroke=\"black\" cx=\"272.09\" cy=\"-116.74\" rx=\"33.6\" ry=\"33.6\"/>\n<text text-anchor=\"middle\" x=\"272.09\" y=\"-113.04\" font-family=\"Times,serif\" font-size=\"14.00\">F0_F1</text>\n</g>\n<!-- F0_F1&#45;&gt;F0_F1 -->\n<g id=\"edge7\" class=\"edge\">\n<title>F0_F1&#45;&gt;F0_F1</title>\n<path fill=\"none\" stroke=\"black\" d=\"M261.59,-149.12C261.59,-159.91 265.09,-168.54 272.09,-168.54 276.68,-168.54 279.77,-164.82 281.35,-159.22\"/>\n<polygon fill=\"black\" stroke=\"black\" points=\"284.84,-159.47 282.59,-149.12 277.9,-158.62 284.84,-159.47\"/>\n<text text-anchor=\"middle\" x=\"272.09\" y=\"-172.34\" font-family=\"Times,serif\" font-size=\"14.00\">1 </text>\n</g>\n<!-- St4_St5 -->\n<g id=\"node3\" class=\"node\">\n<title>St4_St5</title>\n<ellipse fill=\"none\" stroke=\"black\" cx=\"391.23\" cy=\"-65.74\" rx=\"38.19\" ry=\"38.19\"/>\n<text text-anchor=\"middle\" x=\"391.23\" y=\"-62.04\" font-family=\"Times,serif\" font-size=\"14.00\">St4_St5</text>\n</g>\n<!-- F0_F1&#45;&gt;St4_St5 -->\n<g id=\"edge6\" class=\"edge\">\n<title>F0_F1&#45;&gt;St4_St5</title>\n<path fill=\"none\" stroke=\"black\" d=\"M303.26,-103.61C316.38,-97.9 332.01,-91.09 346.38,-84.83\"/>\n<polygon fill=\"black\" stroke=\"black\" points=\"347.83,-88.02 355.61,-80.82 345.04,-81.6 347.83,-88.02\"/>\n<text text-anchor=\"middle\" x=\"329.39\" y=\"-97.54\" font-family=\"Times,serif\" font-size=\"14.00\">0 </text>\n</g>\n<!-- St4_St5&#45;&gt;St4_St5 -->\n<g id=\"edge5\" class=\"edge\">\n<title>St4_St5&#45;&gt;St4_St5</title>\n<path fill=\"none\" stroke=\"black\" d=\"M380.01,-102.6C380.34,-113.56 384.08,-122.09 391.23,-122.09 395.92,-122.09 399.15,-118.42 400.9,-112.79\"/>\n<polygon fill=\"black\" stroke=\"black\" points=\"404.41,-113.01 402.46,-102.6 397.49,-111.95 404.41,-113.01\"/>\n<text text-anchor=\"middle\" x=\"391.23\" y=\"-125.89\" font-family=\"Times,serif\" font-size=\"14.00\">1 </text>\n</g>\n<!-- F0_F1_IF_St3 -->\n<g id=\"node5\" class=\"node\">\n<title>F0_F1_IF_St3</title>\n<ellipse fill=\"none\" stroke=\"black\" cx=\"542.32\" cy=\"-65.74\" rx=\"61.98\" ry=\"61.98\"/>\n<ellipse fill=\"none\" stroke=\"black\" cx=\"542.32\" cy=\"-65.74\" rx=\"65.99\" ry=\"65.99\"/>\n<text text-anchor=\"middle\" x=\"542.32\" y=\"-62.04\" font-family=\"Times,serif\" font-size=\"14.00\">F0_F1_IF_St3</text>\n</g>\n<!-- St4_St5&#45;&gt;F0_F1_IF_St3 -->\n<g id=\"edge4\" class=\"edge\">\n<title>St4_St5&#45;&gt;F0_F1_IF_St3</title>\n<path fill=\"none\" stroke=\"black\" d=\"M429.85,-65.74C441.02,-65.74 453.66,-65.74 466.32,-65.74\"/>\n<polygon fill=\"black\" stroke=\"black\" points=\"466.45,-69.24 476.44,-65.74 466.44,-62.24 466.45,-69.24\"/>\n<text text-anchor=\"middle\" x=\"453.08\" y=\"-69.54\" font-family=\"Times,serif\" font-size=\"14.00\">0 </text>\n</g>\n<!-- F0_F1_IF&#45;&gt;F0_F1 -->\n<g id=\"edge3\" class=\"edge\">\n<title>F0_F1_IF&#45;&gt;F0_F1</title>\n<path fill=\"none\" stroke=\"black\" d=\"M187.97,-83.87C201.95,-89.4 217.21,-95.43 230.79,-100.81\"/>\n<polygon fill=\"black\" stroke=\"black\" points=\"229.76,-104.16 240.35,-104.59 232.34,-97.65 229.76,-104.16\"/>\n<text text-anchor=\"middle\" x=\"214.79\" y=\"-99.54\" font-family=\"Times,serif\" font-size=\"14.00\">1 </text>\n</g>\n<!-- F0_F1_IF&#45;&gt;St4_St5 -->\n<g id=\"edge2\" class=\"edge\">\n<title>F0_F1_IF&#45;&gt;St4_St5</title>\n<path fill=\"none\" stroke=\"black\" d=\"M191.51,-61.46C206.52,-60.34 223.07,-59.3 238.29,-58.74 268.31,-57.65 275.87,-57.5 305.89,-58.74 317.81,-59.24 330.66,-60.12 342.64,-61.1\"/>\n<polygon fill=\"black\" stroke=\"black\" points=\"342.64,-64.61 352.9,-61.98 343.24,-57.64 342.64,-64.61\"/>\n<text text-anchor=\"middle\" x=\"272.09\" y=\"-62.54\" font-family=\"Times,serif\" font-size=\"14.00\">0 </text>\n</g>\n<!-- F0_F1_IF_St3&#45;&gt;St4_St5 -->\n<g id=\"edge8\" class=\"edge\">\n<title>F0_F1_IF_St3&#45;&gt;St4_St5</title>\n<path fill=\"none\" stroke=\"black\" d=\"M479.16,-46.66C468.64,-45.29 457.82,-45.04 447.58,-46.74 444.12,-47.32 440.58,-48.09 437.06,-48.99\"/>\n<polygon fill=\"black\" stroke=\"black\" points=\"435.86,-45.69 427.21,-51.8 437.79,-52.42 435.86,-45.69\"/>\n<text text-anchor=\"middle\" x=\"453.08\" y=\"-50.54\" font-family=\"Times,serif\" font-size=\"14.00\">0 </text>\n</g>\n<!-- F0_F1_IF_St3&#45;&gt;F0_F1_IF_St3 -->\n<g id=\"edge9\" class=\"edge\">\n<title>F0_F1_IF_St3&#45;&gt;F0_F1_IF_St3</title>\n<path fill=\"none\" stroke=\"black\" d=\"M526.73,-129.64C528.7,-141.31 533.9,-149.49 542.32,-149.49 548.11,-149.49 552.38,-145.62 555.12,-139.41\"/>\n<polygon fill=\"black\" stroke=\"black\" points=\"558.53,-140.22 557.92,-129.64 551.8,-138.29 558.53,-140.22\"/>\n<text text-anchor=\"middle\" x=\"542.32\" y=\"-153.29\" font-family=\"Times,serif\" font-size=\"14.00\">1 </text>\n</g>\n</g>\n</svg>\n",
            "text/plain": [
              "<graphviz.graphs.Digraph at 0x78f894391de0>"
            ]
          },
          "metadata": {},
          "execution_count": 22
        }
      ],
      "source": [
        "dotObj_dfa(dfa_unmin_rev_det, STATENAME_MAXSIZE=80)"
      ]
    },
    {
      "cell_type": "code",
      "execution_count": 23,
      "metadata": {
        "id": "3sMnG5T5aGbv",
        "outputId": "ebfdda7e-0e75-4faf-816d-3daa6e659223",
        "colab": {
          "base_uri": "https://localhost:8080/",
          "height": 35
        }
      },
      "outputs": [
        {
          "output_type": "execute_result",
          "data": {
            "text/plain": [
              "'dfa_unmin_rev_det.pdf'"
            ],
            "application/vnd.google.colaboratory.intrinsic+json": {
              "type": "string"
            }
          },
          "metadata": {},
          "execution_count": 23
        }
      ],
      "source": [
        "dotObj_dfa(dfa_unmin_rev_det, STATENAME_MAXSIZE=80).render('dfa_unmin_rev_det')"
      ]
    },
    {
      "cell_type": "code",
      "execution_count": 24,
      "metadata": {
        "id": "0zhfpvB1aGbv",
        "outputId": "9515e20d-1c02-4035-b7f6-e6d6f767e428",
        "colab": {
          "base_uri": "https://localhost:8080/",
          "height": 210
        }
      },
      "outputs": [
        {
          "output_type": "execute_result",
          "data": {
            "image/svg+xml": "<?xml version=\"1.0\" encoding=\"UTF-8\" standalone=\"no\"?>\n<!DOCTYPE svg PUBLIC \"-//W3C//DTD SVG 1.1//EN\"\n \"http://www.w3.org/Graphics/SVG/1.1/DTD/svg11.dtd\">\n<!-- Generated by graphviz version 2.43.0 (0)\n -->\n<!-- Title: %3 Pages: 1 -->\n<svg width=\"483pt\" height=\"142pt\"\n viewBox=\"0.00 0.00 483.48 142.09\" xmlns=\"http://www.w3.org/2000/svg\" xmlns:xlink=\"http://www.w3.org/1999/xlink\">\n<g id=\"graph0\" class=\"graph\" transform=\"scale(1 1) rotate(0) translate(4 138.09)\">\n<title>%3</title>\n<polygon fill=\"white\" stroke=\"transparent\" points=\"-4,4 -4,-138.09 479.48,-138.09 479.48,4 -4,4\"/>\n<!-- EMPTY -->\n<g id=\"node1\" class=\"node\">\n<title>EMPTY</title>\n</g>\n<!-- IF -->\n<g id=\"node5\" class=\"node\">\n<title>IF</title>\n<ellipse fill=\"none\" stroke=\"black\" cx=\"113.85\" cy=\"-38.35\" rx=\"18.72\" ry=\"18.72\"/>\n<ellipse fill=\"none\" stroke=\"black\" cx=\"113.85\" cy=\"-38.35\" rx=\"22.7\" ry=\"22.7\"/>\n<text text-anchor=\"middle\" x=\"113.85\" y=\"-34.65\" font-family=\"Times,serif\" font-size=\"14.00\">IF</text>\n</g>\n<!-- EMPTY&#45;&gt;IF -->\n<g id=\"edge1\" class=\"edge\">\n<title>EMPTY&#45;&gt;IF</title>\n<path fill=\"none\" stroke=\"black\" d=\"M54.38,-38.35C62.68,-38.35 71.94,-38.35 80.6,-38.35\"/>\n<polygon fill=\"black\" stroke=\"black\" points=\"80.76,-41.85 90.76,-38.35 80.76,-34.85 80.76,-41.85\"/>\n</g>\n<!-- St3 -->\n<g id=\"node2\" class=\"node\">\n<title>St3</title>\n<ellipse fill=\"none\" stroke=\"black\" cx=\"206.44\" cy=\"-78.35\" rx=\"23\" ry=\"23\"/>\n<text text-anchor=\"middle\" x=\"206.44\" y=\"-74.65\" font-family=\"Times,serif\" font-size=\"14.00\">St3</text>\n</g>\n<!-- St3&#45;&gt;St3 -->\n<g id=\"edge7\" class=\"edge\">\n<title>St3&#45;&gt;St3</title>\n<path fill=\"none\" stroke=\"black\" d=\"M198.03,-99.73C196.99,-110.02 199.8,-119.09 206.44,-119.09 210.7,-119.09 213.39,-115.37 214.49,-109.99\"/>\n<polygon fill=\"black\" stroke=\"black\" points=\"218,-109.85 214.86,-99.73 211,-109.6 218,-109.85\"/>\n<text text-anchor=\"middle\" x=\"206.44\" y=\"-122.89\" font-family=\"Times,serif\" font-size=\"14.00\">1 </text>\n</g>\n<!-- St4_St5 -->\n<g id=\"node3\" class=\"node\">\n<title>St4_St5</title>\n<ellipse fill=\"none\" stroke=\"black\" cx=\"314.54\" cy=\"-38.35\" rx=\"38.19\" ry=\"38.19\"/>\n<text text-anchor=\"middle\" x=\"314.54\" y=\"-34.65\" font-family=\"Times,serif\" font-size=\"14.00\">St4_St5</text>\n</g>\n<!-- St3&#45;&gt;St4_St5 -->\n<g id=\"edge6\" class=\"edge\">\n<title>St3&#45;&gt;St4_St5</title>\n<path fill=\"none\" stroke=\"black\" d=\"M227.9,-70.63C239.54,-66.24 254.61,-60.56 268.85,-55.2\"/>\n<polygon fill=\"black\" stroke=\"black\" points=\"270.4,-58.35 278.52,-51.55 267.93,-51.8 270.4,-58.35\"/>\n<text text-anchor=\"middle\" x=\"252.69\" y=\"-66.15\" font-family=\"Times,serif\" font-size=\"14.00\">0 </text>\n</g>\n<!-- St4_St5&#45;&gt;St4_St5 -->\n<g id=\"edge5\" class=\"edge\">\n<title>St4_St5&#45;&gt;St4_St5</title>\n<path fill=\"none\" stroke=\"black\" d=\"M303.31,-75.2C303.65,-86.16 307.39,-94.69 314.54,-94.69 319.23,-94.69 322.45,-91.02 324.21,-85.39\"/>\n<polygon fill=\"black\" stroke=\"black\" points=\"327.72,-85.61 325.76,-75.2 320.8,-84.56 327.72,-85.61\"/>\n<text text-anchor=\"middle\" x=\"314.54\" y=\"-98.49\" font-family=\"Times,serif\" font-size=\"14.00\">1 </text>\n</g>\n<!-- F1_F0 -->\n<g id=\"node4\" class=\"node\">\n<title>F1_F0</title>\n<ellipse fill=\"none\" stroke=\"black\" cx=\"437.68\" cy=\"-38.35\" rx=\"33.62\" ry=\"33.62\"/>\n<ellipse fill=\"none\" stroke=\"black\" cx=\"437.68\" cy=\"-38.35\" rx=\"37.6\" ry=\"37.6\"/>\n<text text-anchor=\"middle\" x=\"437.68\" y=\"-34.65\" font-family=\"Times,serif\" font-size=\"14.00\">F1_F0</text>\n</g>\n<!-- St4_St5&#45;&gt;F1_F0 -->\n<g id=\"edge4\" class=\"edge\">\n<title>St4_St5&#45;&gt;F1_F0</title>\n<path fill=\"none\" stroke=\"black\" d=\"M353.21,-38.35C364.7,-38.35 377.49,-38.35 389.53,-38.35\"/>\n<polygon fill=\"black\" stroke=\"black\" points=\"389.87,-41.85 399.87,-38.35 389.87,-34.85 389.87,-41.85\"/>\n<text text-anchor=\"middle\" x=\"376.39\" y=\"-42.15\" font-family=\"Times,serif\" font-size=\"14.00\">0 </text>\n</g>\n<!-- F1_F0&#45;&gt;St4_St5 -->\n<g id=\"edge8\" class=\"edge\">\n<title>F1_F0&#45;&gt;St4_St5</title>\n<path fill=\"none\" stroke=\"black\" d=\"M402.35,-24.5C395.67,-22.36 388.64,-20.48 381.89,-19.35 374.58,-18.12 366.92,-18.59 359.52,-20.02\"/>\n<polygon fill=\"black\" stroke=\"black\" points=\"358.49,-16.66 349.64,-22.48 360.19,-23.46 358.49,-16.66\"/>\n<text text-anchor=\"middle\" x=\"376.39\" y=\"-23.15\" font-family=\"Times,serif\" font-size=\"14.00\">0 </text>\n</g>\n<!-- F1_F0&#45;&gt;F1_F0 -->\n<g id=\"edge9\" class=\"edge\">\n<title>F1_F0&#45;&gt;F1_F0</title>\n<path fill=\"none\" stroke=\"black\" d=\"M426.45,-74.57C426.73,-85.56 430.48,-94.14 437.68,-94.14 442.41,-94.14 445.65,-90.45 447.4,-84.8\"/>\n<polygon fill=\"black\" stroke=\"black\" points=\"450.91,-84.98 448.92,-74.57 443.99,-83.95 450.91,-84.98\"/>\n<text text-anchor=\"middle\" x=\"437.68\" y=\"-97.94\" font-family=\"Times,serif\" font-size=\"14.00\">1 </text>\n</g>\n<!-- IF&#45;&gt;St3 -->\n<g id=\"edge2\" class=\"edge\">\n<title>IF&#45;&gt;St3</title>\n<path fill=\"none\" stroke=\"black\" d=\"M134.95,-47.22C147.04,-52.56 162.62,-59.44 176.07,-65.38\"/>\n<polygon fill=\"black\" stroke=\"black\" points=\"174.83,-68.66 185.39,-69.49 177.66,-62.25 174.83,-68.66\"/>\n<text text-anchor=\"middle\" x=\"160.2\" y=\"-64.15\" font-family=\"Times,serif\" font-size=\"14.00\">1 </text>\n</g>\n<!-- IF&#45;&gt;St4_St5 -->\n<g id=\"edge3\" class=\"edge\">\n<title>IF&#45;&gt;St4_St5</title>\n<path fill=\"none\" stroke=\"black\" d=\"M136.82,-35.54C150.32,-33.96 167.98,-32.14 183.7,-31.35 211.02,-29.96 241.57,-31.46 266.17,-33.41\"/>\n<polygon fill=\"black\" stroke=\"black\" points=\"266.06,-36.92 276.32,-34.28 266.65,-29.94 266.06,-36.92\"/>\n<text text-anchor=\"middle\" x=\"206.44\" y=\"-35.15\" font-family=\"Times,serif\" font-size=\"14.00\">0 </text>\n</g>\n</g>\n</svg>\n",
            "text/plain": [
              "<graphviz.graphs.Digraph at 0x78f894391cc0>"
            ]
          },
          "metadata": {},
          "execution_count": 24
        }
      ],
      "source": [
        "dotObj_dfa(dfa_min)"
      ]
    },
    {
      "cell_type": "code",
      "execution_count": 25,
      "metadata": {
        "id": "tVABLk95aGbv"
      },
      "outputs": [],
      "source": [
        "mEven0_mOdd0 = intersect_dfa(m2,m3)"
      ]
    },
    {
      "cell_type": "code",
      "execution_count": 26,
      "metadata": {
        "id": "TDq1srxyaGbv",
        "outputId": "0932fe71-98e7-4638-ac09-709f19eee80a",
        "colab": {
          "base_uri": "https://localhost:8080/",
          "height": 300
        }
      },
      "outputs": [
        {
          "output_type": "execute_result",
          "data": {
            "image/svg+xml": "<?xml version=\"1.0\" encoding=\"UTF-8\" standalone=\"no\"?>\n<!DOCTYPE svg PUBLIC \"-//W3C//DTD SVG 1.1//EN\"\n \"http://www.w3.org/Graphics/SVG/1.1/DTD/svg11.dtd\">\n<!-- Generated by graphviz version 2.43.0 (0)\n -->\n<!-- Title: %3 Pages: 1 -->\n<svg width=\"1151pt\" height=\"194pt\"\n viewBox=\"0.00 0.00 1151.14 194.39\" xmlns=\"http://www.w3.org/2000/svg\" xmlns:xlink=\"http://www.w3.org/1999/xlink\">\n<g id=\"graph0\" class=\"graph\" transform=\"scale(1 1) rotate(0) translate(4 190.39)\">\n<title>%3</title>\n<polygon fill=\"white\" stroke=\"transparent\" points=\"-4,4 -4,-190.39 1147.14,-190.39 1147.14,4 -4,4\"/>\n<!-- EMPTY -->\n<g id=\"node1\" class=\"node\">\n<title>EMPTY</title>\n</g>\n<!-- \\(St2_St2\\) -->\n<g id=\"node9\" class=\"node\">\n<title>\\(St2_St2\\)</title>\n<ellipse fill=\"none\" stroke=\"black\" cx=\"139.2\" cy=\"-48.2\" rx=\"44.38\" ry=\"44.38\"/>\n<ellipse fill=\"none\" stroke=\"black\" cx=\"139.2\" cy=\"-48.2\" rx=\"48.39\" ry=\"48.39\"/>\n<text text-anchor=\"middle\" x=\"139.2\" y=\"-44.5\" font-family=\"Times,serif\" font-size=\"14.00\">(St2_St2)</text>\n</g>\n<!-- EMPTY&#45;&gt;\\(St2_St2\\) -->\n<g id=\"edge1\" class=\"edge\">\n<title>EMPTY&#45;&gt;\\(St2_St2\\)</title>\n<path fill=\"none\" stroke=\"black\" d=\"M54.11,-48.2C62.15,-48.2 71.34,-48.2 80.63,-48.2\"/>\n<polygon fill=\"black\" stroke=\"black\" points=\"80.69,-51.7 90.69,-48.2 80.69,-44.7 80.69,-51.7\"/>\n</g>\n<!-- \\(St1_St7\\) -->\n<g id=\"node2\" class=\"node\">\n<title>\\(St1_St7\\)</title>\n<ellipse fill=\"none\" stroke=\"black\" cx=\"820.16\" cy=\"-104.2\" rx=\"44.39\" ry=\"44.39\"/>\n<text text-anchor=\"middle\" x=\"820.16\" y=\"-100.5\" font-family=\"Times,serif\" font-size=\"14.00\">(St1_St7)</text>\n</g>\n<!-- \\(St1_St7\\)&#45;&gt;\\(St1_St7\\) -->\n<g id=\"edge4\" class=\"edge\">\n<title>\\(St1_St7\\)&#45;&gt;\\(St1_St7\\)</title>\n<path fill=\"none\" stroke=\"black\" d=\"M807.91,-146.93C808.66,-158.02 812.74,-166.39 820.16,-166.39 825.14,-166.39 828.61,-162.62 830.59,-156.77\"/>\n<polygon fill=\"black\" stroke=\"black\" points=\"834.03,-157.4 832.4,-146.93 827.15,-156.13 834.03,-157.4\"/>\n<text text-anchor=\"middle\" x=\"820.16\" y=\"-170.19\" font-family=\"Times,serif\" font-size=\"14.00\">1 </text>\n</g>\n<!-- \\(St4_St4\\) -->\n<g id=\"node6\" class=\"node\">\n<title>\\(St4_St4\\)</title>\n<ellipse fill=\"none\" stroke=\"black\" cx=\"955.55\" cy=\"-104.2\" rx=\"44.39\" ry=\"44.39\"/>\n<text text-anchor=\"middle\" x=\"955.55\" y=\"-100.5\" font-family=\"Times,serif\" font-size=\"14.00\">(St4_St4)</text>\n</g>\n<!-- \\(St1_St7\\)&#45;&gt;\\(St4_St4\\) -->\n<g id=\"edge10\" class=\"edge\">\n<title>\\(St1_St7\\)&#45;&gt;\\(St4_St4\\)</title>\n<path fill=\"none\" stroke=\"black\" d=\"M864.47,-104.2C876.11,-104.2 888.85,-104.2 900.99,-104.2\"/>\n<polygon fill=\"black\" stroke=\"black\" points=\"901,-107.7 911,-104.2 901,-100.7 901,-107.7\"/>\n<text text-anchor=\"middle\" x=\"887.85\" y=\"-108\" font-family=\"Times,serif\" font-size=\"14.00\">0 </text>\n</g>\n<!-- \\(St1_St4\\) -->\n<g id=\"node3\" class=\"node\">\n<title>\\(St1_St4\\)</title>\n<ellipse fill=\"none\" stroke=\"black\" cx=\"549.37\" cy=\"-104.2\" rx=\"44.39\" ry=\"44.39\"/>\n<text text-anchor=\"middle\" x=\"549.37\" y=\"-100.5\" font-family=\"Times,serif\" font-size=\"14.00\">(St1_St4)</text>\n</g>\n<!-- \\(St1_St4\\)&#45;&gt;\\(St1_St4\\) -->\n<g id=\"edge14\" class=\"edge\">\n<title>\\(St1_St4\\)&#45;&gt;\\(St1_St4\\)</title>\n<path fill=\"none\" stroke=\"black\" d=\"M537.13,-146.93C537.88,-158.02 541.96,-166.39 549.37,-166.39 554.35,-166.39 557.83,-162.62 559.8,-156.77\"/>\n<polygon fill=\"black\" stroke=\"black\" points=\"563.25,-157.4 561.62,-146.93 556.36,-156.13 563.25,-157.4\"/>\n<text text-anchor=\"middle\" x=\"549.37\" y=\"-170.19\" font-family=\"Times,serif\" font-size=\"14.00\">1 </text>\n</g>\n<!-- \\(St4_St1\\) -->\n<g id=\"node7\" class=\"node\">\n<title>\\(St4_St1\\)</title>\n<ellipse fill=\"none\" stroke=\"black\" cx=\"684.76\" cy=\"-104.2\" rx=\"44.39\" ry=\"44.39\"/>\n<text text-anchor=\"middle\" x=\"684.76\" y=\"-100.5\" font-family=\"Times,serif\" font-size=\"14.00\">(St4_St1)</text>\n</g>\n<!-- \\(St1_St4\\)&#45;&gt;\\(St4_St1\\) -->\n<g id=\"edge5\" class=\"edge\">\n<title>\\(St1_St4\\)&#45;&gt;\\(St4_St1\\)</title>\n<path fill=\"none\" stroke=\"black\" d=\"M593.68,-104.2C605.33,-104.2 618.07,-104.2 630.2,-104.2\"/>\n<polygon fill=\"black\" stroke=\"black\" points=\"630.22,-107.7 640.22,-104.2 630.22,-100.7 630.22,-107.7\"/>\n<text text-anchor=\"middle\" x=\"617.07\" y=\"-108\" font-family=\"Times,serif\" font-size=\"14.00\">0 </text>\n</g>\n<!-- \\(St3_St3\\) -->\n<g id=\"node4\" class=\"node\">\n<title>\\(St3_St3\\)</title>\n<ellipse fill=\"none\" stroke=\"black\" cx=\"278.59\" cy=\"-109.2\" rx=\"44.39\" ry=\"44.39\"/>\n<text text-anchor=\"middle\" x=\"278.59\" y=\"-105.5\" font-family=\"Times,serif\" font-size=\"14.00\">(St3_St3)</text>\n</g>\n<!-- \\(St3_St3\\)&#45;&gt;\\(St3_St3\\) -->\n<g id=\"edge11\" class=\"edge\">\n<title>\\(St3_St3\\)&#45;&gt;\\(St3_St3\\)</title>\n<path fill=\"none\" stroke=\"black\" d=\"M266.34,-151.93C267.09,-163.02 271.18,-171.39 278.59,-171.39 283.57,-171.39 287.05,-167.62 289.02,-161.77\"/>\n<polygon fill=\"black\" stroke=\"black\" points=\"292.46,-162.4 290.84,-151.93 285.58,-161.13 292.46,-162.4\"/>\n<text text-anchor=\"middle\" x=\"278.59\" y=\"-175.19\" font-family=\"Times,serif\" font-size=\"14.00\">1 </text>\n</g>\n<!-- \\(St4_St7\\) -->\n<g id=\"node5\" class=\"node\">\n<title>\\(St4_St7\\)</title>\n<ellipse fill=\"none\" stroke=\"black\" cx=\"413.98\" cy=\"-48.2\" rx=\"44.39\" ry=\"44.39\"/>\n<text text-anchor=\"middle\" x=\"413.98\" y=\"-44.5\" font-family=\"Times,serif\" font-size=\"14.00\">(St4_St7)</text>\n</g>\n<!-- \\(St3_St3\\)&#45;&gt;\\(St4_St7\\) -->\n<g id=\"edge9\" class=\"edge\">\n<title>\\(St3_St3\\)&#45;&gt;\\(St4_St7\\)</title>\n<path fill=\"none\" stroke=\"black\" d=\"M319.25,-91.06C333.23,-84.66 349.13,-77.4 363.81,-70.68\"/>\n<polygon fill=\"black\" stroke=\"black\" points=\"365.6,-73.71 373.24,-66.37 362.69,-67.34 365.6,-73.71\"/>\n<text text-anchor=\"middle\" x=\"346.28\" y=\"-84\" font-family=\"Times,serif\" font-size=\"14.00\">0 </text>\n</g>\n<!-- \\(St4_St7\\)&#45;&gt;\\(St1_St4\\) -->\n<g id=\"edge7\" class=\"edge\">\n<title>\\(St4_St7\\)&#45;&gt;\\(St1_St4\\)</title>\n<path fill=\"none\" stroke=\"black\" d=\"M455,-65C468.85,-70.81 484.54,-77.4 499.05,-83.49\"/>\n<polygon fill=\"black\" stroke=\"black\" points=\"497.8,-86.76 508.38,-87.41 500.51,-80.31 497.8,-86.76\"/>\n<text text-anchor=\"middle\" x=\"481.68\" y=\"-81\" font-family=\"Times,serif\" font-size=\"14.00\">0 </text>\n</g>\n<!-- \\(St4_St7\\)&#45;&gt;\\(St4_St7\\) -->\n<g id=\"edge2\" class=\"edge\">\n<title>\\(St4_St7\\)&#45;&gt;\\(St4_St7\\)</title>\n<path fill=\"none\" stroke=\"black\" d=\"M401.73,-90.93C402.49,-102.02 406.57,-110.39 413.98,-110.39 418.96,-110.39 422.44,-106.62 424.41,-100.77\"/>\n<polygon fill=\"black\" stroke=\"black\" points=\"427.85,-101.4 426.23,-90.93 420.97,-100.13 427.85,-101.4\"/>\n<text text-anchor=\"middle\" x=\"413.98\" y=\"-114.19\" font-family=\"Times,serif\" font-size=\"14.00\">1 </text>\n</g>\n<!-- \\(St4_St4\\)&#45;&gt;\\(St4_St4\\) -->\n<g id=\"edge15\" class=\"edge\">\n<title>\\(St4_St4\\)&#45;&gt;\\(St4_St4\\)</title>\n<path fill=\"none\" stroke=\"black\" d=\"M943.3,-146.93C944.05,-158.02 948.14,-166.39 955.55,-166.39 960.53,-166.39 964.01,-162.62 965.98,-156.77\"/>\n<polygon fill=\"black\" stroke=\"black\" points=\"969.42,-157.4 967.8,-146.93 962.54,-156.13 969.42,-157.4\"/>\n<text text-anchor=\"middle\" x=\"955.55\" y=\"-170.19\" font-family=\"Times,serif\" font-size=\"14.00\">1 </text>\n</g>\n<!-- \\(St1_St1\\) -->\n<g id=\"node8\" class=\"node\">\n<title>\\(St1_St1\\)</title>\n<ellipse fill=\"none\" stroke=\"black\" cx=\"1094.94\" cy=\"-48.2\" rx=\"44.38\" ry=\"44.38\"/>\n<ellipse fill=\"none\" stroke=\"black\" cx=\"1094.94\" cy=\"-48.2\" rx=\"48.39\" ry=\"48.39\"/>\n<text text-anchor=\"middle\" x=\"1094.94\" y=\"-44.5\" font-family=\"Times,serif\" font-size=\"14.00\">(St1_St1)</text>\n</g>\n<!-- \\(St4_St4\\)&#45;&gt;\\(St1_St1\\) -->\n<g id=\"edge8\" class=\"edge\">\n<title>\\(St4_St4\\)&#45;&gt;\\(St1_St1\\)</title>\n<path fill=\"none\" stroke=\"black\" d=\"M996.66,-87.85C1010.3,-82.29 1025.78,-75.98 1040.31,-70.06\"/>\n<polygon fill=\"black\" stroke=\"black\" points=\"1041.75,-73.25 1049.69,-66.23 1039.11,-66.77 1041.75,-73.25\"/>\n<text text-anchor=\"middle\" x=\"1023.25\" y=\"-81\" font-family=\"Times,serif\" font-size=\"14.00\">0 </text>\n</g>\n<!-- \\(St4_St1\\)&#45;&gt;\\(St1_St7\\) -->\n<g id=\"edge16\" class=\"edge\">\n<title>\\(St4_St1\\)&#45;&gt;\\(St1_St7\\)</title>\n<path fill=\"none\" stroke=\"black\" d=\"M729.07,-104.2C740.72,-104.2 753.46,-104.2 765.6,-104.2\"/>\n<polygon fill=\"black\" stroke=\"black\" points=\"765.61,-107.7 775.61,-104.2 765.61,-100.7 765.61,-107.7\"/>\n<text text-anchor=\"middle\" x=\"752.46\" y=\"-108\" font-family=\"Times,serif\" font-size=\"14.00\">0 </text>\n</g>\n<!-- \\(St4_St1\\)&#45;&gt;\\(St4_St1\\) -->\n<g id=\"edge13\" class=\"edge\">\n<title>\\(St4_St1\\)&#45;&gt;\\(St4_St1\\)</title>\n<path fill=\"none\" stroke=\"black\" d=\"M672.52,-146.93C673.27,-158.02 677.35,-166.39 684.76,-166.39 689.74,-166.39 693.22,-162.62 695.2,-156.77\"/>\n<polygon fill=\"black\" stroke=\"black\" points=\"698.64,-157.4 697.01,-146.93 691.76,-156.13 698.64,-157.4\"/>\n<text text-anchor=\"middle\" x=\"684.76\" y=\"-170.19\" font-family=\"Times,serif\" font-size=\"14.00\">1 </text>\n</g>\n<!-- \\(St1_St1\\)&#45;&gt;\\(St4_St7\\) -->\n<g id=\"edge17\" class=\"edge\">\n<title>\\(St1_St1\\)&#45;&gt;\\(St4_St7\\)</title>\n<path fill=\"none\" stroke=\"black\" d=\"M1047.36,-40.06C1020.83,-36.1 986.93,-32.2 956.55,-32.2 548.37,-32.2 548.37,-32.2 548.37,-32.2 521.74,-32.2 492.33,-35.38 467.91,-38.91\"/>\n<polygon fill=\"black\" stroke=\"black\" points=\"467.15,-35.48 457.78,-40.43 468.19,-42.4 467.15,-35.48\"/>\n<text text-anchor=\"middle\" x=\"752.46\" y=\"-36\" font-family=\"Times,serif\" font-size=\"14.00\">0 </text>\n</g>\n<!-- \\(St1_St1\\)&#45;&gt;\\(St1_St1\\) -->\n<g id=\"edge3\" class=\"edge\">\n<title>\\(St1_St1\\)&#45;&gt;\\(St1_St1\\)</title>\n<path fill=\"none\" stroke=\"black\" d=\"M1082.05,-94.9C1083.06,-106.1 1087.35,-114.39 1094.94,-114.39 1100.04,-114.39 1103.65,-110.65 1105.78,-104.79\"/>\n<polygon fill=\"black\" stroke=\"black\" points=\"1109.23,-105.4 1107.83,-94.9 1102.37,-103.98 1109.23,-105.4\"/>\n<text text-anchor=\"middle\" x=\"1094.94\" y=\"-118.19\" font-family=\"Times,serif\" font-size=\"14.00\">1 </text>\n</g>\n<!-- \\(St2_St2\\)&#45;&gt;\\(St3_St3\\) -->\n<g id=\"edge6\" class=\"edge\">\n<title>\\(St2_St2\\)&#45;&gt;\\(St3_St3\\)</title>\n<path fill=\"none\" stroke=\"black\" d=\"M183.67,-67.5C197.86,-73.8 213.71,-80.84 228.29,-87.31\"/>\n<polygon fill=\"black\" stroke=\"black\" points=\"227.1,-90.61 237.66,-91.47 229.94,-84.21 227.1,-90.61\"/>\n<text text-anchor=\"middle\" x=\"210.89\" y=\"-84\" font-family=\"Times,serif\" font-size=\"14.00\">1 </text>\n</g>\n<!-- \\(St2_St2\\)&#45;&gt;\\(St4_St7\\) -->\n<g id=\"edge12\" class=\"edge\">\n<title>\\(St2_St2\\)&#45;&gt;\\(St4_St7\\)</title>\n<path fill=\"none\" stroke=\"black\" d=\"M187.59,-43.98C202.55,-42.84 219.15,-41.76 234.39,-41.2 273.65,-39.74 283.53,-39.68 322.78,-41.2 334.8,-41.66 347.7,-42.47 359.87,-43.39\"/>\n<polygon fill=\"black\" stroke=\"black\" points=\"359.65,-46.88 369.89,-44.17 360.2,-39.9 359.65,-46.88\"/>\n<text text-anchor=\"middle\" x=\"278.59\" y=\"-45\" font-family=\"Times,serif\" font-size=\"14.00\">0 </text>\n</g>\n</g>\n</svg>\n",
            "text/plain": [
              "<graphviz.graphs.Digraph at 0x78f894391a50>"
            ]
          },
          "metadata": {},
          "execution_count": 26
        }
      ],
      "source": [
        "dotObj_dfa(mEven0_mOdd0)"
      ]
    },
    {
      "cell_type": "code",
      "execution_count": 27,
      "metadata": {
        "id": "OWYLdOp1aGbv",
        "outputId": "bc20dcad-202f-42fa-f0f9-0e2fac273cea",
        "colab": {
          "base_uri": "https://localhost:8080/",
          "height": 35
        }
      },
      "outputs": [
        {
          "output_type": "execute_result",
          "data": {
            "text/plain": [
              "'m2_and_m3.pdf'"
            ],
            "application/vnd.google.colaboratory.intrinsic+json": {
              "type": "string"
            }
          },
          "metadata": {},
          "execution_count": 27
        }
      ],
      "source": [
        "dotObj_dfa(mEven0_mOdd0).render('m2_and_m3')"
      ]
    },
    {
      "cell_type": "code",
      "execution_count": 28,
      "metadata": {
        "id": "em-SzKJYaGbv",
        "outputId": "4e4f1410-cfe7-40b2-e5aa-535c26eddb78",
        "colab": {
          "base_uri": "https://localhost:8080/",
          "height": 368
        }
      },
      "outputs": [
        {
          "output_type": "execute_result",
          "data": {
            "image/svg+xml": "<?xml version=\"1.0\" encoding=\"UTF-8\" standalone=\"no\"?>\n<!DOCTYPE svg PUBLIC \"-//W3C//DTD SVG 1.1//EN\"\n \"http://www.w3.org/Graphics/SVG/1.1/DTD/svg11.dtd\">\n<!-- Generated by graphviz version 2.43.0 (0)\n -->\n<!-- Title: %3 Pages: 1 -->\n<svg width=\"428pt\" height=\"260pt\"\n viewBox=\"0.00 0.00 427.98 260.50\" xmlns=\"http://www.w3.org/2000/svg\" xmlns:xlink=\"http://www.w3.org/1999/xlink\">\n<g id=\"graph0\" class=\"graph\" transform=\"scale(1 1) rotate(0) translate(4 256.5)\">\n<title>%3</title>\n<polygon fill=\"white\" stroke=\"transparent\" points=\"-4,4 -4,-256.5 423.98,-256.5 423.98,4 -4,4\"/>\n<!-- EMPTY -->\n<g id=\"node1\" class=\"node\">\n<title>EMPTY</title>\n</g>\n<!-- St3 -->\n<g id=\"node2\" class=\"node\">\n<title>St3</title>\n<ellipse fill=\"none\" stroke=\"black\" cx=\"113.75\" cy=\"-81.75\" rx=\"23\" ry=\"23\"/>\n<text text-anchor=\"middle\" x=\"113.75\" y=\"-78.05\" font-family=\"Times,serif\" font-size=\"14.00\">St3</text>\n</g>\n<!-- EMPTY&#45;&gt;St3 -->\n<g id=\"edge1\" class=\"edge\">\n<title>EMPTY&#45;&gt;St3</title>\n<path fill=\"none\" stroke=\"black\" d=\"M54.35,-81.75C62.71,-81.75 72.05,-81.75 80.76,-81.75\"/>\n<polygon fill=\"black\" stroke=\"black\" points=\"80.97,-85.25 90.97,-81.75 80.97,-78.25 80.97,-85.25\"/>\n</g>\n<!-- St1 -->\n<g id=\"node4\" class=\"node\">\n<title>St1</title>\n<ellipse fill=\"none\" stroke=\"black\" cx=\"204.24\" cy=\"-22.75\" rx=\"23\" ry=\"23\"/>\n<text text-anchor=\"middle\" x=\"204.24\" y=\"-19.05\" font-family=\"Times,serif\" font-size=\"14.00\">St1</text>\n</g>\n<!-- St3&#45;&gt;St1 -->\n<g id=\"edge2\" class=\"edge\">\n<title>St3&#45;&gt;St1</title>\n<path fill=\"none\" stroke=\"black\" d=\"M132.34,-68.45C139.18,-63.41 147.12,-57.7 154.5,-52.75 161.08,-48.33 168.29,-43.76 175.1,-39.55\"/>\n<polygon fill=\"black\" stroke=\"black\" points=\"177.33,-42.29 184.04,-34.09 173.68,-36.31 177.33,-42.29\"/>\n<text text-anchor=\"middle\" x=\"159\" y=\"-56.55\" font-family=\"Times,serif\" font-size=\"14.00\">&#39;&#39; </text>\n</g>\n<!-- St6 -->\n<g id=\"node5\" class=\"node\">\n<title>St6</title>\n<ellipse fill=\"none\" stroke=\"black\" cx=\"204.24\" cy=\"-144.75\" rx=\"23\" ry=\"23\"/>\n<text text-anchor=\"middle\" x=\"204.24\" y=\"-141.05\" font-family=\"Times,serif\" font-size=\"14.00\">St6</text>\n</g>\n<!-- St3&#45;&gt;St6 -->\n<g id=\"edge3\" class=\"edge\">\n<title>St3&#45;&gt;St6</title>\n<path fill=\"none\" stroke=\"black\" d=\"M132.66,-94.5C145.37,-103.55 162.65,-115.85 176.93,-126.01\"/>\n<polygon fill=\"black\" stroke=\"black\" points=\"175.19,-129.07 185.36,-132.02 179.25,-123.37 175.19,-129.07\"/>\n<text text-anchor=\"middle\" x=\"159\" y=\"-119.55\" font-family=\"Times,serif\" font-size=\"14.00\">&#39;&#39; </text>\n</g>\n<!-- St2 -->\n<g id=\"node3\" class=\"node\">\n<title>St2</title>\n<ellipse fill=\"none\" stroke=\"black\" cx=\"296.74\" cy=\"-41.75\" rx=\"23\" ry=\"23\"/>\n<text text-anchor=\"middle\" x=\"296.74\" y=\"-38.05\" font-family=\"Times,serif\" font-size=\"14.00\">St2</text>\n</g>\n<!-- St2&#45;&gt;St3 -->\n<g id=\"edge5\" class=\"edge\">\n<title>St2&#45;&gt;St3</title>\n<path fill=\"none\" stroke=\"black\" d=\"M274.77,-47.84C268.73,-49.51 262.12,-51.27 255.99,-52.75 218.49,-61.78 174.97,-70.44 146.25,-75.91\"/>\n<polygon fill=\"black\" stroke=\"black\" points=\"145.56,-72.48 136.38,-77.78 146.86,-79.36 145.56,-72.48\"/>\n<text text-anchor=\"middle\" x=\"204.24\" y=\"-72.55\" font-family=\"Times,serif\" font-size=\"14.00\">&#39;&#39; </text>\n</g>\n<!-- St1&#45;&gt;St2 -->\n<g id=\"edge4\" class=\"edge\">\n<title>St1&#45;&gt;St2</title>\n<path fill=\"none\" stroke=\"black\" d=\"M226.69,-27.25C237.88,-29.6 251.78,-32.52 264.17,-35.12\"/>\n<polygon fill=\"black\" stroke=\"black\" points=\"263.63,-38.58 274.13,-37.21 265.07,-31.73 263.63,-38.58\"/>\n<text text-anchor=\"middle\" x=\"250.49\" y=\"-37.55\" font-family=\"Times,serif\" font-size=\"14.00\">0 </text>\n</g>\n<!-- St4 -->\n<g id=\"node7\" class=\"node\">\n<title>St4</title>\n<ellipse fill=\"none\" stroke=\"black\" cx=\"296.74\" cy=\"-162.75\" rx=\"23\" ry=\"23\"/>\n<text text-anchor=\"middle\" x=\"296.74\" y=\"-159.05\" font-family=\"Times,serif\" font-size=\"14.00\">St4</text>\n</g>\n<!-- St6&#45;&gt;St4 -->\n<g id=\"edge6\" class=\"edge\">\n<title>St6&#45;&gt;St4</title>\n<path fill=\"none\" stroke=\"black\" d=\"M226.69,-149.01C237.88,-151.24 251.78,-154 264.17,-156.47\"/>\n<polygon fill=\"black\" stroke=\"black\" points=\"263.64,-159.93 274.13,-158.45 265.01,-153.07 263.64,-159.93\"/>\n<text text-anchor=\"middle\" x=\"250.49\" y=\"-159.55\" font-family=\"Times,serif\" font-size=\"14.00\">&#39;&#39; </text>\n</g>\n<!-- St7 -->\n<g id=\"node8\" class=\"node\">\n<title>St7</title>\n<ellipse fill=\"none\" stroke=\"black\" cx=\"296.74\" cy=\"-225.75\" rx=\"23\" ry=\"23\"/>\n<text text-anchor=\"middle\" x=\"296.74\" y=\"-222.05\" font-family=\"Times,serif\" font-size=\"14.00\">St7</text>\n</g>\n<!-- St6&#45;&gt;St7 -->\n<g id=\"edge7\" class=\"edge\">\n<title>St6&#45;&gt;St7</title>\n<path fill=\"none\" stroke=\"black\" d=\"M221.84,-159.6C235.75,-172.05 255.78,-189.98 271.49,-204.04\"/>\n<polygon fill=\"black\" stroke=\"black\" points=\"269.46,-206.92 279.25,-210.99 274.13,-201.71 269.46,-206.92\"/>\n<text text-anchor=\"middle\" x=\"250.49\" y=\"-194.55\" font-family=\"Times,serif\" font-size=\"14.00\">&#39;&#39; </text>\n</g>\n<!-- St5 -->\n<g id=\"node6\" class=\"node\">\n<title>St5</title>\n<ellipse fill=\"none\" stroke=\"black\" cx=\"393.24\" cy=\"-132.75\" rx=\"23\" ry=\"23\"/>\n<text text-anchor=\"middle\" x=\"393.24\" y=\"-129.05\" font-family=\"Times,serif\" font-size=\"14.00\">St5</text>\n</g>\n<!-- St5&#45;&gt;St6 -->\n<g id=\"edge9\" class=\"edge\">\n<title>St5&#45;&gt;St6</title>\n<path fill=\"none\" stroke=\"black\" d=\"M371.61,-125.52C347.91,-118.21 307.94,-108.88 273.99,-115.75 260.17,-118.54 245.66,-124.21 233.56,-129.8\"/>\n<polygon fill=\"black\" stroke=\"black\" points=\"231.91,-126.7 224.43,-134.2 234.96,-133.01 231.91,-126.7\"/>\n<text text-anchor=\"middle\" x=\"296.74\" y=\"-119.55\" font-family=\"Times,serif\" font-size=\"14.00\">&#39;&#39; </text>\n</g>\n<!-- St4&#45;&gt;St5 -->\n<g id=\"edge8\" class=\"edge\">\n<title>St4&#45;&gt;St5</title>\n<path fill=\"none\" stroke=\"black\" d=\"M318.71,-156.09C331.31,-152.09 347.57,-146.93 361.59,-142.48\"/>\n<polygon fill=\"black\" stroke=\"black\" points=\"362.85,-145.75 371.32,-139.39 360.73,-139.08 362.85,-145.75\"/>\n<text text-anchor=\"middle\" x=\"342.99\" y=\"-153.55\" font-family=\"Times,serif\" font-size=\"14.00\">1 </text>\n</g>\n<!-- St8 -->\n<g id=\"node9\" class=\"node\">\n<title>St8</title>\n<ellipse fill=\"none\" stroke=\"black\" cx=\"393.24\" cy=\"-225.75\" rx=\"22.96\" ry=\"22.96\"/>\n<ellipse fill=\"none\" stroke=\"black\" cx=\"393.24\" cy=\"-225.75\" rx=\"27\" ry=\"27\"/>\n<text text-anchor=\"middle\" x=\"393.24\" y=\"-222.05\" font-family=\"Times,serif\" font-size=\"14.00\">St8</text>\n</g>\n<!-- St7&#45;&gt;St8 -->\n<g id=\"edge10\" class=\"edge\">\n<title>St7&#45;&gt;St8</title>\n<path fill=\"none\" stroke=\"black\" d=\"M319.66,-225.75C330.56,-225.75 344.02,-225.75 356.38,-225.75\"/>\n<polygon fill=\"black\" stroke=\"black\" points=\"356.41,-229.25 366.41,-225.75 356.41,-222.25 356.41,-229.25\"/>\n<text text-anchor=\"middle\" x=\"342.99\" y=\"-229.55\" font-family=\"Times,serif\" font-size=\"14.00\">0 </text>\n</g>\n</g>\n</svg>\n",
            "text/plain": [
              "<graphviz.graphs.Digraph at 0x78f894390d60>"
            ]
          },
          "metadata": {},
          "execution_count": 28
        }
      ],
      "source": [
        "nfa0s1s0 = re2nfa(\"0* 1* 0\")\n",
        "dotObj_nfa(nfa0s1s0)"
      ]
    },
    {
      "cell_type": "code",
      "execution_count": 29,
      "metadata": {
        "id": "A1lwIAvoaGbw",
        "outputId": "edce2f51-76ed-42e3-f676-1c5d0af3699e",
        "colab": {
          "base_uri": "https://localhost:8080/",
          "height": 35
        }
      },
      "outputs": [
        {
          "output_type": "execute_result",
          "data": {
            "text/plain": [
              "'nfa0s1s0.pdf'"
            ],
            "application/vnd.google.colaboratory.intrinsic+json": {
              "type": "string"
            }
          },
          "metadata": {},
          "execution_count": 29
        }
      ],
      "source": [
        "dotObj_nfa(nfa0s1s0).render('nfa0s1s0')"
      ]
    },
    {
      "cell_type": "code",
      "execution_count": 30,
      "metadata": {
        "id": "SJ9YjNIZaGbw"
      },
      "outputs": [],
      "source": [
        "dfa0s1s0 = nfa2dfa(nfa0s1s0, STATENAME_MAXSIZE=80)"
      ]
    },
    {
      "cell_type": "code",
      "execution_count": 31,
      "metadata": {
        "id": "OuTCB-K1aGbw",
        "outputId": "caebfde5-417d-4c17-8587-5d72c039281c",
        "colab": {
          "base_uri": "https://localhost:8080/",
          "height": 462
        }
      },
      "outputs": [
        {
          "output_type": "execute_result",
          "data": {
            "image/svg+xml": "<?xml version=\"1.0\" encoding=\"UTF-8\" standalone=\"no\"?>\n<!DOCTYPE svg PUBLIC \"-//W3C//DTD SVG 1.1//EN\"\n \"http://www.w3.org/Graphics/SVG/1.1/DTD/svg11.dtd\">\n<!-- Generated by graphviz version 2.43.0 (0)\n -->\n<!-- Title: %3 Pages: 1 -->\n<svg width=\"855pt\" height=\"331pt\"\n viewBox=\"0.00 0.00 855.25 330.94\" xmlns=\"http://www.w3.org/2000/svg\" xmlns:xlink=\"http://www.w3.org/1999/xlink\">\n<g id=\"graph0\" class=\"graph\" transform=\"scale(1 1) rotate(0) translate(4 326.94)\">\n<title>%3</title>\n<polygon fill=\"white\" stroke=\"transparent\" points=\"-4,4 -4,-326.94 851.25,-326.94 851.25,4 -4,4\"/>\n<!-- EMPTY -->\n<g id=\"node1\" class=\"node\">\n<title>EMPTY</title>\n</g>\n<!-- St1_St3_St4_St6_St7 -->\n<g id=\"node3\" class=\"node\">\n<title>St1_St3_St4_St6_St7</title>\n<ellipse fill=\"none\" stroke=\"black\" cx=\"178.09\" cy=\"-218.94\" rx=\"87.18\" ry=\"87.18\"/>\n<text text-anchor=\"middle\" x=\"178.09\" y=\"-215.24\" font-family=\"Times,serif\" font-size=\"14.00\">St1_St3_St4_St6_St7</text>\n</g>\n<!-- EMPTY&#45;&gt;St1_St3_St4_St6_St7 -->\n<g id=\"edge1\" class=\"edge\">\n<title>EMPTY&#45;&gt;St1_St3_St4_St6_St7</title>\n<path fill=\"none\" stroke=\"black\" d=\"M54.31,-218.94C62.13,-218.94 71.19,-218.94 80.77,-218.94\"/>\n<polygon fill=\"black\" stroke=\"black\" points=\"80.92,-222.44 90.92,-218.94 80.92,-215.44 80.92,-222.44\"/>\n</g>\n<!-- St4_St5_St6_St7 -->\n<g id=\"node2\" class=\"node\">\n<title>St4_St5_St6_St7</title>\n<ellipse fill=\"none\" stroke=\"black\" cx=\"675.91\" cy=\"-218.94\" rx=\"70.69\" ry=\"70.69\"/>\n<text text-anchor=\"middle\" x=\"675.91\" y=\"-215.24\" font-family=\"Times,serif\" font-size=\"14.00\">St4_St5_St6_St7</text>\n</g>\n<!-- St4_St5_St6_St7&#45;&gt;St4_St5_St6_St7 -->\n<g id=\"edge7\" class=\"edge\">\n<title>St4_St5_St6_St7&#45;&gt;St4_St5_St6_St7</title>\n<path fill=\"none\" stroke=\"black\" d=\"M659.45,-287.85C661.7,-299.63 667.19,-307.78 675.91,-307.78 681.9,-307.78 686.37,-303.93 689.3,-297.69\"/>\n<polygon fill=\"black\" stroke=\"black\" points=\"692.74,-298.44 692.36,-287.85 686.05,-296.37 692.74,-298.44\"/>\n<text text-anchor=\"middle\" x=\"675.91\" y=\"-311.58\" font-family=\"Times,serif\" font-size=\"14.00\">1 </text>\n</g>\n<!-- St8 -->\n<g id=\"node5\" class=\"node\">\n<title>St8</title>\n<ellipse fill=\"none\" stroke=\"black\" cx=\"820.5\" cy=\"-218.94\" rx=\"22.96\" ry=\"22.96\"/>\n<ellipse fill=\"none\" stroke=\"black\" cx=\"820.5\" cy=\"-218.94\" rx=\"27\" ry=\"27\"/>\n<text text-anchor=\"middle\" x=\"820.5\" y=\"-215.24\" font-family=\"Times,serif\" font-size=\"14.00\">St8</text>\n</g>\n<!-- St4_St5_St6_St7&#45;&gt;St8 -->\n<g id=\"edge6\" class=\"edge\">\n<title>St4_St5_St6_St7&#45;&gt;St8</title>\n<path fill=\"none\" stroke=\"black\" d=\"M746.95,-218.94C759.55,-218.94 772.19,-218.94 783.32,-218.94\"/>\n<polygon fill=\"black\" stroke=\"black\" points=\"783.47,-222.44 793.47,-218.94 783.47,-215.44 783.47,-222.44\"/>\n<text text-anchor=\"middle\" x=\"770.25\" y=\"-222.74\" font-family=\"Times,serif\" font-size=\"14.00\">0 </text>\n</g>\n<!-- St1_St3_St4_St6_St7&#45;&gt;St4_St5_St6_St7 -->\n<g id=\"edge3\" class=\"edge\">\n<title>St1_St3_St4_St6_St7&#45;&gt;St4_St5_St6_St7</title>\n<path fill=\"none\" stroke=\"black\" d=\"M252.28,-264.76C271.12,-274.31 291.83,-282.98 312.18,-287.94 418.35,-313.82 452.65,-316.74 558.06,-287.94 575.7,-283.12 593.39,-274.88 609.47,-265.73\"/>\n<polygon fill=\"black\" stroke=\"black\" points=\"611.39,-268.67 618.23,-260.58 607.84,-262.64 611.39,-268.67\"/>\n<text text-anchor=\"middle\" x=\"435.12\" y=\"-311.74\" font-family=\"Times,serif\" font-size=\"14.00\">1 </text>\n</g>\n<!-- St1_St2_St3_St4_St6_St7_St8 -->\n<g id=\"node4\" class=\"node\">\n<title>St1_St2_St3_St4_St6_St7_St8</title>\n<ellipse fill=\"none\" stroke=\"black\" cx=\"435.12\" cy=\"-122.94\" rx=\"118.88\" ry=\"118.88\"/>\n<ellipse fill=\"none\" stroke=\"black\" cx=\"435.12\" cy=\"-122.94\" rx=\"122.88\" ry=\"122.88\"/>\n<text text-anchor=\"middle\" x=\"435.12\" y=\"-119.24\" font-family=\"Times,serif\" font-size=\"14.00\">St1_St2_St3_St4_St6_St7_St8</text>\n</g>\n<!-- St1_St3_St4_St6_St7&#45;&gt;St1_St2_St3_St4_St6_St7_St8 -->\n<g id=\"edge2\" class=\"edge\">\n<title>St1_St3_St4_St6_St7&#45;&gt;St1_St2_St3_St4_St6_St7_St8</title>\n<path fill=\"none\" stroke=\"black\" d=\"M259.79,-188.56C275.92,-182.49 293.21,-175.98 310.4,-169.51\"/>\n<polygon fill=\"black\" stroke=\"black\" points=\"311.82,-172.72 319.94,-165.92 309.35,-166.17 311.82,-172.72\"/>\n<text text-anchor=\"middle\" x=\"288.68\" y=\"-182.74\" font-family=\"Times,serif\" font-size=\"14.00\">0 </text>\n</g>\n<!-- St1_St2_St3_St4_St6_St7_St8&#45;&gt;St4_St5_St6_St7 -->\n<g id=\"edge5\" class=\"edge\">\n<title>St1_St2_St3_St4_St6_St7_St8&#45;&gt;St4_St5_St6_St7</title>\n<path fill=\"none\" stroke=\"black\" d=\"M549.57,-168.55C566.87,-175.51 584.34,-182.53 600.52,-189.03\"/>\n<polygon fill=\"black\" stroke=\"black\" points=\"599.3,-192.31 609.88,-192.8 601.91,-185.82 599.3,-192.31\"/>\n<text text-anchor=\"middle\" x=\"581.56\" y=\"-185.74\" font-family=\"Times,serif\" font-size=\"14.00\">1 </text>\n</g>\n<!-- St1_St2_St3_St4_St6_St7_St8&#45;&gt;St1_St2_St3_St4_St6_St7_St8 -->\n<g id=\"edge4\" class=\"edge\">\n<title>St1_St2_St3_St4_St6_St7_St8&#45;&gt;St1_St2_St3_St4_St6_St7_St8</title>\n<path fill=\"none\" stroke=\"black\" d=\"M412.8,-244.23C417.28,-256.24 424.72,-263.88 435.12,-263.88 442.6,-263.88 448.55,-259.93 452.97,-253.25\"/>\n<polygon fill=\"black\" stroke=\"black\" points=\"456.14,-254.74 457.44,-244.23 449.86,-251.63 456.14,-254.74\"/>\n<text text-anchor=\"middle\" x=\"435.12\" y=\"-267.68\" font-family=\"Times,serif\" font-size=\"14.00\">0 </text>\n</g>\n</g>\n</svg>\n",
            "text/plain": [
              "<graphviz.graphs.Digraph at 0x78f894390a00>"
            ]
          },
          "metadata": {},
          "execution_count": 31
        }
      ],
      "source": [
        "dotObj_dfa(dfa0s1s0, STATENAME_MAXSIZE=80)"
      ]
    },
    {
      "cell_type": "code",
      "execution_count": 32,
      "metadata": {
        "id": "XWrZIQFZaGbw",
        "outputId": "656e83b3-edae-40cc-87ed-f93ff0bf003f",
        "colab": {
          "base_uri": "https://localhost:8080/",
          "height": 35
        }
      },
      "outputs": [
        {
          "output_type": "execute_result",
          "data": {
            "text/plain": [
              "'dfa0s1s0.pdf'"
            ],
            "application/vnd.google.colaboratory.intrinsic+json": {
              "type": "string"
            }
          },
          "metadata": {},
          "execution_count": 32
        }
      ],
      "source": [
        "dotObj_dfa(dfa0s1s0, STATENAME_MAXSIZE=80).render('dfa0s1s0')"
      ]
    },
    {
      "cell_type": "code",
      "execution_count": 32,
      "metadata": {
        "id": "ZtPRNFhoaGbw"
      },
      "outputs": [],
      "source": []
    },
    {
      "cell_type": "code",
      "execution_count": 32,
      "metadata": {
        "id": "SfoApC0GaGbw"
      },
      "outputs": [],
      "source": []
    },
    {
      "cell_type": "code",
      "execution_count": 33,
      "metadata": {
        "id": "SR5GqoOHaGbw",
        "outputId": "3ff857d8-bc5c-4380-9d5f-dd3e4671cf34",
        "colab": {
          "base_uri": "https://localhost:8080/"
        }
      },
      "outputs": [
        {
          "output_type": "stream",
          "name": "stderr",
          "text": [
            "Generating LALR tables\n"
          ]
        }
      ],
      "source": [
        "no010 = md2mc('''\n",
        "DFA\n",
        "IF : 1 -> IF\n",
        "IF : 0 -> F0\n",
        "\n",
        "F0 : 0 -> F0\n",
        "F0 : 1 -> F1\n",
        "\n",
        "F1 : 0 -> BH\n",
        "F1 : 1 -> IF\n",
        "\n",
        "BH : 0|1 -> BH\n",
        "\n",
        "''')"
      ]
    },
    {
      "cell_type": "code",
      "execution_count": 34,
      "metadata": {
        "id": "K65WBTvxaGbw",
        "outputId": "f04a49e8-b92a-412c-b01e-6643496cce47",
        "colab": {
          "base_uri": "https://localhost:8080/",
          "height": 201
        }
      },
      "outputs": [
        {
          "output_type": "execute_result",
          "data": {
            "image/svg+xml": "<?xml version=\"1.0\" encoding=\"UTF-8\" standalone=\"no\"?>\n<!DOCTYPE svg PUBLIC \"-//W3C//DTD SVG 1.1//EN\"\n \"http://www.w3.org/Graphics/SVG/1.1/DTD/svg11.dtd\">\n<!-- Generated by graphviz version 2.43.0 (0)\n -->\n<!-- Title: %3 Pages: 1 -->\n<svg width=\"335pt\" height=\"135pt\"\n viewBox=\"0.00 0.00 335.29 135.00\" xmlns=\"http://www.w3.org/2000/svg\" xmlns:xlink=\"http://www.w3.org/1999/xlink\">\n<g id=\"graph0\" class=\"graph\" transform=\"scale(1 1) rotate(0) translate(4 131)\">\n<title>%3</title>\n<polygon fill=\"white\" stroke=\"transparent\" points=\"-4,4 -4,-131 331.29,-131 331.29,4 -4,4\"/>\n<!-- EMPTY -->\n<g id=\"node1\" class=\"node\">\n<title>EMPTY</title>\n</g>\n<!-- IF -->\n<g id=\"node4\" class=\"node\">\n<title>IF</title>\n<ellipse fill=\"none\" stroke=\"black\" cx=\"113.85\" cy=\"-71.15\" rx=\"18.72\" ry=\"18.72\"/>\n<ellipse fill=\"none\" stroke=\"black\" cx=\"113.85\" cy=\"-71.15\" rx=\"22.7\" ry=\"22.7\"/>\n<text text-anchor=\"middle\" x=\"113.85\" y=\"-67.45\" font-family=\"Times,serif\" font-size=\"14.00\">IF</text>\n</g>\n<!-- EMPTY&#45;&gt;IF -->\n<g id=\"edge1\" class=\"edge\">\n<title>EMPTY&#45;&gt;IF</title>\n<path fill=\"none\" stroke=\"black\" d=\"M54.38,-71.15C62.68,-71.15 71.94,-71.15 80.6,-71.15\"/>\n<polygon fill=\"black\" stroke=\"black\" points=\"80.76,-74.65 90.76,-71.15 80.76,-67.65 80.76,-74.65\"/>\n</g>\n<!-- F1 -->\n<g id=\"node2\" class=\"node\">\n<title>F1</title>\n<ellipse fill=\"none\" stroke=\"black\" cx=\"303.14\" cy=\"-71.15\" rx=\"20.27\" ry=\"20.27\"/>\n<ellipse fill=\"none\" stroke=\"black\" cx=\"303.14\" cy=\"-71.15\" rx=\"24.3\" ry=\"24.3\"/>\n<text text-anchor=\"middle\" x=\"303.14\" y=\"-67.45\" font-family=\"Times,serif\" font-size=\"14.00\">F1</text>\n</g>\n<!-- F1&#45;&gt;IF -->\n<g id=\"edge6\" class=\"edge\">\n<title>F1&#45;&gt;IF</title>\n<path fill=\"none\" stroke=\"black\" d=\"M280.02,-78.76C266.36,-83.04 248.38,-87.97 231.99,-90.15 210.72,-92.98 204.97,-93.03 183.7,-90.15 170.96,-88.42 157.25,-84.98 145.45,-81.49\"/>\n<polygon fill=\"black\" stroke=\"black\" points=\"146.22,-78.07 135.64,-78.46 144.16,-84.76 146.22,-78.07\"/>\n<text text-anchor=\"middle\" x=\"207.84\" y=\"-95.95\" font-family=\"Times,serif\" font-size=\"14.00\">1 </text>\n</g>\n<!-- F0 -->\n<g id=\"node3\" class=\"node\">\n<title>F0</title>\n<ellipse fill=\"none\" stroke=\"black\" cx=\"207.84\" cy=\"-24.15\" rx=\"20.27\" ry=\"20.27\"/>\n<ellipse fill=\"none\" stroke=\"black\" cx=\"207.84\" cy=\"-24.15\" rx=\"24.3\" ry=\"24.3\"/>\n<text text-anchor=\"middle\" x=\"207.84\" y=\"-20.45\" font-family=\"Times,serif\" font-size=\"14.00\">F0</text>\n</g>\n<!-- F0&#45;&gt;F1 -->\n<g id=\"edge5\" class=\"edge\">\n<title>F0&#45;&gt;F1</title>\n<path fill=\"none\" stroke=\"black\" d=\"M230.02,-34.81C242.51,-41.11 258.52,-49.17 272.28,-56.1\"/>\n<polygon fill=\"black\" stroke=\"black\" points=\"270.87,-59.31 281.38,-60.69 274.02,-53.06 270.87,-59.31\"/>\n<text text-anchor=\"middle\" x=\"255.49\" y=\"-51.95\" font-family=\"Times,serif\" font-size=\"14.00\">1 </text>\n</g>\n<!-- F0&#45;&gt;F0 -->\n<g id=\"edge4\" class=\"edge\">\n<title>F0&#45;&gt;F0</title>\n<path fill=\"none\" stroke=\"black\" d=\"M199.35,-47.13C198.55,-57.41 201.38,-66.3 207.84,-66.3 211.99,-66.3 214.64,-62.65 215.8,-57.32\"/>\n<polygon fill=\"black\" stroke=\"black\" points=\"219.3,-57.3 216.34,-47.13 212.31,-56.93 219.3,-57.3\"/>\n<text text-anchor=\"middle\" x=\"207.84\" y=\"-70.1\" font-family=\"Times,serif\" font-size=\"14.00\">0 </text>\n</g>\n<!-- IF&#45;&gt;F0 -->\n<g id=\"edge3\" class=\"edge\">\n<title>IF&#45;&gt;F0</title>\n<path fill=\"none\" stroke=\"black\" d=\"M134.81,-60.95C147.09,-54.68 163.06,-46.52 176.84,-39.48\"/>\n<polygon fill=\"black\" stroke=\"black\" points=\"178.65,-42.48 185.96,-34.82 175.47,-36.25 178.65,-42.48\"/>\n<text text-anchor=\"middle\" x=\"160.2\" y=\"-53.95\" font-family=\"Times,serif\" font-size=\"14.00\">0 </text>\n</g>\n<!-- IF&#45;&gt;IF -->\n<g id=\"edge2\" class=\"edge\">\n<title>IF&#45;&gt;IF</title>\n<path fill=\"none\" stroke=\"black\" d=\"M106.5,-93C105.69,-103.14 108.15,-112 113.85,-112 117.5,-112 119.82,-108.36 120.8,-103.08\"/>\n<polygon fill=\"black\" stroke=\"black\" points=\"124.31,-103.13 121.2,-93 117.31,-102.86 124.31,-103.13\"/>\n<text text-anchor=\"middle\" x=\"113.85\" y=\"-115.8\" font-family=\"Times,serif\" font-size=\"14.00\">1 </text>\n</g>\n</g>\n</svg>\n",
            "text/plain": [
              "<graphviz.graphs.Digraph at 0x78f894fe0070>"
            ]
          },
          "metadata": {},
          "execution_count": 34
        }
      ],
      "source": [
        "dotObj_dfa(no010)"
      ]
    },
    {
      "cell_type": "code",
      "execution_count": 35,
      "metadata": {
        "id": "rnjpx4XxaGbx",
        "outputId": "bf5c02c2-2d3f-48d9-b2dc-c6f6f9c2ef1e",
        "colab": {
          "base_uri": "https://localhost:8080/",
          "height": 35
        }
      },
      "outputs": [
        {
          "output_type": "execute_result",
          "data": {
            "text/plain": [
              "'no010.pdf'"
            ],
            "application/vnd.google.colaboratory.intrinsic+json": {
              "type": "string"
            }
          },
          "metadata": {},
          "execution_count": 35
        }
      ],
      "source": [
        "dotObj_dfa(no010).render('no010')"
      ]
    },
    {
      "cell_type": "markdown",
      "metadata": {
        "id": "5fQJElIGaGbx"
      },
      "source": [
        "# To verify, define has010 and intersect."
      ]
    },
    {
      "cell_type": "code",
      "execution_count": 36,
      "metadata": {
        "id": "aOKBeuZVaGby"
      },
      "outputs": [],
      "source": [
        "has010 = min_dfa(nfa2dfa(re2nfa(\"(0+1)*010(010)*\")))"
      ]
    },
    {
      "cell_type": "code",
      "execution_count": 37,
      "metadata": {
        "id": "Jeg_Cyk2aGby",
        "outputId": "7f2db92e-3a06-4dd5-e6c9-bc6b0a51620d",
        "colab": {
          "base_uri": "https://localhost:8080/",
          "height": 197
        }
      },
      "outputs": [
        {
          "output_type": "execute_result",
          "data": {
            "image/svg+xml": "<?xml version=\"1.0\" encoding=\"UTF-8\" standalone=\"no\"?>\n<!DOCTYPE svg PUBLIC \"-//W3C//DTD SVG 1.1//EN\"\n \"http://www.w3.org/Graphics/SVG/1.1/DTD/svg11.dtd\">\n<!-- Generated by graphviz version 2.43.0 (0)\n -->\n<!-- Title: %3 Pages: 1 -->\n<svg width=\"430pt\" height=\"132pt\"\n viewBox=\"0.00 0.00 429.98 132.50\" xmlns=\"http://www.w3.org/2000/svg\" xmlns:xlink=\"http://www.w3.org/1999/xlink\">\n<g id=\"graph0\" class=\"graph\" transform=\"scale(1 1) rotate(0) translate(4 128.5)\">\n<title>%3</title>\n<polygon fill=\"white\" stroke=\"transparent\" points=\"-4,4 -4,-128.5 425.98,-128.5 425.98,4 -4,4\"/>\n<!-- EMPTY -->\n<g id=\"node1\" class=\"node\">\n<title>EMPTY</title>\n</g>\n<!-- St6 -->\n<g id=\"node4\" class=\"node\">\n<title>St6</title>\n<ellipse fill=\"none\" stroke=\"black\" cx=\"113.75\" cy=\"-68.75\" rx=\"23\" ry=\"23\"/>\n<text text-anchor=\"middle\" x=\"113.75\" y=\"-65.05\" font-family=\"Times,serif\" font-size=\"14.00\">St6</text>\n</g>\n<!-- EMPTY&#45;&gt;St6 -->\n<g id=\"edge1\" class=\"edge\">\n<title>EMPTY&#45;&gt;St6</title>\n<path fill=\"none\" stroke=\"black\" d=\"M54.35,-68.75C62.71,-68.75 72.05,-68.75 80.76,-68.75\"/>\n<polygon fill=\"black\" stroke=\"black\" points=\"80.97,-72.25 90.97,-68.75 80.97,-65.25 80.97,-72.25\"/>\n</g>\n<!-- St4 -->\n<g id=\"node2\" class=\"node\">\n<title>St4</title>\n<ellipse fill=\"none\" stroke=\"black\" cx=\"206.24\" cy=\"-22.75\" rx=\"23\" ry=\"23\"/>\n<text text-anchor=\"middle\" x=\"206.24\" y=\"-19.05\" font-family=\"Times,serif\" font-size=\"14.00\">St4</text>\n</g>\n<!-- St4&#45;&gt;St4 -->\n<g id=\"edge4\" class=\"edge\">\n<title>St4&#45;&gt;St4</title>\n<path fill=\"none\" stroke=\"black\" d=\"M197.83,-44.13C196.79,-54.42 199.6,-63.5 206.24,-63.5 210.5,-63.5 213.18,-59.77 214.29,-54.39\"/>\n<polygon fill=\"black\" stroke=\"black\" points=\"217.8,-54.25 214.66,-44.13 210.8,-54 217.8,-54.25\"/>\n<text text-anchor=\"middle\" x=\"206.24\" y=\"-67.3\" font-family=\"Times,serif\" font-size=\"14.00\">0 </text>\n</g>\n<!-- St1 -->\n<g id=\"node3\" class=\"node\">\n<title>St1</title>\n<ellipse fill=\"none\" stroke=\"black\" cx=\"298.74\" cy=\"-85.75\" rx=\"23\" ry=\"23\"/>\n<text text-anchor=\"middle\" x=\"298.74\" y=\"-82.05\" font-family=\"Times,serif\" font-size=\"14.00\">St1</text>\n</g>\n<!-- St4&#45;&gt;St1 -->\n<g id=\"edge5\" class=\"edge\">\n<title>St4&#45;&gt;St1</title>\n<path fill=\"none\" stroke=\"black\" d=\"M225.56,-35.5C238.68,-44.63 256.56,-57.08 271.24,-67.3\"/>\n<polygon fill=\"black\" stroke=\"black\" points=\"269.25,-70.18 279.45,-73.02 273.25,-64.43 269.25,-70.18\"/>\n<text text-anchor=\"middle\" x=\"252.49\" y=\"-62.55\" font-family=\"Times,serif\" font-size=\"14.00\">1 </text>\n</g>\n<!-- St1&#45;&gt;St6 -->\n<g id=\"edge7\" class=\"edge\">\n<title>St1&#45;&gt;St6</title>\n<path fill=\"none\" stroke=\"black\" d=\"M275.72,-88.11C252.63,-90.12 215.34,-92.07 183.5,-87.75 170.78,-86.02 157.09,-82.58 145.3,-79.09\"/>\n<polygon fill=\"black\" stroke=\"black\" points=\"146.09,-75.67 135.5,-76.06 144.02,-82.36 146.09,-75.67\"/>\n<text text-anchor=\"middle\" x=\"206.24\" y=\"-93.55\" font-family=\"Times,serif\" font-size=\"14.00\">1 </text>\n</g>\n<!-- St3 -->\n<g id=\"node5\" class=\"node\">\n<title>St3</title>\n<ellipse fill=\"none\" stroke=\"black\" cx=\"395.24\" cy=\"-55.75\" rx=\"22.96\" ry=\"22.96\"/>\n<ellipse fill=\"none\" stroke=\"black\" cx=\"395.24\" cy=\"-55.75\" rx=\"27\" ry=\"27\"/>\n<text text-anchor=\"middle\" x=\"395.24\" y=\"-52.05\" font-family=\"Times,serif\" font-size=\"14.00\">St3</text>\n</g>\n<!-- St1&#45;&gt;St3 -->\n<g id=\"edge6\" class=\"edge\">\n<title>St1&#45;&gt;St3</title>\n<path fill=\"none\" stroke=\"black\" d=\"M321.09,-80.27C330.2,-77.83 340.91,-74.81 350.49,-71.75 353.65,-70.74 356.91,-69.64 360.18,-68.51\"/>\n<polygon fill=\"black\" stroke=\"black\" points=\"361.58,-71.72 369.83,-65.07 359.24,-65.13 361.58,-71.72\"/>\n<text text-anchor=\"middle\" x=\"344.99\" y=\"-78.55\" font-family=\"Times,serif\" font-size=\"14.00\">0 </text>\n</g>\n<!-- St6&#45;&gt;St4 -->\n<g id=\"edge2\" class=\"edge\">\n<title>St6&#45;&gt;St4</title>\n<path fill=\"none\" stroke=\"black\" d=\"M134.38,-58.77C146.72,-52.5 162.84,-44.3 176.58,-37.32\"/>\n<polygon fill=\"black\" stroke=\"black\" points=\"178.32,-40.36 185.65,-32.71 175.15,-34.12 178.32,-40.36\"/>\n<text text-anchor=\"middle\" x=\"160\" y=\"-52.55\" font-family=\"Times,serif\" font-size=\"14.00\">0 </text>\n</g>\n<!-- St6&#45;&gt;St6 -->\n<g id=\"edge3\" class=\"edge\">\n<title>St6&#45;&gt;St6</title>\n<path fill=\"none\" stroke=\"black\" d=\"M106.4,-90.55C105.59,-100.66 108.04,-109.5 113.75,-109.5 117.4,-109.5 119.72,-105.87 120.7,-100.6\"/>\n<polygon fill=\"black\" stroke=\"black\" points=\"124.2,-100.68 121.1,-90.55 117.21,-100.4 124.2,-100.68\"/>\n<text text-anchor=\"middle\" x=\"113.75\" y=\"-113.3\" font-family=\"Times,serif\" font-size=\"14.00\">1 </text>\n</g>\n<!-- St3&#45;&gt;St4 -->\n<g id=\"edge8\" class=\"edge\">\n<title>St3&#45;&gt;St4</title>\n<path fill=\"none\" stroke=\"black\" d=\"M369.1,-49.28C355.14,-45.84 337.43,-41.72 321.49,-38.75 293.95,-33.61 262.41,-29.31 239.45,-26.47\"/>\n<polygon fill=\"black\" stroke=\"black\" points=\"239.59,-22.96 229.24,-25.23 238.75,-29.91 239.59,-22.96\"/>\n<text text-anchor=\"middle\" x=\"298.74\" y=\"-42.55\" font-family=\"Times,serif\" font-size=\"14.00\">0 </text>\n</g>\n<!-- St3&#45;&gt;St1 -->\n<g id=\"edge9\" class=\"edge\">\n<title>St3&#45;&gt;St1</title>\n<path fill=\"none\" stroke=\"black\" d=\"M368.83,-50.25C359.37,-49.25 348.71,-49.42 339.49,-52.75 333.4,-54.95 327.58,-58.53 322.37,-62.54\"/>\n<polygon fill=\"black\" stroke=\"black\" points=\"320.06,-59.91 314.72,-69.06 324.6,-65.23 320.06,-59.91\"/>\n<text text-anchor=\"middle\" x=\"344.99\" y=\"-56.55\" font-family=\"Times,serif\" font-size=\"14.00\">1 </text>\n</g>\n</g>\n</svg>\n",
            "text/plain": [
              "<graphviz.graphs.Digraph at 0x78f894fe1f00>"
            ]
          },
          "metadata": {},
          "execution_count": 37
        }
      ],
      "source": [
        "dotObj_dfa(has010)"
      ]
    },
    {
      "cell_type": "code",
      "execution_count": 38,
      "metadata": {
        "id": "8jSgPx9jaGby"
      },
      "outputs": [],
      "source": [
        "no010_and_has010 = intersect_dfa(no010, has010)"
      ]
    },
    {
      "cell_type": "code",
      "execution_count": 39,
      "metadata": {
        "id": "AgpGpEPraGby",
        "outputId": "98b8f439-df17-4173-f9aa-adfc6cb75667",
        "colab": {
          "base_uri": "https://localhost:8080/",
          "height": 361
        }
      },
      "outputs": [
        {
          "output_type": "execute_result",
          "data": {
            "image/svg+xml": "<?xml version=\"1.0\" encoding=\"UTF-8\" standalone=\"no\"?>\n<!DOCTYPE svg PUBLIC \"-//W3C//DTD SVG 1.1//EN\"\n \"http://www.w3.org/Graphics/SVG/1.1/DTD/svg11.dtd\">\n<!-- Generated by graphviz version 2.43.0 (0)\n -->\n<!-- Title: %3 Pages: 1 -->\n<svg width=\"989pt\" height=\"240pt\"\n viewBox=\"0.00 0.00 989.35 240.14\" xmlns=\"http://www.w3.org/2000/svg\" xmlns:xlink=\"http://www.w3.org/1999/xlink\">\n<g id=\"graph0\" class=\"graph\" transform=\"scale(1 1) rotate(0) translate(4 236.14)\">\n<title>%3</title>\n<polygon fill=\"white\" stroke=\"transparent\" points=\"-4,4 -4,-236.14 985.35,-236.14 985.35,4 -4,4\"/>\n<!-- EMPTY -->\n<g id=\"node1\" class=\"node\">\n<title>EMPTY</title>\n</g>\n<!-- \\(IF_St6\\) -->\n<g id=\"node6\" class=\"node\">\n<title>\\(IF_St6\\)</title>\n<ellipse fill=\"none\" stroke=\"black\" cx=\"131.3\" cy=\"-158.85\" rx=\"40.09\" ry=\"40.09\"/>\n<text text-anchor=\"middle\" x=\"131.3\" y=\"-155.15\" font-family=\"Times,serif\" font-size=\"14.00\">(IF_St6)</text>\n</g>\n<!-- EMPTY&#45;&gt;\\(IF_St6\\) -->\n<g id=\"edge1\" class=\"edge\">\n<title>EMPTY&#45;&gt;\\(IF_St6\\)</title>\n<path fill=\"none\" stroke=\"black\" d=\"M54.08,-158.85C62.16,-158.85 71.36,-158.85 80.5,-158.85\"/>\n<polygon fill=\"black\" stroke=\"black\" points=\"80.73,-162.35 90.73,-158.85 80.73,-155.35 80.73,-162.35\"/>\n</g>\n<!-- \\(F0_St4\\) -->\n<g id=\"node2\" class=\"node\">\n<title>\\(F0_St4\\)</title>\n<ellipse fill=\"none\" stroke=\"black\" cx=\"260.84\" cy=\"-102.85\" rx=\"42.49\" ry=\"42.49\"/>\n<text text-anchor=\"middle\" x=\"260.84\" y=\"-99.15\" font-family=\"Times,serif\" font-size=\"14.00\">(F0_St4)</text>\n</g>\n<!-- \\(F0_St4\\)&#45;&gt;\\(F0_St4\\) -->\n<g id=\"edge13\" class=\"edge\">\n<title>\\(F0_St4\\)&#45;&gt;\\(F0_St4\\)</title>\n<path fill=\"none\" stroke=\"black\" d=\"M248.91,-143.39C249.49,-154.56 253.46,-163.09 260.84,-163.09 265.79,-163.09 269.21,-159.24 271.1,-153.33\"/>\n<polygon fill=\"black\" stroke=\"black\" points=\"274.56,-153.83 272.77,-143.39 267.66,-152.68 274.56,-153.83\"/>\n<text text-anchor=\"middle\" x=\"260.84\" y=\"-166.89\" font-family=\"Times,serif\" font-size=\"14.00\">0 </text>\n</g>\n<!-- \\(F1_St1\\) -->\n<g id=\"node4\" class=\"node\">\n<title>\\(F1_St1\\)</title>\n<ellipse fill=\"none\" stroke=\"black\" cx=\"392.33\" cy=\"-158.85\" rx=\"42.49\" ry=\"42.49\"/>\n<text text-anchor=\"middle\" x=\"392.33\" y=\"-155.15\" font-family=\"Times,serif\" font-size=\"14.00\">(F1_St1)</text>\n</g>\n<!-- \\(F0_St4\\)&#45;&gt;\\(F1_St1\\) -->\n<g id=\"edge3\" class=\"edge\">\n<title>\\(F0_St4\\)&#45;&gt;\\(F1_St1\\)</title>\n<path fill=\"none\" stroke=\"black\" d=\"M299.99,-119.34C313.7,-125.27 329.33,-132.03 343.74,-138.27\"/>\n<polygon fill=\"black\" stroke=\"black\" points=\"342.44,-141.51 353.01,-142.27 345.22,-135.09 342.44,-141.51\"/>\n<text text-anchor=\"middle\" x=\"326.59\" y=\"-135.65\" font-family=\"Times,serif\" font-size=\"14.00\">1 </text>\n</g>\n<!-- \\(BH_St4\\) -->\n<g id=\"node3\" class=\"node\">\n<title>\\(BH_St4\\)</title>\n<ellipse fill=\"none\" stroke=\"black\" cx=\"663.12\" cy=\"-44.85\" rx=\"44.69\" ry=\"44.69\"/>\n<text text-anchor=\"middle\" x=\"663.12\" y=\"-41.15\" font-family=\"Times,serif\" font-size=\"14.00\">(BH_St4)</text>\n</g>\n<!-- \\(BH_St4\\)&#45;&gt;\\(BH_St4\\) -->\n<g id=\"edge10\" class=\"edge\">\n<title>\\(BH_St4\\)&#45;&gt;\\(BH_St4\\)</title>\n<path fill=\"none\" stroke=\"black\" d=\"M650.5,-88.02C651.27,-99.24 655.48,-107.69 663.12,-107.69 668.25,-107.69 671.83,-103.88 673.86,-97.97\"/>\n<polygon fill=\"black\" stroke=\"black\" points=\"677.32,-98.5 675.73,-88.02 670.45,-97.2 677.32,-98.5\"/>\n<text text-anchor=\"middle\" x=\"663.12\" y=\"-111.49\" font-family=\"Times,serif\" font-size=\"14.00\">0 </text>\n</g>\n<!-- \\(BH_St1\\) -->\n<g id=\"node7\" class=\"node\">\n<title>\\(BH_St1\\)</title>\n<ellipse fill=\"none\" stroke=\"black\" cx=\"799.81\" cy=\"-149.85\" rx=\"44.69\" ry=\"44.69\"/>\n<text text-anchor=\"middle\" x=\"799.81\" y=\"-146.15\" font-family=\"Times,serif\" font-size=\"14.00\">(BH_St1)</text>\n</g>\n<!-- \\(BH_St4\\)&#45;&gt;\\(BH_St1\\) -->\n<g id=\"edge7\" class=\"edge\">\n<title>\\(BH_St4\\)&#45;&gt;\\(BH_St1\\)</title>\n<path fill=\"none\" stroke=\"black\" d=\"M699.15,-72.16C716.46,-85.65 737.49,-102.05 755.77,-116.29\"/>\n<polygon fill=\"black\" stroke=\"black\" points=\"753.91,-119.28 763.95,-122.67 758.21,-113.76 753.91,-119.28\"/>\n<text text-anchor=\"middle\" x=\"731.46\" y=\"-104.65\" font-family=\"Times,serif\" font-size=\"14.00\">1 </text>\n</g>\n<!-- \\(F1_St1\\)&#45;&gt;\\(IF_St6\\) -->\n<g id=\"edge14\" class=\"edge\">\n<title>\\(F1_St1\\)&#45;&gt;\\(IF_St6\\)</title>\n<path fill=\"none\" stroke=\"black\" d=\"M352.85,-173.88C337.61,-179.09 319.76,-184.26 303.09,-186.85 265.98,-192.59 255.68,-192.71 218.59,-186.85 205.33,-184.75 191.33,-180.94 178.55,-176.8\"/>\n<polygon fill=\"black\" stroke=\"black\" points=\"179.64,-173.47 169.05,-173.58 177.4,-180.1 179.64,-173.47\"/>\n<text text-anchor=\"middle\" x=\"260.84\" y=\"-194.65\" font-family=\"Times,serif\" font-size=\"14.00\">1 </text>\n</g>\n<!-- \\(BH_St3\\) -->\n<g id=\"node8\" class=\"node\">\n<title>\\(BH_St3\\)</title>\n<ellipse fill=\"none\" stroke=\"black\" cx=\"526.42\" cy=\"-158.85\" rx=\"44.69\" ry=\"44.69\"/>\n<text text-anchor=\"middle\" x=\"526.42\" y=\"-155.15\" font-family=\"Times,serif\" font-size=\"14.00\">(BH_St3)</text>\n</g>\n<!-- \\(F1_St1\\)&#45;&gt;\\(BH_St3\\) -->\n<g id=\"edge8\" class=\"edge\">\n<title>\\(F1_St1\\)&#45;&gt;\\(BH_St3\\)</title>\n<path fill=\"none\" stroke=\"black\" d=\"M434.76,-158.85C446.35,-158.85 459.11,-158.85 471.32,-158.85\"/>\n<polygon fill=\"black\" stroke=\"black\" points=\"471.4,-162.35 481.4,-158.85 471.4,-155.35 471.4,-162.35\"/>\n<text text-anchor=\"middle\" x=\"458.08\" y=\"-162.65\" font-family=\"Times,serif\" font-size=\"14.00\">0 </text>\n</g>\n<!-- \\(BH_St6\\) -->\n<g id=\"node5\" class=\"node\">\n<title>\\(BH_St6\\)</title>\n<ellipse fill=\"none\" stroke=\"black\" cx=\"936.5\" cy=\"-69.85\" rx=\"44.69\" ry=\"44.69\"/>\n<text text-anchor=\"middle\" x=\"936.5\" y=\"-66.15\" font-family=\"Times,serif\" font-size=\"14.00\">(BH_St6)</text>\n</g>\n<!-- \\(BH_St6\\)&#45;&gt;\\(BH_St4\\) -->\n<g id=\"edge15\" class=\"edge\">\n<title>\\(BH_St6\\)&#45;&gt;\\(BH_St4\\)</title>\n<path fill=\"none\" stroke=\"black\" d=\"M891.66,-65.81C844.39,-61.45 769.08,-54.52 718.18,-49.83\"/>\n<polygon fill=\"black\" stroke=\"black\" points=\"718.3,-46.32 708.02,-48.89 717.66,-53.29 718.3,-46.32\"/>\n<text text-anchor=\"middle\" x=\"799.81\" y=\"-65.65\" font-family=\"Times,serif\" font-size=\"14.00\">0 </text>\n</g>\n<!-- \\(BH_St6\\)&#45;&gt;\\(BH_St6\\) -->\n<g id=\"edge11\" class=\"edge\">\n<title>\\(BH_St6\\)&#45;&gt;\\(BH_St6\\)</title>\n<path fill=\"none\" stroke=\"black\" d=\"M923.88,-113.02C924.66,-124.24 928.86,-132.69 936.5,-132.69 941.63,-132.69 945.21,-128.88 947.25,-122.97\"/>\n<polygon fill=\"black\" stroke=\"black\" points=\"950.71,-123.5 949.12,-113.02 943.83,-122.2 950.71,-123.5\"/>\n<text text-anchor=\"middle\" x=\"936.5\" y=\"-136.49\" font-family=\"Times,serif\" font-size=\"14.00\">1 </text>\n</g>\n<!-- \\(IF_St6\\)&#45;&gt;\\(F0_St4\\) -->\n<g id=\"edge9\" class=\"edge\">\n<title>\\(IF_St6\\)&#45;&gt;\\(F0_St4\\)</title>\n<path fill=\"none\" stroke=\"black\" d=\"M168.5,-142.95C182.16,-136.95 197.9,-130.04 212.42,-123.66\"/>\n<polygon fill=\"black\" stroke=\"black\" points=\"214.01,-126.79 221.76,-119.56 211.2,-120.38 214.01,-126.79\"/>\n<text text-anchor=\"middle\" x=\"195.09\" y=\"-135.65\" font-family=\"Times,serif\" font-size=\"14.00\">0 </text>\n</g>\n<!-- \\(IF_St6\\)&#45;&gt;\\(IF_St6\\) -->\n<g id=\"edge5\" class=\"edge\">\n<title>\\(IF_St6\\)&#45;&gt;\\(IF_St6\\)</title>\n<path fill=\"none\" stroke=\"black\" d=\"M120.48,-197.8C120.95,-208.74 124.56,-217.14 131.3,-217.14 135.72,-217.14 138.79,-213.53 140.52,-207.95\"/>\n<polygon fill=\"black\" stroke=\"black\" points=\"144.02,-208.23 142.12,-197.8 137.1,-207.14 144.02,-208.23\"/>\n<text text-anchor=\"middle\" x=\"131.3\" y=\"-220.94\" font-family=\"Times,serif\" font-size=\"14.00\">1 </text>\n</g>\n<!-- \\(BH_St1\\)&#45;&gt;\\(BH_St6\\) -->\n<g id=\"edge2\" class=\"edge\">\n<title>\\(BH_St1\\)&#45;&gt;\\(BH_St6\\)</title>\n<path fill=\"none\" stroke=\"black\" d=\"M838.69,-127.35C854.18,-118.15 872.27,-107.4 888.58,-97.71\"/>\n<polygon fill=\"black\" stroke=\"black\" points=\"890.63,-100.57 897.44,-92.45 887.05,-94.55 890.63,-100.57\"/>\n<text text-anchor=\"middle\" x=\"868.15\" y=\"-116.65\" font-family=\"Times,serif\" font-size=\"14.00\">1 </text>\n</g>\n<!-- \\(BH_St1\\)&#45;&gt;\\(BH_St3\\) -->\n<g id=\"edge6\" class=\"edge\">\n<title>\\(BH_St1\\)&#45;&gt;\\(BH_St3\\)</title>\n<path fill=\"none\" stroke=\"black\" d=\"M754.97,-151.3C707.7,-152.87 632.39,-155.36 581.48,-157.05\"/>\n<polygon fill=\"black\" stroke=\"black\" points=\"581.21,-153.56 571.33,-157.39 581.44,-160.56 581.21,-153.56\"/>\n<text text-anchor=\"middle\" x=\"663.12\" y=\"-158.65\" font-family=\"Times,serif\" font-size=\"14.00\">0 </text>\n</g>\n<!-- \\(BH_St3\\)&#45;&gt;\\(BH_St4\\) -->\n<g id=\"edge4\" class=\"edge\">\n<title>\\(BH_St3\\)&#45;&gt;\\(BH_St4\\)</title>\n<path fill=\"none\" stroke=\"black\" d=\"M561.41,-130.08C579.36,-114.89 601.53,-96.12 620.5,-80.07\"/>\n<polygon fill=\"black\" stroke=\"black\" points=\"622.77,-82.74 628.14,-73.6 618.24,-77.39 622.77,-82.74\"/>\n<text text-anchor=\"middle\" x=\"594.77\" y=\"-109.65\" font-family=\"Times,serif\" font-size=\"14.00\">0 </text>\n</g>\n<!-- \\(BH_St3\\)&#45;&gt;\\(BH_St1\\) -->\n<g id=\"edge12\" class=\"edge\">\n<title>\\(BH_St3\\)&#45;&gt;\\(BH_St1\\)</title>\n<path fill=\"none\" stroke=\"black\" d=\"M570.64,-166.75C576.88,-167.83 583.24,-168.89 589.27,-169.85 641.41,-178.07 655.62,-180.64 707.96,-173.85 720.73,-172.19 734.25,-169.27 746.86,-166.03\"/>\n<polygon fill=\"black\" stroke=\"black\" points=\"747.99,-169.35 756.74,-163.38 746.17,-162.59 747.99,-169.35\"/>\n<text text-anchor=\"middle\" x=\"663.12\" y=\"-180.65\" font-family=\"Times,serif\" font-size=\"14.00\">1 </text>\n</g>\n</g>\n</svg>\n",
            "text/plain": [
              "<graphviz.graphs.Digraph at 0x78f894fe12d0>"
            ]
          },
          "metadata": {},
          "execution_count": 39
        }
      ],
      "source": [
        "dotObj_dfa(no010_and_has010)"
      ]
    },
    {
      "cell_type": "code",
      "execution_count": 40,
      "metadata": {
        "id": "LLR-LQM4aGby",
        "outputId": "11a96b9f-30e0-4972-89e3-5c5336bd58dd",
        "colab": {
          "base_uri": "https://localhost:8080/",
          "height": 201
        }
      },
      "outputs": [
        {
          "output_type": "execute_result",
          "data": {
            "image/svg+xml": "<?xml version=\"1.0\" encoding=\"UTF-8\" standalone=\"no\"?>\n<!DOCTYPE svg PUBLIC \"-//W3C//DTD SVG 1.1//EN\"\n \"http://www.w3.org/Graphics/SVG/1.1/DTD/svg11.dtd\">\n<!-- Generated by graphviz version 2.43.0 (0)\n -->\n<!-- Title: %3 Pages: 1 -->\n<svg width=\"335pt\" height=\"135pt\"\n viewBox=\"0.00 0.00 335.29 135.00\" xmlns=\"http://www.w3.org/2000/svg\" xmlns:xlink=\"http://www.w3.org/1999/xlink\">\n<g id=\"graph0\" class=\"graph\" transform=\"scale(1 1) rotate(0) translate(4 131)\">\n<title>%3</title>\n<polygon fill=\"white\" stroke=\"transparent\" points=\"-4,4 -4,-131 331.29,-131 331.29,4 -4,4\"/>\n<!-- EMPTY -->\n<g id=\"node1\" class=\"node\">\n<title>EMPTY</title>\n</g>\n<!-- IF -->\n<g id=\"node4\" class=\"node\">\n<title>IF</title>\n<ellipse fill=\"none\" stroke=\"black\" cx=\"113.85\" cy=\"-71.15\" rx=\"18.72\" ry=\"18.72\"/>\n<ellipse fill=\"none\" stroke=\"black\" cx=\"113.85\" cy=\"-71.15\" rx=\"22.7\" ry=\"22.7\"/>\n<text text-anchor=\"middle\" x=\"113.85\" y=\"-67.45\" font-family=\"Times,serif\" font-size=\"14.00\">IF</text>\n</g>\n<!-- EMPTY&#45;&gt;IF -->\n<g id=\"edge1\" class=\"edge\">\n<title>EMPTY&#45;&gt;IF</title>\n<path fill=\"none\" stroke=\"black\" d=\"M54.38,-71.15C62.68,-71.15 71.94,-71.15 80.6,-71.15\"/>\n<polygon fill=\"black\" stroke=\"black\" points=\"80.76,-74.65 90.76,-71.15 80.76,-67.65 80.76,-74.65\"/>\n</g>\n<!-- F1 -->\n<g id=\"node2\" class=\"node\">\n<title>F1</title>\n<ellipse fill=\"none\" stroke=\"black\" cx=\"303.14\" cy=\"-71.15\" rx=\"20.27\" ry=\"20.27\"/>\n<ellipse fill=\"none\" stroke=\"black\" cx=\"303.14\" cy=\"-71.15\" rx=\"24.3\" ry=\"24.3\"/>\n<text text-anchor=\"middle\" x=\"303.14\" y=\"-67.45\" font-family=\"Times,serif\" font-size=\"14.00\">F1</text>\n</g>\n<!-- F1&#45;&gt;IF -->\n<g id=\"edge6\" class=\"edge\">\n<title>F1&#45;&gt;IF</title>\n<path fill=\"none\" stroke=\"black\" d=\"M280.02,-78.76C266.36,-83.04 248.38,-87.97 231.99,-90.15 210.72,-92.98 204.97,-93.03 183.7,-90.15 170.96,-88.42 157.25,-84.98 145.45,-81.49\"/>\n<polygon fill=\"black\" stroke=\"black\" points=\"146.22,-78.07 135.64,-78.46 144.16,-84.76 146.22,-78.07\"/>\n<text text-anchor=\"middle\" x=\"207.84\" y=\"-95.95\" font-family=\"Times,serif\" font-size=\"14.00\">1 </text>\n</g>\n<!-- F0 -->\n<g id=\"node3\" class=\"node\">\n<title>F0</title>\n<ellipse fill=\"none\" stroke=\"black\" cx=\"207.84\" cy=\"-24.15\" rx=\"20.27\" ry=\"20.27\"/>\n<ellipse fill=\"none\" stroke=\"black\" cx=\"207.84\" cy=\"-24.15\" rx=\"24.3\" ry=\"24.3\"/>\n<text text-anchor=\"middle\" x=\"207.84\" y=\"-20.45\" font-family=\"Times,serif\" font-size=\"14.00\">F0</text>\n</g>\n<!-- F0&#45;&gt;F1 -->\n<g id=\"edge5\" class=\"edge\">\n<title>F0&#45;&gt;F1</title>\n<path fill=\"none\" stroke=\"black\" d=\"M230.02,-34.81C242.51,-41.11 258.52,-49.17 272.28,-56.1\"/>\n<polygon fill=\"black\" stroke=\"black\" points=\"270.87,-59.31 281.38,-60.69 274.02,-53.06 270.87,-59.31\"/>\n<text text-anchor=\"middle\" x=\"255.49\" y=\"-51.95\" font-family=\"Times,serif\" font-size=\"14.00\">1 </text>\n</g>\n<!-- F0&#45;&gt;F0 -->\n<g id=\"edge4\" class=\"edge\">\n<title>F0&#45;&gt;F0</title>\n<path fill=\"none\" stroke=\"black\" d=\"M199.35,-47.13C198.55,-57.41 201.38,-66.3 207.84,-66.3 211.99,-66.3 214.64,-62.65 215.8,-57.32\"/>\n<polygon fill=\"black\" stroke=\"black\" points=\"219.3,-57.3 216.34,-47.13 212.31,-56.93 219.3,-57.3\"/>\n<text text-anchor=\"middle\" x=\"207.84\" y=\"-70.1\" font-family=\"Times,serif\" font-size=\"14.00\">0 </text>\n</g>\n<!-- IF&#45;&gt;F0 -->\n<g id=\"edge3\" class=\"edge\">\n<title>IF&#45;&gt;F0</title>\n<path fill=\"none\" stroke=\"black\" d=\"M134.81,-60.95C147.09,-54.68 163.06,-46.52 176.84,-39.48\"/>\n<polygon fill=\"black\" stroke=\"black\" points=\"178.65,-42.48 185.96,-34.82 175.47,-36.25 178.65,-42.48\"/>\n<text text-anchor=\"middle\" x=\"160.2\" y=\"-53.95\" font-family=\"Times,serif\" font-size=\"14.00\">0 </text>\n</g>\n<!-- IF&#45;&gt;IF -->\n<g id=\"edge2\" class=\"edge\">\n<title>IF&#45;&gt;IF</title>\n<path fill=\"none\" stroke=\"black\" d=\"M106.5,-93C105.69,-103.14 108.15,-112 113.85,-112 117.5,-112 119.82,-108.36 120.8,-103.08\"/>\n<polygon fill=\"black\" stroke=\"black\" points=\"124.31,-103.13 121.2,-93 117.31,-102.86 124.31,-103.13\"/>\n<text text-anchor=\"middle\" x=\"113.85\" y=\"-115.8\" font-family=\"Times,serif\" font-size=\"14.00\">1 </text>\n</g>\n</g>\n</svg>\n",
            "text/plain": [
              "<graphviz.graphs.Digraph at 0x78f894fe0b80>"
            ]
          },
          "metadata": {},
          "execution_count": 40
        }
      ],
      "source": [
        "dotObj_dfa(no010)"
      ]
    },
    {
      "cell_type": "code",
      "execution_count": 41,
      "metadata": {
        "id": "DOhyKXvoaGby"
      },
      "outputs": [],
      "source": [
        "REno010 =   \"1* ( '' + 00* ( '' + 1(11*00*1)* ( '' + 11* ( '' + 00* ))))\""
      ]
    },
    {
      "cell_type": "code",
      "execution_count": 42,
      "metadata": {
        "id": "Yns2YKZbaGbz"
      },
      "outputs": [],
      "source": [
        "no010_RE = min_dfa(nfa2dfa(re2nfa(REno010)))"
      ]
    },
    {
      "cell_type": "code",
      "execution_count": 43,
      "metadata": {
        "id": "LZc-A2zVaGb3",
        "outputId": "0f0e50b4-dfe2-444e-96d1-bab91b90d54f",
        "colab": {
          "base_uri": "https://localhost:8080/",
          "height": 216
        }
      },
      "outputs": [
        {
          "output_type": "execute_result",
          "data": {
            "image/svg+xml": "<?xml version=\"1.0\" encoding=\"UTF-8\" standalone=\"no\"?>\n<!DOCTYPE svg PUBLIC \"-//W3C//DTD SVG 1.1//EN\"\n \"http://www.w3.org/Graphics/SVG/1.1/DTD/svg11.dtd\">\n<!-- Generated by graphviz version 2.43.0 (0)\n -->\n<!-- Title: %3 Pages: 1 -->\n<svg width=\"361pt\" height=\"146pt\"\n viewBox=\"0.00 0.00 361.29 146.40\" xmlns=\"http://www.w3.org/2000/svg\" xmlns:xlink=\"http://www.w3.org/1999/xlink\">\n<g id=\"graph0\" class=\"graph\" transform=\"scale(1 1) rotate(0) translate(4 142.4)\">\n<title>%3</title>\n<polygon fill=\"white\" stroke=\"transparent\" points=\"-4,4 -4,-142.4 357.29,-142.4 357.29,4 -4,4\"/>\n<!-- EMPTY -->\n<g id=\"node1\" class=\"node\">\n<title>EMPTY</title>\n</g>\n<!-- St8 -->\n<g id=\"node3\" class=\"node\">\n<title>St8</title>\n<ellipse fill=\"none\" stroke=\"black\" cx=\"117.75\" cy=\"-26.75\" rx=\"22.96\" ry=\"22.96\"/>\n<ellipse fill=\"none\" stroke=\"black\" cx=\"117.75\" cy=\"-26.75\" rx=\"27\" ry=\"27\"/>\n<text text-anchor=\"middle\" x=\"117.75\" y=\"-23.05\" font-family=\"Times,serif\" font-size=\"14.00\">St8</text>\n</g>\n<!-- EMPTY&#45;&gt;St8 -->\n<g id=\"edge1\" class=\"edge\">\n<title>EMPTY&#45;&gt;St8</title>\n<path fill=\"none\" stroke=\"black\" d=\"M54.15,-26.75C62.45,-26.75 71.79,-26.75 80.67,-26.75\"/>\n<polygon fill=\"black\" stroke=\"black\" points=\"80.79,-30.25 90.79,-26.75 80.79,-23.25 80.79,-30.25\"/>\n</g>\n<!-- St10 -->\n<g id=\"node2\" class=\"node\">\n<title>St10</title>\n<ellipse fill=\"none\" stroke=\"black\" cx=\"222.14\" cy=\"-74.75\" rx=\"26.78\" ry=\"26.78\"/>\n<ellipse fill=\"none\" stroke=\"black\" cx=\"222.14\" cy=\"-74.75\" rx=\"30.8\" ry=\"30.8\"/>\n<text text-anchor=\"middle\" x=\"222.14\" y=\"-71.05\" font-family=\"Times,serif\" font-size=\"14.00\">St10</text>\n</g>\n<!-- St10&#45;&gt;St10 -->\n<g id=\"edge4\" class=\"edge\">\n<title>St10&#45;&gt;St10</title>\n<path fill=\"none\" stroke=\"black\" d=\"M212.04,-103.71C211.71,-114.51 215.08,-123.4 222.14,-123.4 226.78,-123.4 229.83,-119.57 231.28,-113.89\"/>\n<polygon fill=\"black\" stroke=\"black\" points=\"234.78,-114 232.25,-103.71 227.81,-113.34 234.78,-114\"/>\n<text text-anchor=\"middle\" x=\"222.14\" y=\"-127.2\" font-family=\"Times,serif\" font-size=\"14.00\">0 </text>\n</g>\n<!-- St6 -->\n<g id=\"node4\" class=\"node\">\n<title>St6</title>\n<ellipse fill=\"none\" stroke=\"black\" cx=\"326.54\" cy=\"-26.75\" rx=\"22.96\" ry=\"22.96\"/>\n<ellipse fill=\"none\" stroke=\"black\" cx=\"326.54\" cy=\"-26.75\" rx=\"27\" ry=\"27\"/>\n<text text-anchor=\"middle\" x=\"326.54\" y=\"-23.05\" font-family=\"Times,serif\" font-size=\"14.00\">St6</text>\n</g>\n<!-- St10&#45;&gt;St6 -->\n<g id=\"edge5\" class=\"edge\">\n<title>St10&#45;&gt;St6</title>\n<path fill=\"none\" stroke=\"black\" d=\"M250.31,-62.01C263.41,-55.87 279.21,-48.46 292.95,-42.02\"/>\n<polygon fill=\"black\" stroke=\"black\" points=\"294.5,-45.16 302.07,-37.75 291.53,-38.82 294.5,-45.16\"/>\n<text text-anchor=\"middle\" x=\"276.29\" y=\"-55.55\" font-family=\"Times,serif\" font-size=\"14.00\">1 </text>\n</g>\n<!-- St8&#45;&gt;St10 -->\n<g id=\"edge2\" class=\"edge\">\n<title>St8&#45;&gt;St10</title>\n<path fill=\"none\" stroke=\"black\" d=\"M142.24,-37.76C154.81,-43.65 170.57,-51.04 184.69,-57.66\"/>\n<polygon fill=\"black\" stroke=\"black\" points=\"183.6,-61.02 194.14,-62.09 186.57,-54.68 183.6,-61.02\"/>\n<text text-anchor=\"middle\" x=\"168\" y=\"-55.55\" font-family=\"Times,serif\" font-size=\"14.00\">0 </text>\n</g>\n<!-- St8&#45;&gt;St8 -->\n<g id=\"edge3\" class=\"edge\">\n<title>St8&#45;&gt;St8</title>\n<path fill=\"none\" stroke=\"black\" d=\"M109.55,-52.5C109.09,-62.83 111.82,-71.5 117.75,-71.5 121.55,-71.5 124.03,-67.94 125.21,-62.67\"/>\n<polygon fill=\"black\" stroke=\"black\" points=\"128.71,-62.73 125.95,-52.5 121.73,-62.22 128.71,-62.73\"/>\n<text text-anchor=\"middle\" x=\"117.75\" y=\"-75.3\" font-family=\"Times,serif\" font-size=\"14.00\">1 </text>\n</g>\n<!-- St6&#45;&gt;St8 -->\n<g id=\"edge6\" class=\"edge\">\n<title>St6&#45;&gt;St8</title>\n<path fill=\"none\" stroke=\"black\" d=\"M299.66,-23.65C285.78,-22.14 268.38,-20.5 252.79,-19.75 225.58,-18.44 218.71,-18.44 191.5,-19.75 179.56,-20.32 166.56,-21.42 154.9,-22.58\"/>\n<polygon fill=\"black\" stroke=\"black\" points=\"154.21,-19.13 144.63,-23.65 154.94,-26.09 154.21,-19.13\"/>\n<text text-anchor=\"middle\" x=\"222.14\" y=\"-23.55\" font-family=\"Times,serif\" font-size=\"14.00\">1 </text>\n</g>\n</g>\n</svg>\n",
            "text/plain": [
              "<graphviz.graphs.Digraph at 0x78f894fe1960>"
            ]
          },
          "metadata": {},
          "execution_count": 43
        }
      ],
      "source": [
        "dotObj_dfa(no010_RE)"
      ]
    },
    {
      "cell_type": "code",
      "execution_count": 44,
      "metadata": {
        "id": "BEnavFBgaGb3"
      },
      "outputs": [],
      "source": [
        "nfano010 = dfa2nfa(no010)"
      ]
    },
    {
      "cell_type": "code",
      "execution_count": 45,
      "metadata": {
        "id": "PPBGNFZgaGb4",
        "outputId": "cfbeb379-416e-42e9-92d3-f9321db0bd8d",
        "colab": {
          "base_uri": "https://localhost:8080/",
          "height": 245
        }
      },
      "outputs": [
        {
          "output_type": "execute_result",
          "data": {
            "image/svg+xml": "<?xml version=\"1.0\" encoding=\"UTF-8\" standalone=\"no\"?>\n<!DOCTYPE svg PUBLIC \"-//W3C//DTD SVG 1.1//EN\"\n \"http://www.w3.org/Graphics/SVG/1.1/DTD/svg11.dtd\">\n<!-- Generated by graphviz version 2.43.0 (0)\n -->\n<!-- Title: %3 Pages: 1 -->\n<svg width=\"428pt\" height=\"168pt\"\n viewBox=\"0.00 0.00 427.79 167.90\" xmlns=\"http://www.w3.org/2000/svg\" xmlns:xlink=\"http://www.w3.org/1999/xlink\">\n<g id=\"graph0\" class=\"graph\" transform=\"scale(1 1) rotate(0) translate(4 163.9)\">\n<title>%3</title>\n<polygon fill=\"white\" stroke=\"transparent\" points=\"-4,4 -4,-163.9 423.79,-163.9 423.79,4 -4,4\"/>\n<!-- EMPTY -->\n<g id=\"node1\" class=\"node\">\n<title>EMPTY</title>\n</g>\n<!-- IF -->\n<g id=\"node5\" class=\"node\">\n<title>IF</title>\n<ellipse fill=\"none\" stroke=\"black\" cx=\"113.85\" cy=\"-71.15\" rx=\"18.72\" ry=\"18.72\"/>\n<ellipse fill=\"none\" stroke=\"black\" cx=\"113.85\" cy=\"-71.15\" rx=\"22.7\" ry=\"22.7\"/>\n<text text-anchor=\"middle\" x=\"113.85\" y=\"-67.45\" font-family=\"Times,serif\" font-size=\"14.00\">IF</text>\n</g>\n<!-- EMPTY&#45;&gt;IF -->\n<g id=\"edge1\" class=\"edge\">\n<title>EMPTY&#45;&gt;IF</title>\n<path fill=\"none\" stroke=\"black\" d=\"M54.38,-71.15C62.68,-71.15 71.94,-71.15 80.6,-71.15\"/>\n<polygon fill=\"black\" stroke=\"black\" points=\"80.76,-74.65 90.76,-71.15 80.76,-67.65 80.76,-74.65\"/>\n</g>\n<!-- BH -->\n<g id=\"node2\" class=\"node\">\n<title>BH</title>\n<ellipse fill=\"none\" stroke=\"black\" cx=\"397.04\" cy=\"-71.15\" rx=\"23\" ry=\"23\"/>\n<text text-anchor=\"middle\" x=\"397.04\" y=\"-67.45\" font-family=\"Times,serif\" font-size=\"14.00\">BH</text>\n</g>\n<!-- BH&#45;&gt;BH -->\n<g id=\"edge8\" class=\"edge\">\n<title>BH&#45;&gt;BH</title>\n<path fill=\"none\" stroke=\"black\" d=\"M392.78,-93.78C392.43,-103.54 393.85,-111.9 397.04,-111.9 399.03,-111.9 400.33,-108.63 400.94,-103.8\"/>\n<polygon fill=\"black\" stroke=\"black\" points=\"404.44,-103.89 401.3,-93.78 397.45,-103.65 404.44,-103.89\"/>\n<text text-anchor=\"middle\" x=\"397.04\" y=\"-115.7\" font-family=\"Times,serif\" font-size=\"14.00\">0 </text>\n</g>\n<!-- BH&#45;&gt;BH -->\n<g id=\"edge9\" class=\"edge\">\n<title>BH&#45;&gt;BH</title>\n<path fill=\"none\" stroke=\"black\" d=\"M389.73,-92.84C386.61,-110.96 389.04,-129.9 397.04,-129.9 403.53,-129.9 406.36,-117.4 405.52,-102.99\"/>\n<polygon fill=\"black\" stroke=\"black\" points=\"408.97,-102.37 404.35,-92.84 402.02,-103.18 408.97,-102.37\"/>\n<text text-anchor=\"middle\" x=\"397.04\" y=\"-133.7\" font-family=\"Times,serif\" font-size=\"14.00\">1 </text>\n</g>\n<!-- F1 -->\n<g id=\"node3\" class=\"node\">\n<title>F1</title>\n<ellipse fill=\"none\" stroke=\"black\" cx=\"303.14\" cy=\"-71.15\" rx=\"20.27\" ry=\"20.27\"/>\n<ellipse fill=\"none\" stroke=\"black\" cx=\"303.14\" cy=\"-71.15\" rx=\"24.3\" ry=\"24.3\"/>\n<text text-anchor=\"middle\" x=\"303.14\" y=\"-67.45\" font-family=\"Times,serif\" font-size=\"14.00\">F1</text>\n</g>\n<!-- F1&#45;&gt;BH -->\n<g id=\"edge6\" class=\"edge\">\n<title>F1&#45;&gt;BH</title>\n<path fill=\"none\" stroke=\"black\" d=\"M327.33,-71.15C338.43,-71.15 351.91,-71.15 363.98,-71.15\"/>\n<polygon fill=\"black\" stroke=\"black\" points=\"364.12,-74.65 374.12,-71.15 364.12,-67.65 364.12,-74.65\"/>\n<text text-anchor=\"middle\" x=\"350.79\" y=\"-74.95\" font-family=\"Times,serif\" font-size=\"14.00\">0 </text>\n</g>\n<!-- F1&#45;&gt;IF -->\n<g id=\"edge7\" class=\"edge\">\n<title>F1&#45;&gt;IF</title>\n<path fill=\"none\" stroke=\"black\" d=\"M280.02,-78.76C266.36,-83.04 248.38,-87.97 231.99,-90.15 210.72,-92.98 204.97,-93.03 183.7,-90.15 170.96,-88.42 157.25,-84.98 145.45,-81.49\"/>\n<polygon fill=\"black\" stroke=\"black\" points=\"146.22,-78.07 135.64,-78.46 144.16,-84.76 146.22,-78.07\"/>\n<text text-anchor=\"middle\" x=\"207.84\" y=\"-95.95\" font-family=\"Times,serif\" font-size=\"14.00\">1 </text>\n</g>\n<!-- F0 -->\n<g id=\"node4\" class=\"node\">\n<title>F0</title>\n<ellipse fill=\"none\" stroke=\"black\" cx=\"207.84\" cy=\"-24.15\" rx=\"20.27\" ry=\"20.27\"/>\n<ellipse fill=\"none\" stroke=\"black\" cx=\"207.84\" cy=\"-24.15\" rx=\"24.3\" ry=\"24.3\"/>\n<text text-anchor=\"middle\" x=\"207.84\" y=\"-20.45\" font-family=\"Times,serif\" font-size=\"14.00\">F0</text>\n</g>\n<!-- F0&#45;&gt;F1 -->\n<g id=\"edge5\" class=\"edge\">\n<title>F0&#45;&gt;F1</title>\n<path fill=\"none\" stroke=\"black\" d=\"M230.02,-34.81C242.51,-41.11 258.52,-49.17 272.28,-56.1\"/>\n<polygon fill=\"black\" stroke=\"black\" points=\"270.87,-59.31 281.38,-60.69 274.02,-53.06 270.87,-59.31\"/>\n<text text-anchor=\"middle\" x=\"255.49\" y=\"-51.95\" font-family=\"Times,serif\" font-size=\"14.00\">1 </text>\n</g>\n<!-- F0&#45;&gt;F0 -->\n<g id=\"edge4\" class=\"edge\">\n<title>F0&#45;&gt;F0</title>\n<path fill=\"none\" stroke=\"black\" d=\"M199.35,-47.13C198.55,-57.41 201.38,-66.3 207.84,-66.3 211.99,-66.3 214.64,-62.65 215.8,-57.32\"/>\n<polygon fill=\"black\" stroke=\"black\" points=\"219.3,-57.3 216.34,-47.13 212.31,-56.93 219.3,-57.3\"/>\n<text text-anchor=\"middle\" x=\"207.84\" y=\"-70.1\" font-family=\"Times,serif\" font-size=\"14.00\">0 </text>\n</g>\n<!-- IF&#45;&gt;F0 -->\n<g id=\"edge3\" class=\"edge\">\n<title>IF&#45;&gt;F0</title>\n<path fill=\"none\" stroke=\"black\" d=\"M134.81,-60.95C147.09,-54.68 163.06,-46.52 176.84,-39.48\"/>\n<polygon fill=\"black\" stroke=\"black\" points=\"178.65,-42.48 185.96,-34.82 175.47,-36.25 178.65,-42.48\"/>\n<text text-anchor=\"middle\" x=\"160.2\" y=\"-53.95\" font-family=\"Times,serif\" font-size=\"14.00\">0 </text>\n</g>\n<!-- IF&#45;&gt;IF -->\n<g id=\"edge2\" class=\"edge\">\n<title>IF&#45;&gt;IF</title>\n<path fill=\"none\" stroke=\"black\" d=\"M106.5,-93C105.69,-103.14 108.15,-112 113.85,-112 117.5,-112 119.82,-108.36 120.8,-103.08\"/>\n<polygon fill=\"black\" stroke=\"black\" points=\"124.31,-103.13 121.2,-93 117.31,-102.86 124.31,-103.13\"/>\n<text text-anchor=\"middle\" x=\"113.85\" y=\"-115.8\" font-family=\"Times,serif\" font-size=\"14.00\">1 </text>\n</g>\n</g>\n</svg>\n",
            "text/plain": [
              "<graphviz.graphs.Digraph at 0x78f894fe1c60>"
            ]
          },
          "metadata": {},
          "execution_count": 45
        }
      ],
      "source": [
        "dotObj_nfa(nfano010)"
      ]
    },
    {
      "cell_type": "code",
      "execution_count": 46,
      "metadata": {
        "id": "P02WOxkPaGb4"
      },
      "outputs": [],
      "source": [
        "gnfa010 = mk_gnfa(nfano010)"
      ]
    },
    {
      "cell_type": "code",
      "execution_count": 47,
      "metadata": {
        "id": "2hdmgTsQaGb4",
        "outputId": "d26bb8a3-ab92-4f2c-af3b-b4dd4d56aa2f",
        "colab": {
          "base_uri": "https://localhost:8080/",
          "height": 312
        }
      },
      "outputs": [
        {
          "output_type": "execute_result",
          "data": {
            "image/svg+xml": "<?xml version=\"1.0\" encoding=\"UTF-8\" standalone=\"no\"?>\n<!DOCTYPE svg PUBLIC \"-//W3C//DTD SVG 1.1//EN\"\n \"http://www.w3.org/Graphics/SVG/1.1/DTD/svg11.dtd\">\n<!-- Generated by graphviz version 2.43.0 (0)\n -->\n<!-- Title: %3 Pages: 1 -->\n<svg width=\"553pt\" height=\"218pt\"\n viewBox=\"0.00 0.00 552.98 218.14\" xmlns=\"http://www.w3.org/2000/svg\" xmlns:xlink=\"http://www.w3.org/1999/xlink\">\n<g id=\"graph0\" class=\"graph\" transform=\"scale(1 1) rotate(0) translate(4 214.14)\">\n<title>%3</title>\n<polygon fill=\"white\" stroke=\"transparent\" points=\"-4,4 -4,-214.14 548.98,-214.14 548.98,4 -4,4\"/>\n<!-- EMPTY -->\n<g id=\"node1\" class=\"node\">\n<title>EMPTY</title>\n</g>\n<!-- Real_I -->\n<g id=\"node3\" class=\"node\">\n<title>Real_I</title>\n<ellipse fill=\"none\" stroke=\"black\" cx=\"125.45\" cy=\"-43.4\" rx=\"34.39\" ry=\"34.39\"/>\n<text text-anchor=\"middle\" x=\"125.45\" y=\"-39.7\" font-family=\"Times,serif\" font-size=\"14.00\">Real_I</text>\n</g>\n<!-- EMPTY&#45;&gt;Real_I -->\n<g id=\"edge1\" class=\"edge\">\n<title>EMPTY&#45;&gt;Real_I</title>\n<path fill=\"none\" stroke=\"black\" d=\"M54.1,-43.4C62.29,-43.4 71.56,-43.4 80.63,-43.4\"/>\n<polygon fill=\"black\" stroke=\"black\" points=\"80.7,-46.9 90.7,-43.4 80.7,-39.9 80.7,-46.9\"/>\n</g>\n<!-- F1 -->\n<g id=\"node2\" class=\"node\">\n<title>F1</title>\n<ellipse fill=\"none\" stroke=\"black\" cx=\"397.04\" cy=\"-102.4\" rx=\"20.3\" ry=\"20.3\"/>\n<text text-anchor=\"middle\" x=\"397.04\" y=\"-98.7\" font-family=\"Times,serif\" font-size=\"14.00\">F1</text>\n</g>\n<!-- BH -->\n<g id=\"node5\" class=\"node\">\n<title>BH</title>\n<ellipse fill=\"none\" stroke=\"black\" cx=\"504.58\" cy=\"-121.4\" rx=\"23\" ry=\"23\"/>\n<text text-anchor=\"middle\" x=\"504.58\" y=\"-117.7\" font-family=\"Times,serif\" font-size=\"14.00\">BH</text>\n</g>\n<!-- F1&#45;&gt;BH -->\n<g id=\"edge6\" class=\"edge\">\n<title>F1&#45;&gt;BH</title>\n<path fill=\"none\" stroke=\"black\" d=\"M416.9,-105.79C432.17,-108.54 454,-112.47 471.93,-115.7\"/>\n<polygon fill=\"black\" stroke=\"black\" points=\"471.5,-119.18 481.96,-117.51 472.74,-112.29 471.5,-119.18\"/>\n<text text-anchor=\"middle\" x=\"440.68\" y=\"-114.2\" font-family=\"Times,serif\" font-size=\"14.00\">0 </text>\n</g>\n<!-- IF -->\n<g id=\"node6\" class=\"node\">\n<title>IF</title>\n<ellipse fill=\"none\" stroke=\"black\" cx=\"223.74\" cy=\"-43.4\" rx=\"18.7\" ry=\"18.7\"/>\n<text text-anchor=\"middle\" x=\"223.74\" y=\"-39.7\" font-family=\"Times,serif\" font-size=\"14.00\">IF</text>\n</g>\n<!-- F1&#45;&gt;IF -->\n<g id=\"edge7\" class=\"edge\">\n<title>F1&#45;&gt;IF</title>\n<path fill=\"none\" stroke=\"black\" d=\"M377.17,-107.32C355.25,-112.05 318.42,-116.96 289.59,-105.4 270.01,-97.54 253,-80.65 241.32,-66.48\"/>\n<polygon fill=\"black\" stroke=\"black\" points=\"244.01,-64.24 235.08,-58.54 238.51,-68.56 244.01,-64.24\"/>\n<text text-anchor=\"middle\" x=\"309.74\" y=\"-116.2\" font-family=\"Times,serif\" font-size=\"14.00\">1 </text>\n</g>\n<!-- Real_F -->\n<g id=\"node7\" class=\"node\">\n<title>Real_F</title>\n<ellipse fill=\"none\" stroke=\"black\" cx=\"504.58\" cy=\"-40.4\" rx=\"36.3\" ry=\"36.3\"/>\n<ellipse fill=\"none\" stroke=\"black\" cx=\"504.58\" cy=\"-40.4\" rx=\"40.29\" ry=\"40.29\"/>\n<text text-anchor=\"middle\" x=\"504.58\" y=\"-36.7\" font-family=\"Times,serif\" font-size=\"14.00\">Real_F</text>\n</g>\n<!-- F1&#45;&gt;Real_F -->\n<g id=\"edge11\" class=\"edge\">\n<title>F1&#45;&gt;Real_F</title>\n<path fill=\"none\" stroke=\"black\" d=\"M414.99,-92.44C427.28,-85.21 444.48,-75.11 460.46,-65.73\"/>\n<polygon fill=\"black\" stroke=\"black\" points=\"462.32,-68.69 469.17,-60.61 458.78,-62.66 462.32,-68.69\"/>\n<text text-anchor=\"middle\" x=\"440.68\" y=\"-84.2\" font-family=\"Times,serif\" font-size=\"14.00\">&#39;&#39; </text>\n</g>\n<!-- Real_I&#45;&gt;IF -->\n<g id=\"edge10\" class=\"edge\">\n<title>Real_I&#45;&gt;IF</title>\n<path fill=\"none\" stroke=\"black\" d=\"M160.13,-43.4C171.35,-43.4 183.74,-43.4 194.51,-43.4\"/>\n<polygon fill=\"black\" stroke=\"black\" points=\"194.64,-46.9 204.64,-43.4 194.64,-39.9 194.64,-46.9\"/>\n<text text-anchor=\"middle\" x=\"182.39\" y=\"-47.2\" font-family=\"Times,serif\" font-size=\"14.00\">&#39;&#39; </text>\n</g>\n<!-- F0 -->\n<g id=\"node4\" class=\"node\">\n<title>F0</title>\n<ellipse fill=\"none\" stroke=\"black\" cx=\"309.74\" cy=\"-43.4\" rx=\"20.3\" ry=\"20.3\"/>\n<text text-anchor=\"middle\" x=\"309.74\" y=\"-39.7\" font-family=\"Times,serif\" font-size=\"14.00\">F0</text>\n</g>\n<!-- F0&#45;&gt;F1 -->\n<g id=\"edge5\" class=\"edge\">\n<title>F0&#45;&gt;F1</title>\n<path fill=\"none\" stroke=\"black\" d=\"M326.78,-54.49C339.41,-63.23 357.22,-75.55 371.62,-85.51\"/>\n<polygon fill=\"black\" stroke=\"black\" points=\"369.85,-88.54 380.06,-91.35 373.83,-82.78 369.85,-88.54\"/>\n<text text-anchor=\"middle\" x=\"353.39\" y=\"-80.2\" font-family=\"Times,serif\" font-size=\"14.00\">1 </text>\n</g>\n<!-- F0&#45;&gt;F0 -->\n<g id=\"edge4\" class=\"edge\">\n<title>F0&#45;&gt;F0</title>\n<path fill=\"none\" stroke=\"black\" d=\"M302.19,-62.24C300.91,-72.34 303.42,-81.54 309.74,-81.54 313.79,-81.54 316.27,-77.77 317.2,-72.4\"/>\n<polygon fill=\"black\" stroke=\"black\" points=\"320.7,-72.27 317.29,-62.24 313.7,-72.21 320.7,-72.27\"/>\n<text text-anchor=\"middle\" x=\"309.74\" y=\"-85.34\" font-family=\"Times,serif\" font-size=\"14.00\">0 </text>\n</g>\n<!-- F0&#45;&gt;Real_F -->\n<g id=\"edge12\" class=\"edge\">\n<title>F0&#45;&gt;Real_F</title>\n<path fill=\"none\" stroke=\"black\" d=\"M329.93,-43.1C358.59,-42.65 413.52,-41.8 453.95,-41.17\"/>\n<polygon fill=\"black\" stroke=\"black\" points=\"454.21,-44.67 464.15,-41.01 454.1,-37.67 454.21,-44.67\"/>\n<text text-anchor=\"middle\" x=\"397.04\" y=\"-45.2\" font-family=\"Times,serif\" font-size=\"14.00\">&#39;&#39; </text>\n</g>\n<!-- BH&#45;&gt;BH -->\n<g id=\"edge8\" class=\"edge\">\n<title>BH&#45;&gt;BH</title>\n<path fill=\"none\" stroke=\"black\" d=\"M498.86,-143.61C498.31,-153.55 500.22,-162.14 504.58,-162.14 507.3,-162.14 509.07,-158.79 509.88,-153.84\"/>\n<polygon fill=\"black\" stroke=\"black\" points=\"513.39,-153.75 510.3,-143.61 506.39,-153.46 513.39,-153.75\"/>\n<text text-anchor=\"middle\" x=\"504.58\" y=\"-165.94\" font-family=\"Times,serif\" font-size=\"14.00\">0 </text>\n</g>\n<!-- BH&#45;&gt;BH -->\n<g id=\"edge9\" class=\"edge\">\n<title>BH&#45;&gt;BH</title>\n<path fill=\"none\" stroke=\"black\" d=\"M494.95,-142.17C490.41,-160.57 493.62,-180.14 504.58,-180.14 513.57,-180.14 517.35,-166.97 515.91,-152.08\"/>\n<polygon fill=\"black\" stroke=\"black\" points=\"519.35,-151.44 514.21,-142.17 512.45,-152.62 519.35,-151.44\"/>\n<text text-anchor=\"middle\" x=\"504.58\" y=\"-183.94\" font-family=\"Times,serif\" font-size=\"14.00\">1 </text>\n</g>\n<!-- IF&#45;&gt;F0 -->\n<g id=\"edge3\" class=\"edge\">\n<title>IF&#45;&gt;F0</title>\n<path fill=\"none\" stroke=\"black\" d=\"M242.97,-43.4C253.57,-43.4 267.18,-43.4 279.26,-43.4\"/>\n<polygon fill=\"black\" stroke=\"black\" points=\"279.38,-46.9 289.38,-43.4 279.38,-39.9 279.38,-46.9\"/>\n<text text-anchor=\"middle\" x=\"266.09\" y=\"-47.2\" font-family=\"Times,serif\" font-size=\"14.00\">0 </text>\n</g>\n<!-- IF&#45;&gt;IF -->\n<g id=\"edge2\" class=\"edge\">\n<title>IF&#45;&gt;IF</title>\n<path fill=\"none\" stroke=\"black\" d=\"M216.6,-61.22C215.27,-71.12 217.65,-80.25 223.74,-80.25 227.55,-80.25 229.91,-76.68 230.82,-71.59\"/>\n<polygon fill=\"black\" stroke=\"black\" points=\"234.32,-71.24 230.88,-61.22 227.32,-71.19 234.32,-71.24\"/>\n<text text-anchor=\"middle\" x=\"223.74\" y=\"-84.05\" font-family=\"Times,serif\" font-size=\"14.00\">1 </text>\n</g>\n<!-- IF&#45;&gt;Real_F -->\n<g id=\"edge13\" class=\"edge\">\n<title>IF&#45;&gt;Real_F</title>\n<path fill=\"none\" stroke=\"black\" d=\"M240.36,-34.16C253.11,-27.18 271.86,-18.18 289.59,-14.4 346.13,-2.33 412.34,-14.29 455.98,-25.68\"/>\n<polygon fill=\"black\" stroke=\"black\" points=\"455.18,-29.09 465.75,-28.32 457.01,-22.33 455.18,-29.09\"/>\n<text text-anchor=\"middle\" x=\"353.39\" y=\"-13.2\" font-family=\"Times,serif\" font-size=\"14.00\">&#39;&#39; </text>\n</g>\n</g>\n</svg>\n",
            "text/plain": [
              "<graphviz.graphs.Digraph at 0x78f894fe7e50>"
            ]
          },
          "metadata": {},
          "execution_count": 47
        }
      ],
      "source": [
        "dotObj_gnfa(gnfa010)"
      ]
    },
    {
      "cell_type": "code",
      "execution_count": 48,
      "metadata": {
        "id": "ickG3TqqaGb4",
        "outputId": "c679a3b7-b9ff-4034-ca21-e89338ee7dee",
        "colab": {
          "base_uri": "https://localhost:8080/"
        }
      },
      "outputs": [
        {
          "output_type": "stream",
          "name": "stdout",
          "text": [
            "Help on function del_gnfa_states in module jove.Def_NFA2RE:\n",
            "\n",
            "del_gnfa_states(Gin, DelList=[])\n",
            "    Given a GNFA Gin with no unreachable states, \n",
            "    delete all states but f\n",
            "    or Real_I and Real_F.\n",
            "    If DelList is given, follow the state deletion\n",
            "    order mentioned therein; else choose order internally.\n",
            "    \n",
            "    Return a triple (Gfinal, dotObj_List, final_re_str), where\n",
            "      Gfinal       : the final GNFA\n",
            "      dotObj_List  : a list of Dot objects recording the process of\n",
            "                     deleting states and forming intermediate REs\n",
            "      final_re_str : the final RE as a string (ready to be fed to  \n",
            "                     re2nfa for converting back to an NFA)\n",
            "\n"
          ]
        }
      ],
      "source": [
        "help(del_gnfa_states)"
      ]
    },
    {
      "cell_type": "code",
      "execution_count": 49,
      "metadata": {
        "id": "nQ91R3-2aGb4",
        "outputId": "1eefb118-4aac-4be3-a685-d0e0a47c21b4",
        "colab": {
          "base_uri": "https://localhost:8080/"
        }
      },
      "outputs": [
        {
          "output_type": "stream",
          "name": "stdout",
          "text": [
            "**** Eliminating state F1 ****\n",
            "**** Eliminating state F0 ****\n",
            "**** Eliminating state IF ****\n",
            "**** Eliminating state BH ****\n"
          ]
        }
      ],
      "source": [
        "(GF,DO,RE) = del_gnfa_states(gnfa010)"
      ]
    },
    {
      "cell_type": "code",
      "execution_count": 50,
      "metadata": {
        "id": "QPmu_hK0aGb4",
        "outputId": "0e5a251a-8e38-426b-eb5b-5f7b88d4ac1c",
        "colab": {
          "base_uri": "https://localhost:8080/",
          "height": 35
        }
      },
      "outputs": [
        {
          "output_type": "execute_result",
          "data": {
            "text/plain": [
              "'(((((0 ((0)* (1 1))) + 1) + 1))* (((0 ((0)* ((1 + \"\") + \"\"))) + \"\") + \"\"))'"
            ],
            "application/vnd.google.colaboratory.intrinsic+json": {
              "type": "string"
            }
          },
          "metadata": {},
          "execution_count": 50
        }
      ],
      "source": [
        "RE"
      ]
    },
    {
      "cell_type": "code",
      "execution_count": 51,
      "metadata": {
        "scrolled": true,
        "id": "beof2WZpaGb4",
        "outputId": "1b5e2aed-f9c1-4dbd-ec83-e3349bdf3c03",
        "colab": {
          "base_uri": "https://localhost:8080/",
          "height": 312
        }
      },
      "outputs": [
        {
          "output_type": "execute_result",
          "data": {
            "image/svg+xml": "<?xml version=\"1.0\" encoding=\"UTF-8\" standalone=\"no\"?>\n<!DOCTYPE svg PUBLIC \"-//W3C//DTD SVG 1.1//EN\"\n \"http://www.w3.org/Graphics/SVG/1.1/DTD/svg11.dtd\">\n<!-- Generated by graphviz version 2.43.0 (0)\n -->\n<!-- Title: %3 Pages: 1 -->\n<svg width=\"553pt\" height=\"218pt\"\n viewBox=\"0.00 0.00 552.98 218.14\" xmlns=\"http://www.w3.org/2000/svg\" xmlns:xlink=\"http://www.w3.org/1999/xlink\">\n<g id=\"graph0\" class=\"graph\" transform=\"scale(1 1) rotate(0) translate(4 214.14)\">\n<title>%3</title>\n<polygon fill=\"white\" stroke=\"transparent\" points=\"-4,4 -4,-214.14 548.98,-214.14 548.98,4 -4,4\"/>\n<!-- EMPTY -->\n<g id=\"node1\" class=\"node\">\n<title>EMPTY</title>\n</g>\n<!-- Real_I -->\n<g id=\"node6\" class=\"node\">\n<title>Real_I</title>\n<ellipse fill=\"none\" stroke=\"black\" cx=\"125.45\" cy=\"-43.4\" rx=\"34.39\" ry=\"34.39\"/>\n<text text-anchor=\"middle\" x=\"125.45\" y=\"-39.7\" font-family=\"Times,serif\" font-size=\"14.00\">Real_I</text>\n</g>\n<!-- EMPTY&#45;&gt;Real_I -->\n<g id=\"edge1\" class=\"edge\">\n<title>EMPTY&#45;&gt;Real_I</title>\n<path fill=\"none\" stroke=\"black\" d=\"M54.1,-43.4C62.29,-43.4 71.56,-43.4 80.63,-43.4\"/>\n<polygon fill=\"black\" stroke=\"black\" points=\"80.7,-46.9 90.7,-43.4 80.7,-39.9 80.7,-46.9\"/>\n</g>\n<!-- F1 -->\n<g id=\"node2\" class=\"node\">\n<title>F1</title>\n<ellipse fill=\"none\" stroke=\"black\" cx=\"397.04\" cy=\"-102.4\" rx=\"20.3\" ry=\"20.3\"/>\n<text text-anchor=\"middle\" x=\"397.04\" y=\"-98.7\" font-family=\"Times,serif\" font-size=\"14.00\">F1</text>\n</g>\n<!-- IF -->\n<g id=\"node4\" class=\"node\">\n<title>IF</title>\n<ellipse fill=\"none\" stroke=\"black\" cx=\"223.74\" cy=\"-43.4\" rx=\"18.7\" ry=\"18.7\"/>\n<text text-anchor=\"middle\" x=\"223.74\" y=\"-39.7\" font-family=\"Times,serif\" font-size=\"14.00\">IF</text>\n</g>\n<!-- F1&#45;&gt;IF -->\n<g id=\"edge7\" class=\"edge\">\n<title>F1&#45;&gt;IF</title>\n<path fill=\"none\" stroke=\"black\" d=\"M377.17,-107.32C355.25,-112.05 318.42,-116.96 289.59,-105.4 270.01,-97.54 253,-80.65 241.32,-66.48\"/>\n<polygon fill=\"black\" stroke=\"black\" points=\"244.01,-64.24 235.08,-58.54 238.51,-68.56 244.01,-64.24\"/>\n<text text-anchor=\"middle\" x=\"309.74\" y=\"-116.2\" font-family=\"Times,serif\" font-size=\"14.00\">1 </text>\n</g>\n<!-- BH -->\n<g id=\"node5\" class=\"node\">\n<title>BH</title>\n<ellipse fill=\"none\" stroke=\"black\" cx=\"504.58\" cy=\"-121.4\" rx=\"23\" ry=\"23\"/>\n<text text-anchor=\"middle\" x=\"504.58\" y=\"-117.7\" font-family=\"Times,serif\" font-size=\"14.00\">BH</text>\n</g>\n<!-- F1&#45;&gt;BH -->\n<g id=\"edge6\" class=\"edge\">\n<title>F1&#45;&gt;BH</title>\n<path fill=\"none\" stroke=\"black\" d=\"M416.9,-105.79C432.17,-108.54 454,-112.47 471.93,-115.7\"/>\n<polygon fill=\"black\" stroke=\"black\" points=\"471.5,-119.18 481.96,-117.51 472.74,-112.29 471.5,-119.18\"/>\n<text text-anchor=\"middle\" x=\"440.68\" y=\"-114.2\" font-family=\"Times,serif\" font-size=\"14.00\">0 </text>\n</g>\n<!-- Real_F -->\n<g id=\"node7\" class=\"node\">\n<title>Real_F</title>\n<ellipse fill=\"none\" stroke=\"black\" cx=\"504.58\" cy=\"-40.4\" rx=\"36.3\" ry=\"36.3\"/>\n<ellipse fill=\"none\" stroke=\"black\" cx=\"504.58\" cy=\"-40.4\" rx=\"40.29\" ry=\"40.29\"/>\n<text text-anchor=\"middle\" x=\"504.58\" y=\"-36.7\" font-family=\"Times,serif\" font-size=\"14.00\">Real_F</text>\n</g>\n<!-- F1&#45;&gt;Real_F -->\n<g id=\"edge11\" class=\"edge\">\n<title>F1&#45;&gt;Real_F</title>\n<path fill=\"none\" stroke=\"black\" d=\"M414.99,-92.44C427.28,-85.21 444.48,-75.11 460.46,-65.73\"/>\n<polygon fill=\"black\" stroke=\"black\" points=\"462.32,-68.69 469.17,-60.61 458.78,-62.66 462.32,-68.69\"/>\n<text text-anchor=\"middle\" x=\"440.68\" y=\"-84.2\" font-family=\"Times,serif\" font-size=\"14.00\">&#39;&#39; </text>\n</g>\n<!-- F0 -->\n<g id=\"node3\" class=\"node\">\n<title>F0</title>\n<ellipse fill=\"none\" stroke=\"black\" cx=\"309.74\" cy=\"-43.4\" rx=\"20.3\" ry=\"20.3\"/>\n<text text-anchor=\"middle\" x=\"309.74\" y=\"-39.7\" font-family=\"Times,serif\" font-size=\"14.00\">F0</text>\n</g>\n<!-- F0&#45;&gt;F1 -->\n<g id=\"edge5\" class=\"edge\">\n<title>F0&#45;&gt;F1</title>\n<path fill=\"none\" stroke=\"black\" d=\"M326.78,-54.49C339.41,-63.23 357.22,-75.55 371.62,-85.51\"/>\n<polygon fill=\"black\" stroke=\"black\" points=\"369.85,-88.54 380.06,-91.35 373.83,-82.78 369.85,-88.54\"/>\n<text text-anchor=\"middle\" x=\"353.39\" y=\"-80.2\" font-family=\"Times,serif\" font-size=\"14.00\">1 </text>\n</g>\n<!-- F0&#45;&gt;F0 -->\n<g id=\"edge4\" class=\"edge\">\n<title>F0&#45;&gt;F0</title>\n<path fill=\"none\" stroke=\"black\" d=\"M302.19,-62.24C300.91,-72.34 303.42,-81.54 309.74,-81.54 313.79,-81.54 316.27,-77.77 317.2,-72.4\"/>\n<polygon fill=\"black\" stroke=\"black\" points=\"320.7,-72.27 317.29,-62.24 313.7,-72.21 320.7,-72.27\"/>\n<text text-anchor=\"middle\" x=\"309.74\" y=\"-85.34\" font-family=\"Times,serif\" font-size=\"14.00\">0 </text>\n</g>\n<!-- F0&#45;&gt;Real_F -->\n<g id=\"edge12\" class=\"edge\">\n<title>F0&#45;&gt;Real_F</title>\n<path fill=\"none\" stroke=\"black\" d=\"M329.93,-43.1C358.59,-42.65 413.52,-41.8 453.95,-41.17\"/>\n<polygon fill=\"black\" stroke=\"black\" points=\"454.21,-44.67 464.15,-41.01 454.1,-37.67 454.21,-44.67\"/>\n<text text-anchor=\"middle\" x=\"397.04\" y=\"-45.2\" font-family=\"Times,serif\" font-size=\"14.00\">&#39;&#39; </text>\n</g>\n<!-- IF&#45;&gt;F0 -->\n<g id=\"edge3\" class=\"edge\">\n<title>IF&#45;&gt;F0</title>\n<path fill=\"none\" stroke=\"black\" d=\"M242.97,-43.4C253.57,-43.4 267.18,-43.4 279.26,-43.4\"/>\n<polygon fill=\"black\" stroke=\"black\" points=\"279.38,-46.9 289.38,-43.4 279.38,-39.9 279.38,-46.9\"/>\n<text text-anchor=\"middle\" x=\"266.09\" y=\"-47.2\" font-family=\"Times,serif\" font-size=\"14.00\">0 </text>\n</g>\n<!-- IF&#45;&gt;IF -->\n<g id=\"edge2\" class=\"edge\">\n<title>IF&#45;&gt;IF</title>\n<path fill=\"none\" stroke=\"black\" d=\"M216.6,-61.22C215.27,-71.12 217.65,-80.25 223.74,-80.25 227.55,-80.25 229.91,-76.68 230.82,-71.59\"/>\n<polygon fill=\"black\" stroke=\"black\" points=\"234.32,-71.24 230.88,-61.22 227.32,-71.19 234.32,-71.24\"/>\n<text text-anchor=\"middle\" x=\"223.74\" y=\"-84.05\" font-family=\"Times,serif\" font-size=\"14.00\">1 </text>\n</g>\n<!-- IF&#45;&gt;Real_F -->\n<g id=\"edge13\" class=\"edge\">\n<title>IF&#45;&gt;Real_F</title>\n<path fill=\"none\" stroke=\"black\" d=\"M240.36,-34.16C253.11,-27.18 271.86,-18.18 289.59,-14.4 346.13,-2.33 412.34,-14.29 455.98,-25.68\"/>\n<polygon fill=\"black\" stroke=\"black\" points=\"455.18,-29.09 465.75,-28.32 457.01,-22.33 455.18,-29.09\"/>\n<text text-anchor=\"middle\" x=\"353.39\" y=\"-13.2\" font-family=\"Times,serif\" font-size=\"14.00\">&#39;&#39; </text>\n</g>\n<!-- BH&#45;&gt;BH -->\n<g id=\"edge8\" class=\"edge\">\n<title>BH&#45;&gt;BH</title>\n<path fill=\"none\" stroke=\"black\" d=\"M498.86,-143.61C498.31,-153.55 500.22,-162.14 504.58,-162.14 507.3,-162.14 509.07,-158.79 509.88,-153.84\"/>\n<polygon fill=\"black\" stroke=\"black\" points=\"513.39,-153.75 510.3,-143.61 506.39,-153.46 513.39,-153.75\"/>\n<text text-anchor=\"middle\" x=\"504.58\" y=\"-165.94\" font-family=\"Times,serif\" font-size=\"14.00\">0 </text>\n</g>\n<!-- BH&#45;&gt;BH -->\n<g id=\"edge9\" class=\"edge\">\n<title>BH&#45;&gt;BH</title>\n<path fill=\"none\" stroke=\"black\" d=\"M494.95,-142.17C490.41,-160.57 493.62,-180.14 504.58,-180.14 513.57,-180.14 517.35,-166.97 515.91,-152.08\"/>\n<polygon fill=\"black\" stroke=\"black\" points=\"519.35,-151.44 514.21,-142.17 512.45,-152.62 519.35,-151.44\"/>\n<text text-anchor=\"middle\" x=\"504.58\" y=\"-183.94\" font-family=\"Times,serif\" font-size=\"14.00\">1 </text>\n</g>\n<!-- Real_I&#45;&gt;IF -->\n<g id=\"edge10\" class=\"edge\">\n<title>Real_I&#45;&gt;IF</title>\n<path fill=\"none\" stroke=\"black\" d=\"M160.13,-43.4C171.35,-43.4 183.74,-43.4 194.51,-43.4\"/>\n<polygon fill=\"black\" stroke=\"black\" points=\"194.64,-46.9 204.64,-43.4 194.64,-39.9 194.64,-46.9\"/>\n<text text-anchor=\"middle\" x=\"182.39\" y=\"-47.2\" font-family=\"Times,serif\" font-size=\"14.00\">&#39;&#39; </text>\n</g>\n</g>\n</svg>\n",
            "text/plain": [
              "<graphviz.graphs.Digraph at 0x78f894fe4700>"
            ]
          },
          "metadata": {},
          "execution_count": 51
        }
      ],
      "source": [
        "DO[0]"
      ]
    },
    {
      "cell_type": "code",
      "execution_count": 52,
      "metadata": {
        "id": "a0G0y5q-aGb4",
        "outputId": "45e356e4-faa0-4805-9236-66a0033a6491",
        "colab": {
          "base_uri": "https://localhost:8080/",
          "height": 312
        }
      },
      "outputs": [
        {
          "output_type": "execute_result",
          "data": {
            "image/svg+xml": "<?xml version=\"1.0\" encoding=\"UTF-8\" standalone=\"no\"?>\n<!DOCTYPE svg PUBLIC \"-//W3C//DTD SVG 1.1//EN\"\n \"http://www.w3.org/Graphics/SVG/1.1/DTD/svg11.dtd\">\n<!-- Generated by graphviz version 2.43.0 (0)\n -->\n<!-- Title: %3 Pages: 1 -->\n<svg width=\"530pt\" height=\"218pt\"\n viewBox=\"0.00 0.00 529.68 218.14\" xmlns=\"http://www.w3.org/2000/svg\" xmlns:xlink=\"http://www.w3.org/1999/xlink\">\n<g id=\"graph0\" class=\"graph\" transform=\"scale(1 1) rotate(0) translate(4 214.14)\">\n<title>%3</title>\n<polygon fill=\"white\" stroke=\"transparent\" points=\"-4,4 -4,-214.14 525.68,-214.14 525.68,4 -4,4\"/>\n<!-- EMPTY -->\n<g id=\"node1\" class=\"node\">\n<title>EMPTY</title>\n</g>\n<!-- Real_I -->\n<g id=\"node3\" class=\"node\">\n<title>Real_I</title>\n<ellipse fill=\"none\" stroke=\"black\" cx=\"125.45\" cy=\"-42.4\" rx=\"34.39\" ry=\"34.39\"/>\n<text text-anchor=\"middle\" x=\"125.45\" y=\"-38.7\" font-family=\"Times,serif\" font-size=\"14.00\">Real_I</text>\n</g>\n<!-- EMPTY&#45;&gt;Real_I -->\n<g id=\"edge1\" class=\"edge\">\n<title>EMPTY&#45;&gt;Real_I</title>\n<path fill=\"none\" stroke=\"black\" d=\"M54.1,-42.4C62.29,-42.4 71.56,-42.4 80.63,-42.4\"/>\n<polygon fill=\"black\" stroke=\"black\" points=\"80.7,-45.9 90.7,-42.4 80.7,-38.9 80.7,-45.9\"/>\n</g>\n<!-- F0 -->\n<g id=\"node2\" class=\"node\">\n<title>F0</title>\n<ellipse fill=\"none\" stroke=\"black\" cx=\"336.74\" cy=\"-80.4\" rx=\"20.3\" ry=\"20.3\"/>\n<text text-anchor=\"middle\" x=\"336.74\" y=\"-76.7\" font-family=\"Times,serif\" font-size=\"14.00\">F0</text>\n</g>\n<!-- F0&#45;&gt;F0 -->\n<g id=\"edge7\" class=\"edge\">\n<title>F0&#45;&gt;F0</title>\n<path fill=\"none\" stroke=\"black\" d=\"M327.52,-98.45C325.64,-108.86 328.72,-118.54 336.74,-118.54 342,-118.54 345.14,-114.37 346.14,-108.56\"/>\n<polygon fill=\"black\" stroke=\"black\" points=\"349.63,-108.39 345.95,-98.45 342.64,-108.51 349.63,-108.39\"/>\n<text text-anchor=\"middle\" x=\"336.74\" y=\"-122.34\" font-family=\"Times,serif\" font-size=\"14.00\">0 </text>\n</g>\n<!-- BH -->\n<g id=\"node4\" class=\"node\">\n<title>BH</title>\n<ellipse fill=\"none\" stroke=\"black\" cx=\"481.28\" cy=\"-121.4\" rx=\"23\" ry=\"23\"/>\n<text text-anchor=\"middle\" x=\"481.28\" y=\"-117.7\" font-family=\"Times,serif\" font-size=\"14.00\">BH</text>\n</g>\n<!-- F0&#45;&gt;BH -->\n<g id=\"edge3\" class=\"edge\">\n<title>F0&#45;&gt;BH</title>\n<path fill=\"none\" stroke=\"black\" d=\"M356.37,-85.76C380.03,-92.56 421.17,-104.4 449.52,-112.55\"/>\n<polygon fill=\"black\" stroke=\"black\" points=\"448.75,-115.97 459.33,-115.37 450.68,-109.24 448.75,-115.97\"/>\n<text text-anchor=\"middle\" x=\"398.89\" y=\"-108.2\" font-family=\"Times,serif\" font-size=\"14.00\">(1 0) </text>\n</g>\n<!-- IF -->\n<g id=\"node5\" class=\"node\">\n<title>IF</title>\n<ellipse fill=\"none\" stroke=\"black\" cx=\"230.74\" cy=\"-42.4\" rx=\"18.7\" ry=\"18.7\"/>\n<text text-anchor=\"middle\" x=\"230.74\" y=\"-38.7\" font-family=\"Times,serif\" font-size=\"14.00\">IF</text>\n</g>\n<!-- F0&#45;&gt;IF -->\n<g id=\"edge2\" class=\"edge\">\n<title>F0&#45;&gt;IF</title>\n<path fill=\"none\" stroke=\"black\" d=\"M324.27,-64.14C317.74,-56.32 308.82,-47.71 298.59,-43.4 286.51,-38.3 272.08,-37.51 259.73,-38.21\"/>\n<polygon fill=\"black\" stroke=\"black\" points=\"259.15,-34.75 249.51,-39.14 259.79,-41.72 259.15,-34.75\"/>\n<text text-anchor=\"middle\" x=\"283.09\" y=\"-47.2\" font-family=\"Times,serif\" font-size=\"14.00\">(1 1) </text>\n</g>\n<!-- Real_F -->\n<g id=\"node6\" class=\"node\">\n<title>Real_F</title>\n<ellipse fill=\"none\" stroke=\"black\" cx=\"481.28\" cy=\"-40.4\" rx=\"36.3\" ry=\"36.3\"/>\n<ellipse fill=\"none\" stroke=\"black\" cx=\"481.28\" cy=\"-40.4\" rx=\"40.29\" ry=\"40.29\"/>\n<text text-anchor=\"middle\" x=\"481.28\" y=\"-36.7\" font-family=\"Times,serif\" font-size=\"14.00\">Real_F</text>\n</g>\n<!-- F0&#45;&gt;Real_F -->\n<g id=\"edge4\" class=\"edge\">\n<title>F0&#45;&gt;Real_F</title>\n<path fill=\"none\" stroke=\"black\" d=\"M356.42,-75.86C373.72,-71.59 400.13,-64.9 422.89,-58.4 426.2,-57.45 429.61,-56.45 433.05,-55.42\"/>\n<polygon fill=\"black\" stroke=\"black\" points=\"434.15,-58.74 442.7,-52.49 432.11,-52.05 434.15,-58.74\"/>\n<text text-anchor=\"middle\" x=\"398.89\" y=\"-74.2\" font-family=\"Times,serif\" font-size=\"14.00\">(1 + &quot;&quot;) </text>\n</g>\n<!-- F0&#45;&gt;Real_F -->\n<g id=\"edge11\" class=\"edge\">\n<title>F0&#45;&gt;Real_F</title>\n<path fill=\"none\" stroke=\"black\" d=\"M348.19,-63.21C354.65,-54.31 363.82,-44.3 374.89,-39.4 392.32,-31.67 413.02,-30.4 431.45,-31.61\"/>\n<polygon fill=\"black\" stroke=\"black\" points=\"431.14,-35.09 441.41,-32.51 431.77,-28.12 431.14,-35.09\"/>\n<text text-anchor=\"middle\" x=\"398.89\" y=\"-43.2\" font-family=\"Times,serif\" font-size=\"14.00\">&quot;&quot; </text>\n</g>\n<!-- Real_I&#45;&gt;IF -->\n<g id=\"edge10\" class=\"edge\">\n<title>Real_I&#45;&gt;IF</title>\n<path fill=\"none\" stroke=\"black\" d=\"M159.98,-42.4C173.42,-42.4 188.73,-42.4 201.58,-42.4\"/>\n<polygon fill=\"black\" stroke=\"black\" points=\"201.7,-45.9 211.7,-42.4 201.7,-38.9 201.7,-45.9\"/>\n<text text-anchor=\"middle\" x=\"185.89\" y=\"-46.2\" font-family=\"Times,serif\" font-size=\"14.00\">&quot;&quot; </text>\n</g>\n<!-- BH&#45;&gt;BH -->\n<g id=\"edge8\" class=\"edge\">\n<title>BH&#45;&gt;BH</title>\n<path fill=\"none\" stroke=\"black\" d=\"M473.75,-143.2C472.93,-153.31 475.44,-162.14 481.28,-162.14 485.03,-162.14 487.41,-158.52 488.41,-153.25\"/>\n<polygon fill=\"black\" stroke=\"black\" points=\"491.91,-153.33 488.82,-143.2 484.92,-153.05 491.91,-153.33\"/>\n<text text-anchor=\"middle\" x=\"481.28\" y=\"-165.94\" font-family=\"Times,serif\" font-size=\"14.00\">0 </text>\n</g>\n<!-- BH&#45;&gt;BH -->\n<g id=\"edge9\" class=\"edge\">\n<title>BH&#45;&gt;BH</title>\n<path fill=\"none\" stroke=\"black\" d=\"M469.07,-140.65C462.32,-159.47 466.39,-180.14 481.28,-180.14 493.62,-180.14 498.53,-165.97 496.02,-150.41\"/>\n<polygon fill=\"black\" stroke=\"black\" points=\"499.39,-149.46 493.5,-140.65 492.62,-151.21 499.39,-149.46\"/>\n<text text-anchor=\"middle\" x=\"481.28\" y=\"-183.94\" font-family=\"Times,serif\" font-size=\"14.00\">1 </text>\n</g>\n<!-- IF&#45;&gt;F0 -->\n<g id=\"edge6\" class=\"edge\">\n<title>IF&#45;&gt;F0</title>\n<path fill=\"none\" stroke=\"black\" d=\"M248.01,-50.1C254.09,-52.86 261.1,-55.91 267.59,-58.4 280.47,-63.33 294.98,-68.12 307.3,-71.97\"/>\n<polygon fill=\"black\" stroke=\"black\" points=\"306.45,-75.37 317.04,-74.95 308.51,-68.67 306.45,-75.37\"/>\n<text text-anchor=\"middle\" x=\"283.09\" y=\"-72.2\" font-family=\"Times,serif\" font-size=\"14.00\">0 </text>\n</g>\n<!-- IF&#45;&gt;IF -->\n<g id=\"edge5\" class=\"edge\">\n<title>IF&#45;&gt;IF</title>\n<path fill=\"none\" stroke=\"black\" d=\"M222.95,-59.84C221.35,-69.89 223.95,-79.25 230.74,-79.25 235.09,-79.25 237.72,-75.4 238.63,-70\"/>\n<polygon fill=\"black\" stroke=\"black\" points=\"242.13,-69.8 238.54,-59.84 235.13,-69.87 242.13,-69.8\"/>\n<text text-anchor=\"middle\" x=\"230.74\" y=\"-83.05\" font-family=\"Times,serif\" font-size=\"14.00\">1 </text>\n</g>\n<!-- IF&#45;&gt;Real_F -->\n<g id=\"edge12\" class=\"edge\">\n<title>IF&#45;&gt;Real_F</title>\n<path fill=\"none\" stroke=\"black\" d=\"M249.12,-37.36C254.94,-35.86 261.5,-34.35 267.59,-33.4 335.85,-22.69 354.29,-18.15 422.89,-26.4 425.95,-26.76 429.08,-27.24 432.22,-27.79\"/>\n<polygon fill=\"black\" stroke=\"black\" points=\"431.74,-31.26 442.23,-29.77 433.1,-24.4 431.74,-31.26\"/>\n<text text-anchor=\"middle\" x=\"336.74\" y=\"-29.2\" font-family=\"Times,serif\" font-size=\"14.00\">&quot;&quot; </text>\n</g>\n</g>\n</svg>\n",
            "text/plain": [
              "<graphviz.graphs.Digraph at 0x78f894fe7af0>"
            ]
          },
          "metadata": {},
          "execution_count": 52
        }
      ],
      "source": [
        "DO[1]"
      ]
    },
    {
      "cell_type": "code",
      "execution_count": 53,
      "metadata": {
        "id": "5hk0sFdtaGb5",
        "outputId": "f212d647-41bc-4d78-8e83-f9866893ed73",
        "colab": {
          "base_uri": "https://localhost:8080/",
          "height": 312
        }
      },
      "outputs": [
        {
          "output_type": "execute_result",
          "data": {
            "image/svg+xml": "<?xml version=\"1.0\" encoding=\"UTF-8\" standalone=\"no\"?>\n<!DOCTYPE svg PUBLIC \"-//W3C//DTD SVG 1.1//EN\"\n \"http://www.w3.org/Graphics/SVG/1.1/DTD/svg11.dtd\">\n<!-- Generated by graphviz version 2.43.0 (0)\n -->\n<!-- Title: %3 Pages: 1 -->\n<svg width=\"550pt\" height=\"218pt\"\n viewBox=\"0.00 0.00 550.38 218.14\" xmlns=\"http://www.w3.org/2000/svg\" xmlns:xlink=\"http://www.w3.org/1999/xlink\">\n<g id=\"graph0\" class=\"graph\" transform=\"scale(1 1) rotate(0) translate(4 214.14)\">\n<title>%3</title>\n<polygon fill=\"white\" stroke=\"transparent\" points=\"-4,4 -4,-214.14 546.38,-214.14 546.38,4 -4,4\"/>\n<!-- EMPTY -->\n<g id=\"node1\" class=\"node\">\n<title>EMPTY</title>\n</g>\n<!-- Real_I -->\n<g id=\"node2\" class=\"node\">\n<title>Real_I</title>\n<ellipse fill=\"none\" stroke=\"black\" cx=\"125.45\" cy=\"-78.4\" rx=\"34.39\" ry=\"34.39\"/>\n<text text-anchor=\"middle\" x=\"125.45\" y=\"-74.7\" font-family=\"Times,serif\" font-size=\"14.00\">Real_I</text>\n</g>\n<!-- EMPTY&#45;&gt;Real_I -->\n<g id=\"edge1\" class=\"edge\">\n<title>EMPTY&#45;&gt;Real_I</title>\n<path fill=\"none\" stroke=\"black\" d=\"M54.1,-78.4C62.29,-78.4 71.56,-78.4 80.63,-78.4\"/>\n<polygon fill=\"black\" stroke=\"black\" points=\"80.7,-81.9 90.7,-78.4 80.7,-74.9 80.7,-81.9\"/>\n</g>\n<!-- IF -->\n<g id=\"node4\" class=\"node\">\n<title>IF</title>\n<ellipse fill=\"none\" stroke=\"black\" cx=\"230.74\" cy=\"-78.4\" rx=\"18.7\" ry=\"18.7\"/>\n<text text-anchor=\"middle\" x=\"230.74\" y=\"-74.7\" font-family=\"Times,serif\" font-size=\"14.00\">IF</text>\n</g>\n<!-- Real_I&#45;&gt;IF -->\n<g id=\"edge8\" class=\"edge\">\n<title>Real_I&#45;&gt;IF</title>\n<path fill=\"none\" stroke=\"black\" d=\"M159.98,-78.4C173.42,-78.4 188.73,-78.4 201.58,-78.4\"/>\n<polygon fill=\"black\" stroke=\"black\" points=\"201.7,-81.9 211.7,-78.4 201.7,-74.9 201.7,-81.9\"/>\n<text text-anchor=\"middle\" x=\"185.89\" y=\"-82.2\" font-family=\"Times,serif\" font-size=\"14.00\">&quot;&quot; </text>\n</g>\n<!-- BH -->\n<g id=\"node3\" class=\"node\">\n<title>BH</title>\n<ellipse fill=\"none\" stroke=\"black\" cx=\"501.99\" cy=\"-121.4\" rx=\"23\" ry=\"23\"/>\n<text text-anchor=\"middle\" x=\"501.99\" y=\"-117.7\" font-family=\"Times,serif\" font-size=\"14.00\">BH</text>\n</g>\n<!-- BH&#45;&gt;BH -->\n<g id=\"edge6\" class=\"edge\">\n<title>BH&#45;&gt;BH</title>\n<path fill=\"none\" stroke=\"black\" d=\"M489.16,-140.26C486.3,-151.53 490.58,-162.14 501.99,-162.14 509.83,-162.14 514.3,-157.13 515.4,-150.33\"/>\n<polygon fill=\"black\" stroke=\"black\" points=\"518.89,-150.04 514.82,-140.26 511.9,-150.44 518.89,-150.04\"/>\n<text text-anchor=\"middle\" x=\"501.99\" y=\"-165.94\" font-family=\"Times,serif\" font-size=\"14.00\">0 </text>\n</g>\n<!-- BH&#45;&gt;BH -->\n<g id=\"edge7\" class=\"edge\">\n<title>BH&#45;&gt;BH</title>\n<path fill=\"none\" stroke=\"black\" d=\"M484.01,-135.56C467.05,-155.52 473.04,-180.14 501.99,-180.14 526.86,-180.14 534.78,-161.96 525.76,-144.17\"/>\n<polygon fill=\"black\" stroke=\"black\" points=\"528.45,-141.9 519.96,-135.56 522.64,-145.81 528.45,-141.9\"/>\n<text text-anchor=\"middle\" x=\"501.99\" y=\"-183.94\" font-family=\"Times,serif\" font-size=\"14.00\">1 </text>\n</g>\n<!-- IF&#45;&gt;BH -->\n<g id=\"edge3\" class=\"edge\">\n<title>IF&#45;&gt;BH</title>\n<path fill=\"none\" stroke=\"black\" d=\"M247.77,-86.81C253.83,-89.65 260.89,-92.56 267.59,-94.4 337.7,-113.61 423.3,-119.16 468.85,-120.75\"/>\n<polygon fill=\"black\" stroke=\"black\" points=\"468.91,-124.26 479.01,-121.07 469.12,-117.26 468.91,-124.26\"/>\n<text text-anchor=\"middle\" x=\"355.59\" y=\"-123.2\" font-family=\"Times,serif\" font-size=\"14.00\">(0 ((0)* (1 0))) </text>\n</g>\n<!-- IF&#45;&gt;IF -->\n<g id=\"edge2\" class=\"edge\">\n<title>IF&#45;&gt;IF</title>\n<path fill=\"none\" stroke=\"black\" d=\"M226.76,-96.98C226.15,-106.58 227.48,-115.25 230.74,-115.25 232.78,-115.25 234.07,-111.86 234.59,-106.98\"/>\n<polygon fill=\"black\" stroke=\"black\" points=\"238.09,-107.02 234.72,-96.98 231.09,-106.93 238.09,-107.02\"/>\n<text text-anchor=\"middle\" x=\"230.74\" y=\"-119.05\" font-family=\"Times,serif\" font-size=\"14.00\">((0 ((0)* (1 1))) + 1) </text>\n</g>\n<!-- IF&#45;&gt;IF -->\n<g id=\"edge5\" class=\"edge\">\n<title>IF&#45;&gt;IF</title>\n<path fill=\"none\" stroke=\"black\" d=\"M224.25,-96.09C220.54,-113.73 222.71,-133.25 230.74,-133.25 237.27,-133.25 239.92,-120.36 238.7,-106.07\"/>\n<polygon fill=\"black\" stroke=\"black\" points=\"242.15,-105.48 237.24,-96.09 235.23,-106.49 242.15,-105.48\"/>\n<text text-anchor=\"middle\" x=\"230.74\" y=\"-137.05\" font-family=\"Times,serif\" font-size=\"14.00\">1 </text>\n</g>\n<!-- Real_F -->\n<g id=\"node5\" class=\"node\">\n<title>Real_F</title>\n<ellipse fill=\"none\" stroke=\"black\" cx=\"501.99\" cy=\"-40.4\" rx=\"36.3\" ry=\"36.3\"/>\n<ellipse fill=\"none\" stroke=\"black\" cx=\"501.99\" cy=\"-40.4\" rx=\"40.29\" ry=\"40.29\"/>\n<text text-anchor=\"middle\" x=\"501.99\" y=\"-36.7\" font-family=\"Times,serif\" font-size=\"14.00\">Real_F</text>\n</g>\n<!-- IF&#45;&gt;Real_F -->\n<g id=\"edge4\" class=\"edge\">\n<title>IF&#45;&gt;Real_F</title>\n<path fill=\"none\" stroke=\"black\" d=\"M249.75,-77.55C286.47,-75.6 372.57,-69.88 443.59,-56.4 446.79,-55.79 450.07,-55.09 453.37,-54.33\"/>\n<polygon fill=\"black\" stroke=\"black\" points=\"454.36,-57.69 463.23,-51.89 452.68,-50.89 454.36,-57.69\"/>\n<text text-anchor=\"middle\" x=\"355.59\" y=\"-79.2\" font-family=\"Times,serif\" font-size=\"14.00\">((0 ((0)* ((1 + &quot;&quot;) + &quot;&quot;))) + &quot;&quot;) </text>\n</g>\n<!-- IF&#45;&gt;Real_F -->\n<g id=\"edge9\" class=\"edge\">\n<title>IF&#45;&gt;Real_F</title>\n<path fill=\"none\" stroke=\"black\" d=\"M241.11,-62.07C247.33,-52.97 256.4,-42.48 267.59,-37.4 326.84,-10.5 403.59,-18.52 452.58,-28.25\"/>\n<polygon fill=\"black\" stroke=\"black\" points=\"452.09,-31.72 462.59,-30.33 453.52,-24.87 452.09,-31.72\"/>\n<text text-anchor=\"middle\" x=\"355.59\" y=\"-41.2\" font-family=\"Times,serif\" font-size=\"14.00\">&quot;&quot; </text>\n</g>\n</g>\n</svg>\n",
            "text/plain": [
              "<graphviz.graphs.Digraph at 0x78f894fe3e20>"
            ]
          },
          "metadata": {},
          "execution_count": 53
        }
      ],
      "source": [
        "DO[2]"
      ]
    },
    {
      "cell_type": "code",
      "execution_count": 54,
      "metadata": {
        "id": "XVU4FMdhaGb5",
        "outputId": "f4a11d0f-c83c-4ac0-9e59-3f12f26dc7cd",
        "colab": {
          "base_uri": "https://localhost:8080/",
          "height": 312
        }
      },
      "outputs": [
        {
          "output_type": "execute_result",
          "data": {
            "image/svg+xml": "<?xml version=\"1.0\" encoding=\"UTF-8\" standalone=\"no\"?>\n<!DOCTYPE svg PUBLIC \"-//W3C//DTD SVG 1.1//EN\"\n \"http://www.w3.org/Graphics/SVG/1.1/DTD/svg11.dtd\">\n<!-- Generated by graphviz version 2.43.0 (0)\n -->\n<!-- Title: %3 Pages: 1 -->\n<svg width=\"676pt\" height=\"218pt\"\n viewBox=\"0.00 0.00 676.18 218.14\" xmlns=\"http://www.w3.org/2000/svg\" xmlns:xlink=\"http://www.w3.org/1999/xlink\">\n<g id=\"graph0\" class=\"graph\" transform=\"scale(1 1) rotate(0) translate(4 214.14)\">\n<title>%3</title>\n<polygon fill=\"white\" stroke=\"transparent\" points=\"-4,4 -4,-214.14 672.18,-214.14 672.18,4 -4,4\"/>\n<!-- EMPTY -->\n<g id=\"node1\" class=\"node\">\n<title>EMPTY</title>\n</g>\n<!-- Real_I -->\n<g id=\"node3\" class=\"node\">\n<title>Real_I</title>\n<ellipse fill=\"none\" stroke=\"black\" cx=\"125.45\" cy=\"-59.4\" rx=\"34.39\" ry=\"34.39\"/>\n<text text-anchor=\"middle\" x=\"125.45\" y=\"-55.7\" font-family=\"Times,serif\" font-size=\"14.00\">Real_I</text>\n</g>\n<!-- EMPTY&#45;&gt;Real_I -->\n<g id=\"edge1\" class=\"edge\">\n<title>EMPTY&#45;&gt;Real_I</title>\n<path fill=\"none\" stroke=\"black\" d=\"M54.1,-59.4C62.29,-59.4 71.56,-59.4 80.63,-59.4\"/>\n<polygon fill=\"black\" stroke=\"black\" points=\"80.7,-62.9 90.7,-59.4 80.7,-55.9 80.7,-62.9\"/>\n</g>\n<!-- BH -->\n<g id=\"node2\" class=\"node\">\n<title>BH</title>\n<ellipse fill=\"none\" stroke=\"black\" cx=\"621.29\" cy=\"-121.4\" rx=\"23\" ry=\"23\"/>\n<text text-anchor=\"middle\" x=\"621.29\" y=\"-117.7\" font-family=\"Times,serif\" font-size=\"14.00\">BH</text>\n</g>\n<!-- BH&#45;&gt;BH -->\n<g id=\"edge4\" class=\"edge\">\n<title>BH&#45;&gt;BH</title>\n<path fill=\"none\" stroke=\"black\" d=\"M602.67,-134.75C592.38,-147.8 598.59,-162.14 621.29,-162.14 638.67,-162.14 646.39,-153.74 644.43,-143.94\"/>\n<polygon fill=\"black\" stroke=\"black\" points=\"647.47,-142.18 639.92,-134.75 641.19,-145.27 647.47,-142.18\"/>\n<text text-anchor=\"middle\" x=\"621.29\" y=\"-165.94\" font-family=\"Times,serif\" font-size=\"14.00\">0 </text>\n</g>\n<!-- BH&#45;&gt;BH -->\n<g id=\"edge5\" class=\"edge\">\n<title>BH&#45;&gt;BH</title>\n<path fill=\"none\" stroke=\"black\" d=\"M599.97,-129.96C559.86,-150.56 566.97,-180.14 621.29,-180.14 671.16,-180.14 681.24,-155.21 651.53,-135.19\"/>\n<polygon fill=\"black\" stroke=\"black\" points=\"653.01,-132 642.62,-129.96 649.47,-138.04 653.01,-132\"/>\n<text text-anchor=\"middle\" x=\"621.29\" y=\"-183.94\" font-family=\"Times,serif\" font-size=\"14.00\">1 </text>\n</g>\n<!-- Real_I&#45;&gt;BH -->\n<g id=\"edge2\" class=\"edge\">\n<title>Real_I&#45;&gt;BH</title>\n<path fill=\"none\" stroke=\"black\" d=\"M158.3,-70.38C164.73,-72.29 171.48,-74.08 177.89,-75.4 329.34,-106.5 514.51,-117.09 588.01,-120.23\"/>\n<polygon fill=\"black\" stroke=\"black\" points=\"588.29,-123.74 598.42,-120.65 588.57,-116.75 588.29,-123.74\"/>\n<text text-anchor=\"middle\" x=\"370.39\" y=\"-122.2\" font-family=\"Times,serif\" font-size=\"14.00\">(((((0 ((0)* (1 1))) + 1) + 1))* (0 ((0)* (1 0)))) </text>\n</g>\n<!-- Real_F -->\n<g id=\"node4\" class=\"node\">\n<title>Real_F</title>\n<ellipse fill=\"none\" stroke=\"black\" cx=\"621.29\" cy=\"-40.4\" rx=\"36.3\" ry=\"36.3\"/>\n<ellipse fill=\"none\" stroke=\"black\" cx=\"621.29\" cy=\"-40.4\" rx=\"40.29\" ry=\"40.29\"/>\n<text text-anchor=\"middle\" x=\"621.29\" y=\"-36.7\" font-family=\"Times,serif\" font-size=\"14.00\">Real_F</text>\n</g>\n<!-- Real_I&#45;&gt;Real_F -->\n<g id=\"edge3\" class=\"edge\">\n<title>Real_I&#45;&gt;Real_F</title>\n<path fill=\"none\" stroke=\"black\" d=\"M160,-58.11C245.13,-54.83 469.85,-46.18 570.41,-42.32\"/>\n<polygon fill=\"black\" stroke=\"black\" points=\"570.75,-45.81 580.61,-41.92 570.48,-38.81 570.75,-45.81\"/>\n<text text-anchor=\"middle\" x=\"370.39\" y=\"-60.2\" font-family=\"Times,serif\" font-size=\"14.00\">(((((0 ((0)* (1 1))) + 1) + 1))* (((0 ((0)* ((1 + &quot;&quot;) + &quot;&quot;))) + &quot;&quot;) + &quot;&quot;)) </text>\n</g>\n</g>\n</svg>\n",
            "text/plain": [
              "<graphviz.graphs.Digraph at 0x78f894fe39d0>"
            ]
          },
          "metadata": {},
          "execution_count": 54
        }
      ],
      "source": [
        "DO[3]"
      ]
    },
    {
      "cell_type": "code",
      "execution_count": 54,
      "metadata": {
        "id": "hwK9rQAlaGb5"
      },
      "outputs": [],
      "source": []
    }
  ],
  "metadata": {
    "kernelspec": {
      "display_name": "Python 3",
      "language": "python",
      "name": "python3"
    },
    "language_info": {
      "codemirror_mode": {
        "name": "ipython",
        "version": 3
      },
      "file_extension": ".py",
      "mimetype": "text/x-python",
      "name": "python",
      "nbconvert_exporter": "python",
      "pygments_lexer": "ipython3",
      "version": "3.7.3"
    },
    "toc": {
      "colors": {
        "hover_highlight": "#DAA520",
        "running_highlight": "#FF0000",
        "selected_highlight": "#FFD700"
      },
      "moveMenuLeft": true,
      "nav_menu": {
        "height": "318px",
        "width": "252px"
      },
      "navigate_menu": true,
      "number_sections": true,
      "sideBar": true,
      "threshold": 4,
      "toc_cell": false,
      "toc_section_display": "block",
      "toc_window_display": false,
      "widenNotebook": false
    },
    "colab": {
      "provenance": [],
      "include_colab_link": true
    }
  },
  "nbformat": 4,
  "nbformat_minor": 0
}