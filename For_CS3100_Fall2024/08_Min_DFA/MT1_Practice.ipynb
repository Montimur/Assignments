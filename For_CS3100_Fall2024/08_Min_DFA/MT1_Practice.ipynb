{
  "cells": [
    {
      "cell_type": "markdown",
      "metadata": {
        "id": "view-in-github",
        "colab_type": "text"
      },
      "source": [
        "<a href=\"https://colab.research.google.com/github/ganeshutah/Jove/blob/master/For_CS3100_Fall2024/08_Min_DFA/MT1_Practice.ipynb\" target=\"_parent\"><img src=\"https://colab.research.google.com/assets/colab-badge.svg\" alt=\"Open In Colab\"/></a>"
      ]
    },
    {
      "cell_type": "code",
      "execution_count": 1,
      "metadata": {
        "run_control": {
          "frozen": false,
          "read_only": false
        },
        "id": "xPwIhPL-aGbn",
        "outputId": "65118963-08e7-4018-ed04-98d0ca53417e",
        "colab": {
          "base_uri": "https://localhost:8080/"
        }
      },
      "outputs": [
        {
          "output_type": "stream",
          "name": "stdout",
          "text": [
            "Cloning into 'Jove'...\n",
            "remote: Enumerating objects: 6479, done.\u001b[K\n",
            "remote: Counting objects: 100% (1845/1845), done.\u001b[K\n",
            "remote: Compressing objects: 100% (720/720), done.\u001b[K\n",
            "remote: Total 6479 (delta 1099), reused 1751 (delta 1045), pack-reused 4634 (from 1)\u001b[K\n",
            "Receiving objects: 100% (6479/6479), 10.34 MiB | 14.50 MiB/s, done.\n",
            "Resolving deltas: 100% (4104/4104), done.\n",
            "You may use any of these help commands:\n",
            "help(ResetStNum)\n",
            "help(NxtStateStr)\n",
            "\n",
            "You may use any of these help commands:\n",
            "help(md2mc)\n",
            ".. and if you want to dig more, then ..\n",
            "help(default_line_attr)\n",
            "help(length_ok_input_items)\n",
            "help(union_line_attr_list_fld)\n",
            "help(extend_rsltdict)\n",
            "help(form_delta)\n",
            "help(get_machine_components)\n",
            "\n",
            "You may use any of these help commands:\n",
            "help(mkp_dfa)\n",
            "help(mk_dfa)\n",
            "help(totalize_dfa)\n",
            "help(addtosigma_delta)\n",
            "help(step_dfa)\n",
            "help(run_dfa)\n",
            "help(accepts_dfa)\n",
            "help(comp_dfa)\n",
            "help(flTup)\n",
            "help(union_dfa)\n",
            "help(intersect_dfa)\n",
            "help(pruneUnreach)\n",
            "help(iso_dfa)\n",
            "help(langeq_dfa)\n",
            "help(same_status)\n",
            "help(h_langeq_dfa)\n",
            "help(fixptDist)\n",
            "help(min_dfa)\n",
            "help(pairFR)\n",
            "help(state_combos)\n",
            "help(sepFinNonFin)\n",
            "help(bash_eql_classes)\n",
            "help(listminus)\n",
            "help(bash_1)\n",
            "help(mk_rep_eqc)\n",
            "help(F_of)\n",
            "help(rep_of_s)\n",
            "help(q0_of)\n",
            "help(Delta_of)\n",
            "help(mk_state_eqc_name)\n",
            "\n",
            "You may use any of these help commands:\n",
            "help(mk_nfa)\n",
            "help(totalize_nfa)\n",
            "help(step_nfa)\n",
            "help(run_nfa)\n",
            "help(ec_step_nfa)\n",
            "help(Eclosure)\n",
            "help(Echelp)\n",
            "help(accepts_nfa)\n",
            "help(nfa2dfa)\n",
            "help(n2d)\n",
            "help(inSets)\n",
            "help(rev_dfa)\n",
            "help(min_dfa_brz)\n",
            "\n",
            "You may use any of these help commands:\n",
            "help(re2nfa)\n",
            "\n",
            "You may use any of these help commands:\n",
            "help(lphi)\n",
            "help(lunit)\n",
            "help(lcat)\n",
            "help(lexp)\n",
            "help(lunion)\n",
            "help(lstar)\n",
            "help(srev)\n",
            "help(lrev)\n",
            "help(shomo)\n",
            "help(lhomo)\n",
            "help(powset)\n",
            "help(lint)\n",
            "help(lsymdiff)\n",
            "help(lminus)\n",
            "help(lissubset)\n",
            "help(lissuperset)\n",
            "help(lcomplem)\n",
            "help(product)\n",
            "help(nthnumeric)\n",
            "\n",
            "You may use any of these help commands:\n",
            "help(RE2Str)\n",
            "help(mk_gnfa)\n",
            "help(mk_gnfa_from_D)\n",
            "help(dfa2nfa)\n",
            "help(del_gnfa_states)\n",
            "help(gnfa_w_REStr)\n",
            "help(del_one_gnfa_state)\n",
            "help(Edges_Exist_Via)\n",
            "help(choose_state_to_del)\n",
            "help(form_alt_RE)\n",
            "help(form_concat_RE)\n",
            "help(form_kleene_RE)\n",
            "\n"
          ]
        }
      ],
      "source": [
        "#~~~~~~~~~~~~~~~~~~~~~~~~~~~~~~~~~~~~~~~~~~~~~~~~~~~~~~~\n",
        "import sys\n",
        "\n",
        "# -- Detect if in Own Install or in Colab\n",
        "try:\n",
        "    import google.colab\n",
        "    OWN_INSTALL = False\n",
        "except:\n",
        "    OWN_INSTALL = True\n",
        "\n",
        "if OWN_INSTALL:\n",
        "\n",
        "  #---- Leave these definitions ON if running on laptop\n",
        "  #---- Else turn OFF by putting them between ''' ... '''\n",
        "\n",
        "  sys.path[0:0] = ['../../../../..',  '../../../../../3rdparty',\n",
        "                   '../../../..',  '../../../../3rdparty',\n",
        "                   '../../..',     '../../../3rdparty',\n",
        "                   '../..',        '../../3rdparty',\n",
        "                   '..',           '../3rdparty' ]\n",
        "\n",
        "else: # In colab\n",
        "  ! if [ ! -d Jove ]; then git clone https://github.com/ganeshutah/Jove Jove; fi\n",
        "  sys.path.append('./Jove')\n",
        "  sys.path.append('./Jove/jove')\n",
        "\n",
        "# -- common imports --\n",
        "from jove.DotBashers import *\n",
        "from jove.Def_md2mc  import *\n",
        "from jove.Def_DFA    import *\n",
        "from jove.Def_NFA    import *\n",
        "from jove.Def_RE2NFA import *\n",
        "from jove.LangDef    import *  # for testing DFA actions using nthnumeric if needed\n",
        "from jove.Def_NFA2RE import *\n",
        "#~~~~~~~~~~~~~~~~~~~~~~~~~~~~~~~~~~~~~~~~~~~~~~~~~~~~~~~"
      ]
    },
    {
      "cell_type": "markdown",
      "source": [
        "# Some material that motivates the need for NFA and Regular Expressions (RE)\n",
        "\n",
        "* Impossibility of concatenating DFA\n",
        "   - You can union, intersect, complement DFA\n",
        "   - You can minimize DFA rather directly\n",
        "\n",
        "* But\n",
        "  - You can't concatenate DFA directly\n",
        "  - Some DFA are guaranteed exponential 😞\n",
        "\n",
        "* So, we introduce NFA and Regular Expressions (RE)\n",
        "  - NFA are the graph-form of the required generalization of DFA\n",
        "  - Every DFA is an NFA\n",
        "  - NFA are more liberal, in that they include four new situations\n",
        "    - They can jump to multiple places on a single symbol\n",
        "    - They can jump to a state via an epsilon transition ('' moves or $\\varepsilon$ moves)\n",
        "    - They need not jump from a state to another state on all symbols\n",
        "       - In fact, they can have perfect dead-end states (in a DFA you may not have them)\n",
        "    - NFA can start from multiple initial states\n",
        "\n",
        "\n",
        "* But\n",
        "  - NFA are pretty gnarly and error-prone\n",
        "     - No reasonable person would design them by hand\n",
        "  - Fortunately, we have a notation called RE (regular expressions)\n",
        "     - They are NOTHING but the language notations you learned about a while ago, except\n",
        "        - They are not in math notation\n",
        "        - Instead they are in nice ASCII text that is computer-readable\n",
        "     - AND\n",
        "        - You put together RE only in three ways\n",
        "          - Union\n",
        "          - Concatenation\n",
        "          - Star\n",
        "        - i.e.\n",
        "          - You don't have intersection\n",
        "          - You don't have complement\n",
        "        - AND STILL\n",
        "          - they can describe all regular languages\n",
        "* Here are some facts\n",
        "  - You cannot directly complement NFA or RegExp\n",
        "  - You can convert NFA to RE\n",
        "  - Conversion of RE to NFA is even easier and more fun and modular\n",
        "  - There is no direct way to minimize NFA (or RE)\n",
        "    - we basically turn them into DFA and then minimize\n",
        "      - But then we may pay the price -- exponential blow-up\n",
        "\n",
        "* FINALLY\n",
        "  - Those large DFA can now be expressed in an exponentially succinct using NFA or RE\n",
        "  - And we can perform the concatenation (missing with DFA)\n",
        "\n",
        "\n",
        "* Let us see all these through examples"
      ],
      "metadata": {
        "id": "MQCnvzr_vYA9"
      }
    },
    {
      "cell_type": "markdown",
      "source": [
        "## Showing why it is hard to concatenate DFA and why they are exponential sometimes\n",
        "\n",
        "  - You can't concatenate DFA directly\n",
        "  - Some DFA are guaranteed exponential 😞"
      ],
      "metadata": {
        "id": "gcu8jbiE-wb_"
      }
    },
    {
      "cell_type": "code",
      "source": [
        "# How can we concatenate D1 and D2? Can't put a bridge from D1's final state to D2's initlal state. What will the bridge be labeled by?\n",
        "# I'll use RE to draw DFA quickly... that part will be explained later.\n",
        "# D1's language is \"ab\" and that of D2 is \"cd\"\n",
        "\n",
        "D1 = min_dfa(nfa2dfa(re2nfa(\"ab\")))\n",
        "dotObj_dfa_w_bh(D1,FuseEdges=True)"
      ],
      "metadata": {
        "id": "NRydvkph_UZx"
      },
      "execution_count": null,
      "outputs": []
    },
    {
      "cell_type": "code",
      "source": [
        "D2 = min_dfa(nfa2dfa(re2nfa(\"cd\")))\n",
        "dotObj_dfa_w_bh(D2,FuseEdges=True)"
      ],
      "metadata": {
        "id": "U3jCSNTSAdPE"
      },
      "execution_count": null,
      "outputs": []
    },
    {
      "cell_type": "markdown",
      "source": [
        "### Can't bridge from the first DFA's St4 to the second DFA's initial state (or other things)... there is no direct concatenation approach."
      ],
      "metadata": {
        "id": "LpMUlzZABHgC"
      }
    },
    {
      "cell_type": "code",
      "source": [
        "# Now let's see DFA for \"Nth-last bit is a 1\" grow exponentially large as N increases\n",
        "dotObj_dfa(min_dfa(nfa2dfa(re2nfa(\"(0+1)*1\"))))\n"
      ],
      "metadata": {
        "id": "GXiQG9UHAejd"
      },
      "execution_count": null,
      "outputs": []
    },
    {
      "cell_type": "code",
      "source": [
        "dotObj_dfa(min_dfa(nfa2dfa(re2nfa(\"(0+1)*1(0+1)\"))))"
      ],
      "metadata": {
        "id": "NNkWCPfHBoKB"
      },
      "execution_count": null,
      "outputs": []
    },
    {
      "cell_type": "code",
      "source": [
        "dotObj_dfa(min_dfa(nfa2dfa(re2nfa(\"(0+1)*1(0+1)(0+1)\"))))"
      ],
      "metadata": {
        "id": "nWX4puqlBtOl"
      },
      "execution_count": null,
      "outputs": []
    },
    {
      "cell_type": "markdown",
      "source": [
        "### It is getting larger; so let's check how the number of states grow."
      ],
      "metadata": {
        "id": "9rooPbL0CWf_"
      }
    },
    {
      "cell_type": "code",
      "source": [
        "min_dfa(nfa2dfa(re2nfa(\"(0+1)*1\")))"
      ],
      "metadata": {
        "id": "F_guCh7UAuGb"
      },
      "execution_count": null,
      "outputs": []
    },
    {
      "cell_type": "code",
      "source": [
        "# So, to determine the number of states, index-out the Python dictionary at \"Q\"\n",
        "len(min_dfa(nfa2dfa(re2nfa(\"(0+1)*1\")))[\"Q\"])"
      ],
      "metadata": {
        "id": "UDFNBJMzCeoK"
      },
      "execution_count": null,
      "outputs": []
    },
    {
      "cell_type": "code",
      "source": [
        "len(min_dfa(nfa2dfa(re2nfa(\"(0+1)*1(0+1)\")))[\"Q\"])"
      ],
      "metadata": {
        "id": "IZ8IIct3CyNo"
      },
      "execution_count": null,
      "outputs": []
    },
    {
      "cell_type": "code",
      "source": [
        "len(min_dfa(nfa2dfa(re2nfa(\"(0+1)*1(0+1)(0+1)\")))[\"Q\"])"
      ],
      "metadata": {
        "id": "fwOgS6vEC1sw"
      },
      "execution_count": null,
      "outputs": []
    },
    {
      "cell_type": "code",
      "source": [
        "len(min_dfa(nfa2dfa(re2nfa(\"(0+1)*1(0+1)(0+1)(0+1)\")))[\"Q\"])"
      ],
      "metadata": {
        "id": "iKNke_CwC6GN"
      },
      "execution_count": null,
      "outputs": []
    },
    {
      "cell_type": "code",
      "source": [
        "len(min_dfa(nfa2dfa(re2nfa(\"(0+1)*1(0+1)(0+1)(0+1)(0+1)\")))[\"Q\"])"
      ],
      "metadata": {
        "id": "wphskiVNDH2h"
      },
      "execution_count": null,
      "outputs": []
    },
    {
      "cell_type": "markdown",
      "source": [
        "#### OK, we see that\n",
        "* The RE grows only by a length of five symbols, i.e. (0+1) and in the long run, it is a linear growth\n",
        "* The generated DFA grows exponentially (exp number of states w.r.t. N)\n",
        "\n",
        "### You may say what about the NFA?\n",
        "* Well, we will show you what NFA are in a minute.\n",
        "* But we will assure you (and soon show you) that the NFA will grow only by the number of states it takes to represent (0+1) and that will also be a fixed (small) number.\n",
        "\n"
      ],
      "metadata": {
        "id": "PEh32fzmz5OD"
      }
    },
    {
      "cell_type": "markdown",
      "source": [
        "## **Here is a way to see all the machines at-once and play with them using the Jove Editor**"
      ],
      "metadata": {
        "id": "4aF2up7_crsR"
      }
    },
    {
      "cell_type": "markdown",
      "source": [
        "* Let's build many NFA using this Jove editor and animate\n",
        "* The NFA to be built are these\n",
        "  - NFA1  that moves to two states, i.e. I : a -> A, F\n",
        "  - *IMMEDIATELY* notice that the DFA complementation algorithm does not work for NFA --- in fact there is no direct way to complement NFA\n",
        "  - NFA2 that moves as follows : I : '' -> F\n",
        "  - NFA3 that moves as follows\n",
        "     - I1 : '' -> A\n",
        "     - I2 : a -> F\n",
        "  - NFA4 that moves as follows\n",
        "     - I1 : a -> F1\n",
        "     - I2 : b -> F2\n",
        "\n",
        "* The language of an NFA\n",
        "  - The language of an NFA is any string that takes the NFA from *some* starting state through a path (that may contain epsilon) to some final state\n"
      ],
      "metadata": {
        "id": "2fKtrW6sc3U2"
      }
    },
    {
      "cell_type": "code",
      "source": [
        "from jove.JoveEditor import *\n",
        "JoveEditor(examples=True)\n",
        "display(HTML('<link rel=\"stylesheet\" href=\"//stackpath.bootstrapcdn.com/font-awesome/4.7.0/css/font-awesome.min.css\"/>'))"
      ],
      "metadata": {
        "id": "e4FEJe1bcqZK",
        "outputId": "b103a94d-ccbf-4d71-cc53-e0de780e0ab5",
        "colab": {
          "base_uri": "https://localhost:8080/",
          "height": 687,
          "referenced_widgets": [
            "c034ec6f394f4c02a52cb21756df40cf",
            "aff054b247214544bd3c08efaf59aa9a",
            "0fd8e28429554f02a18efc6634f28b24",
            "20f051baabe14effab378c91fea8a20c",
            "3be6a9b50ee341578ad20e9193f34c8f",
            "2b21fa9634d245169bb60773ae2d0902",
            "bc25c0b1154a4a779b4fa376979c48bc",
            "0ce9b5b144e04bc79b29ca81d763b229",
            "1fcd227329764dcda14c59b8b9d5394a",
            "9ae9d684f88f41b3ba02bbf77b45e972",
            "8efff85f7d284be0b735ffdd53769abe",
            "adffe88e34dd469c9c554b72315a324f",
            "96cd373c424845a4a063eafed9fb0ca6",
            "a0d606e36bae41cb8290dc2ef8d560ad",
            "e48af54c18b1403f8285fdbb04188df0",
            "87b5f7b52ebd4a5ca06b2090a6c74664",
            "c4eba97287a5421e9c22c4486d358fee",
            "442e7db4174d4a6cb30c3a7d98b0da41",
            "93fbb51406394dbaa8ef9bd90c4cf19e",
            "b20a404ad8d64eceb1af08d2eab74797",
            "833299233e2546e09840102d46d1f36d",
            "46e9a27b1f53478ab82dee94710d1aee",
            "eebc1eb55970444682058e684a022920",
            "05d0a20f767349f4bb31afc60f7fa7f3",
            "95c85a839c8c4ff78b12412b5a927af1",
            "293a81c18282420ca040da75c643cca3",
            "df561739b6144315a6ed16cad61d431a",
            "44af5ee37100492f83a3780b25346aff",
            "13b76ea29ec0462588189ab560be6165",
            "001d103b92ad4ae4ad58db98d165620f",
            "1f66e18698384cf19953a35bd65de53a",
            "cefe4861b7184cbeb1366f5585c74bd3",
            "d34e8d6d12fb46288ce6cbaf4f2d9ce0",
            "67eda3880be64e41baa46a1730b0624e",
            "4bebb30de52944ba8e4d9ddd36655b2c",
            "5ad8a437ecb5497b9197d846be4e4e06",
            "732feccd9efc4148b34aac3c32c60be8",
            "224c927f4d8643bfa43b92764d502ef9",
            "a5a319f5071d4828a6612457d6300f1c",
            "ff88151b3564442090a2d5694ac0f06f",
            "0a9f24676c854ca6bb620f210e69f8d8",
            "5c7d1511fa2141589c7aca74f6972427",
            "e78ec3f346044a838363815bb3efa99b",
            "88d305e5dc3e4d31a21e61b825b80a6f",
            "3b56518a12574fbf921ca4f9219bebdc",
            "204668c1c6da45b49dfb8fa8a82886c2",
            "78fafca4b76a49039f77518a4dad0866",
            "240566cfb4504bd28529720cc45b984a",
            "8f92c7fb40fc4209bf43e4258b3640b0",
            "a8f73a1c921d4f4ea16bf0212e82e47b",
            "578d8885a13d4522acef973373e60913",
            "46c2e185374e401d9404bb36f23296a1",
            "90b44c270f52432082689e64be08b871",
            "2b3c3fbf2bc944bb9accb1c76567201c",
            "b70d0f8353d547ecae9c70e05d4741fb",
            "ad07ec99a7d845478d7c00b68f6aa2f2",
            "7b9390e73bec4c648158d28dcbb811d8",
            "0db9024087fd473c98ead2604e59b032",
            "cb1f50b327754965ae6102ceed6a6610",
            "90edebecf34a44edaff5865e0c64179e",
            "aea997d8e5f6482f85a854ad7b0313c4",
            "d6c79d286679475a8fb017b433afafdc",
            "c83216005f414d6d80d350795311ad29",
            "068fa06e6be24632b47db28a65369b04",
            "6c7ec04cc5584656aa9eed9d8686a424",
            "7eeb09d227a14900a3af6aac0b16be5b",
            "1f91b44de0054c75b490552402dd3b3c",
            "27d1f6ed2abe4ebca88e6461ff8ae6c1",
            "7f878b497c584ec19874a0318461da67",
            "ab8dc45df3d74893a36b8eba4d1edaa1",
            "0ecded22559a41afb379b274c1ddf51c",
            "6da503c87fa2484da253f9a7904a134c",
            "bc53d98d1c604b18900d6123757e51c4",
            "e73f826582fb43289a0388e675f16271",
            "d9141fb4bda54142bf0a351aa47e1b03",
            "d15c787a5dfc49788d56faf2ab4fb947",
            "0c9d7a52d7b8416eb8059925923e49fe",
            "cb57691c5c0540f5888fd9df84edf4c8",
            "78f0cbbbb5034a25975a8b84c552fcee",
            "5c49c29643aa41db807ecf46b84dbfef",
            "5b14c1b4d08a4ab8a8ca90641dfc625e",
            "f96a11507eef41b7b08d56a84043dde0",
            "d5032fa3df6e4a4baaf71fdf4fa2aa11",
            "91212348750b4c04a3b5aa4a80f7863b",
            "7af628dd3f7d4177bbfeafb19a1e73bc",
            "5d0342034b474dd9a991407511c57380",
            "63ab30b2b99e433f920785819593a217",
            "026b12b7d708469a82651c23b35bd1d2",
            "a4587b2f31624035ab9924fedf0bd678",
            "50feda98c30240659eeb0f2cb00db24e",
            "adf8947ea5dc475d99df98f581d79c85",
            "09d0312d7a41494798efc3cd9ea1eacd",
            "eb2308aca07844dfbbc365aa667e5d72",
            "79b89664bae849de90a22e147e9c3e35",
            "f4159ac8e68c4936b06f1bf24f468f7b",
            "c75f18fd72fd443299d58cb00fbbc63c",
            "66fe90fa68ba4368a05b03ead9ad155e",
            "35d749ba9be04db7a5bdc2b377ade2c2",
            "f8cc0944b667455d8d2b312cf634f84b",
            "6e4749a636644fdaa27e8422a4d7aaa1",
            "2168461b1d3146ae8fc46ec8223030c3",
            "396fb6147145426f9802c3029d639a00",
            "05be0551729d4f11af0b0056460c9f2f",
            "fb6b3f954347408bb6ba92bcb8832fae",
            "6789ac5577d8432b9c075ba0eafb420b"
          ]
        }
      },
      "execution_count": 2,
      "outputs": [
        {
          "output_type": "stream",
          "name": "stdout",
          "text": [
            " \"help(JoveEditor)\" gives you info on the generic animation panel that animates all machines. \n"
          ]
        },
        {
          "output_type": "display_data",
          "data": {
            "text/plain": [
              "<IPython.core.display.HTML object>"
            ],
            "text/html": [
              "<style>textarea, input { font-family: monospace; }</style>"
            ]
          },
          "metadata": {}
        },
        {
          "output_type": "display_data",
          "data": {
            "text/plain": [
              "Tab(children=(VBox(children=(HBox(children=(Accordion(children=(VBox(children=(HBox(children=(Text(value='', p…"
            ],
            "application/vnd.jupyter.widget-view+json": {
              "version_major": 2,
              "version_minor": 0,
              "model_id": "c034ec6f394f4c02a52cb21756df40cf"
            }
          },
          "metadata": {}
        },
        {
          "output_type": "display_data",
          "data": {
            "text/plain": [
              "<IPython.core.display.HTML object>"
            ],
            "text/html": [
              "<link rel=\"stylesheet\" href=\"//stackpath.bootstrapcdn.com/font-awesome/4.7.0/css/font-awesome.min.css\"/>"
            ]
          },
          "metadata": {}
        }
      ]
    },
    {
      "cell_type": "markdown",
      "source": [
        "## INTRODUCING YOUR FIRST NFA, AND SIMULATING IT"
      ],
      "metadata": {
        "id": "GHPWJuby9qHa"
      }
    },
    {
      "cell_type": "code",
      "source": [
        "# I'm going to redraw the NFA of Figure 7.7 as one with multiple initial states\n",
        "# This is achieved using two initial states that start with the \"I\" state\n",
        "# States with multiple next states upon one symbol are shown with a comma-separated list of next states\n",
        "\n",
        "nfa_Fig7_dot_7_Variant = md2mc('''NFA\n",
        "IA : '' -> B, C  !! multiple initial states\n",
        "IG : 1  -> F     !! a dead-end state\n",
        "B  : 1  -> D\n",
        "C  : 0  -> E\n",
        "D : ''  -> IA, IG\n",
        "E : ''  -> IA, IG\n",
        "''')\n"
      ],
      "metadata": {
        "id": "wXttTYo_CE9V"
      },
      "execution_count": null,
      "outputs": []
    },
    {
      "cell_type": "code",
      "source": [
        "dotObj_nfa(nfa_Fig7_dot_7_Variant, FuseEdges=True)"
      ],
      "metadata": {
        "id": "L7xlZSvw_3-T"
      },
      "execution_count": null,
      "outputs": []
    },
    {
      "cell_type": "code",
      "source": [
        "# To see what the formal structure of this NFA is, let's look at its Delta function\n",
        "nfa_Fig7_dot_7_Variant"
      ],
      "metadata": {
        "id": "fKL92jYv_6Qn"
      },
      "execution_count": null,
      "outputs": []
    },
    {
      "cell_type": "markdown",
      "source": [
        "### We see that the NFA transitions to multiple next states upon a single symbol\n",
        "### In some cases it only transitions to ONE next state\n",
        "### To treat these cases uniformly, we say that an NFA transitions to a **set** of next states each time\n",
        "\n",
        "\n",
        "\n",
        "\n",
        "\n",
        "* The formal structure of an NFA is this : $(Q, \\Sigma, \\delta, Q_0, F)$\n",
        "* This basically means ``An NFA is these five things''\n",
        "* Here $Q$ is a finite set of states\n",
        "* $\\Sigma$ is as before (the actual alphabet). Even if an NFA moves on $\\varepsilon$, the alphabet NEVER includes $\\varepsilon$\n",
        "* $\\delta$ maps a state paired with either $\\Sigma$ or $\\varepsilon$ to a set of states\n",
        "* $Q_0$ is a subset of states\n",
        "* $F$ is a subset of $Q$\n",
        "\n",
        "\n",
        "\n",
        "---------------------"
      ],
      "metadata": {
        "id": "IEAZhfhdAG1U"
      }
    },
    {
      "cell_type": "markdown",
      "source": [
        "## NOW for the fun experience. Let's animate the NFA to watch all of its conceptual steps!\n",
        "## **Please include the following import**"
      ],
      "metadata": {
        "id": "VOOhl_OCCYta"
      }
    },
    {
      "cell_type": "code",
      "source": [
        "from jove.AnimateNFA import *"
      ],
      "metadata": {
        "id": "xyHdeaWaDX2j"
      },
      "execution_count": null,
      "outputs": []
    },
    {
      "cell_type": "code",
      "source": [
        "AnimateNFA(nfa_Fig7_dot_7_Variant, FuseEdges=True)\n",
        "display(HTML('<link rel=\\\"stylesheet\\\" href=\\\"//stackpath.bootstrapcdn.com/font-awesome/4.7.0/css/font-awesome.min.css\\\"/>'))"
      ],
      "metadata": {
        "id": "Zt852TPaAF5v"
      },
      "execution_count": null,
      "outputs": []
    },
    {
      "cell_type": "markdown",
      "source": [
        "# The portion below will consist of the 10 questions in Quiz-5.\n",
        "### _(Far below, you'll find material you can practice for MT1)_"
      ],
      "metadata": {
        "id": "kgvrDbUfa_bw"
      }
    },
    {
      "cell_type": "markdown",
      "source": [
        "------------------------------------\n"
      ],
      "metadata": {
        "id": "5jpNgArMcIpT"
      }
    },
    {
      "cell_type": "markdown",
      "source": [
        "## IN QUIZ-5 WE WILL TRAVERSE THE KLEENE-PIPELINE or otherwise known as the Regular Language Conversion Pipeline (Kleene was a famous scientist in this area who contributed to many things in this subject. The star operator is called the Kleene-star often."
      ],
      "metadata": {
        "id": "9qzSU318dARe"
      }
    },
    {
      "cell_type": "markdown",
      "source": [
        "# BACKGROUND MATERIAL TO TEACH YOU SOME BASICS + HAVE YOU DO QUIZ-5\n",
        "\n",
        "### The idea of regular expressions will be reinforced in this exercise. When we have the language $\\{a,bc\\}\\{d\\}+\\varepsilon$, the regular expression corresponding to this is (a+bc)(d)('') or even (a+bc)d('') or finally also (a+bc)d'' where we assume that having the parenthesis around d and '' makes it more readable. Let's test this out."
      ],
      "metadata": {
        "id": "3-m27b2Xcmt0"
      }
    },
    {
      "cell_type": "code",
      "source": [
        "dotObj_nfa(re2nfa(\"(a+bc)(d)('')\"))"
      ],
      "metadata": {
        "id": "tLRH7JmPeFym"
      },
      "execution_count": null,
      "outputs": []
    },
    {
      "cell_type": "code",
      "source": [
        "dotObj_nfa(re2nfa(\"(a+bc)d''\"))"
      ],
      "metadata": {
        "id": "UMtf06OGePWc"
      },
      "execution_count": null,
      "outputs": []
    },
    {
      "cell_type": "markdown",
      "source": [],
      "metadata": {
        "id": "JWEmlf22FHI_"
      }
    },
    {
      "cell_type": "code",
      "source": [],
      "metadata": {
        "id": "BiHZpvLKFGSi"
      },
      "execution_count": null,
      "outputs": []
    },
    {
      "cell_type": "markdown",
      "source": [
        "### So it is clear that my regular-expression parser --- something you'll be studying later --- can parse all these variants of regular expressions."
      ],
      "metadata": {
        "id": "o5lwqJ-PeWHC"
      }
    },
    {
      "cell_type": "markdown",
      "source": [
        "### What you are seeing in the diagrams above are NFA. See that NFA are nothing but compilations of RE into a graphical form that stitches together the individual compilations of \"a\", \"b\", \"c\", \"d\", and \"''\""
      ],
      "metadata": {
        "id": "_ugIhh2wfBQ4"
      }
    },
    {
      "cell_type": "markdown",
      "source": [],
      "metadata": {
        "id": "BCk3v6difD5U"
      }
    },
    {
      "cell_type": "code",
      "source": [
        "dotObj_nfa(re2nfa(\"a\"))"
      ],
      "metadata": {
        "id": "AB8hRG64ehjr"
      },
      "execution_count": null,
      "outputs": []
    },
    {
      "cell_type": "code",
      "source": [
        "dotObj_nfa(re2nfa(\"b\"))"
      ],
      "metadata": {
        "id": "h6RBLr2BfQHz"
      },
      "execution_count": null,
      "outputs": []
    },
    {
      "cell_type": "code",
      "source": [
        "dotObj_nfa(re2nfa(\"c\"))"
      ],
      "metadata": {
        "id": "9kr-JJe1fYQP"
      },
      "execution_count": null,
      "outputs": []
    },
    {
      "cell_type": "code",
      "source": [
        "dotObj_nfa(re2nfa(\"bc\"))"
      ],
      "metadata": {
        "id": "g9GJ_DW4fbdC"
      },
      "execution_count": null,
      "outputs": []
    },
    {
      "cell_type": "code",
      "source": [],
      "metadata": {
        "id": "NH7k9qsFfd3K"
      },
      "execution_count": null,
      "outputs": []
    },
    {
      "cell_type": "markdown",
      "source": [],
      "metadata": {
        "id": "DAMB-87ge1-O"
      }
    },
    {
      "cell_type": "markdown",
      "source": [
        "## Question-1"
      ],
      "metadata": {
        "id": "a28Bs4c5fpng"
      }
    },
    {
      "cell_type": "markdown",
      "source": [
        "## Question-2"
      ],
      "metadata": {
        "id": "PPz0885Tbb3O"
      }
    },
    {
      "cell_type": "markdown",
      "source": [
        "-----------------------"
      ],
      "metadata": {
        "id": "DENaFGGpcmt_"
      }
    },
    {
      "cell_type": "markdown",
      "source": [],
      "metadata": {
        "id": "lSQmV3Lmcmt_"
      }
    },
    {
      "cell_type": "markdown",
      "source": [
        "------------------------------"
      ],
      "metadata": {
        "id": "x2w7Rmylcmt_"
      }
    },
    {
      "cell_type": "markdown",
      "source": [
        "## Question-3"
      ],
      "metadata": {
        "id": "4iZ5sNKlcm5v"
      }
    },
    {
      "cell_type": "markdown",
      "source": [
        "-----------------------"
      ],
      "metadata": {
        "id": "a-DxkqSFcm5w"
      }
    },
    {
      "cell_type": "markdown",
      "source": [],
      "metadata": {
        "id": "lHg0UVzxcm5w"
      }
    },
    {
      "cell_type": "markdown",
      "source": [
        "------------------------------"
      ],
      "metadata": {
        "id": "au1F9kHRcm5w"
      }
    },
    {
      "cell_type": "markdown",
      "source": [
        "## Question-4"
      ],
      "metadata": {
        "id": "dWFUjUkfcnHP"
      }
    },
    {
      "cell_type": "markdown",
      "source": [
        "-----------------------"
      ],
      "metadata": {
        "id": "1Djyz9dvcnHP"
      }
    },
    {
      "cell_type": "markdown",
      "source": [],
      "metadata": {
        "id": "1P0QLJeBcnHQ"
      }
    },
    {
      "cell_type": "markdown",
      "source": [
        "-----------------------"
      ],
      "metadata": {
        "id": "92805lXIbE4r"
      }
    },
    {
      "cell_type": "markdown",
      "source": [
        "------------------------------"
      ],
      "metadata": {
        "id": "dNB8QtTQbHds"
      }
    },
    {
      "cell_type": "markdown",
      "source": [
        "## Question-5"
      ],
      "metadata": {
        "id": "gR0rrGmdcOvq"
      }
    },
    {
      "cell_type": "markdown",
      "source": [
        "-----------------------"
      ],
      "metadata": {
        "id": "y5YpIaNvcOv1"
      }
    },
    {
      "cell_type": "markdown",
      "source": [],
      "metadata": {
        "id": "m3ci3NK-cOv1"
      }
    },
    {
      "cell_type": "markdown",
      "source": [
        "------------------------------"
      ],
      "metadata": {
        "id": "WSFTS6G7cOv1"
      }
    },
    {
      "cell_type": "markdown",
      "source": [
        "## Question-6"
      ],
      "metadata": {
        "id": "sZSALAcKcO71"
      }
    },
    {
      "cell_type": "markdown",
      "source": [
        "-----------------------"
      ],
      "metadata": {
        "id": "W-PmAzgmcO72"
      }
    },
    {
      "cell_type": "markdown",
      "source": [],
      "metadata": {
        "id": "LCaScFzucO72"
      }
    },
    {
      "cell_type": "markdown",
      "source": [
        "------------------------------"
      ],
      "metadata": {
        "id": "Ut_D5up6cO72"
      }
    },
    {
      "cell_type": "markdown",
      "source": [
        "## Question-7"
      ],
      "metadata": {
        "id": "wjfoFlLacPD1"
      }
    },
    {
      "cell_type": "markdown",
      "source": [
        "-----------------------"
      ],
      "metadata": {
        "id": "AcgpTMVLcPD2"
      }
    },
    {
      "cell_type": "markdown",
      "source": [],
      "metadata": {
        "id": "w7pd9524cPD2"
      }
    },
    {
      "cell_type": "markdown",
      "source": [
        "------------------------------"
      ],
      "metadata": {
        "id": "71UlvWhZcPD2"
      }
    },
    {
      "cell_type": "markdown",
      "source": [
        "## Question-8"
      ],
      "metadata": {
        "id": "UmS5QLPecPLx"
      }
    },
    {
      "cell_type": "markdown",
      "source": [
        "-----------------------"
      ],
      "metadata": {
        "id": "E1cVZQL9cPLy"
      }
    },
    {
      "cell_type": "markdown",
      "source": [],
      "metadata": {
        "id": "1IKCZQZvcPLy"
      }
    },
    {
      "cell_type": "markdown",
      "source": [
        "------------------------------"
      ],
      "metadata": {
        "id": "wAIIk_DBcPLy"
      }
    },
    {
      "cell_type": "markdown",
      "source": [
        "## Question-9"
      ],
      "metadata": {
        "id": "Q0BQWCNGcP56"
      }
    },
    {
      "cell_type": "markdown",
      "source": [
        "-----------------------"
      ],
      "metadata": {
        "id": "wJxLWe__cP6S"
      }
    },
    {
      "cell_type": "markdown",
      "source": [],
      "metadata": {
        "id": "0ZC-Lwq2cP6T"
      }
    },
    {
      "cell_type": "markdown",
      "source": [
        "------------------------------"
      ],
      "metadata": {
        "id": "t6RC8AkTcP6T"
      }
    },
    {
      "cell_type": "markdown",
      "source": [
        "## Question-10"
      ],
      "metadata": {
        "id": "BROVL0ZvcQb7"
      }
    },
    {
      "cell_type": "markdown",
      "source": [
        "-----------------------"
      ],
      "metadata": {
        "id": "f_VfFdIJcQb7"
      }
    },
    {
      "cell_type": "markdown",
      "source": [],
      "metadata": {
        "id": "29QA7JbEcQb7"
      }
    },
    {
      "cell_type": "markdown",
      "source": [
        "------------------------------"
      ],
      "metadata": {
        "id": "d_8sksgUcQb7"
      }
    },
    {
      "cell_type": "markdown",
      "source": [
        "# This notebook was assigned for MT1 practice in 2022. You can see that below this text box and keep that in mind as a learning goal. But above this text box, I have set material for Quiz-5 that gradually builds toward this goal."
      ],
      "metadata": {
        "id": "5Xhm2yl6auD7"
      }
    },
    {
      "cell_type": "code",
      "source": [],
      "metadata": {
        "id": "Vyvcj6p_atJ1"
      },
      "execution_count": null,
      "outputs": []
    },
    {
      "cell_type": "code",
      "execution_count": null,
      "metadata": {
        "id": "LevUiceMaGbq"
      },
      "outputs": [],
      "source": [
        "def diff_RE(R1,R2):\n",
        "    '''\n",
        "    Given R1 and R2, here is the the code to return (D1,D2)\n",
        "    where D1 is the min DFA of Lang(R1)-Lang(R2)\n",
        "    and D2 is the min DFA of Lang(R2)-Lang(R1)\n",
        "    '''\n",
        "    MD1=min_dfa_brz(nfa2dfa(re2nfa(R1)))\n",
        "    MD2=min_dfa_brz(nfa2dfa(re2nfa(R2)))\n",
        "\n",
        "    cMD1 = comp_dfa(MD1)\n",
        "    cMD2 = comp_dfa(MD2)\n",
        "\n",
        "    D1minus2 = min_dfa_brz(intersect_dfa(MD1, cMD2))\n",
        "    D2minus1 = min_dfa_brz(intersect_dfa(MD2, cMD1))\n",
        "\n",
        "    return (D1minus2, D2minus1)\n"
      ]
    },
    {
      "cell_type": "code",
      "execution_count": null,
      "metadata": {
        "id": "4igigBFdaGbr"
      },
      "outputs": [],
      "source": [
        "# Sigma = {0,1}; \"2n zeros for n >= 0\"\n",
        "\n",
        "RE2 = \"(1* 0 1* 0 1*)*\"\n",
        "m2 = min_dfa(nfa2dfa(re2nfa(RE2)))\n",
        "dotObj_dfa(m2)"
      ]
    },
    {
      "cell_type": "code",
      "execution_count": null,
      "metadata": {
        "id": "2384OJ5kaGbr"
      },
      "outputs": [],
      "source": [
        "dotObj_dfa(m2).render('m2')"
      ]
    },
    {
      "cell_type": "code",
      "execution_count": null,
      "metadata": {
        "id": "uuXocgCraGbr"
      },
      "outputs": [],
      "source": [
        "# 3n 0's, n >= 0\n",
        "\n",
        "RE3 = \"(1* 0 1* 0 1* 0 1*)*\"\n",
        "m3 = min_dfa(nfa2dfa(re2nfa(RE3)))\n",
        "dotObj_dfa(m3)"
      ]
    },
    {
      "cell_type": "code",
      "execution_count": null,
      "metadata": {
        "id": "F8dtAPUPaGbs"
      },
      "outputs": [],
      "source": [
        "dotObj_dfa(m3).render('m3')"
      ]
    },
    {
      "cell_type": "code",
      "execution_count": null,
      "metadata": {
        "scrolled": true,
        "id": "TtBQMDqDaGbs"
      },
      "outputs": [],
      "source": [
        "dfa2big = nfa2dfa(re2nfa(RE2))\n",
        "dotObj_dfa(dfa2big)"
      ]
    },
    {
      "cell_type": "code",
      "execution_count": null,
      "metadata": {
        "id": "uZhaBureaGbt"
      },
      "outputs": [],
      "source": [
        "dfa_unmin = md2mc('''\n",
        "\n",
        "DFA\n",
        "IF : 1  ->  St3\n",
        "IF : 0  ->  St4\n",
        "St4: 0  ->  F0\n",
        "St4: 1  ->  St5\n",
        "St3: 0  ->  St4\n",
        "St3: 1  ->  St3\n",
        "F0 : 0  ->  St4\n",
        "F0 : 1  ->  F1\n",
        "St5: 0  ->  F0\n",
        "St5: 1  ->  St5\n",
        "F1 : 0  ->  St4\n",
        "F1 : 1  ->  F1\n",
        "''')"
      ]
    },
    {
      "cell_type": "code",
      "execution_count": null,
      "metadata": {
        "id": "075FXHYBaGbt"
      },
      "outputs": [],
      "source": [
        "dotObj_dfa(dfa_unmin).render('dfa_unmin')"
      ]
    },
    {
      "cell_type": "code",
      "execution_count": null,
      "metadata": {
        "id": "nN02G8GVaGbt"
      },
      "outputs": [],
      "source": [
        "dfa_min = min_dfa(dfa_unmin, state_name_mode = 'verbose', chatty=True)"
      ]
    },
    {
      "cell_type": "code",
      "execution_count": null,
      "metadata": {
        "id": "jYeDe82WaGbu"
      },
      "outputs": [],
      "source": [
        "dfa_unmin_rev = rev_dfa(dfa_unmin)"
      ]
    },
    {
      "cell_type": "code",
      "execution_count": null,
      "metadata": {
        "id": "g9taMin-aGbu"
      },
      "outputs": [],
      "source": [
        "dotObj_nfa(dfa_unmin_rev).render('dfa_unmin_rev')"
      ]
    },
    {
      "cell_type": "code",
      "execution_count": null,
      "metadata": {
        "id": "OIewigv0aGbu"
      },
      "outputs": [],
      "source": [
        "help(nfa2dfa)"
      ]
    },
    {
      "cell_type": "code",
      "execution_count": null,
      "metadata": {
        "id": "tkC-M4xoaGbu"
      },
      "outputs": [],
      "source": [
        "dotObj_nfa(dfa_unmin_rev)"
      ]
    },
    {
      "cell_type": "code",
      "execution_count": null,
      "metadata": {
        "id": "eLz0OY31aGbu"
      },
      "outputs": [],
      "source": [
        "dfa_unmin_rev_det = nfa2dfa(dfa_unmin_rev, STATENAME_MAXSIZE=80)"
      ]
    },
    {
      "cell_type": "code",
      "execution_count": null,
      "metadata": {
        "id": "jTM-Yck0aGbv"
      },
      "outputs": [],
      "source": [
        "dotObj_dfa(dfa_unmin_rev_det, STATENAME_MAXSIZE=80)"
      ]
    },
    {
      "cell_type": "code",
      "execution_count": null,
      "metadata": {
        "id": "3sMnG5T5aGbv"
      },
      "outputs": [],
      "source": [
        "dotObj_dfa(dfa_unmin_rev_det, STATENAME_MAXSIZE=80).render('dfa_unmin_rev_det')"
      ]
    },
    {
      "cell_type": "code",
      "execution_count": null,
      "metadata": {
        "id": "0zhfpvB1aGbv"
      },
      "outputs": [],
      "source": [
        "dotObj_dfa(dfa_min)"
      ]
    },
    {
      "cell_type": "code",
      "execution_count": null,
      "metadata": {
        "id": "tVABLk95aGbv"
      },
      "outputs": [],
      "source": [
        "mEven0_mOdd0 = intersect_dfa(m2,m3)"
      ]
    },
    {
      "cell_type": "code",
      "execution_count": null,
      "metadata": {
        "id": "TDq1srxyaGbv"
      },
      "outputs": [],
      "source": [
        "dotObj_dfa(mEven0_mOdd0)"
      ]
    },
    {
      "cell_type": "code",
      "execution_count": null,
      "metadata": {
        "id": "OWYLdOp1aGbv"
      },
      "outputs": [],
      "source": [
        "dotObj_dfa(mEven0_mOdd0).render('m2_and_m3')"
      ]
    },
    {
      "cell_type": "code",
      "execution_count": null,
      "metadata": {
        "id": "em-SzKJYaGbv"
      },
      "outputs": [],
      "source": [
        "nfa0s1s0 = re2nfa(\"0* 1* 0\")\n",
        "dotObj_nfa(nfa0s1s0)"
      ]
    },
    {
      "cell_type": "code",
      "execution_count": null,
      "metadata": {
        "id": "A1lwIAvoaGbw"
      },
      "outputs": [],
      "source": [
        "dotObj_nfa(nfa0s1s0).render('nfa0s1s0')"
      ]
    },
    {
      "cell_type": "code",
      "execution_count": null,
      "metadata": {
        "id": "SJ9YjNIZaGbw"
      },
      "outputs": [],
      "source": [
        "dfa0s1s0 = nfa2dfa(nfa0s1s0, STATENAME_MAXSIZE=80)"
      ]
    },
    {
      "cell_type": "code",
      "execution_count": null,
      "metadata": {
        "id": "OuTCB-K1aGbw"
      },
      "outputs": [],
      "source": [
        "dotObj_dfa(dfa0s1s0, STATENAME_MAXSIZE=80)"
      ]
    },
    {
      "cell_type": "code",
      "execution_count": null,
      "metadata": {
        "id": "XWrZIQFZaGbw"
      },
      "outputs": [],
      "source": [
        "dotObj_dfa(dfa0s1s0, STATENAME_MAXSIZE=80).render('dfa0s1s0')"
      ]
    },
    {
      "cell_type": "code",
      "execution_count": null,
      "metadata": {
        "id": "ZtPRNFhoaGbw"
      },
      "outputs": [],
      "source": []
    },
    {
      "cell_type": "code",
      "execution_count": null,
      "metadata": {
        "id": "SfoApC0GaGbw"
      },
      "outputs": [],
      "source": []
    },
    {
      "cell_type": "code",
      "execution_count": null,
      "metadata": {
        "id": "SR5GqoOHaGbw"
      },
      "outputs": [],
      "source": [
        "no010 = md2mc('''\n",
        "DFA\n",
        "IF : 1 -> IF\n",
        "IF : 0 -> F0\n",
        "\n",
        "F0 : 0 -> F0\n",
        "F0 : 1 -> F1\n",
        "\n",
        "F1 : 0 -> BH\n",
        "F1 : 1 -> IF\n",
        "\n",
        "BH : 0|1 -> BH\n",
        "\n",
        "''')"
      ]
    },
    {
      "cell_type": "code",
      "execution_count": null,
      "metadata": {
        "id": "K65WBTvxaGbw"
      },
      "outputs": [],
      "source": [
        "dotObj_dfa(no010)"
      ]
    },
    {
      "cell_type": "code",
      "execution_count": null,
      "metadata": {
        "id": "rnjpx4XxaGbx"
      },
      "outputs": [],
      "source": [
        "dotObj_dfa(no010).render('no010')"
      ]
    },
    {
      "cell_type": "markdown",
      "metadata": {
        "id": "5fQJElIGaGbx"
      },
      "source": [
        "# To verify, define has010 and intersect."
      ]
    },
    {
      "cell_type": "code",
      "execution_count": null,
      "metadata": {
        "id": "aOKBeuZVaGby"
      },
      "outputs": [],
      "source": [
        "has010 = min_dfa(nfa2dfa(re2nfa(\"(0+1)*010(010)*\")))"
      ]
    },
    {
      "cell_type": "code",
      "execution_count": null,
      "metadata": {
        "id": "Jeg_Cyk2aGby"
      },
      "outputs": [],
      "source": [
        "dotObj_dfa(has010)"
      ]
    },
    {
      "cell_type": "code",
      "execution_count": null,
      "metadata": {
        "id": "8jSgPx9jaGby"
      },
      "outputs": [],
      "source": [
        "no010_and_has010 = intersect_dfa(no010, has010)"
      ]
    },
    {
      "cell_type": "code",
      "execution_count": null,
      "metadata": {
        "id": "AgpGpEPraGby"
      },
      "outputs": [],
      "source": [
        "dotObj_dfa(no010_and_has010)"
      ]
    },
    {
      "cell_type": "code",
      "execution_count": null,
      "metadata": {
        "id": "LLR-LQM4aGby"
      },
      "outputs": [],
      "source": [
        "dotObj_dfa(no010)"
      ]
    },
    {
      "cell_type": "code",
      "execution_count": null,
      "metadata": {
        "id": "DOhyKXvoaGby"
      },
      "outputs": [],
      "source": [
        "REno010 =   \"1* ( '' + 00* ( '' + 1(11*00*1)* ( '' + 11* ( '' + 00* ))))\""
      ]
    },
    {
      "cell_type": "code",
      "execution_count": null,
      "metadata": {
        "id": "Yns2YKZbaGbz"
      },
      "outputs": [],
      "source": [
        "no010_RE = min_dfa(nfa2dfa(re2nfa(REno010)))"
      ]
    },
    {
      "cell_type": "code",
      "execution_count": null,
      "metadata": {
        "id": "LZc-A2zVaGb3"
      },
      "outputs": [],
      "source": [
        "dotObj_dfa(no010_RE)"
      ]
    },
    {
      "cell_type": "code",
      "execution_count": null,
      "metadata": {
        "id": "BEnavFBgaGb3"
      },
      "outputs": [],
      "source": [
        "nfano010 = dfa2nfa(no010)"
      ]
    },
    {
      "cell_type": "code",
      "execution_count": null,
      "metadata": {
        "id": "PPBGNFZgaGb4"
      },
      "outputs": [],
      "source": [
        "dotObj_nfa(nfano010)"
      ]
    },
    {
      "cell_type": "code",
      "execution_count": null,
      "metadata": {
        "id": "P02WOxkPaGb4"
      },
      "outputs": [],
      "source": [
        "gnfa010 = mk_gnfa(nfano010)"
      ]
    },
    {
      "cell_type": "code",
      "execution_count": null,
      "metadata": {
        "id": "2hdmgTsQaGb4"
      },
      "outputs": [],
      "source": [
        "dotObj_gnfa(gnfa010)"
      ]
    },
    {
      "cell_type": "code",
      "execution_count": null,
      "metadata": {
        "id": "ickG3TqqaGb4"
      },
      "outputs": [],
      "source": [
        "help(del_gnfa_states)"
      ]
    },
    {
      "cell_type": "code",
      "execution_count": null,
      "metadata": {
        "id": "nQ91R3-2aGb4"
      },
      "outputs": [],
      "source": [
        "(GF,DO,RE) = del_gnfa_states(gnfa010)"
      ]
    },
    {
      "cell_type": "code",
      "execution_count": null,
      "metadata": {
        "id": "QPmu_hK0aGb4"
      },
      "outputs": [],
      "source": [
        "RE"
      ]
    },
    {
      "cell_type": "code",
      "execution_count": null,
      "metadata": {
        "scrolled": true,
        "id": "beof2WZpaGb4"
      },
      "outputs": [],
      "source": [
        "DO[0]"
      ]
    },
    {
      "cell_type": "code",
      "execution_count": null,
      "metadata": {
        "id": "a0G0y5q-aGb4"
      },
      "outputs": [],
      "source": [
        "DO[1]"
      ]
    },
    {
      "cell_type": "code",
      "execution_count": null,
      "metadata": {
        "id": "5hk0sFdtaGb5"
      },
      "outputs": [],
      "source": [
        "DO[2]"
      ]
    },
    {
      "cell_type": "code",
      "execution_count": null,
      "metadata": {
        "id": "XVU4FMdhaGb5"
      },
      "outputs": [],
      "source": [
        "DO[3]"
      ]
    },
    {
      "cell_type": "code",
      "execution_count": null,
      "metadata": {
        "id": "hwK9rQAlaGb5"
      },
      "outputs": [],
      "source": []
    }
  ],
  "metadata": {
    "kernelspec": {
      "display_name": "Python 3",
      "language": "python",
      "name": "python3"
    },
    "language_info": {
      "codemirror_mode": {
        "name": "ipython",
        "version": 3
      },
      "file_extension": ".py",
      "mimetype": "text/x-python",
      "name": "python",
      "nbconvert_exporter": "python",
      "pygments_lexer": "ipython3",
      "version": "3.7.3"
    },
    "toc": {
      "colors": {
        "hover_highlight": "#DAA520",
        "running_highlight": "#FF0000",
        "selected_highlight": "#FFD700"
      },
      "moveMenuLeft": true,
      "nav_menu": {
        "height": "318px",
        "width": "252px"
      },
      "navigate_menu": true,
      "number_sections": true,
      "sideBar": true,
      "threshold": 4,
      "toc_cell": false,
      "toc_section_display": "block",
      "toc_window_display": false,
      "widenNotebook": false
    },
    "colab": {
      "provenance": [],
      "include_colab_link": true
    },
    "widgets": {
      "application/vnd.jupyter.widget-state+json": {
        "c034ec6f394f4c02a52cb21756df40cf": {
          "model_module": "@jupyter-widgets/controls",
          "model_name": "TabModel",
          "model_module_version": "1.5.0",
          "state": {
            "_dom_classes": [],
            "_model_module": "@jupyter-widgets/controls",
            "_model_module_version": "1.5.0",
            "_model_name": "TabModel",
            "_titles": {
              "0": "Edit",
              "1": "Animate",
              "2": "Help"
            },
            "_view_count": null,
            "_view_module": "@jupyter-widgets/controls",
            "_view_module_version": "1.5.0",
            "_view_name": "TabView",
            "box_style": "",
            "children": [
              "IPY_MODEL_aff054b247214544bd3c08efaf59aa9a",
              "IPY_MODEL_0fd8e28429554f02a18efc6634f28b24",
              "IPY_MODEL_20f051baabe14effab378c91fea8a20c"
            ],
            "layout": "IPY_MODEL_3be6a9b50ee341578ad20e9193f34c8f",
            "selected_index": 0
          }
        },
        "aff054b247214544bd3c08efaf59aa9a": {
          "model_module": "@jupyter-widgets/controls",
          "model_name": "VBoxModel",
          "model_module_version": "1.5.0",
          "state": {
            "_dom_classes": [],
            "_model_module": "@jupyter-widgets/controls",
            "_model_module_version": "1.5.0",
            "_model_name": "VBoxModel",
            "_view_count": null,
            "_view_module": "@jupyter-widgets/controls",
            "_view_module_version": "1.5.0",
            "_view_name": "VBoxView",
            "box_style": "",
            "children": [
              "IPY_MODEL_2b21fa9634d245169bb60773ae2d0902",
              "IPY_MODEL_bc25c0b1154a4a779b4fa376979c48bc",
              "IPY_MODEL_0ce9b5b144e04bc79b29ca81d763b229"
            ],
            "layout": "IPY_MODEL_1fcd227329764dcda14c59b8b9d5394a"
          }
        },
        "0fd8e28429554f02a18efc6634f28b24": {
          "model_module": "@jupyter-widgets/controls",
          "model_name": "VBoxModel",
          "model_module_version": "1.5.0",
          "state": {
            "_dom_classes": [],
            "_model_module": "@jupyter-widgets/controls",
            "_model_module_version": "1.5.0",
            "_model_name": "VBoxModel",
            "_view_count": null,
            "_view_module": "@jupyter-widgets/controls",
            "_view_module_version": "1.5.0",
            "_view_name": "VBoxView",
            "box_style": "",
            "children": [
              "IPY_MODEL_9ae9d684f88f41b3ba02bbf77b45e972",
              "IPY_MODEL_8efff85f7d284be0b735ffdd53769abe",
              "IPY_MODEL_adffe88e34dd469c9c554b72315a324f"
            ],
            "layout": "IPY_MODEL_96cd373c424845a4a063eafed9fb0ca6"
          }
        },
        "20f051baabe14effab378c91fea8a20c": {
          "model_module": "@jupyter-widgets/controls",
          "model_name": "VBoxModel",
          "model_module_version": "1.5.0",
          "state": {
            "_dom_classes": [],
            "_model_module": "@jupyter-widgets/controls",
            "_model_module_version": "1.5.0",
            "_model_name": "VBoxModel",
            "_view_count": null,
            "_view_module": "@jupyter-widgets/controls",
            "_view_module_version": "1.5.0",
            "_view_name": "VBoxView",
            "box_style": "",
            "children": [
              "IPY_MODEL_a0d606e36bae41cb8290dc2ef8d560ad",
              "IPY_MODEL_e48af54c18b1403f8285fdbb04188df0"
            ],
            "layout": "IPY_MODEL_87b5f7b52ebd4a5ca06b2090a6c74664"
          }
        },
        "3be6a9b50ee341578ad20e9193f34c8f": {
          "model_module": "@jupyter-widgets/base",
          "model_name": "LayoutModel",
          "model_module_version": "1.2.0",
          "state": {
            "_model_module": "@jupyter-widgets/base",
            "_model_module_version": "1.2.0",
            "_model_name": "LayoutModel",
            "_view_count": null,
            "_view_module": "@jupyter-widgets/base",
            "_view_module_version": "1.2.0",
            "_view_name": "LayoutView",
            "align_content": null,
            "align_items": null,
            "align_self": null,
            "border": null,
            "bottom": null,
            "display": null,
            "flex": null,
            "flex_flow": null,
            "grid_area": null,
            "grid_auto_columns": null,
            "grid_auto_flow": null,
            "grid_auto_rows": null,
            "grid_column": null,
            "grid_gap": null,
            "grid_row": null,
            "grid_template_areas": null,
            "grid_template_columns": null,
            "grid_template_rows": null,
            "height": null,
            "justify_content": null,
            "justify_items": null,
            "left": null,
            "margin": null,
            "max_height": null,
            "max_width": null,
            "min_height": null,
            "min_width": null,
            "object_fit": null,
            "object_position": null,
            "order": null,
            "overflow": null,
            "overflow_x": null,
            "overflow_y": null,
            "padding": null,
            "right": null,
            "top": null,
            "visibility": null,
            "width": null
          }
        },
        "2b21fa9634d245169bb60773ae2d0902": {
          "model_module": "@jupyter-widgets/controls",
          "model_name": "HBoxModel",
          "model_module_version": "1.5.0",
          "state": {
            "_dom_classes": [],
            "_model_module": "@jupyter-widgets/controls",
            "_model_module_version": "1.5.0",
            "_model_name": "HBoxModel",
            "_view_count": null,
            "_view_module": "@jupyter-widgets/controls",
            "_view_module_version": "1.5.0",
            "_view_name": "HBoxView",
            "box_style": "",
            "children": [
              "IPY_MODEL_c4eba97287a5421e9c22c4486d358fee",
              "IPY_MODEL_442e7db4174d4a6cb30c3a7d98b0da41"
            ],
            "layout": "IPY_MODEL_93fbb51406394dbaa8ef9bd90c4cf19e"
          }
        },
        "bc25c0b1154a4a779b4fa376979c48bc": {
          "model_module": "@jupyter-widgets/output",
          "model_name": "OutputModel",
          "model_module_version": "1.0.0",
          "state": {
            "_dom_classes": [],
            "_model_module": "@jupyter-widgets/output",
            "_model_module_version": "1.0.0",
            "_model_name": "OutputModel",
            "_view_count": null,
            "_view_module": "@jupyter-widgets/output",
            "_view_module_version": "1.0.0",
            "_view_name": "OutputView",
            "layout": "IPY_MODEL_6e4749a636644fdaa27e8422a4d7aaa1",
            "msg_id": "",
            "outputs": [
              {
                "output_type": "display_data",
                "data": {
                  "text/plain": "Textarea(value='!!---------------------------------------------------------------------------\\n!! This DFA loo…",
                  "application/vnd.jupyter.widget-view+json": {
                    "version_major": 2,
                    "version_minor": 0,
                    "model_id": "f8cc0944b667455d8d2b312cf634f84b"
                  }
                },
                "metadata": {}
              }
            ]
          }
        },
        "0ce9b5b144e04bc79b29ca81d763b229": {
          "model_module": "@jupyter-widgets/controls",
          "model_name": "AccordionModel",
          "model_module_version": "1.5.0",
          "state": {
            "_dom_classes": [],
            "_model_module": "@jupyter-widgets/controls",
            "_model_module_version": "1.5.0",
            "_model_name": "AccordionModel",
            "_titles": {
              "0": "Options"
            },
            "_view_count": null,
            "_view_module": "@jupyter-widgets/controls",
            "_view_module_version": "1.5.0",
            "_view_name": "AccordionView",
            "box_style": "",
            "children": [
              "IPY_MODEL_b20a404ad8d64eceb1af08d2eab74797"
            ],
            "layout": "IPY_MODEL_833299233e2546e09840102d46d1f36d",
            "selected_index": null
          }
        },
        "1fcd227329764dcda14c59b8b9d5394a": {
          "model_module": "@jupyter-widgets/base",
          "model_name": "LayoutModel",
          "model_module_version": "1.2.0",
          "state": {
            "_model_module": "@jupyter-widgets/base",
            "_model_module_version": "1.2.0",
            "_model_name": "LayoutModel",
            "_view_count": null,
            "_view_module": "@jupyter-widgets/base",
            "_view_module_version": "1.2.0",
            "_view_name": "LayoutView",
            "align_content": null,
            "align_items": null,
            "align_self": null,
            "border": null,
            "bottom": null,
            "display": null,
            "flex": null,
            "flex_flow": null,
            "grid_area": null,
            "grid_auto_columns": null,
            "grid_auto_flow": null,
            "grid_auto_rows": null,
            "grid_column": null,
            "grid_gap": null,
            "grid_row": null,
            "grid_template_areas": null,
            "grid_template_columns": null,
            "grid_template_rows": null,
            "height": null,
            "justify_content": null,
            "justify_items": null,
            "left": null,
            "margin": null,
            "max_height": null,
            "max_width": null,
            "min_height": null,
            "min_width": null,
            "object_fit": null,
            "object_position": null,
            "order": null,
            "overflow": null,
            "overflow_x": null,
            "overflow_y": null,
            "padding": null,
            "right": null,
            "top": null,
            "visibility": null,
            "width": null
          }
        },
        "9ae9d684f88f41b3ba02bbf77b45e972": {
          "model_module": "@jupyter-widgets/output",
          "model_name": "OutputModel",
          "model_module_version": "1.0.0",
          "state": {
            "_dom_classes": [],
            "_model_module": "@jupyter-widgets/output",
            "_model_module_version": "1.0.0",
            "_model_name": "OutputModel",
            "_view_count": null,
            "_view_module": "@jupyter-widgets/output",
            "_view_module_version": "1.0.0",
            "_view_name": "OutputView",
            "layout": "IPY_MODEL_2168461b1d3146ae8fc46ec8223030c3",
            "msg_id": "",
            "outputs": []
          }
        },
        "8efff85f7d284be0b735ffdd53769abe": {
          "model_module": "@jupyter-widgets/output",
          "model_name": "OutputModel",
          "model_module_version": "1.0.0",
          "state": {
            "_dom_classes": [],
            "_model_module": "@jupyter-widgets/output",
            "_model_module_version": "1.0.0",
            "_model_name": "OutputModel",
            "_view_count": null,
            "_view_module": "@jupyter-widgets/output",
            "_view_module_version": "1.0.0",
            "_view_name": "OutputView",
            "layout": "IPY_MODEL_396fb6147145426f9802c3029d639a00",
            "msg_id": "",
            "outputs": []
          }
        },
        "adffe88e34dd469c9c554b72315a324f": {
          "model_module": "@jupyter-widgets/output",
          "model_name": "OutputModel",
          "model_module_version": "1.0.0",
          "state": {
            "_dom_classes": [],
            "_model_module": "@jupyter-widgets/output",
            "_model_module_version": "1.0.0",
            "_model_name": "OutputModel",
            "_view_count": null,
            "_view_module": "@jupyter-widgets/output",
            "_view_module_version": "1.0.0",
            "_view_name": "OutputView",
            "layout": "IPY_MODEL_05be0551729d4f11af0b0056460c9f2f",
            "msg_id": "",
            "outputs": []
          }
        },
        "96cd373c424845a4a063eafed9fb0ca6": {
          "model_module": "@jupyter-widgets/base",
          "model_name": "LayoutModel",
          "model_module_version": "1.2.0",
          "state": {
            "_model_module": "@jupyter-widgets/base",
            "_model_module_version": "1.2.0",
            "_model_name": "LayoutModel",
            "_view_count": null,
            "_view_module": "@jupyter-widgets/base",
            "_view_module_version": "1.2.0",
            "_view_name": "LayoutView",
            "align_content": null,
            "align_items": null,
            "align_self": null,
            "border": null,
            "bottom": null,
            "display": null,
            "flex": null,
            "flex_flow": null,
            "grid_area": null,
            "grid_auto_columns": null,
            "grid_auto_flow": null,
            "grid_auto_rows": null,
            "grid_column": null,
            "grid_gap": null,
            "grid_row": null,
            "grid_template_areas": null,
            "grid_template_columns": null,
            "grid_template_rows": null,
            "height": null,
            "justify_content": null,
            "justify_items": null,
            "left": null,
            "margin": null,
            "max_height": null,
            "max_width": null,
            "min_height": null,
            "min_width": null,
            "object_fit": null,
            "object_position": null,
            "order": null,
            "overflow": null,
            "overflow_x": null,
            "overflow_y": null,
            "padding": null,
            "right": null,
            "top": null,
            "visibility": null,
            "width": null
          }
        },
        "a0d606e36bae41cb8290dc2ef8d560ad": {
          "model_module": "@jupyter-widgets/controls",
          "model_name": "HTMLModel",
          "model_module_version": "1.5.0",
          "state": {
            "_dom_classes": [],
            "_model_module": "@jupyter-widgets/controls",
            "_model_module_version": "1.5.0",
            "_model_name": "HTMLModel",
            "_view_count": null,
            "_view_module": "@jupyter-widgets/controls",
            "_view_module_version": "1.5.0",
            "_view_name": "HTMLView",
            "description": "",
            "description_tooltip": null,
            "layout": "IPY_MODEL_46e9a27b1f53478ab82dee94710d1aee",
            "placeholder": "​",
            "style": "IPY_MODEL_eebc1eb55970444682058e684a022920",
            "value": "<H2>Help</H2>"
          }
        },
        "e48af54c18b1403f8285fdbb04188df0": {
          "model_module": "@jupyter-widgets/controls",
          "model_name": "AccordionModel",
          "model_module_version": "1.5.0",
          "state": {
            "_dom_classes": [],
            "_model_module": "@jupyter-widgets/controls",
            "_model_module_version": "1.5.0",
            "_model_name": "AccordionModel",
            "_titles": {
              "0": "Machine Markdown",
              "1": "Options",
              "2": "Animations",
              "3": "Play Controls",
              "4": "Translation from JFlap"
            },
            "_view_count": null,
            "_view_module": "@jupyter-widgets/controls",
            "_view_module_version": "1.5.0",
            "_view_name": "AccordionView",
            "box_style": "",
            "children": [
              "IPY_MODEL_05d0a20f767349f4bb31afc60f7fa7f3",
              "IPY_MODEL_95c85a839c8c4ff78b12412b5a927af1",
              "IPY_MODEL_293a81c18282420ca040da75c643cca3",
              "IPY_MODEL_df561739b6144315a6ed16cad61d431a",
              "IPY_MODEL_44af5ee37100492f83a3780b25346aff"
            ],
            "layout": "IPY_MODEL_13b76ea29ec0462588189ab560be6165",
            "selected_index": null
          }
        },
        "87b5f7b52ebd4a5ca06b2090a6c74664": {
          "model_module": "@jupyter-widgets/base",
          "model_name": "LayoutModel",
          "model_module_version": "1.2.0",
          "state": {
            "_model_module": "@jupyter-widgets/base",
            "_model_module_version": "1.2.0",
            "_model_name": "LayoutModel",
            "_view_count": null,
            "_view_module": "@jupyter-widgets/base",
            "_view_module_version": "1.2.0",
            "_view_name": "LayoutView",
            "align_content": null,
            "align_items": null,
            "align_self": null,
            "border": null,
            "bottom": null,
            "display": null,
            "flex": null,
            "flex_flow": null,
            "grid_area": null,
            "grid_auto_columns": null,
            "grid_auto_flow": null,
            "grid_auto_rows": null,
            "grid_column": null,
            "grid_gap": null,
            "grid_row": null,
            "grid_template_areas": null,
            "grid_template_columns": null,
            "grid_template_rows": null,
            "height": null,
            "justify_content": null,
            "justify_items": null,
            "left": null,
            "margin": null,
            "max_height": null,
            "max_width": null,
            "min_height": null,
            "min_width": null,
            "object_fit": null,
            "object_position": null,
            "order": null,
            "overflow": null,
            "overflow_x": null,
            "overflow_y": null,
            "padding": null,
            "right": null,
            "top": null,
            "visibility": null,
            "width": null
          }
        },
        "c4eba97287a5421e9c22c4486d358fee": {
          "model_module": "@jupyter-widgets/controls",
          "model_name": "AccordionModel",
          "model_module_version": "1.5.0",
          "state": {
            "_dom_classes": [],
            "_model_module": "@jupyter-widgets/controls",
            "_model_module_version": "1.5.0",
            "_model_name": "AccordionModel",
            "_titles": {
              "0": "Save/Load"
            },
            "_view_count": null,
            "_view_module": "@jupyter-widgets/controls",
            "_view_module_version": "1.5.0",
            "_view_name": "AccordionView",
            "box_style": "",
            "children": [
              "IPY_MODEL_001d103b92ad4ae4ad58db98d165620f"
            ],
            "layout": "IPY_MODEL_1f66e18698384cf19953a35bd65de53a",
            "selected_index": null
          }
        },
        "442e7db4174d4a6cb30c3a7d98b0da41": {
          "model_module": "@jupyter-widgets/controls",
          "model_name": "ToggleButtonsModel",
          "model_module_version": "1.5.0",
          "state": {
            "_dom_classes": [],
            "_model_module": "@jupyter-widgets/controls",
            "_model_module_version": "1.5.0",
            "_model_name": "ToggleButtonsModel",
            "_options_labels": [
              "DFA",
              "NFA",
              "PDA",
              "TM",
              "Translate"
            ],
            "_view_count": null,
            "_view_module": "@jupyter-widgets/controls",
            "_view_module_version": "1.5.0",
            "_view_name": "ToggleButtonsView",
            "button_style": "info",
            "description": "",
            "description_tooltip": null,
            "disabled": false,
            "icons": [],
            "index": 0,
            "layout": "IPY_MODEL_cefe4861b7184cbeb1366f5585c74bd3",
            "style": "IPY_MODEL_d34e8d6d12fb46288ce6cbaf4f2d9ce0",
            "tooltips": [
              "Deterministic Finite Automata",
              "Non-deterministic Finite Automata",
              "Pushdown Automata",
              "Turing Machine",
              "Translation"
            ]
          }
        },
        "93fbb51406394dbaa8ef9bd90c4cf19e": {
          "model_module": "@jupyter-widgets/base",
          "model_name": "LayoutModel",
          "model_module_version": "1.2.0",
          "state": {
            "_model_module": "@jupyter-widgets/base",
            "_model_module_version": "1.2.0",
            "_model_name": "LayoutModel",
            "_view_count": null,
            "_view_module": "@jupyter-widgets/base",
            "_view_module_version": "1.2.0",
            "_view_name": "LayoutView",
            "align_content": "center",
            "align_items": null,
            "align_self": null,
            "border": null,
            "bottom": null,
            "display": null,
            "flex": null,
            "flex_flow": null,
            "grid_area": null,
            "grid_auto_columns": null,
            "grid_auto_flow": null,
            "grid_auto_rows": null,
            "grid_column": null,
            "grid_gap": null,
            "grid_row": null,
            "grid_template_areas": null,
            "grid_template_columns": null,
            "grid_template_rows": null,
            "height": null,
            "justify_content": null,
            "justify_items": null,
            "left": null,
            "margin": null,
            "max_height": null,
            "max_width": null,
            "min_height": null,
            "min_width": null,
            "object_fit": null,
            "object_position": null,
            "order": null,
            "overflow": null,
            "overflow_x": null,
            "overflow_y": null,
            "padding": null,
            "right": null,
            "top": null,
            "visibility": null,
            "width": "100%"
          }
        },
        "b20a404ad8d64eceb1af08d2eab74797": {
          "model_module": "@jupyter-widgets/controls",
          "model_name": "GridBoxModel",
          "model_module_version": "1.5.0",
          "state": {
            "_dom_classes": [],
            "_model_module": "@jupyter-widgets/controls",
            "_model_module_version": "1.5.0",
            "_model_name": "GridBoxModel",
            "_view_count": null,
            "_view_module": "@jupyter-widgets/controls",
            "_view_module_version": "1.5.0",
            "_view_name": "GridBoxView",
            "box_style": "",
            "children": [
              "IPY_MODEL_67eda3880be64e41baa46a1730b0624e",
              "IPY_MODEL_4bebb30de52944ba8e4d9ddd36655b2c",
              "IPY_MODEL_5ad8a437ecb5497b9197d846be4e4e06",
              "IPY_MODEL_732feccd9efc4148b34aac3c32c60be8",
              "IPY_MODEL_224c927f4d8643bfa43b92764d502ef9",
              "IPY_MODEL_a5a319f5071d4828a6612457d6300f1c",
              "IPY_MODEL_ff88151b3564442090a2d5694ac0f06f",
              "IPY_MODEL_0a9f24676c854ca6bb620f210e69f8d8",
              "IPY_MODEL_5c7d1511fa2141589c7aca74f6972427",
              "IPY_MODEL_e78ec3f346044a838363815bb3efa99b",
              "IPY_MODEL_88d305e5dc3e4d31a21e61b825b80a6f",
              "IPY_MODEL_3b56518a12574fbf921ca4f9219bebdc"
            ],
            "layout": "IPY_MODEL_204668c1c6da45b49dfb8fa8a82886c2"
          }
        },
        "833299233e2546e09840102d46d1f36d": {
          "model_module": "@jupyter-widgets/base",
          "model_name": "LayoutModel",
          "model_module_version": "1.2.0",
          "state": {
            "_model_module": "@jupyter-widgets/base",
            "_model_module_version": "1.2.0",
            "_model_name": "LayoutModel",
            "_view_count": null,
            "_view_module": "@jupyter-widgets/base",
            "_view_module_version": "1.2.0",
            "_view_name": "LayoutView",
            "align_content": null,
            "align_items": null,
            "align_self": null,
            "border": null,
            "bottom": null,
            "display": null,
            "flex": null,
            "flex_flow": null,
            "grid_area": null,
            "grid_auto_columns": null,
            "grid_auto_flow": null,
            "grid_auto_rows": null,
            "grid_column": null,
            "grid_gap": null,
            "grid_row": null,
            "grid_template_areas": null,
            "grid_template_columns": null,
            "grid_template_rows": null,
            "height": null,
            "justify_content": null,
            "justify_items": null,
            "left": null,
            "margin": null,
            "max_height": null,
            "max_width": null,
            "min_height": null,
            "min_width": null,
            "object_fit": null,
            "object_position": null,
            "order": null,
            "overflow": "hidden",
            "overflow_x": null,
            "overflow_y": null,
            "padding": null,
            "right": null,
            "top": null,
            "visibility": null,
            "width": null
          }
        },
        "46e9a27b1f53478ab82dee94710d1aee": {
          "model_module": "@jupyter-widgets/base",
          "model_name": "LayoutModel",
          "model_module_version": "1.2.0",
          "state": {
            "_model_module": "@jupyter-widgets/base",
            "_model_module_version": "1.2.0",
            "_model_name": "LayoutModel",
            "_view_count": null,
            "_view_module": "@jupyter-widgets/base",
            "_view_module_version": "1.2.0",
            "_view_name": "LayoutView",
            "align_content": null,
            "align_items": null,
            "align_self": null,
            "border": null,
            "bottom": null,
            "display": null,
            "flex": null,
            "flex_flow": null,
            "grid_area": null,
            "grid_auto_columns": null,
            "grid_auto_flow": null,
            "grid_auto_rows": null,
            "grid_column": null,
            "grid_gap": null,
            "grid_row": null,
            "grid_template_areas": null,
            "grid_template_columns": null,
            "grid_template_rows": null,
            "height": null,
            "justify_content": null,
            "justify_items": null,
            "left": null,
            "margin": null,
            "max_height": null,
            "max_width": null,
            "min_height": null,
            "min_width": null,
            "object_fit": null,
            "object_position": null,
            "order": null,
            "overflow": null,
            "overflow_x": null,
            "overflow_y": null,
            "padding": null,
            "right": null,
            "top": null,
            "visibility": null,
            "width": null
          }
        },
        "eebc1eb55970444682058e684a022920": {
          "model_module": "@jupyter-widgets/controls",
          "model_name": "DescriptionStyleModel",
          "model_module_version": "1.5.0",
          "state": {
            "_model_module": "@jupyter-widgets/controls",
            "_model_module_version": "1.5.0",
            "_model_name": "DescriptionStyleModel",
            "_view_count": null,
            "_view_module": "@jupyter-widgets/base",
            "_view_module_version": "1.2.0",
            "_view_name": "StyleView",
            "description_width": ""
          }
        },
        "05d0a20f767349f4bb31afc60f7fa7f3": {
          "model_module": "@jupyter-widgets/controls",
          "model_name": "HTMLModel",
          "model_module_version": "1.5.0",
          "state": {
            "_dom_classes": [],
            "_model_module": "@jupyter-widgets/controls",
            "_model_module_version": "1.5.0",
            "_model_name": "HTMLModel",
            "_view_count": null,
            "_view_module": "@jupyter-widgets/controls",
            "_view_module_version": "1.5.0",
            "_view_name": "HTMLView",
            "description": "",
            "description_tooltip": null,
            "layout": "IPY_MODEL_78fafca4b76a49039f77518a4dad0866",
            "placeholder": "​",
            "style": "IPY_MODEL_240566cfb4504bd28529720cc45b984a",
            "value": "<H4>General</H4>\nThe markdown for specifying a machine using Jove is similar for all machine types. You just need to write a series of\nrules that define the transitions between the states in the machine. These rules all share the same base pattern: </br>\n<code>&lt;From State&gt; : &lt;Transition Condition&gt; &minus;&gt; &lt;To State&gt;</code> </br>\nWith the additional constraints: </br>\n<ul>\n  <li>Initial state names must start with an <code>I</code> </li>\n  <li>Final state names must start with a <code>F</code> </li>\n  <li>States that are both initial and final must have a name that starts with <code>IF</code> </li>\n  <li><code>!!</code> start a line comment, anything after the <code>!!</code> will be ignored by the parser </li>\n  <li><code>''</code> stands for 'epsilon', a zero-length string and can be used in NFA and PDA as noted below </li>\n</ul>\nAs an example, if we wanted to create a rule for a DFA that starts in initial state <code>I_start</code> and goes to \nfinal state <code>F_end</code> when a <code>0</code> is consumed the rule would be: </br>\n<code>I_start : 0 &minus;&gt; F_end</code> </br>\nIf there is more than one transition condition between the same From and To states you can combine rules using a \n<code>&vert;</code> separated list of transitions. For two transitions the pattern is: </br>\n<code>&lt;From State&gt; : &lt;Transition Condition 1&gt; &vert; &lt;Transition Condition 2&gt; &minus;&gt; &lt;To State&gt;</code> \n</br>\nSo, if we added a second rule that starts in initial state <code>I_start</code> and goes to final state \n<code>F_end</code> when a <code>1</code> is consumed &lpar;<code>I_start : 1 &minus;&gt; F_end</code>&rpar; then the \ncombined rule would be: </br>\n<code>I_start : 0 &vert; 1 &minus;&gt; F_end</code> </br>\n<b>Note:</b> Whitespace in a line &lpar;space and tab&rpar; is ignored by the parser, so format your rules in a way \nthat makes them easy to read and add plenty of comments </br>\n\n<H4>Deterministic Finite Automata (DFA)</H4>\n<code>&lt;from state&gt; : &lt;input symbol&gt; &minus;&gt; &lt;to state&gt;  !! comment </code></br>\nex: <code>I : 0 &minus;&gt; A</code> </br>\n\n<H4>Non-Deterministic Finite Automata (NFA)</H4>\nNFA can have <code>''</code> transitions in addition to transitions that consume input symbols. \n<code>&lt;from state&gt; : &lt;input symbol or ''&gt; &minus;&gt; &lt;to state&gt;  !! comment</code> </br>\nex: <code>I : 0 &minus;&gt; A</code> </br>\nNFA are the only machine type in Jove that can have multiple initial states, remember that each of the initial state \nnames must start with an <code>I</code>. </br>\n\n<H4>Pushdown Automata (PDA)</H4>\nPDA transitions have three parts:\n<ol>\n  <li>Input symbol to consume</li>\n  <li>Symbol popped from the stack</li>\n  <li>Symbol&lpar;s&rpar; to push onto the stack</li>  \n</ol>\nBy default, PDA have a <code>#</code> marker at the bottom of the stack so that it is easy to check if the stack is \nempty. You are not <i>required</i> to replace the <code>#</code> marker when it is popped off the stack but it is best \npractice to make sure it is always on the stack. </br>\nPDA can have <code>''</code> transitions that: do not consume an input symbol, do not pop from the stack, do not push \nto the stack, or any combination of the the three.\n<code>&lt;from state&gt; : &lt;consume input symbol or ''&gt; , &lt;pop stack symbol or ''&gt; ; &lt;push stack symbol&lpar;s&rpar; or ''&gt; &minus;&gt; &lt;to state&gt;  !! comment</code> </br>\nex: <code>I : 0 , # ; 0# &minus;&gt; A</code> </br>\n\n<H4>Turing Machines (TM)</H4>\nTuring Machine transitions have three parts:\n<ol>\n  <li>Symbol to read from the tape</li>\n  <li>Symbol to write on the tape</li>\n  <li>Head movement &lpar;L - move left, R - move right, S - stay put&rpar;</li>  \n</ol>\nJove Turing Machines use <code>.</code> to denote a blank position on the tape and all positions to the left and right \nof the initial input contain <code>.</code>. </br>\n<code>&lt;from state&gt; : &ltread from tape&gt; ; &lt;write to tape&gt; , &lt;head move &lpar;L,R,S&rpar;&gt; &minus;&gt; &lt;to state&gt;  !! comment</code> </br>\nex: <code>I : 0 ; B , R &minus;&gt; A</code> </br>"
          }
        },
        "95c85a839c8c4ff78b12412b5a927af1": {
          "model_module": "@jupyter-widgets/controls",
          "model_name": "HTMLModel",
          "model_module_version": "1.5.0",
          "state": {
            "_dom_classes": [],
            "_model_module": "@jupyter-widgets/controls",
            "_model_module_version": "1.5.0",
            "_model_name": "HTMLModel",
            "_view_count": null,
            "_view_module": "@jupyter-widgets/controls",
            "_view_module_version": "1.5.0",
            "_view_name": "HTMLView",
            "description": "",
            "description_tooltip": null,
            "layout": "IPY_MODEL_8f92c7fb40fc4209bf43e4258b3640b0",
            "placeholder": "​",
            "style": "IPY_MODEL_a8f73a1c921d4f4ea16bf0212e82e47b",
            "value": "There are three color pickers to let you control the colors used in the animations: </br>\n<ul>\n    <li><b>Acceptance:</b> Indicates the machine stopped in an accepting state</li>\n    <li><b>Rejection:</b> Indicates the machine stopped in a rejecting state</li>\n    <li><b>Transition:</b> This color is used to highlight the edges and nodes that are visited while the input string is \n    consumed</li>\n</ul>\n</br>\n<b>Fuse Edges:</b> Controls whether edges between states are drawn individually. If selected, only one directed edge is \ndrawn between state pairs and the transition labels are stacked above. This often helps simplify machine visualization. \n</br>\n<b>Max Draw Size:</b> The maximum width of the animation widget in inches. The purpose of this control is to prevent \nlarge visualizations from extending outside the area that the animation widget can draw, which forces the area to become \nscrollable. \n</br>\n<b>Alternate Start (DFA and NFA):</b> If selected, an additionaly control is added at the top of the animation that \nallows you to select the state (DFA) or set of states (NFA) that the machine starts in. For DFA the control is a \ndropdown box. For NFA the control is a multiselct box, select multiple state names using <code>Ctrl + Click</code> \n(Windows) or <code>Shift + Click</code> (Mac).\n</br>\n<b>Show Rejected (TM):</b> If selected, the path dropdown box will also include rejected paths that were explored by \nthe TM.\n</br>\n<b>Max Stack Size (PDA):</b> Controls the maximum stack size that can be picked using the 'Stack Size' slider. The \nslider default value is always 6."
          }
        },
        "293a81c18282420ca040da75c643cca3": {
          "model_module": "@jupyter-widgets/controls",
          "model_name": "HTMLModel",
          "model_module_version": "1.5.0",
          "state": {
            "_dom_classes": [],
            "_model_module": "@jupyter-widgets/controls",
            "_model_module_version": "1.5.0",
            "_model_name": "HTMLModel",
            "_view_count": null,
            "_view_module": "@jupyter-widgets/controls",
            "_view_module_version": "1.5.0",
            "_view_name": "HTMLView",
            "description": "",
            "description_tooltip": null,
            "layout": "IPY_MODEL_578d8885a13d4522acef973373e60913",
            "placeholder": "​",
            "style": "IPY_MODEL_46c2e185374e401d9404bb36f23296a1",
            "value": "<H4>General</H4>\nYou can enter a string for the machine to consume in the 'Input:' text box at the top of the widget. The string must be \ncomposed of symbols in the machine's alphabet which is displayed in input box by default. If the string contains \nunknown symbols the 'Animate' button will turn red with the message 'Invalid Input' until the string is updated.\n</br></br>\nClick the 'Animate' button when you are ready for the machine to animate using your input. This disables the input \ntextbox and enables the play controls at the bottom of the widget. When you are done exploring the current input click \nthe 'Change Input' button to disable the play controls and re-enable the input textbox.\n</br>\n\n<H4>Deterministic Finite Automata (DFA)</H4>\nIf the 'Alternate Start' option is selected, a dropdown box is added to the controls at the top of the widget that \nallows you to pick which state the DFA starts in when consuming the input.\n</br>\n<H4>Non-Deterministic Finite Automata (NFA)</H4>\nIf the 'Alternate Start' option is selected, a multiselect box is added to the controls at the top of the widget that \nallows you to pick which set of states the NFA starts in when consuming the input. Select multiple state names using \n<code>Ctrl + Click</code> (Windows) or <code>Shift + Click</code> (Mac).\n</br>\n<H4>Pushdown Automata (PDA)</H4>\nThis widget has two additional controls at the top. The 'Acceptance' dropdown lets you choose the acceptance \ncriteria used when animating the PDA. 'State' will accept paths where the machine is in a final state when the input \nhas been consumed. 'Stack' will accept paths where the stack is empty when the input has been consumed. Use the 'Stack \nSize' slider to changes the stack size used when looking for accepting paths.\n</br></br>\nThe 'Path' dropdown box at the bottom of the widget will be populated with one option for each accepting path found for \nthe provided input. If no accepting path is found the graph will highlight red and a message displays confirming the \ninput was rejected.\n</br>\n<H4>Turing Machines (TM)</H4>\nThe 'Fuel' spinner box at the top of this widget can be used to increase the number of steps the machine is allowed to \ntake while searching for an accepting path. This forces the machine to stop in a finite amount of time. \n</br></br>\nThe dropdown box at the bottom of the widget is populated with all accepting paths found for the provided input. If \nthe 'Show Rejected' option is selected the dropdown will also include animations for the rejected paths that the TM \nsearched."
          }
        },
        "df561739b6144315a6ed16cad61d431a": {
          "model_module": "@jupyter-widgets/controls",
          "model_name": "HTMLModel",
          "model_module_version": "1.5.0",
          "state": {
            "_dom_classes": [],
            "_model_module": "@jupyter-widgets/controls",
            "_model_module_version": "1.5.0",
            "_model_name": "HTMLModel",
            "_view_count": null,
            "_view_module": "@jupyter-widgets/controls",
            "_view_module_version": "1.5.0",
            "_view_name": "HTMLView",
            "description": "",
            "description_tooltip": null,
            "layout": "IPY_MODEL_90b44c270f52432082689e64be08b871",
            "placeholder": "​",
            "style": "IPY_MODEL_2b3c3fbf2bc944bb9accb1c76567201c",
            "value": "You can enter a string for the machine to consume in the 'Input:' text box at the top of the widget. The string must be \ncomposed of symbols in the machine's alphabet which is displayed in input box by default. If the string contains unknown \nsymbols the 'Animate' button will turn red with the message 'Invalid Input' until the string is updated. \n</br></br>\nClick the 'Animate' button when you are ready for the machine to animate using your input. This disables the input \ntextbox and enables the play controls at the bottom of the widget. When you are done exploring the current input click \nthe 'Change Input' button to disable the play controls and re-enable the input textbox.\n</br></br>\nThe play controls at the bottom of the widget (from left to right) consist of: </br>\n<ul>\n    <li><b>Play :</b> play/resume the animation</li>\n    <li><b>Pause :</b> pause the animation</li>\n    <li><b>Stop :</b> stop the animation, play will start from the beginning</li>\n    <li><b>Loop :</b> loop when the end of the animation is reached and continue playing from the beginning</li>\n    <li><b>Step Backward :</b> take one 'step' backward in the animation</li>\n    <li><b>Step Forward :</b> take one 'step' forward in the animation</li>\n    <li><b>Speed :</b> this slider lets you increase the animation playback speed</li>\n</ul>"
          }
        },
        "44af5ee37100492f83a3780b25346aff": {
          "model_module": "@jupyter-widgets/controls",
          "model_name": "HTMLModel",
          "model_module_version": "1.5.0",
          "state": {
            "_dom_classes": [],
            "_model_module": "@jupyter-widgets/controls",
            "_model_module_version": "1.5.0",
            "_model_name": "HTMLModel",
            "_view_count": null,
            "_view_module": "@jupyter-widgets/controls",
            "_view_module_version": "1.5.0",
            "_view_name": "HTMLView",
            "description": "",
            "description_tooltip": null,
            "layout": "IPY_MODEL_b70d0f8353d547ecae9c70e05d4741fb",
            "placeholder": "​",
            "style": "IPY_MODEL_ad07ec99a7d845478d7c00b68f6aa2f2",
            "value": "You can translate JFlap files to Jove machines using this Jove Editor.\n<ul>\n  <li><b>Load a JFlap file</b> - Open the 'Save/Load' menu and click 'Load'. Use the file dialog to select a JFlap \n  file with the '.jff' extension. When the file is loaded the text over the two textareas will indicate the machine type \n  of the translated machine. The translated machine will be displayed in the left textarea and the translated rules \n  will be displayed in the right textarea. The required prefixes for initial and final state names are automatically \n  added.</li>\n  <li><b>Edit</b> - If you want to make changes to the machine, make your edits to the rules and add comments in the \n  right textarea.</li>\n  <li><b>Animate</b> - Switch to the 'Animate' tab to see the animation for the translated machine. Any edits made in \n  the right textarea will also be part of the animation.</li>\n  <li><b>Save</b> - Save your translated machine using the 'Save/Load' menu. The changes and comments made in the \n  right textarea will be saved.</li>\n</ul>\n<p><b><em>Note:</em></b> Jove Editor does not force JFlap state names to conform to Jove Markdown, so initial and \nfinal states may break the Jove Markdown convention. Animations should still work on these machines.</p>"
          }
        },
        "13b76ea29ec0462588189ab560be6165": {
          "model_module": "@jupyter-widgets/base",
          "model_name": "LayoutModel",
          "model_module_version": "1.2.0",
          "state": {
            "_model_module": "@jupyter-widgets/base",
            "_model_module_version": "1.2.0",
            "_model_name": "LayoutModel",
            "_view_count": null,
            "_view_module": "@jupyter-widgets/base",
            "_view_module_version": "1.2.0",
            "_view_name": "LayoutView",
            "align_content": null,
            "align_items": null,
            "align_self": null,
            "border": null,
            "bottom": null,
            "display": null,
            "flex": null,
            "flex_flow": null,
            "grid_area": null,
            "grid_auto_columns": null,
            "grid_auto_flow": null,
            "grid_auto_rows": null,
            "grid_column": null,
            "grid_gap": null,
            "grid_row": null,
            "grid_template_areas": null,
            "grid_template_columns": null,
            "grid_template_rows": null,
            "height": null,
            "justify_content": null,
            "justify_items": null,
            "left": null,
            "margin": null,
            "max_height": null,
            "max_width": null,
            "min_height": null,
            "min_width": null,
            "object_fit": null,
            "object_position": null,
            "order": null,
            "overflow": null,
            "overflow_x": null,
            "overflow_y": null,
            "padding": null,
            "right": null,
            "top": null,
            "visibility": null,
            "width": null
          }
        },
        "001d103b92ad4ae4ad58db98d165620f": {
          "model_module": "@jupyter-widgets/controls",
          "model_name": "VBoxModel",
          "model_module_version": "1.5.0",
          "state": {
            "_dom_classes": [],
            "_model_module": "@jupyter-widgets/controls",
            "_model_module_version": "1.5.0",
            "_model_name": "VBoxModel",
            "_view_count": null,
            "_view_module": "@jupyter-widgets/controls",
            "_view_module_version": "1.5.0",
            "_view_name": "VBoxView",
            "box_style": "",
            "children": [
              "IPY_MODEL_7b9390e73bec4c648158d28dcbb811d8",
              "IPY_MODEL_0db9024087fd473c98ead2604e59b032",
              "IPY_MODEL_cb1f50b327754965ae6102ceed6a6610",
              "IPY_MODEL_90edebecf34a44edaff5865e0c64179e"
            ],
            "layout": "IPY_MODEL_aea997d8e5f6482f85a854ad7b0313c4"
          }
        },
        "1f66e18698384cf19953a35bd65de53a": {
          "model_module": "@jupyter-widgets/base",
          "model_name": "LayoutModel",
          "model_module_version": "1.2.0",
          "state": {
            "_model_module": "@jupyter-widgets/base",
            "_model_module_version": "1.2.0",
            "_model_name": "LayoutModel",
            "_view_count": null,
            "_view_module": "@jupyter-widgets/base",
            "_view_module_version": "1.2.0",
            "_view_name": "LayoutView",
            "align_content": null,
            "align_items": null,
            "align_self": null,
            "border": null,
            "bottom": null,
            "display": null,
            "flex": null,
            "flex_flow": null,
            "grid_area": null,
            "grid_auto_columns": null,
            "grid_auto_flow": null,
            "grid_auto_rows": null,
            "grid_column": null,
            "grid_gap": null,
            "grid_row": null,
            "grid_template_areas": null,
            "grid_template_columns": null,
            "grid_template_rows": null,
            "height": null,
            "justify_content": null,
            "justify_items": null,
            "left": null,
            "margin": null,
            "max_height": null,
            "max_width": null,
            "min_height": null,
            "min_width": null,
            "object_fit": null,
            "object_position": null,
            "order": null,
            "overflow": null,
            "overflow_x": null,
            "overflow_y": null,
            "padding": null,
            "right": null,
            "top": null,
            "visibility": null,
            "width": null
          }
        },
        "cefe4861b7184cbeb1366f5585c74bd3": {
          "model_module": "@jupyter-widgets/base",
          "model_name": "LayoutModel",
          "model_module_version": "1.2.0",
          "state": {
            "_model_module": "@jupyter-widgets/base",
            "_model_module_version": "1.2.0",
            "_model_name": "LayoutModel",
            "_view_count": null,
            "_view_module": "@jupyter-widgets/base",
            "_view_module_version": "1.2.0",
            "_view_name": "LayoutView",
            "align_content": null,
            "align_items": null,
            "align_self": null,
            "border": null,
            "bottom": null,
            "display": null,
            "flex": null,
            "flex_flow": null,
            "grid_area": null,
            "grid_auto_columns": null,
            "grid_auto_flow": null,
            "grid_auto_rows": null,
            "grid_column": null,
            "grid_gap": null,
            "grid_row": null,
            "grid_template_areas": null,
            "grid_template_columns": null,
            "grid_template_rows": null,
            "height": null,
            "justify_content": null,
            "justify_items": null,
            "left": null,
            "margin": null,
            "max_height": null,
            "max_width": null,
            "min_height": null,
            "min_width": null,
            "object_fit": null,
            "object_position": null,
            "order": null,
            "overflow": null,
            "overflow_x": null,
            "overflow_y": null,
            "padding": null,
            "right": null,
            "top": null,
            "visibility": null,
            "width": null
          }
        },
        "d34e8d6d12fb46288ce6cbaf4f2d9ce0": {
          "model_module": "@jupyter-widgets/controls",
          "model_name": "ToggleButtonsStyleModel",
          "model_module_version": "1.5.0",
          "state": {
            "_model_module": "@jupyter-widgets/controls",
            "_model_module_version": "1.5.0",
            "_model_name": "ToggleButtonsStyleModel",
            "_view_count": null,
            "_view_module": "@jupyter-widgets/base",
            "_view_module_version": "1.2.0",
            "_view_name": "StyleView",
            "button_width": "120px",
            "description_width": "",
            "font_weight": ""
          }
        },
        "67eda3880be64e41baa46a1730b0624e": {
          "model_module": "@jupyter-widgets/controls",
          "model_name": "LabelModel",
          "model_module_version": "1.5.0",
          "state": {
            "_dom_classes": [],
            "_model_module": "@jupyter-widgets/controls",
            "_model_module_version": "1.5.0",
            "_model_name": "LabelModel",
            "_view_count": null,
            "_view_module": "@jupyter-widgets/controls",
            "_view_module_version": "1.5.0",
            "_view_name": "LabelView",
            "description": "",
            "description_tooltip": null,
            "layout": "IPY_MODEL_d6c79d286679475a8fb017b433afafdc",
            "placeholder": "​",
            "style": "IPY_MODEL_c83216005f414d6d80d350795311ad29",
            "value": "Animation Colors:"
          }
        },
        "4bebb30de52944ba8e4d9ddd36655b2c": {
          "model_module": "@jupyter-widgets/controls",
          "model_name": "ColorPickerModel",
          "model_module_version": "1.5.0",
          "state": {
            "_dom_classes": [],
            "_model_module": "@jupyter-widgets/controls",
            "_model_module_version": "1.5.0",
            "_model_name": "ColorPickerModel",
            "_view_count": null,
            "_view_module": "@jupyter-widgets/controls",
            "_view_module_version": "1.5.0",
            "_view_name": "ColorPickerView",
            "concise": true,
            "description": "Acceptance",
            "description_tooltip": null,
            "disabled": false,
            "layout": "IPY_MODEL_068fa06e6be24632b47db28a65369b04",
            "style": "IPY_MODEL_6c7ec04cc5584656aa9eed9d8686a424",
            "value": "#66cd00"
          }
        },
        "5ad8a437ecb5497b9197d846be4e4e06": {
          "model_module": "@jupyter-widgets/controls",
          "model_name": "ColorPickerModel",
          "model_module_version": "1.5.0",
          "state": {
            "_dom_classes": [],
            "_model_module": "@jupyter-widgets/controls",
            "_model_module_version": "1.5.0",
            "_model_name": "ColorPickerModel",
            "_view_count": null,
            "_view_module": "@jupyter-widgets/controls",
            "_view_module_version": "1.5.0",
            "_view_name": "ColorPickerView",
            "concise": true,
            "description": "Rejection",
            "description_tooltip": null,
            "disabled": false,
            "layout": "IPY_MODEL_7eeb09d227a14900a3af6aac0b16be5b",
            "style": "IPY_MODEL_1f91b44de0054c75b490552402dd3b3c",
            "value": "#ff0000"
          }
        },
        "732feccd9efc4148b34aac3c32c60be8": {
          "model_module": "@jupyter-widgets/controls",
          "model_name": "ColorPickerModel",
          "model_module_version": "1.5.0",
          "state": {
            "_dom_classes": [],
            "_model_module": "@jupyter-widgets/controls",
            "_model_module_version": "1.5.0",
            "_model_name": "ColorPickerModel",
            "_view_count": null,
            "_view_module": "@jupyter-widgets/controls",
            "_view_module_version": "1.5.0",
            "_view_name": "ColorPickerView",
            "concise": true,
            "description": "Transition",
            "description_tooltip": null,
            "disabled": false,
            "layout": "IPY_MODEL_27d1f6ed2abe4ebca88e6461ff8ae6c1",
            "style": "IPY_MODEL_7f878b497c584ec19874a0318461da67",
            "value": "#1c86ee"
          }
        },
        "224c927f4d8643bfa43b92764d502ef9": {
          "model_module": "@jupyter-widgets/controls",
          "model_name": "ToggleButtonModel",
          "model_module_version": "1.5.0",
          "state": {
            "_dom_classes": [],
            "_model_module": "@jupyter-widgets/controls",
            "_model_module_version": "1.5.0",
            "_model_name": "ToggleButtonModel",
            "_view_count": null,
            "_view_module": "@jupyter-widgets/controls",
            "_view_module_version": "1.5.0",
            "_view_name": "ToggleButtonView",
            "button_style": "info",
            "description": "Fuse Edges",
            "description_tooltip": null,
            "disabled": false,
            "icon": "",
            "layout": "IPY_MODEL_ab8dc45df3d74893a36b8eba4d1edaa1",
            "style": "IPY_MODEL_0ecded22559a41afb379b274c1ddf51c",
            "tooltip": "Fuse machine edges",
            "value": true
          }
        },
        "a5a319f5071d4828a6612457d6300f1c": {
          "model_module": "@jupyter-widgets/controls",
          "model_name": "BoundedFloatTextModel",
          "model_module_version": "1.5.0",
          "state": {
            "_dom_classes": [],
            "_model_module": "@jupyter-widgets/controls",
            "_model_module_version": "1.5.0",
            "_model_name": "BoundedFloatTextModel",
            "_view_count": null,
            "_view_module": "@jupyter-widgets/controls",
            "_view_module_version": "1.5.0",
            "_view_name": "FloatTextView",
            "continuous_update": false,
            "description": "Max Draw Size",
            "description_tooltip": null,
            "disabled": false,
            "layout": "IPY_MODEL_6da503c87fa2484da253f9a7904a134c",
            "max": 1000,
            "min": 1,
            "step": 0.1,
            "style": "IPY_MODEL_bc53d98d1c604b18900d6123757e51c4",
            "value": 9.5
          }
        },
        "ff88151b3564442090a2d5694ac0f06f": {
          "model_module": "@jupyter-widgets/controls",
          "model_name": "LabelModel",
          "model_module_version": "1.5.0",
          "state": {
            "_dom_classes": [],
            "_model_module": "@jupyter-widgets/controls",
            "_model_module_version": "1.5.0",
            "_model_name": "LabelModel",
            "_view_count": null,
            "_view_module": "@jupyter-widgets/controls",
            "_view_module_version": "1.5.0",
            "_view_name": "LabelView",
            "description": "",
            "description_tooltip": null,
            "layout": "IPY_MODEL_e73f826582fb43289a0388e675f16271",
            "placeholder": "​",
            "style": "IPY_MODEL_d9141fb4bda54142bf0a351aa47e1b03",
            "value": "Finite Automata:"
          }
        },
        "0a9f24676c854ca6bb620f210e69f8d8": {
          "model_module": "@jupyter-widgets/controls",
          "model_name": "ToggleButtonModel",
          "model_module_version": "1.5.0",
          "state": {
            "_dom_classes": [],
            "_model_module": "@jupyter-widgets/controls",
            "_model_module_version": "1.5.0",
            "_model_name": "ToggleButtonModel",
            "_view_count": null,
            "_view_module": "@jupyter-widgets/controls",
            "_view_module_version": "1.5.0",
            "_view_name": "ToggleButtonView",
            "button_style": "info",
            "description": "Alternate Start",
            "description_tooltip": null,
            "disabled": false,
            "icon": "",
            "layout": "IPY_MODEL_d15c787a5dfc49788d56faf2ab4fb947",
            "style": "IPY_MODEL_0c9d7a52d7b8416eb8059925923e49fe",
            "tooltip": "Pick the starting state (DFA and NFA only)",
            "value": false
          }
        },
        "5c7d1511fa2141589c7aca74f6972427": {
          "model_module": "@jupyter-widgets/controls",
          "model_name": "LabelModel",
          "model_module_version": "1.5.0",
          "state": {
            "_dom_classes": [],
            "_model_module": "@jupyter-widgets/controls",
            "_model_module_version": "1.5.0",
            "_model_name": "LabelModel",
            "_view_count": null,
            "_view_module": "@jupyter-widgets/controls",
            "_view_module_version": "1.5.0",
            "_view_name": "LabelView",
            "description": "",
            "description_tooltip": null,
            "layout": "IPY_MODEL_cb57691c5c0540f5888fd9df84edf4c8",
            "placeholder": "​",
            "style": "IPY_MODEL_78f0cbbbb5034a25975a8b84c552fcee",
            "value": "Turing Machine:"
          }
        },
        "e78ec3f346044a838363815bb3efa99b": {
          "model_module": "@jupyter-widgets/controls",
          "model_name": "ToggleButtonModel",
          "model_module_version": "1.5.0",
          "state": {
            "_dom_classes": [],
            "_model_module": "@jupyter-widgets/controls",
            "_model_module_version": "1.5.0",
            "_model_name": "ToggleButtonModel",
            "_view_count": null,
            "_view_module": "@jupyter-widgets/controls",
            "_view_module_version": "1.5.0",
            "_view_name": "ToggleButtonView",
            "button_style": "info",
            "description": "Show Rejected",
            "description_tooltip": null,
            "disabled": false,
            "icon": "",
            "layout": "IPY_MODEL_5c49c29643aa41db807ecf46b84dbfef",
            "style": "IPY_MODEL_5b14c1b4d08a4ab8a8ca90641dfc625e",
            "tooltip": "Show rejected paths (TM only)",
            "value": false
          }
        },
        "88d305e5dc3e4d31a21e61b825b80a6f": {
          "model_module": "@jupyter-widgets/controls",
          "model_name": "LabelModel",
          "model_module_version": "1.5.0",
          "state": {
            "_dom_classes": [],
            "_model_module": "@jupyter-widgets/controls",
            "_model_module_version": "1.5.0",
            "_model_name": "LabelModel",
            "_view_count": null,
            "_view_module": "@jupyter-widgets/controls",
            "_view_module_version": "1.5.0",
            "_view_name": "LabelView",
            "description": "",
            "description_tooltip": null,
            "layout": "IPY_MODEL_f96a11507eef41b7b08d56a84043dde0",
            "placeholder": "​",
            "style": "IPY_MODEL_d5032fa3df6e4a4baaf71fdf4fa2aa11",
            "value": "Pushdown Automata:"
          }
        },
        "3b56518a12574fbf921ca4f9219bebdc": {
          "model_module": "@jupyter-widgets/controls",
          "model_name": "BoundedIntTextModel",
          "model_module_version": "1.5.0",
          "state": {
            "_dom_classes": [],
            "_model_module": "@jupyter-widgets/controls",
            "_model_module_version": "1.5.0",
            "_model_name": "BoundedIntTextModel",
            "_view_count": null,
            "_view_module": "@jupyter-widgets/controls",
            "_view_module_version": "1.5.0",
            "_view_name": "IntTextView",
            "continuous_update": false,
            "description": "Max Stack Size",
            "description_tooltip": null,
            "disabled": false,
            "layout": "IPY_MODEL_91212348750b4c04a3b5aa4a80f7863b",
            "max": 1000,
            "min": 0,
            "step": 1,
            "style": "IPY_MODEL_7af628dd3f7d4177bbfeafb19a1e73bc",
            "value": 30
          }
        },
        "204668c1c6da45b49dfb8fa8a82886c2": {
          "model_module": "@jupyter-widgets/base",
          "model_name": "LayoutModel",
          "model_module_version": "1.2.0",
          "state": {
            "_model_module": "@jupyter-widgets/base",
            "_model_module_version": "1.2.0",
            "_model_name": "LayoutModel",
            "_view_count": null,
            "_view_module": "@jupyter-widgets/base",
            "_view_module_version": "1.2.0",
            "_view_name": "LayoutView",
            "align_content": null,
            "align_items": null,
            "align_self": null,
            "border": null,
            "bottom": null,
            "display": null,
            "flex": null,
            "flex_flow": null,
            "grid_area": null,
            "grid_auto_columns": null,
            "grid_auto_flow": null,
            "grid_auto_rows": null,
            "grid_column": null,
            "grid_gap": "5px",
            "grid_row": null,
            "grid_template_areas": "\"widget001 widget005 widget009\"\n\"widget002 widget006 widget010\"\n\"widget003 widget007 widget011\"\n\"widget004 widget008 widget012\"",
            "grid_template_columns": "repeat(3, 1fr)",
            "grid_template_rows": "repeat(4, 1fr)",
            "height": null,
            "justify_content": null,
            "justify_items": null,
            "left": null,
            "margin": null,
            "max_height": null,
            "max_width": null,
            "min_height": null,
            "min_width": null,
            "object_fit": null,
            "object_position": null,
            "order": null,
            "overflow": null,
            "overflow_x": null,
            "overflow_y": null,
            "padding": null,
            "right": null,
            "top": null,
            "visibility": null,
            "width": null
          }
        },
        "78fafca4b76a49039f77518a4dad0866": {
          "model_module": "@jupyter-widgets/base",
          "model_name": "LayoutModel",
          "model_module_version": "1.2.0",
          "state": {
            "_model_module": "@jupyter-widgets/base",
            "_model_module_version": "1.2.0",
            "_model_name": "LayoutModel",
            "_view_count": null,
            "_view_module": "@jupyter-widgets/base",
            "_view_module_version": "1.2.0",
            "_view_name": "LayoutView",
            "align_content": null,
            "align_items": null,
            "align_self": null,
            "border": null,
            "bottom": null,
            "display": null,
            "flex": null,
            "flex_flow": null,
            "grid_area": null,
            "grid_auto_columns": null,
            "grid_auto_flow": null,
            "grid_auto_rows": null,
            "grid_column": null,
            "grid_gap": null,
            "grid_row": null,
            "grid_template_areas": null,
            "grid_template_columns": null,
            "grid_template_rows": null,
            "height": null,
            "justify_content": null,
            "justify_items": null,
            "left": null,
            "margin": null,
            "max_height": null,
            "max_width": null,
            "min_height": null,
            "min_width": null,
            "object_fit": null,
            "object_position": null,
            "order": null,
            "overflow": null,
            "overflow_x": null,
            "overflow_y": null,
            "padding": null,
            "right": null,
            "top": null,
            "visibility": null,
            "width": null
          }
        },
        "240566cfb4504bd28529720cc45b984a": {
          "model_module": "@jupyter-widgets/controls",
          "model_name": "DescriptionStyleModel",
          "model_module_version": "1.5.0",
          "state": {
            "_model_module": "@jupyter-widgets/controls",
            "_model_module_version": "1.5.0",
            "_model_name": "DescriptionStyleModel",
            "_view_count": null,
            "_view_module": "@jupyter-widgets/base",
            "_view_module_version": "1.2.0",
            "_view_name": "StyleView",
            "description_width": ""
          }
        },
        "8f92c7fb40fc4209bf43e4258b3640b0": {
          "model_module": "@jupyter-widgets/base",
          "model_name": "LayoutModel",
          "model_module_version": "1.2.0",
          "state": {
            "_model_module": "@jupyter-widgets/base",
            "_model_module_version": "1.2.0",
            "_model_name": "LayoutModel",
            "_view_count": null,
            "_view_module": "@jupyter-widgets/base",
            "_view_module_version": "1.2.0",
            "_view_name": "LayoutView",
            "align_content": null,
            "align_items": null,
            "align_self": null,
            "border": null,
            "bottom": null,
            "display": null,
            "flex": null,
            "flex_flow": null,
            "grid_area": null,
            "grid_auto_columns": null,
            "grid_auto_flow": null,
            "grid_auto_rows": null,
            "grid_column": null,
            "grid_gap": null,
            "grid_row": null,
            "grid_template_areas": null,
            "grid_template_columns": null,
            "grid_template_rows": null,
            "height": null,
            "justify_content": null,
            "justify_items": null,
            "left": null,
            "margin": null,
            "max_height": null,
            "max_width": null,
            "min_height": null,
            "min_width": null,
            "object_fit": null,
            "object_position": null,
            "order": null,
            "overflow": null,
            "overflow_x": null,
            "overflow_y": null,
            "padding": null,
            "right": null,
            "top": null,
            "visibility": null,
            "width": null
          }
        },
        "a8f73a1c921d4f4ea16bf0212e82e47b": {
          "model_module": "@jupyter-widgets/controls",
          "model_name": "DescriptionStyleModel",
          "model_module_version": "1.5.0",
          "state": {
            "_model_module": "@jupyter-widgets/controls",
            "_model_module_version": "1.5.0",
            "_model_name": "DescriptionStyleModel",
            "_view_count": null,
            "_view_module": "@jupyter-widgets/base",
            "_view_module_version": "1.2.0",
            "_view_name": "StyleView",
            "description_width": ""
          }
        },
        "578d8885a13d4522acef973373e60913": {
          "model_module": "@jupyter-widgets/base",
          "model_name": "LayoutModel",
          "model_module_version": "1.2.0",
          "state": {
            "_model_module": "@jupyter-widgets/base",
            "_model_module_version": "1.2.0",
            "_model_name": "LayoutModel",
            "_view_count": null,
            "_view_module": "@jupyter-widgets/base",
            "_view_module_version": "1.2.0",
            "_view_name": "LayoutView",
            "align_content": null,
            "align_items": null,
            "align_self": null,
            "border": null,
            "bottom": null,
            "display": null,
            "flex": null,
            "flex_flow": null,
            "grid_area": null,
            "grid_auto_columns": null,
            "grid_auto_flow": null,
            "grid_auto_rows": null,
            "grid_column": null,
            "grid_gap": null,
            "grid_row": null,
            "grid_template_areas": null,
            "grid_template_columns": null,
            "grid_template_rows": null,
            "height": null,
            "justify_content": null,
            "justify_items": null,
            "left": null,
            "margin": null,
            "max_height": null,
            "max_width": null,
            "min_height": null,
            "min_width": null,
            "object_fit": null,
            "object_position": null,
            "order": null,
            "overflow": null,
            "overflow_x": null,
            "overflow_y": null,
            "padding": null,
            "right": null,
            "top": null,
            "visibility": null,
            "width": null
          }
        },
        "46c2e185374e401d9404bb36f23296a1": {
          "model_module": "@jupyter-widgets/controls",
          "model_name": "DescriptionStyleModel",
          "model_module_version": "1.5.0",
          "state": {
            "_model_module": "@jupyter-widgets/controls",
            "_model_module_version": "1.5.0",
            "_model_name": "DescriptionStyleModel",
            "_view_count": null,
            "_view_module": "@jupyter-widgets/base",
            "_view_module_version": "1.2.0",
            "_view_name": "StyleView",
            "description_width": ""
          }
        },
        "90b44c270f52432082689e64be08b871": {
          "model_module": "@jupyter-widgets/base",
          "model_name": "LayoutModel",
          "model_module_version": "1.2.0",
          "state": {
            "_model_module": "@jupyter-widgets/base",
            "_model_module_version": "1.2.0",
            "_model_name": "LayoutModel",
            "_view_count": null,
            "_view_module": "@jupyter-widgets/base",
            "_view_module_version": "1.2.0",
            "_view_name": "LayoutView",
            "align_content": null,
            "align_items": null,
            "align_self": null,
            "border": null,
            "bottom": null,
            "display": null,
            "flex": null,
            "flex_flow": null,
            "grid_area": null,
            "grid_auto_columns": null,
            "grid_auto_flow": null,
            "grid_auto_rows": null,
            "grid_column": null,
            "grid_gap": null,
            "grid_row": null,
            "grid_template_areas": null,
            "grid_template_columns": null,
            "grid_template_rows": null,
            "height": null,
            "justify_content": null,
            "justify_items": null,
            "left": null,
            "margin": null,
            "max_height": null,
            "max_width": null,
            "min_height": null,
            "min_width": null,
            "object_fit": null,
            "object_position": null,
            "order": null,
            "overflow": null,
            "overflow_x": null,
            "overflow_y": null,
            "padding": null,
            "right": null,
            "top": null,
            "visibility": null,
            "width": null
          }
        },
        "2b3c3fbf2bc944bb9accb1c76567201c": {
          "model_module": "@jupyter-widgets/controls",
          "model_name": "DescriptionStyleModel",
          "model_module_version": "1.5.0",
          "state": {
            "_model_module": "@jupyter-widgets/controls",
            "_model_module_version": "1.5.0",
            "_model_name": "DescriptionStyleModel",
            "_view_count": null,
            "_view_module": "@jupyter-widgets/base",
            "_view_module_version": "1.2.0",
            "_view_name": "StyleView",
            "description_width": ""
          }
        },
        "b70d0f8353d547ecae9c70e05d4741fb": {
          "model_module": "@jupyter-widgets/base",
          "model_name": "LayoutModel",
          "model_module_version": "1.2.0",
          "state": {
            "_model_module": "@jupyter-widgets/base",
            "_model_module_version": "1.2.0",
            "_model_name": "LayoutModel",
            "_view_count": null,
            "_view_module": "@jupyter-widgets/base",
            "_view_module_version": "1.2.0",
            "_view_name": "LayoutView",
            "align_content": null,
            "align_items": null,
            "align_self": null,
            "border": null,
            "bottom": null,
            "display": null,
            "flex": null,
            "flex_flow": null,
            "grid_area": null,
            "grid_auto_columns": null,
            "grid_auto_flow": null,
            "grid_auto_rows": null,
            "grid_column": null,
            "grid_gap": null,
            "grid_row": null,
            "grid_template_areas": null,
            "grid_template_columns": null,
            "grid_template_rows": null,
            "height": null,
            "justify_content": null,
            "justify_items": null,
            "left": null,
            "margin": null,
            "max_height": null,
            "max_width": null,
            "min_height": null,
            "min_width": null,
            "object_fit": null,
            "object_position": null,
            "order": null,
            "overflow": null,
            "overflow_x": null,
            "overflow_y": null,
            "padding": null,
            "right": null,
            "top": null,
            "visibility": null,
            "width": null
          }
        },
        "ad07ec99a7d845478d7c00b68f6aa2f2": {
          "model_module": "@jupyter-widgets/controls",
          "model_name": "DescriptionStyleModel",
          "model_module_version": "1.5.0",
          "state": {
            "_model_module": "@jupyter-widgets/controls",
            "_model_module_version": "1.5.0",
            "_model_name": "DescriptionStyleModel",
            "_view_count": null,
            "_view_module": "@jupyter-widgets/base",
            "_view_module_version": "1.2.0",
            "_view_name": "StyleView",
            "description_width": ""
          }
        },
        "7b9390e73bec4c648158d28dcbb811d8": {
          "model_module": "@jupyter-widgets/controls",
          "model_name": "HBoxModel",
          "model_module_version": "1.5.0",
          "state": {
            "_dom_classes": [],
            "_model_module": "@jupyter-widgets/controls",
            "_model_module_version": "1.5.0",
            "_model_name": "HBoxModel",
            "_view_count": null,
            "_view_module": "@jupyter-widgets/controls",
            "_view_module_version": "1.5.0",
            "_view_name": "HBoxView",
            "box_style": "",
            "children": [
              "IPY_MODEL_5d0342034b474dd9a991407511c57380",
              "IPY_MODEL_63ab30b2b99e433f920785819593a217"
            ],
            "layout": "IPY_MODEL_026b12b7d708469a82651c23b35bd1d2"
          }
        },
        "0db9024087fd473c98ead2604e59b032": {
          "model_module": "@jupyter-widgets/controls",
          "model_name": "ButtonModel",
          "model_module_version": "1.5.0",
          "state": {
            "_dom_classes": [],
            "_model_module": "@jupyter-widgets/controls",
            "_model_module_version": "1.5.0",
            "_model_name": "ButtonModel",
            "_view_count": null,
            "_view_module": "@jupyter-widgets/controls",
            "_view_module_version": "1.5.0",
            "_view_name": "ButtonView",
            "button_style": "info",
            "description": "Save",
            "disabled": true,
            "icon": "download",
            "layout": "IPY_MODEL_a4587b2f31624035ab9924fedf0bd678",
            "style": "IPY_MODEL_50feda98c30240659eeb0f2cb00db24e",
            "tooltip": ""
          }
        },
        "cb1f50b327754965ae6102ceed6a6610": {
          "model_module": "@jupyter-widgets/controls",
          "model_name": "HTMLModel",
          "model_module_version": "1.5.0",
          "state": {
            "_dom_classes": [],
            "_model_module": "@jupyter-widgets/controls",
            "_model_module_version": "1.5.0",
            "_model_name": "HTMLModel",
            "_view_count": null,
            "_view_module": "@jupyter-widgets/controls",
            "_view_module_version": "1.5.0",
            "_view_name": "HTMLView",
            "description": "",
            "description_tooltip": null,
            "layout": "IPY_MODEL_adf8947ea5dc475d99df98f581d79c85",
            "placeholder": "​",
            "style": "IPY_MODEL_09d0312d7a41494798efc3cd9ea1eacd",
            "value": "<p style=\"font-size:small\"></br></br></p>"
          }
        },
        "90edebecf34a44edaff5865e0c64179e": {
          "model_module": "@jupyter-widgets/controls",
          "model_name": "FileUploadModel",
          "model_module_version": "1.5.0",
          "state": {
            "_counter": 0,
            "_dom_classes": [],
            "_model_module": "@jupyter-widgets/controls",
            "_model_module_version": "1.5.0",
            "_model_name": "FileUploadModel",
            "_view_count": null,
            "_view_module": "@jupyter-widgets/controls",
            "_view_module_version": "1.5.0",
            "_view_name": "FileUploadView",
            "accept": ".txt,.jff,.dfa,.nfa,.pda,.tm",
            "button_style": "info",
            "data": [],
            "description": "Load",
            "description_tooltip": null,
            "disabled": false,
            "error": "",
            "icon": "upload",
            "layout": "IPY_MODEL_eb2308aca07844dfbbc365aa667e5d72",
            "metadata": [],
            "multiple": false,
            "style": "IPY_MODEL_79b89664bae849de90a22e147e9c3e35"
          }
        },
        "aea997d8e5f6482f85a854ad7b0313c4": {
          "model_module": "@jupyter-widgets/base",
          "model_name": "LayoutModel",
          "model_module_version": "1.2.0",
          "state": {
            "_model_module": "@jupyter-widgets/base",
            "_model_module_version": "1.2.0",
            "_model_name": "LayoutModel",
            "_view_count": null,
            "_view_module": "@jupyter-widgets/base",
            "_view_module_version": "1.2.0",
            "_view_name": "LayoutView",
            "align_content": null,
            "align_items": null,
            "align_self": null,
            "border": null,
            "bottom": null,
            "display": null,
            "flex": null,
            "flex_flow": null,
            "grid_area": null,
            "grid_auto_columns": null,
            "grid_auto_flow": null,
            "grid_auto_rows": null,
            "grid_column": null,
            "grid_gap": null,
            "grid_row": null,
            "grid_template_areas": null,
            "grid_template_columns": null,
            "grid_template_rows": null,
            "height": null,
            "justify_content": null,
            "justify_items": null,
            "left": null,
            "margin": null,
            "max_height": null,
            "max_width": null,
            "min_height": null,
            "min_width": null,
            "object_fit": null,
            "object_position": null,
            "order": null,
            "overflow": null,
            "overflow_x": null,
            "overflow_y": null,
            "padding": null,
            "right": null,
            "top": null,
            "visibility": null,
            "width": null
          }
        },
        "d6c79d286679475a8fb017b433afafdc": {
          "model_module": "@jupyter-widgets/base",
          "model_name": "LayoutModel",
          "model_module_version": "1.2.0",
          "state": {
            "_model_module": "@jupyter-widgets/base",
            "_model_module_version": "1.2.0",
            "_model_name": "LayoutModel",
            "_view_count": null,
            "_view_module": "@jupyter-widgets/base",
            "_view_module_version": "1.2.0",
            "_view_name": "LayoutView",
            "align_content": null,
            "align_items": null,
            "align_self": null,
            "border": null,
            "bottom": null,
            "display": null,
            "flex": null,
            "flex_flow": null,
            "grid_area": "widget001",
            "grid_auto_columns": null,
            "grid_auto_flow": null,
            "grid_auto_rows": null,
            "grid_column": null,
            "grid_gap": null,
            "grid_row": null,
            "grid_template_areas": null,
            "grid_template_columns": null,
            "grid_template_rows": null,
            "height": null,
            "justify_content": null,
            "justify_items": null,
            "left": null,
            "margin": null,
            "max_height": null,
            "max_width": null,
            "min_height": null,
            "min_width": null,
            "object_fit": null,
            "object_position": null,
            "order": null,
            "overflow": null,
            "overflow_x": null,
            "overflow_y": null,
            "padding": null,
            "right": null,
            "top": null,
            "visibility": null,
            "width": null
          }
        },
        "c83216005f414d6d80d350795311ad29": {
          "model_module": "@jupyter-widgets/controls",
          "model_name": "DescriptionStyleModel",
          "model_module_version": "1.5.0",
          "state": {
            "_model_module": "@jupyter-widgets/controls",
            "_model_module_version": "1.5.0",
            "_model_name": "DescriptionStyleModel",
            "_view_count": null,
            "_view_module": "@jupyter-widgets/base",
            "_view_module_version": "1.2.0",
            "_view_name": "StyleView",
            "description_width": ""
          }
        },
        "068fa06e6be24632b47db28a65369b04": {
          "model_module": "@jupyter-widgets/base",
          "model_name": "LayoutModel",
          "model_module_version": "1.2.0",
          "state": {
            "_model_module": "@jupyter-widgets/base",
            "_model_module_version": "1.2.0",
            "_model_name": "LayoutModel",
            "_view_count": null,
            "_view_module": "@jupyter-widgets/base",
            "_view_module_version": "1.2.0",
            "_view_name": "LayoutView",
            "align_content": null,
            "align_items": null,
            "align_self": null,
            "border": null,
            "bottom": null,
            "display": null,
            "flex": null,
            "flex_flow": null,
            "grid_area": "widget002",
            "grid_auto_columns": null,
            "grid_auto_flow": null,
            "grid_auto_rows": null,
            "grid_column": null,
            "grid_gap": null,
            "grid_row": null,
            "grid_template_areas": null,
            "grid_template_columns": null,
            "grid_template_rows": null,
            "height": null,
            "justify_content": null,
            "justify_items": null,
            "left": null,
            "margin": null,
            "max_height": null,
            "max_width": null,
            "min_height": null,
            "min_width": null,
            "object_fit": null,
            "object_position": null,
            "order": null,
            "overflow": null,
            "overflow_x": null,
            "overflow_y": null,
            "padding": null,
            "right": null,
            "top": null,
            "visibility": null,
            "width": null
          }
        },
        "6c7ec04cc5584656aa9eed9d8686a424": {
          "model_module": "@jupyter-widgets/controls",
          "model_name": "DescriptionStyleModel",
          "model_module_version": "1.5.0",
          "state": {
            "_model_module": "@jupyter-widgets/controls",
            "_model_module_version": "1.5.0",
            "_model_name": "DescriptionStyleModel",
            "_view_count": null,
            "_view_module": "@jupyter-widgets/base",
            "_view_module_version": "1.2.0",
            "_view_name": "StyleView",
            "description_width": "initial"
          }
        },
        "7eeb09d227a14900a3af6aac0b16be5b": {
          "model_module": "@jupyter-widgets/base",
          "model_name": "LayoutModel",
          "model_module_version": "1.2.0",
          "state": {
            "_model_module": "@jupyter-widgets/base",
            "_model_module_version": "1.2.0",
            "_model_name": "LayoutModel",
            "_view_count": null,
            "_view_module": "@jupyter-widgets/base",
            "_view_module_version": "1.2.0",
            "_view_name": "LayoutView",
            "align_content": null,
            "align_items": null,
            "align_self": null,
            "border": null,
            "bottom": null,
            "display": null,
            "flex": null,
            "flex_flow": null,
            "grid_area": "widget003",
            "grid_auto_columns": null,
            "grid_auto_flow": null,
            "grid_auto_rows": null,
            "grid_column": null,
            "grid_gap": null,
            "grid_row": null,
            "grid_template_areas": null,
            "grid_template_columns": null,
            "grid_template_rows": null,
            "height": null,
            "justify_content": null,
            "justify_items": null,
            "left": null,
            "margin": null,
            "max_height": null,
            "max_width": null,
            "min_height": null,
            "min_width": null,
            "object_fit": null,
            "object_position": null,
            "order": null,
            "overflow": null,
            "overflow_x": null,
            "overflow_y": null,
            "padding": null,
            "right": null,
            "top": null,
            "visibility": null,
            "width": null
          }
        },
        "1f91b44de0054c75b490552402dd3b3c": {
          "model_module": "@jupyter-widgets/controls",
          "model_name": "DescriptionStyleModel",
          "model_module_version": "1.5.0",
          "state": {
            "_model_module": "@jupyter-widgets/controls",
            "_model_module_version": "1.5.0",
            "_model_name": "DescriptionStyleModel",
            "_view_count": null,
            "_view_module": "@jupyter-widgets/base",
            "_view_module_version": "1.2.0",
            "_view_name": "StyleView",
            "description_width": "initial"
          }
        },
        "27d1f6ed2abe4ebca88e6461ff8ae6c1": {
          "model_module": "@jupyter-widgets/base",
          "model_name": "LayoutModel",
          "model_module_version": "1.2.0",
          "state": {
            "_model_module": "@jupyter-widgets/base",
            "_model_module_version": "1.2.0",
            "_model_name": "LayoutModel",
            "_view_count": null,
            "_view_module": "@jupyter-widgets/base",
            "_view_module_version": "1.2.0",
            "_view_name": "LayoutView",
            "align_content": null,
            "align_items": null,
            "align_self": null,
            "border": null,
            "bottom": null,
            "display": null,
            "flex": null,
            "flex_flow": null,
            "grid_area": "widget004",
            "grid_auto_columns": null,
            "grid_auto_flow": null,
            "grid_auto_rows": null,
            "grid_column": null,
            "grid_gap": null,
            "grid_row": null,
            "grid_template_areas": null,
            "grid_template_columns": null,
            "grid_template_rows": null,
            "height": null,
            "justify_content": null,
            "justify_items": null,
            "left": null,
            "margin": null,
            "max_height": null,
            "max_width": null,
            "min_height": null,
            "min_width": null,
            "object_fit": null,
            "object_position": null,
            "order": null,
            "overflow": null,
            "overflow_x": null,
            "overflow_y": null,
            "padding": null,
            "right": null,
            "top": null,
            "visibility": null,
            "width": null
          }
        },
        "7f878b497c584ec19874a0318461da67": {
          "model_module": "@jupyter-widgets/controls",
          "model_name": "DescriptionStyleModel",
          "model_module_version": "1.5.0",
          "state": {
            "_model_module": "@jupyter-widgets/controls",
            "_model_module_version": "1.5.0",
            "_model_name": "DescriptionStyleModel",
            "_view_count": null,
            "_view_module": "@jupyter-widgets/base",
            "_view_module_version": "1.2.0",
            "_view_name": "StyleView",
            "description_width": "initial"
          }
        },
        "ab8dc45df3d74893a36b8eba4d1edaa1": {
          "model_module": "@jupyter-widgets/base",
          "model_name": "LayoutModel",
          "model_module_version": "1.2.0",
          "state": {
            "_model_module": "@jupyter-widgets/base",
            "_model_module_version": "1.2.0",
            "_model_name": "LayoutModel",
            "_view_count": null,
            "_view_module": "@jupyter-widgets/base",
            "_view_module_version": "1.2.0",
            "_view_name": "LayoutView",
            "align_content": null,
            "align_items": null,
            "align_self": null,
            "border": null,
            "bottom": null,
            "display": null,
            "flex": null,
            "flex_flow": null,
            "grid_area": "widget005",
            "grid_auto_columns": null,
            "grid_auto_flow": null,
            "grid_auto_rows": null,
            "grid_column": null,
            "grid_gap": null,
            "grid_row": null,
            "grid_template_areas": null,
            "grid_template_columns": null,
            "grid_template_rows": null,
            "height": null,
            "justify_content": null,
            "justify_items": null,
            "left": null,
            "margin": null,
            "max_height": null,
            "max_width": null,
            "min_height": null,
            "min_width": null,
            "object_fit": null,
            "object_position": null,
            "order": null,
            "overflow": null,
            "overflow_x": null,
            "overflow_y": null,
            "padding": null,
            "right": null,
            "top": null,
            "visibility": null,
            "width": null
          }
        },
        "0ecded22559a41afb379b274c1ddf51c": {
          "model_module": "@jupyter-widgets/controls",
          "model_name": "DescriptionStyleModel",
          "model_module_version": "1.5.0",
          "state": {
            "_model_module": "@jupyter-widgets/controls",
            "_model_module_version": "1.5.0",
            "_model_name": "DescriptionStyleModel",
            "_view_count": null,
            "_view_module": "@jupyter-widgets/base",
            "_view_module_version": "1.2.0",
            "_view_name": "StyleView",
            "description_width": ""
          }
        },
        "6da503c87fa2484da253f9a7904a134c": {
          "model_module": "@jupyter-widgets/base",
          "model_name": "LayoutModel",
          "model_module_version": "1.2.0",
          "state": {
            "_model_module": "@jupyter-widgets/base",
            "_model_module_version": "1.2.0",
            "_model_name": "LayoutModel",
            "_view_count": null,
            "_view_module": "@jupyter-widgets/base",
            "_view_module_version": "1.2.0",
            "_view_name": "LayoutView",
            "align_content": null,
            "align_items": null,
            "align_self": null,
            "border": null,
            "bottom": null,
            "display": null,
            "flex": null,
            "flex_flow": null,
            "grid_area": "widget006",
            "grid_auto_columns": null,
            "grid_auto_flow": null,
            "grid_auto_rows": null,
            "grid_column": null,
            "grid_gap": null,
            "grid_row": null,
            "grid_template_areas": null,
            "grid_template_columns": null,
            "grid_template_rows": null,
            "height": null,
            "justify_content": null,
            "justify_items": null,
            "left": null,
            "margin": null,
            "max_height": null,
            "max_width": null,
            "min_height": null,
            "min_width": null,
            "object_fit": null,
            "object_position": null,
            "order": null,
            "overflow": null,
            "overflow_x": null,
            "overflow_y": null,
            "padding": null,
            "right": null,
            "top": null,
            "visibility": null,
            "width": "200px"
          }
        },
        "bc53d98d1c604b18900d6123757e51c4": {
          "model_module": "@jupyter-widgets/controls",
          "model_name": "DescriptionStyleModel",
          "model_module_version": "1.5.0",
          "state": {
            "_model_module": "@jupyter-widgets/controls",
            "_model_module_version": "1.5.0",
            "_model_name": "DescriptionStyleModel",
            "_view_count": null,
            "_view_module": "@jupyter-widgets/base",
            "_view_module_version": "1.2.0",
            "_view_name": "StyleView",
            "description_width": "initial"
          }
        },
        "e73f826582fb43289a0388e675f16271": {
          "model_module": "@jupyter-widgets/base",
          "model_name": "LayoutModel",
          "model_module_version": "1.2.0",
          "state": {
            "_model_module": "@jupyter-widgets/base",
            "_model_module_version": "1.2.0",
            "_model_name": "LayoutModel",
            "_view_count": null,
            "_view_module": "@jupyter-widgets/base",
            "_view_module_version": "1.2.0",
            "_view_name": "LayoutView",
            "align_content": null,
            "align_items": null,
            "align_self": null,
            "border": null,
            "bottom": null,
            "display": null,
            "flex": null,
            "flex_flow": null,
            "grid_area": "widget007",
            "grid_auto_columns": null,
            "grid_auto_flow": null,
            "grid_auto_rows": null,
            "grid_column": null,
            "grid_gap": null,
            "grid_row": null,
            "grid_template_areas": null,
            "grid_template_columns": null,
            "grid_template_rows": null,
            "height": null,
            "justify_content": null,
            "justify_items": null,
            "left": null,
            "margin": null,
            "max_height": null,
            "max_width": null,
            "min_height": null,
            "min_width": null,
            "object_fit": null,
            "object_position": null,
            "order": null,
            "overflow": null,
            "overflow_x": null,
            "overflow_y": null,
            "padding": null,
            "right": null,
            "top": null,
            "visibility": null,
            "width": null
          }
        },
        "d9141fb4bda54142bf0a351aa47e1b03": {
          "model_module": "@jupyter-widgets/controls",
          "model_name": "DescriptionStyleModel",
          "model_module_version": "1.5.0",
          "state": {
            "_model_module": "@jupyter-widgets/controls",
            "_model_module_version": "1.5.0",
            "_model_name": "DescriptionStyleModel",
            "_view_count": null,
            "_view_module": "@jupyter-widgets/base",
            "_view_module_version": "1.2.0",
            "_view_name": "StyleView",
            "description_width": ""
          }
        },
        "d15c787a5dfc49788d56faf2ab4fb947": {
          "model_module": "@jupyter-widgets/base",
          "model_name": "LayoutModel",
          "model_module_version": "1.2.0",
          "state": {
            "_model_module": "@jupyter-widgets/base",
            "_model_module_version": "1.2.0",
            "_model_name": "LayoutModel",
            "_view_count": null,
            "_view_module": "@jupyter-widgets/base",
            "_view_module_version": "1.2.0",
            "_view_name": "LayoutView",
            "align_content": null,
            "align_items": null,
            "align_self": null,
            "border": null,
            "bottom": null,
            "display": null,
            "flex": null,
            "flex_flow": null,
            "grid_area": "widget008",
            "grid_auto_columns": null,
            "grid_auto_flow": null,
            "grid_auto_rows": null,
            "grid_column": null,
            "grid_gap": null,
            "grid_row": null,
            "grid_template_areas": null,
            "grid_template_columns": null,
            "grid_template_rows": null,
            "height": null,
            "justify_content": null,
            "justify_items": null,
            "left": null,
            "margin": null,
            "max_height": null,
            "max_width": null,
            "min_height": null,
            "min_width": null,
            "object_fit": null,
            "object_position": null,
            "order": null,
            "overflow": null,
            "overflow_x": null,
            "overflow_y": null,
            "padding": null,
            "right": null,
            "top": null,
            "visibility": null,
            "width": null
          }
        },
        "0c9d7a52d7b8416eb8059925923e49fe": {
          "model_module": "@jupyter-widgets/controls",
          "model_name": "DescriptionStyleModel",
          "model_module_version": "1.5.0",
          "state": {
            "_model_module": "@jupyter-widgets/controls",
            "_model_module_version": "1.5.0",
            "_model_name": "DescriptionStyleModel",
            "_view_count": null,
            "_view_module": "@jupyter-widgets/base",
            "_view_module_version": "1.2.0",
            "_view_name": "StyleView",
            "description_width": ""
          }
        },
        "cb57691c5c0540f5888fd9df84edf4c8": {
          "model_module": "@jupyter-widgets/base",
          "model_name": "LayoutModel",
          "model_module_version": "1.2.0",
          "state": {
            "_model_module": "@jupyter-widgets/base",
            "_model_module_version": "1.2.0",
            "_model_name": "LayoutModel",
            "_view_count": null,
            "_view_module": "@jupyter-widgets/base",
            "_view_module_version": "1.2.0",
            "_view_name": "LayoutView",
            "align_content": null,
            "align_items": null,
            "align_self": null,
            "border": null,
            "bottom": null,
            "display": null,
            "flex": null,
            "flex_flow": null,
            "grid_area": "widget009",
            "grid_auto_columns": null,
            "grid_auto_flow": null,
            "grid_auto_rows": null,
            "grid_column": null,
            "grid_gap": null,
            "grid_row": null,
            "grid_template_areas": null,
            "grid_template_columns": null,
            "grid_template_rows": null,
            "height": null,
            "justify_content": null,
            "justify_items": null,
            "left": null,
            "margin": null,
            "max_height": null,
            "max_width": null,
            "min_height": null,
            "min_width": null,
            "object_fit": null,
            "object_position": null,
            "order": null,
            "overflow": null,
            "overflow_x": null,
            "overflow_y": null,
            "padding": null,
            "right": null,
            "top": null,
            "visibility": null,
            "width": null
          }
        },
        "78f0cbbbb5034a25975a8b84c552fcee": {
          "model_module": "@jupyter-widgets/controls",
          "model_name": "DescriptionStyleModel",
          "model_module_version": "1.5.0",
          "state": {
            "_model_module": "@jupyter-widgets/controls",
            "_model_module_version": "1.5.0",
            "_model_name": "DescriptionStyleModel",
            "_view_count": null,
            "_view_module": "@jupyter-widgets/base",
            "_view_module_version": "1.2.0",
            "_view_name": "StyleView",
            "description_width": ""
          }
        },
        "5c49c29643aa41db807ecf46b84dbfef": {
          "model_module": "@jupyter-widgets/base",
          "model_name": "LayoutModel",
          "model_module_version": "1.2.0",
          "state": {
            "_model_module": "@jupyter-widgets/base",
            "_model_module_version": "1.2.0",
            "_model_name": "LayoutModel",
            "_view_count": null,
            "_view_module": "@jupyter-widgets/base",
            "_view_module_version": "1.2.0",
            "_view_name": "LayoutView",
            "align_content": null,
            "align_items": null,
            "align_self": null,
            "border": null,
            "bottom": null,
            "display": null,
            "flex": null,
            "flex_flow": null,
            "grid_area": "widget010",
            "grid_auto_columns": null,
            "grid_auto_flow": null,
            "grid_auto_rows": null,
            "grid_column": null,
            "grid_gap": null,
            "grid_row": null,
            "grid_template_areas": null,
            "grid_template_columns": null,
            "grid_template_rows": null,
            "height": null,
            "justify_content": null,
            "justify_items": null,
            "left": null,
            "margin": null,
            "max_height": null,
            "max_width": null,
            "min_height": null,
            "min_width": null,
            "object_fit": null,
            "object_position": null,
            "order": null,
            "overflow": null,
            "overflow_x": null,
            "overflow_y": null,
            "padding": null,
            "right": null,
            "top": null,
            "visibility": null,
            "width": null
          }
        },
        "5b14c1b4d08a4ab8a8ca90641dfc625e": {
          "model_module": "@jupyter-widgets/controls",
          "model_name": "DescriptionStyleModel",
          "model_module_version": "1.5.0",
          "state": {
            "_model_module": "@jupyter-widgets/controls",
            "_model_module_version": "1.5.0",
            "_model_name": "DescriptionStyleModel",
            "_view_count": null,
            "_view_module": "@jupyter-widgets/base",
            "_view_module_version": "1.2.0",
            "_view_name": "StyleView",
            "description_width": ""
          }
        },
        "f96a11507eef41b7b08d56a84043dde0": {
          "model_module": "@jupyter-widgets/base",
          "model_name": "LayoutModel",
          "model_module_version": "1.2.0",
          "state": {
            "_model_module": "@jupyter-widgets/base",
            "_model_module_version": "1.2.0",
            "_model_name": "LayoutModel",
            "_view_count": null,
            "_view_module": "@jupyter-widgets/base",
            "_view_module_version": "1.2.0",
            "_view_name": "LayoutView",
            "align_content": null,
            "align_items": null,
            "align_self": null,
            "border": null,
            "bottom": null,
            "display": null,
            "flex": null,
            "flex_flow": null,
            "grid_area": "widget011",
            "grid_auto_columns": null,
            "grid_auto_flow": null,
            "grid_auto_rows": null,
            "grid_column": null,
            "grid_gap": null,
            "grid_row": null,
            "grid_template_areas": null,
            "grid_template_columns": null,
            "grid_template_rows": null,
            "height": null,
            "justify_content": null,
            "justify_items": null,
            "left": null,
            "margin": null,
            "max_height": null,
            "max_width": null,
            "min_height": null,
            "min_width": null,
            "object_fit": null,
            "object_position": null,
            "order": null,
            "overflow": null,
            "overflow_x": null,
            "overflow_y": null,
            "padding": null,
            "right": null,
            "top": null,
            "visibility": null,
            "width": null
          }
        },
        "d5032fa3df6e4a4baaf71fdf4fa2aa11": {
          "model_module": "@jupyter-widgets/controls",
          "model_name": "DescriptionStyleModel",
          "model_module_version": "1.5.0",
          "state": {
            "_model_module": "@jupyter-widgets/controls",
            "_model_module_version": "1.5.0",
            "_model_name": "DescriptionStyleModel",
            "_view_count": null,
            "_view_module": "@jupyter-widgets/base",
            "_view_module_version": "1.2.0",
            "_view_name": "StyleView",
            "description_width": ""
          }
        },
        "91212348750b4c04a3b5aa4a80f7863b": {
          "model_module": "@jupyter-widgets/base",
          "model_name": "LayoutModel",
          "model_module_version": "1.2.0",
          "state": {
            "_model_module": "@jupyter-widgets/base",
            "_model_module_version": "1.2.0",
            "_model_name": "LayoutModel",
            "_view_count": null,
            "_view_module": "@jupyter-widgets/base",
            "_view_module_version": "1.2.0",
            "_view_name": "LayoutView",
            "align_content": null,
            "align_items": null,
            "align_self": null,
            "border": null,
            "bottom": null,
            "display": null,
            "flex": null,
            "flex_flow": null,
            "grid_area": "widget012",
            "grid_auto_columns": null,
            "grid_auto_flow": null,
            "grid_auto_rows": null,
            "grid_column": null,
            "grid_gap": null,
            "grid_row": null,
            "grid_template_areas": null,
            "grid_template_columns": null,
            "grid_template_rows": null,
            "height": null,
            "justify_content": null,
            "justify_items": null,
            "left": null,
            "margin": null,
            "max_height": null,
            "max_width": null,
            "min_height": null,
            "min_width": null,
            "object_fit": null,
            "object_position": null,
            "order": null,
            "overflow": null,
            "overflow_x": null,
            "overflow_y": null,
            "padding": null,
            "right": null,
            "top": null,
            "visibility": null,
            "width": "200px"
          }
        },
        "7af628dd3f7d4177bbfeafb19a1e73bc": {
          "model_module": "@jupyter-widgets/controls",
          "model_name": "DescriptionStyleModel",
          "model_module_version": "1.5.0",
          "state": {
            "_model_module": "@jupyter-widgets/controls",
            "_model_module_version": "1.5.0",
            "_model_name": "DescriptionStyleModel",
            "_view_count": null,
            "_view_module": "@jupyter-widgets/base",
            "_view_module_version": "1.2.0",
            "_view_name": "StyleView",
            "description_width": "initial"
          }
        },
        "5d0342034b474dd9a991407511c57380": {
          "model_module": "@jupyter-widgets/controls",
          "model_name": "TextModel",
          "model_module_version": "1.5.0",
          "state": {
            "_dom_classes": [],
            "_model_module": "@jupyter-widgets/controls",
            "_model_module_version": "1.5.0",
            "_model_name": "TextModel",
            "_view_count": null,
            "_view_module": "@jupyter-widgets/controls",
            "_view_module_version": "1.5.0",
            "_view_name": "TextView",
            "continuous_update": true,
            "description": "",
            "description_tooltip": null,
            "disabled": false,
            "layout": "IPY_MODEL_f4159ac8e68c4936b06f1bf24f468f7b",
            "placeholder": "filename",
            "style": "IPY_MODEL_c75f18fd72fd443299d58cb00fbbc63c",
            "value": ""
          }
        },
        "63ab30b2b99e433f920785819593a217": {
          "model_module": "@jupyter-widgets/controls",
          "model_name": "HTMLModel",
          "model_module_version": "1.5.0",
          "state": {
            "_dom_classes": [],
            "_model_module": "@jupyter-widgets/controls",
            "_model_module_version": "1.5.0",
            "_model_name": "HTMLModel",
            "_view_count": null,
            "_view_module": "@jupyter-widgets/controls",
            "_view_module_version": "1.5.0",
            "_view_name": "HTMLView",
            "description": "",
            "description_tooltip": null,
            "layout": "IPY_MODEL_66fe90fa68ba4368a05b03ead9ad155e",
            "placeholder": "​",
            "style": "IPY_MODEL_35d749ba9be04db7a5bdc2b377ade2c2",
            "value": "<p style=\"font-family:monospace\">.dfa</p>"
          }
        },
        "026b12b7d708469a82651c23b35bd1d2": {
          "model_module": "@jupyter-widgets/base",
          "model_name": "LayoutModel",
          "model_module_version": "1.2.0",
          "state": {
            "_model_module": "@jupyter-widgets/base",
            "_model_module_version": "1.2.0",
            "_model_name": "LayoutModel",
            "_view_count": null,
            "_view_module": "@jupyter-widgets/base",
            "_view_module_version": "1.2.0",
            "_view_name": "LayoutView",
            "align_content": null,
            "align_items": null,
            "align_self": null,
            "border": null,
            "bottom": null,
            "display": null,
            "flex": null,
            "flex_flow": null,
            "grid_area": null,
            "grid_auto_columns": null,
            "grid_auto_flow": null,
            "grid_auto_rows": null,
            "grid_column": null,
            "grid_gap": null,
            "grid_row": null,
            "grid_template_areas": null,
            "grid_template_columns": null,
            "grid_template_rows": null,
            "height": null,
            "justify_content": null,
            "justify_items": null,
            "left": null,
            "margin": null,
            "max_height": null,
            "max_width": null,
            "min_height": null,
            "min_width": null,
            "object_fit": null,
            "object_position": null,
            "order": null,
            "overflow": null,
            "overflow_x": null,
            "overflow_y": null,
            "padding": null,
            "right": null,
            "top": null,
            "visibility": null,
            "width": null
          }
        },
        "a4587b2f31624035ab9924fedf0bd678": {
          "model_module": "@jupyter-widgets/base",
          "model_name": "LayoutModel",
          "model_module_version": "1.2.0",
          "state": {
            "_model_module": "@jupyter-widgets/base",
            "_model_module_version": "1.2.0",
            "_model_name": "LayoutModel",
            "_view_count": null,
            "_view_module": "@jupyter-widgets/base",
            "_view_module_version": "1.2.0",
            "_view_name": "LayoutView",
            "align_content": null,
            "align_items": null,
            "align_self": null,
            "border": null,
            "bottom": null,
            "display": null,
            "flex": null,
            "flex_flow": null,
            "grid_area": null,
            "grid_auto_columns": null,
            "grid_auto_flow": null,
            "grid_auto_rows": null,
            "grid_column": null,
            "grid_gap": null,
            "grid_row": null,
            "grid_template_areas": null,
            "grid_template_columns": null,
            "grid_template_rows": null,
            "height": null,
            "justify_content": null,
            "justify_items": null,
            "left": null,
            "margin": null,
            "max_height": null,
            "max_width": null,
            "min_height": null,
            "min_width": null,
            "object_fit": null,
            "object_position": null,
            "order": null,
            "overflow": null,
            "overflow_x": null,
            "overflow_y": null,
            "padding": null,
            "right": null,
            "top": null,
            "visibility": null,
            "width": null
          }
        },
        "50feda98c30240659eeb0f2cb00db24e": {
          "model_module": "@jupyter-widgets/controls",
          "model_name": "ButtonStyleModel",
          "model_module_version": "1.5.0",
          "state": {
            "_model_module": "@jupyter-widgets/controls",
            "_model_module_version": "1.5.0",
            "_model_name": "ButtonStyleModel",
            "_view_count": null,
            "_view_module": "@jupyter-widgets/base",
            "_view_module_version": "1.2.0",
            "_view_name": "StyleView",
            "button_color": null,
            "font_weight": ""
          }
        },
        "adf8947ea5dc475d99df98f581d79c85": {
          "model_module": "@jupyter-widgets/base",
          "model_name": "LayoutModel",
          "model_module_version": "1.2.0",
          "state": {
            "_model_module": "@jupyter-widgets/base",
            "_model_module_version": "1.2.0",
            "_model_name": "LayoutModel",
            "_view_count": null,
            "_view_module": "@jupyter-widgets/base",
            "_view_module_version": "1.2.0",
            "_view_name": "LayoutView",
            "align_content": null,
            "align_items": null,
            "align_self": null,
            "border": null,
            "bottom": null,
            "display": null,
            "flex": null,
            "flex_flow": null,
            "grid_area": null,
            "grid_auto_columns": null,
            "grid_auto_flow": null,
            "grid_auto_rows": null,
            "grid_column": null,
            "grid_gap": null,
            "grid_row": null,
            "grid_template_areas": null,
            "grid_template_columns": null,
            "grid_template_rows": null,
            "height": null,
            "justify_content": null,
            "justify_items": null,
            "left": null,
            "margin": null,
            "max_height": null,
            "max_width": null,
            "min_height": null,
            "min_width": null,
            "object_fit": null,
            "object_position": null,
            "order": null,
            "overflow": null,
            "overflow_x": null,
            "overflow_y": null,
            "padding": null,
            "right": null,
            "top": null,
            "visibility": null,
            "width": null
          }
        },
        "09d0312d7a41494798efc3cd9ea1eacd": {
          "model_module": "@jupyter-widgets/controls",
          "model_name": "DescriptionStyleModel",
          "model_module_version": "1.5.0",
          "state": {
            "_model_module": "@jupyter-widgets/controls",
            "_model_module_version": "1.5.0",
            "_model_name": "DescriptionStyleModel",
            "_view_count": null,
            "_view_module": "@jupyter-widgets/base",
            "_view_module_version": "1.2.0",
            "_view_name": "StyleView",
            "description_width": ""
          }
        },
        "eb2308aca07844dfbbc365aa667e5d72": {
          "model_module": "@jupyter-widgets/base",
          "model_name": "LayoutModel",
          "model_module_version": "1.2.0",
          "state": {
            "_model_module": "@jupyter-widgets/base",
            "_model_module_version": "1.2.0",
            "_model_name": "LayoutModel",
            "_view_count": null,
            "_view_module": "@jupyter-widgets/base",
            "_view_module_version": "1.2.0",
            "_view_name": "LayoutView",
            "align_content": null,
            "align_items": null,
            "align_self": null,
            "border": null,
            "bottom": null,
            "display": null,
            "flex": null,
            "flex_flow": null,
            "grid_area": null,
            "grid_auto_columns": null,
            "grid_auto_flow": null,
            "grid_auto_rows": null,
            "grid_column": null,
            "grid_gap": null,
            "grid_row": null,
            "grid_template_areas": null,
            "grid_template_columns": null,
            "grid_template_rows": null,
            "height": null,
            "justify_content": null,
            "justify_items": null,
            "left": null,
            "margin": null,
            "max_height": null,
            "max_width": null,
            "min_height": null,
            "min_width": null,
            "object_fit": null,
            "object_position": null,
            "order": null,
            "overflow": null,
            "overflow_x": null,
            "overflow_y": null,
            "padding": null,
            "right": null,
            "top": null,
            "visibility": null,
            "width": null
          }
        },
        "79b89664bae849de90a22e147e9c3e35": {
          "model_module": "@jupyter-widgets/controls",
          "model_name": "ButtonStyleModel",
          "model_module_version": "1.5.0",
          "state": {
            "_model_module": "@jupyter-widgets/controls",
            "_model_module_version": "1.5.0",
            "_model_name": "ButtonStyleModel",
            "_view_count": null,
            "_view_module": "@jupyter-widgets/base",
            "_view_module_version": "1.2.0",
            "_view_name": "StyleView",
            "button_color": null,
            "font_weight": ""
          }
        },
        "f4159ac8e68c4936b06f1bf24f468f7b": {
          "model_module": "@jupyter-widgets/base",
          "model_name": "LayoutModel",
          "model_module_version": "1.2.0",
          "state": {
            "_model_module": "@jupyter-widgets/base",
            "_model_module_version": "1.2.0",
            "_model_name": "LayoutModel",
            "_view_count": null,
            "_view_module": "@jupyter-widgets/base",
            "_view_module_version": "1.2.0",
            "_view_name": "LayoutView",
            "align_content": null,
            "align_items": null,
            "align_self": null,
            "border": null,
            "bottom": null,
            "display": null,
            "flex": null,
            "flex_flow": null,
            "grid_area": null,
            "grid_auto_columns": null,
            "grid_auto_flow": null,
            "grid_auto_rows": null,
            "grid_column": null,
            "grid_gap": null,
            "grid_row": null,
            "grid_template_areas": null,
            "grid_template_columns": null,
            "grid_template_rows": null,
            "height": null,
            "justify_content": null,
            "justify_items": null,
            "left": null,
            "margin": null,
            "max_height": null,
            "max_width": null,
            "min_height": null,
            "min_width": null,
            "object_fit": null,
            "object_position": null,
            "order": null,
            "overflow": null,
            "overflow_x": null,
            "overflow_y": null,
            "padding": null,
            "right": null,
            "top": null,
            "visibility": null,
            "width": null
          }
        },
        "c75f18fd72fd443299d58cb00fbbc63c": {
          "model_module": "@jupyter-widgets/controls",
          "model_name": "DescriptionStyleModel",
          "model_module_version": "1.5.0",
          "state": {
            "_model_module": "@jupyter-widgets/controls",
            "_model_module_version": "1.5.0",
            "_model_name": "DescriptionStyleModel",
            "_view_count": null,
            "_view_module": "@jupyter-widgets/base",
            "_view_module_version": "1.2.0",
            "_view_name": "StyleView",
            "description_width": ""
          }
        },
        "66fe90fa68ba4368a05b03ead9ad155e": {
          "model_module": "@jupyter-widgets/base",
          "model_name": "LayoutModel",
          "model_module_version": "1.2.0",
          "state": {
            "_model_module": "@jupyter-widgets/base",
            "_model_module_version": "1.2.0",
            "_model_name": "LayoutModel",
            "_view_count": null,
            "_view_module": "@jupyter-widgets/base",
            "_view_module_version": "1.2.0",
            "_view_name": "LayoutView",
            "align_content": null,
            "align_items": null,
            "align_self": null,
            "border": null,
            "bottom": null,
            "display": null,
            "flex": null,
            "flex_flow": null,
            "grid_area": null,
            "grid_auto_columns": null,
            "grid_auto_flow": null,
            "grid_auto_rows": null,
            "grid_column": null,
            "grid_gap": null,
            "grid_row": null,
            "grid_template_areas": null,
            "grid_template_columns": null,
            "grid_template_rows": null,
            "height": null,
            "justify_content": null,
            "justify_items": null,
            "left": null,
            "margin": null,
            "max_height": null,
            "max_width": null,
            "min_height": null,
            "min_width": null,
            "object_fit": null,
            "object_position": null,
            "order": null,
            "overflow": null,
            "overflow_x": null,
            "overflow_y": null,
            "padding": null,
            "right": null,
            "top": null,
            "visibility": null,
            "width": null
          }
        },
        "35d749ba9be04db7a5bdc2b377ade2c2": {
          "model_module": "@jupyter-widgets/controls",
          "model_name": "DescriptionStyleModel",
          "model_module_version": "1.5.0",
          "state": {
            "_model_module": "@jupyter-widgets/controls",
            "_model_module_version": "1.5.0",
            "_model_name": "DescriptionStyleModel",
            "_view_count": null,
            "_view_module": "@jupyter-widgets/base",
            "_view_module_version": "1.2.0",
            "_view_name": "StyleView",
            "description_width": ""
          }
        },
        "f8cc0944b667455d8d2b312cf634f84b": {
          "model_module": "@jupyter-widgets/controls",
          "model_name": "TextareaModel",
          "model_module_version": "1.5.0",
          "state": {
            "_dom_classes": [],
            "_model_module": "@jupyter-widgets/controls",
            "_model_module_version": "1.5.0",
            "_model_name": "TextareaModel",
            "_view_count": null,
            "_view_module": "@jupyter-widgets/controls",
            "_view_module_version": "1.5.0",
            "_view_name": "TextareaView",
            "continuous_update": true,
            "description": "",
            "description_tooltip": null,
            "disabled": false,
            "layout": "IPY_MODEL_fb6b3f954347408bb6ba92bcb8832fae",
            "placeholder": "<from state> : <input symbol> -> <to state>  !! comment\nex: I : 0 -> A",
            "rows": null,
            "style": "IPY_MODEL_6789ac5577d8432b9c075ba0eafb420b",
            "value": "!!---------------------------------------------------------------------------\n!! This DFA looks for patterns of the form ..0101\n!! i.e., ends in 0101.\n!!---------------------------------------------------------------------------\n\nI       : 0  -> S0      !! Go to S0, in anticipation of seeing a 0101\nI       : 1  -> I       !! Seeing a 1 does not help, stay in I\n\nS0      : 0  -> S0      !! Punt on 0, hoping that a 1 will come\nS0      : 1  -> S01     !! Advance to state S01\n\nS01     : 0  -> S010    !! A 0 advances to S010\nS01     : 1  -> I       !! Seeing a 1 breaks the pattern, go back to I\n\nS010    : 0  -> S0      !! A 0 breaks the pattern but may be the start of 0101\nS010    : 1  -> F0101   !! Yay, we found 0101, and can accept the string if\n                        !! there are no more symbols\n\nF0101   : 0  -> S010    !! Another 0 makes ..01010, salvage the pattern from S010\nF0101   : 1  -> I       !! Seeing a 1 breaks the pattern, go back to I"
          }
        },
        "6e4749a636644fdaa27e8422a4d7aaa1": {
          "model_module": "@jupyter-widgets/base",
          "model_name": "LayoutModel",
          "model_module_version": "1.2.0",
          "state": {
            "_model_module": "@jupyter-widgets/base",
            "_model_module_version": "1.2.0",
            "_model_name": "LayoutModel",
            "_view_count": null,
            "_view_module": "@jupyter-widgets/base",
            "_view_module_version": "1.2.0",
            "_view_name": "LayoutView",
            "align_content": null,
            "align_items": null,
            "align_self": null,
            "border": null,
            "bottom": null,
            "display": null,
            "flex": null,
            "flex_flow": null,
            "grid_area": null,
            "grid_auto_columns": null,
            "grid_auto_flow": null,
            "grid_auto_rows": null,
            "grid_column": null,
            "grid_gap": null,
            "grid_row": null,
            "grid_template_areas": null,
            "grid_template_columns": null,
            "grid_template_rows": null,
            "height": null,
            "justify_content": null,
            "justify_items": null,
            "left": null,
            "margin": null,
            "max_height": null,
            "max_width": null,
            "min_height": null,
            "min_width": null,
            "object_fit": null,
            "object_position": null,
            "order": null,
            "overflow": null,
            "overflow_x": null,
            "overflow_y": null,
            "padding": null,
            "right": null,
            "top": null,
            "visibility": null,
            "width": null
          }
        },
        "2168461b1d3146ae8fc46ec8223030c3": {
          "model_module": "@jupyter-widgets/base",
          "model_name": "LayoutModel",
          "model_module_version": "1.2.0",
          "state": {
            "_model_module": "@jupyter-widgets/base",
            "_model_module_version": "1.2.0",
            "_model_name": "LayoutModel",
            "_view_count": null,
            "_view_module": "@jupyter-widgets/base",
            "_view_module_version": "1.2.0",
            "_view_name": "LayoutView",
            "align_content": null,
            "align_items": null,
            "align_self": null,
            "border": null,
            "bottom": null,
            "display": null,
            "flex": null,
            "flex_flow": null,
            "grid_area": null,
            "grid_auto_columns": null,
            "grid_auto_flow": null,
            "grid_auto_rows": null,
            "grid_column": null,
            "grid_gap": null,
            "grid_row": null,
            "grid_template_areas": null,
            "grid_template_columns": null,
            "grid_template_rows": null,
            "height": null,
            "justify_content": null,
            "justify_items": null,
            "left": null,
            "margin": null,
            "max_height": null,
            "max_width": null,
            "min_height": null,
            "min_width": null,
            "object_fit": null,
            "object_position": null,
            "order": null,
            "overflow": null,
            "overflow_x": null,
            "overflow_y": null,
            "padding": null,
            "right": null,
            "top": null,
            "visibility": null,
            "width": null
          }
        },
        "396fb6147145426f9802c3029d639a00": {
          "model_module": "@jupyter-widgets/base",
          "model_name": "LayoutModel",
          "model_module_version": "1.2.0",
          "state": {
            "_model_module": "@jupyter-widgets/base",
            "_model_module_version": "1.2.0",
            "_model_name": "LayoutModel",
            "_view_count": null,
            "_view_module": "@jupyter-widgets/base",
            "_view_module_version": "1.2.0",
            "_view_name": "LayoutView",
            "align_content": null,
            "align_items": null,
            "align_self": null,
            "border": null,
            "bottom": null,
            "display": null,
            "flex": null,
            "flex_flow": null,
            "grid_area": null,
            "grid_auto_columns": null,
            "grid_auto_flow": null,
            "grid_auto_rows": null,
            "grid_column": null,
            "grid_gap": null,
            "grid_row": null,
            "grid_template_areas": null,
            "grid_template_columns": null,
            "grid_template_rows": null,
            "height": null,
            "justify_content": null,
            "justify_items": null,
            "left": null,
            "margin": null,
            "max_height": null,
            "max_width": null,
            "min_height": null,
            "min_width": null,
            "object_fit": null,
            "object_position": null,
            "order": null,
            "overflow": null,
            "overflow_x": null,
            "overflow_y": null,
            "padding": null,
            "right": null,
            "top": null,
            "visibility": null,
            "width": null
          }
        },
        "05be0551729d4f11af0b0056460c9f2f": {
          "model_module": "@jupyter-widgets/base",
          "model_name": "LayoutModel",
          "model_module_version": "1.2.0",
          "state": {
            "_model_module": "@jupyter-widgets/base",
            "_model_module_version": "1.2.0",
            "_model_name": "LayoutModel",
            "_view_count": null,
            "_view_module": "@jupyter-widgets/base",
            "_view_module_version": "1.2.0",
            "_view_name": "LayoutView",
            "align_content": null,
            "align_items": null,
            "align_self": null,
            "border": null,
            "bottom": null,
            "display": null,
            "flex": null,
            "flex_flow": null,
            "grid_area": null,
            "grid_auto_columns": null,
            "grid_auto_flow": null,
            "grid_auto_rows": null,
            "grid_column": null,
            "grid_gap": null,
            "grid_row": null,
            "grid_template_areas": null,
            "grid_template_columns": null,
            "grid_template_rows": null,
            "height": null,
            "justify_content": null,
            "justify_items": null,
            "left": null,
            "margin": null,
            "max_height": null,
            "max_width": null,
            "min_height": null,
            "min_width": null,
            "object_fit": null,
            "object_position": null,
            "order": null,
            "overflow": null,
            "overflow_x": null,
            "overflow_y": null,
            "padding": null,
            "right": null,
            "top": null,
            "visibility": null,
            "width": null
          }
        },
        "fb6b3f954347408bb6ba92bcb8832fae": {
          "model_module": "@jupyter-widgets/base",
          "model_name": "LayoutModel",
          "model_module_version": "1.2.0",
          "state": {
            "_model_module": "@jupyter-widgets/base",
            "_model_module_version": "1.2.0",
            "_model_name": "LayoutModel",
            "_view_count": null,
            "_view_module": "@jupyter-widgets/base",
            "_view_module_version": "1.2.0",
            "_view_name": "LayoutView",
            "align_content": null,
            "align_items": null,
            "align_self": null,
            "border": null,
            "bottom": null,
            "display": null,
            "flex": null,
            "flex_flow": null,
            "grid_area": null,
            "grid_auto_columns": null,
            "grid_auto_flow": null,
            "grid_auto_rows": null,
            "grid_column": null,
            "grid_gap": null,
            "grid_row": null,
            "grid_template_areas": null,
            "grid_template_columns": null,
            "grid_template_rows": null,
            "height": "500px",
            "justify_content": null,
            "justify_items": null,
            "left": null,
            "margin": null,
            "max_height": null,
            "max_width": null,
            "min_height": null,
            "min_width": null,
            "object_fit": null,
            "object_position": null,
            "order": null,
            "overflow": null,
            "overflow_x": null,
            "overflow_y": null,
            "padding": null,
            "right": null,
            "top": null,
            "visibility": null,
            "width": "100%"
          }
        },
        "6789ac5577d8432b9c075ba0eafb420b": {
          "model_module": "@jupyter-widgets/controls",
          "model_name": "DescriptionStyleModel",
          "model_module_version": "1.5.0",
          "state": {
            "_model_module": "@jupyter-widgets/controls",
            "_model_module_version": "1.5.0",
            "_model_name": "DescriptionStyleModel",
            "_view_count": null,
            "_view_module": "@jupyter-widgets/base",
            "_view_module_version": "1.2.0",
            "_view_name": "StyleView",
            "description_width": ""
          }
        }
      }
    }
  },
  "nbformat": 4,
  "nbformat_minor": 0
}