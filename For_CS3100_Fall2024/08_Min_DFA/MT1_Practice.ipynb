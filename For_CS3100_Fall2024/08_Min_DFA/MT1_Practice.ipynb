{
  "cells": [
    {
      "cell_type": "markdown",
      "metadata": {
        "id": "view-in-github",
        "colab_type": "text"
      },
      "source": [
        "<a href=\"https://colab.research.google.com/github/ganeshutah/Jove/blob/master/For_CS3100_Fall2024/08_Min_DFA/MT1_Practice.ipynb\" target=\"_parent\"><img src=\"https://colab.research.google.com/assets/colab-badge.svg\" alt=\"Open In Colab\"/></a>"
      ]
    },
    {
      "cell_type": "code",
      "execution_count": null,
      "metadata": {
        "run_control": {
          "frozen": false,
          "read_only": false
        },
        "id": "xPwIhPL-aGbn"
      },
      "outputs": [],
      "source": [
        "#~~~~~~~~~~~~~~~~~~~~~~~~~~~~~~~~~~~~~~~~~~~~~~~~~~~~~~~\n",
        "import sys\n",
        "\n",
        "# -- Detect if in Own Install or in Colab\n",
        "try:\n",
        "    import google.colab\n",
        "    OWN_INSTALL = False\n",
        "except:\n",
        "    OWN_INSTALL = True\n",
        "\n",
        "if OWN_INSTALL:\n",
        "\n",
        "  #---- Leave these definitions ON if running on laptop\n",
        "  #---- Else turn OFF by putting them between ''' ... '''\n",
        "\n",
        "  sys.path[0:0] = ['../../../../..',  '../../../../../3rdparty',\n",
        "                   '../../../..',  '../../../../3rdparty',\n",
        "                   '../../..',     '../../../3rdparty',\n",
        "                   '../..',        '../../3rdparty',\n",
        "                   '..',           '../3rdparty' ]\n",
        "\n",
        "else: # In colab\n",
        "  ! if [ ! -d Jove ]; then git clone https://github.com/ganeshutah/Jove Jove; fi\n",
        "  sys.path.append('./Jove')\n",
        "  sys.path.append('./Jove/jove')\n",
        "\n",
        "# -- common imports --\n",
        "from jove.DotBashers import *\n",
        "from jove.Def_md2mc  import *\n",
        "from jove.Def_DFA    import *\n",
        "from jove.Def_NFA    import *\n",
        "from jove.Def_RE2NFA import *\n",
        "from jove.LangDef    import *  # for testing DFA actions using nthnumeric if needed\n",
        "from jove.Def_NFA2RE import *\n",
        "#~~~~~~~~~~~~~~~~~~~~~~~~~~~~~~~~~~~~~~~~~~~~~~~~~~~~~~~"
      ]
    },
    {
      "cell_type": "markdown",
      "source": [
        "### Some material that motivates the need for NFA and Regular Expressions (RE)\n",
        "\n",
        "* Impossibility of concatenating DFA\n",
        "   - You can union, intersect, complement DFA\n",
        "   - You can minimize DFA rather directly\n",
        "\n",
        "* But\n",
        "  - You can't concatenate DFA directly\n",
        "  - Some DFA are guaranteed exponential 😞\n",
        "\n",
        "* So, we introduce NFA and Regular Expressions (RE)\n",
        "  - NFA are the graph-form of the required generalization of DFA\n",
        "  - Every DFA is an NFA\n",
        "  - NFA are more liberal, in that they include four new situations\n",
        "    - They can jump to multiple places on a single symbol\n",
        "    - They can jump to a state via an epsilon transition ('' moves or $\\varepsilon$ moves)\n",
        "    - They need not jump from a state to another state on all symbols\n",
        "       - In fact, they can have perfect dead-end states (in a DFA you may not have them)\n",
        "    - NFA can start from multiple initial states\n",
        "\n",
        "\n",
        "* But\n",
        "  - NFA are pretty gnarly and error-prone\n",
        "     - No reasonable person would design them by hand\n",
        "  - Fortunately, we have a notation called RE (regular expressions)\n",
        "     - They are NOTHING but the language notations you learned about a while ago, except\n",
        "        - They are not in math notation\n",
        "        - Instead they are in nice ASCII text that is computer-readable\n",
        "     - AND\n",
        "        - You put together RE only in three ways\n",
        "          - Union\n",
        "          - Concatenation\n",
        "          - Star\n",
        "        - i.e.\n",
        "          - You don't have intersection\n",
        "          - You don't have complement\n",
        "        - AND STILL\n",
        "          - they can describe all regular languages\n",
        "* Here are some facts\n",
        "  - You cannot directly complement NFA or RegExp\n",
        "  - You can convert NFA to RE\n",
        "  - Conversion of RE to NFA is even easier and more fun and modular\n",
        "  - There is no direct way to minimize NFA (or RE)\n",
        "    - we basically turn them into DFA and then minimize\n",
        "      - But then we may pay the price -- exponential blow-up\n",
        "\n",
        "* FINALLY\n",
        "  - Those large DFA can now be expressed in an exponentially succinct using NFA or RE\n",
        "  - And we can perform the concatenation (missing with DFA)\n",
        "\n",
        "\n",
        "* Let us see all these through examples"
      ],
      "metadata": {
        "id": "MQCnvzr_vYA9"
      }
    },
    {
      "cell_type": "markdown",
      "source": [
        "### Showing why it is hard to concatenate DFA and why they are exponential sometimes\n",
        "\n",
        "  - You can't concatenate DFA directly\n",
        "  - Some DFA are guaranteed exponential 😞"
      ],
      "metadata": {
        "id": "gcu8jbiE-wb_"
      }
    },
    {
      "cell_type": "code",
      "source": [
        "# How can we concatenate D1 and D2? Can't put a bridge from D1's final state to D2's initlal state. What will the bridge be labeled by?\n",
        "# I'll use RE to draw DFA quickly... that part will be explained later.\n",
        "# D1's language is \"ab\" and that of D2 is \"cd\"\n",
        "\n",
        "D1 = min_dfa(nfa2dfa(re2nfa(\"ab\")))\n",
        "dotObj_dfa_w_bh(D1,FuseEdges=True)"
      ],
      "metadata": {
        "id": "NRydvkph_UZx"
      },
      "execution_count": null,
      "outputs": []
    },
    {
      "cell_type": "code",
      "source": [
        "D2 = min_dfa(nfa2dfa(re2nfa(\"cd\")))\n",
        "dotObj_dfa_w_bh(D2,FuseEdges=True)"
      ],
      "metadata": {
        "id": "U3jCSNTSAdPE"
      },
      "execution_count": null,
      "outputs": []
    },
    {
      "cell_type": "markdown",
      "source": [
        "### Can't bridge from the first DFA's St4 to the second DFA's initial state (or other things)... there is no direct concatenation approach."
      ],
      "metadata": {
        "id": "LpMUlzZABHgC"
      }
    },
    {
      "cell_type": "code",
      "source": [
        "# Now let's see DFA for \"Nth-last bit is a 1\" grow exponentially large as N increases\n",
        "dotObj_dfa(min_dfa(nfa2dfa(re2nfa(\"(0+1)*1\"))))\n"
      ],
      "metadata": {
        "id": "GXiQG9UHAejd"
      },
      "execution_count": null,
      "outputs": []
    },
    {
      "cell_type": "code",
      "source": [
        "dotObj_dfa(min_dfa(nfa2dfa(re2nfa(\"(0+1)*1(0+1)\"))))"
      ],
      "metadata": {
        "id": "NNkWCPfHBoKB"
      },
      "execution_count": null,
      "outputs": []
    },
    {
      "cell_type": "code",
      "source": [
        "dotObj_dfa(min_dfa(nfa2dfa(re2nfa(\"(0+1)*1(0+1)(0+1)\"))))"
      ],
      "metadata": {
        "id": "nWX4puqlBtOl"
      },
      "execution_count": null,
      "outputs": []
    },
    {
      "cell_type": "markdown",
      "source": [
        "### It is getting larger; so let's check how the number of states grow."
      ],
      "metadata": {
        "id": "9rooPbL0CWf_"
      }
    },
    {
      "cell_type": "code",
      "source": [
        "min_dfa(nfa2dfa(re2nfa(\"(0+1)*1\")))"
      ],
      "metadata": {
        "id": "F_guCh7UAuGb"
      },
      "execution_count": null,
      "outputs": []
    },
    {
      "cell_type": "code",
      "source": [
        "# So, to determine the number of states, index-out the Python dictionary at \"Q\"\n",
        "len(min_dfa(nfa2dfa(re2nfa(\"(0+1)*1\")))[\"Q\"])"
      ],
      "metadata": {
        "id": "UDFNBJMzCeoK"
      },
      "execution_count": null,
      "outputs": []
    },
    {
      "cell_type": "code",
      "source": [
        "len(min_dfa(nfa2dfa(re2nfa(\"(0+1)*1(0+1)\")))[\"Q\"])"
      ],
      "metadata": {
        "id": "IZ8IIct3CyNo"
      },
      "execution_count": null,
      "outputs": []
    },
    {
      "cell_type": "code",
      "source": [
        "len(min_dfa(nfa2dfa(re2nfa(\"(0+1)*1(0+1)(0+1)\")))[\"Q\"])"
      ],
      "metadata": {
        "id": "fwOgS6vEC1sw"
      },
      "execution_count": null,
      "outputs": []
    },
    {
      "cell_type": "code",
      "source": [
        "len(min_dfa(nfa2dfa(re2nfa(\"(0+1)*1(0+1)(0+1)(0+1)\")))[\"Q\"])"
      ],
      "metadata": {
        "id": "iKNke_CwC6GN"
      },
      "execution_count": null,
      "outputs": []
    },
    {
      "cell_type": "code",
      "source": [
        "len(min_dfa(nfa2dfa(re2nfa(\"(0+1)*1(0+1)(0+1)(0+1)(0+1)\")))[\"Q\"])"
      ],
      "metadata": {
        "id": "wphskiVNDH2h"
      },
      "execution_count": null,
      "outputs": []
    },
    {
      "cell_type": "markdown",
      "source": [
        "#### OK, we see that\n",
        "* The RE grows only by a length of five symbols, i.e. (0+1) and in the long run, it is a linear growth\n",
        "* The generated DFA grows exponentially (exp number of states w.r.t. N)\n",
        "\n",
        "### You may say what about the NFA?\n",
        "* Well, we will show you what NFA are in a minute.\n",
        "* But we will assure you (and soon show you) that the NFA will grow only by the number of states it takes to represent (0+1) and that will also be a fixed (small) number.\n",
        "\n"
      ],
      "metadata": {
        "id": "PEh32fzmz5OD"
      }
    },
    {
      "cell_type": "markdown",
      "source": [
        "### **Here is a way to see various machines and play with them using the Jove Editor**"
      ],
      "metadata": {
        "id": "4aF2up7_crsR"
      }
    },
    {
      "cell_type": "markdown",
      "source": [
        "* Let's build many NFA using this Jove editor and animate\n",
        "* The NFA to be built are these\n",
        "  - NFA1  that moves to two states, i.e. I : a -> A, F\n",
        "  - *IMMEDIATELY* notice that the DFA complementation algorithm does not work for NFA --- in fact there is no direct way to complement NFA\n",
        "  - NFA2 that moves as follows : I : '' -> F\n",
        "  - NFA3 that moves as follows\n",
        "     - I1 : '' -> A\n",
        "     - I2 : a -> F\n",
        "  - NFA4 that moves as follows\n",
        "     - I1 : a -> F1\n",
        "     - I2 : b -> F2\n",
        "\n",
        "* The language of an NFA\n",
        "  - The language of an NFA is any string that takes the NFA from *some* starting state through a path (that may contain epsilon) to some final state\n"
      ],
      "metadata": {
        "id": "2fKtrW6sc3U2"
      }
    },
    {
      "cell_type": "code",
      "source": [
        "from jove.JoveEditor import *\n",
        "JoveEditor(examples=True)\n",
        "display(HTML('<link rel=\"stylesheet\" href=\"//stackpath.bootstrapcdn.com/font-awesome/4.7.0/css/font-awesome.min.css\"/>'))"
      ],
      "metadata": {
        "id": "e4FEJe1bcqZK"
      },
      "execution_count": null,
      "outputs": []
    },
    {
      "cell_type": "markdown",
      "source": [
        "## INTRODUCING YOUR FIRST NFA, AND SIMULATING IT"
      ],
      "metadata": {
        "id": "GHPWJuby9qHa"
      }
    },
    {
      "cell_type": "code",
      "source": [
        "# I'm going to redraw the NFA of Figure 7.7 as one with multiple initial states\n",
        "# This is achieved using two initial states that start with the \"I\" state\n",
        "# States with multiple next states upon one symbol are shown with a comma-separated list of next states\n",
        "\n",
        "nfa_Fig7_dot_7_Variant = md2mc('''NFA\n",
        "IA : '' -> B, C  !! multiple initial states\n",
        "IG : 1  -> F     !! a dead-end state\n",
        "B  : 1  -> D\n",
        "C  : 0  -> E\n",
        "D : ''  -> IA, IG\n",
        "E : ''  -> IA, IG\n",
        "''')\n"
      ],
      "metadata": {
        "id": "wXttTYo_CE9V"
      },
      "execution_count": null,
      "outputs": []
    },
    {
      "cell_type": "code",
      "source": [
        "dotObj_nfa(nfa_Fig7_dot_7_Variant, FuseEdges=True)"
      ],
      "metadata": {
        "id": "L7xlZSvw_3-T"
      },
      "execution_count": null,
      "outputs": []
    },
    {
      "cell_type": "code",
      "source": [
        "# To see what the formal structure of this NFA is, let's look at its Delta function\n",
        "nfa_Fig7_dot_7_Variant"
      ],
      "metadata": {
        "id": "fKL92jYv_6Qn"
      },
      "execution_count": null,
      "outputs": []
    },
    {
      "cell_type": "markdown",
      "source": [
        "### We see that the NFA transitions to multiple next states upon a single symbol\n",
        "### In some cases it only transitions to ONE next state\n",
        "### To treat these cases uniformly, we say that an NFA transitions to a **set** of next states each time\n",
        "\n",
        "\n",
        "\n",
        "\n",
        "\n",
        "* The formal structure of an NFA is this : $(Q, \\Sigma, \\delta, Q_0, F)$\n",
        "* This basically means ``An NFA is these five things''\n",
        "* Here $Q$ is a finite set of states\n",
        "* $\\Sigma$ is as before (the actual alphabet). Even if an NFA moves on $\\varepsilon$, the alphabet NEVER includes $\\varepsilon$\n",
        "* $\\delta$ maps a state paired with either $\\Sigma$ or $\\varepsilon$ to a set of states\n",
        "* $Q_0$ is a subset of states\n",
        "* $F$ is a subset of $Q$\n",
        "\n",
        "\n",
        "\n",
        "---------------------"
      ],
      "metadata": {
        "id": "IEAZhfhdAG1U"
      }
    },
    {
      "cell_type": "markdown",
      "source": [
        "### NOW for the fun experience. Let's animate the NFA to watch all of its conceptual steps!\n",
        ""
      ],
      "metadata": {
        "id": "VOOhl_OCCYta"
      }
    },
    {
      "cell_type": "code",
      "source": [
        "from jove.AnimateNFA import *"
      ],
      "metadata": {
        "id": "xyHdeaWaDX2j"
      },
      "execution_count": null,
      "outputs": []
    },
    {
      "cell_type": "code",
      "source": [
        "AnimateNFA(nfa_Fig7_dot_7_Variant, FuseEdges=True)\n",
        "display(HTML('<link rel=\\\"stylesheet\\\" href=\\\"//stackpath.bootstrapcdn.com/font-awesome/4.7.0/css/font-awesome.min.css\\\"/>'))"
      ],
      "metadata": {
        "id": "Zt852TPaAF5v"
      },
      "execution_count": null,
      "outputs": []
    },
    {
      "cell_type": "markdown",
      "source": [
        "------------------------------------\n"
      ],
      "metadata": {
        "id": "5jpNgArMcIpT"
      }
    },
    {
      "cell_type": "markdown",
      "source": [
        "### BACKGROUND MATERIAL TO TEACH YOU SOME BASICS + HAVE YOU DO QUIZ-3\n",
        "\n",
        "### The idea of regular expressions will be reinforced in this exercise. When we have the language $\\{a,bc\\}\\{d\\}+\\varepsilon$, the regular expression corresponding to this is (a+bc)(d)('') or even (a+bc)d('') or finally also (a+bc)d'' where we assume that having the parenthesis around d and '' makes it more readable. Let's test this out."
      ],
      "metadata": {
        "id": "3-m27b2Xcmt0"
      }
    },
    {
      "cell_type": "code",
      "source": [
        "# You may put parentheses around the '' string as below\n",
        "dotObj_nfa(re2nfa(\"(a+bc)(d)('')\"))"
      ],
      "metadata": {
        "id": "tLRH7JmPeFym"
      },
      "execution_count": null,
      "outputs": []
    },
    {
      "cell_type": "code",
      "source": [
        "# In this case, the parser is smart enough to work even w/o the parentheses\n",
        "dotObj_nfa(re2nfa(\"(a+bc)d''\"))"
      ],
      "metadata": {
        "id": "UMtf06OGePWc"
      },
      "execution_count": null,
      "outputs": []
    },
    {
      "cell_type": "markdown",
      "source": [
        "-------------------------\n",
        "-------------------------\n",
        "# START OF QUIZ-3\n",
        "-------------------------\n",
        "-------------------------"
      ],
      "metadata": {
        "id": "hIuENQB7pPm7"
      }
    },
    {
      "cell_type": "markdown",
      "source": [
        "## Question-1"
      ],
      "metadata": {
        "id": "a28Bs4c5fpng"
      }
    },
    {
      "cell_type": "markdown",
      "source": [
        "## Question-2"
      ],
      "metadata": {
        "id": "PPz0885Tbb3O"
      }
    },
    {
      "cell_type": "markdown",
      "source": [
        "-----------------------"
      ],
      "metadata": {
        "id": "DENaFGGpcmt_"
      }
    },
    {
      "cell_type": "markdown",
      "source": [],
      "metadata": {
        "id": "lSQmV3Lmcmt_"
      }
    },
    {
      "cell_type": "markdown",
      "source": [
        "------------------------------"
      ],
      "metadata": {
        "id": "x2w7Rmylcmt_"
      }
    },
    {
      "cell_type": "markdown",
      "source": [
        "## Question-3"
      ],
      "metadata": {
        "id": "4iZ5sNKlcm5v"
      }
    },
    {
      "cell_type": "markdown",
      "source": [
        "-----------------------"
      ],
      "metadata": {
        "id": "a-DxkqSFcm5w"
      }
    },
    {
      "cell_type": "markdown",
      "source": [],
      "metadata": {
        "id": "lHg0UVzxcm5w"
      }
    },
    {
      "cell_type": "markdown",
      "source": [
        "------------------------------"
      ],
      "metadata": {
        "id": "au1F9kHRcm5w"
      }
    },
    {
      "cell_type": "markdown",
      "source": [
        "## Question-4"
      ],
      "metadata": {
        "id": "dWFUjUkfcnHP"
      }
    },
    {
      "cell_type": "markdown",
      "source": [
        "-----------------------"
      ],
      "metadata": {
        "id": "1Djyz9dvcnHP"
      }
    },
    {
      "cell_type": "markdown",
      "source": [],
      "metadata": {
        "id": "1P0QLJeBcnHQ"
      }
    },
    {
      "cell_type": "markdown",
      "source": [
        "-----------------------"
      ],
      "metadata": {
        "id": "92805lXIbE4r"
      }
    },
    {
      "cell_type": "markdown",
      "source": [
        "------------------------------"
      ],
      "metadata": {
        "id": "dNB8QtTQbHds"
      }
    },
    {
      "cell_type": "markdown",
      "source": [
        "## Question-5"
      ],
      "metadata": {
        "id": "gR0rrGmdcOvq"
      }
    },
    {
      "cell_type": "markdown",
      "source": [
        "-----------------------"
      ],
      "metadata": {
        "id": "y5YpIaNvcOv1"
      }
    },
    {
      "cell_type": "markdown",
      "source": [],
      "metadata": {
        "id": "m3ci3NK-cOv1"
      }
    },
    {
      "cell_type": "markdown",
      "source": [
        "------------------------------"
      ],
      "metadata": {
        "id": "WSFTS6G7cOv1"
      }
    },
    {
      "cell_type": "markdown",
      "source": [
        "## Question-6"
      ],
      "metadata": {
        "id": "sZSALAcKcO71"
      }
    },
    {
      "cell_type": "markdown",
      "source": [
        "-----------------------"
      ],
      "metadata": {
        "id": "W-PmAzgmcO72"
      }
    },
    {
      "cell_type": "markdown",
      "source": [],
      "metadata": {
        "id": "LCaScFzucO72"
      }
    },
    {
      "cell_type": "markdown",
      "source": [
        "------------------------------"
      ],
      "metadata": {
        "id": "Ut_D5up6cO72"
      }
    },
    {
      "cell_type": "markdown",
      "source": [
        "## Question-7"
      ],
      "metadata": {
        "id": "wjfoFlLacPD1"
      }
    },
    {
      "cell_type": "markdown",
      "source": [
        "-----------------------"
      ],
      "metadata": {
        "id": "AcgpTMVLcPD2"
      }
    },
    {
      "cell_type": "markdown",
      "source": [],
      "metadata": {
        "id": "w7pd9524cPD2"
      }
    },
    {
      "cell_type": "markdown",
      "source": [
        "------------------------------"
      ],
      "metadata": {
        "id": "71UlvWhZcPD2"
      }
    },
    {
      "cell_type": "markdown",
      "source": [
        "## Question-8"
      ],
      "metadata": {
        "id": "UmS5QLPecPLx"
      }
    },
    {
      "cell_type": "markdown",
      "source": [
        "-----------------------"
      ],
      "metadata": {
        "id": "E1cVZQL9cPLy"
      }
    },
    {
      "cell_type": "markdown",
      "source": [],
      "metadata": {
        "id": "1IKCZQZvcPLy"
      }
    },
    {
      "cell_type": "markdown",
      "source": [
        "------------------------------"
      ],
      "metadata": {
        "id": "wAIIk_DBcPLy"
      }
    },
    {
      "cell_type": "markdown",
      "source": [
        "## Question-9"
      ],
      "metadata": {
        "id": "Q0BQWCNGcP56"
      }
    },
    {
      "cell_type": "markdown",
      "source": [
        "-----------------------"
      ],
      "metadata": {
        "id": "wJxLWe__cP6S"
      }
    },
    {
      "cell_type": "markdown",
      "source": [],
      "metadata": {
        "id": "0ZC-Lwq2cP6T"
      }
    },
    {
      "cell_type": "markdown",
      "source": [
        "------------------------------"
      ],
      "metadata": {
        "id": "t6RC8AkTcP6T"
      }
    },
    {
      "cell_type": "markdown",
      "source": [
        "## Question-10"
      ],
      "metadata": {
        "id": "BROVL0ZvcQb7"
      }
    },
    {
      "cell_type": "markdown",
      "source": [
        "-----------------------"
      ],
      "metadata": {
        "id": "f_VfFdIJcQb7"
      }
    },
    {
      "cell_type": "markdown",
      "source": [],
      "metadata": {
        "id": "29QA7JbEcQb7"
      }
    },
    {
      "cell_type": "markdown",
      "source": [
        "------------------------------"
      ],
      "metadata": {
        "id": "d_8sksgUcQb7"
      }
    },
    {
      "cell_type": "markdown",
      "source": [
        "### This notebook was assigned for MT1 practice in 2022. You can see that below this text box and keep that in mind as a learning goal. But above this text box, I have set material for Quiz-5 that gradually builds toward this goal."
      ],
      "metadata": {
        "id": "5Xhm2yl6auD7"
      }
    },
    {
      "cell_type": "code",
      "source": [],
      "metadata": {
        "id": "Vyvcj6p_atJ1"
      },
      "execution_count": null,
      "outputs": []
    },
    {
      "cell_type": "code",
      "execution_count": null,
      "metadata": {
        "id": "LevUiceMaGbq"
      },
      "outputs": [],
      "source": [
        "def diff_RE(R1,R2):\n",
        "    '''\n",
        "    Given R1 and R2, here is the the code to return (D1,D2)\n",
        "    where D1 is the min DFA of Lang(R1)-Lang(R2)\n",
        "    and D2 is the min DFA of Lang(R2)-Lang(R1)\n",
        "    '''\n",
        "    MD1=min_dfa_brz(nfa2dfa(re2nfa(R1)))\n",
        "    MD2=min_dfa_brz(nfa2dfa(re2nfa(R2)))\n",
        "\n",
        "    cMD1 = comp_dfa(MD1)\n",
        "    cMD2 = comp_dfa(MD2)\n",
        "\n",
        "    D1minus2 = min_dfa_brz(intersect_dfa(MD1, cMD2))\n",
        "    D2minus1 = min_dfa_brz(intersect_dfa(MD2, cMD1))\n",
        "\n",
        "    return (D1minus2, D2minus1)\n"
      ]
    },
    {
      "cell_type": "code",
      "execution_count": null,
      "metadata": {
        "id": "4igigBFdaGbr"
      },
      "outputs": [],
      "source": [
        "# Sigma = {0,1}; \"2n zeros for n >= 0\"\n",
        "\n",
        "RE2 = \"(1* 0 1* 0 1*)*\"\n",
        "m2 = min_dfa(nfa2dfa(re2nfa(RE2)))\n",
        "dotObj_dfa(m2)"
      ]
    },
    {
      "cell_type": "code",
      "execution_count": null,
      "metadata": {
        "id": "2384OJ5kaGbr"
      },
      "outputs": [],
      "source": [
        "dotObj_dfa(m2).render('m2')"
      ]
    },
    {
      "cell_type": "code",
      "execution_count": null,
      "metadata": {
        "id": "uuXocgCraGbr"
      },
      "outputs": [],
      "source": [
        "# 3n 0's, n >= 0\n",
        "\n",
        "RE3 = \"(1* 0 1* 0 1* 0 1*)*\"\n",
        "m3 = min_dfa(nfa2dfa(re2nfa(RE3)))\n",
        "dotObj_dfa(m3)"
      ]
    },
    {
      "cell_type": "code",
      "execution_count": null,
      "metadata": {
        "id": "F8dtAPUPaGbs"
      },
      "outputs": [],
      "source": [
        "dotObj_dfa(m3).render('m3')"
      ]
    },
    {
      "cell_type": "code",
      "execution_count": null,
      "metadata": {
        "scrolled": true,
        "id": "TtBQMDqDaGbs"
      },
      "outputs": [],
      "source": [
        "dfa2big = nfa2dfa(re2nfa(RE2))\n",
        "dotObj_dfa(dfa2big)"
      ]
    },
    {
      "cell_type": "code",
      "execution_count": null,
      "metadata": {
        "id": "uZhaBureaGbt"
      },
      "outputs": [],
      "source": [
        "dfa_unmin = md2mc('''\n",
        "\n",
        "DFA\n",
        "IF : 1  ->  St3\n",
        "IF : 0  ->  St4\n",
        "St4: 0  ->  F0\n",
        "St4: 1  ->  St5\n",
        "St3: 0  ->  St4\n",
        "St3: 1  ->  St3\n",
        "F0 : 0  ->  St4\n",
        "F0 : 1  ->  F1\n",
        "St5: 0  ->  F0\n",
        "St5: 1  ->  St5\n",
        "F1 : 0  ->  St4\n",
        "F1 : 1  ->  F1\n",
        "''')"
      ]
    },
    {
      "cell_type": "code",
      "execution_count": null,
      "metadata": {
        "id": "075FXHYBaGbt"
      },
      "outputs": [],
      "source": [
        "dotObj_dfa(dfa_unmin).render('dfa_unmin')"
      ]
    },
    {
      "cell_type": "code",
      "execution_count": null,
      "metadata": {
        "id": "nN02G8GVaGbt"
      },
      "outputs": [],
      "source": [
        "dfa_min = min_dfa(dfa_unmin, state_name_mode = 'verbose', chatty=True)"
      ]
    },
    {
      "cell_type": "code",
      "execution_count": null,
      "metadata": {
        "id": "jYeDe82WaGbu"
      },
      "outputs": [],
      "source": [
        "dfa_unmin_rev = rev_dfa(dfa_unmin)"
      ]
    },
    {
      "cell_type": "code",
      "execution_count": null,
      "metadata": {
        "id": "g9taMin-aGbu"
      },
      "outputs": [],
      "source": [
        "dotObj_nfa(dfa_unmin_rev).render('dfa_unmin_rev')"
      ]
    },
    {
      "cell_type": "code",
      "execution_count": null,
      "metadata": {
        "id": "OIewigv0aGbu"
      },
      "outputs": [],
      "source": [
        "help(nfa2dfa)"
      ]
    },
    {
      "cell_type": "code",
      "execution_count": null,
      "metadata": {
        "id": "tkC-M4xoaGbu"
      },
      "outputs": [],
      "source": [
        "dotObj_nfa(dfa_unmin_rev)"
      ]
    },
    {
      "cell_type": "code",
      "execution_count": null,
      "metadata": {
        "id": "eLz0OY31aGbu"
      },
      "outputs": [],
      "source": [
        "dfa_unmin_rev_det = nfa2dfa(dfa_unmin_rev, STATENAME_MAXSIZE=80)"
      ]
    },
    {
      "cell_type": "code",
      "execution_count": null,
      "metadata": {
        "id": "jTM-Yck0aGbv"
      },
      "outputs": [],
      "source": [
        "dotObj_dfa(dfa_unmin_rev_det, STATENAME_MAXSIZE=80)"
      ]
    },
    {
      "cell_type": "code",
      "execution_count": null,
      "metadata": {
        "id": "3sMnG5T5aGbv"
      },
      "outputs": [],
      "source": [
        "dotObj_dfa(dfa_unmin_rev_det, STATENAME_MAXSIZE=80).render('dfa_unmin_rev_det')"
      ]
    },
    {
      "cell_type": "code",
      "execution_count": null,
      "metadata": {
        "id": "0zhfpvB1aGbv"
      },
      "outputs": [],
      "source": [
        "dotObj_dfa(dfa_min)"
      ]
    },
    {
      "cell_type": "code",
      "execution_count": null,
      "metadata": {
        "id": "tVABLk95aGbv"
      },
      "outputs": [],
      "source": [
        "mEven0_mOdd0 = intersect_dfa(m2,m3)"
      ]
    },
    {
      "cell_type": "code",
      "execution_count": null,
      "metadata": {
        "id": "TDq1srxyaGbv"
      },
      "outputs": [],
      "source": [
        "dotObj_dfa(mEven0_mOdd0)"
      ]
    },
    {
      "cell_type": "code",
      "execution_count": null,
      "metadata": {
        "id": "OWYLdOp1aGbv"
      },
      "outputs": [],
      "source": [
        "dotObj_dfa(mEven0_mOdd0).render('m2_and_m3')"
      ]
    },
    {
      "cell_type": "code",
      "execution_count": null,
      "metadata": {
        "id": "em-SzKJYaGbv"
      },
      "outputs": [],
      "source": [
        "nfa0s1s0 = re2nfa(\"0* 1* 0\")\n",
        "dotObj_nfa(nfa0s1s0)"
      ]
    },
    {
      "cell_type": "code",
      "execution_count": null,
      "metadata": {
        "id": "A1lwIAvoaGbw"
      },
      "outputs": [],
      "source": [
        "dotObj_nfa(nfa0s1s0).render('nfa0s1s0')"
      ]
    },
    {
      "cell_type": "code",
      "execution_count": null,
      "metadata": {
        "id": "SJ9YjNIZaGbw"
      },
      "outputs": [],
      "source": [
        "dfa0s1s0 = nfa2dfa(nfa0s1s0, STATENAME_MAXSIZE=80)"
      ]
    },
    {
      "cell_type": "code",
      "execution_count": null,
      "metadata": {
        "id": "OuTCB-K1aGbw"
      },
      "outputs": [],
      "source": [
        "dotObj_dfa(dfa0s1s0, STATENAME_MAXSIZE=80)"
      ]
    },
    {
      "cell_type": "code",
      "execution_count": null,
      "metadata": {
        "id": "XWrZIQFZaGbw"
      },
      "outputs": [],
      "source": [
        "dotObj_dfa(dfa0s1s0, STATENAME_MAXSIZE=80).render('dfa0s1s0')"
      ]
    },
    {
      "cell_type": "code",
      "execution_count": null,
      "metadata": {
        "id": "ZtPRNFhoaGbw"
      },
      "outputs": [],
      "source": []
    },
    {
      "cell_type": "code",
      "execution_count": null,
      "metadata": {
        "id": "SfoApC0GaGbw"
      },
      "outputs": [],
      "source": []
    },
    {
      "cell_type": "code",
      "execution_count": null,
      "metadata": {
        "id": "SR5GqoOHaGbw"
      },
      "outputs": [],
      "source": [
        "no010 = md2mc('''\n",
        "DFA\n",
        "IF : 1 -> IF\n",
        "IF : 0 -> F0\n",
        "\n",
        "F0 : 0 -> F0\n",
        "F0 : 1 -> F1\n",
        "\n",
        "F1 : 0 -> BH\n",
        "F1 : 1 -> IF\n",
        "\n",
        "BH : 0|1 -> BH\n",
        "\n",
        "''')"
      ]
    },
    {
      "cell_type": "code",
      "execution_count": null,
      "metadata": {
        "id": "K65WBTvxaGbw"
      },
      "outputs": [],
      "source": [
        "dotObj_dfa(no010)"
      ]
    },
    {
      "cell_type": "code",
      "execution_count": null,
      "metadata": {
        "id": "rnjpx4XxaGbx"
      },
      "outputs": [],
      "source": [
        "dotObj_dfa(no010).render('no010')"
      ]
    },
    {
      "cell_type": "markdown",
      "metadata": {
        "id": "5fQJElIGaGbx"
      },
      "source": [
        "# To verify, define has010 and intersect."
      ]
    },
    {
      "cell_type": "code",
      "execution_count": null,
      "metadata": {
        "id": "aOKBeuZVaGby"
      },
      "outputs": [],
      "source": [
        "has010 = min_dfa(nfa2dfa(re2nfa(\"(0+1)*010(010)*\")))"
      ]
    },
    {
      "cell_type": "code",
      "execution_count": null,
      "metadata": {
        "id": "Jeg_Cyk2aGby"
      },
      "outputs": [],
      "source": [
        "dotObj_dfa(has010)"
      ]
    },
    {
      "cell_type": "code",
      "execution_count": null,
      "metadata": {
        "id": "8jSgPx9jaGby"
      },
      "outputs": [],
      "source": [
        "no010_and_has010 = intersect_dfa(no010, has010)"
      ]
    },
    {
      "cell_type": "code",
      "execution_count": null,
      "metadata": {
        "id": "AgpGpEPraGby"
      },
      "outputs": [],
      "source": [
        "dotObj_dfa(no010_and_has010)"
      ]
    },
    {
      "cell_type": "code",
      "execution_count": null,
      "metadata": {
        "id": "LLR-LQM4aGby"
      },
      "outputs": [],
      "source": [
        "dotObj_dfa(no010)"
      ]
    },
    {
      "cell_type": "code",
      "execution_count": null,
      "metadata": {
        "id": "DOhyKXvoaGby"
      },
      "outputs": [],
      "source": [
        "REno010 =   \"1* ( '' + 00* ( '' + 1(11*00*1)* ( '' + 11* ( '' + 00* ))))\""
      ]
    },
    {
      "cell_type": "code",
      "execution_count": null,
      "metadata": {
        "id": "Yns2YKZbaGbz"
      },
      "outputs": [],
      "source": [
        "no010_RE = min_dfa(nfa2dfa(re2nfa(REno010)))"
      ]
    },
    {
      "cell_type": "code",
      "execution_count": null,
      "metadata": {
        "id": "LZc-A2zVaGb3"
      },
      "outputs": [],
      "source": [
        "dotObj_dfa(no010_RE)"
      ]
    },
    {
      "cell_type": "code",
      "execution_count": null,
      "metadata": {
        "id": "BEnavFBgaGb3"
      },
      "outputs": [],
      "source": [
        "nfano010 = dfa2nfa(no010)"
      ]
    },
    {
      "cell_type": "code",
      "execution_count": null,
      "metadata": {
        "id": "PPBGNFZgaGb4"
      },
      "outputs": [],
      "source": [
        "dotObj_nfa(nfano010)"
      ]
    },
    {
      "cell_type": "code",
      "execution_count": null,
      "metadata": {
        "id": "P02WOxkPaGb4"
      },
      "outputs": [],
      "source": [
        "gnfa010 = mk_gnfa(nfano010)"
      ]
    },
    {
      "cell_type": "code",
      "execution_count": null,
      "metadata": {
        "id": "2hdmgTsQaGb4"
      },
      "outputs": [],
      "source": [
        "dotObj_gnfa(gnfa010)"
      ]
    },
    {
      "cell_type": "code",
      "execution_count": null,
      "metadata": {
        "id": "ickG3TqqaGb4"
      },
      "outputs": [],
      "source": [
        "help(del_gnfa_states)"
      ]
    },
    {
      "cell_type": "code",
      "execution_count": null,
      "metadata": {
        "id": "nQ91R3-2aGb4"
      },
      "outputs": [],
      "source": [
        "(GF,DO,RE) = del_gnfa_states(gnfa010)"
      ]
    },
    {
      "cell_type": "code",
      "execution_count": null,
      "metadata": {
        "id": "QPmu_hK0aGb4"
      },
      "outputs": [],
      "source": [
        "RE"
      ]
    },
    {
      "cell_type": "code",
      "execution_count": null,
      "metadata": {
        "scrolled": true,
        "id": "beof2WZpaGb4"
      },
      "outputs": [],
      "source": [
        "DO[0]"
      ]
    },
    {
      "cell_type": "code",
      "execution_count": null,
      "metadata": {
        "id": "a0G0y5q-aGb4"
      },
      "outputs": [],
      "source": [
        "DO[1]"
      ]
    },
    {
      "cell_type": "code",
      "execution_count": null,
      "metadata": {
        "id": "5hk0sFdtaGb5"
      },
      "outputs": [],
      "source": [
        "DO[2]"
      ]
    },
    {
      "cell_type": "code",
      "execution_count": null,
      "metadata": {
        "id": "XVU4FMdhaGb5"
      },
      "outputs": [],
      "source": [
        "DO[3]"
      ]
    },
    {
      "cell_type": "code",
      "execution_count": null,
      "metadata": {
        "id": "hwK9rQAlaGb5"
      },
      "outputs": [],
      "source": []
    }
  ],
  "metadata": {
    "kernelspec": {
      "display_name": "Python 3",
      "language": "python",
      "name": "python3"
    },
    "language_info": {
      "codemirror_mode": {
        "name": "ipython",
        "version": 3
      },
      "file_extension": ".py",
      "mimetype": "text/x-python",
      "name": "python",
      "nbconvert_exporter": "python",
      "pygments_lexer": "ipython3",
      "version": "3.7.3"
    },
    "toc": {
      "colors": {
        "hover_highlight": "#DAA520",
        "running_highlight": "#FF0000",
        "selected_highlight": "#FFD700"
      },
      "moveMenuLeft": true,
      "nav_menu": {
        "height": "318px",
        "width": "252px"
      },
      "navigate_menu": true,
      "number_sections": true,
      "sideBar": true,
      "threshold": 4,
      "toc_cell": false,
      "toc_section_display": "block",
      "toc_window_display": false,
      "widenNotebook": false
    },
    "colab": {
      "provenance": [],
      "include_colab_link": true
    }
  },
  "nbformat": 4,
  "nbformat_minor": 0
}