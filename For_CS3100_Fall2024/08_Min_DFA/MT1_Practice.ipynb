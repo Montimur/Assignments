{
  "cells": [
    {
      "cell_type": "markdown",
      "metadata": {
        "id": "view-in-github",
        "colab_type": "text"
      },
      "source": [
        "<a href=\"https://colab.research.google.com/github/ganeshutah/Jove/blob/master/For_CS3100_Fall2024/08_Min_DFA/MT1_Practice.ipynb\" target=\"_parent\"><img src=\"https://colab.research.google.com/assets/colab-badge.svg\" alt=\"Open In Colab\"/></a>"
      ]
    },
    {
      "cell_type": "code",
      "execution_count": 3,
      "metadata": {
        "run_control": {
          "frozen": false,
          "read_only": false
        },
        "id": "xPwIhPL-aGbn"
      },
      "outputs": [],
      "source": [
        "#~~~~~~~~~~~~~~~~~~~~~~~~~~~~~~~~~~~~~~~~~~~~~~~~~~~~~~~\n",
        "import sys\n",
        "\n",
        "# -- Detect if in Own Install or in Colab\n",
        "try:\n",
        "    import google.colab\n",
        "    OWN_INSTALL = False\n",
        "except:\n",
        "    OWN_INSTALL = True\n",
        "\n",
        "if OWN_INSTALL:\n",
        "\n",
        "  #---- Leave these definitions ON if running on laptop\n",
        "  #---- Else turn OFF by putting them between ''' ... '''\n",
        "\n",
        "  sys.path[0:0] = ['../../../../..',  '../../../../../3rdparty',\n",
        "                   '../../../..',  '../../../../3rdparty',\n",
        "                   '../../..',     '../../../3rdparty',\n",
        "                   '../..',        '../../3rdparty',\n",
        "                   '..',           '../3rdparty' ]\n",
        "\n",
        "else: # In colab\n",
        "  ! if [ ! -d Jove ]; then git clone https://github.com/ganeshutah/Jove Jove; fi\n",
        "  sys.path.append('./Jove')\n",
        "  sys.path.append('./Jove/jove')\n",
        "\n",
        "# -- common imports --\n",
        "from jove.DotBashers import *\n",
        "from jove.Def_md2mc  import *\n",
        "from jove.Def_DFA    import *\n",
        "from jove.Def_NFA    import *\n",
        "from jove.Def_RE2NFA import *\n",
        "from jove.LangDef    import *  # for testing DFA actions using nthnumeric if needed\n",
        "from jove.Def_NFA2RE import *\n",
        "#~~~~~~~~~~~~~~~~~~~~~~~~~~~~~~~~~~~~~~~~~~~~~~~~~~~~~~~"
      ]
    },
    {
      "cell_type": "markdown",
      "source": [
        "### Some material that motivates the need for NFA and Regular Expressions (RE)\n",
        "\n",
        "* Impossibility of concatenating DFA\n",
        "   - You can union, intersect, complement DFA\n",
        "   - You can minimize DFA rather directly\n",
        "\n",
        "* But\n",
        "  - You can't concatenate DFA directly\n",
        "  - Some DFA are guaranteed exponential 😞\n",
        "\n",
        "* So, we introduce NFA and Regular Expressions (RE)\n",
        "  - NFA are the graph-form of the required generalization of DFA\n",
        "  - Every DFA is an NFA\n",
        "  - NFA are more liberal, in that they include four new situations\n",
        "    - They can jump to multiple places on a single symbol\n",
        "    - They can jump to a state via an epsilon transition ('' moves or $\\varepsilon$ moves)\n",
        "    - They need not jump from a state to another state on all symbols\n",
        "       - In fact, they can have perfect dead-end states (in a DFA you may not have them)\n",
        "    - NFA can start from multiple initial states\n",
        "\n",
        "\n",
        "* But\n",
        "  - NFA are pretty gnarly and error-prone\n",
        "     - No reasonable person would design them by hand\n",
        "  - Fortunately, we have a notation called RE (regular expressions)\n",
        "     - They are NOTHING but the language notations you learned about a while ago, except\n",
        "        - They are not in math notation\n",
        "        - Instead they are in nice ASCII text that is computer-readable\n",
        "     - AND\n",
        "        - You put together RE only in three ways\n",
        "          - Union\n",
        "          - Concatenation\n",
        "          - Star\n",
        "        - i.e.\n",
        "          - You don't have intersection\n",
        "          - You don't have complement\n",
        "        - AND STILL\n",
        "          - they can describe all regular languages\n",
        "* Here are some facts\n",
        "  - You cannot directly complement NFA or RegExp\n",
        "  - You can convert NFA to RE\n",
        "  - Conversion of RE to NFA is even easier and more fun and modular\n",
        "  - There is no direct way to minimize NFA (or RE)\n",
        "    - we basically turn them into DFA and then minimize\n",
        "      - But then we may pay the price -- exponential blow-up\n",
        "\n",
        "* FINALLY\n",
        "  - Those large DFA can now be expressed in an exponentially succinct using NFA or RE\n",
        "  - And we can perform the concatenation (missing with DFA)\n",
        "\n",
        "\n",
        "* Let us see all these through examples"
      ],
      "metadata": {
        "id": "MQCnvzr_vYA9"
      }
    },
    {
      "cell_type": "markdown",
      "source": [
        "### Showing why it is hard to concatenate DFA and why they are exponential sometimes\n",
        "\n",
        "  - You can't concatenate DFA directly\n",
        "  - Some DFA are guaranteed exponential 😞"
      ],
      "metadata": {
        "id": "gcu8jbiE-wb_"
      }
    },
    {
      "cell_type": "markdown",
      "source": [
        "#### Here are all the operations we can study and benefit from while building DFA"
      ],
      "metadata": {
        "id": "MtJmEC7mRGCM"
      }
    },
    {
      "cell_type": "markdown",
      "source": [
        "* re2nfa\n",
        "* nfa2dfa\n",
        "* dfa2nfa\n",
        "* min_dfa\n",
        "* rev_dfa\n",
        "* min_dfa_brz\n",
        "* mk_gnfa\n",
        "* del_gnfa_states which is to convert NFA to RE\n",
        "* comp_dfa\n"
      ],
      "metadata": {
        "id": "EcTL-t1cQ5TU"
      }
    },
    {
      "cell_type": "markdown",
      "source": [
        "# ==> Every block of 5 contains at least two 0's <=="
      ],
      "metadata": {
        "id": "qSBXc_InHGBB"
      }
    },
    {
      "cell_type": "code",
      "source": [
        "# This was coded in class"
      ],
      "metadata": {
        "id": "ktEFUyfTQe--"
      },
      "execution_count": 4,
      "outputs": []
    },
    {
      "cell_type": "markdown",
      "source": [
        "# ==> PLEASE LOOK AT THESE ARROWS IN THIS NOTEBOOK for interesting exercises <=="
      ],
      "metadata": {
        "id": "2D2NRa3qHGYS"
      }
    },
    {
      "cell_type": "markdown",
      "source": [
        "--------------------\n"
      ],
      "metadata": {
        "id": "kVWEB2ZORXBQ"
      }
    },
    {
      "cell_type": "code",
      "source": [],
      "metadata": {
        "id": "o1Exqw2IRiow"
      },
      "execution_count": 4,
      "outputs": []
    },
    {
      "cell_type": "code",
      "source": [],
      "metadata": {
        "id": "4_MrGg20RjRH"
      },
      "execution_count": 4,
      "outputs": []
    },
    {
      "cell_type": "markdown",
      "source": [
        "#### We now will go through each of these commands with examples"
      ],
      "metadata": {
        "id": "hSESu_pfRZZc"
      }
    },
    {
      "cell_type": "markdown",
      "source": [
        "----------------\n"
      ],
      "metadata": {
        "id": "3ryHIQUzRhi4"
      }
    },
    {
      "cell_type": "code",
      "source": [
        "# How can we concatenate D1 and D2? Can't put a bridge from D1's final state to D2's initlal state. What will the bridge be labeled by?\n",
        "# I'll use RE to draw DFA quickly... that part will be explained later.\n",
        "# D1's language is \"ab\" and that of D2 is \"cd\"\n",
        "\n",
        "D1 = min_dfa(nfa2dfa(re2nfa(\"ab\")))\n",
        "dotObj_dfa_w_bh(D1,FuseEdges=True)"
      ],
      "metadata": {
        "id": "NRydvkph_UZx",
        "outputId": "831933cb-509e-4965-d2c0-b06d0b238f20",
        "colab": {
          "base_uri": "https://localhost:8080/",
          "height": 225
        }
      },
      "execution_count": 5,
      "outputs": [
        {
          "output_type": "stream",
          "name": "stderr",
          "text": [
            "Generating LALR tables\n"
          ]
        },
        {
          "output_type": "execute_result",
          "data": {
            "image/svg+xml": "<?xml version=\"1.0\" encoding=\"UTF-8\" standalone=\"no\"?>\n<!DOCTYPE svg PUBLIC \"-//W3C//DTD SVG 1.1//EN\"\n \"http://www.w3.org/Graphics/SVG/1.1/DTD/svg11.dtd\">\n<!-- Generated by graphviz version 2.43.0 (0)\n -->\n<!-- Title: %3 Pages: 1 -->\n<svg width=\"463pt\" height=\"140pt\"\n viewBox=\"0.00 0.00 463.18 140.50\" xmlns=\"http://www.w3.org/2000/svg\" xmlns:xlink=\"http://www.w3.org/1999/xlink\">\n<g id=\"graph0\" class=\"graph\" transform=\"scale(1 1) rotate(0) translate(4 136.5)\">\n<title>%3</title>\n<polygon fill=\"white\" stroke=\"transparent\" points=\"-4,4 -4,-136.5 459.18,-136.5 459.18,4 -4,4\"/>\n<!-- EMPTY -->\n<g id=\"node1\" class=\"node\">\n<title>EMPTY</title>\n</g>\n<!-- St1 -->\n<g id=\"node4\" class=\"node\">\n<title>St1</title>\n<ellipse fill=\"none\" stroke=\"black\" cx=\"113.75\" cy=\"-22.75\" rx=\"23\" ry=\"23\"/>\n<text text-anchor=\"middle\" x=\"113.75\" y=\"-19.05\" font-family=\"Times,serif\" font-size=\"14.00\">St1</text>\n</g>\n<!-- EMPTY&#45;&gt;St1 -->\n<g id=\"edge1\" class=\"edge\">\n<title>EMPTY&#45;&gt;St1</title>\n<path fill=\"none\" stroke=\"black\" d=\"M54.35,-22.75C62.71,-22.75 72.05,-22.75 80.76,-22.75\"/>\n<polygon fill=\"black\" stroke=\"black\" points=\"80.97,-26.25 90.97,-22.75 80.97,-19.25 80.97,-26.25\"/>\n</g>\n<!-- St2_St3 -->\n<g id=\"node2\" class=\"node\">\n<title>St2_St3</title>\n<ellipse fill=\"none\" stroke=\"black\" cx=\"220.84\" cy=\"-72.75\" rx=\"38.19\" ry=\"38.19\"/>\n<text text-anchor=\"middle\" x=\"220.84\" y=\"-69.05\" font-family=\"Times,serif\" font-size=\"14.00\">St2_St3</text>\n</g>\n<!-- BH -->\n<g id=\"node3\" class=\"node\">\n<title>BH</title>\n<ellipse fill=\"none\" stroke=\"black\" cx=\"432.43\" cy=\"-61.75\" rx=\"23\" ry=\"23\"/>\n<text text-anchor=\"middle\" x=\"432.43\" y=\"-58.05\" font-family=\"Times,serif\" font-size=\"14.00\">BH</text>\n</g>\n<!-- St2_St3&#45;&gt;BH -->\n<g id=\"edge6\" class=\"edge\">\n<title>St2_St3&#45;&gt;BH</title>\n<path fill=\"none\" stroke=\"black\" d=\"M256.31,-87.33C291.56,-100 347.29,-113.74 391.69,-95.75 397.87,-93.24 403.78,-89.37 409.06,-85.13\"/>\n<polygon fill=\"black\" stroke=\"black\" points=\"411.62,-87.54 416.8,-78.29 406.99,-82.29 411.62,-87.54\"/>\n<text text-anchor=\"middle\" x=\"332.94\" y=\"-107.55\" font-family=\"Times,serif\" font-size=\"14.00\">a </text>\n</g>\n<!-- St4 -->\n<g id=\"node5\" class=\"node\">\n<title>St4</title>\n<ellipse fill=\"none\" stroke=\"black\" cx=\"332.94\" cy=\"-61.75\" rx=\"22.96\" ry=\"22.96\"/>\n<ellipse fill=\"none\" stroke=\"black\" cx=\"332.94\" cy=\"-61.75\" rx=\"27\" ry=\"27\"/>\n<text text-anchor=\"middle\" x=\"332.94\" y=\"-58.05\" font-family=\"Times,serif\" font-size=\"14.00\">St4</text>\n</g>\n<!-- St2_St3&#45;&gt;St4 -->\n<g id=\"edge5\" class=\"edge\">\n<title>St2_St3&#45;&gt;St4</title>\n<path fill=\"none\" stroke=\"black\" d=\"M259.12,-69.02C271.08,-67.83 284.3,-66.51 296.16,-65.32\"/>\n<polygon fill=\"black\" stroke=\"black\" points=\"296.56,-68.8 306.16,-64.32 295.86,-61.84 296.56,-68.8\"/>\n<text text-anchor=\"middle\" x=\"282.69\" y=\"-70.55\" font-family=\"Times,serif\" font-size=\"14.00\">b </text>\n</g>\n<!-- BH&#45;&gt;BH -->\n<g id=\"edge4\" class=\"edge\">\n<title>BH&#45;&gt;BH</title>\n<path fill=\"none\" stroke=\"black\" d=\"M424.02,-83.13C422.98,-93.42 425.78,-102.5 432.43,-102.5 436.69,-102.5 439.37,-98.77 440.48,-93.39\"/>\n<polygon fill=\"black\" stroke=\"black\" points=\"443.99,-93.25 440.85,-83.13 436.99,-93 443.99,-93.25\"/>\n<text text-anchor=\"middle\" x=\"432.43\" y=\"-121.3\" font-family=\"Times,serif\" font-size=\"14.00\">b </text>\n<text text-anchor=\"middle\" x=\"432.43\" y=\"-106.3\" font-family=\"Times,serif\" font-size=\"14.00\"> a </text>\n</g>\n<!-- St1&#45;&gt;St2_St3 -->\n<g id=\"edge3\" class=\"edge\">\n<title>St1&#45;&gt;St2_St3</title>\n<path fill=\"none\" stroke=\"black\" d=\"M134.52,-32.15C146.32,-37.77 161.8,-45.13 176.33,-52.04\"/>\n<polygon fill=\"black\" stroke=\"black\" points=\"175.15,-55.36 185.69,-56.5 178.16,-49.04 175.15,-55.36\"/>\n<text text-anchor=\"middle\" x=\"159.5\" y=\"-50.55\" font-family=\"Times,serif\" font-size=\"14.00\">a </text>\n</g>\n<!-- St1&#45;&gt;BH -->\n<g id=\"edge2\" class=\"edge\">\n<title>St1&#45;&gt;BH</title>\n<path fill=\"none\" stroke=\"black\" d=\"M136.45,-19.8C179.68,-14.62 279.31,-6.19 359.69,-25.75 375.27,-29.54 391.34,-37.2 404.31,-44.48\"/>\n<polygon fill=\"black\" stroke=\"black\" points=\"402.76,-47.62 413.15,-49.65 406.29,-41.58 402.76,-47.62\"/>\n<text text-anchor=\"middle\" x=\"282.69\" y=\"-19.55\" font-family=\"Times,serif\" font-size=\"14.00\">b </text>\n</g>\n<!-- St4&#45;&gt;BH -->\n<g id=\"edge7\" class=\"edge\">\n<title>St4&#45;&gt;BH</title>\n<path fill=\"none\" stroke=\"black\" d=\"M359.81,-61.75C371.88,-61.75 386.38,-61.75 399.17,-61.75\"/>\n<polygon fill=\"black\" stroke=\"black\" points=\"399.41,-65.25 409.41,-61.75 399.41,-58.25 399.41,-65.25\"/>\n<text text-anchor=\"middle\" x=\"384.69\" y=\"-80.55\" font-family=\"Times,serif\" font-size=\"14.00\">b </text>\n<text text-anchor=\"middle\" x=\"384.69\" y=\"-65.55\" font-family=\"Times,serif\" font-size=\"14.00\"> a </text>\n</g>\n</g>\n</svg>\n",
            "text/plain": [
              "<graphviz.graphs.Digraph at 0x7d057e14d870>"
            ]
          },
          "metadata": {},
          "execution_count": 5
        }
      ]
    },
    {
      "cell_type": "code",
      "source": [
        "D2 = min_dfa(nfa2dfa(re2nfa(\"cd\")))\n",
        "dotObj_dfa_w_bh(D2,FuseEdges=True)"
      ],
      "metadata": {
        "id": "U3jCSNTSAdPE",
        "outputId": "0170ed04-63d2-42b9-8e9a-708b882125ec",
        "colab": {
          "base_uri": "https://localhost:8080/",
          "height": 208
        }
      },
      "execution_count": 6,
      "outputs": [
        {
          "output_type": "execute_result",
          "data": {
            "image/svg+xml": "<?xml version=\"1.0\" encoding=\"UTF-8\" standalone=\"no\"?>\n<!DOCTYPE svg PUBLIC \"-//W3C//DTD SVG 1.1//EN\"\n \"http://www.w3.org/Graphics/SVG/1.1/DTD/svg11.dtd\">\n<!-- Generated by graphviz version 2.43.0 (0)\n -->\n<!-- Title: %3 Pages: 1 -->\n<svg width=\"464pt\" height=\"140pt\"\n viewBox=\"0.00 0.00 464.18 140.50\" xmlns=\"http://www.w3.org/2000/svg\" xmlns:xlink=\"http://www.w3.org/1999/xlink\">\n<g id=\"graph0\" class=\"graph\" transform=\"scale(1 1) rotate(0) translate(4 136.5)\">\n<title>%3</title>\n<polygon fill=\"white\" stroke=\"transparent\" points=\"-4,4 -4,-136.5 460.18,-136.5 460.18,4 -4,4\"/>\n<!-- EMPTY -->\n<g id=\"node1\" class=\"node\">\n<title>EMPTY</title>\n</g>\n<!-- St1 -->\n<g id=\"node4\" class=\"node\">\n<title>St1</title>\n<ellipse fill=\"none\" stroke=\"black\" cx=\"113.75\" cy=\"-22.75\" rx=\"23\" ry=\"23\"/>\n<text text-anchor=\"middle\" x=\"113.75\" y=\"-19.05\" font-family=\"Times,serif\" font-size=\"14.00\">St1</text>\n</g>\n<!-- EMPTY&#45;&gt;St1 -->\n<g id=\"edge1\" class=\"edge\">\n<title>EMPTY&#45;&gt;St1</title>\n<path fill=\"none\" stroke=\"black\" d=\"M54.35,-22.75C62.71,-22.75 72.05,-22.75 80.76,-22.75\"/>\n<polygon fill=\"black\" stroke=\"black\" points=\"80.97,-26.25 90.97,-22.75 80.97,-19.25 80.97,-26.25\"/>\n</g>\n<!-- St2_St3 -->\n<g id=\"node2\" class=\"node\">\n<title>St2_St3</title>\n<ellipse fill=\"none\" stroke=\"black\" cx=\"220.84\" cy=\"-72.75\" rx=\"38.19\" ry=\"38.19\"/>\n<text text-anchor=\"middle\" x=\"220.84\" y=\"-69.05\" font-family=\"Times,serif\" font-size=\"14.00\">St2_St3</text>\n</g>\n<!-- BH -->\n<g id=\"node3\" class=\"node\">\n<title>BH</title>\n<ellipse fill=\"none\" stroke=\"black\" cx=\"433.43\" cy=\"-61.75\" rx=\"23\" ry=\"23\"/>\n<text text-anchor=\"middle\" x=\"433.43\" y=\"-58.05\" font-family=\"Times,serif\" font-size=\"14.00\">BH</text>\n</g>\n<!-- St2_St3&#45;&gt;BH -->\n<g id=\"edge4\" class=\"edge\">\n<title>St2_St3&#45;&gt;BH</title>\n<path fill=\"none\" stroke=\"black\" d=\"M256.51,-87.36C291.96,-100.05 348.01,-113.8 392.69,-95.75 398.87,-93.25 404.78,-89.38 410.07,-85.14\"/>\n<polygon fill=\"black\" stroke=\"black\" points=\"412.63,-87.55 417.8,-78.3 407.99,-82.3 412.63,-87.55\"/>\n<text text-anchor=\"middle\" x=\"332.94\" y=\"-107.55\" font-family=\"Times,serif\" font-size=\"14.00\">c </text>\n</g>\n<!-- St4 -->\n<g id=\"node5\" class=\"node\">\n<title>St4</title>\n<ellipse fill=\"none\" stroke=\"black\" cx=\"332.94\" cy=\"-61.75\" rx=\"22.96\" ry=\"22.96\"/>\n<ellipse fill=\"none\" stroke=\"black\" cx=\"332.94\" cy=\"-61.75\" rx=\"27\" ry=\"27\"/>\n<text text-anchor=\"middle\" x=\"332.94\" y=\"-58.05\" font-family=\"Times,serif\" font-size=\"14.00\">St4</text>\n</g>\n<!-- St2_St3&#45;&gt;St4 -->\n<g id=\"edge5\" class=\"edge\">\n<title>St2_St3&#45;&gt;St4</title>\n<path fill=\"none\" stroke=\"black\" d=\"M259.12,-69.02C271.08,-67.83 284.3,-66.51 296.16,-65.32\"/>\n<polygon fill=\"black\" stroke=\"black\" points=\"296.56,-68.8 306.16,-64.32 295.86,-61.84 296.56,-68.8\"/>\n<text text-anchor=\"middle\" x=\"282.69\" y=\"-70.55\" font-family=\"Times,serif\" font-size=\"14.00\">d </text>\n</g>\n<!-- BH&#45;&gt;BH -->\n<g id=\"edge6\" class=\"edge\">\n<title>BH&#45;&gt;BH</title>\n<path fill=\"none\" stroke=\"black\" d=\"M424.65,-83.13C423.57,-93.42 426.5,-102.5 433.43,-102.5 437.88,-102.5 440.68,-98.77 441.83,-93.39\"/>\n<polygon fill=\"black\" stroke=\"black\" points=\"445.34,-93.26 442.21,-83.13 438.34,-92.99 445.34,-93.26\"/>\n<text text-anchor=\"middle\" x=\"433.43\" y=\"-121.3\" font-family=\"Times,serif\" font-size=\"14.00\">c </text>\n<text text-anchor=\"middle\" x=\"433.43\" y=\"-106.3\" font-family=\"Times,serif\" font-size=\"14.00\"> d </text>\n</g>\n<!-- St1&#45;&gt;St2_St3 -->\n<g id=\"edge2\" class=\"edge\">\n<title>St1&#45;&gt;St2_St3</title>\n<path fill=\"none\" stroke=\"black\" d=\"M134.52,-32.15C146.32,-37.77 161.8,-45.13 176.33,-52.04\"/>\n<polygon fill=\"black\" stroke=\"black\" points=\"175.15,-55.36 185.69,-56.5 178.16,-49.04 175.15,-55.36\"/>\n<text text-anchor=\"middle\" x=\"159.5\" y=\"-50.55\" font-family=\"Times,serif\" font-size=\"14.00\">c </text>\n</g>\n<!-- St1&#45;&gt;BH -->\n<g id=\"edge3\" class=\"edge\">\n<title>St1&#45;&gt;BH</title>\n<path fill=\"none\" stroke=\"black\" d=\"M136.44,-19.84C179.66,-14.73 279.26,-6.42 359.69,-25.75 375.45,-29.54 391.74,-37.19 404.9,-44.48\"/>\n<polygon fill=\"black\" stroke=\"black\" points=\"403.46,-47.69 413.88,-49.65 406.96,-41.62 403.46,-47.69\"/>\n<text text-anchor=\"middle\" x=\"282.69\" y=\"-19.55\" font-family=\"Times,serif\" font-size=\"14.00\">d </text>\n</g>\n<!-- St4&#45;&gt;BH -->\n<g id=\"edge7\" class=\"edge\">\n<title>St4&#45;&gt;BH</title>\n<path fill=\"none\" stroke=\"black\" d=\"M359.82,-61.75C372.23,-61.75 387.22,-61.75 400.35,-61.75\"/>\n<polygon fill=\"black\" stroke=\"black\" points=\"400.4,-65.25 410.4,-61.75 400.4,-58.25 400.4,-65.25\"/>\n<text text-anchor=\"middle\" x=\"385.19\" y=\"-80.55\" font-family=\"Times,serif\" font-size=\"14.00\">c </text>\n<text text-anchor=\"middle\" x=\"385.19\" y=\"-65.55\" font-family=\"Times,serif\" font-size=\"14.00\"> d </text>\n</g>\n</g>\n</svg>\n",
            "text/plain": [
              "<graphviz.graphs.Digraph at 0x7d057e14f280>"
            ]
          },
          "metadata": {},
          "execution_count": 6
        }
      ]
    },
    {
      "cell_type": "markdown",
      "source": [
        "### Can't bridge from the first DFA's St4 to the second DFA's initial state (or other things)... there is no direct concatenation approach."
      ],
      "metadata": {
        "id": "LpMUlzZABHgC"
      }
    },
    {
      "cell_type": "code",
      "source": [
        "# Now let's see DFA for \"Nth-last bit is a 1\" grow exponentially large as N increases\n",
        "dotObj_dfa(min_dfa(nfa2dfa(re2nfa(\"(0+1)*1\"))))\n"
      ],
      "metadata": {
        "id": "GXiQG9UHAejd",
        "outputId": "c0b23bc8-3765-4b76-eaab-27c42a88cd3c",
        "colab": {
          "base_uri": "https://localhost:8080/",
          "height": 146
        }
      },
      "execution_count": 7,
      "outputs": [
        {
          "output_type": "execute_result",
          "data": {
            "image/svg+xml": "<?xml version=\"1.0\" encoding=\"UTF-8\" standalone=\"no\"?>\n<!DOCTYPE svg PUBLIC \"-//W3C//DTD SVG 1.1//EN\"\n \"http://www.w3.org/Graphics/SVG/1.1/DTD/svg11.dtd\">\n<!-- Generated by graphviz version 2.43.0 (0)\n -->\n<!-- Title: %3 Pages: 1 -->\n<svg width=\"245pt\" height=\"94pt\"\n viewBox=\"0.00 0.00 244.99 94.50\" xmlns=\"http://www.w3.org/2000/svg\" xmlns:xlink=\"http://www.w3.org/1999/xlink\">\n<g id=\"graph0\" class=\"graph\" transform=\"scale(1 1) rotate(0) translate(4 90.5)\">\n<title>%3</title>\n<polygon fill=\"white\" stroke=\"transparent\" points=\"-4,4 -4,-90.5 240.99,-90.5 240.99,4 -4,4\"/>\n<!-- EMPTY -->\n<g id=\"node1\" class=\"node\">\n<title>EMPTY</title>\n</g>\n<!-- St0 -->\n<g id=\"node2\" class=\"node\">\n<title>St0</title>\n<ellipse fill=\"none\" stroke=\"black\" cx=\"113.75\" cy=\"-26.75\" rx=\"23\" ry=\"23\"/>\n<text text-anchor=\"middle\" x=\"113.75\" y=\"-23.05\" font-family=\"Times,serif\" font-size=\"14.00\">St0</text>\n</g>\n<!-- EMPTY&#45;&gt;St0 -->\n<g id=\"edge1\" class=\"edge\">\n<title>EMPTY&#45;&gt;St0</title>\n<path fill=\"none\" stroke=\"black\" d=\"M54.35,-26.75C62.71,-26.75 72.05,-26.75 80.76,-26.75\"/>\n<polygon fill=\"black\" stroke=\"black\" points=\"80.97,-30.25 90.97,-26.75 80.97,-23.25 80.97,-30.25\"/>\n</g>\n<!-- St0&#45;&gt;St0 -->\n<g id=\"edge3\" class=\"edge\">\n<title>St0&#45;&gt;St0</title>\n<path fill=\"none\" stroke=\"black\" d=\"M106.4,-48.55C105.59,-58.66 108.04,-67.5 113.75,-67.5 117.4,-67.5 119.72,-63.87 120.7,-58.6\"/>\n<polygon fill=\"black\" stroke=\"black\" points=\"124.2,-58.68 121.1,-48.55 117.21,-58.4 124.2,-58.68\"/>\n<text text-anchor=\"middle\" x=\"113.75\" y=\"-71.3\" font-family=\"Times,serif\" font-size=\"14.00\">0 </text>\n</g>\n<!-- St1 -->\n<g id=\"node3\" class=\"node\">\n<title>St1</title>\n<ellipse fill=\"none\" stroke=\"black\" cx=\"210.24\" cy=\"-26.75\" rx=\"22.96\" ry=\"22.96\"/>\n<ellipse fill=\"none\" stroke=\"black\" cx=\"210.24\" cy=\"-26.75\" rx=\"27\" ry=\"27\"/>\n<text text-anchor=\"middle\" x=\"210.24\" y=\"-23.05\" font-family=\"Times,serif\" font-size=\"14.00\">St1</text>\n</g>\n<!-- St0&#45;&gt;St1 -->\n<g id=\"edge2\" class=\"edge\">\n<title>St0&#45;&gt;St1</title>\n<path fill=\"none\" stroke=\"black\" d=\"M136.66,-26.75C147.57,-26.75 161.03,-26.75 173.38,-26.75\"/>\n<polygon fill=\"black\" stroke=\"black\" points=\"173.42,-30.25 183.42,-26.75 173.42,-23.25 173.42,-30.25\"/>\n<text text-anchor=\"middle\" x=\"160\" y=\"-30.55\" font-family=\"Times,serif\" font-size=\"14.00\">1 </text>\n</g>\n<!-- St1&#45;&gt;St0 -->\n<g id=\"edge5\" class=\"edge\">\n<title>St1&#45;&gt;St0</title>\n<path fill=\"none\" stroke=\"black\" d=\"M187.2,-13.11C177.34,-8.58 165.49,-5.26 154.5,-7.75 150.77,-8.59 146.99,-9.83 143.31,-11.28\"/>\n<polygon fill=\"black\" stroke=\"black\" points=\"141.64,-8.19 133.93,-15.46 144.49,-14.58 141.64,-8.19\"/>\n<text text-anchor=\"middle\" x=\"160\" y=\"-11.55\" font-family=\"Times,serif\" font-size=\"14.00\">0 </text>\n</g>\n<!-- St1&#45;&gt;St1 -->\n<g id=\"edge4\" class=\"edge\">\n<title>St1&#45;&gt;St1</title>\n<path fill=\"none\" stroke=\"black\" d=\"M200.95,-52.05C200.31,-62.57 203.41,-71.5 210.24,-71.5 214.73,-71.5 217.61,-67.65 218.87,-62.04\"/>\n<polygon fill=\"black\" stroke=\"black\" points=\"222.37,-62.26 219.54,-52.05 215.38,-61.79 222.37,-62.26\"/>\n<text text-anchor=\"middle\" x=\"210.24\" y=\"-75.3\" font-family=\"Times,serif\" font-size=\"14.00\">1 </text>\n</g>\n</g>\n</svg>\n",
            "text/plain": [
              "<graphviz.graphs.Digraph at 0x7d0562275690>"
            ]
          },
          "metadata": {},
          "execution_count": 7
        }
      ]
    },
    {
      "cell_type": "code",
      "source": [
        "dotObj_dfa(min_dfa(nfa2dfa(re2nfa(\"(0+1)*1(0+1)\"))))"
      ],
      "metadata": {
        "id": "NNkWCPfHBoKB",
        "outputId": "fb32c6a2-ff78-4a2b-de0f-05a47ef18323",
        "colab": {
          "base_uri": "https://localhost:8080/",
          "height": 329
        }
      },
      "execution_count": 8,
      "outputs": [
        {
          "output_type": "execute_result",
          "data": {
            "image/svg+xml": "<?xml version=\"1.0\" encoding=\"UTF-8\" standalone=\"no\"?>\n<!DOCTYPE svg PUBLIC \"-//W3C//DTD SVG 1.1//EN\"\n \"http://www.w3.org/Graphics/SVG/1.1/DTD/svg11.dtd\">\n<!-- Generated by graphviz version 2.43.0 (0)\n -->\n<!-- Title: %3 Pages: 1 -->\n<svg width=\"438pt\" height=\"231pt\"\n viewBox=\"0.00 0.00 437.98 231.50\" xmlns=\"http://www.w3.org/2000/svg\" xmlns:xlink=\"http://www.w3.org/1999/xlink\">\n<g id=\"graph0\" class=\"graph\" transform=\"scale(1 1) rotate(0) translate(4 227.5)\">\n<title>%3</title>\n<polygon fill=\"white\" stroke=\"transparent\" points=\"-4,4 -4,-227.5 433.98,-227.5 433.98,4 -4,4\"/>\n<!-- EMPTY -->\n<g id=\"node1\" class=\"node\">\n<title>EMPTY</title>\n</g>\n<!-- St3 -->\n<g id=\"node2\" class=\"node\">\n<title>St3</title>\n<ellipse fill=\"none\" stroke=\"black\" cx=\"113.75\" cy=\"-22.75\" rx=\"23\" ry=\"23\"/>\n<text text-anchor=\"middle\" x=\"113.75\" y=\"-19.05\" font-family=\"Times,serif\" font-size=\"14.00\">St3</text>\n</g>\n<!-- EMPTY&#45;&gt;St3 -->\n<g id=\"edge1\" class=\"edge\">\n<title>EMPTY&#45;&gt;St3</title>\n<path fill=\"none\" stroke=\"black\" d=\"M54.35,-22.75C62.71,-22.75 72.05,-22.75 80.76,-22.75\"/>\n<polygon fill=\"black\" stroke=\"black\" points=\"80.97,-26.25 90.97,-22.75 80.97,-19.25 80.97,-26.25\"/>\n</g>\n<!-- St3&#45;&gt;St3 -->\n<g id=\"edge3\" class=\"edge\">\n<title>St3&#45;&gt;St3</title>\n<path fill=\"none\" stroke=\"black\" d=\"M106.4,-44.55C105.59,-54.66 108.04,-63.5 113.75,-63.5 117.4,-63.5 119.72,-59.87 120.7,-54.6\"/>\n<polygon fill=\"black\" stroke=\"black\" points=\"124.2,-54.68 121.1,-44.55 117.21,-54.4 124.2,-54.68\"/>\n<text text-anchor=\"middle\" x=\"113.75\" y=\"-67.3\" font-family=\"Times,serif\" font-size=\"14.00\">0 </text>\n</g>\n<!-- St1 -->\n<g id=\"node3\" class=\"node\">\n<title>St1</title>\n<ellipse fill=\"none\" stroke=\"black\" cx=\"206.24\" cy=\"-80.75\" rx=\"23\" ry=\"23\"/>\n<text text-anchor=\"middle\" x=\"206.24\" y=\"-77.05\" font-family=\"Times,serif\" font-size=\"14.00\">St1</text>\n</g>\n<!-- St3&#45;&gt;St1 -->\n<g id=\"edge2\" class=\"edge\">\n<title>St3&#45;&gt;St1</title>\n<path fill=\"none\" stroke=\"black\" d=\"M133.5,-34.77C146.36,-43.01 163.63,-54.08 178.01,-63.29\"/>\n<polygon fill=\"black\" stroke=\"black\" points=\"176.21,-66.3 186.52,-68.75 179.99,-60.4 176.21,-66.3\"/>\n<text text-anchor=\"middle\" x=\"160\" y=\"-58.55\" font-family=\"Times,serif\" font-size=\"14.00\">1 </text>\n</g>\n<!-- St0 -->\n<g id=\"node4\" class=\"node\">\n<title>St0</title>\n<ellipse fill=\"none\" stroke=\"black\" cx=\"302.74\" cy=\"-163.75\" rx=\"22.96\" ry=\"22.96\"/>\n<ellipse fill=\"none\" stroke=\"black\" cx=\"302.74\" cy=\"-163.75\" rx=\"27\" ry=\"27\"/>\n<text text-anchor=\"middle\" x=\"302.74\" y=\"-160.05\" font-family=\"Times,serif\" font-size=\"14.00\">St0</text>\n</g>\n<!-- St1&#45;&gt;St0 -->\n<g id=\"edge4\" class=\"edge\">\n<title>St1&#45;&gt;St0</title>\n<path fill=\"none\" stroke=\"black\" d=\"M223.32,-96.06C230.49,-102.8 239.08,-110.75 246.99,-117.75 255.52,-125.29 264.96,-133.33 273.57,-140.55\"/>\n<polygon fill=\"black\" stroke=\"black\" points=\"271.59,-143.45 281.51,-147.17 276.07,-138.07 271.59,-143.45\"/>\n<text text-anchor=\"middle\" x=\"252.49\" y=\"-129.55\" font-family=\"Times,serif\" font-size=\"14.00\">1 </text>\n</g>\n<!-- St2 -->\n<g id=\"node5\" class=\"node\">\n<title>St2</title>\n<ellipse fill=\"none\" stroke=\"black\" cx=\"403.24\" cy=\"-77.75\" rx=\"22.96\" ry=\"22.96\"/>\n<ellipse fill=\"none\" stroke=\"black\" cx=\"403.24\" cy=\"-77.75\" rx=\"27\" ry=\"27\"/>\n<text text-anchor=\"middle\" x=\"403.24\" y=\"-74.05\" font-family=\"Times,serif\" font-size=\"14.00\">St2</text>\n</g>\n<!-- St1&#45;&gt;St2 -->\n<g id=\"edge5\" class=\"edge\">\n<title>St1&#45;&gt;St2</title>\n<path fill=\"none\" stroke=\"black\" d=\"M229.23,-80.41C262.51,-79.9 326.04,-78.92 366.16,-78.3\"/>\n<polygon fill=\"black\" stroke=\"black\" points=\"366.37,-81.8 376.31,-78.15 366.26,-74.8 366.37,-81.8\"/>\n<text text-anchor=\"middle\" x=\"302.74\" y=\"-82.55\" font-family=\"Times,serif\" font-size=\"14.00\">0 </text>\n</g>\n<!-- St0&#45;&gt;St0 -->\n<g id=\"edge6\" class=\"edge\">\n<title>St0&#45;&gt;St0</title>\n<path fill=\"none\" stroke=\"black\" d=\"M293.45,-189.05C292.81,-199.57 295.9,-208.5 302.74,-208.5 307.23,-208.5 310.1,-204.65 311.37,-199.04\"/>\n<polygon fill=\"black\" stroke=\"black\" points=\"314.86,-199.26 312.03,-189.05 307.88,-198.79 314.86,-199.26\"/>\n<text text-anchor=\"middle\" x=\"302.74\" y=\"-212.3\" font-family=\"Times,serif\" font-size=\"14.00\">1 </text>\n</g>\n<!-- St0&#45;&gt;St2 -->\n<g id=\"edge7\" class=\"edge\">\n<title>St0&#45;&gt;St2</title>\n<path fill=\"none\" stroke=\"black\" d=\"M323.93,-147.12C334.34,-138.47 347.19,-127.65 358.49,-117.75 363.9,-113.01 369.61,-107.88 375.06,-102.92\"/>\n<polygon fill=\"black\" stroke=\"black\" points=\"377.78,-105.18 382.79,-95.85 373.05,-100.01 377.78,-105.18\"/>\n<text text-anchor=\"middle\" x=\"352.99\" y=\"-129.55\" font-family=\"Times,serif\" font-size=\"14.00\">0 </text>\n</g>\n<!-- St2&#45;&gt;St3 -->\n<g id=\"edge9\" class=\"edge\">\n<title>St2&#45;&gt;St3</title>\n<path fill=\"none\" stroke=\"black\" d=\"M379.06,-65.81C372.54,-62.82 365.35,-59.87 358.49,-57.75 284.98,-35.03 194.35,-26.95 147.02,-24.16\"/>\n<polygon fill=\"black\" stroke=\"black\" points=\"146.95,-20.65 136.77,-23.6 146.56,-27.64 146.95,-20.65\"/>\n<text text-anchor=\"middle\" x=\"252.49\" y=\"-39.55\" font-family=\"Times,serif\" font-size=\"14.00\">0 </text>\n</g>\n<!-- St2&#45;&gt;St1 -->\n<g id=\"edge8\" class=\"edge\">\n<title>St2&#45;&gt;St1</title>\n<path fill=\"none\" stroke=\"black\" d=\"M377.6,-70.07C363.64,-66.12 345.76,-61.73 329.49,-59.75 305.89,-56.87 299.51,-56.24 275.99,-59.75 262.97,-61.69 249.01,-65.6 237.1,-69.52\"/>\n<polygon fill=\"black\" stroke=\"black\" points=\"235.95,-66.21 227.63,-72.78 238.23,-72.83 235.95,-66.21\"/>\n<text text-anchor=\"middle\" x=\"302.74\" y=\"-63.55\" font-family=\"Times,serif\" font-size=\"14.00\">1 </text>\n</g>\n</g>\n</svg>\n",
            "text/plain": [
              "<graphviz.graphs.Digraph at 0x7d0562275090>"
            ]
          },
          "metadata": {},
          "execution_count": 8
        }
      ]
    },
    {
      "cell_type": "code",
      "source": [
        "dotObj_dfa(min_dfa(nfa2dfa(re2nfa(\"(0+1)*1(0+1)(0+1)\"))))"
      ],
      "metadata": {
        "id": "nWX4puqlBtOl",
        "outputId": "837fbaf0-153e-44fe-ed3a-ca00f2ab8cf7",
        "colab": {
          "base_uri": "https://localhost:8080/",
          "height": 430
        }
      },
      "execution_count": 9,
      "outputs": [
        {
          "output_type": "execute_result",
          "data": {
            "image/svg+xml": "<?xml version=\"1.0\" encoding=\"UTF-8\" standalone=\"no\"?>\n<!DOCTYPE svg PUBLIC \"-//W3C//DTD SVG 1.1//EN\"\n \"http://www.w3.org/Graphics/SVG/1.1/DTD/svg11.dtd\">\n<!-- Generated by graphviz version 2.43.0 (0)\n -->\n<!-- Title: %3 Pages: 1 -->\n<svg width=\"824pt\" height=\"292pt\"\n viewBox=\"0.00 0.00 823.97 291.75\" xmlns=\"http://www.w3.org/2000/svg\" xmlns:xlink=\"http://www.w3.org/1999/xlink\">\n<g id=\"graph0\" class=\"graph\" transform=\"scale(1 1) rotate(0) translate(4 287.75)\">\n<title>%3</title>\n<polygon fill=\"white\" stroke=\"transparent\" points=\"-4,4 -4,-287.75 819.97,-287.75 819.97,4 -4,4\"/>\n<!-- EMPTY -->\n<g id=\"node1\" class=\"node\">\n<title>EMPTY</title>\n</g>\n<!-- St8 -->\n<g id=\"node2\" class=\"node\">\n<title>St8</title>\n<ellipse fill=\"none\" stroke=\"black\" cx=\"113.75\" cy=\"-22.75\" rx=\"23\" ry=\"23\"/>\n<text text-anchor=\"middle\" x=\"113.75\" y=\"-19.05\" font-family=\"Times,serif\" font-size=\"14.00\">St8</text>\n</g>\n<!-- EMPTY&#45;&gt;St8 -->\n<g id=\"edge1\" class=\"edge\">\n<title>EMPTY&#45;&gt;St8</title>\n<path fill=\"none\" stroke=\"black\" d=\"M54.35,-22.75C62.71,-22.75 72.05,-22.75 80.76,-22.75\"/>\n<polygon fill=\"black\" stroke=\"black\" points=\"80.97,-26.25 90.97,-22.75 80.97,-19.25 80.97,-26.25\"/>\n</g>\n<!-- St8&#45;&gt;St8 -->\n<g id=\"edge3\" class=\"edge\">\n<title>St8&#45;&gt;St8</title>\n<path fill=\"none\" stroke=\"black\" d=\"M106.4,-44.55C105.59,-54.66 108.04,-63.5 113.75,-63.5 117.4,-63.5 119.72,-59.87 120.7,-54.6\"/>\n<polygon fill=\"black\" stroke=\"black\" points=\"124.2,-54.68 121.1,-44.55 117.21,-54.4 124.2,-54.68\"/>\n<text text-anchor=\"middle\" x=\"113.75\" y=\"-67.3\" font-family=\"Times,serif\" font-size=\"14.00\">0 </text>\n</g>\n<!-- St3 -->\n<g id=\"node3\" class=\"node\">\n<title>St3</title>\n<ellipse fill=\"none\" stroke=\"black\" cx=\"206.24\" cy=\"-92.75\" rx=\"23\" ry=\"23\"/>\n<text text-anchor=\"middle\" x=\"206.24\" y=\"-89.05\" font-family=\"Times,serif\" font-size=\"14.00\">St3</text>\n</g>\n<!-- St8&#45;&gt;St3 -->\n<g id=\"edge2\" class=\"edge\">\n<title>St8&#45;&gt;St3</title>\n<path fill=\"none\" stroke=\"black\" d=\"M132.2,-36.24C145.72,-46.7 164.65,-61.34 179.85,-73.1\"/>\n<polygon fill=\"black\" stroke=\"black\" points=\"177.8,-75.94 187.85,-79.29 182.08,-70.41 177.8,-75.94\"/>\n<text text-anchor=\"middle\" x=\"160\" y=\"-66.55\" font-family=\"Times,serif\" font-size=\"14.00\">1 </text>\n</g>\n<!-- St5 -->\n<g id=\"node4\" class=\"node\">\n<title>St5</title>\n<ellipse fill=\"none\" stroke=\"black\" cx=\"298.74\" cy=\"-119.75\" rx=\"23\" ry=\"23\"/>\n<text text-anchor=\"middle\" x=\"298.74\" y=\"-116.05\" font-family=\"Times,serif\" font-size=\"14.00\">St5</text>\n</g>\n<!-- St3&#45;&gt;St5 -->\n<g id=\"edge5\" class=\"edge\">\n<title>St3&#45;&gt;St5</title>\n<path fill=\"none\" stroke=\"black\" d=\"M228.23,-99.01C239.69,-102.43 254.08,-106.72 266.8,-110.52\"/>\n<polygon fill=\"black\" stroke=\"black\" points=\"265.97,-113.92 276.55,-113.43 267.97,-107.21 265.97,-113.92\"/>\n<text text-anchor=\"middle\" x=\"252.49\" y=\"-112.55\" font-family=\"Times,serif\" font-size=\"14.00\">0 </text>\n</g>\n<!-- St1 -->\n<g id=\"node5\" class=\"node\">\n<title>St1</title>\n<ellipse fill=\"none\" stroke=\"black\" cx=\"491.73\" cy=\"-202.75\" rx=\"23\" ry=\"23\"/>\n<text text-anchor=\"middle\" x=\"491.73\" y=\"-199.05\" font-family=\"Times,serif\" font-size=\"14.00\">St1</text>\n</g>\n<!-- St3&#45;&gt;St1 -->\n<g id=\"edge4\" class=\"edge\">\n<title>St3&#45;&gt;St1</title>\n<path fill=\"none\" stroke=\"black\" d=\"M222.62,-108.88C235.77,-121.92 255.73,-139.97 275.99,-151.75 313.99,-173.84 325.86,-176.05 368.49,-186.75 398.64,-194.32 433.93,-198.45 458.82,-200.61\"/>\n<polygon fill=\"black\" stroke=\"black\" points=\"458.56,-204.1 468.81,-201.41 459.12,-197.12 458.56,-204.1\"/>\n<text text-anchor=\"middle\" x=\"344.99\" y=\"-185.55\" font-family=\"Times,serif\" font-size=\"14.00\">1 </text>\n</g>\n<!-- St2 -->\n<g id=\"node7\" class=\"node\">\n<title>St2</title>\n<ellipse fill=\"none\" stroke=\"black\" cx=\"395.24\" cy=\"-150.75\" rx=\"22.96\" ry=\"22.96\"/>\n<ellipse fill=\"none\" stroke=\"black\" cx=\"395.24\" cy=\"-150.75\" rx=\"27\" ry=\"27\"/>\n<text text-anchor=\"middle\" x=\"395.24\" y=\"-147.05\" font-family=\"Times,serif\" font-size=\"14.00\">St2</text>\n</g>\n<!-- St5&#45;&gt;St2 -->\n<g id=\"edge8\" class=\"edge\">\n<title>St5&#45;&gt;St2</title>\n<path fill=\"none\" stroke=\"black\" d=\"M321.53,-122.8C330.62,-124.39 341.2,-126.66 350.49,-129.75 354.25,-131 358.1,-132.5 361.89,-134.11\"/>\n<polygon fill=\"black\" stroke=\"black\" points=\"360.53,-137.34 371.08,-138.29 363.42,-130.97 360.53,-137.34\"/>\n<text text-anchor=\"middle\" x=\"344.99\" y=\"-133.55\" font-family=\"Times,serif\" font-size=\"14.00\">1 </text>\n</g>\n<!-- St6 -->\n<g id=\"node9\" class=\"node\">\n<title>St6</title>\n<ellipse fill=\"none\" stroke=\"black\" cx=\"789.22\" cy=\"-73.75\" rx=\"22.96\" ry=\"22.96\"/>\n<ellipse fill=\"none\" stroke=\"black\" cx=\"789.22\" cy=\"-73.75\" rx=\"27\" ry=\"27\"/>\n<text text-anchor=\"middle\" x=\"789.22\" y=\"-70.05\" font-family=\"Times,serif\" font-size=\"14.00\">St6</text>\n</g>\n<!-- St5&#45;&gt;St6 -->\n<g id=\"edge9\" class=\"edge\">\n<title>St5&#45;&gt;St6</title>\n<path fill=\"none\" stroke=\"black\" d=\"M320.01,-111.49C338.89,-104.55 368,-95.75 394.24,-95.75 394.24,-95.75 394.24,-95.75 689.72,-95.75 711.56,-95.75 735.47,-90.54 754.27,-85.19\"/>\n<polygon fill=\"black\" stroke=\"black\" points=\"755.29,-88.53 763.86,-82.32 753.28,-81.83 755.29,-88.53\"/>\n<text text-anchor=\"middle\" x=\"537.98\" y=\"-99.55\" font-family=\"Times,serif\" font-size=\"14.00\">0 </text>\n</g>\n<!-- St0 -->\n<g id=\"node6\" class=\"node\">\n<title>St0</title>\n<ellipse fill=\"none\" stroke=\"black\" cx=\"588.23\" cy=\"-192.75\" rx=\"22.96\" ry=\"22.96\"/>\n<ellipse fill=\"none\" stroke=\"black\" cx=\"588.23\" cy=\"-192.75\" rx=\"27\" ry=\"27\"/>\n<text text-anchor=\"middle\" x=\"588.23\" y=\"-189.05\" font-family=\"Times,serif\" font-size=\"14.00\">St0</text>\n</g>\n<!-- St1&#45;&gt;St0 -->\n<g id=\"edge6\" class=\"edge\">\n<title>St1&#45;&gt;St0</title>\n<path fill=\"none\" stroke=\"black\" d=\"M514.65,-200.43C525.55,-199.27 539.01,-197.85 551.37,-196.54\"/>\n<polygon fill=\"black\" stroke=\"black\" points=\"551.83,-200.01 561.41,-195.48 551.09,-193.05 551.83,-200.01\"/>\n<text text-anchor=\"middle\" x=\"537.98\" y=\"-201.55\" font-family=\"Times,serif\" font-size=\"14.00\">1 </text>\n</g>\n<!-- St4 -->\n<g id=\"node8\" class=\"node\">\n<title>St4</title>\n<ellipse fill=\"none\" stroke=\"black\" cx=\"688.72\" cy=\"-168.75\" rx=\"22.96\" ry=\"22.96\"/>\n<ellipse fill=\"none\" stroke=\"black\" cx=\"688.72\" cy=\"-168.75\" rx=\"27\" ry=\"27\"/>\n<text text-anchor=\"middle\" x=\"688.72\" y=\"-165.05\" font-family=\"Times,serif\" font-size=\"14.00\">St4</text>\n</g>\n<!-- St1&#45;&gt;St4 -->\n<g id=\"edge7\" class=\"edge\">\n<title>St1&#45;&gt;St4</title>\n<path fill=\"none\" stroke=\"black\" d=\"M506.7,-220.22C519.29,-234.46 539.21,-253.5 561.48,-261.75 583.78,-270 593.6,-272.16 614.98,-261.75 640.45,-249.33 659.63,-223.2 671.88,-201.79\"/>\n<polygon fill=\"black\" stroke=\"black\" points=\"674.98,-203.42 676.7,-192.96 668.84,-200.06 674.98,-203.42\"/>\n<text text-anchor=\"middle\" x=\"588.23\" y=\"-272.55\" font-family=\"Times,serif\" font-size=\"14.00\">0 </text>\n</g>\n<!-- St0&#45;&gt;St0 -->\n<g id=\"edge10\" class=\"edge\">\n<title>St0&#45;&gt;St0</title>\n<path fill=\"none\" stroke=\"black\" d=\"M578.94,-218.05C578.29,-228.57 581.39,-237.5 588.23,-237.5 592.71,-237.5 595.59,-233.65 596.86,-228.04\"/>\n<polygon fill=\"black\" stroke=\"black\" points=\"600.35,-228.26 597.52,-218.05 593.36,-227.79 600.35,-228.26\"/>\n<text text-anchor=\"middle\" x=\"588.23\" y=\"-241.3\" font-family=\"Times,serif\" font-size=\"14.00\">1 </text>\n</g>\n<!-- St0&#45;&gt;St4 -->\n<g id=\"edge11\" class=\"edge\">\n<title>St0&#45;&gt;St4</title>\n<path fill=\"none\" stroke=\"black\" d=\"M614.34,-186.63C626.03,-183.78 640.14,-180.34 652.84,-177.25\"/>\n<polygon fill=\"black\" stroke=\"black\" points=\"653.77,-180.62 662.66,-174.86 652.12,-173.82 653.77,-180.62\"/>\n<text text-anchor=\"middle\" x=\"638.48\" y=\"-184.55\" font-family=\"Times,serif\" font-size=\"14.00\">0 </text>\n</g>\n<!-- St2&#45;&gt;St5 -->\n<g id=\"edge15\" class=\"edge\">\n<title>St2&#45;&gt;St5</title>\n<path fill=\"none\" stroke=\"black\" d=\"M368.36,-150.31C359.05,-149.53 348.61,-147.93 339.49,-144.75 335.04,-143.2 330.57,-141.07 326.32,-138.71\"/>\n<polygon fill=\"black\" stroke=\"black\" points=\"327.81,-135.52 317.46,-133.3 324.16,-141.5 327.81,-135.52\"/>\n<text text-anchor=\"middle\" x=\"344.99\" y=\"-150.55\" font-family=\"Times,serif\" font-size=\"14.00\">0 </text>\n</g>\n<!-- St2&#45;&gt;St1 -->\n<g id=\"edge14\" class=\"edge\">\n<title>St2&#45;&gt;St1</title>\n<path fill=\"none\" stroke=\"black\" d=\"M420.04,-161.19C429.78,-165.69 441.07,-171.19 450.98,-176.75 455.25,-179.14 459.68,-181.83 463.96,-184.54\"/>\n<polygon fill=\"black\" stroke=\"black\" points=\"462.16,-187.54 472.45,-190.05 465.97,-181.66 462.16,-187.54\"/>\n<text text-anchor=\"middle\" x=\"445.48\" y=\"-180.55\" font-family=\"Times,serif\" font-size=\"14.00\">1 </text>\n</g>\n<!-- St4&#45;&gt;St2 -->\n<g id=\"edge12\" class=\"edge\">\n<title>St4&#45;&gt;St2</title>\n<path fill=\"none\" stroke=\"black\" d=\"M662.25,-163.67C648.34,-161.12 630.78,-158.26 614.98,-156.75 550.87,-150.61 475.75,-149.97 432.31,-150.24\"/>\n<polygon fill=\"black\" stroke=\"black\" points=\"432.2,-146.74 422.23,-150.32 432.26,-153.74 432.2,-146.74\"/>\n<text text-anchor=\"middle\" x=\"537.98\" y=\"-155.55\" font-family=\"Times,serif\" font-size=\"14.00\">1 </text>\n</g>\n<!-- St4&#45;&gt;St6 -->\n<g id=\"edge13\" class=\"edge\">\n<title>St4&#45;&gt;St6</title>\n<path fill=\"none\" stroke=\"black\" d=\"M708.71,-150.43C723.84,-135.84 745.18,-115.26 761.95,-99.09\"/>\n<polygon fill=\"black\" stroke=\"black\" points=\"764.52,-101.47 769.29,-92.01 759.66,-96.43 764.52,-101.47\"/>\n<text text-anchor=\"middle\" x=\"738.97\" y=\"-127.55\" font-family=\"Times,serif\" font-size=\"14.00\">0 </text>\n</g>\n<!-- St6&#45;&gt;St8 -->\n<g id=\"edge17\" class=\"edge\">\n<title>St6&#45;&gt;St8</title>\n<path fill=\"none\" stroke=\"black\" d=\"M771.68,-53.28C753.77,-33.58 723.23,-6.75 689.72,-6.75 205.24,-6.75 205.24,-6.75 205.24,-6.75 185.29,-6.75 163.24,-10.57 145.9,-14.47\"/>\n<polygon fill=\"black\" stroke=\"black\" points=\"144.69,-11.16 135.77,-16.88 146.31,-17.97 144.69,-11.16\"/>\n<text text-anchor=\"middle\" x=\"445.48\" y=\"-10.55\" font-family=\"Times,serif\" font-size=\"14.00\">0 </text>\n</g>\n<!-- St6&#45;&gt;St3 -->\n<g id=\"edge16\" class=\"edge\">\n<title>St6&#45;&gt;St3</title>\n<path fill=\"none\" stroke=\"black\" d=\"M763.43,-65.45C743.7,-59.58 715.25,-52.75 689.72,-52.75 297.74,-52.75 297.74,-52.75 297.74,-52.75 274.63,-52.75 250.81,-63.8 233.42,-74.28\"/>\n<polygon fill=\"black\" stroke=\"black\" points=\"231.52,-71.34 224.94,-79.65 235.26,-77.25 231.52,-71.34\"/>\n<text text-anchor=\"middle\" x=\"491.73\" y=\"-56.55\" font-family=\"Times,serif\" font-size=\"14.00\">1 </text>\n</g>\n</g>\n</svg>\n",
            "text/plain": [
              "<graphviz.graphs.Digraph at 0x7d057eef04c0>"
            ]
          },
          "metadata": {},
          "execution_count": 9
        }
      ]
    },
    {
      "cell_type": "markdown",
      "source": [
        "### It is getting larger; so let's check how the number of states grow."
      ],
      "metadata": {
        "id": "9rooPbL0CWf_"
      }
    },
    {
      "cell_type": "code",
      "source": [
        "min_dfa(nfa2dfa(re2nfa(\"(0+1)*1\")))"
      ],
      "metadata": {
        "id": "F_guCh7UAuGb",
        "outputId": "2a332119-3e43-4135-a963-b8702bd21373",
        "colab": {
          "base_uri": "https://localhost:8080/"
        }
      },
      "execution_count": 10,
      "outputs": [
        {
          "output_type": "execute_result",
          "data": {
            "text/plain": [
              "{'Q': {'St0', 'St1'},\n",
              " 'Sigma': {'0', '1'},\n",
              " 'Delta': {('St0', '1'): 'St1',\n",
              "  ('St0', '0'): 'St0',\n",
              "  ('St1', '1'): 'St1',\n",
              "  ('St1', '0'): 'St0'},\n",
              " 'q0': 'St0',\n",
              " 'F': {'St1'}}"
            ]
          },
          "metadata": {},
          "execution_count": 10
        }
      ]
    },
    {
      "cell_type": "code",
      "source": [
        "# So, to determine the number of states, index-out the Python dictionary at \"Q\"\n",
        "len(min_dfa(nfa2dfa(re2nfa(\"(0+1)*1\")))[\"Q\"])"
      ],
      "metadata": {
        "id": "UDFNBJMzCeoK",
        "outputId": "79c3f8e6-d4cb-4d07-848e-292061f33eaf",
        "colab": {
          "base_uri": "https://localhost:8080/"
        }
      },
      "execution_count": 11,
      "outputs": [
        {
          "output_type": "execute_result",
          "data": {
            "text/plain": [
              "2"
            ]
          },
          "metadata": {},
          "execution_count": 11
        }
      ]
    },
    {
      "cell_type": "code",
      "source": [
        "len(min_dfa(nfa2dfa(re2nfa(\"(0+1)*1(0+1)\")))[\"Q\"])"
      ],
      "metadata": {
        "id": "IZ8IIct3CyNo",
        "outputId": "e37da6e0-d910-43c2-db1a-b21ad2f58b13",
        "colab": {
          "base_uri": "https://localhost:8080/"
        }
      },
      "execution_count": 12,
      "outputs": [
        {
          "output_type": "execute_result",
          "data": {
            "text/plain": [
              "4"
            ]
          },
          "metadata": {},
          "execution_count": 12
        }
      ]
    },
    {
      "cell_type": "code",
      "source": [
        "len(min_dfa(nfa2dfa(re2nfa(\"(0+1)*1(0+1)(0+1)\")))[\"Q\"])"
      ],
      "metadata": {
        "id": "fwOgS6vEC1sw",
        "outputId": "bb3468d1-eba7-44c9-e2a7-5b43de0181b0",
        "colab": {
          "base_uri": "https://localhost:8080/"
        }
      },
      "execution_count": 13,
      "outputs": [
        {
          "output_type": "execute_result",
          "data": {
            "text/plain": [
              "8"
            ]
          },
          "metadata": {},
          "execution_count": 13
        }
      ]
    },
    {
      "cell_type": "code",
      "source": [
        "len(min_dfa(nfa2dfa(re2nfa(\"(0+1)*1(0+1)(0+1)(0+1)\")))[\"Q\"])"
      ],
      "metadata": {
        "id": "iKNke_CwC6GN",
        "outputId": "bb174f6b-c770-4413-83db-e7c1eec36b40",
        "colab": {
          "base_uri": "https://localhost:8080/"
        }
      },
      "execution_count": 14,
      "outputs": [
        {
          "output_type": "execute_result",
          "data": {
            "text/plain": [
              "16"
            ]
          },
          "metadata": {},
          "execution_count": 14
        }
      ]
    },
    {
      "cell_type": "code",
      "source": [
        "len(min_dfa(nfa2dfa(re2nfa(\"(0+1)*1(0+1)(0+1)(0+1)(0+1)\")))[\"Q\"])"
      ],
      "metadata": {
        "id": "wphskiVNDH2h",
        "outputId": "584e16fb-df94-4642-a40a-a0f43086c64a",
        "colab": {
          "base_uri": "https://localhost:8080/"
        }
      },
      "execution_count": 15,
      "outputs": [
        {
          "output_type": "execute_result",
          "data": {
            "text/plain": [
              "32"
            ]
          },
          "metadata": {},
          "execution_count": 15
        }
      ]
    },
    {
      "cell_type": "markdown",
      "source": [
        "#### OK, we see that\n",
        "* The RE grows only by a length of five symbols, i.e. (0+1) and in the long run, it is a linear growth\n",
        "* The generated DFA grows exponentially (exp number of states w.r.t. N)\n",
        "\n",
        "### You may say what about the NFA?\n",
        "* Well, we will show you what NFA are in a minute.\n",
        "* But we will assure you (and soon show you) that the NFA will grow only by the number of states it takes to represent (0+1) and that will also be a fixed (small) number.\n",
        "\n"
      ],
      "metadata": {
        "id": "PEh32fzmz5OD"
      }
    },
    {
      "cell_type": "markdown",
      "source": [
        "### **Here is a way to see various machines and play with them using the Jove Editor**"
      ],
      "metadata": {
        "id": "4aF2up7_crsR"
      }
    },
    {
      "cell_type": "markdown",
      "source": [
        "* Let's build many NFA using this Jove editor and animate\n",
        "* The NFA to be built are these\n",
        "  - NFA1  that moves to two states, i.e. I : a -> A, F\n",
        "  - *IMMEDIATELY* notice that the DFA complementation algorithm does not work for NFA --- in fact there is no direct way to complement NFA\n",
        "  - NFA2 that moves as follows : I : '' -> F\n",
        "  - NFA3 that moves as follows\n",
        "     - I1 : '' -> A\n",
        "     - I2 : a -> F\n",
        "  - NFA4 that moves as follows\n",
        "     - I1 : a -> F1\n",
        "     - I2 : b -> F2\n",
        "\n",
        "* The language of an NFA\n",
        "  - The language of an NFA is any string that takes the NFA from *some* starting state through a path (that may contain epsilon) to some final state\n"
      ],
      "metadata": {
        "id": "2fKtrW6sc3U2"
      }
    },
    {
      "cell_type": "code",
      "source": [
        "from jove.JoveEditor import *\n",
        "JoveEditor(examples=True)\n",
        "display(HTML('<link rel=\"stylesheet\" href=\"//stackpath.bootstrapcdn.com/font-awesome/4.7.0/css/font-awesome.min.css\"/>'))"
      ],
      "metadata": {
        "id": "e4FEJe1bcqZK",
        "outputId": "08817605-a446-48ea-e86f-a78e0df83dbf",
        "colab": {
          "base_uri": "https://localhost:8080/",
          "height": 685,
          "referenced_widgets": [
            "ae277def2b7b423985cfaa0f98af077c",
            "099c131fb89f496091c43a640d98cf40",
            "f0ba6982ba6e4bffb46acbe8a188067f",
            "d45ed6445021430296f1a3a41bd6edd3",
            "f6180f635be5408fb74a825cb6c02eac",
            "42066352f99b4388aec834d5eafbeaa7",
            "79e33f90194d4215a7ea8db9bfbe8f9d",
            "4855ce58eae74ff4ac5a2767734aa712",
            "ce7c7745d2574f689866a8a51e72cca8",
            "c8a26284059c4585acbc96262dc032b5",
            "62681064768b481fbbb857030d9dabea",
            "272aa51f3a504f8289901fbbfcd679f1",
            "7239c08ba990497782aba09470489e0a",
            "0861325ab6df479f800062490b5fc16b",
            "71c8930caa3b462db3694934ff58ffa8",
            "fb4ce9c0a9e546a9983e33ea806b697e",
            "2d7a866a01fa4199aa2abecd45f368eb",
            "f533e6c0e7254eeea622d0c4a17d8c82",
            "0f84919271db483ab2d3fdcacd018d46",
            "5efc5d0c625946e1bb63ffe1f228d58a",
            "6852359ec3f74e0ba053485d4e107f44",
            "cd3a416076174bb8a1a6c0f961c8c400",
            "14104191908d416894ac35d8b029f712",
            "61a12275df0f44f79a07c5d58acedbcb",
            "c3e607625dd04509b223a64abcfd3f1f",
            "c418db3693bd47519fc4a9d4fd09cdf5",
            "50ca5f21fa2147a98a22a5e361830f6c",
            "43ef46719b3541bab704f9898795c1ce",
            "7efc0d9205d8483aaa5f8f8d92152ced",
            "034cff0346144a41a0be75d25eba75b5",
            "b530c0de84114800b813f6793bc46100",
            "3be5bb4c39c7424387e66628890323d0",
            "c7a4ed21f69945a6b602f174998dd12a",
            "cbb873395d884dbfb6d9baedb3b86a24",
            "29e953e891e34162bf914d810d4d1fd2",
            "43dc32ec4fb44e7f8d33d61b9e7a2123",
            "a06b9c4fab814e3ab6a2f706ea5b9706",
            "2cb13b95da4349d59f233f850cc1ac4e",
            "276fc117bafa4d22967d8a95d8816c08",
            "d2e15218bd8d4bd3a6dea4709a1daf18",
            "4b11d476322b410599429e4bcd1f288d",
            "4e09a75ef2d4449a9d82dd80e549758e",
            "457ad8c90d194d808967812a928104c7",
            "90e9541623ce4351bd8b69a2f8ef2477",
            "9242be3139a54bd18e15562a809dbfda",
            "03e5b09b69ae45f4bf4f8d72f5e6db5c",
            "42e7ad9c081045b7b707293139b0b621",
            "88a9212ac3f243f7893fc63c39a32832",
            "874f95fbf5284c4b84cfa3d31eb0b4c2",
            "569f2d64b06a48f9ae3c5ae946d89757",
            "78a8e3a7103f4d79a66d9e27faae5194",
            "c7cf3d62280f4369891c5f4a9a1b786a",
            "1d3fafcaa25f4be59a9c72dc5f1c59db",
            "5984253f38544f88a651ca8e893ed31c",
            "4ffc0dec65324d76865304f4ee63e2a8",
            "71a0cc41ffd64573972798c62f2dfbdc",
            "6b9bc56decda49a6a4608c1c3871708e",
            "ae28132ae10e4907b8ed24314c643899",
            "788d7bbe7a344687bfd132f3cbcadd20",
            "3fa7462290f44f7190ef8a1a4ce4a96f",
            "317a8d091f8a4111b50215e5aaf5ae0e",
            "5b0bb31f10834570820a83ee163ef0a3",
            "a77e518607ce420a8f7810cb9d1c5ae7",
            "3f0f4f6e0c464818a355a67f113334fb",
            "bee4bf679f1e4bde894e805309da46aa",
            "73aec06940da44d0bddf1c8ccfe0baf9",
            "910169afcf0f4c8e95929c1038e47283",
            "58214c3bc5524ff2b51266bbbffcf52d",
            "7bfab46a8c2c42bb8cd41460238234a8",
            "402b0dcf77bf4b7383d6cc9ccf43c19b",
            "7abd121951584e3985a310f53c5e732e",
            "94297fc130dd4fee823cff408cf058b7",
            "5daeadf5afa4413cab05f9f6234eb8da",
            "ee8367272cc84033bb6ccb8a0fc44d1a",
            "4c44c47c3f6e4709bc6126cdd5ae871d",
            "3abd11137916467da2e92d6c1f631756",
            "e627c5dfc5d249c9b92c2cf281f4bae9",
            "6db53c36ec014f5882e69744da71f1ac",
            "4c564eb83b644f26ac72a2ad32e3523c",
            "2efab69e3dbc4d4598a113b878624f78",
            "3659a14dbbcc4aecbfd4962d0a7b80d7",
            "9d47fbb39da44d498c8c64f21a582ab9",
            "06fbaf26f80e45829dd68d012eff37d7",
            "75ee2127b9364cc394150362af5c93c7",
            "b5ad6881ba0f4c279a9635d6591b28ab",
            "2d78e9f65737429e99b13895f2a3224f",
            "49a50fec8ddd417dac8233736bbf060e",
            "1cd60b72abc04b74b9b4a9875aa4892c",
            "3ae90bdc889b4edeb247d422498ddb9e",
            "f0b49830079243d4820c93a424d502da",
            "3653fc80a384485fb34f9172b48a86ba",
            "b2603f7f05b24e96984fd470dcd08c25",
            "961a8fb3e51140b994d9475c8bef41ea",
            "d27a1df924184fada233de004ac2e987",
            "e3122eedb1e8463aa87fab2e807390a7",
            "22e14f0f7893411dbac59b37e127f0b0",
            "430ad6c527d1460eb3dba4d8124797b3",
            "33743a14b6fc4b5eb7d0847bfe46b5da",
            "e693637e06aa4c80a926b58cea3e32f6",
            "d0f6a74e30f54196bf594efc362adb80",
            "7be97558cf2b4e9aafbffcf5a2847684",
            "de7123dad6874375b85b2ae1c32b420f",
            "6c4ffdd654234e76933fcb3e0313d6dc",
            "d67891862ea543fe9de41647df05d3b4",
            "389ecb32db784921ac25ea3b31f6ef77"
          ]
        }
      },
      "execution_count": 16,
      "outputs": [
        {
          "output_type": "stream",
          "name": "stdout",
          "text": [
            " \"help(JoveEditor)\" gives you info on the generic animation panel that animates all machines. \n"
          ]
        },
        {
          "output_type": "display_data",
          "data": {
            "text/plain": [
              "<IPython.core.display.HTML object>"
            ],
            "text/html": [
              "<style>textarea, input { font-family: monospace; }</style>"
            ]
          },
          "metadata": {}
        },
        {
          "output_type": "display_data",
          "data": {
            "text/plain": [
              "Tab(children=(VBox(children=(HBox(children=(Accordion(children=(VBox(children=(HBox(children=(Text(value='', p…"
            ],
            "application/vnd.jupyter.widget-view+json": {
              "version_major": 2,
              "version_minor": 0,
              "model_id": "ae277def2b7b423985cfaa0f98af077c"
            }
          },
          "metadata": {}
        },
        {
          "output_type": "display_data",
          "data": {
            "text/plain": [
              "<IPython.core.display.HTML object>"
            ],
            "text/html": [
              "<link rel=\"stylesheet\" href=\"//stackpath.bootstrapcdn.com/font-awesome/4.7.0/css/font-awesome.min.css\"/>"
            ]
          },
          "metadata": {}
        }
      ]
    },
    {
      "cell_type": "markdown",
      "source": [
        "## INTRODUCING YOUR FIRST NFA, AND SIMULATING IT"
      ],
      "metadata": {
        "id": "GHPWJuby9qHa"
      }
    },
    {
      "cell_type": "code",
      "source": [
        "# I'm going to redraw the NFA of Figure 7.7 as one with multiple initial states\n",
        "# This is achieved using two initial states that start with the \"I\" state\n",
        "# States with multiple next states upon one symbol are shown with a comma-separated list of next states\n",
        "\n",
        "nfa_Fig7_dot_7_Variant = md2mc('''NFA\n",
        "IA : '' -> B, C  !! multiple initial states\n",
        "IG : 1  -> F     !! a dead-end state\n",
        "B  : 1  -> D\n",
        "C  : 0  -> E\n",
        "D : ''  -> IA, IG\n",
        "E : ''  -> IA, IG\n",
        "''')\n"
      ],
      "metadata": {
        "id": "wXttTYo_CE9V",
        "outputId": "6cc98399-aeea-4069-abe6-802785d675cd",
        "colab": {
          "base_uri": "https://localhost:8080/"
        }
      },
      "execution_count": 17,
      "outputs": [
        {
          "output_type": "stream",
          "name": "stderr",
          "text": [
            "Generating LALR tables\n"
          ]
        }
      ]
    },
    {
      "cell_type": "code",
      "source": [
        "dotObj_nfa(nfa_Fig7_dot_7_Variant, FuseEdges=True)"
      ],
      "metadata": {
        "id": "L7xlZSvw_3-T",
        "outputId": "8a78847c-ef5c-4ddd-81de-e706a13511d6",
        "colab": {
          "base_uri": "https://localhost:8080/",
          "height": 333
        }
      },
      "execution_count": 18,
      "outputs": [
        {
          "output_type": "execute_result",
          "data": {
            "image/svg+xml": "<?xml version=\"1.0\" encoding=\"UTF-8\" standalone=\"no\"?>\n<!DOCTYPE svg PUBLIC \"-//W3C//DTD SVG 1.1//EN\"\n \"http://www.w3.org/Graphics/SVG/1.1/DTD/svg11.dtd\">\n<!-- Generated by graphviz version 2.43.0 (0)\n -->\n<!-- Title: %3 Pages: 1 -->\n<svg width=\"480pt\" height=\"234pt\"\n viewBox=\"0.00 0.00 479.59 234.00\" xmlns=\"http://www.w3.org/2000/svg\" xmlns:xlink=\"http://www.w3.org/1999/xlink\">\n<g id=\"graph0\" class=\"graph\" transform=\"scale(1 1) rotate(0) translate(4 230)\">\n<title>%3</title>\n<polygon fill=\"white\" stroke=\"transparent\" points=\"-4,4 -4,-230 475.59,-230 475.59,4 -4,4\"/>\n<!-- EMPTY -->\n<g id=\"node1\" class=\"node\">\n<title>EMPTY</title>\n</g>\n<!-- IA -->\n<g id=\"node6\" class=\"node\">\n<title>IA</title>\n<ellipse fill=\"none\" stroke=\"black\" cx=\"111.15\" cy=\"-106\" rx=\"20.3\" ry=\"20.3\"/>\n<text text-anchor=\"middle\" x=\"111.15\" y=\"-102.3\" font-family=\"Times,serif\" font-size=\"14.00\">IA</text>\n</g>\n<!-- EMPTY&#45;&gt;IA -->\n<g id=\"edge1\" class=\"edge\">\n<title>EMPTY&#45;&gt;IA</title>\n<path fill=\"none\" stroke=\"black\" d=\"M45.02,-36.23C57.95,-50.08 75.78,-69.19 89.52,-83.9\"/>\n<polygon fill=\"black\" stroke=\"black\" points=\"87.29,-86.64 96.67,-91.57 92.41,-81.87 87.29,-86.64\"/>\n</g>\n<!-- IG -->\n<g id=\"node7\" class=\"node\">\n<title>IG</title>\n<ellipse fill=\"none\" stroke=\"black\" cx=\"360.44\" cy=\"-64\" rx=\"20.3\" ry=\"20.3\"/>\n<text text-anchor=\"middle\" x=\"360.44\" y=\"-60.3\" font-family=\"Times,serif\" font-size=\"14.00\">IG</text>\n</g>\n<!-- EMPTY&#45;&gt;IG -->\n<g id=\"edge2\" class=\"edge\">\n<title>EMPTY&#45;&gt;IG</title>\n<path fill=\"none\" stroke=\"black\" d=\"M54.13,-12.21C70.2,-9.14 91.27,-6 110.15,-6 110.15,-6 110.15,-6 278.3,-6 303.3,-6 325.91,-24.45 340.87,-40.53\"/>\n<polygon fill=\"black\" stroke=\"black\" points=\"338.35,-42.96 347.58,-48.15 343.6,-38.33 338.35,-42.96\"/>\n</g>\n<!-- C -->\n<g id=\"node2\" class=\"node\">\n<title>C</title>\n<ellipse fill=\"none\" stroke=\"black\" cx=\"194.3\" cy=\"-52\" rx=\"18\" ry=\"18\"/>\n<text text-anchor=\"middle\" x=\"194.3\" y=\"-48.3\" font-family=\"Times,serif\" font-size=\"14.00\">C</text>\n</g>\n<!-- E -->\n<g id=\"node4\" class=\"node\">\n<title>E</title>\n<ellipse fill=\"none\" stroke=\"black\" cx=\"277.3\" cy=\"-64\" rx=\"18\" ry=\"18\"/>\n<text text-anchor=\"middle\" x=\"277.3\" y=\"-60.3\" font-family=\"Times,serif\" font-size=\"14.00\">E</text>\n</g>\n<!-- C&#45;&gt;E -->\n<g id=\"edge7\" class=\"edge\">\n<title>C&#45;&gt;E</title>\n<path fill=\"none\" stroke=\"black\" d=\"M212.47,-54.54C223.18,-56.13 237.18,-58.2 249.34,-60.01\"/>\n<polygon fill=\"black\" stroke=\"black\" points=\"249.02,-63.5 259.42,-61.5 250.04,-56.57 249.02,-63.5\"/>\n<text text-anchor=\"middle\" x=\"235.8\" y=\"-62.8\" font-family=\"Times,serif\" font-size=\"14.00\">0 </text>\n</g>\n<!-- D -->\n<g id=\"node3\" class=\"node\">\n<title>D</title>\n<ellipse fill=\"none\" stroke=\"black\" cx=\"277.3\" cy=\"-157\" rx=\"18\" ry=\"18\"/>\n<text text-anchor=\"middle\" x=\"277.3\" y=\"-153.3\" font-family=\"Times,serif\" font-size=\"14.00\">D</text>\n</g>\n<!-- D&#45;&gt;IA -->\n<g id=\"edge8\" class=\"edge\">\n<title>D&#45;&gt;IA</title>\n<path fill=\"none\" stroke=\"black\" d=\"M259.58,-151.81C231.58,-143.11 174.89,-125.49 140.54,-114.82\"/>\n<polygon fill=\"black\" stroke=\"black\" points=\"141.25,-111.38 130.66,-111.75 139.17,-118.06 141.25,-111.38\"/>\n<text text-anchor=\"middle\" x=\"194.3\" y=\"-139.8\" font-family=\"Times,serif\" font-size=\"14.00\">&#39;&#39; </text>\n</g>\n<!-- D&#45;&gt;IG -->\n<g id=\"edge9\" class=\"edge\">\n<title>D&#45;&gt;IG</title>\n<path fill=\"none\" stroke=\"black\" d=\"M289.92,-143.68C302.92,-128.78 324.19,-104.41 339.78,-86.53\"/>\n<polygon fill=\"black\" stroke=\"black\" points=\"342.56,-88.67 346.5,-78.84 337.29,-84.07 342.56,-88.67\"/>\n<text text-anchor=\"middle\" x=\"317.8\" y=\"-119.8\" font-family=\"Times,serif\" font-size=\"14.00\">&#39;&#39; </text>\n</g>\n<!-- E&#45;&gt;IA -->\n<g id=\"edge10\" class=\"edge\">\n<title>E&#45;&gt;IA</title>\n<path fill=\"none\" stroke=\"black\" d=\"M260.47,-70.98C254.53,-73.43 247.68,-76.05 241.3,-78 207.55,-88.33 167.74,-96.35 141.33,-101.11\"/>\n<polygon fill=\"black\" stroke=\"black\" points=\"140.47,-97.71 131.22,-102.89 141.68,-104.61 140.47,-97.71\"/>\n<text text-anchor=\"middle\" x=\"194.3\" y=\"-97.8\" font-family=\"Times,serif\" font-size=\"14.00\">&#39;&#39; </text>\n</g>\n<!-- E&#45;&gt;IG -->\n<g id=\"edge11\" class=\"edge\">\n<title>E&#45;&gt;IG</title>\n<path fill=\"none\" stroke=\"black\" d=\"M295.51,-64C305.55,-64 318.49,-64 330.1,-64\"/>\n<polygon fill=\"black\" stroke=\"black\" points=\"330.27,-67.5 340.27,-64 330.27,-60.5 330.27,-67.5\"/>\n<text text-anchor=\"middle\" x=\"317.8\" y=\"-67.8\" font-family=\"Times,serif\" font-size=\"14.00\">&#39;&#39; </text>\n</g>\n<!-- B -->\n<g id=\"node5\" class=\"node\">\n<title>B</title>\n<ellipse fill=\"none\" stroke=\"black\" cx=\"194.3\" cy=\"-208\" rx=\"18\" ry=\"18\"/>\n<text text-anchor=\"middle\" x=\"194.3\" y=\"-204.3\" font-family=\"Times,serif\" font-size=\"14.00\">B</text>\n</g>\n<!-- B&#45;&gt;D -->\n<g id=\"edge6\" class=\"edge\">\n<title>B&#45;&gt;D</title>\n<path fill=\"none\" stroke=\"black\" d=\"M210.15,-198.65C222.14,-191.1 239.22,-180.34 253.02,-171.65\"/>\n<polygon fill=\"black\" stroke=\"black\" points=\"254.94,-174.58 261.53,-166.29 251.21,-168.66 254.94,-174.58\"/>\n<text text-anchor=\"middle\" x=\"235.8\" y=\"-188.8\" font-family=\"Times,serif\" font-size=\"14.00\">1 </text>\n</g>\n<!-- IA&#45;&gt;C -->\n<g id=\"edge4\" class=\"edge\">\n<title>IA&#45;&gt;C</title>\n<path fill=\"none\" stroke=\"black\" d=\"M127.32,-93.35C133.91,-88.06 141.82,-82.01 149.3,-77 155.48,-72.86 162.38,-68.73 168.86,-65.05\"/>\n<polygon fill=\"black\" stroke=\"black\" points=\"170.85,-67.94 177.9,-60.03 167.46,-61.82 170.85,-67.94\"/>\n<text text-anchor=\"middle\" x=\"153.8\" y=\"-80.8\" font-family=\"Times,serif\" font-size=\"14.00\">&#39;&#39; </text>\n</g>\n<!-- IA&#45;&gt;B -->\n<g id=\"edge3\" class=\"edge\">\n<title>IA&#45;&gt;B</title>\n<path fill=\"none\" stroke=\"black\" d=\"M120.37,-124.19C127.05,-137.86 137.3,-156.63 149.3,-171 155.55,-178.49 163.44,-185.66 170.81,-191.65\"/>\n<polygon fill=\"black\" stroke=\"black\" points=\"169.05,-194.72 179.09,-198.1 173.35,-189.2 169.05,-194.72\"/>\n<text text-anchor=\"middle\" x=\"153.8\" y=\"-183.8\" font-family=\"Times,serif\" font-size=\"14.00\">&#39;&#39; </text>\n</g>\n<!-- F -->\n<g id=\"node8\" class=\"node\">\n<title>F</title>\n<ellipse fill=\"none\" stroke=\"black\" cx=\"449.59\" cy=\"-64\" rx=\"18\" ry=\"18\"/>\n<ellipse fill=\"none\" stroke=\"black\" cx=\"449.59\" cy=\"-64\" rx=\"22\" ry=\"22\"/>\n<text text-anchor=\"middle\" x=\"449.59\" y=\"-60.3\" font-family=\"Times,serif\" font-size=\"14.00\">F</text>\n</g>\n<!-- IG&#45;&gt;F -->\n<g id=\"edge5\" class=\"edge\">\n<title>IG&#45;&gt;F</title>\n<path fill=\"none\" stroke=\"black\" d=\"M380.79,-64C391.49,-64 405.06,-64 417.24,-64\"/>\n<polygon fill=\"black\" stroke=\"black\" points=\"417.48,-67.5 427.48,-64 417.48,-60.5 417.48,-67.5\"/>\n<text text-anchor=\"middle\" x=\"404.09\" y=\"-67.8\" font-family=\"Times,serif\" font-size=\"14.00\">1 </text>\n</g>\n</g>\n</svg>\n",
            "text/plain": [
              "<graphviz.graphs.Digraph at 0x7d0562235450>"
            ]
          },
          "metadata": {},
          "execution_count": 18
        }
      ]
    },
    {
      "cell_type": "markdown",
      "source": [
        "# ==> nfa2dfa illustration <=="
      ],
      "metadata": {
        "id": "ockkrI5TW43L"
      }
    },
    {
      "cell_type": "code",
      "source": [
        "Fig77NFA = md2mc('''NFA\n",
        "I : '' -> A, G\n",
        "A : '' -> B, C  !! multiple initial states\n",
        "G : 1  -> F     !! a dead-end state\n",
        "B  : 1  -> D\n",
        "C  : 0  -> E\n",
        "D : ''  -> A, G\n",
        "E : ''  -> A, G\n",
        "''')\n",
        "dotObj_nfa(Fig77NFA, FuseEdges=True)"
      ],
      "metadata": {
        "id": "_YxE1zA9VMNe",
        "outputId": "cb625b52-35cb-44c6-da83-9ccd819e8994",
        "colab": {
          "base_uri": "https://localhost:8080/",
          "height": 373
        }
      },
      "execution_count": 19,
      "outputs": [
        {
          "output_type": "stream",
          "name": "stderr",
          "text": [
            "Generating LALR tables\n"
          ]
        },
        {
          "output_type": "execute_result",
          "data": {
            "image/svg+xml": "<?xml version=\"1.0\" encoding=\"UTF-8\" standalone=\"no\"?>\n<!DOCTYPE svg PUBLIC \"-//W3C//DTD SVG 1.1//EN\"\n \"http://www.w3.org/Graphics/SVG/1.1/DTD/svg11.dtd\">\n<!-- Generated by graphviz version 2.43.0 (0)\n -->\n<!-- Title: %3 Pages: 1 -->\n<svg width=\"552pt\" height=\"251pt\"\n viewBox=\"0.00 0.00 552.00 251.00\" xmlns=\"http://www.w3.org/2000/svg\" xmlns:xlink=\"http://www.w3.org/1999/xlink\">\n<g id=\"graph0\" class=\"graph\" transform=\"scale(1 1) rotate(0) translate(4 247)\">\n<title>%3</title>\n<polygon fill=\"white\" stroke=\"transparent\" points=\"-4,4 -4,-247 548,-247 548,4 -4,4\"/>\n<!-- EMPTY -->\n<g id=\"node1\" class=\"node\">\n<title>EMPTY</title>\n</g>\n<!-- I -->\n<g id=\"node2\" class=\"node\">\n<title>I</title>\n<ellipse fill=\"none\" stroke=\"black\" cx=\"109\" cy=\"-176\" rx=\"18\" ry=\"18\"/>\n<text text-anchor=\"middle\" x=\"109\" y=\"-172.3\" font-family=\"Times,serif\" font-size=\"14.00\">I</text>\n</g>\n<!-- EMPTY&#45;&gt;I -->\n<g id=\"edge1\" class=\"edge\">\n<title>EMPTY&#45;&gt;I</title>\n<path fill=\"none\" stroke=\"black\" d=\"M54.19,-176C62.65,-176 72.05,-176 80.6,-176\"/>\n<polygon fill=\"black\" stroke=\"black\" points=\"80.83,-179.5 90.83,-176 80.83,-172.5 80.83,-179.5\"/>\n</g>\n<!-- G -->\n<g id=\"node7\" class=\"node\">\n<title>G</title>\n<ellipse fill=\"none\" stroke=\"black\" cx=\"435\" cy=\"-154\" rx=\"18\" ry=\"18\"/>\n<text text-anchor=\"middle\" x=\"435\" y=\"-150.3\" font-family=\"Times,serif\" font-size=\"14.00\">G</text>\n</g>\n<!-- I&#45;&gt;G -->\n<g id=\"edge2\" class=\"edge\">\n<title>I&#45;&gt;G</title>\n<path fill=\"none\" stroke=\"black\" d=\"M121.06,-189.39C135.11,-204.8 160.92,-228 189,-228 189,-228 189,-228 355,-228 384.43,-228 407.42,-200.3 420.84,-178.8\"/>\n<polygon fill=\"black\" stroke=\"black\" points=\"423.92,-180.45 425.99,-170.06 417.89,-176.89 423.92,-180.45\"/>\n<text text-anchor=\"middle\" x=\"271\" y=\"-231.8\" font-family=\"Times,serif\" font-size=\"14.00\">&#39;&#39; </text>\n</g>\n<!-- A -->\n<g id=\"node8\" class=\"node\">\n<title>A</title>\n<ellipse fill=\"none\" stroke=\"black\" cx=\"190\" cy=\"-123\" rx=\"18\" ry=\"18\"/>\n<text text-anchor=\"middle\" x=\"190\" y=\"-119.3\" font-family=\"Times,serif\" font-size=\"14.00\">A</text>\n</g>\n<!-- I&#45;&gt;A -->\n<g id=\"edge3\" class=\"edge\">\n<title>I&#45;&gt;A</title>\n<path fill=\"none\" stroke=\"black\" d=\"M124.49,-166.28C136.07,-158.51 152.53,-147.47 165.92,-138.49\"/>\n<polygon fill=\"black\" stroke=\"black\" points=\"168.25,-141.14 174.6,-132.66 164.35,-135.32 168.25,-141.14\"/>\n<text text-anchor=\"middle\" x=\"149.5\" y=\"-154.8\" font-family=\"Times,serif\" font-size=\"14.00\">&#39;&#39; </text>\n</g>\n<!-- C -->\n<g id=\"node3\" class=\"node\">\n<title>C</title>\n<ellipse fill=\"none\" stroke=\"black\" cx=\"271\" cy=\"-18\" rx=\"18\" ry=\"18\"/>\n<text text-anchor=\"middle\" x=\"271\" y=\"-14.3\" font-family=\"Times,serif\" font-size=\"14.00\">C</text>\n</g>\n<!-- E -->\n<g id=\"node5\" class=\"node\">\n<title>E</title>\n<ellipse fill=\"none\" stroke=\"black\" cx=\"354\" cy=\"-72\" rx=\"18\" ry=\"18\"/>\n<text text-anchor=\"middle\" x=\"354\" y=\"-68.3\" font-family=\"Times,serif\" font-size=\"14.00\">E</text>\n</g>\n<!-- C&#45;&gt;E -->\n<g id=\"edge8\" class=\"edge\">\n<title>C&#45;&gt;E</title>\n<path fill=\"none\" stroke=\"black\" d=\"M287.77,-25.61C296.86,-30.23 308.36,-36.48 318,-43 322.82,-46.26 327.77,-50.05 332.37,-53.79\"/>\n<polygon fill=\"black\" stroke=\"black\" points=\"330.27,-56.6 340.18,-60.35 334.77,-51.24 330.27,-56.6\"/>\n<text text-anchor=\"middle\" x=\"312.5\" y=\"-46.8\" font-family=\"Times,serif\" font-size=\"14.00\">0 </text>\n</g>\n<!-- D -->\n<g id=\"node4\" class=\"node\">\n<title>D</title>\n<ellipse fill=\"none\" stroke=\"black\" cx=\"354\" cy=\"-154\" rx=\"18\" ry=\"18\"/>\n<text text-anchor=\"middle\" x=\"354\" y=\"-150.3\" font-family=\"Times,serif\" font-size=\"14.00\">D</text>\n</g>\n<!-- D&#45;&gt;G -->\n<g id=\"edge9\" class=\"edge\">\n<title>D&#45;&gt;G</title>\n<path fill=\"none\" stroke=\"black\" d=\"M372.14,-154C382.29,-154 395.37,-154 406.88,-154\"/>\n<polygon fill=\"black\" stroke=\"black\" points=\"406.89,-157.5 416.89,-154 406.89,-150.5 406.89,-157.5\"/>\n<text text-anchor=\"middle\" x=\"394.5\" y=\"-157.8\" font-family=\"Times,serif\" font-size=\"14.00\">&#39;&#39; </text>\n</g>\n<!-- D&#45;&gt;A -->\n<g id=\"edge10\" class=\"edge\">\n<title>D&#45;&gt;A</title>\n<path fill=\"none\" stroke=\"black\" d=\"M337,-147.3C324.23,-142.25 305.77,-135.6 289,-132 265.46,-126.95 238.14,-124.73 218.34,-123.76\"/>\n<polygon fill=\"black\" stroke=\"black\" points=\"218.32,-120.26 208.18,-123.34 218.03,-127.25 218.32,-120.26\"/>\n<text text-anchor=\"middle\" x=\"271\" y=\"-135.8\" font-family=\"Times,serif\" font-size=\"14.00\">&#39;&#39; </text>\n</g>\n<!-- E&#45;&gt;G -->\n<g id=\"edge11\" class=\"edge\">\n<title>E&#45;&gt;G</title>\n<path fill=\"none\" stroke=\"black\" d=\"M367,-84.45C379.64,-97.58 399.75,-118.45 414.64,-133.91\"/>\n<polygon fill=\"black\" stroke=\"black\" points=\"412.43,-136.66 421.89,-141.43 417.47,-131.8 412.43,-136.66\"/>\n<text text-anchor=\"middle\" x=\"394.5\" y=\"-119.8\" font-family=\"Times,serif\" font-size=\"14.00\">&#39;&#39; </text>\n</g>\n<!-- E&#45;&gt;A -->\n<g id=\"edge12\" class=\"edge\">\n<title>E&#45;&gt;A</title>\n<path fill=\"none\" stroke=\"black\" d=\"M336.53,-77.18C308.36,-86.05 250.72,-104.2 217.05,-114.8\"/>\n<polygon fill=\"black\" stroke=\"black\" points=\"215.91,-111.49 207.42,-117.83 218.01,-118.16 215.91,-111.49\"/>\n<text text-anchor=\"middle\" x=\"271\" y=\"-107.8\" font-family=\"Times,serif\" font-size=\"14.00\">&#39;&#39; </text>\n</g>\n<!-- B -->\n<g id=\"node6\" class=\"node\">\n<title>B</title>\n<ellipse fill=\"none\" stroke=\"black\" cx=\"271\" cy=\"-174\" rx=\"18\" ry=\"18\"/>\n<text text-anchor=\"middle\" x=\"271\" y=\"-170.3\" font-family=\"Times,serif\" font-size=\"14.00\">B</text>\n</g>\n<!-- B&#45;&gt;D -->\n<g id=\"edge7\" class=\"edge\">\n<title>B&#45;&gt;D</title>\n<path fill=\"none\" stroke=\"black\" d=\"M288.78,-169.86C299.64,-167.17 314.02,-163.63 326.41,-160.56\"/>\n<polygon fill=\"black\" stroke=\"black\" points=\"327.37,-163.93 336.24,-158.14 325.69,-157.14 327.37,-163.93\"/>\n<text text-anchor=\"middle\" x=\"312.5\" y=\"-168.8\" font-family=\"Times,serif\" font-size=\"14.00\">1 </text>\n</g>\n<!-- F -->\n<g id=\"node9\" class=\"node\">\n<title>F</title>\n<ellipse fill=\"none\" stroke=\"black\" cx=\"522\" cy=\"-154\" rx=\"18\" ry=\"18\"/>\n<ellipse fill=\"none\" stroke=\"black\" cx=\"522\" cy=\"-154\" rx=\"22\" ry=\"22\"/>\n<text text-anchor=\"middle\" x=\"522\" y=\"-150.3\" font-family=\"Times,serif\" font-size=\"14.00\">F</text>\n</g>\n<!-- G&#45;&gt;F -->\n<g id=\"edge6\" class=\"edge\">\n<title>G&#45;&gt;F</title>\n<path fill=\"none\" stroke=\"black\" d=\"M453.2,-154C463.63,-154 477.26,-154 489.56,-154\"/>\n<polygon fill=\"black\" stroke=\"black\" points=\"489.91,-157.5 499.91,-154 489.91,-150.5 489.91,-157.5\"/>\n<text text-anchor=\"middle\" x=\"476.5\" y=\"-157.8\" font-family=\"Times,serif\" font-size=\"14.00\">1 </text>\n</g>\n<!-- A&#45;&gt;C -->\n<g id=\"edge5\" class=\"edge\">\n<title>A&#45;&gt;C</title>\n<path fill=\"none\" stroke=\"black\" d=\"M195.13,-105.62C200.03,-88.1 209.66,-61.13 226,-43 231.17,-37.26 237.99,-32.51 244.71,-28.75\"/>\n<polygon fill=\"black\" stroke=\"black\" points=\"246.3,-31.87 253.65,-24.23 243.14,-25.62 246.3,-31.87\"/>\n<text text-anchor=\"middle\" x=\"230.5\" y=\"-46.8\" font-family=\"Times,serif\" font-size=\"14.00\">&#39;&#39; </text>\n</g>\n<!-- A&#45;&gt;B -->\n<g id=\"edge4\" class=\"edge\">\n<title>A&#45;&gt;B</title>\n<path fill=\"none\" stroke=\"black\" d=\"M205.49,-132.35C217,-139.78 233.32,-150.32 246.67,-158.94\"/>\n<polygon fill=\"black\" stroke=\"black\" points=\"245.03,-162.05 255.33,-164.53 248.83,-156.17 245.03,-162.05\"/>\n<text text-anchor=\"middle\" x=\"230.5\" y=\"-153.8\" font-family=\"Times,serif\" font-size=\"14.00\">&#39;&#39; </text>\n</g>\n</g>\n</svg>\n",
            "text/plain": [
              "<graphviz.graphs.Digraph at 0x7d0562235540>"
            ]
          },
          "metadata": {},
          "execution_count": 19
        }
      ]
    },
    {
      "cell_type": "code",
      "source": [
        "EC_of_Q0 = Eclosure(Fig77NFA, {'I'})\n",
        "EC_of_Q0"
      ],
      "metadata": {
        "id": "lVzpJjOBUDXd",
        "outputId": "11ebd6d9-6be8-4a14-9a8b-597b92304893",
        "colab": {
          "base_uri": "https://localhost:8080/"
        }
      },
      "execution_count": 20,
      "outputs": [
        {
          "output_type": "execute_result",
          "data": {
            "text/plain": [
              "{'A', 'B', 'C', 'G', 'I'}"
            ]
          },
          "metadata": {},
          "execution_count": 20
        }
      ]
    },
    {
      "cell_type": "markdown",
      "source": [
        "![Screenshot 2024-09-10 at 10.30.28 PM.png](data:image/png;base64,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)"
      ],
      "metadata": {
        "id": "MwKoEOjAWPYC"
      }
    },
    {
      "cell_type": "code",
      "source": [
        "help(ec_step_nfa)"
      ],
      "metadata": {
        "id": "nCIJ5YRmUhPb",
        "outputId": "53f9fd92-e3b1-4f6c-cd57-28f702694c52",
        "colab": {
          "base_uri": "https://localhost:8080/"
        }
      },
      "execution_count": 21,
      "outputs": [
        {
          "output_type": "stream",
          "name": "stdout",
          "text": [
            "Help on function ec_step_nfa in module jove.Def_NFA:\n",
            "\n",
            "ec_step_nfa(N, S, c, chatty=False)\n",
            "    Helper for run_nfa\n",
            "    ---\n",
            "    In : N (consistent NFA)\n",
            "         S (EClosed set of states)\n",
            "         c (character in N's alphabet; does not equal \"\")\n",
            "         chatty (Boolean): Verbose-mode optional parameter\n",
            "    Return Eclosure of all states one \"c\" step away from S.\n",
            "\n"
          ]
        }
      ]
    },
    {
      "cell_type": "code",
      "source": [
        "ec_step_nfa(Fig77NFA, EC_of_Q0, '1')"
      ],
      "metadata": {
        "id": "qcxnTMwOUsTh",
        "outputId": "2ad06275-f84c-40b4-dea1-18234532b2ba",
        "colab": {
          "base_uri": "https://localhost:8080/"
        }
      },
      "execution_count": 22,
      "outputs": [
        {
          "output_type": "execute_result",
          "data": {
            "text/plain": [
              "{'A', 'B', 'C', 'D', 'F', 'G'}"
            ]
          },
          "metadata": {},
          "execution_count": 22
        }
      ]
    },
    {
      "cell_type": "code",
      "source": [
        "# To see what the formal structure of this NFA is, let's look at its Delta function\n",
        "nfa_Fig7_dot_7_Variant"
      ],
      "metadata": {
        "id": "fKL92jYv_6Qn",
        "outputId": "d5ce9b73-b1bb-4566-f5f9-6473fd30c842",
        "colab": {
          "base_uri": "https://localhost:8080/"
        }
      },
      "execution_count": 23,
      "outputs": [
        {
          "output_type": "execute_result",
          "data": {
            "text/plain": [
              "{'Q': {'B', 'C', 'D', 'E', 'F', 'IA', 'IG'},\n",
              " 'Sigma': {'0', '1'},\n",
              " 'Delta': {('IA', ''): {'B', 'C'},\n",
              "  ('IG', '1'): {'F'},\n",
              "  ('B', '1'): {'D'},\n",
              "  ('C', '0'): {'E'},\n",
              "  ('D', ''): {'IA', 'IG'},\n",
              "  ('E', ''): {'IA', 'IG'}},\n",
              " 'Q0': {'IA', 'IG'},\n",
              " 'F': {'F'}}"
            ]
          },
          "metadata": {},
          "execution_count": 23
        }
      ]
    },
    {
      "cell_type": "code",
      "source": [
        "help(nfa2dfa)"
      ],
      "metadata": {
        "id": "48-M1XEaSUf4",
        "outputId": "720be398-6ac5-407e-f181-bf75283fa5c4",
        "colab": {
          "base_uri": "https://localhost:8080/"
        }
      },
      "execution_count": 24,
      "outputs": [
        {
          "output_type": "stream",
          "name": "stdout",
          "text": [
            "Help on function nfa2dfa in module jove.Def_NFA:\n",
            "\n",
            "nfa2dfa(N, STATENAME_MAXSIZE=20)\n",
            "    In : N (consistent NFA), and optional STATENAME_MAXSIZE\n",
            "         for the generated DFA states\n",
            "    Out: A consistent DFA that is language-equivalent to N.\n",
            "\n"
          ]
        }
      ]
    },
    {
      "cell_type": "code",
      "source": [
        "help(ec_step_nfa)"
      ],
      "metadata": {
        "id": "gCFIL3HYSdyP",
        "outputId": "1cf84b5e-44e5-4c2a-f2fc-b264add44be9",
        "colab": {
          "base_uri": "https://localhost:8080/"
        }
      },
      "execution_count": 25,
      "outputs": [
        {
          "output_type": "stream",
          "name": "stdout",
          "text": [
            "Help on function ec_step_nfa in module jove.Def_NFA:\n",
            "\n",
            "ec_step_nfa(N, S, c, chatty=False)\n",
            "    Helper for run_nfa\n",
            "    ---\n",
            "    In : N (consistent NFA)\n",
            "         S (EClosed set of states)\n",
            "         c (character in N's alphabet; does not equal \"\")\n",
            "         chatty (Boolean): Verbose-mode optional parameter\n",
            "    Return Eclosure of all states one \"c\" step away from S.\n",
            "\n"
          ]
        }
      ]
    },
    {
      "cell_type": "markdown",
      "source": [
        "### We see that the NFA transitions to multiple next states upon a single symbol\n",
        "### In some cases it only transitions to ONE next state\n",
        "### To treat these cases uniformly, we say that an NFA transitions to a **set** of next states each time\n",
        "\n",
        "\n",
        "\n",
        "\n",
        "\n",
        "* The formal structure of an NFA is this : $(Q, \\Sigma, \\delta, Q_0, F)$\n",
        "* This basically means ``An NFA is these five things''\n",
        "* Here $Q$ is a finite set of states\n",
        "* $\\Sigma$ is as before (the actual alphabet). Even if an NFA moves on $\\varepsilon$, the alphabet NEVER includes $\\varepsilon$\n",
        "* $\\delta$ maps a state paired with either $\\Sigma$ or $\\varepsilon$ to a set of states\n",
        "* $Q_0$ is a subset of states\n",
        "* $F$ is a subset of $Q$\n",
        "\n",
        "\n",
        "\n",
        "---------------------"
      ],
      "metadata": {
        "id": "IEAZhfhdAG1U"
      }
    },
    {
      "cell_type": "markdown",
      "source": [
        "### NOW for the fun experience. Let's animate the NFA to watch all of its conceptual steps!\n"
      ],
      "metadata": {
        "id": "VOOhl_OCCYta"
      }
    },
    {
      "cell_type": "code",
      "source": [
        "from jove.AnimateNFA import *"
      ],
      "metadata": {
        "id": "xyHdeaWaDX2j"
      },
      "execution_count": 26,
      "outputs": []
    },
    {
      "cell_type": "code",
      "source": [
        "AnimateNFA(nfa_Fig7_dot_7_Variant, FuseEdges=True)\n",
        "display(HTML('<link rel=\\\"stylesheet\\\" href=\\\"//stackpath.bootstrapcdn.com/font-awesome/4.7.0/css/font-awesome.min.css\\\"/>'))"
      ],
      "metadata": {
        "id": "Zt852TPaAF5v",
        "outputId": "4f53b711-af4a-40be-e080-1402cc2c3586",
        "colab": {
          "base_uri": "https://localhost:8080/",
          "height": 397,
          "referenced_widgets": [
            "c5c8b6fb8769485087fd7068f12e40a9",
            "5217250c59a84c26bc6ead22c8f8d4a8",
            "0081efdd722f45cda5cbcfc289fc5c1f",
            "fd389a6687c14bd9b82cdd02599d7216",
            "0d58e941e36647919928d213d3798517",
            "189b4b3e936e4d95a34fc68d992bc9af",
            "c3f885861cb842c3b0e204ab28d5c55f",
            "503236e41da24cbcae42f38bd87c864e",
            "3f639debf99542f7857ce4588ea0b288",
            "e353dbaae21a4a11b8cd4482c328490b",
            "9b8cecc694ff4c4fb5d6d8627e4745cf",
            "5844550b176e46ae9db45f371621d3a7",
            "3299ad42687d4015a798704865cf3ee9",
            "7e71aac7f420402dae884562e81e5a57",
            "1335c6b50ea84ecdbbebfe695391d09b",
            "55ce1cd5a36c44a19ea6ee44a0b95ae6",
            "4e08aacd29fc44f682edd1d0981b5e37",
            "3447cbed9fae4fe787a8c1f4dcf08863",
            "08b92d5185c34439bae26d780eb30593",
            "2fbe0745fda341d0b0d840d45b084a67",
            "b54d5ec3a40c4cfbbed9d98a0a9c97fb",
            "25fc0b5f7077492f89fe7211cd2081c1",
            "2ff68eb5ef534ce3a334eada4dbf8501",
            "43c04409939449609c3690434f2d7e8d",
            "350dcb1e1c634fa6a27e4e47c9d946ff",
            "109416e0739249bba6ba85a47b1cf281",
            "a6a0867848a841a595fe61b812c2e24d",
            "569a28d70a3d496d84b6749b2f7ee569"
          ]
        }
      },
      "execution_count": 27,
      "outputs": [
        {
          "output_type": "display_data",
          "data": {
            "text/plain": [
              "VBox(children=(HBox(children=(Text(value='', description='Input:', layout=Layout(width='500px'), placeholder='…"
            ],
            "application/vnd.jupyter.widget-view+json": {
              "version_major": 2,
              "version_minor": 0,
              "model_id": "c5c8b6fb8769485087fd7068f12e40a9"
            }
          },
          "metadata": {}
        },
        {
          "output_type": "display_data",
          "data": {
            "text/plain": [
              "<IPython.core.display.HTML object>"
            ],
            "text/html": [
              "<link rel=\"stylesheet\" href=\"//stackpath.bootstrapcdn.com/font-awesome/4.7.0/css/font-awesome.min.css\"/>"
            ]
          },
          "metadata": {}
        }
      ]
    },
    {
      "cell_type": "markdown",
      "source": [
        "------------------------------------\n"
      ],
      "metadata": {
        "id": "5jpNgArMcIpT"
      }
    },
    {
      "cell_type": "markdown",
      "source": [
        "### BACKGROUND MATERIAL TO TEACH YOU SOME BASICS + HAVE YOU DO QUIZ-3\n",
        "\n",
        "### The idea of regular expressions will be reinforced in this exercise. When we have the language $\\{a,bc\\}\\{d\\}+\\varepsilon$, the regular expression corresponding to this is (a+bc)(d)('') or even (a+bc)d('') or finally also (a+bc)d'' where we assume that having the parenthesis around d and '' makes it more readable. Let's test this out."
      ],
      "metadata": {
        "id": "3-m27b2Xcmt0"
      }
    },
    {
      "cell_type": "code",
      "source": [
        "# You may put parentheses around the '' string as below\n",
        "dotObj_nfa(re2nfa(\"(a+bc)(d)('')\"))"
      ],
      "metadata": {
        "id": "tLRH7JmPeFym",
        "outputId": "ecb72459-e271-43a2-d46e-140cb3efdf24",
        "colab": {
          "base_uri": "https://localhost:8080/",
          "height": 196
        }
      },
      "execution_count": 28,
      "outputs": [
        {
          "output_type": "execute_result",
          "data": {
            "image/svg+xml": "<?xml version=\"1.0\" encoding=\"UTF-8\" standalone=\"no\"?>\n<!DOCTYPE svg PUBLIC \"-//W3C//DTD SVG 1.1//EN\"\n \"http://www.w3.org/Graphics/SVG/1.1/DTD/svg11.dtd\">\n<!-- Generated by graphviz version 2.43.0 (0)\n -->\n<!-- Title: %3 Pages: 1 -->\n<svg width=\"737pt\" height=\"116pt\"\n viewBox=\"0.00 0.00 736.97 116.50\" xmlns=\"http://www.w3.org/2000/svg\" xmlns:xlink=\"http://www.w3.org/1999/xlink\">\n<g id=\"graph0\" class=\"graph\" transform=\"scale(1 1) rotate(0) translate(4 112.5)\">\n<title>%3</title>\n<polygon fill=\"white\" stroke=\"transparent\" points=\"-4,4 -4,-112.5 732.97,-112.5 732.97,4 -4,4\"/>\n<!-- EMPTY -->\n<g id=\"node1\" class=\"node\">\n<title>EMPTY</title>\n</g>\n<!-- St3 -->\n<g id=\"node2\" class=\"node\">\n<title>St3</title>\n<ellipse fill=\"none\" stroke=\"black\" cx=\"113.75\" cy=\"-85.75\" rx=\"23\" ry=\"23\"/>\n<text text-anchor=\"middle\" x=\"113.75\" y=\"-82.05\" font-family=\"Times,serif\" font-size=\"14.00\">St3</text>\n</g>\n<!-- EMPTY&#45;&gt;St3 -->\n<g id=\"edge1\" class=\"edge\">\n<title>EMPTY&#45;&gt;St3</title>\n<path fill=\"none\" stroke=\"black\" d=\"M54.35,-63.7C63.34,-67.09 73.46,-70.91 82.72,-74.41\"/>\n<polygon fill=\"black\" stroke=\"black\" points=\"81.75,-77.78 92.34,-78.04 84.22,-71.23 81.75,-77.78\"/>\n</g>\n<!-- St1 -->\n<g id=\"node7\" class=\"node\">\n<title>St1</title>\n<ellipse fill=\"none\" stroke=\"black\" cx=\"113.75\" cy=\"-22.75\" rx=\"23\" ry=\"23\"/>\n<text text-anchor=\"middle\" x=\"113.75\" y=\"-19.05\" font-family=\"Times,serif\" font-size=\"14.00\">St1</text>\n</g>\n<!-- EMPTY&#45;&gt;St1 -->\n<g id=\"edge2\" class=\"edge\">\n<title>EMPTY&#45;&gt;St1</title>\n<path fill=\"none\" stroke=\"black\" d=\"M54.35,-44.11C63.27,-40.85 73.3,-37.18 82.5,-33.81\"/>\n<polygon fill=\"black\" stroke=\"black\" points=\"83.88,-37.04 92.07,-30.31 81.47,-30.46 83.88,-37.04\"/>\n</g>\n<!-- St4 -->\n<g id=\"node3\" class=\"node\">\n<title>St4</title>\n<ellipse fill=\"none\" stroke=\"black\" cx=\"206.24\" cy=\"-84.75\" rx=\"23\" ry=\"23\"/>\n<text text-anchor=\"middle\" x=\"206.24\" y=\"-81.05\" font-family=\"Times,serif\" font-size=\"14.00\">St4</text>\n</g>\n<!-- St3&#45;&gt;St4 -->\n<g id=\"edge4\" class=\"edge\">\n<title>St3&#45;&gt;St4</title>\n<path fill=\"none\" stroke=\"black\" d=\"M136.65,-85.51C147.58,-85.39 161,-85.24 173.07,-85.1\"/>\n<polygon fill=\"black\" stroke=\"black\" points=\"173.26,-88.6 183.23,-84.99 173.19,-81.6 173.26,-88.6\"/>\n<text text-anchor=\"middle\" x=\"160\" y=\"-88.55\" font-family=\"Times,serif\" font-size=\"14.00\">b </text>\n</g>\n<!-- St5 -->\n<g id=\"node6\" class=\"node\">\n<title>St5</title>\n<ellipse fill=\"none\" stroke=\"black\" cx=\"333.24\" cy=\"-84.75\" rx=\"23\" ry=\"23\"/>\n<text text-anchor=\"middle\" x=\"333.24\" y=\"-81.05\" font-family=\"Times,serif\" font-size=\"14.00\">St5</text>\n</g>\n<!-- St4&#45;&gt;St5 -->\n<g id=\"edge6\" class=\"edge\">\n<title>St4&#45;&gt;St5</title>\n<path fill=\"none\" stroke=\"black\" d=\"M229.02,-84.75C248.7,-84.75 277.93,-84.75 300.27,-84.75\"/>\n<polygon fill=\"black\" stroke=\"black\" points=\"300.29,-88.25 310.29,-84.75 300.29,-81.25 300.29,-88.25\"/>\n<text text-anchor=\"middle\" x=\"269.74\" y=\"-88.55\" font-family=\"Times,serif\" font-size=\"14.00\">&#39;&#39; </text>\n</g>\n<!-- St2 -->\n<g id=\"node4\" class=\"node\">\n<title>St2</title>\n<ellipse fill=\"none\" stroke=\"black\" cx=\"269.74\" cy=\"-31.75\" rx=\"23\" ry=\"23\"/>\n<text text-anchor=\"middle\" x=\"269.74\" y=\"-28.05\" font-family=\"Times,serif\" font-size=\"14.00\">St2</text>\n</g>\n<!-- St7 -->\n<g id=\"node9\" class=\"node\">\n<title>St7</title>\n<ellipse fill=\"none\" stroke=\"black\" cx=\"515.23\" cy=\"-48.75\" rx=\"23\" ry=\"23\"/>\n<text text-anchor=\"middle\" x=\"515.23\" y=\"-45.05\" font-family=\"Times,serif\" font-size=\"14.00\">St7</text>\n</g>\n<!-- St2&#45;&gt;St7 -->\n<g id=\"edge8\" class=\"edge\">\n<title>St2&#45;&gt;St7</title>\n<path fill=\"none\" stroke=\"black\" d=\"M292.78,-33.29C335.97,-36.3 431.89,-43 482.13,-46.51\"/>\n<polygon fill=\"black\" stroke=\"black\" points=\"482.2,-50.02 492.42,-47.23 482.68,-43.04 482.2,-50.02\"/>\n<text text-anchor=\"middle\" x=\"378.98\" y=\"-43.55\" font-family=\"Times,serif\" font-size=\"14.00\">&#39;&#39; </text>\n</g>\n<!-- St8 -->\n<g id=\"node5\" class=\"node\">\n<title>St8</title>\n<ellipse fill=\"none\" stroke=\"black\" cx=\"607.72\" cy=\"-48.75\" rx=\"23\" ry=\"23\"/>\n<text text-anchor=\"middle\" x=\"607.72\" y=\"-45.05\" font-family=\"Times,serif\" font-size=\"14.00\">St8</text>\n</g>\n<!-- St9 -->\n<g id=\"node10\" class=\"node\">\n<title>St9</title>\n<ellipse fill=\"none\" stroke=\"black\" cx=\"702.22\" cy=\"-48.75\" rx=\"22.96\" ry=\"22.96\"/>\n<ellipse fill=\"none\" stroke=\"black\" cx=\"702.22\" cy=\"-48.75\" rx=\"27\" ry=\"27\"/>\n<text text-anchor=\"middle\" x=\"702.22\" y=\"-45.05\" font-family=\"Times,serif\" font-size=\"14.00\">St9</text>\n</g>\n<!-- St8&#45;&gt;St9 -->\n<g id=\"edge10\" class=\"edge\">\n<title>St8&#45;&gt;St9</title>\n<path fill=\"none\" stroke=\"black\" d=\"M630.64,-48.75C640.87,-48.75 653.31,-48.75 664.89,-48.75\"/>\n<polygon fill=\"black\" stroke=\"black\" points=\"665.18,-52.25 675.18,-48.75 665.18,-45.25 665.18,-52.25\"/>\n<text text-anchor=\"middle\" x=\"652.97\" y=\"-52.55\" font-family=\"Times,serif\" font-size=\"14.00\">&#39;&#39; </text>\n</g>\n<!-- St6 -->\n<g id=\"node8\" class=\"node\">\n<title>St6</title>\n<ellipse fill=\"none\" stroke=\"black\" cx=\"424.73\" cy=\"-84.75\" rx=\"23\" ry=\"23\"/>\n<text text-anchor=\"middle\" x=\"424.73\" y=\"-81.05\" font-family=\"Times,serif\" font-size=\"14.00\">St6</text>\n</g>\n<!-- St5&#45;&gt;St6 -->\n<g id=\"edge5\" class=\"edge\">\n<title>St5&#45;&gt;St6</title>\n<path fill=\"none\" stroke=\"black\" d=\"M356.36,-84.75C366.98,-84.75 379.91,-84.75 391.59,-84.75\"/>\n<polygon fill=\"black\" stroke=\"black\" points=\"391.86,-88.25 401.86,-84.75 391.86,-81.25 391.86,-88.25\"/>\n<text text-anchor=\"middle\" x=\"378.98\" y=\"-88.55\" font-family=\"Times,serif\" font-size=\"14.00\">c </text>\n</g>\n<!-- St1&#45;&gt;St2 -->\n<g id=\"edge3\" class=\"edge\">\n<title>St1&#45;&gt;St2</title>\n<path fill=\"none\" stroke=\"black\" d=\"M136.48,-24.02C162.59,-25.54 206.61,-28.12 236.63,-29.87\"/>\n<polygon fill=\"black\" stroke=\"black\" points=\"236.43,-33.37 246.62,-30.45 236.84,-26.38 236.43,-33.37\"/>\n<text text-anchor=\"middle\" x=\"160\" y=\"-29.55\" font-family=\"Times,serif\" font-size=\"14.00\">a </text>\n</g>\n<!-- St6&#45;&gt;St7 -->\n<g id=\"edge9\" class=\"edge\">\n<title>St6&#45;&gt;St7</title>\n<path fill=\"none\" stroke=\"black\" d=\"M446.26,-76.4C457.54,-71.81 471.74,-66.03 484.24,-60.95\"/>\n<polygon fill=\"black\" stroke=\"black\" points=\"485.87,-64.06 493.81,-57.05 483.23,-57.58 485.87,-64.06\"/>\n<text text-anchor=\"middle\" x=\"469.98\" y=\"-71.55\" font-family=\"Times,serif\" font-size=\"14.00\">&#39;&#39; </text>\n</g>\n<!-- St7&#45;&gt;St8 -->\n<g id=\"edge7\" class=\"edge\">\n<title>St7&#45;&gt;St8</title>\n<path fill=\"none\" stroke=\"black\" d=\"M538.13,-48.75C549.06,-48.75 562.48,-48.75 574.55,-48.75\"/>\n<polygon fill=\"black\" stroke=\"black\" points=\"574.71,-52.25 584.71,-48.75 574.71,-45.25 574.71,-52.25\"/>\n<text text-anchor=\"middle\" x=\"561.48\" y=\"-52.55\" font-family=\"Times,serif\" font-size=\"14.00\">d </text>\n</g>\n</g>\n</svg>\n",
            "text/plain": [
              "<graphviz.graphs.Digraph at 0x7d05622351b0>"
            ]
          },
          "metadata": {},
          "execution_count": 28
        }
      ]
    },
    {
      "cell_type": "code",
      "source": [
        "# In this case, the parser is smart enough to work even w/o the parentheses\n",
        "dotObj_nfa(re2nfa(\"(a+bc)d''\"))"
      ],
      "metadata": {
        "id": "UMtf06OGePWc",
        "outputId": "484fe4f3-0097-49ab-9079-29bd6a54b035",
        "colab": {
          "base_uri": "https://localhost:8080/",
          "height": 196
        }
      },
      "execution_count": 29,
      "outputs": [
        {
          "output_type": "execute_result",
          "data": {
            "image/svg+xml": "<?xml version=\"1.0\" encoding=\"UTF-8\" standalone=\"no\"?>\n<!DOCTYPE svg PUBLIC \"-//W3C//DTD SVG 1.1//EN\"\n \"http://www.w3.org/Graphics/SVG/1.1/DTD/svg11.dtd\">\n<!-- Generated by graphviz version 2.43.0 (0)\n -->\n<!-- Title: %3 Pages: 1 -->\n<svg width=\"737pt\" height=\"116pt\"\n viewBox=\"0.00 0.00 736.97 116.50\" xmlns=\"http://www.w3.org/2000/svg\" xmlns:xlink=\"http://www.w3.org/1999/xlink\">\n<g id=\"graph0\" class=\"graph\" transform=\"scale(1 1) rotate(0) translate(4 112.5)\">\n<title>%3</title>\n<polygon fill=\"white\" stroke=\"transparent\" points=\"-4,4 -4,-112.5 732.97,-112.5 732.97,4 -4,4\"/>\n<!-- EMPTY -->\n<g id=\"node1\" class=\"node\">\n<title>EMPTY</title>\n</g>\n<!-- St3 -->\n<g id=\"node2\" class=\"node\">\n<title>St3</title>\n<ellipse fill=\"none\" stroke=\"black\" cx=\"113.75\" cy=\"-85.75\" rx=\"23\" ry=\"23\"/>\n<text text-anchor=\"middle\" x=\"113.75\" y=\"-82.05\" font-family=\"Times,serif\" font-size=\"14.00\">St3</text>\n</g>\n<!-- EMPTY&#45;&gt;St3 -->\n<g id=\"edge1\" class=\"edge\">\n<title>EMPTY&#45;&gt;St3</title>\n<path fill=\"none\" stroke=\"black\" d=\"M54.35,-63.7C63.34,-67.09 73.46,-70.91 82.72,-74.41\"/>\n<polygon fill=\"black\" stroke=\"black\" points=\"81.75,-77.78 92.34,-78.04 84.22,-71.23 81.75,-77.78\"/>\n</g>\n<!-- St1 -->\n<g id=\"node7\" class=\"node\">\n<title>St1</title>\n<ellipse fill=\"none\" stroke=\"black\" cx=\"113.75\" cy=\"-22.75\" rx=\"23\" ry=\"23\"/>\n<text text-anchor=\"middle\" x=\"113.75\" y=\"-19.05\" font-family=\"Times,serif\" font-size=\"14.00\">St1</text>\n</g>\n<!-- EMPTY&#45;&gt;St1 -->\n<g id=\"edge2\" class=\"edge\">\n<title>EMPTY&#45;&gt;St1</title>\n<path fill=\"none\" stroke=\"black\" d=\"M54.35,-44.11C63.27,-40.85 73.3,-37.18 82.5,-33.81\"/>\n<polygon fill=\"black\" stroke=\"black\" points=\"83.88,-37.04 92.07,-30.31 81.47,-30.46 83.88,-37.04\"/>\n</g>\n<!-- St4 -->\n<g id=\"node3\" class=\"node\">\n<title>St4</title>\n<ellipse fill=\"none\" stroke=\"black\" cx=\"206.24\" cy=\"-84.75\" rx=\"23\" ry=\"23\"/>\n<text text-anchor=\"middle\" x=\"206.24\" y=\"-81.05\" font-family=\"Times,serif\" font-size=\"14.00\">St4</text>\n</g>\n<!-- St3&#45;&gt;St4 -->\n<g id=\"edge4\" class=\"edge\">\n<title>St3&#45;&gt;St4</title>\n<path fill=\"none\" stroke=\"black\" d=\"M136.65,-85.51C147.58,-85.39 161,-85.24 173.07,-85.1\"/>\n<polygon fill=\"black\" stroke=\"black\" points=\"173.26,-88.6 183.23,-84.99 173.19,-81.6 173.26,-88.6\"/>\n<text text-anchor=\"middle\" x=\"160\" y=\"-88.55\" font-family=\"Times,serif\" font-size=\"14.00\">b </text>\n</g>\n<!-- St5 -->\n<g id=\"node6\" class=\"node\">\n<title>St5</title>\n<ellipse fill=\"none\" stroke=\"black\" cx=\"333.24\" cy=\"-84.75\" rx=\"23\" ry=\"23\"/>\n<text text-anchor=\"middle\" x=\"333.24\" y=\"-81.05\" font-family=\"Times,serif\" font-size=\"14.00\">St5</text>\n</g>\n<!-- St4&#45;&gt;St5 -->\n<g id=\"edge6\" class=\"edge\">\n<title>St4&#45;&gt;St5</title>\n<path fill=\"none\" stroke=\"black\" d=\"M229.02,-84.75C248.7,-84.75 277.93,-84.75 300.27,-84.75\"/>\n<polygon fill=\"black\" stroke=\"black\" points=\"300.29,-88.25 310.29,-84.75 300.29,-81.25 300.29,-88.25\"/>\n<text text-anchor=\"middle\" x=\"269.74\" y=\"-88.55\" font-family=\"Times,serif\" font-size=\"14.00\">&#39;&#39; </text>\n</g>\n<!-- St2 -->\n<g id=\"node4\" class=\"node\">\n<title>St2</title>\n<ellipse fill=\"none\" stroke=\"black\" cx=\"269.74\" cy=\"-31.75\" rx=\"23\" ry=\"23\"/>\n<text text-anchor=\"middle\" x=\"269.74\" y=\"-28.05\" font-family=\"Times,serif\" font-size=\"14.00\">St2</text>\n</g>\n<!-- St7 -->\n<g id=\"node9\" class=\"node\">\n<title>St7</title>\n<ellipse fill=\"none\" stroke=\"black\" cx=\"515.23\" cy=\"-48.75\" rx=\"23\" ry=\"23\"/>\n<text text-anchor=\"middle\" x=\"515.23\" y=\"-45.05\" font-family=\"Times,serif\" font-size=\"14.00\">St7</text>\n</g>\n<!-- St2&#45;&gt;St7 -->\n<g id=\"edge8\" class=\"edge\">\n<title>St2&#45;&gt;St7</title>\n<path fill=\"none\" stroke=\"black\" d=\"M292.78,-33.29C335.97,-36.3 431.89,-43 482.13,-46.51\"/>\n<polygon fill=\"black\" stroke=\"black\" points=\"482.2,-50.02 492.42,-47.23 482.68,-43.04 482.2,-50.02\"/>\n<text text-anchor=\"middle\" x=\"378.98\" y=\"-43.55\" font-family=\"Times,serif\" font-size=\"14.00\">&#39;&#39; </text>\n</g>\n<!-- St8 -->\n<g id=\"node5\" class=\"node\">\n<title>St8</title>\n<ellipse fill=\"none\" stroke=\"black\" cx=\"607.72\" cy=\"-48.75\" rx=\"23\" ry=\"23\"/>\n<text text-anchor=\"middle\" x=\"607.72\" y=\"-45.05\" font-family=\"Times,serif\" font-size=\"14.00\">St8</text>\n</g>\n<!-- St9 -->\n<g id=\"node10\" class=\"node\">\n<title>St9</title>\n<ellipse fill=\"none\" stroke=\"black\" cx=\"702.22\" cy=\"-48.75\" rx=\"22.96\" ry=\"22.96\"/>\n<ellipse fill=\"none\" stroke=\"black\" cx=\"702.22\" cy=\"-48.75\" rx=\"27\" ry=\"27\"/>\n<text text-anchor=\"middle\" x=\"702.22\" y=\"-45.05\" font-family=\"Times,serif\" font-size=\"14.00\">St9</text>\n</g>\n<!-- St8&#45;&gt;St9 -->\n<g id=\"edge10\" class=\"edge\">\n<title>St8&#45;&gt;St9</title>\n<path fill=\"none\" stroke=\"black\" d=\"M630.64,-48.75C640.87,-48.75 653.31,-48.75 664.89,-48.75\"/>\n<polygon fill=\"black\" stroke=\"black\" points=\"665.18,-52.25 675.18,-48.75 665.18,-45.25 665.18,-52.25\"/>\n<text text-anchor=\"middle\" x=\"652.97\" y=\"-52.55\" font-family=\"Times,serif\" font-size=\"14.00\">&#39;&#39; </text>\n</g>\n<!-- St6 -->\n<g id=\"node8\" class=\"node\">\n<title>St6</title>\n<ellipse fill=\"none\" stroke=\"black\" cx=\"424.73\" cy=\"-84.75\" rx=\"23\" ry=\"23\"/>\n<text text-anchor=\"middle\" x=\"424.73\" y=\"-81.05\" font-family=\"Times,serif\" font-size=\"14.00\">St6</text>\n</g>\n<!-- St5&#45;&gt;St6 -->\n<g id=\"edge5\" class=\"edge\">\n<title>St5&#45;&gt;St6</title>\n<path fill=\"none\" stroke=\"black\" d=\"M356.36,-84.75C366.98,-84.75 379.91,-84.75 391.59,-84.75\"/>\n<polygon fill=\"black\" stroke=\"black\" points=\"391.86,-88.25 401.86,-84.75 391.86,-81.25 391.86,-88.25\"/>\n<text text-anchor=\"middle\" x=\"378.98\" y=\"-88.55\" font-family=\"Times,serif\" font-size=\"14.00\">c </text>\n</g>\n<!-- St1&#45;&gt;St2 -->\n<g id=\"edge3\" class=\"edge\">\n<title>St1&#45;&gt;St2</title>\n<path fill=\"none\" stroke=\"black\" d=\"M136.48,-24.02C162.59,-25.54 206.61,-28.12 236.63,-29.87\"/>\n<polygon fill=\"black\" stroke=\"black\" points=\"236.43,-33.37 246.62,-30.45 236.84,-26.38 236.43,-33.37\"/>\n<text text-anchor=\"middle\" x=\"160\" y=\"-29.55\" font-family=\"Times,serif\" font-size=\"14.00\">a </text>\n</g>\n<!-- St6&#45;&gt;St7 -->\n<g id=\"edge9\" class=\"edge\">\n<title>St6&#45;&gt;St7</title>\n<path fill=\"none\" stroke=\"black\" d=\"M446.26,-76.4C457.54,-71.81 471.74,-66.03 484.24,-60.95\"/>\n<polygon fill=\"black\" stroke=\"black\" points=\"485.87,-64.06 493.81,-57.05 483.23,-57.58 485.87,-64.06\"/>\n<text text-anchor=\"middle\" x=\"469.98\" y=\"-71.55\" font-family=\"Times,serif\" font-size=\"14.00\">&#39;&#39; </text>\n</g>\n<!-- St7&#45;&gt;St8 -->\n<g id=\"edge7\" class=\"edge\">\n<title>St7&#45;&gt;St8</title>\n<path fill=\"none\" stroke=\"black\" d=\"M538.13,-48.75C549.06,-48.75 562.48,-48.75 574.55,-48.75\"/>\n<polygon fill=\"black\" stroke=\"black\" points=\"574.71,-52.25 584.71,-48.75 574.71,-45.25 574.71,-52.25\"/>\n<text text-anchor=\"middle\" x=\"561.48\" y=\"-52.55\" font-family=\"Times,serif\" font-size=\"14.00\">d </text>\n</g>\n</g>\n</svg>\n",
            "text/plain": [
              "<graphviz.graphs.Digraph at 0x7d05617f4940>"
            ]
          },
          "metadata": {},
          "execution_count": 29
        }
      ]
    },
    {
      "cell_type": "markdown",
      "source": [
        "-------------------------\n",
        "-------------------------\n",
        "# START OF QUIZ-3\n",
        "-------------------------\n",
        "-------------------------"
      ],
      "metadata": {
        "id": "hIuENQB7pPm7"
      }
    },
    {
      "cell_type": "markdown",
      "source": [
        "### Question-1: Teaches you about Regular Expressions. Be reading Chapter 8 of the book.\n",
        "\n",
        "* Given any alphabet $\\Sigma$ (say $\\Sigma = \\{a,b\\}$), here are all the regular expressions (RE)\n",
        "  - $\\varepsilon$ is a RE *denoting the language* with the empty string \\{ $\\varepsilon$ \\}, otherwise known as the Unit language\n",
        "     - We will say $L$($\\varepsilon$) = \\{ $\\varepsilon$ \\}\n",
        "     - Or in a more friendly syntax, $L$('') = \\{ $\\varepsilon$ \\}\n",
        "  - $x \\in \\Sigma$ is an RE. For us, a and b are REs.\n",
        "     - a is an RE. I.e. $L$(a) = \\{ $a$\\}\n",
        "     - Similarly, b is an RE. I.e. $L$(b) = \\{$b$\\}\n",
        "  - If $R_1$ and $R_2$ are RE, then\n",
        "     - $R_1 + R_2$ is an RE.  \n",
        "       - More specifically $L$($R_1$ + $R_2$) = $L$($R_1$) $\\cup$ $L$($R_2$)\n",
        "     - $R_1 R_2$ is an RE\n",
        "       - More specifically $L$($R_1$  $R_2$) = $L$($R_1$)  $L$($R_2$)\n",
        "  - If $R$ is an RE, then $R^*$ is an RE denoting \\{ L($R$) \\}$^*$"
      ],
      "metadata": {
        "id": "a28Bs4c5fpng"
      }
    },
    {
      "cell_type": "code",
      "source": [],
      "metadata": {
        "id": "D75ApIKEtX9o"
      },
      "execution_count": 29,
      "outputs": []
    },
    {
      "cell_type": "markdown",
      "source": [
        "### What is the language of this RE? ((a+bc)d(''))*\n",
        "### Ans: $((\\{a\\}\\cup(\\{b\\}\\{c\\}))(\\{d\\})(\\{ '' \\}))^*$"
      ],
      "metadata": {
        "id": "Ep69HtIAtAbE"
      }
    },
    {
      "cell_type": "code",
      "source": [
        "# What is the language denoted by the RE ((a+bc)d(''))* ? Let's find out\n",
        "dotObj_nfa(re2nfa(\"((a+bc)d(''))*\"))\n",
        "# We will find it out by reading-out the language of the NFA..."
      ],
      "metadata": {
        "id": "zHrIYQXqsYun",
        "outputId": "9ca8ee62-56d7-4638-bea2-399b4c9058ff",
        "colab": {
          "base_uri": "https://localhost:8080/",
          "height": 254
        }
      },
      "execution_count": 30,
      "outputs": [
        {
          "output_type": "execute_result",
          "data": {
            "image/svg+xml": "<?xml version=\"1.0\" encoding=\"UTF-8\" standalone=\"no\"?>\n<!DOCTYPE svg PUBLIC \"-//W3C//DTD SVG 1.1//EN\"\n \"http://www.w3.org/Graphics/SVG/1.1/DTD/svg11.dtd\">\n<!-- Generated by graphviz version 2.43.0 (0)\n -->\n<!-- Title: %3 Pages: 1 -->\n<svg width=\"835pt\" height=\"160pt\"\n viewBox=\"0.00 0.00 835.26 159.75\" xmlns=\"http://www.w3.org/2000/svg\" xmlns:xlink=\"http://www.w3.org/1999/xlink\">\n<g id=\"graph0\" class=\"graph\" transform=\"scale(1 1) rotate(0) translate(4 155.75)\">\n<title>%3</title>\n<polygon fill=\"white\" stroke=\"transparent\" points=\"-4,4 -4,-155.75 831.26,-155.75 831.26,4 -4,4\"/>\n<!-- EMPTY -->\n<g id=\"node1\" class=\"node\">\n<title>EMPTY</title>\n</g>\n<!-- St10 -->\n<g id=\"node11\" class=\"node\">\n<title>St10</title>\n<ellipse fill=\"none\" stroke=\"black\" cx=\"121.65\" cy=\"-85.75\" rx=\"26.78\" ry=\"26.78\"/>\n<ellipse fill=\"none\" stroke=\"black\" cx=\"121.65\" cy=\"-85.75\" rx=\"30.8\" ry=\"30.8\"/>\n<text text-anchor=\"middle\" x=\"121.65\" y=\"-82.05\" font-family=\"Times,serif\" font-size=\"14.00\">St10</text>\n</g>\n<!-- EMPTY&#45;&gt;St10 -->\n<g id=\"edge1\" class=\"edge\">\n<title>EMPTY&#45;&gt;St10</title>\n<path fill=\"none\" stroke=\"black\" d=\"M54.3,-85.75C62.45,-85.75 71.63,-85.75 80.5,-85.75\"/>\n<polygon fill=\"black\" stroke=\"black\" points=\"80.69,-89.25 90.69,-85.75 80.69,-82.25 80.69,-89.25\"/>\n</g>\n<!-- St3 -->\n<g id=\"node2\" class=\"node\">\n<title>St3</title>\n<ellipse fill=\"none\" stroke=\"black\" cx=\"220.04\" cy=\"-85.75\" rx=\"23\" ry=\"23\"/>\n<text text-anchor=\"middle\" x=\"220.04\" y=\"-82.05\" font-family=\"Times,serif\" font-size=\"14.00\">St3</text>\n</g>\n<!-- St4 -->\n<g id=\"node3\" class=\"node\">\n<title>St4</title>\n<ellipse fill=\"none\" stroke=\"black\" cx=\"312.54\" cy=\"-85.75\" rx=\"23\" ry=\"23\"/>\n<text text-anchor=\"middle\" x=\"312.54\" y=\"-82.05\" font-family=\"Times,serif\" font-size=\"14.00\">St4</text>\n</g>\n<!-- St3&#45;&gt;St4 -->\n<g id=\"edge5\" class=\"edge\">\n<title>St3&#45;&gt;St4</title>\n<path fill=\"none\" stroke=\"black\" d=\"M242.95,-85.75C253.87,-85.75 267.3,-85.75 279.36,-85.75\"/>\n<polygon fill=\"black\" stroke=\"black\" points=\"279.52,-89.25 289.52,-85.75 279.52,-82.25 279.52,-89.25\"/>\n<text text-anchor=\"middle\" x=\"266.29\" y=\"-89.55\" font-family=\"Times,serif\" font-size=\"14.00\">b </text>\n</g>\n<!-- St5 -->\n<g id=\"node6\" class=\"node\">\n<title>St5</title>\n<ellipse fill=\"none\" stroke=\"black\" cx=\"439.53\" cy=\"-85.75\" rx=\"23\" ry=\"23\"/>\n<text text-anchor=\"middle\" x=\"439.53\" y=\"-82.05\" font-family=\"Times,serif\" font-size=\"14.00\">St5</text>\n</g>\n<!-- St4&#45;&gt;St5 -->\n<g id=\"edge7\" class=\"edge\">\n<title>St4&#45;&gt;St5</title>\n<path fill=\"none\" stroke=\"black\" d=\"M335.31,-85.75C355,-85.75 384.23,-85.75 406.56,-85.75\"/>\n<polygon fill=\"black\" stroke=\"black\" points=\"406.59,-89.25 416.59,-85.75 406.59,-82.25 406.59,-89.25\"/>\n<text text-anchor=\"middle\" x=\"376.04\" y=\"-89.55\" font-family=\"Times,serif\" font-size=\"14.00\">&#39;&#39; </text>\n</g>\n<!-- St2 -->\n<g id=\"node4\" class=\"node\">\n<title>St2</title>\n<ellipse fill=\"none\" stroke=\"black\" cx=\"376.04\" cy=\"-31.75\" rx=\"23\" ry=\"23\"/>\n<text text-anchor=\"middle\" x=\"376.04\" y=\"-28.05\" font-family=\"Times,serif\" font-size=\"14.00\">St2</text>\n</g>\n<!-- St7 -->\n<g id=\"node10\" class=\"node\">\n<title>St7</title>\n<ellipse fill=\"none\" stroke=\"black\" cx=\"621.52\" cy=\"-85.75\" rx=\"23\" ry=\"23\"/>\n<text text-anchor=\"middle\" x=\"621.52\" y=\"-82.05\" font-family=\"Times,serif\" font-size=\"14.00\">St7</text>\n</g>\n<!-- St2&#45;&gt;St7 -->\n<g id=\"edge9\" class=\"edge\">\n<title>St2&#45;&gt;St7</title>\n<path fill=\"none\" stroke=\"black\" d=\"M398.99,-32.22C432.86,-33.44 499.63,-37.86 553.78,-53.75 567.11,-57.66 581.08,-63.97 592.78,-69.96\"/>\n<polygon fill=\"black\" stroke=\"black\" points=\"591.14,-73.06 601.61,-74.65 594.42,-66.87 591.14,-73.06\"/>\n<text text-anchor=\"middle\" x=\"485.28\" y=\"-44.55\" font-family=\"Times,serif\" font-size=\"14.00\">&#39;&#39; </text>\n</g>\n<!-- St8 -->\n<g id=\"node5\" class=\"node\">\n<title>St8</title>\n<ellipse fill=\"none\" stroke=\"black\" cx=\"714.02\" cy=\"-85.75\" rx=\"23\" ry=\"23\"/>\n<text text-anchor=\"middle\" x=\"714.02\" y=\"-82.05\" font-family=\"Times,serif\" font-size=\"14.00\">St8</text>\n</g>\n<!-- St9 -->\n<g id=\"node7\" class=\"node\">\n<title>St9</title>\n<ellipse fill=\"none\" stroke=\"black\" cx=\"804.51\" cy=\"-111.75\" rx=\"23\" ry=\"23\"/>\n<text text-anchor=\"middle\" x=\"804.51\" y=\"-108.05\" font-family=\"Times,serif\" font-size=\"14.00\">St9</text>\n</g>\n<!-- St8&#45;&gt;St9 -->\n<g id=\"edge11\" class=\"edge\">\n<title>St8&#45;&gt;St9</title>\n<path fill=\"none\" stroke=\"black\" d=\"M735.99,-91.91C746.93,-95.12 760.53,-99.12 772.65,-102.68\"/>\n<polygon fill=\"black\" stroke=\"black\" points=\"771.81,-106.08 782.39,-105.54 773.78,-99.36 771.81,-106.08\"/>\n<text text-anchor=\"middle\" x=\"759.27\" y=\"-102.55\" font-family=\"Times,serif\" font-size=\"14.00\">&#39;&#39; </text>\n</g>\n<!-- St6 -->\n<g id=\"node9\" class=\"node\">\n<title>St6</title>\n<ellipse fill=\"none\" stroke=\"black\" cx=\"531.03\" cy=\"-85.75\" rx=\"23\" ry=\"23\"/>\n<text text-anchor=\"middle\" x=\"531.03\" y=\"-82.05\" font-family=\"Times,serif\" font-size=\"14.00\">St6</text>\n</g>\n<!-- St5&#45;&gt;St6 -->\n<g id=\"edge6\" class=\"edge\">\n<title>St5&#45;&gt;St6</title>\n<path fill=\"none\" stroke=\"black\" d=\"M462.65,-85.75C473.27,-85.75 486.2,-85.75 497.88,-85.75\"/>\n<polygon fill=\"black\" stroke=\"black\" points=\"498.16,-89.25 508.16,-85.75 498.16,-82.25 498.16,-89.25\"/>\n<text text-anchor=\"middle\" x=\"485.28\" y=\"-89.55\" font-family=\"Times,serif\" font-size=\"14.00\">c </text>\n</g>\n<!-- St9&#45;&gt;St10 -->\n<g id=\"edge12\" class=\"edge\">\n<title>St9&#45;&gt;St10</title>\n<path fill=\"none\" stroke=\"black\" d=\"M783.58,-120.77C765.93,-127.93 739.29,-136.75 715.02,-136.75 219.04,-136.75 219.04,-136.75 219.04,-136.75 195.13,-136.75 171.34,-124.33 153.38,-111.75\"/>\n<polygon fill=\"black\" stroke=\"black\" points=\"155.18,-108.73 145.06,-105.61 151.03,-114.36 155.18,-108.73\"/>\n<text text-anchor=\"middle\" x=\"485.28\" y=\"-140.55\" font-family=\"Times,serif\" font-size=\"14.00\">&#39;&#39; </text>\n</g>\n<!-- St1 -->\n<g id=\"node8\" class=\"node\">\n<title>St1</title>\n<ellipse fill=\"none\" stroke=\"black\" cx=\"220.04\" cy=\"-22.75\" rx=\"23\" ry=\"23\"/>\n<text text-anchor=\"middle\" x=\"220.04\" y=\"-19.05\" font-family=\"Times,serif\" font-size=\"14.00\">St1</text>\n</g>\n<!-- St1&#45;&gt;St2 -->\n<g id=\"edge4\" class=\"edge\">\n<title>St1&#45;&gt;St2</title>\n<path fill=\"none\" stroke=\"black\" d=\"M242.78,-24.02C268.89,-25.54 312.9,-28.12 342.93,-29.87\"/>\n<polygon fill=\"black\" stroke=\"black\" points=\"342.72,-33.37 352.91,-30.45 343.13,-26.38 342.72,-33.37\"/>\n<text text-anchor=\"middle\" x=\"266.29\" y=\"-29.55\" font-family=\"Times,serif\" font-size=\"14.00\">a </text>\n</g>\n<!-- St6&#45;&gt;St7 -->\n<g id=\"edge10\" class=\"edge\">\n<title>St6&#45;&gt;St7</title>\n<path fill=\"none\" stroke=\"black\" d=\"M553.9,-85.75C564.33,-85.75 577,-85.75 588.48,-85.75\"/>\n<polygon fill=\"black\" stroke=\"black\" points=\"588.59,-89.25 598.59,-85.75 588.59,-82.25 588.59,-89.25\"/>\n<text text-anchor=\"middle\" x=\"576.28\" y=\"-89.55\" font-family=\"Times,serif\" font-size=\"14.00\">&#39;&#39; </text>\n</g>\n<!-- St7&#45;&gt;St8 -->\n<g id=\"edge8\" class=\"edge\">\n<title>St7&#45;&gt;St8</title>\n<path fill=\"none\" stroke=\"black\" d=\"M644.43,-85.75C655.35,-85.75 668.78,-85.75 680.84,-85.75\"/>\n<polygon fill=\"black\" stroke=\"black\" points=\"681,-89.25 691,-85.75 681,-82.25 681,-89.25\"/>\n<text text-anchor=\"middle\" x=\"667.77\" y=\"-89.55\" font-family=\"Times,serif\" font-size=\"14.00\">d </text>\n</g>\n<!-- St10&#45;&gt;St3 -->\n<g id=\"edge2\" class=\"edge\">\n<title>St10&#45;&gt;St3</title>\n<path fill=\"none\" stroke=\"black\" d=\"M152.36,-85.75C163.34,-85.75 175.83,-85.75 187.01,-85.75\"/>\n<polygon fill=\"black\" stroke=\"black\" points=\"187.24,-89.25 197.24,-85.75 187.24,-82.25 187.24,-89.25\"/>\n<text text-anchor=\"middle\" x=\"174.8\" y=\"-89.55\" font-family=\"Times,serif\" font-size=\"14.00\">&#39;&#39; </text>\n</g>\n<!-- St10&#45;&gt;St1 -->\n<g id=\"edge3\" class=\"edge\">\n<title>St10&#45;&gt;St1</title>\n<path fill=\"none\" stroke=\"black\" d=\"M147.72,-69.36C161.27,-60.51 178.01,-49.57 191.86,-40.51\"/>\n<polygon fill=\"black\" stroke=\"black\" points=\"194.03,-43.27 200.49,-34.87 190.2,-37.42 194.03,-43.27\"/>\n<text text-anchor=\"middle\" x=\"174.8\" y=\"-58.55\" font-family=\"Times,serif\" font-size=\"14.00\">&#39;&#39; </text>\n</g>\n</g>\n</svg>\n",
            "text/plain": [
              "<graphviz.graphs.Digraph at 0x7d05617f6aa0>"
            ]
          },
          "metadata": {},
          "execution_count": 30
        }
      ]
    },
    {
      "cell_type": "markdown",
      "source": [
        "#### Question-1: What is the rule for doing a Concatenation? Select in the Quiz!"
      ],
      "metadata": {
        "id": "R4T4IMe5ty2O"
      }
    },
    {
      "cell_type": "markdown",
      "source": [
        "## Question-2"
      ],
      "metadata": {
        "id": "PPz0885Tbb3O"
      }
    },
    {
      "cell_type": "markdown",
      "source": [
        "-----------------------"
      ],
      "metadata": {
        "id": "DENaFGGpcmt_"
      }
    },
    {
      "cell_type": "markdown",
      "source": [
        "#### Question-2 : What is the rule for doing an \"OR\" or + ?  . Select in the Quiz!"
      ],
      "metadata": {
        "id": "lSQmV3Lmcmt_"
      }
    },
    {
      "cell_type": "markdown",
      "source": [
        "------------------------------"
      ],
      "metadata": {
        "id": "x2w7Rmylcmt_"
      }
    },
    {
      "cell_type": "markdown",
      "source": [
        "## Question-3"
      ],
      "metadata": {
        "id": "4iZ5sNKlcm5v"
      }
    },
    {
      "cell_type": "markdown",
      "source": [
        "-----------------------"
      ],
      "metadata": {
        "id": "a-DxkqSFcm5w"
      }
    },
    {
      "cell_type": "markdown",
      "source": [
        "#### Question-3: What is the rule for doing a star ?  Select in the Quiz!"
      ],
      "metadata": {
        "id": "lHg0UVzxcm5w"
      }
    },
    {
      "cell_type": "markdown",
      "source": [
        "------------------------------"
      ],
      "metadata": {
        "id": "au1F9kHRcm5w"
      }
    },
    {
      "cell_type": "markdown",
      "source": [
        "## Question-4"
      ],
      "metadata": {
        "id": "dWFUjUkfcnHP"
      }
    },
    {
      "cell_type": "markdown",
      "source": [
        "-----------------------"
      ],
      "metadata": {
        "id": "1Djyz9dvcnHP"
      }
    },
    {
      "cell_type": "markdown",
      "source": [
        "#### Question-4: What is the relationship between the RE (a+b)* and (a*b*)* ?"
      ],
      "metadata": {
        "id": "1P0QLJeBcnHQ"
      }
    },
    {
      "cell_type": "markdown",
      "source": [
        "#### Select in the Quiz!"
      ],
      "metadata": {
        "id": "92805lXIbE4r"
      }
    },
    {
      "cell_type": "markdown",
      "source": [
        "------------------------------"
      ],
      "metadata": {
        "id": "dNB8QtTQbHds"
      }
    },
    {
      "cell_type": "markdown",
      "source": [
        "## Question-5"
      ],
      "metadata": {
        "id": "gR0rrGmdcOvq"
      }
    },
    {
      "cell_type": "markdown",
      "source": [
        "-----------------------"
      ],
      "metadata": {
        "id": "y5YpIaNvcOv1"
      }
    },
    {
      "cell_type": "markdown",
      "source": [
        "#### Question-5: How do I check the work in Question 4?  Select in the Quiz! Notice I deliberately leave out one min_dfa!"
      ],
      "metadata": {
        "id": "m3ci3NK-cOv1"
      }
    },
    {
      "cell_type": "code",
      "source": [
        "D1 = min_dfa(nfa2dfa(re2nfa(\"(a*b*)*\")))\n",
        "D2 = nfa2dfa(re2nfa(\"(a+b)*\"))"
      ],
      "metadata": {
        "id": "YgF_2T-IvTy5"
      },
      "execution_count": 31,
      "outputs": []
    },
    {
      "cell_type": "code",
      "source": [
        "dotObj_dfa(D1, FuseEdges=True)"
      ],
      "metadata": {
        "id": "CUwiLVFWvgLE",
        "outputId": "e0760575-221b-4ff3-e8ed-38361f963d14",
        "colab": {
          "base_uri": "https://localhost:8080/",
          "height": 166
        }
      },
      "execution_count": 32,
      "outputs": [
        {
          "output_type": "execute_result",
          "data": {
            "image/svg+xml": "<?xml version=\"1.0\" encoding=\"UTF-8\" standalone=\"no\"?>\n<!DOCTYPE svg PUBLIC \"-//W3C//DTD SVG 1.1//EN\"\n \"http://www.w3.org/Graphics/SVG/1.1/DTD/svg11.dtd\">\n<!-- Generated by graphviz version 2.43.0 (0)\n -->\n<!-- Title: %3 Pages: 1 -->\n<svg width=\"152pt\" height=\"109pt\"\n viewBox=\"0.00 0.00 152.50 109.50\" xmlns=\"http://www.w3.org/2000/svg\" xmlns:xlink=\"http://www.w3.org/1999/xlink\">\n<g id=\"graph0\" class=\"graph\" transform=\"scale(1 1) rotate(0) translate(4 105.5)\">\n<title>%3</title>\n<polygon fill=\"white\" stroke=\"transparent\" points=\"-4,4 -4,-105.5 148.5,-105.5 148.5,4 -4,4\"/>\n<!-- EMPTY -->\n<g id=\"node1\" class=\"node\">\n<title>EMPTY</title>\n</g>\n<!-- St0 -->\n<g id=\"node2\" class=\"node\">\n<title>St0</title>\n<ellipse fill=\"none\" stroke=\"black\" cx=\"117.75\" cy=\"-26.75\" rx=\"22.96\" ry=\"22.96\"/>\n<ellipse fill=\"none\" stroke=\"black\" cx=\"117.75\" cy=\"-26.75\" rx=\"27\" ry=\"27\"/>\n<text text-anchor=\"middle\" x=\"117.75\" y=\"-23.05\" font-family=\"Times,serif\" font-size=\"14.00\">St0</text>\n</g>\n<!-- EMPTY&#45;&gt;St0 -->\n<g id=\"edge1\" class=\"edge\">\n<title>EMPTY&#45;&gt;St0</title>\n<path fill=\"none\" stroke=\"black\" d=\"M54.15,-26.75C62.45,-26.75 71.79,-26.75 80.67,-26.75\"/>\n<polygon fill=\"black\" stroke=\"black\" points=\"80.79,-30.25 90.79,-26.75 80.79,-23.25 80.79,-30.25\"/>\n</g>\n<!-- St0&#45;&gt;St0 -->\n<g id=\"edge2\" class=\"edge\">\n<title>St0&#45;&gt;St0</title>\n<path fill=\"none\" stroke=\"black\" d=\"M109.55,-52.5C109.09,-62.83 111.82,-71.5 117.75,-71.5 121.55,-71.5 124.03,-67.94 125.21,-62.67\"/>\n<polygon fill=\"black\" stroke=\"black\" points=\"128.71,-62.73 125.95,-52.5 121.73,-62.22 128.71,-62.73\"/>\n<text text-anchor=\"middle\" x=\"117.75\" y=\"-90.3\" font-family=\"Times,serif\" font-size=\"14.00\">b </text>\n<text text-anchor=\"middle\" x=\"117.75\" y=\"-75.3\" font-family=\"Times,serif\" font-size=\"14.00\"> a </text>\n</g>\n</g>\n</svg>\n",
            "text/plain": [
              "<graphviz.graphs.Digraph at 0x7d05617f4d30>"
            ]
          },
          "metadata": {},
          "execution_count": 32
        }
      ]
    },
    {
      "cell_type": "code",
      "source": [
        "dotObj_dfa(D2, FuseEdges=True)"
      ],
      "metadata": {
        "id": "e8Y44bcvvmz1",
        "outputId": "17074dd4-6c10-4a9a-d88c-ad662aabbeaa",
        "colab": {
          "base_uri": "https://localhost:8080/",
          "height": 205
        }
      },
      "execution_count": 33,
      "outputs": [
        {
          "output_type": "execute_result",
          "data": {
            "image/svg+xml": "<?xml version=\"1.0\" encoding=\"UTF-8\" standalone=\"no\"?>\n<!DOCTYPE svg PUBLIC \"-//W3C//DTD SVG 1.1//EN\"\n \"http://www.w3.org/Graphics/SVG/1.1/DTD/svg11.dtd\">\n<!-- Generated by graphviz version 2.43.0 (0)\n -->\n<!-- Title: %3 Pages: 1 -->\n<svg width=\"352pt\" height=\"138pt\"\n viewBox=\"0.00 0.00 352.49 138.50\" xmlns=\"http://www.w3.org/2000/svg\" xmlns:xlink=\"http://www.w3.org/1999/xlink\">\n<g id=\"graph0\" class=\"graph\" transform=\"scale(1 1) rotate(0) translate(4 134.5)\">\n<title>%3</title>\n<polygon fill=\"white\" stroke=\"transparent\" points=\"-4,4 -4,-134.5 348.49,-134.5 348.49,4 -4,4\"/>\n<!-- EMPTY -->\n<g id=\"node1\" class=\"node\">\n<title>EMPTY</title>\n</g>\n<!-- St2 -->\n<g id=\"node3\" class=\"node\">\n<title>St2</title>\n<ellipse fill=\"none\" stroke=\"black\" cx=\"117.75\" cy=\"-26.75\" rx=\"22.96\" ry=\"22.96\"/>\n<ellipse fill=\"none\" stroke=\"black\" cx=\"117.75\" cy=\"-26.75\" rx=\"27\" ry=\"27\"/>\n<text text-anchor=\"middle\" x=\"117.75\" y=\"-23.05\" font-family=\"Times,serif\" font-size=\"14.00\">St2</text>\n</g>\n<!-- EMPTY&#45;&gt;St2 -->\n<g id=\"edge1\" class=\"edge\">\n<title>EMPTY&#45;&gt;St2</title>\n<path fill=\"none\" stroke=\"black\" d=\"M54.15,-26.75C62.45,-26.75 71.79,-26.75 80.67,-26.75\"/>\n<polygon fill=\"black\" stroke=\"black\" points=\"80.79,-30.25 90.79,-26.75 80.79,-23.25 80.79,-30.25\"/>\n</g>\n<!-- St0 -->\n<g id=\"node2\" class=\"node\">\n<title>St0</title>\n<ellipse fill=\"none\" stroke=\"black\" cx=\"217.24\" cy=\"-70.75\" rx=\"22.96\" ry=\"22.96\"/>\n<ellipse fill=\"none\" stroke=\"black\" cx=\"217.24\" cy=\"-70.75\" rx=\"27\" ry=\"27\"/>\n<text text-anchor=\"middle\" x=\"217.24\" y=\"-67.05\" font-family=\"Times,serif\" font-size=\"14.00\">St0</text>\n</g>\n<!-- St0&#45;&gt;St0 -->\n<g id=\"edge7\" class=\"edge\">\n<title>St0&#45;&gt;St0</title>\n<path fill=\"none\" stroke=\"black\" d=\"M208.32,-96.05C207.71,-106.57 210.68,-115.5 217.24,-115.5 221.55,-115.5 224.31,-111.65 225.53,-106.04\"/>\n<polygon fill=\"black\" stroke=\"black\" points=\"229.02,-106.25 226.16,-96.05 222.03,-105.81 229.02,-106.25\"/>\n<text text-anchor=\"middle\" x=\"217.24\" y=\"-119.3\" font-family=\"Times,serif\" font-size=\"14.00\">a </text>\n</g>\n<!-- St1 -->\n<g id=\"node4\" class=\"node\">\n<title>St1</title>\n<ellipse fill=\"none\" stroke=\"black\" cx=\"317.74\" cy=\"-43.75\" rx=\"22.96\" ry=\"22.96\"/>\n<ellipse fill=\"none\" stroke=\"black\" cx=\"317.74\" cy=\"-43.75\" rx=\"27\" ry=\"27\"/>\n<text text-anchor=\"middle\" x=\"317.74\" y=\"-40.05\" font-family=\"Times,serif\" font-size=\"14.00\">St1</text>\n</g>\n<!-- St0&#45;&gt;St1 -->\n<g id=\"edge6\" class=\"edge\">\n<title>St0&#45;&gt;St1</title>\n<path fill=\"none\" stroke=\"black\" d=\"M243.79,-66.45C253.06,-64.67 263.57,-62.4 272.99,-59.75 276.18,-58.85 279.48,-57.83 282.75,-56.75\"/>\n<polygon fill=\"black\" stroke=\"black\" points=\"284.13,-59.97 292.43,-53.38 281.83,-53.36 284.13,-59.97\"/>\n<text text-anchor=\"middle\" x=\"267.49\" y=\"-66.55\" font-family=\"Times,serif\" font-size=\"14.00\">b </text>\n</g>\n<!-- St2&#45;&gt;St0 -->\n<g id=\"edge3\" class=\"edge\">\n<title>St2&#45;&gt;St0</title>\n<path fill=\"none\" stroke=\"black\" d=\"M142.35,-37.4C154.59,-42.92 169.75,-49.77 183.15,-55.81\"/>\n<polygon fill=\"black\" stroke=\"black\" points=\"181.97,-59.12 192.52,-60.04 184.85,-52.74 181.97,-59.12\"/>\n<text text-anchor=\"middle\" x=\"167.5\" y=\"-54.55\" font-family=\"Times,serif\" font-size=\"14.00\">a </text>\n</g>\n<!-- St2&#45;&gt;St1 -->\n<g id=\"edge2\" class=\"edge\">\n<title>St2&#45;&gt;St1</title>\n<path fill=\"none\" stroke=\"black\" d=\"M144.34,-22.13C169.77,-18.29 209.8,-14.25 243.99,-19.75 257.02,-21.84 270.88,-25.92 282.96,-30.12\"/>\n<polygon fill=\"black\" stroke=\"black\" points=\"282.05,-33.52 292.64,-33.65 284.44,-26.94 282.05,-33.52\"/>\n<text text-anchor=\"middle\" x=\"217.24\" y=\"-23.55\" font-family=\"Times,serif\" font-size=\"14.00\">b </text>\n</g>\n<!-- St1&#45;&gt;St0 -->\n<g id=\"edge5\" class=\"edge\">\n<title>St1&#45;&gt;St0</title>\n<path fill=\"none\" stroke=\"black\" d=\"M290.99,-41.51C281.7,-41.41 271.23,-42.12 261.99,-44.75 257.35,-46.07 252.7,-48.01 248.25,-50.25\"/>\n<polygon fill=\"black\" stroke=\"black\" points=\"246.5,-47.21 239.48,-55.15 249.91,-53.33 246.5,-47.21\"/>\n<text text-anchor=\"middle\" x=\"267.49\" y=\"-48.55\" font-family=\"Times,serif\" font-size=\"14.00\">a </text>\n</g>\n<!-- St1&#45;&gt;St1 -->\n<g id=\"edge4\" class=\"edge\">\n<title>St1&#45;&gt;St1</title>\n<path fill=\"none\" stroke=\"black\" d=\"M308.45,-69.05C307.81,-79.57 310.9,-88.5 317.74,-88.5 322.23,-88.5 325.1,-84.65 326.37,-79.04\"/>\n<polygon fill=\"black\" stroke=\"black\" points=\"329.86,-79.26 327.03,-69.05 322.88,-78.79 329.86,-79.26\"/>\n<text text-anchor=\"middle\" x=\"317.74\" y=\"-92.3\" font-family=\"Times,serif\" font-size=\"14.00\">b </text>\n</g>\n</g>\n</svg>\n",
            "text/plain": [
              "<graphviz.graphs.Digraph at 0x7d05617f4be0>"
            ]
          },
          "metadata": {},
          "execution_count": 33
        }
      ]
    },
    {
      "cell_type": "code",
      "source": [
        "langeq_dfa(D1,D2)"
      ],
      "metadata": {
        "id": "-wWxjd9fwJUC",
        "outputId": "bb14d2eb-a8ef-48f6-efce-f4e96dacdd22",
        "colab": {
          "base_uri": "https://localhost:8080/"
        }
      },
      "execution_count": 34,
      "outputs": [
        {
          "output_type": "execute_result",
          "data": {
            "text/plain": [
              "True"
            ]
          },
          "metadata": {},
          "execution_count": 34
        }
      ]
    },
    {
      "cell_type": "code",
      "source": [
        "iso_dfa(D1,D2)"
      ],
      "metadata": {
        "id": "PjPHqf6owNQx",
        "outputId": "8ad20890-b060-45c7-ae03-2ca12a4e3f6b",
        "colab": {
          "base_uri": "https://localhost:8080/"
        }
      },
      "execution_count": 35,
      "outputs": [
        {
          "output_type": "execute_result",
          "data": {
            "text/plain": [
              "False"
            ]
          },
          "metadata": {},
          "execution_count": 35
        }
      ]
    },
    {
      "cell_type": "markdown",
      "source": [
        "------------------------------"
      ],
      "metadata": {
        "id": "WSFTS6G7cOv1"
      }
    },
    {
      "cell_type": "markdown",
      "source": [
        "## Question-6"
      ],
      "metadata": {
        "id": "sZSALAcKcO71"
      }
    },
    {
      "cell_type": "markdown",
      "source": [
        "-----------------------"
      ],
      "metadata": {
        "id": "W-PmAzgmcO72"
      }
    },
    {
      "cell_type": "markdown",
      "source": [
        "#### Question-6: How does min_dfa work? Let's find out! Select in the Quiz! Reading from the book Page 74, Figure 6.7"
      ],
      "metadata": {
        "id": "LCaScFzucO72"
      }
    },
    {
      "cell_type": "markdown",
      "source": [
        "# ==> min_dfa illustration <=="
      ],
      "metadata": {
        "id": "C7dXahQPWv_-"
      }
    },
    {
      "cell_type": "code",
      "source": [
        "Fig67DFA = md2mc('''DFA\n",
        "IS1 : a -> FS2\n",
        "IS1 : b -> FS3\n",
        "\n",
        "FS2 : a -> S4\n",
        "FS2 : b -> S5\n",
        "\n",
        "FS3 : a -> S5\n",
        "FS3 : b -> S4\n",
        "\n",
        "S4 : a|b -> FS6\n",
        "S5 : a|b -> FS6\n",
        "\n",
        "FS6 : a|b -> FS6\n",
        "''')\n",
        "dotObj_dfa(Fig67DFA, FuseEdges=True)"
      ],
      "metadata": {
        "id": "MPeO57NXxzzj",
        "outputId": "3d3f0df3-c04a-4841-8579-b8e9741db897",
        "colab": {
          "base_uri": "https://localhost:8080/",
          "height": 239
        }
      },
      "execution_count": 36,
      "outputs": [
        {
          "output_type": "stream",
          "name": "stderr",
          "text": [
            "Generating LALR tables\n"
          ]
        },
        {
          "output_type": "execute_result",
          "data": {
            "image/svg+xml": "<?xml version=\"1.0\" encoding=\"UTF-8\" standalone=\"no\"?>\n<!DOCTYPE svg PUBLIC \"-//W3C//DTD SVG 1.1//EN\"\n \"http://www.w3.org/Graphics/SVG/1.1/DTD/svg11.dtd\">\n<!-- Generated by graphviz version 2.43.0 (0)\n -->\n<!-- Title: %3 Pages: 1 -->\n<svg width=\"444pt\" height=\"150pt\"\n viewBox=\"0.00 0.00 443.58 150.40\" xmlns=\"http://www.w3.org/2000/svg\" xmlns:xlink=\"http://www.w3.org/1999/xlink\">\n<g id=\"graph0\" class=\"graph\" transform=\"scale(1 1) rotate(0) translate(4 146.4)\">\n<title>%3</title>\n<polygon fill=\"white\" stroke=\"transparent\" points=\"-4,4 -4,-146.4 439.58,-146.4 439.58,4 -4,4\"/>\n<!-- EMPTY -->\n<g id=\"node1\" class=\"node\">\n<title>EMPTY</title>\n</g>\n<!-- IS1 -->\n<g id=\"node2\" class=\"node\">\n<title>IS1</title>\n<ellipse fill=\"none\" stroke=\"black\" cx=\"113.75\" cy=\"-65.7\" rx=\"23\" ry=\"23\"/>\n<text text-anchor=\"middle\" x=\"113.75\" y=\"-62\" font-family=\"Times,serif\" font-size=\"14.00\">IS1</text>\n</g>\n<!-- EMPTY&#45;&gt;IS1 -->\n<g id=\"edge1\" class=\"edge\">\n<title>EMPTY&#45;&gt;IS1</title>\n<path fill=\"none\" stroke=\"black\" d=\"M54.35,-65.7C62.71,-65.7 72.05,-65.7 80.76,-65.7\"/>\n<polygon fill=\"black\" stroke=\"black\" points=\"80.97,-69.2 90.97,-65.7 80.97,-62.2 80.97,-69.2\"/>\n</g>\n<!-- FS2 -->\n<g id=\"node6\" class=\"node\">\n<title>FS2</title>\n<ellipse fill=\"none\" stroke=\"black\" cx=\"212.19\" cy=\"-103.7\" rx=\"24.87\" ry=\"24.87\"/>\n<ellipse fill=\"none\" stroke=\"black\" cx=\"212.19\" cy=\"-103.7\" rx=\"28.9\" ry=\"28.9\"/>\n<text text-anchor=\"middle\" x=\"212.19\" y=\"-100\" font-family=\"Times,serif\" font-size=\"14.00\">FS2</text>\n</g>\n<!-- IS1&#45;&gt;FS2 -->\n<g id=\"edge2\" class=\"edge\">\n<title>IS1&#45;&gt;FS2</title>\n<path fill=\"none\" stroke=\"black\" d=\"M135.2,-73.76C146.95,-78.38 162.03,-84.33 175.66,-89.7\"/>\n<polygon fill=\"black\" stroke=\"black\" points=\"174.67,-93.07 185.25,-93.48 177.23,-86.55 174.67,-93.07\"/>\n<text text-anchor=\"middle\" x=\"160\" y=\"-88.5\" font-family=\"Times,serif\" font-size=\"14.00\">a </text>\n</g>\n<!-- FS3 -->\n<g id=\"node7\" class=\"node\">\n<title>FS3</title>\n<ellipse fill=\"none\" stroke=\"black\" cx=\"212.19\" cy=\"-28.7\" rx=\"24.87\" ry=\"24.87\"/>\n<ellipse fill=\"none\" stroke=\"black\" cx=\"212.19\" cy=\"-28.7\" rx=\"28.9\" ry=\"28.9\"/>\n<text text-anchor=\"middle\" x=\"212.19\" y=\"-25\" font-family=\"Times,serif\" font-size=\"14.00\">FS3</text>\n</g>\n<!-- IS1&#45;&gt;FS3 -->\n<g id=\"edge3\" class=\"edge\">\n<title>IS1&#45;&gt;FS3</title>\n<path fill=\"none\" stroke=\"black\" d=\"M135.2,-57.85C146.95,-53.34 162.03,-47.56 175.66,-42.33\"/>\n<polygon fill=\"black\" stroke=\"black\" points=\"177.17,-45.5 185.25,-38.65 174.66,-38.96 177.17,-45.5\"/>\n<text text-anchor=\"middle\" x=\"160\" y=\"-52.5\" font-family=\"Times,serif\" font-size=\"14.00\">b </text>\n</g>\n<!-- S4 -->\n<g id=\"node3\" class=\"node\">\n<title>S4</title>\n<ellipse fill=\"none\" stroke=\"black\" cx=\"308.04\" cy=\"-95.7\" rx=\"20.3\" ry=\"20.3\"/>\n<text text-anchor=\"middle\" x=\"308.04\" y=\"-92\" font-family=\"Times,serif\" font-size=\"14.00\">S4</text>\n</g>\n<!-- FS6 -->\n<g id=\"node5\" class=\"node\">\n<title>FS6</title>\n<ellipse fill=\"none\" stroke=\"black\" cx=\"406.89\" cy=\"-65.7\" rx=\"24.87\" ry=\"24.87\"/>\n<ellipse fill=\"none\" stroke=\"black\" cx=\"406.89\" cy=\"-65.7\" rx=\"28.9\" ry=\"28.9\"/>\n<text text-anchor=\"middle\" x=\"406.89\" y=\"-62\" font-family=\"Times,serif\" font-size=\"14.00\">FS6</text>\n</g>\n<!-- S4&#45;&gt;FS6 -->\n<g id=\"edge8\" class=\"edge\">\n<title>S4&#45;&gt;FS6</title>\n<path fill=\"none\" stroke=\"black\" d=\"M327.71,-89.91C339.59,-86.23 355.37,-81.35 369.64,-76.93\"/>\n<polygon fill=\"black\" stroke=\"black\" points=\"370.7,-80.26 379.21,-73.96 368.63,-73.58 370.7,-80.26\"/>\n<text text-anchor=\"middle\" x=\"353.19\" y=\"-101.5\" font-family=\"Times,serif\" font-size=\"14.00\">b </text>\n<text text-anchor=\"middle\" x=\"353.19\" y=\"-86.5\" font-family=\"Times,serif\" font-size=\"14.00\"> a </text>\n</g>\n<!-- S5 -->\n<g id=\"node4\" class=\"node\">\n<title>S5</title>\n<ellipse fill=\"none\" stroke=\"black\" cx=\"308.04\" cy=\"-37.7\" rx=\"20.3\" ry=\"20.3\"/>\n<text text-anchor=\"middle\" x=\"308.04\" y=\"-34\" font-family=\"Times,serif\" font-size=\"14.00\">S5</text>\n</g>\n<!-- S5&#45;&gt;FS6 -->\n<g id=\"edge9\" class=\"edge\">\n<title>S5&#45;&gt;FS6</title>\n<path fill=\"none\" stroke=\"black\" d=\"M328.31,-37.38C338.04,-37.67 349.92,-38.74 360.19,-41.7 364.35,-42.9 368.58,-44.5 372.69,-46.32\"/>\n<polygon fill=\"black\" stroke=\"black\" points=\"371.47,-49.61 381.99,-50.83 374.52,-43.32 371.47,-49.61\"/>\n<text text-anchor=\"middle\" x=\"353.19\" y=\"-60.5\" font-family=\"Times,serif\" font-size=\"14.00\">b </text>\n<text text-anchor=\"middle\" x=\"353.19\" y=\"-45.5\" font-family=\"Times,serif\" font-size=\"14.00\"> a </text>\n</g>\n<!-- FS6&#45;&gt;FS6 -->\n<g id=\"edge10\" class=\"edge\">\n<title>FS6&#45;&gt;FS6</title>\n<path fill=\"none\" stroke=\"black\" d=\"M397.17,-93.04C396.74,-103.61 399.98,-112.4 406.89,-112.4 411.42,-112.4 414.37,-108.61 415.74,-103.02\"/>\n<polygon fill=\"black\" stroke=\"black\" points=\"419.23,-103.3 416.6,-93.04 412.26,-102.7 419.23,-103.3\"/>\n<text text-anchor=\"middle\" x=\"406.89\" y=\"-131.2\" font-family=\"Times,serif\" font-size=\"14.00\">b </text>\n<text text-anchor=\"middle\" x=\"406.89\" y=\"-116.2\" font-family=\"Times,serif\" font-size=\"14.00\"> a </text>\n</g>\n<!-- FS2&#45;&gt;S4 -->\n<g id=\"edge4\" class=\"edge\">\n<title>FS2&#45;&gt;S4</title>\n<path fill=\"none\" stroke=\"black\" d=\"M240.92,-103.41C250.16,-103.13 260.48,-102.62 269.89,-101.7 272.45,-101.45 275.1,-101.13 277.76,-100.78\"/>\n<polygon fill=\"black\" stroke=\"black\" points=\"278.45,-104.21 287.82,-99.27 277.41,-97.29 278.45,-104.21\"/>\n<text text-anchor=\"middle\" x=\"264.39\" y=\"-105.5\" font-family=\"Times,serif\" font-size=\"14.00\">a </text>\n</g>\n<!-- FS2&#45;&gt;S5 -->\n<g id=\"edge5\" class=\"edge\">\n<title>FS2&#45;&gt;S5</title>\n<path fill=\"none\" stroke=\"black\" d=\"M236.39,-87.38C250.51,-77.46 268.51,-64.8 282.8,-54.74\"/>\n<polygon fill=\"black\" stroke=\"black\" points=\"285,-57.48 291.16,-48.86 280.97,-51.75 285,-57.48\"/>\n<text text-anchor=\"middle\" x=\"264.39\" y=\"-74.5\" font-family=\"Times,serif\" font-size=\"14.00\">b </text>\n</g>\n<!-- FS3&#45;&gt;S4 -->\n<g id=\"edge7\" class=\"edge\">\n<title>FS3&#45;&gt;S4</title>\n<path fill=\"none\" stroke=\"black\" d=\"M240.74,-33.22C250.57,-35.76 261.31,-39.68 269.89,-45.7 275.06,-49.32 283.25,-60.05 290.62,-70.64\"/>\n<polygon fill=\"black\" stroke=\"black\" points=\"287.76,-72.66 296.28,-78.96 293.55,-68.73 287.76,-72.66\"/>\n<text text-anchor=\"middle\" x=\"264.39\" y=\"-49.5\" font-family=\"Times,serif\" font-size=\"14.00\">b </text>\n</g>\n<!-- FS3&#45;&gt;S5 -->\n<g id=\"edge6\" class=\"edge\">\n<title>FS3&#45;&gt;S5</title>\n<path fill=\"none\" stroke=\"black\" d=\"M237.22,-14.27C247.32,-9.96 259.19,-7.22 269.89,-10.7 274.97,-12.35 279.94,-14.99 284.51,-17.98\"/>\n<polygon fill=\"black\" stroke=\"black\" points=\"282.58,-20.91 292.71,-24.01 286.73,-15.27 282.58,-20.91\"/>\n<text text-anchor=\"middle\" x=\"264.39\" y=\"-14.5\" font-family=\"Times,serif\" font-size=\"14.00\">a </text>\n</g>\n</g>\n</svg>\n",
            "text/plain": [
              "<graphviz.graphs.Digraph at 0x7d05617f4a90>"
            ]
          },
          "metadata": {},
          "execution_count": 36
        }
      ]
    },
    {
      "cell_type": "code",
      "source": [
        "min_Fig67DFA = min_dfa(Fig67DFA, chatty=True)"
      ],
      "metadata": {
        "id": "GXl4bZk7yRj8",
        "outputId": "63936735-c449-4c47-a45a-6ce700e0f767",
        "colab": {
          "base_uri": "https://localhost:8080/"
        }
      },
      "execution_count": 37,
      "outputs": [
        {
          "output_type": "stream",
          "name": "stdout",
          "text": [
            "Separating final and non-final states (marking 0-distinguishable entries).\n",
            "Separating final and non-final states (marking 0-distinguishable entries).\n",
            "   The 0-distinguishable entries are:\n",
            "States  IS1  and  FS6  are 0-distinguished.\n",
            "States  IS1  and  FS3  are 0-distinguished.\n",
            "States  IS1  and  FS2  are 0-distinguished.\n",
            "States  S5  and  FS6  are 0-distinguished.\n",
            "States  S5  and  FS3  are 0-distinguished.\n",
            "States  S5  and  FS2  are 0-distinguished.\n",
            "States  FS6  and  S4  are 0-distinguished.\n",
            "States  FS3  and  S4  are 0-distinguished.\n",
            "States  S4  and  FS2  are 0-distinguished.\n",
            "--------------------------------------------- \n",
            " Dyn Prog Table Version 0 is :\n",
            "--------------------------------------------- \n",
            "\t S5 \t .\n",
            "\t FS6 \t 0\t0\n",
            "\t FS3 \t 0\t0\t.\n",
            "\t S4 \t .\t.\t0\t0\n",
            "\t FS2 \t 0\t0\t.\t.\t0\n",
            "\n",
            "\t\t IS1\tS5\tFS6\tFS3\tS4\n",
            "--------------------------------------------- \n",
            " \n",
            "Seeing if states  IS1  and  S5  can now be distinguished by any symbol.\n",
            "   The next states reached via symbol  b  are:  FS3  and  FS6\n",
            "   Cannot distinguish yet, via  b\n",
            "   The next states reached via symbol  a  are:  FS2  and  FS6\n",
            "   Cannot distinguish yet, via  a\n",
            " \n",
            "Seeing if states  IS1  and  S4  can now be distinguished by any symbol.\n",
            "   The next states reached via symbol  b  are:  FS3  and  FS6\n",
            "   Cannot distinguish yet, via  b\n",
            "   The next states reached via symbol  a  are:  FS2  and  FS6\n",
            "   Cannot distinguish yet, via  a\n",
            " \n",
            "Seeing if states  S5  and  S4  can now be distinguished by any symbol.\n",
            "   The next states reached via symbol  b  are:  FS6  and  FS6\n",
            "      Nope. Symbol  b  could not distinguish (the next states are the same).\n",
            "   The next states reached via symbol  a  are:  FS6  and  FS6\n",
            "      Nope. Symbol  a  could not distinguish (the next states are the same).\n",
            " \n",
            "Seeing if states  FS6  and  FS3  can now be distinguished by any symbol.\n",
            "   The next states reached via symbol  b  are:  FS6  and  S4\n",
            "***  Found a distinguishable pair !! ***\n",
            "      Since  ('FS6', 'S4')  are  0  distinguishable, marking  ('FS6', 'FS3')  as  1  distinguishable.\n",
            "         Hence, must continue through one more sweep of the algorithm.\n",
            " \n",
            "Seeing if states  FS6  and  FS2  can now be distinguished by any symbol.\n",
            "   The next states reached via symbol  b  are:  FS6  and  S5\n",
            "   Found a distinguishable pair!\n",
            "      Since  ('FS6', 'S5')  are  0  distinguishable, marking  ('FS6', 'FS2')  as  1  distinguishable.\n",
            "         Hence, must continue through one more sweep of the algorithm.\n",
            " \n",
            "Seeing if states  FS3  and  FS2  can now be distinguished by any symbol.\n",
            "   The next states reached via symbol  b  are:  S4  and  S5\n",
            "   Cannot distinguish yet, via  b\n",
            "   The next states reached via symbol  a  are:  S5  and  S4\n",
            "   Cannot distinguish yet, via  a\n",
            "--------------------------------------------- \n",
            " Dyn Prog Table Version 1 is :\n",
            "--------------------------------------------- \n",
            "\t S5 \t .\n",
            "\t FS6 \t 0\t0\n",
            "\t FS3 \t 0\t0\t1\n",
            "\t S4 \t .\t.\t0\t0\n",
            "\t FS2 \t 0\t0\t1\t.\t0\n",
            "\n",
            "\t\t IS1\tS5\tFS6\tFS3\tS4\n",
            "--------------------------------------------- \n",
            " \n",
            "Seeing if states  IS1  and  S5  can now be distinguished by any symbol.\n",
            "   The next states reached via symbol  b  are:  FS3  and  FS6\n",
            "   Found a distinguishable pair!\n",
            "      Since  ('FS3', 'FS6')  are  1  distinguishable, marking  ('IS1', 'S5')  as  2  distinguishable.\n",
            "         Hence, must continue through one more sweep of the algorithm.\n",
            " \n",
            "Seeing if states  IS1  and  S4  can now be distinguished by any symbol.\n",
            "   The next states reached via symbol  b  are:  FS3  and  FS6\n",
            "   Found a distinguishable pair!\n",
            "      Since  ('FS3', 'FS6')  are  1  distinguishable, marking  ('IS1', 'S4')  as  2  distinguishable.\n",
            "         Hence, must continue through one more sweep of the algorithm.\n",
            " \n",
            "Seeing if states  S5  and  S4  can now be distinguished by any symbol.\n",
            "   The next states reached via symbol  b  are:  FS6  and  FS6\n",
            "      Nope. Symbol  b  could not distinguish (the next states are the same).\n",
            "   The next states reached via symbol  a  are:  FS6  and  FS6\n",
            "      Nope. Symbol  a  could not distinguish (the next states are the same).\n",
            " \n",
            "Seeing if states  FS6  and  FS3  can now be distinguished by any symbol.\n",
            "   The next states reached via symbol  b  are:  FS6  and  S4\n",
            "   The next states reached via symbol  a  are:  FS6  and  S5\n",
            " \n",
            "Seeing if states  FS6  and  FS2  can now be distinguished by any symbol.\n",
            "   The next states reached via symbol  b  are:  FS6  and  S5\n",
            "   The next states reached via symbol  a  are:  FS6  and  S4\n",
            " \n",
            "Seeing if states  FS3  and  FS2  can now be distinguished by any symbol.\n",
            "   The next states reached via symbol  b  are:  S4  and  S5\n",
            "   Cannot distinguish yet, via  b\n",
            "   The next states reached via symbol  a  are:  S5  and  S4\n",
            "   Cannot distinguish yet, via  a\n",
            "--------------------------------------------- \n",
            " Dyn Prog Table Version 2 is :\n",
            "--------------------------------------------- \n",
            "\t S5 \t 2\n",
            "\t FS6 \t 0\t0\n",
            "\t FS3 \t 0\t0\t1\n",
            "\t S4 \t 2\t.\t0\t0\n",
            "\t FS2 \t 0\t0\t1\t.\t0\n",
            "\n",
            "\t\t IS1\tS5\tFS6\tFS3\tS4\n",
            "--------------------------------------------- \n",
            " \n",
            "Seeing if states  IS1  and  S5  can now be distinguished by any symbol.\n",
            "   The next states reached via symbol  b  are:  FS3  and  FS6\n",
            "   The next states reached via symbol  a  are:  FS2  and  FS6\n",
            " \n",
            "Seeing if states  IS1  and  S4  can now be distinguished by any symbol.\n",
            "   The next states reached via symbol  b  are:  FS3  and  FS6\n",
            "   The next states reached via symbol  a  are:  FS2  and  FS6\n",
            " \n",
            "Seeing if states  S5  and  S4  can now be distinguished by any symbol.\n",
            "   The next states reached via symbol  b  are:  FS6  and  FS6\n",
            "      Nope. Symbol  b  could not distinguish (the next states are the same).\n",
            "   The next states reached via symbol  a  are:  FS6  and  FS6\n",
            "      Nope. Symbol  a  could not distinguish (the next states are the same).\n",
            " \n",
            "Seeing if states  FS6  and  FS3  can now be distinguished by any symbol.\n",
            "   The next states reached via symbol  b  are:  FS6  and  S4\n",
            "   The next states reached via symbol  a  are:  FS6  and  S5\n",
            " \n",
            "Seeing if states  FS6  and  FS2  can now be distinguished by any symbol.\n",
            "   The next states reached via symbol  b  are:  FS6  and  S5\n",
            "   The next states reached via symbol  a  are:  FS6  and  S4\n",
            " \n",
            "Seeing if states  FS3  and  FS2  can now be distinguished by any symbol.\n",
            "   The next states reached via symbol  b  are:  S4  and  S5\n",
            "   Cannot distinguish yet, via  b\n",
            "   The next states reached via symbol  a  are:  S5  and  S4\n",
            "   Cannot distinguish yet, via  a\n",
            "*** The Dyn Prog tables have stabilized at the one below ***\n",
            "--------------------------------------------- \n",
            " Dyn Prog Table Version 2 is :\n",
            "--------------------------------------------- \n",
            "\t S5 \t 2\n",
            "\t FS6 \t 0\t0\n",
            "\t FS3 \t 0\t0\t1\n",
            "\t S4 \t 2\t.\t0\t0\n",
            "\t FS2 \t 0\t0\t1\t.\t0\n",
            "\n",
            "\t\t IS1\tS5\tFS6\tFS3\tS4\n",
            "--------------------------------------------- \n",
            " \n",
            "Now, collecting equivalence-classes.\n",
            "   The equivalent pairs are:\n",
            "   The merged equivalent classes and representative states are these:\n",
            "State  FS2  represents the equivalent states  ['FS2', 'FS3']\n",
            "State  S4  represents the equivalent states  ['S4', 'S5']\n"
          ]
        }
      ]
    },
    {
      "cell_type": "markdown",
      "source": [
        "#### Question-6: How were the 0-distinguishable states chosen? Select from Quiz-3!"
      ],
      "metadata": {
        "id": "--hCYzQs-h29"
      }
    },
    {
      "cell_type": "code",
      "source": [
        "dotObj_dfa(min_Fig67DFA, FuseEdges=True)"
      ],
      "metadata": {
        "id": "KLLehi_tyasI",
        "outputId": "d0026ddc-605d-40e5-8458-a1ad15f1ba1b",
        "colab": {
          "base_uri": "https://localhost:8080/",
          "height": 172
        }
      },
      "execution_count": 38,
      "outputs": [
        {
          "output_type": "execute_result",
          "data": {
            "image/svg+xml": "<?xml version=\"1.0\" encoding=\"UTF-8\" standalone=\"no\"?>\n<!DOCTYPE svg PUBLIC \"-//W3C//DTD SVG 1.1//EN\"\n \"http://www.w3.org/Graphics/SVG/1.1/DTD/svg11.dtd\">\n<!-- Generated by graphviz version 2.43.0 (0)\n -->\n<!-- Title: %3 Pages: 1 -->\n<svg width=\"450pt\" height=\"113pt\"\n viewBox=\"0.00 0.00 449.58 113.40\" xmlns=\"http://www.w3.org/2000/svg\" xmlns:xlink=\"http://www.w3.org/1999/xlink\">\n<g id=\"graph0\" class=\"graph\" transform=\"scale(1 1) rotate(0) translate(4 109.4)\">\n<title>%3</title>\n<polygon fill=\"white\" stroke=\"transparent\" points=\"-4,4 -4,-109.4 445.58,-109.4 445.58,4 -4,4\"/>\n<!-- EMPTY -->\n<g id=\"node1\" class=\"node\">\n<title>EMPTY</title>\n</g>\n<!-- IS1 -->\n<g id=\"node2\" class=\"node\">\n<title>IS1</title>\n<ellipse fill=\"none\" stroke=\"black\" cx=\"113.75\" cy=\"-28.7\" rx=\"23\" ry=\"23\"/>\n<text text-anchor=\"middle\" x=\"113.75\" y=\"-25\" font-family=\"Times,serif\" font-size=\"14.00\">IS1</text>\n</g>\n<!-- EMPTY&#45;&gt;IS1 -->\n<g id=\"edge1\" class=\"edge\">\n<title>EMPTY&#45;&gt;IS1</title>\n<path fill=\"none\" stroke=\"black\" d=\"M54.35,-28.7C62.71,-28.7 72.05,-28.7 80.76,-28.7\"/>\n<polygon fill=\"black\" stroke=\"black\" points=\"80.97,-32.2 90.97,-28.7 80.97,-25.2 80.97,-32.2\"/>\n</g>\n<!-- FS2 -->\n<g id=\"node5\" class=\"node\">\n<title>FS2</title>\n<ellipse fill=\"none\" stroke=\"black\" cx=\"215.19\" cy=\"-28.7\" rx=\"24.87\" ry=\"24.87\"/>\n<ellipse fill=\"none\" stroke=\"black\" cx=\"215.19\" cy=\"-28.7\" rx=\"28.9\" ry=\"28.9\"/>\n<text text-anchor=\"middle\" x=\"215.19\" y=\"-25\" font-family=\"Times,serif\" font-size=\"14.00\">FS2</text>\n</g>\n<!-- IS1&#45;&gt;FS2 -->\n<g id=\"edge2\" class=\"edge\">\n<title>IS1&#45;&gt;FS2</title>\n<path fill=\"none\" stroke=\"black\" d=\"M136.82,-28.7C148.38,-28.7 162.86,-28.7 176.16,-28.7\"/>\n<polygon fill=\"black\" stroke=\"black\" points=\"176.49,-32.2 186.49,-28.7 176.49,-25.2 176.49,-32.2\"/>\n<text text-anchor=\"middle\" x=\"161.5\" y=\"-47.5\" font-family=\"Times,serif\" font-size=\"14.00\">b </text>\n<text text-anchor=\"middle\" x=\"161.5\" y=\"-32.5\" font-family=\"Times,serif\" font-size=\"14.00\"> a </text>\n</g>\n<!-- S4 -->\n<g id=\"node3\" class=\"node\">\n<title>S4</title>\n<ellipse fill=\"none\" stroke=\"black\" cx=\"314.04\" cy=\"-28.7\" rx=\"20.3\" ry=\"20.3\"/>\n<text text-anchor=\"middle\" x=\"314.04\" y=\"-25\" font-family=\"Times,serif\" font-size=\"14.00\">S4</text>\n</g>\n<!-- FS6 -->\n<g id=\"node4\" class=\"node\">\n<title>FS6</title>\n<ellipse fill=\"none\" stroke=\"black\" cx=\"412.89\" cy=\"-28.7\" rx=\"24.87\" ry=\"24.87\"/>\n<ellipse fill=\"none\" stroke=\"black\" cx=\"412.89\" cy=\"-28.7\" rx=\"28.9\" ry=\"28.9\"/>\n<text text-anchor=\"middle\" x=\"412.89\" y=\"-25\" font-family=\"Times,serif\" font-size=\"14.00\">FS6</text>\n</g>\n<!-- S4&#45;&gt;FS6 -->\n<g id=\"edge4\" class=\"edge\">\n<title>S4&#45;&gt;FS6</title>\n<path fill=\"none\" stroke=\"black\" d=\"M334.64,-28.7C345.8,-28.7 360.18,-28.7 373.5,-28.7\"/>\n<polygon fill=\"black\" stroke=\"black\" points=\"373.87,-32.2 383.87,-28.7 373.87,-25.2 373.87,-32.2\"/>\n<text text-anchor=\"middle\" x=\"359.19\" y=\"-47.5\" font-family=\"Times,serif\" font-size=\"14.00\">b </text>\n<text text-anchor=\"middle\" x=\"359.19\" y=\"-32.5\" font-family=\"Times,serif\" font-size=\"14.00\"> a </text>\n</g>\n<!-- FS6&#45;&gt;FS6 -->\n<g id=\"edge5\" class=\"edge\">\n<title>FS6&#45;&gt;FS6</title>\n<path fill=\"none\" stroke=\"black\" d=\"M403.17,-56.04C402.74,-66.61 405.98,-75.4 412.89,-75.4 417.42,-75.4 420.37,-71.61 421.74,-66.02\"/>\n<polygon fill=\"black\" stroke=\"black\" points=\"425.23,-66.3 422.6,-56.04 418.26,-65.7 425.23,-66.3\"/>\n<text text-anchor=\"middle\" x=\"412.89\" y=\"-94.2\" font-family=\"Times,serif\" font-size=\"14.00\">b </text>\n<text text-anchor=\"middle\" x=\"412.89\" y=\"-79.2\" font-family=\"Times,serif\" font-size=\"14.00\"> a </text>\n</g>\n<!-- FS2&#45;&gt;S4 -->\n<g id=\"edge3\" class=\"edge\">\n<title>FS2&#45;&gt;S4</title>\n<path fill=\"none\" stroke=\"black\" d=\"M243.95,-28.7C256.43,-28.7 271.18,-28.7 283.84,-28.7\"/>\n<polygon fill=\"black\" stroke=\"black\" points=\"283.88,-32.2 293.88,-28.7 283.88,-25.2 283.88,-32.2\"/>\n<text text-anchor=\"middle\" x=\"268.89\" y=\"-47.5\" font-family=\"Times,serif\" font-size=\"14.00\">b </text>\n<text text-anchor=\"middle\" x=\"268.89\" y=\"-32.5\" font-family=\"Times,serif\" font-size=\"14.00\"> a </text>\n</g>\n</g>\n</svg>\n",
            "text/plain": [
              "<graphviz.graphs.Digraph at 0x7d056229e230>"
            ]
          },
          "metadata": {},
          "execution_count": 38
        }
      ]
    },
    {
      "cell_type": "markdown",
      "source": [
        "# ==> Try Brzozowski's algorithm on Fig67DFA <=="
      ],
      "metadata": {
        "id": "IDbkNFqbQr_z"
      }
    },
    {
      "cell_type": "code",
      "source": [
        "dotObj_dfa(Fig67DFA, FuseEdges=True)"
      ],
      "metadata": {
        "id": "oxRYUOZcRU5i",
        "outputId": "0b41f76c-908a-4f31-8954-8faf1ed345b3",
        "colab": {
          "base_uri": "https://localhost:8080/",
          "height": 221
        }
      },
      "execution_count": 87,
      "outputs": [
        {
          "output_type": "execute_result",
          "data": {
            "image/svg+xml": "<?xml version=\"1.0\" encoding=\"UTF-8\" standalone=\"no\"?>\n<!DOCTYPE svg PUBLIC \"-//W3C//DTD SVG 1.1//EN\"\n \"http://www.w3.org/Graphics/SVG/1.1/DTD/svg11.dtd\">\n<!-- Generated by graphviz version 2.43.0 (0)\n -->\n<!-- Title: %3 Pages: 1 -->\n<svg width=\"444pt\" height=\"150pt\"\n viewBox=\"0.00 0.00 443.58 150.40\" xmlns=\"http://www.w3.org/2000/svg\" xmlns:xlink=\"http://www.w3.org/1999/xlink\">\n<g id=\"graph0\" class=\"graph\" transform=\"scale(1 1) rotate(0) translate(4 146.4)\">\n<title>%3</title>\n<polygon fill=\"white\" stroke=\"transparent\" points=\"-4,4 -4,-146.4 439.58,-146.4 439.58,4 -4,4\"/>\n<!-- EMPTY -->\n<g id=\"node1\" class=\"node\">\n<title>EMPTY</title>\n</g>\n<!-- IS1 -->\n<g id=\"node2\" class=\"node\">\n<title>IS1</title>\n<ellipse fill=\"none\" stroke=\"black\" cx=\"113.75\" cy=\"-65.7\" rx=\"23\" ry=\"23\"/>\n<text text-anchor=\"middle\" x=\"113.75\" y=\"-62\" font-family=\"Times,serif\" font-size=\"14.00\">IS1</text>\n</g>\n<!-- EMPTY&#45;&gt;IS1 -->\n<g id=\"edge1\" class=\"edge\">\n<title>EMPTY&#45;&gt;IS1</title>\n<path fill=\"none\" stroke=\"black\" d=\"M54.35,-65.7C62.71,-65.7 72.05,-65.7 80.76,-65.7\"/>\n<polygon fill=\"black\" stroke=\"black\" points=\"80.97,-69.2 90.97,-65.7 80.97,-62.2 80.97,-69.2\"/>\n</g>\n<!-- FS2 -->\n<g id=\"node6\" class=\"node\">\n<title>FS2</title>\n<ellipse fill=\"none\" stroke=\"black\" cx=\"212.19\" cy=\"-103.7\" rx=\"24.87\" ry=\"24.87\"/>\n<ellipse fill=\"none\" stroke=\"black\" cx=\"212.19\" cy=\"-103.7\" rx=\"28.9\" ry=\"28.9\"/>\n<text text-anchor=\"middle\" x=\"212.19\" y=\"-100\" font-family=\"Times,serif\" font-size=\"14.00\">FS2</text>\n</g>\n<!-- IS1&#45;&gt;FS2 -->\n<g id=\"edge2\" class=\"edge\">\n<title>IS1&#45;&gt;FS2</title>\n<path fill=\"none\" stroke=\"black\" d=\"M135.2,-73.76C146.95,-78.38 162.03,-84.33 175.66,-89.7\"/>\n<polygon fill=\"black\" stroke=\"black\" points=\"174.67,-93.07 185.25,-93.48 177.23,-86.55 174.67,-93.07\"/>\n<text text-anchor=\"middle\" x=\"160\" y=\"-88.5\" font-family=\"Times,serif\" font-size=\"14.00\">a </text>\n</g>\n<!-- FS3 -->\n<g id=\"node7\" class=\"node\">\n<title>FS3</title>\n<ellipse fill=\"none\" stroke=\"black\" cx=\"212.19\" cy=\"-28.7\" rx=\"24.87\" ry=\"24.87\"/>\n<ellipse fill=\"none\" stroke=\"black\" cx=\"212.19\" cy=\"-28.7\" rx=\"28.9\" ry=\"28.9\"/>\n<text text-anchor=\"middle\" x=\"212.19\" y=\"-25\" font-family=\"Times,serif\" font-size=\"14.00\">FS3</text>\n</g>\n<!-- IS1&#45;&gt;FS3 -->\n<g id=\"edge3\" class=\"edge\">\n<title>IS1&#45;&gt;FS3</title>\n<path fill=\"none\" stroke=\"black\" d=\"M135.2,-57.85C146.95,-53.34 162.03,-47.56 175.66,-42.33\"/>\n<polygon fill=\"black\" stroke=\"black\" points=\"177.17,-45.5 185.25,-38.65 174.66,-38.96 177.17,-45.5\"/>\n<text text-anchor=\"middle\" x=\"160\" y=\"-52.5\" font-family=\"Times,serif\" font-size=\"14.00\">b </text>\n</g>\n<!-- S4 -->\n<g id=\"node3\" class=\"node\">\n<title>S4</title>\n<ellipse fill=\"none\" stroke=\"black\" cx=\"308.04\" cy=\"-95.7\" rx=\"20.3\" ry=\"20.3\"/>\n<text text-anchor=\"middle\" x=\"308.04\" y=\"-92\" font-family=\"Times,serif\" font-size=\"14.00\">S4</text>\n</g>\n<!-- FS6 -->\n<g id=\"node5\" class=\"node\">\n<title>FS6</title>\n<ellipse fill=\"none\" stroke=\"black\" cx=\"406.89\" cy=\"-65.7\" rx=\"24.87\" ry=\"24.87\"/>\n<ellipse fill=\"none\" stroke=\"black\" cx=\"406.89\" cy=\"-65.7\" rx=\"28.9\" ry=\"28.9\"/>\n<text text-anchor=\"middle\" x=\"406.89\" y=\"-62\" font-family=\"Times,serif\" font-size=\"14.00\">FS6</text>\n</g>\n<!-- S4&#45;&gt;FS6 -->\n<g id=\"edge8\" class=\"edge\">\n<title>S4&#45;&gt;FS6</title>\n<path fill=\"none\" stroke=\"black\" d=\"M327.71,-89.91C339.59,-86.23 355.37,-81.35 369.64,-76.93\"/>\n<polygon fill=\"black\" stroke=\"black\" points=\"370.7,-80.26 379.21,-73.96 368.63,-73.58 370.7,-80.26\"/>\n<text text-anchor=\"middle\" x=\"353.19\" y=\"-101.5\" font-family=\"Times,serif\" font-size=\"14.00\">b </text>\n<text text-anchor=\"middle\" x=\"353.19\" y=\"-86.5\" font-family=\"Times,serif\" font-size=\"14.00\"> a </text>\n</g>\n<!-- S5 -->\n<g id=\"node4\" class=\"node\">\n<title>S5</title>\n<ellipse fill=\"none\" stroke=\"black\" cx=\"308.04\" cy=\"-37.7\" rx=\"20.3\" ry=\"20.3\"/>\n<text text-anchor=\"middle\" x=\"308.04\" y=\"-34\" font-family=\"Times,serif\" font-size=\"14.00\">S5</text>\n</g>\n<!-- S5&#45;&gt;FS6 -->\n<g id=\"edge9\" class=\"edge\">\n<title>S5&#45;&gt;FS6</title>\n<path fill=\"none\" stroke=\"black\" d=\"M328.31,-37.38C338.04,-37.67 349.92,-38.74 360.19,-41.7 364.35,-42.9 368.58,-44.5 372.69,-46.32\"/>\n<polygon fill=\"black\" stroke=\"black\" points=\"371.47,-49.61 381.99,-50.83 374.52,-43.32 371.47,-49.61\"/>\n<text text-anchor=\"middle\" x=\"353.19\" y=\"-60.5\" font-family=\"Times,serif\" font-size=\"14.00\">b </text>\n<text text-anchor=\"middle\" x=\"353.19\" y=\"-45.5\" font-family=\"Times,serif\" font-size=\"14.00\"> a </text>\n</g>\n<!-- FS6&#45;&gt;FS6 -->\n<g id=\"edge10\" class=\"edge\">\n<title>FS6&#45;&gt;FS6</title>\n<path fill=\"none\" stroke=\"black\" d=\"M397.17,-93.04C396.74,-103.61 399.98,-112.4 406.89,-112.4 411.42,-112.4 414.37,-108.61 415.74,-103.02\"/>\n<polygon fill=\"black\" stroke=\"black\" points=\"419.23,-103.3 416.6,-93.04 412.26,-102.7 419.23,-103.3\"/>\n<text text-anchor=\"middle\" x=\"406.89\" y=\"-131.2\" font-family=\"Times,serif\" font-size=\"14.00\">b </text>\n<text text-anchor=\"middle\" x=\"406.89\" y=\"-116.2\" font-family=\"Times,serif\" font-size=\"14.00\"> a </text>\n</g>\n<!-- FS2&#45;&gt;S4 -->\n<g id=\"edge4\" class=\"edge\">\n<title>FS2&#45;&gt;S4</title>\n<path fill=\"none\" stroke=\"black\" d=\"M240.92,-103.41C250.16,-103.13 260.48,-102.62 269.89,-101.7 272.45,-101.45 275.1,-101.13 277.76,-100.78\"/>\n<polygon fill=\"black\" stroke=\"black\" points=\"278.45,-104.21 287.82,-99.27 277.41,-97.29 278.45,-104.21\"/>\n<text text-anchor=\"middle\" x=\"264.39\" y=\"-105.5\" font-family=\"Times,serif\" font-size=\"14.00\">a </text>\n</g>\n<!-- FS2&#45;&gt;S5 -->\n<g id=\"edge5\" class=\"edge\">\n<title>FS2&#45;&gt;S5</title>\n<path fill=\"none\" stroke=\"black\" d=\"M236.39,-87.38C250.51,-77.46 268.51,-64.8 282.8,-54.74\"/>\n<polygon fill=\"black\" stroke=\"black\" points=\"285,-57.48 291.16,-48.86 280.97,-51.75 285,-57.48\"/>\n<text text-anchor=\"middle\" x=\"264.39\" y=\"-74.5\" font-family=\"Times,serif\" font-size=\"14.00\">b </text>\n</g>\n<!-- FS3&#45;&gt;S4 -->\n<g id=\"edge7\" class=\"edge\">\n<title>FS3&#45;&gt;S4</title>\n<path fill=\"none\" stroke=\"black\" d=\"M240.74,-33.22C250.57,-35.76 261.31,-39.68 269.89,-45.7 275.06,-49.32 283.25,-60.05 290.62,-70.64\"/>\n<polygon fill=\"black\" stroke=\"black\" points=\"287.76,-72.66 296.28,-78.96 293.55,-68.73 287.76,-72.66\"/>\n<text text-anchor=\"middle\" x=\"264.39\" y=\"-49.5\" font-family=\"Times,serif\" font-size=\"14.00\">b </text>\n</g>\n<!-- FS3&#45;&gt;S5 -->\n<g id=\"edge6\" class=\"edge\">\n<title>FS3&#45;&gt;S5</title>\n<path fill=\"none\" stroke=\"black\" d=\"M237.22,-14.27C247.32,-9.96 259.19,-7.22 269.89,-10.7 274.97,-12.35 279.94,-14.99 284.51,-17.98\"/>\n<polygon fill=\"black\" stroke=\"black\" points=\"282.58,-20.91 292.71,-24.01 286.73,-15.27 282.58,-20.91\"/>\n<text text-anchor=\"middle\" x=\"264.39\" y=\"-14.5\" font-family=\"Times,serif\" font-size=\"14.00\">a </text>\n</g>\n</g>\n</svg>\n",
            "text/plain": [
              "<graphviz.graphs.Digraph at 0x7d05617c9510>"
            ]
          },
          "metadata": {},
          "execution_count": 87
        }
      ]
    },
    {
      "cell_type": "markdown",
      "source": [
        "------------------------------"
      ],
      "metadata": {
        "id": "Ut_D5up6cO72"
      }
    },
    {
      "cell_type": "code",
      "source": [
        "revFig67_NFA = rev_dfa(Fig67DFA)\n",
        "dotObj_nfa(revFig67_NFA, FuseEdges=True)"
      ],
      "metadata": {
        "id": "dFq7o4oqQxCJ",
        "outputId": "124d26bc-145e-4aba-d285-e8706cacaee4",
        "colab": {
          "base_uri": "https://localhost:8080/",
          "height": 230
        }
      },
      "execution_count": 86,
      "outputs": [
        {
          "output_type": "execute_result",
          "data": {
            "image/svg+xml": "<?xml version=\"1.0\" encoding=\"UTF-8\" standalone=\"no\"?>\n<!DOCTYPE svg PUBLIC \"-//W3C//DTD SVG 1.1//EN\"\n \"http://www.w3.org/Graphics/SVG/1.1/DTD/svg11.dtd\">\n<!-- Generated by graphviz version 2.43.0 (0)\n -->\n<!-- Title: %3 Pages: 1 -->\n<svg width=\"436pt\" height=\"157pt\"\n viewBox=\"0.00 0.00 435.58 156.92\" xmlns=\"http://www.w3.org/2000/svg\" xmlns:xlink=\"http://www.w3.org/1999/xlink\">\n<g id=\"graph0\" class=\"graph\" transform=\"scale(1 1) rotate(0) translate(4 152.92)\">\n<title>%3</title>\n<polygon fill=\"white\" stroke=\"transparent\" points=\"-4,4 -4,-152.92 431.58,-152.92 431.58,4 -4,4\"/>\n<!-- EMPTY -->\n<g id=\"node1\" class=\"node\">\n<title>EMPTY</title>\n</g>\n<!-- FS6 -->\n<g id=\"node3\" class=\"node\">\n<title>FS6</title>\n<ellipse fill=\"none\" stroke=\"black\" cx=\"115.7\" cy=\"-50.43\" rx=\"24.9\" ry=\"24.9\"/>\n<text text-anchor=\"middle\" x=\"115.7\" y=\"-46.73\" font-family=\"Times,serif\" font-size=\"14.00\">FS6</text>\n</g>\n<!-- EMPTY&#45;&gt;FS6 -->\n<g id=\"edge1\" class=\"edge\">\n<title>EMPTY&#45;&gt;FS6</title>\n<path fill=\"none\" stroke=\"black\" d=\"M54.01,-50.43C62.4,-50.43 71.83,-50.43 80.7,-50.43\"/>\n<polygon fill=\"black\" stroke=\"black\" points=\"80.78,-53.93 90.78,-50.43 80.78,-46.93 80.78,-53.93\"/>\n</g>\n<!-- FS3 -->\n<g id=\"node4\" class=\"node\">\n<title>FS3</title>\n<ellipse fill=\"none\" stroke=\"black\" cx=\"302.39\" cy=\"-121.43\" rx=\"24.9\" ry=\"24.9\"/>\n<text text-anchor=\"middle\" x=\"302.39\" y=\"-117.73\" font-family=\"Times,serif\" font-size=\"14.00\">FS3</text>\n</g>\n<!-- EMPTY&#45;&gt;FS3 -->\n<g id=\"edge3\" class=\"edge\">\n<title>EMPTY&#45;&gt;FS3</title>\n<path fill=\"none\" stroke=\"black\" d=\"M35.81,-68.43C45.52,-88.26 64.15,-119.09 91,-132.43 148.47,-160.97 225.98,-145.23 269.07,-132.49\"/>\n<polygon fill=\"black\" stroke=\"black\" points=\"270.22,-135.8 278.74,-129.51 268.15,-129.11 270.22,-135.8\"/>\n</g>\n<!-- FS2 -->\n<g id=\"node6\" class=\"node\">\n<title>FS2</title>\n<ellipse fill=\"none\" stroke=\"black\" cx=\"302.39\" cy=\"-42.43\" rx=\"24.9\" ry=\"24.9\"/>\n<text text-anchor=\"middle\" x=\"302.39\" y=\"-38.73\" font-family=\"Times,serif\" font-size=\"14.00\">FS2</text>\n</g>\n<!-- EMPTY&#45;&gt;FS2 -->\n<g id=\"edge2\" class=\"edge\">\n<title>EMPTY&#45;&gt;FS2</title>\n<path fill=\"none\" stroke=\"black\" d=\"M54.11,-32.72C65.02,-26.31 78.14,-19.81 91,-16.43 163.5,2.67 188.17,7.05 259.69,-15.43 264.48,-16.93 269.24,-19.15 273.75,-21.67\"/>\n<polygon fill=\"black\" stroke=\"black\" points=\"272.22,-24.85 282.56,-27.16 275.92,-18.9 272.22,-24.85\"/>\n</g>\n<!-- S5 -->\n<g id=\"node2\" class=\"node\">\n<title>S5</title>\n<ellipse fill=\"none\" stroke=\"black\" cx=\"210.54\" cy=\"-101.43\" rx=\"20.3\" ry=\"20.3\"/>\n<text text-anchor=\"middle\" x=\"210.54\" y=\"-97.73\" font-family=\"Times,serif\" font-size=\"14.00\">S5</text>\n</g>\n<!-- S5&#45;&gt;FS3 -->\n<g id=\"edge5\" class=\"edge\">\n<title>S5&#45;&gt;FS3</title>\n<path fill=\"none\" stroke=\"black\" d=\"M230.37,-106.79C236.22,-108.38 242.7,-110.06 248.69,-111.43 254.95,-112.86 261.65,-114.25 268.11,-115.51\"/>\n<polygon fill=\"black\" stroke=\"black\" points=\"267.49,-118.95 277.96,-117.37 268.79,-112.07 267.49,-118.95\"/>\n<text text-anchor=\"middle\" x=\"254.19\" y=\"-118.23\" font-family=\"Times,serif\" font-size=\"14.00\">a </text>\n</g>\n<!-- S5&#45;&gt;FS2 -->\n<g id=\"edge4\" class=\"edge\">\n<title>S5&#45;&gt;FS2</title>\n<path fill=\"none\" stroke=\"black\" d=\"M228.76,-92.04C238.07,-86.8 249.68,-80.03 259.69,-73.43 264.4,-70.32 269.29,-66.89 274,-63.47\"/>\n<polygon fill=\"black\" stroke=\"black\" points=\"276.24,-66.16 282.2,-57.4 272.08,-60.54 276.24,-66.16\"/>\n<text text-anchor=\"middle\" x=\"254.19\" y=\"-84.23\" font-family=\"Times,serif\" font-size=\"14.00\">b </text>\n</g>\n<!-- FS6&#45;&gt;S5 -->\n<g id=\"edge8\" class=\"edge\">\n<title>FS6&#45;&gt;S5</title>\n<path fill=\"none\" stroke=\"black\" d=\"M136.72,-64.18C143.48,-68.61 151.16,-73.41 158.4,-77.43 166.08,-81.69 174.65,-85.91 182.54,-89.59\"/>\n<polygon fill=\"black\" stroke=\"black\" points=\"181.18,-92.82 191.73,-93.79 184.09,-86.45 181.18,-92.82\"/>\n<text text-anchor=\"middle\" x=\"165.4\" y=\"-104.23\" font-family=\"Times,serif\" font-size=\"14.00\">b </text>\n<text text-anchor=\"middle\" x=\"165.4\" y=\"-89.23\" font-family=\"Times,serif\" font-size=\"14.00\"> a </text>\n</g>\n<!-- FS6&#45;&gt;FS6 -->\n<g id=\"edge6\" class=\"edge\">\n<title>FS6&#45;&gt;FS6</title>\n<path fill=\"none\" stroke=\"black\" d=\"M107.92,-74.14C107.28,-84.37 109.87,-93.13 115.7,-93.13 119.43,-93.13 121.83,-89.53 122.91,-84.26\"/>\n<polygon fill=\"black\" stroke=\"black\" points=\"126.42,-84.32 123.48,-74.14 119.43,-83.93 126.42,-84.32\"/>\n<text text-anchor=\"middle\" x=\"115.7\" y=\"-111.93\" font-family=\"Times,serif\" font-size=\"14.00\">b </text>\n<text text-anchor=\"middle\" x=\"115.7\" y=\"-96.93\" font-family=\"Times,serif\" font-size=\"14.00\"> a </text>\n</g>\n<!-- S4 -->\n<g id=\"node5\" class=\"node\">\n<title>S4</title>\n<ellipse fill=\"none\" stroke=\"black\" cx=\"210.54\" cy=\"-43.43\" rx=\"20.3\" ry=\"20.3\"/>\n<text text-anchor=\"middle\" x=\"210.54\" y=\"-39.73\" font-family=\"Times,serif\" font-size=\"14.00\">S4</text>\n</g>\n<!-- FS6&#45;&gt;S4 -->\n<g id=\"edge7\" class=\"edge\">\n<title>FS6&#45;&gt;S4</title>\n<path fill=\"none\" stroke=\"black\" d=\"M140.61,-48.63C152.7,-47.71 167.47,-46.6 180.24,-45.64\"/>\n<polygon fill=\"black\" stroke=\"black\" points=\"180.68,-49.11 190.39,-44.87 180.16,-42.13 180.68,-49.11\"/>\n<text text-anchor=\"middle\" x=\"165.4\" y=\"-66.23\" font-family=\"Times,serif\" font-size=\"14.00\">b </text>\n<text text-anchor=\"middle\" x=\"165.4\" y=\"-51.23\" font-family=\"Times,serif\" font-size=\"14.00\"> a </text>\n</g>\n<!-- IS1 -->\n<g id=\"node7\" class=\"node\">\n<title>IS1</title>\n<ellipse fill=\"none\" stroke=\"black\" cx=\"400.84\" cy=\"-75.43\" rx=\"22.96\" ry=\"22.96\"/>\n<ellipse fill=\"none\" stroke=\"black\" cx=\"400.84\" cy=\"-75.43\" rx=\"27\" ry=\"27\"/>\n<text text-anchor=\"middle\" x=\"400.84\" y=\"-71.73\" font-family=\"Times,serif\" font-size=\"14.00\">IS1</text>\n</g>\n<!-- FS3&#45;&gt;IS1 -->\n<g id=\"edge9\" class=\"edge\">\n<title>FS3&#45;&gt;IS1</title>\n<path fill=\"none\" stroke=\"black\" d=\"M325.27,-110.99C337.65,-105.09 353.36,-97.6 367.16,-91.01\"/>\n<polygon fill=\"black\" stroke=\"black\" points=\"368.83,-94.09 376.35,-86.63 365.82,-87.77 368.83,-94.09\"/>\n<text text-anchor=\"middle\" x=\"350.59\" y=\"-105.23\" font-family=\"Times,serif\" font-size=\"14.00\">b </text>\n</g>\n<!-- S4&#45;&gt;FS3 -->\n<g id=\"edge10\" class=\"edge\">\n<title>S4&#45;&gt;FS3</title>\n<path fill=\"none\" stroke=\"black\" d=\"M230.78,-44.39C240.21,-45.66 251.31,-48.45 259.69,-54.43 266.62,-59.37 276.64,-75.29 285.13,-90.37\"/>\n<polygon fill=\"black\" stroke=\"black\" points=\"282.28,-92.47 290.17,-99.55 288.42,-89.1 282.28,-92.47\"/>\n<text text-anchor=\"middle\" x=\"254.19\" y=\"-58.23\" font-family=\"Times,serif\" font-size=\"14.00\">b </text>\n</g>\n<!-- S4&#45;&gt;FS2 -->\n<g id=\"edge11\" class=\"edge\">\n<title>S4&#45;&gt;FS2</title>\n<path fill=\"none\" stroke=\"black\" d=\"M226.89,-31.26C233.26,-26.95 240.96,-22.63 248.69,-20.43 256.83,-18.11 265.39,-19.78 273.2,-23.04\"/>\n<polygon fill=\"black\" stroke=\"black\" points=\"271.76,-26.24 282.26,-27.64 274.93,-20 271.76,-26.24\"/>\n<text text-anchor=\"middle\" x=\"254.19\" y=\"-24.23\" font-family=\"Times,serif\" font-size=\"14.00\">a </text>\n</g>\n<!-- FS2&#45;&gt;IS1 -->\n<g id=\"edge12\" class=\"edge\">\n<title>FS2&#45;&gt;IS1</title>\n<path fill=\"none\" stroke=\"black\" d=\"M326.25,-50.25C337.96,-54.26 352.48,-59.22 365.51,-63.68\"/>\n<polygon fill=\"black\" stroke=\"black\" points=\"364.52,-67.04 375.12,-66.97 366.79,-60.42 364.52,-67.04\"/>\n<text text-anchor=\"middle\" x=\"350.59\" y=\"-64.23\" font-family=\"Times,serif\" font-size=\"14.00\">a </text>\n</g>\n</g>\n</svg>\n",
            "text/plain": [
              "<graphviz.graphs.Digraph at 0x7d05617c9330>"
            ]
          },
          "metadata": {},
          "execution_count": 86
        }
      ]
    },
    {
      "cell_type": "markdown",
      "source": [
        "#==> Equal changes RE <=="
      ],
      "metadata": {
        "id": "dkdW1zOMWD2q"
      }
    },
    {
      "cell_type": "code",
      "source": [
        "# RE for equal changes ... or begins/ends in the same symbol\n",
        "\n",
        "RE_eqch   = ''' 0 (0 + (1 1* 0))*\n",
        "               +\n",
        "               1 (1 + (0 0* 1))*\n",
        "            '''\n",
        "min_DFA_eqch = min_dfa(nfa2dfa(re2nfa(RE_eqch)))\n",
        "\n",
        "dotObj_dfa(min_DFA_eqch, FuseEdges=True)"
      ],
      "metadata": {
        "id": "qGwQ5pVDWGlr",
        "outputId": "e3d70b71-951f-4128-c88e-3bb6605ffafe",
        "colab": {
          "base_uri": "https://localhost:8080/",
          "height": 290
        }
      },
      "execution_count": 88,
      "outputs": [
        {
          "output_type": "execute_result",
          "data": {
            "image/svg+xml": "<?xml version=\"1.0\" encoding=\"UTF-8\" standalone=\"no\"?>\n<!DOCTYPE svg PUBLIC \"-//W3C//DTD SVG 1.1//EN\"\n \"http://www.w3.org/Graphics/SVG/1.1/DTD/svg11.dtd\">\n<!-- Generated by graphviz version 2.43.0 (0)\n -->\n<!-- Title: %3 Pages: 1 -->\n<svg width=\"337pt\" height=\"202pt\"\n viewBox=\"0.00 0.00 337.49 202.50\" xmlns=\"http://www.w3.org/2000/svg\" xmlns:xlink=\"http://www.w3.org/1999/xlink\">\n<g id=\"graph0\" class=\"graph\" transform=\"scale(1 1) rotate(0) translate(4 198.5)\">\n<title>%3</title>\n<polygon fill=\"white\" stroke=\"transparent\" points=\"-4,4 -4,-198.5 333.49,-198.5 333.49,4 -4,4\"/>\n<!-- EMPTY -->\n<g id=\"node1\" class=\"node\">\n<title>EMPTY</title>\n</g>\n<!-- St0 -->\n<g id=\"node2\" class=\"node\">\n<title>St0</title>\n<ellipse fill=\"none\" stroke=\"black\" cx=\"113.75\" cy=\"-78.75\" rx=\"23\" ry=\"23\"/>\n<text text-anchor=\"middle\" x=\"113.75\" y=\"-75.05\" font-family=\"Times,serif\" font-size=\"14.00\">St0</text>\n</g>\n<!-- EMPTY&#45;&gt;St0 -->\n<g id=\"edge1\" class=\"edge\">\n<title>EMPTY&#45;&gt;St0</title>\n<path fill=\"none\" stroke=\"black\" d=\"M54.35,-78.75C62.71,-78.75 72.05,-78.75 80.76,-78.75\"/>\n<polygon fill=\"black\" stroke=\"black\" points=\"80.97,-82.25 90.97,-78.75 80.97,-75.25 80.97,-82.25\"/>\n</g>\n<!-- St8 -->\n<g id=\"node5\" class=\"node\">\n<title>St8</title>\n<ellipse fill=\"none\" stroke=\"black\" cx=\"210.24\" cy=\"-130.75\" rx=\"22.96\" ry=\"22.96\"/>\n<ellipse fill=\"none\" stroke=\"black\" cx=\"210.24\" cy=\"-130.75\" rx=\"27\" ry=\"27\"/>\n<text text-anchor=\"middle\" x=\"210.24\" y=\"-127.05\" font-family=\"Times,serif\" font-size=\"14.00\">St8</text>\n</g>\n<!-- St0&#45;&gt;St8 -->\n<g id=\"edge2\" class=\"edge\">\n<title>St0&#45;&gt;St8</title>\n<path fill=\"none\" stroke=\"black\" d=\"M134.33,-89.52C146.74,-96.36 163.1,-105.35 177.36,-113.2\"/>\n<polygon fill=\"black\" stroke=\"black\" points=\"175.91,-116.4 186.36,-118.16 179.29,-110.27 175.91,-116.4\"/>\n<text text-anchor=\"middle\" x=\"160\" y=\"-109.55\" font-family=\"Times,serif\" font-size=\"14.00\">1 </text>\n</g>\n<!-- St3 -->\n<g id=\"node6\" class=\"node\">\n<title>St3</title>\n<ellipse fill=\"none\" stroke=\"black\" cx=\"210.24\" cy=\"-26.75\" rx=\"22.96\" ry=\"22.96\"/>\n<ellipse fill=\"none\" stroke=\"black\" cx=\"210.24\" cy=\"-26.75\" rx=\"27\" ry=\"27\"/>\n<text text-anchor=\"middle\" x=\"210.24\" y=\"-23.05\" font-family=\"Times,serif\" font-size=\"14.00\">St3</text>\n</g>\n<!-- St0&#45;&gt;St3 -->\n<g id=\"edge3\" class=\"edge\">\n<title>St0&#45;&gt;St3</title>\n<path fill=\"none\" stroke=\"black\" d=\"M134.33,-67.97C146.74,-61.14 163.1,-52.14 177.36,-44.3\"/>\n<polygon fill=\"black\" stroke=\"black\" points=\"179.29,-47.23 186.36,-39.34 175.91,-41.09 179.29,-47.23\"/>\n<text text-anchor=\"middle\" x=\"160\" y=\"-59.55\" font-family=\"Times,serif\" font-size=\"14.00\">0 </text>\n</g>\n<!-- St2 -->\n<g id=\"node3\" class=\"node\">\n<title>St2</title>\n<ellipse fill=\"none\" stroke=\"black\" cx=\"306.74\" cy=\"-35.75\" rx=\"23\" ry=\"23\"/>\n<text text-anchor=\"middle\" x=\"306.74\" y=\"-32.05\" font-family=\"Times,serif\" font-size=\"14.00\">St2</text>\n</g>\n<!-- St2&#45;&gt;St2 -->\n<g id=\"edge10\" class=\"edge\">\n<title>St2&#45;&gt;St2</title>\n<path fill=\"none\" stroke=\"black\" d=\"M298.33,-57.13C297.29,-67.42 300.09,-76.5 306.74,-76.5 311,-76.5 313.68,-72.77 314.79,-67.39\"/>\n<polygon fill=\"black\" stroke=\"black\" points=\"318.29,-67.25 315.15,-57.13 311.3,-67 318.29,-67.25\"/>\n<text text-anchor=\"middle\" x=\"306.74\" y=\"-80.3\" font-family=\"Times,serif\" font-size=\"14.00\">1 </text>\n</g>\n<!-- St2&#45;&gt;St3 -->\n<g id=\"edge11\" class=\"edge\">\n<title>St2&#45;&gt;St3</title>\n<path fill=\"none\" stroke=\"black\" d=\"M286.03,-25.46C279.79,-22.72 272.76,-20.13 265.99,-18.75 259.63,-17.44 252.81,-17.39 246.22,-18.01\"/>\n<polygon fill=\"black\" stroke=\"black\" points=\"245.55,-14.57 236.15,-19.46 246.55,-21.5 245.55,-14.57\"/>\n<text text-anchor=\"middle\" x=\"260.49\" y=\"-22.55\" font-family=\"Times,serif\" font-size=\"14.00\">0 </text>\n</g>\n<!-- St9 -->\n<g id=\"node4\" class=\"node\">\n<title>St9</title>\n<ellipse fill=\"none\" stroke=\"black\" cx=\"306.74\" cy=\"-138.75\" rx=\"23\" ry=\"23\"/>\n<text text-anchor=\"middle\" x=\"306.74\" y=\"-135.05\" font-family=\"Times,serif\" font-size=\"14.00\">St9</text>\n</g>\n<!-- St9&#45;&gt;St9 -->\n<g id=\"edge9\" class=\"edge\">\n<title>St9&#45;&gt;St9</title>\n<path fill=\"none\" stroke=\"black\" d=\"M298.33,-160.13C297.29,-170.42 300.09,-179.5 306.74,-179.5 311,-179.5 313.68,-175.77 314.79,-170.39\"/>\n<polygon fill=\"black\" stroke=\"black\" points=\"318.29,-170.25 315.15,-160.13 311.3,-170 318.29,-170.25\"/>\n<text text-anchor=\"middle\" x=\"306.74\" y=\"-183.3\" font-family=\"Times,serif\" font-size=\"14.00\">0 </text>\n</g>\n<!-- St9&#45;&gt;St8 -->\n<g id=\"edge8\" class=\"edge\">\n<title>St9&#45;&gt;St8</title>\n<path fill=\"none\" stroke=\"black\" d=\"M288.1,-125.28C281.52,-121.05 273.76,-116.91 265.99,-114.75 258.78,-112.74 251.05,-113.31 243.74,-115.12\"/>\n<polygon fill=\"black\" stroke=\"black\" points=\"242.56,-111.82 234.11,-118.22 244.71,-118.48 242.56,-111.82\"/>\n<text text-anchor=\"middle\" x=\"260.49\" y=\"-118.55\" font-family=\"Times,serif\" font-size=\"14.00\">1 </text>\n</g>\n<!-- St8&#45;&gt;St9 -->\n<g id=\"edge5\" class=\"edge\">\n<title>St8&#45;&gt;St9</title>\n<path fill=\"none\" stroke=\"black\" d=\"M237.07,-132.93C248.39,-133.89 261.8,-135.03 273.76,-136.04\"/>\n<polygon fill=\"black\" stroke=\"black\" points=\"273.53,-139.53 283.79,-136.89 274.12,-132.56 273.53,-139.53\"/>\n<text text-anchor=\"middle\" x=\"260.49\" y=\"-138.55\" font-family=\"Times,serif\" font-size=\"14.00\">0 </text>\n</g>\n<!-- St8&#45;&gt;St8 -->\n<g id=\"edge4\" class=\"edge\">\n<title>St8&#45;&gt;St8</title>\n<path fill=\"none\" stroke=\"black\" d=\"M200.95,-156.05C200.31,-166.57 203.41,-175.5 210.24,-175.5 214.73,-175.5 217.61,-171.65 218.87,-166.04\"/>\n<polygon fill=\"black\" stroke=\"black\" points=\"222.37,-166.26 219.54,-156.05 215.38,-165.79 222.37,-166.26\"/>\n<text text-anchor=\"middle\" x=\"210.24\" y=\"-179.3\" font-family=\"Times,serif\" font-size=\"14.00\">1 </text>\n</g>\n<!-- St3&#45;&gt;St2 -->\n<g id=\"edge6\" class=\"edge\">\n<title>St3&#45;&gt;St2</title>\n<path fill=\"none\" stroke=\"black\" d=\"M236.03,-34.11C242.17,-35.62 248.77,-36.98 254.99,-37.75 259.84,-38.35 261.1,-37.87 265.99,-37.75 268.53,-37.68 271.16,-37.6 273.8,-37.5\"/>\n<polygon fill=\"black\" stroke=\"black\" points=\"274.05,-40.99 283.88,-37.05 273.73,-34 274.05,-40.99\"/>\n<text text-anchor=\"middle\" x=\"260.49\" y=\"-41.55\" font-family=\"Times,serif\" font-size=\"14.00\">1 </text>\n</g>\n<!-- St3&#45;&gt;St3 -->\n<g id=\"edge7\" class=\"edge\">\n<title>St3&#45;&gt;St3</title>\n<path fill=\"none\" stroke=\"black\" d=\"M200.95,-52.05C200.31,-62.57 203.41,-71.5 210.24,-71.5 214.73,-71.5 217.61,-67.65 218.87,-62.04\"/>\n<polygon fill=\"black\" stroke=\"black\" points=\"222.37,-62.26 219.54,-52.05 215.38,-61.79 222.37,-62.26\"/>\n<text text-anchor=\"middle\" x=\"210.24\" y=\"-75.3\" font-family=\"Times,serif\" font-size=\"14.00\">0 </text>\n</g>\n</g>\n</svg>\n",
            "text/plain": [
              "<graphviz.graphs.Digraph at 0x7d0562234ac0>"
            ]
          },
          "metadata": {},
          "execution_count": 88
        }
      ]
    },
    {
      "cell_type": "markdown",
      "source": [
        "## Question-7"
      ],
      "metadata": {
        "id": "wjfoFlLacPD1"
      }
    },
    {
      "cell_type": "markdown",
      "source": [
        "#### The first \"Found a Distinguishable Pair\" corresponds to which pair of states? Why was this pair found distinguishable?"
      ],
      "metadata": {
        "id": "88zvc9JU_wZX"
      }
    },
    {
      "cell_type": "markdown",
      "source": [
        "-----------------------"
      ],
      "metadata": {
        "id": "AcgpTMVLcPD2"
      }
    },
    {
      "cell_type": "markdown",
      "source": [
        "------------------------------"
      ],
      "metadata": {
        "id": "71UlvWhZcPD2"
      }
    },
    {
      "cell_type": "markdown",
      "source": [
        "## Question-8"
      ],
      "metadata": {
        "id": "UmS5QLPecPLx"
      }
    },
    {
      "cell_type": "markdown",
      "source": [
        "-----------------------"
      ],
      "metadata": {
        "id": "E1cVZQL9cPLy"
      }
    },
    {
      "cell_type": "markdown",
      "source": [
        "#### Finally how do we decide that S5 and S4 are equivalent?"
      ],
      "metadata": {
        "id": "1IKCZQZvcPLy"
      }
    },
    {
      "cell_type": "markdown",
      "source": [
        "------------------------------"
      ],
      "metadata": {
        "id": "wAIIk_DBcPLy"
      }
    },
    {
      "cell_type": "markdown",
      "source": [
        "## Question-9"
      ],
      "metadata": {
        "id": "Q0BQWCNGcP56"
      }
    },
    {
      "cell_type": "markdown",
      "source": [
        "-----------------------"
      ],
      "metadata": {
        "id": "wJxLWe__cP6S"
      }
    },
    {
      "cell_type": "markdown",
      "source": [
        "#### How are IS1 and S4 distinguished by the string \"aa\"?"
      ],
      "metadata": {
        "id": "0ZC-Lwq2cP6T"
      }
    },
    {
      "cell_type": "markdown",
      "source": [
        "------------------------------"
      ],
      "metadata": {
        "id": "t6RC8AkTcP6T"
      }
    },
    {
      "cell_type": "markdown",
      "source": [
        "## Question-10"
      ],
      "metadata": {
        "id": "BROVL0ZvcQb7"
      }
    },
    {
      "cell_type": "markdown",
      "source": [
        "-----------------------"
      ],
      "metadata": {
        "id": "f_VfFdIJcQb7"
      }
    },
    {
      "cell_type": "markdown",
      "source": [
        "#### Why were IS1 and S4 not distinguished by \"a\" ?"
      ],
      "metadata": {
        "id": "29QA7JbEcQb7"
      }
    },
    {
      "cell_type": "markdown",
      "source": [
        "------------------------------"
      ],
      "metadata": {
        "id": "d_8sksgUcQb7"
      }
    },
    {
      "cell_type": "markdown",
      "source": [
        "### This notebook BELOW was assigned for MT1 practice in 2022. You can see that below this text box and keep that in mind as a learning goal. But above this text box, I have set material for Quiz-5 that gradually builds toward this goal."
      ],
      "metadata": {
        "id": "5Xhm2yl6auD7"
      }
    },
    {
      "cell_type": "code",
      "source": [],
      "metadata": {
        "id": "Vyvcj6p_atJ1"
      },
      "execution_count": 38,
      "outputs": []
    },
    {
      "cell_type": "code",
      "execution_count": 39,
      "metadata": {
        "id": "LevUiceMaGbq"
      },
      "outputs": [],
      "source": [
        "def diff_RE(R1,R2):\n",
        "    '''\n",
        "    Given R1 and R2, here is the the code to return (D1,D2)\n",
        "    where D1 is the min DFA of Lang(R1)-Lang(R2)\n",
        "    and D2 is the min DFA of Lang(R2)-Lang(R1)\n",
        "    '''\n",
        "    MD1=min_dfa_brz(nfa2dfa(re2nfa(R1)))\n",
        "    MD2=min_dfa_brz(nfa2dfa(re2nfa(R2)))\n",
        "\n",
        "    cMD1 = comp_dfa(MD1)\n",
        "    cMD2 = comp_dfa(MD2)\n",
        "\n",
        "    D1minus2 = min_dfa_brz(intersect_dfa(MD1, cMD2))\n",
        "    D2minus1 = min_dfa_brz(intersect_dfa(MD2, cMD1))\n",
        "\n",
        "    return (D1minus2, D2minus1)\n"
      ]
    },
    {
      "cell_type": "code",
      "execution_count": 40,
      "metadata": {
        "id": "4igigBFdaGbr",
        "outputId": "473fac17-b392-4f0e-8783-8a56e3ff7b24",
        "colab": {
          "base_uri": "https://localhost:8080/",
          "height": 194
        }
      },
      "outputs": [
        {
          "output_type": "execute_result",
          "data": {
            "image/svg+xml": "<?xml version=\"1.0\" encoding=\"UTF-8\" standalone=\"no\"?>\n<!DOCTYPE svg PUBLIC \"-//W3C//DTD SVG 1.1//EN\"\n \"http://www.w3.org/Graphics/SVG/1.1/DTD/svg11.dtd\">\n<!-- Generated by graphviz version 2.43.0 (0)\n -->\n<!-- Title: %3 Pages: 1 -->\n<svg width=\"438pt\" height=\"130pt\"\n viewBox=\"0.00 0.00 437.98 130.50\" xmlns=\"http://www.w3.org/2000/svg\" xmlns:xlink=\"http://www.w3.org/1999/xlink\">\n<g id=\"graph0\" class=\"graph\" transform=\"scale(1 1) rotate(0) translate(4 126.5)\">\n<title>%3</title>\n<polygon fill=\"white\" stroke=\"transparent\" points=\"-4,4 -4,-126.5 433.98,-126.5 433.98,4 -4,4\"/>\n<!-- EMPTY -->\n<g id=\"node1\" class=\"node\">\n<title>EMPTY</title>\n</g>\n<!-- St2 -->\n<g id=\"node5\" class=\"node\">\n<title>St2</title>\n<ellipse fill=\"none\" stroke=\"black\" cx=\"117.75\" cy=\"-26.75\" rx=\"22.96\" ry=\"22.96\"/>\n<ellipse fill=\"none\" stroke=\"black\" cx=\"117.75\" cy=\"-26.75\" rx=\"27\" ry=\"27\"/>\n<text text-anchor=\"middle\" x=\"117.75\" y=\"-23.05\" font-family=\"Times,serif\" font-size=\"14.00\">St2</text>\n</g>\n<!-- EMPTY&#45;&gt;St2 -->\n<g id=\"edge1\" class=\"edge\">\n<title>EMPTY&#45;&gt;St2</title>\n<path fill=\"none\" stroke=\"black\" d=\"M54.15,-26.75C62.45,-26.75 71.79,-26.75 80.67,-26.75\"/>\n<polygon fill=\"black\" stroke=\"black\" points=\"80.79,-30.25 90.79,-26.75 80.79,-23.25 80.79,-30.25\"/>\n</g>\n<!-- St3 -->\n<g id=\"node2\" class=\"node\">\n<title>St3</title>\n<ellipse fill=\"none\" stroke=\"black\" cx=\"214.24\" cy=\"-66.75\" rx=\"23\" ry=\"23\"/>\n<text text-anchor=\"middle\" x=\"214.24\" y=\"-63.05\" font-family=\"Times,serif\" font-size=\"14.00\">St3</text>\n</g>\n<!-- St3&#45;&gt;St3 -->\n<g id=\"edge7\" class=\"edge\">\n<title>St3&#45;&gt;St3</title>\n<path fill=\"none\" stroke=\"black\" d=\"M205.83,-88.13C204.79,-98.42 207.6,-107.5 214.24,-107.5 218.5,-107.5 221.18,-103.77 222.29,-98.39\"/>\n<polygon fill=\"black\" stroke=\"black\" points=\"225.8,-98.25 222.66,-88.13 218.8,-98 225.8,-98.25\"/>\n<text text-anchor=\"middle\" x=\"214.24\" y=\"-111.3\" font-family=\"Times,serif\" font-size=\"14.00\">1 </text>\n</g>\n<!-- St4 -->\n<g id=\"node3\" class=\"node\">\n<title>St4</title>\n<ellipse fill=\"none\" stroke=\"black\" cx=\"306.74\" cy=\"-26.75\" rx=\"23\" ry=\"23\"/>\n<text text-anchor=\"middle\" x=\"306.74\" y=\"-23.05\" font-family=\"Times,serif\" font-size=\"14.00\">St4</text>\n</g>\n<!-- St3&#45;&gt;St4 -->\n<g id=\"edge6\" class=\"edge\">\n<title>St3&#45;&gt;St4</title>\n<path fill=\"none\" stroke=\"black\" d=\"M235.33,-57.87C247.4,-52.54 262.96,-45.65 276.39,-39.72\"/>\n<polygon fill=\"black\" stroke=\"black\" points=\"277.98,-42.84 285.71,-35.6 275.15,-36.44 277.98,-42.84\"/>\n<text text-anchor=\"middle\" x=\"260.49\" y=\"-52.55\" font-family=\"Times,serif\" font-size=\"14.00\">0 </text>\n</g>\n<!-- St4&#45;&gt;St4 -->\n<g id=\"edge5\" class=\"edge\">\n<title>St4&#45;&gt;St4</title>\n<path fill=\"none\" stroke=\"black\" d=\"M298.33,-48.13C297.29,-58.42 300.09,-67.5 306.74,-67.5 311,-67.5 313.68,-63.77 314.79,-58.39\"/>\n<polygon fill=\"black\" stroke=\"black\" points=\"318.29,-58.25 315.15,-48.13 311.3,-58 318.29,-58.25\"/>\n<text text-anchor=\"middle\" x=\"306.74\" y=\"-71.3\" font-family=\"Times,serif\" font-size=\"14.00\">1 </text>\n</g>\n<!-- St0 -->\n<g id=\"node4\" class=\"node\">\n<title>St0</title>\n<ellipse fill=\"none\" stroke=\"black\" cx=\"403.24\" cy=\"-26.75\" rx=\"22.96\" ry=\"22.96\"/>\n<ellipse fill=\"none\" stroke=\"black\" cx=\"403.24\" cy=\"-26.75\" rx=\"27\" ry=\"27\"/>\n<text text-anchor=\"middle\" x=\"403.24\" y=\"-23.05\" font-family=\"Times,serif\" font-size=\"14.00\">St0</text>\n</g>\n<!-- St4&#45;&gt;St0 -->\n<g id=\"edge4\" class=\"edge\">\n<title>St4&#45;&gt;St0</title>\n<path fill=\"none\" stroke=\"black\" d=\"M329.66,-26.75C340.56,-26.75 354.02,-26.75 366.38,-26.75\"/>\n<polygon fill=\"black\" stroke=\"black\" points=\"366.41,-30.25 376.41,-26.75 366.41,-23.25 366.41,-30.25\"/>\n<text text-anchor=\"middle\" x=\"352.99\" y=\"-30.55\" font-family=\"Times,serif\" font-size=\"14.00\">0 </text>\n</g>\n<!-- St0&#45;&gt;St4 -->\n<g id=\"edge8\" class=\"edge\">\n<title>St0&#45;&gt;St4</title>\n<path fill=\"none\" stroke=\"black\" d=\"M380.19,-13.11C370.33,-8.58 358.48,-5.26 347.49,-7.75 343.76,-8.59 339.98,-9.83 336.3,-11.28\"/>\n<polygon fill=\"black\" stroke=\"black\" points=\"334.63,-8.19 326.92,-15.46 337.48,-14.58 334.63,-8.19\"/>\n<text text-anchor=\"middle\" x=\"352.99\" y=\"-11.55\" font-family=\"Times,serif\" font-size=\"14.00\">0 </text>\n</g>\n<!-- St0&#45;&gt;St0 -->\n<g id=\"edge9\" class=\"edge\">\n<title>St0&#45;&gt;St0</title>\n<path fill=\"none\" stroke=\"black\" d=\"M393.94,-52.05C393.3,-62.57 396.4,-71.5 403.24,-71.5 407.72,-71.5 410.6,-67.65 411.86,-62.04\"/>\n<polygon fill=\"black\" stroke=\"black\" points=\"415.36,-62.26 412.53,-52.05 408.37,-61.79 415.36,-62.26\"/>\n<text text-anchor=\"middle\" x=\"403.24\" y=\"-75.3\" font-family=\"Times,serif\" font-size=\"14.00\">1 </text>\n</g>\n<!-- St2&#45;&gt;St3 -->\n<g id=\"edge3\" class=\"edge\">\n<title>St2&#45;&gt;St3</title>\n<path fill=\"none\" stroke=\"black\" d=\"M142.59,-36.84C154.97,-42.08 170.21,-48.53 183.36,-54.1\"/>\n<polygon fill=\"black\" stroke=\"black\" points=\"182.36,-57.47 192.93,-58.15 185.08,-51.03 182.36,-57.47\"/>\n<text text-anchor=\"middle\" x=\"168\" y=\"-52.55\" font-family=\"Times,serif\" font-size=\"14.00\">1 </text>\n</g>\n<!-- St2&#45;&gt;St4 -->\n<g id=\"edge2\" class=\"edge\">\n<title>St2&#45;&gt;St4</title>\n<path fill=\"none\" stroke=\"black\" d=\"M144.63,-23.65C158.5,-22.14 175.91,-20.5 191.5,-19.75 211.69,-18.78 216.8,-18.72 236.99,-19.75 249.1,-20.36 262.36,-21.58 273.98,-22.84\"/>\n<polygon fill=\"black\" stroke=\"black\" points=\"273.78,-26.33 284.11,-23.98 274.56,-19.38 273.78,-26.33\"/>\n<text text-anchor=\"middle\" x=\"214.24\" y=\"-23.55\" font-family=\"Times,serif\" font-size=\"14.00\">0 </text>\n</g>\n</g>\n</svg>\n",
            "text/plain": [
              "<graphviz.graphs.Digraph at 0x7d056229f220>"
            ]
          },
          "metadata": {},
          "execution_count": 40
        }
      ],
      "source": [
        "# Sigma = {0,1}; \"2n zeros for n >= 0\"\n",
        "\n",
        "RE2 = \"(1* 0 1* 0 1*)*\"\n",
        "m2 = min_dfa(nfa2dfa(re2nfa(RE2)))\n",
        "dotObj_dfa(m2)"
      ]
    },
    {
      "cell_type": "code",
      "execution_count": 41,
      "metadata": {
        "id": "2384OJ5kaGbr",
        "outputId": "e0e52680-07ff-4faa-cb64-9abf39ce72e2",
        "colab": {
          "base_uri": "https://localhost:8080/",
          "height": 35
        }
      },
      "outputs": [
        {
          "output_type": "execute_result",
          "data": {
            "text/plain": [
              "'m2.pdf'"
            ],
            "application/vnd.google.colaboratory.intrinsic+json": {
              "type": "string"
            }
          },
          "metadata": {},
          "execution_count": 41
        }
      ],
      "source": [
        "dotObj_dfa(m2).render('m2')"
      ]
    },
    {
      "cell_type": "code",
      "execution_count": 42,
      "metadata": {
        "id": "uuXocgCraGbr",
        "outputId": "806fc015-bddb-4662-a5e3-4b7cbce03d87",
        "colab": {
          "base_uri": "https://localhost:8080/",
          "height": 194
        }
      },
      "outputs": [
        {
          "output_type": "execute_result",
          "data": {
            "image/svg+xml": "<?xml version=\"1.0\" encoding=\"UTF-8\" standalone=\"no\"?>\n<!DOCTYPE svg PUBLIC \"-//W3C//DTD SVG 1.1//EN\"\n \"http://www.w3.org/Graphics/SVG/1.1/DTD/svg11.dtd\">\n<!-- Generated by graphviz version 2.43.0 (0)\n -->\n<!-- Title: %3 Pages: 1 -->\n<svg width=\"530pt\" height=\"130pt\"\n viewBox=\"0.00 0.00 530.48 130.50\" xmlns=\"http://www.w3.org/2000/svg\" xmlns:xlink=\"http://www.w3.org/1999/xlink\">\n<g id=\"graph0\" class=\"graph\" transform=\"scale(1 1) rotate(0) translate(4 126.5)\">\n<title>%3</title>\n<polygon fill=\"white\" stroke=\"transparent\" points=\"-4,4 -4,-126.5 526.48,-126.5 526.48,4 -4,4\"/>\n<!-- EMPTY -->\n<g id=\"node1\" class=\"node\">\n<title>EMPTY</title>\n</g>\n<!-- St2 -->\n<g id=\"node6\" class=\"node\">\n<title>St2</title>\n<ellipse fill=\"none\" stroke=\"black\" cx=\"117.75\" cy=\"-26.75\" rx=\"22.96\" ry=\"22.96\"/>\n<ellipse fill=\"none\" stroke=\"black\" cx=\"117.75\" cy=\"-26.75\" rx=\"27\" ry=\"27\"/>\n<text text-anchor=\"middle\" x=\"117.75\" y=\"-23.05\" font-family=\"Times,serif\" font-size=\"14.00\">St2</text>\n</g>\n<!-- EMPTY&#45;&gt;St2 -->\n<g id=\"edge1\" class=\"edge\">\n<title>EMPTY&#45;&gt;St2</title>\n<path fill=\"none\" stroke=\"black\" d=\"M54.15,-26.75C62.45,-26.75 71.79,-26.75 80.67,-26.75\"/>\n<polygon fill=\"black\" stroke=\"black\" points=\"80.79,-30.25 90.79,-26.75 80.79,-23.25 80.79,-30.25\"/>\n</g>\n<!-- St3 -->\n<g id=\"node2\" class=\"node\">\n<title>St3</title>\n<ellipse fill=\"none\" stroke=\"black\" cx=\"214.24\" cy=\"-66.75\" rx=\"23\" ry=\"23\"/>\n<text text-anchor=\"middle\" x=\"214.24\" y=\"-63.05\" font-family=\"Times,serif\" font-size=\"14.00\">St3</text>\n</g>\n<!-- St3&#45;&gt;St3 -->\n<g id=\"edge7\" class=\"edge\">\n<title>St3&#45;&gt;St3</title>\n<path fill=\"none\" stroke=\"black\" d=\"M205.83,-88.13C204.79,-98.42 207.6,-107.5 214.24,-107.5 218.5,-107.5 221.18,-103.77 222.29,-98.39\"/>\n<polygon fill=\"black\" stroke=\"black\" points=\"225.8,-98.25 222.66,-88.13 218.8,-98 225.8,-98.25\"/>\n<text text-anchor=\"middle\" x=\"214.24\" y=\"-111.3\" font-family=\"Times,serif\" font-size=\"14.00\">1 </text>\n</g>\n<!-- St6 -->\n<g id=\"node4\" class=\"node\">\n<title>St6</title>\n<ellipse fill=\"none\" stroke=\"black\" cx=\"306.74\" cy=\"-26.75\" rx=\"23\" ry=\"23\"/>\n<text text-anchor=\"middle\" x=\"306.74\" y=\"-23.05\" font-family=\"Times,serif\" font-size=\"14.00\">St6</text>\n</g>\n<!-- St3&#45;&gt;St6 -->\n<g id=\"edge6\" class=\"edge\">\n<title>St3&#45;&gt;St6</title>\n<path fill=\"none\" stroke=\"black\" d=\"M235.33,-57.87C247.4,-52.54 262.96,-45.65 276.39,-39.72\"/>\n<polygon fill=\"black\" stroke=\"black\" points=\"277.98,-42.84 285.71,-35.6 275.15,-36.44 277.98,-42.84\"/>\n<text text-anchor=\"middle\" x=\"260.49\" y=\"-52.55\" font-family=\"Times,serif\" font-size=\"14.00\">0 </text>\n</g>\n<!-- St4 -->\n<g id=\"node3\" class=\"node\">\n<title>St4</title>\n<ellipse fill=\"none\" stroke=\"black\" cx=\"399.24\" cy=\"-66.75\" rx=\"23\" ry=\"23\"/>\n<text text-anchor=\"middle\" x=\"399.24\" y=\"-63.05\" font-family=\"Times,serif\" font-size=\"14.00\">St4</text>\n</g>\n<!-- St4&#45;&gt;St4 -->\n<g id=\"edge9\" class=\"edge\">\n<title>St4&#45;&gt;St4</title>\n<path fill=\"none\" stroke=\"black\" d=\"M390.82,-88.13C389.78,-98.42 392.59,-107.5 399.24,-107.5 403.5,-107.5 406.18,-103.77 407.28,-98.39\"/>\n<polygon fill=\"black\" stroke=\"black\" points=\"410.79,-98.25 407.65,-88.13 403.79,-98 410.79,-98.25\"/>\n<text text-anchor=\"middle\" x=\"399.24\" y=\"-111.3\" font-family=\"Times,serif\" font-size=\"14.00\">1 </text>\n</g>\n<!-- St0 -->\n<g id=\"node5\" class=\"node\">\n<title>St0</title>\n<ellipse fill=\"none\" stroke=\"black\" cx=\"495.73\" cy=\"-26.75\" rx=\"22.96\" ry=\"22.96\"/>\n<ellipse fill=\"none\" stroke=\"black\" cx=\"495.73\" cy=\"-26.75\" rx=\"27\" ry=\"27\"/>\n<text text-anchor=\"middle\" x=\"495.73\" y=\"-23.05\" font-family=\"Times,serif\" font-size=\"14.00\">St0</text>\n</g>\n<!-- St4&#45;&gt;St0 -->\n<g id=\"edge8\" class=\"edge\">\n<title>St4&#45;&gt;St0</title>\n<path fill=\"none\" stroke=\"black\" d=\"M420.74,-58.07C432.62,-53.04 447.87,-46.59 461.43,-40.85\"/>\n<polygon fill=\"black\" stroke=\"black\" points=\"463.09,-43.94 470.93,-36.82 460.36,-37.5 463.09,-43.94\"/>\n<text text-anchor=\"middle\" x=\"445.48\" y=\"-52.55\" font-family=\"Times,serif\" font-size=\"14.00\">0 </text>\n</g>\n<!-- St6&#45;&gt;St4 -->\n<g id=\"edge4\" class=\"edge\">\n<title>St6&#45;&gt;St4</title>\n<path fill=\"none\" stroke=\"black\" d=\"M327.82,-35.63C339.89,-40.96 355.46,-47.84 368.89,-53.78\"/>\n<polygon fill=\"black\" stroke=\"black\" points=\"367.65,-57.05 378.21,-57.9 370.48,-50.65 367.65,-57.05\"/>\n<text text-anchor=\"middle\" x=\"352.99\" y=\"-52.55\" font-family=\"Times,serif\" font-size=\"14.00\">0 </text>\n</g>\n<!-- St6&#45;&gt;St6 -->\n<g id=\"edge5\" class=\"edge\">\n<title>St6&#45;&gt;St6</title>\n<path fill=\"none\" stroke=\"black\" d=\"M298.33,-48.13C297.29,-58.42 300.09,-67.5 306.74,-67.5 311,-67.5 313.68,-63.77 314.79,-58.39\"/>\n<polygon fill=\"black\" stroke=\"black\" points=\"318.29,-58.25 315.15,-48.13 311.3,-58 318.29,-58.25\"/>\n<text text-anchor=\"middle\" x=\"306.74\" y=\"-71.3\" font-family=\"Times,serif\" font-size=\"14.00\">1 </text>\n</g>\n<!-- St0&#45;&gt;St6 -->\n<g id=\"edge10\" class=\"edge\">\n<title>St0&#45;&gt;St6</title>\n<path fill=\"none\" stroke=\"black\" d=\"M468.85,-23.65C454.98,-22.14 437.57,-20.5 421.98,-19.75 401.79,-18.78 396.68,-18.72 376.49,-19.75 364.38,-20.36 351.12,-21.58 339.5,-22.84\"/>\n<polygon fill=\"black\" stroke=\"black\" points=\"338.92,-19.38 329.37,-23.98 339.7,-26.33 338.92,-19.38\"/>\n<text text-anchor=\"middle\" x=\"399.24\" y=\"-23.55\" font-family=\"Times,serif\" font-size=\"14.00\">0 </text>\n</g>\n<!-- St0&#45;&gt;St0 -->\n<g id=\"edge11\" class=\"edge\">\n<title>St0&#45;&gt;St0</title>\n<path fill=\"none\" stroke=\"black\" d=\"M486.44,-52.05C485.8,-62.57 488.9,-71.5 495.73,-71.5 500.22,-71.5 503.09,-67.65 504.36,-62.04\"/>\n<polygon fill=\"black\" stroke=\"black\" points=\"507.85,-62.26 505.02,-52.05 500.87,-61.79 507.85,-62.26\"/>\n<text text-anchor=\"middle\" x=\"495.73\" y=\"-75.3\" font-family=\"Times,serif\" font-size=\"14.00\">1 </text>\n</g>\n<!-- St2&#45;&gt;St3 -->\n<g id=\"edge3\" class=\"edge\">\n<title>St2&#45;&gt;St3</title>\n<path fill=\"none\" stroke=\"black\" d=\"M142.59,-36.84C154.97,-42.08 170.21,-48.53 183.36,-54.1\"/>\n<polygon fill=\"black\" stroke=\"black\" points=\"182.36,-57.47 192.93,-58.15 185.08,-51.03 182.36,-57.47\"/>\n<text text-anchor=\"middle\" x=\"168\" y=\"-52.55\" font-family=\"Times,serif\" font-size=\"14.00\">1 </text>\n</g>\n<!-- St2&#45;&gt;St6 -->\n<g id=\"edge2\" class=\"edge\">\n<title>St2&#45;&gt;St6</title>\n<path fill=\"none\" stroke=\"black\" d=\"M144.63,-23.65C158.5,-22.14 175.91,-20.5 191.5,-19.75 211.69,-18.78 216.8,-18.72 236.99,-19.75 249.1,-20.36 262.36,-21.58 273.98,-22.84\"/>\n<polygon fill=\"black\" stroke=\"black\" points=\"273.78,-26.33 284.11,-23.98 274.56,-19.38 273.78,-26.33\"/>\n<text text-anchor=\"middle\" x=\"214.24\" y=\"-23.55\" font-family=\"Times,serif\" font-size=\"14.00\">0 </text>\n</g>\n</g>\n</svg>\n",
            "text/plain": [
              "<graphviz.graphs.Digraph at 0x7d056229f850>"
            ]
          },
          "metadata": {},
          "execution_count": 42
        }
      ],
      "source": [
        "# 3n 0's, n >= 0\n",
        "\n",
        "RE3 = \"(1* 0 1* 0 1* 0 1*)*\"\n",
        "m3 = min_dfa(nfa2dfa(re2nfa(RE3)))\n",
        "dotObj_dfa(m3)"
      ]
    },
    {
      "cell_type": "code",
      "execution_count": 43,
      "metadata": {
        "id": "F8dtAPUPaGbs",
        "outputId": "44d46145-c585-45b2-9561-f49b96722ff5",
        "colab": {
          "base_uri": "https://localhost:8080/",
          "height": 35
        }
      },
      "outputs": [
        {
          "output_type": "execute_result",
          "data": {
            "text/plain": [
              "'m3.pdf'"
            ],
            "application/vnd.google.colaboratory.intrinsic+json": {
              "type": "string"
            }
          },
          "metadata": {},
          "execution_count": 43
        }
      ],
      "source": [
        "dotObj_dfa(m3).render('m3')"
      ]
    },
    {
      "cell_type": "code",
      "execution_count": 44,
      "metadata": {
        "scrolled": true,
        "id": "TtBQMDqDaGbs",
        "outputId": "0c2a2589-7002-4af1-c007-d72b36e03696",
        "colab": {
          "base_uri": "https://localhost:8080/",
          "height": 324
        }
      },
      "outputs": [
        {
          "output_type": "execute_result",
          "data": {
            "image/svg+xml": "<?xml version=\"1.0\" encoding=\"UTF-8\" standalone=\"no\"?>\n<!DOCTYPE svg PUBLIC \"-//W3C//DTD SVG 1.1//EN\"\n \"http://www.w3.org/Graphics/SVG/1.1/DTD/svg11.dtd\">\n<!-- Generated by graphviz version 2.43.0 (0)\n -->\n<!-- Title: %3 Pages: 1 -->\n<svg width=\"631pt\" height=\"227pt\"\n viewBox=\"0.00 0.00 630.98 227.50\" xmlns=\"http://www.w3.org/2000/svg\" xmlns:xlink=\"http://www.w3.org/1999/xlink\">\n<g id=\"graph0\" class=\"graph\" transform=\"scale(1 1) rotate(0) translate(4 223.5)\">\n<title>%3</title>\n<polygon fill=\"white\" stroke=\"transparent\" points=\"-4,4 -4,-223.5 626.98,-223.5 626.98,4 -4,4\"/>\n<!-- EMPTY -->\n<g id=\"node1\" class=\"node\">\n<title>EMPTY</title>\n</g>\n<!-- St2 -->\n<g id=\"node6\" class=\"node\">\n<title>St2</title>\n<ellipse fill=\"none\" stroke=\"black\" cx=\"117.75\" cy=\"-81.75\" rx=\"22.96\" ry=\"22.96\"/>\n<ellipse fill=\"none\" stroke=\"black\" cx=\"117.75\" cy=\"-81.75\" rx=\"27\" ry=\"27\"/>\n<text text-anchor=\"middle\" x=\"117.75\" y=\"-78.05\" font-family=\"Times,serif\" font-size=\"14.00\">St2</text>\n</g>\n<!-- EMPTY&#45;&gt;St2 -->\n<g id=\"edge1\" class=\"edge\">\n<title>EMPTY&#45;&gt;St2</title>\n<path fill=\"none\" stroke=\"black\" d=\"M54.15,-81.75C62.45,-81.75 71.79,-81.75 80.67,-81.75\"/>\n<polygon fill=\"black\" stroke=\"black\" points=\"80.79,-85.25 90.79,-81.75 80.79,-78.25 80.79,-85.25\"/>\n</g>\n<!-- St3 -->\n<g id=\"node2\" class=\"node\">\n<title>St3</title>\n<ellipse fill=\"none\" stroke=\"black\" cx=\"214.24\" cy=\"-121.75\" rx=\"23\" ry=\"23\"/>\n<text text-anchor=\"middle\" x=\"214.24\" y=\"-118.05\" font-family=\"Times,serif\" font-size=\"14.00\">St3</text>\n</g>\n<!-- St3&#45;&gt;St3 -->\n<g id=\"edge7\" class=\"edge\">\n<title>St3&#45;&gt;St3</title>\n<path fill=\"none\" stroke=\"black\" d=\"M205.83,-143.13C204.79,-153.42 207.6,-162.5 214.24,-162.5 218.5,-162.5 221.18,-158.77 222.29,-153.39\"/>\n<polygon fill=\"black\" stroke=\"black\" points=\"225.8,-153.25 222.66,-143.13 218.8,-153 225.8,-153.25\"/>\n<text text-anchor=\"middle\" x=\"214.24\" y=\"-166.3\" font-family=\"Times,serif\" font-size=\"14.00\">1 </text>\n</g>\n<!-- St4 -->\n<g id=\"node3\" class=\"node\">\n<title>St4</title>\n<ellipse fill=\"none\" stroke=\"black\" cx=\"306.74\" cy=\"-81.75\" rx=\"23\" ry=\"23\"/>\n<text text-anchor=\"middle\" x=\"306.74\" y=\"-78.05\" font-family=\"Times,serif\" font-size=\"14.00\">St4</text>\n</g>\n<!-- St3&#45;&gt;St4 -->\n<g id=\"edge6\" class=\"edge\">\n<title>St3&#45;&gt;St4</title>\n<path fill=\"none\" stroke=\"black\" d=\"M235.33,-112.87C247.4,-107.54 262.96,-100.65 276.39,-94.72\"/>\n<polygon fill=\"black\" stroke=\"black\" points=\"277.98,-97.84 285.71,-90.6 275.15,-91.44 277.98,-97.84\"/>\n<text text-anchor=\"middle\" x=\"260.49\" y=\"-107.55\" font-family=\"Times,serif\" font-size=\"14.00\">0 </text>\n</g>\n<!-- St5 -->\n<g id=\"node4\" class=\"node\">\n<title>St5</title>\n<ellipse fill=\"none\" stroke=\"black\" cx=\"399.24\" cy=\"-163.75\" rx=\"23\" ry=\"23\"/>\n<text text-anchor=\"middle\" x=\"399.24\" y=\"-160.05\" font-family=\"Times,serif\" font-size=\"14.00\">St5</text>\n</g>\n<!-- St4&#45;&gt;St5 -->\n<g id=\"edge5\" class=\"edge\">\n<title>St4&#45;&gt;St5</title>\n<path fill=\"none\" stroke=\"black\" d=\"M323.25,-98.07C330.46,-105.47 339.25,-114.22 347.49,-121.75 355.6,-129.15 364.76,-136.91 373.05,-143.71\"/>\n<polygon fill=\"black\" stroke=\"black\" points=\"371,-146.56 380.97,-150.15 375.42,-141.13 371,-146.56\"/>\n<text text-anchor=\"middle\" x=\"352.99\" y=\"-134.55\" font-family=\"Times,serif\" font-size=\"14.00\">1 </text>\n</g>\n<!-- St0 -->\n<g id=\"node5\" class=\"node\">\n<title>St0</title>\n<ellipse fill=\"none\" stroke=\"black\" cx=\"495.73\" cy=\"-91.75\" rx=\"22.96\" ry=\"22.96\"/>\n<ellipse fill=\"none\" stroke=\"black\" cx=\"495.73\" cy=\"-91.75\" rx=\"27\" ry=\"27\"/>\n<text text-anchor=\"middle\" x=\"495.73\" y=\"-88.05\" font-family=\"Times,serif\" font-size=\"14.00\">St0</text>\n</g>\n<!-- St4&#45;&gt;St0 -->\n<g id=\"edge4\" class=\"edge\">\n<title>St4&#45;&gt;St0</title>\n<path fill=\"none\" stroke=\"black\" d=\"M329.56,-82.91C361.26,-84.61 420.44,-87.77 458.68,-89.82\"/>\n<polygon fill=\"black\" stroke=\"black\" points=\"458.7,-93.33 468.87,-90.37 459.07,-86.34 458.7,-93.33\"/>\n<text text-anchor=\"middle\" x=\"399.24\" y=\"-91.55\" font-family=\"Times,serif\" font-size=\"14.00\">0 </text>\n</g>\n<!-- St5&#45;&gt;St5 -->\n<g id=\"edge11\" class=\"edge\">\n<title>St5&#45;&gt;St5</title>\n<path fill=\"none\" stroke=\"black\" d=\"M390.82,-185.13C389.78,-195.42 392.59,-204.5 399.24,-204.5 403.5,-204.5 406.18,-200.77 407.28,-195.39\"/>\n<polygon fill=\"black\" stroke=\"black\" points=\"410.79,-195.25 407.65,-185.13 403.79,-195 410.79,-195.25\"/>\n<text text-anchor=\"middle\" x=\"399.24\" y=\"-208.3\" font-family=\"Times,serif\" font-size=\"14.00\">1 </text>\n</g>\n<!-- St5&#45;&gt;St0 -->\n<g id=\"edge10\" class=\"edge\">\n<title>St5&#45;&gt;St0</title>\n<path fill=\"none\" stroke=\"black\" d=\"M418.01,-150.21C431.45,-139.96 450.19,-125.68 465.79,-113.8\"/>\n<polygon fill=\"black\" stroke=\"black\" points=\"468.24,-116.33 474.08,-107.49 464,-110.76 468.24,-116.33\"/>\n<text text-anchor=\"middle\" x=\"445.48\" y=\"-135.55\" font-family=\"Times,serif\" font-size=\"14.00\">0 </text>\n</g>\n<!-- St0&#45;&gt;St4 -->\n<g id=\"edge8\" class=\"edge\">\n<title>St0&#45;&gt;St4</title>\n<path fill=\"none\" stroke=\"black\" d=\"M471,-81.36C457.03,-75.81 438.84,-69.56 421.98,-66.75 393.92,-62.06 361.78,-67.21 338.75,-72.71\"/>\n<polygon fill=\"black\" stroke=\"black\" points=\"337.69,-69.37 328.86,-75.23 339.42,-76.16 337.69,-69.37\"/>\n<text text-anchor=\"middle\" x=\"399.24\" y=\"-70.55\" font-family=\"Times,serif\" font-size=\"14.00\">0 </text>\n</g>\n<!-- St1 -->\n<g id=\"node7\" class=\"node\">\n<title>St1</title>\n<ellipse fill=\"none\" stroke=\"black\" cx=\"596.23\" cy=\"-26.75\" rx=\"22.96\" ry=\"22.96\"/>\n<ellipse fill=\"none\" stroke=\"black\" cx=\"596.23\" cy=\"-26.75\" rx=\"27\" ry=\"27\"/>\n<text text-anchor=\"middle\" x=\"596.23\" y=\"-23.05\" font-family=\"Times,serif\" font-size=\"14.00\">St1</text>\n</g>\n<!-- St0&#45;&gt;St1 -->\n<g id=\"edge9\" class=\"edge\">\n<title>St0&#45;&gt;St1</title>\n<path fill=\"none\" stroke=\"black\" d=\"M518.59,-77.32C532.24,-68.32 549.99,-56.6 564.98,-46.71\"/>\n<polygon fill=\"black\" stroke=\"black\" points=\"567.01,-49.56 573.43,-41.13 563.16,-43.72 567.01,-49.56\"/>\n<text text-anchor=\"middle\" x=\"545.98\" y=\"-65.55\" font-family=\"Times,serif\" font-size=\"14.00\">1 </text>\n</g>\n<!-- St2&#45;&gt;St3 -->\n<g id=\"edge3\" class=\"edge\">\n<title>St2&#45;&gt;St3</title>\n<path fill=\"none\" stroke=\"black\" d=\"M142.59,-91.84C154.97,-97.08 170.21,-103.53 183.36,-109.1\"/>\n<polygon fill=\"black\" stroke=\"black\" points=\"182.36,-112.47 192.93,-113.15 185.08,-106.03 182.36,-112.47\"/>\n<text text-anchor=\"middle\" x=\"168\" y=\"-107.55\" font-family=\"Times,serif\" font-size=\"14.00\">1 </text>\n</g>\n<!-- St2&#45;&gt;St4 -->\n<g id=\"edge2\" class=\"edge\">\n<title>St2&#45;&gt;St4</title>\n<path fill=\"none\" stroke=\"black\" d=\"M144.63,-78.65C158.5,-77.14 175.91,-75.5 191.5,-74.75 211.69,-73.78 216.8,-73.72 236.99,-74.75 249.1,-75.36 262.36,-76.58 273.98,-77.84\"/>\n<polygon fill=\"black\" stroke=\"black\" points=\"273.78,-81.33 284.11,-78.98 274.56,-74.38 273.78,-81.33\"/>\n<text text-anchor=\"middle\" x=\"214.24\" y=\"-78.55\" font-family=\"Times,serif\" font-size=\"14.00\">0 </text>\n</g>\n<!-- St1&#45;&gt;St4 -->\n<g id=\"edge12\" class=\"edge\">\n<title>St1&#45;&gt;St4</title>\n<path fill=\"none\" stroke=\"black\" d=\"M569.45,-28.55C523.91,-32.21 426.57,-42.16 347.49,-64.75 344.06,-65.73 340.54,-66.92 337.08,-68.23\"/>\n<polygon fill=\"black\" stroke=\"black\" points=\"335.54,-65.08 327.6,-72.09 338.18,-71.56 335.54,-65.08\"/>\n<text text-anchor=\"middle\" x=\"445.48\" y=\"-48.55\" font-family=\"Times,serif\" font-size=\"14.00\">0 </text>\n</g>\n<!-- St1&#45;&gt;St1 -->\n<g id=\"edge13\" class=\"edge\">\n<title>St1&#45;&gt;St1</title>\n<path fill=\"none\" stroke=\"black\" d=\"M586.94,-52.05C586.29,-62.57 589.39,-71.5 596.23,-71.5 600.71,-71.5 603.59,-67.65 604.86,-62.04\"/>\n<polygon fill=\"black\" stroke=\"black\" points=\"608.35,-62.26 605.52,-52.05 601.36,-61.79 608.35,-62.26\"/>\n<text text-anchor=\"middle\" x=\"596.23\" y=\"-75.3\" font-family=\"Times,serif\" font-size=\"14.00\">1 </text>\n</g>\n</g>\n</svg>\n",
            "text/plain": [
              "<graphviz.graphs.Digraph at 0x7d056229eda0>"
            ]
          },
          "metadata": {},
          "execution_count": 44
        }
      ],
      "source": [
        "dfa2big = nfa2dfa(re2nfa(RE2))\n",
        "dotObj_dfa(dfa2big)"
      ]
    },
    {
      "cell_type": "code",
      "execution_count": 45,
      "metadata": {
        "id": "uZhaBureaGbt",
        "outputId": "7c9dd1f6-b5f9-4f35-d811-7050fad179b1",
        "colab": {
          "base_uri": "https://localhost:8080/"
        }
      },
      "outputs": [
        {
          "output_type": "stream",
          "name": "stderr",
          "text": [
            "Generating LALR tables\n"
          ]
        }
      ],
      "source": [
        "dfa_unmin = md2mc('''\n",
        "\n",
        "DFA\n",
        "IF : 1  ->  St3\n",
        "IF : 0  ->  St4\n",
        "St4: 0  ->  F0\n",
        "St4: 1  ->  St5\n",
        "St3: 0  ->  St4\n",
        "St3: 1  ->  St3\n",
        "F0 : 0  ->  St4\n",
        "F0 : 1  ->  F1\n",
        "St5: 0  ->  F0\n",
        "St5: 1  ->  St5\n",
        "F1 : 0  ->  St4\n",
        "F1 : 1  ->  F1\n",
        "''')"
      ]
    },
    {
      "cell_type": "code",
      "execution_count": 46,
      "metadata": {
        "id": "075FXHYBaGbt",
        "outputId": "962298e9-d548-4dab-a4a7-0b3457bc11fc",
        "colab": {
          "base_uri": "https://localhost:8080/",
          "height": 35
        }
      },
      "outputs": [
        {
          "output_type": "execute_result",
          "data": {
            "text/plain": [
              "'dfa_unmin.pdf'"
            ],
            "application/vnd.google.colaboratory.intrinsic+json": {
              "type": "string"
            }
          },
          "metadata": {},
          "execution_count": 46
        }
      ],
      "source": [
        "dotObj_dfa(dfa_unmin).render('dfa_unmin')"
      ]
    },
    {
      "cell_type": "code",
      "execution_count": 47,
      "metadata": {
        "id": "nN02G8GVaGbt",
        "outputId": "38871d19-48db-4d1d-9858-777d75d235af",
        "colab": {
          "base_uri": "https://localhost:8080/"
        }
      },
      "outputs": [
        {
          "output_type": "stream",
          "name": "stdout",
          "text": [
            "Separating final and non-final states (marking 0-distinguishable entries).\n",
            "Separating final and non-final states (marking 0-distinguishable entries).\n",
            "   The 0-distinguishable entries are:\n",
            "States  IF  and  St3  are 0-distinguished.\n",
            "States  IF  and  St4  are 0-distinguished.\n",
            "States  IF  and  St5  are 0-distinguished.\n",
            "States  St3  and  F0  are 0-distinguished.\n",
            "States  St3  and  F1  are 0-distinguished.\n",
            "States  St4  and  F0  are 0-distinguished.\n",
            "States  St4  and  F1  are 0-distinguished.\n",
            "States  St5  and  F0  are 0-distinguished.\n",
            "States  St5  and  F1  are 0-distinguished.\n",
            "--------------------------------------------- \n",
            " Dyn Prog Table Version 0 is :\n",
            "--------------------------------------------- \n",
            "\t St3 \t 0\n",
            "\t St4 \t 0\t.\n",
            "\t St5 \t 0\t.\t.\n",
            "\t F0 \t .\t0\t0\t0\n",
            "\t F1 \t .\t0\t0\t0\t.\n",
            "\n",
            "\t\t IF\tSt3\tSt4\tSt5\tF0\n",
            "--------------------------------------------- \n",
            " \n",
            "Seeing if states  IF  and  F0  can now be distinguished by any symbol.\n",
            "   The next states reached via symbol  0  are:  St4  and  St4\n",
            "      Nope. Symbol  0  could not distinguish (the next states are the same).\n",
            "   The next states reached via symbol  1  are:  St3  and  F1\n",
            "***  Found a distinguishable pair !! ***\n",
            "      Since  ('St3', 'F1')  are  0  distinguishable, marking  ('IF', 'F0')  as  1  distinguishable.\n",
            "         Hence, must continue through one more sweep of the algorithm.\n",
            " \n",
            "Seeing if states  IF  and  F1  can now be distinguished by any symbol.\n",
            "   The next states reached via symbol  0  are:  St4  and  St4\n",
            "      Nope. Symbol  0  could not distinguish (the next states are the same).\n",
            "   The next states reached via symbol  1  are:  St3  and  F1\n",
            "***  Found a distinguishable pair !! ***\n",
            "      Since  ('St3', 'F1')  are  0  distinguishable, marking  ('IF', 'F1')  as  1  distinguishable.\n",
            "         Hence, must continue through one more sweep of the algorithm.\n",
            " \n",
            "Seeing if states  St3  and  St4  can now be distinguished by any symbol.\n",
            "   The next states reached via symbol  0  are:  St4  and  F0\n",
            "***  Found a distinguishable pair !! ***\n",
            "      Since  ('St4', 'F0')  are  0  distinguishable, marking  ('St3', 'St4')  as  1  distinguishable.\n",
            "         Hence, must continue through one more sweep of the algorithm.\n",
            " \n",
            "Seeing if states  St3  and  St5  can now be distinguished by any symbol.\n",
            "   The next states reached via symbol  0  are:  St4  and  F0\n",
            "***  Found a distinguishable pair !! ***\n",
            "      Since  ('St4', 'F0')  are  0  distinguishable, marking  ('St3', 'St5')  as  1  distinguishable.\n",
            "         Hence, must continue through one more sweep of the algorithm.\n",
            " \n",
            "Seeing if states  St4  and  St5  can now be distinguished by any symbol.\n",
            "   The next states reached via symbol  0  are:  F0  and  F0\n",
            "      Nope. Symbol  0  could not distinguish (the next states are the same).\n",
            "   The next states reached via symbol  1  are:  St5  and  St5\n",
            "      Nope. Symbol  1  could not distinguish (the next states are the same).\n",
            " \n",
            "Seeing if states  F0  and  F1  can now be distinguished by any symbol.\n",
            "   The next states reached via symbol  0  are:  St4  and  St4\n",
            "      Nope. Symbol  0  could not distinguish (the next states are the same).\n",
            "   The next states reached via symbol  1  are:  F1  and  F1\n",
            "      Nope. Symbol  1  could not distinguish (the next states are the same).\n",
            "--------------------------------------------- \n",
            " Dyn Prog Table Version 1 is :\n",
            "--------------------------------------------- \n",
            "\t St3 \t 0\n",
            "\t St4 \t 0\t1\n",
            "\t St5 \t 0\t1\t.\n",
            "\t F0 \t 1\t0\t0\t0\n",
            "\t F1 \t 1\t0\t0\t0\t.\n",
            "\n",
            "\t\t IF\tSt3\tSt4\tSt5\tF0\n",
            "--------------------------------------------- \n",
            " \n",
            "Seeing if states  IF  and  F0  can now be distinguished by any symbol.\n",
            "   The next states reached via symbol  0  are:  St4  and  St4\n",
            "      Nope. Symbol  0  could not distinguish (the next states are the same).\n",
            "   The next states reached via symbol  1  are:  St3  and  F1\n",
            " \n",
            "Seeing if states  IF  and  F1  can now be distinguished by any symbol.\n",
            "   The next states reached via symbol  0  are:  St4  and  St4\n",
            "      Nope. Symbol  0  could not distinguish (the next states are the same).\n",
            "   The next states reached via symbol  1  are:  St3  and  F1\n",
            " \n",
            "Seeing if states  St3  and  St4  can now be distinguished by any symbol.\n",
            "   The next states reached via symbol  0  are:  St4  and  F0\n",
            "   The next states reached via symbol  1  are:  St3  and  St5\n",
            " \n",
            "Seeing if states  St3  and  St5  can now be distinguished by any symbol.\n",
            "   The next states reached via symbol  0  are:  St4  and  F0\n",
            "   The next states reached via symbol  1  are:  St3  and  St5\n",
            " \n",
            "Seeing if states  St4  and  St5  can now be distinguished by any symbol.\n",
            "   The next states reached via symbol  0  are:  F0  and  F0\n",
            "      Nope. Symbol  0  could not distinguish (the next states are the same).\n",
            "   The next states reached via symbol  1  are:  St5  and  St5\n",
            "      Nope. Symbol  1  could not distinguish (the next states are the same).\n",
            " \n",
            "Seeing if states  F0  and  F1  can now be distinguished by any symbol.\n",
            "   The next states reached via symbol  0  are:  St4  and  St4\n",
            "      Nope. Symbol  0  could not distinguish (the next states are the same).\n",
            "   The next states reached via symbol  1  are:  F1  and  F1\n",
            "      Nope. Symbol  1  could not distinguish (the next states are the same).\n",
            "*** The Dyn Prog tables have stabilized at the one below ***\n",
            "--------------------------------------------- \n",
            " Dyn Prog Table Version 1 is :\n",
            "--------------------------------------------- \n",
            "\t St3 \t 0\n",
            "\t St4 \t 0\t1\n",
            "\t St5 \t 0\t1\t.\n",
            "\t F0 \t 1\t0\t0\t0\n",
            "\t F1 \t 1\t0\t0\t0\t.\n",
            "\n",
            "\t\t IF\tSt3\tSt4\tSt5\tF0\n",
            "--------------------------------------------- \n",
            " \n",
            "Now, collecting equivalence-classes.\n",
            "   The equivalent pairs are:\n",
            "   The merged equivalent classes and representative states are these:\n",
            "State  F1  represents the equivalent states  ['F1', 'F0']\n",
            "State  St4  represents the equivalent states  ['St4', 'St5']\n"
          ]
        }
      ],
      "source": [
        "dfa_min = min_dfa(dfa_unmin, state_name_mode = 'verbose', chatty=True)"
      ]
    },
    {
      "cell_type": "code",
      "execution_count": 48,
      "metadata": {
        "id": "jYeDe82WaGbu"
      },
      "outputs": [],
      "source": [
        "dfa_unmin_rev = rev_dfa(dfa_unmin)"
      ]
    },
    {
      "cell_type": "code",
      "execution_count": 49,
      "metadata": {
        "id": "g9taMin-aGbu",
        "outputId": "4b51d146-a2aa-4747-e4a1-66dcd1fb8465",
        "colab": {
          "base_uri": "https://localhost:8080/",
          "height": 35
        }
      },
      "outputs": [
        {
          "output_type": "execute_result",
          "data": {
            "text/plain": [
              "'dfa_unmin_rev.pdf'"
            ],
            "application/vnd.google.colaboratory.intrinsic+json": {
              "type": "string"
            }
          },
          "metadata": {},
          "execution_count": 49
        }
      ],
      "source": [
        "dotObj_nfa(dfa_unmin_rev).render('dfa_unmin_rev')"
      ]
    },
    {
      "cell_type": "code",
      "execution_count": 50,
      "metadata": {
        "id": "OIewigv0aGbu",
        "outputId": "f7c3be04-7730-4999-be83-045cc8d0ad29",
        "colab": {
          "base_uri": "https://localhost:8080/"
        }
      },
      "outputs": [
        {
          "output_type": "stream",
          "name": "stdout",
          "text": [
            "Help on function nfa2dfa in module jove.Def_NFA:\n",
            "\n",
            "nfa2dfa(N, STATENAME_MAXSIZE=20)\n",
            "    In : N (consistent NFA), and optional STATENAME_MAXSIZE\n",
            "         for the generated DFA states\n",
            "    Out: A consistent DFA that is language-equivalent to N.\n",
            "\n"
          ]
        }
      ],
      "source": [
        "help(nfa2dfa)"
      ]
    },
    {
      "cell_type": "code",
      "execution_count": 51,
      "metadata": {
        "id": "tkC-M4xoaGbu",
        "outputId": "837aa1e2-7d2c-4167-cc97-e05b310f3902",
        "colab": {
          "base_uri": "https://localhost:8080/",
          "height": 329
        }
      },
      "outputs": [
        {
          "output_type": "execute_result",
          "data": {
            "image/svg+xml": "<?xml version=\"1.0\" encoding=\"UTF-8\" standalone=\"no\"?>\n<!DOCTYPE svg PUBLIC \"-//W3C//DTD SVG 1.1//EN\"\n \"http://www.w3.org/Graphics/SVG/1.1/DTD/svg11.dtd\">\n<!-- Generated by graphviz version 2.43.0 (0)\n -->\n<!-- Title: %3 Pages: 1 -->\n<svg width=\"597pt\" height=\"231pt\"\n viewBox=\"0.00 0.00 596.78 231.15\" xmlns=\"http://www.w3.org/2000/svg\" xmlns:xlink=\"http://www.w3.org/1999/xlink\">\n<g id=\"graph0\" class=\"graph\" transform=\"scale(1 1) rotate(0) translate(4 227.15)\">\n<title>%3</title>\n<polygon fill=\"white\" stroke=\"transparent\" points=\"-4,4 -4,-227.15 592.78,-227.15 592.78,4 -4,4\"/>\n<!-- EMPTY -->\n<g id=\"node1\" class=\"node\">\n<title>EMPTY</title>\n</g>\n<!-- F1 -->\n<g id=\"node5\" class=\"node\">\n<title>F1</title>\n<ellipse fill=\"none\" stroke=\"black\" cx=\"111.15\" cy=\"-170\" rx=\"20.3\" ry=\"20.3\"/>\n<text text-anchor=\"middle\" x=\"111.15\" y=\"-166.3\" font-family=\"Times,serif\" font-size=\"14.00\">F1</text>\n</g>\n<!-- EMPTY&#45;&gt;F1 -->\n<g id=\"edge2\" class=\"edge\">\n<title>EMPTY&#45;&gt;F1</title>\n<path fill=\"none\" stroke=\"black\" d=\"M54.44,-137.45C64.11,-143.1 75.02,-149.48 84.61,-155.08\"/>\n<polygon fill=\"black\" stroke=\"black\" points=\"82.91,-158.14 93.31,-160.16 86.45,-152.1 82.91,-158.14\"/>\n</g>\n<!-- F0 -->\n<g id=\"node6\" class=\"node\">\n<title>F0</title>\n<ellipse fill=\"none\" stroke=\"black\" cx=\"198.44\" cy=\"-143\" rx=\"20.3\" ry=\"20.3\"/>\n<text text-anchor=\"middle\" x=\"198.44\" y=\"-139.3\" font-family=\"Times,serif\" font-size=\"14.00\">F0</text>\n</g>\n<!-- EMPTY&#45;&gt;F0 -->\n<g id=\"edge3\" class=\"edge\">\n<title>EMPTY&#45;&gt;F0</title>\n<path fill=\"none\" stroke=\"black\" d=\"M54.1,-125.24C84.96,-129.06 136.18,-135.41 168.3,-139.39\"/>\n<polygon fill=\"black\" stroke=\"black\" points=\"168.06,-142.88 178.41,-140.64 168.92,-135.94 168.06,-142.88\"/>\n</g>\n<!-- IF -->\n<g id=\"node7\" class=\"node\">\n<title>IF</title>\n<ellipse fill=\"none\" stroke=\"black\" cx=\"565.93\" cy=\"-87\" rx=\"18.72\" ry=\"18.72\"/>\n<ellipse fill=\"none\" stroke=\"black\" cx=\"565.93\" cy=\"-87\" rx=\"22.7\" ry=\"22.7\"/>\n<text text-anchor=\"middle\" x=\"565.93\" y=\"-83.3\" font-family=\"Times,serif\" font-size=\"14.00\">IF</text>\n</g>\n<!-- EMPTY&#45;&gt;IF -->\n<g id=\"edge1\" class=\"edge\">\n<title>EMPTY&#45;&gt;IF</title>\n<path fill=\"none\" stroke=\"black\" d=\"M31.4,-104C38.98,-70.06 60.61,0 110.15,0 110.15,0 110.15,0 474.33,0 508.51,0 534.8,-32.62 550.05,-57.91\"/>\n<polygon fill=\"black\" stroke=\"black\" points=\"547.15,-59.89 555.16,-66.82 553.22,-56.41 547.15,-59.89\"/>\n</g>\n<!-- St3 -->\n<g id=\"node2\" class=\"node\">\n<title>St3</title>\n<ellipse fill=\"none\" stroke=\"black\" cx=\"473.33\" cy=\"-143\" rx=\"23\" ry=\"23\"/>\n<text text-anchor=\"middle\" x=\"473.33\" y=\"-139.3\" font-family=\"Times,serif\" font-size=\"14.00\">St3</text>\n</g>\n<!-- St3&#45;&gt;St3 -->\n<g id=\"edge5\" class=\"edge\">\n<title>St3&#45;&gt;St3</title>\n<path fill=\"none\" stroke=\"black\" d=\"M464.92,-164.38C463.88,-174.67 466.68,-183.75 473.33,-183.75 477.59,-183.75 480.27,-180.02 481.38,-174.64\"/>\n<polygon fill=\"black\" stroke=\"black\" points=\"484.89,-174.5 481.75,-164.38 477.89,-174.25 484.89,-174.5\"/>\n<text text-anchor=\"middle\" x=\"473.33\" y=\"-187.55\" font-family=\"Times,serif\" font-size=\"14.00\">1 </text>\n</g>\n<!-- St3&#45;&gt;IF -->\n<g id=\"edge4\" class=\"edge\">\n<title>St3&#45;&gt;IF</title>\n<path fill=\"none\" stroke=\"black\" d=\"M493.1,-131.4C505.98,-123.44 523.27,-112.75 537.66,-103.85\"/>\n<polygon fill=\"black\" stroke=\"black\" points=\"539.52,-106.82 546.18,-98.59 535.84,-100.87 539.52,-106.82\"/>\n<text text-anchor=\"middle\" x=\"519.58\" y=\"-122.8\" font-family=\"Times,serif\" font-size=\"14.00\">1 </text>\n</g>\n<!-- St4 -->\n<g id=\"node3\" class=\"node\">\n<title>St4</title>\n<ellipse fill=\"none\" stroke=\"black\" cx=\"380.84\" cy=\"-143\" rx=\"23\" ry=\"23\"/>\n<text text-anchor=\"middle\" x=\"380.84\" y=\"-139.3\" font-family=\"Times,serif\" font-size=\"14.00\">St4</text>\n</g>\n<!-- St4&#45;&gt;St3 -->\n<g id=\"edge7\" class=\"edge\">\n<title>St4&#45;&gt;St3</title>\n<path fill=\"none\" stroke=\"black\" d=\"M403.74,-143C414.67,-143 428.09,-143 440.16,-143\"/>\n<polygon fill=\"black\" stroke=\"black\" points=\"440.31,-146.5 450.31,-143 440.31,-139.5 440.31,-146.5\"/>\n<text text-anchor=\"middle\" x=\"427.08\" y=\"-146.8\" font-family=\"Times,serif\" font-size=\"14.00\">0 </text>\n</g>\n<!-- St4&#45;&gt;F1 -->\n<g id=\"edge8\" class=\"edge\">\n<title>St4&#45;&gt;F1</title>\n<path fill=\"none\" stroke=\"black\" d=\"M362.77,-157.18C356,-162.33 347.96,-167.89 340.09,-172 328,-178.31 324.53,-179.75 311.09,-182 251.2,-192.04 179.93,-182.67 141.03,-175.79\"/>\n<polygon fill=\"black\" stroke=\"black\" points=\"141.42,-172.3 130.95,-173.93 140.15,-179.19 141.42,-172.3\"/>\n<text text-anchor=\"middle\" x=\"242.09\" y=\"-189.8\" font-family=\"Times,serif\" font-size=\"14.00\">0 </text>\n</g>\n<!-- St4&#45;&gt;F0 -->\n<g id=\"edge9\" class=\"edge\">\n<title>St4&#45;&gt;F0</title>\n<path fill=\"none\" stroke=\"black\" d=\"M357.88,-143C325.61,-143 265.33,-143 229.15,-143\"/>\n<polygon fill=\"black\" stroke=\"black\" points=\"228.75,-139.5 218.75,-143 228.75,-146.5 228.75,-139.5\"/>\n<text text-anchor=\"middle\" x=\"288.34\" y=\"-146.8\" font-family=\"Times,serif\" font-size=\"14.00\">0 </text>\n</g>\n<!-- St4&#45;&gt;IF -->\n<g id=\"edge6\" class=\"edge\">\n<title>St4&#45;&gt;IF</title>\n<path fill=\"none\" stroke=\"black\" d=\"M398.25,-128.09C411.38,-117.13 430.81,-102.97 450.58,-96 477.13,-86.64 509.22,-84.87 532.64,-85.16\"/>\n<polygon fill=\"black\" stroke=\"black\" points=\"532.65,-88.67 542.74,-85.43 532.83,-81.67 532.65,-88.67\"/>\n<text text-anchor=\"middle\" x=\"473.33\" y=\"-99.8\" font-family=\"Times,serif\" font-size=\"14.00\">0 </text>\n</g>\n<!-- St5 -->\n<g id=\"node4\" class=\"node\">\n<title>St5</title>\n<ellipse fill=\"none\" stroke=\"black\" cx=\"288.34\" cy=\"-51\" rx=\"23\" ry=\"23\"/>\n<text text-anchor=\"middle\" x=\"288.34\" y=\"-47.3\" font-family=\"Times,serif\" font-size=\"14.00\">St5</text>\n</g>\n<!-- St5&#45;&gt;St4 -->\n<g id=\"edge10\" class=\"edge\">\n<title>St5&#45;&gt;St4</title>\n<path fill=\"none\" stroke=\"black\" d=\"M305.1,-67.03C319.51,-81.67 340.97,-103.49 357.21,-119.99\"/>\n<polygon fill=\"black\" stroke=\"black\" points=\"354.75,-122.48 364.25,-127.16 359.74,-117.57 354.75,-122.48\"/>\n<text text-anchor=\"middle\" x=\"334.59\" y=\"-106.8\" font-family=\"Times,serif\" font-size=\"14.00\">1 </text>\n</g>\n<!-- St5&#45;&gt;St5 -->\n<g id=\"edge11\" class=\"edge\">\n<title>St5&#45;&gt;St5</title>\n<path fill=\"none\" stroke=\"black\" d=\"M279.93,-72.38C278.89,-82.67 281.69,-91.75 288.34,-91.75 292.6,-91.75 295.28,-88.02 296.39,-82.64\"/>\n<polygon fill=\"black\" stroke=\"black\" points=\"299.89,-82.5 296.76,-72.38 292.9,-82.25 299.89,-82.5\"/>\n<text text-anchor=\"middle\" x=\"288.34\" y=\"-95.55\" font-family=\"Times,serif\" font-size=\"14.00\">1 </text>\n</g>\n<!-- F1&#45;&gt;F1 -->\n<g id=\"edge14\" class=\"edge\">\n<title>F1&#45;&gt;F1</title>\n<path fill=\"none\" stroke=\"black\" d=\"M104.27,-189.24C103.22,-199.18 105.51,-208.15 111.15,-208.15 114.67,-208.15 116.89,-204.65 117.8,-199.59\"/>\n<polygon fill=\"black\" stroke=\"black\" points=\"121.31,-199.31 118.02,-189.24 114.31,-199.16 121.31,-199.31\"/>\n<text text-anchor=\"middle\" x=\"111.15\" y=\"-211.95\" font-family=\"Times,serif\" font-size=\"14.00\">1 </text>\n</g>\n<!-- F1&#45;&gt;F0 -->\n<g id=\"edge15\" class=\"edge\">\n<title>F1&#45;&gt;F0</title>\n<path fill=\"none\" stroke=\"black\" d=\"M130.66,-164.14C141.95,-160.57 156.6,-155.93 169.3,-151.91\"/>\n<polygon fill=\"black\" stroke=\"black\" points=\"170.5,-155.2 178.97,-148.85 168.38,-148.53 170.5,-155.2\"/>\n<text text-anchor=\"middle\" x=\"154.8\" y=\"-161.8\" font-family=\"Times,serif\" font-size=\"14.00\">1 </text>\n</g>\n<!-- F0&#45;&gt;St4 -->\n<g id=\"edge12\" class=\"edge\">\n<title>F0&#45;&gt;St4</title>\n<path fill=\"none\" stroke=\"black\" d=\"M217.36,-150.54C223.39,-152.86 230.21,-155.26 236.59,-157 249.21,-160.43 252.56,-160.88 265.59,-162 298.66,-164.83 307.98,-165.36 340.09,-157 343.27,-156.17 346.57,-155.2 349.83,-154.16\"/>\n<polygon fill=\"black\" stroke=\"black\" points=\"351.05,-157.45 359.41,-150.93 348.82,-150.81 351.05,-157.45\"/>\n<text text-anchor=\"middle\" x=\"288.34\" y=\"-166.8\" font-family=\"Times,serif\" font-size=\"14.00\">0 </text>\n</g>\n<!-- F0&#45;&gt;St5 -->\n<g id=\"edge13\" class=\"edge\">\n<title>F0&#45;&gt;St5</title>\n<path fill=\"none\" stroke=\"black\" d=\"M213.18,-128.62C227,-114.16 248.54,-91.62 264.85,-74.54\"/>\n<polygon fill=\"black\" stroke=\"black\" points=\"267.55,-76.78 271.93,-67.13 262.49,-71.94 267.55,-76.78\"/>\n<text text-anchor=\"middle\" x=\"242.09\" y=\"-106.8\" font-family=\"Times,serif\" font-size=\"14.00\">0 </text>\n</g>\n</g>\n</svg>\n",
            "text/plain": [
              "<graphviz.graphs.Digraph at 0x7d05617f7c10>"
            ]
          },
          "metadata": {},
          "execution_count": 51
        }
      ],
      "source": [
        "dotObj_nfa(dfa_unmin_rev)"
      ]
    },
    {
      "cell_type": "code",
      "execution_count": 52,
      "metadata": {
        "id": "eLz0OY31aGbu"
      },
      "outputs": [],
      "source": [
        "dfa_unmin_rev_det = nfa2dfa(dfa_unmin_rev, STATENAME_MAXSIZE=80)"
      ]
    },
    {
      "cell_type": "code",
      "execution_count": 53,
      "metadata": {
        "id": "jTM-Yck0aGbv",
        "outputId": "9d427530-ff3c-4f9f-9a1a-562324754b27",
        "colab": {
          "base_uri": "https://localhost:8080/",
          "height": 278
        }
      },
      "outputs": [
        {
          "output_type": "execute_result",
          "data": {
            "image/svg+xml": "<?xml version=\"1.0\" encoding=\"UTF-8\" standalone=\"no\"?>\n<!DOCTYPE svg PUBLIC \"-//W3C//DTD SVG 1.1//EN\"\n \"http://www.w3.org/Graphics/SVG/1.1/DTD/svg11.dtd\">\n<!-- Generated by graphviz version 2.43.0 (0)\n -->\n<!-- Title: %3 Pages: 1 -->\n<svg width=\"616pt\" height=\"193pt\"\n viewBox=\"0.00 0.00 616.07 192.54\" xmlns=\"http://www.w3.org/2000/svg\" xmlns:xlink=\"http://www.w3.org/1999/xlink\">\n<g id=\"graph0\" class=\"graph\" transform=\"scale(1 1) rotate(0) translate(4 188.54)\">\n<title>%3</title>\n<polygon fill=\"white\" stroke=\"transparent\" points=\"-4,4 -4,-188.54 612.07,-188.54 612.07,4 -4,4\"/>\n<!-- EMPTY -->\n<g id=\"node1\" class=\"node\">\n<title>EMPTY</title>\n</g>\n<!-- F0_F1_IF -->\n<g id=\"node5\" class=\"node\">\n<title>F0_F1_IF</title>\n<ellipse fill=\"none\" stroke=\"black\" cx=\"141.15\" cy=\"-85.8\" rx=\"46.28\" ry=\"46.28\"/>\n<ellipse fill=\"none\" stroke=\"black\" cx=\"141.15\" cy=\"-85.8\" rx=\"50.29\" ry=\"50.29\"/>\n<text text-anchor=\"middle\" x=\"141.15\" y=\"-82.1\" font-family=\"Times,serif\" font-size=\"14.00\">F0_F1_IF</text>\n</g>\n<!-- EMPTY&#45;&gt;F0_F1_IF -->\n<g id=\"edge1\" class=\"edge\">\n<title>EMPTY&#45;&gt;F0_F1_IF</title>\n<path fill=\"none\" stroke=\"black\" d=\"M54.01,-85.8C62.09,-85.8 71.35,-85.8 80.73,-85.8\"/>\n<polygon fill=\"black\" stroke=\"black\" points=\"80.92,-89.3 90.92,-85.8 80.92,-82.3 80.92,-89.3\"/>\n</g>\n<!-- St4_St5 -->\n<g id=\"node2\" class=\"node\">\n<title>St4_St5</title>\n<ellipse fill=\"none\" stroke=\"black\" cx=\"391.23\" cy=\"-85.8\" rx=\"38.19\" ry=\"38.19\"/>\n<text text-anchor=\"middle\" x=\"391.23\" y=\"-82.1\" font-family=\"Times,serif\" font-size=\"14.00\">St4_St5</text>\n</g>\n<!-- St4_St5&#45;&gt;St4_St5 -->\n<g id=\"edge5\" class=\"edge\">\n<title>St4_St5&#45;&gt;St4_St5</title>\n<path fill=\"none\" stroke=\"black\" d=\"M380.01,-122.65C380.34,-133.61 384.08,-142.14 391.23,-142.14 395.92,-142.14 399.15,-138.47 400.9,-132.84\"/>\n<polygon fill=\"black\" stroke=\"black\" points=\"404.41,-133.06 402.46,-122.65 397.49,-132.01 404.41,-133.06\"/>\n<text text-anchor=\"middle\" x=\"391.23\" y=\"-145.94\" font-family=\"Times,serif\" font-size=\"14.00\">1 </text>\n</g>\n<!-- F0_F1_IF_St3 -->\n<g id=\"node4\" class=\"node\">\n<title>F0_F1_IF_St3</title>\n<ellipse fill=\"none\" stroke=\"black\" cx=\"542.32\" cy=\"-85.8\" rx=\"61.98\" ry=\"61.98\"/>\n<ellipse fill=\"none\" stroke=\"black\" cx=\"542.32\" cy=\"-85.8\" rx=\"65.99\" ry=\"65.99\"/>\n<text text-anchor=\"middle\" x=\"542.32\" y=\"-82.1\" font-family=\"Times,serif\" font-size=\"14.00\">F0_F1_IF_St3</text>\n</g>\n<!-- St4_St5&#45;&gt;F0_F1_IF_St3 -->\n<g id=\"edge4\" class=\"edge\">\n<title>St4_St5&#45;&gt;F0_F1_IF_St3</title>\n<path fill=\"none\" stroke=\"black\" d=\"M429.85,-85.8C441.02,-85.8 453.66,-85.8 466.32,-85.8\"/>\n<polygon fill=\"black\" stroke=\"black\" points=\"466.45,-89.3 476.44,-85.8 466.44,-82.3 466.45,-89.3\"/>\n<text text-anchor=\"middle\" x=\"453.08\" y=\"-89.6\" font-family=\"Times,serif\" font-size=\"14.00\">0 </text>\n</g>\n<!-- F0_F1 -->\n<g id=\"node3\" class=\"node\">\n<title>F0_F1</title>\n<ellipse fill=\"none\" stroke=\"black\" cx=\"272.09\" cy=\"-33.8\" rx=\"33.6\" ry=\"33.6\"/>\n<text text-anchor=\"middle\" x=\"272.09\" y=\"-30.1\" font-family=\"Times,serif\" font-size=\"14.00\">F0_F1</text>\n</g>\n<!-- F0_F1&#45;&gt;St4_St5 -->\n<g id=\"edge6\" class=\"edge\">\n<title>F0_F1&#45;&gt;St4_St5</title>\n<path fill=\"none\" stroke=\"black\" d=\"M303.26,-47.19C316.38,-53.01 332.01,-59.95 346.38,-66.33\"/>\n<polygon fill=\"black\" stroke=\"black\" points=\"345.05,-69.57 355.61,-70.43 347.89,-63.17 345.05,-69.57\"/>\n<text text-anchor=\"middle\" x=\"329.39\" y=\"-63.6\" font-family=\"Times,serif\" font-size=\"14.00\">0 </text>\n</g>\n<!-- F0_F1&#45;&gt;F0_F1 -->\n<g id=\"edge7\" class=\"edge\">\n<title>F0_F1&#45;&gt;F0_F1</title>\n<path fill=\"none\" stroke=\"black\" d=\"M261.59,-66.17C261.59,-76.96 265.09,-85.59 272.09,-85.59 276.68,-85.59 279.77,-81.88 281.35,-76.27\"/>\n<polygon fill=\"black\" stroke=\"black\" points=\"284.84,-76.52 282.59,-66.17 277.9,-75.67 284.84,-76.52\"/>\n<text text-anchor=\"middle\" x=\"272.09\" y=\"-89.39\" font-family=\"Times,serif\" font-size=\"14.00\">1 </text>\n</g>\n<!-- F0_F1_IF_St3&#45;&gt;St4_St5 -->\n<g id=\"edge8\" class=\"edge\">\n<title>F0_F1_IF_St3&#45;&gt;St4_St5</title>\n<path fill=\"none\" stroke=\"black\" d=\"M479.16,-66.71C468.64,-65.35 457.82,-65.09 447.58,-66.8 444.12,-67.37 440.58,-68.14 437.06,-69.04\"/>\n<polygon fill=\"black\" stroke=\"black\" points=\"435.86,-65.74 427.21,-71.85 437.79,-72.47 435.86,-65.74\"/>\n<text text-anchor=\"middle\" x=\"453.08\" y=\"-70.6\" font-family=\"Times,serif\" font-size=\"14.00\">0 </text>\n</g>\n<!-- F0_F1_IF_St3&#45;&gt;F0_F1_IF_St3 -->\n<g id=\"edge9\" class=\"edge\">\n<title>F0_F1_IF_St3&#45;&gt;F0_F1_IF_St3</title>\n<path fill=\"none\" stroke=\"black\" d=\"M526.73,-149.69C528.7,-161.36 533.9,-169.54 542.32,-169.54 548.11,-169.54 552.38,-165.67 555.12,-159.47\"/>\n<polygon fill=\"black\" stroke=\"black\" points=\"558.53,-160.27 557.92,-149.69 551.8,-158.35 558.53,-160.27\"/>\n<text text-anchor=\"middle\" x=\"542.32\" y=\"-173.34\" font-family=\"Times,serif\" font-size=\"14.00\">1 </text>\n</g>\n<!-- F0_F1_IF&#45;&gt;St4_St5 -->\n<g id=\"edge2\" class=\"edge\">\n<title>F0_F1_IF&#45;&gt;St4_St5</title>\n<path fill=\"none\" stroke=\"black\" d=\"M189.64,-100.1C205.01,-104.06 222.24,-107.82 238.29,-109.8 268.11,-113.46 276.13,-113.95 305.89,-109.8 318.74,-108 332.38,-104.75 344.86,-101.2\"/>\n<polygon fill=\"black\" stroke=\"black\" points=\"345.99,-104.51 354.58,-98.31 344,-97.8 345.99,-104.51\"/>\n<text text-anchor=\"middle\" x=\"272.09\" y=\"-115.6\" font-family=\"Times,serif\" font-size=\"14.00\">0 </text>\n</g>\n<!-- F0_F1_IF&#45;&gt;F0_F1 -->\n<g id=\"edge3\" class=\"edge\">\n<title>F0_F1_IF&#45;&gt;F0_F1</title>\n<path fill=\"none\" stroke=\"black\" d=\"M187.97,-67.32C201.95,-61.68 217.21,-55.53 230.79,-50.05\"/>\n<polygon fill=\"black\" stroke=\"black\" points=\"232.38,-53.18 240.35,-46.19 229.76,-46.69 232.38,-53.18\"/>\n<text text-anchor=\"middle\" x=\"214.79\" y=\"-62.6\" font-family=\"Times,serif\" font-size=\"14.00\">1 </text>\n</g>\n</g>\n</svg>\n",
            "text/plain": [
              "<graphviz.graphs.Digraph at 0x7d0562235780>"
            ]
          },
          "metadata": {},
          "execution_count": 53
        }
      ],
      "source": [
        "dotObj_dfa(dfa_unmin_rev_det, STATENAME_MAXSIZE=80)"
      ]
    },
    {
      "cell_type": "code",
      "execution_count": 54,
      "metadata": {
        "id": "3sMnG5T5aGbv",
        "outputId": "6a04bf6b-8e82-44ff-fe0d-991795417984",
        "colab": {
          "base_uri": "https://localhost:8080/",
          "height": 35
        }
      },
      "outputs": [
        {
          "output_type": "execute_result",
          "data": {
            "text/plain": [
              "'dfa_unmin_rev_det.pdf'"
            ],
            "application/vnd.google.colaboratory.intrinsic+json": {
              "type": "string"
            }
          },
          "metadata": {},
          "execution_count": 54
        }
      ],
      "source": [
        "dotObj_dfa(dfa_unmin_rev_det, STATENAME_MAXSIZE=80).render('dfa_unmin_rev_det')"
      ]
    },
    {
      "cell_type": "code",
      "execution_count": 55,
      "metadata": {
        "id": "0zhfpvB1aGbv",
        "outputId": "79aeef54-c90d-4273-fb32-8bc6ed4ac613",
        "colab": {
          "base_uri": "https://localhost:8080/",
          "height": 210
        }
      },
      "outputs": [
        {
          "output_type": "execute_result",
          "data": {
            "image/svg+xml": "<?xml version=\"1.0\" encoding=\"UTF-8\" standalone=\"no\"?>\n<!DOCTYPE svg PUBLIC \"-//W3C//DTD SVG 1.1//EN\"\n \"http://www.w3.org/Graphics/SVG/1.1/DTD/svg11.dtd\">\n<!-- Generated by graphviz version 2.43.0 (0)\n -->\n<!-- Title: %3 Pages: 1 -->\n<svg width=\"483pt\" height=\"142pt\"\n viewBox=\"0.00 0.00 483.48 142.09\" xmlns=\"http://www.w3.org/2000/svg\" xmlns:xlink=\"http://www.w3.org/1999/xlink\">\n<g id=\"graph0\" class=\"graph\" transform=\"scale(1 1) rotate(0) translate(4 138.09)\">\n<title>%3</title>\n<polygon fill=\"white\" stroke=\"transparent\" points=\"-4,4 -4,-138.09 479.48,-138.09 479.48,4 -4,4\"/>\n<!-- EMPTY -->\n<g id=\"node1\" class=\"node\">\n<title>EMPTY</title>\n</g>\n<!-- IF -->\n<g id=\"node4\" class=\"node\">\n<title>IF</title>\n<ellipse fill=\"none\" stroke=\"black\" cx=\"113.85\" cy=\"-38.35\" rx=\"18.72\" ry=\"18.72\"/>\n<ellipse fill=\"none\" stroke=\"black\" cx=\"113.85\" cy=\"-38.35\" rx=\"22.7\" ry=\"22.7\"/>\n<text text-anchor=\"middle\" x=\"113.85\" y=\"-34.65\" font-family=\"Times,serif\" font-size=\"14.00\">IF</text>\n</g>\n<!-- EMPTY&#45;&gt;IF -->\n<g id=\"edge1\" class=\"edge\">\n<title>EMPTY&#45;&gt;IF</title>\n<path fill=\"none\" stroke=\"black\" d=\"M54.38,-38.35C62.68,-38.35 71.94,-38.35 80.6,-38.35\"/>\n<polygon fill=\"black\" stroke=\"black\" points=\"80.76,-41.85 90.76,-38.35 80.76,-34.85 80.76,-41.85\"/>\n</g>\n<!-- St3 -->\n<g id=\"node2\" class=\"node\">\n<title>St3</title>\n<ellipse fill=\"none\" stroke=\"black\" cx=\"206.44\" cy=\"-78.35\" rx=\"23\" ry=\"23\"/>\n<text text-anchor=\"middle\" x=\"206.44\" y=\"-74.65\" font-family=\"Times,serif\" font-size=\"14.00\">St3</text>\n</g>\n<!-- St3&#45;&gt;St3 -->\n<g id=\"edge7\" class=\"edge\">\n<title>St3&#45;&gt;St3</title>\n<path fill=\"none\" stroke=\"black\" d=\"M198.03,-99.73C196.99,-110.02 199.8,-119.09 206.44,-119.09 210.7,-119.09 213.39,-115.37 214.49,-109.99\"/>\n<polygon fill=\"black\" stroke=\"black\" points=\"218,-109.85 214.86,-99.73 211,-109.6 218,-109.85\"/>\n<text text-anchor=\"middle\" x=\"206.44\" y=\"-122.89\" font-family=\"Times,serif\" font-size=\"14.00\">1 </text>\n</g>\n<!-- St4_St5 -->\n<g id=\"node3\" class=\"node\">\n<title>St4_St5</title>\n<ellipse fill=\"none\" stroke=\"black\" cx=\"314.54\" cy=\"-38.35\" rx=\"38.19\" ry=\"38.19\"/>\n<text text-anchor=\"middle\" x=\"314.54\" y=\"-34.65\" font-family=\"Times,serif\" font-size=\"14.00\">St4_St5</text>\n</g>\n<!-- St3&#45;&gt;St4_St5 -->\n<g id=\"edge6\" class=\"edge\">\n<title>St3&#45;&gt;St4_St5</title>\n<path fill=\"none\" stroke=\"black\" d=\"M227.9,-70.63C239.54,-66.24 254.61,-60.56 268.85,-55.2\"/>\n<polygon fill=\"black\" stroke=\"black\" points=\"270.4,-58.35 278.52,-51.55 267.93,-51.8 270.4,-58.35\"/>\n<text text-anchor=\"middle\" x=\"252.69\" y=\"-66.15\" font-family=\"Times,serif\" font-size=\"14.00\">0 </text>\n</g>\n<!-- St4_St5&#45;&gt;St4_St5 -->\n<g id=\"edge5\" class=\"edge\">\n<title>St4_St5&#45;&gt;St4_St5</title>\n<path fill=\"none\" stroke=\"black\" d=\"M303.31,-75.2C303.65,-86.16 307.39,-94.69 314.54,-94.69 319.23,-94.69 322.45,-91.02 324.21,-85.39\"/>\n<polygon fill=\"black\" stroke=\"black\" points=\"327.72,-85.61 325.76,-75.2 320.8,-84.56 327.72,-85.61\"/>\n<text text-anchor=\"middle\" x=\"314.54\" y=\"-98.49\" font-family=\"Times,serif\" font-size=\"14.00\">1 </text>\n</g>\n<!-- F1_F0 -->\n<g id=\"node5\" class=\"node\">\n<title>F1_F0</title>\n<ellipse fill=\"none\" stroke=\"black\" cx=\"437.68\" cy=\"-38.35\" rx=\"33.62\" ry=\"33.62\"/>\n<ellipse fill=\"none\" stroke=\"black\" cx=\"437.68\" cy=\"-38.35\" rx=\"37.6\" ry=\"37.6\"/>\n<text text-anchor=\"middle\" x=\"437.68\" y=\"-34.65\" font-family=\"Times,serif\" font-size=\"14.00\">F1_F0</text>\n</g>\n<!-- St4_St5&#45;&gt;F1_F0 -->\n<g id=\"edge4\" class=\"edge\">\n<title>St4_St5&#45;&gt;F1_F0</title>\n<path fill=\"none\" stroke=\"black\" d=\"M353.21,-38.35C364.7,-38.35 377.49,-38.35 389.53,-38.35\"/>\n<polygon fill=\"black\" stroke=\"black\" points=\"389.87,-41.85 399.87,-38.35 389.87,-34.85 389.87,-41.85\"/>\n<text text-anchor=\"middle\" x=\"376.39\" y=\"-42.15\" font-family=\"Times,serif\" font-size=\"14.00\">0 </text>\n</g>\n<!-- IF&#45;&gt;St3 -->\n<g id=\"edge2\" class=\"edge\">\n<title>IF&#45;&gt;St3</title>\n<path fill=\"none\" stroke=\"black\" d=\"M134.95,-47.22C147.04,-52.56 162.62,-59.44 176.07,-65.38\"/>\n<polygon fill=\"black\" stroke=\"black\" points=\"174.83,-68.66 185.39,-69.49 177.66,-62.25 174.83,-68.66\"/>\n<text text-anchor=\"middle\" x=\"160.2\" y=\"-64.15\" font-family=\"Times,serif\" font-size=\"14.00\">1 </text>\n</g>\n<!-- IF&#45;&gt;St4_St5 -->\n<g id=\"edge3\" class=\"edge\">\n<title>IF&#45;&gt;St4_St5</title>\n<path fill=\"none\" stroke=\"black\" d=\"M136.82,-35.54C150.32,-33.96 167.98,-32.14 183.7,-31.35 211.02,-29.96 241.57,-31.46 266.17,-33.41\"/>\n<polygon fill=\"black\" stroke=\"black\" points=\"266.06,-36.92 276.32,-34.28 266.65,-29.94 266.06,-36.92\"/>\n<text text-anchor=\"middle\" x=\"206.44\" y=\"-35.15\" font-family=\"Times,serif\" font-size=\"14.00\">0 </text>\n</g>\n<!-- F1_F0&#45;&gt;St4_St5 -->\n<g id=\"edge8\" class=\"edge\">\n<title>F1_F0&#45;&gt;St4_St5</title>\n<path fill=\"none\" stroke=\"black\" d=\"M402.35,-24.5C395.67,-22.36 388.64,-20.48 381.89,-19.35 374.58,-18.12 366.92,-18.59 359.52,-20.02\"/>\n<polygon fill=\"black\" stroke=\"black\" points=\"358.49,-16.66 349.64,-22.48 360.19,-23.46 358.49,-16.66\"/>\n<text text-anchor=\"middle\" x=\"376.39\" y=\"-23.15\" font-family=\"Times,serif\" font-size=\"14.00\">0 </text>\n</g>\n<!-- F1_F0&#45;&gt;F1_F0 -->\n<g id=\"edge9\" class=\"edge\">\n<title>F1_F0&#45;&gt;F1_F0</title>\n<path fill=\"none\" stroke=\"black\" d=\"M426.45,-74.57C426.73,-85.56 430.48,-94.14 437.68,-94.14 442.41,-94.14 445.65,-90.45 447.4,-84.8\"/>\n<polygon fill=\"black\" stroke=\"black\" points=\"450.91,-84.98 448.92,-74.57 443.99,-83.95 450.91,-84.98\"/>\n<text text-anchor=\"middle\" x=\"437.68\" y=\"-97.94\" font-family=\"Times,serif\" font-size=\"14.00\">1 </text>\n</g>\n</g>\n</svg>\n",
            "text/plain": [
              "<graphviz.graphs.Digraph at 0x7d0562237b50>"
            ]
          },
          "metadata": {},
          "execution_count": 55
        }
      ],
      "source": [
        "dotObj_dfa(dfa_min)"
      ]
    },
    {
      "cell_type": "code",
      "execution_count": 56,
      "metadata": {
        "id": "tVABLk95aGbv"
      },
      "outputs": [],
      "source": [
        "mEven0_mOdd0 = intersect_dfa(m2,m3)"
      ]
    },
    {
      "cell_type": "code",
      "execution_count": 57,
      "metadata": {
        "id": "TDq1srxyaGbv",
        "outputId": "8829efed-07ce-4fd4-d4ff-c34fea1bc659",
        "colab": {
          "base_uri": "https://localhost:8080/",
          "height": 300
        }
      },
      "outputs": [
        {
          "output_type": "execute_result",
          "data": {
            "image/svg+xml": "<?xml version=\"1.0\" encoding=\"UTF-8\" standalone=\"no\"?>\n<!DOCTYPE svg PUBLIC \"-//W3C//DTD SVG 1.1//EN\"\n \"http://www.w3.org/Graphics/SVG/1.1/DTD/svg11.dtd\">\n<!-- Generated by graphviz version 2.43.0 (0)\n -->\n<!-- Title: %3 Pages: 1 -->\n<svg width=\"1151pt\" height=\"194pt\"\n viewBox=\"0.00 0.00 1151.14 194.39\" xmlns=\"http://www.w3.org/2000/svg\" xmlns:xlink=\"http://www.w3.org/1999/xlink\">\n<g id=\"graph0\" class=\"graph\" transform=\"scale(1 1) rotate(0) translate(4 190.39)\">\n<title>%3</title>\n<polygon fill=\"white\" stroke=\"transparent\" points=\"-4,4 -4,-190.39 1147.14,-190.39 1147.14,4 -4,4\"/>\n<!-- EMPTY -->\n<g id=\"node1\" class=\"node\">\n<title>EMPTY</title>\n</g>\n<!-- \\(St2_St2\\) -->\n<g id=\"node9\" class=\"node\">\n<title>\\(St2_St2\\)</title>\n<ellipse fill=\"none\" stroke=\"black\" cx=\"139.2\" cy=\"-48.2\" rx=\"44.38\" ry=\"44.38\"/>\n<ellipse fill=\"none\" stroke=\"black\" cx=\"139.2\" cy=\"-48.2\" rx=\"48.39\" ry=\"48.39\"/>\n<text text-anchor=\"middle\" x=\"139.2\" y=\"-44.5\" font-family=\"Times,serif\" font-size=\"14.00\">(St2_St2)</text>\n</g>\n<!-- EMPTY&#45;&gt;\\(St2_St2\\) -->\n<g id=\"edge1\" class=\"edge\">\n<title>EMPTY&#45;&gt;\\(St2_St2\\)</title>\n<path fill=\"none\" stroke=\"black\" d=\"M54.11,-48.2C62.15,-48.2 71.34,-48.2 80.63,-48.2\"/>\n<polygon fill=\"black\" stroke=\"black\" points=\"80.69,-51.7 90.69,-48.2 80.69,-44.7 80.69,-51.7\"/>\n</g>\n<!-- \\(St0_St6\\) -->\n<g id=\"node2\" class=\"node\">\n<title>\\(St0_St6\\)</title>\n<ellipse fill=\"none\" stroke=\"black\" cx=\"820.16\" cy=\"-104.2\" rx=\"44.39\" ry=\"44.39\"/>\n<text text-anchor=\"middle\" x=\"820.16\" y=\"-100.5\" font-family=\"Times,serif\" font-size=\"14.00\">(St0_St6)</text>\n</g>\n<!-- \\(St0_St6\\)&#45;&gt;\\(St0_St6\\) -->\n<g id=\"edge10\" class=\"edge\">\n<title>\\(St0_St6\\)&#45;&gt;\\(St0_St6\\)</title>\n<path fill=\"none\" stroke=\"black\" d=\"M807.91,-146.93C808.66,-158.02 812.74,-166.39 820.16,-166.39 825.14,-166.39 828.61,-162.62 830.59,-156.77\"/>\n<polygon fill=\"black\" stroke=\"black\" points=\"834.03,-157.4 832.4,-146.93 827.15,-156.13 834.03,-157.4\"/>\n<text text-anchor=\"middle\" x=\"820.16\" y=\"-170.19\" font-family=\"Times,serif\" font-size=\"14.00\">1 </text>\n</g>\n<!-- \\(St4_St4\\) -->\n<g id=\"node3\" class=\"node\">\n<title>\\(St4_St4\\)</title>\n<ellipse fill=\"none\" stroke=\"black\" cx=\"955.55\" cy=\"-104.2\" rx=\"44.39\" ry=\"44.39\"/>\n<text text-anchor=\"middle\" x=\"955.55\" y=\"-100.5\" font-family=\"Times,serif\" font-size=\"14.00\">(St4_St4)</text>\n</g>\n<!-- \\(St0_St6\\)&#45;&gt;\\(St4_St4\\) -->\n<g id=\"edge4\" class=\"edge\">\n<title>\\(St0_St6\\)&#45;&gt;\\(St4_St4\\)</title>\n<path fill=\"none\" stroke=\"black\" d=\"M864.47,-104.2C876.11,-104.2 888.85,-104.2 900.99,-104.2\"/>\n<polygon fill=\"black\" stroke=\"black\" points=\"901,-107.7 911,-104.2 901,-100.7 901,-107.7\"/>\n<text text-anchor=\"middle\" x=\"887.85\" y=\"-108\" font-family=\"Times,serif\" font-size=\"14.00\">0 </text>\n</g>\n<!-- \\(St4_St4\\)&#45;&gt;\\(St4_St4\\) -->\n<g id=\"edge9\" class=\"edge\">\n<title>\\(St4_St4\\)&#45;&gt;\\(St4_St4\\)</title>\n<path fill=\"none\" stroke=\"black\" d=\"M943.3,-146.93C944.05,-158.02 948.14,-166.39 955.55,-166.39 960.53,-166.39 964.01,-162.62 965.98,-156.77\"/>\n<polygon fill=\"black\" stroke=\"black\" points=\"969.42,-157.4 967.8,-146.93 962.54,-156.13 969.42,-157.4\"/>\n<text text-anchor=\"middle\" x=\"955.55\" y=\"-170.19\" font-family=\"Times,serif\" font-size=\"14.00\">1 </text>\n</g>\n<!-- \\(St0_St0\\) -->\n<g id=\"node8\" class=\"node\">\n<title>\\(St0_St0\\)</title>\n<ellipse fill=\"none\" stroke=\"black\" cx=\"1094.94\" cy=\"-48.2\" rx=\"44.38\" ry=\"44.38\"/>\n<ellipse fill=\"none\" stroke=\"black\" cx=\"1094.94\" cy=\"-48.2\" rx=\"48.39\" ry=\"48.39\"/>\n<text text-anchor=\"middle\" x=\"1094.94\" y=\"-44.5\" font-family=\"Times,serif\" font-size=\"14.00\">(St0_St0)</text>\n</g>\n<!-- \\(St4_St4\\)&#45;&gt;\\(St0_St0\\) -->\n<g id=\"edge12\" class=\"edge\">\n<title>\\(St4_St4\\)&#45;&gt;\\(St0_St0\\)</title>\n<path fill=\"none\" stroke=\"black\" d=\"M996.66,-87.85C1010.3,-82.29 1025.78,-75.98 1040.31,-70.06\"/>\n<polygon fill=\"black\" stroke=\"black\" points=\"1041.75,-73.25 1049.69,-66.23 1039.11,-66.77 1041.75,-73.25\"/>\n<text text-anchor=\"middle\" x=\"1023.25\" y=\"-81\" font-family=\"Times,serif\" font-size=\"14.00\">0 </text>\n</g>\n<!-- \\(St3_St3\\) -->\n<g id=\"node4\" class=\"node\">\n<title>\\(St3_St3\\)</title>\n<ellipse fill=\"none\" stroke=\"black\" cx=\"278.59\" cy=\"-109.2\" rx=\"44.39\" ry=\"44.39\"/>\n<text text-anchor=\"middle\" x=\"278.59\" y=\"-105.5\" font-family=\"Times,serif\" font-size=\"14.00\">(St3_St3)</text>\n</g>\n<!-- \\(St3_St3\\)&#45;&gt;\\(St3_St3\\) -->\n<g id=\"edge13\" class=\"edge\">\n<title>\\(St3_St3\\)&#45;&gt;\\(St3_St3\\)</title>\n<path fill=\"none\" stroke=\"black\" d=\"M266.34,-151.93C267.09,-163.02 271.18,-171.39 278.59,-171.39 283.57,-171.39 287.05,-167.62 289.02,-161.77\"/>\n<polygon fill=\"black\" stroke=\"black\" points=\"292.46,-162.4 290.84,-151.93 285.58,-161.13 292.46,-162.4\"/>\n<text text-anchor=\"middle\" x=\"278.59\" y=\"-175.19\" font-family=\"Times,serif\" font-size=\"14.00\">1 </text>\n</g>\n<!-- \\(St4_St6\\) -->\n<g id=\"node5\" class=\"node\">\n<title>\\(St4_St6\\)</title>\n<ellipse fill=\"none\" stroke=\"black\" cx=\"413.98\" cy=\"-48.2\" rx=\"44.39\" ry=\"44.39\"/>\n<text text-anchor=\"middle\" x=\"413.98\" y=\"-44.5\" font-family=\"Times,serif\" font-size=\"14.00\">(St4_St6)</text>\n</g>\n<!-- \\(St3_St3\\)&#45;&gt;\\(St4_St6\\) -->\n<g id=\"edge2\" class=\"edge\">\n<title>\\(St3_St3\\)&#45;&gt;\\(St4_St6\\)</title>\n<path fill=\"none\" stroke=\"black\" d=\"M319.25,-91.06C333.23,-84.66 349.13,-77.4 363.81,-70.68\"/>\n<polygon fill=\"black\" stroke=\"black\" points=\"365.6,-73.71 373.24,-66.37 362.69,-67.34 365.6,-73.71\"/>\n<text text-anchor=\"middle\" x=\"346.28\" y=\"-84\" font-family=\"Times,serif\" font-size=\"14.00\">0 </text>\n</g>\n<!-- \\(St4_St6\\)&#45;&gt;\\(St4_St6\\) -->\n<g id=\"edge7\" class=\"edge\">\n<title>\\(St4_St6\\)&#45;&gt;\\(St4_St6\\)</title>\n<path fill=\"none\" stroke=\"black\" d=\"M401.73,-90.93C402.49,-102.02 406.57,-110.39 413.98,-110.39 418.96,-110.39 422.44,-106.62 424.41,-100.77\"/>\n<polygon fill=\"black\" stroke=\"black\" points=\"427.85,-101.4 426.23,-90.93 420.97,-100.13 427.85,-101.4\"/>\n<text text-anchor=\"middle\" x=\"413.98\" y=\"-114.19\" font-family=\"Times,serif\" font-size=\"14.00\">1 </text>\n</g>\n<!-- \\(St0_St4\\) -->\n<g id=\"node7\" class=\"node\">\n<title>\\(St0_St4\\)</title>\n<ellipse fill=\"none\" stroke=\"black\" cx=\"549.37\" cy=\"-104.2\" rx=\"44.39\" ry=\"44.39\"/>\n<text text-anchor=\"middle\" x=\"549.37\" y=\"-100.5\" font-family=\"Times,serif\" font-size=\"14.00\">(St0_St4)</text>\n</g>\n<!-- \\(St4_St6\\)&#45;&gt;\\(St0_St4\\) -->\n<g id=\"edge17\" class=\"edge\">\n<title>\\(St4_St6\\)&#45;&gt;\\(St0_St4\\)</title>\n<path fill=\"none\" stroke=\"black\" d=\"M455,-65C468.85,-70.81 484.54,-77.4 499.05,-83.49\"/>\n<polygon fill=\"black\" stroke=\"black\" points=\"497.8,-86.76 508.38,-87.41 500.51,-80.31 497.8,-86.76\"/>\n<text text-anchor=\"middle\" x=\"481.68\" y=\"-81\" font-family=\"Times,serif\" font-size=\"14.00\">0 </text>\n</g>\n<!-- \\(St4_St0\\) -->\n<g id=\"node6\" class=\"node\">\n<title>\\(St4_St0\\)</title>\n<ellipse fill=\"none\" stroke=\"black\" cx=\"684.76\" cy=\"-104.2\" rx=\"44.39\" ry=\"44.39\"/>\n<text text-anchor=\"middle\" x=\"684.76\" y=\"-100.5\" font-family=\"Times,serif\" font-size=\"14.00\">(St4_St0)</text>\n</g>\n<!-- \\(St4_St0\\)&#45;&gt;\\(St0_St6\\) -->\n<g id=\"edge3\" class=\"edge\">\n<title>\\(St4_St0\\)&#45;&gt;\\(St0_St6\\)</title>\n<path fill=\"none\" stroke=\"black\" d=\"M729.07,-104.2C740.72,-104.2 753.46,-104.2 765.6,-104.2\"/>\n<polygon fill=\"black\" stroke=\"black\" points=\"765.61,-107.7 775.61,-104.2 765.61,-100.7 765.61,-107.7\"/>\n<text text-anchor=\"middle\" x=\"752.46\" y=\"-108\" font-family=\"Times,serif\" font-size=\"14.00\">0 </text>\n</g>\n<!-- \\(St4_St0\\)&#45;&gt;\\(St4_St0\\) -->\n<g id=\"edge6\" class=\"edge\">\n<title>\\(St4_St0\\)&#45;&gt;\\(St4_St0\\)</title>\n<path fill=\"none\" stroke=\"black\" d=\"M672.52,-146.93C673.27,-158.02 677.35,-166.39 684.76,-166.39 689.74,-166.39 693.22,-162.62 695.2,-156.77\"/>\n<polygon fill=\"black\" stroke=\"black\" points=\"698.64,-157.4 697.01,-146.93 691.76,-156.13 698.64,-157.4\"/>\n<text text-anchor=\"middle\" x=\"684.76\" y=\"-170.19\" font-family=\"Times,serif\" font-size=\"14.00\">1 </text>\n</g>\n<!-- \\(St0_St4\\)&#45;&gt;\\(St4_St0\\) -->\n<g id=\"edge15\" class=\"edge\">\n<title>\\(St0_St4\\)&#45;&gt;\\(St4_St0\\)</title>\n<path fill=\"none\" stroke=\"black\" d=\"M593.68,-104.2C605.33,-104.2 618.07,-104.2 630.2,-104.2\"/>\n<polygon fill=\"black\" stroke=\"black\" points=\"630.22,-107.7 640.22,-104.2 630.22,-100.7 630.22,-107.7\"/>\n<text text-anchor=\"middle\" x=\"617.07\" y=\"-108\" font-family=\"Times,serif\" font-size=\"14.00\">0 </text>\n</g>\n<!-- \\(St0_St4\\)&#45;&gt;\\(St0_St4\\) -->\n<g id=\"edge11\" class=\"edge\">\n<title>\\(St0_St4\\)&#45;&gt;\\(St0_St4\\)</title>\n<path fill=\"none\" stroke=\"black\" d=\"M537.13,-146.93C537.88,-158.02 541.96,-166.39 549.37,-166.39 554.35,-166.39 557.83,-162.62 559.8,-156.77\"/>\n<polygon fill=\"black\" stroke=\"black\" points=\"563.25,-157.4 561.62,-146.93 556.36,-156.13 563.25,-157.4\"/>\n<text text-anchor=\"middle\" x=\"549.37\" y=\"-170.19\" font-family=\"Times,serif\" font-size=\"14.00\">1 </text>\n</g>\n<!-- \\(St0_St0\\)&#45;&gt;\\(St4_St6\\) -->\n<g id=\"edge8\" class=\"edge\">\n<title>\\(St0_St0\\)&#45;&gt;\\(St4_St6\\)</title>\n<path fill=\"none\" stroke=\"black\" d=\"M1047.36,-40.06C1020.83,-36.1 986.93,-32.2 956.55,-32.2 548.37,-32.2 548.37,-32.2 548.37,-32.2 521.74,-32.2 492.33,-35.38 467.91,-38.91\"/>\n<polygon fill=\"black\" stroke=\"black\" points=\"467.15,-35.48 457.78,-40.43 468.19,-42.4 467.15,-35.48\"/>\n<text text-anchor=\"middle\" x=\"752.46\" y=\"-36\" font-family=\"Times,serif\" font-size=\"14.00\">0 </text>\n</g>\n<!-- \\(St0_St0\\)&#45;&gt;\\(St0_St0\\) -->\n<g id=\"edge14\" class=\"edge\">\n<title>\\(St0_St0\\)&#45;&gt;\\(St0_St0\\)</title>\n<path fill=\"none\" stroke=\"black\" d=\"M1082.05,-94.9C1083.06,-106.1 1087.35,-114.39 1094.94,-114.39 1100.04,-114.39 1103.65,-110.65 1105.78,-104.79\"/>\n<polygon fill=\"black\" stroke=\"black\" points=\"1109.23,-105.4 1107.83,-94.9 1102.37,-103.98 1109.23,-105.4\"/>\n<text text-anchor=\"middle\" x=\"1094.94\" y=\"-118.19\" font-family=\"Times,serif\" font-size=\"14.00\">1 </text>\n</g>\n<!-- \\(St2_St2\\)&#45;&gt;\\(St3_St3\\) -->\n<g id=\"edge16\" class=\"edge\">\n<title>\\(St2_St2\\)&#45;&gt;\\(St3_St3\\)</title>\n<path fill=\"none\" stroke=\"black\" d=\"M183.67,-67.5C197.86,-73.8 213.71,-80.84 228.29,-87.31\"/>\n<polygon fill=\"black\" stroke=\"black\" points=\"227.1,-90.61 237.66,-91.47 229.94,-84.21 227.1,-90.61\"/>\n<text text-anchor=\"middle\" x=\"210.89\" y=\"-84\" font-family=\"Times,serif\" font-size=\"14.00\">1 </text>\n</g>\n<!-- \\(St2_St2\\)&#45;&gt;\\(St4_St6\\) -->\n<g id=\"edge5\" class=\"edge\">\n<title>\\(St2_St2\\)&#45;&gt;\\(St4_St6\\)</title>\n<path fill=\"none\" stroke=\"black\" d=\"M187.59,-43.98C202.55,-42.84 219.15,-41.76 234.39,-41.2 273.65,-39.74 283.53,-39.68 322.78,-41.2 334.8,-41.66 347.7,-42.47 359.87,-43.39\"/>\n<polygon fill=\"black\" stroke=\"black\" points=\"359.65,-46.88 369.89,-44.17 360.2,-39.9 359.65,-46.88\"/>\n<text text-anchor=\"middle\" x=\"278.59\" y=\"-45\" font-family=\"Times,serif\" font-size=\"14.00\">0 </text>\n</g>\n</g>\n</svg>\n",
            "text/plain": [
              "<graphviz.graphs.Digraph at 0x7d0562276a40>"
            ]
          },
          "metadata": {},
          "execution_count": 57
        }
      ],
      "source": [
        "dotObj_dfa(mEven0_mOdd0)"
      ]
    },
    {
      "cell_type": "code",
      "execution_count": 58,
      "metadata": {
        "id": "OWYLdOp1aGbv",
        "outputId": "43a6d0e4-f09e-458c-dd9b-23c82af928ec",
        "colab": {
          "base_uri": "https://localhost:8080/",
          "height": 35
        }
      },
      "outputs": [
        {
          "output_type": "execute_result",
          "data": {
            "text/plain": [
              "'m2_and_m3.pdf'"
            ],
            "application/vnd.google.colaboratory.intrinsic+json": {
              "type": "string"
            }
          },
          "metadata": {},
          "execution_count": 58
        }
      ],
      "source": [
        "dotObj_dfa(mEven0_mOdd0).render('m2_and_m3')"
      ]
    },
    {
      "cell_type": "code",
      "execution_count": 59,
      "metadata": {
        "id": "em-SzKJYaGbv",
        "outputId": "ff318ea1-a38f-4499-dee1-a17e90657d2f",
        "colab": {
          "base_uri": "https://localhost:8080/",
          "height": 306
        }
      },
      "outputs": [
        {
          "output_type": "execute_result",
          "data": {
            "image/svg+xml": "<?xml version=\"1.0\" encoding=\"UTF-8\" standalone=\"no\"?>\n<!DOCTYPE svg PUBLIC \"-//W3C//DTD SVG 1.1//EN\"\n \"http://www.w3.org/Graphics/SVG/1.1/DTD/svg11.dtd\">\n<!-- Generated by graphviz version 2.43.0 (0)\n -->\n<!-- Title: %3 Pages: 1 -->\n<svg width=\"428pt\" height=\"214pt\"\n viewBox=\"0.00 0.00 427.98 214.50\" xmlns=\"http://www.w3.org/2000/svg\" xmlns:xlink=\"http://www.w3.org/1999/xlink\">\n<g id=\"graph0\" class=\"graph\" transform=\"scale(1 1) rotate(0) translate(4 210.5)\">\n<title>%3</title>\n<polygon fill=\"white\" stroke=\"transparent\" points=\"-4,4 -4,-210.5 423.98,-210.5 423.98,4 -4,4\"/>\n<!-- EMPTY -->\n<g id=\"node1\" class=\"node\">\n<title>EMPTY</title>\n</g>\n<!-- St3 -->\n<g id=\"node2\" class=\"node\">\n<title>St3</title>\n<ellipse fill=\"none\" stroke=\"black\" cx=\"113.75\" cy=\"-81.75\" rx=\"23\" ry=\"23\"/>\n<text text-anchor=\"middle\" x=\"113.75\" y=\"-78.05\" font-family=\"Times,serif\" font-size=\"14.00\">St3</text>\n</g>\n<!-- EMPTY&#45;&gt;St3 -->\n<g id=\"edge1\" class=\"edge\">\n<title>EMPTY&#45;&gt;St3</title>\n<path fill=\"none\" stroke=\"black\" d=\"M54.35,-81.75C62.71,-81.75 72.05,-81.75 80.76,-81.75\"/>\n<polygon fill=\"black\" stroke=\"black\" points=\"80.97,-85.25 90.97,-81.75 80.97,-78.25 80.97,-85.25\"/>\n</g>\n<!-- St1 -->\n<g id=\"node6\" class=\"node\">\n<title>St1</title>\n<ellipse fill=\"none\" stroke=\"black\" cx=\"204.24\" cy=\"-22.75\" rx=\"23\" ry=\"23\"/>\n<text text-anchor=\"middle\" x=\"204.24\" y=\"-19.05\" font-family=\"Times,serif\" font-size=\"14.00\">St1</text>\n</g>\n<!-- St3&#45;&gt;St1 -->\n<g id=\"edge3\" class=\"edge\">\n<title>St3&#45;&gt;St1</title>\n<path fill=\"none\" stroke=\"black\" d=\"M132.34,-68.45C139.18,-63.41 147.12,-57.7 154.5,-52.75 161.08,-48.33 168.29,-43.76 175.1,-39.55\"/>\n<polygon fill=\"black\" stroke=\"black\" points=\"177.33,-42.29 184.04,-34.09 173.68,-36.31 177.33,-42.29\"/>\n<text text-anchor=\"middle\" x=\"159\" y=\"-56.55\" font-family=\"Times,serif\" font-size=\"14.00\">&#39;&#39; </text>\n</g>\n<!-- St6 -->\n<g id=\"node7\" class=\"node\">\n<title>St6</title>\n<ellipse fill=\"none\" stroke=\"black\" cx=\"204.24\" cy=\"-145.75\" rx=\"23\" ry=\"23\"/>\n<text text-anchor=\"middle\" x=\"204.24\" y=\"-142.05\" font-family=\"Times,serif\" font-size=\"14.00\">St6</text>\n</g>\n<!-- St3&#45;&gt;St6 -->\n<g id=\"edge2\" class=\"edge\">\n<title>St3&#45;&gt;St6</title>\n<path fill=\"none\" stroke=\"black\" d=\"M132.66,-94.7C145.37,-103.89 162.65,-116.39 176.93,-126.72\"/>\n<polygon fill=\"black\" stroke=\"black\" points=\"175.21,-129.79 185.36,-132.82 179.31,-124.12 175.21,-129.79\"/>\n<text text-anchor=\"middle\" x=\"159\" y=\"-118.55\" font-family=\"Times,serif\" font-size=\"14.00\">&#39;&#39; </text>\n</g>\n<!-- St4 -->\n<g id=\"node3\" class=\"node\">\n<title>St4</title>\n<ellipse fill=\"none\" stroke=\"black\" cx=\"296.74\" cy=\"-152.75\" rx=\"23\" ry=\"23\"/>\n<text text-anchor=\"middle\" x=\"296.74\" y=\"-149.05\" font-family=\"Times,serif\" font-size=\"14.00\">St4</text>\n</g>\n<!-- St5 -->\n<g id=\"node5\" class=\"node\">\n<title>St5</title>\n<ellipse fill=\"none\" stroke=\"black\" cx=\"393.24\" cy=\"-183.75\" rx=\"23\" ry=\"23\"/>\n<text text-anchor=\"middle\" x=\"393.24\" y=\"-180.05\" font-family=\"Times,serif\" font-size=\"14.00\">St5</text>\n</g>\n<!-- St4&#45;&gt;St5 -->\n<g id=\"edge8\" class=\"edge\">\n<title>St4&#45;&gt;St5</title>\n<path fill=\"none\" stroke=\"black\" d=\"M318.71,-159.63C331.31,-163.76 347.57,-169.1 361.59,-173.7\"/>\n<polygon fill=\"black\" stroke=\"black\" points=\"360.73,-177.1 371.32,-176.89 362.91,-170.44 360.73,-177.1\"/>\n<text text-anchor=\"middle\" x=\"342.99\" y=\"-172.55\" font-family=\"Times,serif\" font-size=\"14.00\">1 </text>\n</g>\n<!-- St2 -->\n<g id=\"node4\" class=\"node\">\n<title>St2</title>\n<ellipse fill=\"none\" stroke=\"black\" cx=\"296.74\" cy=\"-25.75\" rx=\"23\" ry=\"23\"/>\n<text text-anchor=\"middle\" x=\"296.74\" y=\"-22.05\" font-family=\"Times,serif\" font-size=\"14.00\">St2</text>\n</g>\n<!-- St2&#45;&gt;St3 -->\n<g id=\"edge5\" class=\"edge\">\n<title>St2&#45;&gt;St3</title>\n<path fill=\"none\" stroke=\"black\" d=\"M275.63,-35.15C269.37,-38 262.43,-41.07 255.99,-43.75 243.26,-49.04 240.16,-50.68 226.99,-54.75 200.21,-63.01 169.19,-70.31 146.56,-75.22\"/>\n<polygon fill=\"black\" stroke=\"black\" points=\"145.53,-71.86 136.49,-77.37 147,-78.71 145.53,-71.86\"/>\n<text text-anchor=\"middle\" x=\"204.24\" y=\"-71.55\" font-family=\"Times,serif\" font-size=\"14.00\">&#39;&#39; </text>\n</g>\n<!-- St5&#45;&gt;St6 -->\n<g id=\"edge9\" class=\"edge\">\n<title>St5&#45;&gt;St6</title>\n<path fill=\"none\" stroke=\"black\" d=\"M370.81,-187.54C346.73,-190.99 306.73,-194.22 273.99,-184.75 258.93,-180.39 243.62,-172.15 231.28,-164.37\"/>\n<polygon fill=\"black\" stroke=\"black\" points=\"233.14,-161.41 222.87,-158.84 229.3,-167.26 233.14,-161.41\"/>\n<text text-anchor=\"middle\" x=\"296.74\" y=\"-194.55\" font-family=\"Times,serif\" font-size=\"14.00\">&#39;&#39; </text>\n</g>\n<!-- St1&#45;&gt;St2 -->\n<g id=\"edge4\" class=\"edge\">\n<title>St1&#45;&gt;St2</title>\n<path fill=\"none\" stroke=\"black\" d=\"M227.15,-23.47C238.07,-23.84 251.5,-24.28 263.56,-24.68\"/>\n<polygon fill=\"black\" stroke=\"black\" points=\"263.61,-28.18 273.72,-25.02 263.84,-21.19 263.61,-28.18\"/>\n<text text-anchor=\"middle\" x=\"250.49\" y=\"-28.55\" font-family=\"Times,serif\" font-size=\"14.00\">0 </text>\n</g>\n<!-- St6&#45;&gt;St4 -->\n<g id=\"edge6\" class=\"edge\">\n<title>St6&#45;&gt;St4</title>\n<path fill=\"none\" stroke=\"black\" d=\"M227.15,-147.44C238.16,-148.29 251.7,-149.34 263.83,-150.28\"/>\n<polygon fill=\"black\" stroke=\"black\" points=\"263.79,-153.79 274.04,-151.07 264.33,-146.81 263.79,-153.79\"/>\n<text text-anchor=\"middle\" x=\"250.49\" y=\"-152.55\" font-family=\"Times,serif\" font-size=\"14.00\">&#39;&#39; </text>\n</g>\n<!-- St7 -->\n<g id=\"node8\" class=\"node\">\n<title>St7</title>\n<ellipse fill=\"none\" stroke=\"black\" cx=\"296.74\" cy=\"-89.75\" rx=\"23\" ry=\"23\"/>\n<text text-anchor=\"middle\" x=\"296.74\" y=\"-86.05\" font-family=\"Times,serif\" font-size=\"14.00\">St7</text>\n</g>\n<!-- St6&#45;&gt;St7 -->\n<g id=\"edge7\" class=\"edge\">\n<title>St6&#45;&gt;St7</title>\n<path fill=\"none\" stroke=\"black\" d=\"M223.99,-134.14C236.86,-126.19 254.13,-115.5 268.5,-106.6\"/>\n<polygon fill=\"black\" stroke=\"black\" points=\"270.35,-109.57 277.01,-101.34 266.67,-103.62 270.35,-109.57\"/>\n<text text-anchor=\"middle\" x=\"250.49\" y=\"-124.55\" font-family=\"Times,serif\" font-size=\"14.00\">&#39;&#39; </text>\n</g>\n<!-- St8 -->\n<g id=\"node9\" class=\"node\">\n<title>St8</title>\n<ellipse fill=\"none\" stroke=\"black\" cx=\"393.24\" cy=\"-89.75\" rx=\"22.96\" ry=\"22.96\"/>\n<ellipse fill=\"none\" stroke=\"black\" cx=\"393.24\" cy=\"-89.75\" rx=\"27\" ry=\"27\"/>\n<text text-anchor=\"middle\" x=\"393.24\" y=\"-86.05\" font-family=\"Times,serif\" font-size=\"14.00\">St8</text>\n</g>\n<!-- St7&#45;&gt;St8 -->\n<g id=\"edge10\" class=\"edge\">\n<title>St7&#45;&gt;St8</title>\n<path fill=\"none\" stroke=\"black\" d=\"M319.66,-89.75C330.56,-89.75 344.02,-89.75 356.38,-89.75\"/>\n<polygon fill=\"black\" stroke=\"black\" points=\"356.41,-93.25 366.41,-89.75 356.41,-86.25 356.41,-93.25\"/>\n<text text-anchor=\"middle\" x=\"342.99\" y=\"-93.55\" font-family=\"Times,serif\" font-size=\"14.00\">0 </text>\n</g>\n</g>\n</svg>\n",
            "text/plain": [
              "<graphviz.graphs.Digraph at 0x7d0562276500>"
            ]
          },
          "metadata": {},
          "execution_count": 59
        }
      ],
      "source": [
        "nfa0s1s0 = re2nfa(\"0* 1* 0\")\n",
        "dotObj_nfa(nfa0s1s0)"
      ]
    },
    {
      "cell_type": "code",
      "execution_count": 60,
      "metadata": {
        "id": "A1lwIAvoaGbw",
        "outputId": "24b4993d-0507-445f-c08e-0e5650319d92",
        "colab": {
          "base_uri": "https://localhost:8080/",
          "height": 35
        }
      },
      "outputs": [
        {
          "output_type": "execute_result",
          "data": {
            "text/plain": [
              "'nfa0s1s0.pdf'"
            ],
            "application/vnd.google.colaboratory.intrinsic+json": {
              "type": "string"
            }
          },
          "metadata": {},
          "execution_count": 60
        }
      ],
      "source": [
        "dotObj_nfa(nfa0s1s0).render('nfa0s1s0')"
      ]
    },
    {
      "cell_type": "code",
      "execution_count": 61,
      "metadata": {
        "id": "SJ9YjNIZaGbw"
      },
      "outputs": [],
      "source": [
        "dfa0s1s0 = nfa2dfa(nfa0s1s0, STATENAME_MAXSIZE=80)"
      ]
    },
    {
      "cell_type": "code",
      "execution_count": 62,
      "metadata": {
        "id": "OuTCB-K1aGbw",
        "outputId": "05dd20ef-5ef7-476c-d398-9df26d0a4d1b",
        "colab": {
          "base_uri": "https://localhost:8080/",
          "height": 482
        }
      },
      "outputs": [
        {
          "output_type": "execute_result",
          "data": {
            "image/svg+xml": "<?xml version=\"1.0\" encoding=\"UTF-8\" standalone=\"no\"?>\n<!DOCTYPE svg PUBLIC \"-//W3C//DTD SVG 1.1//EN\"\n \"http://www.w3.org/Graphics/SVG/1.1/DTD/svg11.dtd\">\n<!-- Generated by graphviz version 2.43.0 (0)\n -->\n<!-- Title: %3 Pages: 1 -->\n<svg width=\"855pt\" height=\"331pt\"\n viewBox=\"0.00 0.00 855.25 330.94\" xmlns=\"http://www.w3.org/2000/svg\" xmlns:xlink=\"http://www.w3.org/1999/xlink\">\n<g id=\"graph0\" class=\"graph\" transform=\"scale(1 1) rotate(0) translate(4 326.94)\">\n<title>%3</title>\n<polygon fill=\"white\" stroke=\"transparent\" points=\"-4,4 -4,-326.94 851.25,-326.94 851.25,4 -4,4\"/>\n<!-- EMPTY -->\n<g id=\"node1\" class=\"node\">\n<title>EMPTY</title>\n</g>\n<!-- St1_St3_St4_St6_St7 -->\n<g id=\"node2\" class=\"node\">\n<title>St1_St3_St4_St6_St7</title>\n<ellipse fill=\"none\" stroke=\"black\" cx=\"178.09\" cy=\"-218.94\" rx=\"87.18\" ry=\"87.18\"/>\n<text text-anchor=\"middle\" x=\"178.09\" y=\"-215.24\" font-family=\"Times,serif\" font-size=\"14.00\">St1_St3_St4_St6_St7</text>\n</g>\n<!-- EMPTY&#45;&gt;St1_St3_St4_St6_St7 -->\n<g id=\"edge1\" class=\"edge\">\n<title>EMPTY&#45;&gt;St1_St3_St4_St6_St7</title>\n<path fill=\"none\" stroke=\"black\" d=\"M54.31,-218.94C62.13,-218.94 71.19,-218.94 80.77,-218.94\"/>\n<polygon fill=\"black\" stroke=\"black\" points=\"80.92,-222.44 90.92,-218.94 80.92,-215.44 80.92,-222.44\"/>\n</g>\n<!-- St4_St5_St6_St7 -->\n<g id=\"node3\" class=\"node\">\n<title>St4_St5_St6_St7</title>\n<ellipse fill=\"none\" stroke=\"black\" cx=\"675.91\" cy=\"-218.94\" rx=\"70.69\" ry=\"70.69\"/>\n<text text-anchor=\"middle\" x=\"675.91\" y=\"-215.24\" font-family=\"Times,serif\" font-size=\"14.00\">St4_St5_St6_St7</text>\n</g>\n<!-- St1_St3_St4_St6_St7&#45;&gt;St4_St5_St6_St7 -->\n<g id=\"edge2\" class=\"edge\">\n<title>St1_St3_St4_St6_St7&#45;&gt;St4_St5_St6_St7</title>\n<path fill=\"none\" stroke=\"black\" d=\"M252.28,-264.76C271.12,-274.31 291.83,-282.98 312.18,-287.94 418.35,-313.82 452.65,-316.74 558.06,-287.94 575.7,-283.12 593.39,-274.88 609.47,-265.73\"/>\n<polygon fill=\"black\" stroke=\"black\" points=\"611.39,-268.67 618.23,-260.58 607.84,-262.64 611.39,-268.67\"/>\n<text text-anchor=\"middle\" x=\"435.12\" y=\"-311.74\" font-family=\"Times,serif\" font-size=\"14.00\">1 </text>\n</g>\n<!-- St1_St2_St3_St4_St6_St7_St8 -->\n<g id=\"node4\" class=\"node\">\n<title>St1_St2_St3_St4_St6_St7_St8</title>\n<ellipse fill=\"none\" stroke=\"black\" cx=\"435.12\" cy=\"-122.94\" rx=\"118.88\" ry=\"118.88\"/>\n<ellipse fill=\"none\" stroke=\"black\" cx=\"435.12\" cy=\"-122.94\" rx=\"122.88\" ry=\"122.88\"/>\n<text text-anchor=\"middle\" x=\"435.12\" y=\"-119.24\" font-family=\"Times,serif\" font-size=\"14.00\">St1_St2_St3_St4_St6_St7_St8</text>\n</g>\n<!-- St1_St3_St4_St6_St7&#45;&gt;St1_St2_St3_St4_St6_St7_St8 -->\n<g id=\"edge3\" class=\"edge\">\n<title>St1_St3_St4_St6_St7&#45;&gt;St1_St2_St3_St4_St6_St7_St8</title>\n<path fill=\"none\" stroke=\"black\" d=\"M259.79,-188.56C275.92,-182.49 293.21,-175.98 310.4,-169.51\"/>\n<polygon fill=\"black\" stroke=\"black\" points=\"311.82,-172.72 319.94,-165.92 309.35,-166.17 311.82,-172.72\"/>\n<text text-anchor=\"middle\" x=\"288.68\" y=\"-182.74\" font-family=\"Times,serif\" font-size=\"14.00\">0 </text>\n</g>\n<!-- St4_St5_St6_St7&#45;&gt;St4_St5_St6_St7 -->\n<g id=\"edge4\" class=\"edge\">\n<title>St4_St5_St6_St7&#45;&gt;St4_St5_St6_St7</title>\n<path fill=\"none\" stroke=\"black\" d=\"M659.45,-287.85C661.7,-299.63 667.19,-307.78 675.91,-307.78 681.9,-307.78 686.37,-303.93 689.3,-297.69\"/>\n<polygon fill=\"black\" stroke=\"black\" points=\"692.74,-298.44 692.36,-287.85 686.05,-296.37 692.74,-298.44\"/>\n<text text-anchor=\"middle\" x=\"675.91\" y=\"-311.58\" font-family=\"Times,serif\" font-size=\"14.00\">1 </text>\n</g>\n<!-- St8 -->\n<g id=\"node5\" class=\"node\">\n<title>St8</title>\n<ellipse fill=\"none\" stroke=\"black\" cx=\"820.5\" cy=\"-218.94\" rx=\"22.96\" ry=\"22.96\"/>\n<ellipse fill=\"none\" stroke=\"black\" cx=\"820.5\" cy=\"-218.94\" rx=\"27\" ry=\"27\"/>\n<text text-anchor=\"middle\" x=\"820.5\" y=\"-215.24\" font-family=\"Times,serif\" font-size=\"14.00\">St8</text>\n</g>\n<!-- St4_St5_St6_St7&#45;&gt;St8 -->\n<g id=\"edge5\" class=\"edge\">\n<title>St4_St5_St6_St7&#45;&gt;St8</title>\n<path fill=\"none\" stroke=\"black\" d=\"M746.95,-218.94C759.55,-218.94 772.19,-218.94 783.32,-218.94\"/>\n<polygon fill=\"black\" stroke=\"black\" points=\"783.47,-222.44 793.47,-218.94 783.47,-215.44 783.47,-222.44\"/>\n<text text-anchor=\"middle\" x=\"770.25\" y=\"-222.74\" font-family=\"Times,serif\" font-size=\"14.00\">0 </text>\n</g>\n<!-- St1_St2_St3_St4_St6_St7_St8&#45;&gt;St4_St5_St6_St7 -->\n<g id=\"edge6\" class=\"edge\">\n<title>St1_St2_St3_St4_St6_St7_St8&#45;&gt;St4_St5_St6_St7</title>\n<path fill=\"none\" stroke=\"black\" d=\"M549.57,-168.55C566.87,-175.51 584.34,-182.53 600.52,-189.03\"/>\n<polygon fill=\"black\" stroke=\"black\" points=\"599.3,-192.31 609.88,-192.8 601.91,-185.82 599.3,-192.31\"/>\n<text text-anchor=\"middle\" x=\"581.56\" y=\"-185.74\" font-family=\"Times,serif\" font-size=\"14.00\">1 </text>\n</g>\n<!-- St1_St2_St3_St4_St6_St7_St8&#45;&gt;St1_St2_St3_St4_St6_St7_St8 -->\n<g id=\"edge7\" class=\"edge\">\n<title>St1_St2_St3_St4_St6_St7_St8&#45;&gt;St1_St2_St3_St4_St6_St7_St8</title>\n<path fill=\"none\" stroke=\"black\" d=\"M412.8,-244.23C417.28,-256.24 424.72,-263.88 435.12,-263.88 442.6,-263.88 448.55,-259.93 452.97,-253.25\"/>\n<polygon fill=\"black\" stroke=\"black\" points=\"456.14,-254.74 457.44,-244.23 449.86,-251.63 456.14,-254.74\"/>\n<text text-anchor=\"middle\" x=\"435.12\" y=\"-267.68\" font-family=\"Times,serif\" font-size=\"14.00\">0 </text>\n</g>\n</g>\n</svg>\n",
            "text/plain": [
              "<graphviz.graphs.Digraph at 0x7d0562274190>"
            ]
          },
          "metadata": {},
          "execution_count": 62
        }
      ],
      "source": [
        "dotObj_dfa(dfa0s1s0, STATENAME_MAXSIZE=80)"
      ]
    },
    {
      "cell_type": "code",
      "execution_count": 63,
      "metadata": {
        "id": "XWrZIQFZaGbw",
        "outputId": "a8221e05-adb9-4f25-de6e-85cab655039f",
        "colab": {
          "base_uri": "https://localhost:8080/",
          "height": 35
        }
      },
      "outputs": [
        {
          "output_type": "execute_result",
          "data": {
            "text/plain": [
              "'dfa0s1s0.pdf'"
            ],
            "application/vnd.google.colaboratory.intrinsic+json": {
              "type": "string"
            }
          },
          "metadata": {},
          "execution_count": 63
        }
      ],
      "source": [
        "dotObj_dfa(dfa0s1s0, STATENAME_MAXSIZE=80).render('dfa0s1s0')"
      ]
    },
    {
      "cell_type": "code",
      "execution_count": 63,
      "metadata": {
        "id": "ZtPRNFhoaGbw"
      },
      "outputs": [],
      "source": []
    },
    {
      "cell_type": "code",
      "execution_count": 63,
      "metadata": {
        "id": "SfoApC0GaGbw"
      },
      "outputs": [],
      "source": []
    },
    {
      "cell_type": "code",
      "execution_count": 64,
      "metadata": {
        "id": "SR5GqoOHaGbw",
        "outputId": "20473422-ff1b-4206-ae86-4eac45d0e570",
        "colab": {
          "base_uri": "https://localhost:8080/"
        }
      },
      "outputs": [
        {
          "output_type": "stream",
          "name": "stderr",
          "text": [
            "Generating LALR tables\n"
          ]
        }
      ],
      "source": [
        "no010 = md2mc('''\n",
        "DFA\n",
        "IF : 1 -> IF\n",
        "IF : 0 -> F0\n",
        "\n",
        "F0 : 0 -> F0\n",
        "F0 : 1 -> F1\n",
        "\n",
        "F1 : 0 -> BH\n",
        "F1 : 1 -> IF\n",
        "\n",
        "BH : 0|1 -> BH\n",
        "\n",
        "''')"
      ]
    },
    {
      "cell_type": "code",
      "execution_count": 65,
      "metadata": {
        "id": "K65WBTvxaGbw",
        "outputId": "2b5c22d2-290b-4c53-efae-1b4e98851097",
        "colab": {
          "base_uri": "https://localhost:8080/",
          "height": 194
        }
      },
      "outputs": [
        {
          "output_type": "execute_result",
          "data": {
            "image/svg+xml": "<?xml version=\"1.0\" encoding=\"UTF-8\" standalone=\"no\"?>\n<!DOCTYPE svg PUBLIC \"-//W3C//DTD SVG 1.1//EN\"\n \"http://www.w3.org/Graphics/SVG/1.1/DTD/svg11.dtd\">\n<!-- Generated by graphviz version 2.43.0 (0)\n -->\n<!-- Title: %3 Pages: 1 -->\n<svg width=\"335pt\" height=\"130pt\"\n viewBox=\"0.00 0.00 335.29 130.30\" xmlns=\"http://www.w3.org/2000/svg\" xmlns:xlink=\"http://www.w3.org/1999/xlink\">\n<g id=\"graph0\" class=\"graph\" transform=\"scale(1 1) rotate(0) translate(4 126.3)\">\n<title>%3</title>\n<polygon fill=\"white\" stroke=\"transparent\" points=\"-4,4 -4,-126.3 331.29,-126.3 331.29,4 -4,4\"/>\n<!-- EMPTY -->\n<g id=\"node1\" class=\"node\">\n<title>EMPTY</title>\n</g>\n<!-- IF -->\n<g id=\"node2\" class=\"node\">\n<title>IF</title>\n<ellipse fill=\"none\" stroke=\"black\" cx=\"113.85\" cy=\"-24.15\" rx=\"18.72\" ry=\"18.72\"/>\n<ellipse fill=\"none\" stroke=\"black\" cx=\"113.85\" cy=\"-24.15\" rx=\"22.7\" ry=\"22.7\"/>\n<text text-anchor=\"middle\" x=\"113.85\" y=\"-20.45\" font-family=\"Times,serif\" font-size=\"14.00\">IF</text>\n</g>\n<!-- EMPTY&#45;&gt;IF -->\n<g id=\"edge1\" class=\"edge\">\n<title>EMPTY&#45;&gt;IF</title>\n<path fill=\"none\" stroke=\"black\" d=\"M54.38,-24.15C62.68,-24.15 71.94,-24.15 80.6,-24.15\"/>\n<polygon fill=\"black\" stroke=\"black\" points=\"80.76,-27.65 90.76,-24.15 80.76,-20.65 80.76,-27.65\"/>\n</g>\n<!-- IF&#45;&gt;IF -->\n<g id=\"edge2\" class=\"edge\">\n<title>IF&#45;&gt;IF</title>\n<path fill=\"none\" stroke=\"black\" d=\"M106.5,-46C105.69,-56.14 108.15,-65 113.85,-65 117.5,-65 119.82,-61.36 120.8,-56.08\"/>\n<polygon fill=\"black\" stroke=\"black\" points=\"124.31,-56.13 121.2,-46 117.31,-55.86 124.31,-56.13\"/>\n<text text-anchor=\"middle\" x=\"113.85\" y=\"-68.8\" font-family=\"Times,serif\" font-size=\"14.00\">1 </text>\n</g>\n<!-- F0 -->\n<g id=\"node4\" class=\"node\">\n<title>F0</title>\n<ellipse fill=\"none\" stroke=\"black\" cx=\"207.84\" cy=\"-65.15\" rx=\"20.27\" ry=\"20.27\"/>\n<ellipse fill=\"none\" stroke=\"black\" cx=\"207.84\" cy=\"-65.15\" rx=\"24.3\" ry=\"24.3\"/>\n<text text-anchor=\"middle\" x=\"207.84\" y=\"-61.45\" font-family=\"Times,serif\" font-size=\"14.00\">F0</text>\n</g>\n<!-- IF&#45;&gt;F0 -->\n<g id=\"edge3\" class=\"edge\">\n<title>IF&#45;&gt;F0</title>\n<path fill=\"none\" stroke=\"black\" d=\"M135.27,-33.25C147.28,-38.6 162.7,-45.48 176.16,-51.47\"/>\n<polygon fill=\"black\" stroke=\"black\" points=\"174.97,-54.77 185.53,-55.65 177.82,-48.38 174.97,-54.77\"/>\n<text text-anchor=\"middle\" x=\"160.2\" y=\"-48.95\" font-family=\"Times,serif\" font-size=\"14.00\">0 </text>\n</g>\n<!-- F1 -->\n<g id=\"node3\" class=\"node\">\n<title>F1</title>\n<ellipse fill=\"none\" stroke=\"black\" cx=\"303.14\" cy=\"-24.15\" rx=\"20.27\" ry=\"20.27\"/>\n<ellipse fill=\"none\" stroke=\"black\" cx=\"303.14\" cy=\"-24.15\" rx=\"24.3\" ry=\"24.3\"/>\n<text text-anchor=\"middle\" x=\"303.14\" y=\"-20.45\" font-family=\"Times,serif\" font-size=\"14.00\">F1</text>\n</g>\n<!-- F1&#45;&gt;IF -->\n<g id=\"edge6\" class=\"edge\">\n<title>F1&#45;&gt;IF</title>\n<path fill=\"none\" stroke=\"black\" d=\"M279.12,-21.27C265.45,-19.7 247.76,-17.93 231.99,-17.15 210.55,-16.08 205.13,-16.06 183.7,-17.15 171.66,-17.76 158.49,-18.96 146.92,-20.21\"/>\n<polygon fill=\"black\" stroke=\"black\" points=\"146.37,-16.75 136.82,-21.34 147.15,-23.7 146.37,-16.75\"/>\n<text text-anchor=\"middle\" x=\"207.84\" y=\"-20.95\" font-family=\"Times,serif\" font-size=\"14.00\">1 </text>\n</g>\n<!-- F0&#45;&gt;F1 -->\n<g id=\"edge5\" class=\"edge\">\n<title>F0&#45;&gt;F1</title>\n<path fill=\"none\" stroke=\"black\" d=\"M230.48,-55.64C242.61,-50.31 257.94,-43.57 271.31,-37.7\"/>\n<polygon fill=\"black\" stroke=\"black\" points=\"272.87,-40.83 280.62,-33.61 270.06,-34.42 272.87,-40.83\"/>\n<text text-anchor=\"middle\" x=\"255.49\" y=\"-48.95\" font-family=\"Times,serif\" font-size=\"14.00\">1 </text>\n</g>\n<!-- F0&#45;&gt;F0 -->\n<g id=\"edge4\" class=\"edge\">\n<title>F0&#45;&gt;F0</title>\n<path fill=\"none\" stroke=\"black\" d=\"M199.35,-88.13C198.55,-98.41 201.38,-107.3 207.84,-107.3 211.99,-107.3 214.64,-103.65 215.8,-98.32\"/>\n<polygon fill=\"black\" stroke=\"black\" points=\"219.3,-98.3 216.34,-88.13 212.31,-97.93 219.3,-98.3\"/>\n<text text-anchor=\"middle\" x=\"207.84\" y=\"-111.1\" font-family=\"Times,serif\" font-size=\"14.00\">0 </text>\n</g>\n</g>\n</svg>\n",
            "text/plain": [
              "<graphviz.graphs.Digraph at 0x7d05617f7fd0>"
            ]
          },
          "metadata": {},
          "execution_count": 65
        }
      ],
      "source": [
        "dotObj_dfa(no010)"
      ]
    },
    {
      "cell_type": "code",
      "execution_count": 66,
      "metadata": {
        "id": "rnjpx4XxaGbx",
        "outputId": "d8efa2c2-4bfa-473b-ebce-36f8574a68cb",
        "colab": {
          "base_uri": "https://localhost:8080/",
          "height": 35
        }
      },
      "outputs": [
        {
          "output_type": "execute_result",
          "data": {
            "text/plain": [
              "'no010.pdf'"
            ],
            "application/vnd.google.colaboratory.intrinsic+json": {
              "type": "string"
            }
          },
          "metadata": {},
          "execution_count": 66
        }
      ],
      "source": [
        "dotObj_dfa(no010).render('no010')"
      ]
    },
    {
      "cell_type": "markdown",
      "metadata": {
        "id": "5fQJElIGaGbx"
      },
      "source": [
        "# To verify, define has010 and intersect."
      ]
    },
    {
      "cell_type": "code",
      "execution_count": 67,
      "metadata": {
        "id": "aOKBeuZVaGby"
      },
      "outputs": [],
      "source": [
        "has010 = min_dfa(nfa2dfa(re2nfa(\"(0+1)*010(010)*\")))"
      ]
    },
    {
      "cell_type": "code",
      "execution_count": 68,
      "metadata": {
        "id": "Jeg_Cyk2aGby",
        "outputId": "c596c229-eed7-4cf6-c238-03099b410217",
        "colab": {
          "base_uri": "https://localhost:8080/",
          "height": 197
        }
      },
      "outputs": [
        {
          "output_type": "execute_result",
          "data": {
            "image/svg+xml": "<?xml version=\"1.0\" encoding=\"UTF-8\" standalone=\"no\"?>\n<!DOCTYPE svg PUBLIC \"-//W3C//DTD SVG 1.1//EN\"\n \"http://www.w3.org/Graphics/SVG/1.1/DTD/svg11.dtd\">\n<!-- Generated by graphviz version 2.43.0 (0)\n -->\n<!-- Title: %3 Pages: 1 -->\n<svg width=\"430pt\" height=\"132pt\"\n viewBox=\"0.00 0.00 429.98 132.50\" xmlns=\"http://www.w3.org/2000/svg\" xmlns:xlink=\"http://www.w3.org/1999/xlink\">\n<g id=\"graph0\" class=\"graph\" transform=\"scale(1 1) rotate(0) translate(4 128.5)\">\n<title>%3</title>\n<polygon fill=\"white\" stroke=\"transparent\" points=\"-4,4 -4,-128.5 425.98,-128.5 425.98,4 -4,4\"/>\n<!-- EMPTY -->\n<g id=\"node1\" class=\"node\">\n<title>EMPTY</title>\n</g>\n<!-- St6 -->\n<g id=\"node4\" class=\"node\">\n<title>St6</title>\n<ellipse fill=\"none\" stroke=\"black\" cx=\"113.75\" cy=\"-68.75\" rx=\"23\" ry=\"23\"/>\n<text text-anchor=\"middle\" x=\"113.75\" y=\"-65.05\" font-family=\"Times,serif\" font-size=\"14.00\">St6</text>\n</g>\n<!-- EMPTY&#45;&gt;St6 -->\n<g id=\"edge1\" class=\"edge\">\n<title>EMPTY&#45;&gt;St6</title>\n<path fill=\"none\" stroke=\"black\" d=\"M54.35,-68.75C62.71,-68.75 72.05,-68.75 80.76,-68.75\"/>\n<polygon fill=\"black\" stroke=\"black\" points=\"80.97,-72.25 90.97,-68.75 80.97,-65.25 80.97,-72.25\"/>\n</g>\n<!-- St0 -->\n<g id=\"node2\" class=\"node\">\n<title>St0</title>\n<ellipse fill=\"none\" stroke=\"black\" cx=\"298.74\" cy=\"-83.75\" rx=\"23\" ry=\"23\"/>\n<text text-anchor=\"middle\" x=\"298.74\" y=\"-80.05\" font-family=\"Times,serif\" font-size=\"14.00\">St0</text>\n</g>\n<!-- St0&#45;&gt;St6 -->\n<g id=\"edge6\" class=\"edge\">\n<title>St0&#45;&gt;St6</title>\n<path fill=\"none\" stroke=\"black\" d=\"M276.15,-86.67C253.1,-89.29 215.55,-92.1 183.5,-87.75 170.78,-86.02 157.09,-82.58 145.3,-79.09\"/>\n<polygon fill=\"black\" stroke=\"black\" points=\"146.09,-75.67 135.5,-76.06 144.02,-82.36 146.09,-75.67\"/>\n<text text-anchor=\"middle\" x=\"206.24\" y=\"-93.55\" font-family=\"Times,serif\" font-size=\"14.00\">1 </text>\n</g>\n<!-- St2 -->\n<g id=\"node5\" class=\"node\">\n<title>St2</title>\n<ellipse fill=\"none\" stroke=\"black\" cx=\"395.24\" cy=\"-55.75\" rx=\"22.96\" ry=\"22.96\"/>\n<ellipse fill=\"none\" stroke=\"black\" cx=\"395.24\" cy=\"-55.75\" rx=\"27\" ry=\"27\"/>\n<text text-anchor=\"middle\" x=\"395.24\" y=\"-52.05\" font-family=\"Times,serif\" font-size=\"14.00\">St2</text>\n</g>\n<!-- St0&#45;&gt;St2 -->\n<g id=\"edge7\" class=\"edge\">\n<title>St0&#45;&gt;St2</title>\n<path fill=\"none\" stroke=\"black\" d=\"M321.12,-79.28C330.24,-77.23 340.95,-74.61 350.49,-71.75 353.66,-70.8 356.94,-69.74 360.22,-68.63\"/>\n<polygon fill=\"black\" stroke=\"black\" points=\"361.61,-71.85 369.88,-65.23 359.29,-65.25 361.61,-71.85\"/>\n<text text-anchor=\"middle\" x=\"344.99\" y=\"-77.55\" font-family=\"Times,serif\" font-size=\"14.00\">0 </text>\n</g>\n<!-- St4 -->\n<g id=\"node3\" class=\"node\">\n<title>St4</title>\n<ellipse fill=\"none\" stroke=\"black\" cx=\"206.24\" cy=\"-22.75\" rx=\"23\" ry=\"23\"/>\n<text text-anchor=\"middle\" x=\"206.24\" y=\"-19.05\" font-family=\"Times,serif\" font-size=\"14.00\">St4</text>\n</g>\n<!-- St4&#45;&gt;St0 -->\n<g id=\"edge4\" class=\"edge\">\n<title>St4&#45;&gt;St0</title>\n<path fill=\"none\" stroke=\"black\" d=\"M225.56,-35.09C238.56,-43.86 256.23,-55.77 270.83,-65.61\"/>\n<polygon fill=\"black\" stroke=\"black\" points=\"269.21,-68.73 279.45,-71.42 273.12,-62.93 269.21,-68.73\"/>\n<text text-anchor=\"middle\" x=\"252.49\" y=\"-60.55\" font-family=\"Times,serif\" font-size=\"14.00\">1 </text>\n</g>\n<!-- St4&#45;&gt;St4 -->\n<g id=\"edge5\" class=\"edge\">\n<title>St4&#45;&gt;St4</title>\n<path fill=\"none\" stroke=\"black\" d=\"M197.83,-44.13C196.79,-54.42 199.6,-63.5 206.24,-63.5 210.5,-63.5 213.18,-59.77 214.29,-54.39\"/>\n<polygon fill=\"black\" stroke=\"black\" points=\"217.8,-54.25 214.66,-44.13 210.8,-54 217.8,-54.25\"/>\n<text text-anchor=\"middle\" x=\"206.24\" y=\"-67.3\" font-family=\"Times,serif\" font-size=\"14.00\">0 </text>\n</g>\n<!-- St6&#45;&gt;St4 -->\n<g id=\"edge3\" class=\"edge\">\n<title>St6&#45;&gt;St4</title>\n<path fill=\"none\" stroke=\"black\" d=\"M134.38,-58.77C146.72,-52.5 162.84,-44.3 176.58,-37.32\"/>\n<polygon fill=\"black\" stroke=\"black\" points=\"178.32,-40.36 185.65,-32.71 175.15,-34.12 178.32,-40.36\"/>\n<text text-anchor=\"middle\" x=\"160\" y=\"-52.55\" font-family=\"Times,serif\" font-size=\"14.00\">0 </text>\n</g>\n<!-- St6&#45;&gt;St6 -->\n<g id=\"edge2\" class=\"edge\">\n<title>St6&#45;&gt;St6</title>\n<path fill=\"none\" stroke=\"black\" d=\"M106.4,-90.55C105.59,-100.66 108.04,-109.5 113.75,-109.5 117.4,-109.5 119.72,-105.87 120.7,-100.6\"/>\n<polygon fill=\"black\" stroke=\"black\" points=\"124.2,-100.68 121.1,-90.55 117.21,-100.4 124.2,-100.68\"/>\n<text text-anchor=\"middle\" x=\"113.75\" y=\"-113.3\" font-family=\"Times,serif\" font-size=\"14.00\">1 </text>\n</g>\n<!-- St2&#45;&gt;St0 -->\n<g id=\"edge8\" class=\"edge\">\n<title>St2&#45;&gt;St0</title>\n<path fill=\"none\" stroke=\"black\" d=\"M368.88,-50.4C359.43,-49.42 348.76,-49.56 339.49,-52.75 333.76,-54.72 328.23,-57.89 323.2,-61.46\"/>\n<polygon fill=\"black\" stroke=\"black\" points=\"320.95,-58.78 315.27,-67.73 325.29,-64.27 320.95,-58.78\"/>\n<text text-anchor=\"middle\" x=\"344.99\" y=\"-56.55\" font-family=\"Times,serif\" font-size=\"14.00\">1 </text>\n</g>\n<!-- St2&#45;&gt;St4 -->\n<g id=\"edge9\" class=\"edge\">\n<title>St2&#45;&gt;St4</title>\n<path fill=\"none\" stroke=\"black\" d=\"M369.51,-48.41C355.52,-44.48 337.64,-39.83 321.49,-36.75 294.04,-31.51 262.49,-27.81 239.5,-25.54\"/>\n<polygon fill=\"black\" stroke=\"black\" points=\"239.57,-22.03 229.28,-24.57 238.9,-29 239.57,-22.03\"/>\n<text text-anchor=\"middle\" x=\"298.74\" y=\"-40.55\" font-family=\"Times,serif\" font-size=\"14.00\">0 </text>\n</g>\n</g>\n</svg>\n",
            "text/plain": [
              "<graphviz.graphs.Digraph at 0x7d05617f6c50>"
            ]
          },
          "metadata": {},
          "execution_count": 68
        }
      ],
      "source": [
        "dotObj_dfa(has010)"
      ]
    },
    {
      "cell_type": "code",
      "execution_count": 69,
      "metadata": {
        "id": "8jSgPx9jaGby"
      },
      "outputs": [],
      "source": [
        "no010_and_has010 = intersect_dfa(no010, has010)"
      ]
    },
    {
      "cell_type": "code",
      "execution_count": 70,
      "metadata": {
        "id": "AgpGpEPraGby",
        "outputId": "915c6ec4-d1fb-4ab0-cd7f-c64595166e34",
        "colab": {
          "base_uri": "https://localhost:8080/",
          "height": 322
        }
      },
      "outputs": [
        {
          "output_type": "execute_result",
          "data": {
            "image/svg+xml": "<?xml version=\"1.0\" encoding=\"UTF-8\" standalone=\"no\"?>\n<!DOCTYPE svg PUBLIC \"-//W3C//DTD SVG 1.1//EN\"\n \"http://www.w3.org/Graphics/SVG/1.1/DTD/svg11.dtd\">\n<!-- Generated by graphviz version 2.43.0 (0)\n -->\n<!-- Title: %3 Pages: 1 -->\n<svg width=\"989pt\" height=\"211pt\"\n viewBox=\"0.00 0.00 989.35 210.69\" xmlns=\"http://www.w3.org/2000/svg\" xmlns:xlink=\"http://www.w3.org/1999/xlink\">\n<g id=\"graph0\" class=\"graph\" transform=\"scale(1 1) rotate(0) translate(4 206.69)\">\n<title>%3</title>\n<polygon fill=\"white\" stroke=\"transparent\" points=\"-4,4 -4,-206.69 985.35,-206.69 985.35,4 -4,4\"/>\n<!-- EMPTY -->\n<g id=\"node1\" class=\"node\">\n<title>EMPTY</title>\n</g>\n<!-- \\(IF_St6\\) -->\n<g id=\"node3\" class=\"node\">\n<title>\\(IF_St6\\)</title>\n<ellipse fill=\"none\" stroke=\"black\" cx=\"131.3\" cy=\"-46.85\" rx=\"40.09\" ry=\"40.09\"/>\n<text text-anchor=\"middle\" x=\"131.3\" y=\"-43.15\" font-family=\"Times,serif\" font-size=\"14.00\">(IF_St6)</text>\n</g>\n<!-- EMPTY&#45;&gt;\\(IF_St6\\) -->\n<g id=\"edge1\" class=\"edge\">\n<title>EMPTY&#45;&gt;\\(IF_St6\\)</title>\n<path fill=\"none\" stroke=\"black\" d=\"M54.08,-46.85C62.16,-46.85 71.36,-46.85 80.5,-46.85\"/>\n<polygon fill=\"black\" stroke=\"black\" points=\"80.73,-50.35 90.73,-46.85 80.73,-43.35 80.73,-50.35\"/>\n</g>\n<!-- \\(F0_St4\\) -->\n<g id=\"node2\" class=\"node\">\n<title>\\(F0_St4\\)</title>\n<ellipse fill=\"none\" stroke=\"black\" cx=\"260.84\" cy=\"-105.85\" rx=\"42.49\" ry=\"42.49\"/>\n<text text-anchor=\"middle\" x=\"260.84\" y=\"-102.15\" font-family=\"Times,serif\" font-size=\"14.00\">(F0_St4)</text>\n</g>\n<!-- \\(F0_St4\\)&#45;&gt;\\(F0_St4\\) -->\n<g id=\"edge14\" class=\"edge\">\n<title>\\(F0_St4\\)&#45;&gt;\\(F0_St4\\)</title>\n<path fill=\"none\" stroke=\"black\" d=\"M248.91,-146.39C249.49,-157.56 253.46,-166.09 260.84,-166.09 265.79,-166.09 269.21,-162.24 271.1,-156.33\"/>\n<polygon fill=\"black\" stroke=\"black\" points=\"274.56,-156.83 272.77,-146.39 267.66,-155.68 274.56,-156.83\"/>\n<text text-anchor=\"middle\" x=\"260.84\" y=\"-169.89\" font-family=\"Times,serif\" font-size=\"14.00\">0 </text>\n</g>\n<!-- \\(F1_St0\\) -->\n<g id=\"node8\" class=\"node\">\n<title>\\(F1_St0\\)</title>\n<ellipse fill=\"none\" stroke=\"black\" cx=\"392.33\" cy=\"-46.85\" rx=\"42.49\" ry=\"42.49\"/>\n<text text-anchor=\"middle\" x=\"392.33\" y=\"-43.15\" font-family=\"Times,serif\" font-size=\"14.00\">(F1_St0)</text>\n</g>\n<!-- \\(F0_St4\\)&#45;&gt;\\(F1_St0\\) -->\n<g id=\"edge6\" class=\"edge\">\n<title>\\(F0_St4\\)&#45;&gt;\\(F1_St0\\)</title>\n<path fill=\"none\" stroke=\"black\" d=\"M299.64,-88.62C313.6,-82.26 329.6,-74.97 344.28,-68.28\"/>\n<polygon fill=\"black\" stroke=\"black\" points=\"346.06,-71.32 353.71,-63.99 343.15,-64.95 346.06,-71.32\"/>\n<text text-anchor=\"middle\" x=\"326.59\" y=\"-81.65\" font-family=\"Times,serif\" font-size=\"14.00\">1 </text>\n</g>\n<!-- \\(IF_St6\\)&#45;&gt;\\(F0_St4\\) -->\n<g id=\"edge11\" class=\"edge\">\n<title>\\(IF_St6\\)&#45;&gt;\\(F0_St4\\)</title>\n<path fill=\"none\" stroke=\"black\" d=\"M168.16,-63.44C181.94,-69.81 197.89,-77.19 212.58,-83.98\"/>\n<polygon fill=\"black\" stroke=\"black\" points=\"211.47,-87.33 222.02,-88.35 214.41,-80.97 211.47,-87.33\"/>\n<text text-anchor=\"middle\" x=\"195.09\" y=\"-81.65\" font-family=\"Times,serif\" font-size=\"14.00\">0 </text>\n</g>\n<!-- \\(IF_St6\\)&#45;&gt;\\(IF_St6\\) -->\n<g id=\"edge5\" class=\"edge\">\n<title>\\(IF_St6\\)&#45;&gt;\\(IF_St6\\)</title>\n<path fill=\"none\" stroke=\"black\" d=\"M120.48,-85.8C120.95,-96.74 124.56,-105.14 131.3,-105.14 135.72,-105.14 138.79,-101.53 140.52,-95.95\"/>\n<polygon fill=\"black\" stroke=\"black\" points=\"144.02,-96.23 142.12,-85.8 137.1,-95.14 144.02,-96.23\"/>\n<text text-anchor=\"middle\" x=\"131.3\" y=\"-108.94\" font-family=\"Times,serif\" font-size=\"14.00\">1 </text>\n</g>\n<!-- \\(BH_St2\\) -->\n<g id=\"node4\" class=\"node\">\n<title>\\(BH_St2\\)</title>\n<ellipse fill=\"none\" stroke=\"black\" cx=\"526.42\" cy=\"-46.85\" rx=\"44.69\" ry=\"44.69\"/>\n<text text-anchor=\"middle\" x=\"526.42\" y=\"-43.15\" font-family=\"Times,serif\" font-size=\"14.00\">(BH_St2)</text>\n</g>\n<!-- \\(BH_St4\\) -->\n<g id=\"node5\" class=\"node\">\n<title>\\(BH_St4\\)</title>\n<ellipse fill=\"none\" stroke=\"black\" cx=\"663.12\" cy=\"-124.85\" rx=\"44.69\" ry=\"44.69\"/>\n<text text-anchor=\"middle\" x=\"663.12\" y=\"-121.15\" font-family=\"Times,serif\" font-size=\"14.00\">(BH_St4)</text>\n</g>\n<!-- \\(BH_St2\\)&#45;&gt;\\(BH_St4\\) -->\n<g id=\"edge9\" class=\"edge\">\n<title>\\(BH_St2\\)&#45;&gt;\\(BH_St4\\)</title>\n<path fill=\"none\" stroke=\"black\" d=\"M565.66,-68.99C581.02,-77.88 598.87,-88.22 615.02,-97.57\"/>\n<polygon fill=\"black\" stroke=\"black\" points=\"613.38,-100.67 623.78,-102.65 616.88,-94.61 613.38,-100.67\"/>\n<text text-anchor=\"middle\" x=\"594.77\" y=\"-91.65\" font-family=\"Times,serif\" font-size=\"14.00\">0 </text>\n</g>\n<!-- \\(BH_St0\\) -->\n<g id=\"node6\" class=\"node\">\n<title>\\(BH_St0\\)</title>\n<ellipse fill=\"none\" stroke=\"black\" cx=\"799.81\" cy=\"-44.85\" rx=\"44.69\" ry=\"44.69\"/>\n<text text-anchor=\"middle\" x=\"799.81\" y=\"-41.15\" font-family=\"Times,serif\" font-size=\"14.00\">(BH_St0)</text>\n</g>\n<!-- \\(BH_St2\\)&#45;&gt;\\(BH_St0\\) -->\n<g id=\"edge12\" class=\"edge\">\n<title>\\(BH_St2\\)&#45;&gt;\\(BH_St0\\)</title>\n<path fill=\"none\" stroke=\"black\" d=\"M571.33,-46.52C618.48,-46.17 693.48,-45.62 744.36,-45.25\"/>\n<polygon fill=\"black\" stroke=\"black\" points=\"744.54,-48.75 754.52,-45.17 744.49,-41.75 744.54,-48.75\"/>\n<text text-anchor=\"middle\" x=\"663.12\" y=\"-50.65\" font-family=\"Times,serif\" font-size=\"14.00\">1 </text>\n</g>\n<!-- \\(BH_St4\\)&#45;&gt;\\(BH_St4\\) -->\n<g id=\"edge2\" class=\"edge\">\n<title>\\(BH_St4\\)&#45;&gt;\\(BH_St4\\)</title>\n<path fill=\"none\" stroke=\"black\" d=\"M650.5,-168.02C651.27,-179.24 655.48,-187.69 663.12,-187.69 668.25,-187.69 671.83,-183.88 673.86,-177.97\"/>\n<polygon fill=\"black\" stroke=\"black\" points=\"677.32,-178.5 675.73,-168.02 670.45,-177.2 677.32,-178.5\"/>\n<text text-anchor=\"middle\" x=\"663.12\" y=\"-191.49\" font-family=\"Times,serif\" font-size=\"14.00\">0 </text>\n</g>\n<!-- \\(BH_St4\\)&#45;&gt;\\(BH_St0\\) -->\n<g id=\"edge8\" class=\"edge\">\n<title>\\(BH_St4\\)&#45;&gt;\\(BH_St0\\)</title>\n<path fill=\"none\" stroke=\"black\" d=\"M701.99,-102.35C717.49,-93.15 735.57,-82.4 751.89,-72.71\"/>\n<polygon fill=\"black\" stroke=\"black\" points=\"753.94,-75.57 760.75,-67.45 750.36,-69.55 753.94,-75.57\"/>\n<text text-anchor=\"middle\" x=\"731.46\" y=\"-90.65\" font-family=\"Times,serif\" font-size=\"14.00\">1 </text>\n</g>\n<!-- \\(BH_St0\\)&#45;&gt;\\(BH_St2\\) -->\n<g id=\"edge7\" class=\"edge\">\n<title>\\(BH_St0\\)&#45;&gt;\\(BH_St2\\)</title>\n<path fill=\"none\" stroke=\"black\" d=\"M759.04,-25.88C743.48,-19.44 725.24,-13.06 707.96,-9.85 668.77,-2.56 657.39,-2.19 618.27,-9.85 604.15,-12.61 589.45,-17.58 576.1,-23\"/>\n<polygon fill=\"black\" stroke=\"black\" points=\"574.49,-19.88 566.64,-27 577.22,-26.33 574.49,-19.88\"/>\n<text text-anchor=\"middle\" x=\"663.12\" y=\"-13.65\" font-family=\"Times,serif\" font-size=\"14.00\">0 </text>\n</g>\n<!-- \\(BH_St6\\) -->\n<g id=\"node7\" class=\"node\">\n<title>\\(BH_St6\\)</title>\n<ellipse fill=\"none\" stroke=\"black\" cx=\"936.5\" cy=\"-85.85\" rx=\"44.69\" ry=\"44.69\"/>\n<text text-anchor=\"middle\" x=\"936.5\" y=\"-82.15\" font-family=\"Times,serif\" font-size=\"14.00\">(BH_St6)</text>\n</g>\n<!-- \\(BH_St0\\)&#45;&gt;\\(BH_St6\\) -->\n<g id=\"edge4\" class=\"edge\">\n<title>\\(BH_St0\\)&#45;&gt;\\(BH_St6\\)</title>\n<path fill=\"none\" stroke=\"black\" d=\"M843.06,-57.71C855.97,-61.64 870.32,-66 883.79,-70.1\"/>\n<polygon fill=\"black\" stroke=\"black\" points=\"882.82,-73.47 893.4,-73.03 884.85,-66.77 882.82,-73.47\"/>\n<text text-anchor=\"middle\" x=\"868.15\" y=\"-69.65\" font-family=\"Times,serif\" font-size=\"14.00\">1 </text>\n</g>\n<!-- \\(BH_St6\\)&#45;&gt;\\(BH_St4\\) -->\n<g id=\"edge13\" class=\"edge\">\n<title>\\(BH_St6\\)&#45;&gt;\\(BH_St4\\)</title>\n<path fill=\"none\" stroke=\"black\" d=\"M892.01,-92.1C844.67,-98.9 768.93,-109.78 717.9,-117.12\"/>\n<polygon fill=\"black\" stroke=\"black\" points=\"717.12,-113.69 707.72,-118.58 718.11,-120.62 717.12,-113.69\"/>\n<text text-anchor=\"middle\" x=\"799.81\" y=\"-114.65\" font-family=\"Times,serif\" font-size=\"14.00\">0 </text>\n</g>\n<!-- \\(BH_St6\\)&#45;&gt;\\(BH_St6\\) -->\n<g id=\"edge10\" class=\"edge\">\n<title>\\(BH_St6\\)&#45;&gt;\\(BH_St6\\)</title>\n<path fill=\"none\" stroke=\"black\" d=\"M923.88,-129.02C924.66,-140.24 928.86,-148.69 936.5,-148.69 941.63,-148.69 945.21,-144.88 947.25,-138.97\"/>\n<polygon fill=\"black\" stroke=\"black\" points=\"950.71,-139.5 949.12,-129.02 943.83,-138.2 950.71,-139.5\"/>\n<text text-anchor=\"middle\" x=\"936.5\" y=\"-152.49\" font-family=\"Times,serif\" font-size=\"14.00\">1 </text>\n</g>\n<!-- \\(F1_St0\\)&#45;&gt;\\(IF_St6\\) -->\n<g id=\"edge15\" class=\"edge\">\n<title>\\(F1_St0\\)&#45;&gt;\\(IF_St6\\)</title>\n<path fill=\"none\" stroke=\"black\" d=\"M350.07,-42.89C335.27,-41.66 318.44,-40.45 303.09,-39.85 265.56,-38.36 256.11,-38.33 218.59,-39.85 206.74,-40.33 194,-41.17 182.04,-42.12\"/>\n<polygon fill=\"black\" stroke=\"black\" points=\"181.46,-38.66 171.78,-42.97 182.03,-45.63 181.46,-38.66\"/>\n<text text-anchor=\"middle\" x=\"260.84\" y=\"-43.65\" font-family=\"Times,serif\" font-size=\"14.00\">1 </text>\n</g>\n<!-- \\(F1_St0\\)&#45;&gt;\\(BH_St2\\) -->\n<g id=\"edge3\" class=\"edge\">\n<title>\\(F1_St0\\)&#45;&gt;\\(BH_St2\\)</title>\n<path fill=\"none\" stroke=\"black\" d=\"M434.76,-46.85C446.35,-46.85 459.11,-46.85 471.32,-46.85\"/>\n<polygon fill=\"black\" stroke=\"black\" points=\"471.4,-50.35 481.4,-46.85 471.4,-43.35 471.4,-50.35\"/>\n<text text-anchor=\"middle\" x=\"458.08\" y=\"-50.65\" font-family=\"Times,serif\" font-size=\"14.00\">0 </text>\n</g>\n</g>\n</svg>\n",
            "text/plain": [
              "<graphviz.graphs.Digraph at 0x7d05617f4700>"
            ]
          },
          "metadata": {},
          "execution_count": 70
        }
      ],
      "source": [
        "dotObj_dfa(no010_and_has010)"
      ]
    },
    {
      "cell_type": "code",
      "execution_count": 71,
      "metadata": {
        "id": "LLR-LQM4aGby",
        "outputId": "fc327e9f-ba26-4c46-cc2f-b2709e765266",
        "colab": {
          "base_uri": "https://localhost:8080/",
          "height": 194
        }
      },
      "outputs": [
        {
          "output_type": "execute_result",
          "data": {
            "image/svg+xml": "<?xml version=\"1.0\" encoding=\"UTF-8\" standalone=\"no\"?>\n<!DOCTYPE svg PUBLIC \"-//W3C//DTD SVG 1.1//EN\"\n \"http://www.w3.org/Graphics/SVG/1.1/DTD/svg11.dtd\">\n<!-- Generated by graphviz version 2.43.0 (0)\n -->\n<!-- Title: %3 Pages: 1 -->\n<svg width=\"335pt\" height=\"130pt\"\n viewBox=\"0.00 0.00 335.29 130.30\" xmlns=\"http://www.w3.org/2000/svg\" xmlns:xlink=\"http://www.w3.org/1999/xlink\">\n<g id=\"graph0\" class=\"graph\" transform=\"scale(1 1) rotate(0) translate(4 126.3)\">\n<title>%3</title>\n<polygon fill=\"white\" stroke=\"transparent\" points=\"-4,4 -4,-126.3 331.29,-126.3 331.29,4 -4,4\"/>\n<!-- EMPTY -->\n<g id=\"node1\" class=\"node\">\n<title>EMPTY</title>\n</g>\n<!-- IF -->\n<g id=\"node2\" class=\"node\">\n<title>IF</title>\n<ellipse fill=\"none\" stroke=\"black\" cx=\"113.85\" cy=\"-24.15\" rx=\"18.72\" ry=\"18.72\"/>\n<ellipse fill=\"none\" stroke=\"black\" cx=\"113.85\" cy=\"-24.15\" rx=\"22.7\" ry=\"22.7\"/>\n<text text-anchor=\"middle\" x=\"113.85\" y=\"-20.45\" font-family=\"Times,serif\" font-size=\"14.00\">IF</text>\n</g>\n<!-- EMPTY&#45;&gt;IF -->\n<g id=\"edge1\" class=\"edge\">\n<title>EMPTY&#45;&gt;IF</title>\n<path fill=\"none\" stroke=\"black\" d=\"M54.38,-24.15C62.68,-24.15 71.94,-24.15 80.6,-24.15\"/>\n<polygon fill=\"black\" stroke=\"black\" points=\"80.76,-27.65 90.76,-24.15 80.76,-20.65 80.76,-27.65\"/>\n</g>\n<!-- IF&#45;&gt;IF -->\n<g id=\"edge2\" class=\"edge\">\n<title>IF&#45;&gt;IF</title>\n<path fill=\"none\" stroke=\"black\" d=\"M106.5,-46C105.69,-56.14 108.15,-65 113.85,-65 117.5,-65 119.82,-61.36 120.8,-56.08\"/>\n<polygon fill=\"black\" stroke=\"black\" points=\"124.31,-56.13 121.2,-46 117.31,-55.86 124.31,-56.13\"/>\n<text text-anchor=\"middle\" x=\"113.85\" y=\"-68.8\" font-family=\"Times,serif\" font-size=\"14.00\">1 </text>\n</g>\n<!-- F0 -->\n<g id=\"node4\" class=\"node\">\n<title>F0</title>\n<ellipse fill=\"none\" stroke=\"black\" cx=\"207.84\" cy=\"-65.15\" rx=\"20.27\" ry=\"20.27\"/>\n<ellipse fill=\"none\" stroke=\"black\" cx=\"207.84\" cy=\"-65.15\" rx=\"24.3\" ry=\"24.3\"/>\n<text text-anchor=\"middle\" x=\"207.84\" y=\"-61.45\" font-family=\"Times,serif\" font-size=\"14.00\">F0</text>\n</g>\n<!-- IF&#45;&gt;F0 -->\n<g id=\"edge3\" class=\"edge\">\n<title>IF&#45;&gt;F0</title>\n<path fill=\"none\" stroke=\"black\" d=\"M135.27,-33.25C147.28,-38.6 162.7,-45.48 176.16,-51.47\"/>\n<polygon fill=\"black\" stroke=\"black\" points=\"174.97,-54.77 185.53,-55.65 177.82,-48.38 174.97,-54.77\"/>\n<text text-anchor=\"middle\" x=\"160.2\" y=\"-48.95\" font-family=\"Times,serif\" font-size=\"14.00\">0 </text>\n</g>\n<!-- F1 -->\n<g id=\"node3\" class=\"node\">\n<title>F1</title>\n<ellipse fill=\"none\" stroke=\"black\" cx=\"303.14\" cy=\"-24.15\" rx=\"20.27\" ry=\"20.27\"/>\n<ellipse fill=\"none\" stroke=\"black\" cx=\"303.14\" cy=\"-24.15\" rx=\"24.3\" ry=\"24.3\"/>\n<text text-anchor=\"middle\" x=\"303.14\" y=\"-20.45\" font-family=\"Times,serif\" font-size=\"14.00\">F1</text>\n</g>\n<!-- F1&#45;&gt;IF -->\n<g id=\"edge6\" class=\"edge\">\n<title>F1&#45;&gt;IF</title>\n<path fill=\"none\" stroke=\"black\" d=\"M279.12,-21.27C265.45,-19.7 247.76,-17.93 231.99,-17.15 210.55,-16.08 205.13,-16.06 183.7,-17.15 171.66,-17.76 158.49,-18.96 146.92,-20.21\"/>\n<polygon fill=\"black\" stroke=\"black\" points=\"146.37,-16.75 136.82,-21.34 147.15,-23.7 146.37,-16.75\"/>\n<text text-anchor=\"middle\" x=\"207.84\" y=\"-20.95\" font-family=\"Times,serif\" font-size=\"14.00\">1 </text>\n</g>\n<!-- F0&#45;&gt;F1 -->\n<g id=\"edge5\" class=\"edge\">\n<title>F0&#45;&gt;F1</title>\n<path fill=\"none\" stroke=\"black\" d=\"M230.48,-55.64C242.61,-50.31 257.94,-43.57 271.31,-37.7\"/>\n<polygon fill=\"black\" stroke=\"black\" points=\"272.87,-40.83 280.62,-33.61 270.06,-34.42 272.87,-40.83\"/>\n<text text-anchor=\"middle\" x=\"255.49\" y=\"-48.95\" font-family=\"Times,serif\" font-size=\"14.00\">1 </text>\n</g>\n<!-- F0&#45;&gt;F0 -->\n<g id=\"edge4\" class=\"edge\">\n<title>F0&#45;&gt;F0</title>\n<path fill=\"none\" stroke=\"black\" d=\"M199.35,-88.13C198.55,-98.41 201.38,-107.3 207.84,-107.3 211.99,-107.3 214.64,-103.65 215.8,-98.32\"/>\n<polygon fill=\"black\" stroke=\"black\" points=\"219.3,-98.3 216.34,-88.13 212.31,-97.93 219.3,-98.3\"/>\n<text text-anchor=\"middle\" x=\"207.84\" y=\"-111.1\" font-family=\"Times,serif\" font-size=\"14.00\">0 </text>\n</g>\n</g>\n</svg>\n",
            "text/plain": [
              "<graphviz.graphs.Digraph at 0x7d057e14f400>"
            ]
          },
          "metadata": {},
          "execution_count": 71
        }
      ],
      "source": [
        "dotObj_dfa(no010)"
      ]
    },
    {
      "cell_type": "code",
      "execution_count": 72,
      "metadata": {
        "id": "DOhyKXvoaGby"
      },
      "outputs": [],
      "source": [
        "REno010 =   \"1* ( '' + 00* ( '' + 1(11*00*1)* ( '' + 11* ( '' + 00* ))))\""
      ]
    },
    {
      "cell_type": "code",
      "execution_count": 73,
      "metadata": {
        "id": "Yns2YKZbaGbz",
        "outputId": "7bbee911-4fa1-4838-9ea8-18972e76e306",
        "colab": {
          "base_uri": "https://localhost:8080/"
        }
      },
      "outputs": [
        {
          "output_type": "stream",
          "name": "stdout",
          "text": [
            "Separating final and non-final states (marking 0-distinguishable entries).\n",
            "Separating final and non-final states (marking 0-distinguishable entries).\n",
            "   The 0-distinguishable entries are:\n",
            "States  St3  and  BH  are 0-distinguished.\n",
            "States  St4  and  BH  are 0-distinguished.\n",
            "States  BH  and  St2  are 0-distinguished.\n",
            "States  BH  and  St8  are 0-distinguished.\n",
            "States  BH  and  St5  are 0-distinguished.\n",
            "States  BH  and  St9  are 0-distinguished.\n",
            "States  BH  and  St1  are 0-distinguished.\n",
            "States  BH  and  St10  are 0-distinguished.\n",
            "States  BH  and  St6  are 0-distinguished.\n",
            "States  BH  and  St7  are 0-distinguished.\n",
            "--------------------------------------------- \n",
            " Dyn Prog Table Version 0 is :\n",
            "--------------------------------------------- \n",
            "\t St4 \t .\n",
            "\t BH \t 0\t0\n",
            "\t St2 \t .\t.\t0\n",
            "\t St8 \t .\t.\t0\t.\n",
            "\t St5 \t .\t.\t0\t.\t.\n",
            "\t St9 \t .\t.\t0\t.\t.\t.\n",
            "\t St1 \t .\t.\t0\t.\t.\t.\t.\n",
            "\t St10 \t .\t.\t0\t.\t.\t.\t.\t.\n",
            "\t St6 \t .\t.\t0\t.\t.\t.\t.\t.\t.\n",
            "\t St7 \t .\t.\t0\t.\t.\t.\t.\t.\t.\t.\n",
            "\n",
            "\t\t St3\tSt4\tBH\tSt2\tSt8\tSt5\tSt9\tSt1\tSt10\tSt6\n",
            "--------------------------------------------- \n",
            " \n",
            "Seeing if states  St3  and  St4  can now be distinguished by any symbol.\n",
            "   The next states reached via symbol  0  are:  St4  and  St4\n",
            "      Nope. Symbol  0  could not distinguish (the next states are the same).\n",
            "   The next states reached via symbol  1  are:  St5  and  St5\n",
            "      Nope. Symbol  1  could not distinguish (the next states are the same).\n",
            " \n",
            "Seeing if states  St3  and  St2  can now be distinguished by any symbol.\n",
            "   The next states reached via symbol  0  are:  St4  and  St3\n",
            "   Cannot distinguish yet, via  0\n",
            "   The next states reached via symbol  1  are:  St5  and  St1\n",
            "   Cannot distinguish yet, via  1\n",
            " \n",
            "Seeing if states  St3  and  St8  can now be distinguished by any symbol.\n",
            "   The next states reached via symbol  0  are:  St4  and  St9\n",
            "   Cannot distinguish yet, via  0\n",
            "   The next states reached via symbol  1  are:  St5  and  St8\n",
            "   Cannot distinguish yet, via  1\n",
            " \n",
            "Seeing if states  St3  and  St5  can now be distinguished by any symbol.\n",
            "   The next states reached via symbol  0  are:  St4  and  BH\n",
            "***  Found a distinguishable pair !! ***\n",
            "      Since  ('St4', 'BH')  are  0  distinguishable, marking  ('St3', 'St5')  as  1  distinguishable.\n",
            "         Hence, must continue through one more sweep of the algorithm.\n",
            " \n",
            "Seeing if states  St3  and  St9  can now be distinguished by any symbol.\n",
            "   The next states reached via symbol  0  are:  St4  and  St10\n",
            "   Cannot distinguish yet, via  0\n",
            "   The next states reached via symbol  1  are:  St5  and  St6\n",
            "   Cannot distinguish yet, via  1\n",
            " \n",
            "Seeing if states  St3  and  St1  can now be distinguished by any symbol.\n",
            "   The next states reached via symbol  0  are:  St4  and  St3\n",
            "   Cannot distinguish yet, via  0\n",
            "   The next states reached via symbol  1  are:  St5  and  St1\n",
            "   Cannot distinguish yet, via  1\n",
            " \n",
            "Seeing if states  St3  and  St10  can now be distinguished by any symbol.\n",
            "   The next states reached via symbol  0  are:  St4  and  St10\n",
            "   Cannot distinguish yet, via  0\n",
            "   The next states reached via symbol  1  are:  St5  and  St6\n",
            "   Cannot distinguish yet, via  1\n",
            " \n",
            "Seeing if states  St3  and  St6  can now be distinguished by any symbol.\n",
            "   The next states reached via symbol  0  are:  St4  and  BH\n",
            "***  Found a distinguishable pair !! ***\n",
            "      Since  ('St4', 'BH')  are  0  distinguishable, marking  ('St3', 'St6')  as  1  distinguishable.\n",
            "         Hence, must continue through one more sweep of the algorithm.\n",
            " \n",
            "Seeing if states  St3  and  St7  can now be distinguished by any symbol.\n",
            "   The next states reached via symbol  0  are:  St4  and  St9\n",
            "   Cannot distinguish yet, via  0\n",
            "   The next states reached via symbol  1  are:  St5  and  St8\n",
            "   Cannot distinguish yet, via  1\n",
            " \n",
            "Seeing if states  St4  and  St2  can now be distinguished by any symbol.\n",
            "   The next states reached via symbol  0  are:  St4  and  St3\n",
            "   Cannot distinguish yet, via  0\n",
            "   The next states reached via symbol  1  are:  St5  and  St1\n",
            "   Cannot distinguish yet, via  1\n",
            " \n",
            "Seeing if states  St4  and  St8  can now be distinguished by any symbol.\n",
            "   The next states reached via symbol  0  are:  St4  and  St9\n",
            "   Cannot distinguish yet, via  0\n",
            "   The next states reached via symbol  1  are:  St5  and  St8\n",
            "   Cannot distinguish yet, via  1\n",
            " \n",
            "Seeing if states  St4  and  St5  can now be distinguished by any symbol.\n",
            "   The next states reached via symbol  0  are:  St4  and  BH\n",
            "***  Found a distinguishable pair !! ***\n",
            "      Since  ('St4', 'BH')  are  0  distinguishable, marking  ('St4', 'St5')  as  1  distinguishable.\n",
            "         Hence, must continue through one more sweep of the algorithm.\n",
            " \n",
            "Seeing if states  St4  and  St9  can now be distinguished by any symbol.\n",
            "   The next states reached via symbol  0  are:  St4  and  St10\n",
            "   Cannot distinguish yet, via  0\n",
            "   The next states reached via symbol  1  are:  St5  and  St6\n",
            "   Cannot distinguish yet, via  1\n",
            " \n",
            "Seeing if states  St4  and  St1  can now be distinguished by any symbol.\n",
            "   The next states reached via symbol  0  are:  St4  and  St3\n",
            "   Cannot distinguish yet, via  0\n",
            "   The next states reached via symbol  1  are:  St5  and  St1\n",
            "   Cannot distinguish yet, via  1\n",
            " \n",
            "Seeing if states  St4  and  St10  can now be distinguished by any symbol.\n",
            "   The next states reached via symbol  0  are:  St4  and  St10\n",
            "   Cannot distinguish yet, via  0\n",
            "   The next states reached via symbol  1  are:  St5  and  St6\n",
            "   Cannot distinguish yet, via  1\n",
            " \n",
            "Seeing if states  St4  and  St6  can now be distinguished by any symbol.\n",
            "   The next states reached via symbol  0  are:  St4  and  BH\n",
            "***  Found a distinguishable pair !! ***\n",
            "      Since  ('St4', 'BH')  are  0  distinguishable, marking  ('St4', 'St6')  as  1  distinguishable.\n",
            "         Hence, must continue through one more sweep of the algorithm.\n",
            " \n",
            "Seeing if states  St4  and  St7  can now be distinguished by any symbol.\n",
            "   The next states reached via symbol  0  are:  St4  and  St9\n",
            "   Cannot distinguish yet, via  0\n",
            "   The next states reached via symbol  1  are:  St5  and  St8\n",
            "   Cannot distinguish yet, via  1\n",
            " \n",
            "Seeing if states  St2  and  St8  can now be distinguished by any symbol.\n",
            "   The next states reached via symbol  0  are:  St3  and  St9\n",
            "   Cannot distinguish yet, via  0\n",
            "   The next states reached via symbol  1  are:  St1  and  St8\n",
            "   Cannot distinguish yet, via  1\n",
            " \n",
            "Seeing if states  St2  and  St5  can now be distinguished by any symbol.\n",
            "   The next states reached via symbol  0  are:  St3  and  BH\n",
            "***  Found a distinguishable pair !! ***\n",
            "      Since  ('St3', 'BH')  are  0  distinguishable, marking  ('St2', 'St5')  as  1  distinguishable.\n",
            "         Hence, must continue through one more sweep of the algorithm.\n",
            " \n",
            "Seeing if states  St2  and  St9  can now be distinguished by any symbol.\n",
            "   The next states reached via symbol  0  are:  St3  and  St10\n",
            "   Cannot distinguish yet, via  0\n",
            "   The next states reached via symbol  1  are:  St1  and  St6\n",
            "   Cannot distinguish yet, via  1\n",
            " \n",
            "Seeing if states  St2  and  St1  can now be distinguished by any symbol.\n",
            "   The next states reached via symbol  0  are:  St3  and  St3\n",
            "      Nope. Symbol  0  could not distinguish (the next states are the same).\n",
            "   The next states reached via symbol  1  are:  St1  and  St1\n",
            "      Nope. Symbol  1  could not distinguish (the next states are the same).\n",
            " \n",
            "Seeing if states  St2  and  St10  can now be distinguished by any symbol.\n",
            "   The next states reached via symbol  0  are:  St3  and  St10\n",
            "   Cannot distinguish yet, via  0\n",
            "   The next states reached via symbol  1  are:  St1  and  St6\n",
            "   Cannot distinguish yet, via  1\n",
            " \n",
            "Seeing if states  St2  and  St6  can now be distinguished by any symbol.\n",
            "   The next states reached via symbol  0  are:  St3  and  BH\n",
            "***  Found a distinguishable pair !! ***\n",
            "      Since  ('St3', 'BH')  are  0  distinguishable, marking  ('St2', 'St6')  as  1  distinguishable.\n",
            "         Hence, must continue through one more sweep of the algorithm.\n",
            " \n",
            "Seeing if states  St2  and  St7  can now be distinguished by any symbol.\n",
            "   The next states reached via symbol  0  are:  St3  and  St9\n",
            "   Cannot distinguish yet, via  0\n",
            "   The next states reached via symbol  1  are:  St1  and  St8\n",
            "   Cannot distinguish yet, via  1\n",
            " \n",
            "Seeing if states  St8  and  St5  can now be distinguished by any symbol.\n",
            "   The next states reached via symbol  0  are:  St9  and  BH\n",
            "   Found a distinguishable pair!\n",
            "      Since  ('St9', 'BH')  are  0  distinguishable, marking  ('St8', 'St5')  as  1  distinguishable.\n",
            "         Hence, must continue through one more sweep of the algorithm.\n",
            " \n",
            "Seeing if states  St8  and  St9  can now be distinguished by any symbol.\n",
            "   The next states reached via symbol  0  are:  St9  and  St10\n",
            "   Cannot distinguish yet, via  0\n",
            "   The next states reached via symbol  1  are:  St8  and  St6\n",
            "   Cannot distinguish yet, via  1\n",
            " \n",
            "Seeing if states  St8  and  St1  can now be distinguished by any symbol.\n",
            "   The next states reached via symbol  0  are:  St9  and  St3\n",
            "   Cannot distinguish yet, via  0\n",
            "   The next states reached via symbol  1  are:  St8  and  St1\n",
            "   Cannot distinguish yet, via  1\n",
            " \n",
            "Seeing if states  St8  and  St10  can now be distinguished by any symbol.\n",
            "   The next states reached via symbol  0  are:  St9  and  St10\n",
            "   Cannot distinguish yet, via  0\n",
            "   The next states reached via symbol  1  are:  St8  and  St6\n",
            "   Cannot distinguish yet, via  1\n",
            " \n",
            "Seeing if states  St8  and  St6  can now be distinguished by any symbol.\n",
            "   The next states reached via symbol  0  are:  St9  and  BH\n",
            "   Found a distinguishable pair!\n",
            "      Since  ('St9', 'BH')  are  0  distinguishable, marking  ('St8', 'St6')  as  1  distinguishable.\n",
            "         Hence, must continue through one more sweep of the algorithm.\n",
            " \n",
            "Seeing if states  St8  and  St7  can now be distinguished by any symbol.\n",
            "   The next states reached via symbol  0  are:  St9  and  St9\n",
            "      Nope. Symbol  0  could not distinguish (the next states are the same).\n",
            "   The next states reached via symbol  1  are:  St8  and  St8\n",
            "      Nope. Symbol  1  could not distinguish (the next states are the same).\n",
            " \n",
            "Seeing if states  St5  and  St9  can now be distinguished by any symbol.\n",
            "   The next states reached via symbol  0  are:  BH  and  St10\n",
            "***  Found a distinguishable pair !! ***\n",
            "      Since  ('BH', 'St10')  are  0  distinguishable, marking  ('St5', 'St9')  as  1  distinguishable.\n",
            "         Hence, must continue through one more sweep of the algorithm.\n",
            " \n",
            "Seeing if states  St5  and  St1  can now be distinguished by any symbol.\n",
            "   The next states reached via symbol  0  are:  BH  and  St3\n",
            "   Found a distinguishable pair!\n",
            "      Since  ('BH', 'St3')  are  0  distinguishable, marking  ('St5', 'St1')  as  1  distinguishable.\n",
            "         Hence, must continue through one more sweep of the algorithm.\n",
            " \n",
            "Seeing if states  St5  and  St10  can now be distinguished by any symbol.\n",
            "   The next states reached via symbol  0  are:  BH  and  St10\n",
            "***  Found a distinguishable pair !! ***\n",
            "      Since  ('BH', 'St10')  are  0  distinguishable, marking  ('St5', 'St10')  as  1  distinguishable.\n",
            "         Hence, must continue through one more sweep of the algorithm.\n",
            " \n",
            "Seeing if states  St5  and  St6  can now be distinguished by any symbol.\n",
            "   The next states reached via symbol  0  are:  BH  and  BH\n",
            "      Nope. Symbol  0  could not distinguish (the next states are the same).\n",
            "   The next states reached via symbol  1  are:  St7  and  St7\n",
            "      Nope. Symbol  1  could not distinguish (the next states are the same).\n",
            " \n",
            "Seeing if states  St5  and  St7  can now be distinguished by any symbol.\n",
            "   The next states reached via symbol  0  are:  BH  and  St9\n",
            "***  Found a distinguishable pair !! ***\n",
            "      Since  ('BH', 'St9')  are  0  distinguishable, marking  ('St5', 'St7')  as  1  distinguishable.\n",
            "         Hence, must continue through one more sweep of the algorithm.\n",
            " \n",
            "Seeing if states  St9  and  St1  can now be distinguished by any symbol.\n",
            "   The next states reached via symbol  0  are:  St10  and  St3\n",
            "   Cannot distinguish yet, via  0\n",
            "   The next states reached via symbol  1  are:  St6  and  St1\n",
            "   Cannot distinguish yet, via  1\n",
            " \n",
            "Seeing if states  St9  and  St10  can now be distinguished by any symbol.\n",
            "   The next states reached via symbol  0  are:  St10  and  St10\n",
            "      Nope. Symbol  0  could not distinguish (the next states are the same).\n",
            "   The next states reached via symbol  1  are:  St6  and  St6\n",
            "      Nope. Symbol  1  could not distinguish (the next states are the same).\n",
            " \n",
            "Seeing if states  St9  and  St6  can now be distinguished by any symbol.\n",
            "   The next states reached via symbol  0  are:  St10  and  BH\n",
            "   Found a distinguishable pair!\n",
            "      Since  ('St10', 'BH')  are  0  distinguishable, marking  ('St9', 'St6')  as  1  distinguishable.\n",
            "         Hence, must continue through one more sweep of the algorithm.\n",
            " \n",
            "Seeing if states  St9  and  St7  can now be distinguished by any symbol.\n",
            "   The next states reached via symbol  0  are:  St10  and  St9\n",
            "   Cannot distinguish yet, via  0\n",
            "   The next states reached via symbol  1  are:  St6  and  St8\n",
            "   Found a distinguishable pair!\n",
            "      Since  ('St6', 'St8')  are  1  distinguishable, marking  ('St9', 'St7')  as  2  distinguishable.\n",
            "         Hence, must continue through one more sweep of the algorithm.\n",
            " \n",
            "Seeing if states  St1  and  St10  can now be distinguished by any symbol.\n",
            "   The next states reached via symbol  0  are:  St3  and  St10\n",
            "   Cannot distinguish yet, via  0\n",
            "   The next states reached via symbol  1  are:  St1  and  St6\n",
            "   Cannot distinguish yet, via  1\n",
            " \n",
            "Seeing if states  St1  and  St6  can now be distinguished by any symbol.\n",
            "   The next states reached via symbol  0  are:  St3  and  BH\n",
            "***  Found a distinguishable pair !! ***\n",
            "      Since  ('St3', 'BH')  are  0  distinguishable, marking  ('St1', 'St6')  as  1  distinguishable.\n",
            "         Hence, must continue through one more sweep of the algorithm.\n",
            " \n",
            "Seeing if states  St1  and  St7  can now be distinguished by any symbol.\n",
            "   The next states reached via symbol  0  are:  St3  and  St9\n",
            "   Cannot distinguish yet, via  0\n",
            "   The next states reached via symbol  1  are:  St1  and  St8\n",
            "   Cannot distinguish yet, via  1\n",
            " \n",
            "Seeing if states  St10  and  St6  can now be distinguished by any symbol.\n",
            "   The next states reached via symbol  0  are:  St10  and  BH\n",
            "   Found a distinguishable pair!\n",
            "      Since  ('St10', 'BH')  are  0  distinguishable, marking  ('St10', 'St6')  as  1  distinguishable.\n",
            "         Hence, must continue through one more sweep of the algorithm.\n",
            " \n",
            "Seeing if states  St10  and  St7  can now be distinguished by any symbol.\n",
            "   The next states reached via symbol  0  are:  St10  and  St9\n",
            "   Cannot distinguish yet, via  0\n",
            "   The next states reached via symbol  1  are:  St6  and  St8\n",
            "   Found a distinguishable pair!\n",
            "      Since  ('St6', 'St8')  are  1  distinguishable, marking  ('St10', 'St7')  as  2  distinguishable.\n",
            "         Hence, must continue through one more sweep of the algorithm.\n",
            " \n",
            "Seeing if states  St6  and  St7  can now be distinguished by any symbol.\n",
            "   The next states reached via symbol  0  are:  BH  and  St9\n",
            "***  Found a distinguishable pair !! ***\n",
            "      Since  ('BH', 'St9')  are  0  distinguishable, marking  ('St6', 'St7')  as  1  distinguishable.\n",
            "         Hence, must continue through one more sweep of the algorithm.\n",
            "--------------------------------------------- \n",
            " Dyn Prog Table Version 1 is :\n",
            "--------------------------------------------- \n",
            "\t St4 \t .\n",
            "\t BH \t 0\t0\n",
            "\t St2 \t .\t.\t0\n",
            "\t St8 \t .\t.\t0\t.\n",
            "\t St5 \t 1\t1\t0\t1\t1\n",
            "\t St9 \t .\t.\t0\t.\t.\t1\n",
            "\t St1 \t .\t.\t0\t.\t.\t1\t.\n",
            "\t St10 \t .\t.\t0\t.\t.\t1\t.\t.\n",
            "\t St6 \t 1\t1\t0\t1\t1\t.\t1\t1\t1\n",
            "\t St7 \t .\t.\t0\t.\t.\t1\t2\t.\t2\t1\n",
            "\n",
            "\t\t St3\tSt4\tBH\tSt2\tSt8\tSt5\tSt9\tSt1\tSt10\tSt6\n",
            "--------------------------------------------- \n",
            " \n",
            "Seeing if states  St3  and  St4  can now be distinguished by any symbol.\n",
            "   The next states reached via symbol  0  are:  St4  and  St4\n",
            "      Nope. Symbol  0  could not distinguish (the next states are the same).\n",
            "   The next states reached via symbol  1  are:  St5  and  St5\n",
            "      Nope. Symbol  1  could not distinguish (the next states are the same).\n",
            " \n",
            "Seeing if states  St3  and  St2  can now be distinguished by any symbol.\n",
            "   The next states reached via symbol  0  are:  St4  and  St3\n",
            "   Cannot distinguish yet, via  0\n",
            "   The next states reached via symbol  1  are:  St5  and  St1\n",
            "***  Found a distinguishable pair !! ***\n",
            "      Since  ('St5', 'St1')  are  1  distinguishable, marking  ('St3', 'St2')  as  2  distinguishable.\n",
            "         Hence, must continue through one more sweep of the algorithm.\n",
            " \n",
            "Seeing if states  St3  and  St8  can now be distinguished by any symbol.\n",
            "   The next states reached via symbol  0  are:  St4  and  St9\n",
            "   Cannot distinguish yet, via  0\n",
            "   The next states reached via symbol  1  are:  St5  and  St8\n",
            "   Found a distinguishable pair!\n",
            "      Since  ('St5', 'St8')  are  1  distinguishable, marking  ('St3', 'St8')  as  2  distinguishable.\n",
            "         Hence, must continue through one more sweep of the algorithm.\n",
            " \n",
            "Seeing if states  St3  and  St5  can now be distinguished by any symbol.\n",
            "   The next states reached via symbol  0  are:  St4  and  BH\n",
            "   The next states reached via symbol  1  are:  St5  and  St7\n",
            " \n",
            "Seeing if states  St3  and  St9  can now be distinguished by any symbol.\n",
            "   The next states reached via symbol  0  are:  St4  and  St10\n",
            "   Cannot distinguish yet, via  0\n",
            "   The next states reached via symbol  1  are:  St5  and  St6\n",
            "   Cannot distinguish yet, via  1\n",
            " \n",
            "Seeing if states  St3  and  St1  can now be distinguished by any symbol.\n",
            "   The next states reached via symbol  0  are:  St4  and  St3\n",
            "   Cannot distinguish yet, via  0\n",
            "   The next states reached via symbol  1  are:  St5  and  St1\n",
            "***  Found a distinguishable pair !! ***\n",
            "      Since  ('St5', 'St1')  are  1  distinguishable, marking  ('St3', 'St1')  as  2  distinguishable.\n",
            "         Hence, must continue through one more sweep of the algorithm.\n",
            " \n",
            "Seeing if states  St3  and  St10  can now be distinguished by any symbol.\n",
            "   The next states reached via symbol  0  are:  St4  and  St10\n",
            "   Cannot distinguish yet, via  0\n",
            "   The next states reached via symbol  1  are:  St5  and  St6\n",
            "   Cannot distinguish yet, via  1\n",
            " \n",
            "Seeing if states  St3  and  St6  can now be distinguished by any symbol.\n",
            "   The next states reached via symbol  0  are:  St4  and  BH\n",
            "   The next states reached via symbol  1  are:  St5  and  St7\n",
            " \n",
            "Seeing if states  St3  and  St7  can now be distinguished by any symbol.\n",
            "   The next states reached via symbol  0  are:  St4  and  St9\n",
            "   Cannot distinguish yet, via  0\n",
            "   The next states reached via symbol  1  are:  St5  and  St8\n",
            "   Found a distinguishable pair!\n",
            "      Since  ('St5', 'St8')  are  1  distinguishable, marking  ('St3', 'St7')  as  2  distinguishable.\n",
            "         Hence, must continue through one more sweep of the algorithm.\n",
            " \n",
            "Seeing if states  St4  and  St2  can now be distinguished by any symbol.\n",
            "   The next states reached via symbol  0  are:  St4  and  St3\n",
            "   Cannot distinguish yet, via  0\n",
            "   The next states reached via symbol  1  are:  St5  and  St1\n",
            "***  Found a distinguishable pair !! ***\n",
            "      Since  ('St5', 'St1')  are  1  distinguishable, marking  ('St4', 'St2')  as  2  distinguishable.\n",
            "         Hence, must continue through one more sweep of the algorithm.\n",
            " \n",
            "Seeing if states  St4  and  St8  can now be distinguished by any symbol.\n",
            "   The next states reached via symbol  0  are:  St4  and  St9\n",
            "   Cannot distinguish yet, via  0\n",
            "   The next states reached via symbol  1  are:  St5  and  St8\n",
            "   Found a distinguishable pair!\n",
            "      Since  ('St5', 'St8')  are  1  distinguishable, marking  ('St4', 'St8')  as  2  distinguishable.\n",
            "         Hence, must continue through one more sweep of the algorithm.\n",
            " \n",
            "Seeing if states  St4  and  St5  can now be distinguished by any symbol.\n",
            "   The next states reached via symbol  0  are:  St4  and  BH\n",
            "   The next states reached via symbol  1  are:  St5  and  St7\n",
            " \n",
            "Seeing if states  St4  and  St9  can now be distinguished by any symbol.\n",
            "   The next states reached via symbol  0  are:  St4  and  St10\n",
            "   Cannot distinguish yet, via  0\n",
            "   The next states reached via symbol  1  are:  St5  and  St6\n",
            "   Cannot distinguish yet, via  1\n",
            " \n",
            "Seeing if states  St4  and  St1  can now be distinguished by any symbol.\n",
            "   The next states reached via symbol  0  are:  St4  and  St3\n",
            "   Cannot distinguish yet, via  0\n",
            "   The next states reached via symbol  1  are:  St5  and  St1\n",
            "***  Found a distinguishable pair !! ***\n",
            "      Since  ('St5', 'St1')  are  1  distinguishable, marking  ('St4', 'St1')  as  2  distinguishable.\n",
            "         Hence, must continue through one more sweep of the algorithm.\n",
            " \n",
            "Seeing if states  St4  and  St10  can now be distinguished by any symbol.\n",
            "   The next states reached via symbol  0  are:  St4  and  St10\n",
            "   Cannot distinguish yet, via  0\n",
            "   The next states reached via symbol  1  are:  St5  and  St6\n",
            "   Cannot distinguish yet, via  1\n",
            " \n",
            "Seeing if states  St4  and  St6  can now be distinguished by any symbol.\n",
            "   The next states reached via symbol  0  are:  St4  and  BH\n",
            "   The next states reached via symbol  1  are:  St5  and  St7\n",
            " \n",
            "Seeing if states  St4  and  St7  can now be distinguished by any symbol.\n",
            "   The next states reached via symbol  0  are:  St4  and  St9\n",
            "   Cannot distinguish yet, via  0\n",
            "   The next states reached via symbol  1  are:  St5  and  St8\n",
            "   Found a distinguishable pair!\n",
            "      Since  ('St5', 'St8')  are  1  distinguishable, marking  ('St4', 'St7')  as  2  distinguishable.\n",
            "         Hence, must continue through one more sweep of the algorithm.\n",
            " \n",
            "Seeing if states  St2  and  St8  can now be distinguished by any symbol.\n",
            "   The next states reached via symbol  0  are:  St3  and  St9\n",
            "   Cannot distinguish yet, via  0\n",
            "   The next states reached via symbol  1  are:  St1  and  St8\n",
            "   Cannot distinguish yet, via  1\n",
            " \n",
            "Seeing if states  St2  and  St5  can now be distinguished by any symbol.\n",
            "   The next states reached via symbol  0  are:  St3  and  BH\n",
            "   The next states reached via symbol  1  are:  St1  and  St7\n",
            " \n",
            "Seeing if states  St2  and  St9  can now be distinguished by any symbol.\n",
            "   The next states reached via symbol  0  are:  St3  and  St10\n",
            "   Cannot distinguish yet, via  0\n",
            "   The next states reached via symbol  1  are:  St1  and  St6\n",
            "***  Found a distinguishable pair !! ***\n",
            "      Since  ('St1', 'St6')  are  1  distinguishable, marking  ('St2', 'St9')  as  2  distinguishable.\n",
            "         Hence, must continue through one more sweep of the algorithm.\n",
            " \n",
            "Seeing if states  St2  and  St1  can now be distinguished by any symbol.\n",
            "   The next states reached via symbol  0  are:  St3  and  St3\n",
            "      Nope. Symbol  0  could not distinguish (the next states are the same).\n",
            "   The next states reached via symbol  1  are:  St1  and  St1\n",
            "      Nope. Symbol  1  could not distinguish (the next states are the same).\n",
            " \n",
            "Seeing if states  St2  and  St10  can now be distinguished by any symbol.\n",
            "   The next states reached via symbol  0  are:  St3  and  St10\n",
            "   Cannot distinguish yet, via  0\n",
            "   The next states reached via symbol  1  are:  St1  and  St6\n",
            "***  Found a distinguishable pair !! ***\n",
            "      Since  ('St1', 'St6')  are  1  distinguishable, marking  ('St2', 'St10')  as  2  distinguishable.\n",
            "         Hence, must continue through one more sweep of the algorithm.\n",
            " \n",
            "Seeing if states  St2  and  St6  can now be distinguished by any symbol.\n",
            "   The next states reached via symbol  0  are:  St3  and  BH\n",
            "   The next states reached via symbol  1  are:  St1  and  St7\n",
            " \n",
            "Seeing if states  St2  and  St7  can now be distinguished by any symbol.\n",
            "   The next states reached via symbol  0  are:  St3  and  St9\n",
            "   Cannot distinguish yet, via  0\n",
            "   The next states reached via symbol  1  are:  St1  and  St8\n",
            "   Cannot distinguish yet, via  1\n",
            " \n",
            "Seeing if states  St8  and  St5  can now be distinguished by any symbol.\n",
            "   The next states reached via symbol  0  are:  St9  and  BH\n",
            "   The next states reached via symbol  1  are:  St8  and  St7\n",
            " \n",
            "Seeing if states  St8  and  St9  can now be distinguished by any symbol.\n",
            "   The next states reached via symbol  0  are:  St9  and  St10\n",
            "   Cannot distinguish yet, via  0\n",
            "   The next states reached via symbol  1  are:  St8  and  St6\n",
            "***  Found a distinguishable pair !! ***\n",
            "      Since  ('St8', 'St6')  are  1  distinguishable, marking  ('St8', 'St9')  as  2  distinguishable.\n",
            "         Hence, must continue through one more sweep of the algorithm.\n",
            " \n",
            "Seeing if states  St8  and  St1  can now be distinguished by any symbol.\n",
            "   The next states reached via symbol  0  are:  St9  and  St3\n",
            "   Cannot distinguish yet, via  0\n",
            "   The next states reached via symbol  1  are:  St8  and  St1\n",
            "   Cannot distinguish yet, via  1\n",
            " \n",
            "Seeing if states  St8  and  St10  can now be distinguished by any symbol.\n",
            "   The next states reached via symbol  0  are:  St9  and  St10\n",
            "   Cannot distinguish yet, via  0\n",
            "   The next states reached via symbol  1  are:  St8  and  St6\n",
            "***  Found a distinguishable pair !! ***\n",
            "      Since  ('St8', 'St6')  are  1  distinguishable, marking  ('St8', 'St10')  as  2  distinguishable.\n",
            "         Hence, must continue through one more sweep of the algorithm.\n",
            " \n",
            "Seeing if states  St8  and  St6  can now be distinguished by any symbol.\n",
            "   The next states reached via symbol  0  are:  St9  and  BH\n",
            "   The next states reached via symbol  1  are:  St8  and  St7\n",
            " \n",
            "Seeing if states  St8  and  St7  can now be distinguished by any symbol.\n",
            "   The next states reached via symbol  0  are:  St9  and  St9\n",
            "      Nope. Symbol  0  could not distinguish (the next states are the same).\n",
            "   The next states reached via symbol  1  are:  St8  and  St8\n",
            "      Nope. Symbol  1  could not distinguish (the next states are the same).\n",
            " \n",
            "Seeing if states  St5  and  St9  can now be distinguished by any symbol.\n",
            "   The next states reached via symbol  0  are:  BH  and  St10\n",
            "   The next states reached via symbol  1  are:  St7  and  St6\n",
            " \n",
            "Seeing if states  St5  and  St1  can now be distinguished by any symbol.\n",
            "   The next states reached via symbol  0  are:  BH  and  St3\n",
            "   The next states reached via symbol  1  are:  St7  and  St1\n",
            " \n",
            "Seeing if states  St5  and  St10  can now be distinguished by any symbol.\n",
            "   The next states reached via symbol  0  are:  BH  and  St10\n",
            "   The next states reached via symbol  1  are:  St7  and  St6\n",
            " \n",
            "Seeing if states  St5  and  St6  can now be distinguished by any symbol.\n",
            "   The next states reached via symbol  0  are:  BH  and  BH\n",
            "      Nope. Symbol  0  could not distinguish (the next states are the same).\n",
            "   The next states reached via symbol  1  are:  St7  and  St7\n",
            "      Nope. Symbol  1  could not distinguish (the next states are the same).\n",
            " \n",
            "Seeing if states  St5  and  St7  can now be distinguished by any symbol.\n",
            "   The next states reached via symbol  0  are:  BH  and  St9\n",
            "   The next states reached via symbol  1  are:  St7  and  St8\n",
            " \n",
            "Seeing if states  St9  and  St1  can now be distinguished by any symbol.\n",
            "   The next states reached via symbol  0  are:  St10  and  St3\n",
            "   Cannot distinguish yet, via  0\n",
            "   The next states reached via symbol  1  are:  St6  and  St1\n",
            "   Found a distinguishable pair!\n",
            "      Since  ('St6', 'St1')  are  1  distinguishable, marking  ('St9', 'St1')  as  2  distinguishable.\n",
            "         Hence, must continue through one more sweep of the algorithm.\n",
            " \n",
            "Seeing if states  St9  and  St10  can now be distinguished by any symbol.\n",
            "   The next states reached via symbol  0  are:  St10  and  St10\n",
            "      Nope. Symbol  0  could not distinguish (the next states are the same).\n",
            "   The next states reached via symbol  1  are:  St6  and  St6\n",
            "      Nope. Symbol  1  could not distinguish (the next states are the same).\n",
            " \n",
            "Seeing if states  St9  and  St6  can now be distinguished by any symbol.\n",
            "   The next states reached via symbol  0  are:  St10  and  BH\n",
            "   The next states reached via symbol  1  are:  St6  and  St7\n",
            " \n",
            "Seeing if states  St9  and  St7  can now be distinguished by any symbol.\n",
            "   The next states reached via symbol  0  are:  St10  and  St9\n",
            "   The next states reached via symbol  1  are:  St6  and  St8\n",
            " \n",
            "Seeing if states  St1  and  St10  can now be distinguished by any symbol.\n",
            "   The next states reached via symbol  0  are:  St3  and  St10\n",
            "   Cannot distinguish yet, via  0\n",
            "   The next states reached via symbol  1  are:  St1  and  St6\n",
            "***  Found a distinguishable pair !! ***\n",
            "      Since  ('St1', 'St6')  are  1  distinguishable, marking  ('St1', 'St10')  as  2  distinguishable.\n",
            "         Hence, must continue through one more sweep of the algorithm.\n",
            " \n",
            "Seeing if states  St1  and  St6  can now be distinguished by any symbol.\n",
            "   The next states reached via symbol  0  are:  St3  and  BH\n",
            "   The next states reached via symbol  1  are:  St1  and  St7\n",
            " \n",
            "Seeing if states  St1  and  St7  can now be distinguished by any symbol.\n",
            "   The next states reached via symbol  0  are:  St3  and  St9\n",
            "   Cannot distinguish yet, via  0\n",
            "   The next states reached via symbol  1  are:  St1  and  St8\n",
            "   Cannot distinguish yet, via  1\n",
            " \n",
            "Seeing if states  St10  and  St6  can now be distinguished by any symbol.\n",
            "   The next states reached via symbol  0  are:  St10  and  BH\n",
            "   The next states reached via symbol  1  are:  St6  and  St7\n",
            " \n",
            "Seeing if states  St10  and  St7  can now be distinguished by any symbol.\n",
            "   The next states reached via symbol  0  are:  St10  and  St9\n",
            "   The next states reached via symbol  1  are:  St6  and  St8\n",
            " \n",
            "Seeing if states  St6  and  St7  can now be distinguished by any symbol.\n",
            "   The next states reached via symbol  0  are:  BH  and  St9\n",
            "   The next states reached via symbol  1  are:  St7  and  St8\n",
            "--------------------------------------------- \n",
            " Dyn Prog Table Version 2 is :\n",
            "--------------------------------------------- \n",
            "\t St4 \t .\n",
            "\t BH \t 0\t0\n",
            "\t St2 \t 2\t2\t0\n",
            "\t St8 \t 2\t2\t0\t.\n",
            "\t St5 \t 1\t1\t0\t1\t1\n",
            "\t St9 \t .\t.\t0\t2\t2\t1\n",
            "\t St1 \t 2\t2\t0\t.\t.\t1\t2\n",
            "\t St10 \t .\t.\t0\t2\t2\t1\t.\t2\n",
            "\t St6 \t 1\t1\t0\t1\t1\t.\t1\t1\t1\n",
            "\t St7 \t 2\t2\t0\t.\t.\t1\t2\t.\t2\t1\n",
            "\n",
            "\t\t St3\tSt4\tBH\tSt2\tSt8\tSt5\tSt9\tSt1\tSt10\tSt6\n",
            "--------------------------------------------- \n",
            " \n",
            "Seeing if states  St3  and  St4  can now be distinguished by any symbol.\n",
            "   The next states reached via symbol  0  are:  St4  and  St4\n",
            "      Nope. Symbol  0  could not distinguish (the next states are the same).\n",
            "   The next states reached via symbol  1  are:  St5  and  St5\n",
            "      Nope. Symbol  1  could not distinguish (the next states are the same).\n",
            " \n",
            "Seeing if states  St3  and  St2  can now be distinguished by any symbol.\n",
            "   The next states reached via symbol  0  are:  St4  and  St3\n",
            "   The next states reached via symbol  1  are:  St5  and  St1\n",
            " \n",
            "Seeing if states  St3  and  St8  can now be distinguished by any symbol.\n",
            "   The next states reached via symbol  0  are:  St4  and  St9\n",
            "   The next states reached via symbol  1  are:  St5  and  St8\n",
            " \n",
            "Seeing if states  St3  and  St5  can now be distinguished by any symbol.\n",
            "   The next states reached via symbol  0  are:  St4  and  BH\n",
            "   The next states reached via symbol  1  are:  St5  and  St7\n",
            " \n",
            "Seeing if states  St3  and  St9  can now be distinguished by any symbol.\n",
            "   The next states reached via symbol  0  are:  St4  and  St10\n",
            "   Cannot distinguish yet, via  0\n",
            "   The next states reached via symbol  1  are:  St5  and  St6\n",
            "   Cannot distinguish yet, via  1\n",
            " \n",
            "Seeing if states  St3  and  St1  can now be distinguished by any symbol.\n",
            "   The next states reached via symbol  0  are:  St4  and  St3\n",
            "   The next states reached via symbol  1  are:  St5  and  St1\n",
            " \n",
            "Seeing if states  St3  and  St10  can now be distinguished by any symbol.\n",
            "   The next states reached via symbol  0  are:  St4  and  St10\n",
            "   Cannot distinguish yet, via  0\n",
            "   The next states reached via symbol  1  are:  St5  and  St6\n",
            "   Cannot distinguish yet, via  1\n",
            " \n",
            "Seeing if states  St3  and  St6  can now be distinguished by any symbol.\n",
            "   The next states reached via symbol  0  are:  St4  and  BH\n",
            "   The next states reached via symbol  1  are:  St5  and  St7\n",
            " \n",
            "Seeing if states  St3  and  St7  can now be distinguished by any symbol.\n",
            "   The next states reached via symbol  0  are:  St4  and  St9\n",
            "   The next states reached via symbol  1  are:  St5  and  St8\n",
            " \n",
            "Seeing if states  St4  and  St2  can now be distinguished by any symbol.\n",
            "   The next states reached via symbol  0  are:  St4  and  St3\n",
            "   The next states reached via symbol  1  are:  St5  and  St1\n",
            " \n",
            "Seeing if states  St4  and  St8  can now be distinguished by any symbol.\n",
            "   The next states reached via symbol  0  are:  St4  and  St9\n",
            "   The next states reached via symbol  1  are:  St5  and  St8\n",
            " \n",
            "Seeing if states  St4  and  St5  can now be distinguished by any symbol.\n",
            "   The next states reached via symbol  0  are:  St4  and  BH\n",
            "   The next states reached via symbol  1  are:  St5  and  St7\n",
            " \n",
            "Seeing if states  St4  and  St9  can now be distinguished by any symbol.\n",
            "   The next states reached via symbol  0  are:  St4  and  St10\n",
            "   Cannot distinguish yet, via  0\n",
            "   The next states reached via symbol  1  are:  St5  and  St6\n",
            "   Cannot distinguish yet, via  1\n",
            " \n",
            "Seeing if states  St4  and  St1  can now be distinguished by any symbol.\n",
            "   The next states reached via symbol  0  are:  St4  and  St3\n",
            "   The next states reached via symbol  1  are:  St5  and  St1\n",
            " \n",
            "Seeing if states  St4  and  St10  can now be distinguished by any symbol.\n",
            "   The next states reached via symbol  0  are:  St4  and  St10\n",
            "   Cannot distinguish yet, via  0\n",
            "   The next states reached via symbol  1  are:  St5  and  St6\n",
            "   Cannot distinguish yet, via  1\n",
            " \n",
            "Seeing if states  St4  and  St6  can now be distinguished by any symbol.\n",
            "   The next states reached via symbol  0  are:  St4  and  BH\n",
            "   The next states reached via symbol  1  are:  St5  and  St7\n",
            " \n",
            "Seeing if states  St4  and  St7  can now be distinguished by any symbol.\n",
            "   The next states reached via symbol  0  are:  St4  and  St9\n",
            "   The next states reached via symbol  1  are:  St5  and  St8\n",
            " \n",
            "Seeing if states  St2  and  St8  can now be distinguished by any symbol.\n",
            "   The next states reached via symbol  0  are:  St3  and  St9\n",
            "   Cannot distinguish yet, via  0\n",
            "   The next states reached via symbol  1  are:  St1  and  St8\n",
            "   Cannot distinguish yet, via  1\n",
            " \n",
            "Seeing if states  St2  and  St5  can now be distinguished by any symbol.\n",
            "   The next states reached via symbol  0  are:  St3  and  BH\n",
            "   The next states reached via symbol  1  are:  St1  and  St7\n",
            " \n",
            "Seeing if states  St2  and  St9  can now be distinguished by any symbol.\n",
            "   The next states reached via symbol  0  are:  St3  and  St10\n",
            "   The next states reached via symbol  1  are:  St1  and  St6\n",
            " \n",
            "Seeing if states  St2  and  St1  can now be distinguished by any symbol.\n",
            "   The next states reached via symbol  0  are:  St3  and  St3\n",
            "      Nope. Symbol  0  could not distinguish (the next states are the same).\n",
            "   The next states reached via symbol  1  are:  St1  and  St1\n",
            "      Nope. Symbol  1  could not distinguish (the next states are the same).\n",
            " \n",
            "Seeing if states  St2  and  St10  can now be distinguished by any symbol.\n",
            "   The next states reached via symbol  0  are:  St3  and  St10\n",
            "   The next states reached via symbol  1  are:  St1  and  St6\n",
            " \n",
            "Seeing if states  St2  and  St6  can now be distinguished by any symbol.\n",
            "   The next states reached via symbol  0  are:  St3  and  BH\n",
            "   The next states reached via symbol  1  are:  St1  and  St7\n",
            " \n",
            "Seeing if states  St2  and  St7  can now be distinguished by any symbol.\n",
            "   The next states reached via symbol  0  are:  St3  and  St9\n",
            "   Cannot distinguish yet, via  0\n",
            "   The next states reached via symbol  1  are:  St1  and  St8\n",
            "   Cannot distinguish yet, via  1\n",
            " \n",
            "Seeing if states  St8  and  St5  can now be distinguished by any symbol.\n",
            "   The next states reached via symbol  0  are:  St9  and  BH\n",
            "   The next states reached via symbol  1  are:  St8  and  St7\n",
            " \n",
            "Seeing if states  St8  and  St9  can now be distinguished by any symbol.\n",
            "   The next states reached via symbol  0  are:  St9  and  St10\n",
            "   The next states reached via symbol  1  are:  St8  and  St6\n",
            " \n",
            "Seeing if states  St8  and  St1  can now be distinguished by any symbol.\n",
            "   The next states reached via symbol  0  are:  St9  and  St3\n",
            "   Cannot distinguish yet, via  0\n",
            "   The next states reached via symbol  1  are:  St8  and  St1\n",
            "   Cannot distinguish yet, via  1\n",
            " \n",
            "Seeing if states  St8  and  St10  can now be distinguished by any symbol.\n",
            "   The next states reached via symbol  0  are:  St9  and  St10\n",
            "   The next states reached via symbol  1  are:  St8  and  St6\n",
            " \n",
            "Seeing if states  St8  and  St6  can now be distinguished by any symbol.\n",
            "   The next states reached via symbol  0  are:  St9  and  BH\n",
            "   The next states reached via symbol  1  are:  St8  and  St7\n",
            " \n",
            "Seeing if states  St8  and  St7  can now be distinguished by any symbol.\n",
            "   The next states reached via symbol  0  are:  St9  and  St9\n",
            "      Nope. Symbol  0  could not distinguish (the next states are the same).\n",
            "   The next states reached via symbol  1  are:  St8  and  St8\n",
            "      Nope. Symbol  1  could not distinguish (the next states are the same).\n",
            " \n",
            "Seeing if states  St5  and  St9  can now be distinguished by any symbol.\n",
            "   The next states reached via symbol  0  are:  BH  and  St10\n",
            "   The next states reached via symbol  1  are:  St7  and  St6\n",
            " \n",
            "Seeing if states  St5  and  St1  can now be distinguished by any symbol.\n",
            "   The next states reached via symbol  0  are:  BH  and  St3\n",
            "   The next states reached via symbol  1  are:  St7  and  St1\n",
            " \n",
            "Seeing if states  St5  and  St10  can now be distinguished by any symbol.\n",
            "   The next states reached via symbol  0  are:  BH  and  St10\n",
            "   The next states reached via symbol  1  are:  St7  and  St6\n",
            " \n",
            "Seeing if states  St5  and  St6  can now be distinguished by any symbol.\n",
            "   The next states reached via symbol  0  are:  BH  and  BH\n",
            "      Nope. Symbol  0  could not distinguish (the next states are the same).\n",
            "   The next states reached via symbol  1  are:  St7  and  St7\n",
            "      Nope. Symbol  1  could not distinguish (the next states are the same).\n",
            " \n",
            "Seeing if states  St5  and  St7  can now be distinguished by any symbol.\n",
            "   The next states reached via symbol  0  are:  BH  and  St9\n",
            "   The next states reached via symbol  1  are:  St7  and  St8\n",
            " \n",
            "Seeing if states  St9  and  St1  can now be distinguished by any symbol.\n",
            "   The next states reached via symbol  0  are:  St10  and  St3\n",
            "   The next states reached via symbol  1  are:  St6  and  St1\n",
            " \n",
            "Seeing if states  St9  and  St10  can now be distinguished by any symbol.\n",
            "   The next states reached via symbol  0  are:  St10  and  St10\n",
            "      Nope. Symbol  0  could not distinguish (the next states are the same).\n",
            "   The next states reached via symbol  1  are:  St6  and  St6\n",
            "      Nope. Symbol  1  could not distinguish (the next states are the same).\n",
            " \n",
            "Seeing if states  St9  and  St6  can now be distinguished by any symbol.\n",
            "   The next states reached via symbol  0  are:  St10  and  BH\n",
            "   The next states reached via symbol  1  are:  St6  and  St7\n",
            " \n",
            "Seeing if states  St9  and  St7  can now be distinguished by any symbol.\n",
            "   The next states reached via symbol  0  are:  St10  and  St9\n",
            "   The next states reached via symbol  1  are:  St6  and  St8\n",
            " \n",
            "Seeing if states  St1  and  St10  can now be distinguished by any symbol.\n",
            "   The next states reached via symbol  0  are:  St3  and  St10\n",
            "   The next states reached via symbol  1  are:  St1  and  St6\n",
            " \n",
            "Seeing if states  St1  and  St6  can now be distinguished by any symbol.\n",
            "   The next states reached via symbol  0  are:  St3  and  BH\n",
            "   The next states reached via symbol  1  are:  St1  and  St7\n",
            " \n",
            "Seeing if states  St1  and  St7  can now be distinguished by any symbol.\n",
            "   The next states reached via symbol  0  are:  St3  and  St9\n",
            "   Cannot distinguish yet, via  0\n",
            "   The next states reached via symbol  1  are:  St1  and  St8\n",
            "   Cannot distinguish yet, via  1\n",
            " \n",
            "Seeing if states  St10  and  St6  can now be distinguished by any symbol.\n",
            "   The next states reached via symbol  0  are:  St10  and  BH\n",
            "   The next states reached via symbol  1  are:  St6  and  St7\n",
            " \n",
            "Seeing if states  St10  and  St7  can now be distinguished by any symbol.\n",
            "   The next states reached via symbol  0  are:  St10  and  St9\n",
            "   The next states reached via symbol  1  are:  St6  and  St8\n",
            " \n",
            "Seeing if states  St6  and  St7  can now be distinguished by any symbol.\n",
            "   The next states reached via symbol  0  are:  BH  and  St9\n",
            "   The next states reached via symbol  1  are:  St7  and  St8\n",
            "*** The Dyn Prog tables have stabilized at the one below ***\n",
            "--------------------------------------------- \n",
            " Dyn Prog Table Version 2 is :\n",
            "--------------------------------------------- \n",
            "\t St4 \t .\n",
            "\t BH \t 0\t0\n",
            "\t St2 \t 2\t2\t0\n",
            "\t St8 \t 2\t2\t0\t.\n",
            "\t St5 \t 1\t1\t0\t1\t1\n",
            "\t St9 \t .\t.\t0\t2\t2\t1\n",
            "\t St1 \t 2\t2\t0\t.\t.\t1\t2\n",
            "\t St10 \t .\t.\t0\t2\t2\t1\t.\t2\n",
            "\t St6 \t 1\t1\t0\t1\t1\t.\t1\t1\t1\n",
            "\t St7 \t 2\t2\t0\t.\t.\t1\t2\t.\t2\t1\n",
            "\n",
            "\t\t St3\tSt4\tBH\tSt2\tSt8\tSt5\tSt9\tSt1\tSt10\tSt6\n",
            "--------------------------------------------- \n",
            " \n",
            "Now, collecting equivalence-classes.\n",
            "   The equivalent pairs are:\n",
            "   The merged equivalent classes and representative states are these:\n",
            "State  St5  represents the equivalent states  ['St5', 'St6']\n",
            "State  St3  represents the equivalent states  ['St3', 'St4', 'St9', 'St10']\n",
            "State  St2  represents the equivalent states  ['St2', 'St8', 'St1', 'St7']\n"
          ]
        }
      ],
      "source": [
        "no010_RE = min_dfa(nfa2dfa(re2nfa(REno010)), chatty=True)"
      ]
    },
    {
      "cell_type": "code",
      "execution_count": 74,
      "metadata": {
        "id": "LZc-A2zVaGb3",
        "outputId": "2a1ff92d-316f-4339-cf69-61e89ce02a6b",
        "colab": {
          "base_uri": "https://localhost:8080/",
          "height": 205
        }
      },
      "outputs": [
        {
          "output_type": "execute_result",
          "data": {
            "image/svg+xml": "<?xml version=\"1.0\" encoding=\"UTF-8\" standalone=\"no\"?>\n<!DOCTYPE svg PUBLIC \"-//W3C//DTD SVG 1.1//EN\"\n \"http://www.w3.org/Graphics/SVG/1.1/DTD/svg11.dtd\">\n<!-- Generated by graphviz version 2.43.0 (0)\n -->\n<!-- Title: %3 Pages: 1 -->\n<svg width=\"353pt\" height=\"138pt\"\n viewBox=\"0.00 0.00 353.49 138.50\" xmlns=\"http://www.w3.org/2000/svg\" xmlns:xlink=\"http://www.w3.org/1999/xlink\">\n<g id=\"graph0\" class=\"graph\" transform=\"scale(1 1) rotate(0) translate(4 134.5)\">\n<title>%3</title>\n<polygon fill=\"white\" stroke=\"transparent\" points=\"-4,4 -4,-134.5 349.49,-134.5 349.49,4 -4,4\"/>\n<!-- EMPTY -->\n<g id=\"node1\" class=\"node\">\n<title>EMPTY</title>\n</g>\n<!-- St2 -->\n<g id=\"node2\" class=\"node\">\n<title>St2</title>\n<ellipse fill=\"none\" stroke=\"black\" cx=\"117.75\" cy=\"-26.75\" rx=\"22.96\" ry=\"22.96\"/>\n<ellipse fill=\"none\" stroke=\"black\" cx=\"117.75\" cy=\"-26.75\" rx=\"27\" ry=\"27\"/>\n<text text-anchor=\"middle\" x=\"117.75\" y=\"-23.05\" font-family=\"Times,serif\" font-size=\"14.00\">St2</text>\n</g>\n<!-- EMPTY&#45;&gt;St2 -->\n<g id=\"edge1\" class=\"edge\">\n<title>EMPTY&#45;&gt;St2</title>\n<path fill=\"none\" stroke=\"black\" d=\"M54.15,-26.75C62.45,-26.75 71.79,-26.75 80.67,-26.75\"/>\n<polygon fill=\"black\" stroke=\"black\" points=\"80.79,-30.25 90.79,-26.75 80.79,-23.25 80.79,-30.25\"/>\n</g>\n<!-- St2&#45;&gt;St2 -->\n<g id=\"edge3\" class=\"edge\">\n<title>St2&#45;&gt;St2</title>\n<path fill=\"none\" stroke=\"black\" d=\"M109.55,-52.5C109.09,-62.83 111.82,-71.5 117.75,-71.5 121.55,-71.5 124.03,-67.94 125.21,-62.67\"/>\n<polygon fill=\"black\" stroke=\"black\" points=\"128.71,-62.73 125.95,-52.5 121.73,-62.22 128.71,-62.73\"/>\n<text text-anchor=\"middle\" x=\"117.75\" y=\"-75.3\" font-family=\"Times,serif\" font-size=\"14.00\">1 </text>\n</g>\n<!-- St3 -->\n<g id=\"node3\" class=\"node\">\n<title>St3</title>\n<ellipse fill=\"none\" stroke=\"black\" cx=\"218.24\" cy=\"-70.75\" rx=\"22.96\" ry=\"22.96\"/>\n<ellipse fill=\"none\" stroke=\"black\" cx=\"218.24\" cy=\"-70.75\" rx=\"27\" ry=\"27\"/>\n<text text-anchor=\"middle\" x=\"218.24\" y=\"-67.05\" font-family=\"Times,serif\" font-size=\"14.00\">St3</text>\n</g>\n<!-- St2&#45;&gt;St3 -->\n<g id=\"edge2\" class=\"edge\">\n<title>St2&#45;&gt;St3</title>\n<path fill=\"none\" stroke=\"black\" d=\"M142.34,-37.29C154.92,-42.91 170.59,-49.91 184.35,-56.05\"/>\n<polygon fill=\"black\" stroke=\"black\" points=\"182.94,-59.26 193.5,-60.14 185.8,-52.87 182.94,-59.26\"/>\n<text text-anchor=\"middle\" x=\"168\" y=\"-53.55\" font-family=\"Times,serif\" font-size=\"14.00\">0 </text>\n</g>\n<!-- St3&#45;&gt;St3 -->\n<g id=\"edge4\" class=\"edge\">\n<title>St3&#45;&gt;St3</title>\n<path fill=\"none\" stroke=\"black\" d=\"M208.95,-96.05C208.31,-106.57 211.41,-115.5 218.24,-115.5 222.73,-115.5 225.61,-111.65 226.87,-106.04\"/>\n<polygon fill=\"black\" stroke=\"black\" points=\"230.37,-106.26 227.54,-96.05 223.38,-105.79 230.37,-106.26\"/>\n<text text-anchor=\"middle\" x=\"218.24\" y=\"-119.3\" font-family=\"Times,serif\" font-size=\"14.00\">0 </text>\n</g>\n<!-- St5 -->\n<g id=\"node4\" class=\"node\">\n<title>St5</title>\n<ellipse fill=\"none\" stroke=\"black\" cx=\"318.74\" cy=\"-26.75\" rx=\"22.96\" ry=\"22.96\"/>\n<ellipse fill=\"none\" stroke=\"black\" cx=\"318.74\" cy=\"-26.75\" rx=\"27\" ry=\"27\"/>\n<text text-anchor=\"middle\" x=\"318.74\" y=\"-23.05\" font-family=\"Times,serif\" font-size=\"14.00\">St5</text>\n</g>\n<!-- St3&#45;&gt;St5 -->\n<g id=\"edge5\" class=\"edge\">\n<title>St3&#45;&gt;St5</title>\n<path fill=\"none\" stroke=\"black\" d=\"M242.84,-60.21C255.41,-54.59 271.09,-47.59 284.84,-41.44\"/>\n<polygon fill=\"black\" stroke=\"black\" points=\"286.3,-44.63 294,-37.35 283.44,-38.24 286.3,-44.63\"/>\n<text text-anchor=\"middle\" x=\"268.49\" y=\"-53.55\" font-family=\"Times,serif\" font-size=\"14.00\">1 </text>\n</g>\n<!-- St5&#45;&gt;St2 -->\n<g id=\"edge6\" class=\"edge\">\n<title>St5&#45;&gt;St2</title>\n<path fill=\"none\" stroke=\"black\" d=\"M291.86,-23.65C277.98,-22.14 260.58,-20.5 244.99,-19.75 221.24,-18.61 215.24,-18.61 191.5,-19.75 179.56,-20.32 166.56,-21.42 154.9,-22.58\"/>\n<polygon fill=\"black\" stroke=\"black\" points=\"154.21,-19.13 144.63,-23.65 154.94,-26.09 154.21,-19.13\"/>\n<text text-anchor=\"middle\" x=\"218.24\" y=\"-23.55\" font-family=\"Times,serif\" font-size=\"14.00\">1 </text>\n</g>\n</g>\n</svg>\n",
            "text/plain": [
              "<graphviz.graphs.Digraph at 0x7d05622341f0>"
            ]
          },
          "metadata": {},
          "execution_count": 74
        }
      ],
      "source": [
        "dotObj_dfa(no010_RE)"
      ]
    },
    {
      "cell_type": "code",
      "source": [],
      "metadata": {
        "id": "orwa1cswYHvz"
      },
      "execution_count": 74,
      "outputs": []
    },
    {
      "cell_type": "code",
      "execution_count": 75,
      "metadata": {
        "id": "BEnavFBgaGb3"
      },
      "outputs": [],
      "source": [
        "nfano010 = dfa2nfa(no010)"
      ]
    },
    {
      "cell_type": "markdown",
      "source": [
        "# ==> mk_gnfa and del_gnfa_states <=="
      ],
      "metadata": {
        "id": "uuO2FPBFYCRT"
      }
    },
    {
      "cell_type": "code",
      "execution_count": 76,
      "metadata": {
        "id": "PPBGNFZgaGb4",
        "outputId": "21f8dea1-888a-4023-a047-7095dca33bcc",
        "colab": {
          "base_uri": "https://localhost:8080/",
          "height": 194
        }
      },
      "outputs": [
        {
          "output_type": "execute_result",
          "data": {
            "image/svg+xml": "<?xml version=\"1.0\" encoding=\"UTF-8\" standalone=\"no\"?>\n<!DOCTYPE svg PUBLIC \"-//W3C//DTD SVG 1.1//EN\"\n \"http://www.w3.org/Graphics/SVG/1.1/DTD/svg11.dtd\">\n<!-- Generated by graphviz version 2.43.0 (0)\n -->\n<!-- Title: %3 Pages: 1 -->\n<svg width=\"428pt\" height=\"130pt\"\n viewBox=\"0.00 0.00 427.79 130.30\" xmlns=\"http://www.w3.org/2000/svg\" xmlns:xlink=\"http://www.w3.org/1999/xlink\">\n<g id=\"graph0\" class=\"graph\" transform=\"scale(1 1) rotate(0) translate(4 126.3)\">\n<title>%3</title>\n<polygon fill=\"white\" stroke=\"transparent\" points=\"-4,4 -4,-126.3 423.79,-126.3 423.79,4 -4,4\"/>\n<!-- EMPTY -->\n<g id=\"node1\" class=\"node\">\n<title>EMPTY</title>\n</g>\n<!-- IF -->\n<g id=\"node3\" class=\"node\">\n<title>IF</title>\n<ellipse fill=\"none\" stroke=\"black\" cx=\"113.85\" cy=\"-24.15\" rx=\"18.72\" ry=\"18.72\"/>\n<ellipse fill=\"none\" stroke=\"black\" cx=\"113.85\" cy=\"-24.15\" rx=\"22.7\" ry=\"22.7\"/>\n<text text-anchor=\"middle\" x=\"113.85\" y=\"-20.45\" font-family=\"Times,serif\" font-size=\"14.00\">IF</text>\n</g>\n<!-- EMPTY&#45;&gt;IF -->\n<g id=\"edge1\" class=\"edge\">\n<title>EMPTY&#45;&gt;IF</title>\n<path fill=\"none\" stroke=\"black\" d=\"M54.38,-24.15C62.68,-24.15 71.94,-24.15 80.6,-24.15\"/>\n<polygon fill=\"black\" stroke=\"black\" points=\"80.76,-27.65 90.76,-24.15 80.76,-20.65 80.76,-27.65\"/>\n</g>\n<!-- BH -->\n<g id=\"node2\" class=\"node\">\n<title>BH</title>\n<ellipse fill=\"none\" stroke=\"black\" cx=\"397.04\" cy=\"-24.15\" rx=\"23\" ry=\"23\"/>\n<text text-anchor=\"middle\" x=\"397.04\" y=\"-20.45\" font-family=\"Times,serif\" font-size=\"14.00\">BH</text>\n</g>\n<!-- BH&#45;&gt;BH -->\n<g id=\"edge8\" class=\"edge\">\n<title>BH&#45;&gt;BH</title>\n<path fill=\"none\" stroke=\"black\" d=\"M392.78,-46.78C392.43,-56.54 393.85,-64.9 397.04,-64.9 399.03,-64.9 400.33,-61.63 400.94,-56.8\"/>\n<polygon fill=\"black\" stroke=\"black\" points=\"404.44,-56.89 401.3,-46.78 397.45,-56.65 404.44,-56.89\"/>\n<text text-anchor=\"middle\" x=\"397.04\" y=\"-68.7\" font-family=\"Times,serif\" font-size=\"14.00\">0 </text>\n</g>\n<!-- BH&#45;&gt;BH -->\n<g id=\"edge9\" class=\"edge\">\n<title>BH&#45;&gt;BH</title>\n<path fill=\"none\" stroke=\"black\" d=\"M389.73,-45.84C386.61,-63.96 389.04,-82.9 397.04,-82.9 403.53,-82.9 406.36,-70.4 405.52,-55.99\"/>\n<polygon fill=\"black\" stroke=\"black\" points=\"408.97,-55.37 404.35,-45.84 402.02,-56.18 408.97,-55.37\"/>\n<text text-anchor=\"middle\" x=\"397.04\" y=\"-86.7\" font-family=\"Times,serif\" font-size=\"14.00\">1 </text>\n</g>\n<!-- IF&#45;&gt;IF -->\n<g id=\"edge2\" class=\"edge\">\n<title>IF&#45;&gt;IF</title>\n<path fill=\"none\" stroke=\"black\" d=\"M106.5,-46C105.69,-56.14 108.15,-65 113.85,-65 117.5,-65 119.82,-61.36 120.8,-56.08\"/>\n<polygon fill=\"black\" stroke=\"black\" points=\"124.31,-56.13 121.2,-46 117.31,-55.86 124.31,-56.13\"/>\n<text text-anchor=\"middle\" x=\"113.85\" y=\"-68.8\" font-family=\"Times,serif\" font-size=\"14.00\">1 </text>\n</g>\n<!-- F0 -->\n<g id=\"node5\" class=\"node\">\n<title>F0</title>\n<ellipse fill=\"none\" stroke=\"black\" cx=\"207.84\" cy=\"-65.15\" rx=\"20.27\" ry=\"20.27\"/>\n<ellipse fill=\"none\" stroke=\"black\" cx=\"207.84\" cy=\"-65.15\" rx=\"24.3\" ry=\"24.3\"/>\n<text text-anchor=\"middle\" x=\"207.84\" y=\"-61.45\" font-family=\"Times,serif\" font-size=\"14.00\">F0</text>\n</g>\n<!-- IF&#45;&gt;F0 -->\n<g id=\"edge3\" class=\"edge\">\n<title>IF&#45;&gt;F0</title>\n<path fill=\"none\" stroke=\"black\" d=\"M135.27,-33.25C147.28,-38.6 162.7,-45.48 176.16,-51.47\"/>\n<polygon fill=\"black\" stroke=\"black\" points=\"174.97,-54.77 185.53,-55.65 177.82,-48.38 174.97,-54.77\"/>\n<text text-anchor=\"middle\" x=\"160.2\" y=\"-48.95\" font-family=\"Times,serif\" font-size=\"14.00\">0 </text>\n</g>\n<!-- F1 -->\n<g id=\"node4\" class=\"node\">\n<title>F1</title>\n<ellipse fill=\"none\" stroke=\"black\" cx=\"303.14\" cy=\"-24.15\" rx=\"20.27\" ry=\"20.27\"/>\n<ellipse fill=\"none\" stroke=\"black\" cx=\"303.14\" cy=\"-24.15\" rx=\"24.3\" ry=\"24.3\"/>\n<text text-anchor=\"middle\" x=\"303.14\" y=\"-20.45\" font-family=\"Times,serif\" font-size=\"14.00\">F1</text>\n</g>\n<!-- F1&#45;&gt;BH -->\n<g id=\"edge6\" class=\"edge\">\n<title>F1&#45;&gt;BH</title>\n<path fill=\"none\" stroke=\"black\" d=\"M327.33,-24.15C338.43,-24.15 351.91,-24.15 363.98,-24.15\"/>\n<polygon fill=\"black\" stroke=\"black\" points=\"364.12,-27.65 374.12,-24.15 364.12,-20.65 364.12,-27.65\"/>\n<text text-anchor=\"middle\" x=\"350.79\" y=\"-27.95\" font-family=\"Times,serif\" font-size=\"14.00\">0 </text>\n</g>\n<!-- F1&#45;&gt;IF -->\n<g id=\"edge7\" class=\"edge\">\n<title>F1&#45;&gt;IF</title>\n<path fill=\"none\" stroke=\"black\" d=\"M279.12,-21.27C265.45,-19.7 247.76,-17.93 231.99,-17.15 210.55,-16.08 205.13,-16.06 183.7,-17.15 171.66,-17.76 158.49,-18.96 146.92,-20.21\"/>\n<polygon fill=\"black\" stroke=\"black\" points=\"146.37,-16.75 136.82,-21.34 147.15,-23.7 146.37,-16.75\"/>\n<text text-anchor=\"middle\" x=\"207.84\" y=\"-20.95\" font-family=\"Times,serif\" font-size=\"14.00\">1 </text>\n</g>\n<!-- F0&#45;&gt;F1 -->\n<g id=\"edge5\" class=\"edge\">\n<title>F0&#45;&gt;F1</title>\n<path fill=\"none\" stroke=\"black\" d=\"M230.48,-55.64C242.61,-50.31 257.94,-43.57 271.31,-37.7\"/>\n<polygon fill=\"black\" stroke=\"black\" points=\"272.87,-40.83 280.62,-33.61 270.06,-34.42 272.87,-40.83\"/>\n<text text-anchor=\"middle\" x=\"255.49\" y=\"-48.95\" font-family=\"Times,serif\" font-size=\"14.00\">1 </text>\n</g>\n<!-- F0&#45;&gt;F0 -->\n<g id=\"edge4\" class=\"edge\">\n<title>F0&#45;&gt;F0</title>\n<path fill=\"none\" stroke=\"black\" d=\"M199.35,-88.13C198.55,-98.41 201.38,-107.3 207.84,-107.3 211.99,-107.3 214.64,-103.65 215.8,-98.32\"/>\n<polygon fill=\"black\" stroke=\"black\" points=\"219.3,-98.3 216.34,-88.13 212.31,-97.93 219.3,-98.3\"/>\n<text text-anchor=\"middle\" x=\"207.84\" y=\"-111.1\" font-family=\"Times,serif\" font-size=\"14.00\">0 </text>\n</g>\n</g>\n</svg>\n",
            "text/plain": [
              "<graphviz.graphs.Digraph at 0x7d0562234940>"
            ]
          },
          "metadata": {},
          "execution_count": 76
        }
      ],
      "source": [
        "dotObj_nfa(nfano010)"
      ]
    },
    {
      "cell_type": "code",
      "execution_count": 77,
      "metadata": {
        "id": "P02WOxkPaGb4"
      },
      "outputs": [],
      "source": [
        "gnfa010 = mk_gnfa(nfano010)"
      ]
    },
    {
      "cell_type": "code",
      "execution_count": 78,
      "metadata": {
        "id": "2hdmgTsQaGb4",
        "outputId": "8e3a8fd7-70f1-40f0-c490-cc12a40eecbd",
        "colab": {
          "base_uri": "https://localhost:8080/",
          "height": 316
        }
      },
      "outputs": [
        {
          "output_type": "execute_result",
          "data": {
            "image/svg+xml": "<?xml version=\"1.0\" encoding=\"UTF-8\" standalone=\"no\"?>\n<!DOCTYPE svg PUBLIC \"-//W3C//DTD SVG 1.1//EN\"\n \"http://www.w3.org/Graphics/SVG/1.1/DTD/svg11.dtd\">\n<!-- Generated by graphviz version 2.43.0 (0)\n -->\n<!-- Title: %3 Pages: 1 -->\n<svg width=\"553pt\" height=\"221pt\"\n viewBox=\"0.00 0.00 552.98 220.75\" xmlns=\"http://www.w3.org/2000/svg\" xmlns:xlink=\"http://www.w3.org/1999/xlink\">\n<g id=\"graph0\" class=\"graph\" transform=\"scale(1 1) rotate(0) translate(4 216.75)\">\n<title>%3</title>\n<polygon fill=\"white\" stroke=\"transparent\" points=\"-4,4 -4,-216.75 548.98,-216.75 548.98,4 -4,4\"/>\n<!-- EMPTY -->\n<g id=\"node1\" class=\"node\">\n<title>EMPTY</title>\n</g>\n<!-- Real_I -->\n<g id=\"node6\" class=\"node\">\n<title>Real_I</title>\n<ellipse fill=\"none\" stroke=\"black\" cx=\"125.45\" cy=\"-123.75\" rx=\"34.39\" ry=\"34.39\"/>\n<text text-anchor=\"middle\" x=\"125.45\" y=\"-120.05\" font-family=\"Times,serif\" font-size=\"14.00\">Real_I</text>\n</g>\n<!-- EMPTY&#45;&gt;Real_I -->\n<g id=\"edge1\" class=\"edge\">\n<title>EMPTY&#45;&gt;Real_I</title>\n<path fill=\"none\" stroke=\"black\" d=\"M54.1,-123.75C62.29,-123.75 71.56,-123.75 80.63,-123.75\"/>\n<polygon fill=\"black\" stroke=\"black\" points=\"80.7,-127.25 90.7,-123.75 80.7,-120.25 80.7,-127.25\"/>\n</g>\n<!-- IF -->\n<g id=\"node2\" class=\"node\">\n<title>IF</title>\n<ellipse fill=\"none\" stroke=\"black\" cx=\"223.74\" cy=\"-123.75\" rx=\"18.7\" ry=\"18.7\"/>\n<text text-anchor=\"middle\" x=\"223.74\" y=\"-120.05\" font-family=\"Times,serif\" font-size=\"14.00\">IF</text>\n</g>\n<!-- IF&#45;&gt;IF -->\n<g id=\"edge2\" class=\"edge\">\n<title>IF&#45;&gt;IF</title>\n<path fill=\"none\" stroke=\"black\" d=\"M216.6,-141.57C215.27,-151.47 217.65,-160.6 223.74,-160.6 227.55,-160.6 229.91,-157.03 230.82,-151.94\"/>\n<polygon fill=\"black\" stroke=\"black\" points=\"234.32,-151.59 230.88,-141.57 227.32,-151.55 234.32,-151.59\"/>\n<text text-anchor=\"middle\" x=\"223.74\" y=\"-164.4\" font-family=\"Times,serif\" font-size=\"14.00\">1 </text>\n</g>\n<!-- F0 -->\n<g id=\"node5\" class=\"node\">\n<title>F0</title>\n<ellipse fill=\"none\" stroke=\"black\" cx=\"309.74\" cy=\"-123.75\" rx=\"20.3\" ry=\"20.3\"/>\n<text text-anchor=\"middle\" x=\"309.74\" y=\"-120.05\" font-family=\"Times,serif\" font-size=\"14.00\">F0</text>\n</g>\n<!-- IF&#45;&gt;F0 -->\n<g id=\"edge3\" class=\"edge\">\n<title>IF&#45;&gt;F0</title>\n<path fill=\"none\" stroke=\"black\" d=\"M242.97,-123.75C253.57,-123.75 267.18,-123.75 279.26,-123.75\"/>\n<polygon fill=\"black\" stroke=\"black\" points=\"279.38,-127.25 289.38,-123.75 279.38,-120.25 279.38,-127.25\"/>\n<text text-anchor=\"middle\" x=\"266.09\" y=\"-127.55\" font-family=\"Times,serif\" font-size=\"14.00\">0 </text>\n</g>\n<!-- Real_F -->\n<g id=\"node7\" class=\"node\">\n<title>Real_F</title>\n<ellipse fill=\"none\" stroke=\"black\" cx=\"504.58\" cy=\"-169.75\" rx=\"36.3\" ry=\"36.3\"/>\n<ellipse fill=\"none\" stroke=\"black\" cx=\"504.58\" cy=\"-169.75\" rx=\"40.29\" ry=\"40.29\"/>\n<text text-anchor=\"middle\" x=\"504.58\" y=\"-166.05\" font-family=\"Times,serif\" font-size=\"14.00\">Real_F</text>\n</g>\n<!-- IF&#45;&gt;Real_F -->\n<g id=\"edge11\" class=\"edge\">\n<title>IF&#45;&gt;Real_F</title>\n<path fill=\"none\" stroke=\"black\" d=\"M235.08,-138.89C246.42,-154.02 266.17,-176.35 289.59,-185.75 343.76,-207.47 411.76,-196.62 456.38,-184.92\"/>\n<polygon fill=\"black\" stroke=\"black\" points=\"457.37,-188.28 466.09,-182.27 455.52,-181.53 457.37,-188.28\"/>\n<text text-anchor=\"middle\" x=\"353.39\" y=\"-201.55\" font-family=\"Times,serif\" font-size=\"14.00\">&#39;&#39; </text>\n</g>\n<!-- BH -->\n<g id=\"node3\" class=\"node\">\n<title>BH</title>\n<ellipse fill=\"none\" stroke=\"black\" cx=\"504.58\" cy=\"-22.75\" rx=\"23\" ry=\"23\"/>\n<text text-anchor=\"middle\" x=\"504.58\" y=\"-19.05\" font-family=\"Times,serif\" font-size=\"14.00\">BH</text>\n</g>\n<!-- BH&#45;&gt;BH -->\n<g id=\"edge8\" class=\"edge\">\n<title>BH&#45;&gt;BH</title>\n<path fill=\"none\" stroke=\"black\" d=\"M498.86,-44.96C498.31,-54.9 500.22,-63.5 504.58,-63.5 507.3,-63.5 509.07,-60.14 509.88,-55.19\"/>\n<polygon fill=\"black\" stroke=\"black\" points=\"513.39,-55.1 510.3,-44.96 506.39,-54.81 513.39,-55.1\"/>\n<text text-anchor=\"middle\" x=\"504.58\" y=\"-67.3\" font-family=\"Times,serif\" font-size=\"14.00\">0 </text>\n</g>\n<!-- BH&#45;&gt;BH -->\n<g id=\"edge9\" class=\"edge\">\n<title>BH&#45;&gt;BH</title>\n<path fill=\"none\" stroke=\"black\" d=\"M494.95,-43.52C490.41,-61.92 493.62,-81.5 504.58,-81.5 513.57,-81.5 517.35,-68.32 515.91,-53.43\"/>\n<polygon fill=\"black\" stroke=\"black\" points=\"519.35,-52.79 514.21,-43.52 512.45,-53.97 519.35,-52.79\"/>\n<text text-anchor=\"middle\" x=\"504.58\" y=\"-85.3\" font-family=\"Times,serif\" font-size=\"14.00\">1 </text>\n</g>\n<!-- F1 -->\n<g id=\"node4\" class=\"node\">\n<title>F1</title>\n<ellipse fill=\"none\" stroke=\"black\" cx=\"397.04\" cy=\"-93.75\" rx=\"20.3\" ry=\"20.3\"/>\n<text text-anchor=\"middle\" x=\"397.04\" y=\"-90.05\" font-family=\"Times,serif\" font-size=\"14.00\">F1</text>\n</g>\n<!-- F1&#45;&gt;IF -->\n<g id=\"edge7\" class=\"edge\">\n<title>F1&#45;&gt;IF</title>\n<path fill=\"none\" stroke=\"black\" d=\"M377.94,-86.79C356.45,-79.56 319.7,-70.5 289.59,-79.75 273.68,-84.64 258.17,-94.9 246.31,-104.28\"/>\n<polygon fill=\"black\" stroke=\"black\" points=\"243.83,-101.79 238.37,-110.87 248.3,-107.18 243.83,-101.79\"/>\n<text text-anchor=\"middle\" x=\"309.74\" y=\"-83.55\" font-family=\"Times,serif\" font-size=\"14.00\">1 </text>\n</g>\n<!-- F1&#45;&gt;BH -->\n<g id=\"edge6\" class=\"edge\">\n<title>F1&#45;&gt;BH</title>\n<path fill=\"none\" stroke=\"black\" d=\"M414.07,-82.96C430.74,-71.75 457.14,-53.99 476.96,-40.66\"/>\n<polygon fill=\"black\" stroke=\"black\" points=\"478.92,-43.55 485.27,-35.07 475.02,-37.74 478.92,-43.55\"/>\n<text text-anchor=\"middle\" x=\"440.68\" y=\"-73.55\" font-family=\"Times,serif\" font-size=\"14.00\">0 </text>\n</g>\n<!-- F1&#45;&gt;Real_F -->\n<g id=\"edge13\" class=\"edge\">\n<title>F1&#45;&gt;Real_F</title>\n<path fill=\"none\" stroke=\"black\" d=\"M414.84,-103.55C424.24,-109.19 436.06,-116.57 446.18,-123.75 452.34,-128.11 458.72,-132.92 464.88,-137.72\"/>\n<polygon fill=\"black\" stroke=\"black\" points=\"463.1,-140.77 473.12,-144.23 467.45,-135.28 463.1,-140.77\"/>\n<text text-anchor=\"middle\" x=\"440.68\" y=\"-127.55\" font-family=\"Times,serif\" font-size=\"14.00\">&#39;&#39; </text>\n</g>\n<!-- F0&#45;&gt;F1 -->\n<g id=\"edge5\" class=\"edge\">\n<title>F0&#45;&gt;F1</title>\n<path fill=\"none\" stroke=\"black\" d=\"M329.25,-117.24C340.61,-113.24 355.39,-108.04 368.16,-103.55\"/>\n<polygon fill=\"black\" stroke=\"black\" points=\"369.58,-106.76 377.86,-100.14 367.26,-100.16 369.58,-106.76\"/>\n<text text-anchor=\"middle\" x=\"353.39\" y=\"-113.55\" font-family=\"Times,serif\" font-size=\"14.00\">1 </text>\n</g>\n<!-- F0&#45;&gt;F0 -->\n<g id=\"edge4\" class=\"edge\">\n<title>F0&#45;&gt;F0</title>\n<path fill=\"none\" stroke=\"black\" d=\"M302.19,-142.59C300.91,-152.69 303.42,-161.9 309.74,-161.9 313.79,-161.9 316.27,-158.12 317.2,-152.75\"/>\n<polygon fill=\"black\" stroke=\"black\" points=\"320.7,-152.62 317.29,-142.59 313.7,-152.56 320.7,-152.62\"/>\n<text text-anchor=\"middle\" x=\"309.74\" y=\"-165.7\" font-family=\"Times,serif\" font-size=\"14.00\">0 </text>\n</g>\n<!-- F0&#45;&gt;Real_F -->\n<g id=\"edge12\" class=\"edge\">\n<title>F0&#45;&gt;Real_F</title>\n<path fill=\"none\" stroke=\"black\" d=\"M329.58,-128.24C358.47,-135.13 414.65,-148.53 455.37,-158.25\"/>\n<polygon fill=\"black\" stroke=\"black\" points=\"454.57,-161.65 465.11,-160.57 456.19,-154.85 454.57,-161.65\"/>\n<text text-anchor=\"middle\" x=\"397.04\" y=\"-152.55\" font-family=\"Times,serif\" font-size=\"14.00\">&#39;&#39; </text>\n</g>\n<!-- Real_I&#45;&gt;IF -->\n<g id=\"edge10\" class=\"edge\">\n<title>Real_I&#45;&gt;IF</title>\n<path fill=\"none\" stroke=\"black\" d=\"M160.13,-123.75C171.35,-123.75 183.74,-123.75 194.51,-123.75\"/>\n<polygon fill=\"black\" stroke=\"black\" points=\"194.64,-127.25 204.64,-123.75 194.64,-120.25 194.64,-127.25\"/>\n<text text-anchor=\"middle\" x=\"182.39\" y=\"-127.55\" font-family=\"Times,serif\" font-size=\"14.00\">&#39;&#39; </text>\n</g>\n</g>\n</svg>\n",
            "text/plain": [
              "<graphviz.graphs.Digraph at 0x7d0562235a50>"
            ]
          },
          "metadata": {},
          "execution_count": 78
        }
      ],
      "source": [
        "dotObj_gnfa(gnfa010)"
      ]
    },
    {
      "cell_type": "code",
      "execution_count": 79,
      "metadata": {
        "id": "ickG3TqqaGb4",
        "outputId": "40f7a2d7-7a65-44a0-f49d-27ea7e23ac80",
        "colab": {
          "base_uri": "https://localhost:8080/"
        }
      },
      "outputs": [
        {
          "output_type": "stream",
          "name": "stdout",
          "text": [
            "Help on function del_gnfa_states in module jove.Def_NFA2RE:\n",
            "\n",
            "del_gnfa_states(Gin, DelList=[])\n",
            "    Given a GNFA Gin with no unreachable states, \n",
            "    delete all states but f\n",
            "    or Real_I and Real_F.\n",
            "    If DelList is given, follow the state deletion\n",
            "    order mentioned therein; else choose order internally.\n",
            "    \n",
            "    Return a triple (Gfinal, dotObj_List, final_re_str), where\n",
            "      Gfinal       : the final GNFA\n",
            "      dotObj_List  : a list of Dot objects recording the process of\n",
            "                     deleting states and forming intermediate REs\n",
            "      final_re_str : the final RE as a string (ready to be fed to  \n",
            "                     re2nfa for converting back to an NFA)\n",
            "\n"
          ]
        }
      ],
      "source": [
        "help(del_gnfa_states)"
      ]
    },
    {
      "cell_type": "code",
      "execution_count": 80,
      "metadata": {
        "id": "nQ91R3-2aGb4",
        "outputId": "f2220c31-232a-4bf8-f7a7-0d29d09989d0",
        "colab": {
          "base_uri": "https://localhost:8080/"
        }
      },
      "outputs": [
        {
          "output_type": "stream",
          "name": "stdout",
          "text": [
            "**** Eliminating state IF ****\n",
            "**** Eliminating state BH ****\n",
            "**** Eliminating state F1 ****\n",
            "**** Eliminating state F0 ****\n"
          ]
        }
      ],
      "source": [
        "(GF,DO,RE) = del_gnfa_states(gnfa010)"
      ]
    },
    {
      "cell_type": "code",
      "execution_count": 81,
      "metadata": {
        "id": "QPmu_hK0aGb4",
        "outputId": "ea821afe-961a-4c40-c4c2-56ffb9237b78",
        "colab": {
          "base_uri": "https://localhost:8080/",
          "height": 35
        }
      },
      "outputs": [
        {
          "output_type": "execute_result",
          "data": {
            "text/plain": [
              "'(((((1)* 0) (((((1 (1 ((1)* 0))) + 0) + 0))* (((1 (((1 (1)*) + \"\") + \"\")) + \"\") + \"\"))) + (1)*) + (1)*)'"
            ],
            "application/vnd.google.colaboratory.intrinsic+json": {
              "type": "string"
            }
          },
          "metadata": {},
          "execution_count": 81
        }
      ],
      "source": [
        "RE"
      ]
    },
    {
      "cell_type": "code",
      "execution_count": 82,
      "metadata": {
        "scrolled": true,
        "id": "beof2WZpaGb4",
        "outputId": "5a022a10-100d-46de-fd74-b48b5996493b",
        "colab": {
          "base_uri": "https://localhost:8080/",
          "height": 316
        }
      },
      "outputs": [
        {
          "output_type": "execute_result",
          "data": {
            "image/svg+xml": "<?xml version=\"1.0\" encoding=\"UTF-8\" standalone=\"no\"?>\n<!DOCTYPE svg PUBLIC \"-//W3C//DTD SVG 1.1//EN\"\n \"http://www.w3.org/Graphics/SVG/1.1/DTD/svg11.dtd\">\n<!-- Generated by graphviz version 2.43.0 (0)\n -->\n<!-- Title: %3 Pages: 1 -->\n<svg width=\"553pt\" height=\"221pt\"\n viewBox=\"0.00 0.00 552.98 220.75\" xmlns=\"http://www.w3.org/2000/svg\" xmlns:xlink=\"http://www.w3.org/1999/xlink\">\n<g id=\"graph0\" class=\"graph\" transform=\"scale(1 1) rotate(0) translate(4 216.75)\">\n<title>%3</title>\n<polygon fill=\"white\" stroke=\"transparent\" points=\"-4,4 -4,-216.75 548.98,-216.75 548.98,4 -4,4\"/>\n<!-- EMPTY -->\n<g id=\"node1\" class=\"node\">\n<title>EMPTY</title>\n</g>\n<!-- Real_I -->\n<g id=\"node6\" class=\"node\">\n<title>Real_I</title>\n<ellipse fill=\"none\" stroke=\"black\" cx=\"125.45\" cy=\"-123.75\" rx=\"34.39\" ry=\"34.39\"/>\n<text text-anchor=\"middle\" x=\"125.45\" y=\"-120.05\" font-family=\"Times,serif\" font-size=\"14.00\">Real_I</text>\n</g>\n<!-- EMPTY&#45;&gt;Real_I -->\n<g id=\"edge1\" class=\"edge\">\n<title>EMPTY&#45;&gt;Real_I</title>\n<path fill=\"none\" stroke=\"black\" d=\"M54.1,-123.75C62.29,-123.75 71.56,-123.75 80.63,-123.75\"/>\n<polygon fill=\"black\" stroke=\"black\" points=\"80.7,-127.25 90.7,-123.75 80.7,-120.25 80.7,-127.25\"/>\n</g>\n<!-- IF -->\n<g id=\"node2\" class=\"node\">\n<title>IF</title>\n<ellipse fill=\"none\" stroke=\"black\" cx=\"223.74\" cy=\"-123.75\" rx=\"18.7\" ry=\"18.7\"/>\n<text text-anchor=\"middle\" x=\"223.74\" y=\"-120.05\" font-family=\"Times,serif\" font-size=\"14.00\">IF</text>\n</g>\n<!-- IF&#45;&gt;IF -->\n<g id=\"edge2\" class=\"edge\">\n<title>IF&#45;&gt;IF</title>\n<path fill=\"none\" stroke=\"black\" d=\"M216.6,-141.57C215.27,-151.47 217.65,-160.6 223.74,-160.6 227.55,-160.6 229.91,-157.03 230.82,-151.94\"/>\n<polygon fill=\"black\" stroke=\"black\" points=\"234.32,-151.59 230.88,-141.57 227.32,-151.55 234.32,-151.59\"/>\n<text text-anchor=\"middle\" x=\"223.74\" y=\"-164.4\" font-family=\"Times,serif\" font-size=\"14.00\">1 </text>\n</g>\n<!-- F0 -->\n<g id=\"node4\" class=\"node\">\n<title>F0</title>\n<ellipse fill=\"none\" stroke=\"black\" cx=\"309.74\" cy=\"-123.75\" rx=\"20.3\" ry=\"20.3\"/>\n<text text-anchor=\"middle\" x=\"309.74\" y=\"-120.05\" font-family=\"Times,serif\" font-size=\"14.00\">F0</text>\n</g>\n<!-- IF&#45;&gt;F0 -->\n<g id=\"edge3\" class=\"edge\">\n<title>IF&#45;&gt;F0</title>\n<path fill=\"none\" stroke=\"black\" d=\"M242.97,-123.75C253.57,-123.75 267.18,-123.75 279.26,-123.75\"/>\n<polygon fill=\"black\" stroke=\"black\" points=\"279.38,-127.25 289.38,-123.75 279.38,-120.25 279.38,-127.25\"/>\n<text text-anchor=\"middle\" x=\"266.09\" y=\"-127.55\" font-family=\"Times,serif\" font-size=\"14.00\">0 </text>\n</g>\n<!-- Real_F -->\n<g id=\"node7\" class=\"node\">\n<title>Real_F</title>\n<ellipse fill=\"none\" stroke=\"black\" cx=\"504.58\" cy=\"-169.75\" rx=\"36.3\" ry=\"36.3\"/>\n<ellipse fill=\"none\" stroke=\"black\" cx=\"504.58\" cy=\"-169.75\" rx=\"40.29\" ry=\"40.29\"/>\n<text text-anchor=\"middle\" x=\"504.58\" y=\"-166.05\" font-family=\"Times,serif\" font-size=\"14.00\">Real_F</text>\n</g>\n<!-- IF&#45;&gt;Real_F -->\n<g id=\"edge11\" class=\"edge\">\n<title>IF&#45;&gt;Real_F</title>\n<path fill=\"none\" stroke=\"black\" d=\"M235.08,-138.89C246.42,-154.02 266.17,-176.35 289.59,-185.75 343.76,-207.47 411.76,-196.62 456.38,-184.92\"/>\n<polygon fill=\"black\" stroke=\"black\" points=\"457.37,-188.28 466.09,-182.27 455.52,-181.53 457.37,-188.28\"/>\n<text text-anchor=\"middle\" x=\"353.39\" y=\"-201.55\" font-family=\"Times,serif\" font-size=\"14.00\">&#39;&#39; </text>\n</g>\n<!-- BH -->\n<g id=\"node3\" class=\"node\">\n<title>BH</title>\n<ellipse fill=\"none\" stroke=\"black\" cx=\"504.58\" cy=\"-22.75\" rx=\"23\" ry=\"23\"/>\n<text text-anchor=\"middle\" x=\"504.58\" y=\"-19.05\" font-family=\"Times,serif\" font-size=\"14.00\">BH</text>\n</g>\n<!-- BH&#45;&gt;BH -->\n<g id=\"edge8\" class=\"edge\">\n<title>BH&#45;&gt;BH</title>\n<path fill=\"none\" stroke=\"black\" d=\"M498.86,-44.96C498.31,-54.9 500.22,-63.5 504.58,-63.5 507.3,-63.5 509.07,-60.14 509.88,-55.19\"/>\n<polygon fill=\"black\" stroke=\"black\" points=\"513.39,-55.1 510.3,-44.96 506.39,-54.81 513.39,-55.1\"/>\n<text text-anchor=\"middle\" x=\"504.58\" y=\"-67.3\" font-family=\"Times,serif\" font-size=\"14.00\">0 </text>\n</g>\n<!-- BH&#45;&gt;BH -->\n<g id=\"edge9\" class=\"edge\">\n<title>BH&#45;&gt;BH</title>\n<path fill=\"none\" stroke=\"black\" d=\"M494.95,-43.52C490.41,-61.92 493.62,-81.5 504.58,-81.5 513.57,-81.5 517.35,-68.32 515.91,-53.43\"/>\n<polygon fill=\"black\" stroke=\"black\" points=\"519.35,-52.79 514.21,-43.52 512.45,-53.97 519.35,-52.79\"/>\n<text text-anchor=\"middle\" x=\"504.58\" y=\"-85.3\" font-family=\"Times,serif\" font-size=\"14.00\">1 </text>\n</g>\n<!-- F0&#45;&gt;F0 -->\n<g id=\"edge4\" class=\"edge\">\n<title>F0&#45;&gt;F0</title>\n<path fill=\"none\" stroke=\"black\" d=\"M302.19,-142.59C300.91,-152.69 303.42,-161.9 309.74,-161.9 313.79,-161.9 316.27,-158.12 317.2,-152.75\"/>\n<polygon fill=\"black\" stroke=\"black\" points=\"320.7,-152.62 317.29,-142.59 313.7,-152.56 320.7,-152.62\"/>\n<text text-anchor=\"middle\" x=\"309.74\" y=\"-165.7\" font-family=\"Times,serif\" font-size=\"14.00\">0 </text>\n</g>\n<!-- F1 -->\n<g id=\"node5\" class=\"node\">\n<title>F1</title>\n<ellipse fill=\"none\" stroke=\"black\" cx=\"397.04\" cy=\"-93.75\" rx=\"20.3\" ry=\"20.3\"/>\n<text text-anchor=\"middle\" x=\"397.04\" y=\"-90.05\" font-family=\"Times,serif\" font-size=\"14.00\">F1</text>\n</g>\n<!-- F0&#45;&gt;F1 -->\n<g id=\"edge5\" class=\"edge\">\n<title>F0&#45;&gt;F1</title>\n<path fill=\"none\" stroke=\"black\" d=\"M329.25,-117.24C340.61,-113.24 355.39,-108.04 368.16,-103.55\"/>\n<polygon fill=\"black\" stroke=\"black\" points=\"369.58,-106.76 377.86,-100.14 367.26,-100.16 369.58,-106.76\"/>\n<text text-anchor=\"middle\" x=\"353.39\" y=\"-113.55\" font-family=\"Times,serif\" font-size=\"14.00\">1 </text>\n</g>\n<!-- F0&#45;&gt;Real_F -->\n<g id=\"edge12\" class=\"edge\">\n<title>F0&#45;&gt;Real_F</title>\n<path fill=\"none\" stroke=\"black\" d=\"M329.58,-128.24C358.47,-135.13 414.65,-148.53 455.37,-158.25\"/>\n<polygon fill=\"black\" stroke=\"black\" points=\"454.57,-161.65 465.11,-160.57 456.19,-154.85 454.57,-161.65\"/>\n<text text-anchor=\"middle\" x=\"397.04\" y=\"-152.55\" font-family=\"Times,serif\" font-size=\"14.00\">&#39;&#39; </text>\n</g>\n<!-- F1&#45;&gt;IF -->\n<g id=\"edge7\" class=\"edge\">\n<title>F1&#45;&gt;IF</title>\n<path fill=\"none\" stroke=\"black\" d=\"M377.94,-86.79C356.45,-79.56 319.7,-70.5 289.59,-79.75 273.68,-84.64 258.17,-94.9 246.31,-104.28\"/>\n<polygon fill=\"black\" stroke=\"black\" points=\"243.83,-101.79 238.37,-110.87 248.3,-107.18 243.83,-101.79\"/>\n<text text-anchor=\"middle\" x=\"309.74\" y=\"-83.55\" font-family=\"Times,serif\" font-size=\"14.00\">1 </text>\n</g>\n<!-- F1&#45;&gt;BH -->\n<g id=\"edge6\" class=\"edge\">\n<title>F1&#45;&gt;BH</title>\n<path fill=\"none\" stroke=\"black\" d=\"M414.07,-82.96C430.74,-71.75 457.14,-53.99 476.96,-40.66\"/>\n<polygon fill=\"black\" stroke=\"black\" points=\"478.92,-43.55 485.27,-35.07 475.02,-37.74 478.92,-43.55\"/>\n<text text-anchor=\"middle\" x=\"440.68\" y=\"-73.55\" font-family=\"Times,serif\" font-size=\"14.00\">0 </text>\n</g>\n<!-- F1&#45;&gt;Real_F -->\n<g id=\"edge13\" class=\"edge\">\n<title>F1&#45;&gt;Real_F</title>\n<path fill=\"none\" stroke=\"black\" d=\"M414.84,-103.55C424.24,-109.19 436.06,-116.57 446.18,-123.75 452.34,-128.11 458.72,-132.92 464.88,-137.72\"/>\n<polygon fill=\"black\" stroke=\"black\" points=\"463.1,-140.77 473.12,-144.23 467.45,-135.28 463.1,-140.77\"/>\n<text text-anchor=\"middle\" x=\"440.68\" y=\"-127.55\" font-family=\"Times,serif\" font-size=\"14.00\">&#39;&#39; </text>\n</g>\n<!-- Real_I&#45;&gt;IF -->\n<g id=\"edge10\" class=\"edge\">\n<title>Real_I&#45;&gt;IF</title>\n<path fill=\"none\" stroke=\"black\" d=\"M160.13,-123.75C171.35,-123.75 183.74,-123.75 194.51,-123.75\"/>\n<polygon fill=\"black\" stroke=\"black\" points=\"194.64,-127.25 204.64,-123.75 194.64,-120.25 194.64,-127.25\"/>\n<text text-anchor=\"middle\" x=\"182.39\" y=\"-127.55\" font-family=\"Times,serif\" font-size=\"14.00\">&#39;&#39; </text>\n</g>\n</g>\n</svg>\n",
            "text/plain": [
              "<graphviz.graphs.Digraph at 0x7d0562235510>"
            ]
          },
          "metadata": {},
          "execution_count": 82
        }
      ],
      "source": [
        "DO[0]"
      ]
    },
    {
      "cell_type": "code",
      "execution_count": 83,
      "metadata": {
        "id": "a0G0y5q-aGb4",
        "outputId": "0cb9a241-c4b3-45ca-9d85-adebf1b23029",
        "colab": {
          "base_uri": "https://localhost:8080/",
          "height": 381
        }
      },
      "outputs": [
        {
          "output_type": "execute_result",
          "data": {
            "image/svg+xml": "<?xml version=\"1.0\" encoding=\"UTF-8\" standalone=\"no\"?>\n<!DOCTYPE svg PUBLIC \"-//W3C//DTD SVG 1.1//EN\"\n \"http://www.w3.org/Graphics/SVG/1.1/DTD/svg11.dtd\">\n<!-- Generated by graphviz version 2.43.0 (0)\n -->\n<!-- Title: %3 Pages: 1 -->\n<svg width=\"632pt\" height=\"270pt\"\n viewBox=\"0.00 0.00 632.28 270.19\" xmlns=\"http://www.w3.org/2000/svg\" xmlns:xlink=\"http://www.w3.org/1999/xlink\">\n<g id=\"graph0\" class=\"graph\" transform=\"scale(1 1) rotate(0) translate(4 266.19)\">\n<title>%3</title>\n<polygon fill=\"white\" stroke=\"transparent\" points=\"-4,4 -4,-266.19 628.28,-266.19 628.28,4 -4,4\"/>\n<!-- EMPTY -->\n<g id=\"node1\" class=\"node\">\n<title>EMPTY</title>\n</g>\n<!-- Real_I -->\n<g id=\"node2\" class=\"node\">\n<title>Real_I</title>\n<ellipse fill=\"none\" stroke=\"black\" cx=\"125.45\" cy=\"-34.45\" rx=\"34.39\" ry=\"34.39\"/>\n<text text-anchor=\"middle\" x=\"125.45\" y=\"-30.75\" font-family=\"Times,serif\" font-size=\"14.00\">Real_I</text>\n</g>\n<!-- EMPTY&#45;&gt;Real_I -->\n<g id=\"edge1\" class=\"edge\">\n<title>EMPTY&#45;&gt;Real_I</title>\n<path fill=\"none\" stroke=\"black\" d=\"M54.1,-34.45C62.29,-34.45 71.56,-34.45 80.63,-34.45\"/>\n<polygon fill=\"black\" stroke=\"black\" points=\"80.7,-37.95 90.7,-34.45 80.7,-30.95 80.7,-37.95\"/>\n</g>\n<!-- F0 -->\n<g id=\"node5\" class=\"node\">\n<title>F0</title>\n<ellipse fill=\"none\" stroke=\"black\" cx=\"262.04\" cy=\"-81.45\" rx=\"20.3\" ry=\"20.3\"/>\n<text text-anchor=\"middle\" x=\"262.04\" y=\"-77.75\" font-family=\"Times,serif\" font-size=\"14.00\">F0</text>\n</g>\n<!-- Real_I&#45;&gt;F0 -->\n<g id=\"edge5\" class=\"edge\">\n<title>Real_I&#45;&gt;F0</title>\n<path fill=\"none\" stroke=\"black\" d=\"M158.34,-45.59C181.03,-53.51 211.21,-64.05 232.98,-71.65\"/>\n<polygon fill=\"black\" stroke=\"black\" points=\"232.03,-75.02 242.62,-75.02 234.34,-68.41 232.03,-75.02\"/>\n<text text-anchor=\"middle\" x=\"200.89\" y=\"-71.25\" font-family=\"Times,serif\" font-size=\"14.00\">((1)* 0) </text>\n</g>\n<!-- Real_F -->\n<g id=\"node6\" class=\"node\">\n<title>Real_F</title>\n<ellipse fill=\"none\" stroke=\"black\" cx=\"583.88\" cy=\"-78.45\" rx=\"36.3\" ry=\"36.3\"/>\n<ellipse fill=\"none\" stroke=\"black\" cx=\"583.88\" cy=\"-78.45\" rx=\"40.29\" ry=\"40.29\"/>\n<text text-anchor=\"middle\" x=\"583.88\" y=\"-74.75\" font-family=\"Times,serif\" font-size=\"14.00\">Real_F</text>\n</g>\n<!-- Real_I&#45;&gt;Real_F -->\n<g id=\"edge4\" class=\"edge\">\n<title>Real_I&#45;&gt;Real_F</title>\n<path fill=\"none\" stroke=\"black\" d=\"M159.85,-37.22C228.43,-42.97 390.07,-56.91 525.49,-71.45 528.16,-71.73 530.89,-72.04 533.65,-72.35\"/>\n<polygon fill=\"black\" stroke=\"black\" points=\"533.35,-75.84 543.69,-73.51 534.16,-68.88 533.35,-75.84\"/>\n<text text-anchor=\"middle\" x=\"333.19\" y=\"-59.25\" font-family=\"Times,serif\" font-size=\"14.00\">(1)* </text>\n</g>\n<!-- BH -->\n<g id=\"node3\" class=\"node\">\n<title>BH</title>\n<ellipse fill=\"none\" stroke=\"black\" cx=\"583.88\" cy=\"-173.45\" rx=\"23\" ry=\"23\"/>\n<text text-anchor=\"middle\" x=\"583.88\" y=\"-169.75\" font-family=\"Times,serif\" font-size=\"14.00\">BH</text>\n</g>\n<!-- BH&#45;&gt;BH -->\n<g id=\"edge9\" class=\"edge\">\n<title>BH&#45;&gt;BH</title>\n<path fill=\"none\" stroke=\"black\" d=\"M574.97,-194.41C573.73,-204.87 576.71,-214.19 583.88,-214.19 588.59,-214.19 591.49,-210.18 592.58,-204.46\"/>\n<polygon fill=\"black\" stroke=\"black\" points=\"596.08,-204.49 592.8,-194.41 589.08,-204.33 596.08,-204.49\"/>\n<text text-anchor=\"middle\" x=\"583.88\" y=\"-217.99\" font-family=\"Times,serif\" font-size=\"14.00\">0 </text>\n</g>\n<!-- BH&#45;&gt;BH -->\n<g id=\"edge10\" class=\"edge\">\n<title>BH&#45;&gt;BH</title>\n<path fill=\"none\" stroke=\"black\" d=\"M569.82,-191.49C561.01,-210.62 565.7,-232.19 583.88,-232.19 599.08,-232.19 604.85,-217.12 601.19,-201\"/>\n<polygon fill=\"black\" stroke=\"black\" points=\"604.49,-199.82 597.95,-191.49 597.87,-202.09 604.49,-199.82\"/>\n<text text-anchor=\"middle\" x=\"583.88\" y=\"-235.99\" font-family=\"Times,serif\" font-size=\"14.00\">1 </text>\n</g>\n<!-- F1 -->\n<g id=\"node4\" class=\"node\">\n<title>F1</title>\n<ellipse fill=\"none\" stroke=\"black\" cx=\"404.34\" cy=\"-135.45\" rx=\"20.3\" ry=\"20.3\"/>\n<text text-anchor=\"middle\" x=\"404.34\" y=\"-131.75\" font-family=\"Times,serif\" font-size=\"14.00\">F1</text>\n</g>\n<!-- F1&#45;&gt;BH -->\n<g id=\"edge8\" class=\"edge\">\n<title>F1&#45;&gt;BH</title>\n<path fill=\"none\" stroke=\"black\" d=\"M422.77,-144.03C428.88,-146.75 435.88,-149.54 442.49,-151.45 478.85,-161.94 522.05,-167.76 550.83,-170.74\"/>\n<polygon fill=\"black\" stroke=\"black\" points=\"550.82,-174.25 561.11,-171.74 551.5,-167.29 550.82,-174.25\"/>\n<text text-anchor=\"middle\" x=\"483.99\" y=\"-171.25\" font-family=\"Times,serif\" font-size=\"14.00\">0 </text>\n</g>\n<!-- F1&#45;&gt;F0 -->\n<g id=\"edge3\" class=\"edge\">\n<title>F1&#45;&gt;F0</title>\n<path fill=\"none\" stroke=\"black\" d=\"M391.58,-119.81C384.97,-112.15 376.07,-103.51 366.19,-98.45 343.25,-86.7 314.02,-82.75 292.54,-81.57\"/>\n<polygon fill=\"black\" stroke=\"black\" points=\"292.51,-78.06 282.38,-81.18 292.24,-85.06 292.51,-78.06\"/>\n<text text-anchor=\"middle\" x=\"333.19\" y=\"-102.25\" font-family=\"Times,serif\" font-size=\"14.00\">(1 ((1)* 0)) </text>\n</g>\n<!-- F1&#45;&gt;Real_F -->\n<g id=\"edge2\" class=\"edge\">\n<title>F1&#45;&gt;Real_F</title>\n<path fill=\"none\" stroke=\"black\" d=\"M424.65,-134.09C448.89,-131.91 491.41,-126.44 525.49,-113.45 530.73,-111.45 536.04,-108.96 541.19,-106.24\"/>\n<polygon fill=\"black\" stroke=\"black\" points=\"543.25,-109.1 550.26,-101.16 539.82,-103 543.25,-109.1\"/>\n<text text-anchor=\"middle\" x=\"483.99\" y=\"-135.25\" font-family=\"Times,serif\" font-size=\"14.00\">((1 (1)*) + &quot;&quot;) </text>\n</g>\n<!-- F1&#45;&gt;Real_F -->\n<g id=\"edge12\" class=\"edge\">\n<title>F1&#45;&gt;Real_F</title>\n<path fill=\"none\" stroke=\"black\" d=\"M416.02,-118.74C422.55,-109.99 431.72,-99.97 442.49,-94.45 470.38,-80.13 505.42,-76.12 533.51,-75.7\"/>\n<polygon fill=\"black\" stroke=\"black\" points=\"533.52,-79.2 543.52,-75.69 533.52,-72.2 533.52,-79.2\"/>\n<text text-anchor=\"middle\" x=\"483.99\" y=\"-98.25\" font-family=\"Times,serif\" font-size=\"14.00\">&quot;&quot; </text>\n</g>\n<!-- F0&#45;&gt;F1 -->\n<g id=\"edge7\" class=\"edge\">\n<title>F0&#45;&gt;F1</title>\n<path fill=\"none\" stroke=\"black\" d=\"M276.28,-95.75C282.89,-102.08 291.35,-109.06 300.19,-113.45 323.48,-125 352.67,-130.51 374.05,-133.12\"/>\n<polygon fill=\"black\" stroke=\"black\" points=\"373.83,-136.62 384.15,-134.21 374.59,-129.66 373.83,-136.62\"/>\n<text text-anchor=\"middle\" x=\"333.19\" y=\"-135.25\" font-family=\"Times,serif\" font-size=\"14.00\">1 </text>\n</g>\n<!-- F0&#45;&gt;F0 -->\n<g id=\"edge6\" class=\"edge\">\n<title>F0&#45;&gt;F0</title>\n<path fill=\"none\" stroke=\"black\" d=\"M251.59,-98.71C249.06,-109.41 252.55,-119.6 262.04,-119.6 268.42,-119.6 272.09,-115 273.04,-108.74\"/>\n<polygon fill=\"black\" stroke=\"black\" points=\"276.53,-108.51 272.5,-98.71 269.54,-108.88 276.53,-108.51\"/>\n<text text-anchor=\"middle\" x=\"262.04\" y=\"-123.4\" font-family=\"Times,serif\" font-size=\"14.00\">0 </text>\n</g>\n<!-- F0&#45;&gt;Real_F -->\n<g id=\"edge11\" class=\"edge\">\n<title>F0&#45;&gt;Real_F</title>\n<path fill=\"none\" stroke=\"black\" d=\"M282.3,-79.59C288.05,-79.12 294.37,-78.68 300.19,-78.45 381.67,-75.16 476.47,-76.14 532.98,-77.23\"/>\n<polygon fill=\"black\" stroke=\"black\" points=\"533,-80.73 543.07,-77.44 533.14,-73.74 533,-80.73\"/>\n<text text-anchor=\"middle\" x=\"404.34\" y=\"-79.25\" font-family=\"Times,serif\" font-size=\"14.00\">&quot;&quot; </text>\n</g>\n</g>\n</svg>\n",
            "text/plain": [
              "<graphviz.graphs.Digraph at 0x7d0562236da0>"
            ]
          },
          "metadata": {},
          "execution_count": 83
        }
      ],
      "source": [
        "DO[1]"
      ]
    },
    {
      "cell_type": "code",
      "execution_count": 84,
      "metadata": {
        "id": "5hk0sFdtaGb5",
        "outputId": "fdac6010-261d-4d8b-c926-7ce7ea95b3d6",
        "colab": {
          "base_uri": "https://localhost:8080/",
          "height": 228
        }
      },
      "outputs": [
        {
          "output_type": "execute_result",
          "data": {
            "image/svg+xml": "<?xml version=\"1.0\" encoding=\"UTF-8\" standalone=\"no\"?>\n<!DOCTYPE svg PUBLIC \"-//W3C//DTD SVG 1.1//EN\"\n \"http://www.w3.org/Graphics/SVG/1.1/DTD/svg11.dtd\">\n<!-- Generated by graphviz version 2.43.0 (0)\n -->\n<!-- Title: %3 Pages: 1 -->\n<svg width=\"632pt\" height=\"155pt\"\n viewBox=\"0.00 0.00 632.28 154.60\" xmlns=\"http://www.w3.org/2000/svg\" xmlns:xlink=\"http://www.w3.org/1999/xlink\">\n<g id=\"graph0\" class=\"graph\" transform=\"scale(1 1) rotate(0) translate(4 150.6)\">\n<title>%3</title>\n<polygon fill=\"white\" stroke=\"transparent\" points=\"-4,4 -4,-150.6 628.28,-150.6 628.28,4 -4,4\"/>\n<!-- EMPTY -->\n<g id=\"node1\" class=\"node\">\n<title>EMPTY</title>\n</g>\n<!-- Real_I -->\n<g id=\"node2\" class=\"node\">\n<title>Real_I</title>\n<ellipse fill=\"none\" stroke=\"black\" cx=\"125.45\" cy=\"-34.45\" rx=\"34.39\" ry=\"34.39\"/>\n<text text-anchor=\"middle\" x=\"125.45\" y=\"-30.75\" font-family=\"Times,serif\" font-size=\"14.00\">Real_I</text>\n</g>\n<!-- EMPTY&#45;&gt;Real_I -->\n<g id=\"edge1\" class=\"edge\">\n<title>EMPTY&#45;&gt;Real_I</title>\n<path fill=\"none\" stroke=\"black\" d=\"M54.1,-34.45C62.29,-34.45 71.56,-34.45 80.63,-34.45\"/>\n<polygon fill=\"black\" stroke=\"black\" points=\"80.7,-37.95 90.7,-34.45 80.7,-30.95 80.7,-37.95\"/>\n</g>\n<!-- F0 -->\n<g id=\"node4\" class=\"node\">\n<title>F0</title>\n<ellipse fill=\"none\" stroke=\"black\" cx=\"262.04\" cy=\"-81.45\" rx=\"20.3\" ry=\"20.3\"/>\n<text text-anchor=\"middle\" x=\"262.04\" y=\"-77.75\" font-family=\"Times,serif\" font-size=\"14.00\">F0</text>\n</g>\n<!-- Real_I&#45;&gt;F0 -->\n<g id=\"edge5\" class=\"edge\">\n<title>Real_I&#45;&gt;F0</title>\n<path fill=\"none\" stroke=\"black\" d=\"M158.34,-45.59C181.03,-53.51 211.21,-64.05 232.98,-71.65\"/>\n<polygon fill=\"black\" stroke=\"black\" points=\"232.03,-75.02 242.62,-75.02 234.34,-68.41 232.03,-75.02\"/>\n<text text-anchor=\"middle\" x=\"200.89\" y=\"-71.25\" font-family=\"Times,serif\" font-size=\"14.00\">((1)* 0) </text>\n</g>\n<!-- Real_F -->\n<g id=\"node5\" class=\"node\">\n<title>Real_F</title>\n<ellipse fill=\"none\" stroke=\"black\" cx=\"583.88\" cy=\"-80.45\" rx=\"36.3\" ry=\"36.3\"/>\n<ellipse fill=\"none\" stroke=\"black\" cx=\"583.88\" cy=\"-80.45\" rx=\"40.29\" ry=\"40.29\"/>\n<text text-anchor=\"middle\" x=\"583.88\" y=\"-76.75\" font-family=\"Times,serif\" font-size=\"14.00\">Real_F</text>\n</g>\n<!-- Real_I&#45;&gt;Real_F -->\n<g id=\"edge4\" class=\"edge\">\n<title>Real_I&#45;&gt;Real_F</title>\n<path fill=\"none\" stroke=\"black\" d=\"M159.87,-37.13C228.49,-42.76 390.19,-56.58 525.49,-72.45 528.16,-72.76 530.9,-73.1 533.66,-73.44\"/>\n<polygon fill=\"black\" stroke=\"black\" points=\"533.33,-76.93 543.7,-74.75 534.24,-69.99 533.33,-76.93\"/>\n<text text-anchor=\"middle\" x=\"333.19\" y=\"-59.25\" font-family=\"Times,serif\" font-size=\"14.00\">(1)* </text>\n</g>\n<!-- F1 -->\n<g id=\"node3\" class=\"node\">\n<title>F1</title>\n<ellipse fill=\"none\" stroke=\"black\" cx=\"404.34\" cy=\"-126.45\" rx=\"20.3\" ry=\"20.3\"/>\n<text text-anchor=\"middle\" x=\"404.34\" y=\"-122.75\" font-family=\"Times,serif\" font-size=\"14.00\">F1</text>\n</g>\n<!-- F1&#45;&gt;F0 -->\n<g id=\"edge3\" class=\"edge\">\n<title>F1&#45;&gt;F0</title>\n<path fill=\"none\" stroke=\"black\" d=\"M388.84,-112.93C382.36,-107.61 374.36,-101.94 366.19,-98.45 342.64,-88.36 313.7,-84.23 292.48,-82.55\"/>\n<polygon fill=\"black\" stroke=\"black\" points=\"292.65,-79.06 282.44,-81.9 292.19,-86.04 292.65,-79.06\"/>\n<text text-anchor=\"middle\" x=\"333.19\" y=\"-102.25\" font-family=\"Times,serif\" font-size=\"14.00\">(1 ((1)* 0)) </text>\n</g>\n<!-- F1&#45;&gt;Real_F -->\n<g id=\"edge2\" class=\"edge\">\n<title>F1&#45;&gt;Real_F</title>\n<path fill=\"none\" stroke=\"black\" d=\"M424.57,-126.78C448.73,-126.65 491.17,-124.62 525.49,-113.45 530.68,-111.76 535.92,-109.56 541.01,-107.1\"/>\n<polygon fill=\"black\" stroke=\"black\" points=\"542.72,-110.15 549.98,-102.44 539.49,-103.94 542.72,-110.15\"/>\n<text text-anchor=\"middle\" x=\"483.99\" y=\"-129.25\" font-family=\"Times,serif\" font-size=\"14.00\">((1 (1)*) + &quot;&quot;) </text>\n</g>\n<!-- F1&#45;&gt;Real_F -->\n<g id=\"edge9\" class=\"edge\">\n<title>F1&#45;&gt;Real_F</title>\n<path fill=\"none\" stroke=\"black\" d=\"M418.38,-111.7C424.93,-105.27 433.41,-98.34 442.49,-94.45 470.93,-82.24 505.5,-78.68 533.22,-78.19\"/>\n<polygon fill=\"black\" stroke=\"black\" points=\"533.5,-81.69 543.48,-78.15 533.46,-74.69 533.5,-81.69\"/>\n<text text-anchor=\"middle\" x=\"483.99\" y=\"-98.25\" font-family=\"Times,serif\" font-size=\"14.00\">&quot;&quot; </text>\n</g>\n<!-- F0&#45;&gt;F1 -->\n<g id=\"edge7\" class=\"edge\">\n<title>F0&#45;&gt;F1</title>\n<path fill=\"none\" stroke=\"black\" d=\"M276.12,-96.09C282.69,-102.49 291.17,-109.44 300.19,-113.45 323.47,-123.79 352.44,-126.68 373.74,-127.19\"/>\n<polygon fill=\"black\" stroke=\"black\" points=\"373.79,-130.69 383.82,-127.27 373.85,-123.69 373.79,-130.69\"/>\n<text text-anchor=\"middle\" x=\"333.19\" y=\"-130.25\" font-family=\"Times,serif\" font-size=\"14.00\">1 </text>\n</g>\n<!-- F0&#45;&gt;F0 -->\n<g id=\"edge6\" class=\"edge\">\n<title>F0&#45;&gt;F0</title>\n<path fill=\"none\" stroke=\"black\" d=\"M251.59,-98.71C249.06,-109.41 252.55,-119.6 262.04,-119.6 268.42,-119.6 272.09,-115 273.04,-108.74\"/>\n<polygon fill=\"black\" stroke=\"black\" points=\"276.53,-108.51 272.5,-98.71 269.54,-108.88 276.53,-108.51\"/>\n<text text-anchor=\"middle\" x=\"262.04\" y=\"-123.4\" font-family=\"Times,serif\" font-size=\"14.00\">0 </text>\n</g>\n<!-- F0&#45;&gt;Real_F -->\n<g id=\"edge8\" class=\"edge\">\n<title>F0&#45;&gt;Real_F</title>\n<path fill=\"none\" stroke=\"black\" d=\"M282.3,-79.59C288.05,-79.12 294.37,-78.68 300.19,-78.45 400.24,-74.41 425.37,-76.7 525.49,-78.45 528.02,-78.49 530.61,-78.55 533.23,-78.61\"/>\n<polygon fill=\"black\" stroke=\"black\" points=\"533.27,-82.11 543.37,-78.89 533.47,-75.11 533.27,-82.11\"/>\n<text text-anchor=\"middle\" x=\"404.34\" y=\"-79.25\" font-family=\"Times,serif\" font-size=\"14.00\">&quot;&quot; </text>\n</g>\n</g>\n</svg>\n",
            "text/plain": [
              "<graphviz.graphs.Digraph at 0x7d0562102ef0>"
            ]
          },
          "metadata": {},
          "execution_count": 84
        }
      ],
      "source": [
        "DO[2]"
      ]
    },
    {
      "cell_type": "code",
      "execution_count": 85,
      "metadata": {
        "id": "XVU4FMdhaGb5",
        "outputId": "be76acfb-39a1-4c34-b3f1-7ace9c61785e",
        "colab": {
          "base_uri": "https://localhost:8080/",
          "height": 242
        }
      },
      "outputs": [
        {
          "output_type": "execute_result",
          "data": {
            "image/svg+xml": "<?xml version=\"1.0\" encoding=\"UTF-8\" standalone=\"no\"?>\n<!DOCTYPE svg PUBLIC \"-//W3C//DTD SVG 1.1//EN\"\n \"http://www.w3.org/Graphics/SVG/1.1/DTD/svg11.dtd\">\n<!-- Generated by graphviz version 2.43.0 (0)\n -->\n<!-- Title: %3 Pages: 1 -->\n<svg width=\"583pt\" height=\"166pt\"\n viewBox=\"0.00 0.00 582.98 165.60\" xmlns=\"http://www.w3.org/2000/svg\" xmlns:xlink=\"http://www.w3.org/1999/xlink\">\n<g id=\"graph0\" class=\"graph\" transform=\"scale(1 1) rotate(0) translate(4 161.6)\">\n<title>%3</title>\n<polygon fill=\"white\" stroke=\"transparent\" points=\"-4,4 -4,-161.6 578.98,-161.6 578.98,4 -4,4\"/>\n<!-- EMPTY -->\n<g id=\"node1\" class=\"node\">\n<title>EMPTY</title>\n</g>\n<!-- Real_I -->\n<g id=\"node2\" class=\"node\">\n<title>Real_I</title>\n<ellipse fill=\"none\" stroke=\"black\" cx=\"125.45\" cy=\"-34.45\" rx=\"34.39\" ry=\"34.39\"/>\n<text text-anchor=\"middle\" x=\"125.45\" y=\"-30.75\" font-family=\"Times,serif\" font-size=\"14.00\">Real_I</text>\n</g>\n<!-- EMPTY&#45;&gt;Real_I -->\n<g id=\"edge1\" class=\"edge\">\n<title>EMPTY&#45;&gt;Real_I</title>\n<path fill=\"none\" stroke=\"black\" d=\"M54.1,-34.45C62.29,-34.45 71.56,-34.45 80.63,-34.45\"/>\n<polygon fill=\"black\" stroke=\"black\" points=\"80.7,-37.95 90.7,-34.45 80.7,-30.95 80.7,-37.95\"/>\n</g>\n<!-- F0 -->\n<g id=\"node3\" class=\"node\">\n<title>F0</title>\n<ellipse fill=\"none\" stroke=\"black\" cx=\"262.04\" cy=\"-71.45\" rx=\"20.3\" ry=\"20.3\"/>\n<text text-anchor=\"middle\" x=\"262.04\" y=\"-67.75\" font-family=\"Times,serif\" font-size=\"14.00\">F0</text>\n</g>\n<!-- Real_I&#45;&gt;F0 -->\n<g id=\"edge5\" class=\"edge\">\n<title>Real_I&#45;&gt;F0</title>\n<path fill=\"none\" stroke=\"black\" d=\"M159.03,-43.4C181.49,-49.58 211.07,-57.71 232.58,-63.62\"/>\n<polygon fill=\"black\" stroke=\"black\" points=\"231.86,-67.06 242.43,-66.33 233.72,-60.31 231.86,-67.06\"/>\n<text text-anchor=\"middle\" x=\"200.89\" y=\"-64.25\" font-family=\"Times,serif\" font-size=\"14.00\">((1)* 0) </text>\n</g>\n<!-- Real_F -->\n<g id=\"node4\" class=\"node\">\n<title>Real_F</title>\n<ellipse fill=\"none\" stroke=\"black\" cx=\"534.59\" cy=\"-51.45\" rx=\"36.3\" ry=\"36.3\"/>\n<ellipse fill=\"none\" stroke=\"black\" cx=\"534.59\" cy=\"-51.45\" rx=\"40.29\" ry=\"40.29\"/>\n<text text-anchor=\"middle\" x=\"534.59\" y=\"-47.75\" font-family=\"Times,serif\" font-size=\"14.00\">Real_F</text>\n</g>\n<!-- Real_I&#45;&gt;Real_F -->\n<g id=\"edge4\" class=\"edge\">\n<title>Real_I&#45;&gt;Real_F</title>\n<path fill=\"none\" stroke=\"black\" d=\"M160.02,-31.87C183.04,-30.24 214.3,-28.28 241.89,-27.45 320.83,-25.06 458.66,-30.48 476.19,-33.45 479.59,-34.02 483.06,-34.75 486.54,-35.57\"/>\n<polygon fill=\"black\" stroke=\"black\" points=\"485.72,-38.98 496.28,-38.14 487.5,-32.21 485.72,-38.98\"/>\n<text text-anchor=\"middle\" x=\"262.04\" y=\"-31.25\" font-family=\"Times,serif\" font-size=\"14.00\">(1)* </text>\n</g>\n<!-- F0&#45;&gt;F0 -->\n<g id=\"edge3\" class=\"edge\">\n<title>F0&#45;&gt;F0</title>\n<path fill=\"none\" stroke=\"black\" d=\"M256.58,-91.07C255.83,-100.86 257.65,-109.6 262.04,-109.6 264.79,-109.6 266.53,-106.18 267.26,-101.24\"/>\n<polygon fill=\"black\" stroke=\"black\" points=\"270.77,-101.15 267.5,-91.07 263.77,-100.99 270.77,-101.15\"/>\n<text text-anchor=\"middle\" x=\"262.04\" y=\"-113.4\" font-family=\"Times,serif\" font-size=\"14.00\">((1 (1 ((1)* 0))) + 0) </text>\n</g>\n<!-- F0&#45;&gt;F0 -->\n<g id=\"edge6\" class=\"edge\">\n<title>F0&#45;&gt;F0</title>\n<path fill=\"none\" stroke=\"black\" d=\"M253.18,-89.56C248.13,-107.62 251.09,-127.6 262.04,-127.6 270.94,-127.6 274.56,-114.41 272.9,-99.78\"/>\n<polygon fill=\"black\" stroke=\"black\" points=\"276.26,-98.7 270.9,-89.56 269.39,-100.05 276.26,-98.7\"/>\n<text text-anchor=\"middle\" x=\"262.04\" y=\"-131.4\" font-family=\"Times,serif\" font-size=\"14.00\">0 </text>\n</g>\n<!-- F0&#45;&gt;Real_F -->\n<g id=\"edge2\" class=\"edge\">\n<title>F0&#45;&gt;Real_F</title>\n<path fill=\"none\" stroke=\"black\" d=\"M282.28,-72.7C319.81,-74.8 405.33,-77.82 476.19,-67.45 479.41,-66.98 482.71,-66.38 486.02,-65.69\"/>\n<polygon fill=\"black\" stroke=\"black\" points=\"486.95,-69.07 495.9,-63.41 485.37,-62.25 486.95,-69.07\"/>\n<text text-anchor=\"middle\" x=\"388.19\" y=\"-78.25\" font-family=\"Times,serif\" font-size=\"14.00\">((1 (((1 (1)*) + &quot;&quot;) + &quot;&quot;)) + &quot;&quot;) </text>\n</g>\n<!-- F0&#45;&gt;Real_F -->\n<g id=\"edge7\" class=\"edge\">\n<title>F0&#45;&gt;Real_F</title>\n<path fill=\"none\" stroke=\"black\" d=\"M278.39,-59.28C284.76,-54.97 292.46,-50.65 300.19,-48.45 361.92,-30.88 436.6,-36.2 484.58,-42.81\"/>\n<polygon fill=\"black\" stroke=\"black\" points=\"484.3,-46.3 494.7,-44.28 485.3,-39.38 484.3,-46.3\"/>\n<text text-anchor=\"middle\" x=\"388.19\" y=\"-52.25\" font-family=\"Times,serif\" font-size=\"14.00\">&quot;&quot; </text>\n</g>\n</g>\n</svg>\n",
            "text/plain": [
              "<graphviz.graphs.Digraph at 0x7d0562101990>"
            ]
          },
          "metadata": {},
          "execution_count": 85
        }
      ],
      "source": [
        "DO[3]"
      ]
    },
    {
      "cell_type": "code",
      "execution_count": 85,
      "metadata": {
        "id": "hwK9rQAlaGb5"
      },
      "outputs": [],
      "source": []
    }
  ],
  "metadata": {
    "kernelspec": {
      "display_name": "Python 3",
      "language": "python",
      "name": "python3"
    },
    "language_info": {
      "codemirror_mode": {
        "name": "ipython",
        "version": 3
      },
      "file_extension": ".py",
      "mimetype": "text/x-python",
      "name": "python",
      "nbconvert_exporter": "python",
      "pygments_lexer": "ipython3",
      "version": "3.7.3"
    },
    "toc": {
      "colors": {
        "hover_highlight": "#DAA520",
        "running_highlight": "#FF0000",
        "selected_highlight": "#FFD700"
      },
      "moveMenuLeft": true,
      "nav_menu": {
        "height": "318px",
        "width": "252px"
      },
      "navigate_menu": true,
      "number_sections": true,
      "sideBar": true,
      "threshold": 4,
      "toc_cell": false,
      "toc_section_display": "block",
      "toc_window_display": false,
      "widenNotebook": false
    },
    "colab": {
      "provenance": [],
      "include_colab_link": true
    },
    "widgets": {
      "application/vnd.jupyter.widget-state+json": {
        "ae277def2b7b423985cfaa0f98af077c": {
          "model_module": "@jupyter-widgets/controls",
          "model_name": "TabModel",
          "model_module_version": "1.5.0",
          "state": {
            "_dom_classes": [],
            "_model_module": "@jupyter-widgets/controls",
            "_model_module_version": "1.5.0",
            "_model_name": "TabModel",
            "_titles": {
              "0": "Edit",
              "1": "Animate",
              "2": "Help"
            },
            "_view_count": null,
            "_view_module": "@jupyter-widgets/controls",
            "_view_module_version": "1.5.0",
            "_view_name": "TabView",
            "box_style": "",
            "children": [
              "IPY_MODEL_099c131fb89f496091c43a640d98cf40",
              "IPY_MODEL_f0ba6982ba6e4bffb46acbe8a188067f",
              "IPY_MODEL_d45ed6445021430296f1a3a41bd6edd3"
            ],
            "layout": "IPY_MODEL_f6180f635be5408fb74a825cb6c02eac",
            "selected_index": 0
          }
        },
        "099c131fb89f496091c43a640d98cf40": {
          "model_module": "@jupyter-widgets/controls",
          "model_name": "VBoxModel",
          "model_module_version": "1.5.0",
          "state": {
            "_dom_classes": [],
            "_model_module": "@jupyter-widgets/controls",
            "_model_module_version": "1.5.0",
            "_model_name": "VBoxModel",
            "_view_count": null,
            "_view_module": "@jupyter-widgets/controls",
            "_view_module_version": "1.5.0",
            "_view_name": "VBoxView",
            "box_style": "",
            "children": [
              "IPY_MODEL_42066352f99b4388aec834d5eafbeaa7",
              "IPY_MODEL_79e33f90194d4215a7ea8db9bfbe8f9d",
              "IPY_MODEL_4855ce58eae74ff4ac5a2767734aa712"
            ],
            "layout": "IPY_MODEL_ce7c7745d2574f689866a8a51e72cca8"
          }
        },
        "f0ba6982ba6e4bffb46acbe8a188067f": {
          "model_module": "@jupyter-widgets/controls",
          "model_name": "VBoxModel",
          "model_module_version": "1.5.0",
          "state": {
            "_dom_classes": [],
            "_model_module": "@jupyter-widgets/controls",
            "_model_module_version": "1.5.0",
            "_model_name": "VBoxModel",
            "_view_count": null,
            "_view_module": "@jupyter-widgets/controls",
            "_view_module_version": "1.5.0",
            "_view_name": "VBoxView",
            "box_style": "",
            "children": [
              "IPY_MODEL_c8a26284059c4585acbc96262dc032b5",
              "IPY_MODEL_62681064768b481fbbb857030d9dabea",
              "IPY_MODEL_272aa51f3a504f8289901fbbfcd679f1"
            ],
            "layout": "IPY_MODEL_7239c08ba990497782aba09470489e0a"
          }
        },
        "d45ed6445021430296f1a3a41bd6edd3": {
          "model_module": "@jupyter-widgets/controls",
          "model_name": "VBoxModel",
          "model_module_version": "1.5.0",
          "state": {
            "_dom_classes": [],
            "_model_module": "@jupyter-widgets/controls",
            "_model_module_version": "1.5.0",
            "_model_name": "VBoxModel",
            "_view_count": null,
            "_view_module": "@jupyter-widgets/controls",
            "_view_module_version": "1.5.0",
            "_view_name": "VBoxView",
            "box_style": "",
            "children": [
              "IPY_MODEL_0861325ab6df479f800062490b5fc16b",
              "IPY_MODEL_71c8930caa3b462db3694934ff58ffa8"
            ],
            "layout": "IPY_MODEL_fb4ce9c0a9e546a9983e33ea806b697e"
          }
        },
        "f6180f635be5408fb74a825cb6c02eac": {
          "model_module": "@jupyter-widgets/base",
          "model_name": "LayoutModel",
          "model_module_version": "1.2.0",
          "state": {
            "_model_module": "@jupyter-widgets/base",
            "_model_module_version": "1.2.0",
            "_model_name": "LayoutModel",
            "_view_count": null,
            "_view_module": "@jupyter-widgets/base",
            "_view_module_version": "1.2.0",
            "_view_name": "LayoutView",
            "align_content": null,
            "align_items": null,
            "align_self": null,
            "border": null,
            "bottom": null,
            "display": null,
            "flex": null,
            "flex_flow": null,
            "grid_area": null,
            "grid_auto_columns": null,
            "grid_auto_flow": null,
            "grid_auto_rows": null,
            "grid_column": null,
            "grid_gap": null,
            "grid_row": null,
            "grid_template_areas": null,
            "grid_template_columns": null,
            "grid_template_rows": null,
            "height": null,
            "justify_content": null,
            "justify_items": null,
            "left": null,
            "margin": null,
            "max_height": null,
            "max_width": null,
            "min_height": null,
            "min_width": null,
            "object_fit": null,
            "object_position": null,
            "order": null,
            "overflow": null,
            "overflow_x": null,
            "overflow_y": null,
            "padding": null,
            "right": null,
            "top": null,
            "visibility": null,
            "width": null
          }
        },
        "42066352f99b4388aec834d5eafbeaa7": {
          "model_module": "@jupyter-widgets/controls",
          "model_name": "HBoxModel",
          "model_module_version": "1.5.0",
          "state": {
            "_dom_classes": [],
            "_model_module": "@jupyter-widgets/controls",
            "_model_module_version": "1.5.0",
            "_model_name": "HBoxModel",
            "_view_count": null,
            "_view_module": "@jupyter-widgets/controls",
            "_view_module_version": "1.5.0",
            "_view_name": "HBoxView",
            "box_style": "",
            "children": [
              "IPY_MODEL_2d7a866a01fa4199aa2abecd45f368eb",
              "IPY_MODEL_f533e6c0e7254eeea622d0c4a17d8c82"
            ],
            "layout": "IPY_MODEL_0f84919271db483ab2d3fdcacd018d46"
          }
        },
        "79e33f90194d4215a7ea8db9bfbe8f9d": {
          "model_module": "@jupyter-widgets/output",
          "model_name": "OutputModel",
          "model_module_version": "1.0.0",
          "state": {
            "_dom_classes": [],
            "_model_module": "@jupyter-widgets/output",
            "_model_module_version": "1.0.0",
            "_model_name": "OutputModel",
            "_view_count": null,
            "_view_module": "@jupyter-widgets/output",
            "_view_module_version": "1.0.0",
            "_view_name": "OutputView",
            "layout": "IPY_MODEL_d0f6a74e30f54196bf594efc362adb80",
            "msg_id": "",
            "outputs": [
              {
                "output_type": "display_data",
                "data": {
                  "text/plain": "Textarea(value='!!---------------------------------------------------------------------------\\n!! This DFA loo…",
                  "application/vnd.jupyter.widget-view+json": {
                    "version_major": 2,
                    "version_minor": 0,
                    "model_id": "e693637e06aa4c80a926b58cea3e32f6"
                  }
                },
                "metadata": {}
              }
            ]
          }
        },
        "4855ce58eae74ff4ac5a2767734aa712": {
          "model_module": "@jupyter-widgets/controls",
          "model_name": "AccordionModel",
          "model_module_version": "1.5.0",
          "state": {
            "_dom_classes": [],
            "_model_module": "@jupyter-widgets/controls",
            "_model_module_version": "1.5.0",
            "_model_name": "AccordionModel",
            "_titles": {
              "0": "Options"
            },
            "_view_count": null,
            "_view_module": "@jupyter-widgets/controls",
            "_view_module_version": "1.5.0",
            "_view_name": "AccordionView",
            "box_style": "",
            "children": [
              "IPY_MODEL_5efc5d0c625946e1bb63ffe1f228d58a"
            ],
            "layout": "IPY_MODEL_6852359ec3f74e0ba053485d4e107f44",
            "selected_index": null
          }
        },
        "ce7c7745d2574f689866a8a51e72cca8": {
          "model_module": "@jupyter-widgets/base",
          "model_name": "LayoutModel",
          "model_module_version": "1.2.0",
          "state": {
            "_model_module": "@jupyter-widgets/base",
            "_model_module_version": "1.2.0",
            "_model_name": "LayoutModel",
            "_view_count": null,
            "_view_module": "@jupyter-widgets/base",
            "_view_module_version": "1.2.0",
            "_view_name": "LayoutView",
            "align_content": null,
            "align_items": null,
            "align_self": null,
            "border": null,
            "bottom": null,
            "display": null,
            "flex": null,
            "flex_flow": null,
            "grid_area": null,
            "grid_auto_columns": null,
            "grid_auto_flow": null,
            "grid_auto_rows": null,
            "grid_column": null,
            "grid_gap": null,
            "grid_row": null,
            "grid_template_areas": null,
            "grid_template_columns": null,
            "grid_template_rows": null,
            "height": null,
            "justify_content": null,
            "justify_items": null,
            "left": null,
            "margin": null,
            "max_height": null,
            "max_width": null,
            "min_height": null,
            "min_width": null,
            "object_fit": null,
            "object_position": null,
            "order": null,
            "overflow": null,
            "overflow_x": null,
            "overflow_y": null,
            "padding": null,
            "right": null,
            "top": null,
            "visibility": null,
            "width": null
          }
        },
        "c8a26284059c4585acbc96262dc032b5": {
          "model_module": "@jupyter-widgets/output",
          "model_name": "OutputModel",
          "model_module_version": "1.0.0",
          "state": {
            "_dom_classes": [],
            "_model_module": "@jupyter-widgets/output",
            "_model_module_version": "1.0.0",
            "_model_name": "OutputModel",
            "_view_count": null,
            "_view_module": "@jupyter-widgets/output",
            "_view_module_version": "1.0.0",
            "_view_name": "OutputView",
            "layout": "IPY_MODEL_7be97558cf2b4e9aafbffcf5a2847684",
            "msg_id": "",
            "outputs": []
          }
        },
        "62681064768b481fbbb857030d9dabea": {
          "model_module": "@jupyter-widgets/output",
          "model_name": "OutputModel",
          "model_module_version": "1.0.0",
          "state": {
            "_dom_classes": [],
            "_model_module": "@jupyter-widgets/output",
            "_model_module_version": "1.0.0",
            "_model_name": "OutputModel",
            "_view_count": null,
            "_view_module": "@jupyter-widgets/output",
            "_view_module_version": "1.0.0",
            "_view_name": "OutputView",
            "layout": "IPY_MODEL_de7123dad6874375b85b2ae1c32b420f",
            "msg_id": "",
            "outputs": []
          }
        },
        "272aa51f3a504f8289901fbbfcd679f1": {
          "model_module": "@jupyter-widgets/output",
          "model_name": "OutputModel",
          "model_module_version": "1.0.0",
          "state": {
            "_dom_classes": [],
            "_model_module": "@jupyter-widgets/output",
            "_model_module_version": "1.0.0",
            "_model_name": "OutputModel",
            "_view_count": null,
            "_view_module": "@jupyter-widgets/output",
            "_view_module_version": "1.0.0",
            "_view_name": "OutputView",
            "layout": "IPY_MODEL_6c4ffdd654234e76933fcb3e0313d6dc",
            "msg_id": "",
            "outputs": []
          }
        },
        "7239c08ba990497782aba09470489e0a": {
          "model_module": "@jupyter-widgets/base",
          "model_name": "LayoutModel",
          "model_module_version": "1.2.0",
          "state": {
            "_model_module": "@jupyter-widgets/base",
            "_model_module_version": "1.2.0",
            "_model_name": "LayoutModel",
            "_view_count": null,
            "_view_module": "@jupyter-widgets/base",
            "_view_module_version": "1.2.0",
            "_view_name": "LayoutView",
            "align_content": null,
            "align_items": null,
            "align_self": null,
            "border": null,
            "bottom": null,
            "display": null,
            "flex": null,
            "flex_flow": null,
            "grid_area": null,
            "grid_auto_columns": null,
            "grid_auto_flow": null,
            "grid_auto_rows": null,
            "grid_column": null,
            "grid_gap": null,
            "grid_row": null,
            "grid_template_areas": null,
            "grid_template_columns": null,
            "grid_template_rows": null,
            "height": null,
            "justify_content": null,
            "justify_items": null,
            "left": null,
            "margin": null,
            "max_height": null,
            "max_width": null,
            "min_height": null,
            "min_width": null,
            "object_fit": null,
            "object_position": null,
            "order": null,
            "overflow": null,
            "overflow_x": null,
            "overflow_y": null,
            "padding": null,
            "right": null,
            "top": null,
            "visibility": null,
            "width": null
          }
        },
        "0861325ab6df479f800062490b5fc16b": {
          "model_module": "@jupyter-widgets/controls",
          "model_name": "HTMLModel",
          "model_module_version": "1.5.0",
          "state": {
            "_dom_classes": [],
            "_model_module": "@jupyter-widgets/controls",
            "_model_module_version": "1.5.0",
            "_model_name": "HTMLModel",
            "_view_count": null,
            "_view_module": "@jupyter-widgets/controls",
            "_view_module_version": "1.5.0",
            "_view_name": "HTMLView",
            "description": "",
            "description_tooltip": null,
            "layout": "IPY_MODEL_cd3a416076174bb8a1a6c0f961c8c400",
            "placeholder": "​",
            "style": "IPY_MODEL_14104191908d416894ac35d8b029f712",
            "value": "<H2>Help</H2>"
          }
        },
        "71c8930caa3b462db3694934ff58ffa8": {
          "model_module": "@jupyter-widgets/controls",
          "model_name": "AccordionModel",
          "model_module_version": "1.5.0",
          "state": {
            "_dom_classes": [],
            "_model_module": "@jupyter-widgets/controls",
            "_model_module_version": "1.5.0",
            "_model_name": "AccordionModel",
            "_titles": {
              "0": "Machine Markdown",
              "1": "Options",
              "2": "Animations",
              "3": "Play Controls",
              "4": "Translation from JFlap"
            },
            "_view_count": null,
            "_view_module": "@jupyter-widgets/controls",
            "_view_module_version": "1.5.0",
            "_view_name": "AccordionView",
            "box_style": "",
            "children": [
              "IPY_MODEL_61a12275df0f44f79a07c5d58acedbcb",
              "IPY_MODEL_c3e607625dd04509b223a64abcfd3f1f",
              "IPY_MODEL_c418db3693bd47519fc4a9d4fd09cdf5",
              "IPY_MODEL_50ca5f21fa2147a98a22a5e361830f6c",
              "IPY_MODEL_43ef46719b3541bab704f9898795c1ce"
            ],
            "layout": "IPY_MODEL_7efc0d9205d8483aaa5f8f8d92152ced",
            "selected_index": null
          }
        },
        "fb4ce9c0a9e546a9983e33ea806b697e": {
          "model_module": "@jupyter-widgets/base",
          "model_name": "LayoutModel",
          "model_module_version": "1.2.0",
          "state": {
            "_model_module": "@jupyter-widgets/base",
            "_model_module_version": "1.2.0",
            "_model_name": "LayoutModel",
            "_view_count": null,
            "_view_module": "@jupyter-widgets/base",
            "_view_module_version": "1.2.0",
            "_view_name": "LayoutView",
            "align_content": null,
            "align_items": null,
            "align_self": null,
            "border": null,
            "bottom": null,
            "display": null,
            "flex": null,
            "flex_flow": null,
            "grid_area": null,
            "grid_auto_columns": null,
            "grid_auto_flow": null,
            "grid_auto_rows": null,
            "grid_column": null,
            "grid_gap": null,
            "grid_row": null,
            "grid_template_areas": null,
            "grid_template_columns": null,
            "grid_template_rows": null,
            "height": null,
            "justify_content": null,
            "justify_items": null,
            "left": null,
            "margin": null,
            "max_height": null,
            "max_width": null,
            "min_height": null,
            "min_width": null,
            "object_fit": null,
            "object_position": null,
            "order": null,
            "overflow": null,
            "overflow_x": null,
            "overflow_y": null,
            "padding": null,
            "right": null,
            "top": null,
            "visibility": null,
            "width": null
          }
        },
        "2d7a866a01fa4199aa2abecd45f368eb": {
          "model_module": "@jupyter-widgets/controls",
          "model_name": "AccordionModel",
          "model_module_version": "1.5.0",
          "state": {
            "_dom_classes": [],
            "_model_module": "@jupyter-widgets/controls",
            "_model_module_version": "1.5.0",
            "_model_name": "AccordionModel",
            "_titles": {
              "0": "Save/Load"
            },
            "_view_count": null,
            "_view_module": "@jupyter-widgets/controls",
            "_view_module_version": "1.5.0",
            "_view_name": "AccordionView",
            "box_style": "",
            "children": [
              "IPY_MODEL_034cff0346144a41a0be75d25eba75b5"
            ],
            "layout": "IPY_MODEL_b530c0de84114800b813f6793bc46100",
            "selected_index": null
          }
        },
        "f533e6c0e7254eeea622d0c4a17d8c82": {
          "model_module": "@jupyter-widgets/controls",
          "model_name": "ToggleButtonsModel",
          "model_module_version": "1.5.0",
          "state": {
            "_dom_classes": [],
            "_model_module": "@jupyter-widgets/controls",
            "_model_module_version": "1.5.0",
            "_model_name": "ToggleButtonsModel",
            "_options_labels": [
              "DFA",
              "NFA",
              "PDA",
              "TM",
              "Translate"
            ],
            "_view_count": null,
            "_view_module": "@jupyter-widgets/controls",
            "_view_module_version": "1.5.0",
            "_view_name": "ToggleButtonsView",
            "button_style": "info",
            "description": "",
            "description_tooltip": null,
            "disabled": false,
            "icons": [],
            "index": 0,
            "layout": "IPY_MODEL_3be5bb4c39c7424387e66628890323d0",
            "style": "IPY_MODEL_c7a4ed21f69945a6b602f174998dd12a",
            "tooltips": [
              "Deterministic Finite Automata",
              "Non-deterministic Finite Automata",
              "Pushdown Automata",
              "Turing Machine",
              "Translation"
            ]
          }
        },
        "0f84919271db483ab2d3fdcacd018d46": {
          "model_module": "@jupyter-widgets/base",
          "model_name": "LayoutModel",
          "model_module_version": "1.2.0",
          "state": {
            "_model_module": "@jupyter-widgets/base",
            "_model_module_version": "1.2.0",
            "_model_name": "LayoutModel",
            "_view_count": null,
            "_view_module": "@jupyter-widgets/base",
            "_view_module_version": "1.2.0",
            "_view_name": "LayoutView",
            "align_content": "center",
            "align_items": null,
            "align_self": null,
            "border": null,
            "bottom": null,
            "display": null,
            "flex": null,
            "flex_flow": null,
            "grid_area": null,
            "grid_auto_columns": null,
            "grid_auto_flow": null,
            "grid_auto_rows": null,
            "grid_column": null,
            "grid_gap": null,
            "grid_row": null,
            "grid_template_areas": null,
            "grid_template_columns": null,
            "grid_template_rows": null,
            "height": null,
            "justify_content": null,
            "justify_items": null,
            "left": null,
            "margin": null,
            "max_height": null,
            "max_width": null,
            "min_height": null,
            "min_width": null,
            "object_fit": null,
            "object_position": null,
            "order": null,
            "overflow": null,
            "overflow_x": null,
            "overflow_y": null,
            "padding": null,
            "right": null,
            "top": null,
            "visibility": null,
            "width": "100%"
          }
        },
        "5efc5d0c625946e1bb63ffe1f228d58a": {
          "model_module": "@jupyter-widgets/controls",
          "model_name": "GridBoxModel",
          "model_module_version": "1.5.0",
          "state": {
            "_dom_classes": [],
            "_model_module": "@jupyter-widgets/controls",
            "_model_module_version": "1.5.0",
            "_model_name": "GridBoxModel",
            "_view_count": null,
            "_view_module": "@jupyter-widgets/controls",
            "_view_module_version": "1.5.0",
            "_view_name": "GridBoxView",
            "box_style": "",
            "children": [
              "IPY_MODEL_cbb873395d884dbfb6d9baedb3b86a24",
              "IPY_MODEL_29e953e891e34162bf914d810d4d1fd2",
              "IPY_MODEL_43dc32ec4fb44e7f8d33d61b9e7a2123",
              "IPY_MODEL_a06b9c4fab814e3ab6a2f706ea5b9706",
              "IPY_MODEL_2cb13b95da4349d59f233f850cc1ac4e",
              "IPY_MODEL_276fc117bafa4d22967d8a95d8816c08",
              "IPY_MODEL_d2e15218bd8d4bd3a6dea4709a1daf18",
              "IPY_MODEL_4b11d476322b410599429e4bcd1f288d",
              "IPY_MODEL_4e09a75ef2d4449a9d82dd80e549758e",
              "IPY_MODEL_457ad8c90d194d808967812a928104c7",
              "IPY_MODEL_90e9541623ce4351bd8b69a2f8ef2477",
              "IPY_MODEL_9242be3139a54bd18e15562a809dbfda"
            ],
            "layout": "IPY_MODEL_03e5b09b69ae45f4bf4f8d72f5e6db5c"
          }
        },
        "6852359ec3f74e0ba053485d4e107f44": {
          "model_module": "@jupyter-widgets/base",
          "model_name": "LayoutModel",
          "model_module_version": "1.2.0",
          "state": {
            "_model_module": "@jupyter-widgets/base",
            "_model_module_version": "1.2.0",
            "_model_name": "LayoutModel",
            "_view_count": null,
            "_view_module": "@jupyter-widgets/base",
            "_view_module_version": "1.2.0",
            "_view_name": "LayoutView",
            "align_content": null,
            "align_items": null,
            "align_self": null,
            "border": null,
            "bottom": null,
            "display": null,
            "flex": null,
            "flex_flow": null,
            "grid_area": null,
            "grid_auto_columns": null,
            "grid_auto_flow": null,
            "grid_auto_rows": null,
            "grid_column": null,
            "grid_gap": null,
            "grid_row": null,
            "grid_template_areas": null,
            "grid_template_columns": null,
            "grid_template_rows": null,
            "height": null,
            "justify_content": null,
            "justify_items": null,
            "left": null,
            "margin": null,
            "max_height": null,
            "max_width": null,
            "min_height": null,
            "min_width": null,
            "object_fit": null,
            "object_position": null,
            "order": null,
            "overflow": "hidden",
            "overflow_x": null,
            "overflow_y": null,
            "padding": null,
            "right": null,
            "top": null,
            "visibility": null,
            "width": null
          }
        },
        "cd3a416076174bb8a1a6c0f961c8c400": {
          "model_module": "@jupyter-widgets/base",
          "model_name": "LayoutModel",
          "model_module_version": "1.2.0",
          "state": {
            "_model_module": "@jupyter-widgets/base",
            "_model_module_version": "1.2.0",
            "_model_name": "LayoutModel",
            "_view_count": null,
            "_view_module": "@jupyter-widgets/base",
            "_view_module_version": "1.2.0",
            "_view_name": "LayoutView",
            "align_content": null,
            "align_items": null,
            "align_self": null,
            "border": null,
            "bottom": null,
            "display": null,
            "flex": null,
            "flex_flow": null,
            "grid_area": null,
            "grid_auto_columns": null,
            "grid_auto_flow": null,
            "grid_auto_rows": null,
            "grid_column": null,
            "grid_gap": null,
            "grid_row": null,
            "grid_template_areas": null,
            "grid_template_columns": null,
            "grid_template_rows": null,
            "height": null,
            "justify_content": null,
            "justify_items": null,
            "left": null,
            "margin": null,
            "max_height": null,
            "max_width": null,
            "min_height": null,
            "min_width": null,
            "object_fit": null,
            "object_position": null,
            "order": null,
            "overflow": null,
            "overflow_x": null,
            "overflow_y": null,
            "padding": null,
            "right": null,
            "top": null,
            "visibility": null,
            "width": null
          }
        },
        "14104191908d416894ac35d8b029f712": {
          "model_module": "@jupyter-widgets/controls",
          "model_name": "DescriptionStyleModel",
          "model_module_version": "1.5.0",
          "state": {
            "_model_module": "@jupyter-widgets/controls",
            "_model_module_version": "1.5.0",
            "_model_name": "DescriptionStyleModel",
            "_view_count": null,
            "_view_module": "@jupyter-widgets/base",
            "_view_module_version": "1.2.0",
            "_view_name": "StyleView",
            "description_width": ""
          }
        },
        "61a12275df0f44f79a07c5d58acedbcb": {
          "model_module": "@jupyter-widgets/controls",
          "model_name": "HTMLModel",
          "model_module_version": "1.5.0",
          "state": {
            "_dom_classes": [],
            "_model_module": "@jupyter-widgets/controls",
            "_model_module_version": "1.5.0",
            "_model_name": "HTMLModel",
            "_view_count": null,
            "_view_module": "@jupyter-widgets/controls",
            "_view_module_version": "1.5.0",
            "_view_name": "HTMLView",
            "description": "",
            "description_tooltip": null,
            "layout": "IPY_MODEL_42e7ad9c081045b7b707293139b0b621",
            "placeholder": "​",
            "style": "IPY_MODEL_88a9212ac3f243f7893fc63c39a32832",
            "value": "<H4>General</H4>\nThe markdown for specifying a machine using Jove is similar for all machine types. You just need to write a series of\nrules that define the transitions between the states in the machine. These rules all share the same base pattern: </br>\n<code>&lt;From State&gt; : &lt;Transition Condition&gt; &minus;&gt; &lt;To State&gt;</code> </br>\nWith the additional constraints: </br>\n<ul>\n  <li>Initial state names must start with an <code>I</code> </li>\n  <li>Final state names must start with a <code>F</code> </li>\n  <li>States that are both initial and final must have a name that starts with <code>IF</code> </li>\n  <li><code>!!</code> start a line comment, anything after the <code>!!</code> will be ignored by the parser </li>\n  <li><code>''</code> stands for 'epsilon', a zero-length string and can be used in NFA and PDA as noted below </li>\n</ul>\nAs an example, if we wanted to create a rule for a DFA that starts in initial state <code>I_start</code> and goes to \nfinal state <code>F_end</code> when a <code>0</code> is consumed the rule would be: </br>\n<code>I_start : 0 &minus;&gt; F_end</code> </br>\nIf there is more than one transition condition between the same From and To states you can combine rules using a \n<code>&vert;</code> separated list of transitions. For two transitions the pattern is: </br>\n<code>&lt;From State&gt; : &lt;Transition Condition 1&gt; &vert; &lt;Transition Condition 2&gt; &minus;&gt; &lt;To State&gt;</code> \n</br>\nSo, if we added a second rule that starts in initial state <code>I_start</code> and goes to final state \n<code>F_end</code> when a <code>1</code> is consumed &lpar;<code>I_start : 1 &minus;&gt; F_end</code>&rpar; then the \ncombined rule would be: </br>\n<code>I_start : 0 &vert; 1 &minus;&gt; F_end</code> </br>\n<b>Note:</b> Whitespace in a line &lpar;space and tab&rpar; is ignored by the parser, so format your rules in a way \nthat makes them easy to read and add plenty of comments </br>\n\n<H4>Deterministic Finite Automata (DFA)</H4>\n<code>&lt;from state&gt; : &lt;input symbol&gt; &minus;&gt; &lt;to state&gt;  !! comment </code></br>\nex: <code>I : 0 &minus;&gt; A</code> </br>\n\n<H4>Non-Deterministic Finite Automata (NFA)</H4>\nNFA can have <code>''</code> transitions in addition to transitions that consume input symbols. \n<code>&lt;from state&gt; : &lt;input symbol or ''&gt; &minus;&gt; &lt;to state&gt;  !! comment</code> </br>\nex: <code>I : 0 &minus;&gt; A</code> </br>\nNFA are the only machine type in Jove that can have multiple initial states, remember that each of the initial state \nnames must start with an <code>I</code>. </br>\n\n<H4>Pushdown Automata (PDA)</H4>\nPDA transitions have three parts:\n<ol>\n  <li>Input symbol to consume</li>\n  <li>Symbol popped from the stack</li>\n  <li>Symbol&lpar;s&rpar; to push onto the stack</li>  \n</ol>\nBy default, PDA have a <code>#</code> marker at the bottom of the stack so that it is easy to check if the stack is \nempty. You are not <i>required</i> to replace the <code>#</code> marker when it is popped off the stack but it is best \npractice to make sure it is always on the stack. </br>\nPDA can have <code>''</code> transitions that: do not consume an input symbol, do not pop from the stack, do not push \nto the stack, or any combination of the the three.\n<code>&lt;from state&gt; : &lt;consume input symbol or ''&gt; , &lt;pop stack symbol or ''&gt; ; &lt;push stack symbol&lpar;s&rpar; or ''&gt; &minus;&gt; &lt;to state&gt;  !! comment</code> </br>\nex: <code>I : 0 , # ; 0# &minus;&gt; A</code> </br>\n\n<H4>Turing Machines (TM)</H4>\nTuring Machine transitions have three parts:\n<ol>\n  <li>Symbol to read from the tape</li>\n  <li>Symbol to write on the tape</li>\n  <li>Head movement &lpar;L - move left, R - move right, S - stay put&rpar;</li>  \n</ol>\nJove Turing Machines use <code>.</code> to denote a blank position on the tape and all positions to the left and right \nof the initial input contain <code>.</code>. </br>\n<code>&lt;from state&gt; : &ltread from tape&gt; ; &lt;write to tape&gt; , &lt;head move &lpar;L,R,S&rpar;&gt; &minus;&gt; &lt;to state&gt;  !! comment</code> </br>\nex: <code>I : 0 ; B , R &minus;&gt; A</code> </br>"
          }
        },
        "c3e607625dd04509b223a64abcfd3f1f": {
          "model_module": "@jupyter-widgets/controls",
          "model_name": "HTMLModel",
          "model_module_version": "1.5.0",
          "state": {
            "_dom_classes": [],
            "_model_module": "@jupyter-widgets/controls",
            "_model_module_version": "1.5.0",
            "_model_name": "HTMLModel",
            "_view_count": null,
            "_view_module": "@jupyter-widgets/controls",
            "_view_module_version": "1.5.0",
            "_view_name": "HTMLView",
            "description": "",
            "description_tooltip": null,
            "layout": "IPY_MODEL_874f95fbf5284c4b84cfa3d31eb0b4c2",
            "placeholder": "​",
            "style": "IPY_MODEL_569f2d64b06a48f9ae3c5ae946d89757",
            "value": "There are three color pickers to let you control the colors used in the animations: </br>\n<ul>\n    <li><b>Acceptance:</b> Indicates the machine stopped in an accepting state</li>\n    <li><b>Rejection:</b> Indicates the machine stopped in a rejecting state</li>\n    <li><b>Transition:</b> This color is used to highlight the edges and nodes that are visited while the input string is \n    consumed</li>\n</ul>\n</br>\n<b>Fuse Edges:</b> Controls whether edges between states are drawn individually. If selected, only one directed edge is \ndrawn between state pairs and the transition labels are stacked above. This often helps simplify machine visualization. \n</br>\n<b>Max Draw Size:</b> The maximum width of the animation widget in inches. The purpose of this control is to prevent \nlarge visualizations from extending outside the area that the animation widget can draw, which forces the area to become \nscrollable. \n</br>\n<b>Alternate Start (DFA and NFA):</b> If selected, an additionaly control is added at the top of the animation that \nallows you to select the state (DFA) or set of states (NFA) that the machine starts in. For DFA the control is a \ndropdown box. For NFA the control is a multiselct box, select multiple state names using <code>Ctrl + Click</code> \n(Windows) or <code>Shift + Click</code> (Mac).\n</br>\n<b>Show Rejected (TM):</b> If selected, the path dropdown box will also include rejected paths that were explored by \nthe TM.\n</br>\n<b>Max Stack Size (PDA):</b> Controls the maximum stack size that can be picked using the 'Stack Size' slider. The \nslider default value is always 6."
          }
        },
        "c418db3693bd47519fc4a9d4fd09cdf5": {
          "model_module": "@jupyter-widgets/controls",
          "model_name": "HTMLModel",
          "model_module_version": "1.5.0",
          "state": {
            "_dom_classes": [],
            "_model_module": "@jupyter-widgets/controls",
            "_model_module_version": "1.5.0",
            "_model_name": "HTMLModel",
            "_view_count": null,
            "_view_module": "@jupyter-widgets/controls",
            "_view_module_version": "1.5.0",
            "_view_name": "HTMLView",
            "description": "",
            "description_tooltip": null,
            "layout": "IPY_MODEL_78a8e3a7103f4d79a66d9e27faae5194",
            "placeholder": "​",
            "style": "IPY_MODEL_c7cf3d62280f4369891c5f4a9a1b786a",
            "value": "<H4>General</H4>\nYou can enter a string for the machine to consume in the 'Input:' text box at the top of the widget. The string must be \ncomposed of symbols in the machine's alphabet which is displayed in input box by default. If the string contains \nunknown symbols the 'Animate' button will turn red with the message 'Invalid Input' until the string is updated.\n</br></br>\nClick the 'Animate' button when you are ready for the machine to animate using your input. This disables the input \ntextbox and enables the play controls at the bottom of the widget. When you are done exploring the current input click \nthe 'Change Input' button to disable the play controls and re-enable the input textbox.\n</br>\n\n<H4>Deterministic Finite Automata (DFA)</H4>\nIf the 'Alternate Start' option is selected, a dropdown box is added to the controls at the top of the widget that \nallows you to pick which state the DFA starts in when consuming the input.\n</br>\n<H4>Non-Deterministic Finite Automata (NFA)</H4>\nIf the 'Alternate Start' option is selected, a multiselect box is added to the controls at the top of the widget that \nallows you to pick which set of states the NFA starts in when consuming the input. Select multiple state names using \n<code>Ctrl + Click</code> (Windows) or <code>Shift + Click</code> (Mac).\n</br>\n<H4>Pushdown Automata (PDA)</H4>\nThis widget has two additional controls at the top. The 'Acceptance' dropdown lets you choose the acceptance \ncriteria used when animating the PDA. 'State' will accept paths where the machine is in a final state when the input \nhas been consumed. 'Stack' will accept paths where the stack is empty when the input has been consumed. Use the 'Stack \nSize' slider to changes the stack size used when looking for accepting paths.\n</br></br>\nThe 'Path' dropdown box at the bottom of the widget will be populated with one option for each accepting path found for \nthe provided input. If no accepting path is found the graph will highlight red and a message displays confirming the \ninput was rejected.\n</br>\n<H4>Turing Machines (TM)</H4>\nThe 'Fuel' spinner box at the top of this widget can be used to increase the number of steps the machine is allowed to \ntake while searching for an accepting path. This forces the machine to stop in a finite amount of time. \n</br></br>\nThe dropdown box at the bottom of the widget is populated with all accepting paths found for the provided input. If \nthe 'Show Rejected' option is selected the dropdown will also include animations for the rejected paths that the TM \nsearched."
          }
        },
        "50ca5f21fa2147a98a22a5e361830f6c": {
          "model_module": "@jupyter-widgets/controls",
          "model_name": "HTMLModel",
          "model_module_version": "1.5.0",
          "state": {
            "_dom_classes": [],
            "_model_module": "@jupyter-widgets/controls",
            "_model_module_version": "1.5.0",
            "_model_name": "HTMLModel",
            "_view_count": null,
            "_view_module": "@jupyter-widgets/controls",
            "_view_module_version": "1.5.0",
            "_view_name": "HTMLView",
            "description": "",
            "description_tooltip": null,
            "layout": "IPY_MODEL_1d3fafcaa25f4be59a9c72dc5f1c59db",
            "placeholder": "​",
            "style": "IPY_MODEL_5984253f38544f88a651ca8e893ed31c",
            "value": "You can enter a string for the machine to consume in the 'Input:' text box at the top of the widget. The string must be \ncomposed of symbols in the machine's alphabet which is displayed in input box by default. If the string contains unknown \nsymbols the 'Animate' button will turn red with the message 'Invalid Input' until the string is updated. \n</br></br>\nClick the 'Animate' button when you are ready for the machine to animate using your input. This disables the input \ntextbox and enables the play controls at the bottom of the widget. When you are done exploring the current input click \nthe 'Change Input' button to disable the play controls and re-enable the input textbox.\n</br></br>\nThe play controls at the bottom of the widget (from left to right) consist of: </br>\n<ul>\n    <li><b>Play :</b> play/resume the animation</li>\n    <li><b>Pause :</b> pause the animation</li>\n    <li><b>Stop :</b> stop the animation, play will start from the beginning</li>\n    <li><b>Loop :</b> loop when the end of the animation is reached and continue playing from the beginning</li>\n    <li><b>Step Backward :</b> take one 'step' backward in the animation</li>\n    <li><b>Step Forward :</b> take one 'step' forward in the animation</li>\n    <li><b>Speed :</b> this slider lets you increase the animation playback speed</li>\n</ul>"
          }
        },
        "43ef46719b3541bab704f9898795c1ce": {
          "model_module": "@jupyter-widgets/controls",
          "model_name": "HTMLModel",
          "model_module_version": "1.5.0",
          "state": {
            "_dom_classes": [],
            "_model_module": "@jupyter-widgets/controls",
            "_model_module_version": "1.5.0",
            "_model_name": "HTMLModel",
            "_view_count": null,
            "_view_module": "@jupyter-widgets/controls",
            "_view_module_version": "1.5.0",
            "_view_name": "HTMLView",
            "description": "",
            "description_tooltip": null,
            "layout": "IPY_MODEL_4ffc0dec65324d76865304f4ee63e2a8",
            "placeholder": "​",
            "style": "IPY_MODEL_71a0cc41ffd64573972798c62f2dfbdc",
            "value": "You can translate JFlap files to Jove machines using this Jove Editor.\n<ul>\n  <li><b>Load a JFlap file</b> - Open the 'Save/Load' menu and click 'Load'. Use the file dialog to select a JFlap \n  file with the '.jff' extension. When the file is loaded the text over the two textareas will indicate the machine type \n  of the translated machine. The translated machine will be displayed in the left textarea and the translated rules \n  will be displayed in the right textarea. The required prefixes for initial and final state names are automatically \n  added.</li>\n  <li><b>Edit</b> - If you want to make changes to the machine, make your edits to the rules and add comments in the \n  right textarea.</li>\n  <li><b>Animate</b> - Switch to the 'Animate' tab to see the animation for the translated machine. Any edits made in \n  the right textarea will also be part of the animation.</li>\n  <li><b>Save</b> - Save your translated machine using the 'Save/Load' menu. The changes and comments made in the \n  right textarea will be saved.</li>\n</ul>\n<p><b><em>Note:</em></b> Jove Editor does not force JFlap state names to conform to Jove Markdown, so initial and \nfinal states may break the Jove Markdown convention. Animations should still work on these machines.</p>"
          }
        },
        "7efc0d9205d8483aaa5f8f8d92152ced": {
          "model_module": "@jupyter-widgets/base",
          "model_name": "LayoutModel",
          "model_module_version": "1.2.0",
          "state": {
            "_model_module": "@jupyter-widgets/base",
            "_model_module_version": "1.2.0",
            "_model_name": "LayoutModel",
            "_view_count": null,
            "_view_module": "@jupyter-widgets/base",
            "_view_module_version": "1.2.0",
            "_view_name": "LayoutView",
            "align_content": null,
            "align_items": null,
            "align_self": null,
            "border": null,
            "bottom": null,
            "display": null,
            "flex": null,
            "flex_flow": null,
            "grid_area": null,
            "grid_auto_columns": null,
            "grid_auto_flow": null,
            "grid_auto_rows": null,
            "grid_column": null,
            "grid_gap": null,
            "grid_row": null,
            "grid_template_areas": null,
            "grid_template_columns": null,
            "grid_template_rows": null,
            "height": null,
            "justify_content": null,
            "justify_items": null,
            "left": null,
            "margin": null,
            "max_height": null,
            "max_width": null,
            "min_height": null,
            "min_width": null,
            "object_fit": null,
            "object_position": null,
            "order": null,
            "overflow": null,
            "overflow_x": null,
            "overflow_y": null,
            "padding": null,
            "right": null,
            "top": null,
            "visibility": null,
            "width": null
          }
        },
        "034cff0346144a41a0be75d25eba75b5": {
          "model_module": "@jupyter-widgets/controls",
          "model_name": "VBoxModel",
          "model_module_version": "1.5.0",
          "state": {
            "_dom_classes": [],
            "_model_module": "@jupyter-widgets/controls",
            "_model_module_version": "1.5.0",
            "_model_name": "VBoxModel",
            "_view_count": null,
            "_view_module": "@jupyter-widgets/controls",
            "_view_module_version": "1.5.0",
            "_view_name": "VBoxView",
            "box_style": "",
            "children": [
              "IPY_MODEL_6b9bc56decda49a6a4608c1c3871708e",
              "IPY_MODEL_ae28132ae10e4907b8ed24314c643899",
              "IPY_MODEL_788d7bbe7a344687bfd132f3cbcadd20",
              "IPY_MODEL_3fa7462290f44f7190ef8a1a4ce4a96f"
            ],
            "layout": "IPY_MODEL_317a8d091f8a4111b50215e5aaf5ae0e"
          }
        },
        "b530c0de84114800b813f6793bc46100": {
          "model_module": "@jupyter-widgets/base",
          "model_name": "LayoutModel",
          "model_module_version": "1.2.0",
          "state": {
            "_model_module": "@jupyter-widgets/base",
            "_model_module_version": "1.2.0",
            "_model_name": "LayoutModel",
            "_view_count": null,
            "_view_module": "@jupyter-widgets/base",
            "_view_module_version": "1.2.0",
            "_view_name": "LayoutView",
            "align_content": null,
            "align_items": null,
            "align_self": null,
            "border": null,
            "bottom": null,
            "display": null,
            "flex": null,
            "flex_flow": null,
            "grid_area": null,
            "grid_auto_columns": null,
            "grid_auto_flow": null,
            "grid_auto_rows": null,
            "grid_column": null,
            "grid_gap": null,
            "grid_row": null,
            "grid_template_areas": null,
            "grid_template_columns": null,
            "grid_template_rows": null,
            "height": null,
            "justify_content": null,
            "justify_items": null,
            "left": null,
            "margin": null,
            "max_height": null,
            "max_width": null,
            "min_height": null,
            "min_width": null,
            "object_fit": null,
            "object_position": null,
            "order": null,
            "overflow": null,
            "overflow_x": null,
            "overflow_y": null,
            "padding": null,
            "right": null,
            "top": null,
            "visibility": null,
            "width": null
          }
        },
        "3be5bb4c39c7424387e66628890323d0": {
          "model_module": "@jupyter-widgets/base",
          "model_name": "LayoutModel",
          "model_module_version": "1.2.0",
          "state": {
            "_model_module": "@jupyter-widgets/base",
            "_model_module_version": "1.2.0",
            "_model_name": "LayoutModel",
            "_view_count": null,
            "_view_module": "@jupyter-widgets/base",
            "_view_module_version": "1.2.0",
            "_view_name": "LayoutView",
            "align_content": null,
            "align_items": null,
            "align_self": null,
            "border": null,
            "bottom": null,
            "display": null,
            "flex": null,
            "flex_flow": null,
            "grid_area": null,
            "grid_auto_columns": null,
            "grid_auto_flow": null,
            "grid_auto_rows": null,
            "grid_column": null,
            "grid_gap": null,
            "grid_row": null,
            "grid_template_areas": null,
            "grid_template_columns": null,
            "grid_template_rows": null,
            "height": null,
            "justify_content": null,
            "justify_items": null,
            "left": null,
            "margin": null,
            "max_height": null,
            "max_width": null,
            "min_height": null,
            "min_width": null,
            "object_fit": null,
            "object_position": null,
            "order": null,
            "overflow": null,
            "overflow_x": null,
            "overflow_y": null,
            "padding": null,
            "right": null,
            "top": null,
            "visibility": null,
            "width": null
          }
        },
        "c7a4ed21f69945a6b602f174998dd12a": {
          "model_module": "@jupyter-widgets/controls",
          "model_name": "ToggleButtonsStyleModel",
          "model_module_version": "1.5.0",
          "state": {
            "_model_module": "@jupyter-widgets/controls",
            "_model_module_version": "1.5.0",
            "_model_name": "ToggleButtonsStyleModel",
            "_view_count": null,
            "_view_module": "@jupyter-widgets/base",
            "_view_module_version": "1.2.0",
            "_view_name": "StyleView",
            "button_width": "120px",
            "description_width": "",
            "font_weight": ""
          }
        },
        "cbb873395d884dbfb6d9baedb3b86a24": {
          "model_module": "@jupyter-widgets/controls",
          "model_name": "LabelModel",
          "model_module_version": "1.5.0",
          "state": {
            "_dom_classes": [],
            "_model_module": "@jupyter-widgets/controls",
            "_model_module_version": "1.5.0",
            "_model_name": "LabelModel",
            "_view_count": null,
            "_view_module": "@jupyter-widgets/controls",
            "_view_module_version": "1.5.0",
            "_view_name": "LabelView",
            "description": "",
            "description_tooltip": null,
            "layout": "IPY_MODEL_5b0bb31f10834570820a83ee163ef0a3",
            "placeholder": "​",
            "style": "IPY_MODEL_a77e518607ce420a8f7810cb9d1c5ae7",
            "value": "Animation Colors:"
          }
        },
        "29e953e891e34162bf914d810d4d1fd2": {
          "model_module": "@jupyter-widgets/controls",
          "model_name": "ColorPickerModel",
          "model_module_version": "1.5.0",
          "state": {
            "_dom_classes": [],
            "_model_module": "@jupyter-widgets/controls",
            "_model_module_version": "1.5.0",
            "_model_name": "ColorPickerModel",
            "_view_count": null,
            "_view_module": "@jupyter-widgets/controls",
            "_view_module_version": "1.5.0",
            "_view_name": "ColorPickerView",
            "concise": true,
            "description": "Acceptance",
            "description_tooltip": null,
            "disabled": false,
            "layout": "IPY_MODEL_3f0f4f6e0c464818a355a67f113334fb",
            "style": "IPY_MODEL_bee4bf679f1e4bde894e805309da46aa",
            "value": "#66cd00"
          }
        },
        "43dc32ec4fb44e7f8d33d61b9e7a2123": {
          "model_module": "@jupyter-widgets/controls",
          "model_name": "ColorPickerModel",
          "model_module_version": "1.5.0",
          "state": {
            "_dom_classes": [],
            "_model_module": "@jupyter-widgets/controls",
            "_model_module_version": "1.5.0",
            "_model_name": "ColorPickerModel",
            "_view_count": null,
            "_view_module": "@jupyter-widgets/controls",
            "_view_module_version": "1.5.0",
            "_view_name": "ColorPickerView",
            "concise": true,
            "description": "Rejection",
            "description_tooltip": null,
            "disabled": false,
            "layout": "IPY_MODEL_73aec06940da44d0bddf1c8ccfe0baf9",
            "style": "IPY_MODEL_910169afcf0f4c8e95929c1038e47283",
            "value": "#ff0000"
          }
        },
        "a06b9c4fab814e3ab6a2f706ea5b9706": {
          "model_module": "@jupyter-widgets/controls",
          "model_name": "ColorPickerModel",
          "model_module_version": "1.5.0",
          "state": {
            "_dom_classes": [],
            "_model_module": "@jupyter-widgets/controls",
            "_model_module_version": "1.5.0",
            "_model_name": "ColorPickerModel",
            "_view_count": null,
            "_view_module": "@jupyter-widgets/controls",
            "_view_module_version": "1.5.0",
            "_view_name": "ColorPickerView",
            "concise": true,
            "description": "Transition",
            "description_tooltip": null,
            "disabled": false,
            "layout": "IPY_MODEL_58214c3bc5524ff2b51266bbbffcf52d",
            "style": "IPY_MODEL_7bfab46a8c2c42bb8cd41460238234a8",
            "value": "#1c86ee"
          }
        },
        "2cb13b95da4349d59f233f850cc1ac4e": {
          "model_module": "@jupyter-widgets/controls",
          "model_name": "ToggleButtonModel",
          "model_module_version": "1.5.0",
          "state": {
            "_dom_classes": [],
            "_model_module": "@jupyter-widgets/controls",
            "_model_module_version": "1.5.0",
            "_model_name": "ToggleButtonModel",
            "_view_count": null,
            "_view_module": "@jupyter-widgets/controls",
            "_view_module_version": "1.5.0",
            "_view_name": "ToggleButtonView",
            "button_style": "info",
            "description": "Fuse Edges",
            "description_tooltip": null,
            "disabled": false,
            "icon": "",
            "layout": "IPY_MODEL_402b0dcf77bf4b7383d6cc9ccf43c19b",
            "style": "IPY_MODEL_7abd121951584e3985a310f53c5e732e",
            "tooltip": "Fuse machine edges",
            "value": true
          }
        },
        "276fc117bafa4d22967d8a95d8816c08": {
          "model_module": "@jupyter-widgets/controls",
          "model_name": "BoundedFloatTextModel",
          "model_module_version": "1.5.0",
          "state": {
            "_dom_classes": [],
            "_model_module": "@jupyter-widgets/controls",
            "_model_module_version": "1.5.0",
            "_model_name": "BoundedFloatTextModel",
            "_view_count": null,
            "_view_module": "@jupyter-widgets/controls",
            "_view_module_version": "1.5.0",
            "_view_name": "FloatTextView",
            "continuous_update": false,
            "description": "Max Draw Size",
            "description_tooltip": null,
            "disabled": false,
            "layout": "IPY_MODEL_94297fc130dd4fee823cff408cf058b7",
            "max": 1000,
            "min": 1,
            "step": 0.1,
            "style": "IPY_MODEL_5daeadf5afa4413cab05f9f6234eb8da",
            "value": 9.5
          }
        },
        "d2e15218bd8d4bd3a6dea4709a1daf18": {
          "model_module": "@jupyter-widgets/controls",
          "model_name": "LabelModel",
          "model_module_version": "1.5.0",
          "state": {
            "_dom_classes": [],
            "_model_module": "@jupyter-widgets/controls",
            "_model_module_version": "1.5.0",
            "_model_name": "LabelModel",
            "_view_count": null,
            "_view_module": "@jupyter-widgets/controls",
            "_view_module_version": "1.5.0",
            "_view_name": "LabelView",
            "description": "",
            "description_tooltip": null,
            "layout": "IPY_MODEL_ee8367272cc84033bb6ccb8a0fc44d1a",
            "placeholder": "​",
            "style": "IPY_MODEL_4c44c47c3f6e4709bc6126cdd5ae871d",
            "value": "Finite Automata:"
          }
        },
        "4b11d476322b410599429e4bcd1f288d": {
          "model_module": "@jupyter-widgets/controls",
          "model_name": "ToggleButtonModel",
          "model_module_version": "1.5.0",
          "state": {
            "_dom_classes": [],
            "_model_module": "@jupyter-widgets/controls",
            "_model_module_version": "1.5.0",
            "_model_name": "ToggleButtonModel",
            "_view_count": null,
            "_view_module": "@jupyter-widgets/controls",
            "_view_module_version": "1.5.0",
            "_view_name": "ToggleButtonView",
            "button_style": "info",
            "description": "Alternate Start",
            "description_tooltip": null,
            "disabled": false,
            "icon": "",
            "layout": "IPY_MODEL_3abd11137916467da2e92d6c1f631756",
            "style": "IPY_MODEL_e627c5dfc5d249c9b92c2cf281f4bae9",
            "tooltip": "Pick the starting state (DFA and NFA only)",
            "value": false
          }
        },
        "4e09a75ef2d4449a9d82dd80e549758e": {
          "model_module": "@jupyter-widgets/controls",
          "model_name": "LabelModel",
          "model_module_version": "1.5.0",
          "state": {
            "_dom_classes": [],
            "_model_module": "@jupyter-widgets/controls",
            "_model_module_version": "1.5.0",
            "_model_name": "LabelModel",
            "_view_count": null,
            "_view_module": "@jupyter-widgets/controls",
            "_view_module_version": "1.5.0",
            "_view_name": "LabelView",
            "description": "",
            "description_tooltip": null,
            "layout": "IPY_MODEL_6db53c36ec014f5882e69744da71f1ac",
            "placeholder": "​",
            "style": "IPY_MODEL_4c564eb83b644f26ac72a2ad32e3523c",
            "value": "Turing Machine:"
          }
        },
        "457ad8c90d194d808967812a928104c7": {
          "model_module": "@jupyter-widgets/controls",
          "model_name": "ToggleButtonModel",
          "model_module_version": "1.5.0",
          "state": {
            "_dom_classes": [],
            "_model_module": "@jupyter-widgets/controls",
            "_model_module_version": "1.5.0",
            "_model_name": "ToggleButtonModel",
            "_view_count": null,
            "_view_module": "@jupyter-widgets/controls",
            "_view_module_version": "1.5.0",
            "_view_name": "ToggleButtonView",
            "button_style": "info",
            "description": "Show Rejected",
            "description_tooltip": null,
            "disabled": false,
            "icon": "",
            "layout": "IPY_MODEL_2efab69e3dbc4d4598a113b878624f78",
            "style": "IPY_MODEL_3659a14dbbcc4aecbfd4962d0a7b80d7",
            "tooltip": "Show rejected paths (TM only)",
            "value": false
          }
        },
        "90e9541623ce4351bd8b69a2f8ef2477": {
          "model_module": "@jupyter-widgets/controls",
          "model_name": "LabelModel",
          "model_module_version": "1.5.0",
          "state": {
            "_dom_classes": [],
            "_model_module": "@jupyter-widgets/controls",
            "_model_module_version": "1.5.0",
            "_model_name": "LabelModel",
            "_view_count": null,
            "_view_module": "@jupyter-widgets/controls",
            "_view_module_version": "1.5.0",
            "_view_name": "LabelView",
            "description": "",
            "description_tooltip": null,
            "layout": "IPY_MODEL_9d47fbb39da44d498c8c64f21a582ab9",
            "placeholder": "​",
            "style": "IPY_MODEL_06fbaf26f80e45829dd68d012eff37d7",
            "value": "Pushdown Automata:"
          }
        },
        "9242be3139a54bd18e15562a809dbfda": {
          "model_module": "@jupyter-widgets/controls",
          "model_name": "BoundedIntTextModel",
          "model_module_version": "1.5.0",
          "state": {
            "_dom_classes": [],
            "_model_module": "@jupyter-widgets/controls",
            "_model_module_version": "1.5.0",
            "_model_name": "BoundedIntTextModel",
            "_view_count": null,
            "_view_module": "@jupyter-widgets/controls",
            "_view_module_version": "1.5.0",
            "_view_name": "IntTextView",
            "continuous_update": false,
            "description": "Max Stack Size",
            "description_tooltip": null,
            "disabled": false,
            "layout": "IPY_MODEL_75ee2127b9364cc394150362af5c93c7",
            "max": 1000,
            "min": 0,
            "step": 1,
            "style": "IPY_MODEL_b5ad6881ba0f4c279a9635d6591b28ab",
            "value": 30
          }
        },
        "03e5b09b69ae45f4bf4f8d72f5e6db5c": {
          "model_module": "@jupyter-widgets/base",
          "model_name": "LayoutModel",
          "model_module_version": "1.2.0",
          "state": {
            "_model_module": "@jupyter-widgets/base",
            "_model_module_version": "1.2.0",
            "_model_name": "LayoutModel",
            "_view_count": null,
            "_view_module": "@jupyter-widgets/base",
            "_view_module_version": "1.2.0",
            "_view_name": "LayoutView",
            "align_content": null,
            "align_items": null,
            "align_self": null,
            "border": null,
            "bottom": null,
            "display": null,
            "flex": null,
            "flex_flow": null,
            "grid_area": null,
            "grid_auto_columns": null,
            "grid_auto_flow": null,
            "grid_auto_rows": null,
            "grid_column": null,
            "grid_gap": "5px",
            "grid_row": null,
            "grid_template_areas": "\"widget001 widget005 widget009\"\n\"widget002 widget006 widget010\"\n\"widget003 widget007 widget011\"\n\"widget004 widget008 widget012\"",
            "grid_template_columns": "repeat(3, 1fr)",
            "grid_template_rows": "repeat(4, 1fr)",
            "height": null,
            "justify_content": null,
            "justify_items": null,
            "left": null,
            "margin": null,
            "max_height": null,
            "max_width": null,
            "min_height": null,
            "min_width": null,
            "object_fit": null,
            "object_position": null,
            "order": null,
            "overflow": null,
            "overflow_x": null,
            "overflow_y": null,
            "padding": null,
            "right": null,
            "top": null,
            "visibility": null,
            "width": null
          }
        },
        "42e7ad9c081045b7b707293139b0b621": {
          "model_module": "@jupyter-widgets/base",
          "model_name": "LayoutModel",
          "model_module_version": "1.2.0",
          "state": {
            "_model_module": "@jupyter-widgets/base",
            "_model_module_version": "1.2.0",
            "_model_name": "LayoutModel",
            "_view_count": null,
            "_view_module": "@jupyter-widgets/base",
            "_view_module_version": "1.2.0",
            "_view_name": "LayoutView",
            "align_content": null,
            "align_items": null,
            "align_self": null,
            "border": null,
            "bottom": null,
            "display": null,
            "flex": null,
            "flex_flow": null,
            "grid_area": null,
            "grid_auto_columns": null,
            "grid_auto_flow": null,
            "grid_auto_rows": null,
            "grid_column": null,
            "grid_gap": null,
            "grid_row": null,
            "grid_template_areas": null,
            "grid_template_columns": null,
            "grid_template_rows": null,
            "height": null,
            "justify_content": null,
            "justify_items": null,
            "left": null,
            "margin": null,
            "max_height": null,
            "max_width": null,
            "min_height": null,
            "min_width": null,
            "object_fit": null,
            "object_position": null,
            "order": null,
            "overflow": null,
            "overflow_x": null,
            "overflow_y": null,
            "padding": null,
            "right": null,
            "top": null,
            "visibility": null,
            "width": null
          }
        },
        "88a9212ac3f243f7893fc63c39a32832": {
          "model_module": "@jupyter-widgets/controls",
          "model_name": "DescriptionStyleModel",
          "model_module_version": "1.5.0",
          "state": {
            "_model_module": "@jupyter-widgets/controls",
            "_model_module_version": "1.5.0",
            "_model_name": "DescriptionStyleModel",
            "_view_count": null,
            "_view_module": "@jupyter-widgets/base",
            "_view_module_version": "1.2.0",
            "_view_name": "StyleView",
            "description_width": ""
          }
        },
        "874f95fbf5284c4b84cfa3d31eb0b4c2": {
          "model_module": "@jupyter-widgets/base",
          "model_name": "LayoutModel",
          "model_module_version": "1.2.0",
          "state": {
            "_model_module": "@jupyter-widgets/base",
            "_model_module_version": "1.2.0",
            "_model_name": "LayoutModel",
            "_view_count": null,
            "_view_module": "@jupyter-widgets/base",
            "_view_module_version": "1.2.0",
            "_view_name": "LayoutView",
            "align_content": null,
            "align_items": null,
            "align_self": null,
            "border": null,
            "bottom": null,
            "display": null,
            "flex": null,
            "flex_flow": null,
            "grid_area": null,
            "grid_auto_columns": null,
            "grid_auto_flow": null,
            "grid_auto_rows": null,
            "grid_column": null,
            "grid_gap": null,
            "grid_row": null,
            "grid_template_areas": null,
            "grid_template_columns": null,
            "grid_template_rows": null,
            "height": null,
            "justify_content": null,
            "justify_items": null,
            "left": null,
            "margin": null,
            "max_height": null,
            "max_width": null,
            "min_height": null,
            "min_width": null,
            "object_fit": null,
            "object_position": null,
            "order": null,
            "overflow": null,
            "overflow_x": null,
            "overflow_y": null,
            "padding": null,
            "right": null,
            "top": null,
            "visibility": null,
            "width": null
          }
        },
        "569f2d64b06a48f9ae3c5ae946d89757": {
          "model_module": "@jupyter-widgets/controls",
          "model_name": "DescriptionStyleModel",
          "model_module_version": "1.5.0",
          "state": {
            "_model_module": "@jupyter-widgets/controls",
            "_model_module_version": "1.5.0",
            "_model_name": "DescriptionStyleModel",
            "_view_count": null,
            "_view_module": "@jupyter-widgets/base",
            "_view_module_version": "1.2.0",
            "_view_name": "StyleView",
            "description_width": ""
          }
        },
        "78a8e3a7103f4d79a66d9e27faae5194": {
          "model_module": "@jupyter-widgets/base",
          "model_name": "LayoutModel",
          "model_module_version": "1.2.0",
          "state": {
            "_model_module": "@jupyter-widgets/base",
            "_model_module_version": "1.2.0",
            "_model_name": "LayoutModel",
            "_view_count": null,
            "_view_module": "@jupyter-widgets/base",
            "_view_module_version": "1.2.0",
            "_view_name": "LayoutView",
            "align_content": null,
            "align_items": null,
            "align_self": null,
            "border": null,
            "bottom": null,
            "display": null,
            "flex": null,
            "flex_flow": null,
            "grid_area": null,
            "grid_auto_columns": null,
            "grid_auto_flow": null,
            "grid_auto_rows": null,
            "grid_column": null,
            "grid_gap": null,
            "grid_row": null,
            "grid_template_areas": null,
            "grid_template_columns": null,
            "grid_template_rows": null,
            "height": null,
            "justify_content": null,
            "justify_items": null,
            "left": null,
            "margin": null,
            "max_height": null,
            "max_width": null,
            "min_height": null,
            "min_width": null,
            "object_fit": null,
            "object_position": null,
            "order": null,
            "overflow": null,
            "overflow_x": null,
            "overflow_y": null,
            "padding": null,
            "right": null,
            "top": null,
            "visibility": null,
            "width": null
          }
        },
        "c7cf3d62280f4369891c5f4a9a1b786a": {
          "model_module": "@jupyter-widgets/controls",
          "model_name": "DescriptionStyleModel",
          "model_module_version": "1.5.0",
          "state": {
            "_model_module": "@jupyter-widgets/controls",
            "_model_module_version": "1.5.0",
            "_model_name": "DescriptionStyleModel",
            "_view_count": null,
            "_view_module": "@jupyter-widgets/base",
            "_view_module_version": "1.2.0",
            "_view_name": "StyleView",
            "description_width": ""
          }
        },
        "1d3fafcaa25f4be59a9c72dc5f1c59db": {
          "model_module": "@jupyter-widgets/base",
          "model_name": "LayoutModel",
          "model_module_version": "1.2.0",
          "state": {
            "_model_module": "@jupyter-widgets/base",
            "_model_module_version": "1.2.0",
            "_model_name": "LayoutModel",
            "_view_count": null,
            "_view_module": "@jupyter-widgets/base",
            "_view_module_version": "1.2.0",
            "_view_name": "LayoutView",
            "align_content": null,
            "align_items": null,
            "align_self": null,
            "border": null,
            "bottom": null,
            "display": null,
            "flex": null,
            "flex_flow": null,
            "grid_area": null,
            "grid_auto_columns": null,
            "grid_auto_flow": null,
            "grid_auto_rows": null,
            "grid_column": null,
            "grid_gap": null,
            "grid_row": null,
            "grid_template_areas": null,
            "grid_template_columns": null,
            "grid_template_rows": null,
            "height": null,
            "justify_content": null,
            "justify_items": null,
            "left": null,
            "margin": null,
            "max_height": null,
            "max_width": null,
            "min_height": null,
            "min_width": null,
            "object_fit": null,
            "object_position": null,
            "order": null,
            "overflow": null,
            "overflow_x": null,
            "overflow_y": null,
            "padding": null,
            "right": null,
            "top": null,
            "visibility": null,
            "width": null
          }
        },
        "5984253f38544f88a651ca8e893ed31c": {
          "model_module": "@jupyter-widgets/controls",
          "model_name": "DescriptionStyleModel",
          "model_module_version": "1.5.0",
          "state": {
            "_model_module": "@jupyter-widgets/controls",
            "_model_module_version": "1.5.0",
            "_model_name": "DescriptionStyleModel",
            "_view_count": null,
            "_view_module": "@jupyter-widgets/base",
            "_view_module_version": "1.2.0",
            "_view_name": "StyleView",
            "description_width": ""
          }
        },
        "4ffc0dec65324d76865304f4ee63e2a8": {
          "model_module": "@jupyter-widgets/base",
          "model_name": "LayoutModel",
          "model_module_version": "1.2.0",
          "state": {
            "_model_module": "@jupyter-widgets/base",
            "_model_module_version": "1.2.0",
            "_model_name": "LayoutModel",
            "_view_count": null,
            "_view_module": "@jupyter-widgets/base",
            "_view_module_version": "1.2.0",
            "_view_name": "LayoutView",
            "align_content": null,
            "align_items": null,
            "align_self": null,
            "border": null,
            "bottom": null,
            "display": null,
            "flex": null,
            "flex_flow": null,
            "grid_area": null,
            "grid_auto_columns": null,
            "grid_auto_flow": null,
            "grid_auto_rows": null,
            "grid_column": null,
            "grid_gap": null,
            "grid_row": null,
            "grid_template_areas": null,
            "grid_template_columns": null,
            "grid_template_rows": null,
            "height": null,
            "justify_content": null,
            "justify_items": null,
            "left": null,
            "margin": null,
            "max_height": null,
            "max_width": null,
            "min_height": null,
            "min_width": null,
            "object_fit": null,
            "object_position": null,
            "order": null,
            "overflow": null,
            "overflow_x": null,
            "overflow_y": null,
            "padding": null,
            "right": null,
            "top": null,
            "visibility": null,
            "width": null
          }
        },
        "71a0cc41ffd64573972798c62f2dfbdc": {
          "model_module": "@jupyter-widgets/controls",
          "model_name": "DescriptionStyleModel",
          "model_module_version": "1.5.0",
          "state": {
            "_model_module": "@jupyter-widgets/controls",
            "_model_module_version": "1.5.0",
            "_model_name": "DescriptionStyleModel",
            "_view_count": null,
            "_view_module": "@jupyter-widgets/base",
            "_view_module_version": "1.2.0",
            "_view_name": "StyleView",
            "description_width": ""
          }
        },
        "6b9bc56decda49a6a4608c1c3871708e": {
          "model_module": "@jupyter-widgets/controls",
          "model_name": "HBoxModel",
          "model_module_version": "1.5.0",
          "state": {
            "_dom_classes": [],
            "_model_module": "@jupyter-widgets/controls",
            "_model_module_version": "1.5.0",
            "_model_name": "HBoxModel",
            "_view_count": null,
            "_view_module": "@jupyter-widgets/controls",
            "_view_module_version": "1.5.0",
            "_view_name": "HBoxView",
            "box_style": "",
            "children": [
              "IPY_MODEL_2d78e9f65737429e99b13895f2a3224f",
              "IPY_MODEL_49a50fec8ddd417dac8233736bbf060e"
            ],
            "layout": "IPY_MODEL_1cd60b72abc04b74b9b4a9875aa4892c"
          }
        },
        "ae28132ae10e4907b8ed24314c643899": {
          "model_module": "@jupyter-widgets/controls",
          "model_name": "ButtonModel",
          "model_module_version": "1.5.0",
          "state": {
            "_dom_classes": [],
            "_model_module": "@jupyter-widgets/controls",
            "_model_module_version": "1.5.0",
            "_model_name": "ButtonModel",
            "_view_count": null,
            "_view_module": "@jupyter-widgets/controls",
            "_view_module_version": "1.5.0",
            "_view_name": "ButtonView",
            "button_style": "info",
            "description": "Save",
            "disabled": true,
            "icon": "download",
            "layout": "IPY_MODEL_3ae90bdc889b4edeb247d422498ddb9e",
            "style": "IPY_MODEL_f0b49830079243d4820c93a424d502da",
            "tooltip": ""
          }
        },
        "788d7bbe7a344687bfd132f3cbcadd20": {
          "model_module": "@jupyter-widgets/controls",
          "model_name": "HTMLModel",
          "model_module_version": "1.5.0",
          "state": {
            "_dom_classes": [],
            "_model_module": "@jupyter-widgets/controls",
            "_model_module_version": "1.5.0",
            "_model_name": "HTMLModel",
            "_view_count": null,
            "_view_module": "@jupyter-widgets/controls",
            "_view_module_version": "1.5.0",
            "_view_name": "HTMLView",
            "description": "",
            "description_tooltip": null,
            "layout": "IPY_MODEL_3653fc80a384485fb34f9172b48a86ba",
            "placeholder": "​",
            "style": "IPY_MODEL_b2603f7f05b24e96984fd470dcd08c25",
            "value": "<p style=\"font-size:small\"></br></br></p>"
          }
        },
        "3fa7462290f44f7190ef8a1a4ce4a96f": {
          "model_module": "@jupyter-widgets/controls",
          "model_name": "FileUploadModel",
          "model_module_version": "1.5.0",
          "state": {
            "_counter": 0,
            "_dom_classes": [],
            "_model_module": "@jupyter-widgets/controls",
            "_model_module_version": "1.5.0",
            "_model_name": "FileUploadModel",
            "_view_count": null,
            "_view_module": "@jupyter-widgets/controls",
            "_view_module_version": "1.5.0",
            "_view_name": "FileUploadView",
            "accept": ".txt,.jff,.dfa,.nfa,.pda,.tm",
            "button_style": "info",
            "data": [],
            "description": "Load",
            "description_tooltip": null,
            "disabled": false,
            "error": "",
            "icon": "upload",
            "layout": "IPY_MODEL_961a8fb3e51140b994d9475c8bef41ea",
            "metadata": [],
            "multiple": false,
            "style": "IPY_MODEL_d27a1df924184fada233de004ac2e987"
          }
        },
        "317a8d091f8a4111b50215e5aaf5ae0e": {
          "model_module": "@jupyter-widgets/base",
          "model_name": "LayoutModel",
          "model_module_version": "1.2.0",
          "state": {
            "_model_module": "@jupyter-widgets/base",
            "_model_module_version": "1.2.0",
            "_model_name": "LayoutModel",
            "_view_count": null,
            "_view_module": "@jupyter-widgets/base",
            "_view_module_version": "1.2.0",
            "_view_name": "LayoutView",
            "align_content": null,
            "align_items": null,
            "align_self": null,
            "border": null,
            "bottom": null,
            "display": null,
            "flex": null,
            "flex_flow": null,
            "grid_area": null,
            "grid_auto_columns": null,
            "grid_auto_flow": null,
            "grid_auto_rows": null,
            "grid_column": null,
            "grid_gap": null,
            "grid_row": null,
            "grid_template_areas": null,
            "grid_template_columns": null,
            "grid_template_rows": null,
            "height": null,
            "justify_content": null,
            "justify_items": null,
            "left": null,
            "margin": null,
            "max_height": null,
            "max_width": null,
            "min_height": null,
            "min_width": null,
            "object_fit": null,
            "object_position": null,
            "order": null,
            "overflow": null,
            "overflow_x": null,
            "overflow_y": null,
            "padding": null,
            "right": null,
            "top": null,
            "visibility": null,
            "width": null
          }
        },
        "5b0bb31f10834570820a83ee163ef0a3": {
          "model_module": "@jupyter-widgets/base",
          "model_name": "LayoutModel",
          "model_module_version": "1.2.0",
          "state": {
            "_model_module": "@jupyter-widgets/base",
            "_model_module_version": "1.2.0",
            "_model_name": "LayoutModel",
            "_view_count": null,
            "_view_module": "@jupyter-widgets/base",
            "_view_module_version": "1.2.0",
            "_view_name": "LayoutView",
            "align_content": null,
            "align_items": null,
            "align_self": null,
            "border": null,
            "bottom": null,
            "display": null,
            "flex": null,
            "flex_flow": null,
            "grid_area": "widget001",
            "grid_auto_columns": null,
            "grid_auto_flow": null,
            "grid_auto_rows": null,
            "grid_column": null,
            "grid_gap": null,
            "grid_row": null,
            "grid_template_areas": null,
            "grid_template_columns": null,
            "grid_template_rows": null,
            "height": null,
            "justify_content": null,
            "justify_items": null,
            "left": null,
            "margin": null,
            "max_height": null,
            "max_width": null,
            "min_height": null,
            "min_width": null,
            "object_fit": null,
            "object_position": null,
            "order": null,
            "overflow": null,
            "overflow_x": null,
            "overflow_y": null,
            "padding": null,
            "right": null,
            "top": null,
            "visibility": null,
            "width": null
          }
        },
        "a77e518607ce420a8f7810cb9d1c5ae7": {
          "model_module": "@jupyter-widgets/controls",
          "model_name": "DescriptionStyleModel",
          "model_module_version": "1.5.0",
          "state": {
            "_model_module": "@jupyter-widgets/controls",
            "_model_module_version": "1.5.0",
            "_model_name": "DescriptionStyleModel",
            "_view_count": null,
            "_view_module": "@jupyter-widgets/base",
            "_view_module_version": "1.2.0",
            "_view_name": "StyleView",
            "description_width": ""
          }
        },
        "3f0f4f6e0c464818a355a67f113334fb": {
          "model_module": "@jupyter-widgets/base",
          "model_name": "LayoutModel",
          "model_module_version": "1.2.0",
          "state": {
            "_model_module": "@jupyter-widgets/base",
            "_model_module_version": "1.2.0",
            "_model_name": "LayoutModel",
            "_view_count": null,
            "_view_module": "@jupyter-widgets/base",
            "_view_module_version": "1.2.0",
            "_view_name": "LayoutView",
            "align_content": null,
            "align_items": null,
            "align_self": null,
            "border": null,
            "bottom": null,
            "display": null,
            "flex": null,
            "flex_flow": null,
            "grid_area": "widget002",
            "grid_auto_columns": null,
            "grid_auto_flow": null,
            "grid_auto_rows": null,
            "grid_column": null,
            "grid_gap": null,
            "grid_row": null,
            "grid_template_areas": null,
            "grid_template_columns": null,
            "grid_template_rows": null,
            "height": null,
            "justify_content": null,
            "justify_items": null,
            "left": null,
            "margin": null,
            "max_height": null,
            "max_width": null,
            "min_height": null,
            "min_width": null,
            "object_fit": null,
            "object_position": null,
            "order": null,
            "overflow": null,
            "overflow_x": null,
            "overflow_y": null,
            "padding": null,
            "right": null,
            "top": null,
            "visibility": null,
            "width": null
          }
        },
        "bee4bf679f1e4bde894e805309da46aa": {
          "model_module": "@jupyter-widgets/controls",
          "model_name": "DescriptionStyleModel",
          "model_module_version": "1.5.0",
          "state": {
            "_model_module": "@jupyter-widgets/controls",
            "_model_module_version": "1.5.0",
            "_model_name": "DescriptionStyleModel",
            "_view_count": null,
            "_view_module": "@jupyter-widgets/base",
            "_view_module_version": "1.2.0",
            "_view_name": "StyleView",
            "description_width": "initial"
          }
        },
        "73aec06940da44d0bddf1c8ccfe0baf9": {
          "model_module": "@jupyter-widgets/base",
          "model_name": "LayoutModel",
          "model_module_version": "1.2.0",
          "state": {
            "_model_module": "@jupyter-widgets/base",
            "_model_module_version": "1.2.0",
            "_model_name": "LayoutModel",
            "_view_count": null,
            "_view_module": "@jupyter-widgets/base",
            "_view_module_version": "1.2.0",
            "_view_name": "LayoutView",
            "align_content": null,
            "align_items": null,
            "align_self": null,
            "border": null,
            "bottom": null,
            "display": null,
            "flex": null,
            "flex_flow": null,
            "grid_area": "widget003",
            "grid_auto_columns": null,
            "grid_auto_flow": null,
            "grid_auto_rows": null,
            "grid_column": null,
            "grid_gap": null,
            "grid_row": null,
            "grid_template_areas": null,
            "grid_template_columns": null,
            "grid_template_rows": null,
            "height": null,
            "justify_content": null,
            "justify_items": null,
            "left": null,
            "margin": null,
            "max_height": null,
            "max_width": null,
            "min_height": null,
            "min_width": null,
            "object_fit": null,
            "object_position": null,
            "order": null,
            "overflow": null,
            "overflow_x": null,
            "overflow_y": null,
            "padding": null,
            "right": null,
            "top": null,
            "visibility": null,
            "width": null
          }
        },
        "910169afcf0f4c8e95929c1038e47283": {
          "model_module": "@jupyter-widgets/controls",
          "model_name": "DescriptionStyleModel",
          "model_module_version": "1.5.0",
          "state": {
            "_model_module": "@jupyter-widgets/controls",
            "_model_module_version": "1.5.0",
            "_model_name": "DescriptionStyleModel",
            "_view_count": null,
            "_view_module": "@jupyter-widgets/base",
            "_view_module_version": "1.2.0",
            "_view_name": "StyleView",
            "description_width": "initial"
          }
        },
        "58214c3bc5524ff2b51266bbbffcf52d": {
          "model_module": "@jupyter-widgets/base",
          "model_name": "LayoutModel",
          "model_module_version": "1.2.0",
          "state": {
            "_model_module": "@jupyter-widgets/base",
            "_model_module_version": "1.2.0",
            "_model_name": "LayoutModel",
            "_view_count": null,
            "_view_module": "@jupyter-widgets/base",
            "_view_module_version": "1.2.0",
            "_view_name": "LayoutView",
            "align_content": null,
            "align_items": null,
            "align_self": null,
            "border": null,
            "bottom": null,
            "display": null,
            "flex": null,
            "flex_flow": null,
            "grid_area": "widget004",
            "grid_auto_columns": null,
            "grid_auto_flow": null,
            "grid_auto_rows": null,
            "grid_column": null,
            "grid_gap": null,
            "grid_row": null,
            "grid_template_areas": null,
            "grid_template_columns": null,
            "grid_template_rows": null,
            "height": null,
            "justify_content": null,
            "justify_items": null,
            "left": null,
            "margin": null,
            "max_height": null,
            "max_width": null,
            "min_height": null,
            "min_width": null,
            "object_fit": null,
            "object_position": null,
            "order": null,
            "overflow": null,
            "overflow_x": null,
            "overflow_y": null,
            "padding": null,
            "right": null,
            "top": null,
            "visibility": null,
            "width": null
          }
        },
        "7bfab46a8c2c42bb8cd41460238234a8": {
          "model_module": "@jupyter-widgets/controls",
          "model_name": "DescriptionStyleModel",
          "model_module_version": "1.5.0",
          "state": {
            "_model_module": "@jupyter-widgets/controls",
            "_model_module_version": "1.5.0",
            "_model_name": "DescriptionStyleModel",
            "_view_count": null,
            "_view_module": "@jupyter-widgets/base",
            "_view_module_version": "1.2.0",
            "_view_name": "StyleView",
            "description_width": "initial"
          }
        },
        "402b0dcf77bf4b7383d6cc9ccf43c19b": {
          "model_module": "@jupyter-widgets/base",
          "model_name": "LayoutModel",
          "model_module_version": "1.2.0",
          "state": {
            "_model_module": "@jupyter-widgets/base",
            "_model_module_version": "1.2.0",
            "_model_name": "LayoutModel",
            "_view_count": null,
            "_view_module": "@jupyter-widgets/base",
            "_view_module_version": "1.2.0",
            "_view_name": "LayoutView",
            "align_content": null,
            "align_items": null,
            "align_self": null,
            "border": null,
            "bottom": null,
            "display": null,
            "flex": null,
            "flex_flow": null,
            "grid_area": "widget005",
            "grid_auto_columns": null,
            "grid_auto_flow": null,
            "grid_auto_rows": null,
            "grid_column": null,
            "grid_gap": null,
            "grid_row": null,
            "grid_template_areas": null,
            "grid_template_columns": null,
            "grid_template_rows": null,
            "height": null,
            "justify_content": null,
            "justify_items": null,
            "left": null,
            "margin": null,
            "max_height": null,
            "max_width": null,
            "min_height": null,
            "min_width": null,
            "object_fit": null,
            "object_position": null,
            "order": null,
            "overflow": null,
            "overflow_x": null,
            "overflow_y": null,
            "padding": null,
            "right": null,
            "top": null,
            "visibility": null,
            "width": null
          }
        },
        "7abd121951584e3985a310f53c5e732e": {
          "model_module": "@jupyter-widgets/controls",
          "model_name": "DescriptionStyleModel",
          "model_module_version": "1.5.0",
          "state": {
            "_model_module": "@jupyter-widgets/controls",
            "_model_module_version": "1.5.0",
            "_model_name": "DescriptionStyleModel",
            "_view_count": null,
            "_view_module": "@jupyter-widgets/base",
            "_view_module_version": "1.2.0",
            "_view_name": "StyleView",
            "description_width": ""
          }
        },
        "94297fc130dd4fee823cff408cf058b7": {
          "model_module": "@jupyter-widgets/base",
          "model_name": "LayoutModel",
          "model_module_version": "1.2.0",
          "state": {
            "_model_module": "@jupyter-widgets/base",
            "_model_module_version": "1.2.0",
            "_model_name": "LayoutModel",
            "_view_count": null,
            "_view_module": "@jupyter-widgets/base",
            "_view_module_version": "1.2.0",
            "_view_name": "LayoutView",
            "align_content": null,
            "align_items": null,
            "align_self": null,
            "border": null,
            "bottom": null,
            "display": null,
            "flex": null,
            "flex_flow": null,
            "grid_area": "widget006",
            "grid_auto_columns": null,
            "grid_auto_flow": null,
            "grid_auto_rows": null,
            "grid_column": null,
            "grid_gap": null,
            "grid_row": null,
            "grid_template_areas": null,
            "grid_template_columns": null,
            "grid_template_rows": null,
            "height": null,
            "justify_content": null,
            "justify_items": null,
            "left": null,
            "margin": null,
            "max_height": null,
            "max_width": null,
            "min_height": null,
            "min_width": null,
            "object_fit": null,
            "object_position": null,
            "order": null,
            "overflow": null,
            "overflow_x": null,
            "overflow_y": null,
            "padding": null,
            "right": null,
            "top": null,
            "visibility": null,
            "width": "200px"
          }
        },
        "5daeadf5afa4413cab05f9f6234eb8da": {
          "model_module": "@jupyter-widgets/controls",
          "model_name": "DescriptionStyleModel",
          "model_module_version": "1.5.0",
          "state": {
            "_model_module": "@jupyter-widgets/controls",
            "_model_module_version": "1.5.0",
            "_model_name": "DescriptionStyleModel",
            "_view_count": null,
            "_view_module": "@jupyter-widgets/base",
            "_view_module_version": "1.2.0",
            "_view_name": "StyleView",
            "description_width": "initial"
          }
        },
        "ee8367272cc84033bb6ccb8a0fc44d1a": {
          "model_module": "@jupyter-widgets/base",
          "model_name": "LayoutModel",
          "model_module_version": "1.2.0",
          "state": {
            "_model_module": "@jupyter-widgets/base",
            "_model_module_version": "1.2.0",
            "_model_name": "LayoutModel",
            "_view_count": null,
            "_view_module": "@jupyter-widgets/base",
            "_view_module_version": "1.2.0",
            "_view_name": "LayoutView",
            "align_content": null,
            "align_items": null,
            "align_self": null,
            "border": null,
            "bottom": null,
            "display": null,
            "flex": null,
            "flex_flow": null,
            "grid_area": "widget007",
            "grid_auto_columns": null,
            "grid_auto_flow": null,
            "grid_auto_rows": null,
            "grid_column": null,
            "grid_gap": null,
            "grid_row": null,
            "grid_template_areas": null,
            "grid_template_columns": null,
            "grid_template_rows": null,
            "height": null,
            "justify_content": null,
            "justify_items": null,
            "left": null,
            "margin": null,
            "max_height": null,
            "max_width": null,
            "min_height": null,
            "min_width": null,
            "object_fit": null,
            "object_position": null,
            "order": null,
            "overflow": null,
            "overflow_x": null,
            "overflow_y": null,
            "padding": null,
            "right": null,
            "top": null,
            "visibility": null,
            "width": null
          }
        },
        "4c44c47c3f6e4709bc6126cdd5ae871d": {
          "model_module": "@jupyter-widgets/controls",
          "model_name": "DescriptionStyleModel",
          "model_module_version": "1.5.0",
          "state": {
            "_model_module": "@jupyter-widgets/controls",
            "_model_module_version": "1.5.0",
            "_model_name": "DescriptionStyleModel",
            "_view_count": null,
            "_view_module": "@jupyter-widgets/base",
            "_view_module_version": "1.2.0",
            "_view_name": "StyleView",
            "description_width": ""
          }
        },
        "3abd11137916467da2e92d6c1f631756": {
          "model_module": "@jupyter-widgets/base",
          "model_name": "LayoutModel",
          "model_module_version": "1.2.0",
          "state": {
            "_model_module": "@jupyter-widgets/base",
            "_model_module_version": "1.2.0",
            "_model_name": "LayoutModel",
            "_view_count": null,
            "_view_module": "@jupyter-widgets/base",
            "_view_module_version": "1.2.0",
            "_view_name": "LayoutView",
            "align_content": null,
            "align_items": null,
            "align_self": null,
            "border": null,
            "bottom": null,
            "display": null,
            "flex": null,
            "flex_flow": null,
            "grid_area": "widget008",
            "grid_auto_columns": null,
            "grid_auto_flow": null,
            "grid_auto_rows": null,
            "grid_column": null,
            "grid_gap": null,
            "grid_row": null,
            "grid_template_areas": null,
            "grid_template_columns": null,
            "grid_template_rows": null,
            "height": null,
            "justify_content": null,
            "justify_items": null,
            "left": null,
            "margin": null,
            "max_height": null,
            "max_width": null,
            "min_height": null,
            "min_width": null,
            "object_fit": null,
            "object_position": null,
            "order": null,
            "overflow": null,
            "overflow_x": null,
            "overflow_y": null,
            "padding": null,
            "right": null,
            "top": null,
            "visibility": null,
            "width": null
          }
        },
        "e627c5dfc5d249c9b92c2cf281f4bae9": {
          "model_module": "@jupyter-widgets/controls",
          "model_name": "DescriptionStyleModel",
          "model_module_version": "1.5.0",
          "state": {
            "_model_module": "@jupyter-widgets/controls",
            "_model_module_version": "1.5.0",
            "_model_name": "DescriptionStyleModel",
            "_view_count": null,
            "_view_module": "@jupyter-widgets/base",
            "_view_module_version": "1.2.0",
            "_view_name": "StyleView",
            "description_width": ""
          }
        },
        "6db53c36ec014f5882e69744da71f1ac": {
          "model_module": "@jupyter-widgets/base",
          "model_name": "LayoutModel",
          "model_module_version": "1.2.0",
          "state": {
            "_model_module": "@jupyter-widgets/base",
            "_model_module_version": "1.2.0",
            "_model_name": "LayoutModel",
            "_view_count": null,
            "_view_module": "@jupyter-widgets/base",
            "_view_module_version": "1.2.0",
            "_view_name": "LayoutView",
            "align_content": null,
            "align_items": null,
            "align_self": null,
            "border": null,
            "bottom": null,
            "display": null,
            "flex": null,
            "flex_flow": null,
            "grid_area": "widget009",
            "grid_auto_columns": null,
            "grid_auto_flow": null,
            "grid_auto_rows": null,
            "grid_column": null,
            "grid_gap": null,
            "grid_row": null,
            "grid_template_areas": null,
            "grid_template_columns": null,
            "grid_template_rows": null,
            "height": null,
            "justify_content": null,
            "justify_items": null,
            "left": null,
            "margin": null,
            "max_height": null,
            "max_width": null,
            "min_height": null,
            "min_width": null,
            "object_fit": null,
            "object_position": null,
            "order": null,
            "overflow": null,
            "overflow_x": null,
            "overflow_y": null,
            "padding": null,
            "right": null,
            "top": null,
            "visibility": null,
            "width": null
          }
        },
        "4c564eb83b644f26ac72a2ad32e3523c": {
          "model_module": "@jupyter-widgets/controls",
          "model_name": "DescriptionStyleModel",
          "model_module_version": "1.5.0",
          "state": {
            "_model_module": "@jupyter-widgets/controls",
            "_model_module_version": "1.5.0",
            "_model_name": "DescriptionStyleModel",
            "_view_count": null,
            "_view_module": "@jupyter-widgets/base",
            "_view_module_version": "1.2.0",
            "_view_name": "StyleView",
            "description_width": ""
          }
        },
        "2efab69e3dbc4d4598a113b878624f78": {
          "model_module": "@jupyter-widgets/base",
          "model_name": "LayoutModel",
          "model_module_version": "1.2.0",
          "state": {
            "_model_module": "@jupyter-widgets/base",
            "_model_module_version": "1.2.0",
            "_model_name": "LayoutModel",
            "_view_count": null,
            "_view_module": "@jupyter-widgets/base",
            "_view_module_version": "1.2.0",
            "_view_name": "LayoutView",
            "align_content": null,
            "align_items": null,
            "align_self": null,
            "border": null,
            "bottom": null,
            "display": null,
            "flex": null,
            "flex_flow": null,
            "grid_area": "widget010",
            "grid_auto_columns": null,
            "grid_auto_flow": null,
            "grid_auto_rows": null,
            "grid_column": null,
            "grid_gap": null,
            "grid_row": null,
            "grid_template_areas": null,
            "grid_template_columns": null,
            "grid_template_rows": null,
            "height": null,
            "justify_content": null,
            "justify_items": null,
            "left": null,
            "margin": null,
            "max_height": null,
            "max_width": null,
            "min_height": null,
            "min_width": null,
            "object_fit": null,
            "object_position": null,
            "order": null,
            "overflow": null,
            "overflow_x": null,
            "overflow_y": null,
            "padding": null,
            "right": null,
            "top": null,
            "visibility": null,
            "width": null
          }
        },
        "3659a14dbbcc4aecbfd4962d0a7b80d7": {
          "model_module": "@jupyter-widgets/controls",
          "model_name": "DescriptionStyleModel",
          "model_module_version": "1.5.0",
          "state": {
            "_model_module": "@jupyter-widgets/controls",
            "_model_module_version": "1.5.0",
            "_model_name": "DescriptionStyleModel",
            "_view_count": null,
            "_view_module": "@jupyter-widgets/base",
            "_view_module_version": "1.2.0",
            "_view_name": "StyleView",
            "description_width": ""
          }
        },
        "9d47fbb39da44d498c8c64f21a582ab9": {
          "model_module": "@jupyter-widgets/base",
          "model_name": "LayoutModel",
          "model_module_version": "1.2.0",
          "state": {
            "_model_module": "@jupyter-widgets/base",
            "_model_module_version": "1.2.0",
            "_model_name": "LayoutModel",
            "_view_count": null,
            "_view_module": "@jupyter-widgets/base",
            "_view_module_version": "1.2.0",
            "_view_name": "LayoutView",
            "align_content": null,
            "align_items": null,
            "align_self": null,
            "border": null,
            "bottom": null,
            "display": null,
            "flex": null,
            "flex_flow": null,
            "grid_area": "widget011",
            "grid_auto_columns": null,
            "grid_auto_flow": null,
            "grid_auto_rows": null,
            "grid_column": null,
            "grid_gap": null,
            "grid_row": null,
            "grid_template_areas": null,
            "grid_template_columns": null,
            "grid_template_rows": null,
            "height": null,
            "justify_content": null,
            "justify_items": null,
            "left": null,
            "margin": null,
            "max_height": null,
            "max_width": null,
            "min_height": null,
            "min_width": null,
            "object_fit": null,
            "object_position": null,
            "order": null,
            "overflow": null,
            "overflow_x": null,
            "overflow_y": null,
            "padding": null,
            "right": null,
            "top": null,
            "visibility": null,
            "width": null
          }
        },
        "06fbaf26f80e45829dd68d012eff37d7": {
          "model_module": "@jupyter-widgets/controls",
          "model_name": "DescriptionStyleModel",
          "model_module_version": "1.5.0",
          "state": {
            "_model_module": "@jupyter-widgets/controls",
            "_model_module_version": "1.5.0",
            "_model_name": "DescriptionStyleModel",
            "_view_count": null,
            "_view_module": "@jupyter-widgets/base",
            "_view_module_version": "1.2.0",
            "_view_name": "StyleView",
            "description_width": ""
          }
        },
        "75ee2127b9364cc394150362af5c93c7": {
          "model_module": "@jupyter-widgets/base",
          "model_name": "LayoutModel",
          "model_module_version": "1.2.0",
          "state": {
            "_model_module": "@jupyter-widgets/base",
            "_model_module_version": "1.2.0",
            "_model_name": "LayoutModel",
            "_view_count": null,
            "_view_module": "@jupyter-widgets/base",
            "_view_module_version": "1.2.0",
            "_view_name": "LayoutView",
            "align_content": null,
            "align_items": null,
            "align_self": null,
            "border": null,
            "bottom": null,
            "display": null,
            "flex": null,
            "flex_flow": null,
            "grid_area": "widget012",
            "grid_auto_columns": null,
            "grid_auto_flow": null,
            "grid_auto_rows": null,
            "grid_column": null,
            "grid_gap": null,
            "grid_row": null,
            "grid_template_areas": null,
            "grid_template_columns": null,
            "grid_template_rows": null,
            "height": null,
            "justify_content": null,
            "justify_items": null,
            "left": null,
            "margin": null,
            "max_height": null,
            "max_width": null,
            "min_height": null,
            "min_width": null,
            "object_fit": null,
            "object_position": null,
            "order": null,
            "overflow": null,
            "overflow_x": null,
            "overflow_y": null,
            "padding": null,
            "right": null,
            "top": null,
            "visibility": null,
            "width": "200px"
          }
        },
        "b5ad6881ba0f4c279a9635d6591b28ab": {
          "model_module": "@jupyter-widgets/controls",
          "model_name": "DescriptionStyleModel",
          "model_module_version": "1.5.0",
          "state": {
            "_model_module": "@jupyter-widgets/controls",
            "_model_module_version": "1.5.0",
            "_model_name": "DescriptionStyleModel",
            "_view_count": null,
            "_view_module": "@jupyter-widgets/base",
            "_view_module_version": "1.2.0",
            "_view_name": "StyleView",
            "description_width": "initial"
          }
        },
        "2d78e9f65737429e99b13895f2a3224f": {
          "model_module": "@jupyter-widgets/controls",
          "model_name": "TextModel",
          "model_module_version": "1.5.0",
          "state": {
            "_dom_classes": [],
            "_model_module": "@jupyter-widgets/controls",
            "_model_module_version": "1.5.0",
            "_model_name": "TextModel",
            "_view_count": null,
            "_view_module": "@jupyter-widgets/controls",
            "_view_module_version": "1.5.0",
            "_view_name": "TextView",
            "continuous_update": true,
            "description": "",
            "description_tooltip": null,
            "disabled": false,
            "layout": "IPY_MODEL_e3122eedb1e8463aa87fab2e807390a7",
            "placeholder": "filename",
            "style": "IPY_MODEL_22e14f0f7893411dbac59b37e127f0b0",
            "value": ""
          }
        },
        "49a50fec8ddd417dac8233736bbf060e": {
          "model_module": "@jupyter-widgets/controls",
          "model_name": "HTMLModel",
          "model_module_version": "1.5.0",
          "state": {
            "_dom_classes": [],
            "_model_module": "@jupyter-widgets/controls",
            "_model_module_version": "1.5.0",
            "_model_name": "HTMLModel",
            "_view_count": null,
            "_view_module": "@jupyter-widgets/controls",
            "_view_module_version": "1.5.0",
            "_view_name": "HTMLView",
            "description": "",
            "description_tooltip": null,
            "layout": "IPY_MODEL_430ad6c527d1460eb3dba4d8124797b3",
            "placeholder": "​",
            "style": "IPY_MODEL_33743a14b6fc4b5eb7d0847bfe46b5da",
            "value": "<p style=\"font-family:monospace\">.dfa</p>"
          }
        },
        "1cd60b72abc04b74b9b4a9875aa4892c": {
          "model_module": "@jupyter-widgets/base",
          "model_name": "LayoutModel",
          "model_module_version": "1.2.0",
          "state": {
            "_model_module": "@jupyter-widgets/base",
            "_model_module_version": "1.2.0",
            "_model_name": "LayoutModel",
            "_view_count": null,
            "_view_module": "@jupyter-widgets/base",
            "_view_module_version": "1.2.0",
            "_view_name": "LayoutView",
            "align_content": null,
            "align_items": null,
            "align_self": null,
            "border": null,
            "bottom": null,
            "display": null,
            "flex": null,
            "flex_flow": null,
            "grid_area": null,
            "grid_auto_columns": null,
            "grid_auto_flow": null,
            "grid_auto_rows": null,
            "grid_column": null,
            "grid_gap": null,
            "grid_row": null,
            "grid_template_areas": null,
            "grid_template_columns": null,
            "grid_template_rows": null,
            "height": null,
            "justify_content": null,
            "justify_items": null,
            "left": null,
            "margin": null,
            "max_height": null,
            "max_width": null,
            "min_height": null,
            "min_width": null,
            "object_fit": null,
            "object_position": null,
            "order": null,
            "overflow": null,
            "overflow_x": null,
            "overflow_y": null,
            "padding": null,
            "right": null,
            "top": null,
            "visibility": null,
            "width": null
          }
        },
        "3ae90bdc889b4edeb247d422498ddb9e": {
          "model_module": "@jupyter-widgets/base",
          "model_name": "LayoutModel",
          "model_module_version": "1.2.0",
          "state": {
            "_model_module": "@jupyter-widgets/base",
            "_model_module_version": "1.2.0",
            "_model_name": "LayoutModel",
            "_view_count": null,
            "_view_module": "@jupyter-widgets/base",
            "_view_module_version": "1.2.0",
            "_view_name": "LayoutView",
            "align_content": null,
            "align_items": null,
            "align_self": null,
            "border": null,
            "bottom": null,
            "display": null,
            "flex": null,
            "flex_flow": null,
            "grid_area": null,
            "grid_auto_columns": null,
            "grid_auto_flow": null,
            "grid_auto_rows": null,
            "grid_column": null,
            "grid_gap": null,
            "grid_row": null,
            "grid_template_areas": null,
            "grid_template_columns": null,
            "grid_template_rows": null,
            "height": null,
            "justify_content": null,
            "justify_items": null,
            "left": null,
            "margin": null,
            "max_height": null,
            "max_width": null,
            "min_height": null,
            "min_width": null,
            "object_fit": null,
            "object_position": null,
            "order": null,
            "overflow": null,
            "overflow_x": null,
            "overflow_y": null,
            "padding": null,
            "right": null,
            "top": null,
            "visibility": null,
            "width": null
          }
        },
        "f0b49830079243d4820c93a424d502da": {
          "model_module": "@jupyter-widgets/controls",
          "model_name": "ButtonStyleModel",
          "model_module_version": "1.5.0",
          "state": {
            "_model_module": "@jupyter-widgets/controls",
            "_model_module_version": "1.5.0",
            "_model_name": "ButtonStyleModel",
            "_view_count": null,
            "_view_module": "@jupyter-widgets/base",
            "_view_module_version": "1.2.0",
            "_view_name": "StyleView",
            "button_color": null,
            "font_weight": ""
          }
        },
        "3653fc80a384485fb34f9172b48a86ba": {
          "model_module": "@jupyter-widgets/base",
          "model_name": "LayoutModel",
          "model_module_version": "1.2.0",
          "state": {
            "_model_module": "@jupyter-widgets/base",
            "_model_module_version": "1.2.0",
            "_model_name": "LayoutModel",
            "_view_count": null,
            "_view_module": "@jupyter-widgets/base",
            "_view_module_version": "1.2.0",
            "_view_name": "LayoutView",
            "align_content": null,
            "align_items": null,
            "align_self": null,
            "border": null,
            "bottom": null,
            "display": null,
            "flex": null,
            "flex_flow": null,
            "grid_area": null,
            "grid_auto_columns": null,
            "grid_auto_flow": null,
            "grid_auto_rows": null,
            "grid_column": null,
            "grid_gap": null,
            "grid_row": null,
            "grid_template_areas": null,
            "grid_template_columns": null,
            "grid_template_rows": null,
            "height": null,
            "justify_content": null,
            "justify_items": null,
            "left": null,
            "margin": null,
            "max_height": null,
            "max_width": null,
            "min_height": null,
            "min_width": null,
            "object_fit": null,
            "object_position": null,
            "order": null,
            "overflow": null,
            "overflow_x": null,
            "overflow_y": null,
            "padding": null,
            "right": null,
            "top": null,
            "visibility": null,
            "width": null
          }
        },
        "b2603f7f05b24e96984fd470dcd08c25": {
          "model_module": "@jupyter-widgets/controls",
          "model_name": "DescriptionStyleModel",
          "model_module_version": "1.5.0",
          "state": {
            "_model_module": "@jupyter-widgets/controls",
            "_model_module_version": "1.5.0",
            "_model_name": "DescriptionStyleModel",
            "_view_count": null,
            "_view_module": "@jupyter-widgets/base",
            "_view_module_version": "1.2.0",
            "_view_name": "StyleView",
            "description_width": ""
          }
        },
        "961a8fb3e51140b994d9475c8bef41ea": {
          "model_module": "@jupyter-widgets/base",
          "model_name": "LayoutModel",
          "model_module_version": "1.2.0",
          "state": {
            "_model_module": "@jupyter-widgets/base",
            "_model_module_version": "1.2.0",
            "_model_name": "LayoutModel",
            "_view_count": null,
            "_view_module": "@jupyter-widgets/base",
            "_view_module_version": "1.2.0",
            "_view_name": "LayoutView",
            "align_content": null,
            "align_items": null,
            "align_self": null,
            "border": null,
            "bottom": null,
            "display": null,
            "flex": null,
            "flex_flow": null,
            "grid_area": null,
            "grid_auto_columns": null,
            "grid_auto_flow": null,
            "grid_auto_rows": null,
            "grid_column": null,
            "grid_gap": null,
            "grid_row": null,
            "grid_template_areas": null,
            "grid_template_columns": null,
            "grid_template_rows": null,
            "height": null,
            "justify_content": null,
            "justify_items": null,
            "left": null,
            "margin": null,
            "max_height": null,
            "max_width": null,
            "min_height": null,
            "min_width": null,
            "object_fit": null,
            "object_position": null,
            "order": null,
            "overflow": null,
            "overflow_x": null,
            "overflow_y": null,
            "padding": null,
            "right": null,
            "top": null,
            "visibility": null,
            "width": null
          }
        },
        "d27a1df924184fada233de004ac2e987": {
          "model_module": "@jupyter-widgets/controls",
          "model_name": "ButtonStyleModel",
          "model_module_version": "1.5.0",
          "state": {
            "_model_module": "@jupyter-widgets/controls",
            "_model_module_version": "1.5.0",
            "_model_name": "ButtonStyleModel",
            "_view_count": null,
            "_view_module": "@jupyter-widgets/base",
            "_view_module_version": "1.2.0",
            "_view_name": "StyleView",
            "button_color": null,
            "font_weight": ""
          }
        },
        "e3122eedb1e8463aa87fab2e807390a7": {
          "model_module": "@jupyter-widgets/base",
          "model_name": "LayoutModel",
          "model_module_version": "1.2.0",
          "state": {
            "_model_module": "@jupyter-widgets/base",
            "_model_module_version": "1.2.0",
            "_model_name": "LayoutModel",
            "_view_count": null,
            "_view_module": "@jupyter-widgets/base",
            "_view_module_version": "1.2.0",
            "_view_name": "LayoutView",
            "align_content": null,
            "align_items": null,
            "align_self": null,
            "border": null,
            "bottom": null,
            "display": null,
            "flex": null,
            "flex_flow": null,
            "grid_area": null,
            "grid_auto_columns": null,
            "grid_auto_flow": null,
            "grid_auto_rows": null,
            "grid_column": null,
            "grid_gap": null,
            "grid_row": null,
            "grid_template_areas": null,
            "grid_template_columns": null,
            "grid_template_rows": null,
            "height": null,
            "justify_content": null,
            "justify_items": null,
            "left": null,
            "margin": null,
            "max_height": null,
            "max_width": null,
            "min_height": null,
            "min_width": null,
            "object_fit": null,
            "object_position": null,
            "order": null,
            "overflow": null,
            "overflow_x": null,
            "overflow_y": null,
            "padding": null,
            "right": null,
            "top": null,
            "visibility": null,
            "width": null
          }
        },
        "22e14f0f7893411dbac59b37e127f0b0": {
          "model_module": "@jupyter-widgets/controls",
          "model_name": "DescriptionStyleModel",
          "model_module_version": "1.5.0",
          "state": {
            "_model_module": "@jupyter-widgets/controls",
            "_model_module_version": "1.5.0",
            "_model_name": "DescriptionStyleModel",
            "_view_count": null,
            "_view_module": "@jupyter-widgets/base",
            "_view_module_version": "1.2.0",
            "_view_name": "StyleView",
            "description_width": ""
          }
        },
        "430ad6c527d1460eb3dba4d8124797b3": {
          "model_module": "@jupyter-widgets/base",
          "model_name": "LayoutModel",
          "model_module_version": "1.2.0",
          "state": {
            "_model_module": "@jupyter-widgets/base",
            "_model_module_version": "1.2.0",
            "_model_name": "LayoutModel",
            "_view_count": null,
            "_view_module": "@jupyter-widgets/base",
            "_view_module_version": "1.2.0",
            "_view_name": "LayoutView",
            "align_content": null,
            "align_items": null,
            "align_self": null,
            "border": null,
            "bottom": null,
            "display": null,
            "flex": null,
            "flex_flow": null,
            "grid_area": null,
            "grid_auto_columns": null,
            "grid_auto_flow": null,
            "grid_auto_rows": null,
            "grid_column": null,
            "grid_gap": null,
            "grid_row": null,
            "grid_template_areas": null,
            "grid_template_columns": null,
            "grid_template_rows": null,
            "height": null,
            "justify_content": null,
            "justify_items": null,
            "left": null,
            "margin": null,
            "max_height": null,
            "max_width": null,
            "min_height": null,
            "min_width": null,
            "object_fit": null,
            "object_position": null,
            "order": null,
            "overflow": null,
            "overflow_x": null,
            "overflow_y": null,
            "padding": null,
            "right": null,
            "top": null,
            "visibility": null,
            "width": null
          }
        },
        "33743a14b6fc4b5eb7d0847bfe46b5da": {
          "model_module": "@jupyter-widgets/controls",
          "model_name": "DescriptionStyleModel",
          "model_module_version": "1.5.0",
          "state": {
            "_model_module": "@jupyter-widgets/controls",
            "_model_module_version": "1.5.0",
            "_model_name": "DescriptionStyleModel",
            "_view_count": null,
            "_view_module": "@jupyter-widgets/base",
            "_view_module_version": "1.2.0",
            "_view_name": "StyleView",
            "description_width": ""
          }
        },
        "e693637e06aa4c80a926b58cea3e32f6": {
          "model_module": "@jupyter-widgets/controls",
          "model_name": "TextareaModel",
          "model_module_version": "1.5.0",
          "state": {
            "_dom_classes": [],
            "_model_module": "@jupyter-widgets/controls",
            "_model_module_version": "1.5.0",
            "_model_name": "TextareaModel",
            "_view_count": null,
            "_view_module": "@jupyter-widgets/controls",
            "_view_module_version": "1.5.0",
            "_view_name": "TextareaView",
            "continuous_update": true,
            "description": "",
            "description_tooltip": null,
            "disabled": false,
            "layout": "IPY_MODEL_d67891862ea543fe9de41647df05d3b4",
            "placeholder": "<from state> : <input symbol> -> <to state>  !! comment\nex: I : 0 -> A",
            "rows": null,
            "style": "IPY_MODEL_389ecb32db784921ac25ea3b31f6ef77",
            "value": "!!---------------------------------------------------------------------------\n!! This DFA looks for patterns of the form ..0101\n!! i.e., ends in 0101.\n!!---------------------------------------------------------------------------\n\nI       : 0  -> S0      !! Go to S0, in anticipation of seeing a 0101\nI       : 1  -> I       !! Seeing a 1 does not help, stay in I\n\nS0      : 0  -> S0      !! Punt on 0, hoping that a 1 will come\nS0      : 1  -> S01     !! Advance to state S01\n\nS01     : 0  -> S010    !! A 0 advances to S010\nS01     : 1  -> I       !! Seeing a 1 breaks the pattern, go back to I\n\nS010    : 0  -> S0      !! A 0 breaks the pattern but may be the start of 0101\nS010    : 1  -> F0101   !! Yay, we found 0101, and can accept the string if\n                        !! there are no more symbols\n\nF0101   : 0  -> S010    !! Another 0 makes ..01010, salvage the pattern from S010\nF0101   : 1  -> I       !! Seeing a 1 breaks the pattern, go back to I"
          }
        },
        "d0f6a74e30f54196bf594efc362adb80": {
          "model_module": "@jupyter-widgets/base",
          "model_name": "LayoutModel",
          "model_module_version": "1.2.0",
          "state": {
            "_model_module": "@jupyter-widgets/base",
            "_model_module_version": "1.2.0",
            "_model_name": "LayoutModel",
            "_view_count": null,
            "_view_module": "@jupyter-widgets/base",
            "_view_module_version": "1.2.0",
            "_view_name": "LayoutView",
            "align_content": null,
            "align_items": null,
            "align_self": null,
            "border": null,
            "bottom": null,
            "display": null,
            "flex": null,
            "flex_flow": null,
            "grid_area": null,
            "grid_auto_columns": null,
            "grid_auto_flow": null,
            "grid_auto_rows": null,
            "grid_column": null,
            "grid_gap": null,
            "grid_row": null,
            "grid_template_areas": null,
            "grid_template_columns": null,
            "grid_template_rows": null,
            "height": null,
            "justify_content": null,
            "justify_items": null,
            "left": null,
            "margin": null,
            "max_height": null,
            "max_width": null,
            "min_height": null,
            "min_width": null,
            "object_fit": null,
            "object_position": null,
            "order": null,
            "overflow": null,
            "overflow_x": null,
            "overflow_y": null,
            "padding": null,
            "right": null,
            "top": null,
            "visibility": null,
            "width": null
          }
        },
        "7be97558cf2b4e9aafbffcf5a2847684": {
          "model_module": "@jupyter-widgets/base",
          "model_name": "LayoutModel",
          "model_module_version": "1.2.0",
          "state": {
            "_model_module": "@jupyter-widgets/base",
            "_model_module_version": "1.2.0",
            "_model_name": "LayoutModel",
            "_view_count": null,
            "_view_module": "@jupyter-widgets/base",
            "_view_module_version": "1.2.0",
            "_view_name": "LayoutView",
            "align_content": null,
            "align_items": null,
            "align_self": null,
            "border": null,
            "bottom": null,
            "display": null,
            "flex": null,
            "flex_flow": null,
            "grid_area": null,
            "grid_auto_columns": null,
            "grid_auto_flow": null,
            "grid_auto_rows": null,
            "grid_column": null,
            "grid_gap": null,
            "grid_row": null,
            "grid_template_areas": null,
            "grid_template_columns": null,
            "grid_template_rows": null,
            "height": null,
            "justify_content": null,
            "justify_items": null,
            "left": null,
            "margin": null,
            "max_height": null,
            "max_width": null,
            "min_height": null,
            "min_width": null,
            "object_fit": null,
            "object_position": null,
            "order": null,
            "overflow": null,
            "overflow_x": null,
            "overflow_y": null,
            "padding": null,
            "right": null,
            "top": null,
            "visibility": null,
            "width": null
          }
        },
        "de7123dad6874375b85b2ae1c32b420f": {
          "model_module": "@jupyter-widgets/base",
          "model_name": "LayoutModel",
          "model_module_version": "1.2.0",
          "state": {
            "_model_module": "@jupyter-widgets/base",
            "_model_module_version": "1.2.0",
            "_model_name": "LayoutModel",
            "_view_count": null,
            "_view_module": "@jupyter-widgets/base",
            "_view_module_version": "1.2.0",
            "_view_name": "LayoutView",
            "align_content": null,
            "align_items": null,
            "align_self": null,
            "border": null,
            "bottom": null,
            "display": null,
            "flex": null,
            "flex_flow": null,
            "grid_area": null,
            "grid_auto_columns": null,
            "grid_auto_flow": null,
            "grid_auto_rows": null,
            "grid_column": null,
            "grid_gap": null,
            "grid_row": null,
            "grid_template_areas": null,
            "grid_template_columns": null,
            "grid_template_rows": null,
            "height": null,
            "justify_content": null,
            "justify_items": null,
            "left": null,
            "margin": null,
            "max_height": null,
            "max_width": null,
            "min_height": null,
            "min_width": null,
            "object_fit": null,
            "object_position": null,
            "order": null,
            "overflow": null,
            "overflow_x": null,
            "overflow_y": null,
            "padding": null,
            "right": null,
            "top": null,
            "visibility": null,
            "width": null
          }
        },
        "6c4ffdd654234e76933fcb3e0313d6dc": {
          "model_module": "@jupyter-widgets/base",
          "model_name": "LayoutModel",
          "model_module_version": "1.2.0",
          "state": {
            "_model_module": "@jupyter-widgets/base",
            "_model_module_version": "1.2.0",
            "_model_name": "LayoutModel",
            "_view_count": null,
            "_view_module": "@jupyter-widgets/base",
            "_view_module_version": "1.2.0",
            "_view_name": "LayoutView",
            "align_content": null,
            "align_items": null,
            "align_self": null,
            "border": null,
            "bottom": null,
            "display": null,
            "flex": null,
            "flex_flow": null,
            "grid_area": null,
            "grid_auto_columns": null,
            "grid_auto_flow": null,
            "grid_auto_rows": null,
            "grid_column": null,
            "grid_gap": null,
            "grid_row": null,
            "grid_template_areas": null,
            "grid_template_columns": null,
            "grid_template_rows": null,
            "height": null,
            "justify_content": null,
            "justify_items": null,
            "left": null,
            "margin": null,
            "max_height": null,
            "max_width": null,
            "min_height": null,
            "min_width": null,
            "object_fit": null,
            "object_position": null,
            "order": null,
            "overflow": null,
            "overflow_x": null,
            "overflow_y": null,
            "padding": null,
            "right": null,
            "top": null,
            "visibility": null,
            "width": null
          }
        },
        "d67891862ea543fe9de41647df05d3b4": {
          "model_module": "@jupyter-widgets/base",
          "model_name": "LayoutModel",
          "model_module_version": "1.2.0",
          "state": {
            "_model_module": "@jupyter-widgets/base",
            "_model_module_version": "1.2.0",
            "_model_name": "LayoutModel",
            "_view_count": null,
            "_view_module": "@jupyter-widgets/base",
            "_view_module_version": "1.2.0",
            "_view_name": "LayoutView",
            "align_content": null,
            "align_items": null,
            "align_self": null,
            "border": null,
            "bottom": null,
            "display": null,
            "flex": null,
            "flex_flow": null,
            "grid_area": null,
            "grid_auto_columns": null,
            "grid_auto_flow": null,
            "grid_auto_rows": null,
            "grid_column": null,
            "grid_gap": null,
            "grid_row": null,
            "grid_template_areas": null,
            "grid_template_columns": null,
            "grid_template_rows": null,
            "height": "500px",
            "justify_content": null,
            "justify_items": null,
            "left": null,
            "margin": null,
            "max_height": null,
            "max_width": null,
            "min_height": null,
            "min_width": null,
            "object_fit": null,
            "object_position": null,
            "order": null,
            "overflow": null,
            "overflow_x": null,
            "overflow_y": null,
            "padding": null,
            "right": null,
            "top": null,
            "visibility": null,
            "width": "100%"
          }
        },
        "389ecb32db784921ac25ea3b31f6ef77": {
          "model_module": "@jupyter-widgets/controls",
          "model_name": "DescriptionStyleModel",
          "model_module_version": "1.5.0",
          "state": {
            "_model_module": "@jupyter-widgets/controls",
            "_model_module_version": "1.5.0",
            "_model_name": "DescriptionStyleModel",
            "_view_count": null,
            "_view_module": "@jupyter-widgets/base",
            "_view_module_version": "1.2.0",
            "_view_name": "StyleView",
            "description_width": ""
          }
        },
        "c5c8b6fb8769485087fd7068f12e40a9": {
          "model_module": "@jupyter-widgets/controls",
          "model_name": "VBoxModel",
          "model_module_version": "1.5.0",
          "state": {
            "_dom_classes": [],
            "_model_module": "@jupyter-widgets/controls",
            "_model_module_version": "1.5.0",
            "_model_name": "VBoxModel",
            "_view_count": null,
            "_view_module": "@jupyter-widgets/controls",
            "_view_module_version": "1.5.0",
            "_view_name": "VBoxView",
            "box_style": "",
            "children": [
              "IPY_MODEL_5217250c59a84c26bc6ead22c8f8d4a8",
              "IPY_MODEL_0081efdd722f45cda5cbcfc289fc5c1f",
              "IPY_MODEL_fd389a6687c14bd9b82cdd02599d7216",
              "IPY_MODEL_0d58e941e36647919928d213d3798517"
            ],
            "layout": "IPY_MODEL_189b4b3e936e4d95a34fc68d992bc9af"
          }
        },
        "5217250c59a84c26bc6ead22c8f8d4a8": {
          "model_module": "@jupyter-widgets/controls",
          "model_name": "HBoxModel",
          "model_module_version": "1.5.0",
          "state": {
            "_dom_classes": [],
            "_model_module": "@jupyter-widgets/controls",
            "_model_module_version": "1.5.0",
            "_model_name": "HBoxModel",
            "_view_count": null,
            "_view_module": "@jupyter-widgets/controls",
            "_view_module_version": "1.5.0",
            "_view_name": "HBoxView",
            "box_style": "",
            "children": [
              "IPY_MODEL_c3f885861cb842c3b0e204ab28d5c55f",
              "IPY_MODEL_503236e41da24cbcae42f38bd87c864e"
            ],
            "layout": "IPY_MODEL_3f639debf99542f7857ce4588ea0b288"
          }
        },
        "0081efdd722f45cda5cbcfc289fc5c1f": {
          "model_module": "@jupyter-widgets/output",
          "model_name": "OutputModel",
          "model_module_version": "1.0.0",
          "state": {
            "_dom_classes": [],
            "_model_module": "@jupyter-widgets/output",
            "_model_module_version": "1.0.0",
            "_model_name": "OutputModel",
            "_view_count": null,
            "_view_module": "@jupyter-widgets/output",
            "_view_module_version": "1.0.0",
            "_view_name": "OutputView",
            "layout": "IPY_MODEL_a6a0867848a841a595fe61b812c2e24d",
            "msg_id": "",
            "outputs": [
              {
                "output_type": "display_data",
                "data": {
                  "image/svg+xml": "<?xml version=\"1.0\" encoding=\"UTF-8\" standalone=\"no\"?>\n<!DOCTYPE svg PUBLIC \"-//W3C//DTD SVG 1.1//EN\"\n \"http://www.w3.org/Graphics/SVG/1.1/DTD/svg11.dtd\">\n<!-- Generated by graphviz version 2.43.0 (0)\n -->\n<!-- Title: %3 Pages: 1 -->\n<svg width=\"480pt\" height=\"234pt\"\n viewBox=\"0.00 0.00 479.59 234.00\" xmlns=\"http://www.w3.org/2000/svg\" xmlns:xlink=\"http://www.w3.org/1999/xlink\">\n<g id=\"graph0\" class=\"graph\" transform=\"scale(1 1) rotate(0) translate(4 230)\">\n<title>%3</title>\n<polygon fill=\"white\" stroke=\"transparent\" points=\"-4,4 -4,-230 475.59,-230 475.59,4 -4,4\"/>\n<!-- EMPTY -->\n<g id=\"node1\" class=\"node\">\n<title>EMPTY</title>\n</g>\n<!-- IA -->\n<g id=\"node6\" class=\"node\">\n<title>IA</title>\n<ellipse fill=\"none\" stroke=\"black\" cx=\"111.15\" cy=\"-106\" rx=\"20.3\" ry=\"20.3\"/>\n<text text-anchor=\"middle\" x=\"111.15\" y=\"-102.3\" font-family=\"Times,serif\" font-size=\"14.00\">IA</text>\n</g>\n<!-- EMPTY&#45;&gt;IA -->\n<g id=\"edge1\" class=\"edge\">\n<title>EMPTY&#45;&gt;IA</title>\n<path fill=\"none\" stroke=\"black\" d=\"M45.02,-36.23C57.95,-50.08 75.78,-69.19 89.52,-83.9\"/>\n<polygon fill=\"black\" stroke=\"black\" points=\"87.29,-86.64 96.67,-91.57 92.41,-81.87 87.29,-86.64\"/>\n</g>\n<!-- IG -->\n<g id=\"node7\" class=\"node\">\n<title>IG</title>\n<ellipse fill=\"none\" stroke=\"black\" cx=\"360.44\" cy=\"-64\" rx=\"20.3\" ry=\"20.3\"/>\n<text text-anchor=\"middle\" x=\"360.44\" y=\"-60.3\" font-family=\"Times,serif\" font-size=\"14.00\">IG</text>\n</g>\n<!-- EMPTY&#45;&gt;IG -->\n<g id=\"edge2\" class=\"edge\">\n<title>EMPTY&#45;&gt;IG</title>\n<path fill=\"none\" stroke=\"black\" d=\"M54.13,-12.21C70.2,-9.14 91.27,-6 110.15,-6 110.15,-6 110.15,-6 278.3,-6 303.3,-6 325.91,-24.45 340.87,-40.53\"/>\n<polygon fill=\"black\" stroke=\"black\" points=\"338.35,-42.96 347.58,-48.15 343.6,-38.33 338.35,-42.96\"/>\n</g>\n<!-- C -->\n<g id=\"node2\" class=\"node\">\n<title>C</title>\n<ellipse fill=\"none\" stroke=\"black\" cx=\"194.3\" cy=\"-52\" rx=\"18\" ry=\"18\"/>\n<text text-anchor=\"middle\" x=\"194.3\" y=\"-48.3\" font-family=\"Times,serif\" font-size=\"14.00\">C</text>\n</g>\n<!-- E -->\n<g id=\"node4\" class=\"node\">\n<title>E</title>\n<ellipse fill=\"none\" stroke=\"black\" cx=\"277.3\" cy=\"-64\" rx=\"18\" ry=\"18\"/>\n<text text-anchor=\"middle\" x=\"277.3\" y=\"-60.3\" font-family=\"Times,serif\" font-size=\"14.00\">E</text>\n</g>\n<!-- C&#45;&gt;E -->\n<g id=\"edge7\" class=\"edge\">\n<title>C&#45;&gt;E</title>\n<path fill=\"none\" stroke=\"black\" d=\"M212.47,-54.54C223.18,-56.13 237.18,-58.2 249.34,-60.01\"/>\n<polygon fill=\"black\" stroke=\"black\" points=\"249.02,-63.5 259.42,-61.5 250.04,-56.57 249.02,-63.5\"/>\n<text text-anchor=\"start\" x=\"230.3\" y=\"-62.8\" font-family=\"Times,serif\" font-size=\"14.00\"> 0</text>\n</g>\n<!-- D -->\n<g id=\"node3\" class=\"node\">\n<title>D</title>\n<ellipse fill=\"none\" stroke=\"black\" cx=\"277.3\" cy=\"-157\" rx=\"18\" ry=\"18\"/>\n<text text-anchor=\"middle\" x=\"277.3\" y=\"-153.3\" font-family=\"Times,serif\" font-size=\"14.00\">D</text>\n</g>\n<!-- D&#45;&gt;IA -->\n<g id=\"edge8\" class=\"edge\">\n<title>D&#45;&gt;IA</title>\n<path fill=\"none\" stroke=\"black\" d=\"M259.58,-151.81C231.58,-143.11 174.89,-125.49 140.54,-114.82\"/>\n<polygon fill=\"black\" stroke=\"black\" points=\"141.25,-111.38 130.66,-111.75 139.17,-118.06 141.25,-111.38\"/>\n<text text-anchor=\"start\" x=\"189.8\" y=\"-139.8\" font-family=\"Times,serif\" font-size=\"14.00\"> &#39;&#39;</text>\n</g>\n<!-- D&#45;&gt;IG -->\n<g id=\"edge9\" class=\"edge\">\n<title>D&#45;&gt;IG</title>\n<path fill=\"none\" stroke=\"black\" d=\"M289.92,-143.68C302.92,-128.78 324.19,-104.41 339.78,-86.53\"/>\n<polygon fill=\"black\" stroke=\"black\" points=\"342.56,-88.67 346.5,-78.84 337.29,-84.07 342.56,-88.67\"/>\n<text text-anchor=\"start\" x=\"313.3\" y=\"-119.8\" font-family=\"Times,serif\" font-size=\"14.00\"> &#39;&#39;</text>\n</g>\n<!-- E&#45;&gt;IA -->\n<g id=\"edge10\" class=\"edge\">\n<title>E&#45;&gt;IA</title>\n<path fill=\"none\" stroke=\"black\" d=\"M260.47,-70.98C254.53,-73.43 247.68,-76.05 241.3,-78 207.55,-88.33 167.74,-96.35 141.33,-101.11\"/>\n<polygon fill=\"black\" stroke=\"black\" points=\"140.47,-97.71 131.22,-102.89 141.68,-104.61 140.47,-97.71\"/>\n<text text-anchor=\"start\" x=\"189.8\" y=\"-97.8\" font-family=\"Times,serif\" font-size=\"14.00\"> &#39;&#39;</text>\n</g>\n<!-- E&#45;&gt;IG -->\n<g id=\"edge11\" class=\"edge\">\n<title>E&#45;&gt;IG</title>\n<path fill=\"none\" stroke=\"black\" d=\"M295.51,-64C305.55,-64 318.49,-64 330.1,-64\"/>\n<polygon fill=\"black\" stroke=\"black\" points=\"330.27,-67.5 340.27,-64 330.27,-60.5 330.27,-67.5\"/>\n<text text-anchor=\"start\" x=\"313.3\" y=\"-67.8\" font-family=\"Times,serif\" font-size=\"14.00\"> &#39;&#39;</text>\n</g>\n<!-- B -->\n<g id=\"node5\" class=\"node\">\n<title>B</title>\n<ellipse fill=\"none\" stroke=\"black\" cx=\"194.3\" cy=\"-208\" rx=\"18\" ry=\"18\"/>\n<text text-anchor=\"middle\" x=\"194.3\" y=\"-204.3\" font-family=\"Times,serif\" font-size=\"14.00\">B</text>\n</g>\n<!-- B&#45;&gt;D -->\n<g id=\"edge6\" class=\"edge\">\n<title>B&#45;&gt;D</title>\n<path fill=\"none\" stroke=\"black\" d=\"M210.15,-198.65C222.14,-191.1 239.22,-180.34 253.02,-171.65\"/>\n<polygon fill=\"black\" stroke=\"black\" points=\"254.94,-174.58 261.53,-166.29 251.21,-168.66 254.94,-174.58\"/>\n<text text-anchor=\"start\" x=\"230.3\" y=\"-188.8\" font-family=\"Times,serif\" font-size=\"14.00\"> 1</text>\n</g>\n<!-- IA&#45;&gt;C -->\n<g id=\"edge4\" class=\"edge\">\n<title>IA&#45;&gt;C</title>\n<path fill=\"none\" stroke=\"black\" d=\"M127.32,-93.35C133.91,-88.06 141.82,-82.01 149.3,-77 155.48,-72.86 162.38,-68.73 168.86,-65.05\"/>\n<polygon fill=\"black\" stroke=\"black\" points=\"170.85,-67.94 177.9,-60.03 167.46,-61.82 170.85,-67.94\"/>\n<text text-anchor=\"start\" x=\"149.3\" y=\"-80.8\" font-family=\"Times,serif\" font-size=\"14.00\"> &#39;&#39;</text>\n</g>\n<!-- IA&#45;&gt;B -->\n<g id=\"edge3\" class=\"edge\">\n<title>IA&#45;&gt;B</title>\n<path fill=\"none\" stroke=\"black\" d=\"M120.37,-124.19C127.05,-137.86 137.3,-156.63 149.3,-171 155.55,-178.49 163.44,-185.66 170.81,-191.65\"/>\n<polygon fill=\"black\" stroke=\"black\" points=\"169.05,-194.72 179.09,-198.1 173.35,-189.2 169.05,-194.72\"/>\n<text text-anchor=\"start\" x=\"149.3\" y=\"-183.8\" font-family=\"Times,serif\" font-size=\"14.00\"> &#39;&#39;</text>\n</g>\n<!-- F -->\n<g id=\"node8\" class=\"node\">\n<title>F</title>\n<ellipse fill=\"none\" stroke=\"black\" cx=\"449.59\" cy=\"-64\" rx=\"18\" ry=\"18\"/>\n<ellipse fill=\"none\" stroke=\"black\" cx=\"449.59\" cy=\"-64\" rx=\"22\" ry=\"22\"/>\n<text text-anchor=\"middle\" x=\"449.59\" y=\"-60.3\" font-family=\"Times,serif\" font-size=\"14.00\">F</text>\n</g>\n<!-- IG&#45;&gt;F -->\n<g id=\"edge5\" class=\"edge\">\n<title>IG&#45;&gt;F</title>\n<path fill=\"none\" stroke=\"black\" d=\"M380.79,-64C391.49,-64 405.06,-64 417.24,-64\"/>\n<polygon fill=\"black\" stroke=\"black\" points=\"417.48,-67.5 427.48,-64 417.48,-60.5 417.48,-67.5\"/>\n<text text-anchor=\"start\" x=\"398.59\" y=\"-67.8\" font-family=\"Times,serif\" font-size=\"14.00\"> 1</text>\n</g>\n</g>\n</svg>\n",
                  "text/plain": "<graphviz.sources.Source at 0x7d05617f5510>"
                },
                "metadata": {}
              }
            ]
          }
        },
        "fd389a6687c14bd9b82cdd02599d7216": {
          "model_module": "@jupyter-widgets/output",
          "model_name": "OutputModel",
          "model_module_version": "1.0.0",
          "state": {
            "_dom_classes": [],
            "_model_module": "@jupyter-widgets/output",
            "_model_module_version": "1.0.0",
            "_model_name": "OutputModel",
            "_view_count": null,
            "_view_module": "@jupyter-widgets/output",
            "_view_module_version": "1.0.0",
            "_view_name": "OutputView",
            "layout": "IPY_MODEL_569a28d70a3d496d84b6749b2f7ee569",
            "msg_id": "",
            "outputs": []
          }
        },
        "0d58e941e36647919928d213d3798517": {
          "model_module": "@jupyter-widgets/controls",
          "model_name": "HBoxModel",
          "model_module_version": "1.5.0",
          "state": {
            "_dom_classes": [],
            "_model_module": "@jupyter-widgets/controls",
            "_model_module_version": "1.5.0",
            "_model_name": "HBoxModel",
            "_view_count": null,
            "_view_module": "@jupyter-widgets/controls",
            "_view_module_version": "1.5.0",
            "_view_name": "HBoxView",
            "box_style": "",
            "children": [
              "IPY_MODEL_e353dbaae21a4a11b8cd4482c328490b",
              "IPY_MODEL_9b8cecc694ff4c4fb5d6d8627e4745cf",
              "IPY_MODEL_5844550b176e46ae9db45f371621d3a7",
              "IPY_MODEL_3299ad42687d4015a798704865cf3ee9"
            ],
            "layout": "IPY_MODEL_7e71aac7f420402dae884562e81e5a57"
          }
        },
        "189b4b3e936e4d95a34fc68d992bc9af": {
          "model_module": "@jupyter-widgets/base",
          "model_name": "LayoutModel",
          "model_module_version": "1.2.0",
          "state": {
            "_model_module": "@jupyter-widgets/base",
            "_model_module_version": "1.2.0",
            "_model_name": "LayoutModel",
            "_view_count": null,
            "_view_module": "@jupyter-widgets/base",
            "_view_module_version": "1.2.0",
            "_view_name": "LayoutView",
            "align_content": null,
            "align_items": null,
            "align_self": null,
            "border": null,
            "bottom": null,
            "display": null,
            "flex": null,
            "flex_flow": null,
            "grid_area": null,
            "grid_auto_columns": null,
            "grid_auto_flow": null,
            "grid_auto_rows": null,
            "grid_column": null,
            "grid_gap": null,
            "grid_row": null,
            "grid_template_areas": null,
            "grid_template_columns": null,
            "grid_template_rows": null,
            "height": null,
            "justify_content": null,
            "justify_items": null,
            "left": null,
            "margin": null,
            "max_height": null,
            "max_width": null,
            "min_height": null,
            "min_width": null,
            "object_fit": null,
            "object_position": null,
            "order": null,
            "overflow": null,
            "overflow_x": null,
            "overflow_y": null,
            "padding": null,
            "right": null,
            "top": null,
            "visibility": null,
            "width": null
          }
        },
        "c3f885861cb842c3b0e204ab28d5c55f": {
          "model_module": "@jupyter-widgets/controls",
          "model_name": "TextModel",
          "model_module_version": "1.5.0",
          "state": {
            "_dom_classes": [],
            "_model_module": "@jupyter-widgets/controls",
            "_model_module_version": "1.5.0",
            "_model_name": "TextModel",
            "_view_count": null,
            "_view_module": "@jupyter-widgets/controls",
            "_view_module_version": "1.5.0",
            "_view_name": "TextView",
            "continuous_update": true,
            "description": "Input:",
            "description_tooltip": null,
            "disabled": false,
            "layout": "IPY_MODEL_1335c6b50ea84ecdbbebfe695391d09b",
            "placeholder": "Sigma: {0,1}",
            "style": "IPY_MODEL_55ce1cd5a36c44a19ea6ee44a0b95ae6",
            "value": ""
          }
        },
        "503236e41da24cbcae42f38bd87c864e": {
          "model_module": "@jupyter-widgets/controls",
          "model_name": "ButtonModel",
          "model_module_version": "1.5.0",
          "state": {
            "_dom_classes": [],
            "_model_module": "@jupyter-widgets/controls",
            "_model_module_version": "1.5.0",
            "_model_name": "ButtonModel",
            "_view_count": null,
            "_view_module": "@jupyter-widgets/controls",
            "_view_module_version": "1.5.0",
            "_view_name": "ButtonView",
            "button_style": "primary",
            "description": "Animate",
            "disabled": false,
            "icon": "",
            "layout": "IPY_MODEL_4e08aacd29fc44f682edd1d0981b5e37",
            "style": "IPY_MODEL_3447cbed9fae4fe787a8c1f4dcf08863",
            "tooltip": ""
          }
        },
        "3f639debf99542f7857ce4588ea0b288": {
          "model_module": "@jupyter-widgets/base",
          "model_name": "LayoutModel",
          "model_module_version": "1.2.0",
          "state": {
            "_model_module": "@jupyter-widgets/base",
            "_model_module_version": "1.2.0",
            "_model_name": "LayoutModel",
            "_view_count": null,
            "_view_module": "@jupyter-widgets/base",
            "_view_module_version": "1.2.0",
            "_view_name": "LayoutView",
            "align_content": null,
            "align_items": null,
            "align_self": null,
            "border": null,
            "bottom": null,
            "display": null,
            "flex": null,
            "flex_flow": null,
            "grid_area": null,
            "grid_auto_columns": null,
            "grid_auto_flow": null,
            "grid_auto_rows": null,
            "grid_column": null,
            "grid_gap": null,
            "grid_row": null,
            "grid_template_areas": null,
            "grid_template_columns": null,
            "grid_template_rows": null,
            "height": null,
            "justify_content": null,
            "justify_items": null,
            "left": null,
            "margin": null,
            "max_height": null,
            "max_width": null,
            "min_height": null,
            "min_width": null,
            "object_fit": null,
            "object_position": null,
            "order": null,
            "overflow": null,
            "overflow_x": null,
            "overflow_y": null,
            "padding": null,
            "right": null,
            "top": null,
            "visibility": null,
            "width": null
          }
        },
        "e353dbaae21a4a11b8cd4482c328490b": {
          "model_module": "@jupyter-widgets/controls",
          "model_name": "PlayModel",
          "model_module_version": "1.5.0",
          "state": {
            "_dom_classes": [],
            "_model_module": "@jupyter-widgets/controls",
            "_model_module_version": "1.5.0",
            "_model_name": "PlayModel",
            "_playing": false,
            "_repeat": false,
            "_view_count": null,
            "_view_module": "@jupyter-widgets/controls",
            "_view_module_version": "1.5.0",
            "_view_name": "PlayView",
            "description": "Press play",
            "description_tooltip": null,
            "disabled": true,
            "interval": 950,
            "layout": "IPY_MODEL_08b92d5185c34439bae26d780eb30593",
            "max": 100,
            "min": 0,
            "show_repeat": true,
            "step": 1,
            "style": "IPY_MODEL_2fbe0745fda341d0b0d840d45b084a67",
            "value": 0
          }
        },
        "9b8cecc694ff4c4fb5d6d8627e4745cf": {
          "model_module": "@jupyter-widgets/controls",
          "model_name": "ButtonModel",
          "model_module_version": "1.5.0",
          "state": {
            "_dom_classes": [],
            "_model_module": "@jupyter-widgets/controls",
            "_model_module_version": "1.5.0",
            "_model_name": "ButtonModel",
            "_view_count": null,
            "_view_module": "@jupyter-widgets/controls",
            "_view_module_version": "1.5.0",
            "_view_name": "ButtonView",
            "button_style": "",
            "description": "",
            "disabled": true,
            "icon": "step-backward",
            "layout": "IPY_MODEL_b54d5ec3a40c4cfbbed9d98a0a9c97fb",
            "style": "IPY_MODEL_25fc0b5f7077492f89fe7211cd2081c1",
            "tooltip": ""
          }
        },
        "5844550b176e46ae9db45f371621d3a7": {
          "model_module": "@jupyter-widgets/controls",
          "model_name": "ButtonModel",
          "model_module_version": "1.5.0",
          "state": {
            "_dom_classes": [],
            "_model_module": "@jupyter-widgets/controls",
            "_model_module_version": "1.5.0",
            "_model_name": "ButtonModel",
            "_view_count": null,
            "_view_module": "@jupyter-widgets/controls",
            "_view_module_version": "1.5.0",
            "_view_name": "ButtonView",
            "button_style": "",
            "description": "",
            "disabled": true,
            "icon": "step-forward",
            "layout": "IPY_MODEL_2ff68eb5ef534ce3a334eada4dbf8501",
            "style": "IPY_MODEL_43c04409939449609c3690434f2d7e8d",
            "tooltip": ""
          }
        },
        "3299ad42687d4015a798704865cf3ee9": {
          "model_module": "@jupyter-widgets/controls",
          "model_name": "IntSliderModel",
          "model_module_version": "1.5.0",
          "state": {
            "_dom_classes": [],
            "_model_module": "@jupyter-widgets/controls",
            "_model_module_version": "1.5.0",
            "_model_name": "IntSliderModel",
            "_view_count": null,
            "_view_module": "@jupyter-widgets/controls",
            "_view_module_version": "1.5.0",
            "_view_name": "IntSliderView",
            "continuous_update": false,
            "description": "Speed:",
            "description_tooltip": null,
            "disabled": true,
            "layout": "IPY_MODEL_350dcb1e1c634fa6a27e4e47c9d946ff",
            "max": 10,
            "min": 1,
            "orientation": "horizontal",
            "readout": true,
            "readout_format": "d",
            "step": 1,
            "style": "IPY_MODEL_109416e0739249bba6ba85a47b1cf281",
            "value": 1
          }
        },
        "7e71aac7f420402dae884562e81e5a57": {
          "model_module": "@jupyter-widgets/base",
          "model_name": "LayoutModel",
          "model_module_version": "1.2.0",
          "state": {
            "_model_module": "@jupyter-widgets/base",
            "_model_module_version": "1.2.0",
            "_model_name": "LayoutModel",
            "_view_count": null,
            "_view_module": "@jupyter-widgets/base",
            "_view_module_version": "1.2.0",
            "_view_name": "LayoutView",
            "align_content": null,
            "align_items": null,
            "align_self": null,
            "border": null,
            "bottom": null,
            "display": null,
            "flex": null,
            "flex_flow": null,
            "grid_area": null,
            "grid_auto_columns": null,
            "grid_auto_flow": null,
            "grid_auto_rows": null,
            "grid_column": null,
            "grid_gap": null,
            "grid_row": null,
            "grid_template_areas": null,
            "grid_template_columns": null,
            "grid_template_rows": null,
            "height": null,
            "justify_content": null,
            "justify_items": null,
            "left": null,
            "margin": null,
            "max_height": null,
            "max_width": null,
            "min_height": null,
            "min_width": null,
            "object_fit": null,
            "object_position": null,
            "order": null,
            "overflow": null,
            "overflow_x": null,
            "overflow_y": null,
            "padding": null,
            "right": null,
            "top": null,
            "visibility": null,
            "width": null
          }
        },
        "1335c6b50ea84ecdbbebfe695391d09b": {
          "model_module": "@jupyter-widgets/base",
          "model_name": "LayoutModel",
          "model_module_version": "1.2.0",
          "state": {
            "_model_module": "@jupyter-widgets/base",
            "_model_module_version": "1.2.0",
            "_model_name": "LayoutModel",
            "_view_count": null,
            "_view_module": "@jupyter-widgets/base",
            "_view_module_version": "1.2.0",
            "_view_name": "LayoutView",
            "align_content": null,
            "align_items": null,
            "align_self": null,
            "border": null,
            "bottom": null,
            "display": null,
            "flex": null,
            "flex_flow": null,
            "grid_area": null,
            "grid_auto_columns": null,
            "grid_auto_flow": null,
            "grid_auto_rows": null,
            "grid_column": null,
            "grid_gap": null,
            "grid_row": null,
            "grid_template_areas": null,
            "grid_template_columns": null,
            "grid_template_rows": null,
            "height": null,
            "justify_content": null,
            "justify_items": null,
            "left": null,
            "margin": null,
            "max_height": null,
            "max_width": null,
            "min_height": null,
            "min_width": null,
            "object_fit": null,
            "object_position": null,
            "order": null,
            "overflow": null,
            "overflow_x": null,
            "overflow_y": null,
            "padding": null,
            "right": null,
            "top": null,
            "visibility": null,
            "width": "500px"
          }
        },
        "55ce1cd5a36c44a19ea6ee44a0b95ae6": {
          "model_module": "@jupyter-widgets/controls",
          "model_name": "DescriptionStyleModel",
          "model_module_version": "1.5.0",
          "state": {
            "_model_module": "@jupyter-widgets/controls",
            "_model_module_version": "1.5.0",
            "_model_name": "DescriptionStyleModel",
            "_view_count": null,
            "_view_module": "@jupyter-widgets/base",
            "_view_module_version": "1.2.0",
            "_view_name": "StyleView",
            "description_width": ""
          }
        },
        "4e08aacd29fc44f682edd1d0981b5e37": {
          "model_module": "@jupyter-widgets/base",
          "model_name": "LayoutModel",
          "model_module_version": "1.2.0",
          "state": {
            "_model_module": "@jupyter-widgets/base",
            "_model_module_version": "1.2.0",
            "_model_name": "LayoutModel",
            "_view_count": null,
            "_view_module": "@jupyter-widgets/base",
            "_view_module_version": "1.2.0",
            "_view_name": "LayoutView",
            "align_content": null,
            "align_items": null,
            "align_self": null,
            "border": null,
            "bottom": null,
            "display": null,
            "flex": null,
            "flex_flow": null,
            "grid_area": null,
            "grid_auto_columns": null,
            "grid_auto_flow": null,
            "grid_auto_rows": null,
            "grid_column": null,
            "grid_gap": null,
            "grid_row": null,
            "grid_template_areas": null,
            "grid_template_columns": null,
            "grid_template_rows": null,
            "height": null,
            "justify_content": null,
            "justify_items": null,
            "left": null,
            "margin": null,
            "max_height": null,
            "max_width": null,
            "min_height": null,
            "min_width": null,
            "object_fit": null,
            "object_position": null,
            "order": null,
            "overflow": null,
            "overflow_x": null,
            "overflow_y": null,
            "padding": null,
            "right": null,
            "top": null,
            "visibility": null,
            "width": null
          }
        },
        "3447cbed9fae4fe787a8c1f4dcf08863": {
          "model_module": "@jupyter-widgets/controls",
          "model_name": "ButtonStyleModel",
          "model_module_version": "1.5.0",
          "state": {
            "_model_module": "@jupyter-widgets/controls",
            "_model_module_version": "1.5.0",
            "_model_name": "ButtonStyleModel",
            "_view_count": null,
            "_view_module": "@jupyter-widgets/base",
            "_view_module_version": "1.2.0",
            "_view_name": "StyleView",
            "button_color": null,
            "font_weight": ""
          }
        },
        "08b92d5185c34439bae26d780eb30593": {
          "model_module": "@jupyter-widgets/base",
          "model_name": "LayoutModel",
          "model_module_version": "1.2.0",
          "state": {
            "_model_module": "@jupyter-widgets/base",
            "_model_module_version": "1.2.0",
            "_model_name": "LayoutModel",
            "_view_count": null,
            "_view_module": "@jupyter-widgets/base",
            "_view_module_version": "1.2.0",
            "_view_name": "LayoutView",
            "align_content": null,
            "align_items": null,
            "align_self": null,
            "border": null,
            "bottom": null,
            "display": null,
            "flex": null,
            "flex_flow": null,
            "grid_area": null,
            "grid_auto_columns": null,
            "grid_auto_flow": null,
            "grid_auto_rows": null,
            "grid_column": null,
            "grid_gap": null,
            "grid_row": null,
            "grid_template_areas": null,
            "grid_template_columns": null,
            "grid_template_rows": null,
            "height": null,
            "justify_content": null,
            "justify_items": null,
            "left": null,
            "margin": null,
            "max_height": null,
            "max_width": null,
            "min_height": null,
            "min_width": null,
            "object_fit": null,
            "object_position": null,
            "order": null,
            "overflow": null,
            "overflow_x": null,
            "overflow_y": null,
            "padding": null,
            "right": null,
            "top": null,
            "visibility": null,
            "width": null
          }
        },
        "2fbe0745fda341d0b0d840d45b084a67": {
          "model_module": "@jupyter-widgets/controls",
          "model_name": "DescriptionStyleModel",
          "model_module_version": "1.5.0",
          "state": {
            "_model_module": "@jupyter-widgets/controls",
            "_model_module_version": "1.5.0",
            "_model_name": "DescriptionStyleModel",
            "_view_count": null,
            "_view_module": "@jupyter-widgets/base",
            "_view_module_version": "1.2.0",
            "_view_name": "StyleView",
            "description_width": ""
          }
        },
        "b54d5ec3a40c4cfbbed9d98a0a9c97fb": {
          "model_module": "@jupyter-widgets/base",
          "model_name": "LayoutModel",
          "model_module_version": "1.2.0",
          "state": {
            "_model_module": "@jupyter-widgets/base",
            "_model_module_version": "1.2.0",
            "_model_name": "LayoutModel",
            "_view_count": null,
            "_view_module": "@jupyter-widgets/base",
            "_view_module_version": "1.2.0",
            "_view_name": "LayoutView",
            "align_content": null,
            "align_items": null,
            "align_self": null,
            "border": null,
            "bottom": null,
            "display": null,
            "flex": null,
            "flex_flow": null,
            "grid_area": null,
            "grid_auto_columns": null,
            "grid_auto_flow": null,
            "grid_auto_rows": null,
            "grid_column": null,
            "grid_gap": null,
            "grid_row": null,
            "grid_template_areas": null,
            "grid_template_columns": null,
            "grid_template_rows": null,
            "height": null,
            "justify_content": null,
            "justify_items": null,
            "left": null,
            "margin": null,
            "max_height": null,
            "max_width": null,
            "min_height": null,
            "min_width": null,
            "object_fit": null,
            "object_position": null,
            "order": null,
            "overflow": null,
            "overflow_x": null,
            "overflow_y": null,
            "padding": null,
            "right": null,
            "top": null,
            "visibility": null,
            "width": "40px"
          }
        },
        "25fc0b5f7077492f89fe7211cd2081c1": {
          "model_module": "@jupyter-widgets/controls",
          "model_name": "ButtonStyleModel",
          "model_module_version": "1.5.0",
          "state": {
            "_model_module": "@jupyter-widgets/controls",
            "_model_module_version": "1.5.0",
            "_model_name": "ButtonStyleModel",
            "_view_count": null,
            "_view_module": "@jupyter-widgets/base",
            "_view_module_version": "1.2.0",
            "_view_name": "StyleView",
            "button_color": null,
            "font_weight": ""
          }
        },
        "2ff68eb5ef534ce3a334eada4dbf8501": {
          "model_module": "@jupyter-widgets/base",
          "model_name": "LayoutModel",
          "model_module_version": "1.2.0",
          "state": {
            "_model_module": "@jupyter-widgets/base",
            "_model_module_version": "1.2.0",
            "_model_name": "LayoutModel",
            "_view_count": null,
            "_view_module": "@jupyter-widgets/base",
            "_view_module_version": "1.2.0",
            "_view_name": "LayoutView",
            "align_content": null,
            "align_items": null,
            "align_self": null,
            "border": null,
            "bottom": null,
            "display": null,
            "flex": null,
            "flex_flow": null,
            "grid_area": null,
            "grid_auto_columns": null,
            "grid_auto_flow": null,
            "grid_auto_rows": null,
            "grid_column": null,
            "grid_gap": null,
            "grid_row": null,
            "grid_template_areas": null,
            "grid_template_columns": null,
            "grid_template_rows": null,
            "height": null,
            "justify_content": null,
            "justify_items": null,
            "left": null,
            "margin": null,
            "max_height": null,
            "max_width": null,
            "min_height": null,
            "min_width": null,
            "object_fit": null,
            "object_position": null,
            "order": null,
            "overflow": null,
            "overflow_x": null,
            "overflow_y": null,
            "padding": null,
            "right": null,
            "top": null,
            "visibility": null,
            "width": "40px"
          }
        },
        "43c04409939449609c3690434f2d7e8d": {
          "model_module": "@jupyter-widgets/controls",
          "model_name": "ButtonStyleModel",
          "model_module_version": "1.5.0",
          "state": {
            "_model_module": "@jupyter-widgets/controls",
            "_model_module_version": "1.5.0",
            "_model_name": "ButtonStyleModel",
            "_view_count": null,
            "_view_module": "@jupyter-widgets/base",
            "_view_module_version": "1.2.0",
            "_view_name": "StyleView",
            "button_color": null,
            "font_weight": ""
          }
        },
        "350dcb1e1c634fa6a27e4e47c9d946ff": {
          "model_module": "@jupyter-widgets/base",
          "model_name": "LayoutModel",
          "model_module_version": "1.2.0",
          "state": {
            "_model_module": "@jupyter-widgets/base",
            "_model_module_version": "1.2.0",
            "_model_name": "LayoutModel",
            "_view_count": null,
            "_view_module": "@jupyter-widgets/base",
            "_view_module_version": "1.2.0",
            "_view_name": "LayoutView",
            "align_content": null,
            "align_items": null,
            "align_self": null,
            "border": null,
            "bottom": null,
            "display": null,
            "flex": null,
            "flex_flow": null,
            "grid_area": null,
            "grid_auto_columns": null,
            "grid_auto_flow": null,
            "grid_auto_rows": null,
            "grid_column": null,
            "grid_gap": null,
            "grid_row": null,
            "grid_template_areas": null,
            "grid_template_columns": null,
            "grid_template_rows": null,
            "height": null,
            "justify_content": null,
            "justify_items": null,
            "left": null,
            "margin": null,
            "max_height": null,
            "max_width": null,
            "min_height": null,
            "min_width": null,
            "object_fit": null,
            "object_position": null,
            "order": null,
            "overflow": null,
            "overflow_x": null,
            "overflow_y": null,
            "padding": null,
            "right": null,
            "top": null,
            "visibility": null,
            "width": null
          }
        },
        "109416e0739249bba6ba85a47b1cf281": {
          "model_module": "@jupyter-widgets/controls",
          "model_name": "SliderStyleModel",
          "model_module_version": "1.5.0",
          "state": {
            "_model_module": "@jupyter-widgets/controls",
            "_model_module_version": "1.5.0",
            "_model_name": "SliderStyleModel",
            "_view_count": null,
            "_view_module": "@jupyter-widgets/base",
            "_view_module_version": "1.2.0",
            "_view_name": "StyleView",
            "description_width": "",
            "handle_color": null
          }
        },
        "a6a0867848a841a595fe61b812c2e24d": {
          "model_module": "@jupyter-widgets/base",
          "model_name": "LayoutModel",
          "model_module_version": "1.2.0",
          "state": {
            "_model_module": "@jupyter-widgets/base",
            "_model_module_version": "1.2.0",
            "_model_name": "LayoutModel",
            "_view_count": null,
            "_view_module": "@jupyter-widgets/base",
            "_view_module_version": "1.2.0",
            "_view_name": "LayoutView",
            "align_content": null,
            "align_items": null,
            "align_self": null,
            "border": null,
            "bottom": null,
            "display": null,
            "flex": null,
            "flex_flow": null,
            "grid_area": null,
            "grid_auto_columns": null,
            "grid_auto_flow": null,
            "grid_auto_rows": null,
            "grid_column": null,
            "grid_gap": null,
            "grid_row": null,
            "grid_template_areas": null,
            "grid_template_columns": null,
            "grid_template_rows": null,
            "height": null,
            "justify_content": null,
            "justify_items": null,
            "left": null,
            "margin": null,
            "max_height": null,
            "max_width": null,
            "min_height": null,
            "min_width": null,
            "object_fit": null,
            "object_position": null,
            "order": null,
            "overflow": null,
            "overflow_x": null,
            "overflow_y": null,
            "padding": null,
            "right": null,
            "top": null,
            "visibility": null,
            "width": null
          }
        },
        "569a28d70a3d496d84b6749b2f7ee569": {
          "model_module": "@jupyter-widgets/base",
          "model_name": "LayoutModel",
          "model_module_version": "1.2.0",
          "state": {
            "_model_module": "@jupyter-widgets/base",
            "_model_module_version": "1.2.0",
            "_model_name": "LayoutModel",
            "_view_count": null,
            "_view_module": "@jupyter-widgets/base",
            "_view_module_version": "1.2.0",
            "_view_name": "LayoutView",
            "align_content": null,
            "align_items": null,
            "align_self": null,
            "border": null,
            "bottom": null,
            "display": null,
            "flex": null,
            "flex_flow": null,
            "grid_area": null,
            "grid_auto_columns": null,
            "grid_auto_flow": null,
            "grid_auto_rows": null,
            "grid_column": null,
            "grid_gap": null,
            "grid_row": null,
            "grid_template_areas": null,
            "grid_template_columns": null,
            "grid_template_rows": null,
            "height": null,
            "justify_content": null,
            "justify_items": null,
            "left": null,
            "margin": null,
            "max_height": null,
            "max_width": null,
            "min_height": null,
            "min_width": null,
            "object_fit": null,
            "object_position": null,
            "order": null,
            "overflow": null,
            "overflow_x": null,
            "overflow_y": null,
            "padding": null,
            "right": null,
            "top": null,
            "visibility": null,
            "width": null
          }
        }
      }
    }
  },
  "nbformat": 4,
  "nbformat_minor": 0
}