{
  "cells": [
    {
      "cell_type": "markdown",
      "metadata": {
        "id": "view-in-github",
        "colab_type": "text"
      },
      "source": [
        "<a href=\"https://colab.research.google.com/github/ganeshutah/Jove/blob/master/For_CS3100_Fall2024/08_Min_DFA/MT1_Practice.ipynb\" target=\"_parent\"><img src=\"https://colab.research.google.com/assets/colab-badge.svg\" alt=\"Open In Colab\"/></a>"
      ]
    },
    {
      "cell_type": "code",
      "execution_count": null,
      "metadata": {
        "run_control": {
          "frozen": false,
          "read_only": false
        },
        "id": "xPwIhPL-aGbn"
      },
      "outputs": [],
      "source": [
        "#~~~~~~~~~~~~~~~~~~~~~~~~~~~~~~~~~~~~~~~~~~~~~~~~~~~~~~~\n",
        "import sys\n",
        "\n",
        "# -- Detect if in Own Install or in Colab\n",
        "try:\n",
        "    import google.colab\n",
        "    OWN_INSTALL = False\n",
        "except:\n",
        "    OWN_INSTALL = True\n",
        "\n",
        "if OWN_INSTALL:\n",
        "\n",
        "  #---- Leave these definitions ON if running on laptop\n",
        "  #---- Else turn OFF by putting them between ''' ... '''\n",
        "\n",
        "  sys.path[0:0] = ['../../../../..',  '../../../../../3rdparty',\n",
        "                   '../../../..',  '../../../../3rdparty',\n",
        "                   '../../..',     '../../../3rdparty',\n",
        "                   '../..',        '../../3rdparty',\n",
        "                   '..',           '../3rdparty' ]\n",
        "\n",
        "else: # In colab\n",
        "  ! if [ ! -d Jove ]; then git clone https://github.com/ganeshutah/Jove Jove; fi\n",
        "  sys.path.append('./Jove')\n",
        "  sys.path.append('./Jove/jove')\n",
        "\n",
        "# -- common imports --\n",
        "from jove.DotBashers import *\n",
        "from jove.Def_md2mc  import *\n",
        "from jove.Def_DFA    import *\n",
        "from jove.Def_NFA    import *\n",
        "from jove.Def_RE2NFA import *\n",
        "from jove.LangDef    import *  # for testing DFA actions using nthnumeric if needed\n",
        "from jove.Def_NFA2RE import *\n",
        "#~~~~~~~~~~~~~~~~~~~~~~~~~~~~~~~~~~~~~~~~~~~~~~~~~~~~~~~"
      ]
    },
    {
      "cell_type": "markdown",
      "source": [
        "### Some material that motivates the need for NFA and Regular Expressions (RE)\n",
        "\n",
        "* Impossibility of concatenating DFA\n",
        "   - You can union, intersect, complement DFA\n",
        "   - You can minimize DFA rather directly\n",
        "\n",
        "* But\n",
        "  - You can't concatenate DFA directly\n",
        "  - Some DFA are guaranteed exponential 😞\n",
        "\n",
        "* So, we introduce NFA and Regular Expressions (RE)\n",
        "  - NFA are the graph-form of the required generalization of DFA\n",
        "  - Every DFA is an NFA\n",
        "  - NFA are more liberal, in that they include four new situations\n",
        "    - They can jump to multiple places on a single symbol\n",
        "    - They can jump to a state via an epsilon transition ('' moves or $\\varepsilon$ moves)\n",
        "    - They need not jump from a state to another state on all symbols\n",
        "       - In fact, they can have perfect dead-end states (in a DFA you may not have them)\n",
        "    - NFA can start from multiple initial states\n",
        "\n",
        "\n",
        "* But\n",
        "  - NFA are pretty gnarly and error-prone\n",
        "     - No reasonable person would design them by hand\n",
        "  - Fortunately, we have a notation called RE (regular expressions)\n",
        "     - They are NOTHING but the language notations you learned about a while ago, except\n",
        "        - They are not in math notation\n",
        "        - Instead they are in nice ASCII text that is computer-readable\n",
        "     - AND\n",
        "        - You put together RE only in three ways\n",
        "          - Union\n",
        "          - Concatenation\n",
        "          - Star\n",
        "        - i.e.\n",
        "          - You don't have intersection\n",
        "          - You don't have complement\n",
        "        - AND STILL\n",
        "          - they can describe all regular languages\n",
        "* Here are some facts\n",
        "  - You cannot directly complement NFA or RegExp\n",
        "  - You can convert NFA to RE\n",
        "  - Conversion of RE to NFA is even easier and more fun and modular\n",
        "  - There is no direct way to minimize NFA (or RE)\n",
        "    - we basically turn them into DFA and then minimize\n",
        "      - But then we may pay the price -- exponential blow-up\n",
        "\n",
        "* FINALLY\n",
        "  - Those large DFA can now be expressed in an exponentially succinct using NFA or RE\n",
        "  - And we can perform the concatenation (missing with DFA)\n",
        "\n",
        "\n",
        "* Let us see all these through examples"
      ],
      "metadata": {
        "id": "MQCnvzr_vYA9"
      }
    },
    {
      "cell_type": "markdown",
      "source": [
        "### Showing why it is hard to concatenate DFA and why they are exponential sometimes\n",
        "\n",
        "  - You can't concatenate DFA directly\n",
        "  - Some DFA are guaranteed exponential 😞"
      ],
      "metadata": {
        "id": "gcu8jbiE-wb_"
      }
    },
    {
      "cell_type": "code",
      "source": [
        "# How can we concatenate D1 and D2? Can't put a bridge from D1's final state to D2's initlal state. What will the bridge be labeled by?\n",
        "# I'll use RE to draw DFA quickly... that part will be explained later.\n",
        "# D1's language is \"ab\" and that of D2 is \"cd\"\n",
        "\n",
        "D1 = min_dfa(nfa2dfa(re2nfa(\"ab\")))\n",
        "dotObj_dfa_w_bh(D1,FuseEdges=True)"
      ],
      "metadata": {
        "id": "NRydvkph_UZx"
      },
      "execution_count": null,
      "outputs": []
    },
    {
      "cell_type": "code",
      "source": [
        "D2 = min_dfa(nfa2dfa(re2nfa(\"cd\")))\n",
        "dotObj_dfa_w_bh(D2,FuseEdges=True)"
      ],
      "metadata": {
        "id": "U3jCSNTSAdPE"
      },
      "execution_count": null,
      "outputs": []
    },
    {
      "cell_type": "markdown",
      "source": [
        "### Can't bridge from the first DFA's St4 to the second DFA's initial state (or other things)... there is no direct concatenation approach."
      ],
      "metadata": {
        "id": "LpMUlzZABHgC"
      }
    },
    {
      "cell_type": "code",
      "source": [
        "# Now let's see DFA for \"Nth-last bit is a 1\" grow exponentially large as N increases\n",
        "dotObj_dfa(min_dfa(nfa2dfa(re2nfa(\"(0+1)*1\"))))\n"
      ],
      "metadata": {
        "id": "GXiQG9UHAejd"
      },
      "execution_count": null,
      "outputs": []
    },
    {
      "cell_type": "code",
      "source": [
        "dotObj_dfa(min_dfa(nfa2dfa(re2nfa(\"(0+1)*1(0+1)\"))))"
      ],
      "metadata": {
        "id": "NNkWCPfHBoKB"
      },
      "execution_count": null,
      "outputs": []
    },
    {
      "cell_type": "code",
      "source": [
        "dotObj_dfa(min_dfa(nfa2dfa(re2nfa(\"(0+1)*1(0+1)(0+1)\"))))"
      ],
      "metadata": {
        "id": "nWX4puqlBtOl"
      },
      "execution_count": null,
      "outputs": []
    },
    {
      "cell_type": "markdown",
      "source": [
        "### It is getting larger; so let's check how the number of states grow."
      ],
      "metadata": {
        "id": "9rooPbL0CWf_"
      }
    },
    {
      "cell_type": "code",
      "source": [
        "min_dfa(nfa2dfa(re2nfa(\"(0+1)*1\")))"
      ],
      "metadata": {
        "id": "F_guCh7UAuGb"
      },
      "execution_count": null,
      "outputs": []
    },
    {
      "cell_type": "code",
      "source": [
        "# So, to determine the number of states, index-out the Python dictionary at \"Q\"\n",
        "len(min_dfa(nfa2dfa(re2nfa(\"(0+1)*1\")))[\"Q\"])"
      ],
      "metadata": {
        "id": "UDFNBJMzCeoK"
      },
      "execution_count": null,
      "outputs": []
    },
    {
      "cell_type": "code",
      "source": [
        "len(min_dfa(nfa2dfa(re2nfa(\"(0+1)*1(0+1)\")))[\"Q\"])"
      ],
      "metadata": {
        "id": "IZ8IIct3CyNo"
      },
      "execution_count": null,
      "outputs": []
    },
    {
      "cell_type": "code",
      "source": [
        "len(min_dfa(nfa2dfa(re2nfa(\"(0+1)*1(0+1)(0+1)\")))[\"Q\"])"
      ],
      "metadata": {
        "id": "fwOgS6vEC1sw"
      },
      "execution_count": null,
      "outputs": []
    },
    {
      "cell_type": "code",
      "source": [
        "len(min_dfa(nfa2dfa(re2nfa(\"(0+1)*1(0+1)(0+1)(0+1)\")))[\"Q\"])"
      ],
      "metadata": {
        "id": "iKNke_CwC6GN"
      },
      "execution_count": null,
      "outputs": []
    },
    {
      "cell_type": "code",
      "source": [
        "len(min_dfa(nfa2dfa(re2nfa(\"(0+1)*1(0+1)(0+1)(0+1)(0+1)\")))[\"Q\"])"
      ],
      "metadata": {
        "id": "wphskiVNDH2h"
      },
      "execution_count": null,
      "outputs": []
    },
    {
      "cell_type": "markdown",
      "source": [
        "#### OK, we see that\n",
        "* The RE grows only by a length of five symbols, i.e. (0+1) and in the long run, it is a linear growth\n",
        "* The generated DFA grows exponentially (exp number of states w.r.t. N)\n",
        "\n",
        "### You may say what about the NFA?\n",
        "* Well, we will show you what NFA are in a minute.\n",
        "* But we will assure you (and soon show you) that the NFA will grow only by the number of states it takes to represent (0+1) and that will also be a fixed (small) number.\n",
        "\n"
      ],
      "metadata": {
        "id": "PEh32fzmz5OD"
      }
    },
    {
      "cell_type": "markdown",
      "source": [
        "### **Here is a way to see various machines and play with them using the Jove Editor**"
      ],
      "metadata": {
        "id": "4aF2up7_crsR"
      }
    },
    {
      "cell_type": "markdown",
      "source": [
        "* Let's build many NFA using this Jove editor and animate\n",
        "* The NFA to be built are these\n",
        "  - NFA1  that moves to two states, i.e. I : a -> A, F\n",
        "  - *IMMEDIATELY* notice that the DFA complementation algorithm does not work for NFA --- in fact there is no direct way to complement NFA\n",
        "  - NFA2 that moves as follows : I : '' -> F\n",
        "  - NFA3 that moves as follows\n",
        "     - I1 : '' -> A\n",
        "     - I2 : a -> F\n",
        "  - NFA4 that moves as follows\n",
        "     - I1 : a -> F1\n",
        "     - I2 : b -> F2\n",
        "\n",
        "* The language of an NFA\n",
        "  - The language of an NFA is any string that takes the NFA from *some* starting state through a path (that may contain epsilon) to some final state\n"
      ],
      "metadata": {
        "id": "2fKtrW6sc3U2"
      }
    },
    {
      "cell_type": "code",
      "source": [
        "from jove.JoveEditor import *\n",
        "JoveEditor(examples=True)\n",
        "display(HTML('<link rel=\"stylesheet\" href=\"//stackpath.bootstrapcdn.com/font-awesome/4.7.0/css/font-awesome.min.css\"/>'))"
      ],
      "metadata": {
        "id": "e4FEJe1bcqZK"
      },
      "execution_count": null,
      "outputs": []
    },
    {
      "cell_type": "markdown",
      "source": [
        "## INTRODUCING YOUR FIRST NFA, AND SIMULATING IT"
      ],
      "metadata": {
        "id": "GHPWJuby9qHa"
      }
    },
    {
      "cell_type": "code",
      "source": [
        "# I'm going to redraw the NFA of Figure 7.7 as one with multiple initial states\n",
        "# This is achieved using two initial states that start with the \"I\" state\n",
        "# States with multiple next states upon one symbol are shown with a comma-separated list of next states\n",
        "\n",
        "nfa_Fig7_dot_7_Variant = md2mc('''NFA\n",
        "IA : '' -> B, C  !! multiple initial states\n",
        "IG : 1  -> F     !! a dead-end state\n",
        "B  : 1  -> D\n",
        "C  : 0  -> E\n",
        "D : ''  -> IA, IG\n",
        "E : ''  -> IA, IG\n",
        "''')\n"
      ],
      "metadata": {
        "id": "wXttTYo_CE9V"
      },
      "execution_count": null,
      "outputs": []
    },
    {
      "cell_type": "code",
      "source": [
        "dotObj_nfa(nfa_Fig7_dot_7_Variant, FuseEdges=True)"
      ],
      "metadata": {
        "id": "L7xlZSvw_3-T"
      },
      "execution_count": null,
      "outputs": []
    },
    {
      "cell_type": "code",
      "source": [
        "# To see what the formal structure of this NFA is, let's look at its Delta function\n",
        "nfa_Fig7_dot_7_Variant"
      ],
      "metadata": {
        "id": "fKL92jYv_6Qn"
      },
      "execution_count": null,
      "outputs": []
    },
    {
      "cell_type": "markdown",
      "source": [
        "### We see that the NFA transitions to multiple next states upon a single symbol\n",
        "### In some cases it only transitions to ONE next state\n",
        "### To treat these cases uniformly, we say that an NFA transitions to a **set** of next states each time\n",
        "\n",
        "\n",
        "\n",
        "\n",
        "\n",
        "* The formal structure of an NFA is this : $(Q, \\Sigma, \\delta, Q_0, F)$\n",
        "* This basically means ``An NFA is these five things''\n",
        "* Here $Q$ is a finite set of states\n",
        "* $\\Sigma$ is as before (the actual alphabet). Even if an NFA moves on $\\varepsilon$, the alphabet NEVER includes $\\varepsilon$\n",
        "* $\\delta$ maps a state paired with either $\\Sigma$ or $\\varepsilon$ to a set of states\n",
        "* $Q_0$ is a subset of states\n",
        "* $F$ is a subset of $Q$\n",
        "\n",
        "\n",
        "\n",
        "---------------------"
      ],
      "metadata": {
        "id": "IEAZhfhdAG1U"
      }
    },
    {
      "cell_type": "markdown",
      "source": [
        "### NOW for the fun experience. Let's animate the NFA to watch all of its conceptual steps!\n",
        ""
      ],
      "metadata": {
        "id": "VOOhl_OCCYta"
      }
    },
    {
      "cell_type": "code",
      "source": [
        "from jove.AnimateNFA import *"
      ],
      "metadata": {
        "id": "xyHdeaWaDX2j"
      },
      "execution_count": null,
      "outputs": []
    },
    {
      "cell_type": "code",
      "source": [
        "AnimateNFA(nfa_Fig7_dot_7_Variant, FuseEdges=True)\n",
        "display(HTML('<link rel=\\\"stylesheet\\\" href=\\\"//stackpath.bootstrapcdn.com/font-awesome/4.7.0/css/font-awesome.min.css\\\"/>'))"
      ],
      "metadata": {
        "id": "Zt852TPaAF5v"
      },
      "execution_count": null,
      "outputs": []
    },
    {
      "cell_type": "markdown",
      "source": [
        "------------------------------------\n"
      ],
      "metadata": {
        "id": "5jpNgArMcIpT"
      }
    },
    {
      "cell_type": "markdown",
      "source": [
        "### BACKGROUND MATERIAL TO TEACH YOU SOME BASICS + HAVE YOU DO QUIZ-3\n",
        "\n",
        "### The idea of regular expressions will be reinforced in this exercise. When we have the language $\\{a,bc\\}\\{d\\}+\\varepsilon$, the regular expression corresponding to this is (a+bc)(d)('') or even (a+bc)d('') or finally also (a+bc)d'' where we assume that having the parenthesis around d and '' makes it more readable. Let's test this out."
      ],
      "metadata": {
        "id": "3-m27b2Xcmt0"
      }
    },
    {
      "cell_type": "code",
      "source": [
        "# You may put parentheses around the '' string as below\n",
        "dotObj_nfa(re2nfa(\"(a+bc)(d)('')\"))"
      ],
      "metadata": {
        "id": "tLRH7JmPeFym"
      },
      "execution_count": null,
      "outputs": []
    },
    {
      "cell_type": "code",
      "source": [
        "# In this case, the parser is smart enough to work even w/o the parentheses\n",
        "dotObj_nfa(re2nfa(\"(a+bc)d''\"))"
      ],
      "metadata": {
        "id": "UMtf06OGePWc"
      },
      "execution_count": null,
      "outputs": []
    },
    {
      "cell_type": "markdown",
      "source": [
        "-------------------------\n",
        "-------------------------\n",
        "# START OF QUIZ-3\n",
        "-------------------------\n",
        "-------------------------"
      ],
      "metadata": {
        "id": "hIuENQB7pPm7"
      }
    },
    {
      "cell_type": "markdown",
      "source": [
        "### Question-1: Teaches you about Regular Expressions. Be reading Chapter 8 of the book.\n",
        "\n",
        "* Given any alphabet $\\Sigma$ (say $\\Sigma = \\{a,b\\}$), here are all the regular expressions (RE)\n",
        "  - $\\varepsilon$ is a RE *denoting the language* with the empty string \\{ $\\varepsilon$ \\}, otherwise known as the Unit language\n",
        "     - We will say $L$($\\varepsilon$) = \\{ $\\varepsilon$ \\}\n",
        "     - Or in a more friendly syntax, $L$('') = \\{ $\\varepsilon$ \\}\n",
        "  - $x \\in \\Sigma$ is an RE. For us, a and b are REs.\n",
        "     - a is an RE. I.e. $L$(a) = \\{ $a$\\}\n",
        "     - Similarly, b is an RE. I.e. $L$(b) = \\{$b$\\}\n",
        "  - If $R_1$ and $R_2$ are RE, then\n",
        "     - $R_1 + R_2$ is an RE.  \n",
        "       - More specifically $L$($R_1$ + $R_2$) = $L$($R_1$) $\\cup$ $L$($R_2$)\n",
        "     - $R_1 R_2$ is an RE\n",
        "       - More specifically $L$($R_1$  $R_2$) = $L$($R_1$)  $L$($R_2$)\n",
        "  - If $R$ is an RE, then $R^*$ is an RE denoting \\{ L($R$) \\}$^*$"
      ],
      "metadata": {
        "id": "a28Bs4c5fpng"
      }
    },
    {
      "cell_type": "code",
      "source": [],
      "metadata": {
        "id": "D75ApIKEtX9o"
      },
      "execution_count": null,
      "outputs": []
    },
    {
      "cell_type": "markdown",
      "source": [
        "### What is the language of this RE? ((a+bc)d(''))*\n",
        "### Ans: $((\\{a\\}\\cup(\\{b\\}\\{c\\}))(\\{d\\})(\\{ '' \\}))^*$"
      ],
      "metadata": {
        "id": "Ep69HtIAtAbE"
      }
    },
    {
      "cell_type": "code",
      "source": [
        "# What is the language denoted by the RE ((a+bc)d(''))* ? Let's find out\n",
        "dotObj_nfa(re2nfa(\"((a+bc)d(''))*\"))\n",
        "# We will find it out by reading-out the language of the NFA..."
      ],
      "metadata": {
        "colab": {
          "base_uri": "https://localhost:8080/",
          "height": 234
        },
        "id": "zHrIYQXqsYun",
        "outputId": "a67b30a0-5be1-4fef-d2b0-28cb3c08f259"
      },
      "execution_count": 73,
      "outputs": [
        {
          "output_type": "execute_result",
          "data": {
            "image/svg+xml": "<?xml version=\"1.0\" encoding=\"UTF-8\" standalone=\"no\"?>\n<!DOCTYPE svg PUBLIC \"-//W3C//DTD SVG 1.1//EN\"\n \"http://www.w3.org/Graphics/SVG/1.1/DTD/svg11.dtd\">\n<!-- Generated by graphviz version 2.43.0 (0)\n -->\n<!-- Title: %3 Pages: 1 -->\n<svg width=\"835pt\" height=\"160pt\"\n viewBox=\"0.00 0.00 835.26 159.75\" xmlns=\"http://www.w3.org/2000/svg\" xmlns:xlink=\"http://www.w3.org/1999/xlink\">\n<g id=\"graph0\" class=\"graph\" transform=\"scale(1 1) rotate(0) translate(4 155.75)\">\n<title>%3</title>\n<polygon fill=\"white\" stroke=\"transparent\" points=\"-4,4 -4,-155.75 831.26,-155.75 831.26,4 -4,4\"/>\n<!-- EMPTY -->\n<g id=\"node1\" class=\"node\">\n<title>EMPTY</title>\n</g>\n<!-- St10 -->\n<g id=\"node11\" class=\"node\">\n<title>St10</title>\n<ellipse fill=\"none\" stroke=\"black\" cx=\"121.65\" cy=\"-85.75\" rx=\"26.78\" ry=\"26.78\"/>\n<ellipse fill=\"none\" stroke=\"black\" cx=\"121.65\" cy=\"-85.75\" rx=\"30.8\" ry=\"30.8\"/>\n<text text-anchor=\"middle\" x=\"121.65\" y=\"-82.05\" font-family=\"Times,serif\" font-size=\"14.00\">St10</text>\n</g>\n<!-- EMPTY&#45;&gt;St10 -->\n<g id=\"edge1\" class=\"edge\">\n<title>EMPTY&#45;&gt;St10</title>\n<path fill=\"none\" stroke=\"black\" d=\"M54.3,-85.75C62.45,-85.75 71.63,-85.75 80.5,-85.75\"/>\n<polygon fill=\"black\" stroke=\"black\" points=\"80.69,-89.25 90.69,-85.75 80.69,-82.25 80.69,-89.25\"/>\n</g>\n<!-- St2 -->\n<g id=\"node2\" class=\"node\">\n<title>St2</title>\n<ellipse fill=\"none\" stroke=\"black\" cx=\"376.04\" cy=\"-85.75\" rx=\"23\" ry=\"23\"/>\n<text text-anchor=\"middle\" x=\"376.04\" y=\"-82.05\" font-family=\"Times,serif\" font-size=\"14.00\">St2</text>\n</g>\n<!-- St7 -->\n<g id=\"node5\" class=\"node\">\n<title>St7</title>\n<ellipse fill=\"none\" stroke=\"black\" cx=\"621.52\" cy=\"-85.75\" rx=\"23\" ry=\"23\"/>\n<text text-anchor=\"middle\" x=\"621.52\" y=\"-82.05\" font-family=\"Times,serif\" font-size=\"14.00\">St7</text>\n</g>\n<!-- St2&#45;&gt;St7 -->\n<g id=\"edge9\" class=\"edge\">\n<title>St2&#45;&gt;St7</title>\n<path fill=\"none\" stroke=\"black\" d=\"M399.07,-85.75C442.26,-85.75 538.19,-85.75 588.43,-85.75\"/>\n<polygon fill=\"black\" stroke=\"black\" points=\"588.71,-89.25 598.71,-85.75 588.71,-82.25 588.71,-89.25\"/>\n<text text-anchor=\"middle\" x=\"485.28\" y=\"-89.55\" font-family=\"Times,serif\" font-size=\"14.00\">&#39;&#39; </text>\n</g>\n<!-- St5 -->\n<g id=\"node3\" class=\"node\">\n<title>St5</title>\n<ellipse fill=\"none\" stroke=\"black\" cx=\"439.53\" cy=\"-33.75\" rx=\"23\" ry=\"23\"/>\n<text text-anchor=\"middle\" x=\"439.53\" y=\"-30.05\" font-family=\"Times,serif\" font-size=\"14.00\">St5</text>\n</g>\n<!-- St6 -->\n<g id=\"node6\" class=\"node\">\n<title>St6</title>\n<ellipse fill=\"none\" stroke=\"black\" cx=\"531.03\" cy=\"-34.75\" rx=\"23\" ry=\"23\"/>\n<text text-anchor=\"middle\" x=\"531.03\" y=\"-31.05\" font-family=\"Times,serif\" font-size=\"14.00\">St6</text>\n</g>\n<!-- St5&#45;&gt;St6 -->\n<g id=\"edge6\" class=\"edge\">\n<title>St5&#45;&gt;St6</title>\n<path fill=\"none\" stroke=\"black\" d=\"M462.65,-34C473.27,-34.11 486.2,-34.26 497.88,-34.39\"/>\n<polygon fill=\"black\" stroke=\"black\" points=\"498.12,-37.89 508.16,-34.5 498.2,-30.89 498.12,-37.89\"/>\n<text text-anchor=\"middle\" x=\"485.28\" y=\"-38.55\" font-family=\"Times,serif\" font-size=\"14.00\">c </text>\n</g>\n<!-- St9 -->\n<g id=\"node4\" class=\"node\">\n<title>St9</title>\n<ellipse fill=\"none\" stroke=\"black\" cx=\"804.51\" cy=\"-111.75\" rx=\"23\" ry=\"23\"/>\n<text text-anchor=\"middle\" x=\"804.51\" y=\"-108.05\" font-family=\"Times,serif\" font-size=\"14.00\">St9</text>\n</g>\n<!-- St9&#45;&gt;St10 -->\n<g id=\"edge12\" class=\"edge\">\n<title>St9&#45;&gt;St10</title>\n<path fill=\"none\" stroke=\"black\" d=\"M783.58,-120.77C765.93,-127.93 739.29,-136.75 715.02,-136.75 219.04,-136.75 219.04,-136.75 219.04,-136.75 195.13,-136.75 171.34,-124.33 153.38,-111.75\"/>\n<polygon fill=\"black\" stroke=\"black\" points=\"155.18,-108.73 145.06,-105.61 151.03,-114.36 155.18,-108.73\"/>\n<text text-anchor=\"middle\" x=\"485.28\" y=\"-140.55\" font-family=\"Times,serif\" font-size=\"14.00\">&#39;&#39; </text>\n</g>\n<!-- St8 -->\n<g id=\"node7\" class=\"node\">\n<title>St8</title>\n<ellipse fill=\"none\" stroke=\"black\" cx=\"714.02\" cy=\"-85.75\" rx=\"23\" ry=\"23\"/>\n<text text-anchor=\"middle\" x=\"714.02\" y=\"-82.05\" font-family=\"Times,serif\" font-size=\"14.00\">St8</text>\n</g>\n<!-- St7&#45;&gt;St8 -->\n<g id=\"edge8\" class=\"edge\">\n<title>St7&#45;&gt;St8</title>\n<path fill=\"none\" stroke=\"black\" d=\"M644.43,-85.75C655.35,-85.75 668.78,-85.75 680.84,-85.75\"/>\n<polygon fill=\"black\" stroke=\"black\" points=\"681,-89.25 691,-85.75 681,-82.25 681,-89.25\"/>\n<text text-anchor=\"middle\" x=\"667.77\" y=\"-89.55\" font-family=\"Times,serif\" font-size=\"14.00\">d </text>\n</g>\n<!-- St6&#45;&gt;St7 -->\n<g id=\"edge10\" class=\"edge\">\n<title>St6&#45;&gt;St7</title>\n<path fill=\"none\" stroke=\"black\" d=\"M552.42,-42.83C561.33,-46.65 571.79,-51.52 580.78,-56.75 585.45,-59.47 590.25,-62.62 594.82,-65.83\"/>\n<polygon fill=\"black\" stroke=\"black\" points=\"593.1,-68.9 603.25,-71.94 597.21,-63.23 593.1,-68.9\"/>\n<text text-anchor=\"middle\" x=\"576.28\" y=\"-60.55\" font-family=\"Times,serif\" font-size=\"14.00\">&#39;&#39; </text>\n</g>\n<!-- St8&#45;&gt;St9 -->\n<g id=\"edge11\" class=\"edge\">\n<title>St8&#45;&gt;St9</title>\n<path fill=\"none\" stroke=\"black\" d=\"M735.99,-91.91C746.93,-95.12 760.53,-99.12 772.65,-102.68\"/>\n<polygon fill=\"black\" stroke=\"black\" points=\"771.81,-106.08 782.39,-105.54 773.78,-99.36 771.81,-106.08\"/>\n<text text-anchor=\"middle\" x=\"759.27\" y=\"-102.55\" font-family=\"Times,serif\" font-size=\"14.00\">&#39;&#39; </text>\n</g>\n<!-- St1 -->\n<g id=\"node8\" class=\"node\">\n<title>St1</title>\n<ellipse fill=\"none\" stroke=\"black\" cx=\"220.04\" cy=\"-85.75\" rx=\"23\" ry=\"23\"/>\n<text text-anchor=\"middle\" x=\"220.04\" y=\"-82.05\" font-family=\"Times,serif\" font-size=\"14.00\">St1</text>\n</g>\n<!-- St1&#45;&gt;St2 -->\n<g id=\"edge4\" class=\"edge\">\n<title>St1&#45;&gt;St2</title>\n<path fill=\"none\" stroke=\"black\" d=\"M243.11,-85.75C269.18,-85.75 312.78,-85.75 342.68,-85.75\"/>\n<polygon fill=\"black\" stroke=\"black\" points=\"343.01,-89.25 353.01,-85.75 343.01,-82.25 343.01,-89.25\"/>\n<text text-anchor=\"middle\" x=\"266.29\" y=\"-89.55\" font-family=\"Times,serif\" font-size=\"14.00\">a </text>\n</g>\n<!-- St3 -->\n<g id=\"node9\" class=\"node\">\n<title>St3</title>\n<ellipse fill=\"none\" stroke=\"black\" cx=\"220.04\" cy=\"-22.75\" rx=\"23\" ry=\"23\"/>\n<text text-anchor=\"middle\" x=\"220.04\" y=\"-19.05\" font-family=\"Times,serif\" font-size=\"14.00\">St3</text>\n</g>\n<!-- St4 -->\n<g id=\"node10\" class=\"node\">\n<title>St4</title>\n<ellipse fill=\"none\" stroke=\"black\" cx=\"312.54\" cy=\"-29.75\" rx=\"23\" ry=\"23\"/>\n<text text-anchor=\"middle\" x=\"312.54\" y=\"-26.05\" font-family=\"Times,serif\" font-size=\"14.00\">St4</text>\n</g>\n<!-- St3&#45;&gt;St4 -->\n<g id=\"edge5\" class=\"edge\">\n<title>St3&#45;&gt;St4</title>\n<path fill=\"none\" stroke=\"black\" d=\"M242.95,-24.44C253.95,-25.29 267.5,-26.34 279.63,-27.28\"/>\n<polygon fill=\"black\" stroke=\"black\" points=\"279.59,-30.79 289.83,-28.07 280.13,-23.81 279.59,-30.79\"/>\n<text text-anchor=\"middle\" x=\"266.29\" y=\"-30.55\" font-family=\"Times,serif\" font-size=\"14.00\">b </text>\n</g>\n<!-- St4&#45;&gt;St5 -->\n<g id=\"edge7\" class=\"edge\">\n<title>St4&#45;&gt;St5</title>\n<path fill=\"none\" stroke=\"black\" d=\"M335.31,-30.44C355,-31.07 384.23,-32.01 406.56,-32.72\"/>\n<polygon fill=\"black\" stroke=\"black\" points=\"406.48,-36.22 416.59,-33.05 406.71,-29.23 406.48,-36.22\"/>\n<text text-anchor=\"middle\" x=\"376.04\" y=\"-36.55\" font-family=\"Times,serif\" font-size=\"14.00\">&#39;&#39; </text>\n</g>\n<!-- St10&#45;&gt;St1 -->\n<g id=\"edge2\" class=\"edge\">\n<title>St10&#45;&gt;St1</title>\n<path fill=\"none\" stroke=\"black\" d=\"M152.36,-85.75C163.34,-85.75 175.83,-85.75 187.01,-85.75\"/>\n<polygon fill=\"black\" stroke=\"black\" points=\"187.24,-89.25 197.24,-85.75 187.24,-82.25 187.24,-89.25\"/>\n<text text-anchor=\"middle\" x=\"174.8\" y=\"-89.55\" font-family=\"Times,serif\" font-size=\"14.00\">&#39;&#39; </text>\n</g>\n<!-- St10&#45;&gt;St3 -->\n<g id=\"edge3\" class=\"edge\">\n<title>St10&#45;&gt;St3</title>\n<path fill=\"none\" stroke=\"black\" d=\"M147.72,-69.36C161.27,-60.51 178.01,-49.57 191.86,-40.51\"/>\n<polygon fill=\"black\" stroke=\"black\" points=\"194.03,-43.27 200.49,-34.87 190.2,-37.42 194.03,-43.27\"/>\n<text text-anchor=\"middle\" x=\"174.8\" y=\"-58.55\" font-family=\"Times,serif\" font-size=\"14.00\">&#39;&#39; </text>\n</g>\n</g>\n</svg>\n",
            "text/plain": [
              "<graphviz.graphs.Digraph at 0x7b4818163fa0>"
            ]
          },
          "metadata": {},
          "execution_count": 73
        }
      ]
    },
    {
      "cell_type": "markdown",
      "source": [
        "#### Question-1: What is the rule for doing a Concatenation? Select in the Quiz!"
      ],
      "metadata": {
        "id": "R4T4IMe5ty2O"
      }
    },
    {
      "cell_type": "markdown",
      "source": [
        "## Question-2"
      ],
      "metadata": {
        "id": "PPz0885Tbb3O"
      }
    },
    {
      "cell_type": "markdown",
      "source": [
        "-----------------------"
      ],
      "metadata": {
        "id": "DENaFGGpcmt_"
      }
    },
    {
      "cell_type": "markdown",
      "source": [
        "#### Question-2 : What is the rule for doing an \"OR\" or + ?  . Select in the Quiz!"
      ],
      "metadata": {
        "id": "lSQmV3Lmcmt_"
      }
    },
    {
      "cell_type": "markdown",
      "source": [
        "------------------------------"
      ],
      "metadata": {
        "id": "x2w7Rmylcmt_"
      }
    },
    {
      "cell_type": "markdown",
      "source": [
        "## Question-3"
      ],
      "metadata": {
        "id": "4iZ5sNKlcm5v"
      }
    },
    {
      "cell_type": "markdown",
      "source": [
        "-----------------------"
      ],
      "metadata": {
        "id": "a-DxkqSFcm5w"
      }
    },
    {
      "cell_type": "markdown",
      "source": [
        "#### Question-3: What is the rule for doing a star ?  Select in the Quiz!"
      ],
      "metadata": {
        "id": "lHg0UVzxcm5w"
      }
    },
    {
      "cell_type": "markdown",
      "source": [
        "------------------------------"
      ],
      "metadata": {
        "id": "au1F9kHRcm5w"
      }
    },
    {
      "cell_type": "markdown",
      "source": [
        "## Question-4"
      ],
      "metadata": {
        "id": "dWFUjUkfcnHP"
      }
    },
    {
      "cell_type": "markdown",
      "source": [
        "-----------------------"
      ],
      "metadata": {
        "id": "1Djyz9dvcnHP"
      }
    },
    {
      "cell_type": "markdown",
      "source": [
        "#### Question-4: What is the relationship between the RE (a+b)* and (a*b*)* ?"
      ],
      "metadata": {
        "id": "1P0QLJeBcnHQ"
      }
    },
    {
      "cell_type": "markdown",
      "source": [
        "#### Select in the Quiz!"
      ],
      "metadata": {
        "id": "92805lXIbE4r"
      }
    },
    {
      "cell_type": "markdown",
      "source": [
        "------------------------------"
      ],
      "metadata": {
        "id": "dNB8QtTQbHds"
      }
    },
    {
      "cell_type": "markdown",
      "source": [
        "## Question-5"
      ],
      "metadata": {
        "id": "gR0rrGmdcOvq"
      }
    },
    {
      "cell_type": "markdown",
      "source": [
        "-----------------------"
      ],
      "metadata": {
        "id": "y5YpIaNvcOv1"
      }
    },
    {
      "cell_type": "markdown",
      "source": [
        "#### Question-5: How do I check the work in Question 4?  Select in the Quiz! Notice I deliberately leave out one min_dfa!"
      ],
      "metadata": {
        "id": "m3ci3NK-cOv1"
      }
    },
    {
      "cell_type": "code",
      "source": [
        "D1 = min_dfa(nfa2dfa(re2nfa(\"(a*b*)*\")))\n",
        "D2 = nfa2dfa(re2nfa(\"(a+b)*\"))"
      ],
      "metadata": {
        "id": "YgF_2T-IvTy5"
      },
      "execution_count": 81,
      "outputs": []
    },
    {
      "cell_type": "code",
      "source": [
        "dotObj_dfa(D1, FuseEdges=True)"
      ],
      "metadata": {
        "id": "CUwiLVFWvgLE",
        "outputId": "83877c0d-2a91-48f9-8130-4dfa3c473441",
        "colab": {
          "base_uri": "https://localhost:8080/",
          "height": 166
        }
      },
      "execution_count": 82,
      "outputs": [
        {
          "output_type": "execute_result",
          "data": {
            "image/svg+xml": "<?xml version=\"1.0\" encoding=\"UTF-8\" standalone=\"no\"?>\n<!DOCTYPE svg PUBLIC \"-//W3C//DTD SVG 1.1//EN\"\n \"http://www.w3.org/Graphics/SVG/1.1/DTD/svg11.dtd\">\n<!-- Generated by graphviz version 2.43.0 (0)\n -->\n<!-- Title: %3 Pages: 1 -->\n<svg width=\"152pt\" height=\"109pt\"\n viewBox=\"0.00 0.00 152.50 109.50\" xmlns=\"http://www.w3.org/2000/svg\" xmlns:xlink=\"http://www.w3.org/1999/xlink\">\n<g id=\"graph0\" class=\"graph\" transform=\"scale(1 1) rotate(0) translate(4 105.5)\">\n<title>%3</title>\n<polygon fill=\"white\" stroke=\"transparent\" points=\"-4,4 -4,-105.5 148.5,-105.5 148.5,4 -4,4\"/>\n<!-- EMPTY -->\n<g id=\"node1\" class=\"node\">\n<title>EMPTY</title>\n</g>\n<!-- St2 -->\n<g id=\"node2\" class=\"node\">\n<title>St2</title>\n<ellipse fill=\"none\" stroke=\"black\" cx=\"117.75\" cy=\"-26.75\" rx=\"22.96\" ry=\"22.96\"/>\n<ellipse fill=\"none\" stroke=\"black\" cx=\"117.75\" cy=\"-26.75\" rx=\"27\" ry=\"27\"/>\n<text text-anchor=\"middle\" x=\"117.75\" y=\"-23.05\" font-family=\"Times,serif\" font-size=\"14.00\">St2</text>\n</g>\n<!-- EMPTY&#45;&gt;St2 -->\n<g id=\"edge1\" class=\"edge\">\n<title>EMPTY&#45;&gt;St2</title>\n<path fill=\"none\" stroke=\"black\" d=\"M54.15,-26.75C62.45,-26.75 71.79,-26.75 80.67,-26.75\"/>\n<polygon fill=\"black\" stroke=\"black\" points=\"80.79,-30.25 90.79,-26.75 80.79,-23.25 80.79,-30.25\"/>\n</g>\n<!-- St2&#45;&gt;St2 -->\n<g id=\"edge2\" class=\"edge\">\n<title>St2&#45;&gt;St2</title>\n<path fill=\"none\" stroke=\"black\" d=\"M109.55,-52.5C109.09,-62.83 111.82,-71.5 117.75,-71.5 121.55,-71.5 124.03,-67.94 125.21,-62.67\"/>\n<polygon fill=\"black\" stroke=\"black\" points=\"128.71,-62.73 125.95,-52.5 121.73,-62.22 128.71,-62.73\"/>\n<text text-anchor=\"middle\" x=\"117.75\" y=\"-90.3\" font-family=\"Times,serif\" font-size=\"14.00\">a </text>\n<text text-anchor=\"middle\" x=\"117.75\" y=\"-75.3\" font-family=\"Times,serif\" font-size=\"14.00\"> b </text>\n</g>\n</g>\n</svg>\n",
            "text/plain": [
              "<graphviz.graphs.Digraph at 0x7b481812ef20>"
            ]
          },
          "metadata": {},
          "execution_count": 82
        }
      ]
    },
    {
      "cell_type": "code",
      "source": [
        "dotObj_dfa(D2, FuseEdges=True)"
      ],
      "metadata": {
        "id": "e8Y44bcvvmz1",
        "outputId": "f60a8946-4d81-4aa9-d5a1-eb8ffacdf810",
        "colab": {
          "base_uri": "https://localhost:8080/",
          "height": 205
        }
      },
      "execution_count": 83,
      "outputs": [
        {
          "output_type": "execute_result",
          "data": {
            "image/svg+xml": "<?xml version=\"1.0\" encoding=\"UTF-8\" standalone=\"no\"?>\n<!DOCTYPE svg PUBLIC \"-//W3C//DTD SVG 1.1//EN\"\n \"http://www.w3.org/Graphics/SVG/1.1/DTD/svg11.dtd\">\n<!-- Generated by graphviz version 2.43.0 (0)\n -->\n<!-- Title: %3 Pages: 1 -->\n<svg width=\"353pt\" height=\"138pt\"\n viewBox=\"0.00 0.00 353.49 138.50\" xmlns=\"http://www.w3.org/2000/svg\" xmlns:xlink=\"http://www.w3.org/1999/xlink\">\n<g id=\"graph0\" class=\"graph\" transform=\"scale(1 1) rotate(0) translate(4 134.5)\">\n<title>%3</title>\n<polygon fill=\"white\" stroke=\"transparent\" points=\"-4,4 -4,-134.5 349.49,-134.5 349.49,4 -4,4\"/>\n<!-- EMPTY -->\n<g id=\"node1\" class=\"node\">\n<title>EMPTY</title>\n</g>\n<!-- St2 -->\n<g id=\"node4\" class=\"node\">\n<title>St2</title>\n<ellipse fill=\"none\" stroke=\"black\" cx=\"117.75\" cy=\"-26.75\" rx=\"22.96\" ry=\"22.96\"/>\n<ellipse fill=\"none\" stroke=\"black\" cx=\"117.75\" cy=\"-26.75\" rx=\"27\" ry=\"27\"/>\n<text text-anchor=\"middle\" x=\"117.75\" y=\"-23.05\" font-family=\"Times,serif\" font-size=\"14.00\">St2</text>\n</g>\n<!-- EMPTY&#45;&gt;St2 -->\n<g id=\"edge1\" class=\"edge\">\n<title>EMPTY&#45;&gt;St2</title>\n<path fill=\"none\" stroke=\"black\" d=\"M54.15,-26.75C62.45,-26.75 71.79,-26.75 80.67,-26.75\"/>\n<polygon fill=\"black\" stroke=\"black\" points=\"80.79,-30.25 90.79,-26.75 80.79,-23.25 80.79,-30.25\"/>\n</g>\n<!-- St1 -->\n<g id=\"node2\" class=\"node\">\n<title>St1</title>\n<ellipse fill=\"none\" stroke=\"black\" cx=\"218.24\" cy=\"-70.75\" rx=\"22.96\" ry=\"22.96\"/>\n<ellipse fill=\"none\" stroke=\"black\" cx=\"218.24\" cy=\"-70.75\" rx=\"27\" ry=\"27\"/>\n<text text-anchor=\"middle\" x=\"218.24\" y=\"-67.05\" font-family=\"Times,serif\" font-size=\"14.00\">St1</text>\n</g>\n<!-- St1&#45;&gt;St1 -->\n<g id=\"edge4\" class=\"edge\">\n<title>St1&#45;&gt;St1</title>\n<path fill=\"none\" stroke=\"black\" d=\"M208.95,-96.05C208.31,-106.57 211.41,-115.5 218.24,-115.5 222.73,-115.5 225.61,-111.65 226.87,-106.04\"/>\n<polygon fill=\"black\" stroke=\"black\" points=\"230.37,-106.26 227.54,-96.05 223.38,-105.79 230.37,-106.26\"/>\n<text text-anchor=\"middle\" x=\"218.24\" y=\"-119.3\" font-family=\"Times,serif\" font-size=\"14.00\">b </text>\n</g>\n<!-- St0 -->\n<g id=\"node3\" class=\"node\">\n<title>St0</title>\n<ellipse fill=\"none\" stroke=\"black\" cx=\"318.74\" cy=\"-43.75\" rx=\"22.96\" ry=\"22.96\"/>\n<ellipse fill=\"none\" stroke=\"black\" cx=\"318.74\" cy=\"-43.75\" rx=\"27\" ry=\"27\"/>\n<text text-anchor=\"middle\" x=\"318.74\" y=\"-40.05\" font-family=\"Times,serif\" font-size=\"14.00\">St0</text>\n</g>\n<!-- St1&#45;&gt;St0 -->\n<g id=\"edge5\" class=\"edge\">\n<title>St1&#45;&gt;St0</title>\n<path fill=\"none\" stroke=\"black\" d=\"M244.79,-66.45C254.06,-64.67 264.57,-62.4 273.99,-59.75 277.18,-58.85 280.48,-57.83 283.75,-56.75\"/>\n<polygon fill=\"black\" stroke=\"black\" points=\"285.13,-59.97 293.43,-53.38 282.83,-53.36 285.13,-59.97\"/>\n<text text-anchor=\"middle\" x=\"268.49\" y=\"-65.55\" font-family=\"Times,serif\" font-size=\"14.00\">a </text>\n</g>\n<!-- St0&#45;&gt;St1 -->\n<g id=\"edge6\" class=\"edge\">\n<title>St0&#45;&gt;St1</title>\n<path fill=\"none\" stroke=\"black\" d=\"M292.21,-38.68C282.84,-37.77 272.27,-37.87 262.99,-40.75 257.6,-42.42 252.29,-45.01 247.32,-47.98\"/>\n<polygon fill=\"black\" stroke=\"black\" points=\"245.21,-45.18 238.82,-53.62 249.08,-51.01 245.21,-45.18\"/>\n<text text-anchor=\"middle\" x=\"268.49\" y=\"-44.55\" font-family=\"Times,serif\" font-size=\"14.00\">b </text>\n</g>\n<!-- St0&#45;&gt;St0 -->\n<g id=\"edge7\" class=\"edge\">\n<title>St0&#45;&gt;St0</title>\n<path fill=\"none\" stroke=\"black\" d=\"M309.45,-69.05C308.81,-79.57 311.9,-88.5 318.74,-88.5 323.23,-88.5 326.1,-84.65 327.37,-79.04\"/>\n<polygon fill=\"black\" stroke=\"black\" points=\"330.86,-79.26 328.03,-69.05 323.88,-78.79 330.86,-79.26\"/>\n<text text-anchor=\"middle\" x=\"318.74\" y=\"-92.3\" font-family=\"Times,serif\" font-size=\"14.00\">a </text>\n</g>\n<!-- St2&#45;&gt;St1 -->\n<g id=\"edge2\" class=\"edge\">\n<title>St2&#45;&gt;St1</title>\n<path fill=\"none\" stroke=\"black\" d=\"M142.34,-37.29C154.92,-42.91 170.59,-49.91 184.35,-56.05\"/>\n<polygon fill=\"black\" stroke=\"black\" points=\"182.94,-59.26 193.5,-60.14 185.8,-52.87 182.94,-59.26\"/>\n<text text-anchor=\"middle\" x=\"168\" y=\"-53.55\" font-family=\"Times,serif\" font-size=\"14.00\">b </text>\n</g>\n<!-- St2&#45;&gt;St0 -->\n<g id=\"edge3\" class=\"edge\">\n<title>St2&#45;&gt;St0</title>\n<path fill=\"none\" stroke=\"black\" d=\"M144.54,-22.11C170.18,-18.25 210.53,-14.21 244.99,-19.75 258.02,-21.84 271.88,-25.92 283.96,-30.12\"/>\n<polygon fill=\"black\" stroke=\"black\" points=\"283.05,-33.52 293.64,-33.65 285.44,-26.94 283.05,-33.52\"/>\n<text text-anchor=\"middle\" x=\"218.24\" y=\"-23.55\" font-family=\"Times,serif\" font-size=\"14.00\">a </text>\n</g>\n</g>\n</svg>\n",
            "text/plain": [
              "<graphviz.graphs.Digraph at 0x7b481812ff40>"
            ]
          },
          "metadata": {},
          "execution_count": 83
        }
      ]
    },
    {
      "cell_type": "code",
      "source": [
        "langeq_dfa(D1,D2)"
      ],
      "metadata": {
        "id": "-wWxjd9fwJUC",
        "outputId": "704f46cc-8f62-42f5-b963-12ed45eef97b",
        "colab": {
          "base_uri": "https://localhost:8080/"
        }
      },
      "execution_count": 84,
      "outputs": [
        {
          "output_type": "execute_result",
          "data": {
            "text/plain": [
              "True"
            ]
          },
          "metadata": {},
          "execution_count": 84
        }
      ]
    },
    {
      "cell_type": "code",
      "source": [
        "iso_dfa(D1,D2)"
      ],
      "metadata": {
        "id": "PjPHqf6owNQx",
        "outputId": "1cfb15ee-81eb-4c10-8c89-6e5848318a71",
        "colab": {
          "base_uri": "https://localhost:8080/"
        }
      },
      "execution_count": 85,
      "outputs": [
        {
          "output_type": "execute_result",
          "data": {
            "text/plain": [
              "False"
            ]
          },
          "metadata": {},
          "execution_count": 85
        }
      ]
    },
    {
      "cell_type": "markdown",
      "source": [
        "------------------------------"
      ],
      "metadata": {
        "id": "WSFTS6G7cOv1"
      }
    },
    {
      "cell_type": "markdown",
      "source": [
        "## Question-6"
      ],
      "metadata": {
        "id": "sZSALAcKcO71"
      }
    },
    {
      "cell_type": "markdown",
      "source": [
        "-----------------------"
      ],
      "metadata": {
        "id": "W-PmAzgmcO72"
      }
    },
    {
      "cell_type": "markdown",
      "source": [
        "#### Question-6: How does min_dfa work? Let's find out! Select in the Quiz!"
      ],
      "metadata": {
        "id": "LCaScFzucO72"
      }
    },
    {
      "cell_type": "code",
      "source": [
        "REno010 =   \"1* ( '' + 00* ( '' + 1(11*00*1)* ( '' + 11* ( '' + 00* ))))\"\n",
        "unmin_no010_RE = nfa2dfa(re2nfa(REno010))\n",
        "min_no010_RE = min_dfa(unmin_no010_RE)"
      ],
      "metadata": {
        "id": "MPeO57NXxzzj"
      },
      "execution_count": 92,
      "outputs": []
    },
    {
      "cell_type": "code",
      "source": [
        "dotObj_dfa(unmin_no010_RE, FuseEdges=True)"
      ],
      "metadata": {
        "id": "GXl4bZk7yRj8",
        "outputId": "e5322c9e-c10c-4c03-adde-f39dba229ddb",
        "colab": {
          "base_uri": "https://localhost:8080/",
          "height": 289
        }
      },
      "execution_count": 93,
      "outputs": [
        {
          "output_type": "execute_result",
          "data": {
            "image/svg+xml": "<?xml version=\"1.0\" encoding=\"UTF-8\" standalone=\"no\"?>\n<!DOCTYPE svg PUBLIC \"-//W3C//DTD SVG 1.1//EN\"\n \"http://www.w3.org/Graphics/SVG/1.1/DTD/svg11.dtd\">\n<!-- Generated by graphviz version 2.43.0 (0)\n -->\n<!-- Title: %3 Pages: 1 -->\n<svg width=\"1065pt\" height=\"186pt\"\n viewBox=\"0.00 0.00 1064.76 186.50\" xmlns=\"http://www.w3.org/2000/svg\" xmlns:xlink=\"http://www.w3.org/1999/xlink\">\n<g id=\"graph0\" class=\"graph\" transform=\"scale(1 1) rotate(0) translate(4 182.5)\">\n<title>%3</title>\n<polygon fill=\"white\" stroke=\"transparent\" points=\"-4,4 -4,-182.5 1060.76,-182.5 1060.76,4 -4,4\"/>\n<!-- EMPTY -->\n<g id=\"node1\" class=\"node\">\n<title>EMPTY</title>\n</g>\n<!-- St2 -->\n<g id=\"node2\" class=\"node\">\n<title>St2</title>\n<ellipse fill=\"none\" stroke=\"black\" cx=\"117.75\" cy=\"-74.75\" rx=\"22.96\" ry=\"22.96\"/>\n<ellipse fill=\"none\" stroke=\"black\" cx=\"117.75\" cy=\"-74.75\" rx=\"27\" ry=\"27\"/>\n<text text-anchor=\"middle\" x=\"117.75\" y=\"-71.05\" font-family=\"Times,serif\" font-size=\"14.00\">St2</text>\n</g>\n<!-- EMPTY&#45;&gt;St2 -->\n<g id=\"edge1\" class=\"edge\">\n<title>EMPTY&#45;&gt;St2</title>\n<path fill=\"none\" stroke=\"black\" d=\"M54.15,-74.75C62.45,-74.75 71.79,-74.75 80.67,-74.75\"/>\n<polygon fill=\"black\" stroke=\"black\" points=\"80.79,-78.25 90.79,-74.75 80.79,-71.25 80.79,-78.25\"/>\n</g>\n<!-- St1 -->\n<g id=\"node9\" class=\"node\">\n<title>St1</title>\n<ellipse fill=\"none\" stroke=\"black\" cx=\"218.24\" cy=\"-118.75\" rx=\"22.96\" ry=\"22.96\"/>\n<ellipse fill=\"none\" stroke=\"black\" cx=\"218.24\" cy=\"-118.75\" rx=\"27\" ry=\"27\"/>\n<text text-anchor=\"middle\" x=\"218.24\" y=\"-115.05\" font-family=\"Times,serif\" font-size=\"14.00\">St1</text>\n</g>\n<!-- St2&#45;&gt;St1 -->\n<g id=\"edge2\" class=\"edge\">\n<title>St2&#45;&gt;St1</title>\n<path fill=\"none\" stroke=\"black\" d=\"M142.34,-85.29C154.92,-90.91 170.59,-97.91 184.35,-104.05\"/>\n<polygon fill=\"black\" stroke=\"black\" points=\"182.94,-107.26 193.5,-108.14 185.8,-100.87 182.94,-107.26\"/>\n<text text-anchor=\"middle\" x=\"168\" y=\"-101.55\" font-family=\"Times,serif\" font-size=\"14.00\">1 </text>\n</g>\n<!-- St3 -->\n<g id=\"node10\" class=\"node\">\n<title>St3</title>\n<ellipse fill=\"none\" stroke=\"black\" cx=\"318.74\" cy=\"-74.75\" rx=\"22.96\" ry=\"22.96\"/>\n<ellipse fill=\"none\" stroke=\"black\" cx=\"318.74\" cy=\"-74.75\" rx=\"27\" ry=\"27\"/>\n<text text-anchor=\"middle\" x=\"318.74\" y=\"-71.05\" font-family=\"Times,serif\" font-size=\"14.00\">St3</text>\n</g>\n<!-- St2&#45;&gt;St3 -->\n<g id=\"edge3\" class=\"edge\">\n<title>St2&#45;&gt;St3</title>\n<path fill=\"none\" stroke=\"black\" d=\"M144.63,-71.65C158.5,-70.14 175.91,-68.5 191.5,-67.75 215.24,-66.61 221.24,-66.61 244.99,-67.75 256.93,-68.32 269.93,-69.42 281.59,-70.58\"/>\n<polygon fill=\"black\" stroke=\"black\" points=\"281.55,-74.09 291.86,-71.65 282.27,-67.13 281.55,-74.09\"/>\n<text text-anchor=\"middle\" x=\"218.24\" y=\"-71.55\" font-family=\"Times,serif\" font-size=\"14.00\">0 </text>\n</g>\n<!-- St5 -->\n<g id=\"node3\" class=\"node\">\n<title>St5</title>\n<ellipse fill=\"none\" stroke=\"black\" cx=\"519.73\" cy=\"-74.75\" rx=\"22.96\" ry=\"22.96\"/>\n<ellipse fill=\"none\" stroke=\"black\" cx=\"519.73\" cy=\"-74.75\" rx=\"27\" ry=\"27\"/>\n<text text-anchor=\"middle\" x=\"519.73\" y=\"-71.05\" font-family=\"Times,serif\" font-size=\"14.00\">St5</text>\n</g>\n<!-- St7 -->\n<g id=\"node5\" class=\"node\">\n<title>St7</title>\n<ellipse fill=\"none\" stroke=\"black\" cx=\"620.23\" cy=\"-74.75\" rx=\"22.96\" ry=\"22.96\"/>\n<ellipse fill=\"none\" stroke=\"black\" cx=\"620.23\" cy=\"-74.75\" rx=\"27\" ry=\"27\"/>\n<text text-anchor=\"middle\" x=\"620.23\" y=\"-71.05\" font-family=\"Times,serif\" font-size=\"14.00\">St7</text>\n</g>\n<!-- St5&#45;&gt;St7 -->\n<g id=\"edge8\" class=\"edge\">\n<title>St5&#45;&gt;St7</title>\n<path fill=\"none\" stroke=\"black\" d=\"M546.61,-74.75C557.72,-74.75 570.89,-74.75 582.95,-74.75\"/>\n<polygon fill=\"black\" stroke=\"black\" points=\"583.18,-78.25 593.18,-74.75 583.18,-71.25 583.18,-78.25\"/>\n<text text-anchor=\"middle\" x=\"569.98\" y=\"-78.55\" font-family=\"Times,serif\" font-size=\"14.00\">1 </text>\n</g>\n<!-- St9 -->\n<g id=\"node4\" class=\"node\">\n<title>St9</title>\n<ellipse fill=\"none\" stroke=\"black\" cx=\"821.22\" cy=\"-124.75\" rx=\"22.96\" ry=\"22.96\"/>\n<ellipse fill=\"none\" stroke=\"black\" cx=\"821.22\" cy=\"-124.75\" rx=\"27\" ry=\"27\"/>\n<text text-anchor=\"middle\" x=\"821.22\" y=\"-121.05\" font-family=\"Times,serif\" font-size=\"14.00\">St9</text>\n</g>\n<!-- St6 -->\n<g id=\"node6\" class=\"node\">\n<title>St6</title>\n<ellipse fill=\"none\" stroke=\"black\" cx=\"1030.01\" cy=\"-78.75\" rx=\"22.96\" ry=\"22.96\"/>\n<ellipse fill=\"none\" stroke=\"black\" cx=\"1030.01\" cy=\"-78.75\" rx=\"27\" ry=\"27\"/>\n<text text-anchor=\"middle\" x=\"1030.01\" y=\"-75.05\" font-family=\"Times,serif\" font-size=\"14.00\">St6</text>\n</g>\n<!-- St9&#45;&gt;St6 -->\n<g id=\"edge15\" class=\"edge\">\n<title>St9&#45;&gt;St6</title>\n<path fill=\"none\" stroke=\"black\" d=\"M845.3,-137.31C872.66,-150.44 919.21,-167.13 956.26,-151.75 977.23,-143.04 995.28,-125.03 1008.16,-109.08\"/>\n<polygon fill=\"black\" stroke=\"black\" points=\"1011.07,-111.04 1014.41,-100.99 1005.53,-106.76 1011.07,-111.04\"/>\n<text text-anchor=\"middle\" x=\"925.62\" y=\"-161.55\" font-family=\"Times,serif\" font-size=\"14.00\">1 </text>\n</g>\n<!-- St10 -->\n<g id=\"node7\" class=\"node\">\n<title>St10</title>\n<ellipse fill=\"none\" stroke=\"black\" cx=\"925.62\" cy=\"-78.75\" rx=\"26.78\" ry=\"26.78\"/>\n<ellipse fill=\"none\" stroke=\"black\" cx=\"925.62\" cy=\"-78.75\" rx=\"30.8\" ry=\"30.8\"/>\n<text text-anchor=\"middle\" x=\"925.62\" y=\"-75.05\" font-family=\"Times,serif\" font-size=\"14.00\">St10</text>\n</g>\n<!-- St9&#45;&gt;St10 -->\n<g id=\"edge16\" class=\"edge\">\n<title>St9&#45;&gt;St10</title>\n<path fill=\"none\" stroke=\"black\" d=\"M845.97,-114.08C858.45,-108.47 874.02,-101.48 888.01,-95.19\"/>\n<polygon fill=\"black\" stroke=\"black\" points=\"889.69,-98.28 897.38,-90.98 886.82,-91.89 889.69,-98.28\"/>\n<text text-anchor=\"middle\" x=\"871.47\" y=\"-107.55\" font-family=\"Times,serif\" font-size=\"14.00\">0 </text>\n</g>\n<!-- St7&#45;&gt;St9 -->\n<g id=\"edge12\" class=\"edge\">\n<title>St7&#45;&gt;St9</title>\n<path fill=\"none\" stroke=\"black\" d=\"M636.37,-96.13C649.47,-112.63 670.05,-134.2 693.98,-143.75 724.1,-155.76 761.02,-147.84 787.14,-138.84\"/>\n<polygon fill=\"black\" stroke=\"black\" points=\"788.4,-142.11 796.58,-135.38 785.99,-135.53 788.4,-142.11\"/>\n<text text-anchor=\"middle\" x=\"720.72\" y=\"-153.55\" font-family=\"Times,serif\" font-size=\"14.00\">0 </text>\n</g>\n<!-- St8 -->\n<g id=\"node8\" class=\"node\">\n<title>St8</title>\n<ellipse fill=\"none\" stroke=\"black\" cx=\"720.72\" cy=\"-74.75\" rx=\"22.96\" ry=\"22.96\"/>\n<ellipse fill=\"none\" stroke=\"black\" cx=\"720.72\" cy=\"-74.75\" rx=\"27\" ry=\"27\"/>\n<text text-anchor=\"middle\" x=\"720.72\" y=\"-71.05\" font-family=\"Times,serif\" font-size=\"14.00\">St8</text>\n</g>\n<!-- St7&#45;&gt;St8 -->\n<g id=\"edge11\" class=\"edge\">\n<title>St7&#45;&gt;St8</title>\n<path fill=\"none\" stroke=\"black\" d=\"M647.11,-74.75C658.22,-74.75 671.39,-74.75 683.45,-74.75\"/>\n<polygon fill=\"black\" stroke=\"black\" points=\"683.68,-78.25 693.68,-74.75 683.68,-71.25 683.68,-78.25\"/>\n<text text-anchor=\"middle\" x=\"670.48\" y=\"-78.55\" font-family=\"Times,serif\" font-size=\"14.00\">1 </text>\n</g>\n<!-- St6&#45;&gt;St7 -->\n<g id=\"edge17\" class=\"edge\">\n<title>St6&#45;&gt;St7</title>\n<path fill=\"none\" stroke=\"black\" d=\"M1010.46,-60.08C991.23,-42.79 959.44,-19.75 926.62,-19.75 719.72,-19.75 719.72,-19.75 719.72,-19.75 692.94,-19.75 666.66,-35.44 647.99,-50.07\"/>\n<polygon fill=\"black\" stroke=\"black\" points=\"645.74,-47.39 640.23,-56.43 650.18,-52.8 645.74,-47.39\"/>\n<text text-anchor=\"middle\" x=\"821.22\" y=\"-23.55\" font-family=\"Times,serif\" font-size=\"14.00\">1 </text>\n</g>\n<!-- St10&#45;&gt;St6 -->\n<g id=\"edge18\" class=\"edge\">\n<title>St10&#45;&gt;St6</title>\n<path fill=\"none\" stroke=\"black\" d=\"M956.51,-78.75C967.92,-78.75 981.06,-78.75 992.98,-78.75\"/>\n<polygon fill=\"black\" stroke=\"black\" points=\"993.08,-82.25 1003.08,-78.75 993.08,-75.25 993.08,-82.25\"/>\n<text text-anchor=\"middle\" x=\"979.76\" y=\"-82.55\" font-family=\"Times,serif\" font-size=\"14.00\">1 </text>\n</g>\n<!-- St10&#45;&gt;St10 -->\n<g id=\"edge19\" class=\"edge\">\n<title>St10&#45;&gt;St10</title>\n<path fill=\"none\" stroke=\"black\" d=\"M915.51,-107.71C915.18,-118.51 918.55,-127.4 925.62,-127.4 930.25,-127.4 933.3,-123.57 934.75,-117.89\"/>\n<polygon fill=\"black\" stroke=\"black\" points=\"938.25,-118 935.72,-107.71 931.28,-117.34 938.25,-118\"/>\n<text text-anchor=\"middle\" x=\"925.62\" y=\"-131.2\" font-family=\"Times,serif\" font-size=\"14.00\">0 </text>\n</g>\n<!-- St8&#45;&gt;St9 -->\n<g id=\"edge14\" class=\"edge\">\n<title>St8&#45;&gt;St9</title>\n<path fill=\"none\" stroke=\"black\" d=\"M744.82,-86.47C757.57,-92.94 773.61,-101.09 787.62,-108.2\"/>\n<polygon fill=\"black\" stroke=\"black\" points=\"786.43,-111.52 796.93,-112.93 789.6,-105.28 786.43,-111.52\"/>\n<text text-anchor=\"middle\" x=\"770.97\" y=\"-104.55\" font-family=\"Times,serif\" font-size=\"14.00\">0 </text>\n</g>\n<!-- St8&#45;&gt;St8 -->\n<g id=\"edge13\" class=\"edge\">\n<title>St8&#45;&gt;St8</title>\n<path fill=\"none\" stroke=\"black\" d=\"M711.43,-100.05C710.79,-110.57 713.89,-119.5 720.72,-119.5 725.21,-119.5 728.09,-115.65 729.35,-110.04\"/>\n<polygon fill=\"black\" stroke=\"black\" points=\"732.84,-110.26 730.02,-100.05 725.86,-109.79 732.84,-110.26\"/>\n<text text-anchor=\"middle\" x=\"720.72\" y=\"-123.3\" font-family=\"Times,serif\" font-size=\"14.00\">1 </text>\n</g>\n<!-- St1&#45;&gt;St1 -->\n<g id=\"edge4\" class=\"edge\">\n<title>St1&#45;&gt;St1</title>\n<path fill=\"none\" stroke=\"black\" d=\"M208.95,-144.05C208.31,-154.57 211.41,-163.5 218.24,-163.5 222.73,-163.5 225.61,-159.65 226.87,-154.04\"/>\n<polygon fill=\"black\" stroke=\"black\" points=\"230.37,-154.26 227.54,-144.05 223.38,-153.79 230.37,-154.26\"/>\n<text text-anchor=\"middle\" x=\"218.24\" y=\"-167.3\" font-family=\"Times,serif\" font-size=\"14.00\">1 </text>\n</g>\n<!-- St1&#45;&gt;St3 -->\n<g id=\"edge5\" class=\"edge\">\n<title>St1&#45;&gt;St3</title>\n<path fill=\"none\" stroke=\"black\" d=\"M242.84,-108.21C255.41,-102.59 271.09,-95.59 284.84,-89.44\"/>\n<polygon fill=\"black\" stroke=\"black\" points=\"286.3,-92.63 294,-85.35 283.44,-86.24 286.3,-92.63\"/>\n<text text-anchor=\"middle\" x=\"268.49\" y=\"-101.55\" font-family=\"Times,serif\" font-size=\"14.00\">0 </text>\n</g>\n<!-- St3&#45;&gt;St5 -->\n<g id=\"edge6\" class=\"edge\">\n<title>St3&#45;&gt;St5</title>\n<path fill=\"none\" stroke=\"black\" d=\"M344.28,-83.7C358.21,-88.3 376.09,-93.43 392.49,-95.75 416.03,-99.08 422.44,-99.08 445.98,-95.75 458.8,-93.94 472.51,-90.41 484.54,-86.76\"/>\n<polygon fill=\"black\" stroke=\"black\" points=\"485.72,-90.06 494.19,-83.7 483.6,-83.39 485.72,-90.06\"/>\n<text text-anchor=\"middle\" x=\"419.24\" y=\"-101.55\" font-family=\"Times,serif\" font-size=\"14.00\">1 </text>\n</g>\n<!-- St4 -->\n<g id=\"node11\" class=\"node\">\n<title>St4</title>\n<ellipse fill=\"none\" stroke=\"black\" cx=\"419.24\" cy=\"-26.75\" rx=\"22.96\" ry=\"22.96\"/>\n<ellipse fill=\"none\" stroke=\"black\" cx=\"419.24\" cy=\"-26.75\" rx=\"27\" ry=\"27\"/>\n<text text-anchor=\"middle\" x=\"419.24\" y=\"-23.05\" font-family=\"Times,serif\" font-size=\"14.00\">St4</text>\n</g>\n<!-- St3&#45;&gt;St4 -->\n<g id=\"edge7\" class=\"edge\">\n<title>St3&#45;&gt;St4</title>\n<path fill=\"none\" stroke=\"black\" d=\"M343.08,-63.37C355.75,-57.2 371.61,-49.47 385.49,-42.71\"/>\n<polygon fill=\"black\" stroke=\"black\" points=\"387.26,-45.74 394.72,-38.21 384.2,-39.44 387.26,-45.74\"/>\n<text text-anchor=\"middle\" x=\"368.99\" y=\"-56.55\" font-family=\"Times,serif\" font-size=\"14.00\">0 </text>\n</g>\n<!-- St4&#45;&gt;St5 -->\n<g id=\"edge9\" class=\"edge\">\n<title>St4&#45;&gt;St5</title>\n<path fill=\"none\" stroke=\"black\" d=\"M443.58,-38.12C456.24,-44.3 472.1,-52.02 485.98,-58.79\"/>\n<polygon fill=\"black\" stroke=\"black\" points=\"484.69,-62.05 495.22,-63.29 487.76,-55.76 484.69,-62.05\"/>\n<text text-anchor=\"middle\" x=\"469.48\" y=\"-56.55\" font-family=\"Times,serif\" font-size=\"14.00\">1 </text>\n</g>\n<!-- St4&#45;&gt;St4 -->\n<g id=\"edge10\" class=\"edge\">\n<title>St4&#45;&gt;St4</title>\n<path fill=\"none\" stroke=\"black\" d=\"M409.94,-52.05C409.3,-62.57 412.4,-71.5 419.24,-71.5 423.72,-71.5 426.6,-67.65 427.86,-62.04\"/>\n<polygon fill=\"black\" stroke=\"black\" points=\"431.36,-62.26 428.53,-52.05 424.37,-61.79 431.36,-62.26\"/>\n<text text-anchor=\"middle\" x=\"419.24\" y=\"-75.3\" font-family=\"Times,serif\" font-size=\"14.00\">0 </text>\n</g>\n</g>\n</svg>\n",
            "text/plain": [
              "<graphviz.graphs.Digraph at 0x7b48181917b0>"
            ]
          },
          "metadata": {},
          "execution_count": 93
        }
      ]
    },
    {
      "cell_type": "code",
      "source": [
        "dotObj_dfa(min_no010_RE, FuseEdges=True)"
      ],
      "metadata": {
        "id": "KLLehi_tyasI",
        "outputId": "b1e99552-3f05-465b-8920-0321d2bccecd",
        "colab": {
          "base_uri": "https://localhost:8080/",
          "height": 205
        }
      },
      "execution_count": 94,
      "outputs": [
        {
          "output_type": "execute_result",
          "data": {
            "image/svg+xml": "<?xml version=\"1.0\" encoding=\"UTF-8\" standalone=\"no\"?>\n<!DOCTYPE svg PUBLIC \"-//W3C//DTD SVG 1.1//EN\"\n \"http://www.w3.org/Graphics/SVG/1.1/DTD/svg11.dtd\">\n<!-- Generated by graphviz version 2.43.0 (0)\n -->\n<!-- Title: %3 Pages: 1 -->\n<svg width=\"353pt\" height=\"138pt\"\n viewBox=\"0.00 0.00 353.49 138.50\" xmlns=\"http://www.w3.org/2000/svg\" xmlns:xlink=\"http://www.w3.org/1999/xlink\">\n<g id=\"graph0\" class=\"graph\" transform=\"scale(1 1) rotate(0) translate(4 134.5)\">\n<title>%3</title>\n<polygon fill=\"white\" stroke=\"transparent\" points=\"-4,4 -4,-134.5 349.49,-134.5 349.49,4 -4,4\"/>\n<!-- EMPTY -->\n<g id=\"node1\" class=\"node\">\n<title>EMPTY</title>\n</g>\n<!-- St2 -->\n<g id=\"node2\" class=\"node\">\n<title>St2</title>\n<ellipse fill=\"none\" stroke=\"black\" cx=\"117.75\" cy=\"-26.75\" rx=\"22.96\" ry=\"22.96\"/>\n<ellipse fill=\"none\" stroke=\"black\" cx=\"117.75\" cy=\"-26.75\" rx=\"27\" ry=\"27\"/>\n<text text-anchor=\"middle\" x=\"117.75\" y=\"-23.05\" font-family=\"Times,serif\" font-size=\"14.00\">St2</text>\n</g>\n<!-- EMPTY&#45;&gt;St2 -->\n<g id=\"edge1\" class=\"edge\">\n<title>EMPTY&#45;&gt;St2</title>\n<path fill=\"none\" stroke=\"black\" d=\"M54.15,-26.75C62.45,-26.75 71.79,-26.75 80.67,-26.75\"/>\n<polygon fill=\"black\" stroke=\"black\" points=\"80.79,-30.25 90.79,-26.75 80.79,-23.25 80.79,-30.25\"/>\n</g>\n<!-- St2&#45;&gt;St2 -->\n<g id=\"edge2\" class=\"edge\">\n<title>St2&#45;&gt;St2</title>\n<path fill=\"none\" stroke=\"black\" d=\"M109.55,-52.5C109.09,-62.83 111.82,-71.5 117.75,-71.5 121.55,-71.5 124.03,-67.94 125.21,-62.67\"/>\n<polygon fill=\"black\" stroke=\"black\" points=\"128.71,-62.73 125.95,-52.5 121.73,-62.22 128.71,-62.73\"/>\n<text text-anchor=\"middle\" x=\"117.75\" y=\"-75.3\" font-family=\"Times,serif\" font-size=\"14.00\">1 </text>\n</g>\n<!-- St3 -->\n<g id=\"node4\" class=\"node\">\n<title>St3</title>\n<ellipse fill=\"none\" stroke=\"black\" cx=\"218.24\" cy=\"-70.75\" rx=\"22.96\" ry=\"22.96\"/>\n<ellipse fill=\"none\" stroke=\"black\" cx=\"218.24\" cy=\"-70.75\" rx=\"27\" ry=\"27\"/>\n<text text-anchor=\"middle\" x=\"218.24\" y=\"-67.05\" font-family=\"Times,serif\" font-size=\"14.00\">St3</text>\n</g>\n<!-- St2&#45;&gt;St3 -->\n<g id=\"edge3\" class=\"edge\">\n<title>St2&#45;&gt;St3</title>\n<path fill=\"none\" stroke=\"black\" d=\"M142.34,-37.29C154.92,-42.91 170.59,-49.91 184.35,-56.05\"/>\n<polygon fill=\"black\" stroke=\"black\" points=\"182.94,-59.26 193.5,-60.14 185.8,-52.87 182.94,-59.26\"/>\n<text text-anchor=\"middle\" x=\"168\" y=\"-53.55\" font-family=\"Times,serif\" font-size=\"14.00\">0 </text>\n</g>\n<!-- St5 -->\n<g id=\"node3\" class=\"node\">\n<title>St5</title>\n<ellipse fill=\"none\" stroke=\"black\" cx=\"318.74\" cy=\"-26.75\" rx=\"22.96\" ry=\"22.96\"/>\n<ellipse fill=\"none\" stroke=\"black\" cx=\"318.74\" cy=\"-26.75\" rx=\"27\" ry=\"27\"/>\n<text text-anchor=\"middle\" x=\"318.74\" y=\"-23.05\" font-family=\"Times,serif\" font-size=\"14.00\">St5</text>\n</g>\n<!-- St5&#45;&gt;St2 -->\n<g id=\"edge6\" class=\"edge\">\n<title>St5&#45;&gt;St2</title>\n<path fill=\"none\" stroke=\"black\" d=\"M291.86,-23.65C277.98,-22.14 260.58,-20.5 244.99,-19.75 221.24,-18.61 215.24,-18.61 191.5,-19.75 179.56,-20.32 166.56,-21.42 154.9,-22.58\"/>\n<polygon fill=\"black\" stroke=\"black\" points=\"154.21,-19.13 144.63,-23.65 154.94,-26.09 154.21,-19.13\"/>\n<text text-anchor=\"middle\" x=\"218.24\" y=\"-23.55\" font-family=\"Times,serif\" font-size=\"14.00\">1 </text>\n</g>\n<!-- St3&#45;&gt;St5 -->\n<g id=\"edge4\" class=\"edge\">\n<title>St3&#45;&gt;St5</title>\n<path fill=\"none\" stroke=\"black\" d=\"M242.84,-60.21C255.41,-54.59 271.09,-47.59 284.84,-41.44\"/>\n<polygon fill=\"black\" stroke=\"black\" points=\"286.3,-44.63 294,-37.35 283.44,-38.24 286.3,-44.63\"/>\n<text text-anchor=\"middle\" x=\"268.49\" y=\"-53.55\" font-family=\"Times,serif\" font-size=\"14.00\">1 </text>\n</g>\n<!-- St3&#45;&gt;St3 -->\n<g id=\"edge5\" class=\"edge\">\n<title>St3&#45;&gt;St3</title>\n<path fill=\"none\" stroke=\"black\" d=\"M208.95,-96.05C208.31,-106.57 211.41,-115.5 218.24,-115.5 222.73,-115.5 225.61,-111.65 226.87,-106.04\"/>\n<polygon fill=\"black\" stroke=\"black\" points=\"230.37,-106.26 227.54,-96.05 223.38,-105.79 230.37,-106.26\"/>\n<text text-anchor=\"middle\" x=\"218.24\" y=\"-119.3\" font-family=\"Times,serif\" font-size=\"14.00\">0 </text>\n</g>\n</g>\n</svg>\n",
            "text/plain": [
              "<graphviz.graphs.Digraph at 0x7b481a4f3130>"
            ]
          },
          "metadata": {},
          "execution_count": 94
        }
      ]
    },
    {
      "cell_type": "code",
      "source": [
        "# Let's see the Dyn Prog Algo\n",
        "no010_RE = min_dfa(nfa2dfa(re2nfa(REno010)), chatty=True)"
      ],
      "metadata": {
        "id": "NCqvkp6Ywh-p",
        "outputId": "9058379e-4749-4032-b2ad-698c0dd0c129",
        "colab": {
          "base_uri": "https://localhost:8080/"
        }
      },
      "execution_count": 95,
      "outputs": [
        {
          "output_type": "stream",
          "name": "stdout",
          "text": [
            "Separating final and non-final states (marking 0-distinguishable entries).\n",
            "Separating final and non-final states (marking 0-distinguishable entries).\n",
            "   The 0-distinguishable entries are:\n",
            "States  St2  and  BH  are 0-distinguished.\n",
            "States  St5  and  BH  are 0-distinguished.\n",
            "States  BH  and  St9  are 0-distinguished.\n",
            "States  BH  and  St7  are 0-distinguished.\n",
            "States  BH  and  St6  are 0-distinguished.\n",
            "States  BH  and  St10  are 0-distinguished.\n",
            "States  BH  and  St8  are 0-distinguished.\n",
            "States  BH  and  St1  are 0-distinguished.\n",
            "States  BH  and  St3  are 0-distinguished.\n",
            "States  BH  and  St4  are 0-distinguished.\n",
            "--------------------------------------------- \n",
            " Dyn Prog Table Version 0 is :\n",
            "--------------------------------------------- \n",
            "\t St5 \t .\n",
            "\t BH \t 0\t0\n",
            "\t St9 \t .\t.\t0\n",
            "\t St7 \t .\t.\t0\t.\n",
            "\t St6 \t .\t.\t0\t.\t.\n",
            "\t St10 \t .\t.\t0\t.\t.\t.\n",
            "\t St8 \t .\t.\t0\t.\t.\t.\t.\n",
            "\t St1 \t .\t.\t0\t.\t.\t.\t.\t.\n",
            "\t St3 \t .\t.\t0\t.\t.\t.\t.\t.\t.\n",
            "\t St4 \t .\t.\t0\t.\t.\t.\t.\t.\t.\t.\n",
            "\n",
            "\t\t St2\tSt5\tBH\tSt9\tSt7\tSt6\tSt10\tSt8\tSt1\tSt3\n",
            "--------------------------------------------- \n",
            " \n",
            "Seeing if states  St2  and  St5  can now be distinguished by any symbol.\n",
            "   The next states reached via symbol  1  are:  St1  and  St7\n",
            "   Cannot distinguish yet, via  1\n",
            "   The next states reached via symbol  0  are:  St3  and  BH\n",
            "   Found a distinguishable pair!\n",
            "      Since  ('St3', 'BH')  are  0  distinguishable, marking  ('St2', 'St5')  as  1  distinguishable.\n",
            "         Hence, must continue through one more sweep of the algorithm.\n",
            " \n",
            "Seeing if states  St2  and  St9  can now be distinguished by any symbol.\n",
            "   The next states reached via symbol  1  are:  St1  and  St6\n",
            "   Cannot distinguish yet, via  1\n",
            "   The next states reached via symbol  0  are:  St3  and  St10\n",
            "   Cannot distinguish yet, via  0\n",
            " \n",
            "Seeing if states  St2  and  St7  can now be distinguished by any symbol.\n",
            "   The next states reached via symbol  1  are:  St1  and  St8\n",
            "   Cannot distinguish yet, via  1\n",
            "   The next states reached via symbol  0  are:  St3  and  St9\n",
            "   Cannot distinguish yet, via  0\n",
            " \n",
            "Seeing if states  St2  and  St6  can now be distinguished by any symbol.\n",
            "   The next states reached via symbol  1  are:  St1  and  St7\n",
            "   Cannot distinguish yet, via  1\n",
            "   The next states reached via symbol  0  are:  St3  and  BH\n",
            "   Found a distinguishable pair!\n",
            "      Since  ('St3', 'BH')  are  0  distinguishable, marking  ('St2', 'St6')  as  1  distinguishable.\n",
            "         Hence, must continue through one more sweep of the algorithm.\n",
            " \n",
            "Seeing if states  St2  and  St10  can now be distinguished by any symbol.\n",
            "   The next states reached via symbol  1  are:  St1  and  St6\n",
            "   Cannot distinguish yet, via  1\n",
            "   The next states reached via symbol  0  are:  St3  and  St10\n",
            "   Cannot distinguish yet, via  0\n",
            " \n",
            "Seeing if states  St2  and  St8  can now be distinguished by any symbol.\n",
            "   The next states reached via symbol  1  are:  St1  and  St8\n",
            "   Cannot distinguish yet, via  1\n",
            "   The next states reached via symbol  0  are:  St3  and  St9\n",
            "   Cannot distinguish yet, via  0\n",
            " \n",
            "Seeing if states  St2  and  St1  can now be distinguished by any symbol.\n",
            "   The next states reached via symbol  1  are:  St1  and  St1\n",
            "      Nope. Symbol  1  could not distinguish (the next states are the same).\n",
            "   The next states reached via symbol  0  are:  St3  and  St3\n",
            "      Nope. Symbol  0  could not distinguish (the next states are the same).\n",
            " \n",
            "Seeing if states  St2  and  St3  can now be distinguished by any symbol.\n",
            "   The next states reached via symbol  1  are:  St1  and  St5\n",
            "   Cannot distinguish yet, via  1\n",
            "   The next states reached via symbol  0  are:  St3  and  St4\n",
            "   Cannot distinguish yet, via  0\n",
            " \n",
            "Seeing if states  St2  and  St4  can now be distinguished by any symbol.\n",
            "   The next states reached via symbol  1  are:  St1  and  St5\n",
            "   Cannot distinguish yet, via  1\n",
            "   The next states reached via symbol  0  are:  St3  and  St4\n",
            "   Cannot distinguish yet, via  0\n",
            " \n",
            "Seeing if states  St5  and  St9  can now be distinguished by any symbol.\n",
            "   The next states reached via symbol  1  are:  St7  and  St6\n",
            "   Cannot distinguish yet, via  1\n",
            "   The next states reached via symbol  0  are:  BH  and  St10\n",
            "***  Found a distinguishable pair !! ***\n",
            "      Since  ('BH', 'St10')  are  0  distinguishable, marking  ('St5', 'St9')  as  1  distinguishable.\n",
            "         Hence, must continue through one more sweep of the algorithm.\n",
            " \n",
            "Seeing if states  St5  and  St7  can now be distinguished by any symbol.\n",
            "   The next states reached via symbol  1  are:  St7  and  St8\n",
            "   Cannot distinguish yet, via  1\n",
            "   The next states reached via symbol  0  are:  BH  and  St9\n",
            "***  Found a distinguishable pair !! ***\n",
            "      Since  ('BH', 'St9')  are  0  distinguishable, marking  ('St5', 'St7')  as  1  distinguishable.\n",
            "         Hence, must continue through one more sweep of the algorithm.\n",
            " \n",
            "Seeing if states  St5  and  St6  can now be distinguished by any symbol.\n",
            "   The next states reached via symbol  1  are:  St7  and  St7\n",
            "      Nope. Symbol  1  could not distinguish (the next states are the same).\n",
            "   The next states reached via symbol  0  are:  BH  and  BH\n",
            "      Nope. Symbol  0  could not distinguish (the next states are the same).\n",
            " \n",
            "Seeing if states  St5  and  St10  can now be distinguished by any symbol.\n",
            "   The next states reached via symbol  1  are:  St7  and  St6\n",
            "   Cannot distinguish yet, via  1\n",
            "   The next states reached via symbol  0  are:  BH  and  St10\n",
            "***  Found a distinguishable pair !! ***\n",
            "      Since  ('BH', 'St10')  are  0  distinguishable, marking  ('St5', 'St10')  as  1  distinguishable.\n",
            "         Hence, must continue through one more sweep of the algorithm.\n",
            " \n",
            "Seeing if states  St5  and  St8  can now be distinguished by any symbol.\n",
            "   The next states reached via symbol  1  are:  St7  and  St8\n",
            "   Cannot distinguish yet, via  1\n",
            "   The next states reached via symbol  0  are:  BH  and  St9\n",
            "***  Found a distinguishable pair !! ***\n",
            "      Since  ('BH', 'St9')  are  0  distinguishable, marking  ('St5', 'St8')  as  1  distinguishable.\n",
            "         Hence, must continue through one more sweep of the algorithm.\n",
            " \n",
            "Seeing if states  St5  and  St1  can now be distinguished by any symbol.\n",
            "   The next states reached via symbol  1  are:  St7  and  St1\n",
            "   Cannot distinguish yet, via  1\n",
            "   The next states reached via symbol  0  are:  BH  and  St3\n",
            "***  Found a distinguishable pair !! ***\n",
            "      Since  ('BH', 'St3')  are  0  distinguishable, marking  ('St5', 'St1')  as  1  distinguishable.\n",
            "         Hence, must continue through one more sweep of the algorithm.\n",
            " \n",
            "Seeing if states  St5  and  St3  can now be distinguished by any symbol.\n",
            "   The next states reached via symbol  1  are:  St7  and  St5\n",
            "   Found a distinguishable pair!\n",
            "      Since  ('St7', 'St5')  are  1  distinguishable, marking  ('St5', 'St3')  as  2  distinguishable.\n",
            "         Hence, must continue through one more sweep of the algorithm.\n",
            " \n",
            "Seeing if states  St5  and  St4  can now be distinguished by any symbol.\n",
            "   The next states reached via symbol  1  are:  St7  and  St5\n",
            "   Found a distinguishable pair!\n",
            "      Since  ('St7', 'St5')  are  1  distinguishable, marking  ('St5', 'St4')  as  2  distinguishable.\n",
            "         Hence, must continue through one more sweep of the algorithm.\n",
            " \n",
            "Seeing if states  St9  and  St7  can now be distinguished by any symbol.\n",
            "   The next states reached via symbol  1  are:  St6  and  St8\n",
            "   Cannot distinguish yet, via  1\n",
            "   The next states reached via symbol  0  are:  St10  and  St9\n",
            "   Cannot distinguish yet, via  0\n",
            " \n",
            "Seeing if states  St9  and  St6  can now be distinguished by any symbol.\n",
            "   The next states reached via symbol  1  are:  St6  and  St7\n",
            "   Cannot distinguish yet, via  1\n",
            "   The next states reached via symbol  0  are:  St10  and  BH\n",
            "   Found a distinguishable pair!\n",
            "      Since  ('St10', 'BH')  are  0  distinguishable, marking  ('St9', 'St6')  as  1  distinguishable.\n",
            "         Hence, must continue through one more sweep of the algorithm.\n",
            " \n",
            "Seeing if states  St9  and  St10  can now be distinguished by any symbol.\n",
            "   The next states reached via symbol  1  are:  St6  and  St6\n",
            "      Nope. Symbol  1  could not distinguish (the next states are the same).\n",
            "   The next states reached via symbol  0  are:  St10  and  St10\n",
            "      Nope. Symbol  0  could not distinguish (the next states are the same).\n",
            " \n",
            "Seeing if states  St9  and  St8  can now be distinguished by any symbol.\n",
            "   The next states reached via symbol  1  are:  St6  and  St8\n",
            "   Cannot distinguish yet, via  1\n",
            "   The next states reached via symbol  0  are:  St10  and  St9\n",
            "   Cannot distinguish yet, via  0\n",
            " \n",
            "Seeing if states  St9  and  St1  can now be distinguished by any symbol.\n",
            "   The next states reached via symbol  1  are:  St6  and  St1\n",
            "   Cannot distinguish yet, via  1\n",
            "   The next states reached via symbol  0  are:  St10  and  St3\n",
            "   Cannot distinguish yet, via  0\n",
            " \n",
            "Seeing if states  St9  and  St3  can now be distinguished by any symbol.\n",
            "   The next states reached via symbol  1  are:  St6  and  St5\n",
            "   Cannot distinguish yet, via  1\n",
            "   The next states reached via symbol  0  are:  St10  and  St4\n",
            "   Cannot distinguish yet, via  0\n",
            " \n",
            "Seeing if states  St9  and  St4  can now be distinguished by any symbol.\n",
            "   The next states reached via symbol  1  are:  St6  and  St5\n",
            "   Cannot distinguish yet, via  1\n",
            "   The next states reached via symbol  0  are:  St10  and  St4\n",
            "   Cannot distinguish yet, via  0\n",
            " \n",
            "Seeing if states  St7  and  St6  can now be distinguished by any symbol.\n",
            "   The next states reached via symbol  1  are:  St8  and  St7\n",
            "   Cannot distinguish yet, via  1\n",
            "   The next states reached via symbol  0  are:  St9  and  BH\n",
            "   Found a distinguishable pair!\n",
            "      Since  ('St9', 'BH')  are  0  distinguishable, marking  ('St7', 'St6')  as  1  distinguishable.\n",
            "         Hence, must continue through one more sweep of the algorithm.\n",
            " \n",
            "Seeing if states  St7  and  St10  can now be distinguished by any symbol.\n",
            "   The next states reached via symbol  1  are:  St8  and  St6\n",
            "   Cannot distinguish yet, via  1\n",
            "   The next states reached via symbol  0  are:  St9  and  St10\n",
            "   Cannot distinguish yet, via  0\n",
            " \n",
            "Seeing if states  St7  and  St8  can now be distinguished by any symbol.\n",
            "   The next states reached via symbol  1  are:  St8  and  St8\n",
            "      Nope. Symbol  1  could not distinguish (the next states are the same).\n",
            "   The next states reached via symbol  0  are:  St9  and  St9\n",
            "      Nope. Symbol  0  could not distinguish (the next states are the same).\n",
            " \n",
            "Seeing if states  St7  and  St1  can now be distinguished by any symbol.\n",
            "   The next states reached via symbol  1  are:  St8  and  St1\n",
            "   Cannot distinguish yet, via  1\n",
            "   The next states reached via symbol  0  are:  St9  and  St3\n",
            "   Cannot distinguish yet, via  0\n",
            " \n",
            "Seeing if states  St7  and  St3  can now be distinguished by any symbol.\n",
            "   The next states reached via symbol  1  are:  St8  and  St5\n",
            "   Found a distinguishable pair!\n",
            "      Since  ('St8', 'St5')  are  1  distinguishable, marking  ('St7', 'St3')  as  2  distinguishable.\n",
            "         Hence, must continue through one more sweep of the algorithm.\n",
            " \n",
            "Seeing if states  St7  and  St4  can now be distinguished by any symbol.\n",
            "   The next states reached via symbol  1  are:  St8  and  St5\n",
            "   Found a distinguishable pair!\n",
            "      Since  ('St8', 'St5')  are  1  distinguishable, marking  ('St7', 'St4')  as  2  distinguishable.\n",
            "         Hence, must continue through one more sweep of the algorithm.\n",
            " \n",
            "Seeing if states  St6  and  St10  can now be distinguished by any symbol.\n",
            "   The next states reached via symbol  1  are:  St7  and  St6\n",
            "***  Found a distinguishable pair !! ***\n",
            "      Since  ('St7', 'St6')  are  1  distinguishable, marking  ('St6', 'St10')  as  2  distinguishable.\n",
            "         Hence, must continue through one more sweep of the algorithm.\n",
            " \n",
            "Seeing if states  St6  and  St8  can now be distinguished by any symbol.\n",
            "   The next states reached via symbol  1  are:  St7  and  St8\n",
            "   Cannot distinguish yet, via  1\n",
            "   The next states reached via symbol  0  are:  BH  and  St9\n",
            "***  Found a distinguishable pair !! ***\n",
            "      Since  ('BH', 'St9')  are  0  distinguishable, marking  ('St6', 'St8')  as  1  distinguishable.\n",
            "         Hence, must continue through one more sweep of the algorithm.\n",
            " \n",
            "Seeing if states  St6  and  St1  can now be distinguished by any symbol.\n",
            "   The next states reached via symbol  1  are:  St7  and  St1\n",
            "   Cannot distinguish yet, via  1\n",
            "   The next states reached via symbol  0  are:  BH  and  St3\n",
            "***  Found a distinguishable pair !! ***\n",
            "      Since  ('BH', 'St3')  are  0  distinguishable, marking  ('St6', 'St1')  as  1  distinguishable.\n",
            "         Hence, must continue through one more sweep of the algorithm.\n",
            " \n",
            "Seeing if states  St6  and  St3  can now be distinguished by any symbol.\n",
            "   The next states reached via symbol  1  are:  St7  and  St5\n",
            "   Found a distinguishable pair!\n",
            "      Since  ('St7', 'St5')  are  1  distinguishable, marking  ('St6', 'St3')  as  2  distinguishable.\n",
            "         Hence, must continue through one more sweep of the algorithm.\n",
            " \n",
            "Seeing if states  St6  and  St4  can now be distinguished by any symbol.\n",
            "   The next states reached via symbol  1  are:  St7  and  St5\n",
            "   Found a distinguishable pair!\n",
            "      Since  ('St7', 'St5')  are  1  distinguishable, marking  ('St6', 'St4')  as  2  distinguishable.\n",
            "         Hence, must continue through one more sweep of the algorithm.\n",
            " \n",
            "Seeing if states  St10  and  St8  can now be distinguished by any symbol.\n",
            "   The next states reached via symbol  1  are:  St6  and  St8\n",
            "***  Found a distinguishable pair !! ***\n",
            "      Since  ('St6', 'St8')  are  1  distinguishable, marking  ('St10', 'St8')  as  2  distinguishable.\n",
            "         Hence, must continue through one more sweep of the algorithm.\n",
            " \n",
            "Seeing if states  St10  and  St1  can now be distinguished by any symbol.\n",
            "   The next states reached via symbol  1  are:  St6  and  St1\n",
            "***  Found a distinguishable pair !! ***\n",
            "      Since  ('St6', 'St1')  are  1  distinguishable, marking  ('St10', 'St1')  as  2  distinguishable.\n",
            "         Hence, must continue through one more sweep of the algorithm.\n",
            " \n",
            "Seeing if states  St10  and  St3  can now be distinguished by any symbol.\n",
            "   The next states reached via symbol  1  are:  St6  and  St5\n",
            "   Cannot distinguish yet, via  1\n",
            "   The next states reached via symbol  0  are:  St10  and  St4\n",
            "   Cannot distinguish yet, via  0\n",
            " \n",
            "Seeing if states  St10  and  St4  can now be distinguished by any symbol.\n",
            "   The next states reached via symbol  1  are:  St6  and  St5\n",
            "   Cannot distinguish yet, via  1\n",
            "   The next states reached via symbol  0  are:  St10  and  St4\n",
            "   Cannot distinguish yet, via  0\n",
            " \n",
            "Seeing if states  St8  and  St1  can now be distinguished by any symbol.\n",
            "   The next states reached via symbol  1  are:  St8  and  St1\n",
            "   Cannot distinguish yet, via  1\n",
            "   The next states reached via symbol  0  are:  St9  and  St3\n",
            "   Cannot distinguish yet, via  0\n",
            " \n",
            "Seeing if states  St8  and  St3  can now be distinguished by any symbol.\n",
            "   The next states reached via symbol  1  are:  St8  and  St5\n",
            "   Found a distinguishable pair!\n",
            "      Since  ('St8', 'St5')  are  1  distinguishable, marking  ('St8', 'St3')  as  2  distinguishable.\n",
            "         Hence, must continue through one more sweep of the algorithm.\n",
            " \n",
            "Seeing if states  St8  and  St4  can now be distinguished by any symbol.\n",
            "   The next states reached via symbol  1  are:  St8  and  St5\n",
            "   Found a distinguishable pair!\n",
            "      Since  ('St8', 'St5')  are  1  distinguishable, marking  ('St8', 'St4')  as  2  distinguishable.\n",
            "         Hence, must continue through one more sweep of the algorithm.\n",
            " \n",
            "Seeing if states  St1  and  St3  can now be distinguished by any symbol.\n",
            "   The next states reached via symbol  1  are:  St1  and  St5\n",
            "   Found a distinguishable pair!\n",
            "      Since  ('St1', 'St5')  are  1  distinguishable, marking  ('St1', 'St3')  as  2  distinguishable.\n",
            "         Hence, must continue through one more sweep of the algorithm.\n",
            " \n",
            "Seeing if states  St1  and  St4  can now be distinguished by any symbol.\n",
            "   The next states reached via symbol  1  are:  St1  and  St5\n",
            "   Found a distinguishable pair!\n",
            "      Since  ('St1', 'St5')  are  1  distinguishable, marking  ('St1', 'St4')  as  2  distinguishable.\n",
            "         Hence, must continue through one more sweep of the algorithm.\n",
            " \n",
            "Seeing if states  St3  and  St4  can now be distinguished by any symbol.\n",
            "   The next states reached via symbol  1  are:  St5  and  St5\n",
            "      Nope. Symbol  1  could not distinguish (the next states are the same).\n",
            "   The next states reached via symbol  0  are:  St4  and  St4\n",
            "      Nope. Symbol  0  could not distinguish (the next states are the same).\n",
            "--------------------------------------------- \n",
            " Dyn Prog Table Version 1 is :\n",
            "--------------------------------------------- \n",
            "\t St5 \t 1\n",
            "\t BH \t 0\t0\n",
            "\t St9 \t .\t1\t0\n",
            "\t St7 \t .\t1\t0\t.\n",
            "\t St6 \t 1\t.\t0\t1\t1\n",
            "\t St10 \t .\t1\t0\t.\t.\t2\n",
            "\t St8 \t .\t1\t0\t.\t.\t1\t2\n",
            "\t St1 \t .\t1\t0\t.\t.\t1\t2\t.\n",
            "\t St3 \t .\t2\t0\t.\t2\t2\t.\t2\t2\n",
            "\t St4 \t .\t2\t0\t.\t2\t2\t.\t2\t2\t.\n",
            "\n",
            "\t\t St2\tSt5\tBH\tSt9\tSt7\tSt6\tSt10\tSt8\tSt1\tSt3\n",
            "--------------------------------------------- \n",
            " \n",
            "Seeing if states  St2  and  St5  can now be distinguished by any symbol.\n",
            "   The next states reached via symbol  1  are:  St1  and  St7\n",
            "   The next states reached via symbol  0  are:  St3  and  BH\n",
            " \n",
            "Seeing if states  St2  and  St9  can now be distinguished by any symbol.\n",
            "   The next states reached via symbol  1  are:  St1  and  St6\n",
            "   Found a distinguishable pair!\n",
            "      Since  ('St1', 'St6')  are  1  distinguishable, marking  ('St2', 'St9')  as  2  distinguishable.\n",
            "         Hence, must continue through one more sweep of the algorithm.\n",
            " \n",
            "Seeing if states  St2  and  St7  can now be distinguished by any symbol.\n",
            "   The next states reached via symbol  1  are:  St1  and  St8\n",
            "   Cannot distinguish yet, via  1\n",
            "   The next states reached via symbol  0  are:  St3  and  St9\n",
            "   Cannot distinguish yet, via  0\n",
            " \n",
            "Seeing if states  St2  and  St6  can now be distinguished by any symbol.\n",
            "   The next states reached via symbol  1  are:  St1  and  St7\n",
            "   The next states reached via symbol  0  are:  St3  and  BH\n",
            " \n",
            "Seeing if states  St2  and  St10  can now be distinguished by any symbol.\n",
            "   The next states reached via symbol  1  are:  St1  and  St6\n",
            "   Found a distinguishable pair!\n",
            "      Since  ('St1', 'St6')  are  1  distinguishable, marking  ('St2', 'St10')  as  2  distinguishable.\n",
            "         Hence, must continue through one more sweep of the algorithm.\n",
            " \n",
            "Seeing if states  St2  and  St8  can now be distinguished by any symbol.\n",
            "   The next states reached via symbol  1  are:  St1  and  St8\n",
            "   Cannot distinguish yet, via  1\n",
            "   The next states reached via symbol  0  are:  St3  and  St9\n",
            "   Cannot distinguish yet, via  0\n",
            " \n",
            "Seeing if states  St2  and  St1  can now be distinguished by any symbol.\n",
            "   The next states reached via symbol  1  are:  St1  and  St1\n",
            "      Nope. Symbol  1  could not distinguish (the next states are the same).\n",
            "   The next states reached via symbol  0  are:  St3  and  St3\n",
            "      Nope. Symbol  0  could not distinguish (the next states are the same).\n",
            " \n",
            "Seeing if states  St2  and  St3  can now be distinguished by any symbol.\n",
            "   The next states reached via symbol  1  are:  St1  and  St5\n",
            "   Found a distinguishable pair!\n",
            "      Since  ('St1', 'St5')  are  1  distinguishable, marking  ('St2', 'St3')  as  2  distinguishable.\n",
            "         Hence, must continue through one more sweep of the algorithm.\n",
            " \n",
            "Seeing if states  St2  and  St4  can now be distinguished by any symbol.\n",
            "   The next states reached via symbol  1  are:  St1  and  St5\n",
            "   Found a distinguishable pair!\n",
            "      Since  ('St1', 'St5')  are  1  distinguishable, marking  ('St2', 'St4')  as  2  distinguishable.\n",
            "         Hence, must continue through one more sweep of the algorithm.\n",
            " \n",
            "Seeing if states  St5  and  St9  can now be distinguished by any symbol.\n",
            "   The next states reached via symbol  1  are:  St7  and  St6\n",
            "   The next states reached via symbol  0  are:  BH  and  St10\n",
            " \n",
            "Seeing if states  St5  and  St7  can now be distinguished by any symbol.\n",
            "   The next states reached via symbol  1  are:  St7  and  St8\n",
            "   The next states reached via symbol  0  are:  BH  and  St9\n",
            " \n",
            "Seeing if states  St5  and  St6  can now be distinguished by any symbol.\n",
            "   The next states reached via symbol  1  are:  St7  and  St7\n",
            "      Nope. Symbol  1  could not distinguish (the next states are the same).\n",
            "   The next states reached via symbol  0  are:  BH  and  BH\n",
            "      Nope. Symbol  0  could not distinguish (the next states are the same).\n",
            " \n",
            "Seeing if states  St5  and  St10  can now be distinguished by any symbol.\n",
            "   The next states reached via symbol  1  are:  St7  and  St6\n",
            "   The next states reached via symbol  0  are:  BH  and  St10\n",
            " \n",
            "Seeing if states  St5  and  St8  can now be distinguished by any symbol.\n",
            "   The next states reached via symbol  1  are:  St7  and  St8\n",
            "   The next states reached via symbol  0  are:  BH  and  St9\n",
            " \n",
            "Seeing if states  St5  and  St1  can now be distinguished by any symbol.\n",
            "   The next states reached via symbol  1  are:  St7  and  St1\n",
            "   The next states reached via symbol  0  are:  BH  and  St3\n",
            " \n",
            "Seeing if states  St5  and  St3  can now be distinguished by any symbol.\n",
            "   The next states reached via symbol  1  are:  St7  and  St5\n",
            "   The next states reached via symbol  0  are:  BH  and  St4\n",
            " \n",
            "Seeing if states  St5  and  St4  can now be distinguished by any symbol.\n",
            "   The next states reached via symbol  1  are:  St7  and  St5\n",
            "   The next states reached via symbol  0  are:  BH  and  St4\n",
            " \n",
            "Seeing if states  St9  and  St7  can now be distinguished by any symbol.\n",
            "   The next states reached via symbol  1  are:  St6  and  St8\n",
            "***  Found a distinguishable pair !! ***\n",
            "      Since  ('St6', 'St8')  are  1  distinguishable, marking  ('St9', 'St7')  as  2  distinguishable.\n",
            "         Hence, must continue through one more sweep of the algorithm.\n",
            " \n",
            "Seeing if states  St9  and  St6  can now be distinguished by any symbol.\n",
            "   The next states reached via symbol  1  are:  St6  and  St7\n",
            "   The next states reached via symbol  0  are:  St10  and  BH\n",
            " \n",
            "Seeing if states  St9  and  St10  can now be distinguished by any symbol.\n",
            "   The next states reached via symbol  1  are:  St6  and  St6\n",
            "      Nope. Symbol  1  could not distinguish (the next states are the same).\n",
            "   The next states reached via symbol  0  are:  St10  and  St10\n",
            "      Nope. Symbol  0  could not distinguish (the next states are the same).\n",
            " \n",
            "Seeing if states  St9  and  St8  can now be distinguished by any symbol.\n",
            "   The next states reached via symbol  1  are:  St6  and  St8\n",
            "***  Found a distinguishable pair !! ***\n",
            "      Since  ('St6', 'St8')  are  1  distinguishable, marking  ('St9', 'St8')  as  2  distinguishable.\n",
            "         Hence, must continue through one more sweep of the algorithm.\n",
            " \n",
            "Seeing if states  St9  and  St1  can now be distinguished by any symbol.\n",
            "   The next states reached via symbol  1  are:  St6  and  St1\n",
            "***  Found a distinguishable pair !! ***\n",
            "      Since  ('St6', 'St1')  are  1  distinguishable, marking  ('St9', 'St1')  as  2  distinguishable.\n",
            "         Hence, must continue through one more sweep of the algorithm.\n",
            " \n",
            "Seeing if states  St9  and  St3  can now be distinguished by any symbol.\n",
            "   The next states reached via symbol  1  are:  St6  and  St5\n",
            "   Cannot distinguish yet, via  1\n",
            "   The next states reached via symbol  0  are:  St10  and  St4\n",
            "   Cannot distinguish yet, via  0\n",
            " \n",
            "Seeing if states  St9  and  St4  can now be distinguished by any symbol.\n",
            "   The next states reached via symbol  1  are:  St6  and  St5\n",
            "   Cannot distinguish yet, via  1\n",
            "   The next states reached via symbol  0  are:  St10  and  St4\n",
            "   Cannot distinguish yet, via  0\n",
            " \n",
            "Seeing if states  St7  and  St6  can now be distinguished by any symbol.\n",
            "   The next states reached via symbol  1  are:  St8  and  St7\n",
            "   The next states reached via symbol  0  are:  St9  and  BH\n",
            " \n",
            "Seeing if states  St7  and  St10  can now be distinguished by any symbol.\n",
            "   The next states reached via symbol  1  are:  St8  and  St6\n",
            "   Found a distinguishable pair!\n",
            "      Since  ('St8', 'St6')  are  1  distinguishable, marking  ('St7', 'St10')  as  2  distinguishable.\n",
            "         Hence, must continue through one more sweep of the algorithm.\n",
            " \n",
            "Seeing if states  St7  and  St8  can now be distinguished by any symbol.\n",
            "   The next states reached via symbol  1  are:  St8  and  St8\n",
            "      Nope. Symbol  1  could not distinguish (the next states are the same).\n",
            "   The next states reached via symbol  0  are:  St9  and  St9\n",
            "      Nope. Symbol  0  could not distinguish (the next states are the same).\n",
            " \n",
            "Seeing if states  St7  and  St1  can now be distinguished by any symbol.\n",
            "   The next states reached via symbol  1  are:  St8  and  St1\n",
            "   Cannot distinguish yet, via  1\n",
            "   The next states reached via symbol  0  are:  St9  and  St3\n",
            "   Cannot distinguish yet, via  0\n",
            " \n",
            "Seeing if states  St7  and  St3  can now be distinguished by any symbol.\n",
            "   The next states reached via symbol  1  are:  St8  and  St5\n",
            "   The next states reached via symbol  0  are:  St9  and  St4\n",
            " \n",
            "Seeing if states  St7  and  St4  can now be distinguished by any symbol.\n",
            "   The next states reached via symbol  1  are:  St8  and  St5\n",
            "   The next states reached via symbol  0  are:  St9  and  St4\n",
            " \n",
            "Seeing if states  St6  and  St10  can now be distinguished by any symbol.\n",
            "   The next states reached via symbol  1  are:  St7  and  St6\n",
            "   The next states reached via symbol  0  are:  BH  and  St10\n",
            " \n",
            "Seeing if states  St6  and  St8  can now be distinguished by any symbol.\n",
            "   The next states reached via symbol  1  are:  St7  and  St8\n",
            "   The next states reached via symbol  0  are:  BH  and  St9\n",
            " \n",
            "Seeing if states  St6  and  St1  can now be distinguished by any symbol.\n",
            "   The next states reached via symbol  1  are:  St7  and  St1\n",
            "   The next states reached via symbol  0  are:  BH  and  St3\n",
            " \n",
            "Seeing if states  St6  and  St3  can now be distinguished by any symbol.\n",
            "   The next states reached via symbol  1  are:  St7  and  St5\n",
            "   The next states reached via symbol  0  are:  BH  and  St4\n",
            " \n",
            "Seeing if states  St6  and  St4  can now be distinguished by any symbol.\n",
            "   The next states reached via symbol  1  are:  St7  and  St5\n",
            "   The next states reached via symbol  0  are:  BH  and  St4\n",
            " \n",
            "Seeing if states  St10  and  St8  can now be distinguished by any symbol.\n",
            "   The next states reached via symbol  1  are:  St6  and  St8\n",
            "   The next states reached via symbol  0  are:  St10  and  St9\n",
            " \n",
            "Seeing if states  St10  and  St1  can now be distinguished by any symbol.\n",
            "   The next states reached via symbol  1  are:  St6  and  St1\n",
            "   The next states reached via symbol  0  are:  St10  and  St3\n",
            " \n",
            "Seeing if states  St10  and  St3  can now be distinguished by any symbol.\n",
            "   The next states reached via symbol  1  are:  St6  and  St5\n",
            "   Cannot distinguish yet, via  1\n",
            "   The next states reached via symbol  0  are:  St10  and  St4\n",
            "   Cannot distinguish yet, via  0\n",
            " \n",
            "Seeing if states  St10  and  St4  can now be distinguished by any symbol.\n",
            "   The next states reached via symbol  1  are:  St6  and  St5\n",
            "   Cannot distinguish yet, via  1\n",
            "   The next states reached via symbol  0  are:  St10  and  St4\n",
            "   Cannot distinguish yet, via  0\n",
            " \n",
            "Seeing if states  St8  and  St1  can now be distinguished by any symbol.\n",
            "   The next states reached via symbol  1  are:  St8  and  St1\n",
            "   Cannot distinguish yet, via  1\n",
            "   The next states reached via symbol  0  are:  St9  and  St3\n",
            "   Cannot distinguish yet, via  0\n",
            " \n",
            "Seeing if states  St8  and  St3  can now be distinguished by any symbol.\n",
            "   The next states reached via symbol  1  are:  St8  and  St5\n",
            "   The next states reached via symbol  0  are:  St9  and  St4\n",
            " \n",
            "Seeing if states  St8  and  St4  can now be distinguished by any symbol.\n",
            "   The next states reached via symbol  1  are:  St8  and  St5\n",
            "   The next states reached via symbol  0  are:  St9  and  St4\n",
            " \n",
            "Seeing if states  St1  and  St3  can now be distinguished by any symbol.\n",
            "   The next states reached via symbol  1  are:  St1  and  St5\n",
            "   The next states reached via symbol  0  are:  St3  and  St4\n",
            " \n",
            "Seeing if states  St1  and  St4  can now be distinguished by any symbol.\n",
            "   The next states reached via symbol  1  are:  St1  and  St5\n",
            "   The next states reached via symbol  0  are:  St3  and  St4\n",
            " \n",
            "Seeing if states  St3  and  St4  can now be distinguished by any symbol.\n",
            "   The next states reached via symbol  1  are:  St5  and  St5\n",
            "      Nope. Symbol  1  could not distinguish (the next states are the same).\n",
            "   The next states reached via symbol  0  are:  St4  and  St4\n",
            "      Nope. Symbol  0  could not distinguish (the next states are the same).\n",
            "--------------------------------------------- \n",
            " Dyn Prog Table Version 2 is :\n",
            "--------------------------------------------- \n",
            "\t St5 \t 1\n",
            "\t BH \t 0\t0\n",
            "\t St9 \t 2\t1\t0\n",
            "\t St7 \t .\t1\t0\t2\n",
            "\t St6 \t 1\t.\t0\t1\t1\n",
            "\t St10 \t 2\t1\t0\t.\t2\t2\n",
            "\t St8 \t .\t1\t0\t2\t.\t1\t2\n",
            "\t St1 \t .\t1\t0\t2\t.\t1\t2\t.\n",
            "\t St3 \t 2\t2\t0\t.\t2\t2\t.\t2\t2\n",
            "\t St4 \t 2\t2\t0\t.\t2\t2\t.\t2\t2\t.\n",
            "\n",
            "\t\t St2\tSt5\tBH\tSt9\tSt7\tSt6\tSt10\tSt8\tSt1\tSt3\n",
            "--------------------------------------------- \n",
            " \n",
            "Seeing if states  St2  and  St5  can now be distinguished by any symbol.\n",
            "   The next states reached via symbol  1  are:  St1  and  St7\n",
            "   The next states reached via symbol  0  are:  St3  and  BH\n",
            " \n",
            "Seeing if states  St2  and  St9  can now be distinguished by any symbol.\n",
            "   The next states reached via symbol  1  are:  St1  and  St6\n",
            "   The next states reached via symbol  0  are:  St3  and  St10\n",
            " \n",
            "Seeing if states  St2  and  St7  can now be distinguished by any symbol.\n",
            "   The next states reached via symbol  1  are:  St1  and  St8\n",
            "   Cannot distinguish yet, via  1\n",
            "   The next states reached via symbol  0  are:  St3  and  St9\n",
            "   Cannot distinguish yet, via  0\n",
            " \n",
            "Seeing if states  St2  and  St6  can now be distinguished by any symbol.\n",
            "   The next states reached via symbol  1  are:  St1  and  St7\n",
            "   The next states reached via symbol  0  are:  St3  and  BH\n",
            " \n",
            "Seeing if states  St2  and  St10  can now be distinguished by any symbol.\n",
            "   The next states reached via symbol  1  are:  St1  and  St6\n",
            "   The next states reached via symbol  0  are:  St3  and  St10\n",
            " \n",
            "Seeing if states  St2  and  St8  can now be distinguished by any symbol.\n",
            "   The next states reached via symbol  1  are:  St1  and  St8\n",
            "   Cannot distinguish yet, via  1\n",
            "   The next states reached via symbol  0  are:  St3  and  St9\n",
            "   Cannot distinguish yet, via  0\n",
            " \n",
            "Seeing if states  St2  and  St1  can now be distinguished by any symbol.\n",
            "   The next states reached via symbol  1  are:  St1  and  St1\n",
            "      Nope. Symbol  1  could not distinguish (the next states are the same).\n",
            "   The next states reached via symbol  0  are:  St3  and  St3\n",
            "      Nope. Symbol  0  could not distinguish (the next states are the same).\n",
            " \n",
            "Seeing if states  St2  and  St3  can now be distinguished by any symbol.\n",
            "   The next states reached via symbol  1  are:  St1  and  St5\n",
            "   The next states reached via symbol  0  are:  St3  and  St4\n",
            " \n",
            "Seeing if states  St2  and  St4  can now be distinguished by any symbol.\n",
            "   The next states reached via symbol  1  are:  St1  and  St5\n",
            "   The next states reached via symbol  0  are:  St3  and  St4\n",
            " \n",
            "Seeing if states  St5  and  St9  can now be distinguished by any symbol.\n",
            "   The next states reached via symbol  1  are:  St7  and  St6\n",
            "   The next states reached via symbol  0  are:  BH  and  St10\n",
            " \n",
            "Seeing if states  St5  and  St7  can now be distinguished by any symbol.\n",
            "   The next states reached via symbol  1  are:  St7  and  St8\n",
            "   The next states reached via symbol  0  are:  BH  and  St9\n",
            " \n",
            "Seeing if states  St5  and  St6  can now be distinguished by any symbol.\n",
            "   The next states reached via symbol  1  are:  St7  and  St7\n",
            "      Nope. Symbol  1  could not distinguish (the next states are the same).\n",
            "   The next states reached via symbol  0  are:  BH  and  BH\n",
            "      Nope. Symbol  0  could not distinguish (the next states are the same).\n",
            " \n",
            "Seeing if states  St5  and  St10  can now be distinguished by any symbol.\n",
            "   The next states reached via symbol  1  are:  St7  and  St6\n",
            "   The next states reached via symbol  0  are:  BH  and  St10\n",
            " \n",
            "Seeing if states  St5  and  St8  can now be distinguished by any symbol.\n",
            "   The next states reached via symbol  1  are:  St7  and  St8\n",
            "   The next states reached via symbol  0  are:  BH  and  St9\n",
            " \n",
            "Seeing if states  St5  and  St1  can now be distinguished by any symbol.\n",
            "   The next states reached via symbol  1  are:  St7  and  St1\n",
            "   The next states reached via symbol  0  are:  BH  and  St3\n",
            " \n",
            "Seeing if states  St5  and  St3  can now be distinguished by any symbol.\n",
            "   The next states reached via symbol  1  are:  St7  and  St5\n",
            "   The next states reached via symbol  0  are:  BH  and  St4\n",
            " \n",
            "Seeing if states  St5  and  St4  can now be distinguished by any symbol.\n",
            "   The next states reached via symbol  1  are:  St7  and  St5\n",
            "   The next states reached via symbol  0  are:  BH  and  St4\n",
            " \n",
            "Seeing if states  St9  and  St7  can now be distinguished by any symbol.\n",
            "   The next states reached via symbol  1  are:  St6  and  St8\n",
            "   The next states reached via symbol  0  are:  St10  and  St9\n",
            " \n",
            "Seeing if states  St9  and  St6  can now be distinguished by any symbol.\n",
            "   The next states reached via symbol  1  are:  St6  and  St7\n",
            "   The next states reached via symbol  0  are:  St10  and  BH\n",
            " \n",
            "Seeing if states  St9  and  St10  can now be distinguished by any symbol.\n",
            "   The next states reached via symbol  1  are:  St6  and  St6\n",
            "      Nope. Symbol  1  could not distinguish (the next states are the same).\n",
            "   The next states reached via symbol  0  are:  St10  and  St10\n",
            "      Nope. Symbol  0  could not distinguish (the next states are the same).\n",
            " \n",
            "Seeing if states  St9  and  St8  can now be distinguished by any symbol.\n",
            "   The next states reached via symbol  1  are:  St6  and  St8\n",
            "   The next states reached via symbol  0  are:  St10  and  St9\n",
            " \n",
            "Seeing if states  St9  and  St1  can now be distinguished by any symbol.\n",
            "   The next states reached via symbol  1  are:  St6  and  St1\n",
            "   The next states reached via symbol  0  are:  St10  and  St3\n",
            " \n",
            "Seeing if states  St9  and  St3  can now be distinguished by any symbol.\n",
            "   The next states reached via symbol  1  are:  St6  and  St5\n",
            "   Cannot distinguish yet, via  1\n",
            "   The next states reached via symbol  0  are:  St10  and  St4\n",
            "   Cannot distinguish yet, via  0\n",
            " \n",
            "Seeing if states  St9  and  St4  can now be distinguished by any symbol.\n",
            "   The next states reached via symbol  1  are:  St6  and  St5\n",
            "   Cannot distinguish yet, via  1\n",
            "   The next states reached via symbol  0  are:  St10  and  St4\n",
            "   Cannot distinguish yet, via  0\n",
            " \n",
            "Seeing if states  St7  and  St6  can now be distinguished by any symbol.\n",
            "   The next states reached via symbol  1  are:  St8  and  St7\n",
            "   The next states reached via symbol  0  are:  St9  and  BH\n",
            " \n",
            "Seeing if states  St7  and  St10  can now be distinguished by any symbol.\n",
            "   The next states reached via symbol  1  are:  St8  and  St6\n",
            "   The next states reached via symbol  0  are:  St9  and  St10\n",
            " \n",
            "Seeing if states  St7  and  St8  can now be distinguished by any symbol.\n",
            "   The next states reached via symbol  1  are:  St8  and  St8\n",
            "      Nope. Symbol  1  could not distinguish (the next states are the same).\n",
            "   The next states reached via symbol  0  are:  St9  and  St9\n",
            "      Nope. Symbol  0  could not distinguish (the next states are the same).\n",
            " \n",
            "Seeing if states  St7  and  St1  can now be distinguished by any symbol.\n",
            "   The next states reached via symbol  1  are:  St8  and  St1\n",
            "   Cannot distinguish yet, via  1\n",
            "   The next states reached via symbol  0  are:  St9  and  St3\n",
            "   Cannot distinguish yet, via  0\n",
            " \n",
            "Seeing if states  St7  and  St3  can now be distinguished by any symbol.\n",
            "   The next states reached via symbol  1  are:  St8  and  St5\n",
            "   The next states reached via symbol  0  are:  St9  and  St4\n",
            " \n",
            "Seeing if states  St7  and  St4  can now be distinguished by any symbol.\n",
            "   The next states reached via symbol  1  are:  St8  and  St5\n",
            "   The next states reached via symbol  0  are:  St9  and  St4\n",
            " \n",
            "Seeing if states  St6  and  St10  can now be distinguished by any symbol.\n",
            "   The next states reached via symbol  1  are:  St7  and  St6\n",
            "   The next states reached via symbol  0  are:  BH  and  St10\n",
            " \n",
            "Seeing if states  St6  and  St8  can now be distinguished by any symbol.\n",
            "   The next states reached via symbol  1  are:  St7  and  St8\n",
            "   The next states reached via symbol  0  are:  BH  and  St9\n",
            " \n",
            "Seeing if states  St6  and  St1  can now be distinguished by any symbol.\n",
            "   The next states reached via symbol  1  are:  St7  and  St1\n",
            "   The next states reached via symbol  0  are:  BH  and  St3\n",
            " \n",
            "Seeing if states  St6  and  St3  can now be distinguished by any symbol.\n",
            "   The next states reached via symbol  1  are:  St7  and  St5\n",
            "   The next states reached via symbol  0  are:  BH  and  St4\n",
            " \n",
            "Seeing if states  St6  and  St4  can now be distinguished by any symbol.\n",
            "   The next states reached via symbol  1  are:  St7  and  St5\n",
            "   The next states reached via symbol  0  are:  BH  and  St4\n",
            " \n",
            "Seeing if states  St10  and  St8  can now be distinguished by any symbol.\n",
            "   The next states reached via symbol  1  are:  St6  and  St8\n",
            "   The next states reached via symbol  0  are:  St10  and  St9\n",
            " \n",
            "Seeing if states  St10  and  St1  can now be distinguished by any symbol.\n",
            "   The next states reached via symbol  1  are:  St6  and  St1\n",
            "   The next states reached via symbol  0  are:  St10  and  St3\n",
            " \n",
            "Seeing if states  St10  and  St3  can now be distinguished by any symbol.\n",
            "   The next states reached via symbol  1  are:  St6  and  St5\n",
            "   Cannot distinguish yet, via  1\n",
            "   The next states reached via symbol  0  are:  St10  and  St4\n",
            "   Cannot distinguish yet, via  0\n",
            " \n",
            "Seeing if states  St10  and  St4  can now be distinguished by any symbol.\n",
            "   The next states reached via symbol  1  are:  St6  and  St5\n",
            "   Cannot distinguish yet, via  1\n",
            "   The next states reached via symbol  0  are:  St10  and  St4\n",
            "   Cannot distinguish yet, via  0\n",
            " \n",
            "Seeing if states  St8  and  St1  can now be distinguished by any symbol.\n",
            "   The next states reached via symbol  1  are:  St8  and  St1\n",
            "   Cannot distinguish yet, via  1\n",
            "   The next states reached via symbol  0  are:  St9  and  St3\n",
            "   Cannot distinguish yet, via  0\n",
            " \n",
            "Seeing if states  St8  and  St3  can now be distinguished by any symbol.\n",
            "   The next states reached via symbol  1  are:  St8  and  St5\n",
            "   The next states reached via symbol  0  are:  St9  and  St4\n",
            " \n",
            "Seeing if states  St8  and  St4  can now be distinguished by any symbol.\n",
            "   The next states reached via symbol  1  are:  St8  and  St5\n",
            "   The next states reached via symbol  0  are:  St9  and  St4\n",
            " \n",
            "Seeing if states  St1  and  St3  can now be distinguished by any symbol.\n",
            "   The next states reached via symbol  1  are:  St1  and  St5\n",
            "   The next states reached via symbol  0  are:  St3  and  St4\n",
            " \n",
            "Seeing if states  St1  and  St4  can now be distinguished by any symbol.\n",
            "   The next states reached via symbol  1  are:  St1  and  St5\n",
            "   The next states reached via symbol  0  are:  St3  and  St4\n",
            " \n",
            "Seeing if states  St3  and  St4  can now be distinguished by any symbol.\n",
            "   The next states reached via symbol  1  are:  St5  and  St5\n",
            "      Nope. Symbol  1  could not distinguish (the next states are the same).\n",
            "   The next states reached via symbol  0  are:  St4  and  St4\n",
            "      Nope. Symbol  0  could not distinguish (the next states are the same).\n",
            "*** The Dyn Prog tables have stabilized at the one below ***\n",
            "--------------------------------------------- \n",
            " Dyn Prog Table Version 2 is :\n",
            "--------------------------------------------- \n",
            "\t St5 \t 1\n",
            "\t BH \t 0\t0\n",
            "\t St9 \t 2\t1\t0\n",
            "\t St7 \t .\t1\t0\t2\n",
            "\t St6 \t 1\t.\t0\t1\t1\n",
            "\t St10 \t 2\t1\t0\t.\t2\t2\n",
            "\t St8 \t .\t1\t0\t2\t.\t1\t2\n",
            "\t St1 \t .\t1\t0\t2\t.\t1\t2\t.\n",
            "\t St3 \t 2\t2\t0\t.\t2\t2\t.\t2\t2\n",
            "\t St4 \t 2\t2\t0\t.\t2\t2\t.\t2\t2\t.\n",
            "\n",
            "\t\t St2\tSt5\tBH\tSt9\tSt7\tSt6\tSt10\tSt8\tSt1\tSt3\n",
            "--------------------------------------------- \n",
            " \n",
            "Now, collecting equivalence-classes.\n",
            "   The equivalent pairs are:\n",
            "   The merged equivalent classes and representative states are these:\n",
            "State  St5  represents the equivalent states  ['St5', 'St6']\n",
            "State  St2  represents the equivalent states  ['St2', 'St7', 'St8', 'St1']\n",
            "State  St3  represents the equivalent states  ['St3', 'St10', 'St4', 'St9']\n"
          ]
        }
      ]
    },
    {
      "cell_type": "markdown",
      "source": [
        "------------------------------"
      ],
      "metadata": {
        "id": "Ut_D5up6cO72"
      }
    },
    {
      "cell_type": "markdown",
      "source": [
        "## Question-7"
      ],
      "metadata": {
        "id": "wjfoFlLacPD1"
      }
    },
    {
      "cell_type": "markdown",
      "source": [
        "-----------------------"
      ],
      "metadata": {
        "id": "AcgpTMVLcPD2"
      }
    },
    {
      "cell_type": "markdown",
      "source": [],
      "metadata": {
        "id": "w7pd9524cPD2"
      }
    },
    {
      "cell_type": "markdown",
      "source": [
        "------------------------------"
      ],
      "metadata": {
        "id": "71UlvWhZcPD2"
      }
    },
    {
      "cell_type": "markdown",
      "source": [
        "## Question-8"
      ],
      "metadata": {
        "id": "UmS5QLPecPLx"
      }
    },
    {
      "cell_type": "markdown",
      "source": [
        "-----------------------"
      ],
      "metadata": {
        "id": "E1cVZQL9cPLy"
      }
    },
    {
      "cell_type": "markdown",
      "source": [],
      "metadata": {
        "id": "1IKCZQZvcPLy"
      }
    },
    {
      "cell_type": "markdown",
      "source": [
        "------------------------------"
      ],
      "metadata": {
        "id": "wAIIk_DBcPLy"
      }
    },
    {
      "cell_type": "markdown",
      "source": [
        "## Question-9"
      ],
      "metadata": {
        "id": "Q0BQWCNGcP56"
      }
    },
    {
      "cell_type": "markdown",
      "source": [
        "-----------------------"
      ],
      "metadata": {
        "id": "wJxLWe__cP6S"
      }
    },
    {
      "cell_type": "markdown",
      "source": [],
      "metadata": {
        "id": "0ZC-Lwq2cP6T"
      }
    },
    {
      "cell_type": "markdown",
      "source": [
        "------------------------------"
      ],
      "metadata": {
        "id": "t6RC8AkTcP6T"
      }
    },
    {
      "cell_type": "markdown",
      "source": [
        "## Question-10"
      ],
      "metadata": {
        "id": "BROVL0ZvcQb7"
      }
    },
    {
      "cell_type": "markdown",
      "source": [
        "-----------------------"
      ],
      "metadata": {
        "id": "f_VfFdIJcQb7"
      }
    },
    {
      "cell_type": "markdown",
      "source": [],
      "metadata": {
        "id": "29QA7JbEcQb7"
      }
    },
    {
      "cell_type": "markdown",
      "source": [
        "------------------------------"
      ],
      "metadata": {
        "id": "d_8sksgUcQb7"
      }
    },
    {
      "cell_type": "markdown",
      "source": [
        "### This notebook BELOW was assigned for MT1 practice in 2022. You can see that below this text box and keep that in mind as a learning goal. But above this text box, I have set material for Quiz-5 that gradually builds toward this goal."
      ],
      "metadata": {
        "id": "5Xhm2yl6auD7"
      }
    },
    {
      "cell_type": "code",
      "source": [],
      "metadata": {
        "id": "Vyvcj6p_atJ1"
      },
      "execution_count": null,
      "outputs": []
    },
    {
      "cell_type": "code",
      "execution_count": null,
      "metadata": {
        "id": "LevUiceMaGbq"
      },
      "outputs": [],
      "source": [
        "def diff_RE(R1,R2):\n",
        "    '''\n",
        "    Given R1 and R2, here is the the code to return (D1,D2)\n",
        "    where D1 is the min DFA of Lang(R1)-Lang(R2)\n",
        "    and D2 is the min DFA of Lang(R2)-Lang(R1)\n",
        "    '''\n",
        "    MD1=min_dfa_brz(nfa2dfa(re2nfa(R1)))\n",
        "    MD2=min_dfa_brz(nfa2dfa(re2nfa(R2)))\n",
        "\n",
        "    cMD1 = comp_dfa(MD1)\n",
        "    cMD2 = comp_dfa(MD2)\n",
        "\n",
        "    D1minus2 = min_dfa_brz(intersect_dfa(MD1, cMD2))\n",
        "    D2minus1 = min_dfa_brz(intersect_dfa(MD2, cMD1))\n",
        "\n",
        "    return (D1minus2, D2minus1)\n"
      ]
    },
    {
      "cell_type": "code",
      "execution_count": null,
      "metadata": {
        "id": "4igigBFdaGbr"
      },
      "outputs": [],
      "source": [
        "# Sigma = {0,1}; \"2n zeros for n >= 0\"\n",
        "\n",
        "RE2 = \"(1* 0 1* 0 1*)*\"\n",
        "m2 = min_dfa(nfa2dfa(re2nfa(RE2)))\n",
        "dotObj_dfa(m2)"
      ]
    },
    {
      "cell_type": "code",
      "execution_count": null,
      "metadata": {
        "id": "2384OJ5kaGbr"
      },
      "outputs": [],
      "source": [
        "dotObj_dfa(m2).render('m2')"
      ]
    },
    {
      "cell_type": "code",
      "execution_count": null,
      "metadata": {
        "id": "uuXocgCraGbr"
      },
      "outputs": [],
      "source": [
        "# 3n 0's, n >= 0\n",
        "\n",
        "RE3 = \"(1* 0 1* 0 1* 0 1*)*\"\n",
        "m3 = min_dfa(nfa2dfa(re2nfa(RE3)))\n",
        "dotObj_dfa(m3)"
      ]
    },
    {
      "cell_type": "code",
      "execution_count": null,
      "metadata": {
        "id": "F8dtAPUPaGbs"
      },
      "outputs": [],
      "source": [
        "dotObj_dfa(m3).render('m3')"
      ]
    },
    {
      "cell_type": "code",
      "execution_count": null,
      "metadata": {
        "scrolled": true,
        "id": "TtBQMDqDaGbs"
      },
      "outputs": [],
      "source": [
        "dfa2big = nfa2dfa(re2nfa(RE2))\n",
        "dotObj_dfa(dfa2big)"
      ]
    },
    {
      "cell_type": "code",
      "execution_count": null,
      "metadata": {
        "id": "uZhaBureaGbt"
      },
      "outputs": [],
      "source": [
        "dfa_unmin = md2mc('''\n",
        "\n",
        "DFA\n",
        "IF : 1  ->  St3\n",
        "IF : 0  ->  St4\n",
        "St4: 0  ->  F0\n",
        "St4: 1  ->  St5\n",
        "St3: 0  ->  St4\n",
        "St3: 1  ->  St3\n",
        "F0 : 0  ->  St4\n",
        "F0 : 1  ->  F1\n",
        "St5: 0  ->  F0\n",
        "St5: 1  ->  St5\n",
        "F1 : 0  ->  St4\n",
        "F1 : 1  ->  F1\n",
        "''')"
      ]
    },
    {
      "cell_type": "code",
      "execution_count": null,
      "metadata": {
        "id": "075FXHYBaGbt"
      },
      "outputs": [],
      "source": [
        "dotObj_dfa(dfa_unmin).render('dfa_unmin')"
      ]
    },
    {
      "cell_type": "code",
      "execution_count": null,
      "metadata": {
        "id": "nN02G8GVaGbt"
      },
      "outputs": [],
      "source": [
        "dfa_min = min_dfa(dfa_unmin, state_name_mode = 'verbose', chatty=True)"
      ]
    },
    {
      "cell_type": "code",
      "execution_count": null,
      "metadata": {
        "id": "jYeDe82WaGbu"
      },
      "outputs": [],
      "source": [
        "dfa_unmin_rev = rev_dfa(dfa_unmin)"
      ]
    },
    {
      "cell_type": "code",
      "execution_count": null,
      "metadata": {
        "id": "g9taMin-aGbu"
      },
      "outputs": [],
      "source": [
        "dotObj_nfa(dfa_unmin_rev).render('dfa_unmin_rev')"
      ]
    },
    {
      "cell_type": "code",
      "execution_count": null,
      "metadata": {
        "id": "OIewigv0aGbu"
      },
      "outputs": [],
      "source": [
        "help(nfa2dfa)"
      ]
    },
    {
      "cell_type": "code",
      "execution_count": null,
      "metadata": {
        "id": "tkC-M4xoaGbu"
      },
      "outputs": [],
      "source": [
        "dotObj_nfa(dfa_unmin_rev)"
      ]
    },
    {
      "cell_type": "code",
      "execution_count": null,
      "metadata": {
        "id": "eLz0OY31aGbu"
      },
      "outputs": [],
      "source": [
        "dfa_unmin_rev_det = nfa2dfa(dfa_unmin_rev, STATENAME_MAXSIZE=80)"
      ]
    },
    {
      "cell_type": "code",
      "execution_count": null,
      "metadata": {
        "id": "jTM-Yck0aGbv"
      },
      "outputs": [],
      "source": [
        "dotObj_dfa(dfa_unmin_rev_det, STATENAME_MAXSIZE=80)"
      ]
    },
    {
      "cell_type": "code",
      "execution_count": null,
      "metadata": {
        "id": "3sMnG5T5aGbv"
      },
      "outputs": [],
      "source": [
        "dotObj_dfa(dfa_unmin_rev_det, STATENAME_MAXSIZE=80).render('dfa_unmin_rev_det')"
      ]
    },
    {
      "cell_type": "code",
      "execution_count": null,
      "metadata": {
        "id": "0zhfpvB1aGbv"
      },
      "outputs": [],
      "source": [
        "dotObj_dfa(dfa_min)"
      ]
    },
    {
      "cell_type": "code",
      "execution_count": null,
      "metadata": {
        "id": "tVABLk95aGbv"
      },
      "outputs": [],
      "source": [
        "mEven0_mOdd0 = intersect_dfa(m2,m3)"
      ]
    },
    {
      "cell_type": "code",
      "execution_count": null,
      "metadata": {
        "id": "TDq1srxyaGbv"
      },
      "outputs": [],
      "source": [
        "dotObj_dfa(mEven0_mOdd0)"
      ]
    },
    {
      "cell_type": "code",
      "execution_count": null,
      "metadata": {
        "id": "OWYLdOp1aGbv"
      },
      "outputs": [],
      "source": [
        "dotObj_dfa(mEven0_mOdd0).render('m2_and_m3')"
      ]
    },
    {
      "cell_type": "code",
      "execution_count": null,
      "metadata": {
        "id": "em-SzKJYaGbv"
      },
      "outputs": [],
      "source": [
        "nfa0s1s0 = re2nfa(\"0* 1* 0\")\n",
        "dotObj_nfa(nfa0s1s0)"
      ]
    },
    {
      "cell_type": "code",
      "execution_count": null,
      "metadata": {
        "id": "A1lwIAvoaGbw"
      },
      "outputs": [],
      "source": [
        "dotObj_nfa(nfa0s1s0).render('nfa0s1s0')"
      ]
    },
    {
      "cell_type": "code",
      "execution_count": null,
      "metadata": {
        "id": "SJ9YjNIZaGbw"
      },
      "outputs": [],
      "source": [
        "dfa0s1s0 = nfa2dfa(nfa0s1s0, STATENAME_MAXSIZE=80)"
      ]
    },
    {
      "cell_type": "code",
      "execution_count": null,
      "metadata": {
        "id": "OuTCB-K1aGbw"
      },
      "outputs": [],
      "source": [
        "dotObj_dfa(dfa0s1s0, STATENAME_MAXSIZE=80)"
      ]
    },
    {
      "cell_type": "code",
      "execution_count": null,
      "metadata": {
        "id": "XWrZIQFZaGbw"
      },
      "outputs": [],
      "source": [
        "dotObj_dfa(dfa0s1s0, STATENAME_MAXSIZE=80).render('dfa0s1s0')"
      ]
    },
    {
      "cell_type": "code",
      "execution_count": null,
      "metadata": {
        "id": "ZtPRNFhoaGbw"
      },
      "outputs": [],
      "source": []
    },
    {
      "cell_type": "code",
      "execution_count": null,
      "metadata": {
        "id": "SfoApC0GaGbw"
      },
      "outputs": [],
      "source": []
    },
    {
      "cell_type": "code",
      "execution_count": null,
      "metadata": {
        "id": "SR5GqoOHaGbw"
      },
      "outputs": [],
      "source": [
        "no010 = md2mc('''\n",
        "DFA\n",
        "IF : 1 -> IF\n",
        "IF : 0 -> F0\n",
        "\n",
        "F0 : 0 -> F0\n",
        "F0 : 1 -> F1\n",
        "\n",
        "F1 : 0 -> BH\n",
        "F1 : 1 -> IF\n",
        "\n",
        "BH : 0|1 -> BH\n",
        "\n",
        "''')"
      ]
    },
    {
      "cell_type": "code",
      "execution_count": null,
      "metadata": {
        "id": "K65WBTvxaGbw"
      },
      "outputs": [],
      "source": [
        "dotObj_dfa(no010)"
      ]
    },
    {
      "cell_type": "code",
      "execution_count": null,
      "metadata": {
        "id": "rnjpx4XxaGbx"
      },
      "outputs": [],
      "source": [
        "dotObj_dfa(no010).render('no010')"
      ]
    },
    {
      "cell_type": "markdown",
      "metadata": {
        "id": "5fQJElIGaGbx"
      },
      "source": [
        "# To verify, define has010 and intersect."
      ]
    },
    {
      "cell_type": "code",
      "execution_count": null,
      "metadata": {
        "id": "aOKBeuZVaGby"
      },
      "outputs": [],
      "source": [
        "has010 = min_dfa(nfa2dfa(re2nfa(\"(0+1)*010(010)*\")))"
      ]
    },
    {
      "cell_type": "code",
      "execution_count": null,
      "metadata": {
        "id": "Jeg_Cyk2aGby"
      },
      "outputs": [],
      "source": [
        "dotObj_dfa(has010)"
      ]
    },
    {
      "cell_type": "code",
      "execution_count": null,
      "metadata": {
        "id": "8jSgPx9jaGby"
      },
      "outputs": [],
      "source": [
        "no010_and_has010 = intersect_dfa(no010, has010)"
      ]
    },
    {
      "cell_type": "code",
      "execution_count": null,
      "metadata": {
        "id": "AgpGpEPraGby"
      },
      "outputs": [],
      "source": [
        "dotObj_dfa(no010_and_has010)"
      ]
    },
    {
      "cell_type": "code",
      "execution_count": 87,
      "metadata": {
        "id": "LLR-LQM4aGby",
        "colab": {
          "base_uri": "https://localhost:8080/",
          "height": 194
        },
        "outputId": "07e8e4b2-b6f9-4dee-f414-bf90a13bf777"
      },
      "outputs": [
        {
          "output_type": "execute_result",
          "data": {
            "image/svg+xml": "<?xml version=\"1.0\" encoding=\"UTF-8\" standalone=\"no\"?>\n<!DOCTYPE svg PUBLIC \"-//W3C//DTD SVG 1.1//EN\"\n \"http://www.w3.org/Graphics/SVG/1.1/DTD/svg11.dtd\">\n<!-- Generated by graphviz version 2.43.0 (0)\n -->\n<!-- Title: %3 Pages: 1 -->\n<svg width=\"335pt\" height=\"130pt\"\n viewBox=\"0.00 0.00 335.29 130.30\" xmlns=\"http://www.w3.org/2000/svg\" xmlns:xlink=\"http://www.w3.org/1999/xlink\">\n<g id=\"graph0\" class=\"graph\" transform=\"scale(1 1) rotate(0) translate(4 126.3)\">\n<title>%3</title>\n<polygon fill=\"white\" stroke=\"transparent\" points=\"-4,4 -4,-126.3 331.29,-126.3 331.29,4 -4,4\"/>\n<!-- EMPTY -->\n<g id=\"node1\" class=\"node\">\n<title>EMPTY</title>\n</g>\n<!-- IF -->\n<g id=\"node3\" class=\"node\">\n<title>IF</title>\n<ellipse fill=\"none\" stroke=\"black\" cx=\"113.85\" cy=\"-24.15\" rx=\"18.72\" ry=\"18.72\"/>\n<ellipse fill=\"none\" stroke=\"black\" cx=\"113.85\" cy=\"-24.15\" rx=\"22.7\" ry=\"22.7\"/>\n<text text-anchor=\"middle\" x=\"113.85\" y=\"-20.45\" font-family=\"Times,serif\" font-size=\"14.00\">IF</text>\n</g>\n<!-- EMPTY&#45;&gt;IF -->\n<g id=\"edge1\" class=\"edge\">\n<title>EMPTY&#45;&gt;IF</title>\n<path fill=\"none\" stroke=\"black\" d=\"M54.38,-24.15C62.68,-24.15 71.94,-24.15 80.6,-24.15\"/>\n<polygon fill=\"black\" stroke=\"black\" points=\"80.76,-27.65 90.76,-24.15 80.76,-20.65 80.76,-27.65\"/>\n</g>\n<!-- F0 -->\n<g id=\"node2\" class=\"node\">\n<title>F0</title>\n<ellipse fill=\"none\" stroke=\"black\" cx=\"207.84\" cy=\"-65.15\" rx=\"20.27\" ry=\"20.27\"/>\n<ellipse fill=\"none\" stroke=\"black\" cx=\"207.84\" cy=\"-65.15\" rx=\"24.3\" ry=\"24.3\"/>\n<text text-anchor=\"middle\" x=\"207.84\" y=\"-61.45\" font-family=\"Times,serif\" font-size=\"14.00\">F0</text>\n</g>\n<!-- F0&#45;&gt;F0 -->\n<g id=\"edge4\" class=\"edge\">\n<title>F0&#45;&gt;F0</title>\n<path fill=\"none\" stroke=\"black\" d=\"M199.35,-88.13C198.55,-98.41 201.38,-107.3 207.84,-107.3 211.99,-107.3 214.64,-103.65 215.8,-98.32\"/>\n<polygon fill=\"black\" stroke=\"black\" points=\"219.3,-98.3 216.34,-88.13 212.31,-97.93 219.3,-98.3\"/>\n<text text-anchor=\"middle\" x=\"207.84\" y=\"-111.1\" font-family=\"Times,serif\" font-size=\"14.00\">0 </text>\n</g>\n<!-- F1 -->\n<g id=\"node4\" class=\"node\">\n<title>F1</title>\n<ellipse fill=\"none\" stroke=\"black\" cx=\"303.14\" cy=\"-24.15\" rx=\"20.27\" ry=\"20.27\"/>\n<ellipse fill=\"none\" stroke=\"black\" cx=\"303.14\" cy=\"-24.15\" rx=\"24.3\" ry=\"24.3\"/>\n<text text-anchor=\"middle\" x=\"303.14\" y=\"-20.45\" font-family=\"Times,serif\" font-size=\"14.00\">F1</text>\n</g>\n<!-- F0&#45;&gt;F1 -->\n<g id=\"edge5\" class=\"edge\">\n<title>F0&#45;&gt;F1</title>\n<path fill=\"none\" stroke=\"black\" d=\"M230.48,-55.64C242.61,-50.31 257.94,-43.57 271.31,-37.7\"/>\n<polygon fill=\"black\" stroke=\"black\" points=\"272.87,-40.83 280.62,-33.61 270.06,-34.42 272.87,-40.83\"/>\n<text text-anchor=\"middle\" x=\"255.49\" y=\"-48.95\" font-family=\"Times,serif\" font-size=\"14.00\">1 </text>\n</g>\n<!-- IF&#45;&gt;F0 -->\n<g id=\"edge3\" class=\"edge\">\n<title>IF&#45;&gt;F0</title>\n<path fill=\"none\" stroke=\"black\" d=\"M135.27,-33.25C147.28,-38.6 162.7,-45.48 176.16,-51.47\"/>\n<polygon fill=\"black\" stroke=\"black\" points=\"174.97,-54.77 185.53,-55.65 177.82,-48.38 174.97,-54.77\"/>\n<text text-anchor=\"middle\" x=\"160.2\" y=\"-48.95\" font-family=\"Times,serif\" font-size=\"14.00\">0 </text>\n</g>\n<!-- IF&#45;&gt;IF -->\n<g id=\"edge2\" class=\"edge\">\n<title>IF&#45;&gt;IF</title>\n<path fill=\"none\" stroke=\"black\" d=\"M106.5,-46C105.69,-56.14 108.15,-65 113.85,-65 117.5,-65 119.82,-61.36 120.8,-56.08\"/>\n<polygon fill=\"black\" stroke=\"black\" points=\"124.31,-56.13 121.2,-46 117.31,-55.86 124.31,-56.13\"/>\n<text text-anchor=\"middle\" x=\"113.85\" y=\"-68.8\" font-family=\"Times,serif\" font-size=\"14.00\">1 </text>\n</g>\n<!-- F1&#45;&gt;IF -->\n<g id=\"edge6\" class=\"edge\">\n<title>F1&#45;&gt;IF</title>\n<path fill=\"none\" stroke=\"black\" d=\"M279.12,-21.27C265.45,-19.7 247.76,-17.93 231.99,-17.15 210.55,-16.08 205.13,-16.06 183.7,-17.15 171.66,-17.76 158.49,-18.96 146.92,-20.21\"/>\n<polygon fill=\"black\" stroke=\"black\" points=\"146.37,-16.75 136.82,-21.34 147.15,-23.7 146.37,-16.75\"/>\n<text text-anchor=\"middle\" x=\"207.84\" y=\"-20.95\" font-family=\"Times,serif\" font-size=\"14.00\">1 </text>\n</g>\n</g>\n</svg>\n",
            "text/plain": [
              "<graphviz.graphs.Digraph at 0x7b4818160760>"
            ]
          },
          "metadata": {},
          "execution_count": 87
        }
      ],
      "source": [
        "dotObj_dfa(no010)"
      ]
    },
    {
      "cell_type": "code",
      "execution_count": 88,
      "metadata": {
        "id": "DOhyKXvoaGby"
      },
      "outputs": [],
      "source": [
        "REno010 =   \"1* ( '' + 00* ( '' + 1(11*00*1)* ( '' + 11* ( '' + 00* ))))\""
      ]
    },
    {
      "cell_type": "code",
      "execution_count": 90,
      "metadata": {
        "id": "Yns2YKZbaGbz",
        "colab": {
          "base_uri": "https://localhost:8080/"
        },
        "outputId": "f693829c-dff4-4662-aa6c-e94d7bd8c31b"
      },
      "outputs": [
        {
          "output_type": "stream",
          "name": "stdout",
          "text": [
            "Separating final and non-final states (marking 0-distinguishable entries).\n",
            "Separating final and non-final states (marking 0-distinguishable entries).\n",
            "   The 0-distinguishable entries are:\n",
            "States  St2  and  BH  are 0-distinguished.\n",
            "States  St5  and  BH  are 0-distinguished.\n",
            "States  BH  and  St9  are 0-distinguished.\n",
            "States  BH  and  St7  are 0-distinguished.\n",
            "States  BH  and  St6  are 0-distinguished.\n",
            "States  BH  and  St10  are 0-distinguished.\n",
            "States  BH  and  St8  are 0-distinguished.\n",
            "States  BH  and  St1  are 0-distinguished.\n",
            "States  BH  and  St3  are 0-distinguished.\n",
            "States  BH  and  St4  are 0-distinguished.\n",
            "--------------------------------------------- \n",
            " Dyn Prog Table Version 0 is :\n",
            "--------------------------------------------- \n",
            "\t St5 \t .\n",
            "\t BH \t 0\t0\n",
            "\t St9 \t .\t.\t0\n",
            "\t St7 \t .\t.\t0\t.\n",
            "\t St6 \t .\t.\t0\t.\t.\n",
            "\t St10 \t .\t.\t0\t.\t.\t.\n",
            "\t St8 \t .\t.\t0\t.\t.\t.\t.\n",
            "\t St1 \t .\t.\t0\t.\t.\t.\t.\t.\n",
            "\t St3 \t .\t.\t0\t.\t.\t.\t.\t.\t.\n",
            "\t St4 \t .\t.\t0\t.\t.\t.\t.\t.\t.\t.\n",
            "\n",
            "\t\t St2\tSt5\tBH\tSt9\tSt7\tSt6\tSt10\tSt8\tSt1\tSt3\n",
            "--------------------------------------------- \n",
            " \n",
            "Seeing if states  St2  and  St5  can now be distinguished by any symbol.\n",
            "   The next states reached via symbol  1  are:  St1  and  St7\n",
            "   Cannot distinguish yet, via  1\n",
            "   The next states reached via symbol  0  are:  St3  and  BH\n",
            "   Found a distinguishable pair!\n",
            "      Since  ('St3', 'BH')  are  0  distinguishable, marking  ('St2', 'St5')  as  1  distinguishable.\n",
            "         Hence, must continue through one more sweep of the algorithm.\n",
            " \n",
            "Seeing if states  St2  and  St9  can now be distinguished by any symbol.\n",
            "   The next states reached via symbol  1  are:  St1  and  St6\n",
            "   Cannot distinguish yet, via  1\n",
            "   The next states reached via symbol  0  are:  St3  and  St10\n",
            "   Cannot distinguish yet, via  0\n",
            " \n",
            "Seeing if states  St2  and  St7  can now be distinguished by any symbol.\n",
            "   The next states reached via symbol  1  are:  St1  and  St8\n",
            "   Cannot distinguish yet, via  1\n",
            "   The next states reached via symbol  0  are:  St3  and  St9\n",
            "   Cannot distinguish yet, via  0\n",
            " \n",
            "Seeing if states  St2  and  St6  can now be distinguished by any symbol.\n",
            "   The next states reached via symbol  1  are:  St1  and  St7\n",
            "   Cannot distinguish yet, via  1\n",
            "   The next states reached via symbol  0  are:  St3  and  BH\n",
            "   Found a distinguishable pair!\n",
            "      Since  ('St3', 'BH')  are  0  distinguishable, marking  ('St2', 'St6')  as  1  distinguishable.\n",
            "         Hence, must continue through one more sweep of the algorithm.\n",
            " \n",
            "Seeing if states  St2  and  St10  can now be distinguished by any symbol.\n",
            "   The next states reached via symbol  1  are:  St1  and  St6\n",
            "   Cannot distinguish yet, via  1\n",
            "   The next states reached via symbol  0  are:  St3  and  St10\n",
            "   Cannot distinguish yet, via  0\n",
            " \n",
            "Seeing if states  St2  and  St8  can now be distinguished by any symbol.\n",
            "   The next states reached via symbol  1  are:  St1  and  St8\n",
            "   Cannot distinguish yet, via  1\n",
            "   The next states reached via symbol  0  are:  St3  and  St9\n",
            "   Cannot distinguish yet, via  0\n",
            " \n",
            "Seeing if states  St2  and  St1  can now be distinguished by any symbol.\n",
            "   The next states reached via symbol  1  are:  St1  and  St1\n",
            "      Nope. Symbol  1  could not distinguish (the next states are the same).\n",
            "   The next states reached via symbol  0  are:  St3  and  St3\n",
            "      Nope. Symbol  0  could not distinguish (the next states are the same).\n",
            " \n",
            "Seeing if states  St2  and  St3  can now be distinguished by any symbol.\n",
            "   The next states reached via symbol  1  are:  St1  and  St5\n",
            "   Cannot distinguish yet, via  1\n",
            "   The next states reached via symbol  0  are:  St3  and  St4\n",
            "   Cannot distinguish yet, via  0\n",
            " \n",
            "Seeing if states  St2  and  St4  can now be distinguished by any symbol.\n",
            "   The next states reached via symbol  1  are:  St1  and  St5\n",
            "   Cannot distinguish yet, via  1\n",
            "   The next states reached via symbol  0  are:  St3  and  St4\n",
            "   Cannot distinguish yet, via  0\n",
            " \n",
            "Seeing if states  St5  and  St9  can now be distinguished by any symbol.\n",
            "   The next states reached via symbol  1  are:  St7  and  St6\n",
            "   Cannot distinguish yet, via  1\n",
            "   The next states reached via symbol  0  are:  BH  and  St10\n",
            "***  Found a distinguishable pair !! ***\n",
            "      Since  ('BH', 'St10')  are  0  distinguishable, marking  ('St5', 'St9')  as  1  distinguishable.\n",
            "         Hence, must continue through one more sweep of the algorithm.\n",
            " \n",
            "Seeing if states  St5  and  St7  can now be distinguished by any symbol.\n",
            "   The next states reached via symbol  1  are:  St7  and  St8\n",
            "   Cannot distinguish yet, via  1\n",
            "   The next states reached via symbol  0  are:  BH  and  St9\n",
            "***  Found a distinguishable pair !! ***\n",
            "      Since  ('BH', 'St9')  are  0  distinguishable, marking  ('St5', 'St7')  as  1  distinguishable.\n",
            "         Hence, must continue through one more sweep of the algorithm.\n",
            " \n",
            "Seeing if states  St5  and  St6  can now be distinguished by any symbol.\n",
            "   The next states reached via symbol  1  are:  St7  and  St7\n",
            "      Nope. Symbol  1  could not distinguish (the next states are the same).\n",
            "   The next states reached via symbol  0  are:  BH  and  BH\n",
            "      Nope. Symbol  0  could not distinguish (the next states are the same).\n",
            " \n",
            "Seeing if states  St5  and  St10  can now be distinguished by any symbol.\n",
            "   The next states reached via symbol  1  are:  St7  and  St6\n",
            "   Cannot distinguish yet, via  1\n",
            "   The next states reached via symbol  0  are:  BH  and  St10\n",
            "***  Found a distinguishable pair !! ***\n",
            "      Since  ('BH', 'St10')  are  0  distinguishable, marking  ('St5', 'St10')  as  1  distinguishable.\n",
            "         Hence, must continue through one more sweep of the algorithm.\n",
            " \n",
            "Seeing if states  St5  and  St8  can now be distinguished by any symbol.\n",
            "   The next states reached via symbol  1  are:  St7  and  St8\n",
            "   Cannot distinguish yet, via  1\n",
            "   The next states reached via symbol  0  are:  BH  and  St9\n",
            "***  Found a distinguishable pair !! ***\n",
            "      Since  ('BH', 'St9')  are  0  distinguishable, marking  ('St5', 'St8')  as  1  distinguishable.\n",
            "         Hence, must continue through one more sweep of the algorithm.\n",
            " \n",
            "Seeing if states  St5  and  St1  can now be distinguished by any symbol.\n",
            "   The next states reached via symbol  1  are:  St7  and  St1\n",
            "   Cannot distinguish yet, via  1\n",
            "   The next states reached via symbol  0  are:  BH  and  St3\n",
            "***  Found a distinguishable pair !! ***\n",
            "      Since  ('BH', 'St3')  are  0  distinguishable, marking  ('St5', 'St1')  as  1  distinguishable.\n",
            "         Hence, must continue through one more sweep of the algorithm.\n",
            " \n",
            "Seeing if states  St5  and  St3  can now be distinguished by any symbol.\n",
            "   The next states reached via symbol  1  are:  St7  and  St5\n",
            "   Found a distinguishable pair!\n",
            "      Since  ('St7', 'St5')  are  1  distinguishable, marking  ('St5', 'St3')  as  2  distinguishable.\n",
            "         Hence, must continue through one more sweep of the algorithm.\n",
            " \n",
            "Seeing if states  St5  and  St4  can now be distinguished by any symbol.\n",
            "   The next states reached via symbol  1  are:  St7  and  St5\n",
            "   Found a distinguishable pair!\n",
            "      Since  ('St7', 'St5')  are  1  distinguishable, marking  ('St5', 'St4')  as  2  distinguishable.\n",
            "         Hence, must continue through one more sweep of the algorithm.\n",
            " \n",
            "Seeing if states  St9  and  St7  can now be distinguished by any symbol.\n",
            "   The next states reached via symbol  1  are:  St6  and  St8\n",
            "   Cannot distinguish yet, via  1\n",
            "   The next states reached via symbol  0  are:  St10  and  St9\n",
            "   Cannot distinguish yet, via  0\n",
            " \n",
            "Seeing if states  St9  and  St6  can now be distinguished by any symbol.\n",
            "   The next states reached via symbol  1  are:  St6  and  St7\n",
            "   Cannot distinguish yet, via  1\n",
            "   The next states reached via symbol  0  are:  St10  and  BH\n",
            "   Found a distinguishable pair!\n",
            "      Since  ('St10', 'BH')  are  0  distinguishable, marking  ('St9', 'St6')  as  1  distinguishable.\n",
            "         Hence, must continue through one more sweep of the algorithm.\n",
            " \n",
            "Seeing if states  St9  and  St10  can now be distinguished by any symbol.\n",
            "   The next states reached via symbol  1  are:  St6  and  St6\n",
            "      Nope. Symbol  1  could not distinguish (the next states are the same).\n",
            "   The next states reached via symbol  0  are:  St10  and  St10\n",
            "      Nope. Symbol  0  could not distinguish (the next states are the same).\n",
            " \n",
            "Seeing if states  St9  and  St8  can now be distinguished by any symbol.\n",
            "   The next states reached via symbol  1  are:  St6  and  St8\n",
            "   Cannot distinguish yet, via  1\n",
            "   The next states reached via symbol  0  are:  St10  and  St9\n",
            "   Cannot distinguish yet, via  0\n",
            " \n",
            "Seeing if states  St9  and  St1  can now be distinguished by any symbol.\n",
            "   The next states reached via symbol  1  are:  St6  and  St1\n",
            "   Cannot distinguish yet, via  1\n",
            "   The next states reached via symbol  0  are:  St10  and  St3\n",
            "   Cannot distinguish yet, via  0\n",
            " \n",
            "Seeing if states  St9  and  St3  can now be distinguished by any symbol.\n",
            "   The next states reached via symbol  1  are:  St6  and  St5\n",
            "   Cannot distinguish yet, via  1\n",
            "   The next states reached via symbol  0  are:  St10  and  St4\n",
            "   Cannot distinguish yet, via  0\n",
            " \n",
            "Seeing if states  St9  and  St4  can now be distinguished by any symbol.\n",
            "   The next states reached via symbol  1  are:  St6  and  St5\n",
            "   Cannot distinguish yet, via  1\n",
            "   The next states reached via symbol  0  are:  St10  and  St4\n",
            "   Cannot distinguish yet, via  0\n",
            " \n",
            "Seeing if states  St7  and  St6  can now be distinguished by any symbol.\n",
            "   The next states reached via symbol  1  are:  St8  and  St7\n",
            "   Cannot distinguish yet, via  1\n",
            "   The next states reached via symbol  0  are:  St9  and  BH\n",
            "   Found a distinguishable pair!\n",
            "      Since  ('St9', 'BH')  are  0  distinguishable, marking  ('St7', 'St6')  as  1  distinguishable.\n",
            "         Hence, must continue through one more sweep of the algorithm.\n",
            " \n",
            "Seeing if states  St7  and  St10  can now be distinguished by any symbol.\n",
            "   The next states reached via symbol  1  are:  St8  and  St6\n",
            "   Cannot distinguish yet, via  1\n",
            "   The next states reached via symbol  0  are:  St9  and  St10\n",
            "   Cannot distinguish yet, via  0\n",
            " \n",
            "Seeing if states  St7  and  St8  can now be distinguished by any symbol.\n",
            "   The next states reached via symbol  1  are:  St8  and  St8\n",
            "      Nope. Symbol  1  could not distinguish (the next states are the same).\n",
            "   The next states reached via symbol  0  are:  St9  and  St9\n",
            "      Nope. Symbol  0  could not distinguish (the next states are the same).\n",
            " \n",
            "Seeing if states  St7  and  St1  can now be distinguished by any symbol.\n",
            "   The next states reached via symbol  1  are:  St8  and  St1\n",
            "   Cannot distinguish yet, via  1\n",
            "   The next states reached via symbol  0  are:  St9  and  St3\n",
            "   Cannot distinguish yet, via  0\n",
            " \n",
            "Seeing if states  St7  and  St3  can now be distinguished by any symbol.\n",
            "   The next states reached via symbol  1  are:  St8  and  St5\n",
            "   Found a distinguishable pair!\n",
            "      Since  ('St8', 'St5')  are  1  distinguishable, marking  ('St7', 'St3')  as  2  distinguishable.\n",
            "         Hence, must continue through one more sweep of the algorithm.\n",
            " \n",
            "Seeing if states  St7  and  St4  can now be distinguished by any symbol.\n",
            "   The next states reached via symbol  1  are:  St8  and  St5\n",
            "   Found a distinguishable pair!\n",
            "      Since  ('St8', 'St5')  are  1  distinguishable, marking  ('St7', 'St4')  as  2  distinguishable.\n",
            "         Hence, must continue through one more sweep of the algorithm.\n",
            " \n",
            "Seeing if states  St6  and  St10  can now be distinguished by any symbol.\n",
            "   The next states reached via symbol  1  are:  St7  and  St6\n",
            "***  Found a distinguishable pair !! ***\n",
            "      Since  ('St7', 'St6')  are  1  distinguishable, marking  ('St6', 'St10')  as  2  distinguishable.\n",
            "         Hence, must continue through one more sweep of the algorithm.\n",
            " \n",
            "Seeing if states  St6  and  St8  can now be distinguished by any symbol.\n",
            "   The next states reached via symbol  1  are:  St7  and  St8\n",
            "   Cannot distinguish yet, via  1\n",
            "   The next states reached via symbol  0  are:  BH  and  St9\n",
            "***  Found a distinguishable pair !! ***\n",
            "      Since  ('BH', 'St9')  are  0  distinguishable, marking  ('St6', 'St8')  as  1  distinguishable.\n",
            "         Hence, must continue through one more sweep of the algorithm.\n",
            " \n",
            "Seeing if states  St6  and  St1  can now be distinguished by any symbol.\n",
            "   The next states reached via symbol  1  are:  St7  and  St1\n",
            "   Cannot distinguish yet, via  1\n",
            "   The next states reached via symbol  0  are:  BH  and  St3\n",
            "***  Found a distinguishable pair !! ***\n",
            "      Since  ('BH', 'St3')  are  0  distinguishable, marking  ('St6', 'St1')  as  1  distinguishable.\n",
            "         Hence, must continue through one more sweep of the algorithm.\n",
            " \n",
            "Seeing if states  St6  and  St3  can now be distinguished by any symbol.\n",
            "   The next states reached via symbol  1  are:  St7  and  St5\n",
            "   Found a distinguishable pair!\n",
            "      Since  ('St7', 'St5')  are  1  distinguishable, marking  ('St6', 'St3')  as  2  distinguishable.\n",
            "         Hence, must continue through one more sweep of the algorithm.\n",
            " \n",
            "Seeing if states  St6  and  St4  can now be distinguished by any symbol.\n",
            "   The next states reached via symbol  1  are:  St7  and  St5\n",
            "   Found a distinguishable pair!\n",
            "      Since  ('St7', 'St5')  are  1  distinguishable, marking  ('St6', 'St4')  as  2  distinguishable.\n",
            "         Hence, must continue through one more sweep of the algorithm.\n",
            " \n",
            "Seeing if states  St10  and  St8  can now be distinguished by any symbol.\n",
            "   The next states reached via symbol  1  are:  St6  and  St8\n",
            "***  Found a distinguishable pair !! ***\n",
            "      Since  ('St6', 'St8')  are  1  distinguishable, marking  ('St10', 'St8')  as  2  distinguishable.\n",
            "         Hence, must continue through one more sweep of the algorithm.\n",
            " \n",
            "Seeing if states  St10  and  St1  can now be distinguished by any symbol.\n",
            "   The next states reached via symbol  1  are:  St6  and  St1\n",
            "***  Found a distinguishable pair !! ***\n",
            "      Since  ('St6', 'St1')  are  1  distinguishable, marking  ('St10', 'St1')  as  2  distinguishable.\n",
            "         Hence, must continue through one more sweep of the algorithm.\n",
            " \n",
            "Seeing if states  St10  and  St3  can now be distinguished by any symbol.\n",
            "   The next states reached via symbol  1  are:  St6  and  St5\n",
            "   Cannot distinguish yet, via  1\n",
            "   The next states reached via symbol  0  are:  St10  and  St4\n",
            "   Cannot distinguish yet, via  0\n",
            " \n",
            "Seeing if states  St10  and  St4  can now be distinguished by any symbol.\n",
            "   The next states reached via symbol  1  are:  St6  and  St5\n",
            "   Cannot distinguish yet, via  1\n",
            "   The next states reached via symbol  0  are:  St10  and  St4\n",
            "   Cannot distinguish yet, via  0\n",
            " \n",
            "Seeing if states  St8  and  St1  can now be distinguished by any symbol.\n",
            "   The next states reached via symbol  1  are:  St8  and  St1\n",
            "   Cannot distinguish yet, via  1\n",
            "   The next states reached via symbol  0  are:  St9  and  St3\n",
            "   Cannot distinguish yet, via  0\n",
            " \n",
            "Seeing if states  St8  and  St3  can now be distinguished by any symbol.\n",
            "   The next states reached via symbol  1  are:  St8  and  St5\n",
            "   Found a distinguishable pair!\n",
            "      Since  ('St8', 'St5')  are  1  distinguishable, marking  ('St8', 'St3')  as  2  distinguishable.\n",
            "         Hence, must continue through one more sweep of the algorithm.\n",
            " \n",
            "Seeing if states  St8  and  St4  can now be distinguished by any symbol.\n",
            "   The next states reached via symbol  1  are:  St8  and  St5\n",
            "   Found a distinguishable pair!\n",
            "      Since  ('St8', 'St5')  are  1  distinguishable, marking  ('St8', 'St4')  as  2  distinguishable.\n",
            "         Hence, must continue through one more sweep of the algorithm.\n",
            " \n",
            "Seeing if states  St1  and  St3  can now be distinguished by any symbol.\n",
            "   The next states reached via symbol  1  are:  St1  and  St5\n",
            "   Found a distinguishable pair!\n",
            "      Since  ('St1', 'St5')  are  1  distinguishable, marking  ('St1', 'St3')  as  2  distinguishable.\n",
            "         Hence, must continue through one more sweep of the algorithm.\n",
            " \n",
            "Seeing if states  St1  and  St4  can now be distinguished by any symbol.\n",
            "   The next states reached via symbol  1  are:  St1  and  St5\n",
            "   Found a distinguishable pair!\n",
            "      Since  ('St1', 'St5')  are  1  distinguishable, marking  ('St1', 'St4')  as  2  distinguishable.\n",
            "         Hence, must continue through one more sweep of the algorithm.\n",
            " \n",
            "Seeing if states  St3  and  St4  can now be distinguished by any symbol.\n",
            "   The next states reached via symbol  1  are:  St5  and  St5\n",
            "      Nope. Symbol  1  could not distinguish (the next states are the same).\n",
            "   The next states reached via symbol  0  are:  St4  and  St4\n",
            "      Nope. Symbol  0  could not distinguish (the next states are the same).\n",
            "--------------------------------------------- \n",
            " Dyn Prog Table Version 1 is :\n",
            "--------------------------------------------- \n",
            "\t St5 \t 1\n",
            "\t BH \t 0\t0\n",
            "\t St9 \t .\t1\t0\n",
            "\t St7 \t .\t1\t0\t.\n",
            "\t St6 \t 1\t.\t0\t1\t1\n",
            "\t St10 \t .\t1\t0\t.\t.\t2\n",
            "\t St8 \t .\t1\t0\t.\t.\t1\t2\n",
            "\t St1 \t .\t1\t0\t.\t.\t1\t2\t.\n",
            "\t St3 \t .\t2\t0\t.\t2\t2\t.\t2\t2\n",
            "\t St4 \t .\t2\t0\t.\t2\t2\t.\t2\t2\t.\n",
            "\n",
            "\t\t St2\tSt5\tBH\tSt9\tSt7\tSt6\tSt10\tSt8\tSt1\tSt3\n",
            "--------------------------------------------- \n",
            " \n",
            "Seeing if states  St2  and  St5  can now be distinguished by any symbol.\n",
            "   The next states reached via symbol  1  are:  St1  and  St7\n",
            "   The next states reached via symbol  0  are:  St3  and  BH\n",
            " \n",
            "Seeing if states  St2  and  St9  can now be distinguished by any symbol.\n",
            "   The next states reached via symbol  1  are:  St1  and  St6\n",
            "   Found a distinguishable pair!\n",
            "      Since  ('St1', 'St6')  are  1  distinguishable, marking  ('St2', 'St9')  as  2  distinguishable.\n",
            "         Hence, must continue through one more sweep of the algorithm.\n",
            " \n",
            "Seeing if states  St2  and  St7  can now be distinguished by any symbol.\n",
            "   The next states reached via symbol  1  are:  St1  and  St8\n",
            "   Cannot distinguish yet, via  1\n",
            "   The next states reached via symbol  0  are:  St3  and  St9\n",
            "   Cannot distinguish yet, via  0\n",
            " \n",
            "Seeing if states  St2  and  St6  can now be distinguished by any symbol.\n",
            "   The next states reached via symbol  1  are:  St1  and  St7\n",
            "   The next states reached via symbol  0  are:  St3  and  BH\n",
            " \n",
            "Seeing if states  St2  and  St10  can now be distinguished by any symbol.\n",
            "   The next states reached via symbol  1  are:  St1  and  St6\n",
            "   Found a distinguishable pair!\n",
            "      Since  ('St1', 'St6')  are  1  distinguishable, marking  ('St2', 'St10')  as  2  distinguishable.\n",
            "         Hence, must continue through one more sweep of the algorithm.\n",
            " \n",
            "Seeing if states  St2  and  St8  can now be distinguished by any symbol.\n",
            "   The next states reached via symbol  1  are:  St1  and  St8\n",
            "   Cannot distinguish yet, via  1\n",
            "   The next states reached via symbol  0  are:  St3  and  St9\n",
            "   Cannot distinguish yet, via  0\n",
            " \n",
            "Seeing if states  St2  and  St1  can now be distinguished by any symbol.\n",
            "   The next states reached via symbol  1  are:  St1  and  St1\n",
            "      Nope. Symbol  1  could not distinguish (the next states are the same).\n",
            "   The next states reached via symbol  0  are:  St3  and  St3\n",
            "      Nope. Symbol  0  could not distinguish (the next states are the same).\n",
            " \n",
            "Seeing if states  St2  and  St3  can now be distinguished by any symbol.\n",
            "   The next states reached via symbol  1  are:  St1  and  St5\n",
            "   Found a distinguishable pair!\n",
            "      Since  ('St1', 'St5')  are  1  distinguishable, marking  ('St2', 'St3')  as  2  distinguishable.\n",
            "         Hence, must continue through one more sweep of the algorithm.\n",
            " \n",
            "Seeing if states  St2  and  St4  can now be distinguished by any symbol.\n",
            "   The next states reached via symbol  1  are:  St1  and  St5\n",
            "   Found a distinguishable pair!\n",
            "      Since  ('St1', 'St5')  are  1  distinguishable, marking  ('St2', 'St4')  as  2  distinguishable.\n",
            "         Hence, must continue through one more sweep of the algorithm.\n",
            " \n",
            "Seeing if states  St5  and  St9  can now be distinguished by any symbol.\n",
            "   The next states reached via symbol  1  are:  St7  and  St6\n",
            "   The next states reached via symbol  0  are:  BH  and  St10\n",
            " \n",
            "Seeing if states  St5  and  St7  can now be distinguished by any symbol.\n",
            "   The next states reached via symbol  1  are:  St7  and  St8\n",
            "   The next states reached via symbol  0  are:  BH  and  St9\n",
            " \n",
            "Seeing if states  St5  and  St6  can now be distinguished by any symbol.\n",
            "   The next states reached via symbol  1  are:  St7  and  St7\n",
            "      Nope. Symbol  1  could not distinguish (the next states are the same).\n",
            "   The next states reached via symbol  0  are:  BH  and  BH\n",
            "      Nope. Symbol  0  could not distinguish (the next states are the same).\n",
            " \n",
            "Seeing if states  St5  and  St10  can now be distinguished by any symbol.\n",
            "   The next states reached via symbol  1  are:  St7  and  St6\n",
            "   The next states reached via symbol  0  are:  BH  and  St10\n",
            " \n",
            "Seeing if states  St5  and  St8  can now be distinguished by any symbol.\n",
            "   The next states reached via symbol  1  are:  St7  and  St8\n",
            "   The next states reached via symbol  0  are:  BH  and  St9\n",
            " \n",
            "Seeing if states  St5  and  St1  can now be distinguished by any symbol.\n",
            "   The next states reached via symbol  1  are:  St7  and  St1\n",
            "   The next states reached via symbol  0  are:  BH  and  St3\n",
            " \n",
            "Seeing if states  St5  and  St3  can now be distinguished by any symbol.\n",
            "   The next states reached via symbol  1  are:  St7  and  St5\n",
            "   The next states reached via symbol  0  are:  BH  and  St4\n",
            " \n",
            "Seeing if states  St5  and  St4  can now be distinguished by any symbol.\n",
            "   The next states reached via symbol  1  are:  St7  and  St5\n",
            "   The next states reached via symbol  0  are:  BH  and  St4\n",
            " \n",
            "Seeing if states  St9  and  St7  can now be distinguished by any symbol.\n",
            "   The next states reached via symbol  1  are:  St6  and  St8\n",
            "***  Found a distinguishable pair !! ***\n",
            "      Since  ('St6', 'St8')  are  1  distinguishable, marking  ('St9', 'St7')  as  2  distinguishable.\n",
            "         Hence, must continue through one more sweep of the algorithm.\n",
            " \n",
            "Seeing if states  St9  and  St6  can now be distinguished by any symbol.\n",
            "   The next states reached via symbol  1  are:  St6  and  St7\n",
            "   The next states reached via symbol  0  are:  St10  and  BH\n",
            " \n",
            "Seeing if states  St9  and  St10  can now be distinguished by any symbol.\n",
            "   The next states reached via symbol  1  are:  St6  and  St6\n",
            "      Nope. Symbol  1  could not distinguish (the next states are the same).\n",
            "   The next states reached via symbol  0  are:  St10  and  St10\n",
            "      Nope. Symbol  0  could not distinguish (the next states are the same).\n",
            " \n",
            "Seeing if states  St9  and  St8  can now be distinguished by any symbol.\n",
            "   The next states reached via symbol  1  are:  St6  and  St8\n",
            "***  Found a distinguishable pair !! ***\n",
            "      Since  ('St6', 'St8')  are  1  distinguishable, marking  ('St9', 'St8')  as  2  distinguishable.\n",
            "         Hence, must continue through one more sweep of the algorithm.\n",
            " \n",
            "Seeing if states  St9  and  St1  can now be distinguished by any symbol.\n",
            "   The next states reached via symbol  1  are:  St6  and  St1\n",
            "***  Found a distinguishable pair !! ***\n",
            "      Since  ('St6', 'St1')  are  1  distinguishable, marking  ('St9', 'St1')  as  2  distinguishable.\n",
            "         Hence, must continue through one more sweep of the algorithm.\n",
            " \n",
            "Seeing if states  St9  and  St3  can now be distinguished by any symbol.\n",
            "   The next states reached via symbol  1  are:  St6  and  St5\n",
            "   Cannot distinguish yet, via  1\n",
            "   The next states reached via symbol  0  are:  St10  and  St4\n",
            "   Cannot distinguish yet, via  0\n",
            " \n",
            "Seeing if states  St9  and  St4  can now be distinguished by any symbol.\n",
            "   The next states reached via symbol  1  are:  St6  and  St5\n",
            "   Cannot distinguish yet, via  1\n",
            "   The next states reached via symbol  0  are:  St10  and  St4\n",
            "   Cannot distinguish yet, via  0\n",
            " \n",
            "Seeing if states  St7  and  St6  can now be distinguished by any symbol.\n",
            "   The next states reached via symbol  1  are:  St8  and  St7\n",
            "   The next states reached via symbol  0  are:  St9  and  BH\n",
            " \n",
            "Seeing if states  St7  and  St10  can now be distinguished by any symbol.\n",
            "   The next states reached via symbol  1  are:  St8  and  St6\n",
            "   Found a distinguishable pair!\n",
            "      Since  ('St8', 'St6')  are  1  distinguishable, marking  ('St7', 'St10')  as  2  distinguishable.\n",
            "         Hence, must continue through one more sweep of the algorithm.\n",
            " \n",
            "Seeing if states  St7  and  St8  can now be distinguished by any symbol.\n",
            "   The next states reached via symbol  1  are:  St8  and  St8\n",
            "      Nope. Symbol  1  could not distinguish (the next states are the same).\n",
            "   The next states reached via symbol  0  are:  St9  and  St9\n",
            "      Nope. Symbol  0  could not distinguish (the next states are the same).\n",
            " \n",
            "Seeing if states  St7  and  St1  can now be distinguished by any symbol.\n",
            "   The next states reached via symbol  1  are:  St8  and  St1\n",
            "   Cannot distinguish yet, via  1\n",
            "   The next states reached via symbol  0  are:  St9  and  St3\n",
            "   Cannot distinguish yet, via  0\n",
            " \n",
            "Seeing if states  St7  and  St3  can now be distinguished by any symbol.\n",
            "   The next states reached via symbol  1  are:  St8  and  St5\n",
            "   The next states reached via symbol  0  are:  St9  and  St4\n",
            " \n",
            "Seeing if states  St7  and  St4  can now be distinguished by any symbol.\n",
            "   The next states reached via symbol  1  are:  St8  and  St5\n",
            "   The next states reached via symbol  0  are:  St9  and  St4\n",
            " \n",
            "Seeing if states  St6  and  St10  can now be distinguished by any symbol.\n",
            "   The next states reached via symbol  1  are:  St7  and  St6\n",
            "   The next states reached via symbol  0  are:  BH  and  St10\n",
            " \n",
            "Seeing if states  St6  and  St8  can now be distinguished by any symbol.\n",
            "   The next states reached via symbol  1  are:  St7  and  St8\n",
            "   The next states reached via symbol  0  are:  BH  and  St9\n",
            " \n",
            "Seeing if states  St6  and  St1  can now be distinguished by any symbol.\n",
            "   The next states reached via symbol  1  are:  St7  and  St1\n",
            "   The next states reached via symbol  0  are:  BH  and  St3\n",
            " \n",
            "Seeing if states  St6  and  St3  can now be distinguished by any symbol.\n",
            "   The next states reached via symbol  1  are:  St7  and  St5\n",
            "   The next states reached via symbol  0  are:  BH  and  St4\n",
            " \n",
            "Seeing if states  St6  and  St4  can now be distinguished by any symbol.\n",
            "   The next states reached via symbol  1  are:  St7  and  St5\n",
            "   The next states reached via symbol  0  are:  BH  and  St4\n",
            " \n",
            "Seeing if states  St10  and  St8  can now be distinguished by any symbol.\n",
            "   The next states reached via symbol  1  are:  St6  and  St8\n",
            "   The next states reached via symbol  0  are:  St10  and  St9\n",
            " \n",
            "Seeing if states  St10  and  St1  can now be distinguished by any symbol.\n",
            "   The next states reached via symbol  1  are:  St6  and  St1\n",
            "   The next states reached via symbol  0  are:  St10  and  St3\n",
            " \n",
            "Seeing if states  St10  and  St3  can now be distinguished by any symbol.\n",
            "   The next states reached via symbol  1  are:  St6  and  St5\n",
            "   Cannot distinguish yet, via  1\n",
            "   The next states reached via symbol  0  are:  St10  and  St4\n",
            "   Cannot distinguish yet, via  0\n",
            " \n",
            "Seeing if states  St10  and  St4  can now be distinguished by any symbol.\n",
            "   The next states reached via symbol  1  are:  St6  and  St5\n",
            "   Cannot distinguish yet, via  1\n",
            "   The next states reached via symbol  0  are:  St10  and  St4\n",
            "   Cannot distinguish yet, via  0\n",
            " \n",
            "Seeing if states  St8  and  St1  can now be distinguished by any symbol.\n",
            "   The next states reached via symbol  1  are:  St8  and  St1\n",
            "   Cannot distinguish yet, via  1\n",
            "   The next states reached via symbol  0  are:  St9  and  St3\n",
            "   Cannot distinguish yet, via  0\n",
            " \n",
            "Seeing if states  St8  and  St3  can now be distinguished by any symbol.\n",
            "   The next states reached via symbol  1  are:  St8  and  St5\n",
            "   The next states reached via symbol  0  are:  St9  and  St4\n",
            " \n",
            "Seeing if states  St8  and  St4  can now be distinguished by any symbol.\n",
            "   The next states reached via symbol  1  are:  St8  and  St5\n",
            "   The next states reached via symbol  0  are:  St9  and  St4\n",
            " \n",
            "Seeing if states  St1  and  St3  can now be distinguished by any symbol.\n",
            "   The next states reached via symbol  1  are:  St1  and  St5\n",
            "   The next states reached via symbol  0  are:  St3  and  St4\n",
            " \n",
            "Seeing if states  St1  and  St4  can now be distinguished by any symbol.\n",
            "   The next states reached via symbol  1  are:  St1  and  St5\n",
            "   The next states reached via symbol  0  are:  St3  and  St4\n",
            " \n",
            "Seeing if states  St3  and  St4  can now be distinguished by any symbol.\n",
            "   The next states reached via symbol  1  are:  St5  and  St5\n",
            "      Nope. Symbol  1  could not distinguish (the next states are the same).\n",
            "   The next states reached via symbol  0  are:  St4  and  St4\n",
            "      Nope. Symbol  0  could not distinguish (the next states are the same).\n",
            "--------------------------------------------- \n",
            " Dyn Prog Table Version 2 is :\n",
            "--------------------------------------------- \n",
            "\t St5 \t 1\n",
            "\t BH \t 0\t0\n",
            "\t St9 \t 2\t1\t0\n",
            "\t St7 \t .\t1\t0\t2\n",
            "\t St6 \t 1\t.\t0\t1\t1\n",
            "\t St10 \t 2\t1\t0\t.\t2\t2\n",
            "\t St8 \t .\t1\t0\t2\t.\t1\t2\n",
            "\t St1 \t .\t1\t0\t2\t.\t1\t2\t.\n",
            "\t St3 \t 2\t2\t0\t.\t2\t2\t.\t2\t2\n",
            "\t St4 \t 2\t2\t0\t.\t2\t2\t.\t2\t2\t.\n",
            "\n",
            "\t\t St2\tSt5\tBH\tSt9\tSt7\tSt6\tSt10\tSt8\tSt1\tSt3\n",
            "--------------------------------------------- \n",
            " \n",
            "Seeing if states  St2  and  St5  can now be distinguished by any symbol.\n",
            "   The next states reached via symbol  1  are:  St1  and  St7\n",
            "   The next states reached via symbol  0  are:  St3  and  BH\n",
            " \n",
            "Seeing if states  St2  and  St9  can now be distinguished by any symbol.\n",
            "   The next states reached via symbol  1  are:  St1  and  St6\n",
            "   The next states reached via symbol  0  are:  St3  and  St10\n",
            " \n",
            "Seeing if states  St2  and  St7  can now be distinguished by any symbol.\n",
            "   The next states reached via symbol  1  are:  St1  and  St8\n",
            "   Cannot distinguish yet, via  1\n",
            "   The next states reached via symbol  0  are:  St3  and  St9\n",
            "   Cannot distinguish yet, via  0\n",
            " \n",
            "Seeing if states  St2  and  St6  can now be distinguished by any symbol.\n",
            "   The next states reached via symbol  1  are:  St1  and  St7\n",
            "   The next states reached via symbol  0  are:  St3  and  BH\n",
            " \n",
            "Seeing if states  St2  and  St10  can now be distinguished by any symbol.\n",
            "   The next states reached via symbol  1  are:  St1  and  St6\n",
            "   The next states reached via symbol  0  are:  St3  and  St10\n",
            " \n",
            "Seeing if states  St2  and  St8  can now be distinguished by any symbol.\n",
            "   The next states reached via symbol  1  are:  St1  and  St8\n",
            "   Cannot distinguish yet, via  1\n",
            "   The next states reached via symbol  0  are:  St3  and  St9\n",
            "   Cannot distinguish yet, via  0\n",
            " \n",
            "Seeing if states  St2  and  St1  can now be distinguished by any symbol.\n",
            "   The next states reached via symbol  1  are:  St1  and  St1\n",
            "      Nope. Symbol  1  could not distinguish (the next states are the same).\n",
            "   The next states reached via symbol  0  are:  St3  and  St3\n",
            "      Nope. Symbol  0  could not distinguish (the next states are the same).\n",
            " \n",
            "Seeing if states  St2  and  St3  can now be distinguished by any symbol.\n",
            "   The next states reached via symbol  1  are:  St1  and  St5\n",
            "   The next states reached via symbol  0  are:  St3  and  St4\n",
            " \n",
            "Seeing if states  St2  and  St4  can now be distinguished by any symbol.\n",
            "   The next states reached via symbol  1  are:  St1  and  St5\n",
            "   The next states reached via symbol  0  are:  St3  and  St4\n",
            " \n",
            "Seeing if states  St5  and  St9  can now be distinguished by any symbol.\n",
            "   The next states reached via symbol  1  are:  St7  and  St6\n",
            "   The next states reached via symbol  0  are:  BH  and  St10\n",
            " \n",
            "Seeing if states  St5  and  St7  can now be distinguished by any symbol.\n",
            "   The next states reached via symbol  1  are:  St7  and  St8\n",
            "   The next states reached via symbol  0  are:  BH  and  St9\n",
            " \n",
            "Seeing if states  St5  and  St6  can now be distinguished by any symbol.\n",
            "   The next states reached via symbol  1  are:  St7  and  St7\n",
            "      Nope. Symbol  1  could not distinguish (the next states are the same).\n",
            "   The next states reached via symbol  0  are:  BH  and  BH\n",
            "      Nope. Symbol  0  could not distinguish (the next states are the same).\n",
            " \n",
            "Seeing if states  St5  and  St10  can now be distinguished by any symbol.\n",
            "   The next states reached via symbol  1  are:  St7  and  St6\n",
            "   The next states reached via symbol  0  are:  BH  and  St10\n",
            " \n",
            "Seeing if states  St5  and  St8  can now be distinguished by any symbol.\n",
            "   The next states reached via symbol  1  are:  St7  and  St8\n",
            "   The next states reached via symbol  0  are:  BH  and  St9\n",
            " \n",
            "Seeing if states  St5  and  St1  can now be distinguished by any symbol.\n",
            "   The next states reached via symbol  1  are:  St7  and  St1\n",
            "   The next states reached via symbol  0  are:  BH  and  St3\n",
            " \n",
            "Seeing if states  St5  and  St3  can now be distinguished by any symbol.\n",
            "   The next states reached via symbol  1  are:  St7  and  St5\n",
            "   The next states reached via symbol  0  are:  BH  and  St4\n",
            " \n",
            "Seeing if states  St5  and  St4  can now be distinguished by any symbol.\n",
            "   The next states reached via symbol  1  are:  St7  and  St5\n",
            "   The next states reached via symbol  0  are:  BH  and  St4\n",
            " \n",
            "Seeing if states  St9  and  St7  can now be distinguished by any symbol.\n",
            "   The next states reached via symbol  1  are:  St6  and  St8\n",
            "   The next states reached via symbol  0  are:  St10  and  St9\n",
            " \n",
            "Seeing if states  St9  and  St6  can now be distinguished by any symbol.\n",
            "   The next states reached via symbol  1  are:  St6  and  St7\n",
            "   The next states reached via symbol  0  are:  St10  and  BH\n",
            " \n",
            "Seeing if states  St9  and  St10  can now be distinguished by any symbol.\n",
            "   The next states reached via symbol  1  are:  St6  and  St6\n",
            "      Nope. Symbol  1  could not distinguish (the next states are the same).\n",
            "   The next states reached via symbol  0  are:  St10  and  St10\n",
            "      Nope. Symbol  0  could not distinguish (the next states are the same).\n",
            " \n",
            "Seeing if states  St9  and  St8  can now be distinguished by any symbol.\n",
            "   The next states reached via symbol  1  are:  St6  and  St8\n",
            "   The next states reached via symbol  0  are:  St10  and  St9\n",
            " \n",
            "Seeing if states  St9  and  St1  can now be distinguished by any symbol.\n",
            "   The next states reached via symbol  1  are:  St6  and  St1\n",
            "   The next states reached via symbol  0  are:  St10  and  St3\n",
            " \n",
            "Seeing if states  St9  and  St3  can now be distinguished by any symbol.\n",
            "   The next states reached via symbol  1  are:  St6  and  St5\n",
            "   Cannot distinguish yet, via  1\n",
            "   The next states reached via symbol  0  are:  St10  and  St4\n",
            "   Cannot distinguish yet, via  0\n",
            " \n",
            "Seeing if states  St9  and  St4  can now be distinguished by any symbol.\n",
            "   The next states reached via symbol  1  are:  St6  and  St5\n",
            "   Cannot distinguish yet, via  1\n",
            "   The next states reached via symbol  0  are:  St10  and  St4\n",
            "   Cannot distinguish yet, via  0\n",
            " \n",
            "Seeing if states  St7  and  St6  can now be distinguished by any symbol.\n",
            "   The next states reached via symbol  1  are:  St8  and  St7\n",
            "   The next states reached via symbol  0  are:  St9  and  BH\n",
            " \n",
            "Seeing if states  St7  and  St10  can now be distinguished by any symbol.\n",
            "   The next states reached via symbol  1  are:  St8  and  St6\n",
            "   The next states reached via symbol  0  are:  St9  and  St10\n",
            " \n",
            "Seeing if states  St7  and  St8  can now be distinguished by any symbol.\n",
            "   The next states reached via symbol  1  are:  St8  and  St8\n",
            "      Nope. Symbol  1  could not distinguish (the next states are the same).\n",
            "   The next states reached via symbol  0  are:  St9  and  St9\n",
            "      Nope. Symbol  0  could not distinguish (the next states are the same).\n",
            " \n",
            "Seeing if states  St7  and  St1  can now be distinguished by any symbol.\n",
            "   The next states reached via symbol  1  are:  St8  and  St1\n",
            "   Cannot distinguish yet, via  1\n",
            "   The next states reached via symbol  0  are:  St9  and  St3\n",
            "   Cannot distinguish yet, via  0\n",
            " \n",
            "Seeing if states  St7  and  St3  can now be distinguished by any symbol.\n",
            "   The next states reached via symbol  1  are:  St8  and  St5\n",
            "   The next states reached via symbol  0  are:  St9  and  St4\n",
            " \n",
            "Seeing if states  St7  and  St4  can now be distinguished by any symbol.\n",
            "   The next states reached via symbol  1  are:  St8  and  St5\n",
            "   The next states reached via symbol  0  are:  St9  and  St4\n",
            " \n",
            "Seeing if states  St6  and  St10  can now be distinguished by any symbol.\n",
            "   The next states reached via symbol  1  are:  St7  and  St6\n",
            "   The next states reached via symbol  0  are:  BH  and  St10\n",
            " \n",
            "Seeing if states  St6  and  St8  can now be distinguished by any symbol.\n",
            "   The next states reached via symbol  1  are:  St7  and  St8\n",
            "   The next states reached via symbol  0  are:  BH  and  St9\n",
            " \n",
            "Seeing if states  St6  and  St1  can now be distinguished by any symbol.\n",
            "   The next states reached via symbol  1  are:  St7  and  St1\n",
            "   The next states reached via symbol  0  are:  BH  and  St3\n",
            " \n",
            "Seeing if states  St6  and  St3  can now be distinguished by any symbol.\n",
            "   The next states reached via symbol  1  are:  St7  and  St5\n",
            "   The next states reached via symbol  0  are:  BH  and  St4\n",
            " \n",
            "Seeing if states  St6  and  St4  can now be distinguished by any symbol.\n",
            "   The next states reached via symbol  1  are:  St7  and  St5\n",
            "   The next states reached via symbol  0  are:  BH  and  St4\n",
            " \n",
            "Seeing if states  St10  and  St8  can now be distinguished by any symbol.\n",
            "   The next states reached via symbol  1  are:  St6  and  St8\n",
            "   The next states reached via symbol  0  are:  St10  and  St9\n",
            " \n",
            "Seeing if states  St10  and  St1  can now be distinguished by any symbol.\n",
            "   The next states reached via symbol  1  are:  St6  and  St1\n",
            "   The next states reached via symbol  0  are:  St10  and  St3\n",
            " \n",
            "Seeing if states  St10  and  St3  can now be distinguished by any symbol.\n",
            "   The next states reached via symbol  1  are:  St6  and  St5\n",
            "   Cannot distinguish yet, via  1\n",
            "   The next states reached via symbol  0  are:  St10  and  St4\n",
            "   Cannot distinguish yet, via  0\n",
            " \n",
            "Seeing if states  St10  and  St4  can now be distinguished by any symbol.\n",
            "   The next states reached via symbol  1  are:  St6  and  St5\n",
            "   Cannot distinguish yet, via  1\n",
            "   The next states reached via symbol  0  are:  St10  and  St4\n",
            "   Cannot distinguish yet, via  0\n",
            " \n",
            "Seeing if states  St8  and  St1  can now be distinguished by any symbol.\n",
            "   The next states reached via symbol  1  are:  St8  and  St1\n",
            "   Cannot distinguish yet, via  1\n",
            "   The next states reached via symbol  0  are:  St9  and  St3\n",
            "   Cannot distinguish yet, via  0\n",
            " \n",
            "Seeing if states  St8  and  St3  can now be distinguished by any symbol.\n",
            "   The next states reached via symbol  1  are:  St8  and  St5\n",
            "   The next states reached via symbol  0  are:  St9  and  St4\n",
            " \n",
            "Seeing if states  St8  and  St4  can now be distinguished by any symbol.\n",
            "   The next states reached via symbol  1  are:  St8  and  St5\n",
            "   The next states reached via symbol  0  are:  St9  and  St4\n",
            " \n",
            "Seeing if states  St1  and  St3  can now be distinguished by any symbol.\n",
            "   The next states reached via symbol  1  are:  St1  and  St5\n",
            "   The next states reached via symbol  0  are:  St3  and  St4\n",
            " \n",
            "Seeing if states  St1  and  St4  can now be distinguished by any symbol.\n",
            "   The next states reached via symbol  1  are:  St1  and  St5\n",
            "   The next states reached via symbol  0  are:  St3  and  St4\n",
            " \n",
            "Seeing if states  St3  and  St4  can now be distinguished by any symbol.\n",
            "   The next states reached via symbol  1  are:  St5  and  St5\n",
            "      Nope. Symbol  1  could not distinguish (the next states are the same).\n",
            "   The next states reached via symbol  0  are:  St4  and  St4\n",
            "      Nope. Symbol  0  could not distinguish (the next states are the same).\n",
            "*** The Dyn Prog tables have stabilized at the one below ***\n",
            "--------------------------------------------- \n",
            " Dyn Prog Table Version 2 is :\n",
            "--------------------------------------------- \n",
            "\t St5 \t 1\n",
            "\t BH \t 0\t0\n",
            "\t St9 \t 2\t1\t0\n",
            "\t St7 \t .\t1\t0\t2\n",
            "\t St6 \t 1\t.\t0\t1\t1\n",
            "\t St10 \t 2\t1\t0\t.\t2\t2\n",
            "\t St8 \t .\t1\t0\t2\t.\t1\t2\n",
            "\t St1 \t .\t1\t0\t2\t.\t1\t2\t.\n",
            "\t St3 \t 2\t2\t0\t.\t2\t2\t.\t2\t2\n",
            "\t St4 \t 2\t2\t0\t.\t2\t2\t.\t2\t2\t.\n",
            "\n",
            "\t\t St2\tSt5\tBH\tSt9\tSt7\tSt6\tSt10\tSt8\tSt1\tSt3\n",
            "--------------------------------------------- \n",
            " \n",
            "Now, collecting equivalence-classes.\n",
            "   The equivalent pairs are:\n",
            "   The merged equivalent classes and representative states are these:\n",
            "State  St5  represents the equivalent states  ['St5', 'St6']\n",
            "State  St2  represents the equivalent states  ['St2', 'St7', 'St8', 'St1']\n",
            "State  St3  represents the equivalent states  ['St3', 'St10', 'St4', 'St9']\n"
          ]
        }
      ],
      "source": [
        "no010_RE = min_dfa(nfa2dfa(re2nfa(REno010)), chatty=True)"
      ]
    },
    {
      "cell_type": "code",
      "execution_count": null,
      "metadata": {
        "id": "LZc-A2zVaGb3"
      },
      "outputs": [],
      "source": [
        "dotObj_dfa(no010_RE)"
      ]
    },
    {
      "cell_type": "code",
      "execution_count": null,
      "metadata": {
        "id": "BEnavFBgaGb3"
      },
      "outputs": [],
      "source": [
        "nfano010 = dfa2nfa(no010)"
      ]
    },
    {
      "cell_type": "code",
      "execution_count": null,
      "metadata": {
        "id": "PPBGNFZgaGb4"
      },
      "outputs": [],
      "source": [
        "dotObj_nfa(nfano010)"
      ]
    },
    {
      "cell_type": "code",
      "execution_count": null,
      "metadata": {
        "id": "P02WOxkPaGb4"
      },
      "outputs": [],
      "source": [
        "gnfa010 = mk_gnfa(nfano010)"
      ]
    },
    {
      "cell_type": "code",
      "execution_count": null,
      "metadata": {
        "id": "2hdmgTsQaGb4"
      },
      "outputs": [],
      "source": [
        "dotObj_gnfa(gnfa010)"
      ]
    },
    {
      "cell_type": "code",
      "execution_count": null,
      "metadata": {
        "id": "ickG3TqqaGb4"
      },
      "outputs": [],
      "source": [
        "help(del_gnfa_states)"
      ]
    },
    {
      "cell_type": "code",
      "execution_count": null,
      "metadata": {
        "id": "nQ91R3-2aGb4"
      },
      "outputs": [],
      "source": [
        "(GF,DO,RE) = del_gnfa_states(gnfa010)"
      ]
    },
    {
      "cell_type": "code",
      "execution_count": null,
      "metadata": {
        "id": "QPmu_hK0aGb4"
      },
      "outputs": [],
      "source": [
        "RE"
      ]
    },
    {
      "cell_type": "code",
      "execution_count": null,
      "metadata": {
        "scrolled": true,
        "id": "beof2WZpaGb4"
      },
      "outputs": [],
      "source": [
        "DO[0]"
      ]
    },
    {
      "cell_type": "code",
      "execution_count": null,
      "metadata": {
        "id": "a0G0y5q-aGb4"
      },
      "outputs": [],
      "source": [
        "DO[1]"
      ]
    },
    {
      "cell_type": "code",
      "execution_count": null,
      "metadata": {
        "id": "5hk0sFdtaGb5"
      },
      "outputs": [],
      "source": [
        "DO[2]"
      ]
    },
    {
      "cell_type": "code",
      "execution_count": null,
      "metadata": {
        "id": "XVU4FMdhaGb5"
      },
      "outputs": [],
      "source": [
        "DO[3]"
      ]
    },
    {
      "cell_type": "code",
      "execution_count": null,
      "metadata": {
        "id": "hwK9rQAlaGb5"
      },
      "outputs": [],
      "source": []
    }
  ],
  "metadata": {
    "kernelspec": {
      "display_name": "Python 3",
      "language": "python",
      "name": "python3"
    },
    "language_info": {
      "codemirror_mode": {
        "name": "ipython",
        "version": 3
      },
      "file_extension": ".py",
      "mimetype": "text/x-python",
      "name": "python",
      "nbconvert_exporter": "python",
      "pygments_lexer": "ipython3",
      "version": "3.7.3"
    },
    "toc": {
      "colors": {
        "hover_highlight": "#DAA520",
        "running_highlight": "#FF0000",
        "selected_highlight": "#FFD700"
      },
      "moveMenuLeft": true,
      "nav_menu": {
        "height": "318px",
        "width": "252px"
      },
      "navigate_menu": true,
      "number_sections": true,
      "sideBar": true,
      "threshold": 4,
      "toc_cell": false,
      "toc_section_display": "block",
      "toc_window_display": false,
      "widenNotebook": false
    },
    "colab": {
      "provenance": [],
      "include_colab_link": true
    }
  },
  "nbformat": 4,
  "nbformat_minor": 0
}