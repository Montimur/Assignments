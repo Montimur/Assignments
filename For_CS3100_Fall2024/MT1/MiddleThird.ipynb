{
  "cells": [
    {
      "cell_type": "markdown",
      "metadata": {
        "id": "view-in-github",
        "colab_type": "text"
      },
      "source": [
        "<a href=\"https://colab.research.google.com/github/Montimur/Assignments/blob/master/For_CS3100_Fall2024/MT1/MiddleThird.ipynb\" target=\"_parent\"><img src=\"https://colab.research.google.com/assets/colab-badge.svg\" alt=\"Open In Colab\"/></a>"
      ]
    },
    {
      "cell_type": "code",
      "execution_count": 1,
      "metadata": {
        "run_control": {
          "frozen": false,
          "read_only": false
        },
        "id": "xPwIhPL-aGbn",
        "outputId": "2375e50d-61c9-4763-fe26-43353b26ff6d",
        "colab": {
          "base_uri": "https://localhost:8080/"
        }
      },
      "outputs": [
        {
          "output_type": "stream",
          "name": "stdout",
          "text": [
            "Cloning into 'Jove'...\n",
            "remote: Enumerating objects: 6652, done.\u001b[K\n",
            "remote: Counting objects: 100% (2018/2018), done.\u001b[K\n",
            "remote: Compressing objects: 100% (782/782), done.\u001b[K\n",
            "remote: Total 6652 (delta 1228), reused 1915 (delta 1156), pack-reused 4634 (from 1)\u001b[K\n",
            "Receiving objects: 100% (6652/6652), 10.57 MiB | 13.38 MiB/s, done.\n",
            "Resolving deltas: 100% (4233/4233), done.\n",
            "You may use any of these help commands:\n",
            "help(ResetStNum)\n",
            "help(NxtStateStr)\n",
            "\n",
            "You may use any of these help commands:\n",
            "help(md2mc)\n",
            ".. and if you want to dig more, then ..\n",
            "help(default_line_attr)\n",
            "help(length_ok_input_items)\n",
            "help(union_line_attr_list_fld)\n",
            "help(extend_rsltdict)\n",
            "help(form_delta)\n",
            "help(get_machine_components)\n",
            "\n",
            "You may use any of these help commands:\n",
            "help(mkp_dfa)\n",
            "help(mk_dfa)\n",
            "help(totalize_dfa)\n",
            "help(addtosigma_delta)\n",
            "help(step_dfa)\n",
            "help(run_dfa)\n",
            "help(accepts_dfa)\n",
            "help(comp_dfa)\n",
            "help(flTup)\n",
            "help(union_dfa)\n",
            "help(intersect_dfa)\n",
            "help(pruneUnreach)\n",
            "help(iso_dfa)\n",
            "help(langeq_dfa)\n",
            "help(same_status)\n",
            "help(h_langeq_dfa)\n",
            "help(fixptDist)\n",
            "help(min_dfa)\n",
            "help(pairFR)\n",
            "help(state_combos)\n",
            "help(sepFinNonFin)\n",
            "help(bash_eql_classes)\n",
            "help(listminus)\n",
            "help(bash_1)\n",
            "help(mk_rep_eqc)\n",
            "help(F_of)\n",
            "help(rep_of_s)\n",
            "help(q0_of)\n",
            "help(Delta_of)\n",
            "help(mk_state_eqc_name)\n",
            "\n",
            "You may use any of these help commands:\n",
            "help(mk_nfa)\n",
            "help(totalize_nfa)\n",
            "help(step_nfa)\n",
            "help(run_nfa)\n",
            "help(ec_step_nfa)\n",
            "help(Eclosure)\n",
            "help(Echelp)\n",
            "help(accepts_nfa)\n",
            "help(nfa2dfa)\n",
            "help(n2d)\n",
            "help(inSets)\n",
            "help(rev_dfa)\n",
            "help(min_dfa_brz)\n",
            "\n",
            "You may use any of these help commands:\n",
            "help(re2nfa)\n",
            "\n",
            "You may use any of these help commands:\n",
            "help(lphi)\n",
            "help(lunit)\n",
            "help(lcat)\n",
            "help(lexp)\n",
            "help(lunion)\n",
            "help(lstar)\n",
            "help(srev)\n",
            "help(lrev)\n",
            "help(shomo)\n",
            "help(lhomo)\n",
            "help(powset)\n",
            "help(lint)\n",
            "help(lsymdiff)\n",
            "help(lminus)\n",
            "help(lissubset)\n",
            "help(lissuperset)\n",
            "help(lcomplem)\n",
            "help(product)\n",
            "help(nthnumeric)\n",
            "\n",
            "You may use any of these help commands:\n",
            "help(RE2Str)\n",
            "help(mk_gnfa)\n",
            "help(mk_gnfa_from_D)\n",
            "help(dfa2nfa)\n",
            "help(del_gnfa_states)\n",
            "help(gnfa_w_REStr)\n",
            "help(del_one_gnfa_state)\n",
            "help(Edges_Exist_Via)\n",
            "help(choose_state_to_del)\n",
            "help(form_alt_RE)\n",
            "help(form_concat_RE)\n",
            "help(form_kleene_RE)\n",
            "\n"
          ]
        }
      ],
      "source": [
        "#~~~~~~~~~~~~~~~~~~~~~~~~~~~~~~~~~~~~~~~~~~~~~~~~~~~~~~~\n",
        "import sys\n",
        "\n",
        "# -- Detect if in Own Install or in Colab\n",
        "try:\n",
        "    import google.colab\n",
        "    OWN_INSTALL = False\n",
        "except:\n",
        "    OWN_INSTALL = True\n",
        "\n",
        "if OWN_INSTALL:\n",
        "\n",
        "  #---- Leave these definitions ON if running on laptop\n",
        "  #---- Else turn OFF by putting them between ''' ... '''\n",
        "\n",
        "  sys.path[0:0] = ['../../../../..',  '../../../../../3rdparty',\n",
        "                   '../../../..',  '../../../../3rdparty',\n",
        "                   '../../..',     '../../../3rdparty',\n",
        "                   '../..',        '../../3rdparty',\n",
        "                   '..',           '../3rdparty' ]\n",
        "\n",
        "else: # In colab\n",
        "  ! if [ ! -d Jove ]; then git clone https://github.com/ganeshutah/Jove Jove; fi\n",
        "  sys.path.append('./Jove')\n",
        "  sys.path.append('./Jove/jove')\n",
        "\n",
        "# -- common imports --\n",
        "from jove.DotBashers import *\n",
        "from jove.Def_md2mc  import *\n",
        "from jove.Def_DFA    import *\n",
        "from jove.Def_NFA    import *\n",
        "from jove.Def_RE2NFA import *\n",
        "from jove.LangDef    import *  # for testing DFA actions using nthnumeric if needed\n",
        "from jove.Def_NFA2RE import *\n",
        "#~~~~~~~~~~~~~~~~~~~~~~~~~~~~~~~~~~~~~~~~~~~~~~~~~~~~~~~"
      ]
    },
    {
      "cell_type": "markdown",
      "source": [
        "## Please read Exercise 7.5 starting Page 88. The Middle-Third construction begins on Page 89.\n",
        "\n",
        "## This is a starter for the code where I discuss the \"middle third\" construction in the NFA section.\n",
        "\n",
        "### Your extra-credit part (please do it on your own; don't ask fellow students, but ask us! please don't look online)\n",
        "\n",
        "### Please design a \"first half\" language - FirstHalf is the name of the language.\n",
        "\n",
        "#### * Specifically, generate a way to generate a (new) DFA (call it DFAnew) with respect to a given DFA (call it DFAin)\n",
        "\n",
        "#### * I call the output BigDFA in the construction below\n",
        "\n",
        "#### - BigDFA's language should be all \"x\" such that \"xy\" is in the language of DFAin where length(x) = length(y)\n",
        "\n",
        "### * What to submit\n",
        "\n",
        "#### - A fresh notebook - feel free to name variables better\n",
        "\n",
        "#### - The final output ought to be a good set of tests (if a test \"spins\", quit that run by hitting the stop) and make a note\n",
        "\n",
        "#### - At least nine (9) passing (finishing) and interesting languages ought to be included where the \"halves\" are verifiable.\n",
        "\n",
        "#### - The RE4 below ran too long for middle-third but a similar run may finish for the first-half\n",
        "\n",
        "##  * I PROVIDE A FEW TEST STRINGS YOU MUST INCLUDE (say 3 or 4 if all pass). You may plz provide enough to meet the quote of 9 asked (10 would be nice too). 11 is not needed since you want to make it \"interesting\" - not repetitive\n",
        "\n",
        "### - You must document all the steps precisely as in the textbook, using that style and length as a guideline\n",
        "\n",
        "### - The documentation can be alongside the Q,Sigma,delta,q0,F aspects, spending more space around delta. Need not be bloated - just precise and up to the point.\n",
        "\n",
        "### * As a closing narrative, try to write a mathematical description of your work and your observations on the construction, pointing out what you learned. About a page of a standard paper format is good. Uploading an Overleaf-typeset (or other software) as a PDF upload would be expected.\n",
        "\n",
        "### * Upload also your finished and executed notebook\n",
        "\n",
        "## We will grade based on (1) the code working (70 percent) and documentation (30 percent)\n",
        "\n",
        "#### Look for starter RE strings for FirstHalf below\n"
      ],
      "metadata": {
        "id": "ntzqZSZEEsce"
      }
    },
    {
      "cell_type": "code",
      "source": [
        "# FOR YOUR FirstHalf language\n",
        "\n",
        "RE1_FirstHalf = \"aabb\"\n",
        "\n",
        "RE2_FirstHalf = \"a*\"\n",
        "\n",
        "RE3_FirstHalf = \"a*b*\" # Try and see if this finishes and if so interpret\n",
        "\n",
        "RE4_FirstHalf = \"(ab) + (aabb)\"\n",
        "\n",
        "# ----\n",
        "\n",
        "# MiddleThird of a DFA\n",
        "\n",
        "RE1 = \"aabbcc\"\n",
        "\n",
        "RE2 = \"a*\"\n",
        "\n",
        "RE3 = \"(aa)(bb)(cc)+abc\"\n",
        "\n",
        "RE4 = \"abcabcabc\"\n",
        "\n",
        "\n",
        "REin = RE3\n",
        "\n",
        "DFAin = min_dfa(nfa2dfa(re2nfa(REin)))"
      ],
      "metadata": {
        "id": "Atw_Lv14xxk0",
        "outputId": "e0e17db8-26ae-45e0-8dae-bbc1dd7137c7",
        "colab": {
          "base_uri": "https://localhost:8080/"
        }
      },
      "execution_count": 2,
      "outputs": [
        {
          "output_type": "stream",
          "name": "stderr",
          "text": [
            "Generating LALR tables\n"
          ]
        }
      ]
    },
    {
      "cell_type": "code",
      "source": [
        "#DFAin"
      ],
      "metadata": {
        "id": "imwArMIx9HS_"
      },
      "execution_count": 3,
      "outputs": []
    },
    {
      "cell_type": "code",
      "source": [],
      "metadata": {
        "id": "51tjvSRp9ISj"
      },
      "execution_count": 3,
      "outputs": []
    },
    {
      "cell_type": "code",
      "source": [
        "#ntest = re2nfa(\"a*\")"
      ],
      "metadata": {
        "id": "Ha0racd7ztrZ"
      },
      "execution_count": 4,
      "outputs": []
    },
    {
      "cell_type": "code",
      "source": [
        "#ntest"
      ],
      "metadata": {
        "id": "KfFmvsy6zxtp"
      },
      "execution_count": 5,
      "outputs": []
    },
    {
      "cell_type": "code",
      "source": [
        "#dd = dict({ (a,'b') : set({p,'q'})   for a in ['1','2'] for p in ['11','22']} )"
      ],
      "metadata": {
        "id": "u3E46EQ63lFo"
      },
      "execution_count": 6,
      "outputs": []
    },
    {
      "cell_type": "code",
      "source": [
        "#dd[ ('1','b')]"
      ],
      "metadata": {
        "id": "ARq41cIT31Ab"
      },
      "execution_count": 7,
      "outputs": []
    },
    {
      "cell_type": "code",
      "source": [
        "dotObj_dfa(DFAin)"
      ],
      "metadata": {
        "id": "t5y7PdEeyGYp",
        "outputId": "a0ae3f0b-97d7-4313-94a0-9eb6a60d4744",
        "colab": {
          "base_uri": "https://localhost:8080/",
          "height": 150
        }
      },
      "execution_count": 8,
      "outputs": [
        {
          "output_type": "execute_result",
          "data": {
            "image/svg+xml": "<?xml version=\"1.0\" encoding=\"UTF-8\" standalone=\"no\"?>\n<!DOCTYPE svg PUBLIC \"-//W3C//DTD SVG 1.1//EN\"\n \"http://www.w3.org/Graphics/SVG/1.1/DTD/svg11.dtd\">\n<!-- Generated by graphviz version 2.43.0 (0)\n -->\n<!-- Title: %3 Pages: 1 -->\n<svg width=\"703pt\" height=\"97pt\"\n viewBox=\"0.00 0.00 703.47 97.50\" xmlns=\"http://www.w3.org/2000/svg\" xmlns:xlink=\"http://www.w3.org/1999/xlink\">\n<g id=\"graph0\" class=\"graph\" transform=\"scale(1 1) rotate(0) translate(4 93.5)\">\n<title>%3</title>\n<polygon fill=\"white\" stroke=\"transparent\" points=\"-4,4 -4,-93.5 699.47,-93.5 699.47,4 -4,4\"/>\n<!-- EMPTY -->\n<g id=\"node1\" class=\"node\">\n<title>EMPTY</title>\n</g>\n<!-- St1 -->\n<g id=\"node7\" class=\"node\">\n<title>St1</title>\n<ellipse fill=\"none\" stroke=\"black\" cx=\"113.75\" cy=\"-26.75\" rx=\"23\" ry=\"23\"/>\n<text text-anchor=\"middle\" x=\"113.75\" y=\"-23.05\" font-family=\"Times,serif\" font-size=\"14.00\">St1</text>\n</g>\n<!-- EMPTY&#45;&gt;St1 -->\n<g id=\"edge1\" class=\"edge\">\n<title>EMPTY&#45;&gt;St1</title>\n<path fill=\"none\" stroke=\"black\" d=\"M54.35,-26.75C62.71,-26.75 72.05,-26.75 80.76,-26.75\"/>\n<polygon fill=\"black\" stroke=\"black\" points=\"80.97,-30.25 90.97,-26.75 80.97,-23.25 80.97,-30.25\"/>\n</g>\n<!-- St9 -->\n<g id=\"node2\" class=\"node\">\n<title>St9</title>\n<ellipse fill=\"none\" stroke=\"black\" cx=\"481.73\" cy=\"-63.75\" rx=\"23\" ry=\"23\"/>\n<text text-anchor=\"middle\" x=\"481.73\" y=\"-60.05\" font-family=\"Times,serif\" font-size=\"14.00\">St9</text>\n</g>\n<!-- St2 -->\n<g id=\"node4\" class=\"node\">\n<title>St2</title>\n<ellipse fill=\"none\" stroke=\"black\" cx=\"573.23\" cy=\"-26.75\" rx=\"23\" ry=\"23\"/>\n<text text-anchor=\"middle\" x=\"573.23\" y=\"-23.05\" font-family=\"Times,serif\" font-size=\"14.00\">St2</text>\n</g>\n<!-- St9&#45;&gt;St2 -->\n<g id=\"edge8\" class=\"edge\">\n<title>St9&#45;&gt;St2</title>\n<path fill=\"none\" stroke=\"black\" d=\"M503.04,-55.35C514.71,-50.53 529.58,-44.38 542.54,-39.02\"/>\n<polygon fill=\"black\" stroke=\"black\" points=\"544.1,-42.17 552,-35.11 541.42,-35.7 544.1,-42.17\"/>\n<text text-anchor=\"middle\" x=\"527.48\" y=\"-49.55\" font-family=\"Times,serif\" font-size=\"14.00\">c </text>\n</g>\n<!-- St7 -->\n<g id=\"node3\" class=\"node\">\n<title>St7</title>\n<ellipse fill=\"none\" stroke=\"black\" cx=\"296.74\" cy=\"-63.75\" rx=\"23\" ry=\"23\"/>\n<text text-anchor=\"middle\" x=\"296.74\" y=\"-60.05\" font-family=\"Times,serif\" font-size=\"14.00\">St7</text>\n</g>\n<!-- St8 -->\n<g id=\"node6\" class=\"node\">\n<title>St8</title>\n<ellipse fill=\"none\" stroke=\"black\" cx=\"389.24\" cy=\"-66.75\" rx=\"23\" ry=\"23\"/>\n<text text-anchor=\"middle\" x=\"389.24\" y=\"-63.05\" font-family=\"Times,serif\" font-size=\"14.00\">St8</text>\n</g>\n<!-- St7&#45;&gt;St8 -->\n<g id=\"edge5\" class=\"edge\">\n<title>St7&#45;&gt;St8</title>\n<path fill=\"none\" stroke=\"black\" d=\"M319.65,-64.47C330.57,-64.84 343.99,-65.28 356.06,-65.68\"/>\n<polygon fill=\"black\" stroke=\"black\" points=\"356.11,-69.18 366.22,-66.02 356.34,-62.19 356.11,-69.18\"/>\n<text text-anchor=\"middle\" x=\"342.99\" y=\"-68.55\" font-family=\"Times,serif\" font-size=\"14.00\">b </text>\n</g>\n<!-- St3 -->\n<g id=\"node8\" class=\"node\">\n<title>St3</title>\n<ellipse fill=\"none\" stroke=\"black\" cx=\"668.72\" cy=\"-26.75\" rx=\"22.96\" ry=\"22.96\"/>\n<ellipse fill=\"none\" stroke=\"black\" cx=\"668.72\" cy=\"-26.75\" rx=\"27\" ry=\"27\"/>\n<text text-anchor=\"middle\" x=\"668.72\" y=\"-23.05\" font-family=\"Times,serif\" font-size=\"14.00\">St3</text>\n</g>\n<!-- St2&#45;&gt;St3 -->\n<g id=\"edge6\" class=\"edge\">\n<title>St2&#45;&gt;St3</title>\n<path fill=\"none\" stroke=\"black\" d=\"M596.39,-26.75C606.91,-26.75 619.76,-26.75 631.64,-26.75\"/>\n<polygon fill=\"black\" stroke=\"black\" points=\"631.75,-30.25 641.75,-26.75 631.75,-23.25 631.75,-30.25\"/>\n<text text-anchor=\"middle\" x=\"618.98\" y=\"-30.55\" font-family=\"Times,serif\" font-size=\"14.00\">c </text>\n</g>\n<!-- St4 -->\n<g id=\"node5\" class=\"node\">\n<title>St4</title>\n<ellipse fill=\"none\" stroke=\"black\" cx=\"205.24\" cy=\"-26.75\" rx=\"23\" ry=\"23\"/>\n<text text-anchor=\"middle\" x=\"205.24\" y=\"-23.05\" font-family=\"Times,serif\" font-size=\"14.00\">St4</text>\n</g>\n<!-- St4&#45;&gt;St7 -->\n<g id=\"edge3\" class=\"edge\">\n<title>St4&#45;&gt;St7</title>\n<path fill=\"none\" stroke=\"black\" d=\"M226.55,-35.14C238.22,-39.97 253.09,-46.12 266.06,-51.48\"/>\n<polygon fill=\"black\" stroke=\"black\" points=\"264.93,-54.8 275.51,-55.39 267.61,-48.33 264.93,-54.8\"/>\n<text text-anchor=\"middle\" x=\"250.99\" y=\"-49.55\" font-family=\"Times,serif\" font-size=\"14.00\">a </text>\n</g>\n<!-- St4&#45;&gt;St2 -->\n<g id=\"edge4\" class=\"edge\">\n<title>St4&#45;&gt;St2</title>\n<path fill=\"none\" stroke=\"black\" d=\"M227.39,-20.79C245.41,-16.24 272.06,-10.75 295.74,-10.75 295.74,-10.75 295.74,-10.75 482.73,-10.75 502.34,-10.75 523.99,-14.52 541.08,-18.39\"/>\n<polygon fill=\"black\" stroke=\"black\" points=\"540.54,-21.86 551.08,-20.79 542.17,-15.06 540.54,-21.86\"/>\n<text text-anchor=\"middle\" x=\"389.24\" y=\"-14.55\" font-family=\"Times,serif\" font-size=\"14.00\">b </text>\n</g>\n<!-- St8&#45;&gt;St9 -->\n<g id=\"edge7\" class=\"edge\">\n<title>St8&#45;&gt;St9</title>\n<path fill=\"none\" stroke=\"black\" d=\"M412.14,-66.02C423.07,-65.66 436.49,-65.21 448.56,-64.81\"/>\n<polygon fill=\"black\" stroke=\"black\" points=\"448.83,-68.31 458.71,-64.48 448.6,-61.31 448.83,-68.31\"/>\n<text text-anchor=\"middle\" x=\"435.48\" y=\"-68.55\" font-family=\"Times,serif\" font-size=\"14.00\">b </text>\n</g>\n<!-- St1&#45;&gt;St4 -->\n<g id=\"edge2\" class=\"edge\">\n<title>St1&#45;&gt;St4</title>\n<path fill=\"none\" stroke=\"black\" d=\"M136.87,-26.75C147.49,-26.75 160.42,-26.75 172.1,-26.75\"/>\n<polygon fill=\"black\" stroke=\"black\" points=\"172.38,-30.25 182.38,-26.75 172.38,-23.25 172.38,-30.25\"/>\n<text text-anchor=\"middle\" x=\"159.5\" y=\"-30.55\" font-family=\"Times,serif\" font-size=\"14.00\">a </text>\n</g>\n</g>\n</svg>\n",
            "text/plain": [
              "<graphviz.graphs.Digraph at 0x7b10360a87f0>"
            ]
          },
          "metadata": {},
          "execution_count": 8
        }
      ]
    },
    {
      "cell_type": "code",
      "source": [
        "QDin = DFAin[\"Q\"]\n",
        "\n",
        "Qnfa = { (x,y,z,p,q) for x in QDin for y in QDin for z in QDin for p in QDin for q in QDin }"
      ],
      "metadata": {
        "id": "6_gVO7TyyaE8"
      },
      "execution_count": 9,
      "outputs": []
    },
    {
      "cell_type": "code",
      "source": [
        "#DFAin"
      ],
      "metadata": {
        "id": "Vash4SxRzkzr"
      },
      "execution_count": 10,
      "outputs": []
    },
    {
      "cell_type": "code",
      "source": [
        "SigDFAin = DFAin[\"Sigma\"]"
      ],
      "metadata": {
        "id": "Vs6vRqjV1u8S"
      },
      "execution_count": 11,
      "outputs": []
    },
    {
      "cell_type": "code",
      "source": [
        "#SigDFAin"
      ],
      "metadata": {
        "id": "BCLjjXPq1y6X"
      },
      "execution_count": 12,
      "outputs": []
    },
    {
      "cell_type": "code",
      "source": [
        "q0DFAin = DFAin[\"q0\"]"
      ],
      "metadata": {
        "id": "R8aFHylIzJLM"
      },
      "execution_count": 13,
      "outputs": []
    },
    {
      "cell_type": "code",
      "source": [
        "#q0DFAin"
      ],
      "metadata": {
        "id": "ETPt5MLXzMC0"
      },
      "execution_count": 14,
      "outputs": []
    },
    {
      "cell_type": "code",
      "source": [
        "Q0NFA = { (q0DFAin, q1, q1, q2, q2) for q1 in QDin for q2 in QDin }"
      ],
      "metadata": {
        "id": "EeRpzT4qy2EY"
      },
      "execution_count": 15,
      "outputs": []
    },
    {
      "cell_type": "code",
      "source": [
        "#Q0NFA"
      ],
      "metadata": {
        "id": "kBh-fZd6zaWw"
      },
      "execution_count": 16,
      "outputs": []
    },
    {
      "cell_type": "code",
      "source": [
        "FNFA = { (q1,q1,q2,q2,qf) for q1 in  QDin for q2 in QDin for qf in DFAin[\"F\"]}"
      ],
      "metadata": {
        "id": "EXv6is3sz-k3"
      },
      "execution_count": 17,
      "outputs": []
    },
    {
      "cell_type": "code",
      "source": [
        "#FNFA"
      ],
      "metadata": {
        "id": "spZzPCAs0bzh"
      },
      "execution_count": 18,
      "outputs": []
    },
    {
      "cell_type": "code",
      "source": [
        "#DFAin[\"Delta\"]"
      ],
      "metadata": {
        "id": "3Z-l_TP-1EUc"
      },
      "execution_count": 19,
      "outputs": []
    },
    {
      "cell_type": "markdown",
      "source": [
        "### Main thing for NFA"
      ],
      "metadata": {
        "id": "Vra7tvwBDBiV"
      }
    },
    {
      "cell_type": "code",
      "source": [
        "deltaNFA = dict( {\n",
        "      ((qa, q1, qb, q2, qc), y) :\n",
        "         set( { ( DFAin[\"Delta\"][(qa,c1)], q1,\n",
        "                  DFAin[\"Delta\"][(qb,y)],  q2,\n",
        "                  DFAin[\"Delta\"][(qc,c2)] )\n",
        "                 for c1 in SigDFAin\n",
        "                 for c2 in SigDFAin\n",
        "              }\n",
        "            )\n",
        "     for q1 in QDin for q2 in QDin\n",
        "     for qa in QDin for qb in QDin for qc in QDin\n",
        "     for y in SigDFAin } )"
      ],
      "metadata": {
        "id": "cbPvxJis0POz"
      },
      "execution_count": 20,
      "outputs": []
    },
    {
      "cell_type": "code",
      "source": [
        "#deltaNFA"
      ],
      "metadata": {
        "id": "qbrs6dg6y3GZ"
      },
      "execution_count": 21,
      "outputs": []
    },
    {
      "cell_type": "code",
      "source": [
        "help(mk_nfa)"
      ],
      "metadata": {
        "id": "YBPERf8X8SnR",
        "outputId": "a15bcc79-6d36-49eb-e2be-c7f28f04ed85",
        "colab": {
          "base_uri": "https://localhost:8080/"
        }
      },
      "execution_count": 22,
      "outputs": [
        {
          "output_type": "stream",
          "name": "stdout",
          "text": [
            "Help on function mk_nfa in module jove.Def_NFA:\n",
            "\n",
            "mk_nfa(Q, Sigma, Delta, Q0, F)\n",
            "    Check for structural consistency of the given NFA traits.\n",
            "    If the check passes, make and return an NFA.\n",
            "\n"
          ]
        }
      ]
    },
    {
      "cell_type": "code",
      "source": [
        "nBignfa =  {\"Q\":Qnfa, \"Sigma\":SigDFAin, \"Delta\":deltaNFA, \"Q0\":Q0NFA, \"F\":FNFA}"
      ],
      "metadata": {
        "id": "A0cLHURI7qea"
      },
      "execution_count": 23,
      "outputs": []
    },
    {
      "cell_type": "code",
      "source": [
        "#Qnfa"
      ],
      "metadata": {
        "id": "IH8sYFHN8jmG"
      },
      "execution_count": 24,
      "outputs": []
    },
    {
      "cell_type": "code",
      "source": [
        "# is_consistent_nfa_new(nBignfa)"
      ],
      "metadata": {
        "id": "Mgsig3SM75vJ"
      },
      "execution_count": 25,
      "outputs": []
    },
    {
      "cell_type": "code",
      "source": [
        "BigNFA = mk_nfa(Qnfa, SigDFAin, deltaNFA, Q0NFA, FNFA)\n",
        "#q0NFA\n",
        "#SigDFAin\n",
        "#deltaNFA\n",
        "#Q0NFA\n",
        "#FNFA"
      ],
      "metadata": {
        "id": "n5sVH6yT7rrj"
      },
      "execution_count": 26,
      "outputs": []
    },
    {
      "cell_type": "code",
      "source": [
        "BigNFA = mk_nfa(Qnfa, SigDFAin, deltaNFA, Q0NFA, FNFA)"
      ],
      "metadata": {
        "id": "wMYaeHhP5q5u"
      },
      "execution_count": 27,
      "outputs": []
    },
    {
      "cell_type": "code",
      "source": [],
      "metadata": {
        "id": "OUtyhpx28djS"
      },
      "execution_count": 27,
      "outputs": []
    },
    {
      "cell_type": "code",
      "source": [
        "BigDFA = min_dfa(nfa2dfa(BigNFA))"
      ],
      "metadata": {
        "id": "iT59ZRrw8ln4"
      },
      "execution_count": 28,
      "outputs": []
    },
    {
      "cell_type": "code",
      "source": [
        "dotObj_dfa(BigDFA)"
      ],
      "metadata": {
        "id": "ta6c-MOA93bX",
        "outputId": "558fb14c-7792-4843-9756-e46af54d13b2",
        "colab": {
          "base_uri": "https://localhost:8080/",
          "height": 352
        }
      },
      "execution_count": 29,
      "outputs": [
        {
          "output_type": "execute_result",
          "data": {
            "image/svg+xml": "<?xml version=\"1.0\" encoding=\"UTF-8\" standalone=\"no\"?>\n<!DOCTYPE svg PUBLIC \"-//W3C//DTD SVG 1.1//EN\"\n \"http://www.w3.org/Graphics/SVG/1.1/DTD/svg11.dtd\">\n<!-- Generated by graphviz version 2.43.0 (0)\n -->\n<!-- Title: %3 Pages: 1 -->\n<svg width=\"461pt\" height=\"248pt\"\n viewBox=\"0.00 0.00 461.38 247.75\" xmlns=\"http://www.w3.org/2000/svg\" xmlns:xlink=\"http://www.w3.org/1999/xlink\">\n<g id=\"graph0\" class=\"graph\" transform=\"scale(1 1) rotate(0) translate(4 243.75)\">\n<title>%3</title>\n<polygon fill=\"white\" stroke=\"transparent\" points=\"-4,4 -4,-243.75 457.38,-243.75 457.38,4 -4,4\"/>\n<!-- EMPTY -->\n<g id=\"node1\" class=\"node\">\n<title>EMPTY</title>\n</g>\n<!-- St25 -->\n<g id=\"node2\" class=\"node\">\n<title>St25</title>\n<ellipse fill=\"none\" stroke=\"black\" cx=\"117.65\" cy=\"-184.75\" rx=\"26.8\" ry=\"26.8\"/>\n<text text-anchor=\"middle\" x=\"117.65\" y=\"-181.05\" font-family=\"Times,serif\" font-size=\"14.00\">St25</text>\n</g>\n<!-- EMPTY&#45;&gt;St25 -->\n<g id=\"edge1\" class=\"edge\">\n<title>EMPTY&#45;&gt;St25</title>\n<path fill=\"none\" stroke=\"black\" d=\"M54.12,-184.75C62.41,-184.75 71.74,-184.75 80.61,-184.75\"/>\n<polygon fill=\"black\" stroke=\"black\" points=\"80.72,-188.25 90.72,-184.75 80.72,-181.25 80.72,-188.25\"/>\n</g>\n<!-- St16 -->\n<g id=\"node3\" class=\"node\">\n<title>St16</title>\n<ellipse fill=\"none\" stroke=\"black\" cx=\"426.73\" cy=\"-92.75\" rx=\"26.8\" ry=\"26.8\"/>\n<text text-anchor=\"middle\" x=\"426.73\" y=\"-89.05\" font-family=\"Times,serif\" font-size=\"14.00\">St16</text>\n</g>\n<!-- St25&#45;&gt;St16 -->\n<g id=\"edge2\" class=\"edge\">\n<title>St25&#45;&gt;St16</title>\n<path fill=\"none\" stroke=\"black\" d=\"M142.69,-194.9C192.35,-214.12 307.81,-249.57 382.09,-198.75 404.94,-183.11 415.84,-153.17 421.04,-129.08\"/>\n<polygon fill=\"black\" stroke=\"black\" points=\"424.49,-129.65 422.93,-119.17 417.62,-128.34 424.49,-129.65\"/>\n<text text-anchor=\"middle\" x=\"276.09\" y=\"-228.55\" font-family=\"Times,serif\" font-size=\"14.00\">a </text>\n</g>\n<!-- St25&#45;&gt;St16 -->\n<g id=\"edge3\" class=\"edge\">\n<title>St25&#45;&gt;St16</title>\n<path fill=\"none\" stroke=\"black\" d=\"M144.01,-180.76C187.44,-173.59 278.55,-157.07 353.09,-133.75 366.4,-129.58 369.78,-128.31 382.09,-121.75 386.69,-119.3 391.41,-116.49 395.98,-113.61\"/>\n<polygon fill=\"black\" stroke=\"black\" points=\"398.03,-116.46 404.49,-108.06 394.2,-110.59 398.03,-116.46\"/>\n<text text-anchor=\"middle\" x=\"276.09\" y=\"-159.55\" font-family=\"Times,serif\" font-size=\"14.00\">c </text>\n</g>\n<!-- St17 -->\n<g id=\"node4\" class=\"node\">\n<title>St17</title>\n<ellipse fill=\"none\" stroke=\"black\" cx=\"221.94\" cy=\"-108.75\" rx=\"26.78\" ry=\"26.78\"/>\n<ellipse fill=\"none\" stroke=\"black\" cx=\"221.94\" cy=\"-108.75\" rx=\"30.8\" ry=\"30.8\"/>\n<text text-anchor=\"middle\" x=\"221.94\" y=\"-105.05\" font-family=\"Times,serif\" font-size=\"14.00\">St17</text>\n</g>\n<!-- St25&#45;&gt;St17 -->\n<g id=\"edge4\" class=\"edge\">\n<title>St25&#45;&gt;St17</title>\n<path fill=\"none\" stroke=\"black\" d=\"M139.84,-169C154,-158.49 172.87,-144.46 188.85,-132.59\"/>\n<polygon fill=\"black\" stroke=\"black\" points=\"190.97,-135.38 196.91,-126.61 186.79,-129.76 190.97,-135.38\"/>\n<text text-anchor=\"middle\" x=\"167.8\" y=\"-155.55\" font-family=\"Times,serif\" font-size=\"14.00\">b </text>\n</g>\n<!-- St16&#45;&gt;St16 -->\n<g id=\"edge5\" class=\"edge\">\n<title>St16&#45;&gt;St16</title>\n<path fill=\"none\" stroke=\"black\" d=\"M423.62,-119.33C423.51,-129.24 424.55,-137.4 426.73,-137.4 428.1,-137.4 429.01,-134.21 429.49,-129.4\"/>\n<polygon fill=\"black\" stroke=\"black\" points=\"432.99,-129.45 429.85,-119.33 425.99,-129.2 432.99,-129.45\"/>\n<text text-anchor=\"middle\" x=\"426.73\" y=\"-141.2\" font-family=\"Times,serif\" font-size=\"14.00\">a </text>\n</g>\n<!-- St16&#45;&gt;St16 -->\n<g id=\"edge6\" class=\"edge\">\n<title>St16&#45;&gt;St16</title>\n<path fill=\"none\" stroke=\"black\" d=\"M421.13,-118.81C419.36,-137.19 421.23,-155.4 426.73,-155.4 431.2,-155.4 433.28,-143.38 432.95,-129.02\"/>\n<polygon fill=\"black\" stroke=\"black\" points=\"436.43,-128.59 432.34,-118.81 429.44,-129.01 436.43,-128.59\"/>\n<text text-anchor=\"middle\" x=\"426.73\" y=\"-159.2\" font-family=\"Times,serif\" font-size=\"14.00\">c </text>\n</g>\n<!-- St16&#45;&gt;St16 -->\n<g id=\"edge7\" class=\"edge\">\n<title>St16&#45;&gt;St16</title>\n<path fill=\"none\" stroke=\"black\" d=\"M419.35,-118.76C415.14,-144.71 417.6,-173.4 426.73,-173.4 434.69,-173.4 437.58,-151.63 435.41,-128.87\"/>\n<polygon fill=\"black\" stroke=\"black\" points=\"438.86,-128.24 434.12,-118.76 431.92,-129.13 438.86,-128.24\"/>\n<text text-anchor=\"middle\" x=\"426.73\" y=\"-177.2\" font-family=\"Times,serif\" font-size=\"14.00\">b </text>\n</g>\n<!-- St17&#45;&gt;St16 -->\n<g id=\"edge8\" class=\"edge\">\n<title>St17&#45;&gt;St16</title>\n<path fill=\"none\" stroke=\"black\" d=\"M252.65,-111.76C284.9,-114.25 337.74,-116.05 382.09,-106.75 385.28,-106.08 388.57,-105.26 391.84,-104.37\"/>\n<polygon fill=\"black\" stroke=\"black\" points=\"392.91,-107.7 401.5,-101.5 390.92,-100.99 392.91,-107.7\"/>\n<text text-anchor=\"middle\" x=\"326.34\" y=\"-118.55\" font-family=\"Times,serif\" font-size=\"14.00\">a </text>\n</g>\n<!-- St17&#45;&gt;St16 -->\n<g id=\"edge9\" class=\"edge\">\n<title>St17&#45;&gt;St16</title>\n<path fill=\"none\" stroke=\"black\" d=\"M251.84,-101.25C266.1,-97.92 283.63,-94.4 299.59,-92.75 329.9,-89.62 364.52,-89.89 389.82,-90.79\"/>\n<polygon fill=\"black\" stroke=\"black\" points=\"389.91,-94.3 400.05,-91.21 390.2,-87.3 389.91,-94.3\"/>\n<text text-anchor=\"middle\" x=\"326.34\" y=\"-96.55\" font-family=\"Times,serif\" font-size=\"14.00\">c </text>\n</g>\n<!-- St2 -->\n<g id=\"node5\" class=\"node\">\n<title>St2</title>\n<ellipse fill=\"none\" stroke=\"black\" cx=\"326.34\" cy=\"-26.75\" rx=\"22.96\" ry=\"22.96\"/>\n<ellipse fill=\"none\" stroke=\"black\" cx=\"326.34\" cy=\"-26.75\" rx=\"27\" ry=\"27\"/>\n<text text-anchor=\"middle\" x=\"326.34\" y=\"-23.05\" font-family=\"Times,serif\" font-size=\"14.00\">St2</text>\n</g>\n<!-- St17&#45;&gt;St2 -->\n<g id=\"edge10\" class=\"edge\">\n<title>St17&#45;&gt;St2</title>\n<path fill=\"none\" stroke=\"black\" d=\"M243.4,-86.69C251.51,-78.46 261.15,-69.29 270.59,-61.75 277.89,-55.92 286.2,-50.2 294.1,-45.12\"/>\n<polygon fill=\"black\" stroke=\"black\" points=\"296.15,-47.97 302.77,-39.7 292.43,-42.04 296.15,-47.97\"/>\n<text text-anchor=\"middle\" x=\"276.09\" y=\"-65.55\" font-family=\"Times,serif\" font-size=\"14.00\">b </text>\n</g>\n<!-- St2&#45;&gt;St16 -->\n<g id=\"edge11\" class=\"edge\">\n<title>St2&#45;&gt;St16</title>\n<path fill=\"none\" stroke=\"black\" d=\"M349.18,-41.4C362.9,-50.6 380.79,-62.6 395.83,-72.69\"/>\n<polygon fill=\"black\" stroke=\"black\" points=\"394.04,-75.7 404.3,-78.37 397.94,-69.89 394.04,-75.7\"/>\n<text text-anchor=\"middle\" x=\"376.59\" y=\"-65.55\" font-family=\"Times,serif\" font-size=\"14.00\">a </text>\n</g>\n<!-- St2&#45;&gt;St16 -->\n<g id=\"edge12\" class=\"edge\">\n<title>St2&#45;&gt;St16</title>\n<path fill=\"none\" stroke=\"black\" d=\"M353.2,-29.37C362.81,-31.22 373.47,-34.37 382.09,-39.75 391.19,-45.42 399.29,-53.66 405.96,-61.95\"/>\n<polygon fill=\"black\" stroke=\"black\" points=\"403.34,-64.29 412.14,-70.17 408.93,-60.08 403.34,-64.29\"/>\n<text text-anchor=\"middle\" x=\"376.59\" y=\"-43.55\" font-family=\"Times,serif\" font-size=\"14.00\">c </text>\n</g>\n<!-- St2&#45;&gt;St16 -->\n<g id=\"edge13\" class=\"edge\">\n<title>St2&#45;&gt;St16</title>\n<path fill=\"none\" stroke=\"black\" d=\"M350.64,-15.12C360.84,-11.73 372.62,-10.23 382.09,-15.75 397.7,-24.84 408.18,-41.83 414.95,-57.54\"/>\n<polygon fill=\"black\" stroke=\"black\" points=\"411.78,-59.05 418.69,-67.07 418.29,-56.49 411.78,-59.05\"/>\n<text text-anchor=\"middle\" x=\"376.59\" y=\"-19.55\" font-family=\"Times,serif\" font-size=\"14.00\">b </text>\n</g>\n</g>\n</svg>\n",
            "text/plain": [
              "<graphviz.graphs.Digraph at 0x7b10360ab820>"
            ]
          },
          "metadata": {},
          "execution_count": 29
        }
      ]
    },
    {
      "cell_type": "code",
      "source": [],
      "metadata": {
        "id": "S0pHh9PG95BU"
      },
      "execution_count": 29,
      "outputs": []
    }
  ],
  "metadata": {
    "kernelspec": {
      "display_name": "Python 3",
      "language": "python",
      "name": "python3"
    },
    "language_info": {
      "codemirror_mode": {
        "name": "ipython",
        "version": 3
      },
      "file_extension": ".py",
      "mimetype": "text/x-python",
      "name": "python",
      "nbconvert_exporter": "python",
      "pygments_lexer": "ipython3",
      "version": "3.7.3"
    },
    "toc": {
      "colors": {
        "hover_highlight": "#DAA520",
        "running_highlight": "#FF0000",
        "selected_highlight": "#FFD700"
      },
      "moveMenuLeft": true,
      "nav_menu": {
        "height": "318px",
        "width": "252px"
      },
      "navigate_menu": true,
      "number_sections": true,
      "sideBar": true,
      "threshold": 4,
      "toc_cell": false,
      "toc_section_display": "block",
      "toc_window_display": false,
      "widenNotebook": false
    },
    "colab": {
      "provenance": [],
      "include_colab_link": true
    }
  },
  "nbformat": 4,
  "nbformat_minor": 0
}